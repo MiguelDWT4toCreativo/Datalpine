{
 "cells": [
  {
   "cell_type": "markdown",
   "metadata": {},
   "source": [
    "# ***2. Tiempo estimado de venta***"
   ]
  },
  {
   "cell_type": "code",
   "execution_count": 1,
   "metadata": {},
   "outputs": [],
   "source": [
    "# Manejo de datos\n",
    "import os # Directorios\n",
    "import pandas as pd # Manipulación df\n",
    "# Gráficas\n",
    "import plotly.graph_objects as go #Para obtener librería usar: pip install plotly\n",
    "from plotly.subplots import make_subplots\n",
    "import plotly.io as pio # Exportar gráfica"
   ]
  },
  {
   "cell_type": "markdown",
   "metadata": {},
   "source": [
    "## Importación de datos"
   ]
  },
  {
   "cell_type": "code",
   "execution_count": 2,
   "metadata": {},
   "outputs": [],
   "source": [
    "# Obtener el directorio actual de trabajo\n",
    "directorio_actual = os.getcwd()\n",
    "# Directorio donde se encuentran los archivos JSON (ruta relativa)\n",
    "directorio_json = os.path.join(directorio_actual, 'datos_json')\n",
    "#print(\"Directorio JSON relativo:\", directorio_json)\n",
    "# Obtener la lista de archivos JSON en el directorio\n",
    "archivos_json = os.listdir(directorio_json)"
   ]
  },
  {
   "cell_type": "markdown",
   "metadata": {},
   "source": [
    "### *Creación de los df por cada archivo json*"
   ]
  },
  {
   "cell_type": "code",
   "execution_count": 3,
   "metadata": {},
   "outputs": [],
   "source": [
    "dataframes = {}\n",
    "# Iterar sobre cada archivo JSON y crear un DataFrame\n",
    "for archivo in archivos_json:\n",
    "    # Obtener el nombre de la tabla del nombre del archivo\n",
    "    nombre_tabla = archivo.replace('datos_', '').replace('.json', '')    \n",
    "    # Cargar el archivo JSON en un DataFrame y asignarlo a una variable con un nombre dinámico\n",
    "    ruta_json = os.path.join(directorio_json, archivo)\n",
    "    globals()[f\"df_{nombre_tabla}\"] = pd.read_json(ruta_json)"
   ]
  },
  {
   "cell_type": "code",
   "execution_count": 4,
   "metadata": {},
   "outputs": [
    {
     "name": "stdout",
     "output_type": "stream",
     "text": [
      "Lista de DataFrames creados:\n",
      "['df_alfa_q_feb_2023_pachuca', 'df_alfa_q_jul_2023_pachuca', 'df_alfa_q_jun_2023_pachuca', 'df_alfa_q_mar_2023_pachuca', 'df_alfa_q_nov_2022_pachuca', 'df_alfa_q_oct_2022_pachuca', 'df_alfa_q_sep_2023_pachuca', 'df_enero_2024_querertaro', 'df_financiamientos_2022_pachuca', 'df_financiamientos_2023_pachuca', 'df_grupos_edad_pachuca', 'df_grupos_edad_queretaro', 'df_junio_2023_queretaro', 'df_salarios_pachuca', 'df_usuarios']\n"
     ]
    }
   ],
   "source": [
    "# Obtener todos los nombres de las variables globales\n",
    "nombres_variables_globales = list(globals().keys())\n",
    "# Filtrar los nombres, solo aquellos que comienzan con \"df_\"\n",
    "nombres_df = [nombre for nombre in nombres_variables_globales if nombre.startswith(\"df_\")]\n",
    "\n",
    "# Lista de nombres de los DataFrames creados\n",
    "print(\"Lista de DataFrames creados:\")\n",
    "print(nombres_df)"
   ]
  },
  {
   "cell_type": "markdown",
   "metadata": {},
   "source": [
    "_________\n",
    "# *Tiempo estimado de venta: Meses de antigüedad*\n",
    "### Selección de datos"
   ]
  },
  {
   "cell_type": "code",
   "execution_count": 5,
   "metadata": {},
   "outputs": [],
   "source": [
    "# Crea los DataFrames para cada archivo con las columnas necesarias\n",
    "time_df_alfa_q_oct_2022_pachuca = df_alfa_q_oct_2022_pachuca[['id','categoria','antiguedad']]\n",
    "time_df_alfa_q_nov_2022_pachuca = df_alfa_q_nov_2022_pachuca[['id','categoria','antiguedad']]\n",
    "time_df_alfa_q_feb_2023_pachuca = df_alfa_q_feb_2023_pachuca[['id','categoria','antiguedad']]\n",
    "time_df_alfa_q_mar_2023_pachuca = df_alfa_q_mar_2023_pachuca[['id','categoria','antiguedad']]\n",
    "time_df_alfa_q_jun_2023_pachuca = df_alfa_q_jun_2023_pachuca[['id','categoria','antiguedad']]"
   ]
  },
  {
   "cell_type": "markdown",
   "metadata": {},
   "source": [
    "## Categorización de valores por rango.\n",
    "### 0\t1\t2\t3\t4\t5\t6-15\t16-30\t>=31"
   ]
  },
  {
   "cell_type": "code",
   "execution_count": 10,
   "metadata": {},
   "outputs": [
    {
     "name": "stdout",
     "output_type": "stream",
     "text": [
      "        id categoria  antiguedad antiguedad_categoria\n",
      "0        1        E1           0                  [0]\n",
      "1        2        E1           0                  [0]\n",
      "2        3        E1           0                  [0]\n",
      "3        4        D3           0                  [0]\n",
      "4        5        E2           0                  [0]\n",
      "...    ...       ...         ...                  ...\n",
      "1677  1678         S           0                  [0]\n",
      "1678  1679        C2           0                  [0]\n",
      "1679  1680         S           0                  [0]\n",
      "1680  1681         S           0                  [0]\n",
      "1681  1682         S           0                  [0]\n",
      "\n",
      "[1682 rows x 4 columns]\n",
      "        id categoria  antiguedad antiguedad_categoria\n",
      "0        1        E1           0                  [0]\n",
      "1        2        E1           0                  [0]\n",
      "2        3        E1           0                  [0]\n",
      "3        4        E1           0                  [0]\n",
      "4        5        D3           0                  [0]\n",
      "...    ...       ...         ...                  ...\n",
      "1922  1923         S          12               [6-15]\n",
      "1923  1924        C2           0                  [0]\n",
      "1924  1925         S           0                  [0]\n",
      "1925  1926         S           0                  [0]\n",
      "1926  1927         S           0                  [0]\n",
      "\n",
      "[1927 rows x 4 columns]\n",
      "      id categoria  antiguedad antiguedad_categoria\n",
      "0      1        E1           0                  [0]\n",
      "1      2        D3           0                  [0]\n",
      "2      3        D3           0                  [0]\n",
      "3      4        D3          10               [6-15]\n",
      "4      5        D3           0                  [0]\n",
      "..   ...       ...         ...                  ...\n",
      "923  924         S           0                  [0]\n",
      "924  925         S           2                  [2]\n",
      "925  926        C1           0                  [0]\n",
      "926  927         S           4                  [4]\n",
      "927  928         S           1                  [1]\n",
      "\n",
      "[928 rows x 4 columns]\n",
      "        id categoria  antiguedad antiguedad_categoria\n",
      "0        1        E1           0                  [0]\n",
      "1        2        E2           0                  [0]\n",
      "2        3        E1           0                  [0]\n",
      "3        4        E2           0                  [0]\n",
      "4        5        E1          10               [6-15]\n",
      "...    ...       ...         ...                  ...\n",
      "1773  1774         S          20              [16-30]\n",
      "1774  1775        A1           0                  [0]\n",
      "1775  1776         S           0                  [0]\n",
      "1776  1777         S           0                  [0]\n",
      "1777  1778         S           0                  [0]\n",
      "\n",
      "[1778 rows x 4 columns]\n",
      "        id categoria  antiguedad antiguedad_categoria\n",
      "0        1        C2           0                  [0]\n",
      "1        2        D3           0                  [0]\n",
      "2        3        D1           0                  [0]\n",
      "3        4         S           0                  [0]\n",
      "4        5        C2           0                  [0]\n",
      "...    ...       ...         ...                  ...\n",
      "1820  1821         S           0                  [0]\n",
      "1821  1822        D1           1                  [1]\n",
      "1822  1823        C2           0                  [0]\n",
      "1823  1824         S           0                  [0]\n",
      "1824  1825         S          19              [16-30]\n",
      "\n",
      "[1825 rows x 4 columns]\n"
     ]
    },
    {
     "name": "stderr",
     "output_type": "stream",
     "text": [
      "C:\\Users\\yoe11\\AppData\\Local\\Temp\\ipykernel_5736\\4169637314.py:48: SettingWithCopyWarning: \n",
      "A value is trying to be set on a copy of a slice from a DataFrame.\n",
      "Try using .loc[row_indexer,col_indexer] = value instead\n",
      "\n",
      "See the caveats in the documentation: https://pandas.pydata.org/pandas-docs/stable/user_guide/indexing.html#returning-a-view-versus-a-copy\n",
      "  df['antiguedad_categoria'] = df['antiguedad'].apply(categorizar_antiguedad_oct_nov_2022)\n",
      "C:\\Users\\yoe11\\AppData\\Local\\Temp\\ipykernel_5736\\4169637314.py:48: SettingWithCopyWarning: \n",
      "A value is trying to be set on a copy of a slice from a DataFrame.\n",
      "Try using .loc[row_indexer,col_indexer] = value instead\n",
      "\n",
      "See the caveats in the documentation: https://pandas.pydata.org/pandas-docs/stable/user_guide/indexing.html#returning-a-view-versus-a-copy\n",
      "  df['antiguedad_categoria'] = df['antiguedad'].apply(categorizar_antiguedad_oct_nov_2022)\n",
      "C:\\Users\\yoe11\\AppData\\Local\\Temp\\ipykernel_5736\\4169637314.py:59: SettingWithCopyWarning: \n",
      "A value is trying to be set on a copy of a slice from a DataFrame.\n",
      "Try using .loc[row_indexer,col_indexer] = value instead\n",
      "\n",
      "See the caveats in the documentation: https://pandas.pydata.org/pandas-docs/stable/user_guide/indexing.html#returning-a-view-versus-a-copy\n",
      "  df['antiguedad_categoria'] = df['antiguedad'].apply(categorizar_antiguedad_feb_mar_jun_2023)\n",
      "C:\\Users\\yoe11\\AppData\\Local\\Temp\\ipykernel_5736\\4169637314.py:59: SettingWithCopyWarning: \n",
      "A value is trying to be set on a copy of a slice from a DataFrame.\n",
      "Try using .loc[row_indexer,col_indexer] = value instead\n",
      "\n",
      "See the caveats in the documentation: https://pandas.pydata.org/pandas-docs/stable/user_guide/indexing.html#returning-a-view-versus-a-copy\n",
      "  df['antiguedad_categoria'] = df['antiguedad'].apply(categorizar_antiguedad_feb_mar_jun_2023)\n",
      "C:\\Users\\yoe11\\AppData\\Local\\Temp\\ipykernel_5736\\4169637314.py:59: SettingWithCopyWarning: \n",
      "A value is trying to be set on a copy of a slice from a DataFrame.\n",
      "Try using .loc[row_indexer,col_indexer] = value instead\n",
      "\n",
      "See the caveats in the documentation: https://pandas.pydata.org/pandas-docs/stable/user_guide/indexing.html#returning-a-view-versus-a-copy\n",
      "  df['antiguedad_categoria'] = df['antiguedad'].apply(categorizar_antiguedad_feb_mar_jun_2023)\n"
     ]
    }
   ],
   "source": [
    "def categorizar_antiguedad_oct_nov_2022(valor):\n",
    "    if valor == 0:\n",
    "        return '[0]'\n",
    "    elif valor == 1:\n",
    "        return '[1]'\n",
    "    elif valor == 2:\n",
    "        return '[2]'\n",
    "    elif valor == 3:\n",
    "        return '[3]'\n",
    "    elif valor == 4:\n",
    "        return '[4]'\n",
    "    elif valor == 5:\n",
    "        return '[5]'\n",
    "    elif 6 <= valor <= 15:\n",
    "        return '[6-15]'\n",
    "    elif 16 <= valor <= 250:\n",
    "        return '[16-30]'\n",
    "    else:\n",
    "        return '[>=31]'\n",
    "\n",
    "def categorizar_antiguedad_feb_mar_jun_2023(valor):\n",
    "    if valor == 0:\n",
    "        return '[0]'\n",
    "    elif valor == 1:\n",
    "        return '[1]'\n",
    "    elif valor == 2:\n",
    "        return '[2]'\n",
    "    elif valor == 3:\n",
    "        return '[3]'\n",
    "    elif valor == 4:\n",
    "        return '[4]'\n",
    "    elif valor == 5:\n",
    "        return '[5]'\n",
    "    elif 6 <= valor <= 15:\n",
    "        return '[6-15]'\n",
    "    elif 16 <= valor <= 30:\n",
    "        return '[16-30]'\n",
    "    else:\n",
    "        return '[>=31]'\n",
    "\n",
    "# Categorizar para OCT_2022 y NOV_2022\n",
    "dataframes_list_oct_nov_2022 = [\n",
    "    time_df_alfa_q_oct_2022_pachuca,\n",
    "    time_df_alfa_q_nov_2022_pachuca,\n",
    "]\n",
    "\n",
    "for df in dataframes_list_oct_nov_2022:\n",
    "    df['antiguedad_categoria'] = df['antiguedad'].apply(categorizar_antiguedad_oct_nov_2022)\n",
    "    print(df)\n",
    "\n",
    "# Categorizar para FEB_2023, MAR_2023 y JUN_2023\n",
    "dataframes_list_feb_mar_jun_2023 = [\n",
    "    time_df_alfa_q_feb_2023_pachuca,\n",
    "    time_df_alfa_q_mar_2023_pachuca,\n",
    "    time_df_alfa_q_jun_2023_pachuca,\n",
    "]\n",
    "\n",
    "for df in dataframes_list_feb_mar_jun_2023:\n",
    "    df['antiguedad_categoria'] = df['antiguedad'].apply(categorizar_antiguedad_feb_mar_jun_2023)\n",
    "    print(df)"
   ]
  },
  {
   "cell_type": "markdown",
   "metadata": {},
   "source": [
    "dataframes_list = [\n",
    "    time_df_alfa_q_oct_2022_pachuca,\n",
    "    time_df_alfa_q_nov_2022_pachuca,\n",
    "]\n",
    "\n",
    "def categorizar_antiguedad(valor):\n",
    "    if valor == 0:\n",
    "        return '[0]'\n",
    "    elif valor == 1:\n",
    "        return '[1]'\n",
    "    elif valor == 2:\n",
    "        return '[2]'\n",
    "    elif valor == 3:\n",
    "        return '[3]'\n",
    "    elif valor == 4:\n",
    "        return '[4]'\n",
    "    elif valor == 5:\n",
    "        return '[5]'\n",
    "    elif 6 <= valor <= 15:\n",
    "        return '[6-15]'\n",
    "    elif 16 <= valor <= 250:\n",
    "        return '[16-30]'\n",
    "    else:\n",
    "        return '[>=31]'\n",
    "\n",
    "for df in dataframes_list:\n",
    "    df['antiguedad_categoria'] = df['antiguedad'].apply(categorizar_antiguedad)\n",
    "    print(df)"
   ]
  },
  {
   "cell_type": "markdown",
   "metadata": {},
   "source": [
    "dataframes_list = [\n",
    "    time_df_alfa_q_feb_2023_pachuca,\n",
    "    time_df_alfa_q_mar_2023_pachuca,\n",
    "    time_df_alfa_q_jun_2023_pachuca,\n",
    "]\n",
    "\n",
    "def categorizar_antiguedad(valor):\n",
    "    if valor == 0:\n",
    "        return '[0]'\n",
    "    elif valor == 1:\n",
    "        return '[1]'\n",
    "    elif valor == 2:\n",
    "        return '[2]'\n",
    "    elif valor == 3:\n",
    "        return '[3]'\n",
    "    elif valor == 4:\n",
    "        return '[4]'\n",
    "    elif valor == 5:\n",
    "        return '[5]'\n",
    "    elif 6 <= valor <= 15:\n",
    "        return '[6-15]'\n",
    "    elif 16 <= valor <= 30:\n",
    "        return '[16-30]'\n",
    "    else:\n",
    "        return '[>=31]'\n",
    "\n",
    "for df in dataframes_list:\n",
    "    df['antiguedad_categoria'] = df['antiguedad'].apply(categorizar_antiguedad)\n",
    "    print(df)"
   ]
  },
  {
   "cell_type": "markdown",
   "metadata": {},
   "source": [
    "def categorizar_antiguedad(valor):\n",
    "    if valor == 0:\n",
    "        return '[0]'\n",
    "    elif valor == 1:\n",
    "        return '[1]'\n",
    "    elif valor == 2:\n",
    "        return '[2]'\n",
    "    elif valor == 3:\n",
    "        return '[3]'\n",
    "    elif valor == 4:\n",
    "        return '[4]'\n",
    "    elif valor == 5:\n",
    "        return '[5]'\n",
    "    elif 6 <= valor <= 15:\n",
    "        return '[6-15]'\n",
    "    elif 16 <= valor <= 30:\n",
    "        return '[16-30]'\n",
    "    else:\n",
    "        return '[>=31]'\n",
    "\n",
    "#Aplicar la función a la columna 'antiguedad' del DataFrame\n",
    "df['antiguedad_categoria'] = df['antiguedad'].apply(categorizar_antiguedad)\n",
    "\n",
    "#Verificar el resultado\n",
    "print(df)"
   ]
  },
  {
   "cell_type": "code",
   "execution_count": 15,
   "metadata": {},
   "outputs": [
    {
     "name": "stdout",
     "output_type": "stream",
     "text": [
      "[  0  22  19  15  12   1  10   2   9   5  32  25  17   6  20   8  18   7\n",
      "   3  27   4  50  11  29  14  16  37  21  13  42  31  60  33 122  34  30\n",
      "  28  45  72  24]\n",
      "[  0  22  19  15  12   1  10   2   9   5  25  18  20  17  27   4   7   3\n",
      "   6   8  32  50  29  11  16  14  37  21  13  42  31  60 122  33  34  30\n",
      "  28  45  72  24]\n",
      "[   0   10 2010   12   18    1    5    3    6   20  422    4   14   15\n",
      "    7    8    9   13   16   30    2   25   17   19   21   29   11   33\n",
      "   40   23   27   22   60]\n",
      "[   0   10    5    6    1   25   50   42   12    8   14   20    2    9\n",
      "    4   15    3 2003   16 2020    7   11   13   19   22   21   33   30\n",
      "   18   17   23   60   28   40   27   45   24]\n",
      "[       0       12       30       10       25       26        3       50\n",
      "       11       42       23       13        5        1        8        4\n",
      "        2       15        6       14        7       20       16        9\n",
      "       18       27      423       38       17       19 20210401       28\n",
      "       22       33       40       29       32       34       43       21\n",
      "       31       60       24       41]\n"
     ]
    }
   ],
   "source": [
    "oct_22 = time_df_alfa_q_oct_2022_pachuca['antiguedad'].unique()\n",
    "nov_22 = time_df_alfa_q_nov_2022_pachuca['antiguedad'].unique()\n",
    "feb_23 = time_df_alfa_q_feb_2023_pachuca['antiguedad'].unique()\n",
    "mar_23 = time_df_alfa_q_mar_2023_pachuca['antiguedad'].unique()\n",
    "jun_23 = time_df_alfa_q_jun_2023_pachuca['antiguedad'].unique()\n",
    "print(oct_22)\n",
    "print(nov_22)\n",
    "print(feb_23)\n",
    "print(mar_23)\n",
    "print(jun_23)"
   ]
  },
  {
   "cell_type": "code",
   "execution_count": 13,
   "metadata": {},
   "outputs": [
    {
     "data": {
      "text/html": [
       "<div>\n",
       "<style scoped>\n",
       "    .dataframe tbody tr th:only-of-type {\n",
       "        vertical-align: middle;\n",
       "    }\n",
       "\n",
       "    .dataframe tbody tr th {\n",
       "        vertical-align: top;\n",
       "    }\n",
       "\n",
       "    .dataframe thead th {\n",
       "        text-align: right;\n",
       "    }\n",
       "</style>\n",
       "<table border=\"1\" class=\"dataframe\">\n",
       "  <thead>\n",
       "    <tr style=\"text-align: right;\">\n",
       "      <th></th>\n",
       "      <th>id</th>\n",
       "      <th>categoria</th>\n",
       "      <th>antiguedad</th>\n",
       "      <th>antiguedad_categoria</th>\n",
       "    </tr>\n",
       "  </thead>\n",
       "  <tbody>\n",
       "    <tr>\n",
       "      <th>0</th>\n",
       "      <td>1</td>\n",
       "      <td>E1</td>\n",
       "      <td>0</td>\n",
       "      <td>[0]</td>\n",
       "    </tr>\n",
       "    <tr>\n",
       "      <th>1</th>\n",
       "      <td>2</td>\n",
       "      <td>E1</td>\n",
       "      <td>0</td>\n",
       "      <td>[0]</td>\n",
       "    </tr>\n",
       "    <tr>\n",
       "      <th>2</th>\n",
       "      <td>3</td>\n",
       "      <td>E1</td>\n",
       "      <td>0</td>\n",
       "      <td>[0]</td>\n",
       "    </tr>\n",
       "    <tr>\n",
       "      <th>3</th>\n",
       "      <td>4</td>\n",
       "      <td>D3</td>\n",
       "      <td>0</td>\n",
       "      <td>[0]</td>\n",
       "    </tr>\n",
       "    <tr>\n",
       "      <th>4</th>\n",
       "      <td>5</td>\n",
       "      <td>E2</td>\n",
       "      <td>0</td>\n",
       "      <td>[0]</td>\n",
       "    </tr>\n",
       "    <tr>\n",
       "      <th>...</th>\n",
       "      <td>...</td>\n",
       "      <td>...</td>\n",
       "      <td>...</td>\n",
       "      <td>...</td>\n",
       "    </tr>\n",
       "    <tr>\n",
       "      <th>1677</th>\n",
       "      <td>1678</td>\n",
       "      <td>S</td>\n",
       "      <td>0</td>\n",
       "      <td>[0]</td>\n",
       "    </tr>\n",
       "    <tr>\n",
       "      <th>1678</th>\n",
       "      <td>1679</td>\n",
       "      <td>C2</td>\n",
       "      <td>0</td>\n",
       "      <td>[0]</td>\n",
       "    </tr>\n",
       "    <tr>\n",
       "      <th>1679</th>\n",
       "      <td>1680</td>\n",
       "      <td>S</td>\n",
       "      <td>0</td>\n",
       "      <td>[0]</td>\n",
       "    </tr>\n",
       "    <tr>\n",
       "      <th>1680</th>\n",
       "      <td>1681</td>\n",
       "      <td>S</td>\n",
       "      <td>0</td>\n",
       "      <td>[0]</td>\n",
       "    </tr>\n",
       "    <tr>\n",
       "      <th>1681</th>\n",
       "      <td>1682</td>\n",
       "      <td>S</td>\n",
       "      <td>0</td>\n",
       "      <td>[0]</td>\n",
       "    </tr>\n",
       "  </tbody>\n",
       "</table>\n",
       "<p>1682 rows × 4 columns</p>\n",
       "</div>"
      ],
      "text/plain": [
       "        id categoria  antiguedad antiguedad_categoria\n",
       "0        1        E1           0                  [0]\n",
       "1        2        E1           0                  [0]\n",
       "2        3        E1           0                  [0]\n",
       "3        4        D3           0                  [0]\n",
       "4        5        E2           0                  [0]\n",
       "...    ...       ...         ...                  ...\n",
       "1677  1678         S           0                  [0]\n",
       "1678  1679        C2           0                  [0]\n",
       "1679  1680         S           0                  [0]\n",
       "1680  1681         S           0                  [0]\n",
       "1681  1682         S           0                  [0]\n",
       "\n",
       "[1682 rows x 4 columns]"
      ]
     },
     "execution_count": 13,
     "metadata": {},
     "output_type": "execute_result"
    }
   ],
   "source": [
    "time_df_alfa_q_oct_2022_pachuca['antiguedad_categoria'] = time_df_alfa_q_oct_2022_pachuca['antiguedad_categoria'].replace({\n",
    "    '[0]':'11', \n",
    "    '[1]':'12', \n",
    "    '[2]':'13', \n",
    "    '[3]':'13', \n",
    "    '[4]':'13',\n",
    "    '[5]':'13', \n",
    "    '[6-15]':'13', \n",
    "    '[16-30]':'13', \n",
    "    '[>=31]':'13'\n",
    "})\n",
    "\n",
    "time_df_alfa_q_nov_2022_pachuca['antiguedad_categoria'] = time_df_alfa_q_nov_2022_pachuca['antiguedad_categoria'].replace({\n",
    "    '[0]':'10', \n",
    "    '[1]':'11', \n",
    "    '[2]':'12', \n",
    "    '[3]':'13', \n",
    "    '[4]':'13',\n",
    "    '[5]':'13', \n",
    "    '[6-15]':'13',\n",
    "    '[16-30]':'13',\n",
    "    '[>=31]':'13',\n",
    "})\n",
    "\n",
    "time_df_alfa_q_mar_2023_pachuca['antiguedad_categoria'] = time_df_alfa_q_mar_2023_pachuca['antiguedad_categoria'].replace({\n",
    "    '[0]':'8', \n",
    "    '[1]':'9', \n",
    "    '[2]':'10', \n",
    "    '[3]':'11', \n",
    "    '[4]':'12',\n",
    "    '[5]':'13',\n",
    "    '[6-15]':'13',\n",
    "    '[16-30]':'13', \n",
    "    '[>=31]':'13',\n",
    "})\n",
    "\n",
    "time_df_alfa_q_feb_2023_pachuca['antiguedad_categoria'] = time_df_alfa_q_feb_2023_pachuca['antiguedad_categoria'].replace({\n",
    "    '[0]':'9', \n",
    "    '[1]':'10',\n",
    "    '[2]':'11',\n",
    "    '[3]':'12',\n",
    "    '[4]':'13',\n",
    "    '[5]':'13',\n",
    "    '[6-15]':'13',\n",
    "    '[16-30]':'13',\n",
    "    '[>=31]':'13',\n",
    "})\n",
    "\n",
    "\n",
    "time_df_alfa_q_jun_2023_pachuca['antiguedad_categoria'] = time_df_alfa_q_jun_2023_pachuca['antiguedad_categoria'].replace({\n",
    "    '[0]':'7', \n",
    "    '[1]':'8', \n",
    "    '[2]':'9', \n",
    "    '[3]':'10', \n",
    "    '[4]':'11',\n",
    "    '[5]':'12', \n",
    "    '[6-15]':'13',\n",
    "    '[16-30]':'13',\n",
    "    '[>=31]':'13',\n",
    "})\n"
   ]
  },
  {
   "cell_type": "markdown",
   "metadata": {},
   "source": [
    "### Conteo único de coincidencias con la antigüedad"
   ]
  },
  {
   "cell_type": "code",
   "execution_count": null,
   "metadata": {},
   "outputs": [],
   "source": [
    "# Lista de DataFrames y sus nombres correspondientes\n",
    "dataframes_list = [\n",
    "    time_df_alfa_q_oct_2022_pachuca,\n",
    "    time_df_alfa_q_nov_2022_pachuca,\n",
    "    time_df_alfa_q_feb_2023_pachuca,\n",
    "    time_df_alfa_q_mar_2023_pachuca,\n",
    "    time_df_alfa_q_jun_2023_pachuca,\n",
    "]\n",
    "\n",
    "tabla_suma = None\n",
    "# Iterar sobre cada DataFrame en la lista\n",
    "for df in dataframes_list:\n",
    "    # Crear una nueva columna con la primera letra de la categoría\n",
    "    df['segmento'] = df['categoria'].str[0]\n",
    "    df.drop(columns=['categoria'], inplace=True)        \n",
    "    # Agrupar y contar los datos\n",
    "    tabla_actual = df.groupby(['segmento', 'antiguedad_categoria']).size().unstack(fill_value=0)\n",
    "    \n",
    "    # Sumar la tabla actual al acumulador (tabla_suma)\n",
    "    if tabla_suma is None:\n",
    "        tabla_suma = tabla_actual\n",
    "    else:\n",
    "        tabla_suma = tabla_suma.add(tabla_actual, fill_value=0)\n",
    "\n",
    "# Imprimir la tabla acumulativa\n",
    "print(tabla_suma)"
   ]
  },
  {
   "cell_type": "code",
   "execution_count": null,
   "metadata": {},
   "outputs": [],
   "source": []
  },
  {
   "cell_type": "code",
   "execution_count": null,
   "metadata": {},
   "outputs": [],
   "source": []
  },
  {
   "cell_type": "code",
   "execution_count": null,
   "metadata": {},
   "outputs": [],
   "source": []
  },
  {
   "cell_type": "code",
   "execution_count": null,
   "metadata": {},
   "outputs": [],
   "source": []
  },
  {
   "cell_type": "code",
   "execution_count": null,
   "metadata": {},
   "outputs": [],
   "source": []
  },
  {
   "cell_type": "code",
   "execution_count": null,
   "metadata": {},
   "outputs": [],
   "source": []
  },
  {
   "cell_type": "code",
   "execution_count": 11,
   "metadata": {},
   "outputs": [
    {
     "name": "stdout",
     "output_type": "stream",
     "text": [
      "Nombre del DataFrame: time_df_alfa_q_oct_2022_pachuca\n",
      "antiguedad_categoria  [0]  [16-30]  [1]  [2]  [3]  [4]  [5]  [6-15]\n",
      "segmento                                                           \n",
      "A                     159        5   10    5    3    6    1      15\n",
      "B                     293        2   34   25    3    3    4      13\n",
      "C                     214       17   14   17    6    3    7      27\n",
      "D                     233       26   21   23    9    4    4      31\n",
      "E                      51        4    6    2    0    0    0       5\n",
      "S                     250       24   20   12   12    8    6      45\n",
      "Nombre del DataFrame: time_df_alfa_q_nov_2022_pachuca\n",
      "antiguedad_categoria  [0]  [16-30]  [1]  [2]  [3]  [4]  [5]  [6-15]\n",
      "segmento                                                           \n",
      "A                     186        5   10    5    3    6    1      18\n",
      "B                     327        2   35   33    3    5    5      17\n",
      "C                     241       22   16   19    7    3    9      37\n",
      "D                     271       32   30   30    9    6    5      38\n",
      "E                      69        4    7    3    0    0    0       6\n",
      "S                     269       22   20   11   13    9    6      52\n",
      "Nombre del DataFrame: time_df_alfa_q_feb_2023_pachuca\n",
      "antiguedad_categoria  [0]  [16-30]  [1]  [2]  [3]  [4]  [5]  [6-15]  [>=31]\n",
      "segmento                                                                   \n",
      "A                      90        4    9    3    4    1   12      27       1\n",
      "B                     156        9   12    5    6    2   16      36       2\n",
      "C                     111       12    8    2    5    7    6      20       1\n",
      "D                      99        7    6    4    4    5    2      27       4\n",
      "E                      19        1    3    0    1    0    3       3       0\n",
      "S                      98        7   12    8    4    7    7      24       6\n",
      "Nombre del DataFrame: time_df_alfa_q_mar_2023_pachuca\n",
      "antiguedad_categoria  [0]  [16-30]  [1]  [2]  [3]  [4]  [5]  [6-15]  [>=31]\n",
      "segmento                                                                   \n",
      "A                     206        3   11    2    0    2    5      16       0\n",
      "B                     371        3   10    4    4    2   10      22       1\n",
      "C                     223       10   19    3    5    0   11      31       2\n",
      "D                     270       14   13    1    3    3   10      38       5\n",
      "E                      35        7    0    0    0    0    0      27       0\n",
      "S                     280       11   16    4    9    7   14      33       2\n",
      "Nombre del DataFrame: time_df_alfa_q_jun_2023_pachuca\n",
      "antiguedad_categoria  [0]  [16-30]  [1]  [2]  [3]  [4]  [5]  [6-15]  [>=31]\n",
      "segmento                                                                   \n",
      "A                     158        8   24    9    6    4    9      16       4\n",
      "B                     291       12   37    8   17    6    6      15       4\n",
      "C                     247        5   27   10   13    0    5      25       3\n",
      "D                     236       15   37   12   14    5    7      46       2\n",
      "E                      23        1    3    0    0    0    0       3       0\n",
      "S                     277       33   30   20   22    3   11      50       6\n"
     ]
    }
   ],
   "source": [
    "def procesar_dataframes(dataframes_list, dataframes_names):\n",
    "    processed_dataframes = {}  # Usamos un diccionario en lugar de una lista\n",
    "    for i, df in enumerate(dataframes_list):\n",
    "        # Hacer una copia explícita del DataFrame\n",
    "        df = df.copy()\n",
    "        # Crear una nueva columna con la primera letra de la categoría\n",
    "        df['segmento'] = df['categoria'].str[0]\n",
    "        df.drop(columns=['categoria'], inplace=True)        \n",
    "        # Agrupar y contar los datos\n",
    "        tabla = df.groupby(['segmento', 'antiguedad_categoria']).size().unstack(fill_value=0)\n",
    "        # Guardar el DataFrame procesado en el diccionario usando el nombre correspondiente\n",
    "        if i < len(dataframes_names):\n",
    "            processed_dataframes[dataframes_names[i]] = tabla\n",
    "    return processed_dataframes\n",
    "\n",
    "# Lista de DataFrames y sus nombres correspondientes\n",
    "dataframes_list = [\n",
    "    time_df_alfa_q_oct_2022_pachuca,\n",
    "    time_df_alfa_q_nov_2022_pachuca,\n",
    "    time_df_alfa_q_feb_2023_pachuca,\n",
    "    time_df_alfa_q_mar_2023_pachuca,\n",
    "    time_df_alfa_q_jun_2023_pachuca,\n",
    "]\n",
    "\n",
    "dataframes_names = [\n",
    "    'time_df_alfa_q_oct_2022_pachuca',\n",
    "    'time_df_alfa_q_nov_2022_pachuca',\n",
    "    'time_df_alfa_q_feb_2023_pachuca',\n",
    "    'time_df_alfa_q_mar_2023_pachuca',\n",
    "    'time_df_alfa_q_jun_2023_pachuca',\n",
    "]\n",
    "\n",
    "processed_dataframes = procesar_dataframes(dataframes_list, dataframes_names)\n",
    "\n",
    "# Acceder a los DataFrames procesados por sus nombres\n",
    "for name, dataframe in processed_dataframes.items():\n",
    "    print(f\"Nombre del DataFrame: {name}\")\n",
    "    print(dataframe)"
   ]
  },
  {
   "cell_type": "code",
   "execution_count": 12,
   "metadata": {},
   "outputs": [
    {
     "ename": "KeyError",
     "evalue": "'segmento'",
     "output_type": "error",
     "traceback": [
      "\u001b[1;31m---------------------------------------------------------------------------\u001b[0m",
      "\u001b[1;31mKeyError\u001b[0m                                  Traceback (most recent call last)",
      "\u001b[1;32m~\\AppData\\Local\\Temp\\ipykernel_5736\\529241490.py\u001b[0m in \u001b[0;36m<module>\u001b[1;34m\u001b[0m\n\u001b[0;32m     20\u001b[0m \u001b[1;33m\u001b[0m\u001b[0m\n\u001b[0;32m     21\u001b[0m \u001b[1;31m# Llamar a la función sumar_tablas con la lista de DataFrames como argumento\u001b[0m\u001b[1;33m\u001b[0m\u001b[1;33m\u001b[0m\u001b[0m\n\u001b[1;32m---> 22\u001b[1;33m \u001b[0msumar_tablas\u001b[0m\u001b[1;33m(\u001b[0m\u001b[0mdataframes_list\u001b[0m\u001b[1;33m)\u001b[0m\u001b[1;33m\u001b[0m\u001b[1;33m\u001b[0m\u001b[0m\n\u001b[0m",
      "\u001b[1;32m~\\AppData\\Local\\Temp\\ipykernel_5736\\529241490.py\u001b[0m in \u001b[0;36msumar_tablas\u001b[1;34m(dataframes_list)\u001b[0m\n\u001b[0;32m      7\u001b[0m     \u001b[1;32mfor\u001b[0m \u001b[0mdf\u001b[0m \u001b[1;32min\u001b[0m \u001b[0mdataframes_list\u001b[0m\u001b[1;33m:\u001b[0m\u001b[1;33m\u001b[0m\u001b[1;33m\u001b[0m\u001b[0m\n\u001b[0;32m      8\u001b[0m         \u001b[1;31m# Agrupar y contar los datos en el DataFrame actual\u001b[0m\u001b[1;33m\u001b[0m\u001b[1;33m\u001b[0m\u001b[0m\n\u001b[1;32m----> 9\u001b[1;33m         \u001b[0mtabla_actual\u001b[0m \u001b[1;33m=\u001b[0m \u001b[0mdf\u001b[0m\u001b[1;33m.\u001b[0m\u001b[0mgroupby\u001b[0m\u001b[1;33m(\u001b[0m\u001b[1;33m[\u001b[0m\u001b[1;34m'segmento'\u001b[0m\u001b[1;33m,\u001b[0m \u001b[1;34m'antiguedad_categoria'\u001b[0m\u001b[1;33m]\u001b[0m\u001b[1;33m)\u001b[0m\u001b[1;33m.\u001b[0m\u001b[0msize\u001b[0m\u001b[1;33m(\u001b[0m\u001b[1;33m)\u001b[0m\u001b[1;33m.\u001b[0m\u001b[0munstack\u001b[0m\u001b[1;33m(\u001b[0m\u001b[0mfill_value\u001b[0m\u001b[1;33m=\u001b[0m\u001b[1;36m0\u001b[0m\u001b[1;33m)\u001b[0m\u001b[1;33m\u001b[0m\u001b[1;33m\u001b[0m\u001b[0m\n\u001b[0m\u001b[0;32m     10\u001b[0m \u001b[1;33m\u001b[0m\u001b[0m\n\u001b[0;32m     11\u001b[0m         \u001b[1;31m# Sumar la tabla actual al acumulador (tabla_suma)\u001b[0m\u001b[1;33m\u001b[0m\u001b[1;33m\u001b[0m\u001b[0m\n",
      "\u001b[1;32mc:\\Users\\yoe11\\anaconda3\\lib\\site-packages\\pandas\\core\\frame.py\u001b[0m in \u001b[0;36mgroupby\u001b[1;34m(self, by, axis, level, as_index, sort, group_keys, squeeze, observed, dropna)\u001b[0m\n\u001b[0;32m   7719\u001b[0m         \u001b[1;31m# error: Argument \"squeeze\" to \"DataFrameGroupBy\" has incompatible type\u001b[0m\u001b[1;33m\u001b[0m\u001b[1;33m\u001b[0m\u001b[0m\n\u001b[0;32m   7720\u001b[0m         \u001b[1;31m# \"Union[bool, NoDefault]\"; expected \"bool\"\u001b[0m\u001b[1;33m\u001b[0m\u001b[1;33m\u001b[0m\u001b[0m\n\u001b[1;32m-> 7721\u001b[1;33m         return DataFrameGroupBy(\n\u001b[0m\u001b[0;32m   7722\u001b[0m             \u001b[0mobj\u001b[0m\u001b[1;33m=\u001b[0m\u001b[0mself\u001b[0m\u001b[1;33m,\u001b[0m\u001b[1;33m\u001b[0m\u001b[1;33m\u001b[0m\u001b[0m\n\u001b[0;32m   7723\u001b[0m             \u001b[0mkeys\u001b[0m\u001b[1;33m=\u001b[0m\u001b[0mby\u001b[0m\u001b[1;33m,\u001b[0m\u001b[1;33m\u001b[0m\u001b[1;33m\u001b[0m\u001b[0m\n",
      "\u001b[1;32mc:\\Users\\yoe11\\anaconda3\\lib\\site-packages\\pandas\\core\\groupby\\groupby.py\u001b[0m in \u001b[0;36m__init__\u001b[1;34m(self, obj, keys, axis, level, grouper, exclusions, selection, as_index, sort, group_keys, squeeze, observed, mutated, dropna)\u001b[0m\n\u001b[0;32m    880\u001b[0m             \u001b[1;32mfrom\u001b[0m \u001b[0mpandas\u001b[0m\u001b[1;33m.\u001b[0m\u001b[0mcore\u001b[0m\u001b[1;33m.\u001b[0m\u001b[0mgroupby\u001b[0m\u001b[1;33m.\u001b[0m\u001b[0mgrouper\u001b[0m \u001b[1;32mimport\u001b[0m \u001b[0mget_grouper\u001b[0m\u001b[1;33m\u001b[0m\u001b[1;33m\u001b[0m\u001b[0m\n\u001b[0;32m    881\u001b[0m \u001b[1;33m\u001b[0m\u001b[0m\n\u001b[1;32m--> 882\u001b[1;33m             grouper, exclusions, obj = get_grouper(\n\u001b[0m\u001b[0;32m    883\u001b[0m                 \u001b[0mobj\u001b[0m\u001b[1;33m,\u001b[0m\u001b[1;33m\u001b[0m\u001b[1;33m\u001b[0m\u001b[0m\n\u001b[0;32m    884\u001b[0m                 \u001b[0mkeys\u001b[0m\u001b[1;33m,\u001b[0m\u001b[1;33m\u001b[0m\u001b[1;33m\u001b[0m\u001b[0m\n",
      "\u001b[1;32mc:\\Users\\yoe11\\anaconda3\\lib\\site-packages\\pandas\\core\\groupby\\grouper.py\u001b[0m in \u001b[0;36mget_grouper\u001b[1;34m(obj, key, axis, level, sort, observed, mutated, validate, dropna)\u001b[0m\n\u001b[0;32m    880\u001b[0m                 \u001b[0min_axis\u001b[0m\u001b[1;33m,\u001b[0m \u001b[0mlevel\u001b[0m\u001b[1;33m,\u001b[0m \u001b[0mgpr\u001b[0m \u001b[1;33m=\u001b[0m \u001b[1;32mFalse\u001b[0m\u001b[1;33m,\u001b[0m \u001b[0mgpr\u001b[0m\u001b[1;33m,\u001b[0m \u001b[1;32mNone\u001b[0m\u001b[1;33m\u001b[0m\u001b[1;33m\u001b[0m\u001b[0m\n\u001b[0;32m    881\u001b[0m             \u001b[1;32melse\u001b[0m\u001b[1;33m:\u001b[0m\u001b[1;33m\u001b[0m\u001b[1;33m\u001b[0m\u001b[0m\n\u001b[1;32m--> 882\u001b[1;33m                 \u001b[1;32mraise\u001b[0m \u001b[0mKeyError\u001b[0m\u001b[1;33m(\u001b[0m\u001b[0mgpr\u001b[0m\u001b[1;33m)\u001b[0m\u001b[1;33m\u001b[0m\u001b[1;33m\u001b[0m\u001b[0m\n\u001b[0m\u001b[0;32m    883\u001b[0m         \u001b[1;32melif\u001b[0m \u001b[0misinstance\u001b[0m\u001b[1;33m(\u001b[0m\u001b[0mgpr\u001b[0m\u001b[1;33m,\u001b[0m \u001b[0mGrouper\u001b[0m\u001b[1;33m)\u001b[0m \u001b[1;32mand\u001b[0m \u001b[0mgpr\u001b[0m\u001b[1;33m.\u001b[0m\u001b[0mkey\u001b[0m \u001b[1;32mis\u001b[0m \u001b[1;32mnot\u001b[0m \u001b[1;32mNone\u001b[0m\u001b[1;33m:\u001b[0m\u001b[1;33m\u001b[0m\u001b[1;33m\u001b[0m\u001b[0m\n\u001b[0;32m    884\u001b[0m             \u001b[1;31m# Add key to exclusions\u001b[0m\u001b[1;33m\u001b[0m\u001b[1;33m\u001b[0m\u001b[0m\n",
      "\u001b[1;31mKeyError\u001b[0m: 'segmento'"
     ]
    }
   ],
   "source": [
    "# Crear una nueva función para sumar las tablas de todos los DataFrames\n",
    "def sumar_tablas(dataframes_list):\n",
    "    # Inicializar una tabla vacía para almacenar la suma\n",
    "    tabla_suma = None\n",
    "    \n",
    "    # Iterar sobre cada DataFrame en la lista\n",
    "    for df in dataframes_list:\n",
    "        # Agrupar y contar los datos en el DataFrame actual\n",
    "        tabla_actual = df.groupby(['segmento', 'antiguedad_categoria']).size().unstack(fill_value=0)\n",
    "        \n",
    "        # Sumar la tabla actual al acumulador (tabla_suma)\n",
    "        if tabla_suma is None:\n",
    "            tabla_suma = tabla_actual\n",
    "        else:\n",
    "            tabla_suma = tabla_suma.add(tabla_actual, fill_value=0)\n",
    "    \n",
    "    # Imprimir la tabla resultante de la suma\n",
    "    print(\"Tabla general de frecuencia:\")\n",
    "    print(tabla_suma)\n",
    "\n",
    "# Llamar a la función sumar_tablas con la lista de DataFrames como argumento\n",
    "sumar_tablas(dataframes_list)"
   ]
  },
  {
   "cell_type": "markdown",
   "metadata": {},
   "source": [
    "_____\n",
    "### **Gráfica de segmentos**"
   ]
  },
  {
   "cell_type": "code",
   "execution_count": 8,
   "metadata": {},
   "outputs": [
    {
     "name": "stdout",
     "output_type": "stream",
     "text": [
      "Tabla general de frecuencia:\n",
      "antiguedad    0    1   2   3   4   5   6   7   8   9   10  11  12   13\n",
      "segmento                                                              \n",
      "A            799   64  24  16  19  28   7  13  10   7  15  12   8   50\n",
      "B           1438  128  75  33  18  41  10  19  19   1  25   3   8   53\n",
      "C           1036   84  51  36  13  38  13  18   8   4  35   2  18  114\n",
      "D           1109  107  70  39  23  28  15  27  14   9  39   8  17  156\n",
      "E            197   19   5   1   0   3   1   1   4   0  12   1  10   32\n",
      "S           1174   98  55  60  34  44  21  18  27  13  48   9  27  152\n"
     ]
    },
    {
     "data": {
      "application/vnd.plotly.v1+json": {
       "config": {
        "plotlyServerURL": "https://plot.ly"
       },
       "data": [
        {
         "name": "A",
         "type": "bar",
         "x": [
          0,
          1,
          2,
          3,
          4,
          5,
          6,
          7,
          8,
          9,
          10,
          11,
          12,
          13
         ],
         "y": [
          799,
          64,
          24,
          16,
          19,
          28,
          7,
          13,
          10,
          7,
          15,
          12,
          8,
          50
         ]
        },
        {
         "name": "B",
         "type": "bar",
         "x": [
          0,
          1,
          2,
          3,
          4,
          5,
          6,
          7,
          8,
          9,
          10,
          11,
          12,
          13
         ],
         "y": [
          1438,
          128,
          75,
          33,
          18,
          41,
          10,
          19,
          19,
          1,
          25,
          3,
          8,
          53
         ]
        },
        {
         "name": "C",
         "type": "bar",
         "x": [
          0,
          1,
          2,
          3,
          4,
          5,
          6,
          7,
          8,
          9,
          10,
          11,
          12,
          13
         ],
         "y": [
          1036,
          84,
          51,
          36,
          13,
          38,
          13,
          18,
          8,
          4,
          35,
          2,
          18,
          114
         ]
        },
        {
         "name": "D",
         "type": "bar",
         "x": [
          0,
          1,
          2,
          3,
          4,
          5,
          6,
          7,
          8,
          9,
          10,
          11,
          12,
          13
         ],
         "y": [
          1109,
          107,
          70,
          39,
          23,
          28,
          15,
          27,
          14,
          9,
          39,
          8,
          17,
          156
         ]
        },
        {
         "name": "E",
         "type": "bar",
         "x": [
          0,
          1,
          2,
          3,
          4,
          5,
          6,
          7,
          8,
          9,
          10,
          11,
          12,
          13
         ],
         "y": [
          197,
          19,
          5,
          1,
          0,
          3,
          1,
          1,
          4,
          0,
          12,
          1,
          10,
          32
         ]
        },
        {
         "name": "S",
         "type": "bar",
         "x": [
          0,
          1,
          2,
          3,
          4,
          5,
          6,
          7,
          8,
          9,
          10,
          11,
          12,
          13
         ],
         "y": [
          1174,
          98,
          55,
          60,
          34,
          44,
          21,
          18,
          27,
          13,
          48,
          9,
          27,
          152
         ]
        }
       ],
       "layout": {
        "template": {
         "data": {
          "bar": [
           {
            "error_x": {
             "color": "#2a3f5f"
            },
            "error_y": {
             "color": "#2a3f5f"
            },
            "marker": {
             "line": {
              "color": "#E5ECF6",
              "width": 0.5
             },
             "pattern": {
              "fillmode": "overlay",
              "size": 10,
              "solidity": 0.2
             }
            },
            "type": "bar"
           }
          ],
          "barpolar": [
           {
            "marker": {
             "line": {
              "color": "#E5ECF6",
              "width": 0.5
             },
             "pattern": {
              "fillmode": "overlay",
              "size": 10,
              "solidity": 0.2
             }
            },
            "type": "barpolar"
           }
          ],
          "carpet": [
           {
            "aaxis": {
             "endlinecolor": "#2a3f5f",
             "gridcolor": "white",
             "linecolor": "white",
             "minorgridcolor": "white",
             "startlinecolor": "#2a3f5f"
            },
            "baxis": {
             "endlinecolor": "#2a3f5f",
             "gridcolor": "white",
             "linecolor": "white",
             "minorgridcolor": "white",
             "startlinecolor": "#2a3f5f"
            },
            "type": "carpet"
           }
          ],
          "choropleth": [
           {
            "colorbar": {
             "outlinewidth": 0,
             "ticks": ""
            },
            "type": "choropleth"
           }
          ],
          "contour": [
           {
            "colorbar": {
             "outlinewidth": 0,
             "ticks": ""
            },
            "colorscale": [
             [
              0,
              "#0d0887"
             ],
             [
              0.1111111111111111,
              "#46039f"
             ],
             [
              0.2222222222222222,
              "#7201a8"
             ],
             [
              0.3333333333333333,
              "#9c179e"
             ],
             [
              0.4444444444444444,
              "#bd3786"
             ],
             [
              0.5555555555555556,
              "#d8576b"
             ],
             [
              0.6666666666666666,
              "#ed7953"
             ],
             [
              0.7777777777777778,
              "#fb9f3a"
             ],
             [
              0.8888888888888888,
              "#fdca26"
             ],
             [
              1,
              "#f0f921"
             ]
            ],
            "type": "contour"
           }
          ],
          "contourcarpet": [
           {
            "colorbar": {
             "outlinewidth": 0,
             "ticks": ""
            },
            "type": "contourcarpet"
           }
          ],
          "heatmap": [
           {
            "colorbar": {
             "outlinewidth": 0,
             "ticks": ""
            },
            "colorscale": [
             [
              0,
              "#0d0887"
             ],
             [
              0.1111111111111111,
              "#46039f"
             ],
             [
              0.2222222222222222,
              "#7201a8"
             ],
             [
              0.3333333333333333,
              "#9c179e"
             ],
             [
              0.4444444444444444,
              "#bd3786"
             ],
             [
              0.5555555555555556,
              "#d8576b"
             ],
             [
              0.6666666666666666,
              "#ed7953"
             ],
             [
              0.7777777777777778,
              "#fb9f3a"
             ],
             [
              0.8888888888888888,
              "#fdca26"
             ],
             [
              1,
              "#f0f921"
             ]
            ],
            "type": "heatmap"
           }
          ],
          "heatmapgl": [
           {
            "colorbar": {
             "outlinewidth": 0,
             "ticks": ""
            },
            "colorscale": [
             [
              0,
              "#0d0887"
             ],
             [
              0.1111111111111111,
              "#46039f"
             ],
             [
              0.2222222222222222,
              "#7201a8"
             ],
             [
              0.3333333333333333,
              "#9c179e"
             ],
             [
              0.4444444444444444,
              "#bd3786"
             ],
             [
              0.5555555555555556,
              "#d8576b"
             ],
             [
              0.6666666666666666,
              "#ed7953"
             ],
             [
              0.7777777777777778,
              "#fb9f3a"
             ],
             [
              0.8888888888888888,
              "#fdca26"
             ],
             [
              1,
              "#f0f921"
             ]
            ],
            "type": "heatmapgl"
           }
          ],
          "histogram": [
           {
            "marker": {
             "pattern": {
              "fillmode": "overlay",
              "size": 10,
              "solidity": 0.2
             }
            },
            "type": "histogram"
           }
          ],
          "histogram2d": [
           {
            "colorbar": {
             "outlinewidth": 0,
             "ticks": ""
            },
            "colorscale": [
             [
              0,
              "#0d0887"
             ],
             [
              0.1111111111111111,
              "#46039f"
             ],
             [
              0.2222222222222222,
              "#7201a8"
             ],
             [
              0.3333333333333333,
              "#9c179e"
             ],
             [
              0.4444444444444444,
              "#bd3786"
             ],
             [
              0.5555555555555556,
              "#d8576b"
             ],
             [
              0.6666666666666666,
              "#ed7953"
             ],
             [
              0.7777777777777778,
              "#fb9f3a"
             ],
             [
              0.8888888888888888,
              "#fdca26"
             ],
             [
              1,
              "#f0f921"
             ]
            ],
            "type": "histogram2d"
           }
          ],
          "histogram2dcontour": [
           {
            "colorbar": {
             "outlinewidth": 0,
             "ticks": ""
            },
            "colorscale": [
             [
              0,
              "#0d0887"
             ],
             [
              0.1111111111111111,
              "#46039f"
             ],
             [
              0.2222222222222222,
              "#7201a8"
             ],
             [
              0.3333333333333333,
              "#9c179e"
             ],
             [
              0.4444444444444444,
              "#bd3786"
             ],
             [
              0.5555555555555556,
              "#d8576b"
             ],
             [
              0.6666666666666666,
              "#ed7953"
             ],
             [
              0.7777777777777778,
              "#fb9f3a"
             ],
             [
              0.8888888888888888,
              "#fdca26"
             ],
             [
              1,
              "#f0f921"
             ]
            ],
            "type": "histogram2dcontour"
           }
          ],
          "mesh3d": [
           {
            "colorbar": {
             "outlinewidth": 0,
             "ticks": ""
            },
            "type": "mesh3d"
           }
          ],
          "parcoords": [
           {
            "line": {
             "colorbar": {
              "outlinewidth": 0,
              "ticks": ""
             }
            },
            "type": "parcoords"
           }
          ],
          "pie": [
           {
            "automargin": true,
            "type": "pie"
           }
          ],
          "scatter": [
           {
            "fillpattern": {
             "fillmode": "overlay",
             "size": 10,
             "solidity": 0.2
            },
            "type": "scatter"
           }
          ],
          "scatter3d": [
           {
            "line": {
             "colorbar": {
              "outlinewidth": 0,
              "ticks": ""
             }
            },
            "marker": {
             "colorbar": {
              "outlinewidth": 0,
              "ticks": ""
             }
            },
            "type": "scatter3d"
           }
          ],
          "scattercarpet": [
           {
            "marker": {
             "colorbar": {
              "outlinewidth": 0,
              "ticks": ""
             }
            },
            "type": "scattercarpet"
           }
          ],
          "scattergeo": [
           {
            "marker": {
             "colorbar": {
              "outlinewidth": 0,
              "ticks": ""
             }
            },
            "type": "scattergeo"
           }
          ],
          "scattergl": [
           {
            "marker": {
             "colorbar": {
              "outlinewidth": 0,
              "ticks": ""
             }
            },
            "type": "scattergl"
           }
          ],
          "scattermapbox": [
           {
            "marker": {
             "colorbar": {
              "outlinewidth": 0,
              "ticks": ""
             }
            },
            "type": "scattermapbox"
           }
          ],
          "scatterpolar": [
           {
            "marker": {
             "colorbar": {
              "outlinewidth": 0,
              "ticks": ""
             }
            },
            "type": "scatterpolar"
           }
          ],
          "scatterpolargl": [
           {
            "marker": {
             "colorbar": {
              "outlinewidth": 0,
              "ticks": ""
             }
            },
            "type": "scatterpolargl"
           }
          ],
          "scatterternary": [
           {
            "marker": {
             "colorbar": {
              "outlinewidth": 0,
              "ticks": ""
             }
            },
            "type": "scatterternary"
           }
          ],
          "surface": [
           {
            "colorbar": {
             "outlinewidth": 0,
             "ticks": ""
            },
            "colorscale": [
             [
              0,
              "#0d0887"
             ],
             [
              0.1111111111111111,
              "#46039f"
             ],
             [
              0.2222222222222222,
              "#7201a8"
             ],
             [
              0.3333333333333333,
              "#9c179e"
             ],
             [
              0.4444444444444444,
              "#bd3786"
             ],
             [
              0.5555555555555556,
              "#d8576b"
             ],
             [
              0.6666666666666666,
              "#ed7953"
             ],
             [
              0.7777777777777778,
              "#fb9f3a"
             ],
             [
              0.8888888888888888,
              "#fdca26"
             ],
             [
              1,
              "#f0f921"
             ]
            ],
            "type": "surface"
           }
          ],
          "table": [
           {
            "cells": {
             "fill": {
              "color": "#EBF0F8"
             },
             "line": {
              "color": "white"
             }
            },
            "header": {
             "fill": {
              "color": "#C8D4E3"
             },
             "line": {
              "color": "white"
             }
            },
            "type": "table"
           }
          ]
         },
         "layout": {
          "annotationdefaults": {
           "arrowcolor": "#2a3f5f",
           "arrowhead": 0,
           "arrowwidth": 1
          },
          "autotypenumbers": "strict",
          "coloraxis": {
           "colorbar": {
            "outlinewidth": 0,
            "ticks": ""
           }
          },
          "colorscale": {
           "diverging": [
            [
             0,
             "#8e0152"
            ],
            [
             0.1,
             "#c51b7d"
            ],
            [
             0.2,
             "#de77ae"
            ],
            [
             0.3,
             "#f1b6da"
            ],
            [
             0.4,
             "#fde0ef"
            ],
            [
             0.5,
             "#f7f7f7"
            ],
            [
             0.6,
             "#e6f5d0"
            ],
            [
             0.7,
             "#b8e186"
            ],
            [
             0.8,
             "#7fbc41"
            ],
            [
             0.9,
             "#4d9221"
            ],
            [
             1,
             "#276419"
            ]
           ],
           "sequential": [
            [
             0,
             "#0d0887"
            ],
            [
             0.1111111111111111,
             "#46039f"
            ],
            [
             0.2222222222222222,
             "#7201a8"
            ],
            [
             0.3333333333333333,
             "#9c179e"
            ],
            [
             0.4444444444444444,
             "#bd3786"
            ],
            [
             0.5555555555555556,
             "#d8576b"
            ],
            [
             0.6666666666666666,
             "#ed7953"
            ],
            [
             0.7777777777777778,
             "#fb9f3a"
            ],
            [
             0.8888888888888888,
             "#fdca26"
            ],
            [
             1,
             "#f0f921"
            ]
           ],
           "sequentialminus": [
            [
             0,
             "#0d0887"
            ],
            [
             0.1111111111111111,
             "#46039f"
            ],
            [
             0.2222222222222222,
             "#7201a8"
            ],
            [
             0.3333333333333333,
             "#9c179e"
            ],
            [
             0.4444444444444444,
             "#bd3786"
            ],
            [
             0.5555555555555556,
             "#d8576b"
            ],
            [
             0.6666666666666666,
             "#ed7953"
            ],
            [
             0.7777777777777778,
             "#fb9f3a"
            ],
            [
             0.8888888888888888,
             "#fdca26"
            ],
            [
             1,
             "#f0f921"
            ]
           ]
          },
          "colorway": [
           "#636efa",
           "#EF553B",
           "#00cc96",
           "#ab63fa",
           "#FFA15A",
           "#19d3f3",
           "#FF6692",
           "#B6E880",
           "#FF97FF",
           "#FECB52"
          ],
          "font": {
           "color": "#2a3f5f"
          },
          "geo": {
           "bgcolor": "white",
           "lakecolor": "white",
           "landcolor": "#E5ECF6",
           "showlakes": true,
           "showland": true,
           "subunitcolor": "white"
          },
          "hoverlabel": {
           "align": "left"
          },
          "hovermode": "closest",
          "mapbox": {
           "style": "light"
          },
          "paper_bgcolor": "white",
          "plot_bgcolor": "#E5ECF6",
          "polar": {
           "angularaxis": {
            "gridcolor": "white",
            "linecolor": "white",
            "ticks": ""
           },
           "bgcolor": "#E5ECF6",
           "radialaxis": {
            "gridcolor": "white",
            "linecolor": "white",
            "ticks": ""
           }
          },
          "scene": {
           "xaxis": {
            "backgroundcolor": "#E5ECF6",
            "gridcolor": "white",
            "gridwidth": 2,
            "linecolor": "white",
            "showbackground": true,
            "ticks": "",
            "zerolinecolor": "white"
           },
           "yaxis": {
            "backgroundcolor": "#E5ECF6",
            "gridcolor": "white",
            "gridwidth": 2,
            "linecolor": "white",
            "showbackground": true,
            "ticks": "",
            "zerolinecolor": "white"
           },
           "zaxis": {
            "backgroundcolor": "#E5ECF6",
            "gridcolor": "white",
            "gridwidth": 2,
            "linecolor": "white",
            "showbackground": true,
            "ticks": "",
            "zerolinecolor": "white"
           }
          },
          "shapedefaults": {
           "line": {
            "color": "#2a3f5f"
           }
          },
          "ternary": {
           "aaxis": {
            "gridcolor": "white",
            "linecolor": "white",
            "ticks": ""
           },
           "baxis": {
            "gridcolor": "white",
            "linecolor": "white",
            "ticks": ""
           },
           "bgcolor": "#E5ECF6",
           "caxis": {
            "gridcolor": "white",
            "linecolor": "white",
            "ticks": ""
           }
          },
          "title": {
           "x": 0.05
          },
          "xaxis": {
           "automargin": true,
           "gridcolor": "white",
           "linecolor": "white",
           "ticks": "",
           "title": {
            "standoff": 15
           },
           "zerolinecolor": "white",
           "zerolinewidth": 2
          },
          "yaxis": {
           "automargin": true,
           "gridcolor": "white",
           "linecolor": "white",
           "ticks": "",
           "title": {
            "standoff": 15
           },
           "zerolinecolor": "white",
           "zerolinewidth": 2
          }
         }
        },
        "title": {
         "text": "Meses de antigüedad"
        },
        "yaxis": {
         "title": {
          "text": "Número de casas"
         }
        }
       }
      }
     },
     "metadata": {},
     "output_type": "display_data"
    }
   ],
   "source": [
    "def sumar_tablas(dataframes_list):\n",
    "    tabla_suma = None\n",
    "    \n",
    "    for df in dataframes_list:\n",
    "        tabla_actual = df.groupby(['segmento', 'antiguedad']).size().unstack(fill_value=0)\n",
    "        \n",
    "        if tabla_suma is None:\n",
    "            tabla_suma = tabla_actual\n",
    "        else:\n",
    "            tabla_suma = tabla_suma.add(tabla_actual, fill_value=0)\n",
    "    \n",
    "    print(\"Tabla general de frecuencia:\")\n",
    "    print(tabla_suma)\n",
    "    \n",
    "    fig = graficar_tabla(tabla_suma)\n",
    "    \n",
    "    # Para guardar la gráfica como archivo HTML\n",
    "    guardar_grafico_como_html(fig, 'g_bar_tiempoventa_seg_pachuca', carpeta='graficas')\n",
    "    \n",
    "    return fig\n",
    "\n",
    "def graficar_tabla(tabla):\n",
    "    segmentos = tabla.index\n",
    "    tiempo = tabla.columns\n",
    "    \n",
    "    fig = go.Figure()\n",
    "    \n",
    "    for segmento in segmentos:\n",
    "        fig.add_trace(go.Bar(\n",
    "            x=tiempo,\n",
    "            y=tabla.loc[segmento],\n",
    "            name=segmento\n",
    "        ))\n",
    "    \n",
    "    fig.update_layout(\n",
    "        title=\"Meses de antigüedad\",\n",
    "        #xaxis_title=\"Número de baños\",\n",
    "        yaxis_title=\"Número de casas\"\n",
    "    )\n",
    "    \n",
    "    fig.show()    \n",
    "    return fig\n",
    "\n",
    "def guardar_grafico_como_html(fig, nombre_archivo, carpeta='graficas'):\n",
    "    # Crear la carpeta si no existe\n",
    "    if not os.path.exists(carpeta):\n",
    "        os.makedirs(carpeta)\n",
    "    \n",
    "    # Guardar la gráfica como archivo HTML en la carpeta especificada\n",
    "    pio.write_html(fig, f'{carpeta}/{nombre_archivo}.html')\n",
    "    #pio.write_html(fig, f'{carpeta}/{nombre_archivo}.png')\n",
    "\n",
    "# Llamar a la función sumar_tablas con la lista de DataFrames como argumento\n",
    "fig = sumar_tablas(dataframes_list)\n"
   ]
  },
  {
   "cell_type": "code",
   "execution_count": null,
   "metadata": {},
   "outputs": [],
   "source": []
  }
 ],
 "metadata": {
  "kernelspec": {
   "display_name": "base",
   "language": "python",
   "name": "python3"
  },
  "language_info": {
   "codemirror_mode": {
    "name": "ipython",
    "version": 3
   },
   "file_extension": ".py",
   "mimetype": "text/x-python",
   "name": "python",
   "nbconvert_exporter": "python",
   "pygments_lexer": "ipython3",
   "version": "3.9.13"
  }
 },
 "nbformat": 4,
 "nbformat_minor": 2
}
