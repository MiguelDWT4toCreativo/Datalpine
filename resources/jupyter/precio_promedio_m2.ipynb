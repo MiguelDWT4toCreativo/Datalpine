{
 "cells": [
  {
   "cell_type": "markdown",
   "metadata": {},
   "source": [
    "# ***Precio Promedio por M2 cuadrados***"
   ]
  },
  {
   "cell_type": "code",
   "execution_count": 1,
   "metadata": {},
   "outputs": [
    {
     "name": "stdout",
     "output_type": "stream",
     "text": [
      "Lista de DataFrames creados:\n",
      "['df_alfa_q_feb_2023_pachuca', 'df_alfa_q_jul_2022_tulancingo', 'df_alfa_q_jul_2023_pachuca', 'df_alfa_q_jul_2023_tulancingo', 'df_alfa_q_jun_2023_pachuca', 'df_alfa_q_jun_2023_tulancingo', 'df_alfa_q_mar_2023_pachuca', 'df_alfa_q_mar_2023_tulancingo', 'df_alfa_q_may_2022_tulancingo', 'df_alfa_q_may_2023_tulancingo', 'df_alfa_q_nov_2022_pachuca', 'df_alfa_q_oct_2022_pachuca', 'df_alfa_q_oct_2022_tulancingo', 'df_alfa_q_oct_2023_tulancingo', 'df_alfa_q_puebla', 'df_alfa_q_sep_2023_pachuca', 'df_alfa_q_sep_2023_tulancingo', 'df_enero_2024_querertaro', 'df_feb_2024_puebla', 'df_financiamientos_2019_pachuca', 'df_financiamientos_2019_puebla', 'df_financiamientos_2019_tulancingo', 'df_financiamientos_2020_pachuca', 'df_financiamientos_2020_puebla', 'df_financiamientos_2020_tulancingo', 'df_financiamientos_2021_pachuca', 'df_financiamientos_2021_puebla', 'df_financiamientos_2021_tulancingo', 'df_financiamientos_2022_pachuca', 'df_financiamientos_2022_puebla', 'df_financiamientos_2022_tulancingo', 'df_financiamientos_2023_pachuca', 'df_financiamientos_2023_puebla', 'df_financiamientos_2023_tulancingo', 'df_financiamientos_2024_puebla', 'df_grupos_edad_pachuca', 'df_grupos_edad_puebla', 'df_grupos_edad_queretaro', 'df_grupos_edad_tulancingo', 'df_jul_2023_puebla', 'df_junio_2023_queretaro', 'df_mar_2024_puebla', 'df_may_2024_puebla', 'df_publicacion_pachuca', 'df_publicacion_puebla', 'df_salarios_pachuca', 'df_salarios_puebla', 'df_sep_2023_puebla', 'df_tiempo_dias_tulancingo', 'df_usuarios']\n"
     ]
    }
   ],
   "source": [
    "# Manejo de datos\n",
    "import os # Directorios\n",
    "import pandas as pd # Manipulación df\n",
    "# Gráficas\n",
    "import plotly.graph_objects as go #Para obtener librería usar: pip install plotly\n",
    "from plotly.subplots import make_subplots\n",
    "import plotly.io as pio # Exportar gráfica\n",
    "\n",
    "# Obtener el directorio actual de trabajo\n",
    "directorio_actual = os.getcwd()\n",
    "# Directorio donde se encuentran los archivos JSON (ruta relativa)\n",
    "directorio_json = os.path.join(directorio_actual, 'datos_json')\n",
    "#print(\"Directorio JSON relativo:\", directorio_json)\n",
    "# Obtener la lista de archivos JSON en el directorio\n",
    "archivos_json = os.listdir(directorio_json)\n",
    "\n",
    "dataframes = {}\n",
    "# Iterar sobre cada archivo JSON y crear un DataFrame\n",
    "for archivo in archivos_json:\n",
    "    # Obtener el nombre de la tabla del nombre del archivo\n",
    "    nombre_tabla = archivo.replace('datos_', '').replace('.json', '')    \n",
    "    # Cargar el archivo JSON en un DataFrame y asignarlo a una variable con un nombre dinámico\n",
    "    ruta_json = os.path.join(directorio_json, archivo)\n",
    "    globals()[f\"df_{nombre_tabla}\"] = pd.read_json(ruta_json)\n",
    "\n",
    "    # Obtener todos los nombres de las variables globales\n",
    "nombres_variables_globales = list(globals().keys())\n",
    "# Filtrar los nombres, solo aquellos que comienzan con \"df_\"\n",
    "nombres_df = [nombre for nombre in nombres_variables_globales if nombre.startswith(\"df_\")]\n",
    "\n",
    "# Lista de nombres de los DataFrames creados\n",
    "print(\"Lista de DataFrames creados:\")\n",
    "print(nombres_df)"
   ]
  },
  {
   "cell_type": "markdown",
   "metadata": {},
   "source": [
    "# **PACHUCA**"
   ]
  },
  {
   "cell_type": "code",
   "execution_count": 17,
   "metadata": {},
   "outputs": [],
   "source": [
    "m2_df_alfa_q_oct_2022_pachuca = df_alfa_q_oct_2022_pachuca[['precio', 'm2_total',\n",
    "       'm2_contruido', 'precio_m2_contruido', 'precio_m2_terreno',]]\n",
    "m2_df_alfa_q_nov_2022_pachuca = df_alfa_q_nov_2022_pachuca[['precio', 'm2_total',\n",
    "       'm2_contruido', 'precio_m2_contruido', 'precio_m2_terreno',]]\n",
    "m2_df_alfa_q_feb_2023_pachuca = df_alfa_q_feb_2023_pachuca[['precio', 'm2_total',\n",
    "       'm2_contruido','precio_m2_contruido', 'precio_m2_terreno',]]\n",
    "m2_df_alfa_q_mar_2023_pachuca = df_alfa_q_mar_2023_pachuca[['precio', 'm2_total',\n",
    "       'm2_contruido', 'precio_m2_contruido', 'precio_m2_terreno',]]\n",
    "m2_df_alfa_q_jun_2023_pachuca = df_alfa_q_jun_2023_pachuca[['precio', 'm2_total',\n",
    "       'm2_contruido', 'precio_m2_contruido', 'precio_m2_terreno',]]\n",
    "m2_df_alfa_q_jul_2023_pachuca = df_alfa_q_jul_2023_pachuca[['precio', 'm2_total',\n",
    "       'm2_contruido', 'precio_m2_contruido', 'precio_m2_terreno',]]\n",
    "m2_df_alfa_q_sep_2023_pachuca = df_alfa_q_sep_2023_pachuca[['precio', 'm2_total',\n",
    "       'm2_construido', 'precio_m2_construido', 'precio_m2_terreno',]]"
   ]
  },
  {
   "cell_type": "code",
   "execution_count": 18,
   "metadata": {},
   "outputs": [
    {
     "name": "stderr",
     "output_type": "stream",
     "text": [
      "C:\\Users\\yoe11\\AppData\\Local\\Temp\\ipykernel_18012\\734174297.py:13: SettingWithCopyWarning:\n",
      "\n",
      "\n",
      "A value is trying to be set on a copy of a slice from a DataFrame\n",
      "\n",
      "See the caveats in the documentation: https://pandas.pydata.org/pandas-docs/stable/user_guide/indexing.html#returning-a-view-versus-a-copy\n",
      "\n",
      "C:\\Users\\yoe11\\AppData\\Local\\Temp\\ipykernel_18012\\734174297.py:13: SettingWithCopyWarning:\n",
      "\n",
      "\n",
      "A value is trying to be set on a copy of a slice from a DataFrame\n",
      "\n",
      "See the caveats in the documentation: https://pandas.pydata.org/pandas-docs/stable/user_guide/indexing.html#returning-a-view-versus-a-copy\n",
      "\n",
      "C:\\Users\\yoe11\\AppData\\Local\\Temp\\ipykernel_18012\\734174297.py:13: SettingWithCopyWarning:\n",
      "\n",
      "\n",
      "A value is trying to be set on a copy of a slice from a DataFrame\n",
      "\n",
      "See the caveats in the documentation: https://pandas.pydata.org/pandas-docs/stable/user_guide/indexing.html#returning-a-view-versus-a-copy\n",
      "\n",
      "C:\\Users\\yoe11\\AppData\\Local\\Temp\\ipykernel_18012\\734174297.py:13: SettingWithCopyWarning:\n",
      "\n",
      "\n",
      "A value is trying to be set on a copy of a slice from a DataFrame\n",
      "\n",
      "See the caveats in the documentation: https://pandas.pydata.org/pandas-docs/stable/user_guide/indexing.html#returning-a-view-versus-a-copy\n",
      "\n",
      "C:\\Users\\yoe11\\AppData\\Local\\Temp\\ipykernel_18012\\734174297.py:13: SettingWithCopyWarning:\n",
      "\n",
      "\n",
      "A value is trying to be set on a copy of a slice from a DataFrame\n",
      "\n",
      "See the caveats in the documentation: https://pandas.pydata.org/pandas-docs/stable/user_guide/indexing.html#returning-a-view-versus-a-copy\n",
      "\n",
      "C:\\Users\\yoe11\\AppData\\Local\\Temp\\ipykernel_18012\\734174297.py:13: SettingWithCopyWarning:\n",
      "\n",
      "\n",
      "A value is trying to be set on a copy of a slice from a DataFrame\n",
      "\n",
      "See the caveats in the documentation: https://pandas.pydata.org/pandas-docs/stable/user_guide/indexing.html#returning-a-view-versus-a-copy\n",
      "\n",
      "C:\\Users\\yoe11\\AppData\\Local\\Temp\\ipykernel_18012\\734174297.py:13: SettingWithCopyWarning:\n",
      "\n",
      "\n",
      "A value is trying to be set on a copy of a slice from a DataFrame\n",
      "\n",
      "See the caveats in the documentation: https://pandas.pydata.org/pandas-docs/stable/user_guide/indexing.html#returning-a-view-versus-a-copy\n",
      "\n"
     ]
    }
   ],
   "source": [
    "dataframes_list = [\n",
    "    m2_df_alfa_q_oct_2022_pachuca,\n",
    "    m2_df_alfa_q_nov_2022_pachuca,\n",
    "    m2_df_alfa_q_feb_2023_pachuca,\n",
    "    m2_df_alfa_q_mar_2023_pachuca,\n",
    "    m2_df_alfa_q_jun_2023_pachuca,\n",
    "    m2_df_alfa_q_jul_2023_pachuca,\n",
    "    m2_df_alfa_q_sep_2023_pachuca\n",
    "]\n",
    "\n",
    "for df in dataframes_list:\n",
    "    # Cambiar el nombre de las columnas\n",
    "    df.rename(columns={'m2_contruido': 'm2_construido',\n",
    "                       'precio_m2_contruido': 'precio_m2_construido'}, inplace=True)"
   ]
  },
  {
   "cell_type": "markdown",
   "metadata": {},
   "source": [
    "___\n",
    "## *rangos*"
   ]
  },
  {
   "cell_type": "markdown",
   "metadata": {},
   "source": [
    "### *DF CON RANGOS DE M2 Y SU PRECIO*"
   ]
  },
  {
   "cell_type": "code",
   "execution_count": 19,
   "metadata": {},
   "outputs": [
    {
     "name": "stdout",
     "output_type": "stream",
     "text": [
      "Primeros registros de nuevo DataFrame 1:\n",
      "     rango  precio_m2_terreno\n",
      "0  [0-100]           12777.78\n",
      "1  [0-100]           13043.48\n",
      "2  [0-100]           11458.33\n",
      "3  [0-100]           15500.52\n",
      "4  [0-100]            9000.00\n",
      "\n",
      "Primeros registros de nuevo DataFrame 2:\n",
      "     rango  precio_m2_terreno\n",
      "0  [0-100]           12777.78\n",
      "1  [0-100]           13043.48\n",
      "2  [0-100]           11458.33\n",
      "3  [0-100]           11458.33\n",
      "4  [0-100]           15500.52\n",
      "\n",
      "Primeros registros de nuevo DataFrame 3:\n",
      "     rango  precio_m2_terreno\n",
      "0  [0-100]               8896\n",
      "1  [0-100]              12672\n",
      "2  [0-100]              11328\n",
      "3  [0-100]              12239\n",
      "4  [0-100]              12791\n",
      "\n",
      "Primeros registros de nuevo DataFrame 4:\n",
      "     rango  precio_m2_terreno\n",
      "0  [0-100]           13550.98\n",
      "1  [0-100]            7037.04\n",
      "2  [0-100]           12054.55\n",
      "3  [0-100]            8166.67\n",
      "4  [0-100]           11616.67\n",
      "\n",
      "Primeros registros de nuevo DataFrame 5:\n",
      "     rango  precio_m2_terreno\n",
      "0  [0-100]           33333.33\n",
      "1  [0-100]           16688.89\n",
      "2  [0-100]           35714.29\n",
      "3  [0-100]          221000.00\n",
      "4  [0-100]           12277.78\n",
      "\n",
      "Primeros registros de nuevo DataFrame 6:\n",
      "     rango  precio_m2_terreno\n",
      "0  [0-100]           13055.56\n",
      "1  [0-100]           12589.29\n",
      "2  [0-100]           26754.08\n",
      "3  [0-100]           28196.72\n",
      "4  [0-100]           28524.59\n",
      "\n",
      "Primeros registros de nuevo DataFrame 7:\n",
      "     rango  precio_m2_terreno\n",
      "0  [0-100]           31111.11\n",
      "1  [0-100]           31111.11\n",
      "2  [0-100]           40967.96\n",
      "3  [0-100]           13846.15\n",
      "4  [0-100]           14038.46\n",
      "\n"
     ]
    }
   ],
   "source": [
    "dataframes_list = [\n",
    "    m2_df_alfa_q_oct_2022_pachuca,\n",
    "    m2_df_alfa_q_nov_2022_pachuca,\n",
    "    m2_df_alfa_q_feb_2023_pachuca,\n",
    "    m2_df_alfa_q_mar_2023_pachuca,\n",
    "    m2_df_alfa_q_jun_2023_pachuca,\n",
    "    m2_df_alfa_q_jul_2023_pachuca,\n",
    "    m2_df_alfa_q_sep_2023_pachuca\n",
    "]\n",
    "new_dataframes_list = []\n",
    "\n",
    "# Definir los límites de los rangos\n",
    "rangos = [0, 100, 150, 200, 250, 300, float('inf')]\n",
    "labels = ['[0-100]', '[100-150]', '[150-200]', '[200-250]', '[250-300]', '[> 300]']\n",
    "\n",
    "# Iterar sobre cada DataFrame en la lista original\n",
    "for df in dataframes_list:\n",
    "    # Crear una copia del DataFrame\n",
    "    modified_df = df.copy()\n",
    "    # Asignar el rango correspondiente a cada valor de 'm2_construido'\n",
    "    modified_df['rango'] = pd.cut(modified_df['m2_total'], bins=rangos, labels=labels, right=False)\n",
    "    # Crear un nuevo DataFrame solo con las columnas 'rango' y 'precio_m2_terreno'\n",
    "    new_df = modified_df[['rango', 'precio_m2_terreno']].copy()\n",
    "    # Agregar el nuevo DataFrame a la lista\n",
    "    new_dataframes_list.append(new_df)\n",
    "\n",
    "# Imprimir los primeros registros de cada nuevo DataFrame\n",
    "for idx, df in enumerate(new_dataframes_list):\n",
    "    print(f\"Primeros registros de nuevo DataFrame {idx + 1}:\")\n",
    "    print(df.head())\n",
    "    print()  # Agregar una línea en blanco entre cada DataFrame\n"
   ]
  },
  {
   "cell_type": "markdown",
   "metadata": {},
   "source": [
    "### *Promedio de precio_m2_terreno por rango CADA DF* "
   ]
  },
  {
   "cell_type": "code",
   "execution_count": 20,
   "metadata": {},
   "outputs": [
    {
     "name": "stdout",
     "output_type": "stream",
     "text": [
      "Promedio de precio_m2_terreno por rango en el DataFrame 1:\n",
      "rango\n",
      "[0-100]      16469.612659\n",
      "[100-150]    18763.317388\n",
      "[150-200]    21638.509925\n",
      "[200-250]    21694.308655\n",
      "[250-300]    25145.554103\n",
      "[> 300]      24058.407167\n",
      "Name: precio_m2_terreno, dtype: float64\n",
      "\n",
      "Promedio de precio_m2_terreno por rango en el DataFrame 2:\n",
      "rango\n",
      "[0-100]      16242.468095\n",
      "[100-150]    18512.567189\n",
      "[150-200]    21128.278100\n",
      "[200-250]    20652.793333\n",
      "[250-300]    23581.253864\n",
      "[> 300]      22931.931270\n",
      "Name: precio_m2_terreno, dtype: float64\n",
      "\n",
      "Promedio de precio_m2_terreno por rango en el DataFrame 3:\n",
      "rango\n",
      "[0-100]      15382.663717\n",
      "[100-150]    19318.665992\n",
      "[150-200]    21102.187500\n",
      "[200-250]    20318.400000\n",
      "[250-300]    16719.153846\n",
      "[> 300]      15391.483871\n",
      "Name: precio_m2_terreno, dtype: float64\n",
      "\n",
      "Promedio de precio_m2_terreno por rango en el DataFrame 4:\n",
      "rango\n",
      "[0-100]      16374.213392\n",
      "[100-150]    18753.976184\n",
      "[150-200]    20514.648247\n",
      "[200-250]    21956.151608\n",
      "[250-300]    20120.904638\n",
      "[> 300]      19474.847652\n",
      "Name: precio_m2_terreno, dtype: float64\n",
      "\n",
      "Promedio de precio_m2_terreno por rango en el DataFrame 5:\n",
      "rango\n",
      "[0-100]      18465.115040\n",
      "[100-150]    19280.987941\n",
      "[150-200]    22039.477255\n",
      "[200-250]    22622.139507\n",
      "[250-300]    25955.239111\n",
      "[> 300]      21078.173986\n",
      "Name: precio_m2_terreno, dtype: float64\n",
      "\n",
      "Promedio de precio_m2_terreno por rango en el DataFrame 6:\n",
      "rango\n",
      "[0-100]      23219.324524\n",
      "[100-150]    23866.457742\n",
      "[150-200]    15643.237895\n",
      "[200-250]    14384.869545\n",
      "[250-300]    15627.686154\n",
      "[> 300]      16863.140000\n",
      "Name: precio_m2_terreno, dtype: float64\n",
      "\n",
      "Promedio de precio_m2_terreno por rango en el DataFrame 7:\n",
      "rango\n",
      "[0-100]      18269.369817\n",
      "[100-150]    20672.039103\n",
      "[150-200]    22592.415630\n",
      "[200-250]    24542.754419\n",
      "[250-300]    24464.570000\n",
      "[> 300]      18427.718424\n",
      "Name: precio_m2_terreno, dtype: float64\n",
      "\n"
     ]
    }
   ],
   "source": [
    "# Iterar sobre cada DataFrame modificado en new_dataframes_list\n",
    "for idx, df in enumerate(new_dataframes_list):\n",
    "    print(f\"Promedio de precio_m2_terreno por rango en el DataFrame {idx + 1}:\")\n",
    "    # Agrupar el DataFrame por la columna 'rango' y calcular el promedio de 'precio_m2_terreno' para cada grupo\n",
    "    promedios_por_rango = df.groupby('rango')['precio_m2_terreno'].mean()\n",
    "    print(promedios_por_rango)\n",
    "    print()  # Agregar una línea en blanco entre cada resultado"
   ]
  },
  {
   "cell_type": "code",
   "execution_count": 21,
   "metadata": {},
   "outputs": [
    {
     "name": "stdout",
     "output_type": "stream",
     "text": [
      "DataFrame 'rango_precio_m2':\n"
     ]
    },
    {
     "data": {
      "text/html": [
       "<div>\n",
       "<style scoped>\n",
       "    .dataframe tbody tr th:only-of-type {\n",
       "        vertical-align: middle;\n",
       "    }\n",
       "\n",
       "    .dataframe tbody tr th {\n",
       "        vertical-align: top;\n",
       "    }\n",
       "\n",
       "    .dataframe thead th {\n",
       "        text-align: right;\n",
       "    }\n",
       "</style>\n",
       "<table border=\"1\" class=\"dataframe\">\n",
       "  <thead>\n",
       "    <tr style=\"text-align: right;\">\n",
       "      <th></th>\n",
       "      <th>DataFrame_1</th>\n",
       "      <th>DataFrame_2</th>\n",
       "      <th>DataFrame_3</th>\n",
       "      <th>DataFrame_4</th>\n",
       "      <th>DataFrame_5</th>\n",
       "      <th>DataFrame_6</th>\n",
       "      <th>DataFrame_7</th>\n",
       "    </tr>\n",
       "    <tr>\n",
       "      <th>rango</th>\n",
       "      <th></th>\n",
       "      <th></th>\n",
       "      <th></th>\n",
       "      <th></th>\n",
       "      <th></th>\n",
       "      <th></th>\n",
       "      <th></th>\n",
       "    </tr>\n",
       "  </thead>\n",
       "  <tbody>\n",
       "    <tr>\n",
       "      <th>[0-100]</th>\n",
       "      <td>16469.612659</td>\n",
       "      <td>16242.468095</td>\n",
       "      <td>15382.663717</td>\n",
       "      <td>16374.213392</td>\n",
       "      <td>18465.115040</td>\n",
       "      <td>23219.324524</td>\n",
       "      <td>18269.369817</td>\n",
       "    </tr>\n",
       "    <tr>\n",
       "      <th>[100-150]</th>\n",
       "      <td>18763.317388</td>\n",
       "      <td>18512.567189</td>\n",
       "      <td>19318.665992</td>\n",
       "      <td>18753.976184</td>\n",
       "      <td>19280.987941</td>\n",
       "      <td>23866.457742</td>\n",
       "      <td>20672.039103</td>\n",
       "    </tr>\n",
       "    <tr>\n",
       "      <th>[150-200]</th>\n",
       "      <td>21638.509925</td>\n",
       "      <td>21128.278100</td>\n",
       "      <td>21102.187500</td>\n",
       "      <td>20514.648247</td>\n",
       "      <td>22039.477255</td>\n",
       "      <td>15643.237895</td>\n",
       "      <td>22592.415630</td>\n",
       "    </tr>\n",
       "    <tr>\n",
       "      <th>[200-250]</th>\n",
       "      <td>21694.308655</td>\n",
       "      <td>20652.793333</td>\n",
       "      <td>20318.400000</td>\n",
       "      <td>21956.151608</td>\n",
       "      <td>22622.139507</td>\n",
       "      <td>14384.869545</td>\n",
       "      <td>24542.754419</td>\n",
       "    </tr>\n",
       "    <tr>\n",
       "      <th>[250-300]</th>\n",
       "      <td>25145.554103</td>\n",
       "      <td>23581.253864</td>\n",
       "      <td>16719.153846</td>\n",
       "      <td>20120.904638</td>\n",
       "      <td>25955.239111</td>\n",
       "      <td>15627.686154</td>\n",
       "      <td>24464.570000</td>\n",
       "    </tr>\n",
       "    <tr>\n",
       "      <th>[&gt; 300]</th>\n",
       "      <td>24058.407167</td>\n",
       "      <td>22931.931270</td>\n",
       "      <td>15391.483871</td>\n",
       "      <td>19474.847652</td>\n",
       "      <td>21078.173986</td>\n",
       "      <td>16863.140000</td>\n",
       "      <td>18427.718424</td>\n",
       "    </tr>\n",
       "  </tbody>\n",
       "</table>\n",
       "</div>"
      ],
      "text/plain": [
       "            DataFrame_1   DataFrame_2   DataFrame_3   DataFrame_4  \\\n",
       "rango                                                               \n",
       "[0-100]    16469.612659  16242.468095  15382.663717  16374.213392   \n",
       "[100-150]  18763.317388  18512.567189  19318.665992  18753.976184   \n",
       "[150-200]  21638.509925  21128.278100  21102.187500  20514.648247   \n",
       "[200-250]  21694.308655  20652.793333  20318.400000  21956.151608   \n",
       "[250-300]  25145.554103  23581.253864  16719.153846  20120.904638   \n",
       "[> 300]    24058.407167  22931.931270  15391.483871  19474.847652   \n",
       "\n",
       "            DataFrame_5   DataFrame_6   DataFrame_7  \n",
       "rango                                                \n",
       "[0-100]    18465.115040  23219.324524  18269.369817  \n",
       "[100-150]  19280.987941  23866.457742  20672.039103  \n",
       "[150-200]  22039.477255  15643.237895  22592.415630  \n",
       "[200-250]  22622.139507  14384.869545  24542.754419  \n",
       "[250-300]  25955.239111  15627.686154  24464.570000  \n",
       "[> 300]    21078.173986  16863.140000  18427.718424  "
      ]
     },
     "execution_count": 21,
     "metadata": {},
     "output_type": "execute_result"
    }
   ],
   "source": [
    "# Inicializar un diccionario para almacenar los promedios de precio por metro cuadrado para cada rango\n",
    "promedios_por_rango_dict = {}\n",
    "# Iterar sobre cada DataFrame modificado en new_dataframes_list\n",
    "for idx, df in enumerate(new_dataframes_list):\n",
    "    # Agrupar el DataFrame por la columna 'rango' y calcular el promedio de 'precio_m2_terreno' para cada grupo\n",
    "    promedios_por_rango = df.groupby('rango')['precio_m2_terreno'].mean()\n",
    "    # Actualizar el diccionario con los promedios calculados\n",
    "    promedios_por_rango_dict[f'DataFrame_{idx + 1}'] = promedios_por_rango\n",
    "\n",
    "# Convertir el diccionario en un DataFrame\n",
    "rango_precio_m2 = pd.DataFrame(promedios_por_rango_dict)\n",
    "print(\"DataFrame 'rango_precio_m2':\")\n",
    "rango_precio_m2"
   ]
  },
  {
   "cell_type": "code",
   "execution_count": 22,
   "metadata": {},
   "outputs": [
    {
     "name": "stdout",
     "output_type": "stream",
     "text": [
      "DataFrame 'Precio_mean_M2':\n"
     ]
    },
    {
     "data": {
      "text/html": [
       "<div>\n",
       "<style scoped>\n",
       "    .dataframe tbody tr th:only-of-type {\n",
       "        vertical-align: middle;\n",
       "    }\n",
       "\n",
       "    .dataframe tbody tr th {\n",
       "        vertical-align: top;\n",
       "    }\n",
       "\n",
       "    .dataframe thead th {\n",
       "        text-align: right;\n",
       "    }\n",
       "</style>\n",
       "<table border=\"1\" class=\"dataframe\">\n",
       "  <thead>\n",
       "    <tr style=\"text-align: right;\">\n",
       "      <th></th>\n",
       "      <th>Rango</th>\n",
       "      <th>Precio_m2_mean</th>\n",
       "    </tr>\n",
       "  </thead>\n",
       "  <tbody>\n",
       "    <tr>\n",
       "      <th>0</th>\n",
       "      <td>[0-100]</td>\n",
       "      <td>17774.681035</td>\n",
       "    </tr>\n",
       "    <tr>\n",
       "      <th>1</th>\n",
       "      <td>[100-150]</td>\n",
       "      <td>19881.144506</td>\n",
       "    </tr>\n",
       "    <tr>\n",
       "      <th>2</th>\n",
       "      <td>[150-200]</td>\n",
       "      <td>20665.536365</td>\n",
       "    </tr>\n",
       "    <tr>\n",
       "      <th>3</th>\n",
       "      <td>[200-250]</td>\n",
       "      <td>20881.631010</td>\n",
       "    </tr>\n",
       "    <tr>\n",
       "      <th>4</th>\n",
       "      <td>[250-300]</td>\n",
       "      <td>21659.194531</td>\n",
       "    </tr>\n",
       "    <tr>\n",
       "      <th>5</th>\n",
       "      <td>[&gt; 300]</td>\n",
       "      <td>19746.528910</td>\n",
       "    </tr>\n",
       "  </tbody>\n",
       "</table>\n",
       "</div>"
      ],
      "text/plain": [
       "       Rango  Precio_m2_mean\n",
       "0    [0-100]    17774.681035\n",
       "1  [100-150]    19881.144506\n",
       "2  [150-200]    20665.536365\n",
       "3  [200-250]    20881.631010\n",
       "4  [250-300]    21659.194531\n",
       "5    [> 300]    19746.528910"
      ]
     },
     "execution_count": 22,
     "metadata": {},
     "output_type": "execute_result"
    }
   ],
   "source": [
    "# Calcular el promedio general de cada rango en todas las columnas de rango_precio_m2\n",
    "promedio_general_por_rango = rango_precio_m2.mean(axis=1)\n",
    "# Crear un nuevo DataFrame 'Precio_mean_M2' con los rangos y sus promedios generales\n",
    "Precio_mean_M2 = pd.DataFrame({'Rango': promedio_general_por_rango.index, 'Precio_m2_mean': promedio_general_por_rango.values})\n",
    "\n",
    "print(\"DataFrame 'Precio_mean_M2':\")\n",
    "Precio_mean_M2"
   ]
  },
  {
   "cell_type": "markdown",
   "metadata": {},
   "source": [
    "#### ***GRÁFICA***"
   ]
  },
  {
   "cell_type": "code",
   "execution_count": 23,
   "metadata": {},
   "outputs": [
    {
     "data": {
      "application/vnd.plotly.v1+json": {
       "config": {
        "plotlyServerURL": "https://plot.ly"
       },
       "data": [
        {
         "marker": {
          "color": [
           "#2962ff",
           "#9500ff",
           "#ff0059",
           "#ff8c00",
           "#b4e600",
           "#2EC2A2",
           "#F79CB9"
          ]
         },
         "text": [
          "$17,774.68",
          "$19,881.14",
          "$20,665.54",
          "$20,881.63",
          "$21,659.19",
          "$19,746.53"
         ],
         "textposition": "inside",
         "type": "bar",
         "x": [
          "[0-100]",
          "[100-150]",
          "[150-200]",
          "[200-250]",
          "[250-300]",
          "[> 300]"
         ],
         "y": [
          17774.681034805806,
          19881.144505503744,
          20665.536364625026,
          20881.631009755514,
          21659.19453071325,
          19746.528909914177
         ]
        }
       ],
       "layout": {
        "height": 500,
        "margin": {
         "b": 10,
         "l": 10,
         "r": 10,
         "t": 10
        },
        "plot_bgcolor": "rgba(0,0,0,0)",
        "template": {
         "data": {
          "bar": [
           {
            "error_x": {
             "color": "#2a3f5f"
            },
            "error_y": {
             "color": "#2a3f5f"
            },
            "marker": {
             "line": {
              "color": "#E5ECF6",
              "width": 0.5
             },
             "pattern": {
              "fillmode": "overlay",
              "size": 10,
              "solidity": 0.2
             }
            },
            "type": "bar"
           }
          ],
          "barpolar": [
           {
            "marker": {
             "line": {
              "color": "#E5ECF6",
              "width": 0.5
             },
             "pattern": {
              "fillmode": "overlay",
              "size": 10,
              "solidity": 0.2
             }
            },
            "type": "barpolar"
           }
          ],
          "carpet": [
           {
            "aaxis": {
             "endlinecolor": "#2a3f5f",
             "gridcolor": "white",
             "linecolor": "white",
             "minorgridcolor": "white",
             "startlinecolor": "#2a3f5f"
            },
            "baxis": {
             "endlinecolor": "#2a3f5f",
             "gridcolor": "white",
             "linecolor": "white",
             "minorgridcolor": "white",
             "startlinecolor": "#2a3f5f"
            },
            "type": "carpet"
           }
          ],
          "choropleth": [
           {
            "colorbar": {
             "outlinewidth": 0,
             "ticks": ""
            },
            "type": "choropleth"
           }
          ],
          "contour": [
           {
            "colorbar": {
             "outlinewidth": 0,
             "ticks": ""
            },
            "colorscale": [
             [
              0,
              "#0d0887"
             ],
             [
              0.1111111111111111,
              "#46039f"
             ],
             [
              0.2222222222222222,
              "#7201a8"
             ],
             [
              0.3333333333333333,
              "#9c179e"
             ],
             [
              0.4444444444444444,
              "#bd3786"
             ],
             [
              0.5555555555555556,
              "#d8576b"
             ],
             [
              0.6666666666666666,
              "#ed7953"
             ],
             [
              0.7777777777777778,
              "#fb9f3a"
             ],
             [
              0.8888888888888888,
              "#fdca26"
             ],
             [
              1,
              "#f0f921"
             ]
            ],
            "type": "contour"
           }
          ],
          "contourcarpet": [
           {
            "colorbar": {
             "outlinewidth": 0,
             "ticks": ""
            },
            "type": "contourcarpet"
           }
          ],
          "heatmap": [
           {
            "colorbar": {
             "outlinewidth": 0,
             "ticks": ""
            },
            "colorscale": [
             [
              0,
              "#0d0887"
             ],
             [
              0.1111111111111111,
              "#46039f"
             ],
             [
              0.2222222222222222,
              "#7201a8"
             ],
             [
              0.3333333333333333,
              "#9c179e"
             ],
             [
              0.4444444444444444,
              "#bd3786"
             ],
             [
              0.5555555555555556,
              "#d8576b"
             ],
             [
              0.6666666666666666,
              "#ed7953"
             ],
             [
              0.7777777777777778,
              "#fb9f3a"
             ],
             [
              0.8888888888888888,
              "#fdca26"
             ],
             [
              1,
              "#f0f921"
             ]
            ],
            "type": "heatmap"
           }
          ],
          "heatmapgl": [
           {
            "colorbar": {
             "outlinewidth": 0,
             "ticks": ""
            },
            "colorscale": [
             [
              0,
              "#0d0887"
             ],
             [
              0.1111111111111111,
              "#46039f"
             ],
             [
              0.2222222222222222,
              "#7201a8"
             ],
             [
              0.3333333333333333,
              "#9c179e"
             ],
             [
              0.4444444444444444,
              "#bd3786"
             ],
             [
              0.5555555555555556,
              "#d8576b"
             ],
             [
              0.6666666666666666,
              "#ed7953"
             ],
             [
              0.7777777777777778,
              "#fb9f3a"
             ],
             [
              0.8888888888888888,
              "#fdca26"
             ],
             [
              1,
              "#f0f921"
             ]
            ],
            "type": "heatmapgl"
           }
          ],
          "histogram": [
           {
            "marker": {
             "pattern": {
              "fillmode": "overlay",
              "size": 10,
              "solidity": 0.2
             }
            },
            "type": "histogram"
           }
          ],
          "histogram2d": [
           {
            "colorbar": {
             "outlinewidth": 0,
             "ticks": ""
            },
            "colorscale": [
             [
              0,
              "#0d0887"
             ],
             [
              0.1111111111111111,
              "#46039f"
             ],
             [
              0.2222222222222222,
              "#7201a8"
             ],
             [
              0.3333333333333333,
              "#9c179e"
             ],
             [
              0.4444444444444444,
              "#bd3786"
             ],
             [
              0.5555555555555556,
              "#d8576b"
             ],
             [
              0.6666666666666666,
              "#ed7953"
             ],
             [
              0.7777777777777778,
              "#fb9f3a"
             ],
             [
              0.8888888888888888,
              "#fdca26"
             ],
             [
              1,
              "#f0f921"
             ]
            ],
            "type": "histogram2d"
           }
          ],
          "histogram2dcontour": [
           {
            "colorbar": {
             "outlinewidth": 0,
             "ticks": ""
            },
            "colorscale": [
             [
              0,
              "#0d0887"
             ],
             [
              0.1111111111111111,
              "#46039f"
             ],
             [
              0.2222222222222222,
              "#7201a8"
             ],
             [
              0.3333333333333333,
              "#9c179e"
             ],
             [
              0.4444444444444444,
              "#bd3786"
             ],
             [
              0.5555555555555556,
              "#d8576b"
             ],
             [
              0.6666666666666666,
              "#ed7953"
             ],
             [
              0.7777777777777778,
              "#fb9f3a"
             ],
             [
              0.8888888888888888,
              "#fdca26"
             ],
             [
              1,
              "#f0f921"
             ]
            ],
            "type": "histogram2dcontour"
           }
          ],
          "mesh3d": [
           {
            "colorbar": {
             "outlinewidth": 0,
             "ticks": ""
            },
            "type": "mesh3d"
           }
          ],
          "parcoords": [
           {
            "line": {
             "colorbar": {
              "outlinewidth": 0,
              "ticks": ""
             }
            },
            "type": "parcoords"
           }
          ],
          "pie": [
           {
            "automargin": true,
            "type": "pie"
           }
          ],
          "scatter": [
           {
            "fillpattern": {
             "fillmode": "overlay",
             "size": 10,
             "solidity": 0.2
            },
            "type": "scatter"
           }
          ],
          "scatter3d": [
           {
            "line": {
             "colorbar": {
              "outlinewidth": 0,
              "ticks": ""
             }
            },
            "marker": {
             "colorbar": {
              "outlinewidth": 0,
              "ticks": ""
             }
            },
            "type": "scatter3d"
           }
          ],
          "scattercarpet": [
           {
            "marker": {
             "colorbar": {
              "outlinewidth": 0,
              "ticks": ""
             }
            },
            "type": "scattercarpet"
           }
          ],
          "scattergeo": [
           {
            "marker": {
             "colorbar": {
              "outlinewidth": 0,
              "ticks": ""
             }
            },
            "type": "scattergeo"
           }
          ],
          "scattergl": [
           {
            "marker": {
             "colorbar": {
              "outlinewidth": 0,
              "ticks": ""
             }
            },
            "type": "scattergl"
           }
          ],
          "scattermapbox": [
           {
            "marker": {
             "colorbar": {
              "outlinewidth": 0,
              "ticks": ""
             }
            },
            "type": "scattermapbox"
           }
          ],
          "scatterpolar": [
           {
            "marker": {
             "colorbar": {
              "outlinewidth": 0,
              "ticks": ""
             }
            },
            "type": "scatterpolar"
           }
          ],
          "scatterpolargl": [
           {
            "marker": {
             "colorbar": {
              "outlinewidth": 0,
              "ticks": ""
             }
            },
            "type": "scatterpolargl"
           }
          ],
          "scatterternary": [
           {
            "marker": {
             "colorbar": {
              "outlinewidth": 0,
              "ticks": ""
             }
            },
            "type": "scatterternary"
           }
          ],
          "surface": [
           {
            "colorbar": {
             "outlinewidth": 0,
             "ticks": ""
            },
            "colorscale": [
             [
              0,
              "#0d0887"
             ],
             [
              0.1111111111111111,
              "#46039f"
             ],
             [
              0.2222222222222222,
              "#7201a8"
             ],
             [
              0.3333333333333333,
              "#9c179e"
             ],
             [
              0.4444444444444444,
              "#bd3786"
             ],
             [
              0.5555555555555556,
              "#d8576b"
             ],
             [
              0.6666666666666666,
              "#ed7953"
             ],
             [
              0.7777777777777778,
              "#fb9f3a"
             ],
             [
              0.8888888888888888,
              "#fdca26"
             ],
             [
              1,
              "#f0f921"
             ]
            ],
            "type": "surface"
           }
          ],
          "table": [
           {
            "cells": {
             "fill": {
              "color": "#EBF0F8"
             },
             "line": {
              "color": "white"
             }
            },
            "header": {
             "fill": {
              "color": "#C8D4E3"
             },
             "line": {
              "color": "white"
             }
            },
            "type": "table"
           }
          ]
         },
         "layout": {
          "annotationdefaults": {
           "arrowcolor": "#2a3f5f",
           "arrowhead": 0,
           "arrowwidth": 1
          },
          "autotypenumbers": "strict",
          "coloraxis": {
           "colorbar": {
            "outlinewidth": 0,
            "ticks": ""
           }
          },
          "colorscale": {
           "diverging": [
            [
             0,
             "#8e0152"
            ],
            [
             0.1,
             "#c51b7d"
            ],
            [
             0.2,
             "#de77ae"
            ],
            [
             0.3,
             "#f1b6da"
            ],
            [
             0.4,
             "#fde0ef"
            ],
            [
             0.5,
             "#f7f7f7"
            ],
            [
             0.6,
             "#e6f5d0"
            ],
            [
             0.7,
             "#b8e186"
            ],
            [
             0.8,
             "#7fbc41"
            ],
            [
             0.9,
             "#4d9221"
            ],
            [
             1,
             "#276419"
            ]
           ],
           "sequential": [
            [
             0,
             "#0d0887"
            ],
            [
             0.1111111111111111,
             "#46039f"
            ],
            [
             0.2222222222222222,
             "#7201a8"
            ],
            [
             0.3333333333333333,
             "#9c179e"
            ],
            [
             0.4444444444444444,
             "#bd3786"
            ],
            [
             0.5555555555555556,
             "#d8576b"
            ],
            [
             0.6666666666666666,
             "#ed7953"
            ],
            [
             0.7777777777777778,
             "#fb9f3a"
            ],
            [
             0.8888888888888888,
             "#fdca26"
            ],
            [
             1,
             "#f0f921"
            ]
           ],
           "sequentialminus": [
            [
             0,
             "#0d0887"
            ],
            [
             0.1111111111111111,
             "#46039f"
            ],
            [
             0.2222222222222222,
             "#7201a8"
            ],
            [
             0.3333333333333333,
             "#9c179e"
            ],
            [
             0.4444444444444444,
             "#bd3786"
            ],
            [
             0.5555555555555556,
             "#d8576b"
            ],
            [
             0.6666666666666666,
             "#ed7953"
            ],
            [
             0.7777777777777778,
             "#fb9f3a"
            ],
            [
             0.8888888888888888,
             "#fdca26"
            ],
            [
             1,
             "#f0f921"
            ]
           ]
          },
          "colorway": [
           "#636efa",
           "#EF553B",
           "#00cc96",
           "#ab63fa",
           "#FFA15A",
           "#19d3f3",
           "#FF6692",
           "#B6E880",
           "#FF97FF",
           "#FECB52"
          ],
          "font": {
           "color": "#2a3f5f"
          },
          "geo": {
           "bgcolor": "white",
           "lakecolor": "white",
           "landcolor": "#E5ECF6",
           "showlakes": true,
           "showland": true,
           "subunitcolor": "white"
          },
          "hoverlabel": {
           "align": "left"
          },
          "hovermode": "closest",
          "mapbox": {
           "style": "light"
          },
          "paper_bgcolor": "white",
          "plot_bgcolor": "#E5ECF6",
          "polar": {
           "angularaxis": {
            "gridcolor": "white",
            "linecolor": "white",
            "ticks": ""
           },
           "bgcolor": "#E5ECF6",
           "radialaxis": {
            "gridcolor": "white",
            "linecolor": "white",
            "ticks": ""
           }
          },
          "scene": {
           "xaxis": {
            "backgroundcolor": "#E5ECF6",
            "gridcolor": "white",
            "gridwidth": 2,
            "linecolor": "white",
            "showbackground": true,
            "ticks": "",
            "zerolinecolor": "white"
           },
           "yaxis": {
            "backgroundcolor": "#E5ECF6",
            "gridcolor": "white",
            "gridwidth": 2,
            "linecolor": "white",
            "showbackground": true,
            "ticks": "",
            "zerolinecolor": "white"
           },
           "zaxis": {
            "backgroundcolor": "#E5ECF6",
            "gridcolor": "white",
            "gridwidth": 2,
            "linecolor": "white",
            "showbackground": true,
            "ticks": "",
            "zerolinecolor": "white"
           }
          },
          "shapedefaults": {
           "line": {
            "color": "#2a3f5f"
           }
          },
          "ternary": {
           "aaxis": {
            "gridcolor": "white",
            "linecolor": "white",
            "ticks": ""
           },
           "baxis": {
            "gridcolor": "white",
            "linecolor": "white",
            "ticks": ""
           },
           "bgcolor": "#E5ECF6",
           "caxis": {
            "gridcolor": "white",
            "linecolor": "white",
            "ticks": ""
           }
          },
          "title": {
           "x": 0.05
          },
          "xaxis": {
           "automargin": true,
           "gridcolor": "white",
           "linecolor": "white",
           "ticks": "",
           "title": {
            "standoff": 15
           },
           "zerolinecolor": "white",
           "zerolinewidth": 2
          },
          "yaxis": {
           "automargin": true,
           "gridcolor": "white",
           "linecolor": "white",
           "ticks": "",
           "title": {
            "standoff": 15
           },
           "zerolinecolor": "white",
           "zerolinewidth": 2
          }
         }
        },
        "yaxis": {
         "gridcolor": "#dddcda",
         "gridwidth": 1,
         "ticktext": [
          "$0.00",
          "$5000.00",
          "$10000.00",
          "$15000.00",
          "$20000.00",
          "$25000.00"
         ],
         "tickvals": [
          0,
          5000,
          10000,
          15000,
          20000,
          25000
         ]
        }
       }
      }
     },
     "metadata": {},
     "output_type": "display_data"
    }
   ],
   "source": [
    "colores = ['#2962ff', '#9500ff', '#ff0059', '#ff8c00', '#b4e600', '#2EC2A2','#F79CB9']\n",
    "porcentajes = Precio_mean_M2['Precio_m2_mean']\n",
    "\n",
    "# Convertir la columna 'Precio_m2_mean' a números de punto flotante\n",
    "#Precio_mean_M2['Precio_m2_mean'] = Precio_mean_M2['Precio_m2_mean'].str.replace('$', '').str.replace(',', '').astype(float)\n",
    "# Convertir los valores a cadenas con el formato deseado\n",
    "textos_formateados = [f'${round(valor, 2):,.2f}' for valor in Precio_mean_M2['Precio_m2_mean']]\n",
    "\n",
    "# Crear la figura\n",
    "fig = go.Figure()\n",
    "\n",
    "# Obtener el valor máximo redondeado al próximo múltiplo de 5000\n",
    "max_valor = int(Precio_mean_M2['Precio_m2_mean'].max() / 5000 + 1) * 5000\n",
    "\n",
    "# Agregar los datos como barras\n",
    "fig.add_trace(go.Bar(\n",
    "    x=Precio_mean_M2['Rango'],  # Eje x: Modalidades\n",
    "    y=Precio_mean_M2['Precio_m2_mean'],  # Eje y: Porcentajes\n",
    "    marker_color=colores,  # Especifica los colores de las barras\n",
    "    text=textos_formateados,  # Texto que se mostrará en las barras (porcentaje)\n",
    "    textposition='inside',  # Posición del texto (puede ser 'inside' o 'outside')\n",
    "))\n",
    "\n",
    "# Personalizar el diseño de la gráfica\n",
    "fig.update_layout(\n",
    "    #title='Precio promedio por M2 totales.',  # Título de la gráfica\n",
    "    #xaxis=dict(title='Rango'),  # Título del eje x\n",
    "    yaxis=dict(\n",
    "        #title='Precio', # Título del eje y\n",
    "        gridcolor='#dddcda', # Color de las líneas que dividen los rangos del eje Y\n",
    "        gridwidth=1,\n",
    "        tickvals=list(range(0, max_valor + 5000, 5000)),  # Valores de los ticks del eje y\n",
    "        ticktext=[f'${valor:.2f}' for valor in range(0, max_valor + 5000, 5000)]  # Textos de los ticks del eje y\n",
    "    ),  \n",
    "    plot_bgcolor='rgba(0,0,0,0)',  # Color de fondo del gráfico\n",
    "    height=500,  # Altura de la gráfica\n",
    "    margin=dict(l=10, r=10, t=10, b=10)  # Ajusta los márgenes (left, right, top, bottom)\n",
    ")\n",
    "\n",
    "# Exportar gráfica como archivo HTML\n",
    "def guardar_grafico_como_html(fig, nombre_archivo, carpeta='graficas'):\n",
    "    # Crear la carpeta si no existe\n",
    "    if not os.path.exists(carpeta):\n",
    "        os.makedirs(carpeta)\n",
    "    \n",
    "    # Gráfica como archivo HTML en la carpeta especificada\n",
    "    pio.write_html(fig, f'{carpeta}/{nombre_archivo}.html')\n",
    "\n",
    "# Exportar\n",
    "guardar_grafico_como_html(fig, 'g_bar_PrecioPromedio-x-M2_pachuca', carpeta='graficas')\n",
    "fig.show()"
   ]
  },
  {
   "cell_type": "markdown",
   "metadata": {},
   "source": [
    "# **TULANCINGO**"
   ]
  },
  {
   "cell_type": "code",
   "execution_count": 2,
   "metadata": {},
   "outputs": [
    {
     "name": "stdout",
     "output_type": "stream",
     "text": [
      "['df_alfa_q_jul_2022_tulancingo', 'df_alfa_q_jul_2023_tulancingo', 'df_alfa_q_jun_2023_tulancingo', 'df_alfa_q_mar_2023_tulancingo', 'df_alfa_q_may_2022_tulancingo', 'df_alfa_q_may_2023_tulancingo', 'df_alfa_q_oct_2022_tulancingo', 'df_alfa_q_oct_2023_tulancingo', 'df_alfa_q_sep_2023_tulancingo', 'df_financiamientos_2019_tulancingo', 'df_financiamientos_2020_tulancingo', 'df_financiamientos_2021_tulancingo', 'df_financiamientos_2022_tulancingo', 'df_financiamientos_2023_tulancingo', 'df_grupos_edad_tulancingo', 'df_tiempo_dias_tulancingo']\n"
     ]
    }
   ],
   "source": [
    "# Seleccionar solo los DataFrames que contienen la cadena \"pachuca\"\n",
    "dfs = [df for df in nombres_df if 'tulancingo' in df]\n",
    "print(dfs)"
   ]
  },
  {
   "cell_type": "code",
   "execution_count": 8,
   "metadata": {},
   "outputs": [],
   "source": [
    "alfa_q_jul_2022_tulancingo = df_alfa_q_jul_2022_tulancingo[['precio', 'm_total',\n",
    "       'm_construido', 'precio_m2_construido', 'precio_m2_terreno',]]\n",
    "alfa_q_jul_2023_tulancingo = df_alfa_q_jul_2023_tulancingo[['precio', 'm_total',\n",
    "       'm_construido', 'precio_m2_construido', 'precio_m2_terreno',]]\n",
    "alfa_q_jun_2023_tulancingo = df_alfa_q_jun_2023_tulancingo[['precio', 'm_total',\n",
    "       'm_construido', 'precio_m2_construido', 'precio_m2_terreno',]]\n",
    "alfa_q_mar_2023_tulancingo = df_alfa_q_mar_2023_tulancingo[['precio', 'm_total',\n",
    "       'm_construido', 'precio_m2_construido', 'precio_m2_terreno',]]\n",
    "alfa_q_may_2022_tulancingo = df_alfa_q_may_2022_tulancingo[['precio', 'm_total',\n",
    "       'm_construido', 'precio_m2_construido', 'precio_m2_terreno',]]\n",
    "alfa_q_may_2023_tulancingo = df_alfa_q_may_2023_tulancingo[['precio', 'm_total',\n",
    "       'm_construido', 'precio_m2_construido', 'precio_m2_terreno',]]\n",
    "alfa_q_oct_2022_tulancingo = df_alfa_q_oct_2022_tulancingo[['precio', 'm_total',\n",
    "       'm_construido', 'precio_m2_construido', 'precio_m2_terreno',]]\n",
    "alfa_q_oct_2023_tulancingo = df_alfa_q_oct_2023_tulancingo[['precio', 'm_total',\n",
    "       'm_construido', 'precio_m2_construido', 'precio_m2_terreno',]]\n",
    "alfa_q_sep_2023_tulancingo = df_alfa_q_sep_2023_tulancingo[['precio', 'm_total',\n",
    "       'm_construido', 'precio_m2_construido', 'precio_m2_terreno',]]"
   ]
  },
  {
   "cell_type": "code",
   "execution_count": 9,
   "metadata": {},
   "outputs": [
    {
     "name": "stderr",
     "output_type": "stream",
     "text": [
      "C:\\Users\\yoe11\\AppData\\Local\\Temp\\ipykernel_18012\\3188660891.py:15: SettingWithCopyWarning: \n",
      "A value is trying to be set on a copy of a slice from a DataFrame\n",
      "\n",
      "See the caveats in the documentation: https://pandas.pydata.org/pandas-docs/stable/user_guide/indexing.html#returning-a-view-versus-a-copy\n",
      "  df.rename(columns={'m_total':'m2_total',\n",
      "C:\\Users\\yoe11\\AppData\\Local\\Temp\\ipykernel_18012\\3188660891.py:15: SettingWithCopyWarning: \n",
      "A value is trying to be set on a copy of a slice from a DataFrame\n",
      "\n",
      "See the caveats in the documentation: https://pandas.pydata.org/pandas-docs/stable/user_guide/indexing.html#returning-a-view-versus-a-copy\n",
      "  df.rename(columns={'m_total':'m2_total',\n",
      "C:\\Users\\yoe11\\AppData\\Local\\Temp\\ipykernel_18012\\3188660891.py:15: SettingWithCopyWarning: \n",
      "A value is trying to be set on a copy of a slice from a DataFrame\n",
      "\n",
      "See the caveats in the documentation: https://pandas.pydata.org/pandas-docs/stable/user_guide/indexing.html#returning-a-view-versus-a-copy\n",
      "  df.rename(columns={'m_total':'m2_total',\n",
      "C:\\Users\\yoe11\\AppData\\Local\\Temp\\ipykernel_18012\\3188660891.py:15: SettingWithCopyWarning: \n",
      "A value is trying to be set on a copy of a slice from a DataFrame\n",
      "\n",
      "See the caveats in the documentation: https://pandas.pydata.org/pandas-docs/stable/user_guide/indexing.html#returning-a-view-versus-a-copy\n",
      "  df.rename(columns={'m_total':'m2_total',\n",
      "C:\\Users\\yoe11\\AppData\\Local\\Temp\\ipykernel_18012\\3188660891.py:15: SettingWithCopyWarning: \n",
      "A value is trying to be set on a copy of a slice from a DataFrame\n",
      "\n",
      "See the caveats in the documentation: https://pandas.pydata.org/pandas-docs/stable/user_guide/indexing.html#returning-a-view-versus-a-copy\n",
      "  df.rename(columns={'m_total':'m2_total',\n",
      "C:\\Users\\yoe11\\AppData\\Local\\Temp\\ipykernel_18012\\3188660891.py:15: SettingWithCopyWarning: \n",
      "A value is trying to be set on a copy of a slice from a DataFrame\n",
      "\n",
      "See the caveats in the documentation: https://pandas.pydata.org/pandas-docs/stable/user_guide/indexing.html#returning-a-view-versus-a-copy\n",
      "  df.rename(columns={'m_total':'m2_total',\n",
      "C:\\Users\\yoe11\\AppData\\Local\\Temp\\ipykernel_18012\\3188660891.py:15: SettingWithCopyWarning: \n",
      "A value is trying to be set on a copy of a slice from a DataFrame\n",
      "\n",
      "See the caveats in the documentation: https://pandas.pydata.org/pandas-docs/stable/user_guide/indexing.html#returning-a-view-versus-a-copy\n",
      "  df.rename(columns={'m_total':'m2_total',\n",
      "C:\\Users\\yoe11\\AppData\\Local\\Temp\\ipykernel_18012\\3188660891.py:15: SettingWithCopyWarning: \n",
      "A value is trying to be set on a copy of a slice from a DataFrame\n",
      "\n",
      "See the caveats in the documentation: https://pandas.pydata.org/pandas-docs/stable/user_guide/indexing.html#returning-a-view-versus-a-copy\n",
      "  df.rename(columns={'m_total':'m2_total',\n",
      "C:\\Users\\yoe11\\AppData\\Local\\Temp\\ipykernel_18012\\3188660891.py:15: SettingWithCopyWarning: \n",
      "A value is trying to be set on a copy of a slice from a DataFrame\n",
      "\n",
      "See the caveats in the documentation: https://pandas.pydata.org/pandas-docs/stable/user_guide/indexing.html#returning-a-view-versus-a-copy\n",
      "  df.rename(columns={'m_total':'m2_total',\n"
     ]
    }
   ],
   "source": [
    "dataframes_list = [\n",
    "    alfa_q_jul_2022_tulancingo,\n",
    "    alfa_q_jul_2023_tulancingo,\n",
    "    alfa_q_jun_2023_tulancingo,\n",
    "    alfa_q_mar_2023_tulancingo,\n",
    "    alfa_q_may_2022_tulancingo,\n",
    "    alfa_q_may_2023_tulancingo,\n",
    "    alfa_q_oct_2022_tulancingo,\n",
    "    alfa_q_oct_2023_tulancingo,\n",
    "    alfa_q_sep_2023_tulancingo\n",
    "]\n",
    "\n",
    "for df in dataframes_list:\n",
    "    # Cambiar el nombre de las columnas\n",
    "    df.rename(columns={'m_total':'m2_total',\n",
    "                       'm_construido':'m2_construido'}, inplace=True)\n",
    "                       #m2_contruido': 'm2_construido',\n",
    "                       #'precio_m2_contruido': 'precio_m2_construido'}, inplace=True)"
   ]
  },
  {
   "cell_type": "markdown",
   "metadata": {},
   "source": [
    "### *DF CON RANGOS DE M2 Y SU PRECIO*"
   ]
  },
  {
   "cell_type": "code",
   "execution_count": 10,
   "metadata": {},
   "outputs": [
    {
     "name": "stdout",
     "output_type": "stream",
     "text": [
      "Primeros registros de nuevo DataFrame 1:\n",
      "     rango  precio_m2_terreno\n",
      "0  [0-100]           10000.00\n",
      "1  [0-100]           14588.24\n",
      "2  [0-100]            7722.22\n",
      "3  [0-100]            8500.00\n",
      "4  [0-100]            8833.33\n",
      "\n",
      "Primeros registros de nuevo DataFrame 2:\n",
      "     rango  precio_m2_terreno\n",
      "0  [0-100]           15111.11\n",
      "1  [0-100]           12222.22\n",
      "2  [0-100]           13125.00\n",
      "3  [0-100]           11800.00\n",
      "4  [0-100]           16634.62\n",
      "\n",
      "Primeros registros de nuevo DataFrame 3:\n",
      "     rango  precio_m2_terreno\n",
      "0  [0-100]           11333.33\n",
      "1  [0-100]           10000.00\n",
      "2  [0-100]           10000.00\n",
      "3  [0-100]            9166.67\n",
      "4  [0-100]           16791.04\n",
      "\n",
      "Primeros registros de nuevo DataFrame 4:\n",
      "     rango  precio_m2_terreno\n",
      "0  [0-100]            7436.00\n",
      "1  [0-100]           12166.67\n",
      "2  [0-100]           14850.75\n",
      "3  [0-100]            8872.82\n",
      "4  [0-100]           23328.57\n",
      "\n",
      "Primeros registros de nuevo DataFrame 5:\n",
      "     rango  precio_m2_terreno\n",
      "0  [0-100]           10000.00\n",
      "1  [0-100]           21492.54\n",
      "2  [0-100]            6410.26\n",
      "3  [0-100]           14588.24\n",
      "4  [0-100]            5617.98\n",
      "\n",
      "Primeros registros de nuevo DataFrame 6:\n",
      "     rango  precio_m2_terreno\n",
      "0  [0-100]            9431.82\n",
      "1  [0-100]            7647.06\n",
      "2  [0-100]           10473.68\n",
      "3  [0-100]           27216.67\n",
      "4  [0-100]           27216.67\n",
      "\n",
      "Primeros registros de nuevo DataFrame 7:\n",
      "     rango  precio_m2_terreno\n",
      "0  [0-100]           13095.24\n",
      "1  [0-100]           12765.96\n",
      "2  [0-100]           12580.00\n",
      "3  [0-100]           14181.82\n",
      "4  [0-100]           10000.00\n",
      "\n",
      "Primeros registros de nuevo DataFrame 8:\n",
      "     rango  precio_m2_terreno\n",
      "0  [0-100]           16791.04\n",
      "1  [0-100]           16791.04\n",
      "2  [0-100]           11554.17\n",
      "3  [0-100]           14694.44\n",
      "4  [0-100]           10000.00\n",
      "\n",
      "Primeros registros de nuevo DataFrame 9:\n",
      "     rango  precio_m2_terreno\n",
      "0  [0-100]           16791.04\n",
      "1  [0-100]           16791.04\n",
      "2  [0-100]           14694.44\n",
      "3  [0-100]           11554.17\n",
      "4  [0-100]           10000.00\n",
      "\n"
     ]
    }
   ],
   "source": [
    "dataframes_list = [\n",
    "       alfa_q_jul_2022_tulancingo,\n",
    "    alfa_q_jul_2023_tulancingo,\n",
    "    alfa_q_jun_2023_tulancingo,\n",
    "    alfa_q_mar_2023_tulancingo,\n",
    "    alfa_q_may_2022_tulancingo,\n",
    "    alfa_q_may_2023_tulancingo,\n",
    "    alfa_q_oct_2022_tulancingo,\n",
    "    alfa_q_oct_2023_tulancingo,\n",
    "    alfa_q_sep_2023_tulancingo\n",
    "]\n",
    "new_dataframes_list = []\n",
    "\n",
    "# Definir los límites de los rangos\n",
    "rangos = [0, 100, 150, 200, 250, 300, float('inf')]\n",
    "labels = ['[0-100]', '[100-150]', '[150-200]', '[200-250]', '[250-300]', '[> 300]']\n",
    "\n",
    "# Iterar sobre cada DataFrame en la lista original\n",
    "for df in dataframes_list:\n",
    "    # Crear una copia del DataFrame\n",
    "    modified_df = df.copy()\n",
    "    # Asignar el rango correspondiente a cada valor de 'm2_construido'\n",
    "    modified_df['rango'] = pd.cut(modified_df['m2_total'], bins=rangos, labels=labels, right=False)\n",
    "    # Crear un nuevo DataFrame solo con las columnas 'rango' y 'precio_m2_terreno'\n",
    "    new_df = modified_df[['rango', 'precio_m2_terreno']].copy()\n",
    "    # Agregar el nuevo DataFrame a la lista\n",
    "    new_dataframes_list.append(new_df)\n",
    "\n",
    "# Imprimir los primeros registros de cada nuevo DataFrame\n",
    "for idx, df in enumerate(new_dataframes_list):\n",
    "    print(f\"Primeros registros de nuevo DataFrame {idx + 1}:\")\n",
    "    print(df.head())\n",
    "    print()  # Agregar una línea en blanco entre cada DataFrame\n"
   ]
  },
  {
   "cell_type": "markdown",
   "metadata": {},
   "source": [
    "### *Promedio de precio_m2_terreno por rango CADA DF* "
   ]
  },
  {
   "cell_type": "code",
   "execution_count": 11,
   "metadata": {},
   "outputs": [
    {
     "name": "stdout",
     "output_type": "stream",
     "text": [
      "Promedio de precio_m2_terreno por rango en el DataFrame 1:\n",
      "rango\n",
      "[0-100]      11559.894167\n",
      "[100-150]    11262.859302\n",
      "[150-200]    10694.441667\n",
      "[200-250]    12101.732000\n",
      "[250-300]     5719.360000\n",
      "[> 300]       4171.867500\n",
      "Name: precio_m2_terreno, dtype: float64\n",
      "\n",
      "Promedio de precio_m2_terreno por rango en el DataFrame 2:\n",
      "rango\n",
      "[0-100]      12174.243333\n",
      "[100-150]    13373.047391\n",
      "[150-200]    11109.317500\n",
      "[200-250]     8605.074615\n",
      "[250-300]     7115.286667\n",
      "[> 300]       8589.407000\n",
      "Name: precio_m2_terreno, dtype: float64\n",
      "\n",
      "Promedio de precio_m2_terreno por rango en el DataFrame 3:\n",
      "rango\n",
      "[0-100]      12401.016757\n",
      "[100-150]    13492.396230\n",
      "[150-200]    22377.726000\n",
      "[200-250]    24936.829655\n",
      "[250-300]    22848.477143\n",
      "[> 300]       9625.699167\n",
      "Name: precio_m2_terreno, dtype: float64\n",
      "\n",
      "Promedio de precio_m2_terreno por rango en el DataFrame 4:\n",
      "rango\n",
      "[0-100]      11730.660000\n",
      "[100-150]     9667.866167\n",
      "[150-200]    13442.417273\n",
      "[200-250]    11601.462632\n",
      "[250-300]     4520.060000\n",
      "[> 300]       7322.458333\n",
      "Name: precio_m2_terreno, dtype: float64\n",
      "\n",
      "Promedio de precio_m2_terreno por rango en el DataFrame 5:\n",
      "rango\n",
      "[0-100]      10136.975000\n",
      "[100-150]    11910.752174\n",
      "[150-200]    10694.441667\n",
      "[200-250]    12456.120000\n",
      "[250-300]     9351.616000\n",
      "[> 300]       9009.301000\n",
      "Name: precio_m2_terreno, dtype: float64\n",
      "\n",
      "Promedio de precio_m2_terreno por rango en el DataFrame 6:\n",
      "rango\n",
      "[0-100]      12028.848333\n",
      "[100-150]    10681.750000\n",
      "[150-200]    11763.568182\n",
      "[200-250]    11214.658824\n",
      "[250-300]     9692.476667\n",
      "[> 300]       8031.125714\n",
      "Name: precio_m2_terreno, dtype: float64\n",
      "\n",
      "Promedio de precio_m2_terreno por rango en el DataFrame 7:\n",
      "rango\n",
      "[0-100]      12252.039412\n",
      "[100-150]    12978.701311\n",
      "[150-200]    19621.355882\n",
      "[200-250]    15771.517241\n",
      "[250-300]    10043.803333\n",
      "[> 300]      14272.792500\n",
      "Name: precio_m2_terreno, dtype: float64\n",
      "\n",
      "Promedio de precio_m2_terreno por rango en el DataFrame 8:\n",
      "rango\n",
      "[0-100]      11408.553529\n",
      "[100-150]    13353.897500\n",
      "[150-200]    15188.125000\n",
      "[200-250]    14068.180000\n",
      "[250-300]    21403.510000\n",
      "[> 300]       7107.140000\n",
      "Name: precio_m2_terreno, dtype: float64\n",
      "\n",
      "Promedio de precio_m2_terreno por rango en el DataFrame 9:\n",
      "rango\n",
      "[0-100]      11725.755000\n",
      "[100-150]    13290.044839\n",
      "[150-200]    17144.500000\n",
      "[200-250]    14068.180000\n",
      "[250-300]    21403.510000\n",
      "[> 300]       7107.140000\n",
      "Name: precio_m2_terreno, dtype: float64\n",
      "\n"
     ]
    }
   ],
   "source": [
    "# Iterar sobre cada DataFrame modificado en new_dataframes_list\n",
    "for idx, df in enumerate(new_dataframes_list):\n",
    "    print(f\"Promedio de precio_m2_terreno por rango en el DataFrame {idx + 1}:\")\n",
    "    # Agrupar el DataFrame por la columna 'rango' y calcular el promedio de 'precio_m2_terreno' para cada grupo\n",
    "    promedios_por_rango = df.groupby('rango')['precio_m2_terreno'].mean()\n",
    "    print(promedios_por_rango)\n",
    "    print()  # Agregar una línea en blanco entre cada resultado"
   ]
  },
  {
   "cell_type": "code",
   "execution_count": 12,
   "metadata": {},
   "outputs": [
    {
     "name": "stdout",
     "output_type": "stream",
     "text": [
      "DataFrame 'rango_precio_m2':\n"
     ]
    },
    {
     "data": {
      "text/html": [
       "<div>\n",
       "<style scoped>\n",
       "    .dataframe tbody tr th:only-of-type {\n",
       "        vertical-align: middle;\n",
       "    }\n",
       "\n",
       "    .dataframe tbody tr th {\n",
       "        vertical-align: top;\n",
       "    }\n",
       "\n",
       "    .dataframe thead th {\n",
       "        text-align: right;\n",
       "    }\n",
       "</style>\n",
       "<table border=\"1\" class=\"dataframe\">\n",
       "  <thead>\n",
       "    <tr style=\"text-align: right;\">\n",
       "      <th></th>\n",
       "      <th>DataFrame_1</th>\n",
       "      <th>DataFrame_2</th>\n",
       "      <th>DataFrame_3</th>\n",
       "      <th>DataFrame_4</th>\n",
       "      <th>DataFrame_5</th>\n",
       "      <th>DataFrame_6</th>\n",
       "      <th>DataFrame_7</th>\n",
       "      <th>DataFrame_8</th>\n",
       "      <th>DataFrame_9</th>\n",
       "    </tr>\n",
       "    <tr>\n",
       "      <th>rango</th>\n",
       "      <th></th>\n",
       "      <th></th>\n",
       "      <th></th>\n",
       "      <th></th>\n",
       "      <th></th>\n",
       "      <th></th>\n",
       "      <th></th>\n",
       "      <th></th>\n",
       "      <th></th>\n",
       "    </tr>\n",
       "  </thead>\n",
       "  <tbody>\n",
       "    <tr>\n",
       "      <th>[0-100]</th>\n",
       "      <td>11559.894167</td>\n",
       "      <td>12174.243333</td>\n",
       "      <td>12401.016757</td>\n",
       "      <td>11730.660000</td>\n",
       "      <td>10136.975000</td>\n",
       "      <td>12028.848333</td>\n",
       "      <td>12252.039412</td>\n",
       "      <td>11408.553529</td>\n",
       "      <td>11725.755000</td>\n",
       "    </tr>\n",
       "    <tr>\n",
       "      <th>[100-150]</th>\n",
       "      <td>11262.859302</td>\n",
       "      <td>13373.047391</td>\n",
       "      <td>13492.396230</td>\n",
       "      <td>9667.866167</td>\n",
       "      <td>11910.752174</td>\n",
       "      <td>10681.750000</td>\n",
       "      <td>12978.701311</td>\n",
       "      <td>13353.897500</td>\n",
       "      <td>13290.044839</td>\n",
       "    </tr>\n",
       "    <tr>\n",
       "      <th>[150-200]</th>\n",
       "      <td>10694.441667</td>\n",
       "      <td>11109.317500</td>\n",
       "      <td>22377.726000</td>\n",
       "      <td>13442.417273</td>\n",
       "      <td>10694.441667</td>\n",
       "      <td>11763.568182</td>\n",
       "      <td>19621.355882</td>\n",
       "      <td>15188.125000</td>\n",
       "      <td>17144.500000</td>\n",
       "    </tr>\n",
       "    <tr>\n",
       "      <th>[200-250]</th>\n",
       "      <td>12101.732000</td>\n",
       "      <td>8605.074615</td>\n",
       "      <td>24936.829655</td>\n",
       "      <td>11601.462632</td>\n",
       "      <td>12456.120000</td>\n",
       "      <td>11214.658824</td>\n",
       "      <td>15771.517241</td>\n",
       "      <td>14068.180000</td>\n",
       "      <td>14068.180000</td>\n",
       "    </tr>\n",
       "    <tr>\n",
       "      <th>[250-300]</th>\n",
       "      <td>5719.360000</td>\n",
       "      <td>7115.286667</td>\n",
       "      <td>22848.477143</td>\n",
       "      <td>4520.060000</td>\n",
       "      <td>9351.616000</td>\n",
       "      <td>9692.476667</td>\n",
       "      <td>10043.803333</td>\n",
       "      <td>21403.510000</td>\n",
       "      <td>21403.510000</td>\n",
       "    </tr>\n",
       "    <tr>\n",
       "      <th>[&gt; 300]</th>\n",
       "      <td>4171.867500</td>\n",
       "      <td>8589.407000</td>\n",
       "      <td>9625.699167</td>\n",
       "      <td>7322.458333</td>\n",
       "      <td>9009.301000</td>\n",
       "      <td>8031.125714</td>\n",
       "      <td>14272.792500</td>\n",
       "      <td>7107.140000</td>\n",
       "      <td>7107.140000</td>\n",
       "    </tr>\n",
       "  </tbody>\n",
       "</table>\n",
       "</div>"
      ],
      "text/plain": [
       "            DataFrame_1   DataFrame_2   DataFrame_3   DataFrame_4  \\\n",
       "rango                                                               \n",
       "[0-100]    11559.894167  12174.243333  12401.016757  11730.660000   \n",
       "[100-150]  11262.859302  13373.047391  13492.396230   9667.866167   \n",
       "[150-200]  10694.441667  11109.317500  22377.726000  13442.417273   \n",
       "[200-250]  12101.732000   8605.074615  24936.829655  11601.462632   \n",
       "[250-300]   5719.360000   7115.286667  22848.477143   4520.060000   \n",
       "[> 300]     4171.867500   8589.407000   9625.699167   7322.458333   \n",
       "\n",
       "            DataFrame_5   DataFrame_6   DataFrame_7   DataFrame_8  \\\n",
       "rango                                                               \n",
       "[0-100]    10136.975000  12028.848333  12252.039412  11408.553529   \n",
       "[100-150]  11910.752174  10681.750000  12978.701311  13353.897500   \n",
       "[150-200]  10694.441667  11763.568182  19621.355882  15188.125000   \n",
       "[200-250]  12456.120000  11214.658824  15771.517241  14068.180000   \n",
       "[250-300]   9351.616000   9692.476667  10043.803333  21403.510000   \n",
       "[> 300]     9009.301000   8031.125714  14272.792500   7107.140000   \n",
       "\n",
       "            DataFrame_9  \n",
       "rango                    \n",
       "[0-100]    11725.755000  \n",
       "[100-150]  13290.044839  \n",
       "[150-200]  17144.500000  \n",
       "[200-250]  14068.180000  \n",
       "[250-300]  21403.510000  \n",
       "[> 300]     7107.140000  "
      ]
     },
     "execution_count": 12,
     "metadata": {},
     "output_type": "execute_result"
    }
   ],
   "source": [
    "# Inicializar un diccionario para almacenar los promedios de precio por metro cuadrado para cada rango\n",
    "promedios_por_rango_dict = {}\n",
    "# Iterar sobre cada DataFrame modificado en new_dataframes_list\n",
    "for idx, df in enumerate(new_dataframes_list):\n",
    "    # Agrupar el DataFrame por la columna 'rango' y calcular el promedio de 'precio_m2_terreno' para cada grupo\n",
    "    promedios_por_rango = df.groupby('rango')['precio_m2_terreno'].mean()\n",
    "    # Actualizar el diccionario con los promedios calculados\n",
    "    promedios_por_rango_dict[f'DataFrame_{idx + 1}'] = promedios_por_rango\n",
    "\n",
    "# Convertir el diccionario en un DataFrame\n",
    "rango_precio_m2 = pd.DataFrame(promedios_por_rango_dict)\n",
    "print(\"DataFrame 'rango_precio_m2':\")\n",
    "rango_precio_m2"
   ]
  },
  {
   "cell_type": "code",
   "execution_count": 13,
   "metadata": {},
   "outputs": [
    {
     "name": "stdout",
     "output_type": "stream",
     "text": [
      "DataFrame 'Precio_mean_M2':\n"
     ]
    },
    {
     "data": {
      "text/html": [
       "<div>\n",
       "<style scoped>\n",
       "    .dataframe tbody tr th:only-of-type {\n",
       "        vertical-align: middle;\n",
       "    }\n",
       "\n",
       "    .dataframe tbody tr th {\n",
       "        vertical-align: top;\n",
       "    }\n",
       "\n",
       "    .dataframe thead th {\n",
       "        text-align: right;\n",
       "    }\n",
       "</style>\n",
       "<table border=\"1\" class=\"dataframe\">\n",
       "  <thead>\n",
       "    <tr style=\"text-align: right;\">\n",
       "      <th></th>\n",
       "      <th>Rango</th>\n",
       "      <th>Precio_m2_mean</th>\n",
       "    </tr>\n",
       "  </thead>\n",
       "  <tbody>\n",
       "    <tr>\n",
       "      <th>0</th>\n",
       "      <td>[0-100]</td>\n",
       "      <td>11713.109503</td>\n",
       "    </tr>\n",
       "    <tr>\n",
       "      <th>1</th>\n",
       "      <td>[100-150]</td>\n",
       "      <td>12223.479435</td>\n",
       "    </tr>\n",
       "    <tr>\n",
       "      <th>2</th>\n",
       "      <td>[150-200]</td>\n",
       "      <td>14670.654797</td>\n",
       "    </tr>\n",
       "    <tr>\n",
       "      <th>3</th>\n",
       "      <td>[200-250]</td>\n",
       "      <td>13869.306107</td>\n",
       "    </tr>\n",
       "    <tr>\n",
       "      <th>4</th>\n",
       "      <td>[250-300]</td>\n",
       "      <td>12455.344423</td>\n",
       "    </tr>\n",
       "    <tr>\n",
       "      <th>5</th>\n",
       "      <td>[&gt; 300]</td>\n",
       "      <td>8359.659024</td>\n",
       "    </tr>\n",
       "  </tbody>\n",
       "</table>\n",
       "</div>"
      ],
      "text/plain": [
       "       Rango  Precio_m2_mean\n",
       "0    [0-100]    11713.109503\n",
       "1  [100-150]    12223.479435\n",
       "2  [150-200]    14670.654797\n",
       "3  [200-250]    13869.306107\n",
       "4  [250-300]    12455.344423\n",
       "5    [> 300]     8359.659024"
      ]
     },
     "execution_count": 13,
     "metadata": {},
     "output_type": "execute_result"
    }
   ],
   "source": [
    "# Calcular el promedio general de cada rango en todas las columnas de rango_precio_m2\n",
    "promedio_general_por_rango = rango_precio_m2.mean(axis=1)\n",
    "# Crear un nuevo DataFrame 'Precio_mean_M2' con los rangos y sus promedios generales\n",
    "Precio_mean_M2 = pd.DataFrame({'Rango': promedio_general_por_rango.index, 'Precio_m2_mean': promedio_general_por_rango.values})\n",
    "\n",
    "print(\"DataFrame 'Precio_mean_M2':\")\n",
    "Precio_mean_M2"
   ]
  },
  {
   "cell_type": "markdown",
   "metadata": {},
   "source": [
    "#### ***GRÁFICA***"
   ]
  },
  {
   "cell_type": "code",
   "execution_count": 16,
   "metadata": {},
   "outputs": [
    {
     "data": {
      "application/vnd.plotly.v1+json": {
       "config": {
        "plotlyServerURL": "https://plot.ly"
       },
       "data": [
        {
         "marker": {
          "color": [
           "#2962ff",
           "#9500ff",
           "#ff0059",
           "#ff8c00",
           "#b4e600",
           "#2EC2A2",
           "#F79CB9"
          ]
         },
         "text": [
          "$11,713.11",
          "$12,223.48",
          "$14,670.65",
          "$13,869.31",
          "$12,455.34",
          "$8,359.66"
         ],
         "textposition": "inside",
         "type": "bar",
         "x": [
          "[0-100]",
          "[100-150]",
          "[150-200]",
          "[200-250]",
          "[250-300]",
          "[> 300]"
         ],
         "y": [
          11713.109503474065,
          12223.479434878105,
          14670.654796692414,
          13869.30610744941,
          12455.344423280423,
          8359.659023809523
         ]
        }
       ],
       "layout": {
        "height": 500,
        "margin": {
         "b": 10,
         "l": 10,
         "r": 10,
         "t": 10
        },
        "plot_bgcolor": "rgba(0,0,0,0)",
        "template": {
         "data": {
          "bar": [
           {
            "error_x": {
             "color": "#2a3f5f"
            },
            "error_y": {
             "color": "#2a3f5f"
            },
            "marker": {
             "line": {
              "color": "#E5ECF6",
              "width": 0.5
             },
             "pattern": {
              "fillmode": "overlay",
              "size": 10,
              "solidity": 0.2
             }
            },
            "type": "bar"
           }
          ],
          "barpolar": [
           {
            "marker": {
             "line": {
              "color": "#E5ECF6",
              "width": 0.5
             },
             "pattern": {
              "fillmode": "overlay",
              "size": 10,
              "solidity": 0.2
             }
            },
            "type": "barpolar"
           }
          ],
          "carpet": [
           {
            "aaxis": {
             "endlinecolor": "#2a3f5f",
             "gridcolor": "white",
             "linecolor": "white",
             "minorgridcolor": "white",
             "startlinecolor": "#2a3f5f"
            },
            "baxis": {
             "endlinecolor": "#2a3f5f",
             "gridcolor": "white",
             "linecolor": "white",
             "minorgridcolor": "white",
             "startlinecolor": "#2a3f5f"
            },
            "type": "carpet"
           }
          ],
          "choropleth": [
           {
            "colorbar": {
             "outlinewidth": 0,
             "ticks": ""
            },
            "type": "choropleth"
           }
          ],
          "contour": [
           {
            "colorbar": {
             "outlinewidth": 0,
             "ticks": ""
            },
            "colorscale": [
             [
              0,
              "#0d0887"
             ],
             [
              0.1111111111111111,
              "#46039f"
             ],
             [
              0.2222222222222222,
              "#7201a8"
             ],
             [
              0.3333333333333333,
              "#9c179e"
             ],
             [
              0.4444444444444444,
              "#bd3786"
             ],
             [
              0.5555555555555556,
              "#d8576b"
             ],
             [
              0.6666666666666666,
              "#ed7953"
             ],
             [
              0.7777777777777778,
              "#fb9f3a"
             ],
             [
              0.8888888888888888,
              "#fdca26"
             ],
             [
              1,
              "#f0f921"
             ]
            ],
            "type": "contour"
           }
          ],
          "contourcarpet": [
           {
            "colorbar": {
             "outlinewidth": 0,
             "ticks": ""
            },
            "type": "contourcarpet"
           }
          ],
          "heatmap": [
           {
            "colorbar": {
             "outlinewidth": 0,
             "ticks": ""
            },
            "colorscale": [
             [
              0,
              "#0d0887"
             ],
             [
              0.1111111111111111,
              "#46039f"
             ],
             [
              0.2222222222222222,
              "#7201a8"
             ],
             [
              0.3333333333333333,
              "#9c179e"
             ],
             [
              0.4444444444444444,
              "#bd3786"
             ],
             [
              0.5555555555555556,
              "#d8576b"
             ],
             [
              0.6666666666666666,
              "#ed7953"
             ],
             [
              0.7777777777777778,
              "#fb9f3a"
             ],
             [
              0.8888888888888888,
              "#fdca26"
             ],
             [
              1,
              "#f0f921"
             ]
            ],
            "type": "heatmap"
           }
          ],
          "heatmapgl": [
           {
            "colorbar": {
             "outlinewidth": 0,
             "ticks": ""
            },
            "colorscale": [
             [
              0,
              "#0d0887"
             ],
             [
              0.1111111111111111,
              "#46039f"
             ],
             [
              0.2222222222222222,
              "#7201a8"
             ],
             [
              0.3333333333333333,
              "#9c179e"
             ],
             [
              0.4444444444444444,
              "#bd3786"
             ],
             [
              0.5555555555555556,
              "#d8576b"
             ],
             [
              0.6666666666666666,
              "#ed7953"
             ],
             [
              0.7777777777777778,
              "#fb9f3a"
             ],
             [
              0.8888888888888888,
              "#fdca26"
             ],
             [
              1,
              "#f0f921"
             ]
            ],
            "type": "heatmapgl"
           }
          ],
          "histogram": [
           {
            "marker": {
             "pattern": {
              "fillmode": "overlay",
              "size": 10,
              "solidity": 0.2
             }
            },
            "type": "histogram"
           }
          ],
          "histogram2d": [
           {
            "colorbar": {
             "outlinewidth": 0,
             "ticks": ""
            },
            "colorscale": [
             [
              0,
              "#0d0887"
             ],
             [
              0.1111111111111111,
              "#46039f"
             ],
             [
              0.2222222222222222,
              "#7201a8"
             ],
             [
              0.3333333333333333,
              "#9c179e"
             ],
             [
              0.4444444444444444,
              "#bd3786"
             ],
             [
              0.5555555555555556,
              "#d8576b"
             ],
             [
              0.6666666666666666,
              "#ed7953"
             ],
             [
              0.7777777777777778,
              "#fb9f3a"
             ],
             [
              0.8888888888888888,
              "#fdca26"
             ],
             [
              1,
              "#f0f921"
             ]
            ],
            "type": "histogram2d"
           }
          ],
          "histogram2dcontour": [
           {
            "colorbar": {
             "outlinewidth": 0,
             "ticks": ""
            },
            "colorscale": [
             [
              0,
              "#0d0887"
             ],
             [
              0.1111111111111111,
              "#46039f"
             ],
             [
              0.2222222222222222,
              "#7201a8"
             ],
             [
              0.3333333333333333,
              "#9c179e"
             ],
             [
              0.4444444444444444,
              "#bd3786"
             ],
             [
              0.5555555555555556,
              "#d8576b"
             ],
             [
              0.6666666666666666,
              "#ed7953"
             ],
             [
              0.7777777777777778,
              "#fb9f3a"
             ],
             [
              0.8888888888888888,
              "#fdca26"
             ],
             [
              1,
              "#f0f921"
             ]
            ],
            "type": "histogram2dcontour"
           }
          ],
          "mesh3d": [
           {
            "colorbar": {
             "outlinewidth": 0,
             "ticks": ""
            },
            "type": "mesh3d"
           }
          ],
          "parcoords": [
           {
            "line": {
             "colorbar": {
              "outlinewidth": 0,
              "ticks": ""
             }
            },
            "type": "parcoords"
           }
          ],
          "pie": [
           {
            "automargin": true,
            "type": "pie"
           }
          ],
          "scatter": [
           {
            "fillpattern": {
             "fillmode": "overlay",
             "size": 10,
             "solidity": 0.2
            },
            "type": "scatter"
           }
          ],
          "scatter3d": [
           {
            "line": {
             "colorbar": {
              "outlinewidth": 0,
              "ticks": ""
             }
            },
            "marker": {
             "colorbar": {
              "outlinewidth": 0,
              "ticks": ""
             }
            },
            "type": "scatter3d"
           }
          ],
          "scattercarpet": [
           {
            "marker": {
             "colorbar": {
              "outlinewidth": 0,
              "ticks": ""
             }
            },
            "type": "scattercarpet"
           }
          ],
          "scattergeo": [
           {
            "marker": {
             "colorbar": {
              "outlinewidth": 0,
              "ticks": ""
             }
            },
            "type": "scattergeo"
           }
          ],
          "scattergl": [
           {
            "marker": {
             "colorbar": {
              "outlinewidth": 0,
              "ticks": ""
             }
            },
            "type": "scattergl"
           }
          ],
          "scattermapbox": [
           {
            "marker": {
             "colorbar": {
              "outlinewidth": 0,
              "ticks": ""
             }
            },
            "type": "scattermapbox"
           }
          ],
          "scatterpolar": [
           {
            "marker": {
             "colorbar": {
              "outlinewidth": 0,
              "ticks": ""
             }
            },
            "type": "scatterpolar"
           }
          ],
          "scatterpolargl": [
           {
            "marker": {
             "colorbar": {
              "outlinewidth": 0,
              "ticks": ""
             }
            },
            "type": "scatterpolargl"
           }
          ],
          "scatterternary": [
           {
            "marker": {
             "colorbar": {
              "outlinewidth": 0,
              "ticks": ""
             }
            },
            "type": "scatterternary"
           }
          ],
          "surface": [
           {
            "colorbar": {
             "outlinewidth": 0,
             "ticks": ""
            },
            "colorscale": [
             [
              0,
              "#0d0887"
             ],
             [
              0.1111111111111111,
              "#46039f"
             ],
             [
              0.2222222222222222,
              "#7201a8"
             ],
             [
              0.3333333333333333,
              "#9c179e"
             ],
             [
              0.4444444444444444,
              "#bd3786"
             ],
             [
              0.5555555555555556,
              "#d8576b"
             ],
             [
              0.6666666666666666,
              "#ed7953"
             ],
             [
              0.7777777777777778,
              "#fb9f3a"
             ],
             [
              0.8888888888888888,
              "#fdca26"
             ],
             [
              1,
              "#f0f921"
             ]
            ],
            "type": "surface"
           }
          ],
          "table": [
           {
            "cells": {
             "fill": {
              "color": "#EBF0F8"
             },
             "line": {
              "color": "white"
             }
            },
            "header": {
             "fill": {
              "color": "#C8D4E3"
             },
             "line": {
              "color": "white"
             }
            },
            "type": "table"
           }
          ]
         },
         "layout": {
          "annotationdefaults": {
           "arrowcolor": "#2a3f5f",
           "arrowhead": 0,
           "arrowwidth": 1
          },
          "autotypenumbers": "strict",
          "coloraxis": {
           "colorbar": {
            "outlinewidth": 0,
            "ticks": ""
           }
          },
          "colorscale": {
           "diverging": [
            [
             0,
             "#8e0152"
            ],
            [
             0.1,
             "#c51b7d"
            ],
            [
             0.2,
             "#de77ae"
            ],
            [
             0.3,
             "#f1b6da"
            ],
            [
             0.4,
             "#fde0ef"
            ],
            [
             0.5,
             "#f7f7f7"
            ],
            [
             0.6,
             "#e6f5d0"
            ],
            [
             0.7,
             "#b8e186"
            ],
            [
             0.8,
             "#7fbc41"
            ],
            [
             0.9,
             "#4d9221"
            ],
            [
             1,
             "#276419"
            ]
           ],
           "sequential": [
            [
             0,
             "#0d0887"
            ],
            [
             0.1111111111111111,
             "#46039f"
            ],
            [
             0.2222222222222222,
             "#7201a8"
            ],
            [
             0.3333333333333333,
             "#9c179e"
            ],
            [
             0.4444444444444444,
             "#bd3786"
            ],
            [
             0.5555555555555556,
             "#d8576b"
            ],
            [
             0.6666666666666666,
             "#ed7953"
            ],
            [
             0.7777777777777778,
             "#fb9f3a"
            ],
            [
             0.8888888888888888,
             "#fdca26"
            ],
            [
             1,
             "#f0f921"
            ]
           ],
           "sequentialminus": [
            [
             0,
             "#0d0887"
            ],
            [
             0.1111111111111111,
             "#46039f"
            ],
            [
             0.2222222222222222,
             "#7201a8"
            ],
            [
             0.3333333333333333,
             "#9c179e"
            ],
            [
             0.4444444444444444,
             "#bd3786"
            ],
            [
             0.5555555555555556,
             "#d8576b"
            ],
            [
             0.6666666666666666,
             "#ed7953"
            ],
            [
             0.7777777777777778,
             "#fb9f3a"
            ],
            [
             0.8888888888888888,
             "#fdca26"
            ],
            [
             1,
             "#f0f921"
            ]
           ]
          },
          "colorway": [
           "#636efa",
           "#EF553B",
           "#00cc96",
           "#ab63fa",
           "#FFA15A",
           "#19d3f3",
           "#FF6692",
           "#B6E880",
           "#FF97FF",
           "#FECB52"
          ],
          "font": {
           "color": "#2a3f5f"
          },
          "geo": {
           "bgcolor": "white",
           "lakecolor": "white",
           "landcolor": "#E5ECF6",
           "showlakes": true,
           "showland": true,
           "subunitcolor": "white"
          },
          "hoverlabel": {
           "align": "left"
          },
          "hovermode": "closest",
          "mapbox": {
           "style": "light"
          },
          "paper_bgcolor": "white",
          "plot_bgcolor": "#E5ECF6",
          "polar": {
           "angularaxis": {
            "gridcolor": "white",
            "linecolor": "white",
            "ticks": ""
           },
           "bgcolor": "#E5ECF6",
           "radialaxis": {
            "gridcolor": "white",
            "linecolor": "white",
            "ticks": ""
           }
          },
          "scene": {
           "xaxis": {
            "backgroundcolor": "#E5ECF6",
            "gridcolor": "white",
            "gridwidth": 2,
            "linecolor": "white",
            "showbackground": true,
            "ticks": "",
            "zerolinecolor": "white"
           },
           "yaxis": {
            "backgroundcolor": "#E5ECF6",
            "gridcolor": "white",
            "gridwidth": 2,
            "linecolor": "white",
            "showbackground": true,
            "ticks": "",
            "zerolinecolor": "white"
           },
           "zaxis": {
            "backgroundcolor": "#E5ECF6",
            "gridcolor": "white",
            "gridwidth": 2,
            "linecolor": "white",
            "showbackground": true,
            "ticks": "",
            "zerolinecolor": "white"
           }
          },
          "shapedefaults": {
           "line": {
            "color": "#2a3f5f"
           }
          },
          "ternary": {
           "aaxis": {
            "gridcolor": "white",
            "linecolor": "white",
            "ticks": ""
           },
           "baxis": {
            "gridcolor": "white",
            "linecolor": "white",
            "ticks": ""
           },
           "bgcolor": "#E5ECF6",
           "caxis": {
            "gridcolor": "white",
            "linecolor": "white",
            "ticks": ""
           }
          },
          "title": {
           "x": 0.05
          },
          "xaxis": {
           "automargin": true,
           "gridcolor": "white",
           "linecolor": "white",
           "ticks": "",
           "title": {
            "standoff": 15
           },
           "zerolinecolor": "white",
           "zerolinewidth": 2
          },
          "yaxis": {
           "automargin": true,
           "gridcolor": "white",
           "linecolor": "white",
           "ticks": "",
           "title": {
            "standoff": 15
           },
           "zerolinecolor": "white",
           "zerolinewidth": 2
          }
         }
        },
        "yaxis": {
         "gridcolor": "#dddcda",
         "gridwidth": 1,
         "ticktext": [
          "$0.00",
          "$5000.00",
          "$10000.00",
          "$15000.00"
         ],
         "tickvals": [
          0,
          5000,
          10000,
          15000
         ]
        }
       }
      }
     },
     "metadata": {},
     "output_type": "display_data"
    }
   ],
   "source": [
    "colores = ['#2962ff', '#9500ff', '#ff0059', '#ff8c00', '#b4e600', '#2EC2A2','#F79CB9']\n",
    "porcentajes = Precio_mean_M2['Precio_m2_mean']\n",
    "\n",
    "# Convertir la columna 'Precio_m2_mean' a números de punto flotante\n",
    "#Precio_mean_M2['Precio_m2_mean'] = Precio_mean_M2['Precio_m2_mean'].str.replace('$', '').str.replace(',', '').astype(float)\n",
    "# Convertir los valores a cadenas con el formato deseado\n",
    "textos_formateados = [f'${round(valor, 2):,.2f}' for valor in Precio_mean_M2['Precio_m2_mean']]\n",
    "\n",
    "# Crear la figura\n",
    "fig = go.Figure()\n",
    "\n",
    "# Obtener el valor máximo redondeado al próximo múltiplo de 5000\n",
    "max_valor = int(Precio_mean_M2['Precio_m2_mean'].max() / 5000 + 1) * 5000\n",
    "\n",
    "# Agregar los datos como barras\n",
    "fig.add_trace(go.Bar(\n",
    "    x=Precio_mean_M2['Rango'],  # Eje x: Modalidades\n",
    "    y=Precio_mean_M2['Precio_m2_mean'],  # Eje y: Porcentajes\n",
    "    marker_color=colores,  # Especifica los colores de las barras\n",
    "    text=textos_formateados,  # Texto que se mostrará en las barras (porcentaje)\n",
    "    textposition='inside',  # Posición del texto (puede ser 'inside' o 'outside')\n",
    "))\n",
    "\n",
    "# Personalizar el diseño de la gráfica\n",
    "fig.update_layout(\n",
    "    #title='Precio promedio por M2 totales.',  # Título de la gráfica\n",
    "    #xaxis=dict(title='Rango'),  # Título del eje x\n",
    "    yaxis=dict(\n",
    "        #title='Precio', # Título del eje y\n",
    "        gridcolor='#dddcda', # Color de las líneas que dividen los rangos del eje Y\n",
    "        gridwidth=1,\n",
    "        tickvals=list(range(0, max_valor + 5000, 5000)),  # Valores de los ticks del eje y\n",
    "        ticktext=[f'${valor:.2f}' for valor in range(0, max_valor + 5000, 5000)]  # Textos de los ticks del eje y\n",
    "    ),  \n",
    "    plot_bgcolor='rgba(0,0,0,0)',  # Color de fondo del gráfico\n",
    "    height=500,  # Altura de la gráfica\n",
    "    margin=dict(l=10, r=10, t=10, b=10)  # Ajusta los márgenes (left, right, top, bottom)\n",
    "\n",
    ")\n",
    "\n",
    "# Exportar gráfica como archivo HTML\n",
    "def guardar_grafico_como_html(fig, nombre_archivo, carpeta='graficas'):\n",
    "    # Crear la carpeta si no existe\n",
    "    if not os.path.exists(carpeta):\n",
    "        os.makedirs(carpeta)\n",
    "    # Gráfica como archivo HTML en la carpeta especificada\n",
    "    pio.write_html(fig, f'{carpeta}/{nombre_archivo}.html')\n",
    "guardar_grafico_como_html(fig, 'g_bar_PrecioPromedio-M2_tulgo', carpeta='graficas')\n",
    "fig.show()"
   ]
  },
  {
   "cell_type": "markdown",
   "metadata": {},
   "source": [
    "# **PUEBLA**"
   ]
  },
  {
   "cell_type": "code",
   "execution_count": 25,
   "metadata": {},
   "outputs": [
    {
     "name": "stdout",
     "output_type": "stream",
     "text": [
      "['df_alfa_q_puebla', 'df_feb_2024_puebla', 'df_financiamientos_2019_puebla', 'df_financiamientos_2020_puebla', 'df_financiamientos_2021_puebla', 'df_financiamientos_2022_puebla', 'df_financiamientos_2023_puebla', 'df_financiamientos_2024_puebla', 'df_grupos_edad_puebla', 'df_jul_2023_puebla', 'df_mar_2024_puebla', 'df_may_2024_puebla', 'df_publicacion_puebla', 'df_salarios_puebla', 'df_sep_2023_puebla']\n"
     ]
    }
   ],
   "source": [
    "# Seleccionar solo los DataFrames que contienen la cadena \"pachuca\"\n",
    "dfs = [df for df in nombres_df if 'puebla' in df]\n",
    "print(dfs)"
   ]
  },
  {
   "cell_type": "code",
   "execution_count": 28,
   "metadata": {},
   "outputs": [],
   "source": [
    "m_df_feb_2024_puebla = df_feb_2024_puebla[['Precio', 'Metros_total',\n",
    "       'Metros_construido', 'Precio_M2_Construido', 'Precio_M2_Terreno',]]\n",
    "m_df_jul_2023_puebla = df_jul_2023_puebla[['Precio', 'Metros_total',\n",
    "       'Metros_construido', 'Precio_M2_Construido', 'Precio_M2_Terreno',]]\n",
    "m_df_mar_2024_puebla = df_mar_2024_puebla[['Precio', 'Metros_total',\n",
    "       'Metros_construido','Precio_M2_Construido', 'Precio_M2_Terreno',]]\n",
    "m_df_may_2024_puebla = df_may_2024_puebla[['Precio', 'Metros_total',\n",
    "       'Metros_construido', 'Precio_M2_Construido', 'Precio_M2_Terreno',]]\n",
    "m_df_sep_2023_puebla = df_sep_2023_puebla[['Precio', 'Metros_total',\n",
    "       'Metros_construido', 'Precio_M2_Construido', 'Precio_M2_Terreno',]]"
   ]
  },
  {
   "cell_type": "markdown",
   "metadata": {},
   "source": [
    "### *DF CON RANGOS DE M2 Y SU PRECIO*"
   ]
  },
  {
   "cell_type": "code",
   "execution_count": 30,
   "metadata": {},
   "outputs": [
    {
     "name": "stdout",
     "output_type": "stream",
     "text": [
      "Primeros registros de nuevo DataFrame 1:\n",
      "       rango  Precio_M2_Terreno\n",
      "0  [100-150]                  0\n",
      "1  [100-150]                  0\n",
      "2  [100-150]                  0\n",
      "3  [150-200]                  0\n",
      "4  [150-200]                  0\n",
      "\n",
      "Primeros registros de nuevo DataFrame 2:\n",
      "     rango  Precio_M2_Terreno\n",
      "0  [> 300]           79225.35\n",
      "1  [> 300]           15760.44\n",
      "2  [> 300]           19308.94\n",
      "3  [> 300]           35410.76\n",
      "4  [> 300]           23358.59\n",
      "\n",
      "Primeros registros de nuevo DataFrame 3:\n",
      "     rango  Precio_M2_Terreno\n",
      "0  [0-100]           36060.61\n",
      "1  [0-100]           39205.88\n",
      "2  [0-100]           51470.59\n",
      "3  [0-100]           45945.95\n",
      "4  [0-100]           45945.95\n",
      "\n",
      "Primeros registros de nuevo DataFrame 4:\n",
      "     rango  Precio_M2_Terreno\n",
      "0  [0-100]            2397.42\n",
      "1  [0-100]            2400.00\n",
      "2  [0-100]            2121.21\n",
      "3  [0-100]            5957.45\n",
      "4  [0-100]            4538.46\n",
      "\n",
      "Primeros registros de nuevo DataFrame 5:\n",
      "     rango  Precio_M2_Terreno\n",
      "0  [0-100]           81250.00\n",
      "1  [0-100]           27659.57\n",
      "2  [0-100]           17936.17\n",
      "3  [0-100]           34042.55\n",
      "4  [0-100]           53333.33\n",
      "\n"
     ]
    }
   ],
   "source": [
    "dataframes_list = [\n",
    "    m_df_feb_2024_puebla,\n",
    "    m_df_jul_2023_puebla,\n",
    "    m_df_mar_2024_puebla,\n",
    "    m_df_may_2024_puebla,\n",
    "    m_df_sep_2023_puebla,\n",
    "]\n",
    "new_dataframes_list = []\n",
    "\n",
    "# Definir los límites de los rangos\n",
    "rangos = [0, 100, 150, 200, 250, 300, float('inf')]\n",
    "labels = ['[0-100]', '[100-150]', '[150-200]', '[200-250]', '[250-300]', '[> 300]']\n",
    "\n",
    "# Iterar sobre cada DataFrame en la lista original\n",
    "for df in dataframes_list:\n",
    "    # Crear una copia del DataFrame\n",
    "    modified_df = df.copy()\n",
    "    # Asignar el rango correspondiente a cada valor de 'm2_construido'\n",
    "    modified_df['rango'] = pd.cut(modified_df['Metros_total'], bins=rangos, labels=labels, right=False)\n",
    "    # Crear un nuevo DataFrame solo con las columnas 'rango' y 'Precio_M2_Terreno'\n",
    "    new_df = modified_df[['rango', 'Precio_M2_Terreno']].copy()\n",
    "    # Agregar el nuevo DataFrame a la lista\n",
    "    new_dataframes_list.append(new_df)\n",
    "\n",
    "# Imprimir los primeros registros de cada nuevo DataFrame\n",
    "for idx, df in enumerate(new_dataframes_list):\n",
    "    print(f\"Primeros registros de nuevo DataFrame {idx + 1}:\")\n",
    "    print(df.head())\n",
    "    print()  # Agregar una línea en blanco entre cada DataFrame\n"
   ]
  },
  {
   "cell_type": "markdown",
   "metadata": {},
   "source": [
    "### *Promedio de precio_m2_terreno por rango CADA DF* "
   ]
  },
  {
   "cell_type": "code",
   "execution_count": 32,
   "metadata": {},
   "outputs": [
    {
     "name": "stdout",
     "output_type": "stream",
     "text": [
      "Promedio de Precio_M2_Terreno por rango en el DataFrame 1:\n",
      "rango\n",
      "[0-100]      0.0\n",
      "[100-150]    0.0\n",
      "[150-200]    0.0\n",
      "[200-250]    0.0\n",
      "[250-300]    0.0\n",
      "[> 300]      0.0\n",
      "Name: Precio_M2_Terreno, dtype: float64\n",
      "\n",
      "Promedio de Precio_M2_Terreno por rango en el DataFrame 2:\n",
      "rango\n",
      "[0-100]      23015.827475\n",
      "[100-150]    25041.827041\n",
      "[150-200]    23269.600000\n",
      "[200-250]    19862.120062\n",
      "[250-300]    19267.196944\n",
      "[> 300]      17330.183374\n",
      "Name: Precio_M2_Terreno, dtype: float64\n",
      "\n",
      "Promedio de Precio_M2_Terreno por rango en el DataFrame 3:\n",
      "rango\n",
      "[0-100]      22608.289205\n",
      "[100-150]    21880.587242\n",
      "[150-200]    17889.804581\n",
      "[200-250]    14280.256158\n",
      "[250-300]    12448.194211\n",
      "[> 300]      17891.733683\n",
      "Name: Precio_M2_Terreno, dtype: float64\n",
      "\n",
      "Promedio de Precio_M2_Terreno por rango en el DataFrame 4:\n",
      "rango\n",
      "[0-100]      20646.669647\n",
      "[100-150]    21017.900655\n",
      "[150-200]    18913.017583\n",
      "[200-250]    14057.324777\n",
      "[250-300]    13603.910427\n",
      "[> 300]      18177.750848\n",
      "Name: Precio_M2_Terreno, dtype: float64\n",
      "\n",
      "Promedio de Precio_M2_Terreno por rango en el DataFrame 5:\n",
      "rango\n",
      "[0-100]      27596.106287\n",
      "[100-150]    24604.704831\n",
      "[150-200]    20753.396131\n",
      "[200-250]    19296.732387\n",
      "[250-300]    20575.395857\n",
      "[> 300]      15982.658463\n",
      "Name: Precio_M2_Terreno, dtype: float64\n",
      "\n"
     ]
    }
   ],
   "source": [
    "# Iterar sobre cada DataFrame modificado en new_dataframes_list\n",
    "for idx, df in enumerate(new_dataframes_list):\n",
    "    print(f\"Promedio de Precio_M2_Terreno por rango en el DataFrame {idx + 1}:\")\n",
    "    # Agrupar el DataFrame por la columna 'rango' y calcular el promedio de 'precio_m2_terreno' para cada grupo\n",
    "    promedios_por_rango = df.groupby('rango')['Precio_M2_Terreno'].mean()\n",
    "    print(promedios_por_rango)\n",
    "    print()  # Agregar una línea en blanco entre cada resultado"
   ]
  },
  {
   "cell_type": "code",
   "execution_count": 34,
   "metadata": {},
   "outputs": [
    {
     "name": "stdout",
     "output_type": "stream",
     "text": [
      "DataFrame 'rango_precio_m2':\n"
     ]
    },
    {
     "data": {
      "text/html": [
       "<div>\n",
       "<style scoped>\n",
       "    .dataframe tbody tr th:only-of-type {\n",
       "        vertical-align: middle;\n",
       "    }\n",
       "\n",
       "    .dataframe tbody tr th {\n",
       "        vertical-align: top;\n",
       "    }\n",
       "\n",
       "    .dataframe thead th {\n",
       "        text-align: right;\n",
       "    }\n",
       "</style>\n",
       "<table border=\"1\" class=\"dataframe\">\n",
       "  <thead>\n",
       "    <tr style=\"text-align: right;\">\n",
       "      <th></th>\n",
       "      <th>DataFrame_1</th>\n",
       "      <th>DataFrame_2</th>\n",
       "      <th>DataFrame_3</th>\n",
       "      <th>DataFrame_4</th>\n",
       "      <th>DataFrame_5</th>\n",
       "    </tr>\n",
       "    <tr>\n",
       "      <th>rango</th>\n",
       "      <th></th>\n",
       "      <th></th>\n",
       "      <th></th>\n",
       "      <th></th>\n",
       "      <th></th>\n",
       "    </tr>\n",
       "  </thead>\n",
       "  <tbody>\n",
       "    <tr>\n",
       "      <th>[0-100]</th>\n",
       "      <td>0.0</td>\n",
       "      <td>23015.827475</td>\n",
       "      <td>22608.289205</td>\n",
       "      <td>20646.669647</td>\n",
       "      <td>27596.106287</td>\n",
       "    </tr>\n",
       "    <tr>\n",
       "      <th>[100-150]</th>\n",
       "      <td>0.0</td>\n",
       "      <td>25041.827041</td>\n",
       "      <td>21880.587242</td>\n",
       "      <td>21017.900655</td>\n",
       "      <td>24604.704831</td>\n",
       "    </tr>\n",
       "    <tr>\n",
       "      <th>[150-200]</th>\n",
       "      <td>0.0</td>\n",
       "      <td>23269.600000</td>\n",
       "      <td>17889.804581</td>\n",
       "      <td>18913.017583</td>\n",
       "      <td>20753.396131</td>\n",
       "    </tr>\n",
       "    <tr>\n",
       "      <th>[200-250]</th>\n",
       "      <td>0.0</td>\n",
       "      <td>19862.120062</td>\n",
       "      <td>14280.256158</td>\n",
       "      <td>14057.324777</td>\n",
       "      <td>19296.732387</td>\n",
       "    </tr>\n",
       "    <tr>\n",
       "      <th>[250-300]</th>\n",
       "      <td>0.0</td>\n",
       "      <td>19267.196944</td>\n",
       "      <td>12448.194211</td>\n",
       "      <td>13603.910427</td>\n",
       "      <td>20575.395857</td>\n",
       "    </tr>\n",
       "    <tr>\n",
       "      <th>[&gt; 300]</th>\n",
       "      <td>0.0</td>\n",
       "      <td>17330.183374</td>\n",
       "      <td>17891.733683</td>\n",
       "      <td>18177.750848</td>\n",
       "      <td>15982.658463</td>\n",
       "    </tr>\n",
       "  </tbody>\n",
       "</table>\n",
       "</div>"
      ],
      "text/plain": [
       "           DataFrame_1   DataFrame_2   DataFrame_3   DataFrame_4   DataFrame_5\n",
       "rango                                                                         \n",
       "[0-100]            0.0  23015.827475  22608.289205  20646.669647  27596.106287\n",
       "[100-150]          0.0  25041.827041  21880.587242  21017.900655  24604.704831\n",
       "[150-200]          0.0  23269.600000  17889.804581  18913.017583  20753.396131\n",
       "[200-250]          0.0  19862.120062  14280.256158  14057.324777  19296.732387\n",
       "[250-300]          0.0  19267.196944  12448.194211  13603.910427  20575.395857\n",
       "[> 300]            0.0  17330.183374  17891.733683  18177.750848  15982.658463"
      ]
     },
     "execution_count": 34,
     "metadata": {},
     "output_type": "execute_result"
    }
   ],
   "source": [
    "# Inicializar un diccionario para almacenar los promedios de precio por metro cuadrado para cada rango\n",
    "promedios_por_rango_dict = {}\n",
    "# Iterar sobre cada DataFrame modificado en new_dataframes_list\n",
    "for idx, df in enumerate(new_dataframes_list):\n",
    "    # Agrupar el DataFrame por la columna 'rango' y calcular el promedio de 'precio_m2_terreno' para cada grupo\n",
    "    promedios_por_rango = df.groupby('rango')['Precio_M2_Terreno'].mean()\n",
    "    # Actualizar el diccionario con los promedios calculados\n",
    "    promedios_por_rango_dict[f'DataFrame_{idx + 1}'] = promedios_por_rango\n",
    "\n",
    "# Convertir el diccionario en un DataFrame\n",
    "rango_precio_m2 = pd.DataFrame(promedios_por_rango_dict)\n",
    "print(\"DataFrame 'rango_precio_m2':\")\n",
    "rango_precio_m2"
   ]
  },
  {
   "cell_type": "code",
   "execution_count": 35,
   "metadata": {},
   "outputs": [
    {
     "name": "stdout",
     "output_type": "stream",
     "text": [
      "DataFrame 'Precio_mean_M2':\n"
     ]
    },
    {
     "data": {
      "text/html": [
       "<div>\n",
       "<style scoped>\n",
       "    .dataframe tbody tr th:only-of-type {\n",
       "        vertical-align: middle;\n",
       "    }\n",
       "\n",
       "    .dataframe tbody tr th {\n",
       "        vertical-align: top;\n",
       "    }\n",
       "\n",
       "    .dataframe thead th {\n",
       "        text-align: right;\n",
       "    }\n",
       "</style>\n",
       "<table border=\"1\" class=\"dataframe\">\n",
       "  <thead>\n",
       "    <tr style=\"text-align: right;\">\n",
       "      <th></th>\n",
       "      <th>Rango</th>\n",
       "      <th>Precio_m2_mean</th>\n",
       "    </tr>\n",
       "  </thead>\n",
       "  <tbody>\n",
       "    <tr>\n",
       "      <th>0</th>\n",
       "      <td>[0-100]</td>\n",
       "      <td>18773.378523</td>\n",
       "    </tr>\n",
       "    <tr>\n",
       "      <th>1</th>\n",
       "      <td>[100-150]</td>\n",
       "      <td>18509.003954</td>\n",
       "    </tr>\n",
       "    <tr>\n",
       "      <th>2</th>\n",
       "      <td>[150-200]</td>\n",
       "      <td>16165.163659</td>\n",
       "    </tr>\n",
       "    <tr>\n",
       "      <th>3</th>\n",
       "      <td>[200-250]</td>\n",
       "      <td>13499.286677</td>\n",
       "    </tr>\n",
       "    <tr>\n",
       "      <th>4</th>\n",
       "      <td>[250-300]</td>\n",
       "      <td>13178.939488</td>\n",
       "    </tr>\n",
       "    <tr>\n",
       "      <th>5</th>\n",
       "      <td>[&gt; 300]</td>\n",
       "      <td>13876.465274</td>\n",
       "    </tr>\n",
       "  </tbody>\n",
       "</table>\n",
       "</div>"
      ],
      "text/plain": [
       "       Rango  Precio_m2_mean\n",
       "0    [0-100]    18773.378523\n",
       "1  [100-150]    18509.003954\n",
       "2  [150-200]    16165.163659\n",
       "3  [200-250]    13499.286677\n",
       "4  [250-300]    13178.939488\n",
       "5    [> 300]    13876.465274"
      ]
     },
     "execution_count": 35,
     "metadata": {},
     "output_type": "execute_result"
    }
   ],
   "source": [
    "# Calcular el promedio general de cada rango en todas las columnas de rango_precio_m2\n",
    "promedio_general_por_rango = rango_precio_m2.mean(axis=1)\n",
    "# Crear un nuevo DataFrame 'Precio_mean_M2' con los rangos y sus promedios generales\n",
    "Precio_mean_M2 = pd.DataFrame({'Rango': promedio_general_por_rango.index, 'Precio_m2_mean': promedio_general_por_rango.values})\n",
    "\n",
    "print(\"DataFrame 'Precio_mean_M2':\")\n",
    "Precio_mean_M2"
   ]
  },
  {
   "cell_type": "markdown",
   "metadata": {},
   "source": [
    "#### ***GRÁFICA***"
   ]
  },
  {
   "cell_type": "code",
   "execution_count": 36,
   "metadata": {},
   "outputs": [
    {
     "data": {
      "application/vnd.plotly.v1+json": {
       "config": {
        "plotlyServerURL": "https://plot.ly"
       },
       "data": [
        {
         "marker": {
          "color": [
           "#2962ff",
           "#9500ff",
           "#ff0059",
           "#ff8c00",
           "#b4e600",
           "#2EC2A2",
           "#F79CB9"
          ]
         },
         "text": [
          "$18,773.38",
          "$18,509.00",
          "$16,165.16",
          "$13,499.29",
          "$13,178.94",
          "$13,876.47"
         ],
         "textposition": "inside",
         "type": "bar",
         "x": [
          "[0-100]",
          "[100-150]",
          "[150-200]",
          "[200-250]",
          "[250-300]",
          "[> 300]"
         ],
         "y": [
          18773.37852263592,
          18509.00395387506,
          16165.163659252441,
          13499.286676674343,
          13178.939487730779,
          13876.465273521104
         ]
        }
       ],
       "layout": {
        "height": 500,
        "margin": {
         "b": 10,
         "l": 10,
         "r": 10,
         "t": 10
        },
        "plot_bgcolor": "rgba(0,0,0,0)",
        "template": {
         "data": {
          "bar": [
           {
            "error_x": {
             "color": "#2a3f5f"
            },
            "error_y": {
             "color": "#2a3f5f"
            },
            "marker": {
             "line": {
              "color": "#E5ECF6",
              "width": 0.5
             },
             "pattern": {
              "fillmode": "overlay",
              "size": 10,
              "solidity": 0.2
             }
            },
            "type": "bar"
           }
          ],
          "barpolar": [
           {
            "marker": {
             "line": {
              "color": "#E5ECF6",
              "width": 0.5
             },
             "pattern": {
              "fillmode": "overlay",
              "size": 10,
              "solidity": 0.2
             }
            },
            "type": "barpolar"
           }
          ],
          "carpet": [
           {
            "aaxis": {
             "endlinecolor": "#2a3f5f",
             "gridcolor": "white",
             "linecolor": "white",
             "minorgridcolor": "white",
             "startlinecolor": "#2a3f5f"
            },
            "baxis": {
             "endlinecolor": "#2a3f5f",
             "gridcolor": "white",
             "linecolor": "white",
             "minorgridcolor": "white",
             "startlinecolor": "#2a3f5f"
            },
            "type": "carpet"
           }
          ],
          "choropleth": [
           {
            "colorbar": {
             "outlinewidth": 0,
             "ticks": ""
            },
            "type": "choropleth"
           }
          ],
          "contour": [
           {
            "colorbar": {
             "outlinewidth": 0,
             "ticks": ""
            },
            "colorscale": [
             [
              0,
              "#0d0887"
             ],
             [
              0.1111111111111111,
              "#46039f"
             ],
             [
              0.2222222222222222,
              "#7201a8"
             ],
             [
              0.3333333333333333,
              "#9c179e"
             ],
             [
              0.4444444444444444,
              "#bd3786"
             ],
             [
              0.5555555555555556,
              "#d8576b"
             ],
             [
              0.6666666666666666,
              "#ed7953"
             ],
             [
              0.7777777777777778,
              "#fb9f3a"
             ],
             [
              0.8888888888888888,
              "#fdca26"
             ],
             [
              1,
              "#f0f921"
             ]
            ],
            "type": "contour"
           }
          ],
          "contourcarpet": [
           {
            "colorbar": {
             "outlinewidth": 0,
             "ticks": ""
            },
            "type": "contourcarpet"
           }
          ],
          "heatmap": [
           {
            "colorbar": {
             "outlinewidth": 0,
             "ticks": ""
            },
            "colorscale": [
             [
              0,
              "#0d0887"
             ],
             [
              0.1111111111111111,
              "#46039f"
             ],
             [
              0.2222222222222222,
              "#7201a8"
             ],
             [
              0.3333333333333333,
              "#9c179e"
             ],
             [
              0.4444444444444444,
              "#bd3786"
             ],
             [
              0.5555555555555556,
              "#d8576b"
             ],
             [
              0.6666666666666666,
              "#ed7953"
             ],
             [
              0.7777777777777778,
              "#fb9f3a"
             ],
             [
              0.8888888888888888,
              "#fdca26"
             ],
             [
              1,
              "#f0f921"
             ]
            ],
            "type": "heatmap"
           }
          ],
          "heatmapgl": [
           {
            "colorbar": {
             "outlinewidth": 0,
             "ticks": ""
            },
            "colorscale": [
             [
              0,
              "#0d0887"
             ],
             [
              0.1111111111111111,
              "#46039f"
             ],
             [
              0.2222222222222222,
              "#7201a8"
             ],
             [
              0.3333333333333333,
              "#9c179e"
             ],
             [
              0.4444444444444444,
              "#bd3786"
             ],
             [
              0.5555555555555556,
              "#d8576b"
             ],
             [
              0.6666666666666666,
              "#ed7953"
             ],
             [
              0.7777777777777778,
              "#fb9f3a"
             ],
             [
              0.8888888888888888,
              "#fdca26"
             ],
             [
              1,
              "#f0f921"
             ]
            ],
            "type": "heatmapgl"
           }
          ],
          "histogram": [
           {
            "marker": {
             "pattern": {
              "fillmode": "overlay",
              "size": 10,
              "solidity": 0.2
             }
            },
            "type": "histogram"
           }
          ],
          "histogram2d": [
           {
            "colorbar": {
             "outlinewidth": 0,
             "ticks": ""
            },
            "colorscale": [
             [
              0,
              "#0d0887"
             ],
             [
              0.1111111111111111,
              "#46039f"
             ],
             [
              0.2222222222222222,
              "#7201a8"
             ],
             [
              0.3333333333333333,
              "#9c179e"
             ],
             [
              0.4444444444444444,
              "#bd3786"
             ],
             [
              0.5555555555555556,
              "#d8576b"
             ],
             [
              0.6666666666666666,
              "#ed7953"
             ],
             [
              0.7777777777777778,
              "#fb9f3a"
             ],
             [
              0.8888888888888888,
              "#fdca26"
             ],
             [
              1,
              "#f0f921"
             ]
            ],
            "type": "histogram2d"
           }
          ],
          "histogram2dcontour": [
           {
            "colorbar": {
             "outlinewidth": 0,
             "ticks": ""
            },
            "colorscale": [
             [
              0,
              "#0d0887"
             ],
             [
              0.1111111111111111,
              "#46039f"
             ],
             [
              0.2222222222222222,
              "#7201a8"
             ],
             [
              0.3333333333333333,
              "#9c179e"
             ],
             [
              0.4444444444444444,
              "#bd3786"
             ],
             [
              0.5555555555555556,
              "#d8576b"
             ],
             [
              0.6666666666666666,
              "#ed7953"
             ],
             [
              0.7777777777777778,
              "#fb9f3a"
             ],
             [
              0.8888888888888888,
              "#fdca26"
             ],
             [
              1,
              "#f0f921"
             ]
            ],
            "type": "histogram2dcontour"
           }
          ],
          "mesh3d": [
           {
            "colorbar": {
             "outlinewidth": 0,
             "ticks": ""
            },
            "type": "mesh3d"
           }
          ],
          "parcoords": [
           {
            "line": {
             "colorbar": {
              "outlinewidth": 0,
              "ticks": ""
             }
            },
            "type": "parcoords"
           }
          ],
          "pie": [
           {
            "automargin": true,
            "type": "pie"
           }
          ],
          "scatter": [
           {
            "fillpattern": {
             "fillmode": "overlay",
             "size": 10,
             "solidity": 0.2
            },
            "type": "scatter"
           }
          ],
          "scatter3d": [
           {
            "line": {
             "colorbar": {
              "outlinewidth": 0,
              "ticks": ""
             }
            },
            "marker": {
             "colorbar": {
              "outlinewidth": 0,
              "ticks": ""
             }
            },
            "type": "scatter3d"
           }
          ],
          "scattercarpet": [
           {
            "marker": {
             "colorbar": {
              "outlinewidth": 0,
              "ticks": ""
             }
            },
            "type": "scattercarpet"
           }
          ],
          "scattergeo": [
           {
            "marker": {
             "colorbar": {
              "outlinewidth": 0,
              "ticks": ""
             }
            },
            "type": "scattergeo"
           }
          ],
          "scattergl": [
           {
            "marker": {
             "colorbar": {
              "outlinewidth": 0,
              "ticks": ""
             }
            },
            "type": "scattergl"
           }
          ],
          "scattermapbox": [
           {
            "marker": {
             "colorbar": {
              "outlinewidth": 0,
              "ticks": ""
             }
            },
            "type": "scattermapbox"
           }
          ],
          "scatterpolar": [
           {
            "marker": {
             "colorbar": {
              "outlinewidth": 0,
              "ticks": ""
             }
            },
            "type": "scatterpolar"
           }
          ],
          "scatterpolargl": [
           {
            "marker": {
             "colorbar": {
              "outlinewidth": 0,
              "ticks": ""
             }
            },
            "type": "scatterpolargl"
           }
          ],
          "scatterternary": [
           {
            "marker": {
             "colorbar": {
              "outlinewidth": 0,
              "ticks": ""
             }
            },
            "type": "scatterternary"
           }
          ],
          "surface": [
           {
            "colorbar": {
             "outlinewidth": 0,
             "ticks": ""
            },
            "colorscale": [
             [
              0,
              "#0d0887"
             ],
             [
              0.1111111111111111,
              "#46039f"
             ],
             [
              0.2222222222222222,
              "#7201a8"
             ],
             [
              0.3333333333333333,
              "#9c179e"
             ],
             [
              0.4444444444444444,
              "#bd3786"
             ],
             [
              0.5555555555555556,
              "#d8576b"
             ],
             [
              0.6666666666666666,
              "#ed7953"
             ],
             [
              0.7777777777777778,
              "#fb9f3a"
             ],
             [
              0.8888888888888888,
              "#fdca26"
             ],
             [
              1,
              "#f0f921"
             ]
            ],
            "type": "surface"
           }
          ],
          "table": [
           {
            "cells": {
             "fill": {
              "color": "#EBF0F8"
             },
             "line": {
              "color": "white"
             }
            },
            "header": {
             "fill": {
              "color": "#C8D4E3"
             },
             "line": {
              "color": "white"
             }
            },
            "type": "table"
           }
          ]
         },
         "layout": {
          "annotationdefaults": {
           "arrowcolor": "#2a3f5f",
           "arrowhead": 0,
           "arrowwidth": 1
          },
          "autotypenumbers": "strict",
          "coloraxis": {
           "colorbar": {
            "outlinewidth": 0,
            "ticks": ""
           }
          },
          "colorscale": {
           "diverging": [
            [
             0,
             "#8e0152"
            ],
            [
             0.1,
             "#c51b7d"
            ],
            [
             0.2,
             "#de77ae"
            ],
            [
             0.3,
             "#f1b6da"
            ],
            [
             0.4,
             "#fde0ef"
            ],
            [
             0.5,
             "#f7f7f7"
            ],
            [
             0.6,
             "#e6f5d0"
            ],
            [
             0.7,
             "#b8e186"
            ],
            [
             0.8,
             "#7fbc41"
            ],
            [
             0.9,
             "#4d9221"
            ],
            [
             1,
             "#276419"
            ]
           ],
           "sequential": [
            [
             0,
             "#0d0887"
            ],
            [
             0.1111111111111111,
             "#46039f"
            ],
            [
             0.2222222222222222,
             "#7201a8"
            ],
            [
             0.3333333333333333,
             "#9c179e"
            ],
            [
             0.4444444444444444,
             "#bd3786"
            ],
            [
             0.5555555555555556,
             "#d8576b"
            ],
            [
             0.6666666666666666,
             "#ed7953"
            ],
            [
             0.7777777777777778,
             "#fb9f3a"
            ],
            [
             0.8888888888888888,
             "#fdca26"
            ],
            [
             1,
             "#f0f921"
            ]
           ],
           "sequentialminus": [
            [
             0,
             "#0d0887"
            ],
            [
             0.1111111111111111,
             "#46039f"
            ],
            [
             0.2222222222222222,
             "#7201a8"
            ],
            [
             0.3333333333333333,
             "#9c179e"
            ],
            [
             0.4444444444444444,
             "#bd3786"
            ],
            [
             0.5555555555555556,
             "#d8576b"
            ],
            [
             0.6666666666666666,
             "#ed7953"
            ],
            [
             0.7777777777777778,
             "#fb9f3a"
            ],
            [
             0.8888888888888888,
             "#fdca26"
            ],
            [
             1,
             "#f0f921"
            ]
           ]
          },
          "colorway": [
           "#636efa",
           "#EF553B",
           "#00cc96",
           "#ab63fa",
           "#FFA15A",
           "#19d3f3",
           "#FF6692",
           "#B6E880",
           "#FF97FF",
           "#FECB52"
          ],
          "font": {
           "color": "#2a3f5f"
          },
          "geo": {
           "bgcolor": "white",
           "lakecolor": "white",
           "landcolor": "#E5ECF6",
           "showlakes": true,
           "showland": true,
           "subunitcolor": "white"
          },
          "hoverlabel": {
           "align": "left"
          },
          "hovermode": "closest",
          "mapbox": {
           "style": "light"
          },
          "paper_bgcolor": "white",
          "plot_bgcolor": "#E5ECF6",
          "polar": {
           "angularaxis": {
            "gridcolor": "white",
            "linecolor": "white",
            "ticks": ""
           },
           "bgcolor": "#E5ECF6",
           "radialaxis": {
            "gridcolor": "white",
            "linecolor": "white",
            "ticks": ""
           }
          },
          "scene": {
           "xaxis": {
            "backgroundcolor": "#E5ECF6",
            "gridcolor": "white",
            "gridwidth": 2,
            "linecolor": "white",
            "showbackground": true,
            "ticks": "",
            "zerolinecolor": "white"
           },
           "yaxis": {
            "backgroundcolor": "#E5ECF6",
            "gridcolor": "white",
            "gridwidth": 2,
            "linecolor": "white",
            "showbackground": true,
            "ticks": "",
            "zerolinecolor": "white"
           },
           "zaxis": {
            "backgroundcolor": "#E5ECF6",
            "gridcolor": "white",
            "gridwidth": 2,
            "linecolor": "white",
            "showbackground": true,
            "ticks": "",
            "zerolinecolor": "white"
           }
          },
          "shapedefaults": {
           "line": {
            "color": "#2a3f5f"
           }
          },
          "ternary": {
           "aaxis": {
            "gridcolor": "white",
            "linecolor": "white",
            "ticks": ""
           },
           "baxis": {
            "gridcolor": "white",
            "linecolor": "white",
            "ticks": ""
           },
           "bgcolor": "#E5ECF6",
           "caxis": {
            "gridcolor": "white",
            "linecolor": "white",
            "ticks": ""
           }
          },
          "title": {
           "x": 0.05
          },
          "xaxis": {
           "automargin": true,
           "gridcolor": "white",
           "linecolor": "white",
           "ticks": "",
           "title": {
            "standoff": 15
           },
           "zerolinecolor": "white",
           "zerolinewidth": 2
          },
          "yaxis": {
           "automargin": true,
           "gridcolor": "white",
           "linecolor": "white",
           "ticks": "",
           "title": {
            "standoff": 15
           },
           "zerolinecolor": "white",
           "zerolinewidth": 2
          }
         }
        },
        "yaxis": {
         "gridcolor": "#dddcda",
         "gridwidth": 1,
         "ticktext": [
          "$0.00",
          "$5000.00",
          "$10000.00",
          "$15000.00",
          "$20000.00"
         ],
         "tickvals": [
          0,
          5000,
          10000,
          15000,
          20000
         ]
        }
       }
      }
     },
     "metadata": {},
     "output_type": "display_data"
    }
   ],
   "source": [
    "colores = ['#2962ff', '#9500ff', '#ff0059', '#ff8c00', '#b4e600', '#2EC2A2','#F79CB9']\n",
    "porcentajes = Precio_mean_M2['Precio_m2_mean']\n",
    "\n",
    "# Convertir la columna 'Precio_m2_mean' a números de punto flotante\n",
    "#Precio_mean_M2['Precio_m2_mean'] = Precio_mean_M2['Precio_m2_mean'].str.replace('$', '').str.replace(',', '').astype(float)\n",
    "# Convertir los valores a cadenas con el formato deseado\n",
    "textos_formateados = [f'${round(valor, 2):,.2f}' for valor in Precio_mean_M2['Precio_m2_mean']]\n",
    "\n",
    "# Crear la figura\n",
    "fig = go.Figure()\n",
    "\n",
    "# Obtener el valor máximo redondeado al próximo múltiplo de 5000\n",
    "max_valor = int(Precio_mean_M2['Precio_m2_mean'].max() / 5000 + 1) * 5000\n",
    "\n",
    "# Agregar los datos como barras\n",
    "fig.add_trace(go.Bar(\n",
    "    x=Precio_mean_M2['Rango'],  # Eje x: Modalidades\n",
    "    y=Precio_mean_M2['Precio_m2_mean'],  # Eje y: Porcentajes\n",
    "    marker_color=colores,  # Especifica los colores de las barras\n",
    "    text=textos_formateados,  # Texto que se mostrará en las barras (porcentaje)\n",
    "    textposition='inside',  # Posición del texto (puede ser 'inside' o 'outside')\n",
    "))\n",
    "\n",
    "# Personalizar el diseño de la gráfica\n",
    "fig.update_layout(\n",
    "    #title='Precio promedio por M2 totales.',  # Título de la gráfica\n",
    "    #xaxis=dict(title='Rango'),  # Título del eje x\n",
    "    yaxis=dict(\n",
    "        #title='Precio', # Título del eje y\n",
    "        gridcolor='#dddcda', # Color de las líneas que dividen los rangos del eje Y\n",
    "        gridwidth=1,\n",
    "        tickvals=list(range(0, max_valor + 5000, 5000)),  # Valores de los ticks del eje y\n",
    "        ticktext=[f'${valor:.2f}' for valor in range(0, max_valor + 5000, 5000)]  # Textos de los ticks del eje y\n",
    "    ),  \n",
    "    plot_bgcolor='rgba(0,0,0,0)',  # Color de fondo del gráfico\n",
    "    height=500,  # Altura de la gráfica\n",
    "    margin=dict(l=10, r=10, t=10, b=10)  # Ajusta los márgenes (left, right, top, bottom)\n",
    ")\n",
    "\n",
    "# Exportar gráfica como archivo HTML\n",
    "def guardar_grafico_como_html(fig, nombre_archivo, carpeta='graficas'):\n",
    "    # Crear la carpeta si no existe\n",
    "    if not os.path.exists(carpeta):\n",
    "        os.makedirs(carpeta)\n",
    "    \n",
    "    # Gráfica como archivo HTML en la carpeta especificada\n",
    "    pio.write_html(fig, f'{carpeta}/{nombre_archivo}.html')\n",
    "\n",
    "# Exportar\n",
    "guardar_grafico_como_html(fig, 'g_bar_PrecioPromedio-M2_pueb', carpeta='graficas')\n",
    "fig.show()\n"
   ]
  },
  {
   "cell_type": "markdown",
   "metadata": {},
   "source": []
  }
 ],
 "metadata": {
  "kernelspec": {
   "display_name": "base",
   "language": "python",
   "name": "python3"
  },
  "language_info": {
   "codemirror_mode": {
    "name": "ipython",
    "version": 3
   },
   "file_extension": ".py",
   "mimetype": "text/x-python",
   "name": "python",
   "nbconvert_exporter": "python",
   "pygments_lexer": "ipython3",
   "version": "3.9.13"
  }
 },
 "nbformat": 4,
 "nbformat_minor": 2
}
