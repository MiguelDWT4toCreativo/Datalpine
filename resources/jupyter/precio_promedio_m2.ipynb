{
 "cells": [
  {
   "cell_type": "markdown",
   "metadata": {},
   "source": [
    "# ***Precio Promedio por M2 cuadrados***"
   ]
  },
  {
   "cell_type": "code",
   "execution_count": 1,
   "metadata": {},
   "outputs": [],
   "source": [
    "# Manejo de datos\n",
    "import os # Directorios\n",
    "import pandas as pd # Manipulación df\n",
    "# Gráficas\n",
    "import plotly.graph_objects as go #Para obtener librería usar: pip install plotly\n",
    "from plotly.subplots import make_subplots\n",
    "import plotly.io as pio # Exportar gráfica"
   ]
  },
  {
   "cell_type": "code",
   "execution_count": 2,
   "metadata": {},
   "outputs": [],
   "source": [
    "# Obtener el directorio actual de trabajo\n",
    "directorio_actual = os.getcwd()\n",
    "# Directorio donde se encuentran los archivos JSON (ruta relativa)\n",
    "directorio_json = os.path.join(directorio_actual, 'datos_json')\n",
    "#print(\"Directorio JSON relativo:\", directorio_json)\n",
    "# Obtener la lista de archivos JSON en el directorio\n",
    "archivos_json = os.listdir(directorio_json)"
   ]
  },
  {
   "cell_type": "markdown",
   "metadata": {},
   "source": [
    "### *Creación de los df por cada archivo json*"
   ]
  },
  {
   "cell_type": "code",
   "execution_count": 3,
   "metadata": {},
   "outputs": [],
   "source": [
    "dataframes = {}\n",
    "# Iterar sobre cada archivo JSON y crear un DataFrame\n",
    "for archivo in archivos_json:\n",
    "    # Obtener el nombre de la tabla del nombre del archivo\n",
    "    nombre_tabla = archivo.replace('datos_', '').replace('.json', '')    \n",
    "    # Cargar el archivo JSON en un DataFrame y asignarlo a una variable con un nombre dinámico\n",
    "    ruta_json = os.path.join(directorio_json, archivo)\n",
    "    globals()[f\"df_{nombre_tabla}\"] = pd.read_json(ruta_json)"
   ]
  },
  {
   "cell_type": "code",
   "execution_count": 4,
   "metadata": {},
   "outputs": [
    {
     "name": "stdout",
     "output_type": "stream",
     "text": [
      "Lista de DataFrames creados:\n",
      "['df_alfa_q_feb_2023_pachuca', 'df_alfa_q_jul_2022_tulancingo', 'df_alfa_q_jul_2023_pachuca', 'df_alfa_q_jul_2023_tulancingo', 'df_alfa_q_jun_2023_pachuca', 'df_alfa_q_jun_2023_tulancingo', 'df_alfa_q_mar_2023_pachuca', 'df_alfa_q_mar_2023_tulancingo', 'df_alfa_q_may_2022_tulancingo', 'df_alfa_q_may_2023_tulancingo', 'df_alfa_q_nov_2022_pachuca', 'df_alfa_q_oct_2022_pachuca', 'df_alfa_q_oct_2022_tulancingo', 'df_alfa_q_oct_2023_tulancingo', 'df_alfa_q_puebla', 'df_alfa_q_sep_2023_pachuca', 'df_alfa_q_sep_2023_tulancingo', 'df_enero_2024_querertaro', 'df_financiamientos_2019_pachuca', 'df_financiamientos_2019_puebla', 'df_financiamientos_2019_tulancingo', 'df_financiamientos_2020_pachuca', 'df_financiamientos_2020_puebla', 'df_financiamientos_2020_tulancingo', 'df_financiamientos_2021_pachuca', 'df_financiamientos_2021_puebla', 'df_financiamientos_2021_tulancingo', 'df_financiamientos_2022_pachuca', 'df_financiamientos_2022_puebla', 'df_financiamientos_2022_tulancingo', 'df_financiamientos_2023_pachuca', 'df_financiamientos_2023_puebla', 'df_financiamientos_2023_tulancingo', 'df_grupos_edad_pachuca', 'df_grupos_edad_puebla', 'df_grupos_edad_queretaro', 'df_grupos_edad_tulancingo', 'df_jul_2023_puebla', 'df_junio_2023_queretaro', 'df_publicacion_pachuca', 'df_publicacion_puebla', 'df_salarios_pachuca', 'df_salarios_puebla', 'df_sep_2023_puebla', 'df_tiempo_dias_tulancingo', 'df_usuarios']\n"
     ]
    }
   ],
   "source": [
    "# Obtener todos los nombres de las variables globales\n",
    "nombres_variables_globales = list(globals().keys())\n",
    "# Filtrar los nombres, solo aquellos que comienzan con \"df_\"\n",
    "nombres_df = [nombre for nombre in nombres_variables_globales if nombre.startswith(\"df_\")]\n",
    "\n",
    "# Lista de nombres de los DataFrames creados\n",
    "print(\"Lista de DataFrames creados:\")\n",
    "print(nombres_df)"
   ]
  },
  {
   "cell_type": "markdown",
   "metadata": {},
   "source": [
    "#### precio_m2_terreno\n",
    "#### m2_total"
   ]
  },
  {
   "cell_type": "code",
   "execution_count": 5,
   "metadata": {},
   "outputs": [
    {
     "data": {
      "text/html": [
       "<div>\n",
       "<style scoped>\n",
       "    .dataframe tbody tr th:only-of-type {\n",
       "        vertical-align: middle;\n",
       "    }\n",
       "\n",
       "    .dataframe tbody tr th {\n",
       "        vertical-align: top;\n",
       "    }\n",
       "\n",
       "    .dataframe thead th {\n",
       "        text-align: right;\n",
       "    }\n",
       "</style>\n",
       "<table border=\"1\" class=\"dataframe\">\n",
       "  <thead>\n",
       "    <tr style=\"text-align: right;\">\n",
       "      <th></th>\n",
       "      <th>precio</th>\n",
       "      <th>m2_total</th>\n",
       "      <th>m2_contruido</th>\n",
       "      <th>precio_m2_contruido</th>\n",
       "      <th>precio_m2_terreno</th>\n",
       "    </tr>\n",
       "  </thead>\n",
       "  <tbody>\n",
       "    <tr>\n",
       "      <th>0</th>\n",
       "      <td>575000.00</td>\n",
       "      <td>45</td>\n",
       "      <td>50</td>\n",
       "      <td>11500.00</td>\n",
       "      <td>12777.78</td>\n",
       "    </tr>\n",
       "    <tr>\n",
       "      <th>1</th>\n",
       "      <td>600000.00</td>\n",
       "      <td>46</td>\n",
       "      <td>100</td>\n",
       "      <td>6000.00</td>\n",
       "      <td>13043.48</td>\n",
       "    </tr>\n",
       "    <tr>\n",
       "      <th>2</th>\n",
       "      <td>550000.00</td>\n",
       "      <td>48</td>\n",
       "      <td>48</td>\n",
       "      <td>11458.33</td>\n",
       "      <td>11458.33</td>\n",
       "    </tr>\n",
       "    <tr>\n",
       "      <th>3</th>\n",
       "      <td>751000.00</td>\n",
       "      <td>48</td>\n",
       "      <td>48</td>\n",
       "      <td>15500.52</td>\n",
       "      <td>15500.52</td>\n",
       "    </tr>\n",
       "    <tr>\n",
       "      <th>4</th>\n",
       "      <td>450000.00</td>\n",
       "      <td>50</td>\n",
       "      <td>55</td>\n",
       "      <td>8181.82</td>\n",
       "      <td>9000.00</td>\n",
       "    </tr>\n",
       "    <tr>\n",
       "      <th>...</th>\n",
       "      <td>...</td>\n",
       "      <td>...</td>\n",
       "      <td>...</td>\n",
       "      <td>...</td>\n",
       "      <td>...</td>\n",
       "    </tr>\n",
       "    <tr>\n",
       "      <th>1677</th>\n",
       "      <td>999999.99</td>\n",
       "      <td>1</td>\n",
       "      <td>1100</td>\n",
       "      <td>25909.09</td>\n",
       "      <td>28500.00</td>\n",
       "    </tr>\n",
       "    <tr>\n",
       "      <th>1678</th>\n",
       "      <td>999999.99</td>\n",
       "      <td>1</td>\n",
       "      <td>267</td>\n",
       "      <td>6928.84</td>\n",
       "      <td>1480.00</td>\n",
       "    </tr>\n",
       "    <tr>\n",
       "      <th>1679</th>\n",
       "      <td>999999.99</td>\n",
       "      <td>1</td>\n",
       "      <td>381</td>\n",
       "      <td>22309.71</td>\n",
       "      <td>6698.19</td>\n",
       "    </tr>\n",
       "    <tr>\n",
       "      <th>1680</th>\n",
       "      <td>999999.99</td>\n",
       "      <td>1</td>\n",
       "      <td>747</td>\n",
       "      <td>27443.11</td>\n",
       "      <td>14265.83</td>\n",
       "    </tr>\n",
       "    <tr>\n",
       "      <th>1681</th>\n",
       "      <td>999999.99</td>\n",
       "      <td>1</td>\n",
       "      <td>700</td>\n",
       "      <td>27142.86</td>\n",
       "      <td>12925.17</td>\n",
       "    </tr>\n",
       "  </tbody>\n",
       "</table>\n",
       "<p>1682 rows × 5 columns</p>\n",
       "</div>"
      ],
      "text/plain": [
       "         precio  m2_total  m2_contruido  precio_m2_contruido  \\\n",
       "0     575000.00        45            50             11500.00   \n",
       "1     600000.00        46           100              6000.00   \n",
       "2     550000.00        48            48             11458.33   \n",
       "3     751000.00        48            48             15500.52   \n",
       "4     450000.00        50            55              8181.82   \n",
       "...         ...       ...           ...                  ...   \n",
       "1677  999999.99         1          1100             25909.09   \n",
       "1678  999999.99         1           267              6928.84   \n",
       "1679  999999.99         1           381             22309.71   \n",
       "1680  999999.99         1           747             27443.11   \n",
       "1681  999999.99         1           700             27142.86   \n",
       "\n",
       "      precio_m2_terreno  \n",
       "0              12777.78  \n",
       "1              13043.48  \n",
       "2              11458.33  \n",
       "3              15500.52  \n",
       "4               9000.00  \n",
       "...                 ...  \n",
       "1677           28500.00  \n",
       "1678            1480.00  \n",
       "1679            6698.19  \n",
       "1680           14265.83  \n",
       "1681           12925.17  \n",
       "\n",
       "[1682 rows x 5 columns]"
      ]
     },
     "execution_count": 5,
     "metadata": {},
     "output_type": "execute_result"
    }
   ],
   "source": [
    "df_alfa_q_oct_2022_pachuca[['precio', 'm2_total',\n",
    "       'm2_contruido', 'precio_m2_contruido', 'precio_m2_terreno',]]"
   ]
  },
  {
   "cell_type": "markdown",
   "metadata": {},
   "source": [
    "________\n",
    "## *Selección de datos*"
   ]
  },
  {
   "cell_type": "code",
   "execution_count": 6,
   "metadata": {},
   "outputs": [],
   "source": [
    "m2_df_alfa_q_oct_2022_pachuca = df_alfa_q_oct_2022_pachuca[['precio', 'm2_total',\n",
    "       'm2_contruido', 'precio_m2_contruido', 'precio_m2_terreno',]]\n",
    "m2_df_alfa_q_nov_2022_pachuca = df_alfa_q_nov_2022_pachuca[['precio', 'm2_total',\n",
    "       'm2_contruido', 'precio_m2_contruido', 'precio_m2_terreno',]]\n",
    "m2_df_alfa_q_feb_2023_pachuca = df_alfa_q_feb_2023_pachuca[['precio', 'm2_total',\n",
    "       'm2_contruido','precio_m2_contruido', 'precio_m2_terreno',]]\n",
    "m2_df_alfa_q_mar_2023_pachuca = df_alfa_q_mar_2023_pachuca[['precio', 'm2_total',\n",
    "       'm2_contruido', 'precio_m2_contruido', 'precio_m2_terreno',]]\n",
    "m2_df_alfa_q_jun_2023_pachuca = df_alfa_q_jun_2023_pachuca[['precio', 'm2_total',\n",
    "       'm2_contruido', 'precio_m2_contruido', 'precio_m2_terreno',]]\n",
    "m2_df_alfa_q_jul_2023_pachuca = df_alfa_q_jul_2023_pachuca[['precio', 'm2_total',\n",
    "       'm2_contruido', 'precio_m2_contruido', 'precio_m2_terreno',]]\n",
    "m2_df_alfa_q_sep_2023_pachuca = df_alfa_q_sep_2023_pachuca[['precio', 'm2_total',\n",
    "       'm2_construido', 'precio_m2_construido', 'precio_m2_terreno',]]"
   ]
  },
  {
   "cell_type": "code",
   "execution_count": 7,
   "metadata": {},
   "outputs": [
    {
     "name": "stderr",
     "output_type": "stream",
     "text": [
      "C:\\Users\\yoe11\\AppData\\Local\\Temp\\ipykernel_19436\\734174297.py:13: SettingWithCopyWarning: \n",
      "A value is trying to be set on a copy of a slice from a DataFrame\n",
      "\n",
      "See the caveats in the documentation: https://pandas.pydata.org/pandas-docs/stable/user_guide/indexing.html#returning-a-view-versus-a-copy\n",
      "  df.rename(columns={'m2_contruido': 'm2_construido',\n",
      "C:\\Users\\yoe11\\AppData\\Local\\Temp\\ipykernel_19436\\734174297.py:13: SettingWithCopyWarning: \n",
      "A value is trying to be set on a copy of a slice from a DataFrame\n",
      "\n",
      "See the caveats in the documentation: https://pandas.pydata.org/pandas-docs/stable/user_guide/indexing.html#returning-a-view-versus-a-copy\n",
      "  df.rename(columns={'m2_contruido': 'm2_construido',\n",
      "C:\\Users\\yoe11\\AppData\\Local\\Temp\\ipykernel_19436\\734174297.py:13: SettingWithCopyWarning: \n",
      "A value is trying to be set on a copy of a slice from a DataFrame\n",
      "\n",
      "See the caveats in the documentation: https://pandas.pydata.org/pandas-docs/stable/user_guide/indexing.html#returning-a-view-versus-a-copy\n",
      "  df.rename(columns={'m2_contruido': 'm2_construido',\n",
      "C:\\Users\\yoe11\\AppData\\Local\\Temp\\ipykernel_19436\\734174297.py:13: SettingWithCopyWarning: \n",
      "A value is trying to be set on a copy of a slice from a DataFrame\n",
      "\n",
      "See the caveats in the documentation: https://pandas.pydata.org/pandas-docs/stable/user_guide/indexing.html#returning-a-view-versus-a-copy\n",
      "  df.rename(columns={'m2_contruido': 'm2_construido',\n",
      "C:\\Users\\yoe11\\AppData\\Local\\Temp\\ipykernel_19436\\734174297.py:13: SettingWithCopyWarning: \n",
      "A value is trying to be set on a copy of a slice from a DataFrame\n",
      "\n",
      "See the caveats in the documentation: https://pandas.pydata.org/pandas-docs/stable/user_guide/indexing.html#returning-a-view-versus-a-copy\n",
      "  df.rename(columns={'m2_contruido': 'm2_construido',\n",
      "C:\\Users\\yoe11\\AppData\\Local\\Temp\\ipykernel_19436\\734174297.py:13: SettingWithCopyWarning: \n",
      "A value is trying to be set on a copy of a slice from a DataFrame\n",
      "\n",
      "See the caveats in the documentation: https://pandas.pydata.org/pandas-docs/stable/user_guide/indexing.html#returning-a-view-versus-a-copy\n",
      "  df.rename(columns={'m2_contruido': 'm2_construido',\n",
      "C:\\Users\\yoe11\\AppData\\Local\\Temp\\ipykernel_19436\\734174297.py:13: SettingWithCopyWarning: \n",
      "A value is trying to be set on a copy of a slice from a DataFrame\n",
      "\n",
      "See the caveats in the documentation: https://pandas.pydata.org/pandas-docs/stable/user_guide/indexing.html#returning-a-view-versus-a-copy\n",
      "  df.rename(columns={'m2_contruido': 'm2_construido',\n"
     ]
    }
   ],
   "source": [
    "dataframes_list = [\n",
    "    m2_df_alfa_q_oct_2022_pachuca,\n",
    "    m2_df_alfa_q_nov_2022_pachuca,\n",
    "    m2_df_alfa_q_feb_2023_pachuca,\n",
    "    m2_df_alfa_q_mar_2023_pachuca,\n",
    "    m2_df_alfa_q_jun_2023_pachuca,\n",
    "    m2_df_alfa_q_jul_2023_pachuca,\n",
    "    m2_df_alfa_q_sep_2023_pachuca\n",
    "]\n",
    "\n",
    "for df in dataframes_list:\n",
    "    # Cambiar el nombre de las columnas\n",
    "    df.rename(columns={'m2_contruido': 'm2_construido',\n",
    "                       'precio_m2_contruido': 'precio_m2_construido'}, inplace=True)"
   ]
  },
  {
   "cell_type": "markdown",
   "metadata": {},
   "source": [
    "___\n",
    "## *rangos*"
   ]
  },
  {
   "cell_type": "markdown",
   "metadata": {},
   "source": [
    "### *DF CON RANGOS DE M2 Y SU PRECIO*"
   ]
  },
  {
   "cell_type": "code",
   "execution_count": 8,
   "metadata": {},
   "outputs": [
    {
     "name": "stdout",
     "output_type": "stream",
     "text": [
      "Primeros registros de nuevo DataFrame 1:\n",
      "     rango  precio_m2_terreno\n",
      "0  [0-100]           12777.78\n",
      "1  [0-100]           13043.48\n",
      "2  [0-100]           11458.33\n",
      "3  [0-100]           15500.52\n",
      "4  [0-100]            9000.00\n",
      "\n",
      "Primeros registros de nuevo DataFrame 2:\n",
      "     rango  precio_m2_terreno\n",
      "0  [0-100]           12777.78\n",
      "1  [0-100]           13043.48\n",
      "2  [0-100]           11458.33\n",
      "3  [0-100]           11458.33\n",
      "4  [0-100]           15500.52\n",
      "\n",
      "Primeros registros de nuevo DataFrame 3:\n",
      "     rango  precio_m2_terreno\n",
      "0  [0-100]               8896\n",
      "1  [0-100]              12672\n",
      "2  [0-100]              11328\n",
      "3  [0-100]              12239\n",
      "4  [0-100]              12791\n",
      "\n",
      "Primeros registros de nuevo DataFrame 4:\n",
      "     rango  precio_m2_terreno\n",
      "0  [0-100]           13550.98\n",
      "1  [0-100]            7037.04\n",
      "2  [0-100]           12054.55\n",
      "3  [0-100]            8166.67\n",
      "4  [0-100]           11616.67\n",
      "\n",
      "Primeros registros de nuevo DataFrame 5:\n",
      "     rango  precio_m2_terreno\n",
      "0  [0-100]           33333.33\n",
      "1  [0-100]           16688.89\n",
      "2  [0-100]           35714.29\n",
      "3  [0-100]          221000.00\n",
      "4  [0-100]           12277.78\n",
      "\n",
      "Primeros registros de nuevo DataFrame 6:\n",
      "     rango  precio_m2_terreno\n",
      "0  [0-100]           13055.56\n",
      "1  [0-100]           12589.29\n",
      "2  [0-100]           26754.08\n",
      "3  [0-100]           28196.72\n",
      "4  [0-100]           28524.59\n",
      "\n",
      "Primeros registros de nuevo DataFrame 7:\n",
      "     rango  precio_m2_terreno\n",
      "0  [0-100]           31111.11\n",
      "1  [0-100]           31111.11\n",
      "2  [0-100]           40967.96\n",
      "3  [0-100]           13846.15\n",
      "4  [0-100]           14038.46\n",
      "\n"
     ]
    }
   ],
   "source": [
    "dataframes_list = [\n",
    "    m2_df_alfa_q_oct_2022_pachuca,\n",
    "    m2_df_alfa_q_nov_2022_pachuca,\n",
    "    m2_df_alfa_q_feb_2023_pachuca,\n",
    "    m2_df_alfa_q_mar_2023_pachuca,\n",
    "    m2_df_alfa_q_jun_2023_pachuca,\n",
    "    m2_df_alfa_q_jul_2023_pachuca,\n",
    "    m2_df_alfa_q_sep_2023_pachuca\n",
    "]\n",
    "new_dataframes_list = []\n",
    "\n",
    "# Definir los límites de los rangos\n",
    "rangos = [0, 100, 150, 200, 250, 300, float('inf')]\n",
    "labels = ['[0-100]', '[100-150]', '[150-200]', '[200-250]', '[250-300]', '[> 300]']\n",
    "\n",
    "# Iterar sobre cada DataFrame en la lista original\n",
    "for df in dataframes_list:\n",
    "    # Crear una copia del DataFrame\n",
    "    modified_df = df.copy()\n",
    "    # Asignar el rango correspondiente a cada valor de 'm2_construido'\n",
    "    modified_df['rango'] = pd.cut(modified_df['m2_total'], bins=rangos, labels=labels, right=False)\n",
    "    # Crear un nuevo DataFrame solo con las columnas 'rango' y 'precio_m2_terreno'\n",
    "    new_df = modified_df[['rango', 'precio_m2_terreno']].copy()\n",
    "    # Agregar el nuevo DataFrame a la lista\n",
    "    new_dataframes_list.append(new_df)\n",
    "\n",
    "# Imprimir los primeros registros de cada nuevo DataFrame\n",
    "for idx, df in enumerate(new_dataframes_list):\n",
    "    print(f\"Primeros registros de nuevo DataFrame {idx + 1}:\")\n",
    "    print(df.head())\n",
    "    print()  # Agregar una línea en blanco entre cada DataFrame\n"
   ]
  },
  {
   "cell_type": "markdown",
   "metadata": {},
   "source": [
    "### *Promedio de precio_m2_terreno por rango CADA DF* "
   ]
  },
  {
   "cell_type": "code",
   "execution_count": 9,
   "metadata": {},
   "outputs": [
    {
     "name": "stdout",
     "output_type": "stream",
     "text": [
      "Promedio de precio_m2_terreno por rango en el DataFrame 1:\n",
      "rango\n",
      "[0-100]      16469.612659\n",
      "[100-150]    18763.317388\n",
      "[150-200]    21638.509925\n",
      "[200-250]    21694.308655\n",
      "[250-300]    25145.554103\n",
      "[> 300]      24058.407167\n",
      "Name: precio_m2_terreno, dtype: float64\n",
      "\n",
      "Promedio de precio_m2_terreno por rango en el DataFrame 2:\n",
      "rango\n",
      "[0-100]      16242.468095\n",
      "[100-150]    18512.567189\n",
      "[150-200]    21128.278100\n",
      "[200-250]    20652.793333\n",
      "[250-300]    23581.253864\n",
      "[> 300]      22931.931270\n",
      "Name: precio_m2_terreno, dtype: float64\n",
      "\n",
      "Promedio de precio_m2_terreno por rango en el DataFrame 3:\n",
      "rango\n",
      "[0-100]      15382.663717\n",
      "[100-150]    19318.665992\n",
      "[150-200]    21102.187500\n",
      "[200-250]    20318.400000\n",
      "[250-300]    16719.153846\n",
      "[> 300]      15391.483871\n",
      "Name: precio_m2_terreno, dtype: float64\n",
      "\n",
      "Promedio de precio_m2_terreno por rango en el DataFrame 4:\n",
      "rango\n",
      "[0-100]      16374.213392\n",
      "[100-150]    18753.976184\n",
      "[150-200]    20514.648247\n",
      "[200-250]    21956.151608\n",
      "[250-300]    20120.904638\n",
      "[> 300]      19474.847652\n",
      "Name: precio_m2_terreno, dtype: float64\n",
      "\n",
      "Promedio de precio_m2_terreno por rango en el DataFrame 5:\n",
      "rango\n",
      "[0-100]      18465.115040\n",
      "[100-150]    19280.987941\n",
      "[150-200]    22039.477255\n",
      "[200-250]    22622.139507\n",
      "[250-300]    25955.239111\n",
      "[> 300]      21078.173986\n",
      "Name: precio_m2_terreno, dtype: float64\n",
      "\n",
      "Promedio de precio_m2_terreno por rango en el DataFrame 6:\n",
      "rango\n",
      "[0-100]      23219.324524\n",
      "[100-150]    23866.457742\n",
      "[150-200]    15643.237895\n",
      "[200-250]    14384.869545\n",
      "[250-300]    15627.686154\n",
      "[> 300]      16863.140000\n",
      "Name: precio_m2_terreno, dtype: float64\n",
      "\n",
      "Promedio de precio_m2_terreno por rango en el DataFrame 7:\n",
      "rango\n",
      "[0-100]      18269.369817\n",
      "[100-150]    20672.039103\n",
      "[150-200]    22592.415630\n",
      "[200-250]    24542.754419\n",
      "[250-300]    24464.570000\n",
      "[> 300]      18427.718424\n",
      "Name: precio_m2_terreno, dtype: float64\n",
      "\n"
     ]
    }
   ],
   "source": [
    "# Iterar sobre cada DataFrame modificado en new_dataframes_list\n",
    "for idx, df in enumerate(new_dataframes_list):\n",
    "    print(f\"Promedio de precio_m2_terreno por rango en el DataFrame {idx + 1}:\")\n",
    "    # Agrupar el DataFrame por la columna 'rango' y calcular el promedio de 'precio_m2_terreno' para cada grupo\n",
    "    promedios_por_rango = df.groupby('rango')['precio_m2_terreno'].mean()\n",
    "    print(promedios_por_rango)\n",
    "    print()  # Agregar una línea en blanco entre cada resultado"
   ]
  },
  {
   "cell_type": "code",
   "execution_count": 10,
   "metadata": {},
   "outputs": [
    {
     "name": "stdout",
     "output_type": "stream",
     "text": [
      "DataFrame 'rango_precio_m2':\n"
     ]
    },
    {
     "data": {
      "text/html": [
       "<div>\n",
       "<style scoped>\n",
       "    .dataframe tbody tr th:only-of-type {\n",
       "        vertical-align: middle;\n",
       "    }\n",
       "\n",
       "    .dataframe tbody tr th {\n",
       "        vertical-align: top;\n",
       "    }\n",
       "\n",
       "    .dataframe thead th {\n",
       "        text-align: right;\n",
       "    }\n",
       "</style>\n",
       "<table border=\"1\" class=\"dataframe\">\n",
       "  <thead>\n",
       "    <tr style=\"text-align: right;\">\n",
       "      <th></th>\n",
       "      <th>DataFrame_1</th>\n",
       "      <th>DataFrame_2</th>\n",
       "      <th>DataFrame_3</th>\n",
       "      <th>DataFrame_4</th>\n",
       "      <th>DataFrame_5</th>\n",
       "      <th>DataFrame_6</th>\n",
       "      <th>DataFrame_7</th>\n",
       "    </tr>\n",
       "    <tr>\n",
       "      <th>rango</th>\n",
       "      <th></th>\n",
       "      <th></th>\n",
       "      <th></th>\n",
       "      <th></th>\n",
       "      <th></th>\n",
       "      <th></th>\n",
       "      <th></th>\n",
       "    </tr>\n",
       "  </thead>\n",
       "  <tbody>\n",
       "    <tr>\n",
       "      <th>[0-100]</th>\n",
       "      <td>16469.612659</td>\n",
       "      <td>16242.468095</td>\n",
       "      <td>15382.663717</td>\n",
       "      <td>16374.213392</td>\n",
       "      <td>18465.115040</td>\n",
       "      <td>23219.324524</td>\n",
       "      <td>18269.369817</td>\n",
       "    </tr>\n",
       "    <tr>\n",
       "      <th>[100-150]</th>\n",
       "      <td>18763.317388</td>\n",
       "      <td>18512.567189</td>\n",
       "      <td>19318.665992</td>\n",
       "      <td>18753.976184</td>\n",
       "      <td>19280.987941</td>\n",
       "      <td>23866.457742</td>\n",
       "      <td>20672.039103</td>\n",
       "    </tr>\n",
       "    <tr>\n",
       "      <th>[150-200]</th>\n",
       "      <td>21638.509925</td>\n",
       "      <td>21128.278100</td>\n",
       "      <td>21102.187500</td>\n",
       "      <td>20514.648247</td>\n",
       "      <td>22039.477255</td>\n",
       "      <td>15643.237895</td>\n",
       "      <td>22592.415630</td>\n",
       "    </tr>\n",
       "    <tr>\n",
       "      <th>[200-250]</th>\n",
       "      <td>21694.308655</td>\n",
       "      <td>20652.793333</td>\n",
       "      <td>20318.400000</td>\n",
       "      <td>21956.151608</td>\n",
       "      <td>22622.139507</td>\n",
       "      <td>14384.869545</td>\n",
       "      <td>24542.754419</td>\n",
       "    </tr>\n",
       "    <tr>\n",
       "      <th>[250-300]</th>\n",
       "      <td>25145.554103</td>\n",
       "      <td>23581.253864</td>\n",
       "      <td>16719.153846</td>\n",
       "      <td>20120.904638</td>\n",
       "      <td>25955.239111</td>\n",
       "      <td>15627.686154</td>\n",
       "      <td>24464.570000</td>\n",
       "    </tr>\n",
       "    <tr>\n",
       "      <th>[&gt; 300]</th>\n",
       "      <td>24058.407167</td>\n",
       "      <td>22931.931270</td>\n",
       "      <td>15391.483871</td>\n",
       "      <td>19474.847652</td>\n",
       "      <td>21078.173986</td>\n",
       "      <td>16863.140000</td>\n",
       "      <td>18427.718424</td>\n",
       "    </tr>\n",
       "  </tbody>\n",
       "</table>\n",
       "</div>"
      ],
      "text/plain": [
       "            DataFrame_1   DataFrame_2   DataFrame_3   DataFrame_4  \\\n",
       "rango                                                               \n",
       "[0-100]    16469.612659  16242.468095  15382.663717  16374.213392   \n",
       "[100-150]  18763.317388  18512.567189  19318.665992  18753.976184   \n",
       "[150-200]  21638.509925  21128.278100  21102.187500  20514.648247   \n",
       "[200-250]  21694.308655  20652.793333  20318.400000  21956.151608   \n",
       "[250-300]  25145.554103  23581.253864  16719.153846  20120.904638   \n",
       "[> 300]    24058.407167  22931.931270  15391.483871  19474.847652   \n",
       "\n",
       "            DataFrame_5   DataFrame_6   DataFrame_7  \n",
       "rango                                                \n",
       "[0-100]    18465.115040  23219.324524  18269.369817  \n",
       "[100-150]  19280.987941  23866.457742  20672.039103  \n",
       "[150-200]  22039.477255  15643.237895  22592.415630  \n",
       "[200-250]  22622.139507  14384.869545  24542.754419  \n",
       "[250-300]  25955.239111  15627.686154  24464.570000  \n",
       "[> 300]    21078.173986  16863.140000  18427.718424  "
      ]
     },
     "execution_count": 10,
     "metadata": {},
     "output_type": "execute_result"
    }
   ],
   "source": [
    "# Inicializar un diccionario para almacenar los promedios de precio por metro cuadrado para cada rango\n",
    "promedios_por_rango_dict = {}\n",
    "# Iterar sobre cada DataFrame modificado en new_dataframes_list\n",
    "for idx, df in enumerate(new_dataframes_list):\n",
    "    # Agrupar el DataFrame por la columna 'rango' y calcular el promedio de 'precio_m2_terreno' para cada grupo\n",
    "    promedios_por_rango = df.groupby('rango')['precio_m2_terreno'].mean()\n",
    "    # Actualizar el diccionario con los promedios calculados\n",
    "    promedios_por_rango_dict[f'DataFrame_{idx + 1}'] = promedios_por_rango\n",
    "\n",
    "# Convertir el diccionario en un DataFrame\n",
    "rango_precio_m2 = pd.DataFrame(promedios_por_rango_dict)\n",
    "print(\"DataFrame 'rango_precio_m2':\")\n",
    "rango_precio_m2"
   ]
  },
  {
   "cell_type": "code",
   "execution_count": 11,
   "metadata": {},
   "outputs": [
    {
     "name": "stdout",
     "output_type": "stream",
     "text": [
      "DataFrame 'Precio_mean_M2':\n"
     ]
    },
    {
     "data": {
      "text/html": [
       "<div>\n",
       "<style scoped>\n",
       "    .dataframe tbody tr th:only-of-type {\n",
       "        vertical-align: middle;\n",
       "    }\n",
       "\n",
       "    .dataframe tbody tr th {\n",
       "        vertical-align: top;\n",
       "    }\n",
       "\n",
       "    .dataframe thead th {\n",
       "        text-align: right;\n",
       "    }\n",
       "</style>\n",
       "<table border=\"1\" class=\"dataframe\">\n",
       "  <thead>\n",
       "    <tr style=\"text-align: right;\">\n",
       "      <th></th>\n",
       "      <th>Rango</th>\n",
       "      <th>Precio_m2_mean</th>\n",
       "    </tr>\n",
       "  </thead>\n",
       "  <tbody>\n",
       "    <tr>\n",
       "      <th>0</th>\n",
       "      <td>[0-100]</td>\n",
       "      <td>17774.681035</td>\n",
       "    </tr>\n",
       "    <tr>\n",
       "      <th>1</th>\n",
       "      <td>[100-150]</td>\n",
       "      <td>19881.144506</td>\n",
       "    </tr>\n",
       "    <tr>\n",
       "      <th>2</th>\n",
       "      <td>[150-200]</td>\n",
       "      <td>20665.536365</td>\n",
       "    </tr>\n",
       "    <tr>\n",
       "      <th>3</th>\n",
       "      <td>[200-250]</td>\n",
       "      <td>20881.631010</td>\n",
       "    </tr>\n",
       "    <tr>\n",
       "      <th>4</th>\n",
       "      <td>[250-300]</td>\n",
       "      <td>21659.194531</td>\n",
       "    </tr>\n",
       "    <tr>\n",
       "      <th>5</th>\n",
       "      <td>[&gt; 300]</td>\n",
       "      <td>19746.528910</td>\n",
       "    </tr>\n",
       "  </tbody>\n",
       "</table>\n",
       "</div>"
      ],
      "text/plain": [
       "       Rango  Precio_m2_mean\n",
       "0    [0-100]    17774.681035\n",
       "1  [100-150]    19881.144506\n",
       "2  [150-200]    20665.536365\n",
       "3  [200-250]    20881.631010\n",
       "4  [250-300]    21659.194531\n",
       "5    [> 300]    19746.528910"
      ]
     },
     "execution_count": 11,
     "metadata": {},
     "output_type": "execute_result"
    }
   ],
   "source": [
    "# Calcular el promedio general de cada rango en todas las columnas de rango_precio_m2\n",
    "promedio_general_por_rango = rango_precio_m2.mean(axis=1)\n",
    "# Crear un nuevo DataFrame 'Precio_mean_M2' con los rangos y sus promedios generales\n",
    "Precio_mean_M2 = pd.DataFrame({'Rango': promedio_general_por_rango.index, 'Precio_m2_mean': promedio_general_por_rango.values})\n",
    "\n",
    "print(\"DataFrame 'Precio_mean_M2':\")\n",
    "Precio_mean_M2"
   ]
  },
  {
   "cell_type": "markdown",
   "metadata": {},
   "source": [
    "### ***GRÁFICA***"
   ]
  },
  {
   "cell_type": "code",
   "execution_count": 21,
   "metadata": {},
   "outputs": [
    {
     "data": {
      "application/vnd.plotly.v1+json": {
       "config": {
        "plotlyServerURL": "https://plot.ly"
       },
       "data": [
        {
         "marker": {
          "color": [
           "#2962ff",
           "#9500ff",
           "#ff0059",
           "#ff8c00",
           "#b4e600",
           "#2EC2A2",
           "#F79CB9"
          ]
         },
         "text": [
          "$17,774.68",
          "$19,881.14",
          "$20,665.54",
          "$20,881.63",
          "$21,659.19",
          "$19,746.53"
         ],
         "textposition": "inside",
         "type": "bar",
         "x": [
          "[0-100]",
          "[100-150]",
          "[150-200]",
          "[200-250]",
          "[250-300]",
          "[> 300]"
         ],
         "y": [
          17774.681034805806,
          19881.144505503744,
          20665.536364625026,
          20881.631009755514,
          21659.19453071325,
          19746.528909914177
         ]
        }
       ],
       "layout": {
        "height": 500,
        "plot_bgcolor": "rgba(0,0,0,0)",
        "template": {
         "data": {
          "bar": [
           {
            "error_x": {
             "color": "#2a3f5f"
            },
            "error_y": {
             "color": "#2a3f5f"
            },
            "marker": {
             "line": {
              "color": "#E5ECF6",
              "width": 0.5
             },
             "pattern": {
              "fillmode": "overlay",
              "size": 10,
              "solidity": 0.2
             }
            },
            "type": "bar"
           }
          ],
          "barpolar": [
           {
            "marker": {
             "line": {
              "color": "#E5ECF6",
              "width": 0.5
             },
             "pattern": {
              "fillmode": "overlay",
              "size": 10,
              "solidity": 0.2
             }
            },
            "type": "barpolar"
           }
          ],
          "carpet": [
           {
            "aaxis": {
             "endlinecolor": "#2a3f5f",
             "gridcolor": "white",
             "linecolor": "white",
             "minorgridcolor": "white",
             "startlinecolor": "#2a3f5f"
            },
            "baxis": {
             "endlinecolor": "#2a3f5f",
             "gridcolor": "white",
             "linecolor": "white",
             "minorgridcolor": "white",
             "startlinecolor": "#2a3f5f"
            },
            "type": "carpet"
           }
          ],
          "choropleth": [
           {
            "colorbar": {
             "outlinewidth": 0,
             "ticks": ""
            },
            "type": "choropleth"
           }
          ],
          "contour": [
           {
            "colorbar": {
             "outlinewidth": 0,
             "ticks": ""
            },
            "colorscale": [
             [
              0,
              "#0d0887"
             ],
             [
              0.1111111111111111,
              "#46039f"
             ],
             [
              0.2222222222222222,
              "#7201a8"
             ],
             [
              0.3333333333333333,
              "#9c179e"
             ],
             [
              0.4444444444444444,
              "#bd3786"
             ],
             [
              0.5555555555555556,
              "#d8576b"
             ],
             [
              0.6666666666666666,
              "#ed7953"
             ],
             [
              0.7777777777777778,
              "#fb9f3a"
             ],
             [
              0.8888888888888888,
              "#fdca26"
             ],
             [
              1,
              "#f0f921"
             ]
            ],
            "type": "contour"
           }
          ],
          "contourcarpet": [
           {
            "colorbar": {
             "outlinewidth": 0,
             "ticks": ""
            },
            "type": "contourcarpet"
           }
          ],
          "heatmap": [
           {
            "colorbar": {
             "outlinewidth": 0,
             "ticks": ""
            },
            "colorscale": [
             [
              0,
              "#0d0887"
             ],
             [
              0.1111111111111111,
              "#46039f"
             ],
             [
              0.2222222222222222,
              "#7201a8"
             ],
             [
              0.3333333333333333,
              "#9c179e"
             ],
             [
              0.4444444444444444,
              "#bd3786"
             ],
             [
              0.5555555555555556,
              "#d8576b"
             ],
             [
              0.6666666666666666,
              "#ed7953"
             ],
             [
              0.7777777777777778,
              "#fb9f3a"
             ],
             [
              0.8888888888888888,
              "#fdca26"
             ],
             [
              1,
              "#f0f921"
             ]
            ],
            "type": "heatmap"
           }
          ],
          "heatmapgl": [
           {
            "colorbar": {
             "outlinewidth": 0,
             "ticks": ""
            },
            "colorscale": [
             [
              0,
              "#0d0887"
             ],
             [
              0.1111111111111111,
              "#46039f"
             ],
             [
              0.2222222222222222,
              "#7201a8"
             ],
             [
              0.3333333333333333,
              "#9c179e"
             ],
             [
              0.4444444444444444,
              "#bd3786"
             ],
             [
              0.5555555555555556,
              "#d8576b"
             ],
             [
              0.6666666666666666,
              "#ed7953"
             ],
             [
              0.7777777777777778,
              "#fb9f3a"
             ],
             [
              0.8888888888888888,
              "#fdca26"
             ],
             [
              1,
              "#f0f921"
             ]
            ],
            "type": "heatmapgl"
           }
          ],
          "histogram": [
           {
            "marker": {
             "pattern": {
              "fillmode": "overlay",
              "size": 10,
              "solidity": 0.2
             }
            },
            "type": "histogram"
           }
          ],
          "histogram2d": [
           {
            "colorbar": {
             "outlinewidth": 0,
             "ticks": ""
            },
            "colorscale": [
             [
              0,
              "#0d0887"
             ],
             [
              0.1111111111111111,
              "#46039f"
             ],
             [
              0.2222222222222222,
              "#7201a8"
             ],
             [
              0.3333333333333333,
              "#9c179e"
             ],
             [
              0.4444444444444444,
              "#bd3786"
             ],
             [
              0.5555555555555556,
              "#d8576b"
             ],
             [
              0.6666666666666666,
              "#ed7953"
             ],
             [
              0.7777777777777778,
              "#fb9f3a"
             ],
             [
              0.8888888888888888,
              "#fdca26"
             ],
             [
              1,
              "#f0f921"
             ]
            ],
            "type": "histogram2d"
           }
          ],
          "histogram2dcontour": [
           {
            "colorbar": {
             "outlinewidth": 0,
             "ticks": ""
            },
            "colorscale": [
             [
              0,
              "#0d0887"
             ],
             [
              0.1111111111111111,
              "#46039f"
             ],
             [
              0.2222222222222222,
              "#7201a8"
             ],
             [
              0.3333333333333333,
              "#9c179e"
             ],
             [
              0.4444444444444444,
              "#bd3786"
             ],
             [
              0.5555555555555556,
              "#d8576b"
             ],
             [
              0.6666666666666666,
              "#ed7953"
             ],
             [
              0.7777777777777778,
              "#fb9f3a"
             ],
             [
              0.8888888888888888,
              "#fdca26"
             ],
             [
              1,
              "#f0f921"
             ]
            ],
            "type": "histogram2dcontour"
           }
          ],
          "mesh3d": [
           {
            "colorbar": {
             "outlinewidth": 0,
             "ticks": ""
            },
            "type": "mesh3d"
           }
          ],
          "parcoords": [
           {
            "line": {
             "colorbar": {
              "outlinewidth": 0,
              "ticks": ""
             }
            },
            "type": "parcoords"
           }
          ],
          "pie": [
           {
            "automargin": true,
            "type": "pie"
           }
          ],
          "scatter": [
           {
            "fillpattern": {
             "fillmode": "overlay",
             "size": 10,
             "solidity": 0.2
            },
            "type": "scatter"
           }
          ],
          "scatter3d": [
           {
            "line": {
             "colorbar": {
              "outlinewidth": 0,
              "ticks": ""
             }
            },
            "marker": {
             "colorbar": {
              "outlinewidth": 0,
              "ticks": ""
             }
            },
            "type": "scatter3d"
           }
          ],
          "scattercarpet": [
           {
            "marker": {
             "colorbar": {
              "outlinewidth": 0,
              "ticks": ""
             }
            },
            "type": "scattercarpet"
           }
          ],
          "scattergeo": [
           {
            "marker": {
             "colorbar": {
              "outlinewidth": 0,
              "ticks": ""
             }
            },
            "type": "scattergeo"
           }
          ],
          "scattergl": [
           {
            "marker": {
             "colorbar": {
              "outlinewidth": 0,
              "ticks": ""
             }
            },
            "type": "scattergl"
           }
          ],
          "scattermapbox": [
           {
            "marker": {
             "colorbar": {
              "outlinewidth": 0,
              "ticks": ""
             }
            },
            "type": "scattermapbox"
           }
          ],
          "scatterpolar": [
           {
            "marker": {
             "colorbar": {
              "outlinewidth": 0,
              "ticks": ""
             }
            },
            "type": "scatterpolar"
           }
          ],
          "scatterpolargl": [
           {
            "marker": {
             "colorbar": {
              "outlinewidth": 0,
              "ticks": ""
             }
            },
            "type": "scatterpolargl"
           }
          ],
          "scatterternary": [
           {
            "marker": {
             "colorbar": {
              "outlinewidth": 0,
              "ticks": ""
             }
            },
            "type": "scatterternary"
           }
          ],
          "surface": [
           {
            "colorbar": {
             "outlinewidth": 0,
             "ticks": ""
            },
            "colorscale": [
             [
              0,
              "#0d0887"
             ],
             [
              0.1111111111111111,
              "#46039f"
             ],
             [
              0.2222222222222222,
              "#7201a8"
             ],
             [
              0.3333333333333333,
              "#9c179e"
             ],
             [
              0.4444444444444444,
              "#bd3786"
             ],
             [
              0.5555555555555556,
              "#d8576b"
             ],
             [
              0.6666666666666666,
              "#ed7953"
             ],
             [
              0.7777777777777778,
              "#fb9f3a"
             ],
             [
              0.8888888888888888,
              "#fdca26"
             ],
             [
              1,
              "#f0f921"
             ]
            ],
            "type": "surface"
           }
          ],
          "table": [
           {
            "cells": {
             "fill": {
              "color": "#EBF0F8"
             },
             "line": {
              "color": "white"
             }
            },
            "header": {
             "fill": {
              "color": "#C8D4E3"
             },
             "line": {
              "color": "white"
             }
            },
            "type": "table"
           }
          ]
         },
         "layout": {
          "annotationdefaults": {
           "arrowcolor": "#2a3f5f",
           "arrowhead": 0,
           "arrowwidth": 1
          },
          "autotypenumbers": "strict",
          "coloraxis": {
           "colorbar": {
            "outlinewidth": 0,
            "ticks": ""
           }
          },
          "colorscale": {
           "diverging": [
            [
             0,
             "#8e0152"
            ],
            [
             0.1,
             "#c51b7d"
            ],
            [
             0.2,
             "#de77ae"
            ],
            [
             0.3,
             "#f1b6da"
            ],
            [
             0.4,
             "#fde0ef"
            ],
            [
             0.5,
             "#f7f7f7"
            ],
            [
             0.6,
             "#e6f5d0"
            ],
            [
             0.7,
             "#b8e186"
            ],
            [
             0.8,
             "#7fbc41"
            ],
            [
             0.9,
             "#4d9221"
            ],
            [
             1,
             "#276419"
            ]
           ],
           "sequential": [
            [
             0,
             "#0d0887"
            ],
            [
             0.1111111111111111,
             "#46039f"
            ],
            [
             0.2222222222222222,
             "#7201a8"
            ],
            [
             0.3333333333333333,
             "#9c179e"
            ],
            [
             0.4444444444444444,
             "#bd3786"
            ],
            [
             0.5555555555555556,
             "#d8576b"
            ],
            [
             0.6666666666666666,
             "#ed7953"
            ],
            [
             0.7777777777777778,
             "#fb9f3a"
            ],
            [
             0.8888888888888888,
             "#fdca26"
            ],
            [
             1,
             "#f0f921"
            ]
           ],
           "sequentialminus": [
            [
             0,
             "#0d0887"
            ],
            [
             0.1111111111111111,
             "#46039f"
            ],
            [
             0.2222222222222222,
             "#7201a8"
            ],
            [
             0.3333333333333333,
             "#9c179e"
            ],
            [
             0.4444444444444444,
             "#bd3786"
            ],
            [
             0.5555555555555556,
             "#d8576b"
            ],
            [
             0.6666666666666666,
             "#ed7953"
            ],
            [
             0.7777777777777778,
             "#fb9f3a"
            ],
            [
             0.8888888888888888,
             "#fdca26"
            ],
            [
             1,
             "#f0f921"
            ]
           ]
          },
          "colorway": [
           "#636efa",
           "#EF553B",
           "#00cc96",
           "#ab63fa",
           "#FFA15A",
           "#19d3f3",
           "#FF6692",
           "#B6E880",
           "#FF97FF",
           "#FECB52"
          ],
          "font": {
           "color": "#2a3f5f"
          },
          "geo": {
           "bgcolor": "white",
           "lakecolor": "white",
           "landcolor": "#E5ECF6",
           "showlakes": true,
           "showland": true,
           "subunitcolor": "white"
          },
          "hoverlabel": {
           "align": "left"
          },
          "hovermode": "closest",
          "mapbox": {
           "style": "light"
          },
          "paper_bgcolor": "white",
          "plot_bgcolor": "#E5ECF6",
          "polar": {
           "angularaxis": {
            "gridcolor": "white",
            "linecolor": "white",
            "ticks": ""
           },
           "bgcolor": "#E5ECF6",
           "radialaxis": {
            "gridcolor": "white",
            "linecolor": "white",
            "ticks": ""
           }
          },
          "scene": {
           "xaxis": {
            "backgroundcolor": "#E5ECF6",
            "gridcolor": "white",
            "gridwidth": 2,
            "linecolor": "white",
            "showbackground": true,
            "ticks": "",
            "zerolinecolor": "white"
           },
           "yaxis": {
            "backgroundcolor": "#E5ECF6",
            "gridcolor": "white",
            "gridwidth": 2,
            "linecolor": "white",
            "showbackground": true,
            "ticks": "",
            "zerolinecolor": "white"
           },
           "zaxis": {
            "backgroundcolor": "#E5ECF6",
            "gridcolor": "white",
            "gridwidth": 2,
            "linecolor": "white",
            "showbackground": true,
            "ticks": "",
            "zerolinecolor": "white"
           }
          },
          "shapedefaults": {
           "line": {
            "color": "#2a3f5f"
           }
          },
          "ternary": {
           "aaxis": {
            "gridcolor": "white",
            "linecolor": "white",
            "ticks": ""
           },
           "baxis": {
            "gridcolor": "white",
            "linecolor": "white",
            "ticks": ""
           },
           "bgcolor": "#E5ECF6",
           "caxis": {
            "gridcolor": "white",
            "linecolor": "white",
            "ticks": ""
           }
          },
          "title": {
           "x": 0.05
          },
          "xaxis": {
           "automargin": true,
           "gridcolor": "white",
           "linecolor": "white",
           "ticks": "",
           "title": {
            "standoff": 15
           },
           "zerolinecolor": "white",
           "zerolinewidth": 2
          },
          "yaxis": {
           "automargin": true,
           "gridcolor": "white",
           "linecolor": "white",
           "ticks": "",
           "title": {
            "standoff": 15
           },
           "zerolinecolor": "white",
           "zerolinewidth": 2
          }
         }
        },
        "yaxis": {
         "gridcolor": "#dddcda",
         "gridwidth": 1,
         "ticktext": [
          "$0.00",
          "$5000.00",
          "$10000.00",
          "$15000.00",
          "$20000.00",
          "$25000.00"
         ],
         "tickvals": [
          0,
          5000,
          10000,
          15000,
          20000,
          25000
         ]
        }
       }
      }
     },
     "metadata": {},
     "output_type": "display_data"
    }
   ],
   "source": [
    "colores = ['#2962ff', '#9500ff', '#ff0059', '#ff8c00', '#b4e600', '#2EC2A2','#F79CB9']\n",
    "porcentajes = Precio_mean_M2['Precio_m2_mean']\n",
    "\n",
    "# Convertir la columna 'Precio_m2_mean' a números de punto flotante\n",
    "#Precio_mean_M2['Precio_m2_mean'] = Precio_mean_M2['Precio_m2_mean'].str.replace('$', '').str.replace(',', '').astype(float)\n",
    "# Convertir los valores a cadenas con el formato deseado\n",
    "textos_formateados = [f'${round(valor, 2):,.2f}' for valor in Precio_mean_M2['Precio_m2_mean']]\n",
    "\n",
    "# Crear la figura\n",
    "fig = go.Figure()\n",
    "\n",
    "# Obtener el valor máximo redondeado al próximo múltiplo de 5000\n",
    "max_valor = int(Precio_mean_M2['Precio_m2_mean'].max() / 5000 + 1) * 5000\n",
    "\n",
    "# Agregar los datos como barras\n",
    "fig.add_trace(go.Bar(\n",
    "    x=Precio_mean_M2['Rango'],  # Eje x: Modalidades\n",
    "    y=Precio_mean_M2['Precio_m2_mean'],  # Eje y: Porcentajes\n",
    "    marker_color=colores,  # Especifica los colores de las barras\n",
    "    text=textos_formateados,  # Texto que se mostrará en las barras (porcentaje)\n",
    "    textposition='inside',  # Posición del texto (puede ser 'inside' o 'outside')\n",
    "))\n",
    "\n",
    "# Personalizar el diseño de la gráfica\n",
    "fig.update_layout(\n",
    "    #title='Precio promedio por M2 totales.',  # Título de la gráfica\n",
    "    #xaxis=dict(title='Rango'),  # Título del eje x\n",
    "    yaxis=dict(\n",
    "        #title='Precio', # Título del eje y\n",
    "        gridcolor='#dddcda', # Color de las líneas que dividen los rangos del eje Y\n",
    "        gridwidth=1,\n",
    "        tickvals=list(range(0, max_valor + 5000, 5000)),  # Valores de los ticks del eje y\n",
    "        ticktext=[f'${valor:.2f}' for valor in range(0, max_valor + 5000, 5000)]  # Textos de los ticks del eje y\n",
    "    ),  \n",
    "    plot_bgcolor='rgba(0,0,0,0)',  # Color de fondo del gráfico\n",
    "    height=500  # Altura de la gráfica\n",
    ")\n",
    "\n",
    "# Exportar gráfica como archivo HTML\n",
    "def guardar_grafico_como_html(fig, nombre_archivo, carpeta='graficas'):\n",
    "    # Crear la carpeta si no existe\n",
    "    if not os.path.exists(carpeta):\n",
    "        os.makedirs(carpeta)\n",
    "    \n",
    "    # Gráfica como archivo HTML en la carpeta especificada\n",
    "    pio.write_html(fig, f'{carpeta}/{nombre_archivo}.html')\n",
    "\n",
    "# Exportar\n",
    "guardar_grafico_como_html(fig, 'g_bar_PrecioPromedio-M2_pachuca', carpeta='graficas')\n",
    "fig.show()\n"
   ]
  },
  {
   "cell_type": "markdown",
   "metadata": {},
   "source": [
    "### *DF GENERAL CON RANGOS Y precio_m2_terreno*"
   ]
  },
  {
   "cell_type": "code",
   "execution_count": 37,
   "metadata": {},
   "outputs": [
    {
     "data": {
      "text/html": [
       "<div>\n",
       "<style scoped>\n",
       "    .dataframe tbody tr th:only-of-type {\n",
       "        vertical-align: middle;\n",
       "    }\n",
       "\n",
       "    .dataframe tbody tr th {\n",
       "        vertical-align: top;\n",
       "    }\n",
       "\n",
       "    .dataframe thead th {\n",
       "        text-align: right;\n",
       "    }\n",
       "</style>\n",
       "<table border=\"1\" class=\"dataframe\">\n",
       "  <thead>\n",
       "    <tr style=\"text-align: right;\">\n",
       "      <th></th>\n",
       "      <th>rango</th>\n",
       "      <th>precio_m2_terreno</th>\n",
       "    </tr>\n",
       "  </thead>\n",
       "  <tbody>\n",
       "    <tr>\n",
       "      <th>0</th>\n",
       "      <td>[0-100]</td>\n",
       "      <td>12777.78</td>\n",
       "    </tr>\n",
       "    <tr>\n",
       "      <th>1</th>\n",
       "      <td>[100-150]</td>\n",
       "      <td>13043.48</td>\n",
       "    </tr>\n",
       "    <tr>\n",
       "      <th>2</th>\n",
       "      <td>[0-100]</td>\n",
       "      <td>11458.33</td>\n",
       "    </tr>\n",
       "    <tr>\n",
       "      <th>3</th>\n",
       "      <td>[0-100]</td>\n",
       "      <td>15500.52</td>\n",
       "    </tr>\n",
       "    <tr>\n",
       "      <th>4</th>\n",
       "      <td>[0-100]</td>\n",
       "      <td>9000.00</td>\n",
       "    </tr>\n",
       "    <tr>\n",
       "      <th>...</th>\n",
       "      <td>...</td>\n",
       "      <td>...</td>\n",
       "    </tr>\n",
       "    <tr>\n",
       "      <th>9903</th>\n",
       "      <td>[200-250]</td>\n",
       "      <td>10299.63</td>\n",
       "    </tr>\n",
       "    <tr>\n",
       "      <th>9904</th>\n",
       "      <td>[&gt; 300]</td>\n",
       "      <td>15307.69</td>\n",
       "    </tr>\n",
       "    <tr>\n",
       "      <th>9905</th>\n",
       "      <td>[&gt; 300]</td>\n",
       "      <td>1714.29</td>\n",
       "    </tr>\n",
       "    <tr>\n",
       "      <th>9906</th>\n",
       "      <td>[&gt; 300]</td>\n",
       "      <td>14265.83</td>\n",
       "    </tr>\n",
       "    <tr>\n",
       "      <th>9907</th>\n",
       "      <td>[&gt; 300]</td>\n",
       "      <td>6093.43</td>\n",
       "    </tr>\n",
       "  </tbody>\n",
       "</table>\n",
       "<p>9908 rows × 2 columns</p>\n",
       "</div>"
      ],
      "text/plain": [
       "          rango  precio_m2_terreno\n",
       "0       [0-100]           12777.78\n",
       "1     [100-150]           13043.48\n",
       "2       [0-100]           11458.33\n",
       "3       [0-100]           15500.52\n",
       "4       [0-100]            9000.00\n",
       "...         ...                ...\n",
       "9903  [200-250]           10299.63\n",
       "9904    [> 300]           15307.69\n",
       "9905    [> 300]            1714.29\n",
       "9906    [> 300]           14265.83\n",
       "9907    [> 300]            6093.43\n",
       "\n",
       "[9908 rows x 2 columns]"
      ]
     },
     "execution_count": 37,
     "metadata": {},
     "output_type": "execute_result"
    }
   ],
   "source": [
    "dataframes_list = [\n",
    "    m2_df_alfa_q_oct_2022_pachuca,\n",
    "    m2_df_alfa_q_nov_2022_pachuca,\n",
    "    m2_df_alfa_q_feb_2023_pachuca,\n",
    "    m2_df_alfa_q_mar_2023_pachuca,\n",
    "    m2_df_alfa_q_jun_2023_pachuca,\n",
    "    m2_df_alfa_q_jul_2023_pachuca,\n",
    "    m2_df_alfa_q_sep_2023_pachuca\n",
    "]\n",
    "\n",
    "# Definir los límites de los rangos\n",
    "rangos = [0, 100, 150, 200, 250, 300, float('inf')]\n",
    "labels = ['[0-100]', '[100-150]', '[150-200]', '[200-250]', '[250-300]', '[> 300]']\n",
    "\n",
    "modified_dataframes_list = [] \n",
    "# Iterar sobre cada DataFrame en la lista\n",
    "for df in dataframes_list:\n",
    "    # Crear una copia del DataFrame\n",
    "    modified_df = df.copy()\n",
    "    # Asignar el rango correspondiente a cada valor de 'm2_construido'\n",
    "    modified_df['rango'] = pd.cut(modified_df['m2_construido'], bins=rangos, labels=labels, right=False)\n",
    "    # Agregar el DataFrame modificado a la lista\n",
    "    modified_dataframes_list.append(modified_df)\n",
    "\n",
    "# Nuevo DataFrame \n",
    "M2_RANGO_PRECIO = pd.DataFrame(columns=['rango', 'precio_m2_terreno'])\n",
    "\n",
    "# Iterar sobre cada DataFrame modificado en modified_dataframes_list\n",
    "for df in modified_dataframes_list:\n",
    "    # Concatenar las columnas 'rango' y 'precio_m2_terreno' al DataFrame nuevo\n",
    "    M2_RANGO_PRECIO = pd.concat([M2_RANGO_PRECIO, df[['rango', 'precio_m2_terreno']]], ignore_index=True)\n",
    "\n",
    "M2_RANGO_PRECIO"
   ]
  },
  {
   "cell_type": "markdown",
   "metadata": {},
   "source": [
    "### *promedio_precio_m2_terreno POR CADA DF*"
   ]
  },
  {
   "cell_type": "code",
   "execution_count": 7,
   "metadata": {},
   "outputs": [
    {
     "data": {
      "text/html": [
       "<div>\n",
       "<style scoped>\n",
       "    .dataframe tbody tr th:only-of-type {\n",
       "        vertical-align: middle;\n",
       "    }\n",
       "\n",
       "    .dataframe tbody tr th {\n",
       "        vertical-align: top;\n",
       "    }\n",
       "\n",
       "    .dataframe thead th {\n",
       "        text-align: right;\n",
       "    }\n",
       "</style>\n",
       "<table border=\"1\" class=\"dataframe\">\n",
       "  <thead>\n",
       "    <tr style=\"text-align: right;\">\n",
       "      <th></th>\n",
       "      <th>df</th>\n",
       "      <th>promedio_precio_m2_terreno</th>\n",
       "    </tr>\n",
       "  </thead>\n",
       "  <tbody>\n",
       "    <tr>\n",
       "      <th>0</th>\n",
       "      <td>oct_2022_pachuca</td>\n",
       "      <td>19590.450803</td>\n",
       "    </tr>\n",
       "    <tr>\n",
       "      <th>1</th>\n",
       "      <td>nov_2022_pachuca</td>\n",
       "      <td>19128.516295</td>\n",
       "    </tr>\n",
       "    <tr>\n",
       "      <th>2</th>\n",
       "      <td>feb_2023_pachuca</td>\n",
       "      <td>19018.006466</td>\n",
       "    </tr>\n",
       "    <tr>\n",
       "      <th>3</th>\n",
       "      <td>mar_2023_pachuca</td>\n",
       "      <td>19095.527807</td>\n",
       "    </tr>\n",
       "    <tr>\n",
       "      <th>4</th>\n",
       "      <td>jun_2023_pachuca</td>\n",
       "      <td>20191.286164</td>\n",
       "    </tr>\n",
       "    <tr>\n",
       "      <th>5</th>\n",
       "      <td>jul_2023_pachuca</td>\n",
       "      <td>19088.130727</td>\n",
       "    </tr>\n",
       "    <tr>\n",
       "      <th>6</th>\n",
       "      <td>sep_2023_pachuca</td>\n",
       "      <td>20723.088072</td>\n",
       "    </tr>\n",
       "  </tbody>\n",
       "</table>\n",
       "</div>"
      ],
      "text/plain": [
       "                 df  promedio_precio_m2_terreno\n",
       "0  oct_2022_pachuca                19590.450803\n",
       "1  nov_2022_pachuca                19128.516295\n",
       "2  feb_2023_pachuca                19018.006466\n",
       "3  mar_2023_pachuca                19095.527807\n",
       "4  jun_2023_pachuca                20191.286164\n",
       "5  jul_2023_pachuca                19088.130727\n",
       "6  sep_2023_pachuca                20723.088072"
      ]
     },
     "execution_count": 7,
     "metadata": {},
     "output_type": "execute_result"
    }
   ],
   "source": [
    "dataframes_list = [\n",
    "    m2_df_alfa_q_oct_2022_pachuca,\n",
    "    m2_df_alfa_q_nov_2022_pachuca,\n",
    "    m2_df_alfa_q_feb_2023_pachuca,\n",
    "    m2_df_alfa_q_mar_2023_pachuca,\n",
    "    m2_df_alfa_q_jun_2023_pachuca,\n",
    "    m2_df_alfa_q_jul_2023_pachuca,\n",
    "    m2_df_alfa_q_sep_2023_pachuca\n",
    "]\n",
    "# Calcular el promedio de la columna deseada en cada DataFrame\n",
    "promedios = [] # Lista para almacenar los promedios\n",
    "for df in dataframes_list:\n",
    "    promedio = df['precio_m2_terreno'].mean()\n",
    "    promedios.append(promedio)\n",
    "\n",
    "# Crear un nuevo DataFrame con los nombres de los DataFrames y los promedios\n",
    "nombres_dataframes = ['oct_2022_pachuca', 'nov_2022_pachuca', 'feb_2023_pachuca', 'mar_2023_pachuca', 'jun_2023_pachuca', 'jul_2023_pachuca','sep_2023_pachuca']\n",
    "df_promedios = pd.DataFrame({'df': nombres_dataframes, 'promedio_precio_m2_terreno': promedios})\n",
    "df_promedios"
   ]
  }
 ],
 "metadata": {
  "kernelspec": {
   "display_name": "base",
   "language": "python",
   "name": "python3"
  },
  "language_info": {
   "codemirror_mode": {
    "name": "ipython",
    "version": 3
   },
   "file_extension": ".py",
   "mimetype": "text/x-python",
   "name": "python",
   "nbconvert_exporter": "python",
   "pygments_lexer": "ipython3",
   "version": "3.9.13"
  }
 },
 "nbformat": 4,
 "nbformat_minor": 2
}
