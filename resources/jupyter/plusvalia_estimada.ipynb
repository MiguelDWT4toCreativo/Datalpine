{
 "cells": [
  {
   "cell_type": "markdown",
   "metadata": {},
   "source": [
    "# ***Plusvalía estimada***"
   ]
  },
  {
   "cell_type": "code",
   "execution_count": 1,
   "metadata": {},
   "outputs": [],
   "source": [
    "# Manejo de datos\n",
    "import os # Directorios\n",
    "import pandas as pd # Manipulación df\n",
    "import numpy as np\n",
    "# Gráficas\n",
    "import plotly.graph_objects as go #Para obtener librería usar: pip install plotly\n",
    "from plotly.subplots import make_subplots\n",
    "import plotly.io as pio # Exportar gráfica"
   ]
  },
  {
   "cell_type": "code",
   "execution_count": 2,
   "metadata": {},
   "outputs": [],
   "source": [
    "# Obtener el directorio actual de trabajo\n",
    "directorio_actual = os.getcwd()\n",
    "# Directorio donde se encuentran los archivos JSON (ruta relativa)\n",
    "directorio_json = os.path.join(directorio_actual, 'datos_json')\n",
    "#print(\"Directorio JSON relativo:\", directorio_json)\n",
    "# Obtener la lista de archivos JSON en el directorio\n",
    "archivos_json = os.listdir(directorio_json)"
   ]
  },
  {
   "cell_type": "code",
   "execution_count": 3,
   "metadata": {},
   "outputs": [],
   "source": [
    "dataframes = {}\n",
    "# Iterar sobre cada archivo JSON y crear un DataFrame\n",
    "for archivo in archivos_json:\n",
    "    # Obtener el nombre de la tabla del nombre del archivo\n",
    "    nombre_tabla = archivo.replace('datos_', '').replace('.json', '')    \n",
    "    # Cargar el archivo JSON en un DataFrame y asignarlo a una variable con un nombre dinámico\n",
    "    ruta_json = os.path.join(directorio_json, archivo)\n",
    "    globals()[f\"df_{nombre_tabla}\"] = pd.read_json(ruta_json)"
   ]
  },
  {
   "cell_type": "code",
   "execution_count": 4,
   "metadata": {},
   "outputs": [
    {
     "name": "stdout",
     "output_type": "stream",
     "text": [
      "Lista de DataFrames creados:\n",
      "['df_alfa_q_feb_2023_pachuca', 'df_alfa_q_jul_2023_pachuca', 'df_alfa_q_jun_2023_pachuca', 'df_alfa_q_mar_2023_pachuca', 'df_alfa_q_nov_2022_pachuca', 'df_alfa_q_oct_2022_pachuca', 'df_alfa_q_sep_2023_pachuca', 'df_enero_2024_querertaro', 'df_financiamientos_2019_pachuca', 'df_financiamientos_2020_pachuca', 'df_financiamientos_2021_pachuca', 'df_financiamientos_2022_pachuca', 'df_financiamientos_2023_pachuca', 'df_grupos_edad_pachuca', 'df_grupos_edad_queretaro', 'df_junio_2023_queretaro', 'df_publicacion_pachuca', 'df_salarios_pachuca', 'df_usuarios']\n"
     ]
    }
   ],
   "source": [
    "# Obtener todos los nombres de las variables globales\n",
    "nombres_variables_globales = list(globals().keys())\n",
    "# Filtrar los nombres, solo aquellos que comienzan con \"df_\"\n",
    "nombres_df = [nombre for nombre in nombres_variables_globales if nombre.startswith(\"df_\")]\n",
    "\n",
    "# Lista de nombres de los DataFrames creados\n",
    "print(\"Lista de DataFrames creados:\")\n",
    "print(nombres_df)"
   ]
  },
  {
   "cell_type": "code",
   "execution_count": 5,
   "metadata": {},
   "outputs": [
    {
     "data": {
      "text/plain": [
       "Index(['id', 'q', 'categoria', 'ids', 'propiedad', 'precio', 'm2_total',\n",
       "       'm2_contruido', 'precio_m2_contruido', 'precio_m2_terreno',\n",
       "       'publicado_hace', 'personas_interesadas', 'status', 'tipo',\n",
       "       'estacionamiento', 'recamaras', 'baño', 'medio_baño', 'baño_total',\n",
       "       'cantidad_pisos', 'antiguedad', 'seguridad_privada', 'fraccionamiento',\n",
       "       'colonia', 'cp', 'url'],\n",
       "      dtype='object')"
      ]
     },
     "execution_count": 5,
     "metadata": {},
     "output_type": "execute_result"
    }
   ],
   "source": [
    "df_alfa_q_oct_2022_pachuca.columns"
   ]
  },
  {
   "cell_type": "code",
   "execution_count": null,
   "metadata": {},
   "outputs": [],
   "source": []
  },
  {
   "cell_type": "code",
   "execution_count": 7,
   "metadata": {},
   "outputs": [
    {
     "data": {
      "text/plain": [
       "Index(['id', 'año', 'mes', 'cve_ent', 'entidad', 'cve_municipio', 'municipio',\n",
       "       'organismo', 'modalidad', 'destino', 'tipo', 'sexo', 'edad_rango',\n",
       "       'ingresos_rango', 'vivienda_valor', 'acciones', 'monto'],\n",
       "      dtype='object')"
      ]
     },
     "execution_count": 7,
     "metadata": {},
     "output_type": "execute_result"
    }
   ],
   "source": [
    "df_financiamientos_2020_pachuca.columns"
   ]
  },
  {
   "cell_type": "code",
   "execution_count": 8,
   "metadata": {},
   "outputs": [
    {
     "data": {
      "text/html": [
       "<div>\n",
       "<style scoped>\n",
       "    .dataframe tbody tr th:only-of-type {\n",
       "        vertical-align: middle;\n",
       "    }\n",
       "\n",
       "    .dataframe tbody tr th {\n",
       "        vertical-align: top;\n",
       "    }\n",
       "\n",
       "    .dataframe thead th {\n",
       "        text-align: right;\n",
       "    }\n",
       "</style>\n",
       "<table border=\"1\" class=\"dataframe\">\n",
       "  <thead>\n",
       "    <tr style=\"text-align: right;\">\n",
       "      <th></th>\n",
       "      <th>id</th>\n",
       "      <th>año</th>\n",
       "      <th>mes</th>\n",
       "      <th>cve_ent</th>\n",
       "      <th>entidad</th>\n",
       "      <th>cve_municipio</th>\n",
       "      <th>municipio</th>\n",
       "      <th>organismo</th>\n",
       "      <th>modalidad</th>\n",
       "      <th>destino</th>\n",
       "      <th>tipo</th>\n",
       "      <th>sexo</th>\n",
       "      <th>edad_rango</th>\n",
       "      <th>ingresos_rango</th>\n",
       "      <th>vivienda_valor</th>\n",
       "      <th>acciones</th>\n",
       "      <th>monto</th>\n",
       "    </tr>\n",
       "  </thead>\n",
       "  <tbody>\n",
       "    <tr>\n",
       "      <th>0</th>\n",
       "      <td>1</td>\n",
       "      <td>2020</td>\n",
       "      <td>1</td>\n",
       "      <td>13</td>\n",
       "      <td>Hidalgo</td>\n",
       "      <td>48</td>\n",
       "      <td>Pachuca de Soto</td>\n",
       "      <td>2</td>\n",
       "      <td>2</td>\n",
       "      <td>1</td>\n",
       "      <td>2</td>\n",
       "      <td>2</td>\n",
       "      <td>1</td>\n",
       "      <td>1</td>\n",
       "      <td>1</td>\n",
       "      <td>1</td>\n",
       "      <td>10286.00</td>\n",
       "    </tr>\n",
       "    <tr>\n",
       "      <th>1</th>\n",
       "      <td>2</td>\n",
       "      <td>2020</td>\n",
       "      <td>1</td>\n",
       "      <td>13</td>\n",
       "      <td>Hidalgo</td>\n",
       "      <td>48</td>\n",
       "      <td>Pachuca de Soto</td>\n",
       "      <td>2</td>\n",
       "      <td>2</td>\n",
       "      <td>1</td>\n",
       "      <td>2</td>\n",
       "      <td>1</td>\n",
       "      <td>1</td>\n",
       "      <td>1</td>\n",
       "      <td>1</td>\n",
       "      <td>1</td>\n",
       "      <td>16471.00</td>\n",
       "    </tr>\n",
       "    <tr>\n",
       "      <th>2</th>\n",
       "      <td>3</td>\n",
       "      <td>2020</td>\n",
       "      <td>1</td>\n",
       "      <td>13</td>\n",
       "      <td>Hidalgo</td>\n",
       "      <td>48</td>\n",
       "      <td>Pachuca de Soto</td>\n",
       "      <td>2</td>\n",
       "      <td>2</td>\n",
       "      <td>1</td>\n",
       "      <td>2</td>\n",
       "      <td>1</td>\n",
       "      <td>2</td>\n",
       "      <td>1</td>\n",
       "      <td>1</td>\n",
       "      <td>1</td>\n",
       "      <td>25171.00</td>\n",
       "    </tr>\n",
       "    <tr>\n",
       "      <th>3</th>\n",
       "      <td>4</td>\n",
       "      <td>2020</td>\n",
       "      <td>1</td>\n",
       "      <td>13</td>\n",
       "      <td>Hidalgo</td>\n",
       "      <td>48</td>\n",
       "      <td>Pachuca de Soto</td>\n",
       "      <td>2</td>\n",
       "      <td>2</td>\n",
       "      <td>1</td>\n",
       "      <td>1</td>\n",
       "      <td>2</td>\n",
       "      <td>2</td>\n",
       "      <td>2</td>\n",
       "      <td>1</td>\n",
       "      <td>1</td>\n",
       "      <td>29856.00</td>\n",
       "    </tr>\n",
       "    <tr>\n",
       "      <th>4</th>\n",
       "      <td>5</td>\n",
       "      <td>2020</td>\n",
       "      <td>1</td>\n",
       "      <td>13</td>\n",
       "      <td>Hidalgo</td>\n",
       "      <td>48</td>\n",
       "      <td>Pachuca de Soto</td>\n",
       "      <td>2</td>\n",
       "      <td>2</td>\n",
       "      <td>1</td>\n",
       "      <td>1</td>\n",
       "      <td>2</td>\n",
       "      <td>2</td>\n",
       "      <td>5</td>\n",
       "      <td>1</td>\n",
       "      <td>1</td>\n",
       "      <td>46811.00</td>\n",
       "    </tr>\n",
       "    <tr>\n",
       "      <th>...</th>\n",
       "      <td>...</td>\n",
       "      <td>...</td>\n",
       "      <td>...</td>\n",
       "      <td>...</td>\n",
       "      <td>...</td>\n",
       "      <td>...</td>\n",
       "      <td>...</td>\n",
       "      <td>...</td>\n",
       "      <td>...</td>\n",
       "      <td>...</td>\n",
       "      <td>...</td>\n",
       "      <td>...</td>\n",
       "      <td>...</td>\n",
       "      <td>...</td>\n",
       "      <td>...</td>\n",
       "      <td>...</td>\n",
       "      <td>...</td>\n",
       "    </tr>\n",
       "    <tr>\n",
       "      <th>1173</th>\n",
       "      <td>1174</td>\n",
       "      <td>2020</td>\n",
       "      <td>12</td>\n",
       "      <td>13</td>\n",
       "      <td>Hidalgo</td>\n",
       "      <td>48</td>\n",
       "      <td>Pachuca de Soto</td>\n",
       "      <td>1</td>\n",
       "      <td>1</td>\n",
       "      <td>2</td>\n",
       "      <td>1</td>\n",
       "      <td>1</td>\n",
       "      <td>2</td>\n",
       "      <td>6</td>\n",
       "      <td>4</td>\n",
       "      <td>4</td>\n",
       "      <td>6099374.96</td>\n",
       "    </tr>\n",
       "    <tr>\n",
       "      <th>1174</th>\n",
       "      <td>1175</td>\n",
       "      <td>2020</td>\n",
       "      <td>12</td>\n",
       "      <td>13</td>\n",
       "      <td>Hidalgo</td>\n",
       "      <td>48</td>\n",
       "      <td>Pachuca de Soto</td>\n",
       "      <td>2</td>\n",
       "      <td>1</td>\n",
       "      <td>2</td>\n",
       "      <td>1</td>\n",
       "      <td>1</td>\n",
       "      <td>3</td>\n",
       "      <td>6</td>\n",
       "      <td>6</td>\n",
       "      <td>1</td>\n",
       "      <td>6584000.00</td>\n",
       "    </tr>\n",
       "    <tr>\n",
       "      <th>1175</th>\n",
       "      <td>1176</td>\n",
       "      <td>2020</td>\n",
       "      <td>12</td>\n",
       "      <td>13</td>\n",
       "      <td>Hidalgo</td>\n",
       "      <td>48</td>\n",
       "      <td>Pachuca de Soto</td>\n",
       "      <td>2</td>\n",
       "      <td>1</td>\n",
       "      <td>2</td>\n",
       "      <td>1</td>\n",
       "      <td>1</td>\n",
       "      <td>2</td>\n",
       "      <td>6</td>\n",
       "      <td>5</td>\n",
       "      <td>4</td>\n",
       "      <td>8904106.00</td>\n",
       "    </tr>\n",
       "    <tr>\n",
       "      <th>1176</th>\n",
       "      <td>1177</td>\n",
       "      <td>2020</td>\n",
       "      <td>12</td>\n",
       "      <td>13</td>\n",
       "      <td>Hidalgo</td>\n",
       "      <td>48</td>\n",
       "      <td>Pachuca de Soto</td>\n",
       "      <td>2</td>\n",
       "      <td>1</td>\n",
       "      <td>2</td>\n",
       "      <td>1</td>\n",
       "      <td>2</td>\n",
       "      <td>2</td>\n",
       "      <td>6</td>\n",
       "      <td>5</td>\n",
       "      <td>7</td>\n",
       "      <td>13390156.00</td>\n",
       "    </tr>\n",
       "    <tr>\n",
       "      <th>1177</th>\n",
       "      <td>1178</td>\n",
       "      <td>2020</td>\n",
       "      <td>12</td>\n",
       "      <td>13</td>\n",
       "      <td>Hidalgo</td>\n",
       "      <td>48</td>\n",
       "      <td>Pachuca de Soto</td>\n",
       "      <td>2</td>\n",
       "      <td>1</td>\n",
       "      <td>2</td>\n",
       "      <td>1</td>\n",
       "      <td>2</td>\n",
       "      <td>2</td>\n",
       "      <td>6</td>\n",
       "      <td>6</td>\n",
       "      <td>3</td>\n",
       "      <td>14758617.00</td>\n",
       "    </tr>\n",
       "  </tbody>\n",
       "</table>\n",
       "<p>1178 rows × 17 columns</p>\n",
       "</div>"
      ],
      "text/plain": [
       "        id   año  mes  cve_ent  entidad  cve_municipio        municipio  \\\n",
       "0        1  2020    1       13  Hidalgo             48  Pachuca de Soto   \n",
       "1        2  2020    1       13  Hidalgo             48  Pachuca de Soto   \n",
       "2        3  2020    1       13  Hidalgo             48  Pachuca de Soto   \n",
       "3        4  2020    1       13  Hidalgo             48  Pachuca de Soto   \n",
       "4        5  2020    1       13  Hidalgo             48  Pachuca de Soto   \n",
       "...    ...   ...  ...      ...      ...            ...              ...   \n",
       "1173  1174  2020   12       13  Hidalgo             48  Pachuca de Soto   \n",
       "1174  1175  2020   12       13  Hidalgo             48  Pachuca de Soto   \n",
       "1175  1176  2020   12       13  Hidalgo             48  Pachuca de Soto   \n",
       "1176  1177  2020   12       13  Hidalgo             48  Pachuca de Soto   \n",
       "1177  1178  2020   12       13  Hidalgo             48  Pachuca de Soto   \n",
       "\n",
       "      organismo  modalidad  destino  tipo  sexo  edad_rango  ingresos_rango  \\\n",
       "0             2          2        1     2     2           1               1   \n",
       "1             2          2        1     2     1           1               1   \n",
       "2             2          2        1     2     1           2               1   \n",
       "3             2          2        1     1     2           2               2   \n",
       "4             2          2        1     1     2           2               5   \n",
       "...         ...        ...      ...   ...   ...         ...             ...   \n",
       "1173          1          1        2     1     1           2               6   \n",
       "1174          2          1        2     1     1           3               6   \n",
       "1175          2          1        2     1     1           2               6   \n",
       "1176          2          1        2     1     2           2               6   \n",
       "1177          2          1        2     1     2           2               6   \n",
       "\n",
       "      vivienda_valor  acciones        monto  \n",
       "0                  1         1     10286.00  \n",
       "1                  1         1     16471.00  \n",
       "2                  1         1     25171.00  \n",
       "3                  1         1     29856.00  \n",
       "4                  1         1     46811.00  \n",
       "...              ...       ...          ...  \n",
       "1173               4         4   6099374.96  \n",
       "1174               6         1   6584000.00  \n",
       "1175               5         4   8904106.00  \n",
       "1176               5         7  13390156.00  \n",
       "1177               6         3  14758617.00  \n",
       "\n",
       "[1178 rows x 17 columns]"
      ]
     },
     "execution_count": 8,
     "metadata": {},
     "output_type": "execute_result"
    }
   ],
   "source": [
    "df_financiamientos_2020_pachuca"
   ]
  },
  {
   "cell_type": "markdown",
   "metadata": {},
   "source": [
    "___\n",
    "# **Mediante datos directos**\n",
    "## *Plusvalía estimada*"
   ]
  },
  {
   "cell_type": "code",
   "execution_count": 5,
   "metadata": {},
   "outputs": [
    {
     "data": {
      "text/html": [
       "<div>\n",
       "<style scoped>\n",
       "    .dataframe tbody tr th:only-of-type {\n",
       "        vertical-align: middle;\n",
       "    }\n",
       "\n",
       "    .dataframe tbody tr th {\n",
       "        vertical-align: top;\n",
       "    }\n",
       "\n",
       "    .dataframe thead th {\n",
       "        text-align: right;\n",
       "    }\n",
       "</style>\n",
       "<table border=\"1\" class=\"dataframe\">\n",
       "  <thead>\n",
       "    <tr style=\"text-align: right;\">\n",
       "      <th></th>\n",
       "      <th>año</th>\n",
       "      <th>promedio</th>\n",
       "    </tr>\n",
       "  </thead>\n",
       "  <tbody>\n",
       "    <tr>\n",
       "      <th>0</th>\n",
       "      <td>2022</td>\n",
       "      <td>2589333.10</td>\n",
       "    </tr>\n",
       "    <tr>\n",
       "      <th>1</th>\n",
       "      <td>2023</td>\n",
       "      <td>3534894.07</td>\n",
       "    </tr>\n",
       "    <tr>\n",
       "      <th>2</th>\n",
       "      <td>2024</td>\n",
       "      <td>3984402.09</td>\n",
       "    </tr>\n",
       "    <tr>\n",
       "      <th>3</th>\n",
       "      <td>2025</td>\n",
       "      <td>4491070.92</td>\n",
       "    </tr>\n",
       "    <tr>\n",
       "      <th>4</th>\n",
       "      <td>2026</td>\n",
       "      <td>5062169.32</td>\n",
       "    </tr>\n",
       "  </tbody>\n",
       "</table>\n",
       "</div>"
      ],
      "text/plain": [
       "    año    promedio\n",
       "0  2022  2589333.10\n",
       "1  2023  3534894.07\n",
       "2  2024  3984402.09\n",
       "3  2025  4491070.92\n",
       "4  2026  5062169.32"
      ]
     },
     "execution_count": 5,
     "metadata": {},
     "output_type": "execute_result"
    }
   ],
   "source": [
    "datos_directos = {\n",
    "    'año': [2022, 2023, 2024, 2025, 2026],\n",
    "    'promedio': [2589333.1, 3534894.07, 3984402.09, 4491070.92, 5062169.32]\n",
    "}\n",
    "# Crear DataFrame\n",
    "direct_data = pd.DataFrame(datos_directos)\n",
    "direct_data"
   ]
  },
  {
   "cell_type": "code",
   "execution_count": 7,
   "metadata": {},
   "outputs": [
    {
     "data": {
      "application/vnd.plotly.v1+json": {
       "config": {
        "plotlyServerURL": "https://plot.ly"
       },
       "data": [
        {
         "marker": {
          "color": "blue"
         },
         "mode": "markers+lines",
         "type": "scatter",
         "x": [
          2022,
          2023,
          2024,
          2025,
          2026
         ],
         "y": [
          2589333.1,
          3534894.07,
          3984402.09,
          4491070.92,
          5062169.32
         ]
        }
       ],
       "layout": {
        "annotations": [
         {
          "font": {
           "color": "black",
           "size": 12
          },
          "showarrow": false,
          "text": "$2,589,333.10",
          "textangle": 0,
          "x": 2022,
          "xshift": 0,
          "y": 2589333.1,
          "yshift": 17
         },
         {
          "font": {
           "color": "black",
           "size": 12
          },
          "showarrow": false,
          "text": "$3,534,894.07",
          "textangle": 0,
          "x": 2023,
          "xshift": 0,
          "y": 3534894.07,
          "yshift": 17
         },
         {
          "font": {
           "color": "black",
           "size": 12
          },
          "showarrow": false,
          "text": "$3,984,402.09",
          "textangle": 0,
          "x": 2024,
          "xshift": 0,
          "y": 3984402.09,
          "yshift": 17
         },
         {
          "font": {
           "color": "black",
           "size": 12
          },
          "showarrow": false,
          "text": "$4,491,070.92",
          "textangle": 0,
          "x": 2025,
          "xshift": 0,
          "y": 4491070.92,
          "yshift": 17
         },
         {
          "font": {
           "color": "black",
           "size": 12
          },
          "showarrow": false,
          "text": "$5,062,169.32",
          "textangle": 0,
          "x": 2026,
          "xshift": 0,
          "y": 5062169.32,
          "yshift": 17
         }
        ],
        "plot_bgcolor": "rgba(0,0,0,0)",
        "template": {
         "data": {
          "bar": [
           {
            "error_x": {
             "color": "#2a3f5f"
            },
            "error_y": {
             "color": "#2a3f5f"
            },
            "marker": {
             "line": {
              "color": "#E5ECF6",
              "width": 0.5
             },
             "pattern": {
              "fillmode": "overlay",
              "size": 10,
              "solidity": 0.2
             }
            },
            "type": "bar"
           }
          ],
          "barpolar": [
           {
            "marker": {
             "line": {
              "color": "#E5ECF6",
              "width": 0.5
             },
             "pattern": {
              "fillmode": "overlay",
              "size": 10,
              "solidity": 0.2
             }
            },
            "type": "barpolar"
           }
          ],
          "carpet": [
           {
            "aaxis": {
             "endlinecolor": "#2a3f5f",
             "gridcolor": "white",
             "linecolor": "white",
             "minorgridcolor": "white",
             "startlinecolor": "#2a3f5f"
            },
            "baxis": {
             "endlinecolor": "#2a3f5f",
             "gridcolor": "white",
             "linecolor": "white",
             "minorgridcolor": "white",
             "startlinecolor": "#2a3f5f"
            },
            "type": "carpet"
           }
          ],
          "choropleth": [
           {
            "colorbar": {
             "outlinewidth": 0,
             "ticks": ""
            },
            "type": "choropleth"
           }
          ],
          "contour": [
           {
            "colorbar": {
             "outlinewidth": 0,
             "ticks": ""
            },
            "colorscale": [
             [
              0,
              "#0d0887"
             ],
             [
              0.1111111111111111,
              "#46039f"
             ],
             [
              0.2222222222222222,
              "#7201a8"
             ],
             [
              0.3333333333333333,
              "#9c179e"
             ],
             [
              0.4444444444444444,
              "#bd3786"
             ],
             [
              0.5555555555555556,
              "#d8576b"
             ],
             [
              0.6666666666666666,
              "#ed7953"
             ],
             [
              0.7777777777777778,
              "#fb9f3a"
             ],
             [
              0.8888888888888888,
              "#fdca26"
             ],
             [
              1,
              "#f0f921"
             ]
            ],
            "type": "contour"
           }
          ],
          "contourcarpet": [
           {
            "colorbar": {
             "outlinewidth": 0,
             "ticks": ""
            },
            "type": "contourcarpet"
           }
          ],
          "heatmap": [
           {
            "colorbar": {
             "outlinewidth": 0,
             "ticks": ""
            },
            "colorscale": [
             [
              0,
              "#0d0887"
             ],
             [
              0.1111111111111111,
              "#46039f"
             ],
             [
              0.2222222222222222,
              "#7201a8"
             ],
             [
              0.3333333333333333,
              "#9c179e"
             ],
             [
              0.4444444444444444,
              "#bd3786"
             ],
             [
              0.5555555555555556,
              "#d8576b"
             ],
             [
              0.6666666666666666,
              "#ed7953"
             ],
             [
              0.7777777777777778,
              "#fb9f3a"
             ],
             [
              0.8888888888888888,
              "#fdca26"
             ],
             [
              1,
              "#f0f921"
             ]
            ],
            "type": "heatmap"
           }
          ],
          "heatmapgl": [
           {
            "colorbar": {
             "outlinewidth": 0,
             "ticks": ""
            },
            "colorscale": [
             [
              0,
              "#0d0887"
             ],
             [
              0.1111111111111111,
              "#46039f"
             ],
             [
              0.2222222222222222,
              "#7201a8"
             ],
             [
              0.3333333333333333,
              "#9c179e"
             ],
             [
              0.4444444444444444,
              "#bd3786"
             ],
             [
              0.5555555555555556,
              "#d8576b"
             ],
             [
              0.6666666666666666,
              "#ed7953"
             ],
             [
              0.7777777777777778,
              "#fb9f3a"
             ],
             [
              0.8888888888888888,
              "#fdca26"
             ],
             [
              1,
              "#f0f921"
             ]
            ],
            "type": "heatmapgl"
           }
          ],
          "histogram": [
           {
            "marker": {
             "pattern": {
              "fillmode": "overlay",
              "size": 10,
              "solidity": 0.2
             }
            },
            "type": "histogram"
           }
          ],
          "histogram2d": [
           {
            "colorbar": {
             "outlinewidth": 0,
             "ticks": ""
            },
            "colorscale": [
             [
              0,
              "#0d0887"
             ],
             [
              0.1111111111111111,
              "#46039f"
             ],
             [
              0.2222222222222222,
              "#7201a8"
             ],
             [
              0.3333333333333333,
              "#9c179e"
             ],
             [
              0.4444444444444444,
              "#bd3786"
             ],
             [
              0.5555555555555556,
              "#d8576b"
             ],
             [
              0.6666666666666666,
              "#ed7953"
             ],
             [
              0.7777777777777778,
              "#fb9f3a"
             ],
             [
              0.8888888888888888,
              "#fdca26"
             ],
             [
              1,
              "#f0f921"
             ]
            ],
            "type": "histogram2d"
           }
          ],
          "histogram2dcontour": [
           {
            "colorbar": {
             "outlinewidth": 0,
             "ticks": ""
            },
            "colorscale": [
             [
              0,
              "#0d0887"
             ],
             [
              0.1111111111111111,
              "#46039f"
             ],
             [
              0.2222222222222222,
              "#7201a8"
             ],
             [
              0.3333333333333333,
              "#9c179e"
             ],
             [
              0.4444444444444444,
              "#bd3786"
             ],
             [
              0.5555555555555556,
              "#d8576b"
             ],
             [
              0.6666666666666666,
              "#ed7953"
             ],
             [
              0.7777777777777778,
              "#fb9f3a"
             ],
             [
              0.8888888888888888,
              "#fdca26"
             ],
             [
              1,
              "#f0f921"
             ]
            ],
            "type": "histogram2dcontour"
           }
          ],
          "mesh3d": [
           {
            "colorbar": {
             "outlinewidth": 0,
             "ticks": ""
            },
            "type": "mesh3d"
           }
          ],
          "parcoords": [
           {
            "line": {
             "colorbar": {
              "outlinewidth": 0,
              "ticks": ""
             }
            },
            "type": "parcoords"
           }
          ],
          "pie": [
           {
            "automargin": true,
            "type": "pie"
           }
          ],
          "scatter": [
           {
            "fillpattern": {
             "fillmode": "overlay",
             "size": 10,
             "solidity": 0.2
            },
            "type": "scatter"
           }
          ],
          "scatter3d": [
           {
            "line": {
             "colorbar": {
              "outlinewidth": 0,
              "ticks": ""
             }
            },
            "marker": {
             "colorbar": {
              "outlinewidth": 0,
              "ticks": ""
             }
            },
            "type": "scatter3d"
           }
          ],
          "scattercarpet": [
           {
            "marker": {
             "colorbar": {
              "outlinewidth": 0,
              "ticks": ""
             }
            },
            "type": "scattercarpet"
           }
          ],
          "scattergeo": [
           {
            "marker": {
             "colorbar": {
              "outlinewidth": 0,
              "ticks": ""
             }
            },
            "type": "scattergeo"
           }
          ],
          "scattergl": [
           {
            "marker": {
             "colorbar": {
              "outlinewidth": 0,
              "ticks": ""
             }
            },
            "type": "scattergl"
           }
          ],
          "scattermapbox": [
           {
            "marker": {
             "colorbar": {
              "outlinewidth": 0,
              "ticks": ""
             }
            },
            "type": "scattermapbox"
           }
          ],
          "scatterpolar": [
           {
            "marker": {
             "colorbar": {
              "outlinewidth": 0,
              "ticks": ""
             }
            },
            "type": "scatterpolar"
           }
          ],
          "scatterpolargl": [
           {
            "marker": {
             "colorbar": {
              "outlinewidth": 0,
              "ticks": ""
             }
            },
            "type": "scatterpolargl"
           }
          ],
          "scatterternary": [
           {
            "marker": {
             "colorbar": {
              "outlinewidth": 0,
              "ticks": ""
             }
            },
            "type": "scatterternary"
           }
          ],
          "surface": [
           {
            "colorbar": {
             "outlinewidth": 0,
             "ticks": ""
            },
            "colorscale": [
             [
              0,
              "#0d0887"
             ],
             [
              0.1111111111111111,
              "#46039f"
             ],
             [
              0.2222222222222222,
              "#7201a8"
             ],
             [
              0.3333333333333333,
              "#9c179e"
             ],
             [
              0.4444444444444444,
              "#bd3786"
             ],
             [
              0.5555555555555556,
              "#d8576b"
             ],
             [
              0.6666666666666666,
              "#ed7953"
             ],
             [
              0.7777777777777778,
              "#fb9f3a"
             ],
             [
              0.8888888888888888,
              "#fdca26"
             ],
             [
              1,
              "#f0f921"
             ]
            ],
            "type": "surface"
           }
          ],
          "table": [
           {
            "cells": {
             "fill": {
              "color": "#EBF0F8"
             },
             "line": {
              "color": "white"
             }
            },
            "header": {
             "fill": {
              "color": "#C8D4E3"
             },
             "line": {
              "color": "white"
             }
            },
            "type": "table"
           }
          ]
         },
         "layout": {
          "annotationdefaults": {
           "arrowcolor": "#2a3f5f",
           "arrowhead": 0,
           "arrowwidth": 1
          },
          "autotypenumbers": "strict",
          "coloraxis": {
           "colorbar": {
            "outlinewidth": 0,
            "ticks": ""
           }
          },
          "colorscale": {
           "diverging": [
            [
             0,
             "#8e0152"
            ],
            [
             0.1,
             "#c51b7d"
            ],
            [
             0.2,
             "#de77ae"
            ],
            [
             0.3,
             "#f1b6da"
            ],
            [
             0.4,
             "#fde0ef"
            ],
            [
             0.5,
             "#f7f7f7"
            ],
            [
             0.6,
             "#e6f5d0"
            ],
            [
             0.7,
             "#b8e186"
            ],
            [
             0.8,
             "#7fbc41"
            ],
            [
             0.9,
             "#4d9221"
            ],
            [
             1,
             "#276419"
            ]
           ],
           "sequential": [
            [
             0,
             "#0d0887"
            ],
            [
             0.1111111111111111,
             "#46039f"
            ],
            [
             0.2222222222222222,
             "#7201a8"
            ],
            [
             0.3333333333333333,
             "#9c179e"
            ],
            [
             0.4444444444444444,
             "#bd3786"
            ],
            [
             0.5555555555555556,
             "#d8576b"
            ],
            [
             0.6666666666666666,
             "#ed7953"
            ],
            [
             0.7777777777777778,
             "#fb9f3a"
            ],
            [
             0.8888888888888888,
             "#fdca26"
            ],
            [
             1,
             "#f0f921"
            ]
           ],
           "sequentialminus": [
            [
             0,
             "#0d0887"
            ],
            [
             0.1111111111111111,
             "#46039f"
            ],
            [
             0.2222222222222222,
             "#7201a8"
            ],
            [
             0.3333333333333333,
             "#9c179e"
            ],
            [
             0.4444444444444444,
             "#bd3786"
            ],
            [
             0.5555555555555556,
             "#d8576b"
            ],
            [
             0.6666666666666666,
             "#ed7953"
            ],
            [
             0.7777777777777778,
             "#fb9f3a"
            ],
            [
             0.8888888888888888,
             "#fdca26"
            ],
            [
             1,
             "#f0f921"
            ]
           ]
          },
          "colorway": [
           "#636efa",
           "#EF553B",
           "#00cc96",
           "#ab63fa",
           "#FFA15A",
           "#19d3f3",
           "#FF6692",
           "#B6E880",
           "#FF97FF",
           "#FECB52"
          ],
          "font": {
           "color": "#2a3f5f"
          },
          "geo": {
           "bgcolor": "white",
           "lakecolor": "white",
           "landcolor": "#E5ECF6",
           "showlakes": true,
           "showland": true,
           "subunitcolor": "white"
          },
          "hoverlabel": {
           "align": "left"
          },
          "hovermode": "closest",
          "mapbox": {
           "style": "light"
          },
          "paper_bgcolor": "white",
          "plot_bgcolor": "#E5ECF6",
          "polar": {
           "angularaxis": {
            "gridcolor": "white",
            "linecolor": "white",
            "ticks": ""
           },
           "bgcolor": "#E5ECF6",
           "radialaxis": {
            "gridcolor": "white",
            "linecolor": "white",
            "ticks": ""
           }
          },
          "scene": {
           "xaxis": {
            "backgroundcolor": "#E5ECF6",
            "gridcolor": "white",
            "gridwidth": 2,
            "linecolor": "white",
            "showbackground": true,
            "ticks": "",
            "zerolinecolor": "white"
           },
           "yaxis": {
            "backgroundcolor": "#E5ECF6",
            "gridcolor": "white",
            "gridwidth": 2,
            "linecolor": "white",
            "showbackground": true,
            "ticks": "",
            "zerolinecolor": "white"
           },
           "zaxis": {
            "backgroundcolor": "#E5ECF6",
            "gridcolor": "white",
            "gridwidth": 2,
            "linecolor": "white",
            "showbackground": true,
            "ticks": "",
            "zerolinecolor": "white"
           }
          },
          "shapedefaults": {
           "line": {
            "color": "#2a3f5f"
           }
          },
          "ternary": {
           "aaxis": {
            "gridcolor": "white",
            "linecolor": "white",
            "ticks": ""
           },
           "baxis": {
            "gridcolor": "white",
            "linecolor": "white",
            "ticks": ""
           },
           "bgcolor": "#E5ECF6",
           "caxis": {
            "gridcolor": "white",
            "linecolor": "white",
            "ticks": ""
           }
          },
          "title": {
           "x": 0.05
          },
          "xaxis": {
           "automargin": true,
           "gridcolor": "white",
           "linecolor": "white",
           "ticks": "",
           "title": {
            "standoff": 15
           },
           "zerolinecolor": "white",
           "zerolinewidth": 2
          },
          "yaxis": {
           "automargin": true,
           "gridcolor": "white",
           "linecolor": "white",
           "ticks": "",
           "title": {
            "standoff": 15
           },
           "zerolinecolor": "white",
           "zerolinewidth": 2
          }
         }
        },
        "title": {
         "text": "Plusvalía estimada"
        },
        "xaxis": {
         "gridcolor": "#dddcda",
         "tickmode": "array",
         "ticktext": [
          2022,
          2023,
          2024,
          2025,
          2026
         ],
         "tickvals": [
          2022,
          2023,
          2024,
          2025,
          2026
         ]
        },
        "yaxis": {
         "gridcolor": "#dddcda",
         "gridwidth": 1,
         "range": [
          0,
          6000000
         ],
         "ticktext": [
          "$2,000,000",
          "$4,000,000",
          "$6,000,000"
         ],
         "tickvals": [
          2000000,
          4000000,
          6000000
         ]
        }
       }
      }
     },
     "metadata": {},
     "output_type": "display_data"
    }
   ],
   "source": [
    "# Datos\n",
    "año = direct_data['año']\n",
    "promedio = direct_data['promedio']\n",
    "\n",
    "fig = go.Figure()\n",
    "fig.add_trace(go.Scatter(\n",
    "    x=año,\n",
    "    y=promedio,\n",
    "    mode='markers+lines',\n",
    "    marker=dict(color='blue'),\n",
    "))\n",
    "# Agregar anotaciones para mostrar los valores encima de los puntos\n",
    "for a, p in zip(año, promedio):\n",
    "    fig.add_annotation(\n",
    "        x=a,\n",
    "        y=p,\n",
    "        text=f\"${p:,.2f}\",  # Formatear el valor del promedio como moneda\n",
    "        showarrow=False,\n",
    "        font=dict(color='black', size=12),\n",
    "        xshift=0,\n",
    "        yshift=17,\n",
    "        textangle=0\n",
    "    )\n",
    "# Actualizar diseño\n",
    "fig.update_layout(\n",
    "    title='Plusvalía estimada',\n",
    "    yaxis=dict(\n",
    "        range=[0, 6000000],  # Establecer el rango del eje y\n",
    "        tickvals=[2000000, 4000000, 6000000],  # Definir los valores de las marcas en el eje y\n",
    "        ticktext=['$2,000,000', '$4,000,000', '$6,000,000'],  # Definir el texto de las marcas en el eje y\n",
    "        gridcolor='#dddcda',  # Color de las líneas de la cuadrícula\n",
    "        gridwidth=1  # Ancho de las líneas de la cuadrícula\n",
    "    ),\n",
    "    xaxis=dict(\n",
    "        gridcolor='#dddcda', \n",
    "        tickmode='array',\n",
    "        tickvals=año,\n",
    "        ticktext=año\n",
    "    ),\n",
    "    plot_bgcolor='rgba(0,0,0,0)'\n",
    ")\n",
    "# Exportar gráfica como archivo HTML\n",
    "def guardar_grafico_como_html(fig, nombre_archivo, carpeta='graficas'):\n",
    "    # Crear la carpeta si no existe\n",
    "    if not os.path.exists(carpeta):\n",
    "        os.makedirs(carpeta)\n",
    "    \n",
    "    # Gráfica como archivo HTML en la carpeta especificada\n",
    "    pio.write_html(fig, f'{carpeta}/{nombre_archivo}.html')\n",
    "\n",
    "guardar_grafico_como_html(fig, 'g_scatt_plusvaliaestimada_direct_pachuca', carpeta='graficas')\n",
    "fig.show()\n"
   ]
  },
  {
   "cell_type": "markdown",
   "metadata": {},
   "source": [
    "## *Plusvalía estimada, porcentual*"
   ]
  },
  {
   "cell_type": "code",
   "execution_count": 8,
   "metadata": {},
   "outputs": [
    {
     "data": {
      "text/html": [
       "<div>\n",
       "<style scoped>\n",
       "    .dataframe tbody tr th:only-of-type {\n",
       "        vertical-align: middle;\n",
       "    }\n",
       "\n",
       "    .dataframe tbody tr th {\n",
       "        vertical-align: top;\n",
       "    }\n",
       "\n",
       "    .dataframe thead th {\n",
       "        text-align: right;\n",
       "    }\n",
       "</style>\n",
       "<table border=\"1\" class=\"dataframe\">\n",
       "  <thead>\n",
       "    <tr style=\"text-align: right;\">\n",
       "      <th></th>\n",
       "      <th>año</th>\n",
       "      <th>promedio</th>\n",
       "    </tr>\n",
       "  </thead>\n",
       "  <tbody>\n",
       "    <tr>\n",
       "      <th>0</th>\n",
       "      <td>2023</td>\n",
       "      <td>36.5</td>\n",
       "    </tr>\n",
       "    <tr>\n",
       "      <th>1</th>\n",
       "      <td>2024</td>\n",
       "      <td>49.2</td>\n",
       "    </tr>\n",
       "    <tr>\n",
       "      <th>2</th>\n",
       "      <td>2025</td>\n",
       "      <td>61.9</td>\n",
       "    </tr>\n",
       "    <tr>\n",
       "      <th>3</th>\n",
       "      <td>2026</td>\n",
       "      <td>74.6</td>\n",
       "    </tr>\n",
       "  </tbody>\n",
       "</table>\n",
       "</div>"
      ],
      "text/plain": [
       "    año  promedio\n",
       "0  2023      36.5\n",
       "1  2024      49.2\n",
       "2  2025      61.9\n",
       "3  2026      74.6"
      ]
     },
     "execution_count": 8,
     "metadata": {},
     "output_type": "execute_result"
    }
   ],
   "source": [
    "datos_directos = {\n",
    "    'año': [2023, 2024, 2025, 2026],\n",
    "    'promedio': [36.5, 49.2, 61.9, 74.6]\n",
    "}\n",
    "# Crear DataFrame\n",
    "direct_data_por = pd.DataFrame(datos_directos)\n",
    "direct_data_por"
   ]
  },
  {
   "cell_type": "code",
   "execution_count": 15,
   "metadata": {},
   "outputs": [
    {
     "data": {
      "application/vnd.plotly.v1+json": {
       "config": {
        "plotlyServerURL": "https://plot.ly"
       },
       "data": [
        {
         "marker": {
          "color": "blue"
         },
         "mode": "markers+lines",
         "type": "scatter",
         "x": [
          2023,
          2024,
          2025,
          2026
         ],
         "y": [
          36.5,
          49.2,
          61.9,
          74.6
         ]
        }
       ],
       "layout": {
        "annotations": [
         {
          "font": {
           "color": "black",
           "size": 12
          },
          "showarrow": false,
          "text": "36.5%",
          "textangle": 0,
          "x": 2023,
          "xshift": 0,
          "y": 36.5,
          "yshift": 17
         },
         {
          "font": {
           "color": "black",
           "size": 12
          },
          "showarrow": false,
          "text": "49.2%",
          "textangle": 0,
          "x": 2024,
          "xshift": 0,
          "y": 49.2,
          "yshift": 17
         },
         {
          "font": {
           "color": "black",
           "size": 12
          },
          "showarrow": false,
          "text": "61.9%",
          "textangle": 0,
          "x": 2025,
          "xshift": 0,
          "y": 61.9,
          "yshift": 17
         },
         {
          "font": {
           "color": "black",
           "size": 12
          },
          "showarrow": false,
          "text": "74.6%",
          "textangle": 0,
          "x": 2026,
          "xshift": 0,
          "y": 74.6,
          "yshift": 17
         }
        ],
        "plot_bgcolor": "rgba(0,0,0,0)",
        "template": {
         "data": {
          "bar": [
           {
            "error_x": {
             "color": "#2a3f5f"
            },
            "error_y": {
             "color": "#2a3f5f"
            },
            "marker": {
             "line": {
              "color": "#E5ECF6",
              "width": 0.5
             },
             "pattern": {
              "fillmode": "overlay",
              "size": 10,
              "solidity": 0.2
             }
            },
            "type": "bar"
           }
          ],
          "barpolar": [
           {
            "marker": {
             "line": {
              "color": "#E5ECF6",
              "width": 0.5
             },
             "pattern": {
              "fillmode": "overlay",
              "size": 10,
              "solidity": 0.2
             }
            },
            "type": "barpolar"
           }
          ],
          "carpet": [
           {
            "aaxis": {
             "endlinecolor": "#2a3f5f",
             "gridcolor": "white",
             "linecolor": "white",
             "minorgridcolor": "white",
             "startlinecolor": "#2a3f5f"
            },
            "baxis": {
             "endlinecolor": "#2a3f5f",
             "gridcolor": "white",
             "linecolor": "white",
             "minorgridcolor": "white",
             "startlinecolor": "#2a3f5f"
            },
            "type": "carpet"
           }
          ],
          "choropleth": [
           {
            "colorbar": {
             "outlinewidth": 0,
             "ticks": ""
            },
            "type": "choropleth"
           }
          ],
          "contour": [
           {
            "colorbar": {
             "outlinewidth": 0,
             "ticks": ""
            },
            "colorscale": [
             [
              0,
              "#0d0887"
             ],
             [
              0.1111111111111111,
              "#46039f"
             ],
             [
              0.2222222222222222,
              "#7201a8"
             ],
             [
              0.3333333333333333,
              "#9c179e"
             ],
             [
              0.4444444444444444,
              "#bd3786"
             ],
             [
              0.5555555555555556,
              "#d8576b"
             ],
             [
              0.6666666666666666,
              "#ed7953"
             ],
             [
              0.7777777777777778,
              "#fb9f3a"
             ],
             [
              0.8888888888888888,
              "#fdca26"
             ],
             [
              1,
              "#f0f921"
             ]
            ],
            "type": "contour"
           }
          ],
          "contourcarpet": [
           {
            "colorbar": {
             "outlinewidth": 0,
             "ticks": ""
            },
            "type": "contourcarpet"
           }
          ],
          "heatmap": [
           {
            "colorbar": {
             "outlinewidth": 0,
             "ticks": ""
            },
            "colorscale": [
             [
              0,
              "#0d0887"
             ],
             [
              0.1111111111111111,
              "#46039f"
             ],
             [
              0.2222222222222222,
              "#7201a8"
             ],
             [
              0.3333333333333333,
              "#9c179e"
             ],
             [
              0.4444444444444444,
              "#bd3786"
             ],
             [
              0.5555555555555556,
              "#d8576b"
             ],
             [
              0.6666666666666666,
              "#ed7953"
             ],
             [
              0.7777777777777778,
              "#fb9f3a"
             ],
             [
              0.8888888888888888,
              "#fdca26"
             ],
             [
              1,
              "#f0f921"
             ]
            ],
            "type": "heatmap"
           }
          ],
          "heatmapgl": [
           {
            "colorbar": {
             "outlinewidth": 0,
             "ticks": ""
            },
            "colorscale": [
             [
              0,
              "#0d0887"
             ],
             [
              0.1111111111111111,
              "#46039f"
             ],
             [
              0.2222222222222222,
              "#7201a8"
             ],
             [
              0.3333333333333333,
              "#9c179e"
             ],
             [
              0.4444444444444444,
              "#bd3786"
             ],
             [
              0.5555555555555556,
              "#d8576b"
             ],
             [
              0.6666666666666666,
              "#ed7953"
             ],
             [
              0.7777777777777778,
              "#fb9f3a"
             ],
             [
              0.8888888888888888,
              "#fdca26"
             ],
             [
              1,
              "#f0f921"
             ]
            ],
            "type": "heatmapgl"
           }
          ],
          "histogram": [
           {
            "marker": {
             "pattern": {
              "fillmode": "overlay",
              "size": 10,
              "solidity": 0.2
             }
            },
            "type": "histogram"
           }
          ],
          "histogram2d": [
           {
            "colorbar": {
             "outlinewidth": 0,
             "ticks": ""
            },
            "colorscale": [
             [
              0,
              "#0d0887"
             ],
             [
              0.1111111111111111,
              "#46039f"
             ],
             [
              0.2222222222222222,
              "#7201a8"
             ],
             [
              0.3333333333333333,
              "#9c179e"
             ],
             [
              0.4444444444444444,
              "#bd3786"
             ],
             [
              0.5555555555555556,
              "#d8576b"
             ],
             [
              0.6666666666666666,
              "#ed7953"
             ],
             [
              0.7777777777777778,
              "#fb9f3a"
             ],
             [
              0.8888888888888888,
              "#fdca26"
             ],
             [
              1,
              "#f0f921"
             ]
            ],
            "type": "histogram2d"
           }
          ],
          "histogram2dcontour": [
           {
            "colorbar": {
             "outlinewidth": 0,
             "ticks": ""
            },
            "colorscale": [
             [
              0,
              "#0d0887"
             ],
             [
              0.1111111111111111,
              "#46039f"
             ],
             [
              0.2222222222222222,
              "#7201a8"
             ],
             [
              0.3333333333333333,
              "#9c179e"
             ],
             [
              0.4444444444444444,
              "#bd3786"
             ],
             [
              0.5555555555555556,
              "#d8576b"
             ],
             [
              0.6666666666666666,
              "#ed7953"
             ],
             [
              0.7777777777777778,
              "#fb9f3a"
             ],
             [
              0.8888888888888888,
              "#fdca26"
             ],
             [
              1,
              "#f0f921"
             ]
            ],
            "type": "histogram2dcontour"
           }
          ],
          "mesh3d": [
           {
            "colorbar": {
             "outlinewidth": 0,
             "ticks": ""
            },
            "type": "mesh3d"
           }
          ],
          "parcoords": [
           {
            "line": {
             "colorbar": {
              "outlinewidth": 0,
              "ticks": ""
             }
            },
            "type": "parcoords"
           }
          ],
          "pie": [
           {
            "automargin": true,
            "type": "pie"
           }
          ],
          "scatter": [
           {
            "fillpattern": {
             "fillmode": "overlay",
             "size": 10,
             "solidity": 0.2
            },
            "type": "scatter"
           }
          ],
          "scatter3d": [
           {
            "line": {
             "colorbar": {
              "outlinewidth": 0,
              "ticks": ""
             }
            },
            "marker": {
             "colorbar": {
              "outlinewidth": 0,
              "ticks": ""
             }
            },
            "type": "scatter3d"
           }
          ],
          "scattercarpet": [
           {
            "marker": {
             "colorbar": {
              "outlinewidth": 0,
              "ticks": ""
             }
            },
            "type": "scattercarpet"
           }
          ],
          "scattergeo": [
           {
            "marker": {
             "colorbar": {
              "outlinewidth": 0,
              "ticks": ""
             }
            },
            "type": "scattergeo"
           }
          ],
          "scattergl": [
           {
            "marker": {
             "colorbar": {
              "outlinewidth": 0,
              "ticks": ""
             }
            },
            "type": "scattergl"
           }
          ],
          "scattermapbox": [
           {
            "marker": {
             "colorbar": {
              "outlinewidth": 0,
              "ticks": ""
             }
            },
            "type": "scattermapbox"
           }
          ],
          "scatterpolar": [
           {
            "marker": {
             "colorbar": {
              "outlinewidth": 0,
              "ticks": ""
             }
            },
            "type": "scatterpolar"
           }
          ],
          "scatterpolargl": [
           {
            "marker": {
             "colorbar": {
              "outlinewidth": 0,
              "ticks": ""
             }
            },
            "type": "scatterpolargl"
           }
          ],
          "scatterternary": [
           {
            "marker": {
             "colorbar": {
              "outlinewidth": 0,
              "ticks": ""
             }
            },
            "type": "scatterternary"
           }
          ],
          "surface": [
           {
            "colorbar": {
             "outlinewidth": 0,
             "ticks": ""
            },
            "colorscale": [
             [
              0,
              "#0d0887"
             ],
             [
              0.1111111111111111,
              "#46039f"
             ],
             [
              0.2222222222222222,
              "#7201a8"
             ],
             [
              0.3333333333333333,
              "#9c179e"
             ],
             [
              0.4444444444444444,
              "#bd3786"
             ],
             [
              0.5555555555555556,
              "#d8576b"
             ],
             [
              0.6666666666666666,
              "#ed7953"
             ],
             [
              0.7777777777777778,
              "#fb9f3a"
             ],
             [
              0.8888888888888888,
              "#fdca26"
             ],
             [
              1,
              "#f0f921"
             ]
            ],
            "type": "surface"
           }
          ],
          "table": [
           {
            "cells": {
             "fill": {
              "color": "#EBF0F8"
             },
             "line": {
              "color": "white"
             }
            },
            "header": {
             "fill": {
              "color": "#C8D4E3"
             },
             "line": {
              "color": "white"
             }
            },
            "type": "table"
           }
          ]
         },
         "layout": {
          "annotationdefaults": {
           "arrowcolor": "#2a3f5f",
           "arrowhead": 0,
           "arrowwidth": 1
          },
          "autotypenumbers": "strict",
          "coloraxis": {
           "colorbar": {
            "outlinewidth": 0,
            "ticks": ""
           }
          },
          "colorscale": {
           "diverging": [
            [
             0,
             "#8e0152"
            ],
            [
             0.1,
             "#c51b7d"
            ],
            [
             0.2,
             "#de77ae"
            ],
            [
             0.3,
             "#f1b6da"
            ],
            [
             0.4,
             "#fde0ef"
            ],
            [
             0.5,
             "#f7f7f7"
            ],
            [
             0.6,
             "#e6f5d0"
            ],
            [
             0.7,
             "#b8e186"
            ],
            [
             0.8,
             "#7fbc41"
            ],
            [
             0.9,
             "#4d9221"
            ],
            [
             1,
             "#276419"
            ]
           ],
           "sequential": [
            [
             0,
             "#0d0887"
            ],
            [
             0.1111111111111111,
             "#46039f"
            ],
            [
             0.2222222222222222,
             "#7201a8"
            ],
            [
             0.3333333333333333,
             "#9c179e"
            ],
            [
             0.4444444444444444,
             "#bd3786"
            ],
            [
             0.5555555555555556,
             "#d8576b"
            ],
            [
             0.6666666666666666,
             "#ed7953"
            ],
            [
             0.7777777777777778,
             "#fb9f3a"
            ],
            [
             0.8888888888888888,
             "#fdca26"
            ],
            [
             1,
             "#f0f921"
            ]
           ],
           "sequentialminus": [
            [
             0,
             "#0d0887"
            ],
            [
             0.1111111111111111,
             "#46039f"
            ],
            [
             0.2222222222222222,
             "#7201a8"
            ],
            [
             0.3333333333333333,
             "#9c179e"
            ],
            [
             0.4444444444444444,
             "#bd3786"
            ],
            [
             0.5555555555555556,
             "#d8576b"
            ],
            [
             0.6666666666666666,
             "#ed7953"
            ],
            [
             0.7777777777777778,
             "#fb9f3a"
            ],
            [
             0.8888888888888888,
             "#fdca26"
            ],
            [
             1,
             "#f0f921"
            ]
           ]
          },
          "colorway": [
           "#636efa",
           "#EF553B",
           "#00cc96",
           "#ab63fa",
           "#FFA15A",
           "#19d3f3",
           "#FF6692",
           "#B6E880",
           "#FF97FF",
           "#FECB52"
          ],
          "font": {
           "color": "#2a3f5f"
          },
          "geo": {
           "bgcolor": "white",
           "lakecolor": "white",
           "landcolor": "#E5ECF6",
           "showlakes": true,
           "showland": true,
           "subunitcolor": "white"
          },
          "hoverlabel": {
           "align": "left"
          },
          "hovermode": "closest",
          "mapbox": {
           "style": "light"
          },
          "paper_bgcolor": "white",
          "plot_bgcolor": "#E5ECF6",
          "polar": {
           "angularaxis": {
            "gridcolor": "white",
            "linecolor": "white",
            "ticks": ""
           },
           "bgcolor": "#E5ECF6",
           "radialaxis": {
            "gridcolor": "white",
            "linecolor": "white",
            "ticks": ""
           }
          },
          "scene": {
           "xaxis": {
            "backgroundcolor": "#E5ECF6",
            "gridcolor": "white",
            "gridwidth": 2,
            "linecolor": "white",
            "showbackground": true,
            "ticks": "",
            "zerolinecolor": "white"
           },
           "yaxis": {
            "backgroundcolor": "#E5ECF6",
            "gridcolor": "white",
            "gridwidth": 2,
            "linecolor": "white",
            "showbackground": true,
            "ticks": "",
            "zerolinecolor": "white"
           },
           "zaxis": {
            "backgroundcolor": "#E5ECF6",
            "gridcolor": "white",
            "gridwidth": 2,
            "linecolor": "white",
            "showbackground": true,
            "ticks": "",
            "zerolinecolor": "white"
           }
          },
          "shapedefaults": {
           "line": {
            "color": "#2a3f5f"
           }
          },
          "ternary": {
           "aaxis": {
            "gridcolor": "white",
            "linecolor": "white",
            "ticks": ""
           },
           "baxis": {
            "gridcolor": "white",
            "linecolor": "white",
            "ticks": ""
           },
           "bgcolor": "#E5ECF6",
           "caxis": {
            "gridcolor": "white",
            "linecolor": "white",
            "ticks": ""
           }
          },
          "title": {
           "x": 0.05
          },
          "xaxis": {
           "automargin": true,
           "gridcolor": "white",
           "linecolor": "white",
           "ticks": "",
           "title": {
            "standoff": 15
           },
           "zerolinecolor": "white",
           "zerolinewidth": 2
          },
          "yaxis": {
           "automargin": true,
           "gridcolor": "white",
           "linecolor": "white",
           "ticks": "",
           "title": {
            "standoff": 15
           },
           "zerolinecolor": "white",
           "zerolinewidth": 2
          }
         }
        },
        "title": {
         "text": "Plusvalía estimada, Porcentual"
        },
        "xaxis": {
         "gridcolor": "#dddcda",
         "tickmode": "array",
         "ticktext": [
          2023,
          2024,
          2025,
          2026
         ],
         "tickvals": [
          2023,
          2024,
          2025,
          2026
         ]
        },
        "yaxis": {
         "gridcolor": "#dddcda",
         "gridwidth": 1,
         "range": [
          0,
          100
         ],
         "ticktext": [
          "0%",
          "25%",
          "50%",
          "75%",
          "100%"
         ],
         "tickvals": [
          0,
          25,
          50,
          75,
          100
         ]
        }
       }
      }
     },
     "metadata": {},
     "output_type": "display_data"
    }
   ],
   "source": [
    "# Datos\n",
    "año = direct_data_por['año']\n",
    "promedio = direct_data_por['promedio']\n",
    "\n",
    "# Crear figura\n",
    "fig = go.Figure()\n",
    "fig.add_trace(go.Scatter(\n",
    "    x=año,\n",
    "    y=promedio,\n",
    "    mode='markers+lines',\n",
    "    marker=dict(color='blue'),\n",
    "))\n",
    "\n",
    "# Agregar anotaciones para mostrar los valores encima de los puntos\n",
    "for a, p in zip(año, promedio):\n",
    "    fig.add_annotation(\n",
    "        x=a,\n",
    "        y=p,\n",
    "        text=f\"{p}%\",  # Formatear el valor del promedio como porcentaje\n",
    "        showarrow=False,\n",
    "        font=dict(color='black', size=12),\n",
    "        xshift=0,\n",
    "        yshift=17,\n",
    "        textangle=0\n",
    "    )\n",
    "\n",
    "# Actualizar diseño\n",
    "fig.update_layout(\n",
    "    title='Plusvalía estimada, Porcentual',\n",
    "    yaxis=dict(\n",
    "        range=[0, 100],  # Establecer el rango del eje y\n",
    "        tickvals=[0, 25, 50, 75, 100],  # Definir los valores de las marcas en el eje y\n",
    "        ticktext=['0%', '25%', '50%', '75%', '100%'],  # Definir el texto de las marcas en el eje y\n",
    "        gridcolor='#dddcda',  # Color de las líneas de la cuadrícula\n",
    "        gridwidth=1  # Ancho de las líneas de la cuadrícula\n",
    "    ),\n",
    "    xaxis=dict(\n",
    "        gridcolor='#dddcda', \n",
    "        tickmode='array',\n",
    "        tickvals=año,\n",
    "        ticktext=año\n",
    "    ),\n",
    "    plot_bgcolor='rgba(0,0,0,0)'\n",
    ")\n",
    "\n",
    "# Exportar gráfica como archivo HTML\n",
    "def guardar_grafico_como_html(fig, nombre_archivo, carpeta='graficas'):\n",
    "    # Crear la carpeta si no existe\n",
    "    if not os.path.exists(carpeta):\n",
    "        os.makedirs(carpeta)\n",
    "    \n",
    "    # Gráfica como archivo HTML en la carpeta especificada\n",
    "    pio.write_html(fig, f'{carpeta}/{nombre_archivo}.html')\n",
    "\n",
    "guardar_grafico_como_html(fig, 'g_scatt_plusvaliaestimada_porcentual_direct_pachuca', carpeta='graficas')\n",
    "fig.show()\n"
   ]
  },
  {
   "cell_type": "markdown",
   "metadata": {},
   "source": [
    "____\n",
    "____\n",
    "# **Mediante moelo predictor**\n",
    "## *Identificamos columnas relevantes*"
   ]
  },
  {
   "cell_type": "code",
   "execution_count": 39,
   "metadata": {},
   "outputs": [
    {
     "name": "stdout",
     "output_type": "stream",
     "text": [
      "OCTUBRE 2022\n",
      "Index(['id', 'q', 'categoria', 'ids', 'propiedad', 'precio', 'm2_total',\n",
      "       'm2_contruido', 'precio_m2_contruido', 'precio_m2_terreno',\n",
      "       'publicado_hace', 'personas_interesadas', 'status', 'tipo',\n",
      "       'estacionamiento', 'recamaras', 'baño', 'medio_baño', 'baño_total',\n",
      "       'cantidad_pisos', 'antiguedad', 'seguridad_privada', 'fraccionamiento',\n",
      "       'colonia', 'cp', 'url'],\n",
      "      dtype='object')\n",
      "NOVIEMBRE 2022\n",
      "Index(['id', 'categoria', 'ids', 'propiedad', 'precio', 'm2_total',\n",
      "       'm2_contruido', 'precio_m2_contruido', 'precio_m2_terreno',\n",
      "       'publicado_hace', 'personas_interesadas', 'promedio', 'status', 'tipo',\n",
      "       'estacionamiento', 'recamaras', 'baño', 'medio_baño', 'baño_total',\n",
      "       'cantidad_piso', 'antiguedad', 'seguridad', 'fraccionamiento',\n",
      "       'colonia', 'cp', 'url'],\n",
      "      dtype='object')\n",
      "FEBRERO 2023\n",
      "Index(['id', 'categoria', 'ids', 'propiedad', 'precio', 'tipo',\n",
      "       'personas_interesadas', 'm2_total', 'm2_contruido',\n",
      "       'precio_m2_contruido', 'precio_m2_terreno', 'promedio', 'baño',\n",
      "       'medio_baño', 'baño_total', 'estacionamiento', 'recamaras',\n",
      "       'antiguedad', 'publicado_hace', 'status'],\n",
      "      dtype='object')\n",
      "MAR 2023\n",
      "Index(['id', 'q', 'categoria', 'ids', 'propiedad', 'precio', 'm2_total',\n",
      "       'm2_contruido', 'precio_m2_terreno', 'precio_m2_contruido',\n",
      "       'personas_interesadas', 'publicado_hace', 'promedio', 'status', 'tipo',\n",
      "       'estacionamiento', 'recamaras', 'baño', 'medio_baño', 'baño_total',\n",
      "       'cantidad_piso', 'antiguedad', 'fraccionamiento', 'colonia', 'cp',\n",
      "       'url'],\n",
      "      dtype='object')\n",
      "JUNIO 2023\n",
      "Index(['id', 'q', 'categoria', 'ids', 'propiedad', 'precio', 'm2_total',\n",
      "       'm2_contruido', 'precio_m2_terreno', 'precio_m2_contruido',\n",
      "       'personas_interesadas', 'publicado_hace', 'promedio', 'status', 'tipo',\n",
      "       'estacionamiento', 'recamaras', 'baño', 'medio_baño', 'baño_total',\n",
      "       'cantidad_piso', 'antiguedad', 'seguridad', 'fraccionamiento',\n",
      "       'colonia', 'cp', 'url'],\n",
      "      dtype='object')\n",
      "JULIO 2023\n",
      "Index(['id', 'q', 'categoria', 'ids', 'propiedad', 'precio', 'm2_total',\n",
      "       'm2_contruido', 'precio_m2_terreno', 'precio_m2_contruido',\n",
      "       'publicado_hace', 'personas_interesadas', 'promedio', 'status', 'tipo',\n",
      "       'estacionamiento', 'recamaras', 'baño', 'medio_baño', 'baño_total',\n",
      "       'seguridad', 'fraccionamiento', 'colonia', 'cp', 'url'],\n",
      "      dtype='object')\n",
      "SEPTIEMBRE 2023\n",
      "Index(['id', 'q', 'categoria', 'ids', 'propiedad', 'precio', 'm2_total',\n",
      "       'm2_construido', 'precio_m2_terreno', 'precio_m2_construido',\n",
      "       'publicado_hace', 'personas_interesadas', 'promedio', 'status', 'tipo',\n",
      "       'estacionamiento', 'recamaras', 'baño', 'medio_baño', 'baño_total',\n",
      "       'cantidad_piso', 'antiguedad', 'seguridad', 'fraccionamiento',\n",
      "       'colonia', 'cp', 'url', 'latitud', 'longitud'],\n",
      "      dtype='object')\n"
     ]
    }
   ],
   "source": [
    "print(\"OCTUBRE 2022\")\n",
    "print(df_alfa_q_oct_2022_pachuca.columns)\n",
    "print(\"NOVIEMBRE 2022\")\n",
    "print(df_alfa_q_nov_2022_pachuca.columns)\n",
    "print(\"FEBRERO 2023\")\n",
    "print(df_alfa_q_feb_2023_pachuca.columns)\n",
    "print(\"MAR 2023\")\n",
    "print(df_alfa_q_mar_2023_pachuca.columns)\n",
    "print(\"JUNIO 2023\")\n",
    "print(df_alfa_q_jun_2023_pachuca.columns)\n",
    "print(\"JULIO 2023\")\n",
    "print(df_alfa_q_jul_2023_pachuca.columns)\n",
    "print(\"SEPTIEMBRE 2023\")\n",
    "print(df_alfa_q_sep_2023_pachuca.columns)"
   ]
  },
  {
   "cell_type": "code",
   "execution_count": 140,
   "metadata": {},
   "outputs": [],
   "source": [
    "# Crea los DataFrames para cada archivo con las columnas necesarias\n",
    "oct_2022 = df_alfa_q_oct_2022_pachuca[['categoria','propiedad','precio','m2_total','m2_contruido','precio_m2_contruido','precio_m2_terreno','publicado_hace','personas_interesadas','status','tipo',\n",
    "                                        'estacionamiento','recamaras','baño','medio_baño','baño_total']]\n",
    "nov_2022 = df_alfa_q_nov_2022_pachuca[['categoria','propiedad','precio','m2_total','m2_contruido','precio_m2_contruido','precio_m2_terreno','publicado_hace','personas_interesadas','status','tipo',\n",
    "                                        'estacionamiento','recamaras','baño','medio_baño','baño_total']]\n",
    "feb_2023 = df_alfa_q_feb_2023_pachuca[['categoria','propiedad','precio','m2_total','m2_contruido','precio_m2_contruido','precio_m2_terreno','publicado_hace','personas_interesadas','status','tipo',\n",
    "                                        'estacionamiento', 'recamaras','baño','medio_baño', 'baño_total']]\n",
    "mar_2023 = df_alfa_q_mar_2023_pachuca[['categoria','propiedad','precio','m2_total','m2_contruido','precio_m2_contruido','precio_m2_terreno','publicado_hace','personas_interesadas','status','tipo',\n",
    "                                        'estacionamiento', 'recamaras','baño','medio_baño', 'baño_total']]\n",
    "jun_2023 = df_alfa_q_jun_2023_pachuca[['categoria','propiedad','precio','m2_total','m2_contruido','precio_m2_contruido','precio_m2_terreno','publicado_hace','personas_interesadas','status','tipo',\n",
    "                                        'estacionamiento', 'recamaras', 'baño','medio_baño', 'baño_total']]\n",
    "jul_2023 = df_alfa_q_jul_2023_pachuca[['categoria','propiedad','precio','m2_total','m2_contruido','precio_m2_contruido','precio_m2_terreno','publicado_hace','personas_interesadas','status','tipo',\n",
    "                                        'estacionamiento', 'recamaras', 'baño','medio_baño', 'baño_total']]\n",
    "sep_2023 = df_alfa_q_sep_2023_pachuca[['categoria','propiedad','precio','m2_total','m2_construido','precio_m2_construido','precio_m2_terreno','publicado_hace','personas_interesadas','status','tipo',\n",
    "                                        'estacionamiento', 'recamaras', 'baño','medio_baño', 'baño_total']] "
   ]
  },
  {
   "cell_type": "markdown",
   "metadata": {},
   "source": [
    "### Cambio de nombre de columnas para concatenarlas"
   ]
  },
  {
   "cell_type": "code",
   "execution_count": 141,
   "metadata": {},
   "outputs": [],
   "source": [
    "# Lista de DataFrames\n",
    "df_list = [oct_2022, nov_2022, feb_2023, mar_2023, jun_2023, jul_2023, sep_2023]\n",
    "# Diccionario para mapear nombres de columnas\n",
    "mapeo_columnas = {\n",
    "    'm2_contruido': 'm2_construido',\n",
    "    'precio_m2_contruido': 'precio_m2_construido',\n",
    "}\n",
    "# Iterar sobre cada DF y renombrar columnas\n",
    "for df in df_list:\n",
    "    df.rename(columns=mapeo_columnas, inplace=True)"
   ]
  },
  {
   "cell_type": "code",
   "execution_count": 142,
   "metadata": {},
   "outputs": [
    {
     "data": {
      "text/html": [
       "<div>\n",
       "<style scoped>\n",
       "    .dataframe tbody tr th:only-of-type {\n",
       "        vertical-align: middle;\n",
       "    }\n",
       "\n",
       "    .dataframe tbody tr th {\n",
       "        vertical-align: top;\n",
       "    }\n",
       "\n",
       "    .dataframe thead th {\n",
       "        text-align: right;\n",
       "    }\n",
       "</style>\n",
       "<table border=\"1\" class=\"dataframe\">\n",
       "  <thead>\n",
       "    <tr style=\"text-align: right;\">\n",
       "      <th></th>\n",
       "      <th>categoria</th>\n",
       "      <th>propiedad</th>\n",
       "      <th>precio</th>\n",
       "      <th>m2_total</th>\n",
       "      <th>m2_construido</th>\n",
       "      <th>precio_m2_construido</th>\n",
       "      <th>precio_m2_terreno</th>\n",
       "      <th>publicado_hace</th>\n",
       "      <th>personas_interesadas</th>\n",
       "      <th>status</th>\n",
       "      <th>tipo</th>\n",
       "      <th>estacionamiento</th>\n",
       "      <th>recamaras</th>\n",
       "      <th>baño</th>\n",
       "      <th>medio_baño</th>\n",
       "      <th>baño_total</th>\n",
       "      <th>Mes</th>\n",
       "      <th>Año</th>\n",
       "    </tr>\n",
       "  </thead>\n",
       "  <tbody>\n",
       "    <tr>\n",
       "      <th>0</th>\n",
       "      <td>E1</td>\n",
       "      <td>Priv. los ganzos, Colonia Villas de Pachuca, C...</td>\n",
       "      <td>575000.00</td>\n",
       "      <td>45</td>\n",
       "      <td>50</td>\n",
       "      <td>11500.00</td>\n",
       "      <td>12777.78</td>\n",
       "      <td>0</td>\n",
       "      <td>0</td>\n",
       "      <td>venta</td>\n",
       "      <td>Departamento</td>\n",
       "      <td>1</td>\n",
       "      <td>2</td>\n",
       "      <td>1</td>\n",
       "      <td>0</td>\n",
       "      <td>1</td>\n",
       "      <td>Octubre</td>\n",
       "      <td>2022</td>\n",
       "    </tr>\n",
       "    <tr>\n",
       "      <th>1</th>\n",
       "      <td>E1</td>\n",
       "      <td>De Santiago, Colonia De Santiago, C.P. 42050</td>\n",
       "      <td>600000.00</td>\n",
       "      <td>46</td>\n",
       "      <td>100</td>\n",
       "      <td>6000.00</td>\n",
       "      <td>13043.48</td>\n",
       "      <td>0</td>\n",
       "      <td>0</td>\n",
       "      <td>Venta</td>\n",
       "      <td>Casa</td>\n",
       "      <td>1</td>\n",
       "      <td>3</td>\n",
       "      <td>2</td>\n",
       "      <td>0</td>\n",
       "      <td>2</td>\n",
       "      <td>Octubre</td>\n",
       "      <td>2022</td>\n",
       "    </tr>\n",
       "    <tr>\n",
       "      <th>2</th>\n",
       "      <td>E1</td>\n",
       "      <td>Gaviotas, Colonia Villas de Pachuca, C.P. 42083</td>\n",
       "      <td>550000.00</td>\n",
       "      <td>48</td>\n",
       "      <td>48</td>\n",
       "      <td>11458.33</td>\n",
       "      <td>11458.33</td>\n",
       "      <td>0</td>\n",
       "      <td>0</td>\n",
       "      <td>Venta</td>\n",
       "      <td>Casa</td>\n",
       "      <td>1</td>\n",
       "      <td>2</td>\n",
       "      <td>1</td>\n",
       "      <td>0</td>\n",
       "      <td>1</td>\n",
       "      <td>Octubre</td>\n",
       "      <td>2022</td>\n",
       "    </tr>\n",
       "    <tr>\n",
       "      <th>3</th>\n",
       "      <td>D3</td>\n",
       "      <td>Quinta Real, Colonia Quinta Real, C.P. 42082</td>\n",
       "      <td>751000.00</td>\n",
       "      <td>48</td>\n",
       "      <td>48</td>\n",
       "      <td>15500.52</td>\n",
       "      <td>15500.52</td>\n",
       "      <td>0</td>\n",
       "      <td>0</td>\n",
       "      <td>venta</td>\n",
       "      <td>Casa</td>\n",
       "      <td>1</td>\n",
       "      <td>2</td>\n",
       "      <td>1</td>\n",
       "      <td>0</td>\n",
       "      <td>1</td>\n",
       "      <td>Octubre</td>\n",
       "      <td>2022</td>\n",
       "    </tr>\n",
       "    <tr>\n",
       "      <th>4</th>\n",
       "      <td>E2</td>\n",
       "      <td>AV. DE LOS CISNES, Colonia Villas de Pachuca, ...</td>\n",
       "      <td>450000.00</td>\n",
       "      <td>50</td>\n",
       "      <td>55</td>\n",
       "      <td>8181.82</td>\n",
       "      <td>9000.00</td>\n",
       "      <td>0</td>\n",
       "      <td>0</td>\n",
       "      <td>Venta</td>\n",
       "      <td>Departamento</td>\n",
       "      <td>1</td>\n",
       "      <td>2</td>\n",
       "      <td>1</td>\n",
       "      <td>0</td>\n",
       "      <td>1</td>\n",
       "      <td>Octubre</td>\n",
       "      <td>2022</td>\n",
       "    </tr>\n",
       "    <tr>\n",
       "      <th>...</th>\n",
       "      <td>...</td>\n",
       "      <td>...</td>\n",
       "      <td>...</td>\n",
       "      <td>...</td>\n",
       "      <td>...</td>\n",
       "      <td>...</td>\n",
       "      <td>...</td>\n",
       "      <td>...</td>\n",
       "      <td>...</td>\n",
       "      <td>...</td>\n",
       "      <td>...</td>\n",
       "      <td>...</td>\n",
       "      <td>...</td>\n",
       "      <td>...</td>\n",
       "      <td>...</td>\n",
       "      <td>...</td>\n",
       "      <td>...</td>\n",
       "      <td>...</td>\n",
       "    </tr>\n",
       "    <tr>\n",
       "      <th>9903</th>\n",
       "      <td>S</td>\n",
       "      <td>Excelente Casa en Venta Carretera Pachuca - Cd...</td>\n",
       "      <td>999999.99</td>\n",
       "      <td>1068</td>\n",
       "      <td>217</td>\n",
       "      <td>50691.24</td>\n",
       "      <td>10299.63</td>\n",
       "      <td>9</td>\n",
       "      <td>17</td>\n",
       "      <td>Venta</td>\n",
       "      <td>casa</td>\n",
       "      <td>1</td>\n",
       "      <td>1</td>\n",
       "      <td>1</td>\n",
       "      <td>0</td>\n",
       "      <td>1</td>\n",
       "      <td>Septiembre</td>\n",
       "      <td>2023</td>\n",
       "    </tr>\n",
       "    <tr>\n",
       "      <th>9904</th>\n",
       "      <td>S</td>\n",
       "      <td>Se Vende Casa en Fraccionamiento Santa Elena; ...</td>\n",
       "      <td>999999.99</td>\n",
       "      <td>1300</td>\n",
       "      <td>500</td>\n",
       "      <td>39800.00</td>\n",
       "      <td>15307.69</td>\n",
       "      <td>1</td>\n",
       "      <td>17</td>\n",
       "      <td>Venta</td>\n",
       "      <td>casa</td>\n",
       "      <td>4</td>\n",
       "      <td>3</td>\n",
       "      <td>4</td>\n",
       "      <td>1</td>\n",
       "      <td>5</td>\n",
       "      <td>Septiembre</td>\n",
       "      <td>2023</td>\n",
       "    </tr>\n",
       "    <tr>\n",
       "      <th>9905</th>\n",
       "      <td>B3</td>\n",
       "      <td>Se Vende Casa en Club de Golf</td>\n",
       "      <td>999999.99</td>\n",
       "      <td>1400</td>\n",
       "      <td>625</td>\n",
       "      <td>3840.00</td>\n",
       "      <td>1714.29</td>\n",
       "      <td>1</td>\n",
       "      <td>32</td>\n",
       "      <td>Venta</td>\n",
       "      <td>casa</td>\n",
       "      <td>3</td>\n",
       "      <td>3</td>\n",
       "      <td>3</td>\n",
       "      <td>2</td>\n",
       "      <td>5</td>\n",
       "      <td>Septiembre</td>\n",
       "      <td>2023</td>\n",
       "    </tr>\n",
       "    <tr>\n",
       "      <th>9906</th>\n",
       "      <td>S</td>\n",
       "      <td>Casa Residencial de Lujo en Excelente Ubicacio...</td>\n",
       "      <td>999999.99</td>\n",
       "      <td>1437</td>\n",
       "      <td>747</td>\n",
       "      <td>27443.11</td>\n",
       "      <td>14265.83</td>\n",
       "      <td>5</td>\n",
       "      <td>17</td>\n",
       "      <td>Venta</td>\n",
       "      <td>casa</td>\n",
       "      <td>4</td>\n",
       "      <td>3</td>\n",
       "      <td>4</td>\n",
       "      <td>2</td>\n",
       "      <td>6</td>\n",
       "      <td>Septiembre</td>\n",
       "      <td>2023</td>\n",
       "    </tr>\n",
       "    <tr>\n",
       "      <th>9907</th>\n",
       "      <td>S</td>\n",
       "      <td>Casa en Venta a La Salida del Real del Monte</td>\n",
       "      <td>999999.99</td>\n",
       "      <td>1477</td>\n",
       "      <td>599</td>\n",
       "      <td>15025.04</td>\n",
       "      <td>6093.43</td>\n",
       "      <td>9</td>\n",
       "      <td>20</td>\n",
       "      <td>Venta</td>\n",
       "      <td>casa</td>\n",
       "      <td>3</td>\n",
       "      <td>3</td>\n",
       "      <td>3</td>\n",
       "      <td>1</td>\n",
       "      <td>4</td>\n",
       "      <td>Septiembre</td>\n",
       "      <td>2023</td>\n",
       "    </tr>\n",
       "  </tbody>\n",
       "</table>\n",
       "<p>9908 rows × 18 columns</p>\n",
       "</div>"
      ],
      "text/plain": [
       "     categoria                                          propiedad     precio  \\\n",
       "0           E1  Priv. los ganzos, Colonia Villas de Pachuca, C...  575000.00   \n",
       "1           E1       De Santiago, Colonia De Santiago, C.P. 42050  600000.00   \n",
       "2           E1    Gaviotas, Colonia Villas de Pachuca, C.P. 42083  550000.00   \n",
       "3           D3       Quinta Real, Colonia Quinta Real, C.P. 42082  751000.00   \n",
       "4           E2  AV. DE LOS CISNES, Colonia Villas de Pachuca, ...  450000.00   \n",
       "...        ...                                                ...        ...   \n",
       "9903         S  Excelente Casa en Venta Carretera Pachuca - Cd...  999999.99   \n",
       "9904         S  Se Vende Casa en Fraccionamiento Santa Elena; ...  999999.99   \n",
       "9905        B3                      Se Vende Casa en Club de Golf  999999.99   \n",
       "9906         S  Casa Residencial de Lujo en Excelente Ubicacio...  999999.99   \n",
       "9907         S       Casa en Venta a La Salida del Real del Monte  999999.99   \n",
       "\n",
       "      m2_total  m2_construido  precio_m2_construido  precio_m2_terreno  \\\n",
       "0           45             50              11500.00           12777.78   \n",
       "1           46            100               6000.00           13043.48   \n",
       "2           48             48              11458.33           11458.33   \n",
       "3           48             48              15500.52           15500.52   \n",
       "4           50             55               8181.82            9000.00   \n",
       "...        ...            ...                   ...                ...   \n",
       "9903      1068            217              50691.24           10299.63   \n",
       "9904      1300            500              39800.00           15307.69   \n",
       "9905      1400            625               3840.00            1714.29   \n",
       "9906      1437            747              27443.11           14265.83   \n",
       "9907      1477            599              15025.04            6093.43   \n",
       "\n",
       "      publicado_hace  personas_interesadas status          tipo  \\\n",
       "0                  0                     0  venta  Departamento   \n",
       "1                  0                     0  Venta          Casa   \n",
       "2                  0                     0  Venta          Casa   \n",
       "3                  0                     0  venta          Casa   \n",
       "4                  0                     0  Venta  Departamento   \n",
       "...              ...                   ...    ...           ...   \n",
       "9903               9                    17  Venta          casa   \n",
       "9904               1                    17  Venta          casa   \n",
       "9905               1                    32  Venta          casa   \n",
       "9906               5                    17  Venta          casa   \n",
       "9907               9                    20  Venta          casa   \n",
       "\n",
       "      estacionamiento  recamaras  baño  medio_baño  baño_total         Mes  \\\n",
       "0                   1          2     1           0           1     Octubre   \n",
       "1                   1          3     2           0           2     Octubre   \n",
       "2                   1          2     1           0           1     Octubre   \n",
       "3                   1          2     1           0           1     Octubre   \n",
       "4                   1          2     1           0           1     Octubre   \n",
       "...               ...        ...   ...         ...         ...         ...   \n",
       "9903                1          1     1           0           1  Septiembre   \n",
       "9904                4          3     4           1           5  Septiembre   \n",
       "9905                3          3     3           2           5  Septiembre   \n",
       "9906                4          3     4           2           6  Septiembre   \n",
       "9907                3          3     3           1           4  Septiembre   \n",
       "\n",
       "       Año  \n",
       "0     2022  \n",
       "1     2022  \n",
       "2     2022  \n",
       "3     2022  \n",
       "4     2022  \n",
       "...    ...  \n",
       "9903  2023  \n",
       "9904  2023  \n",
       "9905  2023  \n",
       "9906  2023  \n",
       "9907  2023  \n",
       "\n",
       "[9908 rows x 18 columns]"
      ]
     },
     "execution_count": 142,
     "metadata": {},
     "output_type": "execute_result"
    }
   ],
   "source": [
    "# Asignar mes y año a cada DataFrame\n",
    "oct_2022 = oct_2022.assign(Mes='Octubre', Año=2022)\n",
    "nov_2022 = nov_2022.assign(Mes='Noviembre', Año=2022)\n",
    "feb_2023 = feb_2023.assign(Mes='Febrero', Año=2023)\n",
    "mar_2023 = mar_2023.assign(Mes='Marzo', Año=2023)\n",
    "jun_2023 = jun_2023.assign(Mes='Junio', Año=2023)\n",
    "jul_2023 = jul_2023.assign(Mes='Julio', Año=2023)\n",
    "sep_2023 = sep_2023.assign(Mes='Septiembre', Año=2023)\n",
    "\n",
    "# Concatena los DataFrames\n",
    "df_head_pachuca = pd.concat([\n",
    "    oct_2022, nov_2022, feb_2023, mar_2023, jun_2023, jul_2023, sep_2023\n",
    "], ignore_index=True)\n",
    "df_head_pachuca"
   ]
  },
  {
   "cell_type": "markdown",
   "metadata": {},
   "source": [
    "## **1** *Limpieza*\n",
    "* Búsqueda de datos nulos, atípicos..\n",
    "* Preprocesar los datos.\n",
    "* Ingeniería y selección de características."
   ]
  },
  {
   "cell_type": "code",
   "execution_count": 103,
   "metadata": {},
   "outputs": [
    {
     "name": "stdout",
     "output_type": "stream",
     "text": [
      "<class 'pandas.core.frame.DataFrame'>\n",
      "RangeIndex: 9908 entries, 0 to 9907\n",
      "Data columns (total 18 columns):\n",
      " #   Column                Non-Null Count  Dtype  \n",
      "---  ------                --------------  -----  \n",
      " 0   categoria             9908 non-null   object \n",
      " 1   propiedad             9908 non-null   object \n",
      " 2   precio                9908 non-null   float64\n",
      " 3   m2_total              9908 non-null   int64  \n",
      " 4   m2_construido         9908 non-null   int64  \n",
      " 5   precio_m2_construido  9908 non-null   float64\n",
      " 6   precio_m2_terreno     9908 non-null   float64\n",
      " 7   publicado_hace        9908 non-null   int64  \n",
      " 8   personas_interesadas  9908 non-null   int64  \n",
      " 9   status                9908 non-null   object \n",
      " 10  tipo                  9908 non-null   object \n",
      " 11  estacionamiento       9908 non-null   int64  \n",
      " 12  recamaras             9908 non-null   int64  \n",
      " 13  baño                  9908 non-null   int64  \n",
      " 14  medio_baño            9908 non-null   int64  \n",
      " 15  baño_total            9908 non-null   int64  \n",
      " 16  Mes                   9908 non-null   object \n",
      " 17  Año                   9908 non-null   int64  \n",
      "dtypes: float64(3), int64(10), object(5)\n",
      "memory usage: 1.4+ MB\n"
     ]
    }
   ],
   "source": [
    "df_head_pachuca.info()"
   ]
  },
  {
   "cell_type": "markdown",
   "metadata": {},
   "source": [
    "#### Es necesario para las entradas del modelo, contar con datos numéricos. \n",
    "Analizar variables tipo Object"
   ]
  },
  {
   "cell_type": "code",
   "execution_count": 143,
   "metadata": {},
   "outputs": [
    {
     "name": "stdout",
     "output_type": "stream",
     "text": [
      "['Octubre' 'Noviembre' 'Febrero' 'Marzo' 'Junio' 'Julio' 'Septiembre']\n",
      "[10 11  2  3  6  7  9]\n"
     ]
    }
   ],
   "source": [
    "print(df_head_pachuca['Mes'].unique())\n",
    "df_head_pachuca['Mes'] = df_head_pachuca['Mes'].replace({\n",
    "    'Octubre':10, 'Noviembre':11, 'Febrero':2, 'Marzo':3, 'Junio':6, 'Julio':7, 'Septiembre':9\n",
    "})\n",
    "print(df_head_pachuca['Mes'].unique())"
   ]
  },
  {
   "cell_type": "code",
   "execution_count": 144,
   "metadata": {},
   "outputs": [
    {
     "name": "stdout",
     "output_type": "stream",
     "text": [
      "['E1' 'D3' 'E2' 'B3' 'C3' 'B2' 'A3' 'D1' 'B1' 'D2' 'C2' 'C1' 'A1' 'A2' 'S']\n",
      "[13 12 14  6  9  5  3 10  4 11  8  7  1  2 16]\n"
     ]
    }
   ],
   "source": [
    "print(df_head_pachuca['categoria'].unique())\n",
    "df_head_pachuca['categoria'] = df_head_pachuca['categoria'].replace({\n",
    "    'A1':1, 'A2':2, 'A3':3,\n",
    "    'B1':4, 'B2':5, 'B3':6,\n",
    "    'C1':7, 'C2':8, 'C3':9,\n",
    "    'D1':10, 'D2':11, 'D3':12,\n",
    "    'E1':13, 'E2':14, 'E3':15, 'S':16\n",
    "})\n",
    "print(df_head_pachuca['categoria'].unique())"
   ]
  },
  {
   "cell_type": "code",
   "execution_count": 145,
   "metadata": {},
   "outputs": [
    {
     "name": "stdout",
     "output_type": "stream",
     "text": [
      "['Priv. los ganzos, Colonia Villas de Pachuca, C.P. 42083'\n",
      " 'De Santiago, Colonia De Santiago, C.P. 42050'\n",
      " 'Gaviotas, Colonia Villas de Pachuca, C.P. 42083' ...\n",
      " 'Se Vende Casa en Club de Golf'\n",
      " 'Casa Residencial de Lujo en Excelente Ubicacion en Pachuca'\n",
      " 'Casa en Venta a La Salida del Real del Monte']\n"
     ]
    }
   ],
   "source": [
    "print(df_head_pachuca['propiedad'].unique())\n",
    "# Eliminamos columna\n",
    "df_head_pachuca = df_head_pachuca.drop(['propiedad'], axis=1)"
   ]
  },
  {
   "cell_type": "code",
   "execution_count": 146,
   "metadata": {},
   "outputs": [
    {
     "name": "stdout",
     "output_type": "stream",
     "text": [
      "['venta' 'Venta' '' 'venta\\n\\nReservado']\n",
      "[1 0 2]\n"
     ]
    }
   ],
   "source": [
    "print(df_head_pachuca['status'].unique())\n",
    "df_head_pachuca['status'] = df_head_pachuca['status'].replace({\n",
    "     '':0, \n",
    "     'venta':1,'Venta':1,\n",
    "     'venta\\n\\nReservado': 2\n",
    "})\n",
    "print(df_head_pachuca['status'].unique())"
   ]
  },
  {
   "cell_type": "code",
   "execution_count": 147,
   "metadata": {},
   "outputs": [
    {
     "name": "stdout",
     "output_type": "stream",
     "text": [
      "['Departamento' 'Casa' '' 'casa']\n",
      "[2 1 0]\n"
     ]
    }
   ],
   "source": [
    "print(df_head_pachuca['tipo'].unique())\n",
    "df_head_pachuca['tipo'] = df_head_pachuca['tipo'].replace({\n",
    "     '':0, \n",
    "     'Casa':1,'casa':1,\n",
    "     'Departamento': 2\n",
    "})\n",
    "print(df_head_pachuca['tipo'].unique())"
   ]
  },
  {
   "cell_type": "code",
   "execution_count": 112,
   "metadata": {},
   "outputs": [
    {
     "name": "stdout",
     "output_type": "stream",
     "text": [
      "[575000.   600000.   550000.   751000.   450000.   480000.   650000.\n",
      " 711596.   780000.   850000.   999999.99 240600.   749999.   338307.\n",
      " 663000.   711500.   952000.   498500.   822000.   880000.   881000.\n",
      " 710000.   821000.   857000.   515907.   820000.   860000.   720000.\n",
      " 901000.   675000.   900000.   830000.   920000.   157136.   247000.\n",
      " 553723.   613342.   495000.   505400.   593000.   599000.   610000.\n",
      " 670000.   680000.   700000.   740000.   825000.   845000.   890000.\n",
      " 895000.   917000.   925000.   940000.   950000.   957000.   580000.\n",
      " 666724.   891000.   541000.   595000.   672500.   690000.   721000.\n",
      " 730000.   750000.   751500.   753000.   759710.   760000.   800000.\n",
      " 853161.   855000.   965217.   987000.   902000.   840000.   888000.\n",
      " 585000.   870000.   981000.   892500.   630000.   560000.   485414.\n",
      " 869500.   339749.   790000.   882000.   548108.   859650.   538108.\n",
      " 727335.   534000.   372582.   999000.   596000.   849000.   759000.\n",
      " 838000.   625000.   645000.   654104.   903000.   945500.   830600.\n",
      " 904000.   799000.   945000.   926000.   775000.   816096.   868000.\n",
      " 882805.   717000.   651000.   883000.   626000.   998000.   716000.\n",
      " 715000.   590000.   839000.   660000.   640000.   697105.   861120.\n",
      " 722500.   679800.   975000.   811500.   691100.   380000.   490000.\n",
      " 697000.   672000.   500000.   545000.   906000.   907000.   935000.\n",
      " 977000.   985000.   990000.   995000.   980000.   515900.   815000.\n",
      " 522000.   658000.   714800.   810000.   835000.   938000.   970000.\n",
      " 987999.   999600.   999999.   995900.   735000.   485000.   480010.\n",
      " 965000.   722000.   566297.   861200.   745000.   685200.   355099.\n",
      " 500900.   987300.   615000.   632000.   720300.   724000.   845300.\n",
      " 705000.   621040.   885000.   836000.   589117.   685000.   620000.\n",
      " 993000.   770000.   842250.   695000.   569787.   575367.   910000.\n",
      " 530000.   440000.   569306.   875000.   650018.   705050.   626040.\n",
      " 676040.   634589.   932100.   862000.   932101.   932103.   932200.\n",
      " 955000.   555000.   655000.   899000.   700009.   470000.   620700.\n",
      " 986000.    98002.   645200.   932300.   980100.   980200.   796000.\n",
      "  89000.   256900.    93000.  ]\n"
     ]
    }
   ],
   "source": [
    "print(df_head_pachuca['precio'].unique())"
   ]
  },
  {
   "cell_type": "code",
   "execution_count": 113,
   "metadata": {},
   "outputs": [
    {
     "name": "stdout",
     "output_type": "stream",
     "text": [
      "<class 'pandas.core.frame.DataFrame'>\n",
      "RangeIndex: 9908 entries, 0 to 9907\n",
      "Data columns (total 17 columns):\n",
      " #   Column                Non-Null Count  Dtype  \n",
      "---  ------                --------------  -----  \n",
      " 0   categoria             9908 non-null   int64  \n",
      " 1   precio                9908 non-null   float64\n",
      " 2   m2_total              9908 non-null   int64  \n",
      " 3   m2_construido         9908 non-null   int64  \n",
      " 4   precio_m2_construido  9908 non-null   float64\n",
      " 5   precio_m2_terreno     9908 non-null   float64\n",
      " 6   publicado_hace        9908 non-null   int64  \n",
      " 7   personas_interesadas  9908 non-null   int64  \n",
      " 8   status                9908 non-null   int64  \n",
      " 9   tipo                  9908 non-null   int64  \n",
      " 10  estacionamiento       9908 non-null   int64  \n",
      " 11  recamaras             9908 non-null   int64  \n",
      " 12  baño                  9908 non-null   int64  \n",
      " 13  medio_baño            9908 non-null   int64  \n",
      " 14  baño_total            9908 non-null   int64  \n",
      " 15  Mes                   9908 non-null   int64  \n",
      " 16  Año                   9908 non-null   int64  \n",
      "dtypes: float64(3), int64(14)\n",
      "memory usage: 1.3 MB\n"
     ]
    }
   ],
   "source": [
    "df_head_pachuca.info()"
   ]
  },
  {
   "cell_type": "markdown",
   "metadata": {},
   "source": [
    "### *Exportar base para uso en otros modelos*"
   ]
  },
  {
   "cell_type": "code",
   "execution_count": 148,
   "metadata": {},
   "outputs": [],
   "source": [
    "import os\n",
    "nombre_archivo = 'df_head_Pachuca_Limpio.csv'\n",
    "carpeta = 'datos_modelos'\n",
    "# Crear la carpeta si no existe\n",
    "if not os.path.exists(carpeta):\n",
    "    os.makedirs(carpeta)\n",
    "\n",
    "# Guardar el DataFrame como archivo CSV en la carpeta especificada\n",
    "ruta_completa = os.path.join(carpeta, nombre_archivo)\n",
    "df_head_pachuca.to_csv(ruta_completa, index=False)"
   ]
  },
  {
   "cell_type": "markdown",
   "metadata": {},
   "source": [
    "## **2** *Preparación de variables*\n",
    "* Escalado\n",
    "* Normalización: Estandar\n",
    "* Train Test Split"
   ]
  },
  {
   "cell_type": "code",
   "execution_count": 115,
   "metadata": {},
   "outputs": [],
   "source": [
    "#NORMALIZACION DE DATOS\n",
    "from sklearn.model_selection import train_test_split #Prueba/entrenamiento\n",
    "from sklearn.preprocessing import StandardScaler #Escalado estandar"
   ]
  },
  {
   "cell_type": "code",
   "execution_count": 116,
   "metadata": {},
   "outputs": [
    {
     "data": {
      "text/plain": [
       "['Año',\n",
       " 'Mes',\n",
       " 'baño',\n",
       " 'baño_total',\n",
       " 'categoria',\n",
       " 'estacionamiento',\n",
       " 'm2_construido',\n",
       " 'm2_total',\n",
       " 'medio_baño',\n",
       " 'personas_interesadas',\n",
       " 'precio_m2_construido',\n",
       " 'precio_m2_terreno',\n",
       " 'publicado_hace',\n",
       " 'recamaras',\n",
       " 'status',\n",
       " 'tipo']"
      ]
     },
     "execution_count": 116,
     "metadata": {},
     "output_type": "execute_result"
    }
   ],
   "source": [
    "#nf = list(df_head_pachuca.select_dtypes(include=['int64','float64']).columns.difference(['precio']))\n",
    "#nf"
   ]
  },
  {
   "cell_type": "code",
   "execution_count": 117,
   "metadata": {},
   "outputs": [
    {
     "data": {
      "text/html": [
       "<div>\n",
       "<style scoped>\n",
       "    .dataframe tbody tr th:only-of-type {\n",
       "        vertical-align: middle;\n",
       "    }\n",
       "\n",
       "    .dataframe tbody tr th {\n",
       "        vertical-align: top;\n",
       "    }\n",
       "\n",
       "    .dataframe thead th {\n",
       "        text-align: right;\n",
       "    }\n",
       "</style>\n",
       "<table border=\"1\" class=\"dataframe\">\n",
       "  <thead>\n",
       "    <tr style=\"text-align: right;\">\n",
       "      <th></th>\n",
       "      <th>categoria</th>\n",
       "      <th>precio</th>\n",
       "      <th>m2_total</th>\n",
       "      <th>m2_construido</th>\n",
       "      <th>precio_m2_construido</th>\n",
       "      <th>precio_m2_terreno</th>\n",
       "      <th>publicado_hace</th>\n",
       "      <th>personas_interesadas</th>\n",
       "      <th>status</th>\n",
       "      <th>tipo</th>\n",
       "      <th>estacionamiento</th>\n",
       "      <th>recamaras</th>\n",
       "      <th>baño</th>\n",
       "      <th>medio_baño</th>\n",
       "      <th>baño_total</th>\n",
       "      <th>Mes</th>\n",
       "      <th>Año</th>\n",
       "    </tr>\n",
       "  </thead>\n",
       "  <tbody>\n",
       "    <tr>\n",
       "      <th>0</th>\n",
       "      <td>0.818680</td>\n",
       "      <td>575000.00</td>\n",
       "      <td>-1.029609</td>\n",
       "      <td>-1.094282</td>\n",
       "      <td>-0.490367</td>\n",
       "      <td>-0.705256</td>\n",
       "      <td>-0.225854</td>\n",
       "      <td>-0.368999</td>\n",
       "      <td>0.302971</td>\n",
       "      <td>4.788785</td>\n",
       "      <td>-0.881923</td>\n",
       "      <td>-1.322539</td>\n",
       "      <td>-1.365418</td>\n",
       "      <td>-0.642316</td>\n",
       "      <td>-1.505598</td>\n",
       "      <td>0.846534</td>\n",
       "      <td>-1.321120</td>\n",
       "    </tr>\n",
       "    <tr>\n",
       "      <th>1</th>\n",
       "      <td>0.818680</td>\n",
       "      <td>600000.00</td>\n",
       "      <td>-1.020608</td>\n",
       "      <td>-0.734305</td>\n",
       "      <td>-1.141600</td>\n",
       "      <td>-0.677964</td>\n",
       "      <td>-0.225854</td>\n",
       "      <td>-0.368999</td>\n",
       "      <td>0.302971</td>\n",
       "      <td>-0.206717</td>\n",
       "      <td>-0.881923</td>\n",
       "      <td>-0.251799</td>\n",
       "      <td>-0.573301</td>\n",
       "      <td>-0.642316</td>\n",
       "      <td>-0.771796</td>\n",
       "      <td>0.846534</td>\n",
       "      <td>-1.321120</td>\n",
       "    </tr>\n",
       "    <tr>\n",
       "      <th>2</th>\n",
       "      <td>0.818680</td>\n",
       "      <td>550000.00</td>\n",
       "      <td>-1.002605</td>\n",
       "      <td>-1.108681</td>\n",
       "      <td>-0.495301</td>\n",
       "      <td>-0.840787</td>\n",
       "      <td>-0.225854</td>\n",
       "      <td>-0.368999</td>\n",
       "      <td>0.302971</td>\n",
       "      <td>-0.206717</td>\n",
       "      <td>-0.881923</td>\n",
       "      <td>-1.322539</td>\n",
       "      <td>-1.365418</td>\n",
       "      <td>-0.642316</td>\n",
       "      <td>-1.505598</td>\n",
       "      <td>0.846534</td>\n",
       "      <td>-1.321120</td>\n",
       "    </tr>\n",
       "    <tr>\n",
       "      <th>3</th>\n",
       "      <td>0.611870</td>\n",
       "      <td>751000.00</td>\n",
       "      <td>-1.002605</td>\n",
       "      <td>-1.108681</td>\n",
       "      <td>-0.016682</td>\n",
       "      <td>-0.425582</td>\n",
       "      <td>-0.225854</td>\n",
       "      <td>-0.368999</td>\n",
       "      <td>0.302971</td>\n",
       "      <td>-0.206717</td>\n",
       "      <td>-0.881923</td>\n",
       "      <td>-1.322539</td>\n",
       "      <td>-1.365418</td>\n",
       "      <td>-0.642316</td>\n",
       "      <td>-1.505598</td>\n",
       "      <td>0.846534</td>\n",
       "      <td>-1.321120</td>\n",
       "    </tr>\n",
       "    <tr>\n",
       "      <th>4</th>\n",
       "      <td>1.025489</td>\n",
       "      <td>450000.00</td>\n",
       "      <td>-0.984602</td>\n",
       "      <td>-1.058284</td>\n",
       "      <td>-0.883259</td>\n",
       "      <td>-1.093302</td>\n",
       "      <td>-0.225854</td>\n",
       "      <td>-0.368999</td>\n",
       "      <td>0.302971</td>\n",
       "      <td>4.788785</td>\n",
       "      <td>-0.881923</td>\n",
       "      <td>-1.322539</td>\n",
       "      <td>-1.365418</td>\n",
       "      <td>-0.642316</td>\n",
       "      <td>-1.505598</td>\n",
       "      <td>0.846534</td>\n",
       "      <td>-1.321120</td>\n",
       "    </tr>\n",
       "    <tr>\n",
       "      <th>...</th>\n",
       "      <td>...</td>\n",
       "      <td>...</td>\n",
       "      <td>...</td>\n",
       "      <td>...</td>\n",
       "      <td>...</td>\n",
       "      <td>...</td>\n",
       "      <td>...</td>\n",
       "      <td>...</td>\n",
       "      <td>...</td>\n",
       "      <td>...</td>\n",
       "      <td>...</td>\n",
       "      <td>...</td>\n",
       "      <td>...</td>\n",
       "      <td>...</td>\n",
       "      <td>...</td>\n",
       "      <td>...</td>\n",
       "      <td>...</td>\n",
       "    </tr>\n",
       "    <tr>\n",
       "      <th>9903</th>\n",
       "      <td>1.439108</td>\n",
       "      <td>999999.99</td>\n",
       "      <td>8.178774</td>\n",
       "      <td>0.108041</td>\n",
       "      <td>4.150109</td>\n",
       "      <td>-0.959806</td>\n",
       "      <td>0.051677</td>\n",
       "      <td>-0.006821</td>\n",
       "      <td>0.302971</td>\n",
       "      <td>-0.206717</td>\n",
       "      <td>-0.881923</td>\n",
       "      <td>-2.393280</td>\n",
       "      <td>-1.365418</td>\n",
       "      <td>-0.642316</td>\n",
       "      <td>-1.505598</td>\n",
       "      <td>0.539762</td>\n",
       "      <td>0.756933</td>\n",
       "    </tr>\n",
       "    <tr>\n",
       "      <th>9904</th>\n",
       "      <td>1.439108</td>\n",
       "      <td>999999.99</td>\n",
       "      <td>10.267087</td>\n",
       "      <td>2.145511</td>\n",
       "      <td>2.860521</td>\n",
       "      <td>-0.445389</td>\n",
       "      <td>-0.195018</td>\n",
       "      <td>-0.006821</td>\n",
       "      <td>0.302971</td>\n",
       "      <td>-0.206717</td>\n",
       "      <td>2.133638</td>\n",
       "      <td>-0.251799</td>\n",
       "      <td>1.010932</td>\n",
       "      <td>1.315859</td>\n",
       "      <td>1.429610</td>\n",
       "      <td>0.539762</td>\n",
       "      <td>0.756933</td>\n",
       "    </tr>\n",
       "    <tr>\n",
       "      <th>9905</th>\n",
       "      <td>-0.628986</td>\n",
       "      <td>999999.99</td>\n",
       "      <td>11.167222</td>\n",
       "      <td>3.045453</td>\n",
       "      <td>-1.397357</td>\n",
       "      <td>-1.841674</td>\n",
       "      <td>-0.195018</td>\n",
       "      <td>0.312749</td>\n",
       "      <td>0.302971</td>\n",
       "      <td>-0.206717</td>\n",
       "      <td>1.128451</td>\n",
       "      <td>-0.251799</td>\n",
       "      <td>0.218815</td>\n",
       "      <td>3.274035</td>\n",
       "      <td>1.429610</td>\n",
       "      <td>0.539762</td>\n",
       "      <td>0.756933</td>\n",
       "    </tr>\n",
       "    <tr>\n",
       "      <th>9906</th>\n",
       "      <td>1.439108</td>\n",
       "      <td>999999.99</td>\n",
       "      <td>11.500272</td>\n",
       "      <td>3.923797</td>\n",
       "      <td>1.397392</td>\n",
       "      <td>-0.552407</td>\n",
       "      <td>-0.071670</td>\n",
       "      <td>-0.006821</td>\n",
       "      <td>0.302971</td>\n",
       "      <td>-0.206717</td>\n",
       "      <td>2.133638</td>\n",
       "      <td>-0.251799</td>\n",
       "      <td>1.010932</td>\n",
       "      <td>3.274035</td>\n",
       "      <td>2.163413</td>\n",
       "      <td>0.539762</td>\n",
       "      <td>0.756933</td>\n",
       "    </tr>\n",
       "    <tr>\n",
       "      <th>9907</th>\n",
       "      <td>1.439108</td>\n",
       "      <td>999999.99</td>\n",
       "      <td>11.860327</td>\n",
       "      <td>2.858265</td>\n",
       "      <td>-0.072981</td>\n",
       "      <td>-1.391858</td>\n",
       "      <td>0.051677</td>\n",
       "      <td>0.057093</td>\n",
       "      <td>0.302971</td>\n",
       "      <td>-0.206717</td>\n",
       "      <td>1.128451</td>\n",
       "      <td>-0.251799</td>\n",
       "      <td>0.218815</td>\n",
       "      <td>1.315859</td>\n",
       "      <td>0.695808</td>\n",
       "      <td>0.539762</td>\n",
       "      <td>0.756933</td>\n",
       "    </tr>\n",
       "  </tbody>\n",
       "</table>\n",
       "<p>9908 rows × 17 columns</p>\n",
       "</div>"
      ],
      "text/plain": [
       "      categoria     precio   m2_total  m2_construido  precio_m2_construido  \\\n",
       "0      0.818680  575000.00  -1.029609      -1.094282             -0.490367   \n",
       "1      0.818680  600000.00  -1.020608      -0.734305             -1.141600   \n",
       "2      0.818680  550000.00  -1.002605      -1.108681             -0.495301   \n",
       "3      0.611870  751000.00  -1.002605      -1.108681             -0.016682   \n",
       "4      1.025489  450000.00  -0.984602      -1.058284             -0.883259   \n",
       "...         ...        ...        ...            ...                   ...   \n",
       "9903   1.439108  999999.99   8.178774       0.108041              4.150109   \n",
       "9904   1.439108  999999.99  10.267087       2.145511              2.860521   \n",
       "9905  -0.628986  999999.99  11.167222       3.045453             -1.397357   \n",
       "9906   1.439108  999999.99  11.500272       3.923797              1.397392   \n",
       "9907   1.439108  999999.99  11.860327       2.858265             -0.072981   \n",
       "\n",
       "      precio_m2_terreno  publicado_hace  personas_interesadas    status  \\\n",
       "0             -0.705256       -0.225854             -0.368999  0.302971   \n",
       "1             -0.677964       -0.225854             -0.368999  0.302971   \n",
       "2             -0.840787       -0.225854             -0.368999  0.302971   \n",
       "3             -0.425582       -0.225854             -0.368999  0.302971   \n",
       "4             -1.093302       -0.225854             -0.368999  0.302971   \n",
       "...                 ...             ...                   ...       ...   \n",
       "9903          -0.959806        0.051677             -0.006821  0.302971   \n",
       "9904          -0.445389       -0.195018             -0.006821  0.302971   \n",
       "9905          -1.841674       -0.195018              0.312749  0.302971   \n",
       "9906          -0.552407       -0.071670             -0.006821  0.302971   \n",
       "9907          -1.391858        0.051677              0.057093  0.302971   \n",
       "\n",
       "          tipo  estacionamiento  recamaras      baño  medio_baño  baño_total  \\\n",
       "0     4.788785        -0.881923  -1.322539 -1.365418   -0.642316   -1.505598   \n",
       "1    -0.206717        -0.881923  -0.251799 -0.573301   -0.642316   -0.771796   \n",
       "2    -0.206717        -0.881923  -1.322539 -1.365418   -0.642316   -1.505598   \n",
       "3    -0.206717        -0.881923  -1.322539 -1.365418   -0.642316   -1.505598   \n",
       "4     4.788785        -0.881923  -1.322539 -1.365418   -0.642316   -1.505598   \n",
       "...        ...              ...        ...       ...         ...         ...   \n",
       "9903 -0.206717        -0.881923  -2.393280 -1.365418   -0.642316   -1.505598   \n",
       "9904 -0.206717         2.133638  -0.251799  1.010932    1.315859    1.429610   \n",
       "9905 -0.206717         1.128451  -0.251799  0.218815    3.274035    1.429610   \n",
       "9906 -0.206717         2.133638  -0.251799  1.010932    3.274035    2.163413   \n",
       "9907 -0.206717         1.128451  -0.251799  0.218815    1.315859    0.695808   \n",
       "\n",
       "           Mes       Año  \n",
       "0     0.846534 -1.321120  \n",
       "1     0.846534 -1.321120  \n",
       "2     0.846534 -1.321120  \n",
       "3     0.846534 -1.321120  \n",
       "4     0.846534 -1.321120  \n",
       "...        ...       ...  \n",
       "9903  0.539762  0.756933  \n",
       "9904  0.539762  0.756933  \n",
       "9905  0.539762  0.756933  \n",
       "9906  0.539762  0.756933  \n",
       "9907  0.539762  0.756933  \n",
       "\n",
       "[9908 rows x 17 columns]"
      ]
     },
     "execution_count": 117,
     "metadata": {},
     "output_type": "execute_result"
    }
   ],
   "source": [
    "#sc = StandardScaler()\n",
    "#Transformar datos \n",
    "#df_head_pachuca[nf] = sc.fit_transform(df_head_pachuca[nf]) #Usamos sc\n",
    "#df_head_pachuca"
   ]
  },
  {
   "cell_type": "code",
   "execution_count": 118,
   "metadata": {},
   "outputs": [
    {
     "data": {
      "application/vnd.plotly.v1+json": {
       "config": {
        "plotlyServerURL": "https://plot.ly"
       },
       "data": [
        {
         "colorscale": [
          [
           0,
           "rgb(247,251,255)"
          ],
          [
           0.125,
           "rgb(222,235,247)"
          ],
          [
           0.25,
           "rgb(198,219,239)"
          ],
          [
           0.375,
           "rgb(158,202,225)"
          ],
          [
           0.5,
           "rgb(107,174,214)"
          ],
          [
           0.625,
           "rgb(66,146,198)"
          ],
          [
           0.75,
           "rgb(33,113,181)"
          ],
          [
           0.875,
           "rgb(8,81,156)"
          ],
          [
           1,
           "rgb(8,48,107)"
          ]
         ],
         "reversescale": false,
         "showscale": true,
         "type": "heatmap",
         "x": [
          "categoria",
          "precio",
          "m2_total",
          "m2_construido",
          "precio_m2_construido",
          "precio_m2_terreno",
          "publicado_hace",
          "personas_interesadas",
          "status",
          "tipo",
          "estacionamiento",
          "recamaras",
          "baño",
          "medio_baño",
          "baño_total",
          "Mes",
          "Año"
         ],
         "y": [
          "categoria",
          "precio",
          "m2_total",
          "m2_construido",
          "precio_m2_construido",
          "precio_m2_terreno",
          "publicado_hace",
          "personas_interesadas",
          "status",
          "tipo",
          "estacionamiento",
          "recamaras",
          "baño",
          "medio_baño",
          "baño_total",
          "Mes",
          "Año"
         ],
         "z": [
          [
           1,
           -0.18442933315623516,
           0.2861237157178032,
           0.2519272425832243,
           0.15043847282028913,
           0.1057108797988746,
           -0.013821171074784856,
           -0.06472088818079909,
           0.012197729769332723,
           0.06850956950640333,
           0.11771058211647654,
           -0.004680372281555003,
           0.02622693455989881,
           -0.01702305868610962,
           0.017916957987744505,
           0.03491301693579532,
           -0.02401495838247515
          ],
          [
           -0.18442933315623516,
           1,
           0.11738721008923347,
           0.12367800671399397,
           0.20360754854318167,
           0.31628179055475053,
           -0.03754929550561193,
           0.02059253456156318,
           -0.011958617706840261,
           -0.12424849915439726,
           0.13324278120228913,
           0.17567820396045586,
           0.24932248194321183,
           0.1016821408098569,
           0.269071782004848,
           -0.011382641074568668,
           0.04652243777430968
          ],
          [
           0.2861237157178032,
           0.11738721008923347,
           1,
           0.5890500511711175,
           0.21516332362650045,
           0.05483777041888623,
           0.0021955147896564418,
           -0.03131744202128152,
           0.014117464689846525,
           -0.10758853747029247,
           0.40118165582601056,
           0.21371902502719056,
           0.29016351170931504,
           0.05766513390810705,
           0.2904113144910667,
           0.003897999117924816,
           0.036867334955308216
          ],
          [
           0.2519272425832243,
           0.12367800671399397,
           0.5890500511711175,
           1,
           0.03447844521368957,
           0.34826761288598257,
           0.00560488826114537,
           -0.02895257030635228,
           0.01311476183256817,
           -0.14217797465297327,
           0.3733612416873826,
           0.3741007561259713,
           0.4630534831530387,
           0.09325976900638586,
           0.4639119809468853,
           -0.007846335220472574,
           0.027219108098342094
          ],
          [
           0.15043847282028913,
           0.20360754854318167,
           0.21516332362650045,
           0.03447844521368957,
           1,
           0.6434588596895042,
           -0.022566004287907226,
           -0.004109516000407978,
           0.029793085553716805,
           0.25211345001886687,
           0.09844777326169996,
           -0.05345198838078449,
           0.07884398746028722,
           0.02060790862986399,
           0.08076214569447908,
           0.03827061554166016,
           0.008600377250746973
          ],
          [
           0.1057108797988746,
           0.31628179055475053,
           0.05483777041888623,
           0.34826761288598257,
           0.6434588596895042,
           1,
           -0.017711561511896394,
           -0.0006735248061403439,
           0.021705422102681254,
           0.15581075697776012,
           0.1634637964277179,
           0.1841026407556795,
           0.3722151990445754,
           0.09409134663467122,
           0.3800727269033921,
           0.015975535313757554,
           0.023319568171490834
          ],
          [
           -0.013821171074784856,
           -0.03754929550561193,
           0.0021955147896564418,
           0.00560488826114537,
           -0.022566004287907226,
           -0.017711561511896394,
           1,
           0.0035051528197528278,
           0.06859511347089475,
           -0.03255530702980211,
           0.012622962735989902,
           0.02757180000733632,
           -0.04600457194779439,
           0.13972405491972525,
           0.009742092200656418,
           -0.2609512332403315,
           0.17095679955044069
          ],
          [
           -0.06472088818079909,
           0.02059253456156318,
           -0.03131744202128152,
           -0.02895257030635228,
           -0.004109516000407978,
           -0.0006735248061403439,
           0.0035051528197528278,
           1,
           0.09856194911667608,
           0.018376017603220614,
           -0.019463450607600543,
           -0.051970909893841254,
           -0.059430942792430747,
           0.23077870993300012,
           0.03142576109960096,
           -0.1431930498701103,
           0.27930792141899796
          ],
          [
           0.012197729769332723,
           -0.011958617706840261,
           0.014117464689846525,
           0.01311476183256817,
           0.029793085553716805,
           0.021705422102681254,
           0.06859511347089475,
           0.09856194911667608,
           1,
           0.06625443344630395,
           -0.025674375275702644,
           -0.0021905833427104406,
           -0.03927803111205868,
           0.19460298735680645,
           0.036538634551481375,
           0.39245641619118843,
           -0.2278205812553903
          ],
          [
           0.06850956950640333,
           -0.12424849915439726,
           -0.10758853747029247,
           -0.14217797465297327,
           0.25211345001886687,
           0.15581075697776012,
           -0.03255530702980211,
           0.018376017603220614,
           0.06625443344630395,
           1,
           -0.08348200831646799,
           -0.19349332064935398,
           -0.15685148806823035,
           -0.06761681854545418,
           -0.1706428345432018,
           0.0832733890635032,
           -0.028977153787850516
          ],
          [
           0.11771058211647654,
           0.13324278120228913,
           0.40118165582601056,
           0.3733612416873826,
           0.09844777326169996,
           0.1634637964277179,
           0.012622962735989902,
           -0.019463450607600543,
           -0.025674375275702644,
           -0.08348200831646799,
           1,
           0.20755964586541945,
           0.2556606077582257,
           0.08533313781478365,
           0.26881671577168365,
           -0.04608576591124729,
           0.022438908129366844
          ],
          [
           -0.004680372281555003,
           0.17567820396045586,
           0.21371902502719056,
           0.3741007561259713,
           -0.05345198838078449,
           0.1841026407556795,
           0.02757180000733632,
           -0.051970909893841254,
           -0.0021905833427104406,
           -0.19349332064935398,
           0.20755964586541945,
           1,
           0.4724961445401593,
           0.043745089546342285,
           0.454104470833107,
           -0.042613857085503026,
           0.002853202031277619
          ],
          [
           0.02622693455989881,
           0.24932248194321183,
           0.29016351170931504,
           0.4630534831530387,
           0.07884398746028722,
           0.3722151990445754,
           -0.04600457194779439,
           -0.059430942792430747,
           -0.03927803111205868,
           -0.15685148806823035,
           0.2556606077582257,
           0.4724961445401593,
           1,
           0.002001439899606785,
           0.9271312020953708,
           0.05121637420606078,
           -0.042523014567940276
          ],
          [
           -0.01702305868610962,
           0.1016821408098569,
           0.05766513390810705,
           0.09325976900638586,
           0.02060790862986399,
           0.09409134663467122,
           0.13972405491972525,
           0.23077870993300012,
           0.19460298735680645,
           -0.06761681854545418,
           0.08533313781478365,
           0.043745089546342285,
           0.002001439899606785,
           1,
           0.37659173332258633,
           -0.03672106408129893,
           0.10300961770655577
          ],
          [
           0.017916957987744505,
           0.269071782004848,
           0.2904113144910667,
           0.4639119809468853,
           0.08076214569447908,
           0.3800727269033921,
           0.009742092200656418,
           0.03142576109960096,
           0.036538634551481375,
           -0.1706428345432018,
           0.26881671577168365,
           0.454104470833107,
           0.9271312020953708,
           0.37659173332258633,
           1,
           0.03368512075910144,
           -0.0007909399873258869
          ],
          [
           0.03491301693579532,
           -0.011382641074568668,
           0.003897999117924816,
           -0.007846335220472574,
           0.03827061554166016,
           0.015975535313757554,
           -0.2609512332403315,
           -0.1431930498701103,
           0.39245641619118843,
           0.0832733890635032,
           -0.04608576591124729,
           -0.042613857085503026,
           0.05121637420606078,
           -0.03672106408129893,
           0.03368512075910144,
           1,
           -0.764755007002611
          ],
          [
           -0.02401495838247515,
           0.04652243777430968,
           0.036867334955308216,
           0.027219108098342094,
           0.008600377250746973,
           0.023319568171490834,
           0.17095679955044069,
           0.27930792141899796,
           -0.2278205812553903,
           -0.028977153787850516,
           0.022438908129366844,
           0.002853202031277619,
           -0.042523014567940276,
           0.10300961770655577,
           -0.0007909399873258869,
           -0.764755007002611,
           1
          ]
         ]
        }
       ],
       "layout": {
        "annotations": [
         {
          "font": {
           "color": "#FFFFFF"
          },
          "showarrow": false,
          "text": "1.0",
          "x": "categoria",
          "xref": "x",
          "y": "categoria",
          "yref": "y"
         },
         {
          "font": {
           "color": "#000000"
          },
          "showarrow": false,
          "text": "-0.18",
          "x": "precio",
          "xref": "x",
          "y": "categoria",
          "yref": "y"
         },
         {
          "font": {
           "color": "#FFFFFF"
          },
          "showarrow": false,
          "text": "0.29",
          "x": "m2_total",
          "xref": "x",
          "y": "categoria",
          "yref": "y"
         },
         {
          "font": {
           "color": "#FFFFFF"
          },
          "showarrow": false,
          "text": "0.25",
          "x": "m2_construido",
          "xref": "x",
          "y": "categoria",
          "yref": "y"
         },
         {
          "font": {
           "color": "#FFFFFF"
          },
          "showarrow": false,
          "text": "0.15",
          "x": "precio_m2_construido",
          "xref": "x",
          "y": "categoria",
          "yref": "y"
         },
         {
          "font": {
           "color": "#000000"
          },
          "showarrow": false,
          "text": "0.11",
          "x": "precio_m2_terreno",
          "xref": "x",
          "y": "categoria",
          "yref": "y"
         },
         {
          "font": {
           "color": "#000000"
          },
          "showarrow": false,
          "text": "-0.01",
          "x": "publicado_hace",
          "xref": "x",
          "y": "categoria",
          "yref": "y"
         },
         {
          "font": {
           "color": "#000000"
          },
          "showarrow": false,
          "text": "-0.06",
          "x": "personas_interesadas",
          "xref": "x",
          "y": "categoria",
          "yref": "y"
         },
         {
          "font": {
           "color": "#000000"
          },
          "showarrow": false,
          "text": "0.01",
          "x": "status",
          "xref": "x",
          "y": "categoria",
          "yref": "y"
         },
         {
          "font": {
           "color": "#000000"
          },
          "showarrow": false,
          "text": "0.07",
          "x": "tipo",
          "xref": "x",
          "y": "categoria",
          "yref": "y"
         },
         {
          "font": {
           "color": "#FFFFFF"
          },
          "showarrow": false,
          "text": "0.12",
          "x": "estacionamiento",
          "xref": "x",
          "y": "categoria",
          "yref": "y"
         },
         {
          "font": {
           "color": "#000000"
          },
          "showarrow": false,
          "text": "-0.0",
          "x": "recamaras",
          "xref": "x",
          "y": "categoria",
          "yref": "y"
         },
         {
          "font": {
           "color": "#000000"
          },
          "showarrow": false,
          "text": "0.03",
          "x": "baño",
          "xref": "x",
          "y": "categoria",
          "yref": "y"
         },
         {
          "font": {
           "color": "#000000"
          },
          "showarrow": false,
          "text": "-0.02",
          "x": "medio_baño",
          "xref": "x",
          "y": "categoria",
          "yref": "y"
         },
         {
          "font": {
           "color": "#000000"
          },
          "showarrow": false,
          "text": "0.02",
          "x": "baño_total",
          "xref": "x",
          "y": "categoria",
          "yref": "y"
         },
         {
          "font": {
           "color": "#000000"
          },
          "showarrow": false,
          "text": "0.03",
          "x": "Mes",
          "xref": "x",
          "y": "categoria",
          "yref": "y"
         },
         {
          "font": {
           "color": "#000000"
          },
          "showarrow": false,
          "text": "-0.02",
          "x": "Año",
          "xref": "x",
          "y": "categoria",
          "yref": "y"
         },
         {
          "font": {
           "color": "#000000"
          },
          "showarrow": false,
          "text": "-0.18",
          "x": "categoria",
          "xref": "x",
          "y": "precio",
          "yref": "y"
         },
         {
          "font": {
           "color": "#FFFFFF"
          },
          "showarrow": false,
          "text": "1.0",
          "x": "precio",
          "xref": "x",
          "y": "precio",
          "yref": "y"
         },
         {
          "font": {
           "color": "#000000"
          },
          "showarrow": false,
          "text": "0.12",
          "x": "m2_total",
          "xref": "x",
          "y": "precio",
          "yref": "y"
         },
         {
          "font": {
           "color": "#FFFFFF"
          },
          "showarrow": false,
          "text": "0.12",
          "x": "m2_construido",
          "xref": "x",
          "y": "precio",
          "yref": "y"
         },
         {
          "font": {
           "color": "#FFFFFF"
          },
          "showarrow": false,
          "text": "0.2",
          "x": "precio_m2_construido",
          "xref": "x",
          "y": "precio",
          "yref": "y"
         },
         {
          "font": {
           "color": "#FFFFFF"
          },
          "showarrow": false,
          "text": "0.32",
          "x": "precio_m2_terreno",
          "xref": "x",
          "y": "precio",
          "yref": "y"
         },
         {
          "font": {
           "color": "#000000"
          },
          "showarrow": false,
          "text": "-0.04",
          "x": "publicado_hace",
          "xref": "x",
          "y": "precio",
          "yref": "y"
         },
         {
          "font": {
           "color": "#000000"
          },
          "showarrow": false,
          "text": "0.02",
          "x": "personas_interesadas",
          "xref": "x",
          "y": "precio",
          "yref": "y"
         },
         {
          "font": {
           "color": "#000000"
          },
          "showarrow": false,
          "text": "-0.01",
          "x": "status",
          "xref": "x",
          "y": "precio",
          "yref": "y"
         },
         {
          "font": {
           "color": "#000000"
          },
          "showarrow": false,
          "text": "-0.12",
          "x": "tipo",
          "xref": "x",
          "y": "precio",
          "yref": "y"
         },
         {
          "font": {
           "color": "#FFFFFF"
          },
          "showarrow": false,
          "text": "0.13",
          "x": "estacionamiento",
          "xref": "x",
          "y": "precio",
          "yref": "y"
         },
         {
          "font": {
           "color": "#FFFFFF"
          },
          "showarrow": false,
          "text": "0.18",
          "x": "recamaras",
          "xref": "x",
          "y": "precio",
          "yref": "y"
         },
         {
          "font": {
           "color": "#FFFFFF"
          },
          "showarrow": false,
          "text": "0.25",
          "x": "baño",
          "xref": "x",
          "y": "precio",
          "yref": "y"
         },
         {
          "font": {
           "color": "#000000"
          },
          "showarrow": false,
          "text": "0.1",
          "x": "medio_baño",
          "xref": "x",
          "y": "precio",
          "yref": "y"
         },
         {
          "font": {
           "color": "#FFFFFF"
          },
          "showarrow": false,
          "text": "0.27",
          "x": "baño_total",
          "xref": "x",
          "y": "precio",
          "yref": "y"
         },
         {
          "font": {
           "color": "#000000"
          },
          "showarrow": false,
          "text": "-0.01",
          "x": "Mes",
          "xref": "x",
          "y": "precio",
          "yref": "y"
         },
         {
          "font": {
           "color": "#000000"
          },
          "showarrow": false,
          "text": "0.05",
          "x": "Año",
          "xref": "x",
          "y": "precio",
          "yref": "y"
         },
         {
          "font": {
           "color": "#FFFFFF"
          },
          "showarrow": false,
          "text": "0.29",
          "x": "categoria",
          "xref": "x",
          "y": "m2_total",
          "yref": "y"
         },
         {
          "font": {
           "color": "#000000"
          },
          "showarrow": false,
          "text": "0.12",
          "x": "precio",
          "xref": "x",
          "y": "m2_total",
          "yref": "y"
         },
         {
          "font": {
           "color": "#FFFFFF"
          },
          "showarrow": false,
          "text": "1.0",
          "x": "m2_total",
          "xref": "x",
          "y": "m2_total",
          "yref": "y"
         },
         {
          "font": {
           "color": "#FFFFFF"
          },
          "showarrow": false,
          "text": "0.59",
          "x": "m2_construido",
          "xref": "x",
          "y": "m2_total",
          "yref": "y"
         },
         {
          "font": {
           "color": "#FFFFFF"
          },
          "showarrow": false,
          "text": "0.22",
          "x": "precio_m2_construido",
          "xref": "x",
          "y": "m2_total",
          "yref": "y"
         },
         {
          "font": {
           "color": "#000000"
          },
          "showarrow": false,
          "text": "0.05",
          "x": "precio_m2_terreno",
          "xref": "x",
          "y": "m2_total",
          "yref": "y"
         },
         {
          "font": {
           "color": "#000000"
          },
          "showarrow": false,
          "text": "0.0",
          "x": "publicado_hace",
          "xref": "x",
          "y": "m2_total",
          "yref": "y"
         },
         {
          "font": {
           "color": "#000000"
          },
          "showarrow": false,
          "text": "-0.03",
          "x": "personas_interesadas",
          "xref": "x",
          "y": "m2_total",
          "yref": "y"
         },
         {
          "font": {
           "color": "#000000"
          },
          "showarrow": false,
          "text": "0.01",
          "x": "status",
          "xref": "x",
          "y": "m2_total",
          "yref": "y"
         },
         {
          "font": {
           "color": "#000000"
          },
          "showarrow": false,
          "text": "-0.11",
          "x": "tipo",
          "xref": "x",
          "y": "m2_total",
          "yref": "y"
         },
         {
          "font": {
           "color": "#FFFFFF"
          },
          "showarrow": false,
          "text": "0.4",
          "x": "estacionamiento",
          "xref": "x",
          "y": "m2_total",
          "yref": "y"
         },
         {
          "font": {
           "color": "#FFFFFF"
          },
          "showarrow": false,
          "text": "0.21",
          "x": "recamaras",
          "xref": "x",
          "y": "m2_total",
          "yref": "y"
         },
         {
          "font": {
           "color": "#FFFFFF"
          },
          "showarrow": false,
          "text": "0.29",
          "x": "baño",
          "xref": "x",
          "y": "m2_total",
          "yref": "y"
         },
         {
          "font": {
           "color": "#000000"
          },
          "showarrow": false,
          "text": "0.06",
          "x": "medio_baño",
          "xref": "x",
          "y": "m2_total",
          "yref": "y"
         },
         {
          "font": {
           "color": "#FFFFFF"
          },
          "showarrow": false,
          "text": "0.29",
          "x": "baño_total",
          "xref": "x",
          "y": "m2_total",
          "yref": "y"
         },
         {
          "font": {
           "color": "#000000"
          },
          "showarrow": false,
          "text": "0.0",
          "x": "Mes",
          "xref": "x",
          "y": "m2_total",
          "yref": "y"
         },
         {
          "font": {
           "color": "#000000"
          },
          "showarrow": false,
          "text": "0.04",
          "x": "Año",
          "xref": "x",
          "y": "m2_total",
          "yref": "y"
         },
         {
          "font": {
           "color": "#FFFFFF"
          },
          "showarrow": false,
          "text": "0.25",
          "x": "categoria",
          "xref": "x",
          "y": "m2_construido",
          "yref": "y"
         },
         {
          "font": {
           "color": "#FFFFFF"
          },
          "showarrow": false,
          "text": "0.12",
          "x": "precio",
          "xref": "x",
          "y": "m2_construido",
          "yref": "y"
         },
         {
          "font": {
           "color": "#FFFFFF"
          },
          "showarrow": false,
          "text": "0.59",
          "x": "m2_total",
          "xref": "x",
          "y": "m2_construido",
          "yref": "y"
         },
         {
          "font": {
           "color": "#FFFFFF"
          },
          "showarrow": false,
          "text": "1.0",
          "x": "m2_construido",
          "xref": "x",
          "y": "m2_construido",
          "yref": "y"
         },
         {
          "font": {
           "color": "#000000"
          },
          "showarrow": false,
          "text": "0.03",
          "x": "precio_m2_construido",
          "xref": "x",
          "y": "m2_construido",
          "yref": "y"
         },
         {
          "font": {
           "color": "#FFFFFF"
          },
          "showarrow": false,
          "text": "0.35",
          "x": "precio_m2_terreno",
          "xref": "x",
          "y": "m2_construido",
          "yref": "y"
         },
         {
          "font": {
           "color": "#000000"
          },
          "showarrow": false,
          "text": "0.01",
          "x": "publicado_hace",
          "xref": "x",
          "y": "m2_construido",
          "yref": "y"
         },
         {
          "font": {
           "color": "#000000"
          },
          "showarrow": false,
          "text": "-0.03",
          "x": "personas_interesadas",
          "xref": "x",
          "y": "m2_construido",
          "yref": "y"
         },
         {
          "font": {
           "color": "#000000"
          },
          "showarrow": false,
          "text": "0.01",
          "x": "status",
          "xref": "x",
          "y": "m2_construido",
          "yref": "y"
         },
         {
          "font": {
           "color": "#000000"
          },
          "showarrow": false,
          "text": "-0.14",
          "x": "tipo",
          "xref": "x",
          "y": "m2_construido",
          "yref": "y"
         },
         {
          "font": {
           "color": "#FFFFFF"
          },
          "showarrow": false,
          "text": "0.37",
          "x": "estacionamiento",
          "xref": "x",
          "y": "m2_construido",
          "yref": "y"
         },
         {
          "font": {
           "color": "#FFFFFF"
          },
          "showarrow": false,
          "text": "0.37",
          "x": "recamaras",
          "xref": "x",
          "y": "m2_construido",
          "yref": "y"
         },
         {
          "font": {
           "color": "#FFFFFF"
          },
          "showarrow": false,
          "text": "0.46",
          "x": "baño",
          "xref": "x",
          "y": "m2_construido",
          "yref": "y"
         },
         {
          "font": {
           "color": "#000000"
          },
          "showarrow": false,
          "text": "0.09",
          "x": "medio_baño",
          "xref": "x",
          "y": "m2_construido",
          "yref": "y"
         },
         {
          "font": {
           "color": "#FFFFFF"
          },
          "showarrow": false,
          "text": "0.46",
          "x": "baño_total",
          "xref": "x",
          "y": "m2_construido",
          "yref": "y"
         },
         {
          "font": {
           "color": "#000000"
          },
          "showarrow": false,
          "text": "-0.01",
          "x": "Mes",
          "xref": "x",
          "y": "m2_construido",
          "yref": "y"
         },
         {
          "font": {
           "color": "#000000"
          },
          "showarrow": false,
          "text": "0.03",
          "x": "Año",
          "xref": "x",
          "y": "m2_construido",
          "yref": "y"
         },
         {
          "font": {
           "color": "#FFFFFF"
          },
          "showarrow": false,
          "text": "0.15",
          "x": "categoria",
          "xref": "x",
          "y": "precio_m2_construido",
          "yref": "y"
         },
         {
          "font": {
           "color": "#FFFFFF"
          },
          "showarrow": false,
          "text": "0.2",
          "x": "precio",
          "xref": "x",
          "y": "precio_m2_construido",
          "yref": "y"
         },
         {
          "font": {
           "color": "#FFFFFF"
          },
          "showarrow": false,
          "text": "0.22",
          "x": "m2_total",
          "xref": "x",
          "y": "precio_m2_construido",
          "yref": "y"
         },
         {
          "font": {
           "color": "#000000"
          },
          "showarrow": false,
          "text": "0.03",
          "x": "m2_construido",
          "xref": "x",
          "y": "precio_m2_construido",
          "yref": "y"
         },
         {
          "font": {
           "color": "#FFFFFF"
          },
          "showarrow": false,
          "text": "1.0",
          "x": "precio_m2_construido",
          "xref": "x",
          "y": "precio_m2_construido",
          "yref": "y"
         },
         {
          "font": {
           "color": "#FFFFFF"
          },
          "showarrow": false,
          "text": "0.64",
          "x": "precio_m2_terreno",
          "xref": "x",
          "y": "precio_m2_construido",
          "yref": "y"
         },
         {
          "font": {
           "color": "#000000"
          },
          "showarrow": false,
          "text": "-0.02",
          "x": "publicado_hace",
          "xref": "x",
          "y": "precio_m2_construido",
          "yref": "y"
         },
         {
          "font": {
           "color": "#000000"
          },
          "showarrow": false,
          "text": "-0.0",
          "x": "personas_interesadas",
          "xref": "x",
          "y": "precio_m2_construido",
          "yref": "y"
         },
         {
          "font": {
           "color": "#000000"
          },
          "showarrow": false,
          "text": "0.03",
          "x": "status",
          "xref": "x",
          "y": "precio_m2_construido",
          "yref": "y"
         },
         {
          "font": {
           "color": "#FFFFFF"
          },
          "showarrow": false,
          "text": "0.25",
          "x": "tipo",
          "xref": "x",
          "y": "precio_m2_construido",
          "yref": "y"
         },
         {
          "font": {
           "color": "#000000"
          },
          "showarrow": false,
          "text": "0.1",
          "x": "estacionamiento",
          "xref": "x",
          "y": "precio_m2_construido",
          "yref": "y"
         },
         {
          "font": {
           "color": "#000000"
          },
          "showarrow": false,
          "text": "-0.05",
          "x": "recamaras",
          "xref": "x",
          "y": "precio_m2_construido",
          "yref": "y"
         },
         {
          "font": {
           "color": "#000000"
          },
          "showarrow": false,
          "text": "0.08",
          "x": "baño",
          "xref": "x",
          "y": "precio_m2_construido",
          "yref": "y"
         },
         {
          "font": {
           "color": "#000000"
          },
          "showarrow": false,
          "text": "0.02",
          "x": "medio_baño",
          "xref": "x",
          "y": "precio_m2_construido",
          "yref": "y"
         },
         {
          "font": {
           "color": "#000000"
          },
          "showarrow": false,
          "text": "0.08",
          "x": "baño_total",
          "xref": "x",
          "y": "precio_m2_construido",
          "yref": "y"
         },
         {
          "font": {
           "color": "#000000"
          },
          "showarrow": false,
          "text": "0.04",
          "x": "Mes",
          "xref": "x",
          "y": "precio_m2_construido",
          "yref": "y"
         },
         {
          "font": {
           "color": "#000000"
          },
          "showarrow": false,
          "text": "0.01",
          "x": "Año",
          "xref": "x",
          "y": "precio_m2_construido",
          "yref": "y"
         },
         {
          "font": {
           "color": "#000000"
          },
          "showarrow": false,
          "text": "0.11",
          "x": "categoria",
          "xref": "x",
          "y": "precio_m2_terreno",
          "yref": "y"
         },
         {
          "font": {
           "color": "#FFFFFF"
          },
          "showarrow": false,
          "text": "0.32",
          "x": "precio",
          "xref": "x",
          "y": "precio_m2_terreno",
          "yref": "y"
         },
         {
          "font": {
           "color": "#000000"
          },
          "showarrow": false,
          "text": "0.05",
          "x": "m2_total",
          "xref": "x",
          "y": "precio_m2_terreno",
          "yref": "y"
         },
         {
          "font": {
           "color": "#FFFFFF"
          },
          "showarrow": false,
          "text": "0.35",
          "x": "m2_construido",
          "xref": "x",
          "y": "precio_m2_terreno",
          "yref": "y"
         },
         {
          "font": {
           "color": "#FFFFFF"
          },
          "showarrow": false,
          "text": "0.64",
          "x": "precio_m2_construido",
          "xref": "x",
          "y": "precio_m2_terreno",
          "yref": "y"
         },
         {
          "font": {
           "color": "#FFFFFF"
          },
          "showarrow": false,
          "text": "1.0",
          "x": "precio_m2_terreno",
          "xref": "x",
          "y": "precio_m2_terreno",
          "yref": "y"
         },
         {
          "font": {
           "color": "#000000"
          },
          "showarrow": false,
          "text": "-0.02",
          "x": "publicado_hace",
          "xref": "x",
          "y": "precio_m2_terreno",
          "yref": "y"
         },
         {
          "font": {
           "color": "#000000"
          },
          "showarrow": false,
          "text": "-0.0",
          "x": "personas_interesadas",
          "xref": "x",
          "y": "precio_m2_terreno",
          "yref": "y"
         },
         {
          "font": {
           "color": "#000000"
          },
          "showarrow": false,
          "text": "0.02",
          "x": "status",
          "xref": "x",
          "y": "precio_m2_terreno",
          "yref": "y"
         },
         {
          "font": {
           "color": "#FFFFFF"
          },
          "showarrow": false,
          "text": "0.16",
          "x": "tipo",
          "xref": "x",
          "y": "precio_m2_terreno",
          "yref": "y"
         },
         {
          "font": {
           "color": "#FFFFFF"
          },
          "showarrow": false,
          "text": "0.16",
          "x": "estacionamiento",
          "xref": "x",
          "y": "precio_m2_terreno",
          "yref": "y"
         },
         {
          "font": {
           "color": "#FFFFFF"
          },
          "showarrow": false,
          "text": "0.18",
          "x": "recamaras",
          "xref": "x",
          "y": "precio_m2_terreno",
          "yref": "y"
         },
         {
          "font": {
           "color": "#FFFFFF"
          },
          "showarrow": false,
          "text": "0.37",
          "x": "baño",
          "xref": "x",
          "y": "precio_m2_terreno",
          "yref": "y"
         },
         {
          "font": {
           "color": "#000000"
          },
          "showarrow": false,
          "text": "0.09",
          "x": "medio_baño",
          "xref": "x",
          "y": "precio_m2_terreno",
          "yref": "y"
         },
         {
          "font": {
           "color": "#FFFFFF"
          },
          "showarrow": false,
          "text": "0.38",
          "x": "baño_total",
          "xref": "x",
          "y": "precio_m2_terreno",
          "yref": "y"
         },
         {
          "font": {
           "color": "#000000"
          },
          "showarrow": false,
          "text": "0.02",
          "x": "Mes",
          "xref": "x",
          "y": "precio_m2_terreno",
          "yref": "y"
         },
         {
          "font": {
           "color": "#000000"
          },
          "showarrow": false,
          "text": "0.02",
          "x": "Año",
          "xref": "x",
          "y": "precio_m2_terreno",
          "yref": "y"
         },
         {
          "font": {
           "color": "#000000"
          },
          "showarrow": false,
          "text": "-0.01",
          "x": "categoria",
          "xref": "x",
          "y": "publicado_hace",
          "yref": "y"
         },
         {
          "font": {
           "color": "#000000"
          },
          "showarrow": false,
          "text": "-0.04",
          "x": "precio",
          "xref": "x",
          "y": "publicado_hace",
          "yref": "y"
         },
         {
          "font": {
           "color": "#000000"
          },
          "showarrow": false,
          "text": "0.0",
          "x": "m2_total",
          "xref": "x",
          "y": "publicado_hace",
          "yref": "y"
         },
         {
          "font": {
           "color": "#000000"
          },
          "showarrow": false,
          "text": "0.01",
          "x": "m2_construido",
          "xref": "x",
          "y": "publicado_hace",
          "yref": "y"
         },
         {
          "font": {
           "color": "#000000"
          },
          "showarrow": false,
          "text": "-0.02",
          "x": "precio_m2_construido",
          "xref": "x",
          "y": "publicado_hace",
          "yref": "y"
         },
         {
          "font": {
           "color": "#000000"
          },
          "showarrow": false,
          "text": "-0.02",
          "x": "precio_m2_terreno",
          "xref": "x",
          "y": "publicado_hace",
          "yref": "y"
         },
         {
          "font": {
           "color": "#FFFFFF"
          },
          "showarrow": false,
          "text": "1.0",
          "x": "publicado_hace",
          "xref": "x",
          "y": "publicado_hace",
          "yref": "y"
         },
         {
          "font": {
           "color": "#000000"
          },
          "showarrow": false,
          "text": "0.0",
          "x": "personas_interesadas",
          "xref": "x",
          "y": "publicado_hace",
          "yref": "y"
         },
         {
          "font": {
           "color": "#000000"
          },
          "showarrow": false,
          "text": "0.07",
          "x": "status",
          "xref": "x",
          "y": "publicado_hace",
          "yref": "y"
         },
         {
          "font": {
           "color": "#000000"
          },
          "showarrow": false,
          "text": "-0.03",
          "x": "tipo",
          "xref": "x",
          "y": "publicado_hace",
          "yref": "y"
         },
         {
          "font": {
           "color": "#000000"
          },
          "showarrow": false,
          "text": "0.01",
          "x": "estacionamiento",
          "xref": "x",
          "y": "publicado_hace",
          "yref": "y"
         },
         {
          "font": {
           "color": "#000000"
          },
          "showarrow": false,
          "text": "0.03",
          "x": "recamaras",
          "xref": "x",
          "y": "publicado_hace",
          "yref": "y"
         },
         {
          "font": {
           "color": "#000000"
          },
          "showarrow": false,
          "text": "-0.05",
          "x": "baño",
          "xref": "x",
          "y": "publicado_hace",
          "yref": "y"
         },
         {
          "font": {
           "color": "#FFFFFF"
          },
          "showarrow": false,
          "text": "0.14",
          "x": "medio_baño",
          "xref": "x",
          "y": "publicado_hace",
          "yref": "y"
         },
         {
          "font": {
           "color": "#000000"
          },
          "showarrow": false,
          "text": "0.01",
          "x": "baño_total",
          "xref": "x",
          "y": "publicado_hace",
          "yref": "y"
         },
         {
          "font": {
           "color": "#000000"
          },
          "showarrow": false,
          "text": "-0.26",
          "x": "Mes",
          "xref": "x",
          "y": "publicado_hace",
          "yref": "y"
         },
         {
          "font": {
           "color": "#FFFFFF"
          },
          "showarrow": false,
          "text": "0.17",
          "x": "Año",
          "xref": "x",
          "y": "publicado_hace",
          "yref": "y"
         },
         {
          "font": {
           "color": "#000000"
          },
          "showarrow": false,
          "text": "-0.06",
          "x": "categoria",
          "xref": "x",
          "y": "personas_interesadas",
          "yref": "y"
         },
         {
          "font": {
           "color": "#000000"
          },
          "showarrow": false,
          "text": "0.02",
          "x": "precio",
          "xref": "x",
          "y": "personas_interesadas",
          "yref": "y"
         },
         {
          "font": {
           "color": "#000000"
          },
          "showarrow": false,
          "text": "-0.03",
          "x": "m2_total",
          "xref": "x",
          "y": "personas_interesadas",
          "yref": "y"
         },
         {
          "font": {
           "color": "#000000"
          },
          "showarrow": false,
          "text": "-0.03",
          "x": "m2_construido",
          "xref": "x",
          "y": "personas_interesadas",
          "yref": "y"
         },
         {
          "font": {
           "color": "#000000"
          },
          "showarrow": false,
          "text": "-0.0",
          "x": "precio_m2_construido",
          "xref": "x",
          "y": "personas_interesadas",
          "yref": "y"
         },
         {
          "font": {
           "color": "#000000"
          },
          "showarrow": false,
          "text": "-0.0",
          "x": "precio_m2_terreno",
          "xref": "x",
          "y": "personas_interesadas",
          "yref": "y"
         },
         {
          "font": {
           "color": "#000000"
          },
          "showarrow": false,
          "text": "0.0",
          "x": "publicado_hace",
          "xref": "x",
          "y": "personas_interesadas",
          "yref": "y"
         },
         {
          "font": {
           "color": "#FFFFFF"
          },
          "showarrow": false,
          "text": "1.0",
          "x": "personas_interesadas",
          "xref": "x",
          "y": "personas_interesadas",
          "yref": "y"
         },
         {
          "font": {
           "color": "#000000"
          },
          "showarrow": false,
          "text": "0.1",
          "x": "status",
          "xref": "x",
          "y": "personas_interesadas",
          "yref": "y"
         },
         {
          "font": {
           "color": "#000000"
          },
          "showarrow": false,
          "text": "0.02",
          "x": "tipo",
          "xref": "x",
          "y": "personas_interesadas",
          "yref": "y"
         },
         {
          "font": {
           "color": "#000000"
          },
          "showarrow": false,
          "text": "-0.02",
          "x": "estacionamiento",
          "xref": "x",
          "y": "personas_interesadas",
          "yref": "y"
         },
         {
          "font": {
           "color": "#000000"
          },
          "showarrow": false,
          "text": "-0.05",
          "x": "recamaras",
          "xref": "x",
          "y": "personas_interesadas",
          "yref": "y"
         },
         {
          "font": {
           "color": "#000000"
          },
          "showarrow": false,
          "text": "-0.06",
          "x": "baño",
          "xref": "x",
          "y": "personas_interesadas",
          "yref": "y"
         },
         {
          "font": {
           "color": "#FFFFFF"
          },
          "showarrow": false,
          "text": "0.23",
          "x": "medio_baño",
          "xref": "x",
          "y": "personas_interesadas",
          "yref": "y"
         },
         {
          "font": {
           "color": "#000000"
          },
          "showarrow": false,
          "text": "0.03",
          "x": "baño_total",
          "xref": "x",
          "y": "personas_interesadas",
          "yref": "y"
         },
         {
          "font": {
           "color": "#000000"
          },
          "showarrow": false,
          "text": "-0.14",
          "x": "Mes",
          "xref": "x",
          "y": "personas_interesadas",
          "yref": "y"
         },
         {
          "font": {
           "color": "#FFFFFF"
          },
          "showarrow": false,
          "text": "0.28",
          "x": "Año",
          "xref": "x",
          "y": "personas_interesadas",
          "yref": "y"
         },
         {
          "font": {
           "color": "#000000"
          },
          "showarrow": false,
          "text": "0.01",
          "x": "categoria",
          "xref": "x",
          "y": "status",
          "yref": "y"
         },
         {
          "font": {
           "color": "#000000"
          },
          "showarrow": false,
          "text": "-0.01",
          "x": "precio",
          "xref": "x",
          "y": "status",
          "yref": "y"
         },
         {
          "font": {
           "color": "#000000"
          },
          "showarrow": false,
          "text": "0.01",
          "x": "m2_total",
          "xref": "x",
          "y": "status",
          "yref": "y"
         },
         {
          "font": {
           "color": "#000000"
          },
          "showarrow": false,
          "text": "0.01",
          "x": "m2_construido",
          "xref": "x",
          "y": "status",
          "yref": "y"
         },
         {
          "font": {
           "color": "#000000"
          },
          "showarrow": false,
          "text": "0.03",
          "x": "precio_m2_construido",
          "xref": "x",
          "y": "status",
          "yref": "y"
         },
         {
          "font": {
           "color": "#000000"
          },
          "showarrow": false,
          "text": "0.02",
          "x": "precio_m2_terreno",
          "xref": "x",
          "y": "status",
          "yref": "y"
         },
         {
          "font": {
           "color": "#000000"
          },
          "showarrow": false,
          "text": "0.07",
          "x": "publicado_hace",
          "xref": "x",
          "y": "status",
          "yref": "y"
         },
         {
          "font": {
           "color": "#000000"
          },
          "showarrow": false,
          "text": "0.1",
          "x": "personas_interesadas",
          "xref": "x",
          "y": "status",
          "yref": "y"
         },
         {
          "font": {
           "color": "#FFFFFF"
          },
          "showarrow": false,
          "text": "1.0",
          "x": "status",
          "xref": "x",
          "y": "status",
          "yref": "y"
         },
         {
          "font": {
           "color": "#000000"
          },
          "showarrow": false,
          "text": "0.07",
          "x": "tipo",
          "xref": "x",
          "y": "status",
          "yref": "y"
         },
         {
          "font": {
           "color": "#000000"
          },
          "showarrow": false,
          "text": "-0.03",
          "x": "estacionamiento",
          "xref": "x",
          "y": "status",
          "yref": "y"
         },
         {
          "font": {
           "color": "#000000"
          },
          "showarrow": false,
          "text": "-0.0",
          "x": "recamaras",
          "xref": "x",
          "y": "status",
          "yref": "y"
         },
         {
          "font": {
           "color": "#000000"
          },
          "showarrow": false,
          "text": "-0.04",
          "x": "baño",
          "xref": "x",
          "y": "status",
          "yref": "y"
         },
         {
          "font": {
           "color": "#FFFFFF"
          },
          "showarrow": false,
          "text": "0.19",
          "x": "medio_baño",
          "xref": "x",
          "y": "status",
          "yref": "y"
         },
         {
          "font": {
           "color": "#000000"
          },
          "showarrow": false,
          "text": "0.04",
          "x": "baño_total",
          "xref": "x",
          "y": "status",
          "yref": "y"
         },
         {
          "font": {
           "color": "#FFFFFF"
          },
          "showarrow": false,
          "text": "0.39",
          "x": "Mes",
          "xref": "x",
          "y": "status",
          "yref": "y"
         },
         {
          "font": {
           "color": "#000000"
          },
          "showarrow": false,
          "text": "-0.23",
          "x": "Año",
          "xref": "x",
          "y": "status",
          "yref": "y"
         },
         {
          "font": {
           "color": "#000000"
          },
          "showarrow": false,
          "text": "0.07",
          "x": "categoria",
          "xref": "x",
          "y": "tipo",
          "yref": "y"
         },
         {
          "font": {
           "color": "#000000"
          },
          "showarrow": false,
          "text": "-0.12",
          "x": "precio",
          "xref": "x",
          "y": "tipo",
          "yref": "y"
         },
         {
          "font": {
           "color": "#000000"
          },
          "showarrow": false,
          "text": "-0.11",
          "x": "m2_total",
          "xref": "x",
          "y": "tipo",
          "yref": "y"
         },
         {
          "font": {
           "color": "#000000"
          },
          "showarrow": false,
          "text": "-0.14",
          "x": "m2_construido",
          "xref": "x",
          "y": "tipo",
          "yref": "y"
         },
         {
          "font": {
           "color": "#FFFFFF"
          },
          "showarrow": false,
          "text": "0.25",
          "x": "precio_m2_construido",
          "xref": "x",
          "y": "tipo",
          "yref": "y"
         },
         {
          "font": {
           "color": "#FFFFFF"
          },
          "showarrow": false,
          "text": "0.16",
          "x": "precio_m2_terreno",
          "xref": "x",
          "y": "tipo",
          "yref": "y"
         },
         {
          "font": {
           "color": "#000000"
          },
          "showarrow": false,
          "text": "-0.03",
          "x": "publicado_hace",
          "xref": "x",
          "y": "tipo",
          "yref": "y"
         },
         {
          "font": {
           "color": "#000000"
          },
          "showarrow": false,
          "text": "0.02",
          "x": "personas_interesadas",
          "xref": "x",
          "y": "tipo",
          "yref": "y"
         },
         {
          "font": {
           "color": "#000000"
          },
          "showarrow": false,
          "text": "0.07",
          "x": "status",
          "xref": "x",
          "y": "tipo",
          "yref": "y"
         },
         {
          "font": {
           "color": "#FFFFFF"
          },
          "showarrow": false,
          "text": "1.0",
          "x": "tipo",
          "xref": "x",
          "y": "tipo",
          "yref": "y"
         },
         {
          "font": {
           "color": "#000000"
          },
          "showarrow": false,
          "text": "-0.08",
          "x": "estacionamiento",
          "xref": "x",
          "y": "tipo",
          "yref": "y"
         },
         {
          "font": {
           "color": "#000000"
          },
          "showarrow": false,
          "text": "-0.19",
          "x": "recamaras",
          "xref": "x",
          "y": "tipo",
          "yref": "y"
         },
         {
          "font": {
           "color": "#000000"
          },
          "showarrow": false,
          "text": "-0.16",
          "x": "baño",
          "xref": "x",
          "y": "tipo",
          "yref": "y"
         },
         {
          "font": {
           "color": "#000000"
          },
          "showarrow": false,
          "text": "-0.07",
          "x": "medio_baño",
          "xref": "x",
          "y": "tipo",
          "yref": "y"
         },
         {
          "font": {
           "color": "#000000"
          },
          "showarrow": false,
          "text": "-0.17",
          "x": "baño_total",
          "xref": "x",
          "y": "tipo",
          "yref": "y"
         },
         {
          "font": {
           "color": "#000000"
          },
          "showarrow": false,
          "text": "0.08",
          "x": "Mes",
          "xref": "x",
          "y": "tipo",
          "yref": "y"
         },
         {
          "font": {
           "color": "#000000"
          },
          "showarrow": false,
          "text": "-0.03",
          "x": "Año",
          "xref": "x",
          "y": "tipo",
          "yref": "y"
         },
         {
          "font": {
           "color": "#FFFFFF"
          },
          "showarrow": false,
          "text": "0.12",
          "x": "categoria",
          "xref": "x",
          "y": "estacionamiento",
          "yref": "y"
         },
         {
          "font": {
           "color": "#FFFFFF"
          },
          "showarrow": false,
          "text": "0.13",
          "x": "precio",
          "xref": "x",
          "y": "estacionamiento",
          "yref": "y"
         },
         {
          "font": {
           "color": "#FFFFFF"
          },
          "showarrow": false,
          "text": "0.4",
          "x": "m2_total",
          "xref": "x",
          "y": "estacionamiento",
          "yref": "y"
         },
         {
          "font": {
           "color": "#FFFFFF"
          },
          "showarrow": false,
          "text": "0.37",
          "x": "m2_construido",
          "xref": "x",
          "y": "estacionamiento",
          "yref": "y"
         },
         {
          "font": {
           "color": "#000000"
          },
          "showarrow": false,
          "text": "0.1",
          "x": "precio_m2_construido",
          "xref": "x",
          "y": "estacionamiento",
          "yref": "y"
         },
         {
          "font": {
           "color": "#FFFFFF"
          },
          "showarrow": false,
          "text": "0.16",
          "x": "precio_m2_terreno",
          "xref": "x",
          "y": "estacionamiento",
          "yref": "y"
         },
         {
          "font": {
           "color": "#000000"
          },
          "showarrow": false,
          "text": "0.01",
          "x": "publicado_hace",
          "xref": "x",
          "y": "estacionamiento",
          "yref": "y"
         },
         {
          "font": {
           "color": "#000000"
          },
          "showarrow": false,
          "text": "-0.02",
          "x": "personas_interesadas",
          "xref": "x",
          "y": "estacionamiento",
          "yref": "y"
         },
         {
          "font": {
           "color": "#000000"
          },
          "showarrow": false,
          "text": "-0.03",
          "x": "status",
          "xref": "x",
          "y": "estacionamiento",
          "yref": "y"
         },
         {
          "font": {
           "color": "#000000"
          },
          "showarrow": false,
          "text": "-0.08",
          "x": "tipo",
          "xref": "x",
          "y": "estacionamiento",
          "yref": "y"
         },
         {
          "font": {
           "color": "#FFFFFF"
          },
          "showarrow": false,
          "text": "1.0",
          "x": "estacionamiento",
          "xref": "x",
          "y": "estacionamiento",
          "yref": "y"
         },
         {
          "font": {
           "color": "#FFFFFF"
          },
          "showarrow": false,
          "text": "0.21",
          "x": "recamaras",
          "xref": "x",
          "y": "estacionamiento",
          "yref": "y"
         },
         {
          "font": {
           "color": "#FFFFFF"
          },
          "showarrow": false,
          "text": "0.26",
          "x": "baño",
          "xref": "x",
          "y": "estacionamiento",
          "yref": "y"
         },
         {
          "font": {
           "color": "#000000"
          },
          "showarrow": false,
          "text": "0.09",
          "x": "medio_baño",
          "xref": "x",
          "y": "estacionamiento",
          "yref": "y"
         },
         {
          "font": {
           "color": "#FFFFFF"
          },
          "showarrow": false,
          "text": "0.27",
          "x": "baño_total",
          "xref": "x",
          "y": "estacionamiento",
          "yref": "y"
         },
         {
          "font": {
           "color": "#000000"
          },
          "showarrow": false,
          "text": "-0.05",
          "x": "Mes",
          "xref": "x",
          "y": "estacionamiento",
          "yref": "y"
         },
         {
          "font": {
           "color": "#000000"
          },
          "showarrow": false,
          "text": "0.02",
          "x": "Año",
          "xref": "x",
          "y": "estacionamiento",
          "yref": "y"
         },
         {
          "font": {
           "color": "#000000"
          },
          "showarrow": false,
          "text": "-0.0",
          "x": "categoria",
          "xref": "x",
          "y": "recamaras",
          "yref": "y"
         },
         {
          "font": {
           "color": "#FFFFFF"
          },
          "showarrow": false,
          "text": "0.18",
          "x": "precio",
          "xref": "x",
          "y": "recamaras",
          "yref": "y"
         },
         {
          "font": {
           "color": "#FFFFFF"
          },
          "showarrow": false,
          "text": "0.21",
          "x": "m2_total",
          "xref": "x",
          "y": "recamaras",
          "yref": "y"
         },
         {
          "font": {
           "color": "#FFFFFF"
          },
          "showarrow": false,
          "text": "0.37",
          "x": "m2_construido",
          "xref": "x",
          "y": "recamaras",
          "yref": "y"
         },
         {
          "font": {
           "color": "#000000"
          },
          "showarrow": false,
          "text": "-0.05",
          "x": "precio_m2_construido",
          "xref": "x",
          "y": "recamaras",
          "yref": "y"
         },
         {
          "font": {
           "color": "#FFFFFF"
          },
          "showarrow": false,
          "text": "0.18",
          "x": "precio_m2_terreno",
          "xref": "x",
          "y": "recamaras",
          "yref": "y"
         },
         {
          "font": {
           "color": "#000000"
          },
          "showarrow": false,
          "text": "0.03",
          "x": "publicado_hace",
          "xref": "x",
          "y": "recamaras",
          "yref": "y"
         },
         {
          "font": {
           "color": "#000000"
          },
          "showarrow": false,
          "text": "-0.05",
          "x": "personas_interesadas",
          "xref": "x",
          "y": "recamaras",
          "yref": "y"
         },
         {
          "font": {
           "color": "#000000"
          },
          "showarrow": false,
          "text": "-0.0",
          "x": "status",
          "xref": "x",
          "y": "recamaras",
          "yref": "y"
         },
         {
          "font": {
           "color": "#000000"
          },
          "showarrow": false,
          "text": "-0.19",
          "x": "tipo",
          "xref": "x",
          "y": "recamaras",
          "yref": "y"
         },
         {
          "font": {
           "color": "#FFFFFF"
          },
          "showarrow": false,
          "text": "0.21",
          "x": "estacionamiento",
          "xref": "x",
          "y": "recamaras",
          "yref": "y"
         },
         {
          "font": {
           "color": "#FFFFFF"
          },
          "showarrow": false,
          "text": "1.0",
          "x": "recamaras",
          "xref": "x",
          "y": "recamaras",
          "yref": "y"
         },
         {
          "font": {
           "color": "#FFFFFF"
          },
          "showarrow": false,
          "text": "0.47",
          "x": "baño",
          "xref": "x",
          "y": "recamaras",
          "yref": "y"
         },
         {
          "font": {
           "color": "#000000"
          },
          "showarrow": false,
          "text": "0.04",
          "x": "medio_baño",
          "xref": "x",
          "y": "recamaras",
          "yref": "y"
         },
         {
          "font": {
           "color": "#FFFFFF"
          },
          "showarrow": false,
          "text": "0.45",
          "x": "baño_total",
          "xref": "x",
          "y": "recamaras",
          "yref": "y"
         },
         {
          "font": {
           "color": "#000000"
          },
          "showarrow": false,
          "text": "-0.04",
          "x": "Mes",
          "xref": "x",
          "y": "recamaras",
          "yref": "y"
         },
         {
          "font": {
           "color": "#000000"
          },
          "showarrow": false,
          "text": "0.0",
          "x": "Año",
          "xref": "x",
          "y": "recamaras",
          "yref": "y"
         },
         {
          "font": {
           "color": "#000000"
          },
          "showarrow": false,
          "text": "0.03",
          "x": "categoria",
          "xref": "x",
          "y": "baño",
          "yref": "y"
         },
         {
          "font": {
           "color": "#FFFFFF"
          },
          "showarrow": false,
          "text": "0.25",
          "x": "precio",
          "xref": "x",
          "y": "baño",
          "yref": "y"
         },
         {
          "font": {
           "color": "#FFFFFF"
          },
          "showarrow": false,
          "text": "0.29",
          "x": "m2_total",
          "xref": "x",
          "y": "baño",
          "yref": "y"
         },
         {
          "font": {
           "color": "#FFFFFF"
          },
          "showarrow": false,
          "text": "0.46",
          "x": "m2_construido",
          "xref": "x",
          "y": "baño",
          "yref": "y"
         },
         {
          "font": {
           "color": "#000000"
          },
          "showarrow": false,
          "text": "0.08",
          "x": "precio_m2_construido",
          "xref": "x",
          "y": "baño",
          "yref": "y"
         },
         {
          "font": {
           "color": "#FFFFFF"
          },
          "showarrow": false,
          "text": "0.37",
          "x": "precio_m2_terreno",
          "xref": "x",
          "y": "baño",
          "yref": "y"
         },
         {
          "font": {
           "color": "#000000"
          },
          "showarrow": false,
          "text": "-0.05",
          "x": "publicado_hace",
          "xref": "x",
          "y": "baño",
          "yref": "y"
         },
         {
          "font": {
           "color": "#000000"
          },
          "showarrow": false,
          "text": "-0.06",
          "x": "personas_interesadas",
          "xref": "x",
          "y": "baño",
          "yref": "y"
         },
         {
          "font": {
           "color": "#000000"
          },
          "showarrow": false,
          "text": "-0.04",
          "x": "status",
          "xref": "x",
          "y": "baño",
          "yref": "y"
         },
         {
          "font": {
           "color": "#000000"
          },
          "showarrow": false,
          "text": "-0.16",
          "x": "tipo",
          "xref": "x",
          "y": "baño",
          "yref": "y"
         },
         {
          "font": {
           "color": "#FFFFFF"
          },
          "showarrow": false,
          "text": "0.26",
          "x": "estacionamiento",
          "xref": "x",
          "y": "baño",
          "yref": "y"
         },
         {
          "font": {
           "color": "#FFFFFF"
          },
          "showarrow": false,
          "text": "0.47",
          "x": "recamaras",
          "xref": "x",
          "y": "baño",
          "yref": "y"
         },
         {
          "font": {
           "color": "#FFFFFF"
          },
          "showarrow": false,
          "text": "1.0",
          "x": "baño",
          "xref": "x",
          "y": "baño",
          "yref": "y"
         },
         {
          "font": {
           "color": "#000000"
          },
          "showarrow": false,
          "text": "0.0",
          "x": "medio_baño",
          "xref": "x",
          "y": "baño",
          "yref": "y"
         },
         {
          "font": {
           "color": "#FFFFFF"
          },
          "showarrow": false,
          "text": "0.93",
          "x": "baño_total",
          "xref": "x",
          "y": "baño",
          "yref": "y"
         },
         {
          "font": {
           "color": "#000000"
          },
          "showarrow": false,
          "text": "0.05",
          "x": "Mes",
          "xref": "x",
          "y": "baño",
          "yref": "y"
         },
         {
          "font": {
           "color": "#000000"
          },
          "showarrow": false,
          "text": "-0.04",
          "x": "Año",
          "xref": "x",
          "y": "baño",
          "yref": "y"
         },
         {
          "font": {
           "color": "#000000"
          },
          "showarrow": false,
          "text": "-0.02",
          "x": "categoria",
          "xref": "x",
          "y": "medio_baño",
          "yref": "y"
         },
         {
          "font": {
           "color": "#000000"
          },
          "showarrow": false,
          "text": "0.1",
          "x": "precio",
          "xref": "x",
          "y": "medio_baño",
          "yref": "y"
         },
         {
          "font": {
           "color": "#000000"
          },
          "showarrow": false,
          "text": "0.06",
          "x": "m2_total",
          "xref": "x",
          "y": "medio_baño",
          "yref": "y"
         },
         {
          "font": {
           "color": "#000000"
          },
          "showarrow": false,
          "text": "0.09",
          "x": "m2_construido",
          "xref": "x",
          "y": "medio_baño",
          "yref": "y"
         },
         {
          "font": {
           "color": "#000000"
          },
          "showarrow": false,
          "text": "0.02",
          "x": "precio_m2_construido",
          "xref": "x",
          "y": "medio_baño",
          "yref": "y"
         },
         {
          "font": {
           "color": "#000000"
          },
          "showarrow": false,
          "text": "0.09",
          "x": "precio_m2_terreno",
          "xref": "x",
          "y": "medio_baño",
          "yref": "y"
         },
         {
          "font": {
           "color": "#FFFFFF"
          },
          "showarrow": false,
          "text": "0.14",
          "x": "publicado_hace",
          "xref": "x",
          "y": "medio_baño",
          "yref": "y"
         },
         {
          "font": {
           "color": "#FFFFFF"
          },
          "showarrow": false,
          "text": "0.23",
          "x": "personas_interesadas",
          "xref": "x",
          "y": "medio_baño",
          "yref": "y"
         },
         {
          "font": {
           "color": "#FFFFFF"
          },
          "showarrow": false,
          "text": "0.19",
          "x": "status",
          "xref": "x",
          "y": "medio_baño",
          "yref": "y"
         },
         {
          "font": {
           "color": "#000000"
          },
          "showarrow": false,
          "text": "-0.07",
          "x": "tipo",
          "xref": "x",
          "y": "medio_baño",
          "yref": "y"
         },
         {
          "font": {
           "color": "#000000"
          },
          "showarrow": false,
          "text": "0.09",
          "x": "estacionamiento",
          "xref": "x",
          "y": "medio_baño",
          "yref": "y"
         },
         {
          "font": {
           "color": "#000000"
          },
          "showarrow": false,
          "text": "0.04",
          "x": "recamaras",
          "xref": "x",
          "y": "medio_baño",
          "yref": "y"
         },
         {
          "font": {
           "color": "#000000"
          },
          "showarrow": false,
          "text": "0.0",
          "x": "baño",
          "xref": "x",
          "y": "medio_baño",
          "yref": "y"
         },
         {
          "font": {
           "color": "#FFFFFF"
          },
          "showarrow": false,
          "text": "1.0",
          "x": "medio_baño",
          "xref": "x",
          "y": "medio_baño",
          "yref": "y"
         },
         {
          "font": {
           "color": "#FFFFFF"
          },
          "showarrow": false,
          "text": "0.38",
          "x": "baño_total",
          "xref": "x",
          "y": "medio_baño",
          "yref": "y"
         },
         {
          "font": {
           "color": "#000000"
          },
          "showarrow": false,
          "text": "-0.04",
          "x": "Mes",
          "xref": "x",
          "y": "medio_baño",
          "yref": "y"
         },
         {
          "font": {
           "color": "#000000"
          },
          "showarrow": false,
          "text": "0.1",
          "x": "Año",
          "xref": "x",
          "y": "medio_baño",
          "yref": "y"
         },
         {
          "font": {
           "color": "#000000"
          },
          "showarrow": false,
          "text": "0.02",
          "x": "categoria",
          "xref": "x",
          "y": "baño_total",
          "yref": "y"
         },
         {
          "font": {
           "color": "#FFFFFF"
          },
          "showarrow": false,
          "text": "0.27",
          "x": "precio",
          "xref": "x",
          "y": "baño_total",
          "yref": "y"
         },
         {
          "font": {
           "color": "#FFFFFF"
          },
          "showarrow": false,
          "text": "0.29",
          "x": "m2_total",
          "xref": "x",
          "y": "baño_total",
          "yref": "y"
         },
         {
          "font": {
           "color": "#FFFFFF"
          },
          "showarrow": false,
          "text": "0.46",
          "x": "m2_construido",
          "xref": "x",
          "y": "baño_total",
          "yref": "y"
         },
         {
          "font": {
           "color": "#000000"
          },
          "showarrow": false,
          "text": "0.08",
          "x": "precio_m2_construido",
          "xref": "x",
          "y": "baño_total",
          "yref": "y"
         },
         {
          "font": {
           "color": "#FFFFFF"
          },
          "showarrow": false,
          "text": "0.38",
          "x": "precio_m2_terreno",
          "xref": "x",
          "y": "baño_total",
          "yref": "y"
         },
         {
          "font": {
           "color": "#000000"
          },
          "showarrow": false,
          "text": "0.01",
          "x": "publicado_hace",
          "xref": "x",
          "y": "baño_total",
          "yref": "y"
         },
         {
          "font": {
           "color": "#000000"
          },
          "showarrow": false,
          "text": "0.03",
          "x": "personas_interesadas",
          "xref": "x",
          "y": "baño_total",
          "yref": "y"
         },
         {
          "font": {
           "color": "#000000"
          },
          "showarrow": false,
          "text": "0.04",
          "x": "status",
          "xref": "x",
          "y": "baño_total",
          "yref": "y"
         },
         {
          "font": {
           "color": "#000000"
          },
          "showarrow": false,
          "text": "-0.17",
          "x": "tipo",
          "xref": "x",
          "y": "baño_total",
          "yref": "y"
         },
         {
          "font": {
           "color": "#FFFFFF"
          },
          "showarrow": false,
          "text": "0.27",
          "x": "estacionamiento",
          "xref": "x",
          "y": "baño_total",
          "yref": "y"
         },
         {
          "font": {
           "color": "#FFFFFF"
          },
          "showarrow": false,
          "text": "0.45",
          "x": "recamaras",
          "xref": "x",
          "y": "baño_total",
          "yref": "y"
         },
         {
          "font": {
           "color": "#FFFFFF"
          },
          "showarrow": false,
          "text": "0.93",
          "x": "baño",
          "xref": "x",
          "y": "baño_total",
          "yref": "y"
         },
         {
          "font": {
           "color": "#FFFFFF"
          },
          "showarrow": false,
          "text": "0.38",
          "x": "medio_baño",
          "xref": "x",
          "y": "baño_total",
          "yref": "y"
         },
         {
          "font": {
           "color": "#FFFFFF"
          },
          "showarrow": false,
          "text": "1.0",
          "x": "baño_total",
          "xref": "x",
          "y": "baño_total",
          "yref": "y"
         },
         {
          "font": {
           "color": "#000000"
          },
          "showarrow": false,
          "text": "0.03",
          "x": "Mes",
          "xref": "x",
          "y": "baño_total",
          "yref": "y"
         },
         {
          "font": {
           "color": "#000000"
          },
          "showarrow": false,
          "text": "-0.0",
          "x": "Año",
          "xref": "x",
          "y": "baño_total",
          "yref": "y"
         },
         {
          "font": {
           "color": "#000000"
          },
          "showarrow": false,
          "text": "0.03",
          "x": "categoria",
          "xref": "x",
          "y": "Mes",
          "yref": "y"
         },
         {
          "font": {
           "color": "#000000"
          },
          "showarrow": false,
          "text": "-0.01",
          "x": "precio",
          "xref": "x",
          "y": "Mes",
          "yref": "y"
         },
         {
          "font": {
           "color": "#000000"
          },
          "showarrow": false,
          "text": "0.0",
          "x": "m2_total",
          "xref": "x",
          "y": "Mes",
          "yref": "y"
         },
         {
          "font": {
           "color": "#000000"
          },
          "showarrow": false,
          "text": "-0.01",
          "x": "m2_construido",
          "xref": "x",
          "y": "Mes",
          "yref": "y"
         },
         {
          "font": {
           "color": "#000000"
          },
          "showarrow": false,
          "text": "0.04",
          "x": "precio_m2_construido",
          "xref": "x",
          "y": "Mes",
          "yref": "y"
         },
         {
          "font": {
           "color": "#000000"
          },
          "showarrow": false,
          "text": "0.02",
          "x": "precio_m2_terreno",
          "xref": "x",
          "y": "Mes",
          "yref": "y"
         },
         {
          "font": {
           "color": "#000000"
          },
          "showarrow": false,
          "text": "-0.26",
          "x": "publicado_hace",
          "xref": "x",
          "y": "Mes",
          "yref": "y"
         },
         {
          "font": {
           "color": "#000000"
          },
          "showarrow": false,
          "text": "-0.14",
          "x": "personas_interesadas",
          "xref": "x",
          "y": "Mes",
          "yref": "y"
         },
         {
          "font": {
           "color": "#FFFFFF"
          },
          "showarrow": false,
          "text": "0.39",
          "x": "status",
          "xref": "x",
          "y": "Mes",
          "yref": "y"
         },
         {
          "font": {
           "color": "#000000"
          },
          "showarrow": false,
          "text": "0.08",
          "x": "tipo",
          "xref": "x",
          "y": "Mes",
          "yref": "y"
         },
         {
          "font": {
           "color": "#000000"
          },
          "showarrow": false,
          "text": "-0.05",
          "x": "estacionamiento",
          "xref": "x",
          "y": "Mes",
          "yref": "y"
         },
         {
          "font": {
           "color": "#000000"
          },
          "showarrow": false,
          "text": "-0.04",
          "x": "recamaras",
          "xref": "x",
          "y": "Mes",
          "yref": "y"
         },
         {
          "font": {
           "color": "#000000"
          },
          "showarrow": false,
          "text": "0.05",
          "x": "baño",
          "xref": "x",
          "y": "Mes",
          "yref": "y"
         },
         {
          "font": {
           "color": "#000000"
          },
          "showarrow": false,
          "text": "-0.04",
          "x": "medio_baño",
          "xref": "x",
          "y": "Mes",
          "yref": "y"
         },
         {
          "font": {
           "color": "#000000"
          },
          "showarrow": false,
          "text": "0.03",
          "x": "baño_total",
          "xref": "x",
          "y": "Mes",
          "yref": "y"
         },
         {
          "font": {
           "color": "#FFFFFF"
          },
          "showarrow": false,
          "text": "1.0",
          "x": "Mes",
          "xref": "x",
          "y": "Mes",
          "yref": "y"
         },
         {
          "font": {
           "color": "#000000"
          },
          "showarrow": false,
          "text": "-0.76",
          "x": "Año",
          "xref": "x",
          "y": "Mes",
          "yref": "y"
         },
         {
          "font": {
           "color": "#000000"
          },
          "showarrow": false,
          "text": "-0.02",
          "x": "categoria",
          "xref": "x",
          "y": "Año",
          "yref": "y"
         },
         {
          "font": {
           "color": "#000000"
          },
          "showarrow": false,
          "text": "0.05",
          "x": "precio",
          "xref": "x",
          "y": "Año",
          "yref": "y"
         },
         {
          "font": {
           "color": "#000000"
          },
          "showarrow": false,
          "text": "0.04",
          "x": "m2_total",
          "xref": "x",
          "y": "Año",
          "yref": "y"
         },
         {
          "font": {
           "color": "#000000"
          },
          "showarrow": false,
          "text": "0.03",
          "x": "m2_construido",
          "xref": "x",
          "y": "Año",
          "yref": "y"
         },
         {
          "font": {
           "color": "#000000"
          },
          "showarrow": false,
          "text": "0.01",
          "x": "precio_m2_construido",
          "xref": "x",
          "y": "Año",
          "yref": "y"
         },
         {
          "font": {
           "color": "#000000"
          },
          "showarrow": false,
          "text": "0.02",
          "x": "precio_m2_terreno",
          "xref": "x",
          "y": "Año",
          "yref": "y"
         },
         {
          "font": {
           "color": "#FFFFFF"
          },
          "showarrow": false,
          "text": "0.17",
          "x": "publicado_hace",
          "xref": "x",
          "y": "Año",
          "yref": "y"
         },
         {
          "font": {
           "color": "#FFFFFF"
          },
          "showarrow": false,
          "text": "0.28",
          "x": "personas_interesadas",
          "xref": "x",
          "y": "Año",
          "yref": "y"
         },
         {
          "font": {
           "color": "#000000"
          },
          "showarrow": false,
          "text": "-0.23",
          "x": "status",
          "xref": "x",
          "y": "Año",
          "yref": "y"
         },
         {
          "font": {
           "color": "#000000"
          },
          "showarrow": false,
          "text": "-0.03",
          "x": "tipo",
          "xref": "x",
          "y": "Año",
          "yref": "y"
         },
         {
          "font": {
           "color": "#000000"
          },
          "showarrow": false,
          "text": "0.02",
          "x": "estacionamiento",
          "xref": "x",
          "y": "Año",
          "yref": "y"
         },
         {
          "font": {
           "color": "#000000"
          },
          "showarrow": false,
          "text": "0.0",
          "x": "recamaras",
          "xref": "x",
          "y": "Año",
          "yref": "y"
         },
         {
          "font": {
           "color": "#000000"
          },
          "showarrow": false,
          "text": "-0.04",
          "x": "baño",
          "xref": "x",
          "y": "Año",
          "yref": "y"
         },
         {
          "font": {
           "color": "#000000"
          },
          "showarrow": false,
          "text": "0.1",
          "x": "medio_baño",
          "xref": "x",
          "y": "Año",
          "yref": "y"
         },
         {
          "font": {
           "color": "#000000"
          },
          "showarrow": false,
          "text": "-0.0",
          "x": "baño_total",
          "xref": "x",
          "y": "Año",
          "yref": "y"
         },
         {
          "font": {
           "color": "#000000"
          },
          "showarrow": false,
          "text": "-0.76",
          "x": "Mes",
          "xref": "x",
          "y": "Año",
          "yref": "y"
         },
         {
          "font": {
           "color": "#FFFFFF"
          },
          "showarrow": false,
          "text": "1.0",
          "x": "Año",
          "xref": "x",
          "y": "Año",
          "yref": "y"
         }
        ],
        "template": {
         "data": {
          "bar": [
           {
            "error_x": {
             "color": "#2a3f5f"
            },
            "error_y": {
             "color": "#2a3f5f"
            },
            "marker": {
             "line": {
              "color": "#E5ECF6",
              "width": 0.5
             },
             "pattern": {
              "fillmode": "overlay",
              "size": 10,
              "solidity": 0.2
             }
            },
            "type": "bar"
           }
          ],
          "barpolar": [
           {
            "marker": {
             "line": {
              "color": "#E5ECF6",
              "width": 0.5
             },
             "pattern": {
              "fillmode": "overlay",
              "size": 10,
              "solidity": 0.2
             }
            },
            "type": "barpolar"
           }
          ],
          "carpet": [
           {
            "aaxis": {
             "endlinecolor": "#2a3f5f",
             "gridcolor": "white",
             "linecolor": "white",
             "minorgridcolor": "white",
             "startlinecolor": "#2a3f5f"
            },
            "baxis": {
             "endlinecolor": "#2a3f5f",
             "gridcolor": "white",
             "linecolor": "white",
             "minorgridcolor": "white",
             "startlinecolor": "#2a3f5f"
            },
            "type": "carpet"
           }
          ],
          "choropleth": [
           {
            "colorbar": {
             "outlinewidth": 0,
             "ticks": ""
            },
            "type": "choropleth"
           }
          ],
          "contour": [
           {
            "colorbar": {
             "outlinewidth": 0,
             "ticks": ""
            },
            "colorscale": [
             [
              0,
              "#0d0887"
             ],
             [
              0.1111111111111111,
              "#46039f"
             ],
             [
              0.2222222222222222,
              "#7201a8"
             ],
             [
              0.3333333333333333,
              "#9c179e"
             ],
             [
              0.4444444444444444,
              "#bd3786"
             ],
             [
              0.5555555555555556,
              "#d8576b"
             ],
             [
              0.6666666666666666,
              "#ed7953"
             ],
             [
              0.7777777777777778,
              "#fb9f3a"
             ],
             [
              0.8888888888888888,
              "#fdca26"
             ],
             [
              1,
              "#f0f921"
             ]
            ],
            "type": "contour"
           }
          ],
          "contourcarpet": [
           {
            "colorbar": {
             "outlinewidth": 0,
             "ticks": ""
            },
            "type": "contourcarpet"
           }
          ],
          "heatmap": [
           {
            "colorbar": {
             "outlinewidth": 0,
             "ticks": ""
            },
            "colorscale": [
             [
              0,
              "#0d0887"
             ],
             [
              0.1111111111111111,
              "#46039f"
             ],
             [
              0.2222222222222222,
              "#7201a8"
             ],
             [
              0.3333333333333333,
              "#9c179e"
             ],
             [
              0.4444444444444444,
              "#bd3786"
             ],
             [
              0.5555555555555556,
              "#d8576b"
             ],
             [
              0.6666666666666666,
              "#ed7953"
             ],
             [
              0.7777777777777778,
              "#fb9f3a"
             ],
             [
              0.8888888888888888,
              "#fdca26"
             ],
             [
              1,
              "#f0f921"
             ]
            ],
            "type": "heatmap"
           }
          ],
          "heatmapgl": [
           {
            "colorbar": {
             "outlinewidth": 0,
             "ticks": ""
            },
            "colorscale": [
             [
              0,
              "#0d0887"
             ],
             [
              0.1111111111111111,
              "#46039f"
             ],
             [
              0.2222222222222222,
              "#7201a8"
             ],
             [
              0.3333333333333333,
              "#9c179e"
             ],
             [
              0.4444444444444444,
              "#bd3786"
             ],
             [
              0.5555555555555556,
              "#d8576b"
             ],
             [
              0.6666666666666666,
              "#ed7953"
             ],
             [
              0.7777777777777778,
              "#fb9f3a"
             ],
             [
              0.8888888888888888,
              "#fdca26"
             ],
             [
              1,
              "#f0f921"
             ]
            ],
            "type": "heatmapgl"
           }
          ],
          "histogram": [
           {
            "marker": {
             "pattern": {
              "fillmode": "overlay",
              "size": 10,
              "solidity": 0.2
             }
            },
            "type": "histogram"
           }
          ],
          "histogram2d": [
           {
            "colorbar": {
             "outlinewidth": 0,
             "ticks": ""
            },
            "colorscale": [
             [
              0,
              "#0d0887"
             ],
             [
              0.1111111111111111,
              "#46039f"
             ],
             [
              0.2222222222222222,
              "#7201a8"
             ],
             [
              0.3333333333333333,
              "#9c179e"
             ],
             [
              0.4444444444444444,
              "#bd3786"
             ],
             [
              0.5555555555555556,
              "#d8576b"
             ],
             [
              0.6666666666666666,
              "#ed7953"
             ],
             [
              0.7777777777777778,
              "#fb9f3a"
             ],
             [
              0.8888888888888888,
              "#fdca26"
             ],
             [
              1,
              "#f0f921"
             ]
            ],
            "type": "histogram2d"
           }
          ],
          "histogram2dcontour": [
           {
            "colorbar": {
             "outlinewidth": 0,
             "ticks": ""
            },
            "colorscale": [
             [
              0,
              "#0d0887"
             ],
             [
              0.1111111111111111,
              "#46039f"
             ],
             [
              0.2222222222222222,
              "#7201a8"
             ],
             [
              0.3333333333333333,
              "#9c179e"
             ],
             [
              0.4444444444444444,
              "#bd3786"
             ],
             [
              0.5555555555555556,
              "#d8576b"
             ],
             [
              0.6666666666666666,
              "#ed7953"
             ],
             [
              0.7777777777777778,
              "#fb9f3a"
             ],
             [
              0.8888888888888888,
              "#fdca26"
             ],
             [
              1,
              "#f0f921"
             ]
            ],
            "type": "histogram2dcontour"
           }
          ],
          "mesh3d": [
           {
            "colorbar": {
             "outlinewidth": 0,
             "ticks": ""
            },
            "type": "mesh3d"
           }
          ],
          "parcoords": [
           {
            "line": {
             "colorbar": {
              "outlinewidth": 0,
              "ticks": ""
             }
            },
            "type": "parcoords"
           }
          ],
          "pie": [
           {
            "automargin": true,
            "type": "pie"
           }
          ],
          "scatter": [
           {
            "fillpattern": {
             "fillmode": "overlay",
             "size": 10,
             "solidity": 0.2
            },
            "type": "scatter"
           }
          ],
          "scatter3d": [
           {
            "line": {
             "colorbar": {
              "outlinewidth": 0,
              "ticks": ""
             }
            },
            "marker": {
             "colorbar": {
              "outlinewidth": 0,
              "ticks": ""
             }
            },
            "type": "scatter3d"
           }
          ],
          "scattercarpet": [
           {
            "marker": {
             "colorbar": {
              "outlinewidth": 0,
              "ticks": ""
             }
            },
            "type": "scattercarpet"
           }
          ],
          "scattergeo": [
           {
            "marker": {
             "colorbar": {
              "outlinewidth": 0,
              "ticks": ""
             }
            },
            "type": "scattergeo"
           }
          ],
          "scattergl": [
           {
            "marker": {
             "colorbar": {
              "outlinewidth": 0,
              "ticks": ""
             }
            },
            "type": "scattergl"
           }
          ],
          "scattermapbox": [
           {
            "marker": {
             "colorbar": {
              "outlinewidth": 0,
              "ticks": ""
             }
            },
            "type": "scattermapbox"
           }
          ],
          "scatterpolar": [
           {
            "marker": {
             "colorbar": {
              "outlinewidth": 0,
              "ticks": ""
             }
            },
            "type": "scatterpolar"
           }
          ],
          "scatterpolargl": [
           {
            "marker": {
             "colorbar": {
              "outlinewidth": 0,
              "ticks": ""
             }
            },
            "type": "scatterpolargl"
           }
          ],
          "scatterternary": [
           {
            "marker": {
             "colorbar": {
              "outlinewidth": 0,
              "ticks": ""
             }
            },
            "type": "scatterternary"
           }
          ],
          "surface": [
           {
            "colorbar": {
             "outlinewidth": 0,
             "ticks": ""
            },
            "colorscale": [
             [
              0,
              "#0d0887"
             ],
             [
              0.1111111111111111,
              "#46039f"
             ],
             [
              0.2222222222222222,
              "#7201a8"
             ],
             [
              0.3333333333333333,
              "#9c179e"
             ],
             [
              0.4444444444444444,
              "#bd3786"
             ],
             [
              0.5555555555555556,
              "#d8576b"
             ],
             [
              0.6666666666666666,
              "#ed7953"
             ],
             [
              0.7777777777777778,
              "#fb9f3a"
             ],
             [
              0.8888888888888888,
              "#fdca26"
             ],
             [
              1,
              "#f0f921"
             ]
            ],
            "type": "surface"
           }
          ],
          "table": [
           {
            "cells": {
             "fill": {
              "color": "#EBF0F8"
             },
             "line": {
              "color": "white"
             }
            },
            "header": {
             "fill": {
              "color": "#C8D4E3"
             },
             "line": {
              "color": "white"
             }
            },
            "type": "table"
           }
          ]
         },
         "layout": {
          "annotationdefaults": {
           "arrowcolor": "#2a3f5f",
           "arrowhead": 0,
           "arrowwidth": 1
          },
          "autotypenumbers": "strict",
          "coloraxis": {
           "colorbar": {
            "outlinewidth": 0,
            "ticks": ""
           }
          },
          "colorscale": {
           "diverging": [
            [
             0,
             "#8e0152"
            ],
            [
             0.1,
             "#c51b7d"
            ],
            [
             0.2,
             "#de77ae"
            ],
            [
             0.3,
             "#f1b6da"
            ],
            [
             0.4,
             "#fde0ef"
            ],
            [
             0.5,
             "#f7f7f7"
            ],
            [
             0.6,
             "#e6f5d0"
            ],
            [
             0.7,
             "#b8e186"
            ],
            [
             0.8,
             "#7fbc41"
            ],
            [
             0.9,
             "#4d9221"
            ],
            [
             1,
             "#276419"
            ]
           ],
           "sequential": [
            [
             0,
             "#0d0887"
            ],
            [
             0.1111111111111111,
             "#46039f"
            ],
            [
             0.2222222222222222,
             "#7201a8"
            ],
            [
             0.3333333333333333,
             "#9c179e"
            ],
            [
             0.4444444444444444,
             "#bd3786"
            ],
            [
             0.5555555555555556,
             "#d8576b"
            ],
            [
             0.6666666666666666,
             "#ed7953"
            ],
            [
             0.7777777777777778,
             "#fb9f3a"
            ],
            [
             0.8888888888888888,
             "#fdca26"
            ],
            [
             1,
             "#f0f921"
            ]
           ],
           "sequentialminus": [
            [
             0,
             "#0d0887"
            ],
            [
             0.1111111111111111,
             "#46039f"
            ],
            [
             0.2222222222222222,
             "#7201a8"
            ],
            [
             0.3333333333333333,
             "#9c179e"
            ],
            [
             0.4444444444444444,
             "#bd3786"
            ],
            [
             0.5555555555555556,
             "#d8576b"
            ],
            [
             0.6666666666666666,
             "#ed7953"
            ],
            [
             0.7777777777777778,
             "#fb9f3a"
            ],
            [
             0.8888888888888888,
             "#fdca26"
            ],
            [
             1,
             "#f0f921"
            ]
           ]
          },
          "colorway": [
           "#636efa",
           "#EF553B",
           "#00cc96",
           "#ab63fa",
           "#FFA15A",
           "#19d3f3",
           "#FF6692",
           "#B6E880",
           "#FF97FF",
           "#FECB52"
          ],
          "font": {
           "color": "#2a3f5f"
          },
          "geo": {
           "bgcolor": "white",
           "lakecolor": "white",
           "landcolor": "#E5ECF6",
           "showlakes": true,
           "showland": true,
           "subunitcolor": "white"
          },
          "hoverlabel": {
           "align": "left"
          },
          "hovermode": "closest",
          "mapbox": {
           "style": "light"
          },
          "paper_bgcolor": "white",
          "plot_bgcolor": "#E5ECF6",
          "polar": {
           "angularaxis": {
            "gridcolor": "white",
            "linecolor": "white",
            "ticks": ""
           },
           "bgcolor": "#E5ECF6",
           "radialaxis": {
            "gridcolor": "white",
            "linecolor": "white",
            "ticks": ""
           }
          },
          "scene": {
           "xaxis": {
            "backgroundcolor": "#E5ECF6",
            "gridcolor": "white",
            "gridwidth": 2,
            "linecolor": "white",
            "showbackground": true,
            "ticks": "",
            "zerolinecolor": "white"
           },
           "yaxis": {
            "backgroundcolor": "#E5ECF6",
            "gridcolor": "white",
            "gridwidth": 2,
            "linecolor": "white",
            "showbackground": true,
            "ticks": "",
            "zerolinecolor": "white"
           },
           "zaxis": {
            "backgroundcolor": "#E5ECF6",
            "gridcolor": "white",
            "gridwidth": 2,
            "linecolor": "white",
            "showbackground": true,
            "ticks": "",
            "zerolinecolor": "white"
           }
          },
          "shapedefaults": {
           "line": {
            "color": "#2a3f5f"
           }
          },
          "ternary": {
           "aaxis": {
            "gridcolor": "white",
            "linecolor": "white",
            "ticks": ""
           },
           "baxis": {
            "gridcolor": "white",
            "linecolor": "white",
            "ticks": ""
           },
           "bgcolor": "#E5ECF6",
           "caxis": {
            "gridcolor": "white",
            "linecolor": "white",
            "ticks": ""
           }
          },
          "title": {
           "x": 0.05
          },
          "xaxis": {
           "automargin": true,
           "gridcolor": "white",
           "linecolor": "white",
           "ticks": "",
           "title": {
            "standoff": 15
           },
           "zerolinecolor": "white",
           "zerolinewidth": 2
          },
          "yaxis": {
           "automargin": true,
           "gridcolor": "white",
           "linecolor": "white",
           "ticks": "",
           "title": {
            "standoff": 15
           },
           "zerolinecolor": "white",
           "zerolinewidth": 2
          }
         }
        },
        "title": {
         "font": {
          "size": 24
         },
         "text": "Matriz de Correlación"
        },
        "xaxis": {
         "dtick": 1,
         "gridcolor": "rgb(0, 0, 0)",
         "side": "top",
         "ticks": ""
        },
        "yaxis": {
         "dtick": 1,
         "ticks": "",
         "ticksuffix": "  "
        }
       }
      }
     },
     "metadata": {},
     "output_type": "display_data"
    }
   ],
   "source": [
    "import plotly.figure_factory as ff\n",
    "\n",
    "correlation_matrix = df_head_pachuca.corr()\n",
    "fig = ff.create_annotated_heatmap(\n",
    "    z=correlation_matrix.values,\n",
    "    x=list(correlation_matrix.columns),\n",
    "    y=list(correlation_matrix.index),\n",
    "    colorscale='Blues',\n",
    "    annotation_text=correlation_matrix.round(2).values,\n",
    "    showscale=True\n",
    ")\n",
    "fig.update_layout(\n",
    "    title=\"Matriz de Correlación\",\n",
    "    title_font_size=24 ,\n",
    ")\n",
    "# Exportar gráfica como archivo HTML\n",
    "def guardar_grafico_como_html(fig, nombre_archivo, carpeta='tablas'):\n",
    "    # Crear la carpeta si no existe\n",
    "    if not os.path.exists(carpeta):\n",
    "        os.makedirs(carpeta)\n",
    "    \n",
    "    # Gráfica como archivo HTML en la carpeta especificada\n",
    "    pio.write_html(fig, f'{carpeta}/{nombre_archivo}.html')\n",
    "\n",
    "guardar_grafico_como_html(fig, 'matrizcorrelacion_meses_scall_pachuca', carpeta='tablas')\n",
    "fig.show()"
   ]
  },
  {
   "cell_type": "markdown",
   "metadata": {},
   "source": [
    "#### *Separación de variables dependientes (objetivo) e independientes*"
   ]
  },
  {
   "cell_type": "code",
   "execution_count": 119,
   "metadata": {},
   "outputs": [],
   "source": [
    "X = df_head_pachuca.drop(['precio'], axis=1) # Variables independientes \n",
    "Y = df_head_pachuca['precio'] # Variable dependiente \n",
    "X_train, X_test, y_train, y_test = train_test_split(X, Y, test_size=0.20, random_state=123)"
   ]
  },
  {
   "cell_type": "code",
   "execution_count": 120,
   "metadata": {},
   "outputs": [
    {
     "name": "stdout",
     "output_type": "stream",
     "text": [
      "Datos original (9908, 16)\n",
      "Datos para el entrenamiento (7926, 16)\n",
      "Datos para prueba (1982, 16)\n",
      "Variable objetivo entrenamiento (7926,)\n",
      "Variable objetivo prueba (1982,)\n"
     ]
    }
   ],
   "source": [
    "print(\"Datos original\", X.shape)\n",
    "print(\"Datos para el entrenamiento\",X_train.shape)\n",
    "print(\"Datos para prueba\",X_test.shape)\n",
    "print(\"Variable objetivo entrenamiento\",y_train.shape)\n",
    "print(\"Variable objetivo prueba\",y_test.shape)"
   ]
  },
  {
   "cell_type": "markdown",
   "metadata": {},
   "source": [
    "## *Modelado*\n",
    "### **Random Forest**"
   ]
  },
  {
   "cell_type": "code",
   "execution_count": 121,
   "metadata": {},
   "outputs": [],
   "source": [
    "#Algoritmo Random Forest para regresión.\n",
    "from sklearn.ensemble import RandomForestRegressor as rfr\n",
    "#Búsqueda exhaustiva de los mejores hiperparámetros para un modelo mediante validación cruzada.\n",
    "from sklearn.model_selection import GridSearchCV \n",
    "#Métricas de evaluación de rendimiento del modelo\n",
    "from sklearn.metrics import mean_squared_error, r2_score, mean_absolute_error"
   ]
  },
  {
   "cell_type": "markdown",
   "metadata": {},
   "source": [
    "* **random_state**: Generador de números aleatorios\n",
    "* **n_estimators**: Número de árboles\n",
    "* **n_jobs**: Número de trabajos en paralelo para ejecutar, a utilizar todos los procesadores disponibles.\n",
    "* **max_depth**: Profundidad máxima de cada árbol en el bosque."
   ]
  },
  {
   "cell_type": "code",
   "execution_count": 122,
   "metadata": {},
   "outputs": [],
   "source": [
    "# Definir los hiperparámetros a explorar\n",
    "param_grid = {\n",
    "    'n_estimators': [100, 200, 300],\n",
    "    'max_depth': [None, 5, 10], \n",
    "}"
   ]
  },
  {
   "cell_type": "code",
   "execution_count": 123,
   "metadata": {},
   "outputs": [
    {
     "name": "stdout",
     "output_type": "stream",
     "text": [
      "Mejores hiperparámetros encontrados:\n",
      "{'max_depth': None, 'n_estimators': 300}\n"
     ]
    }
   ],
   "source": [
    "# Construir modelo Random Forest\n",
    "rf_model = rfr(random_state=42)\n",
    "\n",
    "# Configurar GridSearchCV con el modelo y los hiperparámetros a explorar\n",
    "grid_search = GridSearchCV(estimator=rf_model, param_grid=param_grid, cv=10, scoring='neg_mean_squared_error') # Realiza validación cruzada con 10 divisiones\n",
    "# Ajustar GridSearchCV a los datos\n",
    "grid_search.fit(X_train, y_train)\n",
    "# Mostrar los mejores hiperparámetros encontrados\n",
    "print(\"Mejores hiperparámetros encontrados:\")\n",
    "print(grid_search.best_params_)\n",
    "\n",
    "# Obtener el mejor modelo\n",
    "best_rf_model = grid_search.best_estimator_"
   ]
  },
  {
   "cell_type": "code",
   "execution_count": 124,
   "metadata": {},
   "outputs": [
    {
     "data": {
      "text/html": [
       "<style>#sk-container-id-2 {color: black;background-color: white;}#sk-container-id-2 pre{padding: 0;}#sk-container-id-2 div.sk-toggleable {background-color: white;}#sk-container-id-2 label.sk-toggleable__label {cursor: pointer;display: block;width: 100%;margin-bottom: 0;padding: 0.3em;box-sizing: border-box;text-align: center;}#sk-container-id-2 label.sk-toggleable__label-arrow:before {content: \"▸\";float: left;margin-right: 0.25em;color: #696969;}#sk-container-id-2 label.sk-toggleable__label-arrow:hover:before {color: black;}#sk-container-id-2 div.sk-estimator:hover label.sk-toggleable__label-arrow:before {color: black;}#sk-container-id-2 div.sk-toggleable__content {max-height: 0;max-width: 0;overflow: hidden;text-align: left;background-color: #f0f8ff;}#sk-container-id-2 div.sk-toggleable__content pre {margin: 0.2em;color: black;border-radius: 0.25em;background-color: #f0f8ff;}#sk-container-id-2 input.sk-toggleable__control:checked~div.sk-toggleable__content {max-height: 200px;max-width: 100%;overflow: auto;}#sk-container-id-2 input.sk-toggleable__control:checked~label.sk-toggleable__label-arrow:before {content: \"▾\";}#sk-container-id-2 div.sk-estimator input.sk-toggleable__control:checked~label.sk-toggleable__label {background-color: #d4ebff;}#sk-container-id-2 div.sk-label input.sk-toggleable__control:checked~label.sk-toggleable__label {background-color: #d4ebff;}#sk-container-id-2 input.sk-hidden--visually {border: 0;clip: rect(1px 1px 1px 1px);clip: rect(1px, 1px, 1px, 1px);height: 1px;margin: -1px;overflow: hidden;padding: 0;position: absolute;width: 1px;}#sk-container-id-2 div.sk-estimator {font-family: monospace;background-color: #f0f8ff;border: 1px dotted black;border-radius: 0.25em;box-sizing: border-box;margin-bottom: 0.5em;}#sk-container-id-2 div.sk-estimator:hover {background-color: #d4ebff;}#sk-container-id-2 div.sk-parallel-item::after {content: \"\";width: 100%;border-bottom: 1px solid gray;flex-grow: 1;}#sk-container-id-2 div.sk-label:hover label.sk-toggleable__label {background-color: #d4ebff;}#sk-container-id-2 div.sk-serial::before {content: \"\";position: absolute;border-left: 1px solid gray;box-sizing: border-box;top: 0;bottom: 0;left: 50%;z-index: 0;}#sk-container-id-2 div.sk-serial {display: flex;flex-direction: column;align-items: center;background-color: white;padding-right: 0.2em;padding-left: 0.2em;position: relative;}#sk-container-id-2 div.sk-item {position: relative;z-index: 1;}#sk-container-id-2 div.sk-parallel {display: flex;align-items: stretch;justify-content: center;background-color: white;position: relative;}#sk-container-id-2 div.sk-item::before, #sk-container-id-2 div.sk-parallel-item::before {content: \"\";position: absolute;border-left: 1px solid gray;box-sizing: border-box;top: 0;bottom: 0;left: 50%;z-index: -1;}#sk-container-id-2 div.sk-parallel-item {display: flex;flex-direction: column;z-index: 1;position: relative;background-color: white;}#sk-container-id-2 div.sk-parallel-item:first-child::after {align-self: flex-end;width: 50%;}#sk-container-id-2 div.sk-parallel-item:last-child::after {align-self: flex-start;width: 50%;}#sk-container-id-2 div.sk-parallel-item:only-child::after {width: 0;}#sk-container-id-2 div.sk-dashed-wrapped {border: 1px dashed gray;margin: 0 0.4em 0.5em 0.4em;box-sizing: border-box;padding-bottom: 0.4em;background-color: white;}#sk-container-id-2 div.sk-label label {font-family: monospace;font-weight: bold;display: inline-block;line-height: 1.2em;}#sk-container-id-2 div.sk-label-container {text-align: center;}#sk-container-id-2 div.sk-container {/* jupyter's `normalize.less` sets `[hidden] { display: none; }` but bootstrap.min.css set `[hidden] { display: none !important; }` so we also need the `!important` here to be able to override the default hidden behavior on the sphinx rendered scikit-learn.org. See: https://github.com/scikit-learn/scikit-learn/issues/21755 */display: inline-block !important;position: relative;}#sk-container-id-2 div.sk-text-repr-fallback {display: none;}</style><div id=\"sk-container-id-2\" class=\"sk-top-container\"><div class=\"sk-text-repr-fallback\"><pre>RandomForestRegressor(n_estimators=300, random_state=42)</pre><b>In a Jupyter environment, please rerun this cell to show the HTML representation or trust the notebook. <br />On GitHub, the HTML representation is unable to render, please try loading this page with nbviewer.org.</b></div><div class=\"sk-container\" hidden><div class=\"sk-item\"><div class=\"sk-estimator sk-toggleable\"><input class=\"sk-toggleable__control sk-hidden--visually\" id=\"sk-estimator-id-2\" type=\"checkbox\" checked><label for=\"sk-estimator-id-2\" class=\"sk-toggleable__label sk-toggleable__label-arrow\">RandomForestRegressor</label><div class=\"sk-toggleable__content\"><pre>RandomForestRegressor(n_estimators=300, random_state=42)</pre></div></div></div></div></div>"
      ],
      "text/plain": [
       "RandomForestRegressor(n_estimators=300, random_state=42)"
      ]
     },
     "execution_count": 124,
     "metadata": {},
     "output_type": "execute_result"
    }
   ],
   "source": [
    "# Entrenar el mejor modelo con los datos de entrenamiento\n",
    "best_rf_model.fit(X_train, y_train)"
   ]
  },
  {
   "cell_type": "code",
   "execution_count": 125,
   "metadata": {},
   "outputs": [],
   "source": [
    "# Realizar predicciones utilizando el mejor modelo\n",
    "y_pred = best_rf_model.predict(X_test)"
   ]
  },
  {
   "cell_type": "markdown",
   "metadata": {},
   "source": [
    "### *Predicciones*"
   ]
  },
  {
   "cell_type": "code",
   "execution_count": 126,
   "metadata": {},
   "outputs": [
    {
     "data": {
      "image/png": "[encoded data removed]",
      "text/plain": [
       "<Figure size 640x480 with 1 Axes>"
      ]
     },
     "metadata": {},
     "output_type": "display_data"
    }
   ],
   "source": [
    "import matplotlib.pyplot as plt\n",
    "plt.scatter(y_test, y_pred)\n",
    "plt.xlabel(\"Valores reales\")\n",
    "plt.ylabel(\"Predicciones\")\n",
    "plt.title(\"Valores reales vs. Predicciones\")\n",
    "plt.show()"
   ]
  },
  {
   "cell_type": "markdown",
   "metadata": {},
   "source": [
    "### *Evaluación*"
   ]
  },
  {
   "cell_type": "code",
   "execution_count": 127,
   "metadata": {},
   "outputs": [
    {
     "name": "stdout",
     "output_type": "stream",
     "text": [
      "Error cuadrático medio (MSE): 93969452.90342431\n",
      "Coeficiente de determinación (R^2): 0.9858347379101637\n",
      "Error absoluto medio (MAE): 1627.1781005063024\n"
     ]
    }
   ],
   "source": [
    "# Calcular el MSE\n",
    "mse = mean_squared_error(y_test, y_pred)\n",
    "# Calcular el R^2\n",
    "r2 = r2_score(y_test, y_pred)\n",
    "# Calcular el MAE\n",
    "mae = mean_absolute_error(y_test, y_pred)\n",
    "\n",
    "print(\"Error cuadrático medio (MSE):\", mse)\n",
    "print(\"Coeficiente de determinación (R^2):\", r2)\n",
    "print(\"Error absoluto medio (MAE):\", mae)"
   ]
  },
  {
   "cell_type": "code",
   "execution_count": 149,
   "metadata": {},
   "outputs": [
    {
     "name": "stdout",
     "output_type": "stream",
     "text": [
      "    Mes   Año  categoria  propiedad  m2_total  m2_construido  \\\n",
      "0    10  2023          0          0         0              0   \n",
      "1    11  2023          0          0         0              0   \n",
      "2    12  2023          0          0         0              0   \n",
      "3     1  2024          0          0         0              0   \n",
      "4     2  2024          0          0         0              0   \n",
      "5     3  2024          0          0         0              0   \n",
      "6     4  2024          0          0         0              0   \n",
      "7     5  2024          0          0         0              0   \n",
      "8     6  2024          0          0         0              0   \n",
      "9     7  2024          0          0         0              0   \n",
      "10    8  2024          0          0         0              0   \n",
      "11    9  2024          0          0         0              0   \n",
      "12   10  2024          0          0         0              0   \n",
      "13   11  2024          0          0         0              0   \n",
      "14   12  2024          0          0         0              0   \n",
      "15    1  2025          0          0         0              0   \n",
      "16    2  2025          0          0         0              0   \n",
      "17    3  2025          0          0         0              0   \n",
      "18    4  2025          0          0         0              0   \n",
      "19    5  2025          0          0         0              0   \n",
      "20    6  2025          0          0         0              0   \n",
      "21    7  2025          0          0         0              0   \n",
      "22    8  2025          0          0         0              0   \n",
      "23    9  2025          0          0         0              0   \n",
      "24   10  2025          0          0         0              0   \n",
      "25   11  2025          0          0         0              0   \n",
      "26   12  2025          0          0         0              0   \n",
      "27    1  2026          0          0         0              0   \n",
      "28    2  2026          0          0         0              0   \n",
      "29    3  2026          0          0         0              0   \n",
      "30    4  2026          0          0         0              0   \n",
      "31    5  2026          0          0         0              0   \n",
      "32    6  2026          0          0         0              0   \n",
      "33    7  2026          0          0         0              0   \n",
      "34    8  2026          0          0         0              0   \n",
      "35    9  2026          0          0         0              0   \n",
      "36   10  2026          0          0         0              0   \n",
      "37   11  2026          0          0         0              0   \n",
      "38   12  2026          0          0         0              0   \n",
      "\n",
      "    precio_m2_construido  precio_m2_terreno  publicado_hace  \\\n",
      "0                      0                  0               0   \n",
      "1                      0                  0               0   \n",
      "2                      0                  0               0   \n",
      "3                      0                  0               0   \n",
      "4                      0                  0               0   \n",
      "5                      0                  0               0   \n",
      "6                      0                  0               0   \n",
      "7                      0                  0               0   \n",
      "8                      0                  0               0   \n",
      "9                      0                  0               0   \n",
      "10                     0                  0               0   \n",
      "11                     0                  0               0   \n",
      "12                     0                  0               0   \n",
      "13                     0                  0               0   \n",
      "14                     0                  0               0   \n",
      "15                     0                  0               0   \n",
      "16                     0                  0               0   \n",
      "17                     0                  0               0   \n",
      "18                     0                  0               0   \n",
      "19                     0                  0               0   \n",
      "20                     0                  0               0   \n",
      "21                     0                  0               0   \n",
      "22                     0                  0               0   \n",
      "23                     0                  0               0   \n",
      "24                     0                  0               0   \n",
      "25                     0                  0               0   \n",
      "26                     0                  0               0   \n",
      "27                     0                  0               0   \n",
      "28                     0                  0               0   \n",
      "29                     0                  0               0   \n",
      "30                     0                  0               0   \n",
      "31                     0                  0               0   \n",
      "32                     0                  0               0   \n",
      "33                     0                  0               0   \n",
      "34                     0                  0               0   \n",
      "35                     0                  0               0   \n",
      "36                     0                  0               0   \n",
      "37                     0                  0               0   \n",
      "38                     0                  0               0   \n",
      "\n",
      "    personas_interesadas  status  tipo  estacionamiento  recamaras  baño  \\\n",
      "0                      0       0     0                0          0     0   \n",
      "1                      0       0     0                0          0     0   \n",
      "2                      0       0     0                0          0     0   \n",
      "3                      0       0     0                0          0     0   \n",
      "4                      0       0     0                0          0     0   \n",
      "5                      0       0     0                0          0     0   \n",
      "6                      0       0     0                0          0     0   \n",
      "7                      0       0     0                0          0     0   \n",
      "8                      0       0     0                0          0     0   \n",
      "9                      0       0     0                0          0     0   \n",
      "10                     0       0     0                0          0     0   \n",
      "11                     0       0     0                0          0     0   \n",
      "12                     0       0     0                0          0     0   \n",
      "13                     0       0     0                0          0     0   \n",
      "14                     0       0     0                0          0     0   \n",
      "15                     0       0     0                0          0     0   \n",
      "16                     0       0     0                0          0     0   \n",
      "17                     0       0     0                0          0     0   \n",
      "18                     0       0     0                0          0     0   \n",
      "19                     0       0     0                0          0     0   \n",
      "20                     0       0     0                0          0     0   \n",
      "21                     0       0     0                0          0     0   \n",
      "22                     0       0     0                0          0     0   \n",
      "23                     0       0     0                0          0     0   \n",
      "24                     0       0     0                0          0     0   \n",
      "25                     0       0     0                0          0     0   \n",
      "26                     0       0     0                0          0     0   \n",
      "27                     0       0     0                0          0     0   \n",
      "28                     0       0     0                0          0     0   \n",
      "29                     0       0     0                0          0     0   \n",
      "30                     0       0     0                0          0     0   \n",
      "31                     0       0     0                0          0     0   \n",
      "32                     0       0     0                0          0     0   \n",
      "33                     0       0     0                0          0     0   \n",
      "34                     0       0     0                0          0     0   \n",
      "35                     0       0     0                0          0     0   \n",
      "36                     0       0     0                0          0     0   \n",
      "37                     0       0     0                0          0     0   \n",
      "38                     0       0     0                0          0     0   \n",
      "\n",
      "    medio_baño  baño_total  precio_predicho  \n",
      "0            0           0    978049.264793  \n",
      "1            0           0    973125.537742  \n",
      "2            0           0    973125.537742  \n",
      "3            0           0    978944.673714  \n",
      "4            0           0    978944.673714  \n",
      "5            0           0    977077.542615  \n",
      "6            0           0    977077.542615  \n",
      "7            0           0    986223.420743  \n",
      "8            0           0    986223.420743  \n",
      "9            0           0    978934.628776  \n",
      "10           0           0    978934.628776  \n",
      "11           0           0    986134.131367  \n",
      "12           0           0    978049.264793  \n",
      "13           0           0    973125.537742  \n",
      "14           0           0    973125.537742  \n",
      "15           0           0    978944.673714  \n",
      "16           0           0    978944.673714  \n",
      "17           0           0    977077.542615  \n",
      "18           0           0    977077.542615  \n",
      "19           0           0    986223.420743  \n",
      "20           0           0    986223.420743  \n",
      "21           0           0    978934.628776  \n",
      "22           0           0    978934.628776  \n",
      "23           0           0    986134.131367  \n",
      "24           0           0    978049.264793  \n",
      "25           0           0    973125.537742  \n",
      "26           0           0    973125.537742  \n",
      "27           0           0    978944.673714  \n",
      "28           0           0    978944.673714  \n",
      "29           0           0    977077.542615  \n",
      "30           0           0    977077.542615  \n",
      "31           0           0    986223.420743  \n",
      "32           0           0    986223.420743  \n",
      "33           0           0    978934.628776  \n",
      "34           0           0    978934.628776  \n",
      "35           0           0    986134.131367  \n",
      "36           0           0    978049.264793  \n",
      "37           0           0    973125.537742  \n",
      "38           0           0    973125.537742  \n"
     ]
    }
   ],
   "source": [
    "# 1. Selecciona solo las características 'Mes' y 'Año' y la variable objetivo 'precio'\n",
    "X = df_head_pachuca[['Mes', 'Año']]\n",
    "y = df_head_pachuca['precio']\n",
    "\n",
    "# 2. Dividir los datos en conjuntos de entrenamiento y prueba\n",
    "X_train, X_test, y_train, y_test = train_test_split(X, y, test_size=0.2, random_state=42)\n",
    "\n",
    "# 3. Entrena el modelo solo con 'Mes' y 'Año'\n",
    "rf_model = rfr(random_state=42)\n",
    "rf_model.fit(X_train, y_train)\n",
    "\n",
    "# 4. Prepara los datos para predecir los precios de los meses futuros\n",
    "meses_futuros = [(10, 2023), (11, 2023), (12, 2023), (1, 2024), (2, 2024), (3, 2024), (4, 2024), (5, 2024), (6, 2024), (7, 2024), (8, 2024), (9, 2024),\n",
    "                 (10, 2024), (11, 2024), (12, 2024), (1, 2025), (2, 2025), (3, 2025), (4, 2025), (5, 2025), (6, 2025), (7, 2025), (8, 2025), (9, 2025),\n",
    "                 (10, 2025), (11, 2025), (12, 2025), (1, 2026), (2, 2026), (3, 2026), (4, 2026), (5, 2026), (6, 2026), (7, 2026), (8, 2026), (9, 2026),\n",
    "                 (10, 2026), (11, 2026), (12, 2026)]\n",
    "\n",
    "df_futuro = pd.DataFrame(meses_futuros, columns=['Mes', 'Año'])\n",
    "\n",
    "# Llena los valores de otras características con valores específicos o predeterminados\n",
    "for columna in df.columns:\n",
    "    if columna not in ['Mes', 'Año', 'precio']:\n",
    "        df_futuro[columna] = 0  # Puedes ajustar estos valores según sea necesario\n",
    "\n",
    "# 5. Realiza las predicciones utilizando solo 'Mes' y 'Año'\n",
    "predicciones = rf_model.predict(df_futuro[['Mes', 'Año']])\n",
    "\n",
    "# Agrega las predicciones al DataFrame de los meses futuros\n",
    "df_futuro['precio_predicho'] = predicciones\n",
    "\n",
    "# Mostrar el DataFrame con las predicciones\n",
    "print(df_futuro)"
   ]
  },
  {
   "cell_type": "code",
   "execution_count": 150,
   "metadata": {},
   "outputs": [
    {
     "data": {
      "text/html": [
       "<div>\n",
       "<style scoped>\n",
       "    .dataframe tbody tr th:only-of-type {\n",
       "        vertical-align: middle;\n",
       "    }\n",
       "\n",
       "    .dataframe tbody tr th {\n",
       "        vertical-align: top;\n",
       "    }\n",
       "\n",
       "    .dataframe thead th {\n",
       "        text-align: right;\n",
       "    }\n",
       "</style>\n",
       "<table border=\"1\" class=\"dataframe\">\n",
       "  <thead>\n",
       "    <tr style=\"text-align: right;\">\n",
       "      <th></th>\n",
       "      <th>Mes</th>\n",
       "      <th>Año</th>\n",
       "      <th>precio</th>\n",
       "    </tr>\n",
       "  </thead>\n",
       "  <tbody>\n",
       "    <tr>\n",
       "      <th>0</th>\n",
       "      <td>10</td>\n",
       "      <td>2022</td>\n",
       "      <td>575000.000000</td>\n",
       "    </tr>\n",
       "    <tr>\n",
       "      <th>1</th>\n",
       "      <td>10</td>\n",
       "      <td>2022</td>\n",
       "      <td>600000.000000</td>\n",
       "    </tr>\n",
       "    <tr>\n",
       "      <th>2</th>\n",
       "      <td>10</td>\n",
       "      <td>2022</td>\n",
       "      <td>550000.000000</td>\n",
       "    </tr>\n",
       "    <tr>\n",
       "      <th>3</th>\n",
       "      <td>10</td>\n",
       "      <td>2022</td>\n",
       "      <td>751000.000000</td>\n",
       "    </tr>\n",
       "    <tr>\n",
       "      <th>4</th>\n",
       "      <td>10</td>\n",
       "      <td>2022</td>\n",
       "      <td>450000.000000</td>\n",
       "    </tr>\n",
       "    <tr>\n",
       "      <th>...</th>\n",
       "      <td>...</td>\n",
       "      <td>...</td>\n",
       "      <td>...</td>\n",
       "    </tr>\n",
       "    <tr>\n",
       "      <th>9942</th>\n",
       "      <td>8</td>\n",
       "      <td>2026</td>\n",
       "      <td>978934.628776</td>\n",
       "    </tr>\n",
       "    <tr>\n",
       "      <th>9943</th>\n",
       "      <td>9</td>\n",
       "      <td>2026</td>\n",
       "      <td>986134.131367</td>\n",
       "    </tr>\n",
       "    <tr>\n",
       "      <th>9944</th>\n",
       "      <td>10</td>\n",
       "      <td>2026</td>\n",
       "      <td>978049.264793</td>\n",
       "    </tr>\n",
       "    <tr>\n",
       "      <th>9945</th>\n",
       "      <td>11</td>\n",
       "      <td>2026</td>\n",
       "      <td>973125.537742</td>\n",
       "    </tr>\n",
       "    <tr>\n",
       "      <th>9946</th>\n",
       "      <td>12</td>\n",
       "      <td>2026</td>\n",
       "      <td>973125.537742</td>\n",
       "    </tr>\n",
       "  </tbody>\n",
       "</table>\n",
       "<p>9947 rows × 3 columns</p>\n",
       "</div>"
      ],
      "text/plain": [
       "      Mes   Año         precio\n",
       "0      10  2022  575000.000000\n",
       "1      10  2022  600000.000000\n",
       "2      10  2022  550000.000000\n",
       "3      10  2022  751000.000000\n",
       "4      10  2022  450000.000000\n",
       "...   ...   ...            ...\n",
       "9942    8  2026  978934.628776\n",
       "9943    9  2026  986134.131367\n",
       "9944   10  2026  978049.264793\n",
       "9945   11  2026  973125.537742\n",
       "9946   12  2026  973125.537742\n",
       "\n",
       "[9947 rows x 3 columns]"
      ]
     },
     "execution_count": 150,
     "metadata": {},
     "output_type": "execute_result"
    }
   ],
   "source": [
    "df_historico = df_head_pachuca \n",
    "df_futuro.rename(columns={'precio_predicho': 'precio'}, inplace=True)\n",
    "# Concatenar los datos históricos y los datos futuros\n",
    "df_completo = pd.concat([df_historico[['Mes', 'Año', 'precio']], df_futuro[['Mes', 'Año', 'precio']]], ignore_index=True)\n",
    "df_completo"
   ]
  },
  {
   "cell_type": "code",
   "execution_count": 162,
   "metadata": {},
   "outputs": [
    {
     "data": {
      "text/html": [
       "<div>\n",
       "<style scoped>\n",
       "    .dataframe tbody tr th:only-of-type {\n",
       "        vertical-align: middle;\n",
       "    }\n",
       "\n",
       "    .dataframe tbody tr th {\n",
       "        vertical-align: top;\n",
       "    }\n",
       "\n",
       "    .dataframe thead th {\n",
       "        text-align: right;\n",
       "    }\n",
       "</style>\n",
       "<table border=\"1\" class=\"dataframe\">\n",
       "  <thead>\n",
       "    <tr style=\"text-align: right;\">\n",
       "      <th></th>\n",
       "      <th>Año</th>\n",
       "      <th>Mes</th>\n",
       "      <th>precio</th>\n",
       "    </tr>\n",
       "  </thead>\n",
       "  <tbody>\n",
       "    <tr>\n",
       "      <th>0</th>\n",
       "      <td>2022</td>\n",
       "      <td>10</td>\n",
       "      <td>976931.426700</td>\n",
       "    </tr>\n",
       "    <tr>\n",
       "      <th>1</th>\n",
       "      <td>2022</td>\n",
       "      <td>11</td>\n",
       "      <td>974066.081297</td>\n",
       "    </tr>\n",
       "    <tr>\n",
       "      <th>2</th>\n",
       "      <td>2023</td>\n",
       "      <td>2</td>\n",
       "      <td>980042.695668</td>\n",
       "    </tr>\n",
       "    <tr>\n",
       "      <th>3</th>\n",
       "      <td>2023</td>\n",
       "      <td>3</td>\n",
       "      <td>977402.752492</td>\n",
       "    </tr>\n",
       "    <tr>\n",
       "      <th>4</th>\n",
       "      <td>2023</td>\n",
       "      <td>6</td>\n",
       "      <td>986481.685929</td>\n",
       "    </tr>\n",
       "    <tr>\n",
       "      <th>5</th>\n",
       "      <td>2023</td>\n",
       "      <td>7</td>\n",
       "      <td>976677.184727</td>\n",
       "    </tr>\n",
       "    <tr>\n",
       "      <th>6</th>\n",
       "      <td>2023</td>\n",
       "      <td>9</td>\n",
       "      <td>988147.847648</td>\n",
       "    </tr>\n",
       "    <tr>\n",
       "      <th>7</th>\n",
       "      <td>2023</td>\n",
       "      <td>10</td>\n",
       "      <td>978049.264793</td>\n",
       "    </tr>\n",
       "    <tr>\n",
       "      <th>8</th>\n",
       "      <td>2023</td>\n",
       "      <td>11</td>\n",
       "      <td>973125.537742</td>\n",
       "    </tr>\n",
       "    <tr>\n",
       "      <th>9</th>\n",
       "      <td>2023</td>\n",
       "      <td>12</td>\n",
       "      <td>973125.537742</td>\n",
       "    </tr>\n",
       "    <tr>\n",
       "      <th>10</th>\n",
       "      <td>2024</td>\n",
       "      <td>1</td>\n",
       "      <td>978944.673714</td>\n",
       "    </tr>\n",
       "    <tr>\n",
       "      <th>11</th>\n",
       "      <td>2024</td>\n",
       "      <td>2</td>\n",
       "      <td>978944.673714</td>\n",
       "    </tr>\n",
       "    <tr>\n",
       "      <th>12</th>\n",
       "      <td>2024</td>\n",
       "      <td>3</td>\n",
       "      <td>977077.542615</td>\n",
       "    </tr>\n",
       "    <tr>\n",
       "      <th>13</th>\n",
       "      <td>2024</td>\n",
       "      <td>4</td>\n",
       "      <td>977077.542615</td>\n",
       "    </tr>\n",
       "    <tr>\n",
       "      <th>14</th>\n",
       "      <td>2024</td>\n",
       "      <td>5</td>\n",
       "      <td>986223.420743</td>\n",
       "    </tr>\n",
       "    <tr>\n",
       "      <th>15</th>\n",
       "      <td>2024</td>\n",
       "      <td>6</td>\n",
       "      <td>986223.420743</td>\n",
       "    </tr>\n",
       "    <tr>\n",
       "      <th>16</th>\n",
       "      <td>2024</td>\n",
       "      <td>7</td>\n",
       "      <td>978934.628776</td>\n",
       "    </tr>\n",
       "    <tr>\n",
       "      <th>17</th>\n",
       "      <td>2024</td>\n",
       "      <td>8</td>\n",
       "      <td>978934.628776</td>\n",
       "    </tr>\n",
       "    <tr>\n",
       "      <th>18</th>\n",
       "      <td>2024</td>\n",
       "      <td>9</td>\n",
       "      <td>986134.131367</td>\n",
       "    </tr>\n",
       "    <tr>\n",
       "      <th>19</th>\n",
       "      <td>2024</td>\n",
       "      <td>10</td>\n",
       "      <td>978049.264793</td>\n",
       "    </tr>\n",
       "    <tr>\n",
       "      <th>20</th>\n",
       "      <td>2024</td>\n",
       "      <td>11</td>\n",
       "      <td>973125.537742</td>\n",
       "    </tr>\n",
       "    <tr>\n",
       "      <th>21</th>\n",
       "      <td>2024</td>\n",
       "      <td>12</td>\n",
       "      <td>973125.537742</td>\n",
       "    </tr>\n",
       "    <tr>\n",
       "      <th>22</th>\n",
       "      <td>2025</td>\n",
       "      <td>1</td>\n",
       "      <td>978944.673714</td>\n",
       "    </tr>\n",
       "    <tr>\n",
       "      <th>23</th>\n",
       "      <td>2025</td>\n",
       "      <td>2</td>\n",
       "      <td>978944.673714</td>\n",
       "    </tr>\n",
       "    <tr>\n",
       "      <th>24</th>\n",
       "      <td>2025</td>\n",
       "      <td>3</td>\n",
       "      <td>977077.542615</td>\n",
       "    </tr>\n",
       "    <tr>\n",
       "      <th>25</th>\n",
       "      <td>2025</td>\n",
       "      <td>4</td>\n",
       "      <td>977077.542615</td>\n",
       "    </tr>\n",
       "    <tr>\n",
       "      <th>26</th>\n",
       "      <td>2025</td>\n",
       "      <td>5</td>\n",
       "      <td>986223.420743</td>\n",
       "    </tr>\n",
       "    <tr>\n",
       "      <th>27</th>\n",
       "      <td>2025</td>\n",
       "      <td>6</td>\n",
       "      <td>986223.420743</td>\n",
       "    </tr>\n",
       "    <tr>\n",
       "      <th>28</th>\n",
       "      <td>2025</td>\n",
       "      <td>7</td>\n",
       "      <td>978934.628776</td>\n",
       "    </tr>\n",
       "    <tr>\n",
       "      <th>29</th>\n",
       "      <td>2025</td>\n",
       "      <td>8</td>\n",
       "      <td>978934.628776</td>\n",
       "    </tr>\n",
       "    <tr>\n",
       "      <th>30</th>\n",
       "      <td>2025</td>\n",
       "      <td>9</td>\n",
       "      <td>986134.131367</td>\n",
       "    </tr>\n",
       "    <tr>\n",
       "      <th>31</th>\n",
       "      <td>2025</td>\n",
       "      <td>10</td>\n",
       "      <td>978049.264793</td>\n",
       "    </tr>\n",
       "    <tr>\n",
       "      <th>32</th>\n",
       "      <td>2025</td>\n",
       "      <td>11</td>\n",
       "      <td>973125.537742</td>\n",
       "    </tr>\n",
       "    <tr>\n",
       "      <th>33</th>\n",
       "      <td>2025</td>\n",
       "      <td>12</td>\n",
       "      <td>973125.537742</td>\n",
       "    </tr>\n",
       "    <tr>\n",
       "      <th>34</th>\n",
       "      <td>2026</td>\n",
       "      <td>1</td>\n",
       "      <td>978944.673714</td>\n",
       "    </tr>\n",
       "    <tr>\n",
       "      <th>35</th>\n",
       "      <td>2026</td>\n",
       "      <td>2</td>\n",
       "      <td>978944.673714</td>\n",
       "    </tr>\n",
       "    <tr>\n",
       "      <th>36</th>\n",
       "      <td>2026</td>\n",
       "      <td>3</td>\n",
       "      <td>977077.542615</td>\n",
       "    </tr>\n",
       "    <tr>\n",
       "      <th>37</th>\n",
       "      <td>2026</td>\n",
       "      <td>4</td>\n",
       "      <td>977077.542615</td>\n",
       "    </tr>\n",
       "    <tr>\n",
       "      <th>38</th>\n",
       "      <td>2026</td>\n",
       "      <td>5</td>\n",
       "      <td>986223.420743</td>\n",
       "    </tr>\n",
       "    <tr>\n",
       "      <th>39</th>\n",
       "      <td>2026</td>\n",
       "      <td>6</td>\n",
       "      <td>986223.420743</td>\n",
       "    </tr>\n",
       "    <tr>\n",
       "      <th>40</th>\n",
       "      <td>2026</td>\n",
       "      <td>7</td>\n",
       "      <td>978934.628776</td>\n",
       "    </tr>\n",
       "    <tr>\n",
       "      <th>41</th>\n",
       "      <td>2026</td>\n",
       "      <td>8</td>\n",
       "      <td>978934.628776</td>\n",
       "    </tr>\n",
       "    <tr>\n",
       "      <th>42</th>\n",
       "      <td>2026</td>\n",
       "      <td>9</td>\n",
       "      <td>986134.131367</td>\n",
       "    </tr>\n",
       "    <tr>\n",
       "      <th>43</th>\n",
       "      <td>2026</td>\n",
       "      <td>10</td>\n",
       "      <td>978049.264793</td>\n",
       "    </tr>\n",
       "    <tr>\n",
       "      <th>44</th>\n",
       "      <td>2026</td>\n",
       "      <td>11</td>\n",
       "      <td>973125.537742</td>\n",
       "    </tr>\n",
       "    <tr>\n",
       "      <th>45</th>\n",
       "      <td>2026</td>\n",
       "      <td>12</td>\n",
       "      <td>973125.537742</td>\n",
       "    </tr>\n",
       "  </tbody>\n",
       "</table>\n",
       "</div>"
      ],
      "text/plain": [
       "     Año  Mes         precio\n",
       "0   2022   10  976931.426700\n",
       "1   2022   11  974066.081297\n",
       "2   2023    2  980042.695668\n",
       "3   2023    3  977402.752492\n",
       "4   2023    6  986481.685929\n",
       "5   2023    7  976677.184727\n",
       "6   2023    9  988147.847648\n",
       "7   2023   10  978049.264793\n",
       "8   2023   11  973125.537742\n",
       "9   2023   12  973125.537742\n",
       "10  2024    1  978944.673714\n",
       "11  2024    2  978944.673714\n",
       "12  2024    3  977077.542615\n",
       "13  2024    4  977077.542615\n",
       "14  2024    5  986223.420743\n",
       "15  2024    6  986223.420743\n",
       "16  2024    7  978934.628776\n",
       "17  2024    8  978934.628776\n",
       "18  2024    9  986134.131367\n",
       "19  2024   10  978049.264793\n",
       "20  2024   11  973125.537742\n",
       "21  2024   12  973125.537742\n",
       "22  2025    1  978944.673714\n",
       "23  2025    2  978944.673714\n",
       "24  2025    3  977077.542615\n",
       "25  2025    4  977077.542615\n",
       "26  2025    5  986223.420743\n",
       "27  2025    6  986223.420743\n",
       "28  2025    7  978934.628776\n",
       "29  2025    8  978934.628776\n",
       "30  2025    9  986134.131367\n",
       "31  2025   10  978049.264793\n",
       "32  2025   11  973125.537742\n",
       "33  2025   12  973125.537742\n",
       "34  2026    1  978944.673714\n",
       "35  2026    2  978944.673714\n",
       "36  2026    3  977077.542615\n",
       "37  2026    4  977077.542615\n",
       "38  2026    5  986223.420743\n",
       "39  2026    6  986223.420743\n",
       "40  2026    7  978934.628776\n",
       "41  2026    8  978934.628776\n",
       "42  2026    9  986134.131367\n",
       "43  2026   10  978049.264793\n",
       "44  2026   11  973125.537742\n",
       "45  2026   12  973125.537742"
      ]
     },
     "execution_count": 162,
     "metadata": {},
     "output_type": "execute_result"
    }
   ],
   "source": [
    "precio_promedio_por_mes"
   ]
  },
  {
   "cell_type": "code",
   "execution_count": 155,
   "metadata": {},
   "outputs": [
    {
     "data": {
      "text/html": [
       "<div>\n",
       "<style scoped>\n",
       "    .dataframe tbody tr th:only-of-type {\n",
       "        vertical-align: middle;\n",
       "    }\n",
       "\n",
       "    .dataframe tbody tr th {\n",
       "        vertical-align: top;\n",
       "    }\n",
       "\n",
       "    .dataframe thead th {\n",
       "        text-align: right;\n",
       "    }\n",
       "</style>\n",
       "<table border=\"1\" class=\"dataframe\">\n",
       "  <thead>\n",
       "    <tr style=\"text-align: right;\">\n",
       "      <th></th>\n",
       "      <th>año</th>\n",
       "      <th>promedio</th>\n",
       "    </tr>\n",
       "  </thead>\n",
       "  <tbody>\n",
       "    <tr>\n",
       "      <th>0</th>\n",
       "      <td>2022</td>\n",
       "      <td>975498.753999</td>\n",
       "    </tr>\n",
       "    <tr>\n",
       "      <th>1</th>\n",
       "      <td>2023</td>\n",
       "      <td>979131.563343</td>\n",
       "    </tr>\n",
       "    <tr>\n",
       "      <th>2</th>\n",
       "      <td>2024</td>\n",
       "      <td>979399.583612</td>\n",
       "    </tr>\n",
       "    <tr>\n",
       "      <th>3</th>\n",
       "      <td>2025</td>\n",
       "      <td>979399.583612</td>\n",
       "    </tr>\n",
       "    <tr>\n",
       "      <th>4</th>\n",
       "      <td>2026</td>\n",
       "      <td>979399.583612</td>\n",
       "    </tr>\n",
       "  </tbody>\n",
       "</table>\n",
       "</div>"
      ],
      "text/plain": [
       "    año       promedio\n",
       "0  2022  975498.753999\n",
       "1  2023  979131.563343\n",
       "2  2024  979399.583612\n",
       "3  2025  979399.583612\n",
       "4  2026  979399.583612"
      ]
     },
     "execution_count": 155,
     "metadata": {},
     "output_type": "execute_result"
    }
   ],
   "source": [
    "# Calcular el precio promedio por mes\n",
    "precio_promedio_por_mes = df_completo.groupby(['Año', 'Mes'])['precio'].mean().reset_index()\n",
    "# Calcular el precio promedio por año\n",
    "precio_promedio_por_año = precio_promedio_por_mes.groupby('Año')['precio'].mean().reset_index()\n",
    "precio_promedio_por_año.rename(columns={'Año': 'año'}, inplace=True)\n",
    "precio_promedio_por_año.rename(columns={'precio': 'promedio'}, inplace=True)\n",
    "\n",
    "precio_promedio_por_año"
   ]
  },
  {
   "cell_type": "code",
   "execution_count": 161,
   "metadata": {},
   "outputs": [
    {
     "data": {
      "application/vnd.plotly.v1+json": {
       "config": {
        "plotlyServerURL": "https://plot.ly"
       },
       "data": [
        {
         "marker": {
          "color": "blue"
         },
         "mode": "markers+lines",
         "type": "scatter",
         "x": [
          2022,
          2023,
          2024,
          2025,
          2026
         ],
         "y": [
          975498.7539988551,
          979131.5633425587,
          979399.5836116268,
          979399.5836116268,
          979399.5836116268
         ]
        }
       ],
       "layout": {
        "annotations": [
         {
          "font": {
           "color": "black",
           "size": 12
          },
          "showarrow": false,
          "text": "$975,498.75",
          "textangle": 0,
          "x": 2022,
          "xshift": 0,
          "y": 975498.7539988551,
          "yshift": 17
         },
         {
          "font": {
           "color": "black",
           "size": 12
          },
          "showarrow": false,
          "text": "$979,131.56",
          "textangle": 0,
          "x": 2023,
          "xshift": 0,
          "y": 979131.5633425587,
          "yshift": 17
         },
         {
          "font": {
           "color": "black",
           "size": 12
          },
          "showarrow": false,
          "text": "$979,399.58",
          "textangle": 0,
          "x": 2024,
          "xshift": 0,
          "y": 979399.5836116268,
          "yshift": 17
         },
         {
          "font": {
           "color": "black",
           "size": 12
          },
          "showarrow": false,
          "text": "$979,399.58",
          "textangle": 0,
          "x": 2025,
          "xshift": 0,
          "y": 979399.5836116268,
          "yshift": 17
         },
         {
          "font": {
           "color": "black",
           "size": 12
          },
          "showarrow": false,
          "text": "$979,399.58",
          "textangle": 0,
          "x": 2026,
          "xshift": 0,
          "y": 979399.5836116268,
          "yshift": 17
         }
        ],
        "plot_bgcolor": "rgba(0,0,0,0)",
        "template": {
         "data": {
          "bar": [
           {
            "error_x": {
             "color": "#2a3f5f"
            },
            "error_y": {
             "color": "#2a3f5f"
            },
            "marker": {
             "line": {
              "color": "#E5ECF6",
              "width": 0.5
             },
             "pattern": {
              "fillmode": "overlay",
              "size": 10,
              "solidity": 0.2
             }
            },
            "type": "bar"
           }
          ],
          "barpolar": [
           {
            "marker": {
             "line": {
              "color": "#E5ECF6",
              "width": 0.5
             },
             "pattern": {
              "fillmode": "overlay",
              "size": 10,
              "solidity": 0.2
             }
            },
            "type": "barpolar"
           }
          ],
          "carpet": [
           {
            "aaxis": {
             "endlinecolor": "#2a3f5f",
             "gridcolor": "white",
             "linecolor": "white",
             "minorgridcolor": "white",
             "startlinecolor": "#2a3f5f"
            },
            "baxis": {
             "endlinecolor": "#2a3f5f",
             "gridcolor": "white",
             "linecolor": "white",
             "minorgridcolor": "white",
             "startlinecolor": "#2a3f5f"
            },
            "type": "carpet"
           }
          ],
          "choropleth": [
           {
            "colorbar": {
             "outlinewidth": 0,
             "ticks": ""
            },
            "type": "choropleth"
           }
          ],
          "contour": [
           {
            "colorbar": {
             "outlinewidth": 0,
             "ticks": ""
            },
            "colorscale": [
             [
              0,
              "#0d0887"
             ],
             [
              0.1111111111111111,
              "#46039f"
             ],
             [
              0.2222222222222222,
              "#7201a8"
             ],
             [
              0.3333333333333333,
              "#9c179e"
             ],
             [
              0.4444444444444444,
              "#bd3786"
             ],
             [
              0.5555555555555556,
              "#d8576b"
             ],
             [
              0.6666666666666666,
              "#ed7953"
             ],
             [
              0.7777777777777778,
              "#fb9f3a"
             ],
             [
              0.8888888888888888,
              "#fdca26"
             ],
             [
              1,
              "#f0f921"
             ]
            ],
            "type": "contour"
           }
          ],
          "contourcarpet": [
           {
            "colorbar": {
             "outlinewidth": 0,
             "ticks": ""
            },
            "type": "contourcarpet"
           }
          ],
          "heatmap": [
           {
            "colorbar": {
             "outlinewidth": 0,
             "ticks": ""
            },
            "colorscale": [
             [
              0,
              "#0d0887"
             ],
             [
              0.1111111111111111,
              "#46039f"
             ],
             [
              0.2222222222222222,
              "#7201a8"
             ],
             [
              0.3333333333333333,
              "#9c179e"
             ],
             [
              0.4444444444444444,
              "#bd3786"
             ],
             [
              0.5555555555555556,
              "#d8576b"
             ],
             [
              0.6666666666666666,
              "#ed7953"
             ],
             [
              0.7777777777777778,
              "#fb9f3a"
             ],
             [
              0.8888888888888888,
              "#fdca26"
             ],
             [
              1,
              "#f0f921"
             ]
            ],
            "type": "heatmap"
           }
          ],
          "heatmapgl": [
           {
            "colorbar": {
             "outlinewidth": 0,
             "ticks": ""
            },
            "colorscale": [
             [
              0,
              "#0d0887"
             ],
             [
              0.1111111111111111,
              "#46039f"
             ],
             [
              0.2222222222222222,
              "#7201a8"
             ],
             [
              0.3333333333333333,
              "#9c179e"
             ],
             [
              0.4444444444444444,
              "#bd3786"
             ],
             [
              0.5555555555555556,
              "#d8576b"
             ],
             [
              0.6666666666666666,
              "#ed7953"
             ],
             [
              0.7777777777777778,
              "#fb9f3a"
             ],
             [
              0.8888888888888888,
              "#fdca26"
             ],
             [
              1,
              "#f0f921"
             ]
            ],
            "type": "heatmapgl"
           }
          ],
          "histogram": [
           {
            "marker": {
             "pattern": {
              "fillmode": "overlay",
              "size": 10,
              "solidity": 0.2
             }
            },
            "type": "histogram"
           }
          ],
          "histogram2d": [
           {
            "colorbar": {
             "outlinewidth": 0,
             "ticks": ""
            },
            "colorscale": [
             [
              0,
              "#0d0887"
             ],
             [
              0.1111111111111111,
              "#46039f"
             ],
             [
              0.2222222222222222,
              "#7201a8"
             ],
             [
              0.3333333333333333,
              "#9c179e"
             ],
             [
              0.4444444444444444,
              "#bd3786"
             ],
             [
              0.5555555555555556,
              "#d8576b"
             ],
             [
              0.6666666666666666,
              "#ed7953"
             ],
             [
              0.7777777777777778,
              "#fb9f3a"
             ],
             [
              0.8888888888888888,
              "#fdca26"
             ],
             [
              1,
              "#f0f921"
             ]
            ],
            "type": "histogram2d"
           }
          ],
          "histogram2dcontour": [
           {
            "colorbar": {
             "outlinewidth": 0,
             "ticks": ""
            },
            "colorscale": [
             [
              0,
              "#0d0887"
             ],
             [
              0.1111111111111111,
              "#46039f"
             ],
             [
              0.2222222222222222,
              "#7201a8"
             ],
             [
              0.3333333333333333,
              "#9c179e"
             ],
             [
              0.4444444444444444,
              "#bd3786"
             ],
             [
              0.5555555555555556,
              "#d8576b"
             ],
             [
              0.6666666666666666,
              "#ed7953"
             ],
             [
              0.7777777777777778,
              "#fb9f3a"
             ],
             [
              0.8888888888888888,
              "#fdca26"
             ],
             [
              1,
              "#f0f921"
             ]
            ],
            "type": "histogram2dcontour"
           }
          ],
          "mesh3d": [
           {
            "colorbar": {
             "outlinewidth": 0,
             "ticks": ""
            },
            "type": "mesh3d"
           }
          ],
          "parcoords": [
           {
            "line": {
             "colorbar": {
              "outlinewidth": 0,
              "ticks": ""
             }
            },
            "type": "parcoords"
           }
          ],
          "pie": [
           {
            "automargin": true,
            "type": "pie"
           }
          ],
          "scatter": [
           {
            "fillpattern": {
             "fillmode": "overlay",
             "size": 10,
             "solidity": 0.2
            },
            "type": "scatter"
           }
          ],
          "scatter3d": [
           {
            "line": {
             "colorbar": {
              "outlinewidth": 0,
              "ticks": ""
             }
            },
            "marker": {
             "colorbar": {
              "outlinewidth": 0,
              "ticks": ""
             }
            },
            "type": "scatter3d"
           }
          ],
          "scattercarpet": [
           {
            "marker": {
             "colorbar": {
              "outlinewidth": 0,
              "ticks": ""
             }
            },
            "type": "scattercarpet"
           }
          ],
          "scattergeo": [
           {
            "marker": {
             "colorbar": {
              "outlinewidth": 0,
              "ticks": ""
             }
            },
            "type": "scattergeo"
           }
          ],
          "scattergl": [
           {
            "marker": {
             "colorbar": {
              "outlinewidth": 0,
              "ticks": ""
             }
            },
            "type": "scattergl"
           }
          ],
          "scattermapbox": [
           {
            "marker": {
             "colorbar": {
              "outlinewidth": 0,
              "ticks": ""
             }
            },
            "type": "scattermapbox"
           }
          ],
          "scatterpolar": [
           {
            "marker": {
             "colorbar": {
              "outlinewidth": 0,
              "ticks": ""
             }
            },
            "type": "scatterpolar"
           }
          ],
          "scatterpolargl": [
           {
            "marker": {
             "colorbar": {
              "outlinewidth": 0,
              "ticks": ""
             }
            },
            "type": "scatterpolargl"
           }
          ],
          "scatterternary": [
           {
            "marker": {
             "colorbar": {
              "outlinewidth": 0,
              "ticks": ""
             }
            },
            "type": "scatterternary"
           }
          ],
          "surface": [
           {
            "colorbar": {
             "outlinewidth": 0,
             "ticks": ""
            },
            "colorscale": [
             [
              0,
              "#0d0887"
             ],
             [
              0.1111111111111111,
              "#46039f"
             ],
             [
              0.2222222222222222,
              "#7201a8"
             ],
             [
              0.3333333333333333,
              "#9c179e"
             ],
             [
              0.4444444444444444,
              "#bd3786"
             ],
             [
              0.5555555555555556,
              "#d8576b"
             ],
             [
              0.6666666666666666,
              "#ed7953"
             ],
             [
              0.7777777777777778,
              "#fb9f3a"
             ],
             [
              0.8888888888888888,
              "#fdca26"
             ],
             [
              1,
              "#f0f921"
             ]
            ],
            "type": "surface"
           }
          ],
          "table": [
           {
            "cells": {
             "fill": {
              "color": "#EBF0F8"
             },
             "line": {
              "color": "white"
             }
            },
            "header": {
             "fill": {
              "color": "#C8D4E3"
             },
             "line": {
              "color": "white"
             }
            },
            "type": "table"
           }
          ]
         },
         "layout": {
          "annotationdefaults": {
           "arrowcolor": "#2a3f5f",
           "arrowhead": 0,
           "arrowwidth": 1
          },
          "autotypenumbers": "strict",
          "coloraxis": {
           "colorbar": {
            "outlinewidth": 0,
            "ticks": ""
           }
          },
          "colorscale": {
           "diverging": [
            [
             0,
             "#8e0152"
            ],
            [
             0.1,
             "#c51b7d"
            ],
            [
             0.2,
             "#de77ae"
            ],
            [
             0.3,
             "#f1b6da"
            ],
            [
             0.4,
             "#fde0ef"
            ],
            [
             0.5,
             "#f7f7f7"
            ],
            [
             0.6,
             "#e6f5d0"
            ],
            [
             0.7,
             "#b8e186"
            ],
            [
             0.8,
             "#7fbc41"
            ],
            [
             0.9,
             "#4d9221"
            ],
            [
             1,
             "#276419"
            ]
           ],
           "sequential": [
            [
             0,
             "#0d0887"
            ],
            [
             0.1111111111111111,
             "#46039f"
            ],
            [
             0.2222222222222222,
             "#7201a8"
            ],
            [
             0.3333333333333333,
             "#9c179e"
            ],
            [
             0.4444444444444444,
             "#bd3786"
            ],
            [
             0.5555555555555556,
             "#d8576b"
            ],
            [
             0.6666666666666666,
             "#ed7953"
            ],
            [
             0.7777777777777778,
             "#fb9f3a"
            ],
            [
             0.8888888888888888,
             "#fdca26"
            ],
            [
             1,
             "#f0f921"
            ]
           ],
           "sequentialminus": [
            [
             0,
             "#0d0887"
            ],
            [
             0.1111111111111111,
             "#46039f"
            ],
            [
             0.2222222222222222,
             "#7201a8"
            ],
            [
             0.3333333333333333,
             "#9c179e"
            ],
            [
             0.4444444444444444,
             "#bd3786"
            ],
            [
             0.5555555555555556,
             "#d8576b"
            ],
            [
             0.6666666666666666,
             "#ed7953"
            ],
            [
             0.7777777777777778,
             "#fb9f3a"
            ],
            [
             0.8888888888888888,
             "#fdca26"
            ],
            [
             1,
             "#f0f921"
            ]
           ]
          },
          "colorway": [
           "#636efa",
           "#EF553B",
           "#00cc96",
           "#ab63fa",
           "#FFA15A",
           "#19d3f3",
           "#FF6692",
           "#B6E880",
           "#FF97FF",
           "#FECB52"
          ],
          "font": {
           "color": "#2a3f5f"
          },
          "geo": {
           "bgcolor": "white",
           "lakecolor": "white",
           "landcolor": "#E5ECF6",
           "showlakes": true,
           "showland": true,
           "subunitcolor": "white"
          },
          "hoverlabel": {
           "align": "left"
          },
          "hovermode": "closest",
          "mapbox": {
           "style": "light"
          },
          "paper_bgcolor": "white",
          "plot_bgcolor": "#E5ECF6",
          "polar": {
           "angularaxis": {
            "gridcolor": "white",
            "linecolor": "white",
            "ticks": ""
           },
           "bgcolor": "#E5ECF6",
           "radialaxis": {
            "gridcolor": "white",
            "linecolor": "white",
            "ticks": ""
           }
          },
          "scene": {
           "xaxis": {
            "backgroundcolor": "#E5ECF6",
            "gridcolor": "white",
            "gridwidth": 2,
            "linecolor": "white",
            "showbackground": true,
            "ticks": "",
            "zerolinecolor": "white"
           },
           "yaxis": {
            "backgroundcolor": "#E5ECF6",
            "gridcolor": "white",
            "gridwidth": 2,
            "linecolor": "white",
            "showbackground": true,
            "ticks": "",
            "zerolinecolor": "white"
           },
           "zaxis": {
            "backgroundcolor": "#E5ECF6",
            "gridcolor": "white",
            "gridwidth": 2,
            "linecolor": "white",
            "showbackground": true,
            "ticks": "",
            "zerolinecolor": "white"
           }
          },
          "shapedefaults": {
           "line": {
            "color": "#2a3f5f"
           }
          },
          "ternary": {
           "aaxis": {
            "gridcolor": "white",
            "linecolor": "white",
            "ticks": ""
           },
           "baxis": {
            "gridcolor": "white",
            "linecolor": "white",
            "ticks": ""
           },
           "bgcolor": "#E5ECF6",
           "caxis": {
            "gridcolor": "white",
            "linecolor": "white",
            "ticks": ""
           }
          },
          "title": {
           "x": 0.05
          },
          "xaxis": {
           "automargin": true,
           "gridcolor": "white",
           "linecolor": "white",
           "ticks": "",
           "title": {
            "standoff": 15
           },
           "zerolinecolor": "white",
           "zerolinewidth": 2
          },
          "yaxis": {
           "automargin": true,
           "gridcolor": "white",
           "linecolor": "white",
           "ticks": "",
           "title": {
            "standoff": 15
           },
           "zerolinecolor": "white",
           "zerolinewidth": 2
          }
         }
        },
        "title": {
         "text": "Plusvalía estimada"
        },
        "xaxis": {
         "gridcolor": "#dddcda",
         "tickmode": "array",
         "ticktext": [
          2022,
          2023,
          2024,
          2025,
          2026
         ],
         "tickvals": [
          2022,
          2023,
          2024,
          2025,
          2026
         ]
        },
        "yaxis": {
         "gridcolor": "#dddcda",
         "gridwidth": 1,
         "range": [
          0,
          1000000
         ],
         "ticktext": [
          "$0,000,000",
          "$1,000,000"
         ],
         "tickvals": [
          0,
          1000000,
          1000000
         ]
        }
       }
      }
     },
     "metadata": {},
     "output_type": "display_data"
    }
   ],
   "source": [
    "# Datos\n",
    "año = precio_promedio_por_año['año']\n",
    "promedio = precio_promedio_por_año['promedio']\n",
    "\n",
    "fig = go.Figure()\n",
    "fig.add_trace(go.Scatter(\n",
    "    x=año,\n",
    "    y=promedio,\n",
    "    mode='markers+lines',\n",
    "    marker=dict(color='blue'),\n",
    "))\n",
    "# Agregar anotaciones para mostrar los valores encima de los puntos\n",
    "for a, p in zip(año, promedio):\n",
    "    fig.add_annotation(\n",
    "        x=a,\n",
    "        y=p,\n",
    "        text=f\"${p:,.2f}\",  # Formatear el valor del promedio como moneda\n",
    "        showarrow=False,\n",
    "        font=dict(color='black', size=12),\n",
    "        xshift=0,\n",
    "        yshift=17,\n",
    "        textangle=0\n",
    "    )\n",
    "# Actualizar diseño\n",
    "fig.update_layout(\n",
    "    title='Plusvalía estimada',\n",
    "    yaxis=dict(\n",
    "        range=[0, 1000000],  # Establecer el rango del eje y\n",
    "        tickvals=[0,1000000, 1000000],  # Definir los valores de las marcas en el eje y\n",
    "        ticktext=['$0,000,000', '$1,000,000'],  # Definir el texto de las marcas en el eje y\n",
    "        gridcolor='#dddcda',  # Color de las líneas de la cuadrícula\n",
    "        gridwidth=1  # Ancho de las líneas de la cuadrícula\n",
    "    ),\n",
    "    xaxis=dict(\n",
    "        gridcolor='#dddcda', \n",
    "        tickmode='array',\n",
    "        tickvals=año,\n",
    "        ticktext=año\n",
    "    ),\n",
    "    plot_bgcolor='rgba(0,0,0,0)'\n",
    ")\n",
    "# Exportar gráfica como archivo HTML\n",
    "def guardar_grafico_como_html(fig, nombre_archivo, carpeta='graficas'):\n",
    "    # Crear la carpeta si no existe\n",
    "    if not os.path.exists(carpeta):\n",
    "        os.makedirs(carpeta)\n",
    "    \n",
    "    # Gráfica como archivo HTML en la carpeta especificada\n",
    "    pio.write_html(fig, f'{carpeta}/{nombre_archivo}.html')\n",
    "\n",
    "guardar_grafico_como_html(fig, 'g_scatt_plusvaliaestimada_model_pachuca', carpeta='graficas')\n",
    "fig.show()\n"
   ]
  },
  {
   "cell_type": "code",
   "execution_count": null,
   "metadata": {},
   "outputs": [],
   "source": []
  }
 ],
 "metadata": {
  "kernelspec": {
   "display_name": "base",
   "language": "python",
   "name": "python3"
  },
  "language_info": {
   "codemirror_mode": {
    "name": "ipython",
    "version": 3
   },
   "file_extension": ".py",
   "mimetype": "text/x-python",
   "name": "python",
   "nbconvert_exporter": "python",
   "pygments_lexer": "ipython3",
   "version": "3.9.13"
  }
 },
 "nbformat": 4,
 "nbformat_minor": 2
}
