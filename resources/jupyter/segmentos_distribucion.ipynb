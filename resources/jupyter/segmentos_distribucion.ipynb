{
 "cells": [
  {
   "cell_type": "markdown",
   "metadata": {},
   "source": [
    "# **SEGMENTOS**"
   ]
  },
  {
   "cell_type": "code",
   "execution_count": 1,
   "metadata": {},
   "outputs": [
    {
     "data": {
      "text/plain": [
       "['df_alfa_q_feb_2023_pachuca',\n",
       " 'df_alfa_q_jul_2022_tulancingo',\n",
       " 'df_alfa_q_jul_2023_pachuca',\n",
       " 'df_alfa_q_jul_2023_tulancingo',\n",
       " 'df_alfa_q_jun_2023_pachuca',\n",
       " 'df_alfa_q_jun_2023_tulancingo',\n",
       " 'df_alfa_q_mar_2023_pachuca',\n",
       " 'df_alfa_q_mar_2023_tulancingo',\n",
       " 'df_alfa_q_may_2022_tulancingo',\n",
       " 'df_alfa_q_may_2023_tulancingo',\n",
       " 'df_alfa_q_nov_2022_pachuca',\n",
       " 'df_alfa_q_oct_2022_pachuca',\n",
       " 'df_alfa_q_oct_2022_tulancingo',\n",
       " 'df_alfa_q_oct_2023_tulancingo',\n",
       " 'df_alfa_q_puebla',\n",
       " 'df_alfa_q_sep_2023_pachuca',\n",
       " 'df_alfa_q_sep_2023_tulancingo',\n",
       " 'df_enero_2024_querertaro',\n",
       " 'df_feb_2024_puebla',\n",
       " 'df_financiamientos_2019_pachuca',\n",
       " 'df_financiamientos_2019_puebla',\n",
       " 'df_financiamientos_2019_tulancingo',\n",
       " 'df_financiamientos_2020_pachuca',\n",
       " 'df_financiamientos_2020_puebla',\n",
       " 'df_financiamientos_2020_tulancingo',\n",
       " 'df_financiamientos_2021_pachuca',\n",
       " 'df_financiamientos_2021_puebla',\n",
       " 'df_financiamientos_2021_tulancingo',\n",
       " 'df_financiamientos_2022_pachuca',\n",
       " 'df_financiamientos_2022_puebla',\n",
       " 'df_financiamientos_2022_tulancingo',\n",
       " 'df_financiamientos_2023_pachuca',\n",
       " 'df_financiamientos_2023_puebla',\n",
       " 'df_financiamientos_2023_tulancingo',\n",
       " 'df_financiamientos_2024_puebla',\n",
       " 'df_grupos_edad_pachuca',\n",
       " 'df_grupos_edad_puebla',\n",
       " 'df_grupos_edad_queretaro',\n",
       " 'df_grupos_edad_tulancingo',\n",
       " 'df_jul_2023_puebla',\n",
       " 'df_junio_2023_queretaro',\n",
       " 'df_mar_2024_puebla',\n",
       " 'df_may_2024_puebla',\n",
       " 'df_publicacion_pachuca',\n",
       " 'df_publicacion_puebla',\n",
       " 'df_salarios_pachuca',\n",
       " 'df_salarios_puebla',\n",
       " 'df_sep_2023_puebla',\n",
       " 'df_tiempo_dias_tulancingo',\n",
       " 'df_usuarios']"
      ]
     },
     "execution_count": 1,
     "metadata": {},
     "output_type": "execute_result"
    }
   ],
   "source": [
    "# Manejo de datos\n",
    "import os # Directorios\n",
    "import pandas as pd # Manipulación df\n",
    "# Gráficas\n",
    "import plotly.graph_objects as go #Para obtener librería usar: pip install plotly\n",
    "from plotly.subplots import make_subplots\n",
    "import plotly.io as pio # Exportar gráfica\n",
    "\n",
    "# Obtener el directorio actual de trabajo\n",
    "directorio_actual = os.getcwd()\n",
    "# Directorio donde se encuentran los archivos JSON (ruta relativa)\n",
    "directorio_json = os.path.join(directorio_actual, 'datos_json')\n",
    "#print(\"Directorio JSON relativo:\", directorio_json)\n",
    "# Obtener la lista de archivos JSON en el directorio\n",
    "archivos_json = os.listdir(directorio_json)\n",
    "\n",
    "dataframes = {}\n",
    "# Iterar sobre cada archivo JSON y crear un DataFrame\n",
    "for archivo in archivos_json:\n",
    "    # Obtener el nombre de la tabla del nombre del archivo\n",
    "    nombre_tabla = archivo.replace('datos_', '').replace('.json', '')    \n",
    "    # Cargar el archivo JSON en un DataFrame y asignarlo a una variable con un nombre dinámico\n",
    "    ruta_json = os.path.join(directorio_json, archivo)\n",
    "    globals()[f\"df_{nombre_tabla}\"] = pd.read_json(ruta_json)\n",
    "# Obtener todos los nombres de las variables globales\n",
    "nombres_variables_globales = list(globals().keys())\n",
    "# Filtrar los nombres, solo aquellos que comienzan con \"df_\"\n",
    "nombres_df = [nombre for nombre in nombres_variables_globales if nombre.startswith(\"df_\")]\n",
    "\n",
    "# Lista de nombres de los DataFrames creados\n",
    "# print(\"Lista de DataFrames creados:\")\n",
    "#print(nombres_df)\n",
    "nombres_df"
   ]
  },
  {
   "cell_type": "markdown",
   "metadata": {},
   "source": [
    "# ***DISTRIBUCIÓN DE SEGMENTOS***"
   ]
  },
  {
   "cell_type": "markdown",
   "metadata": {},
   "source": [
    "## **PACHUCA**"
   ]
  },
  {
   "cell_type": "markdown",
   "metadata": {},
   "source": [
    "Hasta 2023"
   ]
  },
  {
   "cell_type": "code",
   "execution_count": 38,
   "metadata": {},
   "outputs": [],
   "source": [
    "# Crea los DataFrames para cada archivo con las columnas necesarias\n",
    "segment_df_alfa_q_oct_2022_pachuca = df_alfa_q_oct_2022_pachuca[['id','categoria']]\n",
    "segment_df_alfa_q_nov_2022_pachuca = df_alfa_q_nov_2022_pachuca[['id','categoria']]\n",
    "segment_df_alfa_q_feb_2023_pachuca = df_alfa_q_feb_2023_pachuca[['id','categoria']]\n",
    "segment_df_alfa_q_mar_2023_pachuca = df_alfa_q_mar_2023_pachuca[['id','categoria']]\n",
    "segment_df_alfa_q_jun_2023_pachuca = df_alfa_q_jun_2023_pachuca[['id','categoria']]\n",
    "segment_df_alfa_q_jul_2023_pachuca = df_alfa_q_jul_2023_pachuca[['id','categoria']]\n",
    "segment_df_alfa_q_sep_2023_pachuca = df_alfa_q_sep_2023_pachuca[['id','categoria']] "
   ]
  },
  {
   "cell_type": "code",
   "execution_count": 39,
   "metadata": {},
   "outputs": [
    {
     "data": {
      "text/html": [
       "<div>\n",
       "<style scoped>\n",
       "    .dataframe tbody tr th:only-of-type {\n",
       "        vertical-align: middle;\n",
       "    }\n",
       "\n",
       "    .dataframe tbody tr th {\n",
       "        vertical-align: top;\n",
       "    }\n",
       "\n",
       "    .dataframe thead th {\n",
       "        text-align: right;\n",
       "    }\n",
       "</style>\n",
       "<table border=\"1\" class=\"dataframe\">\n",
       "  <thead>\n",
       "    <tr style=\"text-align: right;\">\n",
       "      <th></th>\n",
       "      <th>categoria</th>\n",
       "      <th>conteo_total</th>\n",
       "    </tr>\n",
       "  </thead>\n",
       "  <tbody>\n",
       "    <tr>\n",
       "      <th>0</th>\n",
       "      <td>S</td>\n",
       "      <td>2257</td>\n",
       "    </tr>\n",
       "    <tr>\n",
       "      <th>1</th>\n",
       "      <td>D1</td>\n",
       "      <td>917</td>\n",
       "    </tr>\n",
       "    <tr>\n",
       "      <th>2</th>\n",
       "      <td>C3</td>\n",
       "      <td>747</td>\n",
       "    </tr>\n",
       "    <tr>\n",
       "      <th>3</th>\n",
       "      <td>B1</td>\n",
       "      <td>826</td>\n",
       "    </tr>\n",
       "    <tr>\n",
       "      <th>4</th>\n",
       "      <td>B2</td>\n",
       "      <td>755</td>\n",
       "    </tr>\n",
       "    <tr>\n",
       "      <th>5</th>\n",
       "      <td>B3</td>\n",
       "      <td>670</td>\n",
       "    </tr>\n",
       "    <tr>\n",
       "      <th>6</th>\n",
       "      <td>D2</td>\n",
       "      <td>562</td>\n",
       "    </tr>\n",
       "    <tr>\n",
       "      <th>7</th>\n",
       "      <td>C2</td>\n",
       "      <td>613</td>\n",
       "    </tr>\n",
       "    <tr>\n",
       "      <th>8</th>\n",
       "      <td>D3</td>\n",
       "      <td>438</td>\n",
       "    </tr>\n",
       "    <tr>\n",
       "      <th>9</th>\n",
       "      <td>A3</td>\n",
       "      <td>479</td>\n",
       "    </tr>\n",
       "    <tr>\n",
       "      <th>10</th>\n",
       "      <td>C1</td>\n",
       "      <td>425</td>\n",
       "    </tr>\n",
       "    <tr>\n",
       "      <th>11</th>\n",
       "      <td>A1</td>\n",
       "      <td>435</td>\n",
       "    </tr>\n",
       "    <tr>\n",
       "      <th>12</th>\n",
       "      <td>A2</td>\n",
       "      <td>450</td>\n",
       "    </tr>\n",
       "    <tr>\n",
       "      <th>13</th>\n",
       "      <td>E1</td>\n",
       "      <td>287</td>\n",
       "    </tr>\n",
       "    <tr>\n",
       "      <th>14</th>\n",
       "      <td>E2</td>\n",
       "      <td>47</td>\n",
       "    </tr>\n",
       "  </tbody>\n",
       "</table>\n",
       "</div>"
      ],
      "text/plain": [
       "   categoria  conteo_total\n",
       "0          S          2257\n",
       "1         D1           917\n",
       "2         C3           747\n",
       "3         B1           826\n",
       "4         B2           755\n",
       "5         B3           670\n",
       "6         D2           562\n",
       "7         C2           613\n",
       "8         D3           438\n",
       "9         A3           479\n",
       "10        C1           425\n",
       "11        A1           435\n",
       "12        A2           450\n",
       "13        E1           287\n",
       "14        E2            47"
      ]
     },
     "execution_count": 39,
     "metadata": {},
     "output_type": "execute_result"
    }
   ],
   "source": [
    "# CONTEO ÚNICO DE CATEGORÍAS\n",
    "\n",
    "dataframes_list = [\n",
    "    segment_df_alfa_q_oct_2022_pachuca,\n",
    "    segment_df_alfa_q_nov_2022_pachuca,\n",
    "    segment_df_alfa_q_feb_2023_pachuca,\n",
    "    segment_df_alfa_q_mar_2023_pachuca,\n",
    "    segment_df_alfa_q_jun_2023_pachuca,\n",
    "    segment_df_alfa_q_jul_2023_pachuca,\n",
    "    segment_df_alfa_q_sep_2023_pachuca\n",
    "]\n",
    "conteo_total = {}\n",
    "for df in dataframes_list:\n",
    "    # Calcular el conteo de valores únicos de 'categoria' en el DataFrame actual\n",
    "    conteo_actual = df['categoria'].value_counts().to_dict()\n",
    "    # Agregar el conteo actual al conteo total\n",
    "    for categoria, conteo in conteo_actual.items():\n",
    "        conteo_total[categoria] = conteo_total.get(categoria, 0) + conteo\n",
    "\n",
    "# Convertir el diccionario a un DataFrame\n",
    "conteo_total_df = pd.DataFrame(list(conteo_total.items()), columns=['categoria', 'conteo_total'])\n",
    "conteo_total_df"
   ]
  },
  {
   "cell_type": "code",
   "execution_count": 40,
   "metadata": {},
   "outputs": [
    {
     "data": {
      "text/html": [
       "<div>\n",
       "<style scoped>\n",
       "    .dataframe tbody tr th:only-of-type {\n",
       "        vertical-align: middle;\n",
       "    }\n",
       "\n",
       "    .dataframe tbody tr th {\n",
       "        vertical-align: top;\n",
       "    }\n",
       "\n",
       "    .dataframe thead th {\n",
       "        text-align: right;\n",
       "    }\n",
       "</style>\n",
       "<table border=\"1\" class=\"dataframe\">\n",
       "  <thead>\n",
       "    <tr style=\"text-align: right;\">\n",
       "      <th></th>\n",
       "      <th>conteo_total</th>\n",
       "      <th>segmento</th>\n",
       "      <th>clase</th>\n",
       "    </tr>\n",
       "  </thead>\n",
       "  <tbody>\n",
       "    <tr>\n",
       "      <th>0</th>\n",
       "      <td>2257</td>\n",
       "      <td>S</td>\n",
       "      <td>1</td>\n",
       "    </tr>\n",
       "    <tr>\n",
       "      <th>1</th>\n",
       "      <td>917</td>\n",
       "      <td>D</td>\n",
       "      <td>1</td>\n",
       "    </tr>\n",
       "    <tr>\n",
       "      <th>2</th>\n",
       "      <td>747</td>\n",
       "      <td>C</td>\n",
       "      <td>3</td>\n",
       "    </tr>\n",
       "    <tr>\n",
       "      <th>3</th>\n",
       "      <td>826</td>\n",
       "      <td>B</td>\n",
       "      <td>1</td>\n",
       "    </tr>\n",
       "    <tr>\n",
       "      <th>4</th>\n",
       "      <td>755</td>\n",
       "      <td>B</td>\n",
       "      <td>2</td>\n",
       "    </tr>\n",
       "    <tr>\n",
       "      <th>5</th>\n",
       "      <td>670</td>\n",
       "      <td>B</td>\n",
       "      <td>3</td>\n",
       "    </tr>\n",
       "    <tr>\n",
       "      <th>6</th>\n",
       "      <td>562</td>\n",
       "      <td>D</td>\n",
       "      <td>2</td>\n",
       "    </tr>\n",
       "    <tr>\n",
       "      <th>7</th>\n",
       "      <td>613</td>\n",
       "      <td>C</td>\n",
       "      <td>2</td>\n",
       "    </tr>\n",
       "    <tr>\n",
       "      <th>8</th>\n",
       "      <td>438</td>\n",
       "      <td>D</td>\n",
       "      <td>3</td>\n",
       "    </tr>\n",
       "    <tr>\n",
       "      <th>9</th>\n",
       "      <td>479</td>\n",
       "      <td>A</td>\n",
       "      <td>3</td>\n",
       "    </tr>\n",
       "    <tr>\n",
       "      <th>10</th>\n",
       "      <td>425</td>\n",
       "      <td>C</td>\n",
       "      <td>1</td>\n",
       "    </tr>\n",
       "    <tr>\n",
       "      <th>11</th>\n",
       "      <td>435</td>\n",
       "      <td>A</td>\n",
       "      <td>1</td>\n",
       "    </tr>\n",
       "    <tr>\n",
       "      <th>12</th>\n",
       "      <td>450</td>\n",
       "      <td>A</td>\n",
       "      <td>2</td>\n",
       "    </tr>\n",
       "    <tr>\n",
       "      <th>13</th>\n",
       "      <td>287</td>\n",
       "      <td>E</td>\n",
       "      <td>1</td>\n",
       "    </tr>\n",
       "    <tr>\n",
       "      <th>14</th>\n",
       "      <td>47</td>\n",
       "      <td>E</td>\n",
       "      <td>2</td>\n",
       "    </tr>\n",
       "    <tr>\n",
       "      <th>15</th>\n",
       "      <td>0</td>\n",
       "      <td>E</td>\n",
       "      <td>3</td>\n",
       "    </tr>\n",
       "  </tbody>\n",
       "</table>\n",
       "</div>"
      ],
      "text/plain": [
       "    conteo_total segmento clase\n",
       "0           2257        S     1\n",
       "1            917        D     1\n",
       "2            747        C     3\n",
       "3            826        B     1\n",
       "4            755        B     2\n",
       "5            670        B     3\n",
       "6            562        D     2\n",
       "7            613        C     2\n",
       "8            438        D     3\n",
       "9            479        A     3\n",
       "10           425        C     1\n",
       "11           435        A     1\n",
       "12           450        A     2\n",
       "13           287        E     1\n",
       "14            47        E     2\n",
       "15             0        E     3"
      ]
     },
     "execution_count": 40,
     "metadata": {},
     "output_type": "execute_result"
    }
   ],
   "source": [
    "# Añadir una nuevas columnas que extraigan el número y letra de la categoría\n",
    "conteo_total_df['segmento'] = conteo_total_df['categoria'].str[0]\n",
    "conteo_total_df['clase'] = conteo_total_df['categoria'].str.extract(r'(\\d+)').fillna('1')\n",
    "conteo_total_df.drop(columns=['categoria'], inplace=True)\n",
    "\n",
    "# Añadir una nueva fila como un DataFrame\n",
    "nueva_fila_df = pd.DataFrame({'conteo_total': [0], 'segmento': ['E'], 'clase': ['3']})\n",
    "# Concatenar el DataFrame original con la nueva fila\n",
    "conteo_total_dfs = pd.concat([conteo_total_df, nueva_fila_df], ignore_index=True)\n",
    "conteo_total_dfs"
   ]
  },
  {
   "cell_type": "code",
   "execution_count": 41,
   "metadata": {},
   "outputs": [
    {
     "data": {
      "text/plain": [
       "segmento  clase\n",
       "A         1         435\n",
       "          2         450\n",
       "          3         479\n",
       "B         1         826\n",
       "          2         755\n",
       "          3         670\n",
       "C         1         425\n",
       "          2         613\n",
       "          3         747\n",
       "D         1         917\n",
       "          2         562\n",
       "          3         438\n",
       "E         1         287\n",
       "          2          47\n",
       "          3           0\n",
       "S         1        2257\n",
       "Name: conteo_total, dtype: int64"
      ]
     },
     "execution_count": 41,
     "metadata": {},
     "output_type": "execute_result"
    }
   ],
   "source": [
    "#segmentos_dist = conteo_total_df.groupby(['segmento', 'clase']) # Agrupar\n",
    "segmentos_dist = conteo_total_dfs.groupby(['segmento', 'clase'])['conteo_total'].sum()\n",
    "segmentos_dist"
   ]
  },
  {
   "cell_type": "markdown",
   "metadata": {},
   "source": [
    "Totales de registros por segmento"
   ]
  },
  {
   "cell_type": "code",
   "execution_count": 42,
   "metadata": {},
   "outputs": [
    {
     "name": "stdout",
     "output_type": "stream",
     "text": [
      "Total de registros:  9908\n"
     ]
    },
    {
     "data": {
      "text/html": [
       "<div>\n",
       "<style scoped>\n",
       "    .dataframe tbody tr th:only-of-type {\n",
       "        vertical-align: middle;\n",
       "    }\n",
       "\n",
       "    .dataframe tbody tr th {\n",
       "        vertical-align: top;\n",
       "    }\n",
       "\n",
       "    .dataframe thead th {\n",
       "        text-align: right;\n",
       "    }\n",
       "</style>\n",
       "<table border=\"1\" class=\"dataframe\">\n",
       "  <thead>\n",
       "    <tr style=\"text-align: right;\">\n",
       "      <th></th>\n",
       "      <th>segmento</th>\n",
       "      <th>total_por_segmento</th>\n",
       "      <th>porcentaje_del_total</th>\n",
       "    </tr>\n",
       "  </thead>\n",
       "  <tbody>\n",
       "    <tr>\n",
       "      <th>0</th>\n",
       "      <td>A</td>\n",
       "      <td>1364</td>\n",
       "      <td>13.766653</td>\n",
       "    </tr>\n",
       "    <tr>\n",
       "      <th>1</th>\n",
       "      <td>B</td>\n",
       "      <td>2251</td>\n",
       "      <td>22.719015</td>\n",
       "    </tr>\n",
       "    <tr>\n",
       "      <th>2</th>\n",
       "      <td>C</td>\n",
       "      <td>1785</td>\n",
       "      <td>18.015745</td>\n",
       "    </tr>\n",
       "    <tr>\n",
       "      <th>3</th>\n",
       "      <td>D</td>\n",
       "      <td>1917</td>\n",
       "      <td>19.348002</td>\n",
       "    </tr>\n",
       "    <tr>\n",
       "      <th>4</th>\n",
       "      <td>E</td>\n",
       "      <td>334</td>\n",
       "      <td>3.371013</td>\n",
       "    </tr>\n",
       "    <tr>\n",
       "      <th>5</th>\n",
       "      <td>S</td>\n",
       "      <td>2257</td>\n",
       "      <td>22.779572</td>\n",
       "    </tr>\n",
       "  </tbody>\n",
       "</table>\n",
       "</div>"
      ],
      "text/plain": [
       "  segmento  total_por_segmento  porcentaje_del_total\n",
       "0        A                1364             13.766653\n",
       "1        B                2251             22.719015\n",
       "2        C                1785             18.015745\n",
       "3        D                1917             19.348002\n",
       "4        E                 334              3.371013\n",
       "5        S                2257             22.779572"
      ]
     },
     "execution_count": 42,
     "metadata": {},
     "output_type": "execute_result"
    }
   ],
   "source": [
    "# Calcular el total de registros por cada segmento, incluyendo todas sus categorías\n",
    "total_por_segmento = conteo_total_dfs.groupby('segmento')['conteo_total'].sum() \n",
    "# Calcular el total de registros en todos los segmentos\n",
    "total_registros_total = total_por_segmento.sum()\n",
    "# Calcular el porcentaje que representa cada total de segmento con respecto al total de registros en todo el DataFrame\n",
    "porcentaje_total_segmento = (total_por_segmento / total_registros_total) * 100\n",
    "# DataFrame con los resultados\n",
    "resultados = pd.DataFrame({\n",
    "    'segmento': total_por_segmento.index,\n",
    "    'total_por_segmento': total_por_segmento.values,\n",
    "    'porcentaje_del_total': porcentaje_total_segmento.values\n",
    "})\n",
    "\n",
    "print(\"Total de registros: \",total_registros_total)\n",
    "#porcentaje_del_total_porsegmentos\n",
    "resultados"
   ]
  },
  {
   "cell_type": "markdown",
   "metadata": {},
   "source": [
    "Porcentajes de clase por segmento"
   ]
  },
  {
   "cell_type": "code",
   "execution_count": 43,
   "metadata": {},
   "outputs": [
    {
     "data": {
      "text/html": [
       "<div>\n",
       "<style scoped>\n",
       "    .dataframe tbody tr th:only-of-type {\n",
       "        vertical-align: middle;\n",
       "    }\n",
       "\n",
       "    .dataframe tbody tr th {\n",
       "        vertical-align: top;\n",
       "    }\n",
       "\n",
       "    .dataframe thead th {\n",
       "        text-align: right;\n",
       "    }\n",
       "</style>\n",
       "<table border=\"1\" class=\"dataframe\">\n",
       "  <thead>\n",
       "    <tr style=\"text-align: right;\">\n",
       "      <th></th>\n",
       "      <th>segmento</th>\n",
       "      <th>clase</th>\n",
       "      <th>porcentaje</th>\n",
       "    </tr>\n",
       "  </thead>\n",
       "  <tbody>\n",
       "    <tr>\n",
       "      <th>0</th>\n",
       "      <td>S</td>\n",
       "      <td>1</td>\n",
       "      <td>100.000000</td>\n",
       "    </tr>\n",
       "    <tr>\n",
       "      <th>1</th>\n",
       "      <td>D</td>\n",
       "      <td>1</td>\n",
       "      <td>47.835159</td>\n",
       "    </tr>\n",
       "    <tr>\n",
       "      <th>2</th>\n",
       "      <td>D</td>\n",
       "      <td>2</td>\n",
       "      <td>29.316641</td>\n",
       "    </tr>\n",
       "    <tr>\n",
       "      <th>3</th>\n",
       "      <td>D</td>\n",
       "      <td>3</td>\n",
       "      <td>22.848200</td>\n",
       "    </tr>\n",
       "    <tr>\n",
       "      <th>4</th>\n",
       "      <td>C</td>\n",
       "      <td>3</td>\n",
       "      <td>41.848739</td>\n",
       "    </tr>\n",
       "    <tr>\n",
       "      <th>5</th>\n",
       "      <td>C</td>\n",
       "      <td>2</td>\n",
       "      <td>34.341737</td>\n",
       "    </tr>\n",
       "    <tr>\n",
       "      <th>6</th>\n",
       "      <td>C</td>\n",
       "      <td>1</td>\n",
       "      <td>23.809524</td>\n",
       "    </tr>\n",
       "    <tr>\n",
       "      <th>7</th>\n",
       "      <td>B</td>\n",
       "      <td>1</td>\n",
       "      <td>36.694802</td>\n",
       "    </tr>\n",
       "    <tr>\n",
       "      <th>8</th>\n",
       "      <td>B</td>\n",
       "      <td>2</td>\n",
       "      <td>33.540649</td>\n",
       "    </tr>\n",
       "    <tr>\n",
       "      <th>9</th>\n",
       "      <td>B</td>\n",
       "      <td>3</td>\n",
       "      <td>29.764549</td>\n",
       "    </tr>\n",
       "    <tr>\n",
       "      <th>10</th>\n",
       "      <td>A</td>\n",
       "      <td>3</td>\n",
       "      <td>35.117302</td>\n",
       "    </tr>\n",
       "    <tr>\n",
       "      <th>11</th>\n",
       "      <td>A</td>\n",
       "      <td>1</td>\n",
       "      <td>31.891496</td>\n",
       "    </tr>\n",
       "    <tr>\n",
       "      <th>12</th>\n",
       "      <td>A</td>\n",
       "      <td>2</td>\n",
       "      <td>32.991202</td>\n",
       "    </tr>\n",
       "    <tr>\n",
       "      <th>13</th>\n",
       "      <td>E</td>\n",
       "      <td>1</td>\n",
       "      <td>85.928144</td>\n",
       "    </tr>\n",
       "    <tr>\n",
       "      <th>14</th>\n",
       "      <td>E</td>\n",
       "      <td>2</td>\n",
       "      <td>14.071856</td>\n",
       "    </tr>\n",
       "  </tbody>\n",
       "</table>\n",
       "</div>"
      ],
      "text/plain": [
       "   segmento clase  porcentaje\n",
       "0         S     1  100.000000\n",
       "1         D     1   47.835159\n",
       "2         D     2   29.316641\n",
       "3         D     3   22.848200\n",
       "4         C     3   41.848739\n",
       "5         C     2   34.341737\n",
       "6         C     1   23.809524\n",
       "7         B     1   36.694802\n",
       "8         B     2   33.540649\n",
       "9         B     3   29.764549\n",
       "10        A     3   35.117302\n",
       "11        A     1   31.891496\n",
       "12        A     2   32.991202\n",
       "13        E     1   85.928144\n",
       "14        E     2   14.071856"
      ]
     },
     "execution_count": 43,
     "metadata": {},
     "output_type": "execute_result"
    }
   ],
   "source": [
    "#Obtener el total de registros por segmento y clase\n",
    "total_segmento = conteo_total_df.groupby('segmento')['conteo_total'].sum()\n",
    "#Calcular los porcentajes\n",
    "segmentos_percent = conteo_total_df.merge(total_segmento, on='segmento', suffixes=('', '_total'))\n",
    "segmentos_percent['porcentaje'] = segmentos_percent['conteo_total'] / segmentos_percent['conteo_total_total'] * 100\n",
    "#Seleccionar las columnas necesarias y eliminar las columnas auxiliares\n",
    "segmentos_percent = segmentos_percent[['segmento', 'clase', 'porcentaje']]\n",
    "segmentos_percent"
   ]
  },
  {
   "cell_type": "markdown",
   "metadata": {},
   "source": [
    "Porcentaje de cada clase en relación al % que representa su segmento del total."
   ]
  },
  {
   "cell_type": "code",
   "execution_count": 44,
   "metadata": {},
   "outputs": [
    {
     "data": {
      "text/html": [
       "<div>\n",
       "<style scoped>\n",
       "    .dataframe tbody tr th:only-of-type {\n",
       "        vertical-align: middle;\n",
       "    }\n",
       "\n",
       "    .dataframe tbody tr th {\n",
       "        vertical-align: top;\n",
       "    }\n",
       "\n",
       "    .dataframe thead th {\n",
       "        text-align: right;\n",
       "    }\n",
       "</style>\n",
       "<table border=\"1\" class=\"dataframe\">\n",
       "  <thead>\n",
       "    <tr style=\"text-align: right;\">\n",
       "      <th></th>\n",
       "      <th>segmento</th>\n",
       "      <th>clase</th>\n",
       "      <th>porcentaje_clase</th>\n",
       "    </tr>\n",
       "  </thead>\n",
       "  <tbody>\n",
       "    <tr>\n",
       "      <th>0</th>\n",
       "      <td>A</td>\n",
       "      <td>3</td>\n",
       "      <td>4.834477</td>\n",
       "    </tr>\n",
       "    <tr>\n",
       "      <th>1</th>\n",
       "      <td>A</td>\n",
       "      <td>1</td>\n",
       "      <td>4.390392</td>\n",
       "    </tr>\n",
       "    <tr>\n",
       "      <th>2</th>\n",
       "      <td>A</td>\n",
       "      <td>2</td>\n",
       "      <td>4.541784</td>\n",
       "    </tr>\n",
       "    <tr>\n",
       "      <th>3</th>\n",
       "      <td>B</td>\n",
       "      <td>1</td>\n",
       "      <td>8.336698</td>\n",
       "    </tr>\n",
       "    <tr>\n",
       "      <th>4</th>\n",
       "      <td>B</td>\n",
       "      <td>2</td>\n",
       "      <td>7.620105</td>\n",
       "    </tr>\n",
       "    <tr>\n",
       "      <th>5</th>\n",
       "      <td>B</td>\n",
       "      <td>3</td>\n",
       "      <td>6.762212</td>\n",
       "    </tr>\n",
       "    <tr>\n",
       "      <th>6</th>\n",
       "      <td>C</td>\n",
       "      <td>3</td>\n",
       "      <td>7.539362</td>\n",
       "    </tr>\n",
       "    <tr>\n",
       "      <th>7</th>\n",
       "      <td>C</td>\n",
       "      <td>2</td>\n",
       "      <td>6.186920</td>\n",
       "    </tr>\n",
       "    <tr>\n",
       "      <th>8</th>\n",
       "      <td>C</td>\n",
       "      <td>1</td>\n",
       "      <td>4.289463</td>\n",
       "    </tr>\n",
       "    <tr>\n",
       "      <th>9</th>\n",
       "      <td>D</td>\n",
       "      <td>1</td>\n",
       "      <td>9.255147</td>\n",
       "    </tr>\n",
       "    <tr>\n",
       "      <th>10</th>\n",
       "      <td>D</td>\n",
       "      <td>2</td>\n",
       "      <td>5.672184</td>\n",
       "    </tr>\n",
       "    <tr>\n",
       "      <th>11</th>\n",
       "      <td>D</td>\n",
       "      <td>3</td>\n",
       "      <td>4.420670</td>\n",
       "    </tr>\n",
       "    <tr>\n",
       "      <th>12</th>\n",
       "      <td>E</td>\n",
       "      <td>1</td>\n",
       "      <td>2.896649</td>\n",
       "    </tr>\n",
       "    <tr>\n",
       "      <th>13</th>\n",
       "      <td>E</td>\n",
       "      <td>2</td>\n",
       "      <td>0.474364</td>\n",
       "    </tr>\n",
       "    <tr>\n",
       "      <th>14</th>\n",
       "      <td>S</td>\n",
       "      <td>1</td>\n",
       "      <td>22.779572</td>\n",
       "    </tr>\n",
       "  </tbody>\n",
       "</table>\n",
       "</div>"
      ],
      "text/plain": [
       "   segmento clase  porcentaje_clase\n",
       "0         A     3          4.834477\n",
       "1         A     1          4.390392\n",
       "2         A     2          4.541784\n",
       "3         B     1          8.336698\n",
       "4         B     2          7.620105\n",
       "5         B     3          6.762212\n",
       "6         C     3          7.539362\n",
       "7         C     2          6.186920\n",
       "8         C     1          4.289463\n",
       "9         D     1          9.255147\n",
       "10        D     2          5.672184\n",
       "11        D     3          4.420670\n",
       "12        E     1          2.896649\n",
       "13        E     2          0.474364\n",
       "14        S     1         22.779572"
      ]
     },
     "execution_count": 44,
     "metadata": {},
     "output_type": "execute_result"
    }
   ],
   "source": [
    "temp_dfs = [] # Almacenar los DataFrames temporales de cada segmento\n",
    "# Realizamos un bucle sobre cada segmento\n",
    "for segmento in resultados['segmento'].unique():\n",
    "    # Filtramos las clases correspondientes al segmento actual\n",
    "    clases_segmento = segmentos_percent[segmentos_percent['segmento'] == segmento]\n",
    "    \n",
    "    # Calculamos el total de porcentaje del segmento actual\n",
    "    total_porcentaje_segmento = resultados[resultados['segmento'] == segmento]['porcentaje_del_total'].iloc[0]\n",
    "    \n",
    "    # Calculamos el porcentaje que representa cada clase en relación al porcentaje del segmento\n",
    "    porcentaje_clase = (clases_segmento['porcentaje'] / 100) * total_porcentaje_segmento\n",
    "    \n",
    "    # DataFrame temporal para el segmento actual\n",
    "    temp_df = pd.DataFrame({\n",
    "        'segmento': [segmento] * len(clases_segmento),\n",
    "        'clase': clases_segmento['clase'].values,\n",
    "        'porcentaje_clase': porcentaje_clase#.round()\n",
    "    })\n",
    "    \n",
    "    # Agrega DataFrame temporal a la lista\n",
    "    temp_dfs.append(temp_df)\n",
    "\n",
    "# Concatena todos los DataFrames temporales en un solo DataFrame\n",
    "porcentajes_clase = pd.concat(temp_dfs, ignore_index=True)\n",
    "porcentajes_clase"
   ]
  },
  {
   "cell_type": "code",
   "execution_count": 45,
   "metadata": {},
   "outputs": [
    {
     "data": {
      "text/html": [
       "<div>\n",
       "<style scoped>\n",
       "    .dataframe tbody tr th:only-of-type {\n",
       "        vertical-align: middle;\n",
       "    }\n",
       "\n",
       "    .dataframe tbody tr th {\n",
       "        vertical-align: top;\n",
       "    }\n",
       "\n",
       "    .dataframe thead th {\n",
       "        text-align: right;\n",
       "    }\n",
       "</style>\n",
       "<table border=\"1\" class=\"dataframe\">\n",
       "  <thead>\n",
       "    <tr style=\"text-align: right;\">\n",
       "      <th>clase</th>\n",
       "      <th>1</th>\n",
       "      <th>2</th>\n",
       "      <th>3</th>\n",
       "    </tr>\n",
       "    <tr>\n",
       "      <th>segmento</th>\n",
       "      <th></th>\n",
       "      <th></th>\n",
       "      <th></th>\n",
       "    </tr>\n",
       "  </thead>\n",
       "  <tbody>\n",
       "    <tr>\n",
       "      <th>A</th>\n",
       "      <td>4.390392</td>\n",
       "      <td>4.541784</td>\n",
       "      <td>4.834477</td>\n",
       "    </tr>\n",
       "    <tr>\n",
       "      <th>B</th>\n",
       "      <td>8.336698</td>\n",
       "      <td>7.620105</td>\n",
       "      <td>6.762212</td>\n",
       "    </tr>\n",
       "    <tr>\n",
       "      <th>C</th>\n",
       "      <td>4.289463</td>\n",
       "      <td>6.186920</td>\n",
       "      <td>7.539362</td>\n",
       "    </tr>\n",
       "    <tr>\n",
       "      <th>D</th>\n",
       "      <td>9.255147</td>\n",
       "      <td>5.672184</td>\n",
       "      <td>4.420670</td>\n",
       "    </tr>\n",
       "    <tr>\n",
       "      <th>E</th>\n",
       "      <td>2.896649</td>\n",
       "      <td>0.474364</td>\n",
       "      <td>0.000000</td>\n",
       "    </tr>\n",
       "    <tr>\n",
       "      <th>S</th>\n",
       "      <td>22.779572</td>\n",
       "      <td>0.000000</td>\n",
       "      <td>0.000000</td>\n",
       "    </tr>\n",
       "  </tbody>\n",
       "</table>\n",
       "</div>"
      ],
      "text/plain": [
       "clase             1         2         3\n",
       "segmento                               \n",
       "A          4.390392  4.541784  4.834477\n",
       "B          8.336698  7.620105  6.762212\n",
       "C          4.289463  6.186920  7.539362\n",
       "D          9.255147  5.672184  4.420670\n",
       "E          2.896649  0.474364  0.000000\n",
       "S         22.779572  0.000000  0.000000"
      ]
     },
     "execution_count": 45,
     "metadata": {},
     "output_type": "execute_result"
    }
   ],
   "source": [
    "porcentajes_clase_ordenado = porcentajes_clase.pivot(index='segmento', columns='clase', values='porcentaje_clase')\n",
    "porcentajes_clase_ordenado.fillna(0, inplace=True)\n",
    "porcentajes_clase_ordenado"
   ]
  },
  {
   "cell_type": "markdown",
   "metadata": {},
   "source": [
    "### *Gráfica* "
   ]
  },
  {
   "cell_type": "code",
   "execution_count": 46,
   "metadata": {},
   "outputs": [
    {
     "data": {
      "application/vnd.plotly.v1+json": {
       "config": {
        "plotlyServerURL": "https://plot.ly"
       },
       "data": [
        {
         "marker": {
          "color": "#2962ff"
         },
         "name": "1",
         "orientation": "h",
         "text": [
          "2.90%",
          "9.26%",
          "4.29%",
          "8.34%",
          "4.39%",
          "22.78%"
         ],
         "textposition": "auto",
         "type": "bar",
         "x": [
          2.8966491723859513,
          9.255147355672184,
          4.289463060153411,
          8.336697618086395,
          4.390391602745256,
          22.779572062979412
         ],
         "y": [
          "E",
          "D",
          "C",
          "B",
          "A",
          "S"
         ]
        },
        {
         "marker": {
          "color": "#9500ff"
         },
         "name": "2",
         "orientation": "h",
         "text": [
          "0.47%",
          "5.67%",
          "6.19%",
          "7.62%",
          "4.54%",
          "0.00%"
         ],
         "textposition": "auto",
         "type": "bar",
         "x": [
          0.47436415018167144,
          5.672184093661687,
          6.186919660880097,
          7.6201049656842965,
          4.541784416633023,
          0
         ],
         "y": [
          "E",
          "D",
          "C",
          "B",
          "A",
          "S"
         ]
        },
        {
         "marker": {
          "color": "#ff0059"
         },
         "name": "3",
         "orientation": "h",
         "text": [
          "0.00%",
          "4.42%",
          "7.54%",
          "6.76%",
          "4.83%",
          "0.00%"
         ],
         "textposition": "auto",
         "type": "bar",
         "x": [
          0,
          4.42067016552281,
          7.53936213161082,
          6.762212353653613,
          4.834477190149374,
          0
         ],
         "y": [
          "E",
          "D",
          "C",
          "B",
          "A",
          "S"
         ]
        }
       ],
       "layout": {
        "barmode": "stack",
        "legend": {
         "orientation": "h",
         "title": {
          "text": "Clase"
         },
         "x": 1,
         "xanchor": "right",
         "y": 1.02,
         "yanchor": "bottom"
        },
        "margin": {
         "b": 10,
         "l": 10,
         "r": 10,
         "t": 10
        },
        "plot_bgcolor": "rgba(0,0,0,0)",
        "template": {
         "data": {
          "bar": [
           {
            "error_x": {
             "color": "#2a3f5f"
            },
            "error_y": {
             "color": "#2a3f5f"
            },
            "marker": {
             "line": {
              "color": "#E5ECF6",
              "width": 0.5
             },
             "pattern": {
              "fillmode": "overlay",
              "size": 10,
              "solidity": 0.2
             }
            },
            "type": "bar"
           }
          ],
          "barpolar": [
           {
            "marker": {
             "line": {
              "color": "#E5ECF6",
              "width": 0.5
             },
             "pattern": {
              "fillmode": "overlay",
              "size": 10,
              "solidity": 0.2
             }
            },
            "type": "barpolar"
           }
          ],
          "carpet": [
           {
            "aaxis": {
             "endlinecolor": "#2a3f5f",
             "gridcolor": "white",
             "linecolor": "white",
             "minorgridcolor": "white",
             "startlinecolor": "#2a3f5f"
            },
            "baxis": {
             "endlinecolor": "#2a3f5f",
             "gridcolor": "white",
             "linecolor": "white",
             "minorgridcolor": "white",
             "startlinecolor": "#2a3f5f"
            },
            "type": "carpet"
           }
          ],
          "choropleth": [
           {
            "colorbar": {
             "outlinewidth": 0,
             "ticks": ""
            },
            "type": "choropleth"
           }
          ],
          "contour": [
           {
            "colorbar": {
             "outlinewidth": 0,
             "ticks": ""
            },
            "colorscale": [
             [
              0,
              "#0d0887"
             ],
             [
              0.1111111111111111,
              "#46039f"
             ],
             [
              0.2222222222222222,
              "#7201a8"
             ],
             [
              0.3333333333333333,
              "#9c179e"
             ],
             [
              0.4444444444444444,
              "#bd3786"
             ],
             [
              0.5555555555555556,
              "#d8576b"
             ],
             [
              0.6666666666666666,
              "#ed7953"
             ],
             [
              0.7777777777777778,
              "#fb9f3a"
             ],
             [
              0.8888888888888888,
              "#fdca26"
             ],
             [
              1,
              "#f0f921"
             ]
            ],
            "type": "contour"
           }
          ],
          "contourcarpet": [
           {
            "colorbar": {
             "outlinewidth": 0,
             "ticks": ""
            },
            "type": "contourcarpet"
           }
          ],
          "heatmap": [
           {
            "colorbar": {
             "outlinewidth": 0,
             "ticks": ""
            },
            "colorscale": [
             [
              0,
              "#0d0887"
             ],
             [
              0.1111111111111111,
              "#46039f"
             ],
             [
              0.2222222222222222,
              "#7201a8"
             ],
             [
              0.3333333333333333,
              "#9c179e"
             ],
             [
              0.4444444444444444,
              "#bd3786"
             ],
             [
              0.5555555555555556,
              "#d8576b"
             ],
             [
              0.6666666666666666,
              "#ed7953"
             ],
             [
              0.7777777777777778,
              "#fb9f3a"
             ],
             [
              0.8888888888888888,
              "#fdca26"
             ],
             [
              1,
              "#f0f921"
             ]
            ],
            "type": "heatmap"
           }
          ],
          "heatmapgl": [
           {
            "colorbar": {
             "outlinewidth": 0,
             "ticks": ""
            },
            "colorscale": [
             [
              0,
              "#0d0887"
             ],
             [
              0.1111111111111111,
              "#46039f"
             ],
             [
              0.2222222222222222,
              "#7201a8"
             ],
             [
              0.3333333333333333,
              "#9c179e"
             ],
             [
              0.4444444444444444,
              "#bd3786"
             ],
             [
              0.5555555555555556,
              "#d8576b"
             ],
             [
              0.6666666666666666,
              "#ed7953"
             ],
             [
              0.7777777777777778,
              "#fb9f3a"
             ],
             [
              0.8888888888888888,
              "#fdca26"
             ],
             [
              1,
              "#f0f921"
             ]
            ],
            "type": "heatmapgl"
           }
          ],
          "histogram": [
           {
            "marker": {
             "pattern": {
              "fillmode": "overlay",
              "size": 10,
              "solidity": 0.2
             }
            },
            "type": "histogram"
           }
          ],
          "histogram2d": [
           {
            "colorbar": {
             "outlinewidth": 0,
             "ticks": ""
            },
            "colorscale": [
             [
              0,
              "#0d0887"
             ],
             [
              0.1111111111111111,
              "#46039f"
             ],
             [
              0.2222222222222222,
              "#7201a8"
             ],
             [
              0.3333333333333333,
              "#9c179e"
             ],
             [
              0.4444444444444444,
              "#bd3786"
             ],
             [
              0.5555555555555556,
              "#d8576b"
             ],
             [
              0.6666666666666666,
              "#ed7953"
             ],
             [
              0.7777777777777778,
              "#fb9f3a"
             ],
             [
              0.8888888888888888,
              "#fdca26"
             ],
             [
              1,
              "#f0f921"
             ]
            ],
            "type": "histogram2d"
           }
          ],
          "histogram2dcontour": [
           {
            "colorbar": {
             "outlinewidth": 0,
             "ticks": ""
            },
            "colorscale": [
             [
              0,
              "#0d0887"
             ],
             [
              0.1111111111111111,
              "#46039f"
             ],
             [
              0.2222222222222222,
              "#7201a8"
             ],
             [
              0.3333333333333333,
              "#9c179e"
             ],
             [
              0.4444444444444444,
              "#bd3786"
             ],
             [
              0.5555555555555556,
              "#d8576b"
             ],
             [
              0.6666666666666666,
              "#ed7953"
             ],
             [
              0.7777777777777778,
              "#fb9f3a"
             ],
             [
              0.8888888888888888,
              "#fdca26"
             ],
             [
              1,
              "#f0f921"
             ]
            ],
            "type": "histogram2dcontour"
           }
          ],
          "mesh3d": [
           {
            "colorbar": {
             "outlinewidth": 0,
             "ticks": ""
            },
            "type": "mesh3d"
           }
          ],
          "parcoords": [
           {
            "line": {
             "colorbar": {
              "outlinewidth": 0,
              "ticks": ""
             }
            },
            "type": "parcoords"
           }
          ],
          "pie": [
           {
            "automargin": true,
            "type": "pie"
           }
          ],
          "scatter": [
           {
            "fillpattern": {
             "fillmode": "overlay",
             "size": 10,
             "solidity": 0.2
            },
            "type": "scatter"
           }
          ],
          "scatter3d": [
           {
            "line": {
             "colorbar": {
              "outlinewidth": 0,
              "ticks": ""
             }
            },
            "marker": {
             "colorbar": {
              "outlinewidth": 0,
              "ticks": ""
             }
            },
            "type": "scatter3d"
           }
          ],
          "scattercarpet": [
           {
            "marker": {
             "colorbar": {
              "outlinewidth": 0,
              "ticks": ""
             }
            },
            "type": "scattercarpet"
           }
          ],
          "scattergeo": [
           {
            "marker": {
             "colorbar": {
              "outlinewidth": 0,
              "ticks": ""
             }
            },
            "type": "scattergeo"
           }
          ],
          "scattergl": [
           {
            "marker": {
             "colorbar": {
              "outlinewidth": 0,
              "ticks": ""
             }
            },
            "type": "scattergl"
           }
          ],
          "scattermapbox": [
           {
            "marker": {
             "colorbar": {
              "outlinewidth": 0,
              "ticks": ""
             }
            },
            "type": "scattermapbox"
           }
          ],
          "scatterpolar": [
           {
            "marker": {
             "colorbar": {
              "outlinewidth": 0,
              "ticks": ""
             }
            },
            "type": "scatterpolar"
           }
          ],
          "scatterpolargl": [
           {
            "marker": {
             "colorbar": {
              "outlinewidth": 0,
              "ticks": ""
             }
            },
            "type": "scatterpolargl"
           }
          ],
          "scatterternary": [
           {
            "marker": {
             "colorbar": {
              "outlinewidth": 0,
              "ticks": ""
             }
            },
            "type": "scatterternary"
           }
          ],
          "surface": [
           {
            "colorbar": {
             "outlinewidth": 0,
             "ticks": ""
            },
            "colorscale": [
             [
              0,
              "#0d0887"
             ],
             [
              0.1111111111111111,
              "#46039f"
             ],
             [
              0.2222222222222222,
              "#7201a8"
             ],
             [
              0.3333333333333333,
              "#9c179e"
             ],
             [
              0.4444444444444444,
              "#bd3786"
             ],
             [
              0.5555555555555556,
              "#d8576b"
             ],
             [
              0.6666666666666666,
              "#ed7953"
             ],
             [
              0.7777777777777778,
              "#fb9f3a"
             ],
             [
              0.8888888888888888,
              "#fdca26"
             ],
             [
              1,
              "#f0f921"
             ]
            ],
            "type": "surface"
           }
          ],
          "table": [
           {
            "cells": {
             "fill": {
              "color": "#EBF0F8"
             },
             "line": {
              "color": "white"
             }
            },
            "header": {
             "fill": {
              "color": "#C8D4E3"
             },
             "line": {
              "color": "white"
             }
            },
            "type": "table"
           }
          ]
         },
         "layout": {
          "annotationdefaults": {
           "arrowcolor": "#2a3f5f",
           "arrowhead": 0,
           "arrowwidth": 1
          },
          "autotypenumbers": "strict",
          "coloraxis": {
           "colorbar": {
            "outlinewidth": 0,
            "ticks": ""
           }
          },
          "colorscale": {
           "diverging": [
            [
             0,
             "#8e0152"
            ],
            [
             0.1,
             "#c51b7d"
            ],
            [
             0.2,
             "#de77ae"
            ],
            [
             0.3,
             "#f1b6da"
            ],
            [
             0.4,
             "#fde0ef"
            ],
            [
             0.5,
             "#f7f7f7"
            ],
            [
             0.6,
             "#e6f5d0"
            ],
            [
             0.7,
             "#b8e186"
            ],
            [
             0.8,
             "#7fbc41"
            ],
            [
             0.9,
             "#4d9221"
            ],
            [
             1,
             "#276419"
            ]
           ],
           "sequential": [
            [
             0,
             "#0d0887"
            ],
            [
             0.1111111111111111,
             "#46039f"
            ],
            [
             0.2222222222222222,
             "#7201a8"
            ],
            [
             0.3333333333333333,
             "#9c179e"
            ],
            [
             0.4444444444444444,
             "#bd3786"
            ],
            [
             0.5555555555555556,
             "#d8576b"
            ],
            [
             0.6666666666666666,
             "#ed7953"
            ],
            [
             0.7777777777777778,
             "#fb9f3a"
            ],
            [
             0.8888888888888888,
             "#fdca26"
            ],
            [
             1,
             "#f0f921"
            ]
           ],
           "sequentialminus": [
            [
             0,
             "#0d0887"
            ],
            [
             0.1111111111111111,
             "#46039f"
            ],
            [
             0.2222222222222222,
             "#7201a8"
            ],
            [
             0.3333333333333333,
             "#9c179e"
            ],
            [
             0.4444444444444444,
             "#bd3786"
            ],
            [
             0.5555555555555556,
             "#d8576b"
            ],
            [
             0.6666666666666666,
             "#ed7953"
            ],
            [
             0.7777777777777778,
             "#fb9f3a"
            ],
            [
             0.8888888888888888,
             "#fdca26"
            ],
            [
             1,
             "#f0f921"
            ]
           ]
          },
          "colorway": [
           "#636efa",
           "#EF553B",
           "#00cc96",
           "#ab63fa",
           "#FFA15A",
           "#19d3f3",
           "#FF6692",
           "#B6E880",
           "#FF97FF",
           "#FECB52"
          ],
          "font": {
           "color": "#2a3f5f"
          },
          "geo": {
           "bgcolor": "white",
           "lakecolor": "white",
           "landcolor": "#E5ECF6",
           "showlakes": true,
           "showland": true,
           "subunitcolor": "white"
          },
          "hoverlabel": {
           "align": "left"
          },
          "hovermode": "closest",
          "mapbox": {
           "style": "light"
          },
          "paper_bgcolor": "white",
          "plot_bgcolor": "#E5ECF6",
          "polar": {
           "angularaxis": {
            "gridcolor": "white",
            "linecolor": "white",
            "ticks": ""
           },
           "bgcolor": "#E5ECF6",
           "radialaxis": {
            "gridcolor": "white",
            "linecolor": "white",
            "ticks": ""
           }
          },
          "scene": {
           "xaxis": {
            "backgroundcolor": "#E5ECF6",
            "gridcolor": "white",
            "gridwidth": 2,
            "linecolor": "white",
            "showbackground": true,
            "ticks": "",
            "zerolinecolor": "white"
           },
           "yaxis": {
            "backgroundcolor": "#E5ECF6",
            "gridcolor": "white",
            "gridwidth": 2,
            "linecolor": "white",
            "showbackground": true,
            "ticks": "",
            "zerolinecolor": "white"
           },
           "zaxis": {
            "backgroundcolor": "#E5ECF6",
            "gridcolor": "white",
            "gridwidth": 2,
            "linecolor": "white",
            "showbackground": true,
            "ticks": "",
            "zerolinecolor": "white"
           }
          },
          "shapedefaults": {
           "line": {
            "color": "#2a3f5f"
           }
          },
          "ternary": {
           "aaxis": {
            "gridcolor": "white",
            "linecolor": "white",
            "ticks": ""
           },
           "baxis": {
            "gridcolor": "white",
            "linecolor": "white",
            "ticks": ""
           },
           "bgcolor": "#E5ECF6",
           "caxis": {
            "gridcolor": "white",
            "linecolor": "white",
            "ticks": ""
           }
          },
          "title": {
           "x": 0.05
          },
          "xaxis": {
           "automargin": true,
           "gridcolor": "white",
           "linecolor": "white",
           "ticks": "",
           "title": {
            "standoff": 15
           },
           "zerolinecolor": "white",
           "zerolinewidth": 2
          },
          "yaxis": {
           "automargin": true,
           "gridcolor": "white",
           "linecolor": "white",
           "ticks": "",
           "title": {
            "standoff": 15
           },
           "zerolinecolor": "white",
           "zerolinewidth": 2
          }
         }
        },
        "xaxis": {
         "gridcolor": "#dddcda",
         "gridwidth": 1,
         "title": {
          "text": "Porcentaje"
         }
        },
        "yaxis": {
         "title": {
          "text": "Segmento"
         }
        }
       }
      }
     },
     "metadata": {},
     "output_type": "display_data"
    }
   ],
   "source": [
    "# Mantener orden en barras\n",
    "segmentos = list(porcentajes_clase_ordenado.index)\n",
    "segmentos_sorted = ['E','D','C','B','A','S']  # Orden deseado\n",
    "segmentos_sorted.extend([segmento for segmento in segmentos if segmento not in segmentos_sorted])  # Agregar los segmentos restantes\n",
    "clases = porcentajes_clase_ordenado.columns # Clases como etiquetas de las series de datos\n",
    "clases = ['1', '2', '3']  # Clases en el orden deseado\n",
    "# Definir los colores por clase\n",
    "colores = {\n",
    "    '1': '#2962ff',\n",
    "    '2': '#9500ff',\n",
    "    '3': '#ff0059'\n",
    "}\n",
    "# Almacenar las barras de cada clase\n",
    "barras = []\n",
    "for clase in clases:\n",
    "    barras.append(go.Bar(\n",
    "        y=segmentos_sorted,  # Eje y: Segmentos\n",
    "        x=porcentajes_clase_ordenado.loc[segmentos_sorted, clase],  # Eje x: Porcentajes de clase\n",
    "        name=f'{clase}',  # Nombre de la serie de datos\n",
    "        orientation='h',  # Orientación horizontal\n",
    "        text=porcentajes_clase_ordenado.loc[segmentos_sorted, clase].apply(lambda x: f'{x:.2f}%'),  # Texto con los porcentajes\n",
    "        textposition='auto',  # Posición automática del texto\n",
    "        marker_color=colores[clase]   # Color de las barras\n",
    "    ))\n",
    "fig = go.Figure(data=barras)\n",
    "fig.update_layout(\n",
    "    #title='Distribución de segmentos',\n",
    "    yaxis=dict(\n",
    "        title='Segmento', # Título del eje y\n",
    "        #gridcolor='#dddcda', # Color de las líneas que dividen los rangos del eje Y\n",
    "        #gridwidth=1,\n",
    "    ),\n",
    "    legend_title=\"Clase\",\n",
    "        barmode='stack',\n",
    "        legend=dict(\n",
    "            orientation='h',  # Orientación horizontal de la leyenda\n",
    "            yanchor='bottom',  # Anclar al borde inferior\n",
    "            y=1.02,  # Colocar la leyenda justo debajo del gráfico\n",
    "            xanchor='right',\n",
    "            x=1\n",
    "        ),\n",
    "    plot_bgcolor='rgba(0,0,0,0)',  # Color de fondo del gráfico      \n",
    "    xaxis=dict(\n",
    "        title='Porcentaje', # Título del eje x\n",
    "        gridcolor='#dddcda', # Color de las líneas que dividen los rangos del eje Y\n",
    "        gridwidth=1,\n",
    "    ),  \n",
    "        margin=dict(l=10, r=10, t=10, b=10)  # Ajusta los márgenes (left, right, top, bottom)\n",
    "\n",
    ")\n",
    "\n",
    "# Exportar gráfica como archivo HTML\n",
    "def guardar_grafico_como_html(fig, nombre_archivo, carpeta='graficas'):\n",
    "    # Crear la carpeta si no existe\n",
    "    if not os.path.exists(carpeta):\n",
    "        os.makedirs(carpeta)\n",
    "    # Gráfica como archivo HTML en la carpeta especificada\n",
    "    pio.write_html(fig, f'{carpeta}/{nombre_archivo}.html')\n",
    "guardar_grafico_como_html(fig, 'g_bar_distsegmentos_pachuca', carpeta='graficas')\n",
    "\n",
    "fig.show()"
   ]
  },
  {
   "cell_type": "markdown",
   "metadata": {},
   "source": [
    "## **TULANCINGO**"
   ]
  },
  {
   "cell_type": "code",
   "execution_count": 28,
   "metadata": {},
   "outputs": [],
   "source": [
    "seg_jul_2022_tulgo = df_alfa_q_jul_2022_tulancingo[['categoria']]\n",
    "seg_jul_2023_tulgo = df_alfa_q_jul_2023_tulancingo[['categoria']]\n",
    "seg_jun_2023_tulgo = df_alfa_q_jun_2023_tulancingo[['categoria']]\n",
    "seg_mar_2023_tulgo = df_alfa_q_mar_2023_tulancingo[['categoria']]\n",
    "seg_may_2022_tulgo = df_alfa_q_may_2022_tulancingo[['categoria']]\n",
    "seg_may_2023_tulgo = df_alfa_q_may_2023_tulancingo[['categoria']]\n",
    "seg_oct_2022_tulgo = df_alfa_q_oct_2022_tulancingo[['categoria']]\n",
    "seg_oct_2023_tulgo = df_alfa_q_oct_2023_tulancingo[['categoria']]\n",
    "seg_sep_2023_tulgo = df_alfa_q_sep_2023_tulancingo[['categoria']]"
   ]
  },
  {
   "cell_type": "code",
   "execution_count": 29,
   "metadata": {},
   "outputs": [
    {
     "data": {
      "text/html": [
       "<div>\n",
       "<style scoped>\n",
       "    .dataframe tbody tr th:only-of-type {\n",
       "        vertical-align: middle;\n",
       "    }\n",
       "\n",
       "    .dataframe tbody tr th {\n",
       "        vertical-align: top;\n",
       "    }\n",
       "\n",
       "    .dataframe thead th {\n",
       "        text-align: right;\n",
       "    }\n",
       "</style>\n",
       "<table border=\"1\" class=\"dataframe\">\n",
       "  <thead>\n",
       "    <tr style=\"text-align: right;\">\n",
       "      <th></th>\n",
       "      <th>categoria</th>\n",
       "      <th>conteo_total</th>\n",
       "    </tr>\n",
       "  </thead>\n",
       "  <tbody>\n",
       "    <tr>\n",
       "      <th>0</th>\n",
       "      <td>C2</td>\n",
       "      <td>75</td>\n",
       "    </tr>\n",
       "    <tr>\n",
       "      <th>1</th>\n",
       "      <td>D2</td>\n",
       "      <td>125</td>\n",
       "    </tr>\n",
       "    <tr>\n",
       "      <th>2</th>\n",
       "      <td>D3</td>\n",
       "      <td>169</td>\n",
       "    </tr>\n",
       "    <tr>\n",
       "      <th>3</th>\n",
       "      <td>E1</td>\n",
       "      <td>144</td>\n",
       "    </tr>\n",
       "    <tr>\n",
       "      <th>4</th>\n",
       "      <td>D1</td>\n",
       "      <td>87</td>\n",
       "    </tr>\n",
       "    <tr>\n",
       "      <th>5</th>\n",
       "      <td>C3</td>\n",
       "      <td>68</td>\n",
       "    </tr>\n",
       "    <tr>\n",
       "      <th>6</th>\n",
       "      <td>B3</td>\n",
       "      <td>23</td>\n",
       "    </tr>\n",
       "    <tr>\n",
       "      <th>7</th>\n",
       "      <td>B1</td>\n",
       "      <td>30</td>\n",
       "    </tr>\n",
       "    <tr>\n",
       "      <th>8</th>\n",
       "      <td>A2</td>\n",
       "      <td>20</td>\n",
       "    </tr>\n",
       "    <tr>\n",
       "      <th>9</th>\n",
       "      <td>S</td>\n",
       "      <td>97</td>\n",
       "    </tr>\n",
       "    <tr>\n",
       "      <th>10</th>\n",
       "      <td>B2</td>\n",
       "      <td>22</td>\n",
       "    </tr>\n",
       "    <tr>\n",
       "      <th>11</th>\n",
       "      <td>E2</td>\n",
       "      <td>18</td>\n",
       "    </tr>\n",
       "    <tr>\n",
       "      <th>12</th>\n",
       "      <td>A3</td>\n",
       "      <td>21</td>\n",
       "    </tr>\n",
       "    <tr>\n",
       "      <th>13</th>\n",
       "      <td>C1</td>\n",
       "      <td>35</td>\n",
       "    </tr>\n",
       "    <tr>\n",
       "      <th>14</th>\n",
       "      <td>A1</td>\n",
       "      <td>17</td>\n",
       "    </tr>\n",
       "  </tbody>\n",
       "</table>\n",
       "</div>"
      ],
      "text/plain": [
       "   categoria  conteo_total\n",
       "0         C2            75\n",
       "1         D2           125\n",
       "2         D3           169\n",
       "3         E1           144\n",
       "4         D1            87\n",
       "5         C3            68\n",
       "6         B3            23\n",
       "7         B1            30\n",
       "8         A2            20\n",
       "9          S            97\n",
       "10        B2            22\n",
       "11        E2            18\n",
       "12        A3            21\n",
       "13        C1            35\n",
       "14        A1            17"
      ]
     },
     "execution_count": 29,
     "metadata": {},
     "output_type": "execute_result"
    }
   ],
   "source": [
    "dataframes_list = [\n",
    "    seg_jul_2022_tulgo,\n",
    "    seg_jul_2023_tulgo,\n",
    "    seg_jun_2023_tulgo,\n",
    "    seg_mar_2023_tulgo,\n",
    "    seg_may_2022_tulgo,\n",
    "    seg_may_2023_tulgo,\n",
    "    seg_oct_2022_tulgo,\n",
    "    seg_oct_2023_tulgo,\n",
    "    seg_sep_2023_tulgo\n",
    "]\n",
    "conteo_total = {}\n",
    "\n",
    "# Iterar sobre la lista de DataFrames\n",
    "for df in dataframes_list:\n",
    "    # Calcular el conteo de valores únicos de 'categoria' en el DataFrame actual\n",
    "    conteo_actual = df['categoria'].value_counts().to_dict()\n",
    "    # Agregar el conteo actual al conteo total\n",
    "    for categoria, conteo in conteo_actual.items():\n",
    "        conteo_total[categoria] = conteo_total.get(categoria, 0) + conteo\n",
    "\n",
    "# Convertir el diccionario a un DataFrame\n",
    "conteo_total_df = pd.DataFrame(list(conteo_total.items()), columns=['categoria', 'conteo_total'])\n",
    "conteo_total_df"
   ]
  },
  {
   "cell_type": "code",
   "execution_count": 30,
   "metadata": {},
   "outputs": [
    {
     "data": {
      "text/html": [
       "<div>\n",
       "<style scoped>\n",
       "    .dataframe tbody tr th:only-of-type {\n",
       "        vertical-align: middle;\n",
       "    }\n",
       "\n",
       "    .dataframe tbody tr th {\n",
       "        vertical-align: top;\n",
       "    }\n",
       "\n",
       "    .dataframe thead th {\n",
       "        text-align: right;\n",
       "    }\n",
       "</style>\n",
       "<table border=\"1\" class=\"dataframe\">\n",
       "  <thead>\n",
       "    <tr style=\"text-align: right;\">\n",
       "      <th></th>\n",
       "      <th>conteo_total</th>\n",
       "      <th>segmento</th>\n",
       "      <th>clase</th>\n",
       "    </tr>\n",
       "  </thead>\n",
       "  <tbody>\n",
       "    <tr>\n",
       "      <th>0</th>\n",
       "      <td>75</td>\n",
       "      <td>C</td>\n",
       "      <td>2</td>\n",
       "    </tr>\n",
       "    <tr>\n",
       "      <th>1</th>\n",
       "      <td>125</td>\n",
       "      <td>D</td>\n",
       "      <td>2</td>\n",
       "    </tr>\n",
       "    <tr>\n",
       "      <th>2</th>\n",
       "      <td>169</td>\n",
       "      <td>D</td>\n",
       "      <td>3</td>\n",
       "    </tr>\n",
       "    <tr>\n",
       "      <th>3</th>\n",
       "      <td>144</td>\n",
       "      <td>E</td>\n",
       "      <td>1</td>\n",
       "    </tr>\n",
       "    <tr>\n",
       "      <th>4</th>\n",
       "      <td>87</td>\n",
       "      <td>D</td>\n",
       "      <td>1</td>\n",
       "    </tr>\n",
       "    <tr>\n",
       "      <th>5</th>\n",
       "      <td>68</td>\n",
       "      <td>C</td>\n",
       "      <td>3</td>\n",
       "    </tr>\n",
       "    <tr>\n",
       "      <th>6</th>\n",
       "      <td>23</td>\n",
       "      <td>B</td>\n",
       "      <td>3</td>\n",
       "    </tr>\n",
       "    <tr>\n",
       "      <th>7</th>\n",
       "      <td>30</td>\n",
       "      <td>B</td>\n",
       "      <td>1</td>\n",
       "    </tr>\n",
       "    <tr>\n",
       "      <th>8</th>\n",
       "      <td>20</td>\n",
       "      <td>A</td>\n",
       "      <td>2</td>\n",
       "    </tr>\n",
       "    <tr>\n",
       "      <th>9</th>\n",
       "      <td>97</td>\n",
       "      <td>S</td>\n",
       "      <td>1</td>\n",
       "    </tr>\n",
       "    <tr>\n",
       "      <th>10</th>\n",
       "      <td>22</td>\n",
       "      <td>B</td>\n",
       "      <td>2</td>\n",
       "    </tr>\n",
       "    <tr>\n",
       "      <th>11</th>\n",
       "      <td>18</td>\n",
       "      <td>E</td>\n",
       "      <td>2</td>\n",
       "    </tr>\n",
       "    <tr>\n",
       "      <th>12</th>\n",
       "      <td>21</td>\n",
       "      <td>A</td>\n",
       "      <td>3</td>\n",
       "    </tr>\n",
       "    <tr>\n",
       "      <th>13</th>\n",
       "      <td>35</td>\n",
       "      <td>C</td>\n",
       "      <td>1</td>\n",
       "    </tr>\n",
       "    <tr>\n",
       "      <th>14</th>\n",
       "      <td>17</td>\n",
       "      <td>A</td>\n",
       "      <td>1</td>\n",
       "    </tr>\n",
       "    <tr>\n",
       "      <th>15</th>\n",
       "      <td>0</td>\n",
       "      <td>E</td>\n",
       "      <td>3</td>\n",
       "    </tr>\n",
       "  </tbody>\n",
       "</table>\n",
       "</div>"
      ],
      "text/plain": [
       "    conteo_total segmento clase\n",
       "0             75        C     2\n",
       "1            125        D     2\n",
       "2            169        D     3\n",
       "3            144        E     1\n",
       "4             87        D     1\n",
       "5             68        C     3\n",
       "6             23        B     3\n",
       "7             30        B     1\n",
       "8             20        A     2\n",
       "9             97        S     1\n",
       "10            22        B     2\n",
       "11            18        E     2\n",
       "12            21        A     3\n",
       "13            35        C     1\n",
       "14            17        A     1\n",
       "15             0        E     3"
      ]
     },
     "execution_count": 30,
     "metadata": {},
     "output_type": "execute_result"
    }
   ],
   "source": [
    "# Añadir una nuevas columnas que extraigan el número y letra de la categoría\n",
    "conteo_total_df['segmento'] = conteo_total_df['categoria'].str[0]\n",
    "conteo_total_df['clase'] = conteo_total_df['categoria'].str.extract(r'(\\d+)').fillna('1')\n",
    "conteo_total_df.drop(columns=['categoria'], inplace=True)\n",
    "\n",
    "# Añadir una nueva fila como un DataFrame\n",
    "nueva_fila_df = pd.DataFrame({'conteo_total': [0], 'segmento': ['E'], 'clase': ['3']})\n",
    "# Concatenar el DataFrame original con la nueva fila\n",
    "conteo_total_dfs = pd.concat([conteo_total_df, nueva_fila_df], ignore_index=True)\n",
    "conteo_total_dfs"
   ]
  },
  {
   "cell_type": "code",
   "execution_count": 31,
   "metadata": {},
   "outputs": [
    {
     "data": {
      "text/plain": [
       "segmento  clase\n",
       "A         1         17\n",
       "          2         20\n",
       "          3         21\n",
       "B         1         30\n",
       "          2         22\n",
       "          3         23\n",
       "C         1         35\n",
       "          2         75\n",
       "          3         68\n",
       "D         1         87\n",
       "          2        125\n",
       "          3        169\n",
       "E         1        144\n",
       "          2         18\n",
       "          3          0\n",
       "S         1         97\n",
       "Name: conteo_total, dtype: int64"
      ]
     },
     "execution_count": 31,
     "metadata": {},
     "output_type": "execute_result"
    }
   ],
   "source": [
    "#segmentos_dist = conteo_total_df.groupby(['segmento', 'clase']) # Agrupar\n",
    "segmentos_dist = conteo_total_dfs.groupby(['segmento', 'clase'])['conteo_total'].sum()\n",
    "segmentos_dist"
   ]
  },
  {
   "cell_type": "markdown",
   "metadata": {},
   "source": [
    "Totales de registros por segmento"
   ]
  },
  {
   "cell_type": "code",
   "execution_count": 32,
   "metadata": {},
   "outputs": [
    {
     "name": "stdout",
     "output_type": "stream",
     "text": [
      "Total de registros:  951\n"
     ]
    },
    {
     "data": {
      "text/html": [
       "<div>\n",
       "<style scoped>\n",
       "    .dataframe tbody tr th:only-of-type {\n",
       "        vertical-align: middle;\n",
       "    }\n",
       "\n",
       "    .dataframe tbody tr th {\n",
       "        vertical-align: top;\n",
       "    }\n",
       "\n",
       "    .dataframe thead th {\n",
       "        text-align: right;\n",
       "    }\n",
       "</style>\n",
       "<table border=\"1\" class=\"dataframe\">\n",
       "  <thead>\n",
       "    <tr style=\"text-align: right;\">\n",
       "      <th></th>\n",
       "      <th>segmento</th>\n",
       "      <th>total_por_segmento</th>\n",
       "      <th>porcentaje_del_total</th>\n",
       "    </tr>\n",
       "  </thead>\n",
       "  <tbody>\n",
       "    <tr>\n",
       "      <th>0</th>\n",
       "      <td>A</td>\n",
       "      <td>58</td>\n",
       "      <td>6.098843</td>\n",
       "    </tr>\n",
       "    <tr>\n",
       "      <th>1</th>\n",
       "      <td>B</td>\n",
       "      <td>75</td>\n",
       "      <td>7.886435</td>\n",
       "    </tr>\n",
       "    <tr>\n",
       "      <th>2</th>\n",
       "      <td>C</td>\n",
       "      <td>178</td>\n",
       "      <td>18.717140</td>\n",
       "    </tr>\n",
       "    <tr>\n",
       "      <th>3</th>\n",
       "      <td>D</td>\n",
       "      <td>381</td>\n",
       "      <td>40.063091</td>\n",
       "    </tr>\n",
       "    <tr>\n",
       "      <th>4</th>\n",
       "      <td>E</td>\n",
       "      <td>162</td>\n",
       "      <td>17.034700</td>\n",
       "    </tr>\n",
       "    <tr>\n",
       "      <th>5</th>\n",
       "      <td>S</td>\n",
       "      <td>97</td>\n",
       "      <td>10.199790</td>\n",
       "    </tr>\n",
       "  </tbody>\n",
       "</table>\n",
       "</div>"
      ],
      "text/plain": [
       "  segmento  total_por_segmento  porcentaje_del_total\n",
       "0        A                  58              6.098843\n",
       "1        B                  75              7.886435\n",
       "2        C                 178             18.717140\n",
       "3        D                 381             40.063091\n",
       "4        E                 162             17.034700\n",
       "5        S                  97             10.199790"
      ]
     },
     "execution_count": 32,
     "metadata": {},
     "output_type": "execute_result"
    }
   ],
   "source": [
    "# Calcular el total de registros por cada segmento, incluyendo todas sus categorías\n",
    "total_por_segmento = conteo_total_dfs.groupby('segmento')['conteo_total'].sum() \n",
    "# Calcular el total de registros en todos los segmentos\n",
    "total_registros_total = total_por_segmento.sum()\n",
    "# Calcular el porcentaje que representa cada total de segmento con respecto al total de registros en todo el DataFrame\n",
    "porcentaje_total_segmento = (total_por_segmento / total_registros_total) * 100\n",
    "# DataFrame con los resultados\n",
    "resultados = pd.DataFrame({\n",
    "    'segmento': total_por_segmento.index,\n",
    "    'total_por_segmento': total_por_segmento.values,\n",
    "    'porcentaje_del_total': porcentaje_total_segmento.values\n",
    "})\n",
    "\n",
    "print(\"Total de registros: \",total_registros_total)\n",
    "#porcentaje_del_total_porsegmentos\n",
    "resultados"
   ]
  },
  {
   "cell_type": "markdown",
   "metadata": {},
   "source": [
    "Porcentajes de clase por segmento"
   ]
  },
  {
   "cell_type": "code",
   "execution_count": 33,
   "metadata": {},
   "outputs": [
    {
     "data": {
      "text/html": [
       "<div>\n",
       "<style scoped>\n",
       "    .dataframe tbody tr th:only-of-type {\n",
       "        vertical-align: middle;\n",
       "    }\n",
       "\n",
       "    .dataframe tbody tr th {\n",
       "        vertical-align: top;\n",
       "    }\n",
       "\n",
       "    .dataframe thead th {\n",
       "        text-align: right;\n",
       "    }\n",
       "</style>\n",
       "<table border=\"1\" class=\"dataframe\">\n",
       "  <thead>\n",
       "    <tr style=\"text-align: right;\">\n",
       "      <th></th>\n",
       "      <th>segmento</th>\n",
       "      <th>clase</th>\n",
       "      <th>porcentaje</th>\n",
       "    </tr>\n",
       "  </thead>\n",
       "  <tbody>\n",
       "    <tr>\n",
       "      <th>0</th>\n",
       "      <td>C</td>\n",
       "      <td>2</td>\n",
       "      <td>42.134831</td>\n",
       "    </tr>\n",
       "    <tr>\n",
       "      <th>1</th>\n",
       "      <td>C</td>\n",
       "      <td>3</td>\n",
       "      <td>38.202247</td>\n",
       "    </tr>\n",
       "    <tr>\n",
       "      <th>2</th>\n",
       "      <td>C</td>\n",
       "      <td>1</td>\n",
       "      <td>19.662921</td>\n",
       "    </tr>\n",
       "    <tr>\n",
       "      <th>3</th>\n",
       "      <td>D</td>\n",
       "      <td>2</td>\n",
       "      <td>32.808399</td>\n",
       "    </tr>\n",
       "    <tr>\n",
       "      <th>4</th>\n",
       "      <td>D</td>\n",
       "      <td>3</td>\n",
       "      <td>44.356955</td>\n",
       "    </tr>\n",
       "    <tr>\n",
       "      <th>5</th>\n",
       "      <td>D</td>\n",
       "      <td>1</td>\n",
       "      <td>22.834646</td>\n",
       "    </tr>\n",
       "    <tr>\n",
       "      <th>6</th>\n",
       "      <td>E</td>\n",
       "      <td>1</td>\n",
       "      <td>88.888889</td>\n",
       "    </tr>\n",
       "    <tr>\n",
       "      <th>7</th>\n",
       "      <td>E</td>\n",
       "      <td>2</td>\n",
       "      <td>11.111111</td>\n",
       "    </tr>\n",
       "    <tr>\n",
       "      <th>8</th>\n",
       "      <td>B</td>\n",
       "      <td>3</td>\n",
       "      <td>30.666667</td>\n",
       "    </tr>\n",
       "    <tr>\n",
       "      <th>9</th>\n",
       "      <td>B</td>\n",
       "      <td>1</td>\n",
       "      <td>40.000000</td>\n",
       "    </tr>\n",
       "    <tr>\n",
       "      <th>10</th>\n",
       "      <td>B</td>\n",
       "      <td>2</td>\n",
       "      <td>29.333333</td>\n",
       "    </tr>\n",
       "    <tr>\n",
       "      <th>11</th>\n",
       "      <td>A</td>\n",
       "      <td>2</td>\n",
       "      <td>34.482759</td>\n",
       "    </tr>\n",
       "    <tr>\n",
       "      <th>12</th>\n",
       "      <td>A</td>\n",
       "      <td>3</td>\n",
       "      <td>36.206897</td>\n",
       "    </tr>\n",
       "    <tr>\n",
       "      <th>13</th>\n",
       "      <td>A</td>\n",
       "      <td>1</td>\n",
       "      <td>29.310345</td>\n",
       "    </tr>\n",
       "    <tr>\n",
       "      <th>14</th>\n",
       "      <td>S</td>\n",
       "      <td>1</td>\n",
       "      <td>100.000000</td>\n",
       "    </tr>\n",
       "  </tbody>\n",
       "</table>\n",
       "</div>"
      ],
      "text/plain": [
       "   segmento clase  porcentaje\n",
       "0         C     2   42.134831\n",
       "1         C     3   38.202247\n",
       "2         C     1   19.662921\n",
       "3         D     2   32.808399\n",
       "4         D     3   44.356955\n",
       "5         D     1   22.834646\n",
       "6         E     1   88.888889\n",
       "7         E     2   11.111111\n",
       "8         B     3   30.666667\n",
       "9         B     1   40.000000\n",
       "10        B     2   29.333333\n",
       "11        A     2   34.482759\n",
       "12        A     3   36.206897\n",
       "13        A     1   29.310345\n",
       "14        S     1  100.000000"
      ]
     },
     "execution_count": 33,
     "metadata": {},
     "output_type": "execute_result"
    }
   ],
   "source": [
    "#Obtener el total de registros por segmento y clase\n",
    "total_segmento = conteo_total_df.groupby('segmento')['conteo_total'].sum()\n",
    "#Calcular los porcentajes\n",
    "segmentos_percent = conteo_total_df.merge(total_segmento, on='segmento', suffixes=('', '_total'))\n",
    "segmentos_percent['porcentaje'] = segmentos_percent['conteo_total'] / segmentos_percent['conteo_total_total'] * 100\n",
    "#Seleccionar las columnas necesarias y eliminar las columnas auxiliares\n",
    "segmentos_percent = segmentos_percent[['segmento', 'clase', 'porcentaje']]\n",
    "segmentos_percent"
   ]
  },
  {
   "cell_type": "markdown",
   "metadata": {},
   "source": [
    "Porcentaje de cada clase en relación al % que representa su segmento del total."
   ]
  },
  {
   "cell_type": "code",
   "execution_count": 34,
   "metadata": {},
   "outputs": [
    {
     "data": {
      "text/html": [
       "<div>\n",
       "<style scoped>\n",
       "    .dataframe tbody tr th:only-of-type {\n",
       "        vertical-align: middle;\n",
       "    }\n",
       "\n",
       "    .dataframe tbody tr th {\n",
       "        vertical-align: top;\n",
       "    }\n",
       "\n",
       "    .dataframe thead th {\n",
       "        text-align: right;\n",
       "    }\n",
       "</style>\n",
       "<table border=\"1\" class=\"dataframe\">\n",
       "  <thead>\n",
       "    <tr style=\"text-align: right;\">\n",
       "      <th></th>\n",
       "      <th>segmento</th>\n",
       "      <th>clase</th>\n",
       "      <th>porcentaje_clase</th>\n",
       "    </tr>\n",
       "  </thead>\n",
       "  <tbody>\n",
       "    <tr>\n",
       "      <th>0</th>\n",
       "      <td>A</td>\n",
       "      <td>2</td>\n",
       "      <td>2.103049</td>\n",
       "    </tr>\n",
       "    <tr>\n",
       "      <th>1</th>\n",
       "      <td>A</td>\n",
       "      <td>3</td>\n",
       "      <td>2.208202</td>\n",
       "    </tr>\n",
       "    <tr>\n",
       "      <th>2</th>\n",
       "      <td>A</td>\n",
       "      <td>1</td>\n",
       "      <td>1.787592</td>\n",
       "    </tr>\n",
       "    <tr>\n",
       "      <th>3</th>\n",
       "      <td>B</td>\n",
       "      <td>3</td>\n",
       "      <td>2.418507</td>\n",
       "    </tr>\n",
       "    <tr>\n",
       "      <th>4</th>\n",
       "      <td>B</td>\n",
       "      <td>1</td>\n",
       "      <td>3.154574</td>\n",
       "    </tr>\n",
       "    <tr>\n",
       "      <th>5</th>\n",
       "      <td>B</td>\n",
       "      <td>2</td>\n",
       "      <td>2.313354</td>\n",
       "    </tr>\n",
       "    <tr>\n",
       "      <th>6</th>\n",
       "      <td>C</td>\n",
       "      <td>2</td>\n",
       "      <td>7.886435</td>\n",
       "    </tr>\n",
       "    <tr>\n",
       "      <th>7</th>\n",
       "      <td>C</td>\n",
       "      <td>3</td>\n",
       "      <td>7.150368</td>\n",
       "    </tr>\n",
       "    <tr>\n",
       "      <th>8</th>\n",
       "      <td>C</td>\n",
       "      <td>1</td>\n",
       "      <td>3.680336</td>\n",
       "    </tr>\n",
       "    <tr>\n",
       "      <th>9</th>\n",
       "      <td>D</td>\n",
       "      <td>2</td>\n",
       "      <td>13.144059</td>\n",
       "    </tr>\n",
       "    <tr>\n",
       "      <th>10</th>\n",
       "      <td>D</td>\n",
       "      <td>3</td>\n",
       "      <td>17.770768</td>\n",
       "    </tr>\n",
       "    <tr>\n",
       "      <th>11</th>\n",
       "      <td>D</td>\n",
       "      <td>1</td>\n",
       "      <td>9.148265</td>\n",
       "    </tr>\n",
       "    <tr>\n",
       "      <th>12</th>\n",
       "      <td>E</td>\n",
       "      <td>1</td>\n",
       "      <td>15.141956</td>\n",
       "    </tr>\n",
       "    <tr>\n",
       "      <th>13</th>\n",
       "      <td>E</td>\n",
       "      <td>2</td>\n",
       "      <td>1.892744</td>\n",
       "    </tr>\n",
       "    <tr>\n",
       "      <th>14</th>\n",
       "      <td>S</td>\n",
       "      <td>1</td>\n",
       "      <td>10.199790</td>\n",
       "    </tr>\n",
       "  </tbody>\n",
       "</table>\n",
       "</div>"
      ],
      "text/plain": [
       "   segmento clase  porcentaje_clase\n",
       "0         A     2          2.103049\n",
       "1         A     3          2.208202\n",
       "2         A     1          1.787592\n",
       "3         B     3          2.418507\n",
       "4         B     1          3.154574\n",
       "5         B     2          2.313354\n",
       "6         C     2          7.886435\n",
       "7         C     3          7.150368\n",
       "8         C     1          3.680336\n",
       "9         D     2         13.144059\n",
       "10        D     3         17.770768\n",
       "11        D     1          9.148265\n",
       "12        E     1         15.141956\n",
       "13        E     2          1.892744\n",
       "14        S     1         10.199790"
      ]
     },
     "execution_count": 34,
     "metadata": {},
     "output_type": "execute_result"
    }
   ],
   "source": [
    "temp_dfs = [] # Almacenar los DataFrames temporales de cada segmento\n",
    "# Realizamos un bucle sobre cada segmento\n",
    "for segmento in resultados['segmento'].unique():\n",
    "    # Filtramos las clases correspondientes al segmento actual\n",
    "    clases_segmento = segmentos_percent[segmentos_percent['segmento'] == segmento]\n",
    "    \n",
    "    # Calculamos el total de porcentaje del segmento actual\n",
    "    total_porcentaje_segmento = resultados[resultados['segmento'] == segmento]['porcentaje_del_total'].iloc[0]\n",
    "    \n",
    "    # Calculamos el porcentaje que representa cada clase en relación al porcentaje del segmento\n",
    "    porcentaje_clase = (clases_segmento['porcentaje'] / 100) * total_porcentaje_segmento\n",
    "    \n",
    "    # DataFrame temporal para el segmento actual\n",
    "    temp_df = pd.DataFrame({\n",
    "        'segmento': [segmento] * len(clases_segmento),\n",
    "        'clase': clases_segmento['clase'].values,\n",
    "        'porcentaje_clase': porcentaje_clase#.round()\n",
    "    })\n",
    "    \n",
    "    # Agrega DataFrame temporal a la lista\n",
    "    temp_dfs.append(temp_df)\n",
    "\n",
    "# Concatena todos los DataFrames temporales en un solo DataFrame\n",
    "porcentajes_clase = pd.concat(temp_dfs, ignore_index=True)\n",
    "porcentajes_clase"
   ]
  },
  {
   "cell_type": "code",
   "execution_count": 35,
   "metadata": {},
   "outputs": [
    {
     "data": {
      "text/html": [
       "<div>\n",
       "<style scoped>\n",
       "    .dataframe tbody tr th:only-of-type {\n",
       "        vertical-align: middle;\n",
       "    }\n",
       "\n",
       "    .dataframe tbody tr th {\n",
       "        vertical-align: top;\n",
       "    }\n",
       "\n",
       "    .dataframe thead th {\n",
       "        text-align: right;\n",
       "    }\n",
       "</style>\n",
       "<table border=\"1\" class=\"dataframe\">\n",
       "  <thead>\n",
       "    <tr style=\"text-align: right;\">\n",
       "      <th>clase</th>\n",
       "      <th>1</th>\n",
       "      <th>2</th>\n",
       "      <th>3</th>\n",
       "    </tr>\n",
       "    <tr>\n",
       "      <th>segmento</th>\n",
       "      <th></th>\n",
       "      <th></th>\n",
       "      <th></th>\n",
       "    </tr>\n",
       "  </thead>\n",
       "  <tbody>\n",
       "    <tr>\n",
       "      <th>A</th>\n",
       "      <td>1.787592</td>\n",
       "      <td>2.103049</td>\n",
       "      <td>2.208202</td>\n",
       "    </tr>\n",
       "    <tr>\n",
       "      <th>B</th>\n",
       "      <td>3.154574</td>\n",
       "      <td>2.313354</td>\n",
       "      <td>2.418507</td>\n",
       "    </tr>\n",
       "    <tr>\n",
       "      <th>C</th>\n",
       "      <td>3.680336</td>\n",
       "      <td>7.886435</td>\n",
       "      <td>7.150368</td>\n",
       "    </tr>\n",
       "    <tr>\n",
       "      <th>D</th>\n",
       "      <td>9.148265</td>\n",
       "      <td>13.144059</td>\n",
       "      <td>17.770768</td>\n",
       "    </tr>\n",
       "    <tr>\n",
       "      <th>E</th>\n",
       "      <td>15.141956</td>\n",
       "      <td>1.892744</td>\n",
       "      <td>0.000000</td>\n",
       "    </tr>\n",
       "    <tr>\n",
       "      <th>S</th>\n",
       "      <td>10.199790</td>\n",
       "      <td>0.000000</td>\n",
       "      <td>0.000000</td>\n",
       "    </tr>\n",
       "  </tbody>\n",
       "</table>\n",
       "</div>"
      ],
      "text/plain": [
       "clase             1          2          3\n",
       "segmento                                 \n",
       "A          1.787592   2.103049   2.208202\n",
       "B          3.154574   2.313354   2.418507\n",
       "C          3.680336   7.886435   7.150368\n",
       "D          9.148265  13.144059  17.770768\n",
       "E         15.141956   1.892744   0.000000\n",
       "S         10.199790   0.000000   0.000000"
      ]
     },
     "execution_count": 35,
     "metadata": {},
     "output_type": "execute_result"
    }
   ],
   "source": [
    "porcentajes_clase_ordenado = porcentajes_clase.pivot(index='segmento', columns='clase', values='porcentaje_clase')\n",
    "porcentajes_clase_ordenado.fillna(0, inplace=True)\n",
    "porcentajes_clase_ordenado"
   ]
  },
  {
   "cell_type": "markdown",
   "metadata": {},
   "source": [
    "### *Gráfica* "
   ]
  },
  {
   "cell_type": "code",
   "execution_count": 36,
   "metadata": {},
   "outputs": [
    {
     "data": {
      "application/vnd.plotly.v1+json": {
       "config": {
        "plotlyServerURL": "https://plot.ly"
       },
       "data": [
        {
         "marker": {
          "color": "#2962ff"
         },
         "name": "1",
         "orientation": "h",
         "text": [
          "15.14%",
          "9.15%",
          "3.68%",
          "3.15%",
          "1.79%",
          "10.20%"
         ],
         "textposition": "auto",
         "type": "bar",
         "x": [
          15.141955835962145,
          9.148264984227131,
          3.680336487907466,
          3.1545741324921135,
          1.7875920084121977,
          10.199789695057834
         ],
         "y": [
          "E",
          "D",
          "C",
          "B",
          "A",
          "S"
         ]
        },
        {
         "marker": {
          "color": "#9500ff"
         },
         "name": "2",
         "orientation": "h",
         "text": [
          "1.89%",
          "13.14%",
          "7.89%",
          "2.31%",
          "2.10%",
          "0.00%"
         ],
         "textposition": "auto",
         "type": "bar",
         "x": [
          1.8927444794952681,
          13.144058885383808,
          7.886435331230284,
          2.3133543638275498,
          2.1030494216614093,
          0
         ],
         "y": [
          "E",
          "D",
          "C",
          "B",
          "A",
          "S"
         ]
        },
        {
         "marker": {
          "color": "#ff0059"
         },
         "name": "3",
         "orientation": "h",
         "text": [
          "0.00%",
          "17.77%",
          "7.15%",
          "2.42%",
          "2.21%",
          "0.00%"
         ],
         "textposition": "auto",
         "type": "bar",
         "x": [
          0,
          17.77076761303891,
          7.15036803364879,
          2.41850683491062,
          2.208201892744479,
          0
         ],
         "y": [
          "E",
          "D",
          "C",
          "B",
          "A",
          "S"
         ]
        }
       ],
       "layout": {
        "barmode": "stack",
        "legend": {
         "orientation": "h",
         "title": {
          "text": "Clase"
         },
         "x": 1,
         "xanchor": "right",
         "y": 1.02,
         "yanchor": "bottom"
        },
        "margin": {
         "b": 10,
         "l": 10,
         "r": 10,
         "t": 10
        },
        "plot_bgcolor": "rgba(0,0,0,0)",
        "template": {
         "data": {
          "bar": [
           {
            "error_x": {
             "color": "#2a3f5f"
            },
            "error_y": {
             "color": "#2a3f5f"
            },
            "marker": {
             "line": {
              "color": "#E5ECF6",
              "width": 0.5
             },
             "pattern": {
              "fillmode": "overlay",
              "size": 10,
              "solidity": 0.2
             }
            },
            "type": "bar"
           }
          ],
          "barpolar": [
           {
            "marker": {
             "line": {
              "color": "#E5ECF6",
              "width": 0.5
             },
             "pattern": {
              "fillmode": "overlay",
              "size": 10,
              "solidity": 0.2
             }
            },
            "type": "barpolar"
           }
          ],
          "carpet": [
           {
            "aaxis": {
             "endlinecolor": "#2a3f5f",
             "gridcolor": "white",
             "linecolor": "white",
             "minorgridcolor": "white",
             "startlinecolor": "#2a3f5f"
            },
            "baxis": {
             "endlinecolor": "#2a3f5f",
             "gridcolor": "white",
             "linecolor": "white",
             "minorgridcolor": "white",
             "startlinecolor": "#2a3f5f"
            },
            "type": "carpet"
           }
          ],
          "choropleth": [
           {
            "colorbar": {
             "outlinewidth": 0,
             "ticks": ""
            },
            "type": "choropleth"
           }
          ],
          "contour": [
           {
            "colorbar": {
             "outlinewidth": 0,
             "ticks": ""
            },
            "colorscale": [
             [
              0,
              "#0d0887"
             ],
             [
              0.1111111111111111,
              "#46039f"
             ],
             [
              0.2222222222222222,
              "#7201a8"
             ],
             [
              0.3333333333333333,
              "#9c179e"
             ],
             [
              0.4444444444444444,
              "#bd3786"
             ],
             [
              0.5555555555555556,
              "#d8576b"
             ],
             [
              0.6666666666666666,
              "#ed7953"
             ],
             [
              0.7777777777777778,
              "#fb9f3a"
             ],
             [
              0.8888888888888888,
              "#fdca26"
             ],
             [
              1,
              "#f0f921"
             ]
            ],
            "type": "contour"
           }
          ],
          "contourcarpet": [
           {
            "colorbar": {
             "outlinewidth": 0,
             "ticks": ""
            },
            "type": "contourcarpet"
           }
          ],
          "heatmap": [
           {
            "colorbar": {
             "outlinewidth": 0,
             "ticks": ""
            },
            "colorscale": [
             [
              0,
              "#0d0887"
             ],
             [
              0.1111111111111111,
              "#46039f"
             ],
             [
              0.2222222222222222,
              "#7201a8"
             ],
             [
              0.3333333333333333,
              "#9c179e"
             ],
             [
              0.4444444444444444,
              "#bd3786"
             ],
             [
              0.5555555555555556,
              "#d8576b"
             ],
             [
              0.6666666666666666,
              "#ed7953"
             ],
             [
              0.7777777777777778,
              "#fb9f3a"
             ],
             [
              0.8888888888888888,
              "#fdca26"
             ],
             [
              1,
              "#f0f921"
             ]
            ],
            "type": "heatmap"
           }
          ],
          "heatmapgl": [
           {
            "colorbar": {
             "outlinewidth": 0,
             "ticks": ""
            },
            "colorscale": [
             [
              0,
              "#0d0887"
             ],
             [
              0.1111111111111111,
              "#46039f"
             ],
             [
              0.2222222222222222,
              "#7201a8"
             ],
             [
              0.3333333333333333,
              "#9c179e"
             ],
             [
              0.4444444444444444,
              "#bd3786"
             ],
             [
              0.5555555555555556,
              "#d8576b"
             ],
             [
              0.6666666666666666,
              "#ed7953"
             ],
             [
              0.7777777777777778,
              "#fb9f3a"
             ],
             [
              0.8888888888888888,
              "#fdca26"
             ],
             [
              1,
              "#f0f921"
             ]
            ],
            "type": "heatmapgl"
           }
          ],
          "histogram": [
           {
            "marker": {
             "pattern": {
              "fillmode": "overlay",
              "size": 10,
              "solidity": 0.2
             }
            },
            "type": "histogram"
           }
          ],
          "histogram2d": [
           {
            "colorbar": {
             "outlinewidth": 0,
             "ticks": ""
            },
            "colorscale": [
             [
              0,
              "#0d0887"
             ],
             [
              0.1111111111111111,
              "#46039f"
             ],
             [
              0.2222222222222222,
              "#7201a8"
             ],
             [
              0.3333333333333333,
              "#9c179e"
             ],
             [
              0.4444444444444444,
              "#bd3786"
             ],
             [
              0.5555555555555556,
              "#d8576b"
             ],
             [
              0.6666666666666666,
              "#ed7953"
             ],
             [
              0.7777777777777778,
              "#fb9f3a"
             ],
             [
              0.8888888888888888,
              "#fdca26"
             ],
             [
              1,
              "#f0f921"
             ]
            ],
            "type": "histogram2d"
           }
          ],
          "histogram2dcontour": [
           {
            "colorbar": {
             "outlinewidth": 0,
             "ticks": ""
            },
            "colorscale": [
             [
              0,
              "#0d0887"
             ],
             [
              0.1111111111111111,
              "#46039f"
             ],
             [
              0.2222222222222222,
              "#7201a8"
             ],
             [
              0.3333333333333333,
              "#9c179e"
             ],
             [
              0.4444444444444444,
              "#bd3786"
             ],
             [
              0.5555555555555556,
              "#d8576b"
             ],
             [
              0.6666666666666666,
              "#ed7953"
             ],
             [
              0.7777777777777778,
              "#fb9f3a"
             ],
             [
              0.8888888888888888,
              "#fdca26"
             ],
             [
              1,
              "#f0f921"
             ]
            ],
            "type": "histogram2dcontour"
           }
          ],
          "mesh3d": [
           {
            "colorbar": {
             "outlinewidth": 0,
             "ticks": ""
            },
            "type": "mesh3d"
           }
          ],
          "parcoords": [
           {
            "line": {
             "colorbar": {
              "outlinewidth": 0,
              "ticks": ""
             }
            },
            "type": "parcoords"
           }
          ],
          "pie": [
           {
            "automargin": true,
            "type": "pie"
           }
          ],
          "scatter": [
           {
            "fillpattern": {
             "fillmode": "overlay",
             "size": 10,
             "solidity": 0.2
            },
            "type": "scatter"
           }
          ],
          "scatter3d": [
           {
            "line": {
             "colorbar": {
              "outlinewidth": 0,
              "ticks": ""
             }
            },
            "marker": {
             "colorbar": {
              "outlinewidth": 0,
              "ticks": ""
             }
            },
            "type": "scatter3d"
           }
          ],
          "scattercarpet": [
           {
            "marker": {
             "colorbar": {
              "outlinewidth": 0,
              "ticks": ""
             }
            },
            "type": "scattercarpet"
           }
          ],
          "scattergeo": [
           {
            "marker": {
             "colorbar": {
              "outlinewidth": 0,
              "ticks": ""
             }
            },
            "type": "scattergeo"
           }
          ],
          "scattergl": [
           {
            "marker": {
             "colorbar": {
              "outlinewidth": 0,
              "ticks": ""
             }
            },
            "type": "scattergl"
           }
          ],
          "scattermapbox": [
           {
            "marker": {
             "colorbar": {
              "outlinewidth": 0,
              "ticks": ""
             }
            },
            "type": "scattermapbox"
           }
          ],
          "scatterpolar": [
           {
            "marker": {
             "colorbar": {
              "outlinewidth": 0,
              "ticks": ""
             }
            },
            "type": "scatterpolar"
           }
          ],
          "scatterpolargl": [
           {
            "marker": {
             "colorbar": {
              "outlinewidth": 0,
              "ticks": ""
             }
            },
            "type": "scatterpolargl"
           }
          ],
          "scatterternary": [
           {
            "marker": {
             "colorbar": {
              "outlinewidth": 0,
              "ticks": ""
             }
            },
            "type": "scatterternary"
           }
          ],
          "surface": [
           {
            "colorbar": {
             "outlinewidth": 0,
             "ticks": ""
            },
            "colorscale": [
             [
              0,
              "#0d0887"
             ],
             [
              0.1111111111111111,
              "#46039f"
             ],
             [
              0.2222222222222222,
              "#7201a8"
             ],
             [
              0.3333333333333333,
              "#9c179e"
             ],
             [
              0.4444444444444444,
              "#bd3786"
             ],
             [
              0.5555555555555556,
              "#d8576b"
             ],
             [
              0.6666666666666666,
              "#ed7953"
             ],
             [
              0.7777777777777778,
              "#fb9f3a"
             ],
             [
              0.8888888888888888,
              "#fdca26"
             ],
             [
              1,
              "#f0f921"
             ]
            ],
            "type": "surface"
           }
          ],
          "table": [
           {
            "cells": {
             "fill": {
              "color": "#EBF0F8"
             },
             "line": {
              "color": "white"
             }
            },
            "header": {
             "fill": {
              "color": "#C8D4E3"
             },
             "line": {
              "color": "white"
             }
            },
            "type": "table"
           }
          ]
         },
         "layout": {
          "annotationdefaults": {
           "arrowcolor": "#2a3f5f",
           "arrowhead": 0,
           "arrowwidth": 1
          },
          "autotypenumbers": "strict",
          "coloraxis": {
           "colorbar": {
            "outlinewidth": 0,
            "ticks": ""
           }
          },
          "colorscale": {
           "diverging": [
            [
             0,
             "#8e0152"
            ],
            [
             0.1,
             "#c51b7d"
            ],
            [
             0.2,
             "#de77ae"
            ],
            [
             0.3,
             "#f1b6da"
            ],
            [
             0.4,
             "#fde0ef"
            ],
            [
             0.5,
             "#f7f7f7"
            ],
            [
             0.6,
             "#e6f5d0"
            ],
            [
             0.7,
             "#b8e186"
            ],
            [
             0.8,
             "#7fbc41"
            ],
            [
             0.9,
             "#4d9221"
            ],
            [
             1,
             "#276419"
            ]
           ],
           "sequential": [
            [
             0,
             "#0d0887"
            ],
            [
             0.1111111111111111,
             "#46039f"
            ],
            [
             0.2222222222222222,
             "#7201a8"
            ],
            [
             0.3333333333333333,
             "#9c179e"
            ],
            [
             0.4444444444444444,
             "#bd3786"
            ],
            [
             0.5555555555555556,
             "#d8576b"
            ],
            [
             0.6666666666666666,
             "#ed7953"
            ],
            [
             0.7777777777777778,
             "#fb9f3a"
            ],
            [
             0.8888888888888888,
             "#fdca26"
            ],
            [
             1,
             "#f0f921"
            ]
           ],
           "sequentialminus": [
            [
             0,
             "#0d0887"
            ],
            [
             0.1111111111111111,
             "#46039f"
            ],
            [
             0.2222222222222222,
             "#7201a8"
            ],
            [
             0.3333333333333333,
             "#9c179e"
            ],
            [
             0.4444444444444444,
             "#bd3786"
            ],
            [
             0.5555555555555556,
             "#d8576b"
            ],
            [
             0.6666666666666666,
             "#ed7953"
            ],
            [
             0.7777777777777778,
             "#fb9f3a"
            ],
            [
             0.8888888888888888,
             "#fdca26"
            ],
            [
             1,
             "#f0f921"
            ]
           ]
          },
          "colorway": [
           "#636efa",
           "#EF553B",
           "#00cc96",
           "#ab63fa",
           "#FFA15A",
           "#19d3f3",
           "#FF6692",
           "#B6E880",
           "#FF97FF",
           "#FECB52"
          ],
          "font": {
           "color": "#2a3f5f"
          },
          "geo": {
           "bgcolor": "white",
           "lakecolor": "white",
           "landcolor": "#E5ECF6",
           "showlakes": true,
           "showland": true,
           "subunitcolor": "white"
          },
          "hoverlabel": {
           "align": "left"
          },
          "hovermode": "closest",
          "mapbox": {
           "style": "light"
          },
          "paper_bgcolor": "white",
          "plot_bgcolor": "#E5ECF6",
          "polar": {
           "angularaxis": {
            "gridcolor": "white",
            "linecolor": "white",
            "ticks": ""
           },
           "bgcolor": "#E5ECF6",
           "radialaxis": {
            "gridcolor": "white",
            "linecolor": "white",
            "ticks": ""
           }
          },
          "scene": {
           "xaxis": {
            "backgroundcolor": "#E5ECF6",
            "gridcolor": "white",
            "gridwidth": 2,
            "linecolor": "white",
            "showbackground": true,
            "ticks": "",
            "zerolinecolor": "white"
           },
           "yaxis": {
            "backgroundcolor": "#E5ECF6",
            "gridcolor": "white",
            "gridwidth": 2,
            "linecolor": "white",
            "showbackground": true,
            "ticks": "",
            "zerolinecolor": "white"
           },
           "zaxis": {
            "backgroundcolor": "#E5ECF6",
            "gridcolor": "white",
            "gridwidth": 2,
            "linecolor": "white",
            "showbackground": true,
            "ticks": "",
            "zerolinecolor": "white"
           }
          },
          "shapedefaults": {
           "line": {
            "color": "#2a3f5f"
           }
          },
          "ternary": {
           "aaxis": {
            "gridcolor": "white",
            "linecolor": "white",
            "ticks": ""
           },
           "baxis": {
            "gridcolor": "white",
            "linecolor": "white",
            "ticks": ""
           },
           "bgcolor": "#E5ECF6",
           "caxis": {
            "gridcolor": "white",
            "linecolor": "white",
            "ticks": ""
           }
          },
          "title": {
           "x": 0.05
          },
          "xaxis": {
           "automargin": true,
           "gridcolor": "white",
           "linecolor": "white",
           "ticks": "",
           "title": {
            "standoff": 15
           },
           "zerolinecolor": "white",
           "zerolinewidth": 2
          },
          "yaxis": {
           "automargin": true,
           "gridcolor": "white",
           "linecolor": "white",
           "ticks": "",
           "title": {
            "standoff": 15
           },
           "zerolinecolor": "white",
           "zerolinewidth": 2
          }
         }
        },
        "xaxis": {
         "gridcolor": "#dddcda",
         "gridwidth": 1,
         "title": {
          "text": "Porcentaje"
         }
        },
        "yaxis": {
         "title": {
          "text": "Segmento"
         }
        }
       }
      }
     },
     "metadata": {},
     "output_type": "display_data"
    }
   ],
   "source": [
    "# Mantener orden en barras\n",
    "segmentos = list(porcentajes_clase_ordenado.index)\n",
    "segmentos_sorted = ['E','D','C','B','A','S']  # Orden deseado\n",
    "segmentos_sorted.extend([segmento for segmento in segmentos if segmento not in segmentos_sorted])  # Agregar los segmentos restantes\n",
    "clases = porcentajes_clase_ordenado.columns # Clases como etiquetas de las series de datos\n",
    "clases = ['1', '2', '3']  # Clases en el orden deseado\n",
    "# Definir los colores por clase\n",
    "colores = {\n",
    "    '1': '#2962ff',\n",
    "    '2': '#9500ff',\n",
    "    '3': '#ff0059'\n",
    "}\n",
    "# Almacenar las barras de cada clase\n",
    "barras = []\n",
    "for clase in clases:\n",
    "    barras.append(go.Bar(\n",
    "        y=segmentos_sorted,  # Eje y: Segmentos\n",
    "        x=porcentajes_clase_ordenado.loc[segmentos_sorted, clase],  # Eje x: Porcentajes de clase\n",
    "        name=f'{clase}',  # Nombre de la serie de datos\n",
    "        orientation='h',  # Orientación horizontal\n",
    "        text=porcentajes_clase_ordenado.loc[segmentos_sorted, clase].apply(lambda x: f'{x:.2f}%'),  # Texto con los porcentajes\n",
    "        textposition='auto',  # Posición automática del texto\n",
    "        marker_color=colores[clase]   # Color de las barras\n",
    "    ))\n",
    "fig = go.Figure(data=barras)\n",
    "fig.update_layout(\n",
    "    #title='Distribución de segmentos',\n",
    "    yaxis=dict(\n",
    "        title='Segmento', # Título del eje y\n",
    "        #gridcolor='#dddcda', # Color de las líneas que dividen los rangos del eje Y\n",
    "        #gridwidth=1,\n",
    "    ),\n",
    "    legend_title=\"Clase\",\n",
    "        barmode='stack',\n",
    "        legend=dict(\n",
    "            orientation='h',  # Orientación horizontal de la leyenda\n",
    "            yanchor='bottom',  # Anclar al borde inferior\n",
    "            y=1.02,  # Colocar la leyenda justo debajo del gráfico\n",
    "            xanchor='right',\n",
    "            x=1\n",
    "        ),\n",
    "    plot_bgcolor='rgba(0,0,0,0)',  # Color de fondo del gráfico      \n",
    "    xaxis=dict(\n",
    "        title='Porcentaje', # Título del eje x\n",
    "        gridcolor='#dddcda', # Color de las líneas que dividen los rangos del eje Y\n",
    "        gridwidth=1,\n",
    "    ),  \n",
    "        margin=dict(l=10, r=10, t=10, b=10)  # Ajusta los márgenes (left, right, top, bottom)\n",
    "\n",
    ")\n",
    "\n",
    "# Exportar gráfica como archivo HTML\n",
    "def guardar_grafico_como_html(fig, nombre_archivo, carpeta='graficas'):\n",
    "    # Crear la carpeta si no existe\n",
    "    if not os.path.exists(carpeta):\n",
    "        os.makedirs(carpeta)\n",
    "    # Gráfica como archivo HTML en la carpeta especificada\n",
    "    pio.write_html(fig, f'{carpeta}/{nombre_archivo}.html')\n",
    "guardar_grafico_como_html(fig, 'g_bar_distriXsegmentos_tulgo', carpeta='graficas')\n",
    "\n",
    "fig.show()"
   ]
  },
  {
   "cell_type": "markdown",
   "metadata": {},
   "source": [
    "## **PUEBLA**"
   ]
  },
  {
   "cell_type": "code",
   "execution_count": 2,
   "metadata": {},
   "outputs": [
    {
     "data": {
      "text/html": [
       "<div>\n",
       "<style scoped>\n",
       "    .dataframe tbody tr th:only-of-type {\n",
       "        vertical-align: middle;\n",
       "    }\n",
       "\n",
       "    .dataframe tbody tr th {\n",
       "        vertical-align: top;\n",
       "    }\n",
       "\n",
       "    .dataframe thead th {\n",
       "        text-align: right;\n",
       "    }\n",
       "</style>\n",
       "<table border=\"1\" class=\"dataframe\">\n",
       "  <thead>\n",
       "    <tr style=\"text-align: right;\">\n",
       "      <th></th>\n",
       "      <th>categoria</th>\n",
       "      <th>conteo_total</th>\n",
       "    </tr>\n",
       "  </thead>\n",
       "  <tbody>\n",
       "    <tr>\n",
       "      <th>0</th>\n",
       "      <td>S1</td>\n",
       "      <td>862</td>\n",
       "    </tr>\n",
       "    <tr>\n",
       "      <th>1</th>\n",
       "      <td>B2</td>\n",
       "      <td>373</td>\n",
       "    </tr>\n",
       "    <tr>\n",
       "      <th>2</th>\n",
       "      <td>D3</td>\n",
       "      <td>353</td>\n",
       "    </tr>\n",
       "    <tr>\n",
       "      <th>3</th>\n",
       "      <td>C1</td>\n",
       "      <td>348</td>\n",
       "    </tr>\n",
       "    <tr>\n",
       "      <th>4</th>\n",
       "      <td>S2</td>\n",
       "      <td>349</td>\n",
       "    </tr>\n",
       "    <tr>\n",
       "      <th>5</th>\n",
       "      <td>A1</td>\n",
       "      <td>321</td>\n",
       "    </tr>\n",
       "    <tr>\n",
       "      <th>6</th>\n",
       "      <td>A2</td>\n",
       "      <td>297</td>\n",
       "    </tr>\n",
       "    <tr>\n",
       "      <th>7</th>\n",
       "      <td>B3</td>\n",
       "      <td>307</td>\n",
       "    </tr>\n",
       "    <tr>\n",
       "      <th>8</th>\n",
       "      <td>D2</td>\n",
       "      <td>362</td>\n",
       "    </tr>\n",
       "    <tr>\n",
       "      <th>9</th>\n",
       "      <td>B1</td>\n",
       "      <td>321</td>\n",
       "    </tr>\n",
       "    <tr>\n",
       "      <th>10</th>\n",
       "      <td>C2</td>\n",
       "      <td>313</td>\n",
       "    </tr>\n",
       "    <tr>\n",
       "      <th>11</th>\n",
       "      <td>S3</td>\n",
       "      <td>265</td>\n",
       "    </tr>\n",
       "    <tr>\n",
       "      <th>12</th>\n",
       "      <td>C3</td>\n",
       "      <td>270</td>\n",
       "    </tr>\n",
       "    <tr>\n",
       "      <th>13</th>\n",
       "      <td>A3</td>\n",
       "      <td>259</td>\n",
       "    </tr>\n",
       "    <tr>\n",
       "      <th>14</th>\n",
       "      <td>E3</td>\n",
       "      <td>424</td>\n",
       "    </tr>\n",
       "    <tr>\n",
       "      <th>15</th>\n",
       "      <td>D1</td>\n",
       "      <td>231</td>\n",
       "    </tr>\n",
       "    <tr>\n",
       "      <th>16</th>\n",
       "      <td>L1</td>\n",
       "      <td>104</td>\n",
       "    </tr>\n",
       "    <tr>\n",
       "      <th>17</th>\n",
       "      <td>E</td>\n",
       "      <td>82</td>\n",
       "    </tr>\n",
       "    <tr>\n",
       "      <th>18</th>\n",
       "      <td>L+</td>\n",
       "      <td>62</td>\n",
       "    </tr>\n",
       "    <tr>\n",
       "      <th>19</th>\n",
       "      <td>E2</td>\n",
       "      <td>466</td>\n",
       "    </tr>\n",
       "    <tr>\n",
       "      <th>20</th>\n",
       "      <td>L2</td>\n",
       "      <td>59</td>\n",
       "    </tr>\n",
       "    <tr>\n",
       "      <th>21</th>\n",
       "      <td>L3</td>\n",
       "      <td>39</td>\n",
       "    </tr>\n",
       "    <tr>\n",
       "      <th>22</th>\n",
       "      <td>E1</td>\n",
       "      <td>140</td>\n",
       "    </tr>\n",
       "  </tbody>\n",
       "</table>\n",
       "</div>"
      ],
      "text/plain": [
       "   categoria  conteo_total\n",
       "0         S1           862\n",
       "1         B2           373\n",
       "2         D3           353\n",
       "3         C1           348\n",
       "4         S2           349\n",
       "5         A1           321\n",
       "6         A2           297\n",
       "7         B3           307\n",
       "8         D2           362\n",
       "9         B1           321\n",
       "10        C2           313\n",
       "11        S3           265\n",
       "12        C3           270\n",
       "13        A3           259\n",
       "14        E3           424\n",
       "15        D1           231\n",
       "16        L1           104\n",
       "17         E            82\n",
       "18        L+            62\n",
       "19        E2           466\n",
       "20        L2            59\n",
       "21        L3            39\n",
       "22        E1           140"
      ]
     },
     "execution_count": 2,
     "metadata": {},
     "output_type": "execute_result"
    }
   ],
   "source": [
    "# CONTEO ÚNICO DE CATEGORÍAS\n",
    "\n",
    "segment_df_feb_2024_puebla = df_feb_2024_puebla[['Category']]\n",
    "segment_df_jul_2023_puebla = df_jul_2023_puebla[['Category']]\n",
    "segment_df_mar_2024_puebla = df_mar_2024_puebla[['Category']]\n",
    "segment_df_may_2024_puebla = df_may_2024_puebla[['Category']]\n",
    "segment_df_sep_2023_puebla = df_sep_2023_puebla[['Category']]\n",
    "#df_alfa_q_puebla\n",
    "\n",
    "dataframes_list = [\n",
    "    segment_df_jul_2023_puebla,\n",
    "    segment_df_feb_2024_puebla,   \n",
    "]\n",
    "conteo_total = {}\n",
    "for df in dataframes_list:\n",
    "    # Calcular el conteo de valores únicos de 'categoria' en el DataFrame actual\n",
    "    conteo_actual = df['Category'].value_counts().to_dict()\n",
    "    # Agregar el conteo actual al conteo total\n",
    "    for categoria, conteo in conteo_actual.items():\n",
    "        conteo_total[categoria] = conteo_total.get(categoria, 0) + conteo\n",
    "\n",
    "# Convertir el diccionario a un DataFrame\n",
    "conteo_total_df = pd.DataFrame(list(conteo_total.items()), columns=['categoria', 'conteo_total'])\n",
    "conteo_total_df"
   ]
  },
  {
   "cell_type": "code",
   "execution_count": 3,
   "metadata": {},
   "outputs": [
    {
     "data": {
      "text/html": [
       "<div>\n",
       "<style scoped>\n",
       "    .dataframe tbody tr th:only-of-type {\n",
       "        vertical-align: middle;\n",
       "    }\n",
       "\n",
       "    .dataframe tbody tr th {\n",
       "        vertical-align: top;\n",
       "    }\n",
       "\n",
       "    .dataframe thead th {\n",
       "        text-align: right;\n",
       "    }\n",
       "</style>\n",
       "<table border=\"1\" class=\"dataframe\">\n",
       "  <thead>\n",
       "    <tr style=\"text-align: right;\">\n",
       "      <th></th>\n",
       "      <th>conteo_total</th>\n",
       "      <th>segmento</th>\n",
       "      <th>clase</th>\n",
       "    </tr>\n",
       "  </thead>\n",
       "  <tbody>\n",
       "    <tr>\n",
       "      <th>0</th>\n",
       "      <td>862</td>\n",
       "      <td>S</td>\n",
       "      <td>1</td>\n",
       "    </tr>\n",
       "    <tr>\n",
       "      <th>1</th>\n",
       "      <td>373</td>\n",
       "      <td>B</td>\n",
       "      <td>2</td>\n",
       "    </tr>\n",
       "    <tr>\n",
       "      <th>2</th>\n",
       "      <td>353</td>\n",
       "      <td>D</td>\n",
       "      <td>3</td>\n",
       "    </tr>\n",
       "    <tr>\n",
       "      <th>3</th>\n",
       "      <td>348</td>\n",
       "      <td>C</td>\n",
       "      <td>1</td>\n",
       "    </tr>\n",
       "    <tr>\n",
       "      <th>4</th>\n",
       "      <td>349</td>\n",
       "      <td>S</td>\n",
       "      <td>2</td>\n",
       "    </tr>\n",
       "    <tr>\n",
       "      <th>5</th>\n",
       "      <td>321</td>\n",
       "      <td>A</td>\n",
       "      <td>1</td>\n",
       "    </tr>\n",
       "    <tr>\n",
       "      <th>6</th>\n",
       "      <td>297</td>\n",
       "      <td>A</td>\n",
       "      <td>2</td>\n",
       "    </tr>\n",
       "    <tr>\n",
       "      <th>7</th>\n",
       "      <td>307</td>\n",
       "      <td>B</td>\n",
       "      <td>3</td>\n",
       "    </tr>\n",
       "    <tr>\n",
       "      <th>8</th>\n",
       "      <td>362</td>\n",
       "      <td>D</td>\n",
       "      <td>2</td>\n",
       "    </tr>\n",
       "    <tr>\n",
       "      <th>9</th>\n",
       "      <td>321</td>\n",
       "      <td>B</td>\n",
       "      <td>1</td>\n",
       "    </tr>\n",
       "    <tr>\n",
       "      <th>10</th>\n",
       "      <td>313</td>\n",
       "      <td>C</td>\n",
       "      <td>2</td>\n",
       "    </tr>\n",
       "    <tr>\n",
       "      <th>11</th>\n",
       "      <td>265</td>\n",
       "      <td>S</td>\n",
       "      <td>3</td>\n",
       "    </tr>\n",
       "    <tr>\n",
       "      <th>12</th>\n",
       "      <td>270</td>\n",
       "      <td>C</td>\n",
       "      <td>3</td>\n",
       "    </tr>\n",
       "    <tr>\n",
       "      <th>13</th>\n",
       "      <td>259</td>\n",
       "      <td>A</td>\n",
       "      <td>3</td>\n",
       "    </tr>\n",
       "    <tr>\n",
       "      <th>14</th>\n",
       "      <td>424</td>\n",
       "      <td>E</td>\n",
       "      <td>3</td>\n",
       "    </tr>\n",
       "    <tr>\n",
       "      <th>15</th>\n",
       "      <td>231</td>\n",
       "      <td>D</td>\n",
       "      <td>1</td>\n",
       "    </tr>\n",
       "    <tr>\n",
       "      <th>16</th>\n",
       "      <td>104</td>\n",
       "      <td>L</td>\n",
       "      <td>1</td>\n",
       "    </tr>\n",
       "    <tr>\n",
       "      <th>17</th>\n",
       "      <td>82</td>\n",
       "      <td>E</td>\n",
       "      <td>1</td>\n",
       "    </tr>\n",
       "    <tr>\n",
       "      <th>18</th>\n",
       "      <td>62</td>\n",
       "      <td>L</td>\n",
       "      <td>1</td>\n",
       "    </tr>\n",
       "    <tr>\n",
       "      <th>19</th>\n",
       "      <td>466</td>\n",
       "      <td>E</td>\n",
       "      <td>2</td>\n",
       "    </tr>\n",
       "    <tr>\n",
       "      <th>20</th>\n",
       "      <td>59</td>\n",
       "      <td>L</td>\n",
       "      <td>2</td>\n",
       "    </tr>\n",
       "    <tr>\n",
       "      <th>21</th>\n",
       "      <td>39</td>\n",
       "      <td>L</td>\n",
       "      <td>3</td>\n",
       "    </tr>\n",
       "    <tr>\n",
       "      <th>22</th>\n",
       "      <td>140</td>\n",
       "      <td>E</td>\n",
       "      <td>1</td>\n",
       "    </tr>\n",
       "    <tr>\n",
       "      <th>23</th>\n",
       "      <td>0</td>\n",
       "      <td>E</td>\n",
       "      <td>3</td>\n",
       "    </tr>\n",
       "  </tbody>\n",
       "</table>\n",
       "</div>"
      ],
      "text/plain": [
       "    conteo_total segmento clase\n",
       "0            862        S     1\n",
       "1            373        B     2\n",
       "2            353        D     3\n",
       "3            348        C     1\n",
       "4            349        S     2\n",
       "5            321        A     1\n",
       "6            297        A     2\n",
       "7            307        B     3\n",
       "8            362        D     2\n",
       "9            321        B     1\n",
       "10           313        C     2\n",
       "11           265        S     3\n",
       "12           270        C     3\n",
       "13           259        A     3\n",
       "14           424        E     3\n",
       "15           231        D     1\n",
       "16           104        L     1\n",
       "17            82        E     1\n",
       "18            62        L     1\n",
       "19           466        E     2\n",
       "20            59        L     2\n",
       "21            39        L     3\n",
       "22           140        E     1\n",
       "23             0        E     3"
      ]
     },
     "execution_count": 3,
     "metadata": {},
     "output_type": "execute_result"
    }
   ],
   "source": [
    "# Añadir una nuevas columnas que extraigan el número y letra de la categoría\n",
    "conteo_total_df['segmento'] = conteo_total_df['categoria'].str[0]\n",
    "conteo_total_df['clase'] = conteo_total_df['categoria'].str.extract(r'(\\d+)').fillna('1')\n",
    "conteo_total_df.drop(columns=['categoria'], inplace=True)\n",
    "\n",
    "# Añadir una nueva fila como un DataFrame\n",
    "nueva_fila_df = pd.DataFrame({'conteo_total': [0], 'segmento': ['E'], 'clase': ['3']})\n",
    "# Concatenar el DataFrame original con la nueva fila\n",
    "conteo_total_dfs = pd.concat([conteo_total_df, nueva_fila_df], ignore_index=True)\n",
    "conteo_total_dfs"
   ]
  },
  {
   "cell_type": "code",
   "execution_count": 4,
   "metadata": {},
   "outputs": [
    {
     "data": {
      "text/plain": [
       "segmento  clase\n",
       "A         1        321\n",
       "          2        297\n",
       "          3        259\n",
       "B         1        321\n",
       "          2        373\n",
       "          3        307\n",
       "C         1        348\n",
       "          2        313\n",
       "          3        270\n",
       "D         1        231\n",
       "          2        362\n",
       "          3        353\n",
       "E         1        222\n",
       "          2        466\n",
       "          3        424\n",
       "L         1        166\n",
       "          2         59\n",
       "          3         39\n",
       "S         1        862\n",
       "          2        349\n",
       "          3        265\n",
       "Name: conteo_total, dtype: int64"
      ]
     },
     "execution_count": 4,
     "metadata": {},
     "output_type": "execute_result"
    }
   ],
   "source": [
    "#segmentos_dist = conteo_total_df.groupby(['segmento', 'clase']) # Agrupar\n",
    "segmentos_dist = conteo_total_dfs.groupby(['segmento', 'clase'])['conteo_total'].sum()\n",
    "segmentos_dist"
   ]
  },
  {
   "cell_type": "markdown",
   "metadata": {},
   "source": [
    "Totales de registros por segmento"
   ]
  },
  {
   "cell_type": "code",
   "execution_count": 5,
   "metadata": {},
   "outputs": [
    {
     "name": "stdout",
     "output_type": "stream",
     "text": [
      "Total de registros:  6607\n"
     ]
    },
    {
     "data": {
      "text/html": [
       "<div>\n",
       "<style scoped>\n",
       "    .dataframe tbody tr th:only-of-type {\n",
       "        vertical-align: middle;\n",
       "    }\n",
       "\n",
       "    .dataframe tbody tr th {\n",
       "        vertical-align: top;\n",
       "    }\n",
       "\n",
       "    .dataframe thead th {\n",
       "        text-align: right;\n",
       "    }\n",
       "</style>\n",
       "<table border=\"1\" class=\"dataframe\">\n",
       "  <thead>\n",
       "    <tr style=\"text-align: right;\">\n",
       "      <th></th>\n",
       "      <th>segmento</th>\n",
       "      <th>total_por_segmento</th>\n",
       "      <th>porcentaje_del_total</th>\n",
       "    </tr>\n",
       "  </thead>\n",
       "  <tbody>\n",
       "    <tr>\n",
       "      <th>0</th>\n",
       "      <td>A</td>\n",
       "      <td>877</td>\n",
       "      <td>13.273801</td>\n",
       "    </tr>\n",
       "    <tr>\n",
       "      <th>1</th>\n",
       "      <td>B</td>\n",
       "      <td>1001</td>\n",
       "      <td>15.150598</td>\n",
       "    </tr>\n",
       "    <tr>\n",
       "      <th>2</th>\n",
       "      <td>C</td>\n",
       "      <td>931</td>\n",
       "      <td>14.091115</td>\n",
       "    </tr>\n",
       "    <tr>\n",
       "      <th>3</th>\n",
       "      <td>D</td>\n",
       "      <td>946</td>\n",
       "      <td>14.318147</td>\n",
       "    </tr>\n",
       "    <tr>\n",
       "      <th>4</th>\n",
       "      <td>E</td>\n",
       "      <td>1112</td>\n",
       "      <td>16.830634</td>\n",
       "    </tr>\n",
       "    <tr>\n",
       "      <th>5</th>\n",
       "      <td>L</td>\n",
       "      <td>264</td>\n",
       "      <td>3.995762</td>\n",
       "    </tr>\n",
       "    <tr>\n",
       "      <th>6</th>\n",
       "      <td>S</td>\n",
       "      <td>1476</td>\n",
       "      <td>22.339942</td>\n",
       "    </tr>\n",
       "  </tbody>\n",
       "</table>\n",
       "</div>"
      ],
      "text/plain": [
       "  segmento  total_por_segmento  porcentaje_del_total\n",
       "0        A                 877             13.273801\n",
       "1        B                1001             15.150598\n",
       "2        C                 931             14.091115\n",
       "3        D                 946             14.318147\n",
       "4        E                1112             16.830634\n",
       "5        L                 264              3.995762\n",
       "6        S                1476             22.339942"
      ]
     },
     "execution_count": 5,
     "metadata": {},
     "output_type": "execute_result"
    }
   ],
   "source": [
    "# Calcular el total de registros por cada segmento, incluyendo todas sus categorías\n",
    "total_por_segmento = conteo_total_dfs.groupby('segmento')['conteo_total'].sum() \n",
    "# Calcular el total de registros en todos los segmentos\n",
    "total_registros_total = total_por_segmento.sum()\n",
    "# Calcular el porcentaje que representa cada total de segmento con respecto al total de registros en todo el DataFrame\n",
    "porcentaje_total_segmento = (total_por_segmento / total_registros_total) * 100\n",
    "# DataFrame con los resultados\n",
    "resultados = pd.DataFrame({\n",
    "    'segmento': total_por_segmento.index,\n",
    "    'total_por_segmento': total_por_segmento.values,\n",
    "    'porcentaje_del_total': porcentaje_total_segmento.values\n",
    "})\n",
    "\n",
    "print(\"Total de registros: \",total_registros_total)\n",
    "#porcentaje_del_total_porsegmentos\n",
    "resultados"
   ]
  },
  {
   "cell_type": "markdown",
   "metadata": {},
   "source": [
    "Porcentajes de clase por segmento"
   ]
  },
  {
   "cell_type": "code",
   "execution_count": 6,
   "metadata": {},
   "outputs": [
    {
     "data": {
      "text/html": [
       "<div>\n",
       "<style scoped>\n",
       "    .dataframe tbody tr th:only-of-type {\n",
       "        vertical-align: middle;\n",
       "    }\n",
       "\n",
       "    .dataframe tbody tr th {\n",
       "        vertical-align: top;\n",
       "    }\n",
       "\n",
       "    .dataframe thead th {\n",
       "        text-align: right;\n",
       "    }\n",
       "</style>\n",
       "<table border=\"1\" class=\"dataframe\">\n",
       "  <thead>\n",
       "    <tr style=\"text-align: right;\">\n",
       "      <th></th>\n",
       "      <th>segmento</th>\n",
       "      <th>clase</th>\n",
       "      <th>porcentaje</th>\n",
       "    </tr>\n",
       "  </thead>\n",
       "  <tbody>\n",
       "    <tr>\n",
       "      <th>0</th>\n",
       "      <td>S</td>\n",
       "      <td>1</td>\n",
       "      <td>58.401084</td>\n",
       "    </tr>\n",
       "    <tr>\n",
       "      <th>1</th>\n",
       "      <td>S</td>\n",
       "      <td>2</td>\n",
       "      <td>23.644986</td>\n",
       "    </tr>\n",
       "    <tr>\n",
       "      <th>2</th>\n",
       "      <td>S</td>\n",
       "      <td>3</td>\n",
       "      <td>17.953930</td>\n",
       "    </tr>\n",
       "    <tr>\n",
       "      <th>3</th>\n",
       "      <td>B</td>\n",
       "      <td>2</td>\n",
       "      <td>37.262737</td>\n",
       "    </tr>\n",
       "    <tr>\n",
       "      <th>4</th>\n",
       "      <td>B</td>\n",
       "      <td>3</td>\n",
       "      <td>30.669331</td>\n",
       "    </tr>\n",
       "    <tr>\n",
       "      <th>5</th>\n",
       "      <td>B</td>\n",
       "      <td>1</td>\n",
       "      <td>32.067932</td>\n",
       "    </tr>\n",
       "    <tr>\n",
       "      <th>6</th>\n",
       "      <td>D</td>\n",
       "      <td>3</td>\n",
       "      <td>37.315011</td>\n",
       "    </tr>\n",
       "    <tr>\n",
       "      <th>7</th>\n",
       "      <td>D</td>\n",
       "      <td>2</td>\n",
       "      <td>38.266385</td>\n",
       "    </tr>\n",
       "    <tr>\n",
       "      <th>8</th>\n",
       "      <td>D</td>\n",
       "      <td>1</td>\n",
       "      <td>24.418605</td>\n",
       "    </tr>\n",
       "    <tr>\n",
       "      <th>9</th>\n",
       "      <td>C</td>\n",
       "      <td>1</td>\n",
       "      <td>37.379162</td>\n",
       "    </tr>\n",
       "    <tr>\n",
       "      <th>10</th>\n",
       "      <td>C</td>\n",
       "      <td>2</td>\n",
       "      <td>33.619764</td>\n",
       "    </tr>\n",
       "    <tr>\n",
       "      <th>11</th>\n",
       "      <td>C</td>\n",
       "      <td>3</td>\n",
       "      <td>29.001074</td>\n",
       "    </tr>\n",
       "    <tr>\n",
       "      <th>12</th>\n",
       "      <td>A</td>\n",
       "      <td>1</td>\n",
       "      <td>36.602052</td>\n",
       "    </tr>\n",
       "    <tr>\n",
       "      <th>13</th>\n",
       "      <td>A</td>\n",
       "      <td>2</td>\n",
       "      <td>33.865450</td>\n",
       "    </tr>\n",
       "    <tr>\n",
       "      <th>14</th>\n",
       "      <td>A</td>\n",
       "      <td>3</td>\n",
       "      <td>29.532497</td>\n",
       "    </tr>\n",
       "    <tr>\n",
       "      <th>15</th>\n",
       "      <td>E</td>\n",
       "      <td>3</td>\n",
       "      <td>38.129496</td>\n",
       "    </tr>\n",
       "    <tr>\n",
       "      <th>16</th>\n",
       "      <td>E</td>\n",
       "      <td>1</td>\n",
       "      <td>7.374101</td>\n",
       "    </tr>\n",
       "    <tr>\n",
       "      <th>17</th>\n",
       "      <td>E</td>\n",
       "      <td>2</td>\n",
       "      <td>41.906475</td>\n",
       "    </tr>\n",
       "    <tr>\n",
       "      <th>18</th>\n",
       "      <td>E</td>\n",
       "      <td>1</td>\n",
       "      <td>12.589928</td>\n",
       "    </tr>\n",
       "    <tr>\n",
       "      <th>19</th>\n",
       "      <td>L</td>\n",
       "      <td>1</td>\n",
       "      <td>39.393939</td>\n",
       "    </tr>\n",
       "    <tr>\n",
       "      <th>20</th>\n",
       "      <td>L</td>\n",
       "      <td>1</td>\n",
       "      <td>23.484848</td>\n",
       "    </tr>\n",
       "    <tr>\n",
       "      <th>21</th>\n",
       "      <td>L</td>\n",
       "      <td>2</td>\n",
       "      <td>22.348485</td>\n",
       "    </tr>\n",
       "    <tr>\n",
       "      <th>22</th>\n",
       "      <td>L</td>\n",
       "      <td>3</td>\n",
       "      <td>14.772727</td>\n",
       "    </tr>\n",
       "  </tbody>\n",
       "</table>\n",
       "</div>"
      ],
      "text/plain": [
       "   segmento clase  porcentaje\n",
       "0         S     1   58.401084\n",
       "1         S     2   23.644986\n",
       "2         S     3   17.953930\n",
       "3         B     2   37.262737\n",
       "4         B     3   30.669331\n",
       "5         B     1   32.067932\n",
       "6         D     3   37.315011\n",
       "7         D     2   38.266385\n",
       "8         D     1   24.418605\n",
       "9         C     1   37.379162\n",
       "10        C     2   33.619764\n",
       "11        C     3   29.001074\n",
       "12        A     1   36.602052\n",
       "13        A     2   33.865450\n",
       "14        A     3   29.532497\n",
       "15        E     3   38.129496\n",
       "16        E     1    7.374101\n",
       "17        E     2   41.906475\n",
       "18        E     1   12.589928\n",
       "19        L     1   39.393939\n",
       "20        L     1   23.484848\n",
       "21        L     2   22.348485\n",
       "22        L     3   14.772727"
      ]
     },
     "execution_count": 6,
     "metadata": {},
     "output_type": "execute_result"
    }
   ],
   "source": [
    "#Obtener el total de registros por segmento y clase\n",
    "total_segmento = conteo_total_df.groupby('segmento')['conteo_total'].sum()\n",
    "#Calcular los porcentajes\n",
    "segmentos_percent = conteo_total_df.merge(total_segmento, on='segmento', suffixes=('', '_total'))\n",
    "segmentos_percent['porcentaje'] = segmentos_percent['conteo_total'] / segmentos_percent['conteo_total_total'] * 100\n",
    "#Seleccionar las columnas necesarias y eliminar las columnas auxiliares\n",
    "segmentos_percent = segmentos_percent[['segmento', 'clase', 'porcentaje']]\n",
    "segmentos_percent"
   ]
  },
  {
   "cell_type": "markdown",
   "metadata": {},
   "source": [
    "Porcentaje de cada clase en relación al % que representa su segmento del total."
   ]
  },
  {
   "cell_type": "code",
   "execution_count": 7,
   "metadata": {},
   "outputs": [
    {
     "data": {
      "text/html": [
       "<div>\n",
       "<style scoped>\n",
       "    .dataframe tbody tr th:only-of-type {\n",
       "        vertical-align: middle;\n",
       "    }\n",
       "\n",
       "    .dataframe tbody tr th {\n",
       "        vertical-align: top;\n",
       "    }\n",
       "\n",
       "    .dataframe thead th {\n",
       "        text-align: right;\n",
       "    }\n",
       "</style>\n",
       "<table border=\"1\" class=\"dataframe\">\n",
       "  <thead>\n",
       "    <tr style=\"text-align: right;\">\n",
       "      <th>clase</th>\n",
       "      <th>1</th>\n",
       "      <th>2</th>\n",
       "      <th>3</th>\n",
       "    </tr>\n",
       "    <tr>\n",
       "      <th>segmento</th>\n",
       "      <th></th>\n",
       "      <th></th>\n",
       "      <th></th>\n",
       "    </tr>\n",
       "  </thead>\n",
       "  <tbody>\n",
       "    <tr>\n",
       "      <th>A</th>\n",
       "      <td>4.858483</td>\n",
       "      <td>4.495232</td>\n",
       "      <td>3.920085</td>\n",
       "    </tr>\n",
       "    <tr>\n",
       "      <th>B</th>\n",
       "      <td>4.858483</td>\n",
       "      <td>5.645527</td>\n",
       "      <td>4.646587</td>\n",
       "    </tr>\n",
       "    <tr>\n",
       "      <th>C</th>\n",
       "      <td>5.267141</td>\n",
       "      <td>4.737400</td>\n",
       "      <td>4.086575</td>\n",
       "    </tr>\n",
       "    <tr>\n",
       "      <th>D</th>\n",
       "      <td>3.496292</td>\n",
       "      <td>5.479037</td>\n",
       "      <td>5.342818</td>\n",
       "    </tr>\n",
       "    <tr>\n",
       "      <th>E</th>\n",
       "      <td>3.360073</td>\n",
       "      <td>7.053125</td>\n",
       "      <td>6.417436</td>\n",
       "    </tr>\n",
       "    <tr>\n",
       "      <th>L</th>\n",
       "      <td>2.512487</td>\n",
       "      <td>0.892992</td>\n",
       "      <td>0.590283</td>\n",
       "    </tr>\n",
       "    <tr>\n",
       "      <th>S</th>\n",
       "      <td>13.046769</td>\n",
       "      <td>5.282276</td>\n",
       "      <td>4.010898</td>\n",
       "    </tr>\n",
       "  </tbody>\n",
       "</table>\n",
       "</div>"
      ],
      "text/plain": [
       "clase             1         2         3\n",
       "segmento                               \n",
       "A          4.858483  4.495232  3.920085\n",
       "B          4.858483  5.645527  4.646587\n",
       "C          5.267141  4.737400  4.086575\n",
       "D          3.496292  5.479037  5.342818\n",
       "E          3.360073  7.053125  6.417436\n",
       "L          2.512487  0.892992  0.590283\n",
       "S         13.046769  5.282276  4.010898"
      ]
     },
     "execution_count": 7,
     "metadata": {},
     "output_type": "execute_result"
    }
   ],
   "source": [
    "temp_dfs = [] # Almacenar los DataFrames temporales de cada segmento\n",
    "for segmento in resultados['segmento'].unique():\n",
    "    # Filtramos las clases correspondientes al segmento actual\n",
    "    clases_segmento = segmentos_percent[segmentos_percent['segmento'] == segmento]\n",
    "    \n",
    "    # Calculamos el total de porcentaje del segmento actual\n",
    "    total_porcentaje_segmento = resultados[resultados['segmento'] == segmento]['porcentaje_del_total'].iloc[0]\n",
    "    \n",
    "    # Calculamos el porcentaje que representa cada clase en relación al porcentaje del segmento\n",
    "    porcentaje_clase = (clases_segmento['porcentaje'] / 100) * total_porcentaje_segmento\n",
    "    \n",
    "    # DataFrame temporal para el segmento actual\n",
    "    temp_df = pd.DataFrame({\n",
    "        'segmento': [segmento] * len(clases_segmento),\n",
    "        'clase': clases_segmento['clase'].values,\n",
    "        'porcentaje_clase': porcentaje_clase#.round()\n",
    "    })\n",
    "    \n",
    "    # Agrega DataFrame temporal a la lista\n",
    "    temp_dfs.append(temp_df)\n",
    "\n",
    "# Concatena todos los DataFrames temporales en un solo DataFrame\n",
    "porcentajes_clase = pd.concat(temp_dfs, ignore_index=True)\n",
    "\n",
    "# Agrupa por 'segmento' y 'clase' y suma los porcentajes en caso de duplicados\n",
    "porcentajes_clase = porcentajes_clase.groupby(['segmento', 'clase'], as_index=False)['porcentaje_clase'].sum()\n",
    "\n",
    "# Realiza el pivot\n",
    "porcentajes_clase_ordenado = porcentajes_clase.pivot(index='segmento', columns='clase', values='porcentaje_clase')\n",
    "\n",
    "# Rellena los valores faltantes con 0\n",
    "porcentajes_clase_ordenado.fillna(0, inplace=True)\n",
    "\n",
    "porcentajes_clase_ordenado"
   ]
  },
  {
   "cell_type": "markdown",
   "metadata": {},
   "source": [
    "### *Gráfica* "
   ]
  },
  {
   "cell_type": "code",
   "execution_count": 8,
   "metadata": {},
   "outputs": [
    {
     "data": {
      "application/vnd.plotly.v1+json": {
       "config": {
        "plotlyServerURL": "https://plot.ly"
       },
       "data": [
        {
         "marker": {
          "color": "#2962ff"
         },
         "name": "1",
         "orientation": "h",
         "text": [
          "3.36%",
          "3.50%",
          "5.27%",
          "4.86%",
          "4.86%",
          "13.05%",
          "2.51%"
         ],
         "textposition": "auto",
         "type": "bar",
         "x": [
          3.3600726502194647,
          3.496291811714847,
          5.267140911154836,
          4.858483426668686,
          4.858483426668685,
          13.046768578780084,
          2.5124867564704103
         ],
         "y": [
          "E",
          "D",
          "C",
          "B",
          "A",
          "S",
          "L"
         ]
        },
        {
         "marker": {
          "color": "#9500ff"
         },
         "name": "2",
         "orientation": "h",
         "text": [
          "7.05%",
          "5.48%",
          "4.74%",
          "5.65%",
          "4.50%",
          "5.28%",
          "0.89%"
         ],
         "textposition": "auto",
         "type": "bar",
         "x": [
          7.053125472983201,
          5.4790373845920985,
          4.7373997275616775,
          5.645527470864235,
          4.495232329347662,
          5.282276373543212,
          0.892992280914182
         ],
         "y": [
          "E",
          "D",
          "C",
          "B",
          "A",
          "S",
          "L"
         ]
        },
        {
         "marker": {
          "color": "#ff0059"
         },
         "name": "3",
         "orientation": "h",
         "text": [
          "6.42%",
          "5.34%",
          "4.09%",
          "4.65%",
          "3.92%",
          "4.01%",
          "0.59%"
         ],
         "textposition": "auto",
         "type": "bar",
         "x": [
          6.41743605267141,
          5.342818223096716,
          4.08657484486151,
          4.646586953231422,
          3.9200847585893746,
          4.010897532919631,
          0.5902830331466628
         ],
         "y": [
          "E",
          "D",
          "C",
          "B",
          "A",
          "S",
          "L"
         ]
        }
       ],
       "layout": {
        "barmode": "stack",
        "legend": {
         "orientation": "h",
         "title": {
          "text": "Clase"
         },
         "x": 1,
         "xanchor": "right",
         "y": 1.02,
         "yanchor": "bottom"
        },
        "margin": {
         "b": 10,
         "l": 10,
         "r": 10,
         "t": 10
        },
        "plot_bgcolor": "rgba(0,0,0,0)",
        "template": {
         "data": {
          "bar": [
           {
            "error_x": {
             "color": "#2a3f5f"
            },
            "error_y": {
             "color": "#2a3f5f"
            },
            "marker": {
             "line": {
              "color": "#E5ECF6",
              "width": 0.5
             },
             "pattern": {
              "fillmode": "overlay",
              "size": 10,
              "solidity": 0.2
             }
            },
            "type": "bar"
           }
          ],
          "barpolar": [
           {
            "marker": {
             "line": {
              "color": "#E5ECF6",
              "width": 0.5
             },
             "pattern": {
              "fillmode": "overlay",
              "size": 10,
              "solidity": 0.2
             }
            },
            "type": "barpolar"
           }
          ],
          "carpet": [
           {
            "aaxis": {
             "endlinecolor": "#2a3f5f",
             "gridcolor": "white",
             "linecolor": "white",
             "minorgridcolor": "white",
             "startlinecolor": "#2a3f5f"
            },
            "baxis": {
             "endlinecolor": "#2a3f5f",
             "gridcolor": "white",
             "linecolor": "white",
             "minorgridcolor": "white",
             "startlinecolor": "#2a3f5f"
            },
            "type": "carpet"
           }
          ],
          "choropleth": [
           {
            "colorbar": {
             "outlinewidth": 0,
             "ticks": ""
            },
            "type": "choropleth"
           }
          ],
          "contour": [
           {
            "colorbar": {
             "outlinewidth": 0,
             "ticks": ""
            },
            "colorscale": [
             [
              0,
              "#0d0887"
             ],
             [
              0.1111111111111111,
              "#46039f"
             ],
             [
              0.2222222222222222,
              "#7201a8"
             ],
             [
              0.3333333333333333,
              "#9c179e"
             ],
             [
              0.4444444444444444,
              "#bd3786"
             ],
             [
              0.5555555555555556,
              "#d8576b"
             ],
             [
              0.6666666666666666,
              "#ed7953"
             ],
             [
              0.7777777777777778,
              "#fb9f3a"
             ],
             [
              0.8888888888888888,
              "#fdca26"
             ],
             [
              1,
              "#f0f921"
             ]
            ],
            "type": "contour"
           }
          ],
          "contourcarpet": [
           {
            "colorbar": {
             "outlinewidth": 0,
             "ticks": ""
            },
            "type": "contourcarpet"
           }
          ],
          "heatmap": [
           {
            "colorbar": {
             "outlinewidth": 0,
             "ticks": ""
            },
            "colorscale": [
             [
              0,
              "#0d0887"
             ],
             [
              0.1111111111111111,
              "#46039f"
             ],
             [
              0.2222222222222222,
              "#7201a8"
             ],
             [
              0.3333333333333333,
              "#9c179e"
             ],
             [
              0.4444444444444444,
              "#bd3786"
             ],
             [
              0.5555555555555556,
              "#d8576b"
             ],
             [
              0.6666666666666666,
              "#ed7953"
             ],
             [
              0.7777777777777778,
              "#fb9f3a"
             ],
             [
              0.8888888888888888,
              "#fdca26"
             ],
             [
              1,
              "#f0f921"
             ]
            ],
            "type": "heatmap"
           }
          ],
          "heatmapgl": [
           {
            "colorbar": {
             "outlinewidth": 0,
             "ticks": ""
            },
            "colorscale": [
             [
              0,
              "#0d0887"
             ],
             [
              0.1111111111111111,
              "#46039f"
             ],
             [
              0.2222222222222222,
              "#7201a8"
             ],
             [
              0.3333333333333333,
              "#9c179e"
             ],
             [
              0.4444444444444444,
              "#bd3786"
             ],
             [
              0.5555555555555556,
              "#d8576b"
             ],
             [
              0.6666666666666666,
              "#ed7953"
             ],
             [
              0.7777777777777778,
              "#fb9f3a"
             ],
             [
              0.8888888888888888,
              "#fdca26"
             ],
             [
              1,
              "#f0f921"
             ]
            ],
            "type": "heatmapgl"
           }
          ],
          "histogram": [
           {
            "marker": {
             "pattern": {
              "fillmode": "overlay",
              "size": 10,
              "solidity": 0.2
             }
            },
            "type": "histogram"
           }
          ],
          "histogram2d": [
           {
            "colorbar": {
             "outlinewidth": 0,
             "ticks": ""
            },
            "colorscale": [
             [
              0,
              "#0d0887"
             ],
             [
              0.1111111111111111,
              "#46039f"
             ],
             [
              0.2222222222222222,
              "#7201a8"
             ],
             [
              0.3333333333333333,
              "#9c179e"
             ],
             [
              0.4444444444444444,
              "#bd3786"
             ],
             [
              0.5555555555555556,
              "#d8576b"
             ],
             [
              0.6666666666666666,
              "#ed7953"
             ],
             [
              0.7777777777777778,
              "#fb9f3a"
             ],
             [
              0.8888888888888888,
              "#fdca26"
             ],
             [
              1,
              "#f0f921"
             ]
            ],
            "type": "histogram2d"
           }
          ],
          "histogram2dcontour": [
           {
            "colorbar": {
             "outlinewidth": 0,
             "ticks": ""
            },
            "colorscale": [
             [
              0,
              "#0d0887"
             ],
             [
              0.1111111111111111,
              "#46039f"
             ],
             [
              0.2222222222222222,
              "#7201a8"
             ],
             [
              0.3333333333333333,
              "#9c179e"
             ],
             [
              0.4444444444444444,
              "#bd3786"
             ],
             [
              0.5555555555555556,
              "#d8576b"
             ],
             [
              0.6666666666666666,
              "#ed7953"
             ],
             [
              0.7777777777777778,
              "#fb9f3a"
             ],
             [
              0.8888888888888888,
              "#fdca26"
             ],
             [
              1,
              "#f0f921"
             ]
            ],
            "type": "histogram2dcontour"
           }
          ],
          "mesh3d": [
           {
            "colorbar": {
             "outlinewidth": 0,
             "ticks": ""
            },
            "type": "mesh3d"
           }
          ],
          "parcoords": [
           {
            "line": {
             "colorbar": {
              "outlinewidth": 0,
              "ticks": ""
             }
            },
            "type": "parcoords"
           }
          ],
          "pie": [
           {
            "automargin": true,
            "type": "pie"
           }
          ],
          "scatter": [
           {
            "fillpattern": {
             "fillmode": "overlay",
             "size": 10,
             "solidity": 0.2
            },
            "type": "scatter"
           }
          ],
          "scatter3d": [
           {
            "line": {
             "colorbar": {
              "outlinewidth": 0,
              "ticks": ""
             }
            },
            "marker": {
             "colorbar": {
              "outlinewidth": 0,
              "ticks": ""
             }
            },
            "type": "scatter3d"
           }
          ],
          "scattercarpet": [
           {
            "marker": {
             "colorbar": {
              "outlinewidth": 0,
              "ticks": ""
             }
            },
            "type": "scattercarpet"
           }
          ],
          "scattergeo": [
           {
            "marker": {
             "colorbar": {
              "outlinewidth": 0,
              "ticks": ""
             }
            },
            "type": "scattergeo"
           }
          ],
          "scattergl": [
           {
            "marker": {
             "colorbar": {
              "outlinewidth": 0,
              "ticks": ""
             }
            },
            "type": "scattergl"
           }
          ],
          "scattermapbox": [
           {
            "marker": {
             "colorbar": {
              "outlinewidth": 0,
              "ticks": ""
             }
            },
            "type": "scattermapbox"
           }
          ],
          "scatterpolar": [
           {
            "marker": {
             "colorbar": {
              "outlinewidth": 0,
              "ticks": ""
             }
            },
            "type": "scatterpolar"
           }
          ],
          "scatterpolargl": [
           {
            "marker": {
             "colorbar": {
              "outlinewidth": 0,
              "ticks": ""
             }
            },
            "type": "scatterpolargl"
           }
          ],
          "scatterternary": [
           {
            "marker": {
             "colorbar": {
              "outlinewidth": 0,
              "ticks": ""
             }
            },
            "type": "scatterternary"
           }
          ],
          "surface": [
           {
            "colorbar": {
             "outlinewidth": 0,
             "ticks": ""
            },
            "colorscale": [
             [
              0,
              "#0d0887"
             ],
             [
              0.1111111111111111,
              "#46039f"
             ],
             [
              0.2222222222222222,
              "#7201a8"
             ],
             [
              0.3333333333333333,
              "#9c179e"
             ],
             [
              0.4444444444444444,
              "#bd3786"
             ],
             [
              0.5555555555555556,
              "#d8576b"
             ],
             [
              0.6666666666666666,
              "#ed7953"
             ],
             [
              0.7777777777777778,
              "#fb9f3a"
             ],
             [
              0.8888888888888888,
              "#fdca26"
             ],
             [
              1,
              "#f0f921"
             ]
            ],
            "type": "surface"
           }
          ],
          "table": [
           {
            "cells": {
             "fill": {
              "color": "#EBF0F8"
             },
             "line": {
              "color": "white"
             }
            },
            "header": {
             "fill": {
              "color": "#C8D4E3"
             },
             "line": {
              "color": "white"
             }
            },
            "type": "table"
           }
          ]
         },
         "layout": {
          "annotationdefaults": {
           "arrowcolor": "#2a3f5f",
           "arrowhead": 0,
           "arrowwidth": 1
          },
          "autotypenumbers": "strict",
          "coloraxis": {
           "colorbar": {
            "outlinewidth": 0,
            "ticks": ""
           }
          },
          "colorscale": {
           "diverging": [
            [
             0,
             "#8e0152"
            ],
            [
             0.1,
             "#c51b7d"
            ],
            [
             0.2,
             "#de77ae"
            ],
            [
             0.3,
             "#f1b6da"
            ],
            [
             0.4,
             "#fde0ef"
            ],
            [
             0.5,
             "#f7f7f7"
            ],
            [
             0.6,
             "#e6f5d0"
            ],
            [
             0.7,
             "#b8e186"
            ],
            [
             0.8,
             "#7fbc41"
            ],
            [
             0.9,
             "#4d9221"
            ],
            [
             1,
             "#276419"
            ]
           ],
           "sequential": [
            [
             0,
             "#0d0887"
            ],
            [
             0.1111111111111111,
             "#46039f"
            ],
            [
             0.2222222222222222,
             "#7201a8"
            ],
            [
             0.3333333333333333,
             "#9c179e"
            ],
            [
             0.4444444444444444,
             "#bd3786"
            ],
            [
             0.5555555555555556,
             "#d8576b"
            ],
            [
             0.6666666666666666,
             "#ed7953"
            ],
            [
             0.7777777777777778,
             "#fb9f3a"
            ],
            [
             0.8888888888888888,
             "#fdca26"
            ],
            [
             1,
             "#f0f921"
            ]
           ],
           "sequentialminus": [
            [
             0,
             "#0d0887"
            ],
            [
             0.1111111111111111,
             "#46039f"
            ],
            [
             0.2222222222222222,
             "#7201a8"
            ],
            [
             0.3333333333333333,
             "#9c179e"
            ],
            [
             0.4444444444444444,
             "#bd3786"
            ],
            [
             0.5555555555555556,
             "#d8576b"
            ],
            [
             0.6666666666666666,
             "#ed7953"
            ],
            [
             0.7777777777777778,
             "#fb9f3a"
            ],
            [
             0.8888888888888888,
             "#fdca26"
            ],
            [
             1,
             "#f0f921"
            ]
           ]
          },
          "colorway": [
           "#636efa",
           "#EF553B",
           "#00cc96",
           "#ab63fa",
           "#FFA15A",
           "#19d3f3",
           "#FF6692",
           "#B6E880",
           "#FF97FF",
           "#FECB52"
          ],
          "font": {
           "color": "#2a3f5f"
          },
          "geo": {
           "bgcolor": "white",
           "lakecolor": "white",
           "landcolor": "#E5ECF6",
           "showlakes": true,
           "showland": true,
           "subunitcolor": "white"
          },
          "hoverlabel": {
           "align": "left"
          },
          "hovermode": "closest",
          "mapbox": {
           "style": "light"
          },
          "paper_bgcolor": "white",
          "plot_bgcolor": "#E5ECF6",
          "polar": {
           "angularaxis": {
            "gridcolor": "white",
            "linecolor": "white",
            "ticks": ""
           },
           "bgcolor": "#E5ECF6",
           "radialaxis": {
            "gridcolor": "white",
            "linecolor": "white",
            "ticks": ""
           }
          },
          "scene": {
           "xaxis": {
            "backgroundcolor": "#E5ECF6",
            "gridcolor": "white",
            "gridwidth": 2,
            "linecolor": "white",
            "showbackground": true,
            "ticks": "",
            "zerolinecolor": "white"
           },
           "yaxis": {
            "backgroundcolor": "#E5ECF6",
            "gridcolor": "white",
            "gridwidth": 2,
            "linecolor": "white",
            "showbackground": true,
            "ticks": "",
            "zerolinecolor": "white"
           },
           "zaxis": {
            "backgroundcolor": "#E5ECF6",
            "gridcolor": "white",
            "gridwidth": 2,
            "linecolor": "white",
            "showbackground": true,
            "ticks": "",
            "zerolinecolor": "white"
           }
          },
          "shapedefaults": {
           "line": {
            "color": "#2a3f5f"
           }
          },
          "ternary": {
           "aaxis": {
            "gridcolor": "white",
            "linecolor": "white",
            "ticks": ""
           },
           "baxis": {
            "gridcolor": "white",
            "linecolor": "white",
            "ticks": ""
           },
           "bgcolor": "#E5ECF6",
           "caxis": {
            "gridcolor": "white",
            "linecolor": "white",
            "ticks": ""
           }
          },
          "title": {
           "x": 0.05
          },
          "xaxis": {
           "automargin": true,
           "gridcolor": "white",
           "linecolor": "white",
           "ticks": "",
           "title": {
            "standoff": 15
           },
           "zerolinecolor": "white",
           "zerolinewidth": 2
          },
          "yaxis": {
           "automargin": true,
           "gridcolor": "white",
           "linecolor": "white",
           "ticks": "",
           "title": {
            "standoff": 15
           },
           "zerolinecolor": "white",
           "zerolinewidth": 2
          }
         }
        },
        "xaxis": {
         "gridcolor": "#dddcda",
         "gridwidth": 1,
         "title": {
          "text": "Porcentaje"
         }
        },
        "yaxis": {
         "title": {
          "text": "Segmento"
         }
        }
       }
      }
     },
     "metadata": {},
     "output_type": "display_data"
    }
   ],
   "source": [
    "# Mantener orden en barras\n",
    "segmentos = list(porcentajes_clase_ordenado.index)\n",
    "segmentos_sorted = ['E','D','C','B','A','S','L']  # Orden deseado\n",
    "segmentos_sorted.extend([segmento for segmento in segmentos if segmento not in segmentos_sorted])  # Agregar los segmentos restantes\n",
    "clases = porcentajes_clase_ordenado.columns # Clases como etiquetas de las series de datos\n",
    "clases = ['1', '2', '3']  # Clases en el orden deseado\n",
    "# Definir los colores por clase\n",
    "colores = {\n",
    "    '1': '#2962ff',\n",
    "    '2': '#9500ff',\n",
    "    '3': '#ff0059'\n",
    "}\n",
    "# Almacenar las barras de cada clase\n",
    "barras = []\n",
    "for clase in clases:\n",
    "    barras.append(go.Bar(\n",
    "        y=segmentos_sorted,  # Eje y: Segmentos\n",
    "        x=porcentajes_clase_ordenado.loc[segmentos_sorted, clase],  # Eje x: Porcentajes de clase\n",
    "        name=f'{clase}',  # Nombre de la serie de datos\n",
    "        orientation='h',  # Orientación horizontal\n",
    "        text=porcentajes_clase_ordenado.loc[segmentos_sorted, clase].apply(lambda x: f'{x:.2f}%'),  # Texto con los porcentajes\n",
    "        textposition='auto',  # Posición automática del texto\n",
    "        marker_color=colores[clase]   # Color de las barras\n",
    "    ))\n",
    "fig = go.Figure(data=barras)\n",
    "fig.update_layout(\n",
    "    #title='Distribución de segmentos',\n",
    "    yaxis=dict(\n",
    "        title='Segmento', # Título del eje y\n",
    "    ),\n",
    "    legend_title=\"Clase\",\n",
    "        barmode='stack',\n",
    "        legend=dict(\n",
    "            orientation='h',  # Orientación horizontal de la leyenda\n",
    "            yanchor='bottom',  # Anclar al borde inferior\n",
    "            y=1.02,  # Colocar la leyenda justo debajo del gráfico\n",
    "            xanchor='right',\n",
    "            x=1\n",
    "        ),\n",
    "    plot_bgcolor='rgba(0,0,0,0)',  # Color de fondo del gráfico      \n",
    "    xaxis=dict(\n",
    "        title='Porcentaje', # Título del eje x\n",
    "        gridcolor='#dddcda', # Color de las líneas que dividen los rangos del eje Y\n",
    "        gridwidth=1,\n",
    "    ),  \n",
    "    margin=dict(l=10, r=10, t=10, b=10)  # Ajusta los márgenes (left, right, top, bottom)\n",
    ")\n",
    "\n",
    "# Exportar gráfica como archivo HTML\n",
    "def guardar_grafico_como_html(fig, nombre_archivo, carpeta='graficas'):\n",
    "    # Crear la carpeta si no existe\n",
    "    if not os.path.exists(carpeta):\n",
    "        os.makedirs(carpeta)\n",
    "    # Gráfica como archivo HTML en la carpeta especificada\n",
    "    pio.write_html(fig, f'{carpeta}/{nombre_archivo}.html')\n",
    "guardar_grafico_como_html(fig, 'g_bar_distriXsegmentos_pueb', carpeta='graficas')\n",
    "\n",
    "fig.show()"
   ]
  },
  {
   "cell_type": "code",
   "execution_count": null,
   "metadata": {},
   "outputs": [],
   "source": []
  },
  {
   "cell_type": "markdown",
   "metadata": {},
   "source": [
    "## QUERETARO"
   ]
  },
  {
   "cell_type": "markdown",
   "metadata": {},
   "source": []
  }
 ],
 "metadata": {
  "kernelspec": {
   "display_name": "base",
   "language": "python",
   "name": "python3"
  },
  "language_info": {
   "codemirror_mode": {
    "name": "ipython",
    "version": 3
   },
   "file_extension": ".py",
   "mimetype": "text/x-python",
   "name": "python",
   "nbconvert_exporter": "python",
   "pygments_lexer": "ipython3",
   "version": "3.9.13"
  }
 },
 "nbformat": 4,
 "nbformat_minor": 2
}
