{
 "cells": [
  {
   "cell_type": "markdown",
   "metadata": {},
   "source": [
    "# ***DISTRIBUCIÓN DE SEGMENTOS***"
   ]
  },
  {
   "cell_type": "code",
   "execution_count": 26,
   "metadata": {},
   "outputs": [],
   "source": [
    "# Manejo de datos\n",
    "import os # Directorios\n",
    "import pandas as pd # Manipulación df\n",
    "\n",
    "# Gráficas\n",
    "import plotly.graph_objects as go #Para obtener librería usar: pip install plotly\n",
    "from plotly.subplots import make_subplots\n",
    "import plotly.io as pio # Exportar gráfica"
   ]
  },
  {
   "cell_type": "markdown",
   "metadata": {},
   "source": [
    "# *Data import*"
   ]
  },
  {
   "cell_type": "code",
   "execution_count": 118,
   "metadata": {},
   "outputs": [],
   "source": [
    "# Obtener el directorio actual de trabajo\n",
    "directorio_actual = os.getcwd()\n",
    "# Directorio donde se encuentran los archivos JSON (ruta relativa)\n",
    "directorio_json = os.path.join(directorio_actual, 'datos_json')\n",
    "# Imprimir la ruta relativa\n",
    "#print(\"Directorio JSON relativo:\", directorio_json)\n",
    "# Obtener la lista de archivos JSON en el directorio\n",
    "archivos_json = os.listdir(directorio_json)"
   ]
  },
  {
   "cell_type": "markdown",
   "metadata": {},
   "source": [
    "### *Creación de los df por cada archivo json*"
   ]
  },
  {
   "cell_type": "code",
   "execution_count": 119,
   "metadata": {},
   "outputs": [],
   "source": [
    "dataframes = {} # Crear un diccionario para almacenar los DataFrames\n",
    "# Iterar sobre cada archivo JSON y crear un DataFrame\n",
    "for archivo in archivos_json:\n",
    "    # Obtener el nombre de la tabla del nombre del archivo\n",
    "    nombre_tabla = archivo.replace('datos_', '').replace('.json', '')    \n",
    "    # Cargar el archivo JSON en un DataFrame y asignarlo a una variable con un nombre dinámico\n",
    "    ruta_json = os.path.join(directorio_json, archivo)\n",
    "    globals()[f\"df_{nombre_tabla}\"] = pd.read_json(ruta_json)"
   ]
  },
  {
   "cell_type": "code",
   "execution_count": 120,
   "metadata": {},
   "outputs": [
    {
     "name": "stdout",
     "output_type": "stream",
     "text": [
      "Lista de DataFrames creados:\n",
      "['df_alfa_q_feb_2023_pachuca', 'df_alfa_q_jul_2023_pachuca', 'df_alfa_q_jun_2023_pachuca', 'df_alfa_q_mar_2023_pachuca', 'df_alfa_q_nov_2022_pachuca', 'df_alfa_q_oct_2022_pachuca', 'df_alfa_q_sep_2023_pachuca', 'df_financiamientos_2022_pachuca', 'df_financiamientos_2023_pachuca', 'df_grupos_edad_pachuca', 'df_usuarios', 'df_segmentos_per', 'df_percent', 'df_percents']\n"
     ]
    }
   ],
   "source": [
    "# Obtener todos los nombres de las variables globales\n",
    "nombres_variables_globales = list(globals().keys())\n",
    "# Filtrar los nombres para obtener solo aquellos que comienzan con \"df_\"\n",
    "nombres_df = [nombre for nombre in nombres_variables_globales if nombre.startswith(\"df_\")]\n",
    "\n",
    "# Imprimir la lista de nombres de los DataFrames creados\n",
    "print(\"Lista de DataFrames creados:\")\n",
    "print(nombres_df)"
   ]
  },
  {
   "cell_type": "markdown",
   "metadata": {},
   "source": [
    "_________\n",
    "# *Distribución*\n",
    "### Selección de datos"
   ]
  },
  {
   "cell_type": "code",
   "execution_count": 121,
   "metadata": {},
   "outputs": [],
   "source": [
    "# Crea los DataFrames para cada archivo con las columnas necesarias\n",
    "segment_df_alfa_q_oct_2022_pachuca = df_alfa_q_oct_2022_pachuca[['id','categoria']]\n",
    "segment_df_alfa_q_nov_2022_pachuca = df_alfa_q_nov_2022_pachuca[['id','categoria']]\n",
    "segment_df_alfa_q_feb_2023_pachuca = df_alfa_q_feb_2023_pachuca[['id','categoria']]\n",
    "segment_df_alfa_q_mar_2023_pachuca = df_alfa_q_mar_2023_pachuca[['id','categoria']]\n",
    "segment_df_alfa_q_jun_2023_pachuca = df_alfa_q_jun_2023_pachuca[['id','categoria']]\n",
    "segment_df_alfa_q_jul_2023_pachuca = df_alfa_q_jul_2023_pachuca[['id','categoria']]\n",
    "segment_df_alfa_q_sep_2023_pachuca = df_alfa_q_sep_2023_pachuca[['id','categoria']] # Vacía"
   ]
  },
  {
   "cell_type": "markdown",
   "metadata": {},
   "source": [
    "### Conteo único de datos \"categoria\""
   ]
  },
  {
   "cell_type": "code",
   "execution_count": 166,
   "metadata": {},
   "outputs": [
    {
     "data": {
      "text/html": [
       "<div>\n",
       "<style scoped>\n",
       "    .dataframe tbody tr th:only-of-type {\n",
       "        vertical-align: middle;\n",
       "    }\n",
       "\n",
       "    .dataframe tbody tr th {\n",
       "        vertical-align: top;\n",
       "    }\n",
       "\n",
       "    .dataframe thead th {\n",
       "        text-align: right;\n",
       "    }\n",
       "</style>\n",
       "<table border=\"1\" class=\"dataframe\">\n",
       "  <thead>\n",
       "    <tr style=\"text-align: right;\">\n",
       "      <th></th>\n",
       "      <th>categoria</th>\n",
       "      <th>conteo_total</th>\n",
       "    </tr>\n",
       "  </thead>\n",
       "  <tbody>\n",
       "    <tr>\n",
       "      <th>0</th>\n",
       "      <td>S</td>\n",
       "      <td>1824</td>\n",
       "    </tr>\n",
       "    <tr>\n",
       "      <th>1</th>\n",
       "      <td>D1</td>\n",
       "      <td>782</td>\n",
       "    </tr>\n",
       "    <tr>\n",
       "      <th>2</th>\n",
       "      <td>C3</td>\n",
       "      <td>617</td>\n",
       "    </tr>\n",
       "    <tr>\n",
       "      <th>3</th>\n",
       "      <td>B1</td>\n",
       "      <td>686</td>\n",
       "    </tr>\n",
       "    <tr>\n",
       "      <th>4</th>\n",
       "      <td>B2</td>\n",
       "      <td>645</td>\n",
       "    </tr>\n",
       "    <tr>\n",
       "      <th>5</th>\n",
       "      <td>B3</td>\n",
       "      <td>571</td>\n",
       "    </tr>\n",
       "    <tr>\n",
       "      <th>6</th>\n",
       "      <td>D2</td>\n",
       "      <td>506</td>\n",
       "    </tr>\n",
       "    <tr>\n",
       "      <th>7</th>\n",
       "      <td>C2</td>\n",
       "      <td>516</td>\n",
       "    </tr>\n",
       "    <tr>\n",
       "      <th>8</th>\n",
       "      <td>D3</td>\n",
       "      <td>395</td>\n",
       "    </tr>\n",
       "    <tr>\n",
       "      <th>9</th>\n",
       "      <td>A3</td>\n",
       "      <td>399</td>\n",
       "    </tr>\n",
       "    <tr>\n",
       "      <th>10</th>\n",
       "      <td>C1</td>\n",
       "      <td>365</td>\n",
       "    </tr>\n",
       "    <tr>\n",
       "      <th>11</th>\n",
       "      <td>A1</td>\n",
       "      <td>357</td>\n",
       "    </tr>\n",
       "    <tr>\n",
       "      <th>12</th>\n",
       "      <td>A2</td>\n",
       "      <td>346</td>\n",
       "    </tr>\n",
       "    <tr>\n",
       "      <th>13</th>\n",
       "      <td>E1</td>\n",
       "      <td>254</td>\n",
       "    </tr>\n",
       "    <tr>\n",
       "      <th>14</th>\n",
       "      <td>E2</td>\n",
       "      <td>42</td>\n",
       "    </tr>\n",
       "  </tbody>\n",
       "</table>\n",
       "</div>"
      ],
      "text/plain": [
       "   categoria  conteo_total\n",
       "0          S          1824\n",
       "1         D1           782\n",
       "2         C3           617\n",
       "3         B1           686\n",
       "4         B2           645\n",
       "5         B3           571\n",
       "6         D2           506\n",
       "7         C2           516\n",
       "8         D3           395\n",
       "9         A3           399\n",
       "10        C1           365\n",
       "11        A1           357\n",
       "12        A2           346\n",
       "13        E1           254\n",
       "14        E2            42"
      ]
     },
     "execution_count": 166,
     "metadata": {},
     "output_type": "execute_result"
    }
   ],
   "source": [
    "# Lista de DataFrames y sus nombres correspondientes\n",
    "dataframes_list = [\n",
    "    segment_df_alfa_q_oct_2022_pachuca,\n",
    "    segment_df_alfa_q_nov_2022_pachuca,\n",
    "    segment_df_alfa_q_feb_2023_pachuca,\n",
    "    segment_df_alfa_q_mar_2023_pachuca,\n",
    "    segment_df_alfa_q_jun_2023_pachuca,\n",
    "    segment_df_alfa_q_jul_2023_pachuca\n",
    "]\n",
    "\n",
    "# Inicializar un diccionario para almacenar el conteo total de valores únicos\n",
    "conteo_total = {}\n",
    "\n",
    "# Iterar sobre la lista de DataFrames\n",
    "for df in dataframes_list:\n",
    "    # Calcular el conteo de valores únicos de 'categoria' en el DataFrame actual\n",
    "    conteo_actual = df['categoria'].value_counts().to_dict()\n",
    "    # Agregar el conteo actual al conteo total\n",
    "    for categoria, conteo in conteo_actual.items():\n",
    "        conteo_total[categoria] = conteo_total.get(categoria, 0) + conteo\n",
    "\n",
    "# Convertir el diccionario a un DataFrame\n",
    "conteo_total_df = pd.DataFrame(list(conteo_total.items()), columns=['categoria', 'conteo_total'])\n",
    "\n",
    "# Imprimir el DataFrame con el conteo total\n",
    "conteo_total_df"
   ]
  },
  {
   "cell_type": "code",
   "execution_count": 167,
   "metadata": {},
   "outputs": [
    {
     "name": "stderr",
     "output_type": "stream",
     "text": [
      "C:\\Users\\yoe11\\AppData\\Local\\Temp\\ipykernel_5232\\3569535127.py:8: FutureWarning: The frame.append method is deprecated and will be removed from pandas in a future version. Use pandas.concat instead.\n",
      "  conteo_total_df = conteo_total_df.append(nueva_fila, ignore_index=True)\n"
     ]
    },
    {
     "data": {
      "text/html": [
       "<div>\n",
       "<style scoped>\n",
       "    .dataframe tbody tr th:only-of-type {\n",
       "        vertical-align: middle;\n",
       "    }\n",
       "\n",
       "    .dataframe tbody tr th {\n",
       "        vertical-align: top;\n",
       "    }\n",
       "\n",
       "    .dataframe thead th {\n",
       "        text-align: right;\n",
       "    }\n",
       "</style>\n",
       "<table border=\"1\" class=\"dataframe\">\n",
       "  <thead>\n",
       "    <tr style=\"text-align: right;\">\n",
       "      <th></th>\n",
       "      <th>conteo_total</th>\n",
       "      <th>segmento</th>\n",
       "      <th>clase</th>\n",
       "    </tr>\n",
       "  </thead>\n",
       "  <tbody>\n",
       "    <tr>\n",
       "      <th>0</th>\n",
       "      <td>1824</td>\n",
       "      <td>S</td>\n",
       "      <td>1</td>\n",
       "    </tr>\n",
       "    <tr>\n",
       "      <th>1</th>\n",
       "      <td>782</td>\n",
       "      <td>D</td>\n",
       "      <td>1</td>\n",
       "    </tr>\n",
       "    <tr>\n",
       "      <th>2</th>\n",
       "      <td>617</td>\n",
       "      <td>C</td>\n",
       "      <td>3</td>\n",
       "    </tr>\n",
       "    <tr>\n",
       "      <th>3</th>\n",
       "      <td>686</td>\n",
       "      <td>B</td>\n",
       "      <td>1</td>\n",
       "    </tr>\n",
       "    <tr>\n",
       "      <th>4</th>\n",
       "      <td>645</td>\n",
       "      <td>B</td>\n",
       "      <td>2</td>\n",
       "    </tr>\n",
       "    <tr>\n",
       "      <th>5</th>\n",
       "      <td>571</td>\n",
       "      <td>B</td>\n",
       "      <td>3</td>\n",
       "    </tr>\n",
       "    <tr>\n",
       "      <th>6</th>\n",
       "      <td>506</td>\n",
       "      <td>D</td>\n",
       "      <td>2</td>\n",
       "    </tr>\n",
       "    <tr>\n",
       "      <th>7</th>\n",
       "      <td>516</td>\n",
       "      <td>C</td>\n",
       "      <td>2</td>\n",
       "    </tr>\n",
       "    <tr>\n",
       "      <th>8</th>\n",
       "      <td>395</td>\n",
       "      <td>D</td>\n",
       "      <td>3</td>\n",
       "    </tr>\n",
       "    <tr>\n",
       "      <th>9</th>\n",
       "      <td>399</td>\n",
       "      <td>A</td>\n",
       "      <td>3</td>\n",
       "    </tr>\n",
       "    <tr>\n",
       "      <th>10</th>\n",
       "      <td>365</td>\n",
       "      <td>C</td>\n",
       "      <td>1</td>\n",
       "    </tr>\n",
       "    <tr>\n",
       "      <th>11</th>\n",
       "      <td>357</td>\n",
       "      <td>A</td>\n",
       "      <td>1</td>\n",
       "    </tr>\n",
       "    <tr>\n",
       "      <th>12</th>\n",
       "      <td>346</td>\n",
       "      <td>A</td>\n",
       "      <td>2</td>\n",
       "    </tr>\n",
       "    <tr>\n",
       "      <th>13</th>\n",
       "      <td>254</td>\n",
       "      <td>E</td>\n",
       "      <td>1</td>\n",
       "    </tr>\n",
       "    <tr>\n",
       "      <th>14</th>\n",
       "      <td>42</td>\n",
       "      <td>E</td>\n",
       "      <td>2</td>\n",
       "    </tr>\n",
       "    <tr>\n",
       "      <th>15</th>\n",
       "      <td>0</td>\n",
       "      <td>E</td>\n",
       "      <td>3</td>\n",
       "    </tr>\n",
       "  </tbody>\n",
       "</table>\n",
       "</div>"
      ],
      "text/plain": [
       "    conteo_total segmento clase\n",
       "0           1824        S     1\n",
       "1            782        D     1\n",
       "2            617        C     3\n",
       "3            686        B     1\n",
       "4            645        B     2\n",
       "5            571        B     3\n",
       "6            506        D     2\n",
       "7            516        C     2\n",
       "8            395        D     3\n",
       "9            399        A     3\n",
       "10           365        C     1\n",
       "11           357        A     1\n",
       "12           346        A     2\n",
       "13           254        E     1\n",
       "14            42        E     2\n",
       "15             0        E     3"
      ]
     },
     "execution_count": 167,
     "metadata": {},
     "output_type": "execute_result"
    }
   ],
   "source": [
    "# Añadir una nuevas columnas que extraigan el número y letra de la categoría\n",
    "conteo_total_df['segmento'] = conteo_total_df['categoria'].str[0]\n",
    "conteo_total_df['clase'] = conteo_total_df['categoria'].str.extract(r'(\\d+)').fillna('1')\n",
    "conteo_total_df.drop(columns=['categoria'], inplace=True)\n",
    "# Crear una nueva fila como un diccionario de Python\n",
    "nueva_fila = {'conteo_total': 0, 'segmento': 'E', 'clase': '3'}\n",
    "# Agregar la nueva fila al DataFrame\n",
    "conteo_total_df = conteo_total_df.append(nueva_fila, ignore_index=True)\n",
    "\n",
    "conteo_total_df"
   ]
  },
  {
   "cell_type": "code",
   "execution_count": 168,
   "metadata": {},
   "outputs": [
    {
     "data": {
      "text/plain": [
       "segmento  clase\n",
       "A         1         357\n",
       "          2         346\n",
       "          3         399\n",
       "B         1         686\n",
       "          2         645\n",
       "          3         571\n",
       "C         1         365\n",
       "          2         516\n",
       "          3         617\n",
       "D         1         782\n",
       "          2         506\n",
       "          3         395\n",
       "E         1         254\n",
       "          2          42\n",
       "          3           0\n",
       "S         1        1824\n",
       "Name: conteo_total, dtype: int64"
      ]
     },
     "execution_count": 168,
     "metadata": {},
     "output_type": "execute_result"
    }
   ],
   "source": [
    "#segmentos_dist = conteo_total_df.groupby(['segmento', 'clase']) # Agrupar\n",
    "segmentos_dist = conteo_total_df.groupby(['segmento', 'clase'])['conteo_total'].sum()\n",
    "segmentos_dist"
   ]
  },
  {
   "cell_type": "markdown",
   "metadata": {},
   "source": [
    "### Totales de registros por segmento"
   ]
  },
  {
   "cell_type": "code",
   "execution_count": 169,
   "metadata": {},
   "outputs": [
    {
     "data": {
      "text/plain": [
       "segmento\n",
       "A    1102\n",
       "B    1902\n",
       "C    1498\n",
       "D    1683\n",
       "E     296\n",
       "S    1824\n",
       "Name: conteo_total, dtype: int64"
      ]
     },
     "execution_count": 169,
     "metadata": {},
     "output_type": "execute_result"
    }
   ],
   "source": [
    "total_segmento = conteo_total_df.groupby('segmento')['conteo_total'].sum() # Total de registros por segmento\n",
    "total_segmento"
   ]
  },
  {
   "cell_type": "markdown",
   "metadata": {},
   "source": [
    "EN PORCENTAJE"
   ]
  },
  {
   "cell_type": "code",
   "execution_count": 170,
   "metadata": {},
   "outputs": [
    {
     "name": "stdout",
     "output_type": "stream",
     "text": [
      "Total de registros:  8305\n"
     ]
    },
    {
     "data": {
      "text/html": [
       "<div>\n",
       "<style scoped>\n",
       "    .dataframe tbody tr th:only-of-type {\n",
       "        vertical-align: middle;\n",
       "    }\n",
       "\n",
       "    .dataframe tbody tr th {\n",
       "        vertical-align: top;\n",
       "    }\n",
       "\n",
       "    .dataframe thead th {\n",
       "        text-align: right;\n",
       "    }\n",
       "</style>\n",
       "<table border=\"1\" class=\"dataframe\">\n",
       "  <thead>\n",
       "    <tr style=\"text-align: right;\">\n",
       "      <th></th>\n",
       "      <th>segmento</th>\n",
       "      <th>total_por_segmento</th>\n",
       "      <th>porcentaje_del_total</th>\n",
       "    </tr>\n",
       "  </thead>\n",
       "  <tbody>\n",
       "    <tr>\n",
       "      <th>0</th>\n",
       "      <td>A</td>\n",
       "      <td>1102</td>\n",
       "      <td>13.269115</td>\n",
       "    </tr>\n",
       "    <tr>\n",
       "      <th>1</th>\n",
       "      <td>B</td>\n",
       "      <td>1902</td>\n",
       "      <td>22.901866</td>\n",
       "    </tr>\n",
       "    <tr>\n",
       "      <th>2</th>\n",
       "      <td>C</td>\n",
       "      <td>1498</td>\n",
       "      <td>18.037327</td>\n",
       "    </tr>\n",
       "    <tr>\n",
       "      <th>3</th>\n",
       "      <td>D</td>\n",
       "      <td>1683</td>\n",
       "      <td>20.264901</td>\n",
       "    </tr>\n",
       "    <tr>\n",
       "      <th>4</th>\n",
       "      <td>E</td>\n",
       "      <td>296</td>\n",
       "      <td>3.564118</td>\n",
       "    </tr>\n",
       "    <tr>\n",
       "      <th>5</th>\n",
       "      <td>S</td>\n",
       "      <td>1824</td>\n",
       "      <td>21.962673</td>\n",
       "    </tr>\n",
       "  </tbody>\n",
       "</table>\n",
       "</div>"
      ],
      "text/plain": [
       "  segmento  total_por_segmento  porcentaje_del_total\n",
       "0        A                1102             13.269115\n",
       "1        B                1902             22.901866\n",
       "2        C                1498             18.037327\n",
       "3        D                1683             20.264901\n",
       "4        E                 296              3.564118\n",
       "5        S                1824             21.962673"
      ]
     },
     "execution_count": 170,
     "metadata": {},
     "output_type": "execute_result"
    }
   ],
   "source": [
    "# Calcular el total de registros por cada segmento, incluyendo todas sus categorías\n",
    "total_por_segmento = conteo_total_df.groupby('segmento')['conteo_total'].sum()\n",
    "# Calcular el total de registros en todos los segmentos\n",
    "total_registros_total = total_por_segmento.sum()\n",
    "# Calcular el porcentaje que representa cada total de segmento con respecto al total de registros en todo el DataFrame\n",
    "porcentaje_total_segmento = (total_por_segmento / total_registros_total) * 100\n",
    "# Crear un DataFrame con los resultados\n",
    "resultados = pd.DataFrame({\n",
    "    'segmento': total_por_segmento.index,\n",
    "    'total_por_segmento': total_por_segmento.values,\n",
    "    'porcentaje_del_total': porcentaje_total_segmento.values\n",
    "})\n",
    "\n",
    "print(\"Total de registros: \",total_registros_total)\n",
    "#porcentaje_del_total_porsegmentos\n",
    "resultados"
   ]
  },
  {
   "cell_type": "markdown",
   "metadata": {},
   "source": [
    "### Porcentaje de categoría por segmento"
   ]
  },
  {
   "cell_type": "markdown",
   "metadata": {},
   "source": [
    "#Obtener el total de registros por segmento\n",
    "total_segmento = conteo_total_df.groupby('segmento')['conteo_total'].sum()\n",
    "#Calcular los porcentajes\n",
    "segmentos_percent = conteo_total_df.merge(total_segmento, on='segmento', suffixes=('', '_total'))\n",
    "segmentos_percent['porcentaje'] = segmentos_percent['conteo_total'] / segmentos_percent['conteo_total_total'] * 100\n",
    "#Seleccionar las columnas necesarias y eliminar las columnas auxiliares\n",
    "segmentos_percent = segmentos_percent[['segmento', 'clase', 'porcentaje']]\n",
    "segmentos_percent"
   ]
  },
  {
   "cell_type": "code",
   "execution_count": 171,
   "metadata": {},
   "outputs": [
    {
     "ename": "KeyError",
     "evalue": "'segmento'",
     "output_type": "error",
     "traceback": [
      "\u001b[1;31m---------------------------------------------------------------------------\u001b[0m",
      "\u001b[1;31mKeyError\u001b[0m                                  Traceback (most recent call last)",
      "\u001b[1;32mc:\\Users\\yoe11\\anaconda3\\lib\\site-packages\\pandas\\core\\indexes\\base.py\u001b[0m in \u001b[0;36mget_loc\u001b[1;34m(self, key, method, tolerance)\u001b[0m\n\u001b[0;32m   3628\u001b[0m             \u001b[1;32mtry\u001b[0m\u001b[1;33m:\u001b[0m\u001b[1;33m\u001b[0m\u001b[1;33m\u001b[0m\u001b[0m\n\u001b[1;32m-> 3629\u001b[1;33m                 \u001b[1;32mreturn\u001b[0m \u001b[0mself\u001b[0m\u001b[1;33m.\u001b[0m\u001b[0m_engine\u001b[0m\u001b[1;33m.\u001b[0m\u001b[0mget_loc\u001b[0m\u001b[1;33m(\u001b[0m\u001b[0mcasted_key\u001b[0m\u001b[1;33m)\u001b[0m\u001b[1;33m\u001b[0m\u001b[1;33m\u001b[0m\u001b[0m\n\u001b[0m\u001b[0;32m   3630\u001b[0m             \u001b[1;32mexcept\u001b[0m \u001b[0mKeyError\u001b[0m \u001b[1;32mas\u001b[0m \u001b[0merr\u001b[0m\u001b[1;33m:\u001b[0m\u001b[1;33m\u001b[0m\u001b[1;33m\u001b[0m\u001b[0m\n",
      "\u001b[1;32mc:\\Users\\yoe11\\anaconda3\\lib\\site-packages\\pandas\\_libs\\index.pyx\u001b[0m in \u001b[0;36mpandas._libs.index.IndexEngine.get_loc\u001b[1;34m()\u001b[0m\n",
      "\u001b[1;32mc:\\Users\\yoe11\\anaconda3\\lib\\site-packages\\pandas\\_libs\\index.pyx\u001b[0m in \u001b[0;36mpandas._libs.index.IndexEngine.get_loc\u001b[1;34m()\u001b[0m\n",
      "\u001b[1;32mpandas\\_libs\\hashtable_class_helper.pxi\u001b[0m in \u001b[0;36mpandas._libs.hashtable.PyObjectHashTable.get_item\u001b[1;34m()\u001b[0m\n",
      "\u001b[1;32mpandas\\_libs\\hashtable_class_helper.pxi\u001b[0m in \u001b[0;36mpandas._libs.hashtable.PyObjectHashTable.get_item\u001b[1;34m()\u001b[0m\n",
      "\u001b[1;31mKeyError\u001b[0m: 'segmento'",
      "\nThe above exception was the direct cause of the following exception:\n",
      "\u001b[1;31mKeyError\u001b[0m                                  Traceback (most recent call last)",
      "\u001b[1;32m~\\AppData\\Local\\Temp\\ipykernel_5232\\4094967030.py\u001b[0m in \u001b[0;36m<module>\u001b[1;34m\u001b[0m\n\u001b[0;32m      3\u001b[0m \u001b[0morden_clase\u001b[0m \u001b[1;33m=\u001b[0m \u001b[1;33m[\u001b[0m\u001b[1;34m'1'\u001b[0m\u001b[1;33m,\u001b[0m \u001b[1;34m'2'\u001b[0m\u001b[1;33m,\u001b[0m \u001b[1;34m'3'\u001b[0m\u001b[1;33m]\u001b[0m\u001b[1;33m\u001b[0m\u001b[1;33m\u001b[0m\u001b[0m\n\u001b[0;32m      4\u001b[0m \u001b[1;31m# Convertir las columnas segmento y clase a categorías con el orden personalizado\u001b[0m\u001b[1;33m\u001b[0m\u001b[1;33m\u001b[0m\u001b[0m\n\u001b[1;32m----> 5\u001b[1;33m \u001b[0msegmentos_percent\u001b[0m\u001b[1;33m[\u001b[0m\u001b[1;34m'segmento'\u001b[0m\u001b[1;33m]\u001b[0m \u001b[1;33m=\u001b[0m \u001b[0mpd\u001b[0m\u001b[1;33m.\u001b[0m\u001b[0mCategorical\u001b[0m\u001b[1;33m(\u001b[0m\u001b[0msegmentos_percent\u001b[0m\u001b[1;33m[\u001b[0m\u001b[1;34m'segmento'\u001b[0m\u001b[1;33m]\u001b[0m\u001b[1;33m,\u001b[0m \u001b[0mcategories\u001b[0m\u001b[1;33m=\u001b[0m\u001b[0morden_segmento\u001b[0m\u001b[1;33m,\u001b[0m \u001b[0mordered\u001b[0m\u001b[1;33m=\u001b[0m\u001b[1;32mTrue\u001b[0m\u001b[1;33m)\u001b[0m\u001b[1;33m\u001b[0m\u001b[1;33m\u001b[0m\u001b[0m\n\u001b[0m\u001b[0;32m      6\u001b[0m \u001b[0msegmentos_percent\u001b[0m\u001b[1;33m[\u001b[0m\u001b[1;34m'clase'\u001b[0m\u001b[1;33m]\u001b[0m \u001b[1;33m=\u001b[0m \u001b[0mpd\u001b[0m\u001b[1;33m.\u001b[0m\u001b[0mCategorical\u001b[0m\u001b[1;33m(\u001b[0m\u001b[0msegmentos_percent\u001b[0m\u001b[1;33m[\u001b[0m\u001b[1;34m'clase'\u001b[0m\u001b[1;33m]\u001b[0m\u001b[1;33m,\u001b[0m \u001b[0mcategories\u001b[0m\u001b[1;33m=\u001b[0m\u001b[0morden_clase\u001b[0m\u001b[1;33m,\u001b[0m \u001b[0mordered\u001b[0m\u001b[1;33m=\u001b[0m\u001b[1;32mTrue\u001b[0m\u001b[1;33m)\u001b[0m\u001b[1;33m\u001b[0m\u001b[1;33m\u001b[0m\u001b[0m\n\u001b[0;32m      7\u001b[0m \u001b[1;31m#segmentos_percent.drop(columns=['categoria'], inplace=True)\u001b[0m\u001b[1;33m\u001b[0m\u001b[1;33m\u001b[0m\u001b[0m\n",
      "\u001b[1;32mc:\\Users\\yoe11\\anaconda3\\lib\\site-packages\\pandas\\core\\frame.py\u001b[0m in \u001b[0;36m__getitem__\u001b[1;34m(self, key)\u001b[0m\n\u001b[0;32m   3503\u001b[0m             \u001b[1;32mif\u001b[0m \u001b[0mself\u001b[0m\u001b[1;33m.\u001b[0m\u001b[0mcolumns\u001b[0m\u001b[1;33m.\u001b[0m\u001b[0mnlevels\u001b[0m \u001b[1;33m>\u001b[0m \u001b[1;36m1\u001b[0m\u001b[1;33m:\u001b[0m\u001b[1;33m\u001b[0m\u001b[1;33m\u001b[0m\u001b[0m\n\u001b[0;32m   3504\u001b[0m                 \u001b[1;32mreturn\u001b[0m \u001b[0mself\u001b[0m\u001b[1;33m.\u001b[0m\u001b[0m_getitem_multilevel\u001b[0m\u001b[1;33m(\u001b[0m\u001b[0mkey\u001b[0m\u001b[1;33m)\u001b[0m\u001b[1;33m\u001b[0m\u001b[1;33m\u001b[0m\u001b[0m\n\u001b[1;32m-> 3505\u001b[1;33m             \u001b[0mindexer\u001b[0m \u001b[1;33m=\u001b[0m \u001b[0mself\u001b[0m\u001b[1;33m.\u001b[0m\u001b[0mcolumns\u001b[0m\u001b[1;33m.\u001b[0m\u001b[0mget_loc\u001b[0m\u001b[1;33m(\u001b[0m\u001b[0mkey\u001b[0m\u001b[1;33m)\u001b[0m\u001b[1;33m\u001b[0m\u001b[1;33m\u001b[0m\u001b[0m\n\u001b[0m\u001b[0;32m   3506\u001b[0m             \u001b[1;32mif\u001b[0m \u001b[0mis_integer\u001b[0m\u001b[1;33m(\u001b[0m\u001b[0mindexer\u001b[0m\u001b[1;33m)\u001b[0m\u001b[1;33m:\u001b[0m\u001b[1;33m\u001b[0m\u001b[1;33m\u001b[0m\u001b[0m\n\u001b[0;32m   3507\u001b[0m                 \u001b[0mindexer\u001b[0m \u001b[1;33m=\u001b[0m \u001b[1;33m[\u001b[0m\u001b[0mindexer\u001b[0m\u001b[1;33m]\u001b[0m\u001b[1;33m\u001b[0m\u001b[1;33m\u001b[0m\u001b[0m\n",
      "\u001b[1;32mc:\\Users\\yoe11\\anaconda3\\lib\\site-packages\\pandas\\core\\indexes\\base.py\u001b[0m in \u001b[0;36mget_loc\u001b[1;34m(self, key, method, tolerance)\u001b[0m\n\u001b[0;32m   3629\u001b[0m                 \u001b[1;32mreturn\u001b[0m \u001b[0mself\u001b[0m\u001b[1;33m.\u001b[0m\u001b[0m_engine\u001b[0m\u001b[1;33m.\u001b[0m\u001b[0mget_loc\u001b[0m\u001b[1;33m(\u001b[0m\u001b[0mcasted_key\u001b[0m\u001b[1;33m)\u001b[0m\u001b[1;33m\u001b[0m\u001b[1;33m\u001b[0m\u001b[0m\n\u001b[0;32m   3630\u001b[0m             \u001b[1;32mexcept\u001b[0m \u001b[0mKeyError\u001b[0m \u001b[1;32mas\u001b[0m \u001b[0merr\u001b[0m\u001b[1;33m:\u001b[0m\u001b[1;33m\u001b[0m\u001b[1;33m\u001b[0m\u001b[0m\n\u001b[1;32m-> 3631\u001b[1;33m                 \u001b[1;32mraise\u001b[0m \u001b[0mKeyError\u001b[0m\u001b[1;33m(\u001b[0m\u001b[0mkey\u001b[0m\u001b[1;33m)\u001b[0m \u001b[1;32mfrom\u001b[0m \u001b[0merr\u001b[0m\u001b[1;33m\u001b[0m\u001b[1;33m\u001b[0m\u001b[0m\n\u001b[0m\u001b[0;32m   3632\u001b[0m             \u001b[1;32mexcept\u001b[0m \u001b[0mTypeError\u001b[0m\u001b[1;33m:\u001b[0m\u001b[1;33m\u001b[0m\u001b[1;33m\u001b[0m\u001b[0m\n\u001b[0;32m   3633\u001b[0m                 \u001b[1;31m# If we have a listlike key, _check_indexing_error will raise\u001b[0m\u001b[1;33m\u001b[0m\u001b[1;33m\u001b[0m\u001b[0m\n",
      "\u001b[1;31mKeyError\u001b[0m: 'segmento'"
     ]
    }
   ],
   "source": [
    "# Definir el orden personalizado para segmento y clase\n",
    "orden_segmento = ['A', 'B', 'C', 'D', 'E', 'S']\n",
    "orden_clase = ['1', '2', '3']\n",
    "# Convertir las columnas segmento y clase a categorías con el orden personalizado\n",
    "segmentos_percent['segmento'] = pd.Categorical(segmentos_percent['segmento'], categories=orden_segmento, ordered=True)\n",
    "segmentos_percent['clase'] = pd.Categorical(segmentos_percent['clase'], categories=orden_clase, ordered=True)\n",
    "#segmentos_percent.drop(columns=['categoria'], inplace=True)\n",
    "# Ordenar el DataFrame según las categorías definidas\n",
    "segmentos_percent = segmentos_percent.sort_values(by=['segmento', 'clase'])\n",
    "segmentos_percent\n",
    "#porcentaje_del_total_porsegmentos"
   ]
  },
  {
   "cell_type": "markdown",
   "metadata": {},
   "source": [
    "_______________________________\n",
    "___________\n",
    "________"
   ]
  },
  {
   "cell_type": "code",
   "execution_count": 133,
   "metadata": {},
   "outputs": [
    {
     "data": {
      "text/html": [
       "<div>\n",
       "<style scoped>\n",
       "    .dataframe tbody tr th:only-of-type {\n",
       "        vertical-align: middle;\n",
       "    }\n",
       "\n",
       "    .dataframe tbody tr th {\n",
       "        vertical-align: top;\n",
       "    }\n",
       "\n",
       "    .dataframe thead th {\n",
       "        text-align: right;\n",
       "    }\n",
       "</style>\n",
       "<table border=\"1\" class=\"dataframe\">\n",
       "  <thead>\n",
       "    <tr style=\"text-align: right;\">\n",
       "      <th></th>\n",
       "      <th>segmento</th>\n",
       "      <th>total_por_segmento</th>\n",
       "      <th>porcentaje_del_total</th>\n",
       "    </tr>\n",
       "  </thead>\n",
       "  <tbody>\n",
       "    <tr>\n",
       "      <th>0</th>\n",
       "      <td>A</td>\n",
       "      <td>1102</td>\n",
       "      <td>13.269115</td>\n",
       "    </tr>\n",
       "    <tr>\n",
       "      <th>1</th>\n",
       "      <td>B</td>\n",
       "      <td>1902</td>\n",
       "      <td>22.901866</td>\n",
       "    </tr>\n",
       "    <tr>\n",
       "      <th>2</th>\n",
       "      <td>C</td>\n",
       "      <td>1498</td>\n",
       "      <td>18.037327</td>\n",
       "    </tr>\n",
       "    <tr>\n",
       "      <th>3</th>\n",
       "      <td>D</td>\n",
       "      <td>1683</td>\n",
       "      <td>20.264901</td>\n",
       "    </tr>\n",
       "    <tr>\n",
       "      <th>4</th>\n",
       "      <td>E</td>\n",
       "      <td>296</td>\n",
       "      <td>3.564118</td>\n",
       "    </tr>\n",
       "    <tr>\n",
       "      <th>5</th>\n",
       "      <td>S</td>\n",
       "      <td>1824</td>\n",
       "      <td>21.962673</td>\n",
       "    </tr>\n",
       "  </tbody>\n",
       "</table>\n",
       "</div>"
      ],
      "text/plain": [
       "  segmento  total_por_segmento  porcentaje_del_total\n",
       "0        A                1102             13.269115\n",
       "1        B                1902             22.901866\n",
       "2        C                1498             18.037327\n",
       "3        D                1683             20.264901\n",
       "4        E                 296              3.564118\n",
       "5        S                1824             21.962673"
      ]
     },
     "execution_count": 133,
     "metadata": {},
     "output_type": "execute_result"
    }
   ],
   "source": [
    "porcentaje_del_total_porsegmentos # CONTEO Y % DE REGISTROS POR SEGMENTO, [8305 REGISTROS GRAL]"
   ]
  },
  {
   "cell_type": "code",
   "execution_count": 76,
   "metadata": {},
   "outputs": [
    {
     "data": {
      "text/html": [
       "<div>\n",
       "<style scoped>\n",
       "    .dataframe tbody tr th:only-of-type {\n",
       "        vertical-align: middle;\n",
       "    }\n",
       "\n",
       "    .dataframe tbody tr th {\n",
       "        vertical-align: top;\n",
       "    }\n",
       "\n",
       "    .dataframe thead th {\n",
       "        text-align: right;\n",
       "    }\n",
       "</style>\n",
       "<table border=\"1\" class=\"dataframe\">\n",
       "  <thead>\n",
       "    <tr style=\"text-align: right;\">\n",
       "      <th></th>\n",
       "      <th>segmento</th>\n",
       "      <th>clase</th>\n",
       "      <th>porcentaje</th>\n",
       "    </tr>\n",
       "  </thead>\n",
       "  <tbody>\n",
       "    <tr>\n",
       "      <th>11</th>\n",
       "      <td>A</td>\n",
       "      <td>1</td>\n",
       "      <td>32.395644</td>\n",
       "    </tr>\n",
       "    <tr>\n",
       "      <th>12</th>\n",
       "      <td>A</td>\n",
       "      <td>2</td>\n",
       "      <td>31.397459</td>\n",
       "    </tr>\n",
       "    <tr>\n",
       "      <th>10</th>\n",
       "      <td>A</td>\n",
       "      <td>3</td>\n",
       "      <td>36.206897</td>\n",
       "    </tr>\n",
       "    <tr>\n",
       "      <th>7</th>\n",
       "      <td>B</td>\n",
       "      <td>1</td>\n",
       "      <td>36.067298</td>\n",
       "    </tr>\n",
       "    <tr>\n",
       "      <th>8</th>\n",
       "      <td>B</td>\n",
       "      <td>2</td>\n",
       "      <td>33.911672</td>\n",
       "    </tr>\n",
       "    <tr>\n",
       "      <th>9</th>\n",
       "      <td>B</td>\n",
       "      <td>3</td>\n",
       "      <td>30.021030</td>\n",
       "    </tr>\n",
       "    <tr>\n",
       "      <th>6</th>\n",
       "      <td>C</td>\n",
       "      <td>1</td>\n",
       "      <td>24.365821</td>\n",
       "    </tr>\n",
       "    <tr>\n",
       "      <th>5</th>\n",
       "      <td>C</td>\n",
       "      <td>2</td>\n",
       "      <td>34.445928</td>\n",
       "    </tr>\n",
       "    <tr>\n",
       "      <th>4</th>\n",
       "      <td>C</td>\n",
       "      <td>3</td>\n",
       "      <td>41.188251</td>\n",
       "    </tr>\n",
       "    <tr>\n",
       "      <th>1</th>\n",
       "      <td>D</td>\n",
       "      <td>1</td>\n",
       "      <td>46.464646</td>\n",
       "    </tr>\n",
       "    <tr>\n",
       "      <th>2</th>\n",
       "      <td>D</td>\n",
       "      <td>2</td>\n",
       "      <td>30.065359</td>\n",
       "    </tr>\n",
       "    <tr>\n",
       "      <th>3</th>\n",
       "      <td>D</td>\n",
       "      <td>3</td>\n",
       "      <td>23.469994</td>\n",
       "    </tr>\n",
       "    <tr>\n",
       "      <th>13</th>\n",
       "      <td>E</td>\n",
       "      <td>1</td>\n",
       "      <td>85.810811</td>\n",
       "    </tr>\n",
       "    <tr>\n",
       "      <th>14</th>\n",
       "      <td>E</td>\n",
       "      <td>2</td>\n",
       "      <td>14.189189</td>\n",
       "    </tr>\n",
       "    <tr>\n",
       "      <th>15</th>\n",
       "      <td>E</td>\n",
       "      <td>3</td>\n",
       "      <td>0.000000</td>\n",
       "    </tr>\n",
       "    <tr>\n",
       "      <th>0</th>\n",
       "      <td>S</td>\n",
       "      <td>1</td>\n",
       "      <td>100.000000</td>\n",
       "    </tr>\n",
       "  </tbody>\n",
       "</table>\n",
       "</div>"
      ],
      "text/plain": [
       "   segmento clase  porcentaje\n",
       "11        A     1   32.395644\n",
       "12        A     2   31.397459\n",
       "10        A     3   36.206897\n",
       "7         B     1   36.067298\n",
       "8         B     2   33.911672\n",
       "9         B     3   30.021030\n",
       "6         C     1   24.365821\n",
       "5         C     2   34.445928\n",
       "4         C     3   41.188251\n",
       "1         D     1   46.464646\n",
       "2         D     2   30.065359\n",
       "3         D     3   23.469994\n",
       "13        E     1   85.810811\n",
       "14        E     2   14.189189\n",
       "15        E     3    0.000000\n",
       "0         S     1  100.000000"
      ]
     },
     "execution_count": 76,
     "metadata": {},
     "output_type": "execute_result"
    }
   ],
   "source": [
    "segmentos_percent # % CATEGORÍA EN C/SEGMENTO"
   ]
  },
  {
   "cell_type": "markdown",
   "metadata": {},
   "source": [
    "- Porcentaje de categoría por segmento [segmentos_percent]\n",
    "- Total % que ocupa el segmento del df gral porcentaje_del_total_porsegmentos['porcentaje_del_total']"
   ]
  },
  {
   "cell_type": "code",
   "execution_count": 134,
   "metadata": {},
   "outputs": [
    {
     "data": {
      "text/html": [
       "<div>\n",
       "<style scoped>\n",
       "    .dataframe tbody tr th:only-of-type {\n",
       "        vertical-align: middle;\n",
       "    }\n",
       "\n",
       "    .dataframe tbody tr th {\n",
       "        vertical-align: top;\n",
       "    }\n",
       "\n",
       "    .dataframe thead th {\n",
       "        text-align: right;\n",
       "    }\n",
       "</style>\n",
       "<table border=\"1\" class=\"dataframe\">\n",
       "  <thead>\n",
       "    <tr style=\"text-align: right;\">\n",
       "      <th></th>\n",
       "      <th>segmento</th>\n",
       "      <th>clase</th>\n",
       "      <th>porcentaje</th>\n",
       "      <th>segmento_porciento_gral</th>\n",
       "    </tr>\n",
       "  </thead>\n",
       "  <tbody>\n",
       "    <tr>\n",
       "      <th>11</th>\n",
       "      <td>A</td>\n",
       "      <td>1</td>\n",
       "      <td>32.395644</td>\n",
       "      <td>NaN</td>\n",
       "    </tr>\n",
       "    <tr>\n",
       "      <th>12</th>\n",
       "      <td>A</td>\n",
       "      <td>2</td>\n",
       "      <td>31.397459</td>\n",
       "      <td>NaN</td>\n",
       "    </tr>\n",
       "    <tr>\n",
       "      <th>10</th>\n",
       "      <td>A</td>\n",
       "      <td>3</td>\n",
       "      <td>36.206897</td>\n",
       "      <td>NaN</td>\n",
       "    </tr>\n",
       "    <tr>\n",
       "      <th>7</th>\n",
       "      <td>B</td>\n",
       "      <td>1</td>\n",
       "      <td>36.067298</td>\n",
       "      <td>NaN</td>\n",
       "    </tr>\n",
       "    <tr>\n",
       "      <th>8</th>\n",
       "      <td>B</td>\n",
       "      <td>2</td>\n",
       "      <td>33.911672</td>\n",
       "      <td>NaN</td>\n",
       "    </tr>\n",
       "    <tr>\n",
       "      <th>9</th>\n",
       "      <td>B</td>\n",
       "      <td>3</td>\n",
       "      <td>30.021030</td>\n",
       "      <td>NaN</td>\n",
       "    </tr>\n",
       "    <tr>\n",
       "      <th>6</th>\n",
       "      <td>C</td>\n",
       "      <td>1</td>\n",
       "      <td>24.365821</td>\n",
       "      <td>NaN</td>\n",
       "    </tr>\n",
       "    <tr>\n",
       "      <th>5</th>\n",
       "      <td>C</td>\n",
       "      <td>2</td>\n",
       "      <td>34.445928</td>\n",
       "      <td>NaN</td>\n",
       "    </tr>\n",
       "    <tr>\n",
       "      <th>4</th>\n",
       "      <td>C</td>\n",
       "      <td>3</td>\n",
       "      <td>41.188251</td>\n",
       "      <td>NaN</td>\n",
       "    </tr>\n",
       "    <tr>\n",
       "      <th>1</th>\n",
       "      <td>D</td>\n",
       "      <td>1</td>\n",
       "      <td>46.464646</td>\n",
       "      <td>NaN</td>\n",
       "    </tr>\n",
       "    <tr>\n",
       "      <th>2</th>\n",
       "      <td>D</td>\n",
       "      <td>2</td>\n",
       "      <td>30.065359</td>\n",
       "      <td>NaN</td>\n",
       "    </tr>\n",
       "    <tr>\n",
       "      <th>3</th>\n",
       "      <td>D</td>\n",
       "      <td>3</td>\n",
       "      <td>23.469994</td>\n",
       "      <td>NaN</td>\n",
       "    </tr>\n",
       "    <tr>\n",
       "      <th>13</th>\n",
       "      <td>E</td>\n",
       "      <td>1</td>\n",
       "      <td>85.810811</td>\n",
       "      <td>NaN</td>\n",
       "    </tr>\n",
       "    <tr>\n",
       "      <th>14</th>\n",
       "      <td>E</td>\n",
       "      <td>2</td>\n",
       "      <td>14.189189</td>\n",
       "      <td>NaN</td>\n",
       "    </tr>\n",
       "    <tr>\n",
       "      <th>15</th>\n",
       "      <td>E</td>\n",
       "      <td>3</td>\n",
       "      <td>0.000000</td>\n",
       "      <td>NaN</td>\n",
       "    </tr>\n",
       "    <tr>\n",
       "      <th>0</th>\n",
       "      <td>S</td>\n",
       "      <td>1</td>\n",
       "      <td>100.000000</td>\n",
       "      <td>NaN</td>\n",
       "    </tr>\n",
       "  </tbody>\n",
       "</table>\n",
       "</div>"
      ],
      "text/plain": [
       "   segmento clase  porcentaje  segmento_porciento_gral\n",
       "11        A     1   32.395644                      NaN\n",
       "12        A     2   31.397459                      NaN\n",
       "10        A     3   36.206897                      NaN\n",
       "7         B     1   36.067298                      NaN\n",
       "8         B     2   33.911672                      NaN\n",
       "9         B     3   30.021030                      NaN\n",
       "6         C     1   24.365821                      NaN\n",
       "5         C     2   34.445928                      NaN\n",
       "4         C     3   41.188251                      NaN\n",
       "1         D     1   46.464646                      NaN\n",
       "2         D     2   30.065359                      NaN\n",
       "3         D     3   23.469994                      NaN\n",
       "13        E     1   85.810811                      NaN\n",
       "14        E     2   14.189189                      NaN\n",
       "15        E     3    0.000000                      NaN\n",
       "0         S     1  100.000000                      NaN"
      ]
     },
     "execution_count": 134,
     "metadata": {},
     "output_type": "execute_result"
    }
   ],
   "source": [
    "# Asignando los mismos porcientos de acuerdo a los segmentos dados.\n",
    "#segmento_porciento_gral = [13.269115,13.269115,13.269115,\n",
    "#                                         22.901866,22.901866,22.901866,\n",
    "#                                         18.037327,18.037327,18.037327,\n",
    "#                                         20.264901,20.264901,20.264901,\n",
    "#                                         3.564118,3.564118,3.564118,\n",
    "#                                         21.962673,21.962673,21.962673]\n",
    "resultados = porcentaje_del_total_porsegmentos\n",
    "A_P = resultados[resultados['segmento'] == 'A']\n",
    "A_P = A_P['porcentaje_del_total']\n",
    "B_P = resultados[resultados['segmento'] == 'B']\n",
    "B_P = B_P['porcentaje_del_total']\n",
    "C_P = resultados[resultados['segmento'] == 'C']\n",
    "C_P = C_P['porcentaje_del_total']\n",
    "D_P = resultados[resultados['segmento'] == 'D']\n",
    "D_P = D_P['porcentaje_del_total']\n",
    "E_P = resultados[resultados['segmento'] == 'E']\n",
    "E_P = E_P['porcentaje_del_total']\n",
    "S_P = resultados[resultados['segmento'] == 'S']\n",
    "S_P = S_P['porcentaje_del_total']\n",
    "segmento_porciento_gral = pd.concat([A_P,A_P,A_P, B_P,B_P,B_P,C_P,C_P,C_P,D_P,D_P,D_P, E_P,E_P,E_P, S_P]) # Combinar los resultados\n",
    "#segmento_porciento_gral = pd.DataFrame() # Crear nuevo DataFrame\n",
    "segmento_porciento_gral = pd.Series(segmento_porciento_gral)\n",
    "segmento_porciento_gral\n",
    "#segment_per['segmento_porciento_gral'] = [A_P,A_P,A_P, B_P,B_P,B_P,C_P,C_P,C_P,D_P,D_P,D_P, E_P,E_P,E_P, S_P] # Combinar los resultados\n",
    "#segment_per\n",
    "\n",
    "df_percent = pd.DataFrame() # Crear nuevo DataFrame\n",
    "df_percent = pd.concat([segmentos_percent,segmento_porciento_gral ], axis=0,ignore_index=True) #En columna\n",
    "#df_percent['segmento_porciento_gral'] = [segmento_porciento_gral]\n",
    "#segmentos_percent.drop(files=['porcentaje_clase_segmento_prop'], inplace=True)\n",
    "df_percent.drop([0,1,2,3,4,5,6,7,8,9,10,11,12,13,14,15], axis=0, inplace=True)\n",
    "df_percent = df_percent.rename(columns={0: 'segmento_porciento_gral'})\n",
    "df_percent.drop(columns=['segmento','clase','porcentaje'], inplace=True,)\n",
    "df_percent= pd.concat([segmentos_percent,df_percent.reindex(segmentos_percent.index)], axis=1, ignore_index=False) #En columna\n",
    "#df_percents = pd.concat([segmentos_percent,df_percent ], axis=0) #En columna\n",
    "\n",
    "df_percent\n",
    "\n"
   ]
  },
  {
   "cell_type": "markdown",
   "metadata": {},
   "source": [
    "df_segmentos_percent = pd.DataFrame() # Crear el nuevo DataFrame\n",
    "\n",
    "#df_segmentos_per = pd.concat([resultados, segmentos_percent], axis=0) # Unirlo por columnas\n",
    "df_segmentos_per = pd.DataFrame() # Crear el nuevo DataFrame\n",
    "\n",
    "df_edu['Academic_Degree'] = ['Postgrado', 'Universidad', 'Preparatoria', 'Secundaria', 'Otro']\n",
    "df_edu['Percentage'] = [POST_PERCENT, UNI_PERCENT, PREP_PERCENT, SEC_PERCENT, OTRO_PERCENT]\n",
    "#Mostrar el nuevo DataFrame\n",
    "print(df_edu)\n",
    "13.269115\n",
    "df_segmentos_per = segmentos_percent[segmentos_percent['segmento'] == 'A']\n"
   ]
  },
  {
   "cell_type": "code",
   "execution_count": 43,
   "metadata": {},
   "outputs": [
    {
     "name": "stdout",
     "output_type": "stream",
     "text": [
      "   segmento clase  porcentaje_clase_segmento_prop\n",
      "11        A     1                             NaN\n",
      "12        A     2                             NaN\n",
      "10        A     3                             NaN\n",
      "7         B     1                             NaN\n",
      "8         B     2                             NaN\n",
      "9         B     3                             NaN\n",
      "6         C     1                             NaN\n",
      "5         C     2                      156.838504\n",
      "4         C     3                     1155.636569\n",
      "1         D     1                      202.885851\n",
      "2         D     2                      166.684119\n",
      "3         D     3                      115.815984\n",
      "13        E     1                             NaN\n",
      "14        E     2                             NaN\n",
      "15        E     3                             NaN\n",
      "0         S     1                      753.629764\n"
     ]
    }
   ],
   "source": [
    "# segmentos_percent : SEGMENTOS, CLASE, PORCENTAJE\n",
    "# resultados : segmento, total_por_segmento, porcentaje_del_total \n",
    "\n",
    "conteo_total_df = pd.DataFrame(resultados) # CONTEO Y % DE REGISTROS POR SEGMENTOS, [8305 REGISTROS GRAL]\n",
    "# Crear el DataFrame para el porcentaje de clase\n",
    "conteo_porcentaje_df = pd.DataFrame(segmentos_percent)  # Datos para el porcentaje de clase, % CATEGORÍA EN C/SEGMENTO\n",
    "\n",
    "# Calcular el porcentaje que ocupa cada clase de cada segmento en proporción con el porcentaje del total de registros\n",
    "# % del segmento entre el % del total general\n",
    "conteo_porcentaje_df['porcentaje_clase_segmento_prop'] = conteo_porcentaje_df['porcentaje'] / conteo_total_df['porcentaje_del_total'] * 100\n",
    "# Mostrar el DataFrame resultante\n",
    "print(conteo_porcentaje_df[['segmento', 'clase', 'porcentaje_clase_segmento_prop']])"
   ]
  },
  {
   "cell_type": "code",
   "execution_count": null,
   "metadata": {},
   "outputs": [],
   "source": []
  },
  {
   "cell_type": "code",
   "execution_count": null,
   "metadata": {},
   "outputs": [],
   "source": []
  },
  {
   "cell_type": "code",
   "execution_count": 98,
   "metadata": {},
   "outputs": [
    {
     "name": "stdout",
     "output_type": "stream",
     "text": [
      "  segmento clase  porcentaje_del_segmento\n",
      "0        A     1                32.395644\n",
      "1        A     2                31.397459\n",
      "2        A     3                36.206897\n",
      "0        B     1                36.067298\n",
      "1        B     2                33.911672\n",
      "2        B     3                30.021030\n",
      "0        C     1                24.365821\n",
      "1        C     2                34.445928\n",
      "2        C     3                41.188251\n",
      "0        D     1                46.464646\n",
      "1        D     2                30.065359\n",
      "2        D     3                23.469994\n",
      "0        E     1                85.810811\n",
      "1        E     2                14.189189\n",
      "2        E     3                 0.000000\n",
      "0        S     1               100.000000\n"
     ]
    }
   ],
   "source": [
    "# Crear una lista para almacenar los resultados\n",
    "resultados_por_segmento = []\n",
    "\n",
    "# Iterar sobre cada segmento en el DataFrame resultados\n",
    "for segmento in resultados['segmento']:\n",
    "    # Obtener el total de registros para el segmento actual\n",
    "    total_segmento_actual = resultados[resultados['segmento'] == segmento]['total_por_segmento'].values[0]\n",
    "    # Calcular el porcentaje de cada clase del segmento actual\n",
    "    porcentaje_clase_actual = conteo_total_df[conteo_total_df['segmento'] == segmento].groupby('clase')['conteo_total'].sum() / total_segmento_actual * 100\n",
    "    # Crear un DataFrame con los resultados para el segmento actual\n",
    "    resultado_segmento_actual = pd.DataFrame({\n",
    "        'segmento': segmento,\n",
    "        'clase': porcentaje_clase_actual.index,\n",
    "        'porcentaje_del_segmento': porcentaje_clase_actual.values\n",
    "    })\n",
    "    # Agregar el DataFrame del segmento actual a la lista de resultados\n",
    "    resultados_por_segmento.append(resultado_segmento_actual)\n",
    "\n",
    "# Concatenar todos los resultados en un solo DataFrame\n",
    "porcentaje_por_clase_df = pd.concat(resultados_por_segmento)\n",
    "\n",
    "print(porcentaje_por_clase_df)\n"
   ]
  },
  {
   "cell_type": "code",
   "execution_count": 95,
   "metadata": {},
   "outputs": [
    {
     "name": "stdout",
     "output_type": "stream",
     "text": [
      "clase\n",
      "1     32.395644\n",
      "2     31.397459\n",
      "3     36.206897\n",
      "1     36.067298\n",
      "2     33.911672\n",
      "3     30.021030\n",
      "1     24.365821\n",
      "2     34.445928\n",
      "3     41.188251\n",
      "1     46.464646\n",
      "2     30.065359\n",
      "3     23.469994\n",
      "1     85.810811\n",
      "2     14.189189\n",
      "3      0.000000\n",
      "1    100.000000\n",
      "Name: conteo_total, dtype: float64\n"
     ]
    }
   ],
   "source": [
    "# Crear un DataFrame con los resultados anteriores\n",
    "resultados = pd.DataFrame({\n",
    "    'segmento': total_por_segmento.index,\n",
    "    'total_por_segmento': total_por_segmento.values,\n",
    "    'porcentaje_del_total': porcentaje_total_segmento.values\n",
    "})\n",
    "\n",
    "# Calcular el porcentaje que cada clase ocupa del total de su segmento\n",
    "porcentaje_por_clase = []\n",
    "for segmento in resultados['segmento']:\n",
    "    # Obtener el total de registros para el segmento actual\n",
    "    total_segmento_actual = resultados[resultados['segmento'] == segmento]['total_por_segmento'].values[0]\n",
    "    # Calcular el porcentaje de cada clase del segmento actual\n",
    "    porcentaje_clase_actual = conteo_total_df[conteo_total_df['segmento'] == segmento].groupby('clase')['conteo_total'].sum() / total_segmento_actual * 100\n",
    "    # Añadir los porcentajes al resultado\n",
    "    porcentaje_por_clase.append(porcentaje_clase_actual)\n",
    "\n",
    "# Concatenar los porcentajes de clase en un solo DataFrame\n",
    "porcentaje_por_clase_df = pd.concat(porcentaje_por_clase)\n",
    "\n",
    "print(porcentaje_por_clase_df)\n"
   ]
  },
  {
   "cell_type": "code",
   "execution_count": 96,
   "metadata": {},
   "outputs": [
    {
     "name": "stdout",
     "output_type": "stream",
     "text": [
      "  segmento clase  porcentaje_del_segmento\n",
      "0        A     1                32.395644\n",
      "1        A     2                31.397459\n",
      "2        A     3                36.206897\n",
      "0        B     1                36.067298\n",
      "1        B     2                33.911672\n",
      "2        B     3                30.021030\n",
      "0        C     1                24.365821\n",
      "1        C     2                34.445928\n",
      "2        C     3                41.188251\n",
      "0        D     1                46.464646\n",
      "1        D     2                30.065359\n",
      "2        D     3                23.469994\n",
      "0        E     1                85.810811\n",
      "1        E     2                14.189189\n",
      "2        E     3                 0.000000\n",
      "0        S     1               100.000000\n"
     ]
    }
   ],
   "source": [
    "# Crear una lista para almacenar los resultados\n",
    "resultados_por_segmento = []\n",
    "\n",
    "# Iterar sobre cada segmento en el DataFrame resultados\n",
    "for segmento in resultados['segmento']:\n",
    "    # Obtener el total de registros para el segmento actual\n",
    "    total_segmento_actual = resultados[resultados['segmento'] == segmento]['total_por_segmento'].values[0]\n",
    "    # Calcular el porcentaje de cada clase del segmento actual\n",
    "    porcentaje_clase_actual = conteo_total_df[conteo_total_df['segmento'] == segmento].groupby('clase')['conteo_total'].sum() / total_segmento_actual * 100\n",
    "    # Crear un DataFrame con los resultados para el segmento actual\n",
    "    resultado_segmento_actual = pd.DataFrame({\n",
    "        'segmento': segmento,\n",
    "        'clase': porcentaje_clase_actual.index,\n",
    "        'porcentaje_del_segmento': porcentaje_clase_actual.values\n",
    "    })\n",
    "    # Agregar el DataFrame del segmento actual a la lista de resultados\n",
    "    resultados_por_segmento.append(resultado_segmento_actual)\n",
    "\n",
    "# Concatenar todos los resultados en un solo DataFrame\n",
    "porcentaje_por_clase_df = pd.concat(resultados_por_segmento)\n",
    "\n",
    "print(porcentaje_por_clase_df)\n"
   ]
  },
  {
   "cell_type": "markdown",
   "metadata": {},
   "source": [
    "### "
   ]
  },
  {
   "cell_type": "code",
   "execution_count": 94,
   "metadata": {},
   "outputs": [
    {
     "name": "stdout",
     "output_type": "stream",
     "text": [
      "   segmento clase  porcentaje  porcentaje_del_total\n",
      "11        A     1   32.395644              0.390074\n",
      "12        A     2   31.397459              0.378055\n",
      "10        A     3   36.206897              0.435965\n",
      "7         B     1   36.067298              0.434284\n",
      "8         B     2   33.911672              0.408328\n",
      "9         B     3   30.021030              0.361481\n",
      "6         C     1   24.365821              0.293387\n",
      "5         C     2   34.445928              0.414761\n",
      "4         C     3   41.188251              0.495945\n",
      "1         D     1   46.464646              0.559478\n",
      "2         D     2   30.065359              0.362015\n",
      "3         D     3   23.469994              0.282601\n",
      "13        E     1   85.810811              1.033243\n",
      "14        E     2   14.189189              0.170851\n",
      "15        E     3    0.000000              0.000000\n",
      "0         S     1  100.000000              1.204094\n"
     ]
    }
   ],
   "source": [
    "import pandas as pd\n",
    "\n",
    "# Definir el orden personalizado para segmento y clase\n",
    "orden_segmento = ['A', 'B', 'C', 'D', 'E', 'S']\n",
    "orden_clase = ['1', '2', '3']\n",
    "\n",
    "# Convertir las columnas segmento y clase a categorías con el orden personalizado\n",
    "segmentos_percent['segmento'] = pd.Categorical(segmentos_percent['segmento'], categories=orden_segmento, ordered=True)\n",
    "segmentos_percent['clase'] = pd.Categorical(segmentos_percent['clase'], categories=orden_clase, ordered=True)\n",
    "\n",
    "# Calcular el porcentaje del porcentaje total de todos los registros\n",
    "segmentos_percent['porcentaje_del_total'] = (segmentos_percent['porcentaje'] / total_registros_total) * 100\n",
    "\n",
    "# Ordenar el DataFrame según las categorías definidas\n",
    "segmentos_percent = segmentos_percent.sort_values(by=['segmento', 'clase','porcentaje', 'porcentaje_del_total'])\n",
    "\n",
    "print(segmentos_percent)\n"
   ]
  },
  {
   "cell_type": "code",
   "execution_count": 82,
   "metadata": {},
   "outputs": [
    {
     "name": "stdout",
     "output_type": "stream",
     "text": [
      "8305\n",
      "   segmento clase  porcentaje  porcentaje_del_total\n",
      "0         S     1  100.000000              1.204094\n",
      "1         D     1   46.464646              0.559478\n",
      "2         D     2   30.065359              0.362015\n",
      "3         D     3   23.469994              0.282601\n",
      "4         C     3   41.188251              0.495945\n",
      "5         C     2   34.445928              0.414761\n",
      "6         C     1   24.365821              0.293387\n",
      "7         B     1   36.067298              0.434284\n",
      "8         B     2   33.911672              0.408328\n",
      "9         B     3   30.021030              0.361481\n",
      "10        A     3   36.206897              0.435965\n",
      "11        A     1   32.395644              0.390074\n",
      "12        A     2   31.397459              0.378055\n",
      "13        E     1   85.810811              1.033243\n",
      "14        E     2   14.189189              0.170851\n",
      "15        E     3    0.000000              0.000000\n"
     ]
    }
   ],
   "source": [
    "# Calcular el total de todos los registros\n",
    "total_registros_total = conteo_total_df['conteo_total'].sum()\n",
    "print(total_registros_total)\n",
    "# Calcular los porcentajes de los segmentos\n",
    "segmentos_percent = conteo_total_df.merge(total_segmento, on='segmento', suffixes=('', '_total'))\n",
    "segmentos_percent['porcentaje'] = segmentos_percent['conteo_total'] / segmentos_percent['conteo_total_total'] * 100\n",
    "\n",
    "# Calcular el porcentaje del porcentaje total de todos los registros\n",
    "segmentos_percent['porcentaje_del_total'] = (segmentos_percent['porcentaje'] / total_registros_total) * 100\n",
    "\n",
    "# Seleccionar las columnas necesarias y eliminar las columnas auxiliares\n",
    "segmentos_percent = segmentos_percent[['segmento', 'clase', 'porcentaje', 'porcentaje_del_total']]\n",
    "\n",
    "print(segmentos_percent)\n"
   ]
  },
  {
   "cell_type": "code",
   "execution_count": null,
   "metadata": {},
   "outputs": [],
   "source": []
  },
  {
   "cell_type": "code",
   "execution_count": 103,
   "metadata": {},
   "outputs": [
    {
     "name": "stdout",
     "output_type": "stream",
     "text": [
      "   segmento clase  porcentaje_clase_segmento_rel\n",
      "11        A     1                       7.536298\n",
      "12        A     2                       7.536298\n",
      "9         A     3                       7.536298\n",
      "3         B     1                       4.366456\n",
      "4         B     2                       4.366456\n",
      "5         B     3                       4.366456\n",
      "10        C     1                       5.544059\n",
      "7         C     2                       5.544059\n",
      "2         C     3                       5.544059\n",
      "1         D     1                       4.934641\n",
      "6         D     2                       4.934641\n",
      "8         D     3                       4.934641\n",
      "13        E     1                      28.057432\n",
      "14        E     2                      28.057432\n",
      "15        E     3                       0.000000\n",
      "0         S     1                       4.553180\n"
     ]
    }
   ],
   "source": [
    "# Calcular el porcentaje que ocupa cada clase del total de registros en su segmento\n",
    "conteo_total_df['porcentaje_clase_segmento'] = conteo_total_df.groupby(['segmento', 'clase'])['conteo_total'].transform(lambda x: x / x.sum() * 100).fillna(0)\n",
    "\n",
    "# Calcular el porcentaje que ocupa cada segmento del total de registros\n",
    "total_registros_total = conteo_total_df['conteo_total'].sum()\n",
    "conteo_total_df['porcentaje_segmento'] = conteo_total_df.groupby('segmento')['conteo_total'].transform(lambda x: x.sum() / total_registros_total * 100).fillna(0)\n",
    "\n",
    "# Calcular el porcentaje que ocupa cada clase de cada segmento en relación con el porcentaje que ocupan esos registros del 100% del segmento\n",
    "conteo_total_df['porcentaje_clase_segmento_rel'] = conteo_total_df['porcentaje_clase_segmento'] / conteo_total_df['porcentaje_segmento']\n",
    "\n",
    "# Ordenar el DataFrame según el orden personalizado para segmento y clase\n",
    "conteo_total_df['segmento'] = pd.Categorical(conteo_total_df['segmento'], categories=orden_segmento, ordered=True)\n",
    "conteo_total_df['clase'] = pd.Categorical(conteo_total_df['clase'], categories=orden_clase, ordered=True)\n",
    "conteo_total_df = conteo_total_df.sort_values(by=['segmento', 'clase'])\n",
    "\n",
    "# Mostrar el DataFrame resultante\n",
    "print(conteo_total_df[['segmento', 'clase', 'porcentaje_clase_segmento_rel']])\n"
   ]
  },
  {
   "cell_type": "code",
   "execution_count": 119,
   "metadata": {},
   "outputs": [
    {
     "name": "stdout",
     "output_type": "stream",
     "text": [
      "Total de registros por segmento y su porcentaje del total:\n",
      "  segmento  total_por_segmento  porcentaje_del_total\n",
      "0        A                1102             13.269115\n",
      "1        B                1902             22.901866\n",
      "2        C                1498             18.037327\n",
      "3        D                1683             20.264901\n",
      "4        E                 296              3.564118\n",
      "5        S                1824             21.962673\n",
      "\n",
      "Conteo total de valores únicos por clase y segmento, y porcentaje en relación con el total:\n",
      "    conteo_total segmento clase  porcentaje_clase_segmento_con_total\n",
      "0           1824        S     1                            21.962673\n",
      "1            782        D     1                             9.416014\n",
      "2            617        C     3                             7.429259\n",
      "3            686        B     1                             8.260084\n",
      "4            645        B     2                             7.766406\n",
      "5            571        B     3                             6.875376\n",
      "6            506        D     2                             6.092715\n",
      "7            516        C     2                             6.213125\n",
      "8            395        D     3                             4.756171\n",
      "9            399        A     3                             4.804335\n",
      "10           365        C     1                             4.394943\n",
      "11           357        A     1                             4.298615\n",
      "12           346        A     2                             4.166165\n",
      "13           254        E     1                             3.058399\n",
      "14            42        E     2                             0.505719\n",
      "15             0        E     3                             0.000000\n"
     ]
    },
    {
     "name": "stderr",
     "output_type": "stream",
     "text": [
      "C:\\Users\\yoe11\\AppData\\Local\\Temp\\ipykernel_13160\\829808386.py:35: FutureWarning: The frame.append method is deprecated and will be removed from pandas in a future version. Use pandas.concat instead.\n",
      "  conteo_total_df = conteo_total_df.append(nueva_fila, ignore_index=True)\n"
     ]
    }
   ],
   "source": [
    "import pandas as pd\n",
    "\n",
    "# Lista de DataFrames y sus nombres correspondientes\n",
    "dataframes_list = [\n",
    "    segment_df_alfa_q_oct_2022_pachuca,\n",
    "    segment_df_alfa_q_nov_2022_pachuca,\n",
    "    segment_df_alfa_q_feb_2023_pachuca,\n",
    "    segment_df_alfa_q_mar_2023_pachuca,\n",
    "    segment_df_alfa_q_jun_2023_pachuca,\n",
    "    segment_df_alfa_q_jul_2023_pachuca\n",
    "]\n",
    "\n",
    "# Inicializar un diccionario para almacenar el conteo total de valores únicos\n",
    "conteo_total = {}\n",
    "\n",
    "# Iterar sobre la lista de DataFrames\n",
    "for df in dataframes_list:\n",
    "    # Calcular el conteo de valores únicos de 'categoria' en el DataFrame actual\n",
    "    conteo_actual = df['categoria'].value_counts().to_dict()\n",
    "    # Agregar el conteo actual al conteo total\n",
    "    for categoria, conteo in conteo_actual.items():\n",
    "        conteo_total[categoria] = conteo_total.get(categoria, 0) + conteo\n",
    "\n",
    "# Convertir el diccionario a un DataFrame\n",
    "conteo_total_df = pd.DataFrame(list(conteo_total.items()), columns=['categoria', 'conteo_total'])\n",
    "\n",
    "# Añadir una nuevas columnas que extraigan el número y letra de la categoría\n",
    "conteo_total_df['segmento'] = conteo_total_df['categoria'].str[0]\n",
    "conteo_total_df['clase'] = conteo_total_df['categoria'].str.extract(r'(\\d+)').fillna('1')\n",
    "conteo_total_df.drop(columns=['categoria'], inplace=True)\n",
    "\n",
    "# Crear una nueva fila como un diccionario de Python\n",
    "nueva_fila = {'conteo_total': 0, 'segmento': 'E', 'clase': '3'}\n",
    "# Agregar la nueva fila al DataFrame\n",
    "conteo_total_df = conteo_total_df.append(nueva_fila, ignore_index=True)\n",
    "\n",
    "# Calcular el total de registros por cada segmento, incluyendo todas sus categorías\n",
    "total_por_segmento = conteo_total_df.groupby('segmento')['conteo_total'].sum()\n",
    "\n",
    "# Calcular el total de registros en todos los segmentos\n",
    "total_registros_total = total_por_segmento.sum()\n",
    "\n",
    "# Calcular el porcentaje que representa cada total de segmento con respecto al total de registros en todo el DataFrame\n",
    "porcentaje_total_segmento = (total_por_segmento / total_registros_total) * 100\n",
    "\n",
    "# Calcular el porcentaje que ocupa cada clase de cada segmento en proporción con el total de registros en todos los segmentos\n",
    "conteo_total_df['porcentaje_clase_segmento_con_total'] = conteo_total_df['conteo_total'] / total_registros_total * 100\n",
    "\n",
    "# Crear un DataFrame con los resultados de los totales por segmento y su porcentaje del total\n",
    "resultados = pd.DataFrame({\n",
    "    'segmento': total_por_segmento.index,\n",
    "    'total_por_segmento': total_por_segmento.values,\n",
    "    'porcentaje_del_total': porcentaje_total_segmento.values\n",
    "})\n",
    "\n",
    "# Mostrar los resultados\n",
    "print(\"Total de registros por segmento y su porcentaje del total:\")\n",
    "print(resultados)\n",
    "\n",
    "print(\"\\nConteo total de valores únicos por clase y segmento, y porcentaje en relación con el total:\")\n",
    "print(conteo_total_df)\n"
   ]
  },
  {
   "cell_type": "code",
   "execution_count": 128,
   "metadata": {},
   "outputs": [
    {
     "name": "stdout",
     "output_type": "stream",
     "text": [
      "Total de registros por segmento y su porcentaje del total:\n",
      "  segmento  total_por_segmento  porcentaje_del_total\n",
      "0        A                1102             13.269115\n",
      "1        B                1902             22.901866\n",
      "2        C                1498             18.037327\n",
      "3        D                1683             20.264901\n",
      "4        E                 296              3.564118\n",
      "5        S                1824             21.962673\n",
      "\n",
      "Conteo total de valores únicos por clase y segmento, y porcentaje en relación con el total:\n"
     ]
    },
    {
     "name": "stderr",
     "output_type": "stream",
     "text": [
      "C:\\Users\\yoe11\\AppData\\Local\\Temp\\ipykernel_13160\\576484756.py:39: FutureWarning:\n",
      "\n",
      "The frame.append method is deprecated and will be removed from pandas in a future version. Use pandas.concat instead.\n",
      "\n"
     ]
    },
    {
     "data": {
      "text/html": [
       "<div>\n",
       "<style scoped>\n",
       "    .dataframe tbody tr th:only-of-type {\n",
       "        vertical-align: middle;\n",
       "    }\n",
       "\n",
       "    .dataframe tbody tr th {\n",
       "        vertical-align: top;\n",
       "    }\n",
       "\n",
       "    .dataframe thead th {\n",
       "        text-align: right;\n",
       "    }\n",
       "</style>\n",
       "<table border=\"1\" class=\"dataframe\">\n",
       "  <thead>\n",
       "    <tr style=\"text-align: right;\">\n",
       "      <th></th>\n",
       "      <th>conteo_total</th>\n",
       "      <th>segmento</th>\n",
       "      <th>clase</th>\n",
       "      <th>porcentaje_clase_segmento_con_total</th>\n",
       "    </tr>\n",
       "  </thead>\n",
       "  <tbody>\n",
       "    <tr>\n",
       "      <th>11</th>\n",
       "      <td>357</td>\n",
       "      <td>A</td>\n",
       "      <td>1</td>\n",
       "      <td>4.298615</td>\n",
       "    </tr>\n",
       "    <tr>\n",
       "      <th>12</th>\n",
       "      <td>346</td>\n",
       "      <td>A</td>\n",
       "      <td>2</td>\n",
       "      <td>4.166165</td>\n",
       "    </tr>\n",
       "    <tr>\n",
       "      <th>9</th>\n",
       "      <td>399</td>\n",
       "      <td>A</td>\n",
       "      <td>3</td>\n",
       "      <td>4.804335</td>\n",
       "    </tr>\n",
       "    <tr>\n",
       "      <th>3</th>\n",
       "      <td>686</td>\n",
       "      <td>B</td>\n",
       "      <td>1</td>\n",
       "      <td>8.260084</td>\n",
       "    </tr>\n",
       "    <tr>\n",
       "      <th>4</th>\n",
       "      <td>645</td>\n",
       "      <td>B</td>\n",
       "      <td>2</td>\n",
       "      <td>7.766406</td>\n",
       "    </tr>\n",
       "    <tr>\n",
       "      <th>5</th>\n",
       "      <td>571</td>\n",
       "      <td>B</td>\n",
       "      <td>3</td>\n",
       "      <td>6.875376</td>\n",
       "    </tr>\n",
       "    <tr>\n",
       "      <th>10</th>\n",
       "      <td>365</td>\n",
       "      <td>C</td>\n",
       "      <td>1</td>\n",
       "      <td>4.394943</td>\n",
       "    </tr>\n",
       "    <tr>\n",
       "      <th>7</th>\n",
       "      <td>516</td>\n",
       "      <td>C</td>\n",
       "      <td>2</td>\n",
       "      <td>6.213125</td>\n",
       "    </tr>\n",
       "    <tr>\n",
       "      <th>2</th>\n",
       "      <td>617</td>\n",
       "      <td>C</td>\n",
       "      <td>3</td>\n",
       "      <td>7.429259</td>\n",
       "    </tr>\n",
       "    <tr>\n",
       "      <th>1</th>\n",
       "      <td>782</td>\n",
       "      <td>D</td>\n",
       "      <td>1</td>\n",
       "      <td>9.416014</td>\n",
       "    </tr>\n",
       "    <tr>\n",
       "      <th>6</th>\n",
       "      <td>506</td>\n",
       "      <td>D</td>\n",
       "      <td>2</td>\n",
       "      <td>6.092715</td>\n",
       "    </tr>\n",
       "    <tr>\n",
       "      <th>8</th>\n",
       "      <td>395</td>\n",
       "      <td>D</td>\n",
       "      <td>3</td>\n",
       "      <td>4.756171</td>\n",
       "    </tr>\n",
       "    <tr>\n",
       "      <th>13</th>\n",
       "      <td>254</td>\n",
       "      <td>E</td>\n",
       "      <td>1</td>\n",
       "      <td>3.058399</td>\n",
       "    </tr>\n",
       "    <tr>\n",
       "      <th>14</th>\n",
       "      <td>42</td>\n",
       "      <td>E</td>\n",
       "      <td>2</td>\n",
       "      <td>0.505719</td>\n",
       "    </tr>\n",
       "    <tr>\n",
       "      <th>15</th>\n",
       "      <td>0</td>\n",
       "      <td>E</td>\n",
       "      <td>3</td>\n",
       "      <td>0.000000</td>\n",
       "    </tr>\n",
       "    <tr>\n",
       "      <th>0</th>\n",
       "      <td>1824</td>\n",
       "      <td>S</td>\n",
       "      <td>1</td>\n",
       "      <td>21.962673</td>\n",
       "    </tr>\n",
       "  </tbody>\n",
       "</table>\n",
       "</div>"
      ],
      "text/plain": [
       "    conteo_total segmento clase  porcentaje_clase_segmento_con_total\n",
       "11           357        A     1                             4.298615\n",
       "12           346        A     2                             4.166165\n",
       "9            399        A     3                             4.804335\n",
       "3            686        B     1                             8.260084\n",
       "4            645        B     2                             7.766406\n",
       "5            571        B     3                             6.875376\n",
       "10           365        C     1                             4.394943\n",
       "7            516        C     2                             6.213125\n",
       "2            617        C     3                             7.429259\n",
       "1            782        D     1                             9.416014\n",
       "6            506        D     2                             6.092715\n",
       "8            395        D     3                             4.756171\n",
       "13           254        E     1                             3.058399\n",
       "14            42        E     2                             0.505719\n",
       "15             0        E     3                             0.000000\n",
       "0           1824        S     1                            21.962673"
      ]
     },
     "execution_count": 128,
     "metadata": {},
     "output_type": "execute_result"
    }
   ],
   "source": [
    "import pandas as pd\n",
    "\n",
    "# Definir el orden personalizado para segmento y clase\n",
    "orden_segmento = ['A', 'B', 'C', 'D', 'E', 'S']\n",
    "orden_clase = ['1', '2', '3']\n",
    "\n",
    "# Lista de DataFrames y sus nombres correspondientes\n",
    "dataframes_list = [\n",
    "    segment_df_alfa_q_oct_2022_pachuca,\n",
    "    segment_df_alfa_q_nov_2022_pachuca,\n",
    "    segment_df_alfa_q_feb_2023_pachuca,\n",
    "    segment_df_alfa_q_mar_2023_pachuca,\n",
    "    segment_df_alfa_q_jun_2023_pachuca,\n",
    "    segment_df_alfa_q_jul_2023_pachuca\n",
    "]\n",
    "\n",
    "# Inicializar un diccionario para almacenar el conteo total de valores únicos\n",
    "conteo_total = {}\n",
    "\n",
    "# Iterar sobre la lista de DataFrames\n",
    "for df in dataframes_list:\n",
    "    # Calcular el conteo de valores únicos de 'categoria' en el DataFrame actual\n",
    "    conteo_actual = df['categoria'].value_counts().to_dict()\n",
    "    # Agregar el conteo actual al conteo total\n",
    "    for categoria, conteo in conteo_actual.items():\n",
    "        conteo_total[categoria] = conteo_total.get(categoria, 0) + conteo\n",
    "\n",
    "# Convertir el diccionario a un DataFrame\n",
    "conteo_total_df = pd.DataFrame(list(conteo_total.items()), columns=['categoria', 'conteo_total'])\n",
    "\n",
    "# Añadir una nuevas columnas que extraigan el número y letra de la categoría\n",
    "conteo_total_df['segmento'] = conteo_total_df['categoria'].str[0]\n",
    "conteo_total_df['clase'] = conteo_total_df['categoria'].str.extract(r'(\\d+)').fillna('1')\n",
    "conteo_total_df.drop(columns=['categoria'], inplace=True)\n",
    "\n",
    "# Crear una nueva fila como un diccionario de Python\n",
    "nueva_fila = {'conteo_total': 0, 'segmento': 'E', 'clase': '3'}\n",
    "# Agregar la nueva fila al DataFrame\n",
    "conteo_total_df = conteo_total_df.append(nueva_fila, ignore_index=True)\n",
    "\n",
    "# Calcular el total de registros por cada segmento, incluyendo todas sus categorías\n",
    "total_por_segmento = conteo_total_df.groupby('segmento')['conteo_total'].sum()\n",
    "\n",
    "# Calcular el total de registros en todos los segmentos\n",
    "total_registros_total = total_por_segmento.sum()\n",
    "\n",
    "# Calcular el porcentaje que representa cada total de segmento con respecto al total de registros en todo el DataFrame\n",
    "porcentaje_total_segmento = (total_por_segmento / total_registros_total) * 100\n",
    "\n",
    "# Calcular el porcentaje que ocupa cada clase de cada segmento en proporción con el total de registros en todos los segmentos\n",
    "conteo_total_df['porcentaje_clase_segmento_con_total'] = conteo_total_df['conteo_total'] / total_registros_total * 100\n",
    "\n",
    "# Crear un DataFrame con los resultados de los totales por segmento y su porcentaje del total\n",
    "resultados = pd.DataFrame({\n",
    "    'segmento': total_por_segmento.index,\n",
    "    'total_por_segmento': total_por_segmento.values,\n",
    "    'porcentaje_del_total': porcentaje_total_segmento.values\n",
    "})\n",
    "\n",
    "# Ordenar el DataFrame de conteo total según las categorías definidas\n",
    "conteo_total_df['segmento'] = pd.Categorical(conteo_total_df['segmento'], categories=orden_segmento, ordered=True)\n",
    "conteo_total_df['clase'] = pd.Categorical(conteo_total_df['clase'], categories=orden_clase, ordered=True)\n",
    "conteo_total_df = conteo_total_df.sort_values(by=['segmento', 'clase'])\n",
    "\n",
    "# Mostrar los resultados\n",
    "print(\"Total de registros por segmento y su porcentaje del total:\")\n",
    "print(resultados)\n",
    "\n",
    "print(\"\\nConteo total de valores únicos por clase y segmento, y porcentaje en relación con el total:\")\n",
    "conteo_total_df\n",
    "\n",
    "\n",
    "\n",
    "\n",
    "\n"
   ]
  },
  {
   "cell_type": "code",
   "execution_count": 132,
   "metadata": {},
   "outputs": [
    {
     "name": "stderr",
     "output_type": "stream",
     "text": [
      "C:\\Users\\yoe11\\AppData\\Local\\Temp\\ipykernel_13160\\722907212.py:40: FutureWarning:\n",
      "\n",
      "The frame.append method is deprecated and will be removed from pandas in a future version. Use pandas.concat instead.\n",
      "\n"
     ]
    },
    {
     "name": "stdout",
     "output_type": "stream",
     "text": [
      "Total de registros por segmento y su porcentaje del total:\n",
      "  segmento  total_por_segmento  porcentaje_del_total\n",
      "0        A                1102             13.269115\n",
      "1        B                1902             22.901866\n",
      "2        C                1498             18.037327\n",
      "3        D                1683             20.264901\n",
      "4        E                 296              3.564118\n",
      "5        S                1824             21.962673\n",
      "\n",
      "Conteo total de valores únicos por clase y segmento, y porcentaje en relación con el total:\n",
      "    conteo_total segmento clase\n",
      "11           357        A     1\n",
      "12           346        A     2\n",
      "9            399        A     3\n",
      "3            686        B     1\n",
      "4            645        B     2\n",
      "5            571        B     3\n",
      "10           365        C     1\n",
      "7            516        C     2\n",
      "2            617        C     3\n",
      "1            782        D     1\n",
      "6            506        D     2\n",
      "8            395        D     3\n",
      "13           254        E     1\n",
      "14            42        E     2\n",
      "15             0        E     3\n",
      "0           1824        S     1\n"
     ]
    },
    {
     "data": {
      "application/vnd.plotly.v1+json": {
       "config": {
        "plotlyServerURL": "https://plot.ly"
       },
       "data": [
        {
         "name": "A",
         "type": "bar",
         "x": [
          "A-1",
          "A-2",
          "A-3"
         ],
         "y": [
          13.269114990969296
         ]
        },
        {
         "name": "B",
         "type": "bar",
         "x": [
          "B-1",
          "B-2",
          "B-3"
         ],
         "y": [
          22.901866345574955
         ]
        },
        {
         "name": "C",
         "type": "bar",
         "x": [
          "C-1",
          "C-2",
          "C-3"
         ],
         "y": [
          18.037326911499097
         ]
        },
        {
         "name": "D",
         "type": "bar",
         "x": [
          "D-1",
          "D-2",
          "D-3"
         ],
         "y": [
          20.264900662251655
         ]
        },
        {
         "name": "E",
         "type": "bar",
         "x": [
          "E-1",
          "E-2",
          "E-3"
         ],
         "y": [
          3.564118001204094
         ]
        },
        {
         "name": "S",
         "type": "bar",
         "x": [
          "S-1",
          "S-2",
          "S-3"
         ],
         "y": [
          21.962673088500903
         ]
        }
       ],
       "layout": {
        "barmode": "stack",
        "template": {
         "data": {
          "bar": [
           {
            "error_x": {
             "color": "#2a3f5f"
            },
            "error_y": {
             "color": "#2a3f5f"
            },
            "marker": {
             "line": {
              "color": "#E5ECF6",
              "width": 0.5
             },
             "pattern": {
              "fillmode": "overlay",
              "size": 10,
              "solidity": 0.2
             }
            },
            "type": "bar"
           }
          ],
          "barpolar": [
           {
            "marker": {
             "line": {
              "color": "#E5ECF6",
              "width": 0.5
             },
             "pattern": {
              "fillmode": "overlay",
              "size": 10,
              "solidity": 0.2
             }
            },
            "type": "barpolar"
           }
          ],
          "carpet": [
           {
            "aaxis": {
             "endlinecolor": "#2a3f5f",
             "gridcolor": "white",
             "linecolor": "white",
             "minorgridcolor": "white",
             "startlinecolor": "#2a3f5f"
            },
            "baxis": {
             "endlinecolor": "#2a3f5f",
             "gridcolor": "white",
             "linecolor": "white",
             "minorgridcolor": "white",
             "startlinecolor": "#2a3f5f"
            },
            "type": "carpet"
           }
          ],
          "choropleth": [
           {
            "colorbar": {
             "outlinewidth": 0,
             "ticks": ""
            },
            "type": "choropleth"
           }
          ],
          "contour": [
           {
            "colorbar": {
             "outlinewidth": 0,
             "ticks": ""
            },
            "colorscale": [
             [
              0,
              "#0d0887"
             ],
             [
              0.1111111111111111,
              "#46039f"
             ],
             [
              0.2222222222222222,
              "#7201a8"
             ],
             [
              0.3333333333333333,
              "#9c179e"
             ],
             [
              0.4444444444444444,
              "#bd3786"
             ],
             [
              0.5555555555555556,
              "#d8576b"
             ],
             [
              0.6666666666666666,
              "#ed7953"
             ],
             [
              0.7777777777777778,
              "#fb9f3a"
             ],
             [
              0.8888888888888888,
              "#fdca26"
             ],
             [
              1,
              "#f0f921"
             ]
            ],
            "type": "contour"
           }
          ],
          "contourcarpet": [
           {
            "colorbar": {
             "outlinewidth": 0,
             "ticks": ""
            },
            "type": "contourcarpet"
           }
          ],
          "heatmap": [
           {
            "colorbar": {
             "outlinewidth": 0,
             "ticks": ""
            },
            "colorscale": [
             [
              0,
              "#0d0887"
             ],
             [
              0.1111111111111111,
              "#46039f"
             ],
             [
              0.2222222222222222,
              "#7201a8"
             ],
             [
              0.3333333333333333,
              "#9c179e"
             ],
             [
              0.4444444444444444,
              "#bd3786"
             ],
             [
              0.5555555555555556,
              "#d8576b"
             ],
             [
              0.6666666666666666,
              "#ed7953"
             ],
             [
              0.7777777777777778,
              "#fb9f3a"
             ],
             [
              0.8888888888888888,
              "#fdca26"
             ],
             [
              1,
              "#f0f921"
             ]
            ],
            "type": "heatmap"
           }
          ],
          "heatmapgl": [
           {
            "colorbar": {
             "outlinewidth": 0,
             "ticks": ""
            },
            "colorscale": [
             [
              0,
              "#0d0887"
             ],
             [
              0.1111111111111111,
              "#46039f"
             ],
             [
              0.2222222222222222,
              "#7201a8"
             ],
             [
              0.3333333333333333,
              "#9c179e"
             ],
             [
              0.4444444444444444,
              "#bd3786"
             ],
             [
              0.5555555555555556,
              "#d8576b"
             ],
             [
              0.6666666666666666,
              "#ed7953"
             ],
             [
              0.7777777777777778,
              "#fb9f3a"
             ],
             [
              0.8888888888888888,
              "#fdca26"
             ],
             [
              1,
              "#f0f921"
             ]
            ],
            "type": "heatmapgl"
           }
          ],
          "histogram": [
           {
            "marker": {
             "pattern": {
              "fillmode": "overlay",
              "size": 10,
              "solidity": 0.2
             }
            },
            "type": "histogram"
           }
          ],
          "histogram2d": [
           {
            "colorbar": {
             "outlinewidth": 0,
             "ticks": ""
            },
            "colorscale": [
             [
              0,
              "#0d0887"
             ],
             [
              0.1111111111111111,
              "#46039f"
             ],
             [
              0.2222222222222222,
              "#7201a8"
             ],
             [
              0.3333333333333333,
              "#9c179e"
             ],
             [
              0.4444444444444444,
              "#bd3786"
             ],
             [
              0.5555555555555556,
              "#d8576b"
             ],
             [
              0.6666666666666666,
              "#ed7953"
             ],
             [
              0.7777777777777778,
              "#fb9f3a"
             ],
             [
              0.8888888888888888,
              "#fdca26"
             ],
             [
              1,
              "#f0f921"
             ]
            ],
            "type": "histogram2d"
           }
          ],
          "histogram2dcontour": [
           {
            "colorbar": {
             "outlinewidth": 0,
             "ticks": ""
            },
            "colorscale": [
             [
              0,
              "#0d0887"
             ],
             [
              0.1111111111111111,
              "#46039f"
             ],
             [
              0.2222222222222222,
              "#7201a8"
             ],
             [
              0.3333333333333333,
              "#9c179e"
             ],
             [
              0.4444444444444444,
              "#bd3786"
             ],
             [
              0.5555555555555556,
              "#d8576b"
             ],
             [
              0.6666666666666666,
              "#ed7953"
             ],
             [
              0.7777777777777778,
              "#fb9f3a"
             ],
             [
              0.8888888888888888,
              "#fdca26"
             ],
             [
              1,
              "#f0f921"
             ]
            ],
            "type": "histogram2dcontour"
           }
          ],
          "mesh3d": [
           {
            "colorbar": {
             "outlinewidth": 0,
             "ticks": ""
            },
            "type": "mesh3d"
           }
          ],
          "parcoords": [
           {
            "line": {
             "colorbar": {
              "outlinewidth": 0,
              "ticks": ""
             }
            },
            "type": "parcoords"
           }
          ],
          "pie": [
           {
            "automargin": true,
            "type": "pie"
           }
          ],
          "scatter": [
           {
            "fillpattern": {
             "fillmode": "overlay",
             "size": 10,
             "solidity": 0.2
            },
            "type": "scatter"
           }
          ],
          "scatter3d": [
           {
            "line": {
             "colorbar": {
              "outlinewidth": 0,
              "ticks": ""
             }
            },
            "marker": {
             "colorbar": {
              "outlinewidth": 0,
              "ticks": ""
             }
            },
            "type": "scatter3d"
           }
          ],
          "scattercarpet": [
           {
            "marker": {
             "colorbar": {
              "outlinewidth": 0,
              "ticks": ""
             }
            },
            "type": "scattercarpet"
           }
          ],
          "scattergeo": [
           {
            "marker": {
             "colorbar": {
              "outlinewidth": 0,
              "ticks": ""
             }
            },
            "type": "scattergeo"
           }
          ],
          "scattergl": [
           {
            "marker": {
             "colorbar": {
              "outlinewidth": 0,
              "ticks": ""
             }
            },
            "type": "scattergl"
           }
          ],
          "scattermapbox": [
           {
            "marker": {
             "colorbar": {
              "outlinewidth": 0,
              "ticks": ""
             }
            },
            "type": "scattermapbox"
           }
          ],
          "scatterpolar": [
           {
            "marker": {
             "colorbar": {
              "outlinewidth": 0,
              "ticks": ""
             }
            },
            "type": "scatterpolar"
           }
          ],
          "scatterpolargl": [
           {
            "marker": {
             "colorbar": {
              "outlinewidth": 0,
              "ticks": ""
             }
            },
            "type": "scatterpolargl"
           }
          ],
          "scatterternary": [
           {
            "marker": {
             "colorbar": {
              "outlinewidth": 0,
              "ticks": ""
             }
            },
            "type": "scatterternary"
           }
          ],
          "surface": [
           {
            "colorbar": {
             "outlinewidth": 0,
             "ticks": ""
            },
            "colorscale": [
             [
              0,
              "#0d0887"
             ],
             [
              0.1111111111111111,
              "#46039f"
             ],
             [
              0.2222222222222222,
              "#7201a8"
             ],
             [
              0.3333333333333333,
              "#9c179e"
             ],
             [
              0.4444444444444444,
              "#bd3786"
             ],
             [
              0.5555555555555556,
              "#d8576b"
             ],
             [
              0.6666666666666666,
              "#ed7953"
             ],
             [
              0.7777777777777778,
              "#fb9f3a"
             ],
             [
              0.8888888888888888,
              "#fdca26"
             ],
             [
              1,
              "#f0f921"
             ]
            ],
            "type": "surface"
           }
          ],
          "table": [
           {
            "cells": {
             "fill": {
              "color": "#EBF0F8"
             },
             "line": {
              "color": "white"
             }
            },
            "header": {
             "fill": {
              "color": "#C8D4E3"
             },
             "line": {
              "color": "white"
             }
            },
            "type": "table"
           }
          ]
         },
         "layout": {
          "annotationdefaults": {
           "arrowcolor": "#2a3f5f",
           "arrowhead": 0,
           "arrowwidth": 1
          },
          "autotypenumbers": "strict",
          "coloraxis": {
           "colorbar": {
            "outlinewidth": 0,
            "ticks": ""
           }
          },
          "colorscale": {
           "diverging": [
            [
             0,
             "#8e0152"
            ],
            [
             0.1,
             "#c51b7d"
            ],
            [
             0.2,
             "#de77ae"
            ],
            [
             0.3,
             "#f1b6da"
            ],
            [
             0.4,
             "#fde0ef"
            ],
            [
             0.5,
             "#f7f7f7"
            ],
            [
             0.6,
             "#e6f5d0"
            ],
            [
             0.7,
             "#b8e186"
            ],
            [
             0.8,
             "#7fbc41"
            ],
            [
             0.9,
             "#4d9221"
            ],
            [
             1,
             "#276419"
            ]
           ],
           "sequential": [
            [
             0,
             "#0d0887"
            ],
            [
             0.1111111111111111,
             "#46039f"
            ],
            [
             0.2222222222222222,
             "#7201a8"
            ],
            [
             0.3333333333333333,
             "#9c179e"
            ],
            [
             0.4444444444444444,
             "#bd3786"
            ],
            [
             0.5555555555555556,
             "#d8576b"
            ],
            [
             0.6666666666666666,
             "#ed7953"
            ],
            [
             0.7777777777777778,
             "#fb9f3a"
            ],
            [
             0.8888888888888888,
             "#fdca26"
            ],
            [
             1,
             "#f0f921"
            ]
           ],
           "sequentialminus": [
            [
             0,
             "#0d0887"
            ],
            [
             0.1111111111111111,
             "#46039f"
            ],
            [
             0.2222222222222222,
             "#7201a8"
            ],
            [
             0.3333333333333333,
             "#9c179e"
            ],
            [
             0.4444444444444444,
             "#bd3786"
            ],
            [
             0.5555555555555556,
             "#d8576b"
            ],
            [
             0.6666666666666666,
             "#ed7953"
            ],
            [
             0.7777777777777778,
             "#fb9f3a"
            ],
            [
             0.8888888888888888,
             "#fdca26"
            ],
            [
             1,
             "#f0f921"
            ]
           ]
          },
          "colorway": [
           "#636efa",
           "#EF553B",
           "#00cc96",
           "#ab63fa",
           "#FFA15A",
           "#19d3f3",
           "#FF6692",
           "#B6E880",
           "#FF97FF",
           "#FECB52"
          ],
          "font": {
           "color": "#2a3f5f"
          },
          "geo": {
           "bgcolor": "white",
           "lakecolor": "white",
           "landcolor": "#E5ECF6",
           "showlakes": true,
           "showland": true,
           "subunitcolor": "white"
          },
          "hoverlabel": {
           "align": "left"
          },
          "hovermode": "closest",
          "mapbox": {
           "style": "light"
          },
          "paper_bgcolor": "white",
          "plot_bgcolor": "#E5ECF6",
          "polar": {
           "angularaxis": {
            "gridcolor": "white",
            "linecolor": "white",
            "ticks": ""
           },
           "bgcolor": "#E5ECF6",
           "radialaxis": {
            "gridcolor": "white",
            "linecolor": "white",
            "ticks": ""
           }
          },
          "scene": {
           "xaxis": {
            "backgroundcolor": "#E5ECF6",
            "gridcolor": "white",
            "gridwidth": 2,
            "linecolor": "white",
            "showbackground": true,
            "ticks": "",
            "zerolinecolor": "white"
           },
           "yaxis": {
            "backgroundcolor": "#E5ECF6",
            "gridcolor": "white",
            "gridwidth": 2,
            "linecolor": "white",
            "showbackground": true,
            "ticks": "",
            "zerolinecolor": "white"
           },
           "zaxis": {
            "backgroundcolor": "#E5ECF6",
            "gridcolor": "white",
            "gridwidth": 2,
            "linecolor": "white",
            "showbackground": true,
            "ticks": "",
            "zerolinecolor": "white"
           }
          },
          "shapedefaults": {
           "line": {
            "color": "#2a3f5f"
           }
          },
          "ternary": {
           "aaxis": {
            "gridcolor": "white",
            "linecolor": "white",
            "ticks": ""
           },
           "baxis": {
            "gridcolor": "white",
            "linecolor": "white",
            "ticks": ""
           },
           "bgcolor": "#E5ECF6",
           "caxis": {
            "gridcolor": "white",
            "linecolor": "white",
            "ticks": ""
           }
          },
          "title": {
           "x": 0.05
          },
          "xaxis": {
           "automargin": true,
           "gridcolor": "white",
           "linecolor": "white",
           "ticks": "",
           "title": {
            "standoff": 15
           },
           "zerolinecolor": "white",
           "zerolinewidth": 2
          },
          "yaxis": {
           "automargin": true,
           "gridcolor": "white",
           "linecolor": "white",
           "ticks": "",
           "title": {
            "standoff": 15
           },
           "zerolinecolor": "white",
           "zerolinewidth": 2
          }
         }
        },
        "title": {
         "text": "Porcentaje de cada clase de cada segmento en relación con el total de registros"
        },
        "xaxis": {
         "title": {
          "text": "Clase"
         }
        },
        "yaxis": {
         "title": {
          "text": "Porcentaje (%)"
         }
        }
       }
      }
     },
     "metadata": {},
     "output_type": "display_data"
    }
   ],
   "source": [
    "import pandas as pd\n",
    "import plotly.graph_objects as go\n",
    "\n",
    "# Definir el orden personalizado para segmento y clase\n",
    "orden_segmento = ['A', 'B', 'C', 'D', 'E', 'S']\n",
    "orden_clase = ['1', '2', '3']\n",
    "\n",
    "# Lista de DataFrames y sus nombres correspondientes\n",
    "dataframes_list = [\n",
    "    segment_df_alfa_q_oct_2022_pachuca,\n",
    "    segment_df_alfa_q_nov_2022_pachuca,\n",
    "    segment_df_alfa_q_feb_2023_pachuca,\n",
    "    segment_df_alfa_q_mar_2023_pachuca,\n",
    "    segment_df_alfa_q_jun_2023_pachuca,\n",
    "    segment_df_alfa_q_jul_2023_pachuca\n",
    "]\n",
    "\n",
    "# Inicializar un diccionario para almacenar el conteo total de valores únicos\n",
    "conteo_total = {}\n",
    "\n",
    "# Iterar sobre la lista de DataFrames\n",
    "for df in dataframes_list:\n",
    "    # Calcular el conteo de valores únicos de 'categoria' en el DataFrame actual\n",
    "    conteo_actual = df['categoria'].value_counts().to_dict()\n",
    "    # Agregar el conteo actual al conteo total\n",
    "    for categoria, conteo in conteo_actual.items():\n",
    "        conteo_total[categoria] = conteo_total.get(categoria, 0) + conteo\n",
    "\n",
    "# Convertir el diccionario a un DataFrame\n",
    "conteo_total_df = pd.DataFrame(list(conteo_total.items()), columns=['categoria', 'conteo_total'])\n",
    "\n",
    "# Añadir una nuevas columnas que extraigan el número y letra de la categoría\n",
    "conteo_total_df['segmento'] = conteo_total_df['categoria'].str[0]\n",
    "conteo_total_df['clase'] = conteo_total_df['categoria'].str.extract(r'(\\d+)').fillna('1')\n",
    "conteo_total_df.drop(columns=['categoria'], inplace=True)\n",
    "\n",
    "# Crear una nueva fila como un diccionario de Python\n",
    "nueva_fila = {'conteo_total': 0, 'segmento': 'E', 'clase': '3'}\n",
    "# Agregar la nueva fila al DataFrame\n",
    "conteo_total_df = conteo_total_df.append(nueva_fila, ignore_index=True)\n",
    "\n",
    "# Calcular el total de registros por cada segmento, incluyendo todas sus categorías\n",
    "total_por_segmento = conteo_total_df.groupby('segmento')['conteo_total'].sum()\n",
    "\n",
    "# Calcular el total de registros en todos los segmentos\n",
    "total_registros_total = total_por_segmento.sum()\n",
    "\n",
    "# Calcular el porcentaje que representa cada total de segmento con respecto al total de registros en todo el DataFrame\n",
    "porcentaje_total_segmento = (total_por_segmento / total_registros_total) * 100\n",
    "\n",
    "# Crear un DataFrame con los resultados de los totales por segmento y su porcentaje del total\n",
    "resultados = pd.DataFrame({\n",
    "    'segmento': total_por_segmento.index,\n",
    "    'total_por_segmento': total_por_segmento.values,\n",
    "    'porcentaje_del_total': porcentaje_total_segmento.values\n",
    "})\n",
    "\n",
    "# Ordenar el DataFrame de conteo total según las categorías definidas\n",
    "conteo_total_df['segmento'] = pd.Categorical(conteo_total_df['segmento'], categories=orden_segmento, ordered=True)\n",
    "conteo_total_df['clase'] = pd.Categorical(conteo_total_df['clase'], categories=orden_clase, ordered=True)\n",
    "conteo_total_df = conteo_total_df.sort_values(by=['segmento', 'clase'])\n",
    "\n",
    "# Mostrar los resultados\n",
    "print(\"Total de registros por segmento y su porcentaje del total:\")\n",
    "print(resultados)\n",
    "\n",
    "print(\"\\nConteo total de valores únicos por clase y segmento, y porcentaje en relación con el total:\")\n",
    "print(conteo_total_df)\n",
    "\n",
    "# Crear una figura para el gráfico\n",
    "fig = go.Figure()\n",
    "\n",
    "# Iterar sobre los segmentos y clases en el DataFrame de resultados\n",
    "for segmento in orden_segmento:\n",
    "    # Filtrar el DataFrame de resultados para el segmento actual\n",
    "    df_segmento = resultados[resultados['segmento'] == segmento]\n",
    "    \n",
    "    # Añadir barras para cada clase dentro del segmento\n",
    "    fig.add_trace(go.Bar(\n",
    "        x=[f'{segmento}-{clase}' for clase in orden_clase],  # Nombre de las barras\n",
    "        y=df_segmento['porcentaje_del_total'],  # Porcentajes de cada clase\n",
    "        name=segmento  # Nombre del segmento\n",
    "    ))\n",
    "\n",
    "# Actualizar el diseño del gráfico\n",
    "fig.update_layout(\n",
    "    title='Porcentaje de cada clase de cada segmento en relación con el total de registros',\n",
    "    xaxis_title='Clase',\n",
    "    yaxis_title='Porcentaje (%)',\n",
    "    barmode='stack'  # Apilar las barras\n",
    ")\n",
    "\n",
    "# Mostrar el gráfico\n",
    "fig.show()\n"
   ]
  },
  {
   "cell_type": "code",
   "execution_count": 134,
   "metadata": {},
   "outputs": [
    {
     "name": "stdout",
     "output_type": "stream",
     "text": [
      "Total de registros por segmento y su porcentaje del total:\n",
      "  segmento  total_por_segmento  porcentaje_del_total\n",
      "0        A                1102             13.269115\n",
      "1        B                1902             22.901866\n",
      "2        C                1498             18.037327\n",
      "3        D                1683             20.264901\n",
      "4        E                 296              3.564118\n",
      "5        S                1824             21.962673\n",
      "\n",
      "Conteo total de valores únicos por clase y segmento, y porcentaje en relación con el total:\n",
      "    conteo_total segmento clase  porcentaje_clase_segmento_con_total\n",
      "11           357        A     1                             4.298615\n",
      "12           346        A     2                             4.166165\n",
      "9            399        A     3                             4.804335\n",
      "3            686        B     1                             8.260084\n",
      "4            645        B     2                             7.766406\n",
      "5            571        B     3                             6.875376\n",
      "10           365        C     1                             4.394943\n",
      "7            516        C     2                             6.213125\n",
      "2            617        C     3                             7.429259\n",
      "1            782        D     1                             9.416014\n",
      "6            506        D     2                             6.092715\n",
      "8            395        D     3                             4.756171\n",
      "13           254        E     1                             3.058399\n",
      "14            42        E     2                             0.505719\n",
      "15             0        E     3                             0.000000\n",
      "0           1824        S     1                            21.962673\n"
     ]
    },
    {
     "name": "stderr",
     "output_type": "stream",
     "text": [
      "C:\\Users\\yoe11\\AppData\\Local\\Temp\\ipykernel_13160\\1672527360.py:40: FutureWarning:\n",
      "\n",
      "The frame.append method is deprecated and will be removed from pandas in a future version. Use pandas.concat instead.\n",
      "\n"
     ]
    },
    {
     "ename": "IndexError",
     "evalue": "index 0 is out of bounds for axis 0 with size 0",
     "output_type": "error",
     "traceback": [
      "\u001b[1;31m---------------------------------------------------------------------------\u001b[0m",
      "\u001b[1;31mIndexError\u001b[0m                                Traceback (most recent call last)",
      "\u001b[1;32m~\\AppData\\Local\\Temp\\ipykernel_13160\\1672527360.py\u001b[0m in \u001b[0;36m<module>\u001b[1;34m\u001b[0m\n\u001b[0;32m     83\u001b[0m         fig.add_trace(go.Bar(\n\u001b[0;32m     84\u001b[0m             \u001b[0mx\u001b[0m\u001b[1;33m=\u001b[0m\u001b[1;33m[\u001b[0m\u001b[1;34mf'{segmento}-{clase}'\u001b[0m\u001b[1;33m]\u001b[0m\u001b[1;33m,\u001b[0m  \u001b[1;31m# Nombre de la barra\u001b[0m\u001b[1;33m\u001b[0m\u001b[1;33m\u001b[0m\u001b[0m\n\u001b[1;32m---> 85\u001b[1;33m             \u001b[0my\u001b[0m\u001b[1;33m=\u001b[0m\u001b[1;33m[\u001b[0m\u001b[0mdf_clase\u001b[0m\u001b[1;33m[\u001b[0m\u001b[1;34m'porcentaje_clase_segmento_con_total'\u001b[0m\u001b[1;33m]\u001b[0m\u001b[1;33m.\u001b[0m\u001b[0mvalues\u001b[0m\u001b[1;33m[\u001b[0m\u001b[1;36m0\u001b[0m\u001b[1;33m]\u001b[0m\u001b[1;33m]\u001b[0m\u001b[1;33m,\u001b[0m  \u001b[1;31m# Obtener el porcentaje de la clase\u001b[0m\u001b[1;33m\u001b[0m\u001b[1;33m\u001b[0m\u001b[0m\n\u001b[0m\u001b[0;32m     86\u001b[0m             \u001b[0mname\u001b[0m\u001b[1;33m=\u001b[0m\u001b[1;34mf'{segmento}-{clase}'\u001b[0m  \u001b[1;31m# Nombre de la leyenda\u001b[0m\u001b[1;33m\u001b[0m\u001b[1;33m\u001b[0m\u001b[0m\n\u001b[0;32m     87\u001b[0m         ))\n",
      "\u001b[1;31mIndexError\u001b[0m: index 0 is out of bounds for axis 0 with size 0"
     ]
    }
   ],
   "source": [
    "import pandas as pd\n",
    "import plotly.graph_objects as go\n",
    "\n",
    "# Definir el orden personalizado para segmento y clase\n",
    "orden_segmento = ['A', 'B', 'C', 'D', 'E', 'S']\n",
    "orden_clase = ['1', '2', '3']\n",
    "\n",
    "# Lista de DataFrames y sus nombres correspondientes\n",
    "dataframes_list = [\n",
    "    segment_df_alfa_q_oct_2022_pachuca,\n",
    "    segment_df_alfa_q_nov_2022_pachuca,\n",
    "    segment_df_alfa_q_feb_2023_pachuca,\n",
    "    segment_df_alfa_q_mar_2023_pachuca,\n",
    "    segment_df_alfa_q_jun_2023_pachuca,\n",
    "    segment_df_alfa_q_jul_2023_pachuca\n",
    "]\n",
    "\n",
    "# Inicializar un diccionario para almacenar el conteo total de valores únicos\n",
    "conteo_total = {}\n",
    "\n",
    "# Iterar sobre la lista de DataFrames\n",
    "for df in dataframes_list:\n",
    "    # Calcular el conteo de valores únicos de 'categoria' en el DataFrame actual\n",
    "    conteo_actual = df['categoria'].value_counts().to_dict()\n",
    "    # Agregar el conteo actual al conteo total\n",
    "    for categoria, conteo in conteo_actual.items():\n",
    "        conteo_total[categoria] = conteo_total.get(categoria, 0) + conteo\n",
    "\n",
    "# Convertir el diccionario a un DataFrame\n",
    "conteo_total_df = pd.DataFrame(list(conteo_total.items()), columns=['categoria', 'conteo_total'])\n",
    "\n",
    "# Añadir una nuevas columnas que extraigan el número y letra de la categoría\n",
    "conteo_total_df['segmento'] = conteo_total_df['categoria'].str[0]\n",
    "conteo_total_df['clase'] = conteo_total_df['categoria'].str.extract(r'(\\d+)').fillna('1')\n",
    "conteo_total_df.drop(columns=['categoria'], inplace=True)\n",
    "\n",
    "# Crear una nueva fila como un diccionario de Python\n",
    "nueva_fila = {'conteo_total': 0, 'segmento': 'E', 'clase': '3'}\n",
    "# Agregar la nueva fila al DataFrame\n",
    "conteo_total_df = conteo_total_df.append(nueva_fila, ignore_index=True)\n",
    "\n",
    "# Calcular el total de registros por cada segmento, incluyendo todas sus categorías\n",
    "total_por_segmento = conteo_total_df.groupby('segmento')['conteo_total'].sum()\n",
    "\n",
    "# Calcular el total de registros en todos los segmentos\n",
    "total_registros_total = total_por_segmento.sum()\n",
    "\n",
    "# Calcular el porcentaje que representa cada total de segmento con respecto al total de registros en todo el DataFrame\n",
    "porcentaje_total_segmento = (total_por_segmento / total_registros_total) * 100\n",
    "\n",
    "# Calcular el porcentaje que ocupa cada clase de cada segmento en proporción con el total de registros en todos los segmentos\n",
    "conteo_total_df['porcentaje_clase_segmento_con_total'] = conteo_total_df['conteo_total'] / total_registros_total * 100\n",
    "\n",
    "# Crear un DataFrame con los resultados de los totales por segmento y su porcentaje del total\n",
    "resultados = pd.DataFrame({\n",
    "    'segmento': total_por_segmento.index,\n",
    "    'total_por_segmento': total_por_segmento.values,\n",
    "    'porcentaje_del_total': porcentaje_total_segmento.values\n",
    "})\n",
    "\n",
    "# Ordenar el DataFrame de conteo total según las categorías definidas\n",
    "conteo_total_df['segmento'] = pd.Categorical(conteo_total_df['segmento'], categories=orden_segmento, ordered=True)\n",
    "conteo_total_df['clase'] = pd.Categorical(conteo_total_df['clase'], categories=orden_clase, ordered=True)\n",
    "conteo_total_df = conteo_total_df.sort_values(by=['segmento', 'clase'])\n",
    "\n",
    "# Mostrar los resultados\n",
    "print(\"Total de registros por segmento y su porcentaje del total:\")\n",
    "print(resultados)\n",
    "\n",
    "print(\"\\nConteo total de valores únicos por clase y segmento, y porcentaje en relación con el total:\")\n",
    "print(conteo_total_df)\n",
    "\n",
    "# Crear una figura\n",
    "fig = go.Figure()\n",
    "\n",
    "# Iterar sobre los segmentos y clases en el DataFrame de conteo total\n",
    "for segmento in orden_segmento:\n",
    "    for clase in orden_clase:\n",
    "        # Filtrar el DataFrame para el segmento y la clase actual\n",
    "        df_clase = conteo_total_df[(conteo_total_df['segmento'] == segmento) & (conteo_total_df['clase'] == clase)]\n",
    "        \n",
    "        # Añadir una barra a la figura para la clase actual\n",
    "        fig.add_trace(go.Bar(\n",
    "            x=[f'{segmento}-{clase}'],  # Nombre de la barra\n",
    "            y=[df_clase['porcentaje_clase_segmento_con_total'].values[0]],  # Obtener el porcentaje de la clase\n",
    "            name=f'{segmento}-{clase}'  # Nombre de la leyenda\n",
    "        ))\n",
    "\n",
    "# Actualizar el diseño del gráfico\n",
    "fig.update_layout(\n",
    "    title='Porcentaje de cada clase de cada segmento en relación con el total de registros',\n",
    "    xaxis_title='Clase',\n",
    "    yaxis_title='Porcentaje (%)',\n",
    "    barmode='stack'  # Apilar las barras\n",
    ")\n",
    "\n",
    "# Mostrar el gráfico\n",
    "fig.show()\n"
   ]
  }
 ],
 "metadata": {
  "kernelspec": {
   "display_name": "base",
   "language": "python",
   "name": "python3"
  },
  "language_info": {
   "codemirror_mode": {
    "name": "ipython",
    "version": 3
   },
   "file_extension": ".py",
   "mimetype": "text/x-python",
   "name": "python",
   "nbconvert_exporter": "python",
   "pygments_lexer": "ipython3",
   "version": "3.9.13"
  }
 },
 "nbformat": 4,
 "nbformat_minor": 2
}
