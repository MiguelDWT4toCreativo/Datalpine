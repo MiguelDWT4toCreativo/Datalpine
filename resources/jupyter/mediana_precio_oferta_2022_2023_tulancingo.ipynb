{
 "cells": [
  {
   "cell_type": "markdown",
   "metadata": {},
   "source": [
    "***Mediana del precio de oferta***\n"
   ]
  },
  {
   "cell_type": "code",
   "execution_count": 1,
   "metadata": {},
   "outputs": [],
   "source": [
    "# Manejo de datos\n",
    "import os # Directorios\n",
    "import pandas as pd # Manipulación df\n",
    "# Gráficas\n",
    "import plotly.graph_objects as go #Para obtener librería usar: pip install plotly\n",
    "from plotly.subplots import make_subplots\n",
    "import plotly.io as pio # Exportar gráfica"
   ]
  },
  {
   "cell_type": "code",
   "execution_count": 2,
   "metadata": {},
   "outputs": [],
   "source": [
    "# Obtener el directorio actual de trabajo\n",
    "directorio_actual = os.getcwd()\n",
    "# Directorio donde se encuentran los archivos JSON (ruta relativa)\n",
    "directorio_json = os.path.join(directorio_actual, 'datos_json')\n",
    "#print(\"Directorio JSON relativo:\", directorio_json)\n",
    "# Obtener la lista de archivos JSON en el directorio\n",
    "archivos_json = os.listdir(directorio_json)\n"
   ]
  },
  {
   "cell_type": "code",
   "execution_count": 3,
   "metadata": {},
   "outputs": [],
   "source": [
    "dataframes = {} # Crear un diccionario para almacenar los DataFrames\n",
    "# Iterar sobre cada archivo JSON y crear un DataFrame\n",
    "for archivo in archivos_json:\n",
    "    # Obtener el nombre de la tabla del nombre del archivo\n",
    "    nombre_tabla = archivo.replace('datos_', '').replace('.json', '')    \n",
    "    # Cargar el archivo JSON en un DataFrame y asignarlo a una variable con un nombre dinámico\n",
    "    ruta_json = os.path.join(directorio_json, archivo)\n",
    "    globals()[f\"df_{nombre_tabla}\"] = pd.read_json(ruta_json)"
   ]
  },
  {
   "cell_type": "code",
   "execution_count": 4,
   "metadata": {},
   "outputs": [
    {
     "name": "stdout",
     "output_type": "stream",
     "text": [
      "Lista de DataFrames creados:\n",
      "['df_alfa_q_feb_2023_pachuca', 'df_alfa_q_jul_2023_pachuca', 'df_alfa_q_jun_2023_pachuca', 'df_alfa_q_mar_2023_pachuca', 'df_alfa_q_nov_2022_pachuca', 'df_alfa_q_oct_2022_pachuca', 'df_alfa_q_puebla', 'df_alfa_q_sep_2023_pachuca', 'df_alfa_q_tulancingo', 'df_enero_2024_querertaro', 'df_feb_2024_queretaro', 'df_financiamientos_2019_puebla', 'df_financiamientos_2019_queretaro', 'df_financiamientos_2019_tulancingo', 'df_financiamientos_2020_puebla', 'df_financiamientos_2020_queretaro', 'df_financiamientos_2020_tulancingo', 'df_financiamientos_2021_puebla', 'df_financiamientos_2021_queretaro', 'df_financiamientos_2021_tulancingo', 'df_financiamientos_2022_pachuca', 'df_financiamientos_2022_puebla', 'df_financiamientos_2022_queretaro', 'df_financiamientos_2022_tulancingo', 'df_financiamientos_2023_pachuca', 'df_financiamientos_2023_puebla', 'df_financiamientos_2023_queretaro', 'df_financiamientos_2023_tulancingo', 'df_grupos_edad_pachuca', 'df_grupos_edad_pachuca_2', 'df_grupos_edad_puebla', 'df_grupos_edad_puebla_2', 'df_grupos_edad_queretaro', 'df_grupos_edad_tulancingo', 'df_jul_2022_tulancingo', 'df_jul_2023_puebla', 'df_jul_2023_tulancingo', 'df_junio_2023_queretaro', 'df_junto_queretaro', 'df_jun_2023_tulancingo', 'df_mar_2023_tulancingo', 'df_mar_2024_queretaro', 'df_may_2022_tulancingo', 'df_may_2023_tulancingo', 'df_oct_2022_tulancingo', 'df_oct_2023_tulancingo', 'df_publicacion_queretaro', 'df_septiembre_2023_queretaro', 'df_sep_2023_puebla', 'df_sep_2023_tulancingo', 'df_usuarios']\n"
     ]
    }
   ],
   "source": [
    "# Obtener todos los nombres de las variables globales\n",
    "nombres_variables_globales = list(globals().keys())\n",
    "# Filtrar los nombres para obtener solo aquellos que comienzan con \"df_\"\n",
    "nombres_df = [nombre for nombre in nombres_variables_globales if nombre.startswith(\"df_\")]\n",
    "\n",
    "# Imprimir la lista de nombres de los DataFrames creados\n",
    "print(\"Lista de DataFrames creados:\")\n",
    "print(nombres_df)"
   ]
  },
  {
   "cell_type": "code",
   "execution_count": 5,
   "metadata": {},
   "outputs": [],
   "source": [
    "\n",
    "precio_df_may_2022_tulancingo = df_may_2022_tulancingo[['id_may_22','Precio']]\n",
    "precio_df_jul_2022_tulancingo = df_jul_2022_tulancingo[['id_jul_22','Precio']]\n",
    "precio_df_oct_2022_tulancingo = df_oct_2022_tulancingo[['id_oct_22','Precio']]\n",
    "\n",
    "precio_df_mar_2023_tulancingo = df_mar_2023_tulancingo[['id_mar_23','Precio']]\n",
    "precio_df_may_2023_tulancingo = df_may_2023_tulancingo[['id_may_23','Precio']]\n",
    "precio_df_jun_2023_tulancingo = df_jun_2023_tulancingo[['id_jun_23','Precio']]\n",
    "precio_df_jul_2023_tulancingo = df_jul_2023_tulancingo[['id_jul_23','Precio']]\n",
    "precio_df_sep_2023_tulancingo = df_sep_2023_tulancingo[['id_sep_23','Precio']]\n",
    "precio_df_oct_2023_tulancingo = df_oct_2023_tulancingo[['id_oct_23','Precio']]"
   ]
  },
  {
   "cell_type": "code",
   "execution_count": 6,
   "metadata": {},
   "outputs": [],
   "source": [
    "mediana_precio_df_may_2022 = precio_df_may_2022_tulancingo['Precio'].median()\n",
    "mediana_precio_df_jul_2022 = precio_df_jul_2022_tulancingo['Precio'].median()\n",
    "mediana_precio_df_oct_2022 = precio_df_oct_2022_tulancingo['Precio'].median()\n",
    "\n",
    "mediana_precio_df_jun_2022 = (mediana_precio_df_may_2022 + mediana_precio_df_jul_2022) / 2\n",
    "mediana_precio_df_ago_2022 = (mediana_precio_df_jul_2022 + mediana_precio_df_oct_2022) / 2\n",
    "mediana_precio_df_sep_2022 = (mediana_precio_df_ago_2022 + mediana_precio_df_oct_2022) / 2\n",
    "\n",
    "\n",
    "mediana_precio_df_mar_2023 = precio_df_mar_2023_tulancingo['Precio'].median()\n",
    "mediana_precio_df_may_2023 = precio_df_may_2023_tulancingo['Precio'].median()\n",
    "mediana_precio_df_jun_2023 = precio_df_jun_2023_tulancingo['Precio'].median()\n",
    "mediana_precio_df_jul_2023 = precio_df_jul_2023_tulancingo['Precio'].median()\n",
    "mediana_precio_df_sep_2023 = precio_df_sep_2023_tulancingo['Precio'].median()\n",
    "mediana_precio_df_oct_2023 = precio_df_oct_2023_tulancingo['Precio'].median()\n",
    "\n",
    "mediana_precio_df_nov_2022 = (mediana_precio_df_oct_2022 + mediana_precio_df_mar_2023) / 2\n",
    "mediana_precio_df_dic_2022 = (mediana_precio_df_nov_2022 + mediana_precio_df_mar_2023) / 2\n",
    "\n",
    "mediana_precio_df_ene_2023 = (mediana_precio_df_dic_2022 + mediana_precio_df_mar_2023) / 2\n",
    "mediana_precio_df_feb_2023 = (mediana_precio_df_ene_2023 + mediana_precio_df_mar_2023) / 2\n",
    "mediana_precio_df_abr_2023 = (mediana_precio_df_mar_2023 + mediana_precio_df_may_2023) / 2\n",
    "mediana_precio_df_ago_2023 = (mediana_precio_df_jul_2023 + mediana_precio_df_sep_2023) / 2\n",
    "\n",
    "\n"
   ]
  },
  {
   "cell_type": "code",
   "execution_count": 7,
   "metadata": {},
   "outputs": [
    {
     "data": {
      "application/vnd.plotly.v1+json": {
       "config": {
        "plotlyServerURL": "https://plot.ly"
       },
       "data": [
        {
         "line": {
          "color": "blue"
         },
         "mode": "lines+markers",
         "type": "scatter",
         "x": [
          "Mayo 2022",
          "Junio 2022",
          "Julio 2022",
          "Agosto 2022",
          "Septiembre 2022",
          "Octubre 2022",
          "Noviembre 2022",
          "Diciembre 2022",
          "Enero 2023",
          "Febrero 2023",
          "Marzo 2023",
          "Abril 2023",
          "Mayo 2023",
          "Junio 2023",
          "Julio 2023",
          "Agosto 2023",
          "Septiembre 2023",
          "Octubre 2023"
         ],
         "y": [
          1420000,
          1392500,
          1365000,
          1357500,
          1353750,
          1350000,
          1197500,
          1121250,
          1083125,
          1064062.5,
          1045000,
          1122500,
          1200000,
          1500000,
          1149950,
          1186225,
          1222500,
          1200000
         ]
        }
       ],
       "layout": {
        "plot_bgcolor": "rgba(0,0,0,0)",
        "template": {
         "data": {
          "bar": [
           {
            "error_x": {
             "color": "#2a3f5f"
            },
            "error_y": {
             "color": "#2a3f5f"
            },
            "marker": {
             "line": {
              "color": "#E5ECF6",
              "width": 0.5
             },
             "pattern": {
              "fillmode": "overlay",
              "size": 10,
              "solidity": 0.2
             }
            },
            "type": "bar"
           }
          ],
          "barpolar": [
           {
            "marker": {
             "line": {
              "color": "#E5ECF6",
              "width": 0.5
             },
             "pattern": {
              "fillmode": "overlay",
              "size": 10,
              "solidity": 0.2
             }
            },
            "type": "barpolar"
           }
          ],
          "carpet": [
           {
            "aaxis": {
             "endlinecolor": "#2a3f5f",
             "gridcolor": "white",
             "linecolor": "white",
             "minorgridcolor": "white",
             "startlinecolor": "#2a3f5f"
            },
            "baxis": {
             "endlinecolor": "#2a3f5f",
             "gridcolor": "white",
             "linecolor": "white",
             "minorgridcolor": "white",
             "startlinecolor": "#2a3f5f"
            },
            "type": "carpet"
           }
          ],
          "choropleth": [
           {
            "colorbar": {
             "outlinewidth": 0,
             "ticks": ""
            },
            "type": "choropleth"
           }
          ],
          "contour": [
           {
            "colorbar": {
             "outlinewidth": 0,
             "ticks": ""
            },
            "colorscale": [
             [
              0,
              "#0d0887"
             ],
             [
              0.1111111111111111,
              "#46039f"
             ],
             [
              0.2222222222222222,
              "#7201a8"
             ],
             [
              0.3333333333333333,
              "#9c179e"
             ],
             [
              0.4444444444444444,
              "#bd3786"
             ],
             [
              0.5555555555555556,
              "#d8576b"
             ],
             [
              0.6666666666666666,
              "#ed7953"
             ],
             [
              0.7777777777777778,
              "#fb9f3a"
             ],
             [
              0.8888888888888888,
              "#fdca26"
             ],
             [
              1,
              "#f0f921"
             ]
            ],
            "type": "contour"
           }
          ],
          "contourcarpet": [
           {
            "colorbar": {
             "outlinewidth": 0,
             "ticks": ""
            },
            "type": "contourcarpet"
           }
          ],
          "heatmap": [
           {
            "colorbar": {
             "outlinewidth": 0,
             "ticks": ""
            },
            "colorscale": [
             [
              0,
              "#0d0887"
             ],
             [
              0.1111111111111111,
              "#46039f"
             ],
             [
              0.2222222222222222,
              "#7201a8"
             ],
             [
              0.3333333333333333,
              "#9c179e"
             ],
             [
              0.4444444444444444,
              "#bd3786"
             ],
             [
              0.5555555555555556,
              "#d8576b"
             ],
             [
              0.6666666666666666,
              "#ed7953"
             ],
             [
              0.7777777777777778,
              "#fb9f3a"
             ],
             [
              0.8888888888888888,
              "#fdca26"
             ],
             [
              1,
              "#f0f921"
             ]
            ],
            "type": "heatmap"
           }
          ],
          "heatmapgl": [
           {
            "colorbar": {
             "outlinewidth": 0,
             "ticks": ""
            },
            "colorscale": [
             [
              0,
              "#0d0887"
             ],
             [
              0.1111111111111111,
              "#46039f"
             ],
             [
              0.2222222222222222,
              "#7201a8"
             ],
             [
              0.3333333333333333,
              "#9c179e"
             ],
             [
              0.4444444444444444,
              "#bd3786"
             ],
             [
              0.5555555555555556,
              "#d8576b"
             ],
             [
              0.6666666666666666,
              "#ed7953"
             ],
             [
              0.7777777777777778,
              "#fb9f3a"
             ],
             [
              0.8888888888888888,
              "#fdca26"
             ],
             [
              1,
              "#f0f921"
             ]
            ],
            "type": "heatmapgl"
           }
          ],
          "histogram": [
           {
            "marker": {
             "pattern": {
              "fillmode": "overlay",
              "size": 10,
              "solidity": 0.2
             }
            },
            "type": "histogram"
           }
          ],
          "histogram2d": [
           {
            "colorbar": {
             "outlinewidth": 0,
             "ticks": ""
            },
            "colorscale": [
             [
              0,
              "#0d0887"
             ],
             [
              0.1111111111111111,
              "#46039f"
             ],
             [
              0.2222222222222222,
              "#7201a8"
             ],
             [
              0.3333333333333333,
              "#9c179e"
             ],
             [
              0.4444444444444444,
              "#bd3786"
             ],
             [
              0.5555555555555556,
              "#d8576b"
             ],
             [
              0.6666666666666666,
              "#ed7953"
             ],
             [
              0.7777777777777778,
              "#fb9f3a"
             ],
             [
              0.8888888888888888,
              "#fdca26"
             ],
             [
              1,
              "#f0f921"
             ]
            ],
            "type": "histogram2d"
           }
          ],
          "histogram2dcontour": [
           {
            "colorbar": {
             "outlinewidth": 0,
             "ticks": ""
            },
            "colorscale": [
             [
              0,
              "#0d0887"
             ],
             [
              0.1111111111111111,
              "#46039f"
             ],
             [
              0.2222222222222222,
              "#7201a8"
             ],
             [
              0.3333333333333333,
              "#9c179e"
             ],
             [
              0.4444444444444444,
              "#bd3786"
             ],
             [
              0.5555555555555556,
              "#d8576b"
             ],
             [
              0.6666666666666666,
              "#ed7953"
             ],
             [
              0.7777777777777778,
              "#fb9f3a"
             ],
             [
              0.8888888888888888,
              "#fdca26"
             ],
             [
              1,
              "#f0f921"
             ]
            ],
            "type": "histogram2dcontour"
           }
          ],
          "mesh3d": [
           {
            "colorbar": {
             "outlinewidth": 0,
             "ticks": ""
            },
            "type": "mesh3d"
           }
          ],
          "parcoords": [
           {
            "line": {
             "colorbar": {
              "outlinewidth": 0,
              "ticks": ""
             }
            },
            "type": "parcoords"
           }
          ],
          "pie": [
           {
            "automargin": true,
            "type": "pie"
           }
          ],
          "scatter": [
           {
            "fillpattern": {
             "fillmode": "overlay",
             "size": 10,
             "solidity": 0.2
            },
            "type": "scatter"
           }
          ],
          "scatter3d": [
           {
            "line": {
             "colorbar": {
              "outlinewidth": 0,
              "ticks": ""
             }
            },
            "marker": {
             "colorbar": {
              "outlinewidth": 0,
              "ticks": ""
             }
            },
            "type": "scatter3d"
           }
          ],
          "scattercarpet": [
           {
            "marker": {
             "colorbar": {
              "outlinewidth": 0,
              "ticks": ""
             }
            },
            "type": "scattercarpet"
           }
          ],
          "scattergeo": [
           {
            "marker": {
             "colorbar": {
              "outlinewidth": 0,
              "ticks": ""
             }
            },
            "type": "scattergeo"
           }
          ],
          "scattergl": [
           {
            "marker": {
             "colorbar": {
              "outlinewidth": 0,
              "ticks": ""
             }
            },
            "type": "scattergl"
           }
          ],
          "scattermapbox": [
           {
            "marker": {
             "colorbar": {
              "outlinewidth": 0,
              "ticks": ""
             }
            },
            "type": "scattermapbox"
           }
          ],
          "scatterpolar": [
           {
            "marker": {
             "colorbar": {
              "outlinewidth": 0,
              "ticks": ""
             }
            },
            "type": "scatterpolar"
           }
          ],
          "scatterpolargl": [
           {
            "marker": {
             "colorbar": {
              "outlinewidth": 0,
              "ticks": ""
             }
            },
            "type": "scatterpolargl"
           }
          ],
          "scatterternary": [
           {
            "marker": {
             "colorbar": {
              "outlinewidth": 0,
              "ticks": ""
             }
            },
            "type": "scatterternary"
           }
          ],
          "surface": [
           {
            "colorbar": {
             "outlinewidth": 0,
             "ticks": ""
            },
            "colorscale": [
             [
              0,
              "#0d0887"
             ],
             [
              0.1111111111111111,
              "#46039f"
             ],
             [
              0.2222222222222222,
              "#7201a8"
             ],
             [
              0.3333333333333333,
              "#9c179e"
             ],
             [
              0.4444444444444444,
              "#bd3786"
             ],
             [
              0.5555555555555556,
              "#d8576b"
             ],
             [
              0.6666666666666666,
              "#ed7953"
             ],
             [
              0.7777777777777778,
              "#fb9f3a"
             ],
             [
              0.8888888888888888,
              "#fdca26"
             ],
             [
              1,
              "#f0f921"
             ]
            ],
            "type": "surface"
           }
          ],
          "table": [
           {
            "cells": {
             "fill": {
              "color": "#EBF0F8"
             },
             "line": {
              "color": "white"
             }
            },
            "header": {
             "fill": {
              "color": "#C8D4E3"
             },
             "line": {
              "color": "white"
             }
            },
            "type": "table"
           }
          ]
         },
         "layout": {
          "annotationdefaults": {
           "arrowcolor": "#2a3f5f",
           "arrowhead": 0,
           "arrowwidth": 1
          },
          "autotypenumbers": "strict",
          "coloraxis": {
           "colorbar": {
            "outlinewidth": 0,
            "ticks": ""
           }
          },
          "colorscale": {
           "diverging": [
            [
             0,
             "#8e0152"
            ],
            [
             0.1,
             "#c51b7d"
            ],
            [
             0.2,
             "#de77ae"
            ],
            [
             0.3,
             "#f1b6da"
            ],
            [
             0.4,
             "#fde0ef"
            ],
            [
             0.5,
             "#f7f7f7"
            ],
            [
             0.6,
             "#e6f5d0"
            ],
            [
             0.7,
             "#b8e186"
            ],
            [
             0.8,
             "#7fbc41"
            ],
            [
             0.9,
             "#4d9221"
            ],
            [
             1,
             "#276419"
            ]
           ],
           "sequential": [
            [
             0,
             "#0d0887"
            ],
            [
             0.1111111111111111,
             "#46039f"
            ],
            [
             0.2222222222222222,
             "#7201a8"
            ],
            [
             0.3333333333333333,
             "#9c179e"
            ],
            [
             0.4444444444444444,
             "#bd3786"
            ],
            [
             0.5555555555555556,
             "#d8576b"
            ],
            [
             0.6666666666666666,
             "#ed7953"
            ],
            [
             0.7777777777777778,
             "#fb9f3a"
            ],
            [
             0.8888888888888888,
             "#fdca26"
            ],
            [
             1,
             "#f0f921"
            ]
           ],
           "sequentialminus": [
            [
             0,
             "#0d0887"
            ],
            [
             0.1111111111111111,
             "#46039f"
            ],
            [
             0.2222222222222222,
             "#7201a8"
            ],
            [
             0.3333333333333333,
             "#9c179e"
            ],
            [
             0.4444444444444444,
             "#bd3786"
            ],
            [
             0.5555555555555556,
             "#d8576b"
            ],
            [
             0.6666666666666666,
             "#ed7953"
            ],
            [
             0.7777777777777778,
             "#fb9f3a"
            ],
            [
             0.8888888888888888,
             "#fdca26"
            ],
            [
             1,
             "#f0f921"
            ]
           ]
          },
          "colorway": [
           "#636efa",
           "#EF553B",
           "#00cc96",
           "#ab63fa",
           "#FFA15A",
           "#19d3f3",
           "#FF6692",
           "#B6E880",
           "#FF97FF",
           "#FECB52"
          ],
          "font": {
           "color": "#2a3f5f"
          },
          "geo": {
           "bgcolor": "white",
           "lakecolor": "white",
           "landcolor": "#E5ECF6",
           "showlakes": true,
           "showland": true,
           "subunitcolor": "white"
          },
          "hoverlabel": {
           "align": "left"
          },
          "hovermode": "closest",
          "mapbox": {
           "style": "light"
          },
          "paper_bgcolor": "white",
          "plot_bgcolor": "#E5ECF6",
          "polar": {
           "angularaxis": {
            "gridcolor": "white",
            "linecolor": "white",
            "ticks": ""
           },
           "bgcolor": "#E5ECF6",
           "radialaxis": {
            "gridcolor": "white",
            "linecolor": "white",
            "ticks": ""
           }
          },
          "scene": {
           "xaxis": {
            "backgroundcolor": "#E5ECF6",
            "gridcolor": "white",
            "gridwidth": 2,
            "linecolor": "white",
            "showbackground": true,
            "ticks": "",
            "zerolinecolor": "white"
           },
           "yaxis": {
            "backgroundcolor": "#E5ECF6",
            "gridcolor": "white",
            "gridwidth": 2,
            "linecolor": "white",
            "showbackground": true,
            "ticks": "",
            "zerolinecolor": "white"
           },
           "zaxis": {
            "backgroundcolor": "#E5ECF6",
            "gridcolor": "white",
            "gridwidth": 2,
            "linecolor": "white",
            "showbackground": true,
            "ticks": "",
            "zerolinecolor": "white"
           }
          },
          "shapedefaults": {
           "line": {
            "color": "#2a3f5f"
           }
          },
          "ternary": {
           "aaxis": {
            "gridcolor": "white",
            "linecolor": "white",
            "ticks": ""
           },
           "baxis": {
            "gridcolor": "white",
            "linecolor": "white",
            "ticks": ""
           },
           "bgcolor": "#E5ECF6",
           "caxis": {
            "gridcolor": "white",
            "linecolor": "white",
            "ticks": ""
           }
          },
          "title": {
           "x": 0.05
          },
          "xaxis": {
           "automargin": true,
           "gridcolor": "white",
           "linecolor": "white",
           "ticks": "",
           "title": {
            "standoff": 15
           },
           "zerolinecolor": "white",
           "zerolinewidth": 2
          },
          "yaxis": {
           "automargin": true,
           "gridcolor": "white",
           "linecolor": "white",
           "ticks": "",
           "title": {
            "standoff": 15
           },
           "zerolinecolor": "white",
           "zerolinewidth": 2
          }
         }
        },
        "title": {
         "text": "Histórico de precios (2022-2023)"
        },
        "xaxis": {
         "tickangle": 45,
         "title": {
          "text": "Meses"
         }
        },
        "yaxis": {
         "gridcolor": "#dddcda",
         "gridwidth": 1,
         "title": {
          "text": "Precio"
         }
        }
       }
      }
     },
     "metadata": {},
     "output_type": "display_data"
    }
   ],
   "source": [
    "# Suponiendo datos ficticios basados en la descripción del usuario\n",
    "meses = [\n",
    "    \"Mayo 2022\", \"Junio 2022\", \"Julio 2022\", \"Agosto 2022\", \"Septiembre 2022\", \"Octubre 2022\", \"Noviembre 2022\", \"Diciembre 2022\", \n",
    "    \"Enero 2023\", \"Febrero 2023\", \"Marzo 2023\", \"Abril 2023\", \"Mayo 2023\", \"Junio 2023\", \"Julio 2023\", \n",
    "    \"Agosto 2023\", \"Septiembre 2023\", \"Octubre 2023\"]\n",
    "\n",
    "# Valores supuestos basados en cálculos intermedios mencionados\n",
    "precios = [\n",
    "    mediana_precio_df_may_2022,\n",
    "    mediana_precio_df_jun_2022,\n",
    "    mediana_precio_df_jul_2022,\n",
    "    mediana_precio_df_ago_2022,\n",
    "    mediana_precio_df_sep_2022,\n",
    "    mediana_precio_df_oct_2022,\n",
    "    mediana_precio_df_nov_2022,\n",
    "    mediana_precio_df_dic_2022,\n",
    "    mediana_precio_df_ene_2023,\n",
    "    mediana_precio_df_feb_2023,\n",
    "    mediana_precio_df_mar_2023,\n",
    "    mediana_precio_df_abr_2023,\n",
    "    mediana_precio_df_may_2023,\n",
    "    mediana_precio_df_jun_2023,\n",
    "    mediana_precio_df_jul_2023,\n",
    "    mediana_precio_df_ago_2023,\n",
    "    mediana_precio_df_sep_2023,\n",
    "    mediana_precio_df_oct_2023\n",
    "]\n",
    "\n",
    "# Intentando nuevamente crear y mostrar la gráfica con Plotly\n",
    "fig = go.Figure()\n",
    "fig.add_trace(go.Scatter(x=meses, y=precios, mode='lines+markers', line=dict(color='blue')))\n",
    "\n",
    "fig.update_layout(\n",
    "    title='Histórico de precios (2022-2023)',\n",
    "    xaxis_title='Meses',\n",
    "    yaxis_title='Precio',\n",
    "    xaxis=dict(tickangle=45),\n",
    "    yaxis=dict(\n",
    "            # title='Número de casas',\n",
    "            gridcolor='#dddcda', # Color de las líneas que dividen los rangos del eje Y\n",
    "            gridwidth=1,\n",
    "        ),\n",
    "    plot_bgcolor='rgba(0,0,0,0)',  # Color de fondo del gráfico\n",
    ")\n",
    "\n",
    "# fig.show()"
   ]
  },
  {
   "cell_type": "code",
   "execution_count": 8,
   "metadata": {},
   "outputs": [],
   "source": [
    "# Exportar gráfica como archivo HTML\n",
    "def guardar_grafico_como_html(fig, nombre_archivo, carpeta='graficas'):\n",
    "    # Crear la carpeta si no existe\n",
    "    if not os.path.exists(carpeta):\n",
    "        os.makedirs(carpeta)\n",
    "    \n",
    "    # Gráfica como archivo HTML en la carpeta especificada\n",
    "    pio.write_html(fig, f'{carpeta}/{nombre_archivo}.html')\n",
    "\n",
    "guardar_grafico_como_html(fig, 'g_scatt_mediana_precio_oferta_tulancingo_2023', carpeta='graficas')\n",
    "\n",
    "# fig.show()"
   ]
  }
 ],
 "metadata": {
  "kernelspec": {
   "display_name": "base",
   "language": "python",
   "name": "python3"
  },
  "language_info": {
   "codemirror_mode": {
    "name": "ipython",
    "version": 3
   },
   "file_extension": ".py",
   "mimetype": "text/x-python",
   "name": "python",
   "nbconvert_exporter": "python",
   "pygments_lexer": "ipython3",
   "version": "3.11.5"
  }
 },
 "nbformat": 4,
 "nbformat_minor": 2
}
