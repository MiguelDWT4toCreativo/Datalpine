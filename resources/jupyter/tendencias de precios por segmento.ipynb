{
 "cells": [
  {
   "cell_type": "markdown",
   "metadata": {},
   "source": [
    "# ***3.3 Tendencias de precios por segmento***"
   ]
  },
  {
   "cell_type": "code",
   "execution_count": 23,
   "metadata": {},
   "outputs": [
    {
     "name": "stdout",
     "output_type": "stream",
     "text": [
      "Lista de DataFrames creados:\n",
      "['df_alfa_q_feb_2023_pachuca', 'df_alfa_q_jul_2022_tulancingo', 'df_alfa_q_jul_2023_pachuca', 'df_alfa_q_jul_2023_tulancingo', 'df_alfa_q_jun_2023_pachuca', 'df_alfa_q_jun_2023_tulancingo', 'df_alfa_q_mar_2023_pachuca', 'df_alfa_q_mar_2023_tulancingo', 'df_alfa_q_may_2022_tulancingo', 'df_alfa_q_may_2023_tulancingo', 'df_alfa_q_nov_2022_pachuca', 'df_alfa_q_oct_2022_pachuca', 'df_alfa_q_oct_2022_tulancingo', 'df_alfa_q_oct_2023_tulancingo', 'df_alfa_q_puebla', 'df_alfa_q_sep_2023_pachuca', 'df_alfa_q_sep_2023_tulancingo', 'df_enero_2024_querertaro', 'df_feb_2024_puebla', 'df_financiamientos_2019_pachuca', 'df_financiamientos_2019_puebla', 'df_financiamientos_2019_tulancingo', 'df_financiamientos_2020_pachuca', 'df_financiamientos_2020_puebla', 'df_financiamientos_2020_tulancingo', 'df_financiamientos_2021_pachuca', 'df_financiamientos_2021_puebla', 'df_financiamientos_2021_tulancingo', 'df_financiamientos_2022_pachuca', 'df_financiamientos_2022_puebla', 'df_financiamientos_2022_tulancingo', 'df_financiamientos_2023_pachuca', 'df_financiamientos_2023_puebla', 'df_financiamientos_2023_tulancingo', 'df_financiamientos_2024_puebla', 'df_grupos_edad_pachuca', 'df_grupos_edad_puebla', 'df_grupos_edad_queretaro', 'df_grupos_edad_tulancingo', 'df_jul_2023_puebla', 'df_junio_2023_queretaro', 'df_mar_2024_puebla', 'df_may_2024_puebla', 'df_publicacion_pachuca', 'df_publicacion_puebla', 'df_salarios_pachuca', 'df_salarios_puebla', 'df_sep_2023_puebla', 'df_tiempo_dias_tulancingo', 'df_usuarios']\n"
     ]
    }
   ],
   "source": [
    "# Manejo de datos\n",
    "import os # Directorios\n",
    "import pandas as pd # Manipulación df\n",
    "# Gráficas\n",
    "import plotly.graph_objects as go #Para obtener librería usar: pip install plotly\n",
    "from plotly.subplots import make_subplots\n",
    "import plotly.io as pio # Exportar gráfica\n",
    "\n",
    "# Obtener el directorio actual de trabajo\n",
    "directorio_actual = os.getcwd()\n",
    "# Directorio donde se encuentran los archivos JSON (ruta relativa)\n",
    "directorio_json = os.path.join(directorio_actual, 'datos_json')\n",
    "#print(\"Directorio JSON relativo:\", directorio_json)\n",
    "# Obtener la lista de archivos JSON en el directorio\n",
    "archivos_json = os.listdir(directorio_json)\n",
    "\n",
    "dataframes = {}\n",
    "# Iterar sobre cada archivo JSON y crear un DataFrame\n",
    "for archivo in archivos_json:\n",
    "    # Obtener el nombre de la tabla del nombre del archivo\n",
    "    nombre_tabla = archivo.replace('datos_', '').replace('.json', '')    \n",
    "    # Cargar el archivo JSON en un DataFrame y asignarlo a una variable con un nombre dinámico\n",
    "    ruta_json = os.path.join(directorio_json, archivo)\n",
    "    globals()[f\"df_{nombre_tabla}\"] = pd.read_json(ruta_json)\n",
    "\n",
    "    # Obtener todos los nombres de las variables globales\n",
    "nombres_variables_globales = list(globals().keys())\n",
    "# Filtrar los nombres, solo aquellos que comienzan con \"df_\"\n",
    "nombres_df = [nombre for nombre in nombres_variables_globales if nombre.startswith(\"df_\")]\n",
    "\n",
    "# Lista de nombres de los DataFrames creados\n",
    "print(\"Lista de DataFrames creados:\")\n",
    "print(nombres_df)\n",
    "dfs_list = nombres_df "
   ]
  },
  {
   "cell_type": "markdown",
   "metadata": {},
   "source": [
    "# *PACHUCA*"
   ]
  },
  {
   "cell_type": "code",
   "execution_count": 24,
   "metadata": {},
   "outputs": [
    {
     "name": "stdout",
     "output_type": "stream",
     "text": [
      "['df_alfa_q_feb_2023_pachuca', 'df_alfa_q_jul_2023_pachuca', 'df_alfa_q_jun_2023_pachuca', 'df_alfa_q_mar_2023_pachuca', 'df_alfa_q_nov_2022_pachuca', 'df_alfa_q_oct_2022_pachuca', 'df_alfa_q_sep_2023_pachuca', 'df_financiamientos_2019_pachuca', 'df_financiamientos_2020_pachuca', 'df_financiamientos_2021_pachuca', 'df_financiamientos_2022_pachuca', 'df_financiamientos_2023_pachuca', 'df_grupos_edad_pachuca', 'df_publicacion_pachuca', 'df_salarios_pachuca']\n"
     ]
    }
   ],
   "source": [
    "# Seleccionar solo los DataFrames que contienen la cadena \"pachuca\"\n",
    "dataframes_pachuca = [df for df in dfs_list if 'pachuca' in df]\n",
    "print(dataframes_pachuca)"
   ]
  },
  {
   "cell_type": "code",
   "execution_count": 25,
   "metadata": {},
   "outputs": [],
   "source": [
    "seg_df_alfa_q_feb_2023_pachuca = df_alfa_q_feb_2023_pachuca[['id','categoria', 'precio']]\n",
    "seg_df_alfa_q_jul_2023_pachuca = df_alfa_q_jul_2023_pachuca[['id','categoria', 'precio']]\n",
    "seg_df_alfa_q_jun_2023_pachuca = df_alfa_q_jun_2023_pachuca[['id','categoria', 'precio']]\n",
    "seg_df_alfa_q_mar_2023_pachuca = df_alfa_q_mar_2023_pachuca[['id','categoria', 'precio']]\n",
    "seg_df_alfa_q_nov_2022_pachuca = df_alfa_q_nov_2022_pachuca[['id','categoria', 'precio']]\n",
    "seg_df_alfa_q_oct_2022_pachuca = df_alfa_q_oct_2022_pachuca[['id','categoria', 'precio']]\n",
    "seg_df_alfa_q_sep_2023_pachuca = df_alfa_q_sep_2023_pachuca[['id','categoria', 'precio']]"
   ]
  },
  {
   "cell_type": "markdown",
   "metadata": {},
   "source": [
    "#### *Periodo 1*"
   ]
  },
  {
   "cell_type": "code",
   "execution_count": 26,
   "metadata": {},
   "outputs": [
    {
     "data": {
      "text/html": [
       "<div>\n",
       "<style scoped>\n",
       "    .dataframe tbody tr th:only-of-type {\n",
       "        vertical-align: middle;\n",
       "    }\n",
       "\n",
       "    .dataframe tbody tr th {\n",
       "        vertical-align: top;\n",
       "    }\n",
       "\n",
       "    .dataframe thead th {\n",
       "        text-align: right;\n",
       "    }\n",
       "</style>\n",
       "<table border=\"1\" class=\"dataframe\">\n",
       "  <thead>\n",
       "    <tr style=\"text-align: right;\">\n",
       "      <th></th>\n",
       "      <th>categoria</th>\n",
       "      <th>promedio_precio</th>\n",
       "    </tr>\n",
       "  </thead>\n",
       "  <tbody>\n",
       "    <tr>\n",
       "      <th>0</th>\n",
       "      <td>A1</td>\n",
       "      <td>999999.990000</td>\n",
       "    </tr>\n",
       "    <tr>\n",
       "      <th>1</th>\n",
       "      <td>A2</td>\n",
       "      <td>999999.990000</td>\n",
       "    </tr>\n",
       "    <tr>\n",
       "      <th>2</th>\n",
       "      <td>A3</td>\n",
       "      <td>999999.990000</td>\n",
       "    </tr>\n",
       "    <tr>\n",
       "      <th>3</th>\n",
       "      <td>B1</td>\n",
       "      <td>999999.990000</td>\n",
       "    </tr>\n",
       "    <tr>\n",
       "      <th>4</th>\n",
       "      <td>B2</td>\n",
       "      <td>999999.990000</td>\n",
       "    </tr>\n",
       "    <tr>\n",
       "      <th>5</th>\n",
       "      <td>B3</td>\n",
       "      <td>999999.990000</td>\n",
       "    </tr>\n",
       "    <tr>\n",
       "      <th>6</th>\n",
       "      <td>C1</td>\n",
       "      <td>999999.990000</td>\n",
       "    </tr>\n",
       "    <tr>\n",
       "      <th>7</th>\n",
       "      <td>C2</td>\n",
       "      <td>999999.990000</td>\n",
       "    </tr>\n",
       "    <tr>\n",
       "      <th>8</th>\n",
       "      <td>C3</td>\n",
       "      <td>999999.990000</td>\n",
       "    </tr>\n",
       "    <tr>\n",
       "      <th>9</th>\n",
       "      <td>D1</td>\n",
       "      <td>999999.990000</td>\n",
       "    </tr>\n",
       "    <tr>\n",
       "      <th>10</th>\n",
       "      <td>D2</td>\n",
       "      <td>999999.990000</td>\n",
       "    </tr>\n",
       "    <tr>\n",
       "      <th>11</th>\n",
       "      <td>D3</td>\n",
       "      <td>859924.885714</td>\n",
       "    </tr>\n",
       "    <tr>\n",
       "      <th>12</th>\n",
       "      <td>E1</td>\n",
       "      <td>653870.419355</td>\n",
       "    </tr>\n",
       "    <tr>\n",
       "      <th>13</th>\n",
       "      <td>E2</td>\n",
       "      <td>396004.656250</td>\n",
       "    </tr>\n",
       "    <tr>\n",
       "      <th>14</th>\n",
       "      <td>S</td>\n",
       "      <td>999999.990000</td>\n",
       "    </tr>\n",
       "  </tbody>\n",
       "</table>\n",
       "</div>"
      ],
      "text/plain": [
       "   categoria  promedio_precio\n",
       "0         A1    999999.990000\n",
       "1         A2    999999.990000\n",
       "2         A3    999999.990000\n",
       "3         B1    999999.990000\n",
       "4         B2    999999.990000\n",
       "5         B3    999999.990000\n",
       "6         C1    999999.990000\n",
       "7         C2    999999.990000\n",
       "8         C3    999999.990000\n",
       "9         D1    999999.990000\n",
       "10        D2    999999.990000\n",
       "11        D3    859924.885714\n",
       "12        E1    653870.419355\n",
       "13        E2    396004.656250\n",
       "14         S    999999.990000"
      ]
     },
     "execution_count": 26,
     "metadata": {},
     "output_type": "execute_result"
    }
   ],
   "source": [
    "# Lista de DataFrames\n",
    "dataframes_list = [\n",
    "    seg_df_alfa_q_oct_2022_pachuca,\n",
    "    seg_df_alfa_q_nov_2022_pachuca,\n",
    "    seg_df_alfa_q_feb_2023_pachuca\n",
    "]\n",
    "\n",
    "# Diccionario para almacenar el total de precios por categoría\n",
    "total_precios_por_categoria = {}\n",
    "\n",
    "# Iterar sobre la lista de DataFrames\n",
    "for df in dataframes_list:\n",
    "    # Calcular el total de precios por categoría en el DataFrame actual\n",
    "    for categoria, group in df.groupby('categoria'):\n",
    "        total_precios_por_categoria[categoria] = total_precios_por_categoria.get(categoria, 0) + group['precio'].sum()\n",
    "\n",
    "# Diccionario para almacenar el número de observaciones por categoría\n",
    "num_observaciones_por_categoria = {}\n",
    "\n",
    "# Iterar sobre la lista de DataFrames para calcular el número de observaciones por categoría\n",
    "for df in dataframes_list:\n",
    "    for categoria, group in df.groupby('categoria'):\n",
    "        num_observaciones_por_categoria[categoria] = num_observaciones_por_categoria.get(categoria, 0) + len(group)\n",
    "\n",
    "# Diccionario para almacenar el promedio de precios por categoría\n",
    "promedio_precios_por_categoria = {}\n",
    "\n",
    "# Calcular el promedio de precios por categoría\n",
    "for categoria in total_precios_por_categoria:\n",
    "    promedio_precios_por_categoria[categoria] = total_precios_por_categoria[categoria] / num_observaciones_por_categoria[categoria]\n",
    "\n",
    "# Convertir el diccionario a un DataFrame\n",
    "periodo1_promedio_precios_por_categoria_df = pd.DataFrame(list(promedio_precios_por_categoria.items()), columns=['categoria', 'promedio_precio'])\n",
    "periodo1_promedio_precios_por_categoria_df"
   ]
  },
  {
   "cell_type": "markdown",
   "metadata": {},
   "source": [
    "#### *Periodo 2*"
   ]
  },
  {
   "cell_type": "code",
   "execution_count": 27,
   "metadata": {},
   "outputs": [
    {
     "data": {
      "text/html": [
       "<div>\n",
       "<style scoped>\n",
       "    .dataframe tbody tr th:only-of-type {\n",
       "        vertical-align: middle;\n",
       "    }\n",
       "\n",
       "    .dataframe tbody tr th {\n",
       "        vertical-align: top;\n",
       "    }\n",
       "\n",
       "    .dataframe thead th {\n",
       "        text-align: right;\n",
       "    }\n",
       "</style>\n",
       "<table border=\"1\" class=\"dataframe\">\n",
       "  <thead>\n",
       "    <tr style=\"text-align: right;\">\n",
       "      <th></th>\n",
       "      <th>categoria</th>\n",
       "      <th>promedio_precio</th>\n",
       "    </tr>\n",
       "  </thead>\n",
       "  <tbody>\n",
       "    <tr>\n",
       "      <th>0</th>\n",
       "      <td>A1</td>\n",
       "      <td>999999.990000</td>\n",
       "    </tr>\n",
       "    <tr>\n",
       "      <th>1</th>\n",
       "      <td>A2</td>\n",
       "      <td>999999.990000</td>\n",
       "    </tr>\n",
       "    <tr>\n",
       "      <th>2</th>\n",
       "      <td>A3</td>\n",
       "      <td>998478.201148</td>\n",
       "    </tr>\n",
       "    <tr>\n",
       "      <th>3</th>\n",
       "      <td>B1</td>\n",
       "      <td>999161.210065</td>\n",
       "    </tr>\n",
       "    <tr>\n",
       "      <th>4</th>\n",
       "      <td>B2</td>\n",
       "      <td>997651.530455</td>\n",
       "    </tr>\n",
       "    <tr>\n",
       "      <th>5</th>\n",
       "      <td>B3</td>\n",
       "      <td>997931.024540</td>\n",
       "    </tr>\n",
       "    <tr>\n",
       "      <th>6</th>\n",
       "      <td>C1</td>\n",
       "      <td>997904.554398</td>\n",
       "    </tr>\n",
       "    <tr>\n",
       "      <th>7</th>\n",
       "      <td>C2</td>\n",
       "      <td>995840.698319</td>\n",
       "    </tr>\n",
       "    <tr>\n",
       "      <th>8</th>\n",
       "      <td>C3</td>\n",
       "      <td>995141.131872</td>\n",
       "    </tr>\n",
       "    <tr>\n",
       "      <th>9</th>\n",
       "      <td>D1</td>\n",
       "      <td>996199.218075</td>\n",
       "    </tr>\n",
       "    <tr>\n",
       "      <th>10</th>\n",
       "      <td>D2</td>\n",
       "      <td>987789.464316</td>\n",
       "    </tr>\n",
       "    <tr>\n",
       "      <th>11</th>\n",
       "      <td>D3</td>\n",
       "      <td>879280.605285</td>\n",
       "    </tr>\n",
       "    <tr>\n",
       "      <th>12</th>\n",
       "      <td>E1</td>\n",
       "      <td>707909.559242</td>\n",
       "    </tr>\n",
       "    <tr>\n",
       "      <th>13</th>\n",
       "      <td>E2</td>\n",
       "      <td>361807.333333</td>\n",
       "    </tr>\n",
       "    <tr>\n",
       "      <th>14</th>\n",
       "      <td>S</td>\n",
       "      <td>996417.082835</td>\n",
       "    </tr>\n",
       "  </tbody>\n",
       "</table>\n",
       "</div>"
      ],
      "text/plain": [
       "   categoria  promedio_precio\n",
       "0         A1    999999.990000\n",
       "1         A2    999999.990000\n",
       "2         A3    998478.201148\n",
       "3         B1    999161.210065\n",
       "4         B2    997651.530455\n",
       "5         B3    997931.024540\n",
       "6         C1    997904.554398\n",
       "7         C2    995840.698319\n",
       "8         C3    995141.131872\n",
       "9         D1    996199.218075\n",
       "10        D2    987789.464316\n",
       "11        D3    879280.605285\n",
       "12        E1    707909.559242\n",
       "13        E2    361807.333333\n",
       "14         S    996417.082835"
      ]
     },
     "execution_count": 27,
     "metadata": {},
     "output_type": "execute_result"
    }
   ],
   "source": [
    "# Lista de DataFrames\n",
    "dataframes_list = [\n",
    "    seg_df_alfa_q_mar_2023_pachuca,\n",
    "    seg_df_alfa_q_jun_2023_pachuca,\n",
    "    seg_df_alfa_q_jul_2023_pachuca,\n",
    "    seg_df_alfa_q_sep_2023_pachuca\n",
    "]\n",
    "\n",
    "# Diccionario para almacenar el total de precios por categoría\n",
    "total_precios_por_categoria = {}\n",
    "\n",
    "# Iterar sobre la lista de DataFrames\n",
    "for df in dataframes_list:\n",
    "    # Calcular el total de precios por categoría en el DataFrame actual\n",
    "    for categoria, group in df.groupby('categoria'):\n",
    "        total_precios_por_categoria[categoria] = total_precios_por_categoria.get(categoria, 0) + group['precio'].sum()\n",
    "\n",
    "# Diccionario para almacenar el número de observaciones por categoría\n",
    "num_observaciones_por_categoria = {}\n",
    "\n",
    "# Iterar sobre la lista de DataFrames para calcular el número de observaciones por categoría\n",
    "for df in dataframes_list:\n",
    "    for categoria, group in df.groupby('categoria'):\n",
    "        num_observaciones_por_categoria[categoria] = num_observaciones_por_categoria.get(categoria, 0) + len(group)\n",
    "\n",
    "# Diccionario para almacenar el promedio de precios por categoría\n",
    "promedio_precios_por_categoria = {}\n",
    "\n",
    "# Calcular el promedio de precios por categoría\n",
    "for categoria in total_precios_por_categoria:\n",
    "    promedio_precios_por_categoria[categoria] = total_precios_por_categoria[categoria] / num_observaciones_por_categoria[categoria]\n",
    "\n",
    "# Convertir el diccionario a un DataFrame\n",
    "periodo2_promedio_precios_por_categoria_df = pd.DataFrame(list(promedio_precios_por_categoria.items()), columns=['categoria', 'promedio_precio'])\n",
    "periodo2_promedio_precios_por_categoria_df"
   ]
  },
  {
   "cell_type": "markdown",
   "metadata": {},
   "source": [
    "#### *Cambio porcentual*"
   ]
  },
  {
   "cell_type": "code",
   "execution_count": 28,
   "metadata": {},
   "outputs": [
    {
     "data": {
      "text/html": [
       "<div>\n",
       "<style scoped>\n",
       "    .dataframe tbody tr th:only-of-type {\n",
       "        vertical-align: middle;\n",
       "    }\n",
       "\n",
       "    .dataframe tbody tr th {\n",
       "        vertical-align: top;\n",
       "    }\n",
       "\n",
       "    .dataframe thead th {\n",
       "        text-align: right;\n",
       "    }\n",
       "</style>\n",
       "<table border=\"1\" class=\"dataframe\">\n",
       "  <thead>\n",
       "    <tr style=\"text-align: right;\">\n",
       "      <th></th>\n",
       "      <th>segmento</th>\n",
       "      <th>cambio_porcentual</th>\n",
       "    </tr>\n",
       "  </thead>\n",
       "  <tbody>\n",
       "    <tr>\n",
       "      <th>0</th>\n",
       "      <td>A1</td>\n",
       "      <td>-2.328306e-14</td>\n",
       "    </tr>\n",
       "    <tr>\n",
       "      <th>1</th>\n",
       "      <td>A2</td>\n",
       "      <td>-1.164153e-14</td>\n",
       "    </tr>\n",
       "    <tr>\n",
       "      <th>2</th>\n",
       "      <td>A3</td>\n",
       "      <td>-1.521789e-01</td>\n",
       "    </tr>\n",
       "    <tr>\n",
       "      <th>3</th>\n",
       "      <td>B1</td>\n",
       "      <td>-8.387799e-02</td>\n",
       "    </tr>\n",
       "    <tr>\n",
       "      <th>4</th>\n",
       "      <td>B2</td>\n",
       "      <td>-2.348460e-01</td>\n",
       "    </tr>\n",
       "    <tr>\n",
       "      <th>5</th>\n",
       "      <td>B3</td>\n",
       "      <td>-2.068965e-01</td>\n",
       "    </tr>\n",
       "    <tr>\n",
       "      <th>6</th>\n",
       "      <td>C1</td>\n",
       "      <td>-2.095436e-01</td>\n",
       "    </tr>\n",
       "    <tr>\n",
       "      <th>7</th>\n",
       "      <td>C2</td>\n",
       "      <td>-4.159292e-01</td>\n",
       "    </tr>\n",
       "    <tr>\n",
       "      <th>8</th>\n",
       "      <td>C3</td>\n",
       "      <td>-4.858858e-01</td>\n",
       "    </tr>\n",
       "    <tr>\n",
       "      <th>9</th>\n",
       "      <td>D1</td>\n",
       "      <td>-3.800772e-01</td>\n",
       "    </tr>\n",
       "    <tr>\n",
       "      <th>10</th>\n",
       "      <td>D2</td>\n",
       "      <td>-1.221053e+00</td>\n",
       "    </tr>\n",
       "    <tr>\n",
       "      <th>11</th>\n",
       "      <td>D3</td>\n",
       "      <td>2.250862e+00</td>\n",
       "    </tr>\n",
       "    <tr>\n",
       "      <th>12</th>\n",
       "      <td>E1</td>\n",
       "      <td>8.264503e+00</td>\n",
       "    </tr>\n",
       "    <tr>\n",
       "      <th>13</th>\n",
       "      <td>E2</td>\n",
       "      <td>-8.635586e+00</td>\n",
       "    </tr>\n",
       "    <tr>\n",
       "      <th>14</th>\n",
       "      <td>S</td>\n",
       "      <td>-3.582907e-01</td>\n",
       "    </tr>\n",
       "  </tbody>\n",
       "</table>\n",
       "</div>"
      ],
      "text/plain": [
       "   segmento  cambio_porcentual\n",
       "0        A1      -2.328306e-14\n",
       "1        A2      -1.164153e-14\n",
       "2        A3      -1.521789e-01\n",
       "3        B1      -8.387799e-02\n",
       "4        B2      -2.348460e-01\n",
       "5        B3      -2.068965e-01\n",
       "6        C1      -2.095436e-01\n",
       "7        C2      -4.159292e-01\n",
       "8        C3      -4.858858e-01\n",
       "9        D1      -3.800772e-01\n",
       "10       D2      -1.221053e+00\n",
       "11       D3       2.250862e+00\n",
       "12       E1       8.264503e+00\n",
       "13       E2      -8.635586e+00\n",
       "14        S      -3.582907e-01"
      ]
     },
     "execution_count": 28,
     "metadata": {},
     "output_type": "execute_result"
    }
   ],
   "source": [
    "# Realizando nuevamente el cálculo del porcentaje de cambio\n",
    "porcentaje_cambio_corregido = ((periodo2_promedio_precios_por_categoria_df['promedio_precio'] - periodo1_promedio_precios_por_categoria_df['promedio_precio']) / periodo1_promedio_precios_por_categoria_df['promedio_precio']) * 100\n",
    "\n",
    "# Creando un nuevo DataFrame para los resultados corregidos\n",
    "cambio_porcentual_corregido_df = pd.DataFrame({\n",
    "    'segmento': periodo1_promedio_precios_por_categoria_df['categoria'],\n",
    "    'cambio_porcentual': porcentaje_cambio_corregido\n",
    "})\n",
    "\n",
    "cambio_porcentual_corregido_df"
   ]
  },
  {
   "cell_type": "code",
   "execution_count": 29,
   "metadata": {},
   "outputs": [
    {
     "data": {
      "text/html": [
       "<div>\n",
       "<style scoped>\n",
       "    .dataframe tbody tr th:only-of-type {\n",
       "        vertical-align: middle;\n",
       "    }\n",
       "\n",
       "    .dataframe tbody tr th {\n",
       "        vertical-align: top;\n",
       "    }\n",
       "\n",
       "    .dataframe thead th {\n",
       "        text-align: right;\n",
       "    }\n",
       "</style>\n",
       "<table border=\"1\" class=\"dataframe\">\n",
       "  <thead>\n",
       "    <tr style=\"text-align: right;\">\n",
       "      <th></th>\n",
       "      <th>letra_segmento</th>\n",
       "      <th>cambio_porcentual</th>\n",
       "    </tr>\n",
       "  </thead>\n",
       "  <tbody>\n",
       "    <tr>\n",
       "      <th>0</th>\n",
       "      <td>A</td>\n",
       "      <td>-0.15</td>\n",
       "    </tr>\n",
       "    <tr>\n",
       "      <th>1</th>\n",
       "      <td>B</td>\n",
       "      <td>-0.53</td>\n",
       "    </tr>\n",
       "    <tr>\n",
       "      <th>2</th>\n",
       "      <td>C</td>\n",
       "      <td>-1.11</td>\n",
       "    </tr>\n",
       "    <tr>\n",
       "      <th>3</th>\n",
       "      <td>D</td>\n",
       "      <td>0.65</td>\n",
       "    </tr>\n",
       "    <tr>\n",
       "      <th>4</th>\n",
       "      <td>E</td>\n",
       "      <td>-0.37</td>\n",
       "    </tr>\n",
       "    <tr>\n",
       "      <th>5</th>\n",
       "      <td>S</td>\n",
       "      <td>-0.36</td>\n",
       "    </tr>\n",
       "  </tbody>\n",
       "</table>\n",
       "</div>"
      ],
      "text/plain": [
       "  letra_segmento  cambio_porcentual\n",
       "0              A              -0.15\n",
       "1              B              -0.53\n",
       "2              C              -1.11\n",
       "3              D               0.65\n",
       "4              E              -0.37\n",
       "5              S              -0.36"
      ]
     },
     "execution_count": 29,
     "metadata": {},
     "output_type": "execute_result"
    }
   ],
   "source": [
    "# Extraer la letra del segmento\n",
    "cambio_porcentual_corregido_df['letra_segmento'] = cambio_porcentual_corregido_df['segmento'].str[0]\n",
    "# Sumar el cambio porcentual por cada letra de segmento único\n",
    "suma_por_letra_segmento = cambio_porcentual_corregido_df.groupby('letra_segmento')['cambio_porcentual'].sum().reset_index()\n",
    "# Redondear el resultado a dos decimales\n",
    "suma_por_letra_segmento['cambio_porcentual'] = suma_por_letra_segmento['cambio_porcentual'].round(2)\n",
    "suma_por_letra_segmento"
   ]
  },
  {
   "cell_type": "code",
   "execution_count": 30,
   "metadata": {},
   "outputs": [
    {
     "data": {
      "application/vnd.plotly.v1+json": {
       "config": {
        "plotlyServerURL": "https://plot.ly"
       },
       "data": [
        {
         "base": 0,
         "hoverinfo": "none",
         "marker": {
          "color": [
           "#2962ff",
           "#9500ff",
           "#ff0059",
           "#ff8c00",
           "#b4e600",
           "#2EC2A2"
          ]
         },
         "text": [
          -0.15,
          -0.53,
          -1.11,
          0.65,
          -0.37,
          -0.36
         ],
         "textposition": "inside",
         "texttemplate": "%{text}%",
         "type": "bar",
         "x": [
          "A",
          "B",
          "C",
          "D",
          "E",
          "S"
         ],
         "y": [
          -0.15,
          -0.53,
          -1.11,
          0.65,
          -0.37,
          -0.36
         ]
        }
       ],
       "layout": {
        "margin": {
         "b": 10,
         "l": 10,
         "r": 10,
         "t": 10
        },
        "plot_bgcolor": "rgba(0,0,0,0)",
        "template": {
         "data": {
          "bar": [
           {
            "error_x": {
             "color": "#2a3f5f"
            },
            "error_y": {
             "color": "#2a3f5f"
            },
            "marker": {
             "line": {
              "color": "#E5ECF6",
              "width": 0.5
             },
             "pattern": {
              "fillmode": "overlay",
              "size": 10,
              "solidity": 0.2
             }
            },
            "type": "bar"
           }
          ],
          "barpolar": [
           {
            "marker": {
             "line": {
              "color": "#E5ECF6",
              "width": 0.5
             },
             "pattern": {
              "fillmode": "overlay",
              "size": 10,
              "solidity": 0.2
             }
            },
            "type": "barpolar"
           }
          ],
          "carpet": [
           {
            "aaxis": {
             "endlinecolor": "#2a3f5f",
             "gridcolor": "white",
             "linecolor": "white",
             "minorgridcolor": "white",
             "startlinecolor": "#2a3f5f"
            },
            "baxis": {
             "endlinecolor": "#2a3f5f",
             "gridcolor": "white",
             "linecolor": "white",
             "minorgridcolor": "white",
             "startlinecolor": "#2a3f5f"
            },
            "type": "carpet"
           }
          ],
          "choropleth": [
           {
            "colorbar": {
             "outlinewidth": 0,
             "ticks": ""
            },
            "type": "choropleth"
           }
          ],
          "contour": [
           {
            "colorbar": {
             "outlinewidth": 0,
             "ticks": ""
            },
            "colorscale": [
             [
              0,
              "#0d0887"
             ],
             [
              0.1111111111111111,
              "#46039f"
             ],
             [
              0.2222222222222222,
              "#7201a8"
             ],
             [
              0.3333333333333333,
              "#9c179e"
             ],
             [
              0.4444444444444444,
              "#bd3786"
             ],
             [
              0.5555555555555556,
              "#d8576b"
             ],
             [
              0.6666666666666666,
              "#ed7953"
             ],
             [
              0.7777777777777778,
              "#fb9f3a"
             ],
             [
              0.8888888888888888,
              "#fdca26"
             ],
             [
              1,
              "#f0f921"
             ]
            ],
            "type": "contour"
           }
          ],
          "contourcarpet": [
           {
            "colorbar": {
             "outlinewidth": 0,
             "ticks": ""
            },
            "type": "contourcarpet"
           }
          ],
          "heatmap": [
           {
            "colorbar": {
             "outlinewidth": 0,
             "ticks": ""
            },
            "colorscale": [
             [
              0,
              "#0d0887"
             ],
             [
              0.1111111111111111,
              "#46039f"
             ],
             [
              0.2222222222222222,
              "#7201a8"
             ],
             [
              0.3333333333333333,
              "#9c179e"
             ],
             [
              0.4444444444444444,
              "#bd3786"
             ],
             [
              0.5555555555555556,
              "#d8576b"
             ],
             [
              0.6666666666666666,
              "#ed7953"
             ],
             [
              0.7777777777777778,
              "#fb9f3a"
             ],
             [
              0.8888888888888888,
              "#fdca26"
             ],
             [
              1,
              "#f0f921"
             ]
            ],
            "type": "heatmap"
           }
          ],
          "heatmapgl": [
           {
            "colorbar": {
             "outlinewidth": 0,
             "ticks": ""
            },
            "colorscale": [
             [
              0,
              "#0d0887"
             ],
             [
              0.1111111111111111,
              "#46039f"
             ],
             [
              0.2222222222222222,
              "#7201a8"
             ],
             [
              0.3333333333333333,
              "#9c179e"
             ],
             [
              0.4444444444444444,
              "#bd3786"
             ],
             [
              0.5555555555555556,
              "#d8576b"
             ],
             [
              0.6666666666666666,
              "#ed7953"
             ],
             [
              0.7777777777777778,
              "#fb9f3a"
             ],
             [
              0.8888888888888888,
              "#fdca26"
             ],
             [
              1,
              "#f0f921"
             ]
            ],
            "type": "heatmapgl"
           }
          ],
          "histogram": [
           {
            "marker": {
             "pattern": {
              "fillmode": "overlay",
              "size": 10,
              "solidity": 0.2
             }
            },
            "type": "histogram"
           }
          ],
          "histogram2d": [
           {
            "colorbar": {
             "outlinewidth": 0,
             "ticks": ""
            },
            "colorscale": [
             [
              0,
              "#0d0887"
             ],
             [
              0.1111111111111111,
              "#46039f"
             ],
             [
              0.2222222222222222,
              "#7201a8"
             ],
             [
              0.3333333333333333,
              "#9c179e"
             ],
             [
              0.4444444444444444,
              "#bd3786"
             ],
             [
              0.5555555555555556,
              "#d8576b"
             ],
             [
              0.6666666666666666,
              "#ed7953"
             ],
             [
              0.7777777777777778,
              "#fb9f3a"
             ],
             [
              0.8888888888888888,
              "#fdca26"
             ],
             [
              1,
              "#f0f921"
             ]
            ],
            "type": "histogram2d"
           }
          ],
          "histogram2dcontour": [
           {
            "colorbar": {
             "outlinewidth": 0,
             "ticks": ""
            },
            "colorscale": [
             [
              0,
              "#0d0887"
             ],
             [
              0.1111111111111111,
              "#46039f"
             ],
             [
              0.2222222222222222,
              "#7201a8"
             ],
             [
              0.3333333333333333,
              "#9c179e"
             ],
             [
              0.4444444444444444,
              "#bd3786"
             ],
             [
              0.5555555555555556,
              "#d8576b"
             ],
             [
              0.6666666666666666,
              "#ed7953"
             ],
             [
              0.7777777777777778,
              "#fb9f3a"
             ],
             [
              0.8888888888888888,
              "#fdca26"
             ],
             [
              1,
              "#f0f921"
             ]
            ],
            "type": "histogram2dcontour"
           }
          ],
          "mesh3d": [
           {
            "colorbar": {
             "outlinewidth": 0,
             "ticks": ""
            },
            "type": "mesh3d"
           }
          ],
          "parcoords": [
           {
            "line": {
             "colorbar": {
              "outlinewidth": 0,
              "ticks": ""
             }
            },
            "type": "parcoords"
           }
          ],
          "pie": [
           {
            "automargin": true,
            "type": "pie"
           }
          ],
          "scatter": [
           {
            "fillpattern": {
             "fillmode": "overlay",
             "size": 10,
             "solidity": 0.2
            },
            "type": "scatter"
           }
          ],
          "scatter3d": [
           {
            "line": {
             "colorbar": {
              "outlinewidth": 0,
              "ticks": ""
             }
            },
            "marker": {
             "colorbar": {
              "outlinewidth": 0,
              "ticks": ""
             }
            },
            "type": "scatter3d"
           }
          ],
          "scattercarpet": [
           {
            "marker": {
             "colorbar": {
              "outlinewidth": 0,
              "ticks": ""
             }
            },
            "type": "scattercarpet"
           }
          ],
          "scattergeo": [
           {
            "marker": {
             "colorbar": {
              "outlinewidth": 0,
              "ticks": ""
             }
            },
            "type": "scattergeo"
           }
          ],
          "scattergl": [
           {
            "marker": {
             "colorbar": {
              "outlinewidth": 0,
              "ticks": ""
             }
            },
            "type": "scattergl"
           }
          ],
          "scattermapbox": [
           {
            "marker": {
             "colorbar": {
              "outlinewidth": 0,
              "ticks": ""
             }
            },
            "type": "scattermapbox"
           }
          ],
          "scatterpolar": [
           {
            "marker": {
             "colorbar": {
              "outlinewidth": 0,
              "ticks": ""
             }
            },
            "type": "scatterpolar"
           }
          ],
          "scatterpolargl": [
           {
            "marker": {
             "colorbar": {
              "outlinewidth": 0,
              "ticks": ""
             }
            },
            "type": "scatterpolargl"
           }
          ],
          "scatterternary": [
           {
            "marker": {
             "colorbar": {
              "outlinewidth": 0,
              "ticks": ""
             }
            },
            "type": "scatterternary"
           }
          ],
          "surface": [
           {
            "colorbar": {
             "outlinewidth": 0,
             "ticks": ""
            },
            "colorscale": [
             [
              0,
              "#0d0887"
             ],
             [
              0.1111111111111111,
              "#46039f"
             ],
             [
              0.2222222222222222,
              "#7201a8"
             ],
             [
              0.3333333333333333,
              "#9c179e"
             ],
             [
              0.4444444444444444,
              "#bd3786"
             ],
             [
              0.5555555555555556,
              "#d8576b"
             ],
             [
              0.6666666666666666,
              "#ed7953"
             ],
             [
              0.7777777777777778,
              "#fb9f3a"
             ],
             [
              0.8888888888888888,
              "#fdca26"
             ],
             [
              1,
              "#f0f921"
             ]
            ],
            "type": "surface"
           }
          ],
          "table": [
           {
            "cells": {
             "fill": {
              "color": "#EBF0F8"
             },
             "line": {
              "color": "white"
             }
            },
            "header": {
             "fill": {
              "color": "#C8D4E3"
             },
             "line": {
              "color": "white"
             }
            },
            "type": "table"
           }
          ]
         },
         "layout": {
          "annotationdefaults": {
           "arrowcolor": "#2a3f5f",
           "arrowhead": 0,
           "arrowwidth": 1
          },
          "autotypenumbers": "strict",
          "coloraxis": {
           "colorbar": {
            "outlinewidth": 0,
            "ticks": ""
           }
          },
          "colorscale": {
           "diverging": [
            [
             0,
             "#8e0152"
            ],
            [
             0.1,
             "#c51b7d"
            ],
            [
             0.2,
             "#de77ae"
            ],
            [
             0.3,
             "#f1b6da"
            ],
            [
             0.4,
             "#fde0ef"
            ],
            [
             0.5,
             "#f7f7f7"
            ],
            [
             0.6,
             "#e6f5d0"
            ],
            [
             0.7,
             "#b8e186"
            ],
            [
             0.8,
             "#7fbc41"
            ],
            [
             0.9,
             "#4d9221"
            ],
            [
             1,
             "#276419"
            ]
           ],
           "sequential": [
            [
             0,
             "#0d0887"
            ],
            [
             0.1111111111111111,
             "#46039f"
            ],
            [
             0.2222222222222222,
             "#7201a8"
            ],
            [
             0.3333333333333333,
             "#9c179e"
            ],
            [
             0.4444444444444444,
             "#bd3786"
            ],
            [
             0.5555555555555556,
             "#d8576b"
            ],
            [
             0.6666666666666666,
             "#ed7953"
            ],
            [
             0.7777777777777778,
             "#fb9f3a"
            ],
            [
             0.8888888888888888,
             "#fdca26"
            ],
            [
             1,
             "#f0f921"
            ]
           ],
           "sequentialminus": [
            [
             0,
             "#0d0887"
            ],
            [
             0.1111111111111111,
             "#46039f"
            ],
            [
             0.2222222222222222,
             "#7201a8"
            ],
            [
             0.3333333333333333,
             "#9c179e"
            ],
            [
             0.4444444444444444,
             "#bd3786"
            ],
            [
             0.5555555555555556,
             "#d8576b"
            ],
            [
             0.6666666666666666,
             "#ed7953"
            ],
            [
             0.7777777777777778,
             "#fb9f3a"
            ],
            [
             0.8888888888888888,
             "#fdca26"
            ],
            [
             1,
             "#f0f921"
            ]
           ]
          },
          "colorway": [
           "#636efa",
           "#EF553B",
           "#00cc96",
           "#ab63fa",
           "#FFA15A",
           "#19d3f3",
           "#FF6692",
           "#B6E880",
           "#FF97FF",
           "#FECB52"
          ],
          "font": {
           "color": "#2a3f5f"
          },
          "geo": {
           "bgcolor": "white",
           "lakecolor": "white",
           "landcolor": "#E5ECF6",
           "showlakes": true,
           "showland": true,
           "subunitcolor": "white"
          },
          "hoverlabel": {
           "align": "left"
          },
          "hovermode": "closest",
          "mapbox": {
           "style": "light"
          },
          "paper_bgcolor": "white",
          "plot_bgcolor": "#E5ECF6",
          "polar": {
           "angularaxis": {
            "gridcolor": "white",
            "linecolor": "white",
            "ticks": ""
           },
           "bgcolor": "#E5ECF6",
           "radialaxis": {
            "gridcolor": "white",
            "linecolor": "white",
            "ticks": ""
           }
          },
          "scene": {
           "xaxis": {
            "backgroundcolor": "#E5ECF6",
            "gridcolor": "white",
            "gridwidth": 2,
            "linecolor": "white",
            "showbackground": true,
            "ticks": "",
            "zerolinecolor": "white"
           },
           "yaxis": {
            "backgroundcolor": "#E5ECF6",
            "gridcolor": "white",
            "gridwidth": 2,
            "linecolor": "white",
            "showbackground": true,
            "ticks": "",
            "zerolinecolor": "white"
           },
           "zaxis": {
            "backgroundcolor": "#E5ECF6",
            "gridcolor": "white",
            "gridwidth": 2,
            "linecolor": "white",
            "showbackground": true,
            "ticks": "",
            "zerolinecolor": "white"
           }
          },
          "shapedefaults": {
           "line": {
            "color": "#2a3f5f"
           }
          },
          "ternary": {
           "aaxis": {
            "gridcolor": "white",
            "linecolor": "white",
            "ticks": ""
           },
           "baxis": {
            "gridcolor": "white",
            "linecolor": "white",
            "ticks": ""
           },
           "bgcolor": "#E5ECF6",
           "caxis": {
            "gridcolor": "white",
            "linecolor": "white",
            "ticks": ""
           }
          },
          "title": {
           "x": 0.05
          },
          "xaxis": {
           "automargin": true,
           "gridcolor": "white",
           "linecolor": "white",
           "ticks": "",
           "title": {
            "standoff": 15
           },
           "zerolinecolor": "white",
           "zerolinewidth": 2
          },
          "yaxis": {
           "automargin": true,
           "gridcolor": "white",
           "linecolor": "white",
           "ticks": "",
           "title": {
            "standoff": 15
           },
           "zerolinecolor": "white",
           "zerolinewidth": 2
          }
         }
        },
        "yaxis": {
         "gridcolor": "#dddcda",
         "title": {
          "text": "%"
         }
        }
       }
      }
     },
     "metadata": {},
     "output_type": "display_data"
    }
   ],
   "source": [
    "colores = ['#2962ff', '#9500ff', '#ff0059', '#ff8c00', '#b4e600', '#2EC2A2','#E50CB6']\n",
    "\n",
    "fig = go.Figure()\n",
    "fig.add_trace(go.Bar(\n",
    "    x=suma_por_letra_segmento['letra_segmento'],\n",
    "    y=suma_por_letra_segmento['cambio_porcentual'],\n",
    "    base=0,\n",
    "    marker_color=[colores[i % len(colores)] for i in range(len(suma_por_letra_segmento))],  # Usar los colores definidos\n",
    "    text=suma_por_letra_segmento['cambio_porcentual'],  # Usar los porcentajes como texto\n",
    "    textposition='inside',  # Mostrar el texto dentro de las barras\n",
    "    texttemplate='%{text}%',  # Formato del texto\n",
    "    hoverinfo='none',  # No mostrar información al pasar el cursor\n",
    "))\n",
    "fig.update_layout(\n",
    "    #title='Variación Trimestral de % (2022-2023)',\n",
    "    #xaxis_title='Segmentos',\n",
    "    yaxis_title='%',\n",
    "    yaxis=dict(gridcolor='#dddcda'),\n",
    "    plot_bgcolor='rgba(0,0,0,0)',margin=dict(l=10, r=10, t=10, b=10),  # Ajusta los márgenes (left, right, top, bottom)        \n",
    ")\n",
    "# Exportar gráfica como archivo HTML\n",
    "def guardar_grafico_como_html(fig, nombre_archivo, carpeta='graficas'):\n",
    "    # Crear la carpeta si no existe\n",
    "    if not os.path.exists(carpeta):\n",
    "        os.makedirs(carpeta)\n",
    "    \n",
    "    # Gráfica como archivo HTML en la carpeta especificada\n",
    "    pio.write_html(fig, f'{carpeta}/{nombre_archivo}.html')\n",
    "\n",
    "guardar_grafico_como_html(fig, 'g_bar_tendencia_precio_X_segmento_pachuca', carpeta='graficas')\n",
    "\n",
    "fig.show()"
   ]
  },
  {
   "cell_type": "markdown",
   "metadata": {},
   "source": [
    "### *POR TRIMESTRES Y LETRAS AGRUPADAS*"
   ]
  },
  {
   "cell_type": "code",
   "execution_count": 31,
   "metadata": {},
   "outputs": [
    {
     "name": "stderr",
     "output_type": "stream",
     "text": [
      "C:\\Users\\yoe11\\AppData\\Local\\Temp\\ipykernel_10812\\2166025998.py:17: SettingWithCopyWarning:\n",
      "\n",
      "\n",
      "A value is trying to be set on a copy of a slice from a DataFrame.\n",
      "Try using .loc[row_indexer,col_indexer] = value instead\n",
      "\n",
      "See the caveats in the documentation: https://pandas.pydata.org/pandas-docs/stable/user_guide/indexing.html#returning-a-view-versus-a-copy\n",
      "\n",
      "C:\\Users\\yoe11\\AppData\\Local\\Temp\\ipykernel_10812\\2166025998.py:17: SettingWithCopyWarning:\n",
      "\n",
      "\n",
      "A value is trying to be set on a copy of a slice from a DataFrame.\n",
      "Try using .loc[row_indexer,col_indexer] = value instead\n",
      "\n",
      "See the caveats in the documentation: https://pandas.pydata.org/pandas-docs/stable/user_guide/indexing.html#returning-a-view-versus-a-copy\n",
      "\n",
      "C:\\Users\\yoe11\\AppData\\Local\\Temp\\ipykernel_10812\\2166025998.py:17: SettingWithCopyWarning:\n",
      "\n",
      "\n",
      "A value is trying to be set on a copy of a slice from a DataFrame.\n",
      "Try using .loc[row_indexer,col_indexer] = value instead\n",
      "\n",
      "See the caveats in the documentation: https://pandas.pydata.org/pandas-docs/stable/user_guide/indexing.html#returning-a-view-versus-a-copy\n",
      "\n"
     ]
    },
    {
     "data": {
      "text/html": [
       "<div>\n",
       "<style scoped>\n",
       "    .dataframe tbody tr th:only-of-type {\n",
       "        vertical-align: middle;\n",
       "    }\n",
       "\n",
       "    .dataframe tbody tr th {\n",
       "        vertical-align: top;\n",
       "    }\n",
       "\n",
       "    .dataframe thead th {\n",
       "        text-align: right;\n",
       "    }\n",
       "</style>\n",
       "<table border=\"1\" class=\"dataframe\">\n",
       "  <thead>\n",
       "    <tr style=\"text-align: right;\">\n",
       "      <th></th>\n",
       "      <th>segmento</th>\n",
       "      <th>promedio_precio</th>\n",
       "    </tr>\n",
       "  </thead>\n",
       "  <tbody>\n",
       "    <tr>\n",
       "      <th>0</th>\n",
       "      <td>A</td>\n",
       "      <td>999999.990000</td>\n",
       "    </tr>\n",
       "    <tr>\n",
       "      <th>1</th>\n",
       "      <td>B</td>\n",
       "      <td>999999.990000</td>\n",
       "    </tr>\n",
       "    <tr>\n",
       "      <th>2</th>\n",
       "      <td>C</td>\n",
       "      <td>999999.990000</td>\n",
       "    </tr>\n",
       "    <tr>\n",
       "      <th>3</th>\n",
       "      <td>D</td>\n",
       "      <td>963098.484032</td>\n",
       "    </tr>\n",
       "    <tr>\n",
       "      <th>4</th>\n",
       "      <td>E</td>\n",
       "      <td>609743.657754</td>\n",
       "    </tr>\n",
       "    <tr>\n",
       "      <th>5</th>\n",
       "      <td>S</td>\n",
       "      <td>999999.990000</td>\n",
       "    </tr>\n",
       "  </tbody>\n",
       "</table>\n",
       "</div>"
      ],
      "text/plain": [
       "  segmento  promedio_precio\n",
       "0        A    999999.990000\n",
       "1        B    999999.990000\n",
       "2        C    999999.990000\n",
       "3        D    963098.484032\n",
       "4        E    609743.657754\n",
       "5        S    999999.990000"
      ]
     },
     "execution_count": 31,
     "metadata": {},
     "output_type": "execute_result"
    }
   ],
   "source": [
    "# Lista de DataFrames\n",
    "dataframes_list = [\n",
    "    seg_df_alfa_q_oct_2022_pachuca,\n",
    "    seg_df_alfa_q_nov_2022_pachuca,\n",
    "    seg_df_alfa_q_feb_2023_pachuca\n",
    "]\n",
    "\n",
    "# Diccionario para almacenar el total de precios por categoría\n",
    "total_precios_por_segmento = {}\n",
    "\n",
    "# Diccionario para almacenar el número de observaciones por categoría\n",
    "num_observaciones_por_segmento = {}\n",
    "\n",
    "# Iterar sobre la lista de DataFrames\n",
    "for df in dataframes_list:\n",
    "    # Añadir una nueva columna que extraiga el segmento\n",
    "    df['segmento'] = df['categoria'].str[0] # Letra\n",
    "    # Calcular el total de precios por segmento en el DataFrame actual\n",
    "    for segmento, group in df.groupby('segmento'):\n",
    "        total_precios_por_segmento[segmento] = total_precios_por_segmento.get(segmento, 0) + group['precio'].sum()\n",
    "        num_observaciones_por_segmento[segmento] = num_observaciones_por_segmento.get(segmento, 0) + len(group)\n",
    "\n",
    "# Diccionario para almacenar el promedio de precios por segmento\n",
    "promedio_precios_por_segmento = {}\n",
    "\n",
    "# Calcular el promedio de precios por segmento\n",
    "for segmento in total_precios_por_segmento:\n",
    "    promedio_precios_por_segmento[segmento] = total_precios_por_segmento[segmento] / num_observaciones_por_segmento[segmento]\n",
    "\n",
    "# Convertir el diccionario a un DataFrame\n",
    "trimestre1_promedio_precios_por_segmento_df = pd.DataFrame(list(promedio_precios_por_segmento.items()), columns=['segmento', 'promedio_precio'])\n",
    "trimestre1_promedio_precios_por_segmento_df"
   ]
  },
  {
   "cell_type": "code",
   "execution_count": 32,
   "metadata": {},
   "outputs": [
    {
     "name": "stderr",
     "output_type": "stream",
     "text": [
      "C:\\Users\\yoe11\\AppData\\Local\\Temp\\ipykernel_10812\\4127811054.py:18: SettingWithCopyWarning:\n",
      "\n",
      "\n",
      "A value is trying to be set on a copy of a slice from a DataFrame.\n",
      "Try using .loc[row_indexer,col_indexer] = value instead\n",
      "\n",
      "See the caveats in the documentation: https://pandas.pydata.org/pandas-docs/stable/user_guide/indexing.html#returning-a-view-versus-a-copy\n",
      "\n",
      "C:\\Users\\yoe11\\AppData\\Local\\Temp\\ipykernel_10812\\4127811054.py:18: SettingWithCopyWarning:\n",
      "\n",
      "\n",
      "A value is trying to be set on a copy of a slice from a DataFrame.\n",
      "Try using .loc[row_indexer,col_indexer] = value instead\n",
      "\n",
      "See the caveats in the documentation: https://pandas.pydata.org/pandas-docs/stable/user_guide/indexing.html#returning-a-view-versus-a-copy\n",
      "\n",
      "C:\\Users\\yoe11\\AppData\\Local\\Temp\\ipykernel_10812\\4127811054.py:18: SettingWithCopyWarning:\n",
      "\n",
      "\n",
      "A value is trying to be set on a copy of a slice from a DataFrame.\n",
      "Try using .loc[row_indexer,col_indexer] = value instead\n",
      "\n",
      "See the caveats in the documentation: https://pandas.pydata.org/pandas-docs/stable/user_guide/indexing.html#returning-a-view-versus-a-copy\n",
      "\n",
      "C:\\Users\\yoe11\\AppData\\Local\\Temp\\ipykernel_10812\\4127811054.py:18: SettingWithCopyWarning:\n",
      "\n",
      "\n",
      "A value is trying to be set on a copy of a slice from a DataFrame.\n",
      "Try using .loc[row_indexer,col_indexer] = value instead\n",
      "\n",
      "See the caveats in the documentation: https://pandas.pydata.org/pandas-docs/stable/user_guide/indexing.html#returning-a-view-versus-a-copy\n",
      "\n"
     ]
    },
    {
     "data": {
      "text/html": [
       "<div>\n",
       "<style scoped>\n",
       "    .dataframe tbody tr th:only-of-type {\n",
       "        vertical-align: middle;\n",
       "    }\n",
       "\n",
       "    .dataframe tbody tr th {\n",
       "        vertical-align: top;\n",
       "    }\n",
       "\n",
       "    .dataframe thead th {\n",
       "        text-align: right;\n",
       "    }\n",
       "</style>\n",
       "<table border=\"1\" class=\"dataframe\">\n",
       "  <thead>\n",
       "    <tr style=\"text-align: right;\">\n",
       "      <th></th>\n",
       "      <th>segmento</th>\n",
       "      <th>promedio_precio</th>\n",
       "    </tr>\n",
       "  </thead>\n",
       "  <tbody>\n",
       "    <tr>\n",
       "      <th>0</th>\n",
       "      <td>A</td>\n",
       "      <td>999469.818400</td>\n",
       "    </tr>\n",
       "    <tr>\n",
       "      <th>1</th>\n",
       "      <td>B</td>\n",
       "      <td>998308.394032</td>\n",
       "    </tr>\n",
       "    <tr>\n",
       "      <th>2</th>\n",
       "      <td>C</td>\n",
       "      <td>996087.817254</td>\n",
       "    </tr>\n",
       "    <tr>\n",
       "      <th>3</th>\n",
       "      <td>D</td>\n",
       "      <td>970908.364894</td>\n",
       "    </tr>\n",
       "    <tr>\n",
       "      <th>4</th>\n",
       "      <td>E</td>\n",
       "      <td>672593.005578</td>\n",
       "    </tr>\n",
       "    <tr>\n",
       "      <th>5</th>\n",
       "      <td>S</td>\n",
       "      <td>996417.082835</td>\n",
       "    </tr>\n",
       "  </tbody>\n",
       "</table>\n",
       "</div>"
      ],
      "text/plain": [
       "  segmento  promedio_precio\n",
       "0        A    999469.818400\n",
       "1        B    998308.394032\n",
       "2        C    996087.817254\n",
       "3        D    970908.364894\n",
       "4        E    672593.005578\n",
       "5        S    996417.082835"
      ]
     },
     "execution_count": 32,
     "metadata": {},
     "output_type": "execute_result"
    }
   ],
   "source": [
    "# Lista de DataFrames\n",
    "dataframes_list = [\n",
    "    seg_df_alfa_q_mar_2023_pachuca,\n",
    "    seg_df_alfa_q_jun_2023_pachuca,\n",
    "    seg_df_alfa_q_jul_2023_pachuca,\n",
    "    seg_df_alfa_q_sep_2023_pachuca\n",
    "]\n",
    "\n",
    "# Diccionario para almacenar el total de precios por categoría\n",
    "total_precios_por_segmento = {}\n",
    "\n",
    "# Diccionario para almacenar el número de observaciones por categoría\n",
    "num_observaciones_por_segmento = {}\n",
    "\n",
    "# Iterar sobre la lista de DataFrames\n",
    "for df in dataframes_list:\n",
    "    # Añadir una nueva columna que extraiga el segmento\n",
    "    df['segmento'] = df['categoria'].str[0] # Letra\n",
    "    # Calcular el total de precios por segmento en el DataFrame actual\n",
    "    for segmento, group in df.groupby('segmento'):\n",
    "        total_precios_por_segmento[segmento] = total_precios_por_segmento.get(segmento, 0) + group['precio'].sum()\n",
    "        num_observaciones_por_segmento[segmento] = num_observaciones_por_segmento.get(segmento, 0) + len(group)\n",
    "\n",
    "# Diccionario para almacenar el promedio de precios por segmento\n",
    "promedio_precios_por_segmento = {}\n",
    "\n",
    "# Calcular el promedio de precios por segmento\n",
    "for segmento in total_precios_por_segmento:\n",
    "    promedio_precios_por_segmento[segmento] = total_precios_por_segmento[segmento] / num_observaciones_por_segmento[segmento]\n",
    "\n",
    "# Convertir el diccionario a un DataFrame\n",
    "trimestre2_promedio_precios_por_segmento_df = pd.DataFrame(list(promedio_precios_por_segmento.items()), columns=['segmento', 'promedio_precio'])\n",
    "trimestre2_promedio_precios_por_segmento_df"
   ]
  },
  {
   "cell_type": "code",
   "execution_count": 33,
   "metadata": {},
   "outputs": [
    {
     "name": "stdout",
     "output_type": "stream",
     "text": [
      "Trimestre 1:   segmento  promedio_precio\n",
      "0        A    999999.990000\n",
      "1        B    999999.990000\n",
      "2        C    999999.990000\n",
      "3        D    963098.484032\n",
      "4        E    609743.657754\n",
      "5        S    999999.990000\n",
      "Trimestre 2:   segmento  promedio_precio\n",
      "0        A    999469.818400\n",
      "1        B    998308.394032\n",
      "2        C    996087.817254\n",
      "3        D    970908.364894\n",
      "4        E    672593.005578\n",
      "5        S    996417.082835\n"
     ]
    },
    {
     "data": {
      "text/html": [
       "<div>\n",
       "<style scoped>\n",
       "    .dataframe tbody tr th:only-of-type {\n",
       "        vertical-align: middle;\n",
       "    }\n",
       "\n",
       "    .dataframe tbody tr th {\n",
       "        vertical-align: top;\n",
       "    }\n",
       "\n",
       "    .dataframe thead th {\n",
       "        text-align: right;\n",
       "    }\n",
       "</style>\n",
       "<table border=\"1\" class=\"dataframe\">\n",
       "  <thead>\n",
       "    <tr style=\"text-align: right;\">\n",
       "      <th></th>\n",
       "      <th>segmento</th>\n",
       "      <th>cambio_porcentual</th>\n",
       "    </tr>\n",
       "  </thead>\n",
       "  <tbody>\n",
       "    <tr>\n",
       "      <th>0</th>\n",
       "      <td>A</td>\n",
       "      <td>-0.05</td>\n",
       "    </tr>\n",
       "    <tr>\n",
       "      <th>1</th>\n",
       "      <td>B</td>\n",
       "      <td>-0.17</td>\n",
       "    </tr>\n",
       "    <tr>\n",
       "      <th>2</th>\n",
       "      <td>C</td>\n",
       "      <td>-0.39</td>\n",
       "    </tr>\n",
       "    <tr>\n",
       "      <th>3</th>\n",
       "      <td>D</td>\n",
       "      <td>0.81</td>\n",
       "    </tr>\n",
       "    <tr>\n",
       "      <th>4</th>\n",
       "      <td>E</td>\n",
       "      <td>10.31</td>\n",
       "    </tr>\n",
       "    <tr>\n",
       "      <th>5</th>\n",
       "      <td>S</td>\n",
       "      <td>-0.36</td>\n",
       "    </tr>\n",
       "  </tbody>\n",
       "</table>\n",
       "</div>"
      ],
      "text/plain": [
       "  segmento  cambio_porcentual\n",
       "0        A              -0.05\n",
       "1        B              -0.17\n",
       "2        C              -0.39\n",
       "3        D               0.81\n",
       "4        E              10.31\n",
       "5        S              -0.36"
      ]
     },
     "execution_count": 33,
     "metadata": {},
     "output_type": "execute_result"
    }
   ],
   "source": [
    "# Revisando los DataFrames\n",
    "print(\"Trimestre 1:\", trimestre1_promedio_precios_por_segmento_df)\n",
    "print(\"Trimestre 2:\", trimestre2_promedio_precios_por_segmento_df)\n",
    "\n",
    "# Realizando nuevamente el cálculo del porcentaje de cambio\n",
    "porcentaje_cambio_corregido = ((trimestre2_promedio_precios_por_segmento_df['promedio_precio'] - trimestre1_promedio_precios_por_segmento_df['promedio_precio']) / trimestre1_promedio_precios_por_segmento_df['promedio_precio']) * 100\n",
    "# Creando un nuevo DataFrame para los resultados corregidos\n",
    "cambio_porcentual_corregido_df_trimestres = pd.DataFrame({\n",
    "    'segmento': trimestre1_promedio_precios_por_segmento_df['segmento'],\n",
    "    'cambio_porcentual': porcentaje_cambio_corregido\n",
    "})\n",
    "cambio_porcentual_corregido_df_trimestres['cambio_porcentual'] = cambio_porcentual_corregido_df_trimestres['cambio_porcentual'].round(2)\n",
    "cambio_porcentual_corregido_df_trimestres"
   ]
  },
  {
   "cell_type": "code",
   "execution_count": 34,
   "metadata": {},
   "outputs": [
    {
     "data": {
      "application/vnd.plotly.v1+json": {
       "config": {
        "plotlyServerURL": "https://plot.ly"
       },
       "data": [
        {
         "base": 0,
         "hoverinfo": "none",
         "marker": {
          "color": [
           "#3d45c0",
           "#ff4853",
           "#ffb038",
           "#7cc668",
           "#67c2df",
           "#6773df"
          ]
         },
         "text": [
          -0.05,
          -0.17,
          -0.39,
          0.81,
          10.31,
          -0.36
         ],
         "textposition": "inside",
         "texttemplate": "%{text}%",
         "type": "bar",
         "x": [
          "A",
          "B",
          "C",
          "D",
          "E",
          "S"
         ],
         "y": [
          -0.05,
          -0.17,
          -0.39,
          0.81,
          10.31,
          -0.36
         ]
        }
       ],
       "layout": {
        "plot_bgcolor": "rgba(0,0,0,0)",
        "template": {
         "data": {
          "bar": [
           {
            "error_x": {
             "color": "#2a3f5f"
            },
            "error_y": {
             "color": "#2a3f5f"
            },
            "marker": {
             "line": {
              "color": "#E5ECF6",
              "width": 0.5
             },
             "pattern": {
              "fillmode": "overlay",
              "size": 10,
              "solidity": 0.2
             }
            },
            "type": "bar"
           }
          ],
          "barpolar": [
           {
            "marker": {
             "line": {
              "color": "#E5ECF6",
              "width": 0.5
             },
             "pattern": {
              "fillmode": "overlay",
              "size": 10,
              "solidity": 0.2
             }
            },
            "type": "barpolar"
           }
          ],
          "carpet": [
           {
            "aaxis": {
             "endlinecolor": "#2a3f5f",
             "gridcolor": "white",
             "linecolor": "white",
             "minorgridcolor": "white",
             "startlinecolor": "#2a3f5f"
            },
            "baxis": {
             "endlinecolor": "#2a3f5f",
             "gridcolor": "white",
             "linecolor": "white",
             "minorgridcolor": "white",
             "startlinecolor": "#2a3f5f"
            },
            "type": "carpet"
           }
          ],
          "choropleth": [
           {
            "colorbar": {
             "outlinewidth": 0,
             "ticks": ""
            },
            "type": "choropleth"
           }
          ],
          "contour": [
           {
            "colorbar": {
             "outlinewidth": 0,
             "ticks": ""
            },
            "colorscale": [
             [
              0,
              "#0d0887"
             ],
             [
              0.1111111111111111,
              "#46039f"
             ],
             [
              0.2222222222222222,
              "#7201a8"
             ],
             [
              0.3333333333333333,
              "#9c179e"
             ],
             [
              0.4444444444444444,
              "#bd3786"
             ],
             [
              0.5555555555555556,
              "#d8576b"
             ],
             [
              0.6666666666666666,
              "#ed7953"
             ],
             [
              0.7777777777777778,
              "#fb9f3a"
             ],
             [
              0.8888888888888888,
              "#fdca26"
             ],
             [
              1,
              "#f0f921"
             ]
            ],
            "type": "contour"
           }
          ],
          "contourcarpet": [
           {
            "colorbar": {
             "outlinewidth": 0,
             "ticks": ""
            },
            "type": "contourcarpet"
           }
          ],
          "heatmap": [
           {
            "colorbar": {
             "outlinewidth": 0,
             "ticks": ""
            },
            "colorscale": [
             [
              0,
              "#0d0887"
             ],
             [
              0.1111111111111111,
              "#46039f"
             ],
             [
              0.2222222222222222,
              "#7201a8"
             ],
             [
              0.3333333333333333,
              "#9c179e"
             ],
             [
              0.4444444444444444,
              "#bd3786"
             ],
             [
              0.5555555555555556,
              "#d8576b"
             ],
             [
              0.6666666666666666,
              "#ed7953"
             ],
             [
              0.7777777777777778,
              "#fb9f3a"
             ],
             [
              0.8888888888888888,
              "#fdca26"
             ],
             [
              1,
              "#f0f921"
             ]
            ],
            "type": "heatmap"
           }
          ],
          "heatmapgl": [
           {
            "colorbar": {
             "outlinewidth": 0,
             "ticks": ""
            },
            "colorscale": [
             [
              0,
              "#0d0887"
             ],
             [
              0.1111111111111111,
              "#46039f"
             ],
             [
              0.2222222222222222,
              "#7201a8"
             ],
             [
              0.3333333333333333,
              "#9c179e"
             ],
             [
              0.4444444444444444,
              "#bd3786"
             ],
             [
              0.5555555555555556,
              "#d8576b"
             ],
             [
              0.6666666666666666,
              "#ed7953"
             ],
             [
              0.7777777777777778,
              "#fb9f3a"
             ],
             [
              0.8888888888888888,
              "#fdca26"
             ],
             [
              1,
              "#f0f921"
             ]
            ],
            "type": "heatmapgl"
           }
          ],
          "histogram": [
           {
            "marker": {
             "pattern": {
              "fillmode": "overlay",
              "size": 10,
              "solidity": 0.2
             }
            },
            "type": "histogram"
           }
          ],
          "histogram2d": [
           {
            "colorbar": {
             "outlinewidth": 0,
             "ticks": ""
            },
            "colorscale": [
             [
              0,
              "#0d0887"
             ],
             [
              0.1111111111111111,
              "#46039f"
             ],
             [
              0.2222222222222222,
              "#7201a8"
             ],
             [
              0.3333333333333333,
              "#9c179e"
             ],
             [
              0.4444444444444444,
              "#bd3786"
             ],
             [
              0.5555555555555556,
              "#d8576b"
             ],
             [
              0.6666666666666666,
              "#ed7953"
             ],
             [
              0.7777777777777778,
              "#fb9f3a"
             ],
             [
              0.8888888888888888,
              "#fdca26"
             ],
             [
              1,
              "#f0f921"
             ]
            ],
            "type": "histogram2d"
           }
          ],
          "histogram2dcontour": [
           {
            "colorbar": {
             "outlinewidth": 0,
             "ticks": ""
            },
            "colorscale": [
             [
              0,
              "#0d0887"
             ],
             [
              0.1111111111111111,
              "#46039f"
             ],
             [
              0.2222222222222222,
              "#7201a8"
             ],
             [
              0.3333333333333333,
              "#9c179e"
             ],
             [
              0.4444444444444444,
              "#bd3786"
             ],
             [
              0.5555555555555556,
              "#d8576b"
             ],
             [
              0.6666666666666666,
              "#ed7953"
             ],
             [
              0.7777777777777778,
              "#fb9f3a"
             ],
             [
              0.8888888888888888,
              "#fdca26"
             ],
             [
              1,
              "#f0f921"
             ]
            ],
            "type": "histogram2dcontour"
           }
          ],
          "mesh3d": [
           {
            "colorbar": {
             "outlinewidth": 0,
             "ticks": ""
            },
            "type": "mesh3d"
           }
          ],
          "parcoords": [
           {
            "line": {
             "colorbar": {
              "outlinewidth": 0,
              "ticks": ""
             }
            },
            "type": "parcoords"
           }
          ],
          "pie": [
           {
            "automargin": true,
            "type": "pie"
           }
          ],
          "scatter": [
           {
            "fillpattern": {
             "fillmode": "overlay",
             "size": 10,
             "solidity": 0.2
            },
            "type": "scatter"
           }
          ],
          "scatter3d": [
           {
            "line": {
             "colorbar": {
              "outlinewidth": 0,
              "ticks": ""
             }
            },
            "marker": {
             "colorbar": {
              "outlinewidth": 0,
              "ticks": ""
             }
            },
            "type": "scatter3d"
           }
          ],
          "scattercarpet": [
           {
            "marker": {
             "colorbar": {
              "outlinewidth": 0,
              "ticks": ""
             }
            },
            "type": "scattercarpet"
           }
          ],
          "scattergeo": [
           {
            "marker": {
             "colorbar": {
              "outlinewidth": 0,
              "ticks": ""
             }
            },
            "type": "scattergeo"
           }
          ],
          "scattergl": [
           {
            "marker": {
             "colorbar": {
              "outlinewidth": 0,
              "ticks": ""
             }
            },
            "type": "scattergl"
           }
          ],
          "scattermapbox": [
           {
            "marker": {
             "colorbar": {
              "outlinewidth": 0,
              "ticks": ""
             }
            },
            "type": "scattermapbox"
           }
          ],
          "scatterpolar": [
           {
            "marker": {
             "colorbar": {
              "outlinewidth": 0,
              "ticks": ""
             }
            },
            "type": "scatterpolar"
           }
          ],
          "scatterpolargl": [
           {
            "marker": {
             "colorbar": {
              "outlinewidth": 0,
              "ticks": ""
             }
            },
            "type": "scatterpolargl"
           }
          ],
          "scatterternary": [
           {
            "marker": {
             "colorbar": {
              "outlinewidth": 0,
              "ticks": ""
             }
            },
            "type": "scatterternary"
           }
          ],
          "surface": [
           {
            "colorbar": {
             "outlinewidth": 0,
             "ticks": ""
            },
            "colorscale": [
             [
              0,
              "#0d0887"
             ],
             [
              0.1111111111111111,
              "#46039f"
             ],
             [
              0.2222222222222222,
              "#7201a8"
             ],
             [
              0.3333333333333333,
              "#9c179e"
             ],
             [
              0.4444444444444444,
              "#bd3786"
             ],
             [
              0.5555555555555556,
              "#d8576b"
             ],
             [
              0.6666666666666666,
              "#ed7953"
             ],
             [
              0.7777777777777778,
              "#fb9f3a"
             ],
             [
              0.8888888888888888,
              "#fdca26"
             ],
             [
              1,
              "#f0f921"
             ]
            ],
            "type": "surface"
           }
          ],
          "table": [
           {
            "cells": {
             "fill": {
              "color": "#EBF0F8"
             },
             "line": {
              "color": "white"
             }
            },
            "header": {
             "fill": {
              "color": "#C8D4E3"
             },
             "line": {
              "color": "white"
             }
            },
            "type": "table"
           }
          ]
         },
         "layout": {
          "annotationdefaults": {
           "arrowcolor": "#2a3f5f",
           "arrowhead": 0,
           "arrowwidth": 1
          },
          "autotypenumbers": "strict",
          "coloraxis": {
           "colorbar": {
            "outlinewidth": 0,
            "ticks": ""
           }
          },
          "colorscale": {
           "diverging": [
            [
             0,
             "#8e0152"
            ],
            [
             0.1,
             "#c51b7d"
            ],
            [
             0.2,
             "#de77ae"
            ],
            [
             0.3,
             "#f1b6da"
            ],
            [
             0.4,
             "#fde0ef"
            ],
            [
             0.5,
             "#f7f7f7"
            ],
            [
             0.6,
             "#e6f5d0"
            ],
            [
             0.7,
             "#b8e186"
            ],
            [
             0.8,
             "#7fbc41"
            ],
            [
             0.9,
             "#4d9221"
            ],
            [
             1,
             "#276419"
            ]
           ],
           "sequential": [
            [
             0,
             "#0d0887"
            ],
            [
             0.1111111111111111,
             "#46039f"
            ],
            [
             0.2222222222222222,
             "#7201a8"
            ],
            [
             0.3333333333333333,
             "#9c179e"
            ],
            [
             0.4444444444444444,
             "#bd3786"
            ],
            [
             0.5555555555555556,
             "#d8576b"
            ],
            [
             0.6666666666666666,
             "#ed7953"
            ],
            [
             0.7777777777777778,
             "#fb9f3a"
            ],
            [
             0.8888888888888888,
             "#fdca26"
            ],
            [
             1,
             "#f0f921"
            ]
           ],
           "sequentialminus": [
            [
             0,
             "#0d0887"
            ],
            [
             0.1111111111111111,
             "#46039f"
            ],
            [
             0.2222222222222222,
             "#7201a8"
            ],
            [
             0.3333333333333333,
             "#9c179e"
            ],
            [
             0.4444444444444444,
             "#bd3786"
            ],
            [
             0.5555555555555556,
             "#d8576b"
            ],
            [
             0.6666666666666666,
             "#ed7953"
            ],
            [
             0.7777777777777778,
             "#fb9f3a"
            ],
            [
             0.8888888888888888,
             "#fdca26"
            ],
            [
             1,
             "#f0f921"
            ]
           ]
          },
          "colorway": [
           "#636efa",
           "#EF553B",
           "#00cc96",
           "#ab63fa",
           "#FFA15A",
           "#19d3f3",
           "#FF6692",
           "#B6E880",
           "#FF97FF",
           "#FECB52"
          ],
          "font": {
           "color": "#2a3f5f"
          },
          "geo": {
           "bgcolor": "white",
           "lakecolor": "white",
           "landcolor": "#E5ECF6",
           "showlakes": true,
           "showland": true,
           "subunitcolor": "white"
          },
          "hoverlabel": {
           "align": "left"
          },
          "hovermode": "closest",
          "mapbox": {
           "style": "light"
          },
          "paper_bgcolor": "white",
          "plot_bgcolor": "#E5ECF6",
          "polar": {
           "angularaxis": {
            "gridcolor": "white",
            "linecolor": "white",
            "ticks": ""
           },
           "bgcolor": "#E5ECF6",
           "radialaxis": {
            "gridcolor": "white",
            "linecolor": "white",
            "ticks": ""
           }
          },
          "scene": {
           "xaxis": {
            "backgroundcolor": "#E5ECF6",
            "gridcolor": "white",
            "gridwidth": 2,
            "linecolor": "white",
            "showbackground": true,
            "ticks": "",
            "zerolinecolor": "white"
           },
           "yaxis": {
            "backgroundcolor": "#E5ECF6",
            "gridcolor": "white",
            "gridwidth": 2,
            "linecolor": "white",
            "showbackground": true,
            "ticks": "",
            "zerolinecolor": "white"
           },
           "zaxis": {
            "backgroundcolor": "#E5ECF6",
            "gridcolor": "white",
            "gridwidth": 2,
            "linecolor": "white",
            "showbackground": true,
            "ticks": "",
            "zerolinecolor": "white"
           }
          },
          "shapedefaults": {
           "line": {
            "color": "#2a3f5f"
           }
          },
          "ternary": {
           "aaxis": {
            "gridcolor": "white",
            "linecolor": "white",
            "ticks": ""
           },
           "baxis": {
            "gridcolor": "white",
            "linecolor": "white",
            "ticks": ""
           },
           "bgcolor": "#E5ECF6",
           "caxis": {
            "gridcolor": "white",
            "linecolor": "white",
            "ticks": ""
           }
          },
          "title": {
           "x": 0.05
          },
          "xaxis": {
           "automargin": true,
           "gridcolor": "white",
           "linecolor": "white",
           "ticks": "",
           "title": {
            "standoff": 15
           },
           "zerolinecolor": "white",
           "zerolinewidth": 2
          },
          "yaxis": {
           "automargin": true,
           "gridcolor": "white",
           "linecolor": "white",
           "ticks": "",
           "title": {
            "standoff": 15
           },
           "zerolinecolor": "white",
           "zerolinewidth": 2
          }
         }
        },
        "title": {
         "text": "Variación Trimestral de % (2022-2023)"
        },
        "yaxis": {
         "gridcolor": "#dddcda",
         "title": {
          "text": "%"
         }
        }
       }
      }
     },
     "metadata": {},
     "output_type": "display_data"
    }
   ],
   "source": [
    "colores = ['#3d45c0', '#ff4853', '#ffb038', '#7cc668', '#67c2df', '#6773df', '#939fad']\n",
    "\n",
    "fig = go.Figure()\n",
    "fig.add_trace(go.Bar(\n",
    "    x=cambio_porcentual_corregido_df_trimestres['segmento'],\n",
    "    y=cambio_porcentual_corregido_df_trimestres['cambio_porcentual'],\n",
    "    base=0,\n",
    "    marker_color=[colores[i % len(colores)] for i in range(len(cambio_porcentual_corregido_df_trimestres))],  # Usar los colores definidos\n",
    "    text=cambio_porcentual_corregido_df_trimestres['cambio_porcentual'],  # Usar los porcentajes como texto\n",
    "    textposition='inside',  # Mostrar el texto dentro de las barras\n",
    "    texttemplate='%{text}%',  # Formato del texto\n",
    "    hoverinfo='none',  # No mostrar información al pasar el cursor\n",
    "))\n",
    "fig.update_layout(\n",
    "    title='Variación Trimestral de % (2022-2023)',\n",
    "    #xaxis_title='Segmentos',\n",
    "    yaxis_title='%',\n",
    "    yaxis=dict(gridcolor='#dddcda'),\n",
    "    plot_bgcolor='rgba(0,0,0,0)'\n",
    ")\n",
    "# Exportar gráfica como archivo HTML\n",
    "def guardar_grafico_como_html(fig, nombre_archivo, carpeta='graficas'):\n",
    "    # Crear la carpeta si no existe\n",
    "    if not os.path.exists(carpeta):\n",
    "        os.makedirs(carpeta)\n",
    "    \n",
    "    # Gráfica como archivo HTML en la carpeta especificada\n",
    "    pio.write_html(fig, f'{carpeta}/{nombre_archivo}.html')\n",
    "\n",
    "guardar_grafico_como_html(fig, 'g_bar_tendencia_preciosegmento_trimestres_pachuca', carpeta='graficas')\n",
    "\n",
    "fig.show()"
   ]
  },
  {
   "cell_type": "markdown",
   "metadata": {},
   "source": [
    "# *TULANCINGO*"
   ]
  },
  {
   "cell_type": "code",
   "execution_count": 35,
   "metadata": {},
   "outputs": [
    {
     "name": "stdout",
     "output_type": "stream",
     "text": [
      "['df_alfa_q_jul_2022_tulancingo', 'df_alfa_q_jul_2023_tulancingo', 'df_alfa_q_jun_2023_tulancingo', 'df_alfa_q_mar_2023_tulancingo', 'df_alfa_q_may_2022_tulancingo', 'df_alfa_q_may_2023_tulancingo', 'df_alfa_q_oct_2022_tulancingo', 'df_alfa_q_oct_2023_tulancingo', 'df_alfa_q_sep_2023_tulancingo', 'df_financiamientos_2019_tulancingo', 'df_financiamientos_2020_tulancingo', 'df_financiamientos_2021_tulancingo', 'df_financiamientos_2022_tulancingo', 'df_financiamientos_2023_tulancingo', 'df_grupos_edad_tulancingo', 'df_tiempo_dias_tulancingo']\n"
     ]
    }
   ],
   "source": [
    "# Seleccionar solo los DataFrames que contienen la cadena \"pachuca\"\n",
    "dataframes_tulancingo = [df for df in dfs_list if 'tulancingo' in df]\n",
    "print(dataframes_tulancingo)"
   ]
  },
  {
   "cell_type": "code",
   "execution_count": 36,
   "metadata": {},
   "outputs": [],
   "source": [
    "seg_df_alfa_q_jul_2022_tulancingo = df_alfa_q_jul_2022_tulancingo[['id','categoria', 'precio']]\n",
    "seg_df_alfa_q_jul_2023_tulancingo = df_alfa_q_jul_2023_tulancingo[['id','categoria', 'precio']]\n",
    "seg_df_alfa_q_jun_2023_tulancingo = df_alfa_q_jun_2023_tulancingo[['id','categoria', 'precio']]\n",
    "seg_df_alfa_q_mar_2023_tulancingo = df_alfa_q_mar_2023_tulancingo[['id','categoria', 'precio']]\n",
    "seg_df_alfa_q_may_2022_tulancingo = df_alfa_q_may_2022_tulancingo[['id','categoria', 'precio']]\n",
    "seg_df_alfa_q_may_2023_tulancingo = df_alfa_q_may_2023_tulancingo[['id','categoria', 'precio']]\n",
    "seg_df_alfa_q_oct_2022_tulancingo = df_alfa_q_oct_2022_tulancingo[['id','categoria', 'precio']]\n",
    "seg_df_alfa_q_oct_2023_tulancingo = df_alfa_q_oct_2023_tulancingo[['id','categoria', 'precio']]\n",
    "seg_df_alfa_q_sep_2023_tulancingo = df_alfa_q_sep_2023_tulancingo[['id','categoria', 'precio']]"
   ]
  },
  {
   "cell_type": "code",
   "execution_count": 37,
   "metadata": {},
   "outputs": [
    {
     "data": {
      "text/html": [
       "<div>\n",
       "<style scoped>\n",
       "    .dataframe tbody tr th:only-of-type {\n",
       "        vertical-align: middle;\n",
       "    }\n",
       "\n",
       "    .dataframe tbody tr th {\n",
       "        vertical-align: top;\n",
       "    }\n",
       "\n",
       "    .dataframe thead th {\n",
       "        text-align: right;\n",
       "    }\n",
       "</style>\n",
       "<table border=\"1\" class=\"dataframe\">\n",
       "  <thead>\n",
       "    <tr style=\"text-align: right;\">\n",
       "      <th></th>\n",
       "      <th>categoria</th>\n",
       "      <th>promedio_precio</th>\n",
       "    </tr>\n",
       "  </thead>\n",
       "  <tbody>\n",
       "    <tr>\n",
       "      <th>0</th>\n",
       "      <td>A1</td>\n",
       "      <td>3.541667e+06</td>\n",
       "    </tr>\n",
       "    <tr>\n",
       "      <th>1</th>\n",
       "      <td>A2</td>\n",
       "      <td>3.371455e+06</td>\n",
       "    </tr>\n",
       "    <tr>\n",
       "      <th>2</th>\n",
       "      <td>A3</td>\n",
       "      <td>3.178714e+06</td>\n",
       "    </tr>\n",
       "    <tr>\n",
       "      <th>3</th>\n",
       "      <td>B1</td>\n",
       "      <td>2.814650e+06</td>\n",
       "    </tr>\n",
       "    <tr>\n",
       "      <th>4</th>\n",
       "      <td>B2</td>\n",
       "      <td>2.606571e+06</td>\n",
       "    </tr>\n",
       "    <tr>\n",
       "      <th>5</th>\n",
       "      <td>B3</td>\n",
       "      <td>2.400740e+06</td>\n",
       "    </tr>\n",
       "    <tr>\n",
       "      <th>6</th>\n",
       "      <td>C1</td>\n",
       "      <td>2.089377e+06</td>\n",
       "    </tr>\n",
       "    <tr>\n",
       "      <th>7</th>\n",
       "      <td>C2</td>\n",
       "      <td>1.843399e+06</td>\n",
       "    </tr>\n",
       "    <tr>\n",
       "      <th>8</th>\n",
       "      <td>C3</td>\n",
       "      <td>1.617143e+06</td>\n",
       "    </tr>\n",
       "    <tr>\n",
       "      <th>9</th>\n",
       "      <td>D1</td>\n",
       "      <td>1.363608e+06</td>\n",
       "    </tr>\n",
       "    <tr>\n",
       "      <th>10</th>\n",
       "      <td>D2</td>\n",
       "      <td>1.128110e+06</td>\n",
       "    </tr>\n",
       "    <tr>\n",
       "      <th>11</th>\n",
       "      <td>D3</td>\n",
       "      <td>8.741553e+05</td>\n",
       "    </tr>\n",
       "    <tr>\n",
       "      <th>12</th>\n",
       "      <td>E1</td>\n",
       "      <td>6.419642e+05</td>\n",
       "    </tr>\n",
       "    <tr>\n",
       "      <th>13</th>\n",
       "      <td>E2</td>\n",
       "      <td>4.683333e+05</td>\n",
       "    </tr>\n",
       "    <tr>\n",
       "      <th>14</th>\n",
       "      <td>S</td>\n",
       "      <td>6.197873e+06</td>\n",
       "    </tr>\n",
       "  </tbody>\n",
       "</table>\n",
       "</div>"
      ],
      "text/plain": [
       "   categoria  promedio_precio\n",
       "0         A1     3.541667e+06\n",
       "1         A2     3.371455e+06\n",
       "2         A3     3.178714e+06\n",
       "3         B1     2.814650e+06\n",
       "4         B2     2.606571e+06\n",
       "5         B3     2.400740e+06\n",
       "6         C1     2.089377e+06\n",
       "7         C2     1.843399e+06\n",
       "8         C3     1.617143e+06\n",
       "9         D1     1.363608e+06\n",
       "10        D2     1.128110e+06\n",
       "11        D3     8.741553e+05\n",
       "12        E1     6.419642e+05\n",
       "13        E2     4.683333e+05\n",
       "14         S     6.197873e+06"
      ]
     },
     "execution_count": 37,
     "metadata": {},
     "output_type": "execute_result"
    }
   ],
   "source": [
    "# Lista de DataFrames\n",
    "dataframes_list = [\n",
    "    seg_df_alfa_q_oct_2022_tulancingo,\n",
    "    seg_df_alfa_q_jul_2022_tulancingo,\n",
    "    seg_df_alfa_q_may_2022_tulancingo\n",
    "]\n",
    "\n",
    "# Diccionario para almacenar el total de precios por categoría\n",
    "total_precios_por_categoria = {}\n",
    "\n",
    "# Iterar sobre la lista de DataFrames\n",
    "for df in dataframes_list:\n",
    "    # Calcular el total de precios por categoría en el DataFrame actual\n",
    "    for categoria, group in df.groupby('categoria'):\n",
    "        total_precios_por_categoria[categoria] = total_precios_por_categoria.get(categoria, 0) + group['precio'].sum()\n",
    "\n",
    "# Diccionario para almacenar el número de observaciones por categoría\n",
    "num_observaciones_por_categoria = {}\n",
    "\n",
    "# Iterar sobre la lista de DataFrames para calcular el número de observaciones por categoría\n",
    "for df in dataframes_list:\n",
    "    for categoria, group in df.groupby('categoria'):\n",
    "        num_observaciones_por_categoria[categoria] = num_observaciones_por_categoria.get(categoria, 0) + len(group)\n",
    "\n",
    "# Diccionario para almacenar el promedio de precios por categoría\n",
    "promedio_precios_por_categoria = {}\n",
    "\n",
    "# Calcular el promedio de precios por categoría\n",
    "for categoria in total_precios_por_categoria:\n",
    "    promedio_precios_por_categoria[categoria] = total_precios_por_categoria[categoria] / num_observaciones_por_categoria[categoria]\n",
    "\n",
    "# Convertir el diccionario a un DataFrame\n",
    "periodo1_promedio_precios_por_categoria_df = pd.DataFrame(list(promedio_precios_por_categoria.items()), columns=['categoria', 'promedio_precio'])\n",
    "# Definir el nuevo orden de las categorías\n",
    "nuevo_orden = ['A1', 'A2', 'A3', 'B1', 'B2', 'B3', 'C1', 'C2', 'C3', 'D1', 'D2', 'D3', 'E1', 'E2', 'S']\n",
    "# Reindexar el DataFrame de acuerdo al nuevo orden\n",
    "periodo1_promedio_precios_por_categoria_df = periodo1_promedio_precios_por_categoria_df.set_index('categoria').reindex(nuevo_orden).reset_index()\n",
    "periodo1_promedio_precios_por_categoria_df"
   ]
  },
  {
   "cell_type": "code",
   "execution_count": 38,
   "metadata": {},
   "outputs": [
    {
     "data": {
      "text/html": [
       "<div>\n",
       "<style scoped>\n",
       "    .dataframe tbody tr th:only-of-type {\n",
       "        vertical-align: middle;\n",
       "    }\n",
       "\n",
       "    .dataframe tbody tr th {\n",
       "        vertical-align: top;\n",
       "    }\n",
       "\n",
       "    .dataframe thead th {\n",
       "        text-align: right;\n",
       "    }\n",
       "</style>\n",
       "<table border=\"1\" class=\"dataframe\">\n",
       "  <thead>\n",
       "    <tr style=\"text-align: right;\">\n",
       "      <th></th>\n",
       "      <th>categoria</th>\n",
       "      <th>promedio_precio</th>\n",
       "    </tr>\n",
       "  </thead>\n",
       "  <tbody>\n",
       "    <tr>\n",
       "      <th>0</th>\n",
       "      <td>A1</td>\n",
       "      <td>3.534818e+06</td>\n",
       "    </tr>\n",
       "    <tr>\n",
       "      <th>1</th>\n",
       "      <td>A2</td>\n",
       "      <td>3.330602e+06</td>\n",
       "    </tr>\n",
       "    <tr>\n",
       "      <th>2</th>\n",
       "      <td>A3</td>\n",
       "      <td>3.091500e+06</td>\n",
       "    </tr>\n",
       "    <tr>\n",
       "      <th>3</th>\n",
       "      <td>B1</td>\n",
       "      <td>2.858591e+06</td>\n",
       "    </tr>\n",
       "    <tr>\n",
       "      <th>4</th>\n",
       "      <td>B2</td>\n",
       "      <td>2.634000e+06</td>\n",
       "    </tr>\n",
       "    <tr>\n",
       "      <th>5</th>\n",
       "      <td>B3</td>\n",
       "      <td>2.361569e+06</td>\n",
       "    </tr>\n",
       "    <tr>\n",
       "      <th>6</th>\n",
       "      <td>C1</td>\n",
       "      <td>2.103819e+06</td>\n",
       "    </tr>\n",
       "    <tr>\n",
       "      <th>7</th>\n",
       "      <td>C2</td>\n",
       "      <td>1.843850e+06</td>\n",
       "    </tr>\n",
       "    <tr>\n",
       "      <th>8</th>\n",
       "      <td>C3</td>\n",
       "      <td>1.599541e+06</td>\n",
       "    </tr>\n",
       "    <tr>\n",
       "      <th>9</th>\n",
       "      <td>D1</td>\n",
       "      <td>1.337765e+06</td>\n",
       "    </tr>\n",
       "    <tr>\n",
       "      <th>10</th>\n",
       "      <td>D2</td>\n",
       "      <td>1.109159e+06</td>\n",
       "    </tr>\n",
       "    <tr>\n",
       "      <th>11</th>\n",
       "      <td>D3</td>\n",
       "      <td>8.684881e+05</td>\n",
       "    </tr>\n",
       "    <tr>\n",
       "      <th>12</th>\n",
       "      <td>E1</td>\n",
       "      <td>6.342604e+05</td>\n",
       "    </tr>\n",
       "    <tr>\n",
       "      <th>13</th>\n",
       "      <td>E2</td>\n",
       "      <td>4.550750e+05</td>\n",
       "    </tr>\n",
       "    <tr>\n",
       "      <th>14</th>\n",
       "      <td>S</td>\n",
       "      <td>6.528767e+06</td>\n",
       "    </tr>\n",
       "  </tbody>\n",
       "</table>\n",
       "</div>"
      ],
      "text/plain": [
       "   categoria  promedio_precio\n",
       "0         A1     3.534818e+06\n",
       "1         A2     3.330602e+06\n",
       "2         A3     3.091500e+06\n",
       "3         B1     2.858591e+06\n",
       "4         B2     2.634000e+06\n",
       "5         B3     2.361569e+06\n",
       "6         C1     2.103819e+06\n",
       "7         C2     1.843850e+06\n",
       "8         C3     1.599541e+06\n",
       "9         D1     1.337765e+06\n",
       "10        D2     1.109159e+06\n",
       "11        D3     8.684881e+05\n",
       "12        E1     6.342604e+05\n",
       "13        E2     4.550750e+05\n",
       "14         S     6.528767e+06"
      ]
     },
     "execution_count": 38,
     "metadata": {},
     "output_type": "execute_result"
    }
   ],
   "source": [
    "# Lista de DataFrames\n",
    "dataframes_list = [\n",
    "    seg_df_alfa_q_mar_2023_tulancingo,\n",
    "    seg_df_alfa_q_may_2023_tulancingo,\n",
    "    seg_df_alfa_q_jun_2023_tulancingo,\n",
    "    seg_df_alfa_q_jul_2023_tulancingo,\n",
    "    seg_df_alfa_q_sep_2023_tulancingo,\n",
    "    seg_df_alfa_q_oct_2023_tulancingo\n",
    "]\n",
    "\n",
    "# Diccionario para almacenar el total de precios por categoría\n",
    "total_precios_por_categoria = {}\n",
    "\n",
    "# Iterar sobre la lista de DataFrames\n",
    "for df in dataframes_list:\n",
    "    # Calcular el total de precios por categoría en el DataFrame actual\n",
    "    for categoria, group in df.groupby('categoria'):\n",
    "        total_precios_por_categoria[categoria] = total_precios_por_categoria.get(categoria, 0) + group['precio'].sum()\n",
    "\n",
    "# Diccionario para almacenar el número de observaciones por categoría\n",
    "num_observaciones_por_categoria = {}\n",
    "\n",
    "# Iterar sobre la lista de DataFrames para calcular el número de observaciones por categoría\n",
    "for df in dataframes_list:\n",
    "    for categoria, group in df.groupby('categoria'):\n",
    "        num_observaciones_por_categoria[categoria] = num_observaciones_por_categoria.get(categoria, 0) + len(group)\n",
    "\n",
    "# Diccionario para almacenar el promedio de precios por categoría\n",
    "promedio_precios_por_categoria = {}\n",
    "\n",
    "# Calcular el promedio de precios por categoría\n",
    "for categoria in total_precios_por_categoria:\n",
    "    promedio_precios_por_categoria[categoria] = total_precios_por_categoria[categoria] / num_observaciones_por_categoria[categoria]\n",
    "\n",
    "# Convertir el diccionario a un DataFrame\n",
    "periodo2_promedio_precios_por_categoria_df = pd.DataFrame(list(promedio_precios_por_categoria.items()), columns=['categoria', 'promedio_precio'])\n",
    "periodo2_promedio_precios_por_categoria_df"
   ]
  },
  {
   "cell_type": "code",
   "execution_count": 39,
   "metadata": {},
   "outputs": [
    {
     "data": {
      "text/html": [
       "<div>\n",
       "<style scoped>\n",
       "    .dataframe tbody tr th:only-of-type {\n",
       "        vertical-align: middle;\n",
       "    }\n",
       "\n",
       "    .dataframe tbody tr th {\n",
       "        vertical-align: top;\n",
       "    }\n",
       "\n",
       "    .dataframe thead th {\n",
       "        text-align: right;\n",
       "    }\n",
       "</style>\n",
       "<table border=\"1\" class=\"dataframe\">\n",
       "  <thead>\n",
       "    <tr style=\"text-align: right;\">\n",
       "      <th></th>\n",
       "      <th>segmento</th>\n",
       "      <th>cambio_porcentual</th>\n",
       "    </tr>\n",
       "  </thead>\n",
       "  <tbody>\n",
       "    <tr>\n",
       "      <th>0</th>\n",
       "      <td>A1</td>\n",
       "      <td>-0.193369</td>\n",
       "    </tr>\n",
       "    <tr>\n",
       "      <th>1</th>\n",
       "      <td>A2</td>\n",
       "      <td>-1.211712</td>\n",
       "    </tr>\n",
       "    <tr>\n",
       "      <th>2</th>\n",
       "      <td>A3</td>\n",
       "      <td>-2.743697</td>\n",
       "    </tr>\n",
       "    <tr>\n",
       "      <th>3</th>\n",
       "      <td>B1</td>\n",
       "      <td>1.561150</td>\n",
       "    </tr>\n",
       "    <tr>\n",
       "      <th>4</th>\n",
       "      <td>B2</td>\n",
       "      <td>1.052285</td>\n",
       "    </tr>\n",
       "    <tr>\n",
       "      <th>5</th>\n",
       "      <td>B3</td>\n",
       "      <td>-1.631627</td>\n",
       "    </tr>\n",
       "    <tr>\n",
       "      <th>6</th>\n",
       "      <td>C1</td>\n",
       "      <td>0.691205</td>\n",
       "    </tr>\n",
       "    <tr>\n",
       "      <th>7</th>\n",
       "      <td>C2</td>\n",
       "      <td>0.024483</td>\n",
       "    </tr>\n",
       "    <tr>\n",
       "      <th>8</th>\n",
       "      <td>C3</td>\n",
       "      <td>-1.088470</td>\n",
       "    </tr>\n",
       "    <tr>\n",
       "      <th>9</th>\n",
       "      <td>D1</td>\n",
       "      <td>-1.895192</td>\n",
       "    </tr>\n",
       "    <tr>\n",
       "      <th>10</th>\n",
       "      <td>D2</td>\n",
       "      <td>-1.679885</td>\n",
       "    </tr>\n",
       "    <tr>\n",
       "      <th>11</th>\n",
       "      <td>D3</td>\n",
       "      <td>-0.648306</td>\n",
       "    </tr>\n",
       "    <tr>\n",
       "      <th>12</th>\n",
       "      <td>E1</td>\n",
       "      <td>-1.200030</td>\n",
       "    </tr>\n",
       "    <tr>\n",
       "      <th>13</th>\n",
       "      <td>E2</td>\n",
       "      <td>-2.830961</td>\n",
       "    </tr>\n",
       "    <tr>\n",
       "      <th>14</th>\n",
       "      <td>S</td>\n",
       "      <td>5.338819</td>\n",
       "    </tr>\n",
       "  </tbody>\n",
       "</table>\n",
       "</div>"
      ],
      "text/plain": [
       "   segmento  cambio_porcentual\n",
       "0        A1          -0.193369\n",
       "1        A2          -1.211712\n",
       "2        A3          -2.743697\n",
       "3        B1           1.561150\n",
       "4        B2           1.052285\n",
       "5        B3          -1.631627\n",
       "6        C1           0.691205\n",
       "7        C2           0.024483\n",
       "8        C3          -1.088470\n",
       "9        D1          -1.895192\n",
       "10       D2          -1.679885\n",
       "11       D3          -0.648306\n",
       "12       E1          -1.200030\n",
       "13       E2          -2.830961\n",
       "14        S           5.338819"
      ]
     },
     "execution_count": 39,
     "metadata": {},
     "output_type": "execute_result"
    }
   ],
   "source": [
    "# Realizando nuevamente el cálculo del porcentaje de cambio\n",
    "porcentaje_cambio_corregido = ((periodo2_promedio_precios_por_categoria_df['promedio_precio'] - periodo1_promedio_precios_por_categoria_df['promedio_precio']) / periodo1_promedio_precios_por_categoria_df['promedio_precio']) * 100\n",
    "periodo1_promedio_precios_por_categoria_df = periodo1_promedio_precios_por_categoria_df.sort_values(by='categoria')\n",
    "\n",
    "# Creando un nuevo DataFrame para los resultados corregidos\n",
    "cambio_porcentual_corregido_df = pd.DataFrame({\n",
    "    'segmento': periodo1_promedio_precios_por_categoria_df['categoria'],\n",
    "    'cambio_porcentual': porcentaje_cambio_corregido\n",
    "})\n",
    "\n",
    "cambio_porcentual_corregido_df"
   ]
  },
  {
   "cell_type": "code",
   "execution_count": 40,
   "metadata": {},
   "outputs": [
    {
     "data": {
      "text/html": [
       "<div>\n",
       "<style scoped>\n",
       "    .dataframe tbody tr th:only-of-type {\n",
       "        vertical-align: middle;\n",
       "    }\n",
       "\n",
       "    .dataframe tbody tr th {\n",
       "        vertical-align: top;\n",
       "    }\n",
       "\n",
       "    .dataframe thead th {\n",
       "        text-align: right;\n",
       "    }\n",
       "</style>\n",
       "<table border=\"1\" class=\"dataframe\">\n",
       "  <thead>\n",
       "    <tr style=\"text-align: right;\">\n",
       "      <th></th>\n",
       "      <th>letra_segmento</th>\n",
       "      <th>cambio_porcentual</th>\n",
       "    </tr>\n",
       "  </thead>\n",
       "  <tbody>\n",
       "    <tr>\n",
       "      <th>0</th>\n",
       "      <td>A</td>\n",
       "      <td>-4.15</td>\n",
       "    </tr>\n",
       "    <tr>\n",
       "      <th>1</th>\n",
       "      <td>B</td>\n",
       "      <td>0.98</td>\n",
       "    </tr>\n",
       "    <tr>\n",
       "      <th>2</th>\n",
       "      <td>C</td>\n",
       "      <td>-0.37</td>\n",
       "    </tr>\n",
       "    <tr>\n",
       "      <th>3</th>\n",
       "      <td>D</td>\n",
       "      <td>-4.22</td>\n",
       "    </tr>\n",
       "    <tr>\n",
       "      <th>4</th>\n",
       "      <td>E</td>\n",
       "      <td>-4.03</td>\n",
       "    </tr>\n",
       "    <tr>\n",
       "      <th>5</th>\n",
       "      <td>S</td>\n",
       "      <td>5.34</td>\n",
       "    </tr>\n",
       "  </tbody>\n",
       "</table>\n",
       "</div>"
      ],
      "text/plain": [
       "  letra_segmento  cambio_porcentual\n",
       "0              A              -4.15\n",
       "1              B               0.98\n",
       "2              C              -0.37\n",
       "3              D              -4.22\n",
       "4              E              -4.03\n",
       "5              S               5.34"
      ]
     },
     "execution_count": 40,
     "metadata": {},
     "output_type": "execute_result"
    }
   ],
   "source": [
    "# Extraer la letra del segmento\n",
    "cambio_porcentual_corregido_df['letra_segmento'] = cambio_porcentual_corregido_df['segmento'].str[0]\n",
    "# Sumar el cambio porcentual por cada letra de segmento único\n",
    "suma_por_letra_segmento = cambio_porcentual_corregido_df.groupby('letra_segmento')['cambio_porcentual'].sum().reset_index()\n",
    "# Redondear el resultado a dos decimales\n",
    "suma_por_letra_segmento['cambio_porcentual'] = suma_por_letra_segmento['cambio_porcentual'].round(2)\n",
    "suma_por_letra_segmento"
   ]
  },
  {
   "cell_type": "code",
   "execution_count": 41,
   "metadata": {},
   "outputs": [
    {
     "data": {
      "application/vnd.plotly.v1+json": {
       "config": {
        "plotlyServerURL": "https://plot.ly"
       },
       "data": [
        {
         "base": 0,
         "hoverinfo": "none",
         "marker": {
          "color": [
           "#2962ff",
           "#9500ff",
           "#ff0059",
           "#ff8c00",
           "#b4e600",
           "#2EC2A2"
          ]
         },
         "text": [
          -4.15,
          0.98,
          -0.37,
          -4.22,
          -4.03,
          5.34
         ],
         "textposition": "outside",
         "texttemplate": "%{text}%",
         "type": "bar",
         "x": [
          "A",
          "B",
          "C",
          "D",
          "E",
          "S"
         ],
         "y": [
          -4.15,
          0.98,
          -0.37,
          -4.22,
          -4.03,
          5.34
         ]
        }
       ],
       "layout": {
        "margin": {
         "b": 10,
         "l": 10,
         "r": 10,
         "t": 10
        },
        "plot_bgcolor": "rgba(0,0,0,0)",
        "template": {
         "data": {
          "bar": [
           {
            "error_x": {
             "color": "#2a3f5f"
            },
            "error_y": {
             "color": "#2a3f5f"
            },
            "marker": {
             "line": {
              "color": "#E5ECF6",
              "width": 0.5
             },
             "pattern": {
              "fillmode": "overlay",
              "size": 10,
              "solidity": 0.2
             }
            },
            "type": "bar"
           }
          ],
          "barpolar": [
           {
            "marker": {
             "line": {
              "color": "#E5ECF6",
              "width": 0.5
             },
             "pattern": {
              "fillmode": "overlay",
              "size": 10,
              "solidity": 0.2
             }
            },
            "type": "barpolar"
           }
          ],
          "carpet": [
           {
            "aaxis": {
             "endlinecolor": "#2a3f5f",
             "gridcolor": "white",
             "linecolor": "white",
             "minorgridcolor": "white",
             "startlinecolor": "#2a3f5f"
            },
            "baxis": {
             "endlinecolor": "#2a3f5f",
             "gridcolor": "white",
             "linecolor": "white",
             "minorgridcolor": "white",
             "startlinecolor": "#2a3f5f"
            },
            "type": "carpet"
           }
          ],
          "choropleth": [
           {
            "colorbar": {
             "outlinewidth": 0,
             "ticks": ""
            },
            "type": "choropleth"
           }
          ],
          "contour": [
           {
            "colorbar": {
             "outlinewidth": 0,
             "ticks": ""
            },
            "colorscale": [
             [
              0,
              "#0d0887"
             ],
             [
              0.1111111111111111,
              "#46039f"
             ],
             [
              0.2222222222222222,
              "#7201a8"
             ],
             [
              0.3333333333333333,
              "#9c179e"
             ],
             [
              0.4444444444444444,
              "#bd3786"
             ],
             [
              0.5555555555555556,
              "#d8576b"
             ],
             [
              0.6666666666666666,
              "#ed7953"
             ],
             [
              0.7777777777777778,
              "#fb9f3a"
             ],
             [
              0.8888888888888888,
              "#fdca26"
             ],
             [
              1,
              "#f0f921"
             ]
            ],
            "type": "contour"
           }
          ],
          "contourcarpet": [
           {
            "colorbar": {
             "outlinewidth": 0,
             "ticks": ""
            },
            "type": "contourcarpet"
           }
          ],
          "heatmap": [
           {
            "colorbar": {
             "outlinewidth": 0,
             "ticks": ""
            },
            "colorscale": [
             [
              0,
              "#0d0887"
             ],
             [
              0.1111111111111111,
              "#46039f"
             ],
             [
              0.2222222222222222,
              "#7201a8"
             ],
             [
              0.3333333333333333,
              "#9c179e"
             ],
             [
              0.4444444444444444,
              "#bd3786"
             ],
             [
              0.5555555555555556,
              "#d8576b"
             ],
             [
              0.6666666666666666,
              "#ed7953"
             ],
             [
              0.7777777777777778,
              "#fb9f3a"
             ],
             [
              0.8888888888888888,
              "#fdca26"
             ],
             [
              1,
              "#f0f921"
             ]
            ],
            "type": "heatmap"
           }
          ],
          "heatmapgl": [
           {
            "colorbar": {
             "outlinewidth": 0,
             "ticks": ""
            },
            "colorscale": [
             [
              0,
              "#0d0887"
             ],
             [
              0.1111111111111111,
              "#46039f"
             ],
             [
              0.2222222222222222,
              "#7201a8"
             ],
             [
              0.3333333333333333,
              "#9c179e"
             ],
             [
              0.4444444444444444,
              "#bd3786"
             ],
             [
              0.5555555555555556,
              "#d8576b"
             ],
             [
              0.6666666666666666,
              "#ed7953"
             ],
             [
              0.7777777777777778,
              "#fb9f3a"
             ],
             [
              0.8888888888888888,
              "#fdca26"
             ],
             [
              1,
              "#f0f921"
             ]
            ],
            "type": "heatmapgl"
           }
          ],
          "histogram": [
           {
            "marker": {
             "pattern": {
              "fillmode": "overlay",
              "size": 10,
              "solidity": 0.2
             }
            },
            "type": "histogram"
           }
          ],
          "histogram2d": [
           {
            "colorbar": {
             "outlinewidth": 0,
             "ticks": ""
            },
            "colorscale": [
             [
              0,
              "#0d0887"
             ],
             [
              0.1111111111111111,
              "#46039f"
             ],
             [
              0.2222222222222222,
              "#7201a8"
             ],
             [
              0.3333333333333333,
              "#9c179e"
             ],
             [
              0.4444444444444444,
              "#bd3786"
             ],
             [
              0.5555555555555556,
              "#d8576b"
             ],
             [
              0.6666666666666666,
              "#ed7953"
             ],
             [
              0.7777777777777778,
              "#fb9f3a"
             ],
             [
              0.8888888888888888,
              "#fdca26"
             ],
             [
              1,
              "#f0f921"
             ]
            ],
            "type": "histogram2d"
           }
          ],
          "histogram2dcontour": [
           {
            "colorbar": {
             "outlinewidth": 0,
             "ticks": ""
            },
            "colorscale": [
             [
              0,
              "#0d0887"
             ],
             [
              0.1111111111111111,
              "#46039f"
             ],
             [
              0.2222222222222222,
              "#7201a8"
             ],
             [
              0.3333333333333333,
              "#9c179e"
             ],
             [
              0.4444444444444444,
              "#bd3786"
             ],
             [
              0.5555555555555556,
              "#d8576b"
             ],
             [
              0.6666666666666666,
              "#ed7953"
             ],
             [
              0.7777777777777778,
              "#fb9f3a"
             ],
             [
              0.8888888888888888,
              "#fdca26"
             ],
             [
              1,
              "#f0f921"
             ]
            ],
            "type": "histogram2dcontour"
           }
          ],
          "mesh3d": [
           {
            "colorbar": {
             "outlinewidth": 0,
             "ticks": ""
            },
            "type": "mesh3d"
           }
          ],
          "parcoords": [
           {
            "line": {
             "colorbar": {
              "outlinewidth": 0,
              "ticks": ""
             }
            },
            "type": "parcoords"
           }
          ],
          "pie": [
           {
            "automargin": true,
            "type": "pie"
           }
          ],
          "scatter": [
           {
            "fillpattern": {
             "fillmode": "overlay",
             "size": 10,
             "solidity": 0.2
            },
            "type": "scatter"
           }
          ],
          "scatter3d": [
           {
            "line": {
             "colorbar": {
              "outlinewidth": 0,
              "ticks": ""
             }
            },
            "marker": {
             "colorbar": {
              "outlinewidth": 0,
              "ticks": ""
             }
            },
            "type": "scatter3d"
           }
          ],
          "scattercarpet": [
           {
            "marker": {
             "colorbar": {
              "outlinewidth": 0,
              "ticks": ""
             }
            },
            "type": "scattercarpet"
           }
          ],
          "scattergeo": [
           {
            "marker": {
             "colorbar": {
              "outlinewidth": 0,
              "ticks": ""
             }
            },
            "type": "scattergeo"
           }
          ],
          "scattergl": [
           {
            "marker": {
             "colorbar": {
              "outlinewidth": 0,
              "ticks": ""
             }
            },
            "type": "scattergl"
           }
          ],
          "scattermapbox": [
           {
            "marker": {
             "colorbar": {
              "outlinewidth": 0,
              "ticks": ""
             }
            },
            "type": "scattermapbox"
           }
          ],
          "scatterpolar": [
           {
            "marker": {
             "colorbar": {
              "outlinewidth": 0,
              "ticks": ""
             }
            },
            "type": "scatterpolar"
           }
          ],
          "scatterpolargl": [
           {
            "marker": {
             "colorbar": {
              "outlinewidth": 0,
              "ticks": ""
             }
            },
            "type": "scatterpolargl"
           }
          ],
          "scatterternary": [
           {
            "marker": {
             "colorbar": {
              "outlinewidth": 0,
              "ticks": ""
             }
            },
            "type": "scatterternary"
           }
          ],
          "surface": [
           {
            "colorbar": {
             "outlinewidth": 0,
             "ticks": ""
            },
            "colorscale": [
             [
              0,
              "#0d0887"
             ],
             [
              0.1111111111111111,
              "#46039f"
             ],
             [
              0.2222222222222222,
              "#7201a8"
             ],
             [
              0.3333333333333333,
              "#9c179e"
             ],
             [
              0.4444444444444444,
              "#bd3786"
             ],
             [
              0.5555555555555556,
              "#d8576b"
             ],
             [
              0.6666666666666666,
              "#ed7953"
             ],
             [
              0.7777777777777778,
              "#fb9f3a"
             ],
             [
              0.8888888888888888,
              "#fdca26"
             ],
             [
              1,
              "#f0f921"
             ]
            ],
            "type": "surface"
           }
          ],
          "table": [
           {
            "cells": {
             "fill": {
              "color": "#EBF0F8"
             },
             "line": {
              "color": "white"
             }
            },
            "header": {
             "fill": {
              "color": "#C8D4E3"
             },
             "line": {
              "color": "white"
             }
            },
            "type": "table"
           }
          ]
         },
         "layout": {
          "annotationdefaults": {
           "arrowcolor": "#2a3f5f",
           "arrowhead": 0,
           "arrowwidth": 1
          },
          "autotypenumbers": "strict",
          "coloraxis": {
           "colorbar": {
            "outlinewidth": 0,
            "ticks": ""
           }
          },
          "colorscale": {
           "diverging": [
            [
             0,
             "#8e0152"
            ],
            [
             0.1,
             "#c51b7d"
            ],
            [
             0.2,
             "#de77ae"
            ],
            [
             0.3,
             "#f1b6da"
            ],
            [
             0.4,
             "#fde0ef"
            ],
            [
             0.5,
             "#f7f7f7"
            ],
            [
             0.6,
             "#e6f5d0"
            ],
            [
             0.7,
             "#b8e186"
            ],
            [
             0.8,
             "#7fbc41"
            ],
            [
             0.9,
             "#4d9221"
            ],
            [
             1,
             "#276419"
            ]
           ],
           "sequential": [
            [
             0,
             "#0d0887"
            ],
            [
             0.1111111111111111,
             "#46039f"
            ],
            [
             0.2222222222222222,
             "#7201a8"
            ],
            [
             0.3333333333333333,
             "#9c179e"
            ],
            [
             0.4444444444444444,
             "#bd3786"
            ],
            [
             0.5555555555555556,
             "#d8576b"
            ],
            [
             0.6666666666666666,
             "#ed7953"
            ],
            [
             0.7777777777777778,
             "#fb9f3a"
            ],
            [
             0.8888888888888888,
             "#fdca26"
            ],
            [
             1,
             "#f0f921"
            ]
           ],
           "sequentialminus": [
            [
             0,
             "#0d0887"
            ],
            [
             0.1111111111111111,
             "#46039f"
            ],
            [
             0.2222222222222222,
             "#7201a8"
            ],
            [
             0.3333333333333333,
             "#9c179e"
            ],
            [
             0.4444444444444444,
             "#bd3786"
            ],
            [
             0.5555555555555556,
             "#d8576b"
            ],
            [
             0.6666666666666666,
             "#ed7953"
            ],
            [
             0.7777777777777778,
             "#fb9f3a"
            ],
            [
             0.8888888888888888,
             "#fdca26"
            ],
            [
             1,
             "#f0f921"
            ]
           ]
          },
          "colorway": [
           "#636efa",
           "#EF553B",
           "#00cc96",
           "#ab63fa",
           "#FFA15A",
           "#19d3f3",
           "#FF6692",
           "#B6E880",
           "#FF97FF",
           "#FECB52"
          ],
          "font": {
           "color": "#2a3f5f"
          },
          "geo": {
           "bgcolor": "white",
           "lakecolor": "white",
           "landcolor": "#E5ECF6",
           "showlakes": true,
           "showland": true,
           "subunitcolor": "white"
          },
          "hoverlabel": {
           "align": "left"
          },
          "hovermode": "closest",
          "mapbox": {
           "style": "light"
          },
          "paper_bgcolor": "white",
          "plot_bgcolor": "#E5ECF6",
          "polar": {
           "angularaxis": {
            "gridcolor": "white",
            "linecolor": "white",
            "ticks": ""
           },
           "bgcolor": "#E5ECF6",
           "radialaxis": {
            "gridcolor": "white",
            "linecolor": "white",
            "ticks": ""
           }
          },
          "scene": {
           "xaxis": {
            "backgroundcolor": "#E5ECF6",
            "gridcolor": "white",
            "gridwidth": 2,
            "linecolor": "white",
            "showbackground": true,
            "ticks": "",
            "zerolinecolor": "white"
           },
           "yaxis": {
            "backgroundcolor": "#E5ECF6",
            "gridcolor": "white",
            "gridwidth": 2,
            "linecolor": "white",
            "showbackground": true,
            "ticks": "",
            "zerolinecolor": "white"
           },
           "zaxis": {
            "backgroundcolor": "#E5ECF6",
            "gridcolor": "white",
            "gridwidth": 2,
            "linecolor": "white",
            "showbackground": true,
            "ticks": "",
            "zerolinecolor": "white"
           }
          },
          "shapedefaults": {
           "line": {
            "color": "#2a3f5f"
           }
          },
          "ternary": {
           "aaxis": {
            "gridcolor": "white",
            "linecolor": "white",
            "ticks": ""
           },
           "baxis": {
            "gridcolor": "white",
            "linecolor": "white",
            "ticks": ""
           },
           "bgcolor": "#E5ECF6",
           "caxis": {
            "gridcolor": "white",
            "linecolor": "white",
            "ticks": ""
           }
          },
          "title": {
           "x": 0.05
          },
          "xaxis": {
           "automargin": true,
           "gridcolor": "white",
           "linecolor": "white",
           "ticks": "",
           "title": {
            "standoff": 15
           },
           "zerolinecolor": "white",
           "zerolinewidth": 2
          },
          "yaxis": {
           "automargin": true,
           "gridcolor": "white",
           "linecolor": "white",
           "ticks": "",
           "title": {
            "standoff": 15
           },
           "zerolinecolor": "white",
           "zerolinewidth": 2
          }
         }
        },
        "yaxis": {
         "gridcolor": "#dddcda",
         "range": [
          -5,
          6
         ],
         "title": {
          "text": "%"
         }
        }
       }
      }
     },
     "metadata": {},
     "output_type": "display_data"
    }
   ],
   "source": [
    "colores = ['#2962ff', '#9500ff', '#ff0059', '#ff8c00', '#b4e600', '#2EC2A2','#E50CB6']\n",
    "fig = go.Figure()\n",
    "fig.add_trace(go.Bar(\n",
    "    x=suma_por_letra_segmento['letra_segmento'],\n",
    "    y=suma_por_letra_segmento['cambio_porcentual'],\n",
    "    base=0,\n",
    "    marker_color=[colores[i % len(colores)] for i in range(len(suma_por_letra_segmento))],  # Usar los colores definidos\n",
    "    text=suma_por_letra_segmento['cambio_porcentual'],  # Usar los porcentajes como texto\n",
    "    textposition='outside',  # Mostrar el texto dentro de las barras\n",
    "    texttemplate='%{text}%',  # Formato del texto\n",
    "    hoverinfo='none',  # No mostrar información al pasar el cursor\n",
    "))\n",
    "fig.update_yaxes(range=[-5, 6])\n",
    "fig.update_layout(\n",
    "    #title='Variación Trimestral de % (2022-2023)',\n",
    "    #xaxis_title='Segmentos',\n",
    "    yaxis_title='%',\n",
    "    yaxis=dict(gridcolor='#dddcda'),\n",
    "    plot_bgcolor='rgba(0,0,0,0)',margin=dict(l=10, r=10, t=10, b=10),  # Ajusta los márgenes (left, right, top, bottom)        \n",
    ")\n",
    "# Exportar gráfica como archivo HTML\n",
    "def guardar_grafico_como_html(fig, nombre_archivo, carpeta='graficas'):\n",
    "    # Crear la carpeta si no existe\n",
    "    if not os.path.exists(carpeta):\n",
    "        os.makedirs(carpeta)\n",
    "    \n",
    "    # Gráfica como archivo HTML en la carpeta especificada\n",
    "    pio.write_html(fig, f'{carpeta}/{nombre_archivo}.html')\n",
    "\n",
    "guardar_grafico_como_html(fig, 'g_bar_tendencia_precio_X_segmento_tulancingo', carpeta='graficas')\n",
    "\n",
    "fig.show()"
   ]
  },
  {
   "cell_type": "markdown",
   "metadata": {},
   "source": [
    "# *PUEBLA*"
   ]
  },
  {
   "cell_type": "code",
   "execution_count": 42,
   "metadata": {},
   "outputs": [
    {
     "name": "stdout",
     "output_type": "stream",
     "text": [
      "['df_alfa_q_puebla', 'df_feb_2024_puebla', 'df_financiamientos_2019_puebla', 'df_financiamientos_2020_puebla', 'df_financiamientos_2021_puebla', 'df_financiamientos_2022_puebla', 'df_financiamientos_2023_puebla', 'df_financiamientos_2024_puebla', 'df_grupos_edad_puebla', 'df_jul_2023_puebla', 'df_mar_2024_puebla', 'df_may_2024_puebla', 'df_publicacion_puebla', 'df_salarios_puebla', 'df_sep_2023_puebla']\n"
     ]
    }
   ],
   "source": [
    "# Seleccionar solo los DataFrames que contienen la cadena \"pachuca\"\n",
    "dataframes_tulancingo = [df for df in dfs_list if 'puebla' in df]\n",
    "print(dataframes_tulancingo)"
   ]
  },
  {
   "cell_type": "code",
   "execution_count": 45,
   "metadata": {},
   "outputs": [],
   "source": [
    "seg_df_jul_2023_puebla = df_jul_2023_puebla[['Category', 'Precio']]\n",
    "seg_df_sep_2023_puebla = df_sep_2023_puebla[['Category', 'Precio']]\n",
    "seg_df_feb_2024_puebla = df_feb_2024_puebla[['Category', 'Precio']]\n",
    "seg_df_mar_2024_puebla = df_mar_2024_puebla[['Category', 'Precio']]\n",
    "seg_df_may_2024_puebla = df_may_2024_puebla[['Category', 'Precio']]"
   ]
  },
  {
   "cell_type": "code",
   "execution_count": 47,
   "metadata": {},
   "outputs": [
    {
     "name": "stdout",
     "output_type": "stream",
     "text": [
      "  categoria    precio\n",
      "0         E  45000000\n",
      "1         E  40000000\n",
      "2         E  38000000\n",
      "3         E  37500000\n",
      "4         E  37000000\n",
      "  categoria     precio\n",
      "0        A2  3250000.0\n",
      "1        D1  1300000.0\n",
      "2        D3   843000.0\n",
      "3        C3  1600000.0\n",
      "4        B2  2560000.0\n",
      "  categoria  precio\n",
      "0        E1       0\n",
      "1        E1       0\n",
      "2        E1       0\n",
      "3        E1       0\n",
      "4        E1       0\n",
      "  categoria   precio\n",
      "0        D1  1190000\n",
      "1        D2  1333000\n",
      "2        C1  1750000\n",
      "3        D3  1700000\n",
      "4        D3  1700000\n",
      "  categoria    precio\n",
      "0        E1  148640.0\n",
      "1        E1  156000.0\n",
      "2        E1  210000.0\n",
      "3        E1  280000.0\n",
      "4        E1  295000.0\n"
     ]
    }
   ],
   "source": [
    "import pandas as pd\n",
    "\n",
    "# Lista de DataFrames con los DataFrames originales y las columnas seleccionadas\n",
    "seg_df_jul_2023_puebla = df_jul_2023_puebla[['Category', 'Precio']]\n",
    "seg_df_sep_2023_puebla = df_sep_2023_puebla[['Category', 'Precio']]\n",
    "seg_df_feb_2024_puebla = df_feb_2024_puebla[['Category', 'Precio']]\n",
    "seg_df_mar_2024_puebla = df_mar_2024_puebla[['Category', 'Precio']]\n",
    "seg_df_may_2024_puebla = df_may_2024_puebla[['Category', 'Precio']]\n",
    "\n",
    "# Lista de DataFrames para iterar\n",
    "dataframes_list = [\n",
    "    seg_df_jul_2023_puebla,\n",
    "    seg_df_sep_2023_puebla,\n",
    "    seg_df_feb_2024_puebla,\n",
    "    seg_df_mar_2024_puebla,\n",
    "    seg_df_may_2024_puebla\n",
    "]\n",
    "\n",
    "# Lista de nombres de variables para asignar\n",
    "variable_names = [\n",
    "    'seg_df_jul_2023_puebla',\n",
    "    'seg_df_sep_2023_puebla',\n",
    "    'seg_df_feb_2024_puebla',\n",
    "    'seg_df_mar_2024_puebla',\n",
    "    'seg_df_may_2024_puebla'\n",
    "]\n",
    "\n",
    "# Diccionario para renombrar las columnas\n",
    "column_rename_map = {\n",
    "    'Category': 'categoria',\n",
    "    'Precio': 'precio'\n",
    "}\n",
    "\n",
    "# Iterar sobre la lista de DataFrames y renombrar las columnas\n",
    "for i, df in enumerate(dataframes_list):\n",
    "    dataframes_list[i] = df.rename(columns=column_rename_map)\n",
    "\n",
    "# Asignar las variables renombradas a los nombres originales\n",
    "seg_df_jul_2023_puebla = dataframes_list[0]\n",
    "seg_df_sep_2023_puebla = dataframes_list[1]\n",
    "seg_df_feb_2024_puebla = dataframes_list[2]\n",
    "seg_df_mar_2024_puebla = dataframes_list[3]\n",
    "seg_df_may_2024_puebla = dataframes_list[4]\n",
    "\n",
    "# Verificar los cambios\n",
    "print(seg_df_jul_2023_puebla.head())\n",
    "print(seg_df_sep_2023_puebla.head())\n",
    "print(seg_df_feb_2024_puebla.head())\n",
    "print(seg_df_mar_2024_puebla.head())\n",
    "print(seg_df_may_2024_puebla.head())\n"
   ]
  },
  {
   "cell_type": "code",
   "execution_count": 49,
   "metadata": {},
   "outputs": [
    {
     "data": {
      "text/html": [
       "<div>\n",
       "<style scoped>\n",
       "    .dataframe tbody tr th:only-of-type {\n",
       "        vertical-align: middle;\n",
       "    }\n",
       "\n",
       "    .dataframe tbody tr th {\n",
       "        vertical-align: top;\n",
       "    }\n",
       "\n",
       "    .dataframe thead th {\n",
       "        text-align: right;\n",
       "    }\n",
       "</style>\n",
       "<table border=\"1\" class=\"dataframe\">\n",
       "  <thead>\n",
       "    <tr style=\"text-align: right;\">\n",
       "      <th></th>\n",
       "      <th>categoria</th>\n",
       "      <th>promedio_precio</th>\n",
       "    </tr>\n",
       "  </thead>\n",
       "  <tbody>\n",
       "    <tr>\n",
       "      <th>0</th>\n",
       "      <td>A1</td>\n",
       "      <td>3.532369e+06</td>\n",
       "    </tr>\n",
       "    <tr>\n",
       "      <th>1</th>\n",
       "      <td>A2</td>\n",
       "      <td>3.500103e+06</td>\n",
       "    </tr>\n",
       "    <tr>\n",
       "      <th>2</th>\n",
       "      <td>A3</td>\n",
       "      <td>3.433258e+06</td>\n",
       "    </tr>\n",
       "    <tr>\n",
       "      <th>3</th>\n",
       "      <td>B1</td>\n",
       "      <td>2.732731e+06</td>\n",
       "    </tr>\n",
       "    <tr>\n",
       "      <th>4</th>\n",
       "      <td>B2</td>\n",
       "      <td>2.665177e+06</td>\n",
       "    </tr>\n",
       "    <tr>\n",
       "      <th>5</th>\n",
       "      <td>B3</td>\n",
       "      <td>2.777441e+06</td>\n",
       "    </tr>\n",
       "    <tr>\n",
       "      <th>6</th>\n",
       "      <td>C1</td>\n",
       "      <td>1.938961e+06</td>\n",
       "    </tr>\n",
       "    <tr>\n",
       "      <th>7</th>\n",
       "      <td>C2</td>\n",
       "      <td>1.965507e+06</td>\n",
       "    </tr>\n",
       "    <tr>\n",
       "      <th>8</th>\n",
       "      <td>C3</td>\n",
       "      <td>1.960900e+06</td>\n",
       "    </tr>\n",
       "    <tr>\n",
       "      <th>9</th>\n",
       "      <td>D1</td>\n",
       "      <td>1.281847e+06</td>\n",
       "    </tr>\n",
       "    <tr>\n",
       "      <th>10</th>\n",
       "      <td>D2</td>\n",
       "      <td>1.276935e+06</td>\n",
       "    </tr>\n",
       "    <tr>\n",
       "      <th>11</th>\n",
       "      <td>D3</td>\n",
       "      <td>1.372939e+06</td>\n",
       "    </tr>\n",
       "    <tr>\n",
       "      <th>12</th>\n",
       "      <td>E1</td>\n",
       "      <td>6.129279e+05</td>\n",
       "    </tr>\n",
       "    <tr>\n",
       "      <th>13</th>\n",
       "      <td>E2</td>\n",
       "      <td>6.185821e+05</td>\n",
       "    </tr>\n",
       "    <tr>\n",
       "      <th>14</th>\n",
       "      <td>S</td>\n",
       "      <td>8.600078e+06</td>\n",
       "    </tr>\n",
       "  </tbody>\n",
       "</table>\n",
       "</div>"
      ],
      "text/plain": [
       "   categoria  promedio_precio\n",
       "0         A1     3.532369e+06\n",
       "1         A2     3.500103e+06\n",
       "2         A3     3.433258e+06\n",
       "3         B1     2.732731e+06\n",
       "4         B2     2.665177e+06\n",
       "5         B3     2.777441e+06\n",
       "6         C1     1.938961e+06\n",
       "7         C2     1.965507e+06\n",
       "8         C3     1.960900e+06\n",
       "9         D1     1.281847e+06\n",
       "10        D2     1.276935e+06\n",
       "11        D3     1.372939e+06\n",
       "12        E1     6.129279e+05\n",
       "13        E2     6.185821e+05\n",
       "14         S     8.600078e+06"
      ]
     },
     "execution_count": 49,
     "metadata": {},
     "output_type": "execute_result"
    }
   ],
   "source": [
    "# Lista de DataFrames\n",
    "dataframes_list = [\n",
    "    seg_df_jul_2023_puebla,\n",
    "    seg_df_sep_2023_puebla,\n",
    "]\n",
    "\n",
    "# Diccionario para almacenar el total de precios por categoría\n",
    "total_precios_por_categoria = {}\n",
    "\n",
    "# Iterar sobre la lista de DataFrames\n",
    "for df in dataframes_list:\n",
    "    # Calcular el total de precios por categoría en el DataFrame actual\n",
    "    for categoria, group in df.groupby('categoria'):\n",
    "        total_precios_por_categoria[categoria] = total_precios_por_categoria.get(categoria, 0) + group['precio'].sum()\n",
    "\n",
    "# Diccionario para almacenar el número de observaciones por categoría\n",
    "num_observaciones_por_categoria = {}\n",
    "\n",
    "# Iterar sobre la lista de DataFrames para calcular el número de observaciones por categoría\n",
    "for df in dataframes_list:\n",
    "    for categoria, group in df.groupby('categoria'):\n",
    "        num_observaciones_por_categoria[categoria] = num_observaciones_por_categoria.get(categoria, 0) + len(group)\n",
    "\n",
    "# Diccionario para almacenar el promedio de precios por categoría\n",
    "promedio_precios_por_categoria = {}\n",
    "\n",
    "# Calcular el promedio de precios por categoría\n",
    "for categoria in total_precios_por_categoria:\n",
    "    promedio_precios_por_categoria[categoria] = total_precios_por_categoria[categoria] / num_observaciones_por_categoria[categoria]\n",
    "\n",
    "# Convertir el diccionario a un DataFrame\n",
    "periodo1_promedio_precios_por_categoria_df = pd.DataFrame(list(promedio_precios_por_categoria.items()), columns=['categoria', 'promedio_precio'])\n",
    "# Definir el nuevo orden de las categorías\n",
    "nuevo_orden = ['A1', 'A2', 'A3', 'B1', 'B2', 'B3', 'C1', 'C2', 'C3', 'D1', 'D2', 'D3', 'E1', 'E2', 'S']\n",
    "# Reindexar el DataFrame de acuerdo al nuevo orden\n",
    "periodo1_promedio_precios_por_categoria_df = periodo1_promedio_precios_por_categoria_df.set_index('categoria').reindex(nuevo_orden).reset_index()\n",
    "periodo1_promedio_precios_por_categoria_df"
   ]
  },
  {
   "cell_type": "code",
   "execution_count": 50,
   "metadata": {},
   "outputs": [
    {
     "data": {
      "text/html": [
       "<div>\n",
       "<style scoped>\n",
       "    .dataframe tbody tr th:only-of-type {\n",
       "        vertical-align: middle;\n",
       "    }\n",
       "\n",
       "    .dataframe tbody tr th {\n",
       "        vertical-align: top;\n",
       "    }\n",
       "\n",
       "    .dataframe thead th {\n",
       "        text-align: right;\n",
       "    }\n",
       "</style>\n",
       "<table border=\"1\" class=\"dataframe\">\n",
       "  <thead>\n",
       "    <tr style=\"text-align: right;\">\n",
       "      <th></th>\n",
       "      <th>categoria</th>\n",
       "      <th>promedio_precio</th>\n",
       "    </tr>\n",
       "  </thead>\n",
       "  <tbody>\n",
       "    <tr>\n",
       "      <th>0</th>\n",
       "      <td>A1</td>\n",
       "      <td>2.034749e+06</td>\n",
       "    </tr>\n",
       "    <tr>\n",
       "      <th>1</th>\n",
       "      <td>A2</td>\n",
       "      <td>2.277634e+06</td>\n",
       "    </tr>\n",
       "    <tr>\n",
       "      <th>2</th>\n",
       "      <td>A3</td>\n",
       "      <td>2.563886e+06</td>\n",
       "    </tr>\n",
       "    <tr>\n",
       "      <th>3</th>\n",
       "      <td>B1</td>\n",
       "      <td>1.607770e+06</td>\n",
       "    </tr>\n",
       "    <tr>\n",
       "      <th>4</th>\n",
       "      <td>B2</td>\n",
       "      <td>1.867111e+06</td>\n",
       "    </tr>\n",
       "    <tr>\n",
       "      <th>5</th>\n",
       "      <td>B3</td>\n",
       "      <td>1.932539e+06</td>\n",
       "    </tr>\n",
       "    <tr>\n",
       "      <th>6</th>\n",
       "      <td>C1</td>\n",
       "      <td>1.227094e+06</td>\n",
       "    </tr>\n",
       "    <tr>\n",
       "      <th>7</th>\n",
       "      <td>C2</td>\n",
       "      <td>1.395979e+06</td>\n",
       "    </tr>\n",
       "    <tr>\n",
       "      <th>8</th>\n",
       "      <td>C3</td>\n",
       "      <td>1.592434e+06</td>\n",
       "    </tr>\n",
       "    <tr>\n",
       "      <th>9</th>\n",
       "      <td>D1</td>\n",
       "      <td>7.370651e+05</td>\n",
       "    </tr>\n",
       "    <tr>\n",
       "      <th>10</th>\n",
       "      <td>D2</td>\n",
       "      <td>9.001847e+05</td>\n",
       "    </tr>\n",
       "    <tr>\n",
       "      <th>11</th>\n",
       "      <td>D3</td>\n",
       "      <td>1.066790e+06</td>\n",
       "    </tr>\n",
       "    <tr>\n",
       "      <th>12</th>\n",
       "      <td>E</td>\n",
       "      <td>2.286444e+07</td>\n",
       "    </tr>\n",
       "    <tr>\n",
       "      <th>13</th>\n",
       "      <td>E1</td>\n",
       "      <td>2.587161e+05</td>\n",
       "    </tr>\n",
       "    <tr>\n",
       "      <th>14</th>\n",
       "      <td>E2</td>\n",
       "      <td>4.267787e+05</td>\n",
       "    </tr>\n",
       "    <tr>\n",
       "      <th>15</th>\n",
       "      <td>E3</td>\n",
       "      <td>5.678755e+05</td>\n",
       "    </tr>\n",
       "    <tr>\n",
       "      <th>16</th>\n",
       "      <td>L+</td>\n",
       "      <td>1.330817e+07</td>\n",
       "    </tr>\n",
       "    <tr>\n",
       "      <th>17</th>\n",
       "      <td>L1</td>\n",
       "      <td>9.285586e+06</td>\n",
       "    </tr>\n",
       "    <tr>\n",
       "      <th>18</th>\n",
       "      <td>L2</td>\n",
       "      <td>1.037051e+07</td>\n",
       "    </tr>\n",
       "    <tr>\n",
       "      <th>19</th>\n",
       "      <td>L3</td>\n",
       "      <td>1.038950e+07</td>\n",
       "    </tr>\n",
       "    <tr>\n",
       "      <th>20</th>\n",
       "      <td>S1</td>\n",
       "      <td>3.176601e+06</td>\n",
       "    </tr>\n",
       "    <tr>\n",
       "      <th>21</th>\n",
       "      <td>S2</td>\n",
       "      <td>4.439052e+06</td>\n",
       "    </tr>\n",
       "    <tr>\n",
       "      <th>22</th>\n",
       "      <td>S3</td>\n",
       "      <td>6.479148e+06</td>\n",
       "    </tr>\n",
       "  </tbody>\n",
       "</table>\n",
       "</div>"
      ],
      "text/plain": [
       "   categoria  promedio_precio\n",
       "0         A1     2.034749e+06\n",
       "1         A2     2.277634e+06\n",
       "2         A3     2.563886e+06\n",
       "3         B1     1.607770e+06\n",
       "4         B2     1.867111e+06\n",
       "5         B3     1.932539e+06\n",
       "6         C1     1.227094e+06\n",
       "7         C2     1.395979e+06\n",
       "8         C3     1.592434e+06\n",
       "9         D1     7.370651e+05\n",
       "10        D2     9.001847e+05\n",
       "11        D3     1.066790e+06\n",
       "12         E     2.286444e+07\n",
       "13        E1     2.587161e+05\n",
       "14        E2     4.267787e+05\n",
       "15        E3     5.678755e+05\n",
       "16        L+     1.330817e+07\n",
       "17        L1     9.285586e+06\n",
       "18        L2     1.037051e+07\n",
       "19        L3     1.038950e+07\n",
       "20        S1     3.176601e+06\n",
       "21        S2     4.439052e+06\n",
       "22        S3     6.479148e+06"
      ]
     },
     "execution_count": 50,
     "metadata": {},
     "output_type": "execute_result"
    }
   ],
   "source": [
    "# Lista de DataFrames\n",
    "dataframes_list = [\n",
    "    seg_df_feb_2024_puebla,\n",
    "    seg_df_mar_2024_puebla,\n",
    "    seg_df_may_2024_puebla\n",
    "]\n",
    "\n",
    "# Diccionario para almacenar el total de precios por categoría\n",
    "total_precios_por_categoria = {}\n",
    "\n",
    "# Iterar sobre la lista de DataFrames\n",
    "for df in dataframes_list:\n",
    "    # Calcular el total de precios por categoría en el DataFrame actual\n",
    "    for categoria, group in df.groupby('categoria'):\n",
    "        total_precios_por_categoria[categoria] = total_precios_por_categoria.get(categoria, 0) + group['precio'].sum()\n",
    "\n",
    "# Diccionario para almacenar el número de observaciones por categoría\n",
    "num_observaciones_por_categoria = {}\n",
    "\n",
    "# Iterar sobre la lista de DataFrames para calcular el número de observaciones por categoría\n",
    "for df in dataframes_list:\n",
    "    for categoria, group in df.groupby('categoria'):\n",
    "        num_observaciones_por_categoria[categoria] = num_observaciones_por_categoria.get(categoria, 0) + len(group)\n",
    "\n",
    "# Diccionario para almacenar el promedio de precios por categoría\n",
    "promedio_precios_por_categoria = {}\n",
    "\n",
    "# Calcular el promedio de precios por categoría\n",
    "for categoria in total_precios_por_categoria:\n",
    "    promedio_precios_por_categoria[categoria] = total_precios_por_categoria[categoria] / num_observaciones_por_categoria[categoria]\n",
    "\n",
    "# Convertir el diccionario a un DataFrame\n",
    "periodo2_promedio_precios_por_categoria_df = pd.DataFrame(list(promedio_precios_por_categoria.items()), columns=['categoria', 'promedio_precio'])\n",
    "periodo2_promedio_precios_por_categoria_df"
   ]
  },
  {
   "cell_type": "code",
   "execution_count": 51,
   "metadata": {},
   "outputs": [
    {
     "data": {
      "text/html": [
       "<div>\n",
       "<style scoped>\n",
       "    .dataframe tbody tr th:only-of-type {\n",
       "        vertical-align: middle;\n",
       "    }\n",
       "\n",
       "    .dataframe tbody tr th {\n",
       "        vertical-align: top;\n",
       "    }\n",
       "\n",
       "    .dataframe thead th {\n",
       "        text-align: right;\n",
       "    }\n",
       "</style>\n",
       "<table border=\"1\" class=\"dataframe\">\n",
       "  <thead>\n",
       "    <tr style=\"text-align: right;\">\n",
       "      <th></th>\n",
       "      <th>segmento</th>\n",
       "      <th>cambio_porcentual</th>\n",
       "    </tr>\n",
       "  </thead>\n",
       "  <tbody>\n",
       "    <tr>\n",
       "      <th>0</th>\n",
       "      <td>A1</td>\n",
       "      <td>-42.397039</td>\n",
       "    </tr>\n",
       "    <tr>\n",
       "      <th>1</th>\n",
       "      <td>A2</td>\n",
       "      <td>-34.926671</td>\n",
       "    </tr>\n",
       "    <tr>\n",
       "      <th>2</th>\n",
       "      <td>A3</td>\n",
       "      <td>-25.322072</td>\n",
       "    </tr>\n",
       "    <tr>\n",
       "      <th>3</th>\n",
       "      <td>B1</td>\n",
       "      <td>-41.166164</td>\n",
       "    </tr>\n",
       "    <tr>\n",
       "      <th>4</th>\n",
       "      <td>B2</td>\n",
       "      <td>-29.944186</td>\n",
       "    </tr>\n",
       "    <tr>\n",
       "      <th>5</th>\n",
       "      <td>B3</td>\n",
       "      <td>-30.420155</td>\n",
       "    </tr>\n",
       "    <tr>\n",
       "      <th>6</th>\n",
       "      <td>C1</td>\n",
       "      <td>-36.713841</td>\n",
       "    </tr>\n",
       "    <tr>\n",
       "      <th>7</th>\n",
       "      <td>C2</td>\n",
       "      <td>-28.976147</td>\n",
       "    </tr>\n",
       "    <tr>\n",
       "      <th>8</th>\n",
       "      <td>C3</td>\n",
       "      <td>-18.790661</td>\n",
       "    </tr>\n",
       "    <tr>\n",
       "      <th>9</th>\n",
       "      <td>D1</td>\n",
       "      <td>-42.499768</td>\n",
       "    </tr>\n",
       "    <tr>\n",
       "      <th>10</th>\n",
       "      <td>D2</td>\n",
       "      <td>-29.504258</td>\n",
       "    </tr>\n",
       "    <tr>\n",
       "      <th>11</th>\n",
       "      <td>D3</td>\n",
       "      <td>-22.298797</td>\n",
       "    </tr>\n",
       "    <tr>\n",
       "      <th>12</th>\n",
       "      <td>E1</td>\n",
       "      <td>3630.364286</td>\n",
       "    </tr>\n",
       "    <tr>\n",
       "      <th>13</th>\n",
       "      <td>E2</td>\n",
       "      <td>-58.175950</td>\n",
       "    </tr>\n",
       "    <tr>\n",
       "      <th>14</th>\n",
       "      <td>S</td>\n",
       "      <td>-95.037502</td>\n",
       "    </tr>\n",
       "    <tr>\n",
       "      <th>15</th>\n",
       "      <td>NaN</td>\n",
       "      <td>NaN</td>\n",
       "    </tr>\n",
       "    <tr>\n",
       "      <th>16</th>\n",
       "      <td>NaN</td>\n",
       "      <td>NaN</td>\n",
       "    </tr>\n",
       "    <tr>\n",
       "      <th>17</th>\n",
       "      <td>NaN</td>\n",
       "      <td>NaN</td>\n",
       "    </tr>\n",
       "    <tr>\n",
       "      <th>18</th>\n",
       "      <td>NaN</td>\n",
       "      <td>NaN</td>\n",
       "    </tr>\n",
       "    <tr>\n",
       "      <th>19</th>\n",
       "      <td>NaN</td>\n",
       "      <td>NaN</td>\n",
       "    </tr>\n",
       "    <tr>\n",
       "      <th>20</th>\n",
       "      <td>NaN</td>\n",
       "      <td>NaN</td>\n",
       "    </tr>\n",
       "    <tr>\n",
       "      <th>21</th>\n",
       "      <td>NaN</td>\n",
       "      <td>NaN</td>\n",
       "    </tr>\n",
       "    <tr>\n",
       "      <th>22</th>\n",
       "      <td>NaN</td>\n",
       "      <td>NaN</td>\n",
       "    </tr>\n",
       "  </tbody>\n",
       "</table>\n",
       "</div>"
      ],
      "text/plain": [
       "   segmento  cambio_porcentual\n",
       "0        A1         -42.397039\n",
       "1        A2         -34.926671\n",
       "2        A3         -25.322072\n",
       "3        B1         -41.166164\n",
       "4        B2         -29.944186\n",
       "5        B3         -30.420155\n",
       "6        C1         -36.713841\n",
       "7        C2         -28.976147\n",
       "8        C3         -18.790661\n",
       "9        D1         -42.499768\n",
       "10       D2         -29.504258\n",
       "11       D3         -22.298797\n",
       "12       E1        3630.364286\n",
       "13       E2         -58.175950\n",
       "14        S         -95.037502\n",
       "15      NaN                NaN\n",
       "16      NaN                NaN\n",
       "17      NaN                NaN\n",
       "18      NaN                NaN\n",
       "19      NaN                NaN\n",
       "20      NaN                NaN\n",
       "21      NaN                NaN\n",
       "22      NaN                NaN"
      ]
     },
     "execution_count": 51,
     "metadata": {},
     "output_type": "execute_result"
    }
   ],
   "source": [
    "# Realizando nuevamente el cálculo del porcentaje de cambio\n",
    "porcentaje_cambio_corregido = ((periodo2_promedio_precios_por_categoria_df['promedio_precio'] - periodo1_promedio_precios_por_categoria_df['promedio_precio']) / periodo1_promedio_precios_por_categoria_df['promedio_precio']) * 100\n",
    "periodo1_promedio_precios_por_categoria_df = periodo1_promedio_precios_por_categoria_df.sort_values(by='categoria')\n",
    "\n",
    "# Creando un nuevo DataFrame para los resultados corregidos\n",
    "cambio_porcentual_corregido_df = pd.DataFrame({\n",
    "    'segmento': periodo1_promedio_precios_por_categoria_df['categoria'],\n",
    "    'cambio_porcentual': porcentaje_cambio_corregido\n",
    "})\n",
    "\n",
    "cambio_porcentual_corregido_df"
   ]
  },
  {
   "cell_type": "code",
   "execution_count": 52,
   "metadata": {},
   "outputs": [
    {
     "data": {
      "text/html": [
       "<div>\n",
       "<style scoped>\n",
       "    .dataframe tbody tr th:only-of-type {\n",
       "        vertical-align: middle;\n",
       "    }\n",
       "\n",
       "    .dataframe tbody tr th {\n",
       "        vertical-align: top;\n",
       "    }\n",
       "\n",
       "    .dataframe thead th {\n",
       "        text-align: right;\n",
       "    }\n",
       "</style>\n",
       "<table border=\"1\" class=\"dataframe\">\n",
       "  <thead>\n",
       "    <tr style=\"text-align: right;\">\n",
       "      <th></th>\n",
       "      <th>letra_segmento</th>\n",
       "      <th>cambio_porcentual</th>\n",
       "    </tr>\n",
       "  </thead>\n",
       "  <tbody>\n",
       "    <tr>\n",
       "      <th>0</th>\n",
       "      <td>A</td>\n",
       "      <td>-102.65</td>\n",
       "    </tr>\n",
       "    <tr>\n",
       "      <th>1</th>\n",
       "      <td>B</td>\n",
       "      <td>-101.53</td>\n",
       "    </tr>\n",
       "    <tr>\n",
       "      <th>2</th>\n",
       "      <td>C</td>\n",
       "      <td>-84.48</td>\n",
       "    </tr>\n",
       "    <tr>\n",
       "      <th>3</th>\n",
       "      <td>D</td>\n",
       "      <td>-94.30</td>\n",
       "    </tr>\n",
       "    <tr>\n",
       "      <th>4</th>\n",
       "      <td>E</td>\n",
       "      <td>3572.19</td>\n",
       "    </tr>\n",
       "    <tr>\n",
       "      <th>5</th>\n",
       "      <td>S</td>\n",
       "      <td>-95.04</td>\n",
       "    </tr>\n",
       "  </tbody>\n",
       "</table>\n",
       "</div>"
      ],
      "text/plain": [
       "  letra_segmento  cambio_porcentual\n",
       "0              A            -102.65\n",
       "1              B            -101.53\n",
       "2              C             -84.48\n",
       "3              D             -94.30\n",
       "4              E            3572.19\n",
       "5              S             -95.04"
      ]
     },
     "execution_count": 52,
     "metadata": {},
     "output_type": "execute_result"
    }
   ],
   "source": [
    "# Extraer la letra del segmento\n",
    "cambio_porcentual_corregido_df['letra_segmento'] = cambio_porcentual_corregido_df['segmento'].str[0]\n",
    "# Sumar el cambio porcentual por cada letra de segmento único\n",
    "suma_por_letra_segmento = cambio_porcentual_corregido_df.groupby('letra_segmento')['cambio_porcentual'].sum().reset_index()\n",
    "# Redondear el resultado a dos decimales\n",
    "suma_por_letra_segmento['cambio_porcentual'] = suma_por_letra_segmento['cambio_porcentual'].round(2)\n",
    "suma_por_letra_segmento"
   ]
  },
  {
   "cell_type": "code",
   "execution_count": 55,
   "metadata": {},
   "outputs": [
    {
     "data": {
      "application/vnd.plotly.v1+json": {
       "config": {
        "plotlyServerURL": "https://plot.ly"
       },
       "data": [
        {
         "base": 0,
         "hoverinfo": "none",
         "marker": {
          "color": [
           "#2962ff",
           "#9500ff",
           "#ff0059",
           "#ff8c00",
           "#b4e600",
           "#2EC2A2"
          ]
         },
         "text": [
          -102.65,
          -101.53,
          -84.48,
          -94.3,
          3572.19,
          -95.04
         ],
         "textposition": "outside",
         "texttemplate": "%{text}%",
         "type": "bar",
         "x": [
          "A",
          "B",
          "C",
          "D",
          "E",
          "S"
         ],
         "y": [
          -102.65,
          -101.53,
          -84.48,
          -94.3,
          3572.19,
          -95.04
         ]
        }
       ],
       "layout": {
        "plot_bgcolor": "rgba(0,0,0,0)",
        "template": {
         "data": {
          "bar": [
           {
            "error_x": {
             "color": "#2a3f5f"
            },
            "error_y": {
             "color": "#2a3f5f"
            },
            "marker": {
             "line": {
              "color": "#E5ECF6",
              "width": 0.5
             },
             "pattern": {
              "fillmode": "overlay",
              "size": 10,
              "solidity": 0.2
             }
            },
            "type": "bar"
           }
          ],
          "barpolar": [
           {
            "marker": {
             "line": {
              "color": "#E5ECF6",
              "width": 0.5
             },
             "pattern": {
              "fillmode": "overlay",
              "size": 10,
              "solidity": 0.2
             }
            },
            "type": "barpolar"
           }
          ],
          "carpet": [
           {
            "aaxis": {
             "endlinecolor": "#2a3f5f",
             "gridcolor": "white",
             "linecolor": "white",
             "minorgridcolor": "white",
             "startlinecolor": "#2a3f5f"
            },
            "baxis": {
             "endlinecolor": "#2a3f5f",
             "gridcolor": "white",
             "linecolor": "white",
             "minorgridcolor": "white",
             "startlinecolor": "#2a3f5f"
            },
            "type": "carpet"
           }
          ],
          "choropleth": [
           {
            "colorbar": {
             "outlinewidth": 0,
             "ticks": ""
            },
            "type": "choropleth"
           }
          ],
          "contour": [
           {
            "colorbar": {
             "outlinewidth": 0,
             "ticks": ""
            },
            "colorscale": [
             [
              0,
              "#0d0887"
             ],
             [
              0.1111111111111111,
              "#46039f"
             ],
             [
              0.2222222222222222,
              "#7201a8"
             ],
             [
              0.3333333333333333,
              "#9c179e"
             ],
             [
              0.4444444444444444,
              "#bd3786"
             ],
             [
              0.5555555555555556,
              "#d8576b"
             ],
             [
              0.6666666666666666,
              "#ed7953"
             ],
             [
              0.7777777777777778,
              "#fb9f3a"
             ],
             [
              0.8888888888888888,
              "#fdca26"
             ],
             [
              1,
              "#f0f921"
             ]
            ],
            "type": "contour"
           }
          ],
          "contourcarpet": [
           {
            "colorbar": {
             "outlinewidth": 0,
             "ticks": ""
            },
            "type": "contourcarpet"
           }
          ],
          "heatmap": [
           {
            "colorbar": {
             "outlinewidth": 0,
             "ticks": ""
            },
            "colorscale": [
             [
              0,
              "#0d0887"
             ],
             [
              0.1111111111111111,
              "#46039f"
             ],
             [
              0.2222222222222222,
              "#7201a8"
             ],
             [
              0.3333333333333333,
              "#9c179e"
             ],
             [
              0.4444444444444444,
              "#bd3786"
             ],
             [
              0.5555555555555556,
              "#d8576b"
             ],
             [
              0.6666666666666666,
              "#ed7953"
             ],
             [
              0.7777777777777778,
              "#fb9f3a"
             ],
             [
              0.8888888888888888,
              "#fdca26"
             ],
             [
              1,
              "#f0f921"
             ]
            ],
            "type": "heatmap"
           }
          ],
          "heatmapgl": [
           {
            "colorbar": {
             "outlinewidth": 0,
             "ticks": ""
            },
            "colorscale": [
             [
              0,
              "#0d0887"
             ],
             [
              0.1111111111111111,
              "#46039f"
             ],
             [
              0.2222222222222222,
              "#7201a8"
             ],
             [
              0.3333333333333333,
              "#9c179e"
             ],
             [
              0.4444444444444444,
              "#bd3786"
             ],
             [
              0.5555555555555556,
              "#d8576b"
             ],
             [
              0.6666666666666666,
              "#ed7953"
             ],
             [
              0.7777777777777778,
              "#fb9f3a"
             ],
             [
              0.8888888888888888,
              "#fdca26"
             ],
             [
              1,
              "#f0f921"
             ]
            ],
            "type": "heatmapgl"
           }
          ],
          "histogram": [
           {
            "marker": {
             "pattern": {
              "fillmode": "overlay",
              "size": 10,
              "solidity": 0.2
             }
            },
            "type": "histogram"
           }
          ],
          "histogram2d": [
           {
            "colorbar": {
             "outlinewidth": 0,
             "ticks": ""
            },
            "colorscale": [
             [
              0,
              "#0d0887"
             ],
             [
              0.1111111111111111,
              "#46039f"
             ],
             [
              0.2222222222222222,
              "#7201a8"
             ],
             [
              0.3333333333333333,
              "#9c179e"
             ],
             [
              0.4444444444444444,
              "#bd3786"
             ],
             [
              0.5555555555555556,
              "#d8576b"
             ],
             [
              0.6666666666666666,
              "#ed7953"
             ],
             [
              0.7777777777777778,
              "#fb9f3a"
             ],
             [
              0.8888888888888888,
              "#fdca26"
             ],
             [
              1,
              "#f0f921"
             ]
            ],
            "type": "histogram2d"
           }
          ],
          "histogram2dcontour": [
           {
            "colorbar": {
             "outlinewidth": 0,
             "ticks": ""
            },
            "colorscale": [
             [
              0,
              "#0d0887"
             ],
             [
              0.1111111111111111,
              "#46039f"
             ],
             [
              0.2222222222222222,
              "#7201a8"
             ],
             [
              0.3333333333333333,
              "#9c179e"
             ],
             [
              0.4444444444444444,
              "#bd3786"
             ],
             [
              0.5555555555555556,
              "#d8576b"
             ],
             [
              0.6666666666666666,
              "#ed7953"
             ],
             [
              0.7777777777777778,
              "#fb9f3a"
             ],
             [
              0.8888888888888888,
              "#fdca26"
             ],
             [
              1,
              "#f0f921"
             ]
            ],
            "type": "histogram2dcontour"
           }
          ],
          "mesh3d": [
           {
            "colorbar": {
             "outlinewidth": 0,
             "ticks": ""
            },
            "type": "mesh3d"
           }
          ],
          "parcoords": [
           {
            "line": {
             "colorbar": {
              "outlinewidth": 0,
              "ticks": ""
             }
            },
            "type": "parcoords"
           }
          ],
          "pie": [
           {
            "automargin": true,
            "type": "pie"
           }
          ],
          "scatter": [
           {
            "fillpattern": {
             "fillmode": "overlay",
             "size": 10,
             "solidity": 0.2
            },
            "type": "scatter"
           }
          ],
          "scatter3d": [
           {
            "line": {
             "colorbar": {
              "outlinewidth": 0,
              "ticks": ""
             }
            },
            "marker": {
             "colorbar": {
              "outlinewidth": 0,
              "ticks": ""
             }
            },
            "type": "scatter3d"
           }
          ],
          "scattercarpet": [
           {
            "marker": {
             "colorbar": {
              "outlinewidth": 0,
              "ticks": ""
             }
            },
            "type": "scattercarpet"
           }
          ],
          "scattergeo": [
           {
            "marker": {
             "colorbar": {
              "outlinewidth": 0,
              "ticks": ""
             }
            },
            "type": "scattergeo"
           }
          ],
          "scattergl": [
           {
            "marker": {
             "colorbar": {
              "outlinewidth": 0,
              "ticks": ""
             }
            },
            "type": "scattergl"
           }
          ],
          "scattermapbox": [
           {
            "marker": {
             "colorbar": {
              "outlinewidth": 0,
              "ticks": ""
             }
            },
            "type": "scattermapbox"
           }
          ],
          "scatterpolar": [
           {
            "marker": {
             "colorbar": {
              "outlinewidth": 0,
              "ticks": ""
             }
            },
            "type": "scatterpolar"
           }
          ],
          "scatterpolargl": [
           {
            "marker": {
             "colorbar": {
              "outlinewidth": 0,
              "ticks": ""
             }
            },
            "type": "scatterpolargl"
           }
          ],
          "scatterternary": [
           {
            "marker": {
             "colorbar": {
              "outlinewidth": 0,
              "ticks": ""
             }
            },
            "type": "scatterternary"
           }
          ],
          "surface": [
           {
            "colorbar": {
             "outlinewidth": 0,
             "ticks": ""
            },
            "colorscale": [
             [
              0,
              "#0d0887"
             ],
             [
              0.1111111111111111,
              "#46039f"
             ],
             [
              0.2222222222222222,
              "#7201a8"
             ],
             [
              0.3333333333333333,
              "#9c179e"
             ],
             [
              0.4444444444444444,
              "#bd3786"
             ],
             [
              0.5555555555555556,
              "#d8576b"
             ],
             [
              0.6666666666666666,
              "#ed7953"
             ],
             [
              0.7777777777777778,
              "#fb9f3a"
             ],
             [
              0.8888888888888888,
              "#fdca26"
             ],
             [
              1,
              "#f0f921"
             ]
            ],
            "type": "surface"
           }
          ],
          "table": [
           {
            "cells": {
             "fill": {
              "color": "#EBF0F8"
             },
             "line": {
              "color": "white"
             }
            },
            "header": {
             "fill": {
              "color": "#C8D4E3"
             },
             "line": {
              "color": "white"
             }
            },
            "type": "table"
           }
          ]
         },
         "layout": {
          "annotationdefaults": {
           "arrowcolor": "#2a3f5f",
           "arrowhead": 0,
           "arrowwidth": 1
          },
          "autotypenumbers": "strict",
          "coloraxis": {
           "colorbar": {
            "outlinewidth": 0,
            "ticks": ""
           }
          },
          "colorscale": {
           "diverging": [
            [
             0,
             "#8e0152"
            ],
            [
             0.1,
             "#c51b7d"
            ],
            [
             0.2,
             "#de77ae"
            ],
            [
             0.3,
             "#f1b6da"
            ],
            [
             0.4,
             "#fde0ef"
            ],
            [
             0.5,
             "#f7f7f7"
            ],
            [
             0.6,
             "#e6f5d0"
            ],
            [
             0.7,
             "#b8e186"
            ],
            [
             0.8,
             "#7fbc41"
            ],
            [
             0.9,
             "#4d9221"
            ],
            [
             1,
             "#276419"
            ]
           ],
           "sequential": [
            [
             0,
             "#0d0887"
            ],
            [
             0.1111111111111111,
             "#46039f"
            ],
            [
             0.2222222222222222,
             "#7201a8"
            ],
            [
             0.3333333333333333,
             "#9c179e"
            ],
            [
             0.4444444444444444,
             "#bd3786"
            ],
            [
             0.5555555555555556,
             "#d8576b"
            ],
            [
             0.6666666666666666,
             "#ed7953"
            ],
            [
             0.7777777777777778,
             "#fb9f3a"
            ],
            [
             0.8888888888888888,
             "#fdca26"
            ],
            [
             1,
             "#f0f921"
            ]
           ],
           "sequentialminus": [
            [
             0,
             "#0d0887"
            ],
            [
             0.1111111111111111,
             "#46039f"
            ],
            [
             0.2222222222222222,
             "#7201a8"
            ],
            [
             0.3333333333333333,
             "#9c179e"
            ],
            [
             0.4444444444444444,
             "#bd3786"
            ],
            [
             0.5555555555555556,
             "#d8576b"
            ],
            [
             0.6666666666666666,
             "#ed7953"
            ],
            [
             0.7777777777777778,
             "#fb9f3a"
            ],
            [
             0.8888888888888888,
             "#fdca26"
            ],
            [
             1,
             "#f0f921"
            ]
           ]
          },
          "colorway": [
           "#636efa",
           "#EF553B",
           "#00cc96",
           "#ab63fa",
           "#FFA15A",
           "#19d3f3",
           "#FF6692",
           "#B6E880",
           "#FF97FF",
           "#FECB52"
          ],
          "font": {
           "color": "#2a3f5f"
          },
          "geo": {
           "bgcolor": "white",
           "lakecolor": "white",
           "landcolor": "#E5ECF6",
           "showlakes": true,
           "showland": true,
           "subunitcolor": "white"
          },
          "hoverlabel": {
           "align": "left"
          },
          "hovermode": "closest",
          "mapbox": {
           "style": "light"
          },
          "paper_bgcolor": "white",
          "plot_bgcolor": "#E5ECF6",
          "polar": {
           "angularaxis": {
            "gridcolor": "white",
            "linecolor": "white",
            "ticks": ""
           },
           "bgcolor": "#E5ECF6",
           "radialaxis": {
            "gridcolor": "white",
            "linecolor": "white",
            "ticks": ""
           }
          },
          "scene": {
           "xaxis": {
            "backgroundcolor": "#E5ECF6",
            "gridcolor": "white",
            "gridwidth": 2,
            "linecolor": "white",
            "showbackground": true,
            "ticks": "",
            "zerolinecolor": "white"
           },
           "yaxis": {
            "backgroundcolor": "#E5ECF6",
            "gridcolor": "white",
            "gridwidth": 2,
            "linecolor": "white",
            "showbackground": true,
            "ticks": "",
            "zerolinecolor": "white"
           },
           "zaxis": {
            "backgroundcolor": "#E5ECF6",
            "gridcolor": "white",
            "gridwidth": 2,
            "linecolor": "white",
            "showbackground": true,
            "ticks": "",
            "zerolinecolor": "white"
           }
          },
          "shapedefaults": {
           "line": {
            "color": "#2a3f5f"
           }
          },
          "ternary": {
           "aaxis": {
            "gridcolor": "white",
            "linecolor": "white",
            "ticks": ""
           },
           "baxis": {
            "gridcolor": "white",
            "linecolor": "white",
            "ticks": ""
           },
           "bgcolor": "#E5ECF6",
           "caxis": {
            "gridcolor": "white",
            "linecolor": "white",
            "ticks": ""
           }
          },
          "title": {
           "x": 0.05
          },
          "xaxis": {
           "automargin": true,
           "gridcolor": "white",
           "linecolor": "white",
           "ticks": "",
           "title": {
            "standoff": 15
           },
           "zerolinecolor": "white",
           "zerolinewidth": 2
          },
          "yaxis": {
           "automargin": true,
           "gridcolor": "white",
           "linecolor": "white",
           "ticks": "",
           "title": {
            "standoff": 15
           },
           "zerolinecolor": "white",
           "zerolinewidth": 2
          }
         }
        },
        "yaxis": {
         "gridcolor": "#dddcda",
         "range": [
          -5,
          6
         ],
         "title": {
          "text": "%"
         }
        }
       }
      }
     },
     "metadata": {},
     "output_type": "display_data"
    }
   ],
   "source": [
    "colores = ['#2962ff', '#9500ff', '#ff0059', '#ff8c00', '#b4e600', '#2EC2A2','#E50CB6']\n",
    "fig = go.Figure()\n",
    "fig.add_trace(go.Bar(\n",
    "    x=suma_por_letra_segmento['letra_segmento'],\n",
    "    y=suma_por_letra_segmento['cambio_porcentual'],\n",
    "    base=0,\n",
    "    marker_color=[colores[i % len(colores)] for i in range(len(suma_por_letra_segmento))],  # Usar los colores definidos\n",
    "    text=suma_por_letra_segmento['cambio_porcentual'],  # Usar los porcentajes como texto\n",
    "    textposition='outside',  # Mostrar el texto dentro de las barras\n",
    "    texttemplate='%{text}%',  # Formato del texto\n",
    "    hoverinfo='none',  # No mostrar información al pasar el cursor\n",
    "))\n",
    "fig.update_yaxes(range=[-5, 6])\n",
    "fig.update_layout(\n",
    "    #title='Variación Trimestral de % (2022-2023)',\n",
    "    #xaxis_title='Segmentos',\n",
    "    yaxis_title='%',\n",
    "    yaxis=dict(gridcolor='#dddcda'),\n",
    "    plot_bgcolor='rgba(0,0,0,0)',#margin=dict(l=10, r=10, t=10, b=10),  # Ajusta los márgenes (left, right, top, bottom)        \n",
    ")\n",
    "# Exportar gráfica como archivo HTML\n",
    "def guardar_grafico_como_html(fig, nombre_archivo, carpeta='graficas'):\n",
    "    # Crear la carpeta si no existe\n",
    "    if not os.path.exists(carpeta):\n",
    "        os.makedirs(carpeta)\n",
    "    \n",
    "    # Gráfica como archivo HTML en la carpeta especificada\n",
    "    pio.write_html(fig, f'{carpeta}/{nombre_archivo}.html')\n",
    "\n",
    "guardar_grafico_como_html(fig, 'g_bar_tendencia_precio_X_segmento_PUEB', carpeta='graficas')\n",
    "\n",
    "fig.show()"
   ]
  },
  {
   "cell_type": "markdown",
   "metadata": {},
   "source": [
    "# *PUEBLA*"
   ]
  },
  {
   "cell_type": "code",
   "execution_count": 21,
   "metadata": {},
   "outputs": [
    {
     "data": {
      "text/html": [
       "<div>\n",
       "<style scoped>\n",
       "    .dataframe tbody tr th:only-of-type {\n",
       "        vertical-align: middle;\n",
       "    }\n",
       "\n",
       "    .dataframe tbody tr th {\n",
       "        vertical-align: top;\n",
       "    }\n",
       "\n",
       "    .dataframe thead th {\n",
       "        text-align: right;\n",
       "    }\n",
       "</style>\n",
       "<table border=\"1\" class=\"dataframe\">\n",
       "  <thead>\n",
       "    <tr style=\"text-align: right;\">\n",
       "      <th></th>\n",
       "      <th>Category</th>\n",
       "      <th>promedio_precio</th>\n",
       "    </tr>\n",
       "  </thead>\n",
       "  <tbody>\n",
       "    <tr>\n",
       "      <th>0</th>\n",
       "      <td>A1</td>\n",
       "      <td>3.532369e+06</td>\n",
       "    </tr>\n",
       "    <tr>\n",
       "      <th>1</th>\n",
       "      <td>A2</td>\n",
       "      <td>3.500103e+06</td>\n",
       "    </tr>\n",
       "    <tr>\n",
       "      <th>2</th>\n",
       "      <td>A3</td>\n",
       "      <td>3.433258e+06</td>\n",
       "    </tr>\n",
       "    <tr>\n",
       "      <th>3</th>\n",
       "      <td>B1</td>\n",
       "      <td>2.732731e+06</td>\n",
       "    </tr>\n",
       "    <tr>\n",
       "      <th>4</th>\n",
       "      <td>B2</td>\n",
       "      <td>2.665177e+06</td>\n",
       "    </tr>\n",
       "    <tr>\n",
       "      <th>5</th>\n",
       "      <td>B3</td>\n",
       "      <td>2.777441e+06</td>\n",
       "    </tr>\n",
       "    <tr>\n",
       "      <th>6</th>\n",
       "      <td>C1</td>\n",
       "      <td>1.938961e+06</td>\n",
       "    </tr>\n",
       "    <tr>\n",
       "      <th>7</th>\n",
       "      <td>C2</td>\n",
       "      <td>1.965507e+06</td>\n",
       "    </tr>\n",
       "    <tr>\n",
       "      <th>8</th>\n",
       "      <td>C3</td>\n",
       "      <td>1.960900e+06</td>\n",
       "    </tr>\n",
       "    <tr>\n",
       "      <th>9</th>\n",
       "      <td>D1</td>\n",
       "      <td>1.281847e+06</td>\n",
       "    </tr>\n",
       "    <tr>\n",
       "      <th>10</th>\n",
       "      <td>D2</td>\n",
       "      <td>1.276935e+06</td>\n",
       "    </tr>\n",
       "    <tr>\n",
       "      <th>11</th>\n",
       "      <td>D3</td>\n",
       "      <td>1.372939e+06</td>\n",
       "    </tr>\n",
       "    <tr>\n",
       "      <th>12</th>\n",
       "      <td>E1</td>\n",
       "      <td>6.129279e+05</td>\n",
       "    </tr>\n",
       "    <tr>\n",
       "      <th>13</th>\n",
       "      <td>E2</td>\n",
       "      <td>6.185821e+05</td>\n",
       "    </tr>\n",
       "    <tr>\n",
       "      <th>14</th>\n",
       "      <td>S</td>\n",
       "      <td>8.600078e+06</td>\n",
       "    </tr>\n",
       "  </tbody>\n",
       "</table>\n",
       "</div>"
      ],
      "text/plain": [
       "   Category  promedio_precio\n",
       "0        A1     3.532369e+06\n",
       "1        A2     3.500103e+06\n",
       "2        A3     3.433258e+06\n",
       "3        B1     2.732731e+06\n",
       "4        B2     2.665177e+06\n",
       "5        B3     2.777441e+06\n",
       "6        C1     1.938961e+06\n",
       "7        C2     1.965507e+06\n",
       "8        C3     1.960900e+06\n",
       "9        D1     1.281847e+06\n",
       "10       D2     1.276935e+06\n",
       "11       D3     1.372939e+06\n",
       "12       E1     6.129279e+05\n",
       "13       E2     6.185821e+05\n",
       "14        S     8.600078e+06"
      ]
     },
     "execution_count": 21,
     "metadata": {},
     "output_type": "execute_result"
    }
   ],
   "source": [
    "# Lista de DataFrames\n",
    "dataframes_list = [\n",
    "    seg_df_jul_2023_puebla,\n",
    "    seg_df_sep_2023_puebla,\n",
    "]\n",
    "\n",
    "# Diccionario para almacenar el total de precios por categoría\n",
    "total_precios_por_categoria = {}\n",
    "\n",
    "# Iterar sobre la lista de DataFrames\n",
    "for df in dataframes_list:\n",
    "    # Calcular el total de precios por categoría en el DataFrame actual\n",
    "    for categoria, group in df.groupby('Category'):\n",
    "        total_precios_por_categoria[categoria] = total_precios_por_categoria.get(categoria, 0) + group['Precio'].sum()\n",
    "\n",
    "# Diccionario para almacenar el número de observaciones por categoría\n",
    "num_observaciones_por_categoria = {}\n",
    "\n",
    "# Iterar sobre la lista de DataFrames para calcular el número de observaciones por categoría\n",
    "for df in dataframes_list:\n",
    "    for categoria, group in df.groupby('Category'):\n",
    "        num_observaciones_por_categoria[categoria] = num_observaciones_por_categoria.get(categoria, 0) + len(group)\n",
    "\n",
    "# Diccionario para almacenar el promedio de precios por categoría\n",
    "promedio_precios_por_categoria = {}\n",
    "\n",
    "# Calcular el promedio de precios por categoría\n",
    "for categoria in total_precios_por_categoria:\n",
    "    promedio_precios_por_categoria[categoria] = total_precios_por_categoria[categoria] / num_observaciones_por_categoria[categoria]\n",
    "\n",
    "# Convertir el diccionario a un DataFrame\n",
    "periodo1_promedio_precios_por_categoria_df = pd.DataFrame(list(promedio_precios_por_categoria.items()), columns=['Category', 'promedio_precio'])\n",
    "# Definir el nuevo orden de las categorías\n",
    "nuevo_orden = ['A1', 'A2', 'A3', 'B1', 'B2', 'B3', 'C1', 'C2', 'C3', 'D1', 'D2', 'D3', 'E1', 'E2', 'S']\n",
    "# Reindexar el DataFrame de acuerdo al nuevo orden\n",
    "periodo1_promedio_precios_por_categoria_df = periodo1_promedio_precios_por_categoria_df.set_index('Category').reindex(nuevo_orden).reset_index()\n",
    "periodo1_promedio_precios_por_categoria_df"
   ]
  },
  {
   "cell_type": "code",
   "execution_count": 22,
   "metadata": {},
   "outputs": [
    {
     "ename": "KeyError",
     "evalue": "'categoria'",
     "output_type": "error",
     "traceback": [
      "\u001b[1;31m---------------------------------------------------------------------------\u001b[0m",
      "\u001b[1;31mKeyError\u001b[0m                                  Traceback (most recent call last)",
      "\u001b[1;32m~\\AppData\\Local\\Temp\\ipykernel_10812\\3650548549.py\u001b[0m in \u001b[0;36m<module>\u001b[1;34m\u001b[0m\n\u001b[0;32m     12\u001b[0m \u001b[1;32mfor\u001b[0m \u001b[0mdf\u001b[0m \u001b[1;32min\u001b[0m \u001b[0mdataframes_list\u001b[0m\u001b[1;33m:\u001b[0m\u001b[1;33m\u001b[0m\u001b[1;33m\u001b[0m\u001b[0m\n\u001b[0;32m     13\u001b[0m     \u001b[1;31m# Calcular el total de precios por categoría en el DataFrame actual\u001b[0m\u001b[1;33m\u001b[0m\u001b[1;33m\u001b[0m\u001b[0m\n\u001b[1;32m---> 14\u001b[1;33m     \u001b[1;32mfor\u001b[0m \u001b[0mcategoria\u001b[0m\u001b[1;33m,\u001b[0m \u001b[0mgroup\u001b[0m \u001b[1;32min\u001b[0m \u001b[0mdf\u001b[0m\u001b[1;33m.\u001b[0m\u001b[0mgroupby\u001b[0m\u001b[1;33m(\u001b[0m\u001b[1;34m'categoria'\u001b[0m\u001b[1;33m)\u001b[0m\u001b[1;33m:\u001b[0m\u001b[1;33m\u001b[0m\u001b[1;33m\u001b[0m\u001b[0m\n\u001b[0m\u001b[0;32m     15\u001b[0m         \u001b[0mtotal_precios_por_categoria\u001b[0m\u001b[1;33m[\u001b[0m\u001b[0mcategoria\u001b[0m\u001b[1;33m]\u001b[0m \u001b[1;33m=\u001b[0m \u001b[0mtotal_precios_por_categoria\u001b[0m\u001b[1;33m.\u001b[0m\u001b[0mget\u001b[0m\u001b[1;33m(\u001b[0m\u001b[0mcategoria\u001b[0m\u001b[1;33m,\u001b[0m \u001b[1;36m0\u001b[0m\u001b[1;33m)\u001b[0m \u001b[1;33m+\u001b[0m \u001b[0mgroup\u001b[0m\u001b[1;33m[\u001b[0m\u001b[1;34m'precio'\u001b[0m\u001b[1;33m]\u001b[0m\u001b[1;33m.\u001b[0m\u001b[0msum\u001b[0m\u001b[1;33m(\u001b[0m\u001b[1;33m)\u001b[0m\u001b[1;33m\u001b[0m\u001b[1;33m\u001b[0m\u001b[0m\n\u001b[0;32m     16\u001b[0m \u001b[1;33m\u001b[0m\u001b[0m\n",
      "\u001b[1;32mc:\\Users\\yoe11\\anaconda3\\lib\\site-packages\\pandas\\core\\frame.py\u001b[0m in \u001b[0;36mgroupby\u001b[1;34m(self, by, axis, level, as_index, sort, group_keys, squeeze, observed, dropna)\u001b[0m\n\u001b[0;32m   8400\u001b[0m         \u001b[0maxis\u001b[0m \u001b[1;33m=\u001b[0m \u001b[0mself\u001b[0m\u001b[1;33m.\u001b[0m\u001b[0m_get_axis_number\u001b[0m\u001b[1;33m(\u001b[0m\u001b[0maxis\u001b[0m\u001b[1;33m)\u001b[0m\u001b[1;33m\u001b[0m\u001b[1;33m\u001b[0m\u001b[0m\n\u001b[0;32m   8401\u001b[0m \u001b[1;33m\u001b[0m\u001b[0m\n\u001b[1;32m-> 8402\u001b[1;33m         return DataFrameGroupBy(\n\u001b[0m\u001b[0;32m   8403\u001b[0m             \u001b[0mobj\u001b[0m\u001b[1;33m=\u001b[0m\u001b[0mself\u001b[0m\u001b[1;33m,\u001b[0m\u001b[1;33m\u001b[0m\u001b[1;33m\u001b[0m\u001b[0m\n\u001b[0;32m   8404\u001b[0m             \u001b[0mkeys\u001b[0m\u001b[1;33m=\u001b[0m\u001b[0mby\u001b[0m\u001b[1;33m,\u001b[0m\u001b[1;33m\u001b[0m\u001b[1;33m\u001b[0m\u001b[0m\n",
      "\u001b[1;32mc:\\Users\\yoe11\\anaconda3\\lib\\site-packages\\pandas\\core\\groupby\\groupby.py\u001b[0m in \u001b[0;36m__init__\u001b[1;34m(self, obj, keys, axis, level, grouper, exclusions, selection, as_index, sort, group_keys, squeeze, observed, mutated, dropna)\u001b[0m\n\u001b[0;32m    963\u001b[0m             \u001b[1;32mfrom\u001b[0m \u001b[0mpandas\u001b[0m\u001b[1;33m.\u001b[0m\u001b[0mcore\u001b[0m\u001b[1;33m.\u001b[0m\u001b[0mgroupby\u001b[0m\u001b[1;33m.\u001b[0m\u001b[0mgrouper\u001b[0m \u001b[1;32mimport\u001b[0m \u001b[0mget_grouper\u001b[0m\u001b[1;33m\u001b[0m\u001b[1;33m\u001b[0m\u001b[0m\n\u001b[0;32m    964\u001b[0m \u001b[1;33m\u001b[0m\u001b[0m\n\u001b[1;32m--> 965\u001b[1;33m             grouper, exclusions, obj = get_grouper(\n\u001b[0m\u001b[0;32m    966\u001b[0m                 \u001b[0mobj\u001b[0m\u001b[1;33m,\u001b[0m\u001b[1;33m\u001b[0m\u001b[1;33m\u001b[0m\u001b[0m\n\u001b[0;32m    967\u001b[0m                 \u001b[0mkeys\u001b[0m\u001b[1;33m,\u001b[0m\u001b[1;33m\u001b[0m\u001b[1;33m\u001b[0m\u001b[0m\n",
      "\u001b[1;32mc:\\Users\\yoe11\\anaconda3\\lib\\site-packages\\pandas\\core\\groupby\\grouper.py\u001b[0m in \u001b[0;36mget_grouper\u001b[1;34m(obj, key, axis, level, sort, observed, mutated, validate, dropna)\u001b[0m\n\u001b[0;32m    886\u001b[0m                 \u001b[0min_axis\u001b[0m\u001b[1;33m,\u001b[0m \u001b[0mlevel\u001b[0m\u001b[1;33m,\u001b[0m \u001b[0mgpr\u001b[0m \u001b[1;33m=\u001b[0m \u001b[1;32mFalse\u001b[0m\u001b[1;33m,\u001b[0m \u001b[0mgpr\u001b[0m\u001b[1;33m,\u001b[0m \u001b[1;32mNone\u001b[0m\u001b[1;33m\u001b[0m\u001b[1;33m\u001b[0m\u001b[0m\n\u001b[0;32m    887\u001b[0m             \u001b[1;32melse\u001b[0m\u001b[1;33m:\u001b[0m\u001b[1;33m\u001b[0m\u001b[1;33m\u001b[0m\u001b[0m\n\u001b[1;32m--> 888\u001b[1;33m                 \u001b[1;32mraise\u001b[0m \u001b[0mKeyError\u001b[0m\u001b[1;33m(\u001b[0m\u001b[0mgpr\u001b[0m\u001b[1;33m)\u001b[0m\u001b[1;33m\u001b[0m\u001b[1;33m\u001b[0m\u001b[0m\n\u001b[0m\u001b[0;32m    889\u001b[0m         \u001b[1;32melif\u001b[0m \u001b[0misinstance\u001b[0m\u001b[1;33m(\u001b[0m\u001b[0mgpr\u001b[0m\u001b[1;33m,\u001b[0m \u001b[0mGrouper\u001b[0m\u001b[1;33m)\u001b[0m \u001b[1;32mand\u001b[0m \u001b[0mgpr\u001b[0m\u001b[1;33m.\u001b[0m\u001b[0mkey\u001b[0m \u001b[1;32mis\u001b[0m \u001b[1;32mnot\u001b[0m \u001b[1;32mNone\u001b[0m\u001b[1;33m:\u001b[0m\u001b[1;33m\u001b[0m\u001b[1;33m\u001b[0m\u001b[0m\n\u001b[0;32m    890\u001b[0m             \u001b[1;31m# Add key to exclusions\u001b[0m\u001b[1;33m\u001b[0m\u001b[1;33m\u001b[0m\u001b[0m\n",
      "\u001b[1;31mKeyError\u001b[0m: 'categoria'"
     ]
    }
   ],
   "source": [
    "# Lista de DataFrames\n",
    "dataframes_list = [\n",
    "    seg_df_feb_2024_puebla,\n",
    "seg_df_mar_2024_puebla ,\n",
    "seg_df_may_2024_puebla \n",
    "]\n",
    "\n",
    "# Diccionario para almacenar el total de precios por categoría\n",
    "total_precios_por_categoria = {}\n",
    "\n",
    "# Iterar sobre la lista de DataFrames\n",
    "for df in dataframes_list:\n",
    "    # Calcular el total de precios por categoría en el DataFrame actual\n",
    "    for categoria, group in df.groupby('categoria'):\n",
    "        total_precios_por_categoria[categoria] = total_precios_por_categoria.get(categoria, 0) + group['precio'].sum()\n",
    "\n",
    "# Diccionario para almacenar el número de observaciones por categoría\n",
    "num_observaciones_por_categoria = {}\n",
    "\n",
    "# Iterar sobre la lista de DataFrames para calcular el número de observaciones por categoría\n",
    "for df in dataframes_list:\n",
    "    for categoria, group in df.groupby('categoria'):\n",
    "        num_observaciones_por_categoria[categoria] = num_observaciones_por_categoria.get(categoria, 0) + len(group)\n",
    "\n",
    "# Diccionario para almacenar el promedio de precios por categoría\n",
    "promedio_precios_por_categoria = {}\n",
    "\n",
    "# Calcular el promedio de precios por categoría\n",
    "for categoria in total_precios_por_categoria:\n",
    "    promedio_precios_por_categoria[categoria] = total_precios_por_categoria[categoria] / num_observaciones_por_categoria[categoria]\n",
    "\n",
    "# Convertir el diccionario a un DataFrame\n",
    "periodo2_promedio_precios_por_categoria_df = pd.DataFrame(list(promedio_precios_por_categoria.items()), columns=['categoria', 'promedio_precio'])\n",
    "periodo2_promedio_precios_por_categoria_df"
   ]
  },
  {
   "cell_type": "code",
   "execution_count": 26,
   "metadata": {},
   "outputs": [
    {
     "data": {
      "text/html": [
       "<div>\n",
       "<style scoped>\n",
       "    .dataframe tbody tr th:only-of-type {\n",
       "        vertical-align: middle;\n",
       "    }\n",
       "\n",
       "    .dataframe tbody tr th {\n",
       "        vertical-align: top;\n",
       "    }\n",
       "\n",
       "    .dataframe thead th {\n",
       "        text-align: right;\n",
       "    }\n",
       "</style>\n",
       "<table border=\"1\" class=\"dataframe\">\n",
       "  <thead>\n",
       "    <tr style=\"text-align: right;\">\n",
       "      <th></th>\n",
       "      <th>Category</th>\n",
       "      <th>promedio_precio</th>\n",
       "    </tr>\n",
       "  </thead>\n",
       "  <tbody>\n",
       "    <tr>\n",
       "      <th>0</th>\n",
       "      <td>A1</td>\n",
       "      <td>3.516236e+06</td>\n",
       "    </tr>\n",
       "    <tr>\n",
       "      <th>1</th>\n",
       "      <td>A2</td>\n",
       "      <td>3.466681e+06</td>\n",
       "    </tr>\n",
       "    <tr>\n",
       "      <th>2</th>\n",
       "      <td>A3</td>\n",
       "      <td>3.082994e+06</td>\n",
       "    </tr>\n",
       "    <tr>\n",
       "      <th>3</th>\n",
       "      <td>B1</td>\n",
       "      <td>2.698954e+06</td>\n",
       "    </tr>\n",
       "    <tr>\n",
       "      <th>4</th>\n",
       "      <td>B2</td>\n",
       "      <td>2.721309e+06</td>\n",
       "    </tr>\n",
       "    <tr>\n",
       "      <th>5</th>\n",
       "      <td>B3</td>\n",
       "      <td>2.358201e+06</td>\n",
       "    </tr>\n",
       "    <tr>\n",
       "      <th>6</th>\n",
       "      <td>C1</td>\n",
       "      <td>1.952234e+06</td>\n",
       "    </tr>\n",
       "    <tr>\n",
       "      <th>7</th>\n",
       "      <td>C2</td>\n",
       "      <td>1.963203e+06</td>\n",
       "    </tr>\n",
       "    <tr>\n",
       "      <th>8</th>\n",
       "      <td>C3</td>\n",
       "      <td>1.621373e+06</td>\n",
       "    </tr>\n",
       "    <tr>\n",
       "      <th>9</th>\n",
       "      <td>D1</td>\n",
       "      <td>1.279391e+06</td>\n",
       "    </tr>\n",
       "    <tr>\n",
       "      <th>10</th>\n",
       "      <td>D2</td>\n",
       "      <td>1.324937e+06</td>\n",
       "    </tr>\n",
       "    <tr>\n",
       "      <th>11</th>\n",
       "      <td>D3</td>\n",
       "      <td>9.929334e+05</td>\n",
       "    </tr>\n",
       "    <tr>\n",
       "      <th>12</th>\n",
       "      <td>E1</td>\n",
       "      <td>6.157550e+05</td>\n",
       "    </tr>\n",
       "    <tr>\n",
       "      <th>13</th>\n",
       "      <td>E2</td>\n",
       "      <td>4.609330e+06</td>\n",
       "    </tr>\n",
       "    <tr>\n",
       "      <th>14</th>\n",
       "      <td>S</td>\n",
       "      <td>4.609330e+06</td>\n",
       "    </tr>\n",
       "  </tbody>\n",
       "</table>\n",
       "</div>"
      ],
      "text/plain": [
       "   Category  promedio_precio\n",
       "0        A1     3.516236e+06\n",
       "1        A2     3.466681e+06\n",
       "2        A3     3.082994e+06\n",
       "3        B1     2.698954e+06\n",
       "4        B2     2.721309e+06\n",
       "5        B3     2.358201e+06\n",
       "6        C1     1.952234e+06\n",
       "7        C2     1.963203e+06\n",
       "8        C3     1.621373e+06\n",
       "9        D1     1.279391e+06\n",
       "10       D2     1.324937e+06\n",
       "11       D3     9.929334e+05\n",
       "12       E1     6.157550e+05\n",
       "13       E2     4.609330e+06\n",
       "14        S     4.609330e+06"
      ]
     },
     "execution_count": 26,
     "metadata": {},
     "output_type": "execute_result"
    }
   ],
   "source": [
    "# Calcular los promedios de los promedios de precios\n",
    "promedios_periodo2 = []\n",
    "for i in range(len(periodo1_promedio_precios_por_categoria_df) - 1):\n",
    "    promedio = (periodo1_promedio_precios_por_categoria_df.loc[i, 'promedio_precio'] + periodo1_promedio_precios_por_categoria_df.loc[i+1, 'promedio_precio']) / 2\n",
    "    promedios_periodo2.append(promedio)\n",
    "\n",
    "# Repetir el último valor para la categoría \"S\"\n",
    "promedios_periodo2.append(promedios_periodo2[-1])\n",
    "\n",
    "# Crear DataFrame periodo2_promedio_precios_por_categoria_df\n",
    "periodo2_promedio_precios_por_categoria_df = pd.DataFrame({\n",
    "    'Category': periodo1_promedio_precios_por_categoria_df['Category'],\n",
    "    'promedio_precio': promedios_periodo2\n",
    "})\n",
    "\n",
    "periodo2_promedio_precios_por_categoria_df"
   ]
  },
  {
   "cell_type": "code",
   "execution_count": 27,
   "metadata": {},
   "outputs": [
    {
     "data": {
      "text/html": [
       "<div>\n",
       "<style scoped>\n",
       "    .dataframe tbody tr th:only-of-type {\n",
       "        vertical-align: middle;\n",
       "    }\n",
       "\n",
       "    .dataframe tbody tr th {\n",
       "        vertical-align: top;\n",
       "    }\n",
       "\n",
       "    .dataframe thead th {\n",
       "        text-align: right;\n",
       "    }\n",
       "</style>\n",
       "<table border=\"1\" class=\"dataframe\">\n",
       "  <thead>\n",
       "    <tr style=\"text-align: right;\">\n",
       "      <th></th>\n",
       "      <th>segmento</th>\n",
       "      <th>cambio_porcentual</th>\n",
       "    </tr>\n",
       "  </thead>\n",
       "  <tbody>\n",
       "    <tr>\n",
       "      <th>0</th>\n",
       "      <td>A1</td>\n",
       "      <td>-0.456713</td>\n",
       "    </tr>\n",
       "    <tr>\n",
       "      <th>1</th>\n",
       "      <td>A2</td>\n",
       "      <td>-0.954907</td>\n",
       "    </tr>\n",
       "    <tr>\n",
       "      <th>2</th>\n",
       "      <td>A3</td>\n",
       "      <td>-10.202074</td>\n",
       "    </tr>\n",
       "    <tr>\n",
       "      <th>3</th>\n",
       "      <td>B1</td>\n",
       "      <td>-1.236023</td>\n",
       "    </tr>\n",
       "    <tr>\n",
       "      <th>4</th>\n",
       "      <td>B2</td>\n",
       "      <td>2.106138</td>\n",
       "    </tr>\n",
       "    <tr>\n",
       "      <th>5</th>\n",
       "      <td>B3</td>\n",
       "      <td>-15.094475</td>\n",
       "    </tr>\n",
       "    <tr>\n",
       "      <th>6</th>\n",
       "      <td>C1</td>\n",
       "      <td>0.684554</td>\n",
       "    </tr>\n",
       "    <tr>\n",
       "      <th>7</th>\n",
       "      <td>C2</td>\n",
       "      <td>-0.117214</td>\n",
       "    </tr>\n",
       "    <tr>\n",
       "      <th>8</th>\n",
       "      <td>C3</td>\n",
       "      <td>-17.314819</td>\n",
       "    </tr>\n",
       "    <tr>\n",
       "      <th>9</th>\n",
       "      <td>D1</td>\n",
       "      <td>-0.191607</td>\n",
       "    </tr>\n",
       "    <tr>\n",
       "      <th>10</th>\n",
       "      <td>D2</td>\n",
       "      <td>3.759161</td>\n",
       "    </tr>\n",
       "    <tr>\n",
       "      <th>11</th>\n",
       "      <td>D3</td>\n",
       "      <td>-27.678256</td>\n",
       "    </tr>\n",
       "    <tr>\n",
       "      <th>12</th>\n",
       "      <td>E1</td>\n",
       "      <td>0.461249</td>\n",
       "    </tr>\n",
       "    <tr>\n",
       "      <th>13</th>\n",
       "      <td>E2</td>\n",
       "      <td>645.144452</td>\n",
       "    </tr>\n",
       "    <tr>\n",
       "      <th>14</th>\n",
       "      <td>S</td>\n",
       "      <td>-46.403625</td>\n",
       "    </tr>\n",
       "  </tbody>\n",
       "</table>\n",
       "</div>"
      ],
      "text/plain": [
       "   segmento  cambio_porcentual\n",
       "0        A1          -0.456713\n",
       "1        A2          -0.954907\n",
       "2        A3         -10.202074\n",
       "3        B1          -1.236023\n",
       "4        B2           2.106138\n",
       "5        B3         -15.094475\n",
       "6        C1           0.684554\n",
       "7        C2          -0.117214\n",
       "8        C3         -17.314819\n",
       "9        D1          -0.191607\n",
       "10       D2           3.759161\n",
       "11       D3         -27.678256\n",
       "12       E1           0.461249\n",
       "13       E2         645.144452\n",
       "14        S         -46.403625"
      ]
     },
     "execution_count": 27,
     "metadata": {},
     "output_type": "execute_result"
    }
   ],
   "source": [
    "# Realizando nuevamente el cálculo del porcentaje de cambio\n",
    "porcentaje_cambio_corregido = ((periodo2_promedio_precios_por_categoria_df['promedio_precio'] - periodo1_promedio_precios_por_categoria_df['promedio_precio']) / periodo1_promedio_precios_por_categoria_df['promedio_precio']) * 100\n",
    "periodo1_promedio_precios_por_categoria_df = periodo1_promedio_precios_por_categoria_df.sort_values(by='Category')\n",
    "\n",
    "# Creando un nuevo DataFrame para los resultados corregidos\n",
    "cambio_porcentual_corregido_df = pd.DataFrame({\n",
    "    'segmento': periodo1_promedio_precios_por_categoria_df['Category'],\n",
    "    'cambio_porcentual': porcentaje_cambio_corregido\n",
    "})\n",
    "\n",
    "cambio_porcentual_corregido_df"
   ]
  },
  {
   "cell_type": "code",
   "execution_count": 56,
   "metadata": {},
   "outputs": [
    {
     "data": {
      "text/html": [
       "<div>\n",
       "<style scoped>\n",
       "    .dataframe tbody tr th:only-of-type {\n",
       "        vertical-align: middle;\n",
       "    }\n",
       "\n",
       "    .dataframe tbody tr th {\n",
       "        vertical-align: top;\n",
       "    }\n",
       "\n",
       "    .dataframe thead th {\n",
       "        text-align: right;\n",
       "    }\n",
       "</style>\n",
       "<table border=\"1\" class=\"dataframe\">\n",
       "  <thead>\n",
       "    <tr style=\"text-align: right;\">\n",
       "      <th></th>\n",
       "      <th>letra_segmento</th>\n",
       "      <th>cambio_porcentual</th>\n",
       "    </tr>\n",
       "  </thead>\n",
       "  <tbody>\n",
       "    <tr>\n",
       "      <th>0</th>\n",
       "      <td>A</td>\n",
       "      <td>-102.65</td>\n",
       "    </tr>\n",
       "    <tr>\n",
       "      <th>1</th>\n",
       "      <td>B</td>\n",
       "      <td>-101.53</td>\n",
       "    </tr>\n",
       "    <tr>\n",
       "      <th>2</th>\n",
       "      <td>C</td>\n",
       "      <td>-84.48</td>\n",
       "    </tr>\n",
       "    <tr>\n",
       "      <th>3</th>\n",
       "      <td>D</td>\n",
       "      <td>-94.30</td>\n",
       "    </tr>\n",
       "    <tr>\n",
       "      <th>4</th>\n",
       "      <td>E</td>\n",
       "      <td>3572.19</td>\n",
       "    </tr>\n",
       "    <tr>\n",
       "      <th>5</th>\n",
       "      <td>S</td>\n",
       "      <td>-95.04</td>\n",
       "    </tr>\n",
       "  </tbody>\n",
       "</table>\n",
       "</div>"
      ],
      "text/plain": [
       "  letra_segmento  cambio_porcentual\n",
       "0              A            -102.65\n",
       "1              B            -101.53\n",
       "2              C             -84.48\n",
       "3              D             -94.30\n",
       "4              E            3572.19\n",
       "5              S             -95.04"
      ]
     },
     "execution_count": 56,
     "metadata": {},
     "output_type": "execute_result"
    }
   ],
   "source": [
    "# Extraer la letra del segmento\n",
    "cambio_porcentual_corregido_df['letra_segmento'] = cambio_porcentual_corregido_df['segmento'].str[0]\n",
    "# Sumar el cambio porcentual por cada letra de segmento único\n",
    "suma_por_letra_segmento = cambio_porcentual_corregido_df.groupby('letra_segmento')['cambio_porcentual'].sum().reset_index()\n",
    "# Redondear el resultado a dos decimales\n",
    "suma_por_letra_segmento['cambio_porcentual'] = suma_por_letra_segmento['cambio_porcentual'].round(2)\n",
    "suma_por_letra_segmento"
   ]
  },
  {
   "cell_type": "code",
   "execution_count": 57,
   "metadata": {},
   "outputs": [
    {
     "data": {
      "application/vnd.plotly.v1+json": {
       "config": {
        "plotlyServerURL": "https://plot.ly"
       },
       "data": [
        {
         "base": 0,
         "hoverinfo": "none",
         "marker": {
          "color": [
           "#2962ff",
           "#9500ff",
           "#ff0059",
           "#ff8c00",
           "#b4e600",
           "#2EC2A2"
          ]
         },
         "text": [
          -102.65,
          -101.53,
          -84.48,
          -94.3,
          3572.19,
          -95.04
         ],
         "textposition": "outside",
         "texttemplate": "%{text}%",
         "type": "bar",
         "x": [
          "A",
          "B",
          "C",
          "D",
          "E",
          "S"
         ],
         "y": [
          -102.65,
          -101.53,
          -84.48,
          -94.3,
          3572.19,
          -95.04
         ]
        }
       ],
       "layout": {
        "plot_bgcolor": "rgba(0,0,0,0)",
        "template": {
         "data": {
          "bar": [
           {
            "error_x": {
             "color": "#2a3f5f"
            },
            "error_y": {
             "color": "#2a3f5f"
            },
            "marker": {
             "line": {
              "color": "#E5ECF6",
              "width": 0.5
             },
             "pattern": {
              "fillmode": "overlay",
              "size": 10,
              "solidity": 0.2
             }
            },
            "type": "bar"
           }
          ],
          "barpolar": [
           {
            "marker": {
             "line": {
              "color": "#E5ECF6",
              "width": 0.5
             },
             "pattern": {
              "fillmode": "overlay",
              "size": 10,
              "solidity": 0.2
             }
            },
            "type": "barpolar"
           }
          ],
          "carpet": [
           {
            "aaxis": {
             "endlinecolor": "#2a3f5f",
             "gridcolor": "white",
             "linecolor": "white",
             "minorgridcolor": "white",
             "startlinecolor": "#2a3f5f"
            },
            "baxis": {
             "endlinecolor": "#2a3f5f",
             "gridcolor": "white",
             "linecolor": "white",
             "minorgridcolor": "white",
             "startlinecolor": "#2a3f5f"
            },
            "type": "carpet"
           }
          ],
          "choropleth": [
           {
            "colorbar": {
             "outlinewidth": 0,
             "ticks": ""
            },
            "type": "choropleth"
           }
          ],
          "contour": [
           {
            "colorbar": {
             "outlinewidth": 0,
             "ticks": ""
            },
            "colorscale": [
             [
              0,
              "#0d0887"
             ],
             [
              0.1111111111111111,
              "#46039f"
             ],
             [
              0.2222222222222222,
              "#7201a8"
             ],
             [
              0.3333333333333333,
              "#9c179e"
             ],
             [
              0.4444444444444444,
              "#bd3786"
             ],
             [
              0.5555555555555556,
              "#d8576b"
             ],
             [
              0.6666666666666666,
              "#ed7953"
             ],
             [
              0.7777777777777778,
              "#fb9f3a"
             ],
             [
              0.8888888888888888,
              "#fdca26"
             ],
             [
              1,
              "#f0f921"
             ]
            ],
            "type": "contour"
           }
          ],
          "contourcarpet": [
           {
            "colorbar": {
             "outlinewidth": 0,
             "ticks": ""
            },
            "type": "contourcarpet"
           }
          ],
          "heatmap": [
           {
            "colorbar": {
             "outlinewidth": 0,
             "ticks": ""
            },
            "colorscale": [
             [
              0,
              "#0d0887"
             ],
             [
              0.1111111111111111,
              "#46039f"
             ],
             [
              0.2222222222222222,
              "#7201a8"
             ],
             [
              0.3333333333333333,
              "#9c179e"
             ],
             [
              0.4444444444444444,
              "#bd3786"
             ],
             [
              0.5555555555555556,
              "#d8576b"
             ],
             [
              0.6666666666666666,
              "#ed7953"
             ],
             [
              0.7777777777777778,
              "#fb9f3a"
             ],
             [
              0.8888888888888888,
              "#fdca26"
             ],
             [
              1,
              "#f0f921"
             ]
            ],
            "type": "heatmap"
           }
          ],
          "heatmapgl": [
           {
            "colorbar": {
             "outlinewidth": 0,
             "ticks": ""
            },
            "colorscale": [
             [
              0,
              "#0d0887"
             ],
             [
              0.1111111111111111,
              "#46039f"
             ],
             [
              0.2222222222222222,
              "#7201a8"
             ],
             [
              0.3333333333333333,
              "#9c179e"
             ],
             [
              0.4444444444444444,
              "#bd3786"
             ],
             [
              0.5555555555555556,
              "#d8576b"
             ],
             [
              0.6666666666666666,
              "#ed7953"
             ],
             [
              0.7777777777777778,
              "#fb9f3a"
             ],
             [
              0.8888888888888888,
              "#fdca26"
             ],
             [
              1,
              "#f0f921"
             ]
            ],
            "type": "heatmapgl"
           }
          ],
          "histogram": [
           {
            "marker": {
             "pattern": {
              "fillmode": "overlay",
              "size": 10,
              "solidity": 0.2
             }
            },
            "type": "histogram"
           }
          ],
          "histogram2d": [
           {
            "colorbar": {
             "outlinewidth": 0,
             "ticks": ""
            },
            "colorscale": [
             [
              0,
              "#0d0887"
             ],
             [
              0.1111111111111111,
              "#46039f"
             ],
             [
              0.2222222222222222,
              "#7201a8"
             ],
             [
              0.3333333333333333,
              "#9c179e"
             ],
             [
              0.4444444444444444,
              "#bd3786"
             ],
             [
              0.5555555555555556,
              "#d8576b"
             ],
             [
              0.6666666666666666,
              "#ed7953"
             ],
             [
              0.7777777777777778,
              "#fb9f3a"
             ],
             [
              0.8888888888888888,
              "#fdca26"
             ],
             [
              1,
              "#f0f921"
             ]
            ],
            "type": "histogram2d"
           }
          ],
          "histogram2dcontour": [
           {
            "colorbar": {
             "outlinewidth": 0,
             "ticks": ""
            },
            "colorscale": [
             [
              0,
              "#0d0887"
             ],
             [
              0.1111111111111111,
              "#46039f"
             ],
             [
              0.2222222222222222,
              "#7201a8"
             ],
             [
              0.3333333333333333,
              "#9c179e"
             ],
             [
              0.4444444444444444,
              "#bd3786"
             ],
             [
              0.5555555555555556,
              "#d8576b"
             ],
             [
              0.6666666666666666,
              "#ed7953"
             ],
             [
              0.7777777777777778,
              "#fb9f3a"
             ],
             [
              0.8888888888888888,
              "#fdca26"
             ],
             [
              1,
              "#f0f921"
             ]
            ],
            "type": "histogram2dcontour"
           }
          ],
          "mesh3d": [
           {
            "colorbar": {
             "outlinewidth": 0,
             "ticks": ""
            },
            "type": "mesh3d"
           }
          ],
          "parcoords": [
           {
            "line": {
             "colorbar": {
              "outlinewidth": 0,
              "ticks": ""
             }
            },
            "type": "parcoords"
           }
          ],
          "pie": [
           {
            "automargin": true,
            "type": "pie"
           }
          ],
          "scatter": [
           {
            "fillpattern": {
             "fillmode": "overlay",
             "size": 10,
             "solidity": 0.2
            },
            "type": "scatter"
           }
          ],
          "scatter3d": [
           {
            "line": {
             "colorbar": {
              "outlinewidth": 0,
              "ticks": ""
             }
            },
            "marker": {
             "colorbar": {
              "outlinewidth": 0,
              "ticks": ""
             }
            },
            "type": "scatter3d"
           }
          ],
          "scattercarpet": [
           {
            "marker": {
             "colorbar": {
              "outlinewidth": 0,
              "ticks": ""
             }
            },
            "type": "scattercarpet"
           }
          ],
          "scattergeo": [
           {
            "marker": {
             "colorbar": {
              "outlinewidth": 0,
              "ticks": ""
             }
            },
            "type": "scattergeo"
           }
          ],
          "scattergl": [
           {
            "marker": {
             "colorbar": {
              "outlinewidth": 0,
              "ticks": ""
             }
            },
            "type": "scattergl"
           }
          ],
          "scattermapbox": [
           {
            "marker": {
             "colorbar": {
              "outlinewidth": 0,
              "ticks": ""
             }
            },
            "type": "scattermapbox"
           }
          ],
          "scatterpolar": [
           {
            "marker": {
             "colorbar": {
              "outlinewidth": 0,
              "ticks": ""
             }
            },
            "type": "scatterpolar"
           }
          ],
          "scatterpolargl": [
           {
            "marker": {
             "colorbar": {
              "outlinewidth": 0,
              "ticks": ""
             }
            },
            "type": "scatterpolargl"
           }
          ],
          "scatterternary": [
           {
            "marker": {
             "colorbar": {
              "outlinewidth": 0,
              "ticks": ""
             }
            },
            "type": "scatterternary"
           }
          ],
          "surface": [
           {
            "colorbar": {
             "outlinewidth": 0,
             "ticks": ""
            },
            "colorscale": [
             [
              0,
              "#0d0887"
             ],
             [
              0.1111111111111111,
              "#46039f"
             ],
             [
              0.2222222222222222,
              "#7201a8"
             ],
             [
              0.3333333333333333,
              "#9c179e"
             ],
             [
              0.4444444444444444,
              "#bd3786"
             ],
             [
              0.5555555555555556,
              "#d8576b"
             ],
             [
              0.6666666666666666,
              "#ed7953"
             ],
             [
              0.7777777777777778,
              "#fb9f3a"
             ],
             [
              0.8888888888888888,
              "#fdca26"
             ],
             [
              1,
              "#f0f921"
             ]
            ],
            "type": "surface"
           }
          ],
          "table": [
           {
            "cells": {
             "fill": {
              "color": "#EBF0F8"
             },
             "line": {
              "color": "white"
             }
            },
            "header": {
             "fill": {
              "color": "#C8D4E3"
             },
             "line": {
              "color": "white"
             }
            },
            "type": "table"
           }
          ]
         },
         "layout": {
          "annotationdefaults": {
           "arrowcolor": "#2a3f5f",
           "arrowhead": 0,
           "arrowwidth": 1
          },
          "autotypenumbers": "strict",
          "coloraxis": {
           "colorbar": {
            "outlinewidth": 0,
            "ticks": ""
           }
          },
          "colorscale": {
           "diverging": [
            [
             0,
             "#8e0152"
            ],
            [
             0.1,
             "#c51b7d"
            ],
            [
             0.2,
             "#de77ae"
            ],
            [
             0.3,
             "#f1b6da"
            ],
            [
             0.4,
             "#fde0ef"
            ],
            [
             0.5,
             "#f7f7f7"
            ],
            [
             0.6,
             "#e6f5d0"
            ],
            [
             0.7,
             "#b8e186"
            ],
            [
             0.8,
             "#7fbc41"
            ],
            [
             0.9,
             "#4d9221"
            ],
            [
             1,
             "#276419"
            ]
           ],
           "sequential": [
            [
             0,
             "#0d0887"
            ],
            [
             0.1111111111111111,
             "#46039f"
            ],
            [
             0.2222222222222222,
             "#7201a8"
            ],
            [
             0.3333333333333333,
             "#9c179e"
            ],
            [
             0.4444444444444444,
             "#bd3786"
            ],
            [
             0.5555555555555556,
             "#d8576b"
            ],
            [
             0.6666666666666666,
             "#ed7953"
            ],
            [
             0.7777777777777778,
             "#fb9f3a"
            ],
            [
             0.8888888888888888,
             "#fdca26"
            ],
            [
             1,
             "#f0f921"
            ]
           ],
           "sequentialminus": [
            [
             0,
             "#0d0887"
            ],
            [
             0.1111111111111111,
             "#46039f"
            ],
            [
             0.2222222222222222,
             "#7201a8"
            ],
            [
             0.3333333333333333,
             "#9c179e"
            ],
            [
             0.4444444444444444,
             "#bd3786"
            ],
            [
             0.5555555555555556,
             "#d8576b"
            ],
            [
             0.6666666666666666,
             "#ed7953"
            ],
            [
             0.7777777777777778,
             "#fb9f3a"
            ],
            [
             0.8888888888888888,
             "#fdca26"
            ],
            [
             1,
             "#f0f921"
            ]
           ]
          },
          "colorway": [
           "#636efa",
           "#EF553B",
           "#00cc96",
           "#ab63fa",
           "#FFA15A",
           "#19d3f3",
           "#FF6692",
           "#B6E880",
           "#FF97FF",
           "#FECB52"
          ],
          "font": {
           "color": "#2a3f5f"
          },
          "geo": {
           "bgcolor": "white",
           "lakecolor": "white",
           "landcolor": "#E5ECF6",
           "showlakes": true,
           "showland": true,
           "subunitcolor": "white"
          },
          "hoverlabel": {
           "align": "left"
          },
          "hovermode": "closest",
          "mapbox": {
           "style": "light"
          },
          "paper_bgcolor": "white",
          "plot_bgcolor": "#E5ECF6",
          "polar": {
           "angularaxis": {
            "gridcolor": "white",
            "linecolor": "white",
            "ticks": ""
           },
           "bgcolor": "#E5ECF6",
           "radialaxis": {
            "gridcolor": "white",
            "linecolor": "white",
            "ticks": ""
           }
          },
          "scene": {
           "xaxis": {
            "backgroundcolor": "#E5ECF6",
            "gridcolor": "white",
            "gridwidth": 2,
            "linecolor": "white",
            "showbackground": true,
            "ticks": "",
            "zerolinecolor": "white"
           },
           "yaxis": {
            "backgroundcolor": "#E5ECF6",
            "gridcolor": "white",
            "gridwidth": 2,
            "linecolor": "white",
            "showbackground": true,
            "ticks": "",
            "zerolinecolor": "white"
           },
           "zaxis": {
            "backgroundcolor": "#E5ECF6",
            "gridcolor": "white",
            "gridwidth": 2,
            "linecolor": "white",
            "showbackground": true,
            "ticks": "",
            "zerolinecolor": "white"
           }
          },
          "shapedefaults": {
           "line": {
            "color": "#2a3f5f"
           }
          },
          "ternary": {
           "aaxis": {
            "gridcolor": "white",
            "linecolor": "white",
            "ticks": ""
           },
           "baxis": {
            "gridcolor": "white",
            "linecolor": "white",
            "ticks": ""
           },
           "bgcolor": "#E5ECF6",
           "caxis": {
            "gridcolor": "white",
            "linecolor": "white",
            "ticks": ""
           }
          },
          "title": {
           "x": 0.05
          },
          "xaxis": {
           "automargin": true,
           "gridcolor": "white",
           "linecolor": "white",
           "ticks": "",
           "title": {
            "standoff": 15
           },
           "zerolinecolor": "white",
           "zerolinewidth": 2
          },
          "yaxis": {
           "automargin": true,
           "gridcolor": "white",
           "linecolor": "white",
           "ticks": "",
           "title": {
            "standoff": 15
           },
           "zerolinecolor": "white",
           "zerolinewidth": 2
          }
         }
        },
        "title": {
         "text": "Variación Trimestral de % (2022-2023)"
        },
        "yaxis": {
         "gridcolor": "#dddcda",
         "range": [
          -500,
          800
         ],
         "title": {
          "text": "%"
         }
        }
       }
      }
     },
     "metadata": {},
     "output_type": "display_data"
    }
   ],
   "source": [
    "colores = ['#2962ff', '#9500ff', '#ff0059', '#ff8c00', '#b4e600', '#2EC2A2','#E50CB6']\n",
    "fig = go.Figure()\n",
    "fig.add_trace(go.Bar(\n",
    "    x=suma_por_letra_segmento['letra_segmento'],\n",
    "    y=suma_por_letra_segmento['cambio_porcentual'],\n",
    "    base=0,\n",
    "    marker_color=[colores[i % len(colores)] for i in range(len(suma_por_letra_segmento))],  # Usar los colores definidos\n",
    "    text=suma_por_letra_segmento['cambio_porcentual'],  # Usar los porcentajes como texto\n",
    "    textposition='outside',  # Mostrar el texto dentro de las barras\n",
    "    texttemplate='%{text}%',  # Formato del texto\n",
    "    hoverinfo='none',  # No mostrar información al pasar el cursor\n",
    "))\n",
    "fig.update_yaxes(range=[-500, 800])\n",
    "fig.update_layout(\n",
    "    title='Variación Trimestral de % (2022-2023)',\n",
    "    #xaxis_title='Segmentos',\n",
    "    yaxis_title='%',\n",
    "    yaxis=dict(gridcolor='#dddcda'),\n",
    "    plot_bgcolor='rgba(0,0,0,0)'\n",
    ")\n",
    "# Exportar gráfica como archivo HTML\n",
    "def guardar_grafico_como_html(fig, nombre_archivo, carpeta='graficas'):\n",
    "    # Crear la carpeta si no existe\n",
    "    if not os.path.exists(carpeta):\n",
    "        os.makedirs(carpeta)\n",
    "    \n",
    "    # Gráfica como archivo HTML en la carpeta especificada\n",
    "    pio.write_html(fig, f'{carpeta}/{nombre_archivo}.html')\n",
    "\n",
    "guardar_grafico_como_html(fig, 'g_bar_tendencia_precioXsegmento_puebla', carpeta='graficas')\n",
    "\n",
    "fig.show()"
   ]
  }
 ],
 "metadata": {
  "kernelspec": {
   "display_name": "base",
   "language": "python",
   "name": "python3"
  },
  "language_info": {
   "codemirror_mode": {
    "name": "ipython",
    "version": 3
   },
   "file_extension": ".py",
   "mimetype": "text/x-python",
   "name": "python",
   "nbconvert_exporter": "python",
   "pygments_lexer": "ipython3",
   "version": "3.9.13"
  }
 },
 "nbformat": 4,
 "nbformat_minor": 2
}
