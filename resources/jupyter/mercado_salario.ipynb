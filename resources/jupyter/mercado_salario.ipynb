{
 "cells": [
  {
   "cell_type": "markdown",
   "metadata": {},
   "source": [
    "# **Mercado salarial**"
   ]
  },
  {
   "cell_type": "code",
   "execution_count": 10,
   "metadata": {},
   "outputs": [
    {
     "name": "stdout",
     "output_type": "stream",
     "text": [
      "Lista de DataFrames creados:\n",
      "['df_volumen_ms_parejas', 'df_alfa_q_feb_2023_pachuca', 'df_alfa_q_jul_2022_tulancingo', 'df_alfa_q_jul_2023_pachuca', 'df_alfa_q_jul_2023_tulancingo', 'df_alfa_q_jun_2023_pachuca', 'df_alfa_q_jun_2023_tulancingo', 'df_alfa_q_mar_2023_pachuca', 'df_alfa_q_mar_2023_tulancingo', 'df_alfa_q_may_2022_tulancingo', 'df_alfa_q_may_2023_tulancingo', 'df_alfa_q_nov_2022_pachuca', 'df_alfa_q_oct_2022_pachuca', 'df_alfa_q_oct_2022_tulancingo', 'df_alfa_q_oct_2023_tulancingo', 'df_alfa_q_puebla', 'df_alfa_q_sep_2023_pachuca', 'df_alfa_q_sep_2023_tulancingo', 'df_enero_2024_querertaro', 'df_feb_2024_puebla', 'df_financiamientos_2019_pachuca', 'df_financiamientos_2019_puebla', 'df_financiamientos_2019_tulancingo', 'df_financiamientos_2020_pachuca', 'df_financiamientos_2020_puebla', 'df_financiamientos_2020_tulancingo', 'df_financiamientos_2021_pachuca', 'df_financiamientos_2021_puebla', 'df_financiamientos_2021_tulancingo', 'df_financiamientos_2022_pachuca', 'df_financiamientos_2022_puebla', 'df_financiamientos_2022_tulancingo', 'df_financiamientos_2023_pachuca', 'df_financiamientos_2023_puebla', 'df_financiamientos_2023_tulancingo', 'df_financiamientos_2024_puebla', 'df_grupos_edad_pachuca', 'df_grupos_edad_puebla', 'df_grupos_edad_queretaro', 'df_grupos_edad_tulancingo', 'df_jul_2023_puebla', 'df_junio_2023_queretaro', 'df_mar_2024_puebla', 'df_may_2024_puebla', 'df_publicacion_pachuca', 'df_publicacion_puebla', 'df_salarios_pachuca', 'df_salarios_puebla', 'df_sep_2023_puebla', 'df_tiempo_dias_tulancingo', 'df_usuarios']\n"
     ]
    }
   ],
   "source": [
    "# Manejo de datos\n",
    "import os # Directorios\n",
    "import pandas as pd # Manipulación df\n",
    "# Gráficas\n",
    "import plotly.graph_objects as go #Para obtener librería usar: pip install plotly\n",
    "from plotly.subplots import make_subplots\n",
    "import plotly.io as pio # Exportar gráfica\n",
    "\n",
    "# Obtener el directorio actual de trabajo\n",
    "directorio_actual = os.getcwd()\n",
    "# Directorio donde se encuentran los archivos JSON (ruta relativa)\n",
    "directorio_json = os.path.join(directorio_actual, 'datos_json')\n",
    "#print(\"Directorio JSON relativo:\", directorio_json)\n",
    "# Obtener la lista de archivos JSON en el directorio\n",
    "archivos_json = os.listdir(directorio_json)\n",
    "\n",
    "dataframes = {}\n",
    "# Iterar sobre cada archivo JSON y crear un DataFrame\n",
    "for archivo in archivos_json:\n",
    "    # Obtener el nombre de la tabla del nombre del archivo\n",
    "    nombre_tabla = archivo.replace('datos_', '').replace('.json', '')    \n",
    "    # Cargar el archivo JSON en un DataFrame y asignarlo a una variable con un nombre dinámico\n",
    "    ruta_json = os.path.join(directorio_json, archivo)\n",
    "    globals()[f\"df_{nombre_tabla}\"] = pd.read_json(ruta_json)\n",
    "\n",
    "# Obtener todos los nombres de las variables globales\n",
    "nombres_variables_globales = list(globals().keys())\n",
    "# Filtrar los nombres, solo aquellos que comienzan con \"df_\"\n",
    "nombres_df = [nombre for nombre in nombres_variables_globales if nombre.startswith(\"df_\")]\n",
    "\n",
    "# Lista de nombres de los DataFrames creados\n",
    "print(\"Lista de DataFrames creados:\")\n",
    "print(nombres_df)\n",
    "dfs_list = nombres_df"
   ]
  },
  {
   "cell_type": "markdown",
   "metadata": {},
   "source": [
    "__________\n",
    "# ***Volumen del mercado salarial de parejas***"
   ]
  },
  {
   "cell_type": "markdown",
   "metadata": {},
   "source": [
    "## *PACHUCA*"
   ]
  },
  {
   "cell_type": "code",
   "execution_count": 17,
   "metadata": {},
   "outputs": [],
   "source": [
    "# Crea los DataFrames para cada archivo con las columnas necesarias\n",
    "pareja_df_salarios_pachuca = df_salarios_pachuca[['id_salarios','Volumen', 'Pareja','Categoria_Pareja']]"
   ]
  },
  {
   "cell_type": "code",
   "execution_count": 18,
   "metadata": {},
   "outputs": [
    {
     "name": "stdout",
     "output_type": "stream",
     "text": [
      "DataFrame para Categoria_Pareja 'A':\n",
      "     id_salarios     Volumen   Pareja Categoria_Pareja\n",
      "330          331  62760000.0  50700.0                A\n",
      "DataFrame para Categoria_Pareja 'A1':\n",
      "     id_salarios     Volumen    Pareja Categoria_Pareja\n",
      "331          332  7140000.00  57460.00               A1\n",
      "332          333  7223929.11  58413.59               A1\n",
      "DataFrame para Categoria_Pareja 'B':\n",
      "     id_salarios    Volumen   Pareja Categoria_Pareja\n",
      "329          330  5160000.0  43602.0                B\n",
      "DataFrame para Categoria_Pareja 'C':\n",
      "     id_salarios      Volumen    Pareja Categoria_Pareja\n",
      "321          322  10512000.00  30420.00                C\n",
      "322          323   8406999.99  30819.59                C\n",
      "323          324  18620000.00  33800.00                C\n",
      "DataFrame para Categoria_Pareja 'C1':\n",
      "     id_salarios      Volumen    Pareja Categoria_Pareja\n",
      "324          325  16963500.00  36335.00               C1\n",
      "325          326  40704876.35  36436.04               C1\n",
      "326          327  23070629.63  37381.94               C1\n",
      "327          328   7959599.99  37679.90               C1\n",
      "328          329  30080790.73  37966.05               C1\n",
      "DataFrame para Categoria_Pareja 'D':\n",
      "     id_salarios      Volumen    Pareja Categoria_Pareja\n",
      "301          302   3384800.01  20141.94                D\n",
      "302          303   2652000.00  20280.00                D\n",
      "303          304  15552000.00  20280.00                D\n",
      "304          305  11393599.98  20929.55                D\n",
      "305          306  44314332.83  21036.86                D\n",
      "306          307  30545784.06  21708.32                D\n",
      "307          308   6174000.00  22295.00                D\n",
      "308          309  32687550.09  22658.72                D\n",
      "309          310  11040000.00  23322.00                D\n",
      "310          311  21350999.97  24748.42                D\n",
      "311          312  18936000.06  24846.15                D\n",
      "DataFrame para Categoria_Pareja 'D1':\n",
      "     id_salarios      Volumen    Pareja Categoria_Pareja\n",
      "312          313   3405000.00  25350.00               D1\n",
      "313          314   3825000.00  25350.00               D1\n",
      "314          315  24059180.26  26873.77               D1\n",
      "315          316  76742152.72  26991.52               D1\n",
      "316          317  95612000.02  27415.05               D1\n",
      "317          318  12019000.00  28730.00               D1\n",
      "318          319  16632400.00  29068.00               D1\n",
      "319          320  20134493.69  29207.98               D1\n",
      "320          321  31683441.30  29259.57               D1\n",
      "DataFrame para Categoria_Pareja 'E':\n",
      "     id_salarios       Volumen    Pareja Categoria_Pareja\n",
      "240          241  1.126485e+07  12227.10                E\n",
      "241          242  2.818811e+07  12271.48                E\n",
      "242          243  1.264630e+06  12353.90                E\n",
      "243          244  2.105550e+07  12355.49                E\n",
      "244          245  6.653015e+06  12410.15                E\n",
      "245          246  2.190711e+07  12448.90                E\n",
      "246          247  4.877232e+06  12564.82                E\n",
      "247          248  6.340205e+07  12623.64                E\n",
      "248          249  7.384802e+07  12685.83                E\n",
      "249          250  1.114520e+08  12701.72                E\n",
      "250          251  6.300360e+06  13080.60                E\n",
      "251          252  1.507902e+07  13210.76                E\n",
      "252          253  1.593706e+06  13399.81                E\n",
      "253          254  2.096871e+07  13479.32                E\n",
      "254          255  4.334308e+07  13529.70                E\n",
      "255          256  4.838890e+07  13530.32                E\n",
      "256          257  1.254719e+07  13733.65                E\n",
      "257          258  1.209160e+06  13807.30                E\n",
      "258          259  1.000820e+07  14189.48                E\n",
      "259          260  6.586646e+06  14271.07                E\n",
      "260          261  1.903045e+06  14293.99                E\n",
      "261          262  4.127666e+07  14323.93                E\n",
      "262          263  2.488048e+07  14444.52                E\n",
      "263          264  4.262160e+06  14522.28                E\n",
      "264          265  7.146600e+06  14534.00                E\n",
      "265          266  4.128000e+06  14534.00                E\n",
      "266          267  1.696108e+08  14676.27                E\n",
      "267          268  2.234441e+07  14687.69                E\n",
      "268          269  1.639891e+07  14948.31                E\n",
      "269          270  7.343381e+06  15190.10                E\n",
      "270          271  8.648209e+07  15376.61                E\n",
      "271          272  6.718320e+06  15532.09                E\n",
      "272          273  2.161247e+07  15676.00                E\n",
      "273          274  5.636966e+06  15694.35                E\n",
      "274          275  1.205979e+07  15860.74                E\n",
      "275          276  1.733760e+07  15889.67                E\n",
      "DataFrame para Categoria_Pareja 'E1':\n",
      "     id_salarios       Volumen    Pareja Categoria_Pareja\n",
      "276          277  1.327680e+07  16015.55               E1\n",
      "277          278  2.755955e+07  16066.11               E1\n",
      "278          279  3.092689e+07  16091.88               E1\n",
      "279          280  1.366835e+07  16221.57               E1\n",
      "280          281  2.044800e+06  16224.00               E1\n",
      "281          282  1.646400e+06  16562.00               E1\n",
      "282          283  1.300800e+07  16742.97               E1\n",
      "283          284  1.125600e+07  16834.19               E1\n",
      "284          285  2.590000e+06  16900.00               E1\n",
      "285          286  7.310000e+06  16900.00               E1\n",
      "286          287  4.813150e+06  17052.88               E1\n",
      "287          288  7.226580e+06  17081.01               E1\n",
      "288          289  4.462301e+06  17139.29               E1\n",
      "289          290  9.337020e+06  17207.81               E1\n",
      "290          291  6.106820e+06  17229.59               E1\n",
      "291          292  1.767857e+07  17360.13               E1\n",
      "292          293  5.460140e+07  17361.50               E1\n",
      "293          294  2.150500e+07  17472.81               E1\n",
      "294          295  1.786650e+07  17792.80               E1\n",
      "295          296  4.730000e+06  18590.00               E1\n",
      "296          297  3.242673e+07  18729.04               E1\n",
      "297          298  1.152240e+07  18942.47               E1\n",
      "298          299  1.208526e+08  19114.74               E1\n",
      "299          300  1.958392e+07  19583.92               E1\n",
      "300          301  2.414880e+06  19620.90               E1\n",
      "DataFrame para Categoria_Pareja 'F':\n",
      "     id_salarios      Volumen   Pareja Categoria_Pareja\n",
      "56            57  10888570.00  5034.66                F\n",
      "57            58    570000.00  5070.00                F\n",
      "58            59   2349000.00  5070.00                F\n",
      "59            60   1248000.00  5070.00                F\n",
      "60            61    960000.00  5070.00                F\n",
      "..           ...          ...      ...              ...\n",
      "139          140  63465585.44  7841.56                F\n",
      "140          141   5011040.00  7855.90                F\n",
      "141          142  11782236.94  7904.72                F\n",
      "142          143  64348287.77  7944.23                F\n",
      "143          144   3333900.96  7946.82                F\n",
      "\n",
      "[88 rows x 4 columns]\n",
      "DataFrame para Categoria_Pareja 'F1':\n",
      "     id_salarios       Volumen    Pareja Categoria_Pareja\n",
      "144          145  2.506664e+07   8066.00               F1\n",
      "145          146  2.760000e+06   8083.88               F1\n",
      "146          147  2.109300e+07   8090.60               F1\n",
      "147          148  4.155407e+06   8090.60               F1\n",
      "148          149  3.115907e+06   8101.36               F1\n",
      "..           ...           ...       ...              ...\n",
      "235          236  1.046500e+07  11830.00               F1\n",
      "236          237  2.296000e+06  11830.00               F1\n",
      "237          238  1.046490e+07  11845.73               F1\n",
      "238          239  7.511350e+06  11863.72               F1\n",
      "239          240  2.214070e+08  11897.17               F1\n",
      "\n",
      "[96 rows x 4 columns]\n",
      "DataFrame para Categoria_Pareja 'G':\n",
      "    id_salarios       Volumen   Pareja Categoria_Pareja\n",
      "0             1  1.122300e+06   412.86                G\n",
      "1             2  6.090617e+06  1166.10                G\n",
      "2             3  2.746934e+05  1381.64                G\n",
      "3             4  5.687460e+05  1645.86                G\n",
      "4             5  7.170000e+05  1690.00                G\n",
      "5             6  8.170000e+05  1690.00                G\n",
      "6             7  9.520000e+05  1690.00                G\n",
      "7             8  1.519985e+08  1780.75                G\n",
      "8             9  5.010040e+05  2085.46                G\n",
      "9            10  1.609396e+07  2085.80                G\n",
      "10           11  1.537680e+06  2180.10                G\n",
      "11           12  8.528000e+05  2197.00                G\n",
      "12           13  7.878000e+05  2197.00                G\n",
      "13           14  5.645441e+05  2244.89                G\n",
      "14           15  5.684000e+05  2366.00                G\n",
      "15           16  1.029348e+06  2464.02                G\n",
      "16           17  1.883400e+06  2473.15                G\n",
      "17           18  2.250000e+05  2535.00                G\n",
      "18           19  9.885000e+05  2535.00                G\n",
      "19           20  3.150000e+05  2535.00                G\n",
      "20           21  3.477173e+06  2648.23                G\n",
      "21           22  1.983684e+06  2652.24                G\n",
      "22           23  4.235070e+06  2668.63                G\n",
      "23           24  2.426791e+07  2798.55                G\n",
      "24           25  1.000000e+06  2811.98                G\n",
      "25           26  3.785041e+07  3096.48                G\n",
      "26           27  6.012482e+07  3186.99                G\n",
      "27           28  9.273380e+06  3205.57                G\n",
      "28           29  2.790742e+06  3217.16                G\n",
      "29           30  1.007208e+07  3223.83                G\n",
      "30           31  7.372503e+07  3268.85                G\n",
      "31           32  3.560000e+05  3380.00                G\n",
      "32           33  3.732000e+06  3380.00                G\n",
      "33           34  3.697026e+07  3450.59                G\n",
      "34           35  8.647730e+06  3468.94                G\n",
      "35           36  2.038200e+06  3493.47                G\n",
      "36           37  1.264960e+07  3579.68                G\n",
      "37           38  2.500026e+06  3589.67                G\n",
      "38           39  3.719500e+05  3633.50                G\n",
      "39           40  1.330420e+06  3766.18                G\n",
      "40           41  7.717905e+06  3849.84                G\n",
      "41           42  4.897291e+07  4121.31                G\n",
      "42           43  1.484280e+06  4201.73                G\n",
      "43           44  2.907000e+06  4279.47                G\n",
      "44           45  2.829525e+07  4287.93                G\n",
      "45           46  1.566000e+06  4289.37                G\n",
      "46           47  2.652805e+07  4317.03                G\n",
      "47           48  6.484648e+08  4330.77                G\n",
      "48           49  8.404350e+06  4405.51                G\n",
      "49           50  1.344949e+06  4500.92                G\n",
      "50           51  1.427043e+07  4575.42                G\n",
      "51           52  3.408000e+06  4578.31                G\n",
      "52           53  5.192250e+06  4589.38                G\n",
      "53           54  8.412950e+05  4723.55                G\n",
      "54           55  5.862570e+08  4870.37                G\n",
      "55           56  4.661741e+07  4988.82                G\n"
     ]
    }
   ],
   "source": [
    "# Crea un diccionario para almacenar los DataFrames de cada categoría única\n",
    "dataframes_por_categoria = {}\n",
    "\n",
    "# Itera sobre los grupos creados por groupby()\n",
    "for categoria, grupo in pareja_df_salarios_pachuca.groupby('Categoria_Pareja'):\n",
    "    # Almacena el DataFrame del grupo en el diccionario\n",
    "    dataframes_por_categoria[categoria] = grupo\n",
    "\n",
    "# Itera sobre las claves del diccionario dataframes_por_categoria\n",
    "for categoria in dataframes_por_categoria:\n",
    "    # Imprime la categoría actual\n",
    "    print(\"DataFrame para Categoria_Pareja '{}':\".format(categoria))\n",
    "    # Imprime el DataFrame correspondiente a la categoría actual\n",
    "    print(dataframes_por_categoria[categoria])\n"
   ]
  },
  {
   "cell_type": "code",
   "execution_count": 19,
   "metadata": {},
   "outputs": [
    {
     "name": "stdout",
     "output_type": "stream",
     "text": [
      "DataFrame con las sumas del volumen por categoría:\n"
     ]
    },
    {
     "data": {
      "text/html": [
       "<div>\n",
       "<style scoped>\n",
       "    .dataframe tbody tr th:only-of-type {\n",
       "        vertical-align: middle;\n",
       "    }\n",
       "\n",
       "    .dataframe tbody tr th {\n",
       "        vertical-align: top;\n",
       "    }\n",
       "\n",
       "    .dataframe thead th {\n",
       "        text-align: right;\n",
       "    }\n",
       "</style>\n",
       "<table border=\"1\" class=\"dataframe\">\n",
       "  <thead>\n",
       "    <tr style=\"text-align: right;\">\n",
       "      <th></th>\n",
       "      <th>Suma_Volumen</th>\n",
       "    </tr>\n",
       "  </thead>\n",
       "  <tbody>\n",
       "    <tr>\n",
       "      <th>G</th>\n",
       "      <td>1,917,556,675.26</td>\n",
       "    </tr>\n",
       "    <tr>\n",
       "      <th>F</th>\n",
       "      <td>4,638,065,608.63</td>\n",
       "    </tr>\n",
       "    <tr>\n",
       "      <th>F1</th>\n",
       "      <td>4,190,311,696.11</td>\n",
       "    </tr>\n",
       "    <tr>\n",
       "      <th>E</th>\n",
       "      <td>959,079,093.57</td>\n",
       "    </tr>\n",
       "    <tr>\n",
       "      <th>E1</th>\n",
       "      <td>458,414,693.48</td>\n",
       "    </tr>\n",
       "    <tr>\n",
       "      <th>D</th>\n",
       "      <td>198,031,067.00</td>\n",
       "    </tr>\n",
       "    <tr>\n",
       "      <th>D1</th>\n",
       "      <td>284,112,667.99</td>\n",
       "    </tr>\n",
       "    <tr>\n",
       "      <th>C</th>\n",
       "      <td>37,538,999.99</td>\n",
       "    </tr>\n",
       "    <tr>\n",
       "      <th>C1</th>\n",
       "      <td>118,779,396.70</td>\n",
       "    </tr>\n",
       "    <tr>\n",
       "      <th>B</th>\n",
       "      <td>5,160,000.00</td>\n",
       "    </tr>\n",
       "    <tr>\n",
       "      <th>B1</th>\n",
       "      <td>0.00</td>\n",
       "    </tr>\n",
       "    <tr>\n",
       "      <th>A</th>\n",
       "      <td>62,760,000.00</td>\n",
       "    </tr>\n",
       "    <tr>\n",
       "      <th>A1</th>\n",
       "      <td>14,363,929.11</td>\n",
       "    </tr>\n",
       "    <tr>\n",
       "      <th>S</th>\n",
       "      <td>0.00</td>\n",
       "    </tr>\n",
       "  </tbody>\n",
       "</table>\n",
       "</div>"
      ],
      "text/plain": [
       "       Suma_Volumen\n",
       "G  1,917,556,675.26\n",
       "F  4,638,065,608.63\n",
       "F1 4,190,311,696.11\n",
       "E    959,079,093.57\n",
       "E1   458,414,693.48\n",
       "D    198,031,067.00\n",
       "D1   284,112,667.99\n",
       "C     37,538,999.99\n",
       "C1   118,779,396.70\n",
       "B      5,160,000.00\n",
       "B1             0.00\n",
       "A     62,760,000.00\n",
       "A1    14,363,929.11\n",
       "S              0.00"
      ]
     },
     "execution_count": 19,
     "metadata": {},
     "output_type": "execute_result"
    }
   ],
   "source": [
    "sumas_volumen_por_categoria = {}\n",
    "\n",
    "# Itera sobre el diccionario de DataFrames\n",
    "for categoria, df in dataframes_por_categoria.items():\n",
    "    suma_volumen = df['Volumen'].sum() # Calcula la suma del volumen para cada DataFrame    \n",
    "    sumas_volumen_por_categoria[categoria] = suma_volumen # Guarda la suma del volumen en el diccionario\n",
    "\n",
    "# Convierte el diccionario de sumas en un DataFrame\n",
    "df_sumas_volumen = pd.DataFrame.from_dict(sumas_volumen_por_categoria, orient='index', columns=['Suma_Volumen'])\n",
    "# Mantener orden\n",
    "nuevo_orden = ['G', 'F', 'F1', 'E', 'E1', 'D', 'D1', 'C', 'C1', 'B', 'B1', 'A', 'A1', 'S']\n",
    "df_sumas_volumen = df_sumas_volumen.reindex(nuevo_orden)\n",
    "df_sumas_volumen['Suma_Volumen'] = df_sumas_volumen['Suma_Volumen'].fillna(0)\n",
    "\n",
    "#pd.set_option('display.float_format', lambda x: '%.2f' % x) # Mostar números sin notación científica\n",
    "pd.options.display.float_format = '{:,.2f}'.format # Mostrar comas como separadores de miles y dos decimales\n",
    "\n",
    "print(\"DataFrame con las sumas del volumen por categoría:\")\n",
    "df_sumas_volumen"
   ]
  },
  {
   "cell_type": "code",
   "execution_count": 20,
   "metadata": {},
   "outputs": [
    {
     "data": {
      "text/html": [
       "<div>\n",
       "<style scoped>\n",
       "    .dataframe tbody tr th:only-of-type {\n",
       "        vertical-align: middle;\n",
       "    }\n",
       "\n",
       "    .dataframe tbody tr th {\n",
       "        vertical-align: top;\n",
       "    }\n",
       "\n",
       "    .dataframe thead th {\n",
       "        text-align: right;\n",
       "    }\n",
       "</style>\n",
       "<table border=\"1\" class=\"dataframe\">\n",
       "  <thead>\n",
       "    <tr style=\"text-align: right;\">\n",
       "      <th></th>\n",
       "      <th>Suma_Volumen</th>\n",
       "      <th>Label</th>\n",
       "    </tr>\n",
       "  </thead>\n",
       "  <tbody>\n",
       "    <tr>\n",
       "      <th>G</th>\n",
       "      <td>1,917,556,675.26</td>\n",
       "      <td>&lt;5000 G</td>\n",
       "    </tr>\n",
       "    <tr>\n",
       "      <th>F</th>\n",
       "      <td>4,638,065,608.63</td>\n",
       "      <td>&lt;5-8K F</td>\n",
       "    </tr>\n",
       "    <tr>\n",
       "      <th>F1</th>\n",
       "      <td>4,190,311,696.11</td>\n",
       "      <td>8-12K F1</td>\n",
       "    </tr>\n",
       "    <tr>\n",
       "      <th>E</th>\n",
       "      <td>959,079,093.57</td>\n",
       "      <td>12-16K E</td>\n",
       "    </tr>\n",
       "    <tr>\n",
       "      <th>E1</th>\n",
       "      <td>458,414,693.48</td>\n",
       "      <td>16-20K E1</td>\n",
       "    </tr>\n",
       "    <tr>\n",
       "      <th>D</th>\n",
       "      <td>198,031,067.00</td>\n",
       "      <td>20-25K D</td>\n",
       "    </tr>\n",
       "    <tr>\n",
       "      <th>D1</th>\n",
       "      <td>284,112,667.99</td>\n",
       "      <td>25-30K D1</td>\n",
       "    </tr>\n",
       "    <tr>\n",
       "      <th>C</th>\n",
       "      <td>37,538,999.99</td>\n",
       "      <td>30-35K C</td>\n",
       "    </tr>\n",
       "    <tr>\n",
       "      <th>C1</th>\n",
       "      <td>118,779,396.70</td>\n",
       "      <td>35-40K C1</td>\n",
       "    </tr>\n",
       "    <tr>\n",
       "      <th>B</th>\n",
       "      <td>5,160,000.00</td>\n",
       "      <td>40-45K B</td>\n",
       "    </tr>\n",
       "    <tr>\n",
       "      <th>B1</th>\n",
       "      <td>0.00</td>\n",
       "      <td>45-50K B1</td>\n",
       "    </tr>\n",
       "    <tr>\n",
       "      <th>A</th>\n",
       "      <td>62,760,000.00</td>\n",
       "      <td>50-55K A</td>\n",
       "    </tr>\n",
       "    <tr>\n",
       "      <th>A1</th>\n",
       "      <td>14,363,929.11</td>\n",
       "      <td>55-60K A1</td>\n",
       "    </tr>\n",
       "    <tr>\n",
       "      <th>S</th>\n",
       "      <td>0.00</td>\n",
       "      <td>60K S+</td>\n",
       "    </tr>\n",
       "  </tbody>\n",
       "</table>\n",
       "</div>"
      ],
      "text/plain": [
       "       Suma_Volumen      Label\n",
       "G  1,917,556,675.26    <5000 G\n",
       "F  4,638,065,608.63    <5-8K F\n",
       "F1 4,190,311,696.11   8-12K F1\n",
       "E    959,079,093.57   12-16K E\n",
       "E1   458,414,693.48  16-20K E1\n",
       "D    198,031,067.00   20-25K D\n",
       "D1   284,112,667.99  25-30K D1\n",
       "C     37,538,999.99   30-35K C\n",
       "C1   118,779,396.70  35-40K C1\n",
       "B      5,160,000.00   40-45K B\n",
       "B1             0.00  45-50K B1\n",
       "A     62,760,000.00   50-55K A\n",
       "A1    14,363,929.11  55-60K A1\n",
       "S              0.00     60K S+"
      ]
     },
     "execution_count": 20,
     "metadata": {},
     "output_type": "execute_result"
    }
   ],
   "source": [
    "df_volumen_ms_parejas = df_sumas_volumen[['Suma_Volumen']]\n",
    "df_volumen_ms_parejas['Label'] = ['<5000 G','<5-8K F','8-12K F1','12-16K E','16-20K E1','20-25K D','25-30K D1','30-35K C','35-40K C1','40-45K B','45-50K B1','50-55K A','55-60K A1','60K S+']\n",
    "df_volumen_ms_parejas"
   ]
  },
  {
   "cell_type": "code",
   "execution_count": 23,
   "metadata": {},
   "outputs": [
    {
     "data": {
      "application/vnd.plotly.v1+json": {
       "config": {
        "plotlyServerURL": "https://plot.ly"
       },
       "data": [
        {
         "marker": {
          "color": [
           "#2962ff",
           "#9500ff",
           "#ff0059",
           "#ff8c00",
           "#b4e600",
           "#2EC2A2",
           "#E50CB6",
           "#4225CF",
           "#2CBA4D",
           "#2962ff",
           "#9500ff",
           "#ff0059"
          ]
         },
         "text": [
          "1,917,556,675.26",
          "4,638,065,608.63",
          "4,190,311,696.11",
          "959,079,093.57",
          "458,414,693.48",
          "198,031,067.00",
          "284,112,667.99",
          "37,538,999.99",
          "118,779,396.70",
          "5,160,000.00",
          "0.00",
          "62,760,000.00",
          "14,363,929.11",
          "0.00"
         ],
         "textposition": "outside",
         "type": "bar",
         "x": [
          "<5000 G",
          "<5-8K F",
          "8-12K F1",
          "12-16K E",
          "16-20K E1",
          "20-25K D",
          "25-30K D1",
          "30-35K C",
          "35-40K C1",
          "40-45K B",
          "45-50K B1",
          "50-55K A",
          "55-60K A1",
          "60K S+"
         ],
         "y": [
          1917556675.2600002,
          4638065608.63,
          4190311696.11,
          959079093.5699999,
          458414693.48,
          198031067,
          284112667.99,
          37538999.99,
          118779396.7,
          5160000,
          0,
          62760000,
          14363929.11,
          0
         ]
        }
       ],
       "layout": {
        "plot_bgcolor": "rgba(0,0,0,0)",
        "template": {
         "data": {
          "bar": [
           {
            "error_x": {
             "color": "#2a3f5f"
            },
            "error_y": {
             "color": "#2a3f5f"
            },
            "marker": {
             "line": {
              "color": "#E5ECF6",
              "width": 0.5
             },
             "pattern": {
              "fillmode": "overlay",
              "size": 10,
              "solidity": 0.2
             }
            },
            "type": "bar"
           }
          ],
          "barpolar": [
           {
            "marker": {
             "line": {
              "color": "#E5ECF6",
              "width": 0.5
             },
             "pattern": {
              "fillmode": "overlay",
              "size": 10,
              "solidity": 0.2
             }
            },
            "type": "barpolar"
           }
          ],
          "carpet": [
           {
            "aaxis": {
             "endlinecolor": "#2a3f5f",
             "gridcolor": "white",
             "linecolor": "white",
             "minorgridcolor": "white",
             "startlinecolor": "#2a3f5f"
            },
            "baxis": {
             "endlinecolor": "#2a3f5f",
             "gridcolor": "white",
             "linecolor": "white",
             "minorgridcolor": "white",
             "startlinecolor": "#2a3f5f"
            },
            "type": "carpet"
           }
          ],
          "choropleth": [
           {
            "colorbar": {
             "outlinewidth": 0,
             "ticks": ""
            },
            "type": "choropleth"
           }
          ],
          "contour": [
           {
            "colorbar": {
             "outlinewidth": 0,
             "ticks": ""
            },
            "colorscale": [
             [
              0,
              "#0d0887"
             ],
             [
              0.1111111111111111,
              "#46039f"
             ],
             [
              0.2222222222222222,
              "#7201a8"
             ],
             [
              0.3333333333333333,
              "#9c179e"
             ],
             [
              0.4444444444444444,
              "#bd3786"
             ],
             [
              0.5555555555555556,
              "#d8576b"
             ],
             [
              0.6666666666666666,
              "#ed7953"
             ],
             [
              0.7777777777777778,
              "#fb9f3a"
             ],
             [
              0.8888888888888888,
              "#fdca26"
             ],
             [
              1,
              "#f0f921"
             ]
            ],
            "type": "contour"
           }
          ],
          "contourcarpet": [
           {
            "colorbar": {
             "outlinewidth": 0,
             "ticks": ""
            },
            "type": "contourcarpet"
           }
          ],
          "heatmap": [
           {
            "colorbar": {
             "outlinewidth": 0,
             "ticks": ""
            },
            "colorscale": [
             [
              0,
              "#0d0887"
             ],
             [
              0.1111111111111111,
              "#46039f"
             ],
             [
              0.2222222222222222,
              "#7201a8"
             ],
             [
              0.3333333333333333,
              "#9c179e"
             ],
             [
              0.4444444444444444,
              "#bd3786"
             ],
             [
              0.5555555555555556,
              "#d8576b"
             ],
             [
              0.6666666666666666,
              "#ed7953"
             ],
             [
              0.7777777777777778,
              "#fb9f3a"
             ],
             [
              0.8888888888888888,
              "#fdca26"
             ],
             [
              1,
              "#f0f921"
             ]
            ],
            "type": "heatmap"
           }
          ],
          "heatmapgl": [
           {
            "colorbar": {
             "outlinewidth": 0,
             "ticks": ""
            },
            "colorscale": [
             [
              0,
              "#0d0887"
             ],
             [
              0.1111111111111111,
              "#46039f"
             ],
             [
              0.2222222222222222,
              "#7201a8"
             ],
             [
              0.3333333333333333,
              "#9c179e"
             ],
             [
              0.4444444444444444,
              "#bd3786"
             ],
             [
              0.5555555555555556,
              "#d8576b"
             ],
             [
              0.6666666666666666,
              "#ed7953"
             ],
             [
              0.7777777777777778,
              "#fb9f3a"
             ],
             [
              0.8888888888888888,
              "#fdca26"
             ],
             [
              1,
              "#f0f921"
             ]
            ],
            "type": "heatmapgl"
           }
          ],
          "histogram": [
           {
            "marker": {
             "pattern": {
              "fillmode": "overlay",
              "size": 10,
              "solidity": 0.2
             }
            },
            "type": "histogram"
           }
          ],
          "histogram2d": [
           {
            "colorbar": {
             "outlinewidth": 0,
             "ticks": ""
            },
            "colorscale": [
             [
              0,
              "#0d0887"
             ],
             [
              0.1111111111111111,
              "#46039f"
             ],
             [
              0.2222222222222222,
              "#7201a8"
             ],
             [
              0.3333333333333333,
              "#9c179e"
             ],
             [
              0.4444444444444444,
              "#bd3786"
             ],
             [
              0.5555555555555556,
              "#d8576b"
             ],
             [
              0.6666666666666666,
              "#ed7953"
             ],
             [
              0.7777777777777778,
              "#fb9f3a"
             ],
             [
              0.8888888888888888,
              "#fdca26"
             ],
             [
              1,
              "#f0f921"
             ]
            ],
            "type": "histogram2d"
           }
          ],
          "histogram2dcontour": [
           {
            "colorbar": {
             "outlinewidth": 0,
             "ticks": ""
            },
            "colorscale": [
             [
              0,
              "#0d0887"
             ],
             [
              0.1111111111111111,
              "#46039f"
             ],
             [
              0.2222222222222222,
              "#7201a8"
             ],
             [
              0.3333333333333333,
              "#9c179e"
             ],
             [
              0.4444444444444444,
              "#bd3786"
             ],
             [
              0.5555555555555556,
              "#d8576b"
             ],
             [
              0.6666666666666666,
              "#ed7953"
             ],
             [
              0.7777777777777778,
              "#fb9f3a"
             ],
             [
              0.8888888888888888,
              "#fdca26"
             ],
             [
              1,
              "#f0f921"
             ]
            ],
            "type": "histogram2dcontour"
           }
          ],
          "mesh3d": [
           {
            "colorbar": {
             "outlinewidth": 0,
             "ticks": ""
            },
            "type": "mesh3d"
           }
          ],
          "parcoords": [
           {
            "line": {
             "colorbar": {
              "outlinewidth": 0,
              "ticks": ""
             }
            },
            "type": "parcoords"
           }
          ],
          "pie": [
           {
            "automargin": true,
            "type": "pie"
           }
          ],
          "scatter": [
           {
            "fillpattern": {
             "fillmode": "overlay",
             "size": 10,
             "solidity": 0.2
            },
            "type": "scatter"
           }
          ],
          "scatter3d": [
           {
            "line": {
             "colorbar": {
              "outlinewidth": 0,
              "ticks": ""
             }
            },
            "marker": {
             "colorbar": {
              "outlinewidth": 0,
              "ticks": ""
             }
            },
            "type": "scatter3d"
           }
          ],
          "scattercarpet": [
           {
            "marker": {
             "colorbar": {
              "outlinewidth": 0,
              "ticks": ""
             }
            },
            "type": "scattercarpet"
           }
          ],
          "scattergeo": [
           {
            "marker": {
             "colorbar": {
              "outlinewidth": 0,
              "ticks": ""
             }
            },
            "type": "scattergeo"
           }
          ],
          "scattergl": [
           {
            "marker": {
             "colorbar": {
              "outlinewidth": 0,
              "ticks": ""
             }
            },
            "type": "scattergl"
           }
          ],
          "scattermapbox": [
           {
            "marker": {
             "colorbar": {
              "outlinewidth": 0,
              "ticks": ""
             }
            },
            "type": "scattermapbox"
           }
          ],
          "scatterpolar": [
           {
            "marker": {
             "colorbar": {
              "outlinewidth": 0,
              "ticks": ""
             }
            },
            "type": "scatterpolar"
           }
          ],
          "scatterpolargl": [
           {
            "marker": {
             "colorbar": {
              "outlinewidth": 0,
              "ticks": ""
             }
            },
            "type": "scatterpolargl"
           }
          ],
          "scatterternary": [
           {
            "marker": {
             "colorbar": {
              "outlinewidth": 0,
              "ticks": ""
             }
            },
            "type": "scatterternary"
           }
          ],
          "surface": [
           {
            "colorbar": {
             "outlinewidth": 0,
             "ticks": ""
            },
            "colorscale": [
             [
              0,
              "#0d0887"
             ],
             [
              0.1111111111111111,
              "#46039f"
             ],
             [
              0.2222222222222222,
              "#7201a8"
             ],
             [
              0.3333333333333333,
              "#9c179e"
             ],
             [
              0.4444444444444444,
              "#bd3786"
             ],
             [
              0.5555555555555556,
              "#d8576b"
             ],
             [
              0.6666666666666666,
              "#ed7953"
             ],
             [
              0.7777777777777778,
              "#fb9f3a"
             ],
             [
              0.8888888888888888,
              "#fdca26"
             ],
             [
              1,
              "#f0f921"
             ]
            ],
            "type": "surface"
           }
          ],
          "table": [
           {
            "cells": {
             "fill": {
              "color": "#EBF0F8"
             },
             "line": {
              "color": "white"
             }
            },
            "header": {
             "fill": {
              "color": "#C8D4E3"
             },
             "line": {
              "color": "white"
             }
            },
            "type": "table"
           }
          ]
         },
         "layout": {
          "annotationdefaults": {
           "arrowcolor": "#2a3f5f",
           "arrowhead": 0,
           "arrowwidth": 1
          },
          "autotypenumbers": "strict",
          "coloraxis": {
           "colorbar": {
            "outlinewidth": 0,
            "ticks": ""
           }
          },
          "colorscale": {
           "diverging": [
            [
             0,
             "#8e0152"
            ],
            [
             0.1,
             "#c51b7d"
            ],
            [
             0.2,
             "#de77ae"
            ],
            [
             0.3,
             "#f1b6da"
            ],
            [
             0.4,
             "#fde0ef"
            ],
            [
             0.5,
             "#f7f7f7"
            ],
            [
             0.6,
             "#e6f5d0"
            ],
            [
             0.7,
             "#b8e186"
            ],
            [
             0.8,
             "#7fbc41"
            ],
            [
             0.9,
             "#4d9221"
            ],
            [
             1,
             "#276419"
            ]
           ],
           "sequential": [
            [
             0,
             "#0d0887"
            ],
            [
             0.1111111111111111,
             "#46039f"
            ],
            [
             0.2222222222222222,
             "#7201a8"
            ],
            [
             0.3333333333333333,
             "#9c179e"
            ],
            [
             0.4444444444444444,
             "#bd3786"
            ],
            [
             0.5555555555555556,
             "#d8576b"
            ],
            [
             0.6666666666666666,
             "#ed7953"
            ],
            [
             0.7777777777777778,
             "#fb9f3a"
            ],
            [
             0.8888888888888888,
             "#fdca26"
            ],
            [
             1,
             "#f0f921"
            ]
           ],
           "sequentialminus": [
            [
             0,
             "#0d0887"
            ],
            [
             0.1111111111111111,
             "#46039f"
            ],
            [
             0.2222222222222222,
             "#7201a8"
            ],
            [
             0.3333333333333333,
             "#9c179e"
            ],
            [
             0.4444444444444444,
             "#bd3786"
            ],
            [
             0.5555555555555556,
             "#d8576b"
            ],
            [
             0.6666666666666666,
             "#ed7953"
            ],
            [
             0.7777777777777778,
             "#fb9f3a"
            ],
            [
             0.8888888888888888,
             "#fdca26"
            ],
            [
             1,
             "#f0f921"
            ]
           ]
          },
          "colorway": [
           "#636efa",
           "#EF553B",
           "#00cc96",
           "#ab63fa",
           "#FFA15A",
           "#19d3f3",
           "#FF6692",
           "#B6E880",
           "#FF97FF",
           "#FECB52"
          ],
          "font": {
           "color": "#2a3f5f"
          },
          "geo": {
           "bgcolor": "white",
           "lakecolor": "white",
           "landcolor": "#E5ECF6",
           "showlakes": true,
           "showland": true,
           "subunitcolor": "white"
          },
          "hoverlabel": {
           "align": "left"
          },
          "hovermode": "closest",
          "mapbox": {
           "style": "light"
          },
          "paper_bgcolor": "white",
          "plot_bgcolor": "#E5ECF6",
          "polar": {
           "angularaxis": {
            "gridcolor": "white",
            "linecolor": "white",
            "ticks": ""
           },
           "bgcolor": "#E5ECF6",
           "radialaxis": {
            "gridcolor": "white",
            "linecolor": "white",
            "ticks": ""
           }
          },
          "scene": {
           "xaxis": {
            "backgroundcolor": "#E5ECF6",
            "gridcolor": "white",
            "gridwidth": 2,
            "linecolor": "white",
            "showbackground": true,
            "ticks": "",
            "zerolinecolor": "white"
           },
           "yaxis": {
            "backgroundcolor": "#E5ECF6",
            "gridcolor": "white",
            "gridwidth": 2,
            "linecolor": "white",
            "showbackground": true,
            "ticks": "",
            "zerolinecolor": "white"
           },
           "zaxis": {
            "backgroundcolor": "#E5ECF6",
            "gridcolor": "white",
            "gridwidth": 2,
            "linecolor": "white",
            "showbackground": true,
            "ticks": "",
            "zerolinecolor": "white"
           }
          },
          "shapedefaults": {
           "line": {
            "color": "#2a3f5f"
           }
          },
          "ternary": {
           "aaxis": {
            "gridcolor": "white",
            "linecolor": "white",
            "ticks": ""
           },
           "baxis": {
            "gridcolor": "white",
            "linecolor": "white",
            "ticks": ""
           },
           "bgcolor": "#E5ECF6",
           "caxis": {
            "gridcolor": "white",
            "linecolor": "white",
            "ticks": ""
           }
          },
          "title": {
           "x": 0.05
          },
          "xaxis": {
           "automargin": true,
           "gridcolor": "white",
           "linecolor": "white",
           "ticks": "",
           "title": {
            "standoff": 15
           },
           "zerolinecolor": "white",
           "zerolinewidth": 2
          },
          "yaxis": {
           "automargin": true,
           "gridcolor": "white",
           "linecolor": "white",
           "ticks": "",
           "title": {
            "standoff": 15
           },
           "zerolinecolor": "white",
           "zerolinewidth": 2
          }
         }
        },
        "title": {
         "x": 0.5
        },
        "yaxis": {
         "gridcolor": "#dddcda",
         "gridwidth": 1,
         "ticktext": [
          "$1,000,000,000",
          "$2,000,000,000",
          "$3,000,000,000",
          "$4,000,000,000",
          "$5,000,000,000"
         ],
         "tickvals": [
          1000000000,
          2000000000,
          3000000000,
          4000000000,
          5000000000
         ]
        }
       }
      }
     },
     "metadata": {},
     "output_type": "display_data"
    }
   ],
   "source": [
    "pd.options.display.float_format = '{:,.2f}'.format # Mostrar comas como separadores de miles y dos decimales\n",
    "colores = ['#2962ff', '#9500ff', '#ff0059', '#ff8c00', '#b4e600', '#2EC2A2','#E50CB6','#4225CF','#2CBA4D','#2962ff', '#9500ff', '#ff0059']\n",
    "\n",
    "fig = go.Figure()\n",
    "fig.add_trace(go.Bar(\n",
    "    x=df_volumen_ms_parejas['Label'],  # Eje x: Categoría\n",
    "    y=df_volumen_ms_parejas['Suma_Volumen'],  # Eje y: Cantidad\n",
    "    text=df_volumen_ms_parejas['Suma_Volumen'].apply(lambda x: '{:,.2f}'.format(x)),  # Texto con el formato deseado\n",
    "    textposition='outside',  # Posición del texto (parte superior de las barras)\n",
    "    marker_color=colores,  # Especifica los colores de las barras\n",
    "))\n",
    "fig.update_layout(\n",
    "    #title='Volumen del mercado salarial de parejas',  # Título de la gráfica\n",
    "    title_x=0.5,\n",
    "    yaxis=dict(\n",
    "        #title='Total valor',  # Título del eje y\n",
    "        tickvals=[1000000000, 2000000000, 3000000000, 4000000000, 5000000000],  # Posiciones de las líneas del eje y\n",
    "        ticktext=['$1,000,000,000', '$2,000,000,000', '$3,000,000,000', '$4,000,000,000', '$5,000,000,000'],  # Etiquetas de las líneas del eje y\n",
    "        gridcolor='#dddcda', # Color de las líneas que dividen los rangos del eje Y\n",
    "        gridwidth=1, # Ancho de las líneas que dividen los rangos del eje Y\n",
    "    ),\n",
    "    plot_bgcolor='rgba(0,0,0,0)',  # Color de fondo del gráfico\n",
    ")\n",
    "\n",
    "# Exportar gráfica como archivo HTML\n",
    "def guardar_grafico_como_html(fig, nombre_archivo, carpeta='graficas'):\n",
    "    # Crear la carpeta si no existe\n",
    "    if not os.path.exists(carpeta):\n",
    "        os.makedirs(carpeta)\n",
    "    \n",
    "    # Gráfica como archivo HTML en la carpeta especificada\n",
    "    pio.write_html(fig, f'{carpeta}/{nombre_archivo}.html')\n",
    "\n",
    "# Exportar\n",
    "guardar_grafico_como_html(fig, 'g_bar_volmercadosalarial_XXparejas_pachuca', carpeta='graficas')\n",
    "\n",
    "fig.show()\n"
   ]
  },
  {
   "cell_type": "markdown",
   "metadata": {},
   "source": [
    "## *TULANCINGO*"
   ]
  },
  {
   "cell_type": "code",
   "execution_count": 31,
   "metadata": {},
   "outputs": [
    {
     "data": {
      "text/plain": [
       "['df_alfa_q_feb_2023_pachuca',\n",
       " 'df_alfa_q_jul_2022_tulancingo',\n",
       " 'df_alfa_q_jul_2023_pachuca',\n",
       " 'df_alfa_q_jul_2023_tulancingo',\n",
       " 'df_alfa_q_jun_2023_pachuca',\n",
       " 'df_alfa_q_jun_2023_tulancingo',\n",
       " 'df_alfa_q_mar_2023_pachuca',\n",
       " 'df_alfa_q_mar_2023_tulancingo',\n",
       " 'df_alfa_q_may_2022_tulancingo',\n",
       " 'df_alfa_q_may_2023_tulancingo',\n",
       " 'df_alfa_q_nov_2022_pachuca',\n",
       " 'df_alfa_q_oct_2022_pachuca',\n",
       " 'df_alfa_q_oct_2022_tulancingo',\n",
       " 'df_alfa_q_oct_2023_tulancingo',\n",
       " 'df_alfa_q_puebla',\n",
       " 'df_alfa_q_sep_2023_pachuca',\n",
       " 'df_alfa_q_sep_2023_tulancingo',\n",
       " 'df_enero_2024_querertaro',\n",
       " 'df_financiamientos_2019_pachuca',\n",
       " 'df_financiamientos_2019_puebla',\n",
       " 'df_financiamientos_2019_tulancingo',\n",
       " 'df_financiamientos_2020_pachuca',\n",
       " 'df_financiamientos_2020_puebla',\n",
       " 'df_financiamientos_2020_tulancingo',\n",
       " 'df_financiamientos_2021_pachuca',\n",
       " 'df_financiamientos_2021_puebla',\n",
       " 'df_financiamientos_2021_tulancingo',\n",
       " 'df_financiamientos_2022_pachuca',\n",
       " 'df_financiamientos_2022_puebla',\n",
       " 'df_financiamientos_2022_tulancingo',\n",
       " 'df_financiamientos_2023_pachuca',\n",
       " 'df_financiamientos_2023_puebla',\n",
       " 'df_financiamientos_2023_tulancingo',\n",
       " 'df_grupos_edad_pachuca',\n",
       " 'df_grupos_edad_puebla',\n",
       " 'df_grupos_edad_queretaro',\n",
       " 'df_grupos_edad_tulancingo',\n",
       " 'df_jul_2023_puebla',\n",
       " 'df_junio_2023_queretaro',\n",
       " 'df_publicacion_pachuca',\n",
       " 'df_publicacion_puebla',\n",
       " 'df_salarios_pachuca',\n",
       " 'df_salarios_puebla',\n",
       " 'df_sep_2023_puebla',\n",
       " 'df_tiempo_dias_tulancingo',\n",
       " 'df_usuarios']"
      ]
     },
     "execution_count": 31,
     "metadata": {},
     "output_type": "execute_result"
    }
   ],
   "source": [
    "dfs_list"
   ]
  },
  {
   "cell_type": "code",
   "execution_count": 24,
   "metadata": {},
   "outputs": [],
   "source": [
    "# Crea los DataFrames para cada archivo con las columnas necesarias\n",
    "pareja_df_salarios_pachuca = df_salarios_pachuca[['id_salarios','Volumen', 'Pareja','Categoria_Pareja']]"
   ]
  },
  {
   "cell_type": "code",
   "execution_count": 25,
   "metadata": {},
   "outputs": [
    {
     "name": "stdout",
     "output_type": "stream",
     "text": [
      "DataFrame para Categoria_Pareja 'A':\n",
      "     id_salarios       Volumen    Pareja Categoria_Pareja\n",
      "330          331 62,760,000.00 50,700.00                A\n",
      "DataFrame para Categoria_Pareja 'A1':\n",
      "     id_salarios      Volumen    Pareja Categoria_Pareja\n",
      "331          332 7,140,000.00 57,460.00               A1\n",
      "332          333 7,223,929.11 58,413.59               A1\n",
      "DataFrame para Categoria_Pareja 'B':\n",
      "     id_salarios      Volumen    Pareja Categoria_Pareja\n",
      "329          330 5,160,000.00 43,602.00                B\n",
      "DataFrame para Categoria_Pareja 'C':\n",
      "     id_salarios       Volumen    Pareja Categoria_Pareja\n",
      "321          322 10,512,000.00 30,420.00                C\n",
      "322          323  8,406,999.99 30,819.59                C\n",
      "323          324 18,620,000.00 33,800.00                C\n",
      "DataFrame para Categoria_Pareja 'C1':\n",
      "     id_salarios       Volumen    Pareja Categoria_Pareja\n",
      "324          325 16,963,500.00 36,335.00               C1\n",
      "325          326 40,704,876.35 36,436.04               C1\n",
      "326          327 23,070,629.63 37,381.94               C1\n",
      "327          328  7,959,599.99 37,679.90               C1\n",
      "328          329 30,080,790.73 37,966.05               C1\n",
      "DataFrame para Categoria_Pareja 'D':\n",
      "     id_salarios       Volumen    Pareja Categoria_Pareja\n",
      "301          302  3,384,800.01 20,141.94                D\n",
      "302          303  2,652,000.00 20,280.00                D\n",
      "303          304 15,552,000.00 20,280.00                D\n",
      "304          305 11,393,599.98 20,929.55                D\n",
      "305          306 44,314,332.83 21,036.86                D\n",
      "306          307 30,545,784.06 21,708.32                D\n",
      "307          308  6,174,000.00 22,295.00                D\n",
      "308          309 32,687,550.09 22,658.72                D\n",
      "309          310 11,040,000.00 23,322.00                D\n",
      "310          311 21,350,999.97 24,748.42                D\n",
      "311          312 18,936,000.06 24,846.15                D\n",
      "DataFrame para Categoria_Pareja 'D1':\n",
      "     id_salarios       Volumen    Pareja Categoria_Pareja\n",
      "312          313  3,405,000.00 25,350.00               D1\n",
      "313          314  3,825,000.00 25,350.00               D1\n",
      "314          315 24,059,180.26 26,873.77               D1\n",
      "315          316 76,742,152.72 26,991.52               D1\n",
      "316          317 95,612,000.02 27,415.05               D1\n",
      "317          318 12,019,000.00 28,730.00               D1\n",
      "318          319 16,632,400.00 29,068.00               D1\n",
      "319          320 20,134,493.69 29,207.98               D1\n",
      "320          321 31,683,441.30 29,259.57               D1\n",
      "DataFrame para Categoria_Pareja 'E':\n",
      "     id_salarios        Volumen    Pareja Categoria_Pareja\n",
      "240          241  11,264,849.47 12,227.10                E\n",
      "241          242  28,188,107.63 12,271.48                E\n",
      "242          243   1,264,630.00 12,353.90                E\n",
      "243          244  21,055,503.08 12,355.49                E\n",
      "244          245   6,653,014.92 12,410.15                E\n",
      "245          246  21,907,110.53 12,448.90                E\n",
      "246          247   4,877,232.00 12,564.82                E\n",
      "247          248  63,402,050.02 12,623.64                E\n",
      "248          249  73,848,019.97 12,685.83                E\n",
      "249          250 111,451,959.98 12,701.72                E\n",
      "250          251   6,300,360.00 13,080.60                E\n",
      "251          252  15,079,025.00 13,210.76                E\n",
      "252          253   1,593,705.72 13,399.81                E\n",
      "253          254  20,968,714.00 13,479.32                E\n",
      "254          255  43,343,079.99 13,529.70                E\n",
      "255          256  48,388,900.01 13,530.32                E\n",
      "256          257  12,547,189.62 13,733.65                E\n",
      "257          258   1,209,160.00 13,807.30                E\n",
      "258          259  10,008,200.00 14,189.48                E\n",
      "259          260   6,586,645.74 14,271.07                E\n",
      "260          261   1,903,045.38 14,293.99                E\n",
      "261          262  41,276,657.00 14,323.93                E\n",
      "262          263  24,880,480.25 14,444.52                E\n",
      "263          264   4,262,160.00 14,522.28                E\n",
      "264          265   7,146,600.00 14,534.00                E\n",
      "265          266   4,128,000.00 14,534.00                E\n",
      "266          267 169,610,760.01 14,676.27                E\n",
      "267          268  22,344,411.21 14,687.69                E\n",
      "268          269  16,398,909.99 14,948.31                E\n",
      "269          270   7,343,380.90 15,190.10                E\n",
      "270          271  86,482,085.12 15,376.61                E\n",
      "271          272   6,718,320.00 15,532.09                E\n",
      "272          273  21,612,470.01 15,676.00                E\n",
      "273          274   5,636,966.02 15,694.35                E\n",
      "274          275  12,059,790.00 15,860.74                E\n",
      "275          276  17,337,600.00 15,889.67                E\n",
      "DataFrame para Categoria_Pareja 'E1':\n",
      "     id_salarios        Volumen    Pareja Categoria_Pareja\n",
      "276          277  13,276,800.00 16,015.55               E1\n",
      "277          278  27,559,550.58 16,066.11               E1\n",
      "278          279  30,926,888.61 16,091.88               E1\n",
      "279          280  13,668,348.32 16,221.57               E1\n",
      "280          281   2,044,800.00 16,224.00               E1\n",
      "281          282   1,646,400.00 16,562.00               E1\n",
      "282          283  13,007,998.86 16,742.97               E1\n",
      "283          284  11,256,000.00 16,834.19               E1\n",
      "284          285   2,590,000.00 16,900.00               E1\n",
      "285          286   7,310,000.00 16,900.00               E1\n",
      "286          287   4,813,149.99 17,052.88               E1\n",
      "287          288   7,226,580.00 17,081.01               E1\n",
      "288          289   4,462,300.88 17,139.29               E1\n",
      "289          290   9,337,020.00 17,207.81               E1\n",
      "290          291   6,106,819.98 17,229.59               E1\n",
      "291          292  17,678,565.48 17,360.13               E1\n",
      "292          293  54,601,400.00 17,361.50               E1\n",
      "293          294  21,504,999.98 17,472.81               E1\n",
      "294          295  17,866,499.98 17,792.80               E1\n",
      "295          296   4,730,000.00 18,590.00               E1\n",
      "296          297  32,426,729.92 18,729.04               E1\n",
      "297          298  11,522,399.99 18,942.47               E1\n",
      "298          299 120,852,640.14 19,114.74               E1\n",
      "299          300  19,583,920.77 19,583.92               E1\n",
      "300          301   2,414,880.00 19,620.90               E1\n",
      "DataFrame para Categoria_Pareja 'F':\n",
      "     id_salarios       Volumen   Pareja Categoria_Pareja\n",
      "56            57 10,888,570.00 5,034.66                F\n",
      "57            58    570,000.00 5,070.00                F\n",
      "58            59  2,349,000.00 5,070.00                F\n",
      "59            60  1,248,000.00 5,070.00                F\n",
      "60            61    960,000.00 5,070.00                F\n",
      "..           ...           ...      ...              ...\n",
      "139          140 63,465,585.44 7,841.56                F\n",
      "140          141  5,011,040.00 7,855.90                F\n",
      "141          142 11,782,236.94 7,904.72                F\n",
      "142          143 64,348,287.77 7,944.23                F\n",
      "143          144  3,333,900.96 7,946.82                F\n",
      "\n",
      "[88 rows x 4 columns]\n",
      "DataFrame para Categoria_Pareja 'F1':\n",
      "     id_salarios        Volumen    Pareja Categoria_Pareja\n",
      "144          145  25,066,639.98  8,066.00               F1\n",
      "145          146   2,760,000.00  8,083.88               F1\n",
      "146          147  21,092,999.99  8,090.60               F1\n",
      "147          148   4,155,407.17  8,090.60               F1\n",
      "148          149   3,115,907.41  8,101.36               F1\n",
      "..           ...            ...       ...              ...\n",
      "235          236  10,465,000.00 11,830.00               F1\n",
      "236          237   2,296,000.00 11,830.00               F1\n",
      "237          238  10,464,899.99 11,845.73               F1\n",
      "238          239   7,511,349.53 11,863.72               F1\n",
      "239          240 221,407,012.13 11,897.17               F1\n",
      "\n",
      "[96 rows x 4 columns]\n",
      "DataFrame para Categoria_Pareja 'G':\n",
      "    id_salarios        Volumen   Pareja Categoria_Pareja\n",
      "0             1   1,122,300.00   412.86                G\n",
      "1             2   6,090,617.00 1,166.10                G\n",
      "2             3     274,693.39 1,381.64                G\n",
      "3             4     568,745.99 1,645.86                G\n",
      "4             5     717,000.00 1,690.00                G\n",
      "5             6     817,000.00 1,690.00                G\n",
      "6             7     952,000.00 1,690.00                G\n",
      "7             8 151,998,460.78 1,780.75                G\n",
      "8             9     501,004.00 2,085.46                G\n",
      "9            10  16,093,965.00 2,085.80                G\n",
      "10           11   1,537,680.00 2,180.10                G\n",
      "11           12     852,800.00 2,197.00                G\n",
      "12           13     787,800.00 2,197.00                G\n",
      "13           14     564,544.09 2,244.89                G\n",
      "14           15     568,400.00 2,366.00                G\n",
      "15           16   1,029,348.00 2,464.02                G\n",
      "16           17   1,883,400.00 2,473.15                G\n",
      "17           18     225,000.00 2,535.00                G\n",
      "18           19     988,500.00 2,535.00                G\n",
      "19           20     315,000.00 2,535.00                G\n",
      "20           21   3,477,173.00 2,648.23                G\n",
      "21           22   1,983,683.87 2,652.24                G\n",
      "22           23   4,235,070.00 2,668.63                G\n",
      "23           24  24,267,910.03 2,798.55                G\n",
      "24           25   1,000,000.00 2,811.98                G\n",
      "25           26  37,850,406.07 3,096.48                G\n",
      "26           27  60,124,823.98 3,186.99                G\n",
      "27           28   9,273,380.01 3,205.57                G\n",
      "28           29   2,790,742.43 3,217.16                G\n",
      "29           30  10,072,080.00 3,223.83                G\n",
      "30           31  73,725,034.83 3,268.85                G\n",
      "31           32     356,000.00 3,380.00                G\n",
      "32           33   3,732,000.00 3,380.00                G\n",
      "33           34  36,970,263.48 3,450.59                G\n",
      "34           35   8,647,729.98 3,468.94                G\n",
      "35           36   2,038,200.00 3,493.47                G\n",
      "36           37  12,649,599.98 3,579.68                G\n",
      "37           38   2,500,026.42 3,589.67                G\n",
      "38           39     371,950.00 3,633.50                G\n",
      "39           40   1,330,420.00 3,766.18                G\n",
      "40           41   7,717,904.99 3,849.84                G\n",
      "41           42  48,972,911.26 4,121.31                G\n",
      "42           43   1,484,280.00 4,201.73                G\n",
      "43           44   2,907,000.01 4,279.47                G\n",
      "44           45  28,295,251.97 4,287.93                G\n",
      "45           46   1,566,000.00 4,289.37                G\n",
      "46           47  26,528,049.96 4,317.03                G\n",
      "47           48 648,464,823.36 4,330.77                G\n",
      "48           49   8,404,349.99 4,405.51                G\n",
      "49           50   1,344,948.98 4,500.92                G\n",
      "50           51  14,270,429.99 4,575.42                G\n",
      "51           52   3,408,000.00 4,578.31                G\n",
      "52           53   5,192,249.99 4,589.38                G\n",
      "53           54     841,295.00 4,723.55                G\n",
      "54           55 586,257,014.47 4,870.37                G\n",
      "55           56  46,617,412.96 4,988.82                G\n"
     ]
    }
   ],
   "source": [
    "# Crea un diccionario para almacenar los DataFrames de cada categoría única\n",
    "dataframes_por_categoria = {}\n",
    "\n",
    "# Itera sobre los grupos creados por groupby()\n",
    "for categoria, grupo in pareja_df_salarios_pachuca.groupby('Categoria_Pareja'):\n",
    "    # Almacena el DataFrame del grupo en el diccionario\n",
    "    dataframes_por_categoria[categoria] = grupo\n",
    "\n",
    "# Itera sobre las claves del diccionario dataframes_por_categoria\n",
    "for categoria in dataframes_por_categoria:\n",
    "    # Imprime la categoría actual\n",
    "    print(\"DataFrame para Categoria_Pareja '{}':\".format(categoria))\n",
    "    # Imprime el DataFrame correspondiente a la categoría actual\n",
    "    print(dataframes_por_categoria[categoria])\n"
   ]
  },
  {
   "cell_type": "code",
   "execution_count": 26,
   "metadata": {},
   "outputs": [
    {
     "name": "stdout",
     "output_type": "stream",
     "text": [
      "DataFrame con las sumas del volumen por categoría:\n"
     ]
    },
    {
     "data": {
      "text/html": [
       "<div>\n",
       "<style scoped>\n",
       "    .dataframe tbody tr th:only-of-type {\n",
       "        vertical-align: middle;\n",
       "    }\n",
       "\n",
       "    .dataframe tbody tr th {\n",
       "        vertical-align: top;\n",
       "    }\n",
       "\n",
       "    .dataframe thead th {\n",
       "        text-align: right;\n",
       "    }\n",
       "</style>\n",
       "<table border=\"1\" class=\"dataframe\">\n",
       "  <thead>\n",
       "    <tr style=\"text-align: right;\">\n",
       "      <th></th>\n",
       "      <th>Suma_Volumen</th>\n",
       "    </tr>\n",
       "  </thead>\n",
       "  <tbody>\n",
       "    <tr>\n",
       "      <th>G</th>\n",
       "      <td>1,917,556,675.26</td>\n",
       "    </tr>\n",
       "    <tr>\n",
       "      <th>F</th>\n",
       "      <td>4,638,065,608.63</td>\n",
       "    </tr>\n",
       "    <tr>\n",
       "      <th>F1</th>\n",
       "      <td>4,190,311,696.11</td>\n",
       "    </tr>\n",
       "    <tr>\n",
       "      <th>E</th>\n",
       "      <td>959,079,093.57</td>\n",
       "    </tr>\n",
       "    <tr>\n",
       "      <th>E1</th>\n",
       "      <td>458,414,693.48</td>\n",
       "    </tr>\n",
       "    <tr>\n",
       "      <th>D</th>\n",
       "      <td>198,031,067.00</td>\n",
       "    </tr>\n",
       "    <tr>\n",
       "      <th>D1</th>\n",
       "      <td>284,112,667.99</td>\n",
       "    </tr>\n",
       "    <tr>\n",
       "      <th>C</th>\n",
       "      <td>37,538,999.99</td>\n",
       "    </tr>\n",
       "    <tr>\n",
       "      <th>C1</th>\n",
       "      <td>118,779,396.70</td>\n",
       "    </tr>\n",
       "    <tr>\n",
       "      <th>B</th>\n",
       "      <td>5,160,000.00</td>\n",
       "    </tr>\n",
       "    <tr>\n",
       "      <th>B1</th>\n",
       "      <td>0.00</td>\n",
       "    </tr>\n",
       "    <tr>\n",
       "      <th>A</th>\n",
       "      <td>62,760,000.00</td>\n",
       "    </tr>\n",
       "    <tr>\n",
       "      <th>A1</th>\n",
       "      <td>14,363,929.11</td>\n",
       "    </tr>\n",
       "    <tr>\n",
       "      <th>S</th>\n",
       "      <td>0.00</td>\n",
       "    </tr>\n",
       "  </tbody>\n",
       "</table>\n",
       "</div>"
      ],
      "text/plain": [
       "       Suma_Volumen\n",
       "G  1,917,556,675.26\n",
       "F  4,638,065,608.63\n",
       "F1 4,190,311,696.11\n",
       "E    959,079,093.57\n",
       "E1   458,414,693.48\n",
       "D    198,031,067.00\n",
       "D1   284,112,667.99\n",
       "C     37,538,999.99\n",
       "C1   118,779,396.70\n",
       "B      5,160,000.00\n",
       "B1             0.00\n",
       "A     62,760,000.00\n",
       "A1    14,363,929.11\n",
       "S              0.00"
      ]
     },
     "execution_count": 26,
     "metadata": {},
     "output_type": "execute_result"
    }
   ],
   "source": [
    "sumas_volumen_por_categoria = {}\n",
    "\n",
    "# Itera sobre el diccionario de DataFrames\n",
    "for categoria, df in dataframes_por_categoria.items():\n",
    "    suma_volumen = df['Volumen'].sum() # Calcula la suma del volumen para cada DataFrame    \n",
    "    sumas_volumen_por_categoria[categoria] = suma_volumen # Guarda la suma del volumen en el diccionario\n",
    "\n",
    "# Convierte el diccionario de sumas en un DataFrame\n",
    "df_sumas_volumen = pd.DataFrame.from_dict(sumas_volumen_por_categoria, orient='index', columns=['Suma_Volumen'])\n",
    "# Mantener orden\n",
    "nuevo_orden = ['G', 'F', 'F1', 'E', 'E1', 'D', 'D1', 'C', 'C1', 'B', 'B1', 'A', 'A1', 'S']\n",
    "df_sumas_volumen = df_sumas_volumen.reindex(nuevo_orden)\n",
    "df_sumas_volumen['Suma_Volumen'] = df_sumas_volumen['Suma_Volumen'].fillna(0)\n",
    "\n",
    "#pd.set_option('display.float_format', lambda x: '%.2f' % x) # Mostar números sin notación científica\n",
    "pd.options.display.float_format = '{:,.2f}'.format # Mostrar comas como separadores de miles y dos decimales\n",
    "\n",
    "print(\"DataFrame con las sumas del volumen por categoría:\")\n",
    "df_sumas_volumen"
   ]
  },
  {
   "cell_type": "code",
   "execution_count": 27,
   "metadata": {},
   "outputs": [
    {
     "data": {
      "text/html": [
       "<div>\n",
       "<style scoped>\n",
       "    .dataframe tbody tr th:only-of-type {\n",
       "        vertical-align: middle;\n",
       "    }\n",
       "\n",
       "    .dataframe tbody tr th {\n",
       "        vertical-align: top;\n",
       "    }\n",
       "\n",
       "    .dataframe thead th {\n",
       "        text-align: right;\n",
       "    }\n",
       "</style>\n",
       "<table border=\"1\" class=\"dataframe\">\n",
       "  <thead>\n",
       "    <tr style=\"text-align: right;\">\n",
       "      <th></th>\n",
       "      <th>Suma_Volumen</th>\n",
       "      <th>Label</th>\n",
       "    </tr>\n",
       "  </thead>\n",
       "  <tbody>\n",
       "    <tr>\n",
       "      <th>G</th>\n",
       "      <td>1,917,556,675.26</td>\n",
       "      <td>&lt;5000 G</td>\n",
       "    </tr>\n",
       "    <tr>\n",
       "      <th>F</th>\n",
       "      <td>4,638,065,608.63</td>\n",
       "      <td>&lt;5-8K F</td>\n",
       "    </tr>\n",
       "    <tr>\n",
       "      <th>F1</th>\n",
       "      <td>4,190,311,696.11</td>\n",
       "      <td>8-12K F1</td>\n",
       "    </tr>\n",
       "    <tr>\n",
       "      <th>E</th>\n",
       "      <td>959,079,093.57</td>\n",
       "      <td>12-16K E</td>\n",
       "    </tr>\n",
       "    <tr>\n",
       "      <th>E1</th>\n",
       "      <td>458,414,693.48</td>\n",
       "      <td>16-20K E1</td>\n",
       "    </tr>\n",
       "    <tr>\n",
       "      <th>D</th>\n",
       "      <td>198,031,067.00</td>\n",
       "      <td>20-25K D</td>\n",
       "    </tr>\n",
       "    <tr>\n",
       "      <th>D1</th>\n",
       "      <td>284,112,667.99</td>\n",
       "      <td>25-30K D1</td>\n",
       "    </tr>\n",
       "    <tr>\n",
       "      <th>C</th>\n",
       "      <td>37,538,999.99</td>\n",
       "      <td>30-35K C</td>\n",
       "    </tr>\n",
       "    <tr>\n",
       "      <th>C1</th>\n",
       "      <td>118,779,396.70</td>\n",
       "      <td>35-40K C1</td>\n",
       "    </tr>\n",
       "    <tr>\n",
       "      <th>B</th>\n",
       "      <td>5,160,000.00</td>\n",
       "      <td>40-45K B</td>\n",
       "    </tr>\n",
       "    <tr>\n",
       "      <th>B1</th>\n",
       "      <td>0.00</td>\n",
       "      <td>45-50K B1</td>\n",
       "    </tr>\n",
       "    <tr>\n",
       "      <th>A</th>\n",
       "      <td>62,760,000.00</td>\n",
       "      <td>50-55K A</td>\n",
       "    </tr>\n",
       "    <tr>\n",
       "      <th>A1</th>\n",
       "      <td>14,363,929.11</td>\n",
       "      <td>55-60K A1</td>\n",
       "    </tr>\n",
       "    <tr>\n",
       "      <th>S</th>\n",
       "      <td>0.00</td>\n",
       "      <td>60K S+</td>\n",
       "    </tr>\n",
       "  </tbody>\n",
       "</table>\n",
       "</div>"
      ],
      "text/plain": [
       "       Suma_Volumen      Label\n",
       "G  1,917,556,675.26    <5000 G\n",
       "F  4,638,065,608.63    <5-8K F\n",
       "F1 4,190,311,696.11   8-12K F1\n",
       "E    959,079,093.57   12-16K E\n",
       "E1   458,414,693.48  16-20K E1\n",
       "D    198,031,067.00   20-25K D\n",
       "D1   284,112,667.99  25-30K D1\n",
       "C     37,538,999.99   30-35K C\n",
       "C1   118,779,396.70  35-40K C1\n",
       "B      5,160,000.00   40-45K B\n",
       "B1             0.00  45-50K B1\n",
       "A     62,760,000.00   50-55K A\n",
       "A1    14,363,929.11  55-60K A1\n",
       "S              0.00     60K S+"
      ]
     },
     "execution_count": 27,
     "metadata": {},
     "output_type": "execute_result"
    }
   ],
   "source": [
    "df_volumen_ms_parejas = df_sumas_volumen[['Suma_Volumen']]\n",
    "df_volumen_ms_parejas['Label'] = ['<5000 G','<5-8K F','8-12K F1','12-16K E','16-20K E1','20-25K D','25-30K D1','30-35K C','35-40K C1','40-45K B','45-50K B1','50-55K A','55-60K A1','60K S+']\n",
    "df_volumen_ms_parejas"
   ]
  },
  {
   "cell_type": "markdown",
   "metadata": {},
   "source": [
    "#### Directos"
   ]
  },
  {
   "cell_type": "code",
   "execution_count": 31,
   "metadata": {},
   "outputs": [],
   "source": [
    "# Datos de ejemplo\n",
    "data = {\n",
    "    'Suma_Volumen': [\n",
    "        282512281,4420667429,4828793682,3689430716,1892944139,1158774394,98925625,156854581,88975467,315722622,105259760,189516296,32223200,0\n",
    "    ],\n",
    "    'Label': [\n",
    "        '<5000 G', '<5-8K F', '8-12K F1', '12-16K E', '16-20K E1', '20-25K D', '25-30K D1', '30-35K C', '35-40K C1', '40-45K B', '45-50K B1', '50-55K A', '55-60K A1', '60K S+'\n",
    "    ]\n",
    "    \n",
    "}\n",
    "\n",
    "# Crear el DataFrame\n",
    "df_volumen_ms_parejas = pd.DataFrame(data)"
   ]
  },
  {
   "cell_type": "code",
   "execution_count": 33,
   "metadata": {},
   "outputs": [
    {
     "data": {
      "application/vnd.plotly.v1+json": {
       "config": {
        "plotlyServerURL": "https://plot.ly"
       },
       "data": [
        {
         "marker": {
          "color": [
           "#2962ff",
           "#9500ff",
           "#ff0059",
           "#ff8c00",
           "#b4e600",
           "#2EC2A2",
           "#E50CB6",
           "#4225CF",
           "#2CBA4D",
           "#2962ff",
           "#9500ff",
           "#ff0059"
          ]
         },
         "text": [
          "282,512,281.00",
          "4,420,667,429.00",
          "4,828,793,682.00",
          "3,689,430,716.00",
          "1,892,944,139.00",
          "1,158,774,394.00",
          "98,925,625.00",
          "156,854,581.00",
          "88,975,467.00",
          "315,722,622.00",
          "105,259,760.00",
          "189,516,296.00",
          "32,223,200.00",
          "0.00"
         ],
         "textposition": "outside",
         "type": "bar",
         "x": [
          "<5000 G",
          "<5-8K F",
          "8-12K F1",
          "12-16K E",
          "16-20K E1",
          "20-25K D",
          "25-30K D1",
          "30-35K C",
          "35-40K C1",
          "40-45K B",
          "45-50K B1",
          "50-55K A",
          "55-60K A1",
          "60K S+"
         ],
         "y": [
          282512281,
          4420667429,
          4828793682,
          3689430716,
          1892944139,
          1158774394,
          98925625,
          156854581,
          88975467,
          315722622,
          105259760,
          189516296,
          32223200,
          0
         ]
        }
       ],
       "layout": {
        "plot_bgcolor": "rgba(0,0,0,0)",
        "template": {
         "data": {
          "bar": [
           {
            "error_x": {
             "color": "#2a3f5f"
            },
            "error_y": {
             "color": "#2a3f5f"
            },
            "marker": {
             "line": {
              "color": "#E5ECF6",
              "width": 0.5
             },
             "pattern": {
              "fillmode": "overlay",
              "size": 10,
              "solidity": 0.2
             }
            },
            "type": "bar"
           }
          ],
          "barpolar": [
           {
            "marker": {
             "line": {
              "color": "#E5ECF6",
              "width": 0.5
             },
             "pattern": {
              "fillmode": "overlay",
              "size": 10,
              "solidity": 0.2
             }
            },
            "type": "barpolar"
           }
          ],
          "carpet": [
           {
            "aaxis": {
             "endlinecolor": "#2a3f5f",
             "gridcolor": "white",
             "linecolor": "white",
             "minorgridcolor": "white",
             "startlinecolor": "#2a3f5f"
            },
            "baxis": {
             "endlinecolor": "#2a3f5f",
             "gridcolor": "white",
             "linecolor": "white",
             "minorgridcolor": "white",
             "startlinecolor": "#2a3f5f"
            },
            "type": "carpet"
           }
          ],
          "choropleth": [
           {
            "colorbar": {
             "outlinewidth": 0,
             "ticks": ""
            },
            "type": "choropleth"
           }
          ],
          "contour": [
           {
            "colorbar": {
             "outlinewidth": 0,
             "ticks": ""
            },
            "colorscale": [
             [
              0,
              "#0d0887"
             ],
             [
              0.1111111111111111,
              "#46039f"
             ],
             [
              0.2222222222222222,
              "#7201a8"
             ],
             [
              0.3333333333333333,
              "#9c179e"
             ],
             [
              0.4444444444444444,
              "#bd3786"
             ],
             [
              0.5555555555555556,
              "#d8576b"
             ],
             [
              0.6666666666666666,
              "#ed7953"
             ],
             [
              0.7777777777777778,
              "#fb9f3a"
             ],
             [
              0.8888888888888888,
              "#fdca26"
             ],
             [
              1,
              "#f0f921"
             ]
            ],
            "type": "contour"
           }
          ],
          "contourcarpet": [
           {
            "colorbar": {
             "outlinewidth": 0,
             "ticks": ""
            },
            "type": "contourcarpet"
           }
          ],
          "heatmap": [
           {
            "colorbar": {
             "outlinewidth": 0,
             "ticks": ""
            },
            "colorscale": [
             [
              0,
              "#0d0887"
             ],
             [
              0.1111111111111111,
              "#46039f"
             ],
             [
              0.2222222222222222,
              "#7201a8"
             ],
             [
              0.3333333333333333,
              "#9c179e"
             ],
             [
              0.4444444444444444,
              "#bd3786"
             ],
             [
              0.5555555555555556,
              "#d8576b"
             ],
             [
              0.6666666666666666,
              "#ed7953"
             ],
             [
              0.7777777777777778,
              "#fb9f3a"
             ],
             [
              0.8888888888888888,
              "#fdca26"
             ],
             [
              1,
              "#f0f921"
             ]
            ],
            "type": "heatmap"
           }
          ],
          "heatmapgl": [
           {
            "colorbar": {
             "outlinewidth": 0,
             "ticks": ""
            },
            "colorscale": [
             [
              0,
              "#0d0887"
             ],
             [
              0.1111111111111111,
              "#46039f"
             ],
             [
              0.2222222222222222,
              "#7201a8"
             ],
             [
              0.3333333333333333,
              "#9c179e"
             ],
             [
              0.4444444444444444,
              "#bd3786"
             ],
             [
              0.5555555555555556,
              "#d8576b"
             ],
             [
              0.6666666666666666,
              "#ed7953"
             ],
             [
              0.7777777777777778,
              "#fb9f3a"
             ],
             [
              0.8888888888888888,
              "#fdca26"
             ],
             [
              1,
              "#f0f921"
             ]
            ],
            "type": "heatmapgl"
           }
          ],
          "histogram": [
           {
            "marker": {
             "pattern": {
              "fillmode": "overlay",
              "size": 10,
              "solidity": 0.2
             }
            },
            "type": "histogram"
           }
          ],
          "histogram2d": [
           {
            "colorbar": {
             "outlinewidth": 0,
             "ticks": ""
            },
            "colorscale": [
             [
              0,
              "#0d0887"
             ],
             [
              0.1111111111111111,
              "#46039f"
             ],
             [
              0.2222222222222222,
              "#7201a8"
             ],
             [
              0.3333333333333333,
              "#9c179e"
             ],
             [
              0.4444444444444444,
              "#bd3786"
             ],
             [
              0.5555555555555556,
              "#d8576b"
             ],
             [
              0.6666666666666666,
              "#ed7953"
             ],
             [
              0.7777777777777778,
              "#fb9f3a"
             ],
             [
              0.8888888888888888,
              "#fdca26"
             ],
             [
              1,
              "#f0f921"
             ]
            ],
            "type": "histogram2d"
           }
          ],
          "histogram2dcontour": [
           {
            "colorbar": {
             "outlinewidth": 0,
             "ticks": ""
            },
            "colorscale": [
             [
              0,
              "#0d0887"
             ],
             [
              0.1111111111111111,
              "#46039f"
             ],
             [
              0.2222222222222222,
              "#7201a8"
             ],
             [
              0.3333333333333333,
              "#9c179e"
             ],
             [
              0.4444444444444444,
              "#bd3786"
             ],
             [
              0.5555555555555556,
              "#d8576b"
             ],
             [
              0.6666666666666666,
              "#ed7953"
             ],
             [
              0.7777777777777778,
              "#fb9f3a"
             ],
             [
              0.8888888888888888,
              "#fdca26"
             ],
             [
              1,
              "#f0f921"
             ]
            ],
            "type": "histogram2dcontour"
           }
          ],
          "mesh3d": [
           {
            "colorbar": {
             "outlinewidth": 0,
             "ticks": ""
            },
            "type": "mesh3d"
           }
          ],
          "parcoords": [
           {
            "line": {
             "colorbar": {
              "outlinewidth": 0,
              "ticks": ""
             }
            },
            "type": "parcoords"
           }
          ],
          "pie": [
           {
            "automargin": true,
            "type": "pie"
           }
          ],
          "scatter": [
           {
            "fillpattern": {
             "fillmode": "overlay",
             "size": 10,
             "solidity": 0.2
            },
            "type": "scatter"
           }
          ],
          "scatter3d": [
           {
            "line": {
             "colorbar": {
              "outlinewidth": 0,
              "ticks": ""
             }
            },
            "marker": {
             "colorbar": {
              "outlinewidth": 0,
              "ticks": ""
             }
            },
            "type": "scatter3d"
           }
          ],
          "scattercarpet": [
           {
            "marker": {
             "colorbar": {
              "outlinewidth": 0,
              "ticks": ""
             }
            },
            "type": "scattercarpet"
           }
          ],
          "scattergeo": [
           {
            "marker": {
             "colorbar": {
              "outlinewidth": 0,
              "ticks": ""
             }
            },
            "type": "scattergeo"
           }
          ],
          "scattergl": [
           {
            "marker": {
             "colorbar": {
              "outlinewidth": 0,
              "ticks": ""
             }
            },
            "type": "scattergl"
           }
          ],
          "scattermapbox": [
           {
            "marker": {
             "colorbar": {
              "outlinewidth": 0,
              "ticks": ""
             }
            },
            "type": "scattermapbox"
           }
          ],
          "scatterpolar": [
           {
            "marker": {
             "colorbar": {
              "outlinewidth": 0,
              "ticks": ""
             }
            },
            "type": "scatterpolar"
           }
          ],
          "scatterpolargl": [
           {
            "marker": {
             "colorbar": {
              "outlinewidth": 0,
              "ticks": ""
             }
            },
            "type": "scatterpolargl"
           }
          ],
          "scatterternary": [
           {
            "marker": {
             "colorbar": {
              "outlinewidth": 0,
              "ticks": ""
             }
            },
            "type": "scatterternary"
           }
          ],
          "surface": [
           {
            "colorbar": {
             "outlinewidth": 0,
             "ticks": ""
            },
            "colorscale": [
             [
              0,
              "#0d0887"
             ],
             [
              0.1111111111111111,
              "#46039f"
             ],
             [
              0.2222222222222222,
              "#7201a8"
             ],
             [
              0.3333333333333333,
              "#9c179e"
             ],
             [
              0.4444444444444444,
              "#bd3786"
             ],
             [
              0.5555555555555556,
              "#d8576b"
             ],
             [
              0.6666666666666666,
              "#ed7953"
             ],
             [
              0.7777777777777778,
              "#fb9f3a"
             ],
             [
              0.8888888888888888,
              "#fdca26"
             ],
             [
              1,
              "#f0f921"
             ]
            ],
            "type": "surface"
           }
          ],
          "table": [
           {
            "cells": {
             "fill": {
              "color": "#EBF0F8"
             },
             "line": {
              "color": "white"
             }
            },
            "header": {
             "fill": {
              "color": "#C8D4E3"
             },
             "line": {
              "color": "white"
             }
            },
            "type": "table"
           }
          ]
         },
         "layout": {
          "annotationdefaults": {
           "arrowcolor": "#2a3f5f",
           "arrowhead": 0,
           "arrowwidth": 1
          },
          "autotypenumbers": "strict",
          "coloraxis": {
           "colorbar": {
            "outlinewidth": 0,
            "ticks": ""
           }
          },
          "colorscale": {
           "diverging": [
            [
             0,
             "#8e0152"
            ],
            [
             0.1,
             "#c51b7d"
            ],
            [
             0.2,
             "#de77ae"
            ],
            [
             0.3,
             "#f1b6da"
            ],
            [
             0.4,
             "#fde0ef"
            ],
            [
             0.5,
             "#f7f7f7"
            ],
            [
             0.6,
             "#e6f5d0"
            ],
            [
             0.7,
             "#b8e186"
            ],
            [
             0.8,
             "#7fbc41"
            ],
            [
             0.9,
             "#4d9221"
            ],
            [
             1,
             "#276419"
            ]
           ],
           "sequential": [
            [
             0,
             "#0d0887"
            ],
            [
             0.1111111111111111,
             "#46039f"
            ],
            [
             0.2222222222222222,
             "#7201a8"
            ],
            [
             0.3333333333333333,
             "#9c179e"
            ],
            [
             0.4444444444444444,
             "#bd3786"
            ],
            [
             0.5555555555555556,
             "#d8576b"
            ],
            [
             0.6666666666666666,
             "#ed7953"
            ],
            [
             0.7777777777777778,
             "#fb9f3a"
            ],
            [
             0.8888888888888888,
             "#fdca26"
            ],
            [
             1,
             "#f0f921"
            ]
           ],
           "sequentialminus": [
            [
             0,
             "#0d0887"
            ],
            [
             0.1111111111111111,
             "#46039f"
            ],
            [
             0.2222222222222222,
             "#7201a8"
            ],
            [
             0.3333333333333333,
             "#9c179e"
            ],
            [
             0.4444444444444444,
             "#bd3786"
            ],
            [
             0.5555555555555556,
             "#d8576b"
            ],
            [
             0.6666666666666666,
             "#ed7953"
            ],
            [
             0.7777777777777778,
             "#fb9f3a"
            ],
            [
             0.8888888888888888,
             "#fdca26"
            ],
            [
             1,
             "#f0f921"
            ]
           ]
          },
          "colorway": [
           "#636efa",
           "#EF553B",
           "#00cc96",
           "#ab63fa",
           "#FFA15A",
           "#19d3f3",
           "#FF6692",
           "#B6E880",
           "#FF97FF",
           "#FECB52"
          ],
          "font": {
           "color": "#2a3f5f"
          },
          "geo": {
           "bgcolor": "white",
           "lakecolor": "white",
           "landcolor": "#E5ECF6",
           "showlakes": true,
           "showland": true,
           "subunitcolor": "white"
          },
          "hoverlabel": {
           "align": "left"
          },
          "hovermode": "closest",
          "mapbox": {
           "style": "light"
          },
          "paper_bgcolor": "white",
          "plot_bgcolor": "#E5ECF6",
          "polar": {
           "angularaxis": {
            "gridcolor": "white",
            "linecolor": "white",
            "ticks": ""
           },
           "bgcolor": "#E5ECF6",
           "radialaxis": {
            "gridcolor": "white",
            "linecolor": "white",
            "ticks": ""
           }
          },
          "scene": {
           "xaxis": {
            "backgroundcolor": "#E5ECF6",
            "gridcolor": "white",
            "gridwidth": 2,
            "linecolor": "white",
            "showbackground": true,
            "ticks": "",
            "zerolinecolor": "white"
           },
           "yaxis": {
            "backgroundcolor": "#E5ECF6",
            "gridcolor": "white",
            "gridwidth": 2,
            "linecolor": "white",
            "showbackground": true,
            "ticks": "",
            "zerolinecolor": "white"
           },
           "zaxis": {
            "backgroundcolor": "#E5ECF6",
            "gridcolor": "white",
            "gridwidth": 2,
            "linecolor": "white",
            "showbackground": true,
            "ticks": "",
            "zerolinecolor": "white"
           }
          },
          "shapedefaults": {
           "line": {
            "color": "#2a3f5f"
           }
          },
          "ternary": {
           "aaxis": {
            "gridcolor": "white",
            "linecolor": "white",
            "ticks": ""
           },
           "baxis": {
            "gridcolor": "white",
            "linecolor": "white",
            "ticks": ""
           },
           "bgcolor": "#E5ECF6",
           "caxis": {
            "gridcolor": "white",
            "linecolor": "white",
            "ticks": ""
           }
          },
          "title": {
           "x": 0.05
          },
          "xaxis": {
           "automargin": true,
           "gridcolor": "white",
           "linecolor": "white",
           "ticks": "",
           "title": {
            "standoff": 15
           },
           "zerolinecolor": "white",
           "zerolinewidth": 2
          },
          "yaxis": {
           "automargin": true,
           "gridcolor": "white",
           "linecolor": "white",
           "ticks": "",
           "title": {
            "standoff": 15
           },
           "zerolinecolor": "white",
           "zerolinewidth": 2
          }
         }
        },
        "title": {
         "x": 0.5
        },
        "yaxis": {
         "gridcolor": "#dddcda",
         "gridwidth": 1,
         "ticktext": [
          "$1,000,000,000",
          "$2,000,000,000",
          "$3,000,000,000",
          "$4,000,000,000",
          "$5,000,000,000"
         ],
         "tickvals": [
          1000000000,
          2000000000,
          3000000000,
          4000000000,
          5000000000
         ]
        }
       }
      }
     },
     "metadata": {},
     "output_type": "display_data"
    }
   ],
   "source": [
    "pd.options.display.float_format = '{:,.2f}'.format # Mostrar comas como separadores de miles y dos decimales\n",
    "colores = ['#2962ff', '#9500ff', '#ff0059', '#ff8c00', '#b4e600', '#2EC2A2','#E50CB6','#4225CF','#2CBA4D','#2962ff', '#9500ff', '#ff0059']\n",
    "\n",
    "fig = go.Figure()\n",
    "fig.add_trace(go.Bar(\n",
    "    x=df_volumen_ms_parejas['Label'],  # Eje x: Categoría\n",
    "    y=df_volumen_ms_parejas['Suma_Volumen'],  # Eje y: Cantidad\n",
    "    text=df_volumen_ms_parejas['Suma_Volumen'].apply(lambda x: '{:,.2f}'.format(x)),  # Texto con el formato deseado\n",
    "    textposition='outside',  # Posición del texto (parte superior de las barras)\n",
    "    marker_color=colores,  # Especifica los colores de las barras\n",
    "))\n",
    "fig.update_layout(\n",
    "    #title='Volumen del mercado salarial de parejas',  # Título de la gráfica\n",
    "    title_x=0.5,\n",
    "    yaxis=dict(\n",
    "       # title='Total valor',  # Título del eje y\n",
    "        tickvals=[1000000000, 2000000000, 3000000000, 4000000000, 5000000000],  # Posiciones de las líneas del eje y\n",
    "        ticktext=['$1,000,000,000', '$2,000,000,000', '$3,000,000,000', '$4,000,000,000', '$5,000,000,000'],  # Etiquetas de las líneas del eje y\n",
    "        gridcolor='#dddcda', # Color de las líneas que dividen los rangos del eje Y\n",
    "        gridwidth=1, # Ancho de las líneas que dividen los rangos del eje Y\n",
    "    ),\n",
    "    plot_bgcolor='rgba(0,0,0,0)',  # Color de fondo del gráfico\n",
    ")\n",
    "\n",
    "# Exportar gráfica como archivo HTML\n",
    "def guardar_grafico_como_html(fig, nombre_archivo, carpeta='graficas'):\n",
    "    # Crear la carpeta si no existe\n",
    "    if not os.path.exists(carpeta):\n",
    "        os.makedirs(carpeta)\n",
    "    \n",
    "    # Gráfica como archivo HTML en la carpeta especificada\n",
    "    pio.write_html(fig, f'{carpeta}/{nombre_archivo}.html')\n",
    "\n",
    "# Exportar\n",
    "guardar_grafico_como_html(fig, 'g_bar_volmercadosalarial_Xparejas_TULGO', carpeta='graficas')\n",
    "\n",
    "fig.show()\n"
   ]
  },
  {
   "cell_type": "markdown",
   "metadata": {},
   "source": [
    "## *PUEBLA*"
   ]
  },
  {
   "cell_type": "code",
   "execution_count": 32,
   "metadata": {},
   "outputs": [],
   "source": [
    "# Crea los DataFrames para cada archivo con las columnas necesarias\n",
    "pareja_df_salarios_puebla = df_salarios_puebla[['id_salarios','Volumen', 'Pareja','Categoria_Pareja']]"
   ]
  },
  {
   "cell_type": "code",
   "execution_count": 33,
   "metadata": {},
   "outputs": [
    {
     "name": "stdout",
     "output_type": "stream",
     "text": [
      "DataFrame para Categoria_Pareja 'A':\n",
      "     id_salarios       Volumen    Pareja Categoria_Pareja\n",
      "330          331 62,760,000.00 50,700.00                A\n",
      "DataFrame para Categoria_Pareja 'A1':\n",
      "     id_salarios      Volumen    Pareja Categoria_Pareja\n",
      "331          332 7,140,000.00 57,460.00               A1\n",
      "332          333 7,223,929.11 58,413.59               A1\n",
      "DataFrame para Categoria_Pareja 'B':\n",
      "     id_salarios      Volumen    Pareja Categoria_Pareja\n",
      "329          330 5,160,000.00 43,602.00                B\n",
      "DataFrame para Categoria_Pareja 'C':\n",
      "     id_salarios       Volumen    Pareja Categoria_Pareja\n",
      "321          322 10,512,000.00 30,420.00                C\n",
      "322          323  8,406,999.99 30,819.59                C\n",
      "323          324 18,620,000.00 33,800.00                C\n",
      "DataFrame para Categoria_Pareja 'C1':\n",
      "     id_salarios       Volumen    Pareja Categoria_Pareja\n",
      "324          325 16,963,500.00 36,335.00               C1\n",
      "325          326 40,704,876.35 36,436.04               C1\n",
      "326          327 23,070,629.63 37,381.94               C1\n",
      "327          328  7,959,599.99 37,679.90               C1\n",
      "328          329 30,080,790.73 37,966.05               C1\n",
      "DataFrame para Categoria_Pareja 'D':\n",
      "     id_salarios       Volumen    Pareja Categoria_Pareja\n",
      "301          302  3,384,800.01 20,141.94                D\n",
      "302          303  2,652,000.00 20,280.00                D\n",
      "303          304 15,552,000.00 20,280.00                D\n",
      "304          305 11,393,599.98 20,929.55                D\n",
      "305          306 44,314,332.83 21,036.86                D\n",
      "306          307 30,545,784.06 21,708.32                D\n",
      "307          308  6,174,000.00 22,295.00                D\n",
      "308          309 32,687,550.09 22,658.72                D\n",
      "309          310 11,040,000.00 23,322.00                D\n",
      "310          311 21,350,999.97 24,748.42                D\n",
      "311          312 18,936,000.06 24,846.15                D\n",
      "DataFrame para Categoria_Pareja 'D1':\n",
      "     id_salarios       Volumen    Pareja Categoria_Pareja\n",
      "312          313  3,405,000.00 25,350.00               D1\n",
      "313          314  3,825,000.00 25,350.00               D1\n",
      "314          315 24,059,180.26 26,873.77               D1\n",
      "315          316 76,742,152.72 26,991.52               D1\n",
      "316          317 95,612,000.02 27,415.05               D1\n",
      "317          318 12,019,000.00 28,730.00               D1\n",
      "318          319 16,632,400.00 29,068.00               D1\n",
      "319          320 20,134,493.69 29,207.98               D1\n",
      "320          321 31,683,441.30 29,259.57               D1\n",
      "DataFrame para Categoria_Pareja 'E':\n",
      "     id_salarios        Volumen    Pareja Categoria_Pareja\n",
      "240          241  11,264,849.47 12,227.10                E\n",
      "241          242  28,188,107.63 12,271.48                E\n",
      "242          243   1,264,630.00 12,353.90                E\n",
      "243          244  21,055,503.08 12,355.49                E\n",
      "244          245   6,653,014.92 12,410.15                E\n",
      "245          246  21,907,110.53 12,448.90                E\n",
      "246          247   4,877,232.00 12,564.82                E\n",
      "247          248  63,402,050.02 12,623.64                E\n",
      "248          249  73,848,019.97 12,685.83                E\n",
      "249          250 111,451,959.98 12,701.72                E\n",
      "250          251   6,300,360.00 13,080.60                E\n",
      "251          252  15,079,025.00 13,210.76                E\n",
      "252          253   1,593,705.72 13,399.81                E\n",
      "253          254  20,968,714.00 13,479.32                E\n",
      "254          255  43,343,079.99 13,529.70                E\n",
      "255          256  48,388,900.01 13,530.32                E\n",
      "256          257  12,547,189.62 13,733.65                E\n",
      "257          258   1,209,160.00 13,807.30                E\n",
      "258          259  10,008,200.00 14,189.48                E\n",
      "259          260   6,586,645.74 14,271.07                E\n",
      "260          261   1,903,045.38 14,293.99                E\n",
      "261          262  41,276,657.00 14,323.93                E\n",
      "262          263  24,880,480.25 14,444.52                E\n",
      "263          264   4,262,160.00 14,522.28                E\n",
      "264          265   7,146,600.00 14,534.00                E\n",
      "265          266   4,128,000.00 14,534.00                E\n",
      "266          267 169,610,760.01 14,676.27                E\n",
      "267          268  22,344,411.21 14,687.69                E\n",
      "268          269  16,398,909.99 14,948.31                E\n",
      "269          270   7,343,380.90 15,190.10                E\n",
      "270          271  86,482,085.12 15,376.61                E\n",
      "271          272   6,718,320.00 15,532.09                E\n",
      "272          273  21,612,470.01 15,676.00                E\n",
      "273          274   5,636,966.02 15,694.35                E\n",
      "274          275  12,059,790.00 15,860.74                E\n",
      "275          276  17,337,600.00 15,889.67                E\n",
      "DataFrame para Categoria_Pareja 'E1':\n",
      "     id_salarios        Volumen    Pareja Categoria_Pareja\n",
      "276          277  13,276,800.00 16,015.55               E1\n",
      "277          278  27,559,550.58 16,066.11               E1\n",
      "278          279  30,926,888.61 16,091.88               E1\n",
      "279          280  13,668,348.32 16,221.57               E1\n",
      "280          281   2,044,800.00 16,224.00               E1\n",
      "281          282   1,646,400.00 16,562.00               E1\n",
      "282          283  13,007,998.86 16,742.97               E1\n",
      "283          284  11,256,000.00 16,834.19               E1\n",
      "284          285   2,590,000.00 16,900.00               E1\n",
      "285          286   7,310,000.00 16,900.00               E1\n",
      "286          287   4,813,149.99 17,052.88               E1\n",
      "287          288   7,226,580.00 17,081.01               E1\n",
      "288          289   4,462,300.88 17,139.29               E1\n",
      "289          290   9,337,020.00 17,207.81               E1\n",
      "290          291   6,106,819.98 17,229.59               E1\n",
      "291          292  17,678,565.48 17,360.13               E1\n",
      "292          293  54,601,400.00 17,361.50               E1\n",
      "293          294  21,504,999.98 17,472.81               E1\n",
      "294          295  17,866,499.98 17,792.80               E1\n",
      "295          296   4,730,000.00 18,590.00               E1\n",
      "296          297  32,426,729.92 18,729.04               E1\n",
      "297          298  11,522,399.99 18,942.47               E1\n",
      "298          299 120,852,640.14 19,114.74               E1\n",
      "299          300  19,583,920.77 19,583.92               E1\n",
      "300          301   2,414,880.00 19,620.90               E1\n",
      "DataFrame para Categoria_Pareja 'F':\n",
      "     id_salarios       Volumen   Pareja Categoria_Pareja\n",
      "56            57 10,888,570.00 5,034.66                F\n",
      "57            58    570,000.00 5,070.00                F\n",
      "58            59  2,349,000.00 5,070.00                F\n",
      "59            60  1,248,000.00 5,070.00                F\n",
      "60            61    960,000.00 5,070.00                F\n",
      "..           ...           ...      ...              ...\n",
      "139          140 63,465,585.44 7,841.56                F\n",
      "140          141  5,011,040.00 7,855.90                F\n",
      "141          142 11,782,236.94 7,904.72                F\n",
      "142          143 64,348,287.77 7,944.23                F\n",
      "143          144  3,333,900.96 7,946.82                F\n",
      "\n",
      "[88 rows x 4 columns]\n",
      "DataFrame para Categoria_Pareja 'F1':\n",
      "     id_salarios        Volumen    Pareja Categoria_Pareja\n",
      "144          145  25,066,639.98  8,066.00               F1\n",
      "145          146   2,760,000.00  8,083.88               F1\n",
      "146          147  21,092,999.99  8,090.60               F1\n",
      "147          148   4,155,407.17  8,090.60               F1\n",
      "148          149   3,115,907.41  8,101.36               F1\n",
      "..           ...            ...       ...              ...\n",
      "235          236  10,465,000.00 11,830.00               F1\n",
      "236          237   2,296,000.00 11,830.00               F1\n",
      "237          238  10,464,899.99 11,845.73               F1\n",
      "238          239   7,511,349.53 11,863.72               F1\n",
      "239          240 221,407,012.13 11,897.17               F1\n",
      "\n",
      "[96 rows x 4 columns]\n",
      "DataFrame para Categoria_Pareja 'G':\n",
      "    id_salarios        Volumen   Pareja Categoria_Pareja\n",
      "0             1   1,122,300.00   412.86                G\n",
      "1             2   6,090,617.00 1,166.10                G\n",
      "2             3     274,693.39 1,381.64                G\n",
      "3             4     568,745.99 1,645.86                G\n",
      "4             5     717,000.00 1,690.00                G\n",
      "5             6     817,000.00 1,690.00                G\n",
      "6             7     952,000.00 1,690.00                G\n",
      "7             8 151,998,460.78 1,780.75                G\n",
      "8             9     501,004.00 2,085.46                G\n",
      "9            10  16,093,965.00 2,085.80                G\n",
      "10           11   1,537,680.00 2,180.10                G\n",
      "11           12     852,800.00 2,197.00                G\n",
      "12           13     787,800.00 2,197.00                G\n",
      "13           14     564,544.09 2,244.89                G\n",
      "14           15     568,400.00 2,366.00                G\n",
      "15           16   1,029,348.00 2,464.02                G\n",
      "16           17   1,883,400.00 2,473.15                G\n",
      "17           18     225,000.00 2,535.00                G\n",
      "18           19     988,500.00 2,535.00                G\n",
      "19           20     315,000.00 2,535.00                G\n",
      "20           21   3,477,173.00 2,648.23                G\n",
      "21           22   1,983,683.87 2,652.24                G\n",
      "22           23   4,235,070.00 2,668.63                G\n",
      "23           24  24,267,910.03 2,798.55                G\n",
      "24           25   1,000,000.00 2,811.98                G\n",
      "25           26  37,850,406.07 3,096.48                G\n",
      "26           27  60,124,823.98 3,186.99                G\n",
      "27           28   9,273,380.01 3,205.57                G\n",
      "28           29   2,790,742.43 3,217.16                G\n",
      "29           30  10,072,080.00 3,223.83                G\n",
      "30           31  73,725,034.83 3,268.85                G\n",
      "31           32     356,000.00 3,380.00                G\n",
      "32           33   3,732,000.00 3,380.00                G\n",
      "33           34  36,970,263.48 3,450.59                G\n",
      "34           35   8,647,729.98 3,468.94                G\n",
      "35           36   2,038,200.00 3,493.47                G\n",
      "36           37  12,649,599.98 3,579.68                G\n",
      "37           38   2,500,026.42 3,589.67                G\n",
      "38           39     371,950.00 3,633.50                G\n",
      "39           40   1,330,420.00 3,766.18                G\n",
      "40           41   7,717,904.99 3,849.84                G\n",
      "41           42  48,972,911.26 4,121.31                G\n",
      "42           43   1,484,280.00 4,201.73                G\n",
      "43           44   2,907,000.01 4,279.47                G\n",
      "44           45  28,295,251.97 4,287.93                G\n",
      "45           46   1,566,000.00 4,289.37                G\n",
      "46           47  26,528,049.96 4,317.03                G\n",
      "47           48 648,464,823.36 4,330.77                G\n",
      "48           49   8,404,349.99 4,405.51                G\n",
      "49           50   1,344,948.98 4,500.92                G\n",
      "50           51  14,270,429.99 4,575.42                G\n",
      "51           52   3,408,000.00 4,578.31                G\n",
      "52           53   5,192,249.99 4,589.38                G\n",
      "53           54     841,295.00 4,723.55                G\n",
      "54           55 586,257,014.47 4,870.37                G\n",
      "55           56  46,617,412.96 4,988.82                G\n"
     ]
    }
   ],
   "source": [
    "# Crea un diccionario para almacenar los DataFrames de cada categoría única\n",
    "dataframes_por_categoria = {}\n",
    "\n",
    "# Itera sobre los grupos creados por groupby()\n",
    "for categoria, grupo in pareja_df_salarios_puebla.groupby('Categoria_Pareja'):\n",
    "    # Almacena el DataFrame del grupo en el diccionario\n",
    "    dataframes_por_categoria[categoria] = grupo\n",
    "\n",
    "# Itera sobre las claves del diccionario dataframes_por_categoria\n",
    "for categoria in dataframes_por_categoria:\n",
    "    # Imprime la categoría actual\n",
    "    print(\"DataFrame para Categoria_Pareja '{}':\".format(categoria))\n",
    "    # Imprime el DataFrame correspondiente a la categoría actual\n",
    "    print(dataframes_por_categoria[categoria])\n"
   ]
  },
  {
   "cell_type": "code",
   "execution_count": 34,
   "metadata": {},
   "outputs": [
    {
     "name": "stdout",
     "output_type": "stream",
     "text": [
      "DataFrame con las sumas del volumen por categoría:\n"
     ]
    },
    {
     "data": {
      "text/html": [
       "<div>\n",
       "<style scoped>\n",
       "    .dataframe tbody tr th:only-of-type {\n",
       "        vertical-align: middle;\n",
       "    }\n",
       "\n",
       "    .dataframe tbody tr th {\n",
       "        vertical-align: top;\n",
       "    }\n",
       "\n",
       "    .dataframe thead th {\n",
       "        text-align: right;\n",
       "    }\n",
       "</style>\n",
       "<table border=\"1\" class=\"dataframe\">\n",
       "  <thead>\n",
       "    <tr style=\"text-align: right;\">\n",
       "      <th></th>\n",
       "      <th>Suma_Volumen</th>\n",
       "    </tr>\n",
       "  </thead>\n",
       "  <tbody>\n",
       "    <tr>\n",
       "      <th>G</th>\n",
       "      <td>1,917,556,675.26</td>\n",
       "    </tr>\n",
       "    <tr>\n",
       "      <th>F</th>\n",
       "      <td>4,638,065,608.63</td>\n",
       "    </tr>\n",
       "    <tr>\n",
       "      <th>F1</th>\n",
       "      <td>4,190,311,696.11</td>\n",
       "    </tr>\n",
       "    <tr>\n",
       "      <th>E</th>\n",
       "      <td>959,079,093.57</td>\n",
       "    </tr>\n",
       "    <tr>\n",
       "      <th>E1</th>\n",
       "      <td>458,414,693.48</td>\n",
       "    </tr>\n",
       "    <tr>\n",
       "      <th>D</th>\n",
       "      <td>198,031,067.00</td>\n",
       "    </tr>\n",
       "    <tr>\n",
       "      <th>D1</th>\n",
       "      <td>284,112,667.99</td>\n",
       "    </tr>\n",
       "    <tr>\n",
       "      <th>C</th>\n",
       "      <td>37,538,999.99</td>\n",
       "    </tr>\n",
       "    <tr>\n",
       "      <th>C1</th>\n",
       "      <td>118,779,396.70</td>\n",
       "    </tr>\n",
       "    <tr>\n",
       "      <th>B</th>\n",
       "      <td>5,160,000.00</td>\n",
       "    </tr>\n",
       "    <tr>\n",
       "      <th>B1</th>\n",
       "      <td>0.00</td>\n",
       "    </tr>\n",
       "    <tr>\n",
       "      <th>A</th>\n",
       "      <td>62,760,000.00</td>\n",
       "    </tr>\n",
       "    <tr>\n",
       "      <th>A1</th>\n",
       "      <td>14,363,929.11</td>\n",
       "    </tr>\n",
       "    <tr>\n",
       "      <th>S</th>\n",
       "      <td>0.00</td>\n",
       "    </tr>\n",
       "  </tbody>\n",
       "</table>\n",
       "</div>"
      ],
      "text/plain": [
       "       Suma_Volumen\n",
       "G  1,917,556,675.26\n",
       "F  4,638,065,608.63\n",
       "F1 4,190,311,696.11\n",
       "E    959,079,093.57\n",
       "E1   458,414,693.48\n",
       "D    198,031,067.00\n",
       "D1   284,112,667.99\n",
       "C     37,538,999.99\n",
       "C1   118,779,396.70\n",
       "B      5,160,000.00\n",
       "B1             0.00\n",
       "A     62,760,000.00\n",
       "A1    14,363,929.11\n",
       "S              0.00"
      ]
     },
     "execution_count": 34,
     "metadata": {},
     "output_type": "execute_result"
    }
   ],
   "source": [
    "sumas_volumen_por_categoria = {}\n",
    "\n",
    "# Itera sobre el diccionario de DataFrames\n",
    "for categoria, df in dataframes_por_categoria.items():\n",
    "    suma_volumen = df['Volumen'].sum() # Calcula la suma del volumen para cada DataFrame    \n",
    "    sumas_volumen_por_categoria[categoria] = suma_volumen # Guarda la suma del volumen en el diccionario\n",
    "\n",
    "# Convierte el diccionario de sumas en un DataFrame\n",
    "df_sumas_volumen = pd.DataFrame.from_dict(sumas_volumen_por_categoria, orient='index', columns=['Suma_Volumen'])\n",
    "# Mantener orden\n",
    "nuevo_orden = ['G', 'F', 'F1', 'E', 'E1', 'D', 'D1', 'C', 'C1', 'B', 'B1', 'A', 'A1', 'S']\n",
    "df_sumas_volumen = df_sumas_volumen.reindex(nuevo_orden)\n",
    "df_sumas_volumen['Suma_Volumen'] = df_sumas_volumen['Suma_Volumen'].fillna(0)\n",
    "\n",
    "#pd.set_option('display.float_format', lambda x: '%.2f' % x) # Mostar números sin notación científica\n",
    "pd.options.display.float_format = '{:,.2f}'.format # Mostrar comas como separadores de miles y dos decimales\n",
    "\n",
    "print(\"DataFrame con las sumas del volumen por categoría:\")\n",
    "df_sumas_volumen"
   ]
  },
  {
   "cell_type": "code",
   "execution_count": 35,
   "metadata": {},
   "outputs": [
    {
     "data": {
      "text/html": [
       "<div>\n",
       "<style scoped>\n",
       "    .dataframe tbody tr th:only-of-type {\n",
       "        vertical-align: middle;\n",
       "    }\n",
       "\n",
       "    .dataframe tbody tr th {\n",
       "        vertical-align: top;\n",
       "    }\n",
       "\n",
       "    .dataframe thead th {\n",
       "        text-align: right;\n",
       "    }\n",
       "</style>\n",
       "<table border=\"1\" class=\"dataframe\">\n",
       "  <thead>\n",
       "    <tr style=\"text-align: right;\">\n",
       "      <th></th>\n",
       "      <th>Suma_Volumen</th>\n",
       "      <th>Label</th>\n",
       "    </tr>\n",
       "  </thead>\n",
       "  <tbody>\n",
       "    <tr>\n",
       "      <th>G</th>\n",
       "      <td>1,917,556,675.26</td>\n",
       "      <td>&lt;5000 G</td>\n",
       "    </tr>\n",
       "    <tr>\n",
       "      <th>F</th>\n",
       "      <td>4,638,065,608.63</td>\n",
       "      <td>&lt;5-8K F</td>\n",
       "    </tr>\n",
       "    <tr>\n",
       "      <th>F1</th>\n",
       "      <td>4,190,311,696.11</td>\n",
       "      <td>8-12K F1</td>\n",
       "    </tr>\n",
       "    <tr>\n",
       "      <th>E</th>\n",
       "      <td>959,079,093.57</td>\n",
       "      <td>12-16K E</td>\n",
       "    </tr>\n",
       "    <tr>\n",
       "      <th>E1</th>\n",
       "      <td>458,414,693.48</td>\n",
       "      <td>16-20K E1</td>\n",
       "    </tr>\n",
       "    <tr>\n",
       "      <th>D</th>\n",
       "      <td>198,031,067.00</td>\n",
       "      <td>20-25K D</td>\n",
       "    </tr>\n",
       "    <tr>\n",
       "      <th>D1</th>\n",
       "      <td>284,112,667.99</td>\n",
       "      <td>25-30K D1</td>\n",
       "    </tr>\n",
       "    <tr>\n",
       "      <th>C</th>\n",
       "      <td>37,538,999.99</td>\n",
       "      <td>30-35K C</td>\n",
       "    </tr>\n",
       "    <tr>\n",
       "      <th>C1</th>\n",
       "      <td>118,779,396.70</td>\n",
       "      <td>35-40K C1</td>\n",
       "    </tr>\n",
       "    <tr>\n",
       "      <th>B</th>\n",
       "      <td>5,160,000.00</td>\n",
       "      <td>40-45K B</td>\n",
       "    </tr>\n",
       "    <tr>\n",
       "      <th>B1</th>\n",
       "      <td>0.00</td>\n",
       "      <td>45-50K B1</td>\n",
       "    </tr>\n",
       "    <tr>\n",
       "      <th>A</th>\n",
       "      <td>62,760,000.00</td>\n",
       "      <td>50-55K A</td>\n",
       "    </tr>\n",
       "    <tr>\n",
       "      <th>A1</th>\n",
       "      <td>14,363,929.11</td>\n",
       "      <td>55-60K A1</td>\n",
       "    </tr>\n",
       "    <tr>\n",
       "      <th>S</th>\n",
       "      <td>0.00</td>\n",
       "      <td>60K S+</td>\n",
       "    </tr>\n",
       "  </tbody>\n",
       "</table>\n",
       "</div>"
      ],
      "text/plain": [
       "       Suma_Volumen      Label\n",
       "G  1,917,556,675.26    <5000 G\n",
       "F  4,638,065,608.63    <5-8K F\n",
       "F1 4,190,311,696.11   8-12K F1\n",
       "E    959,079,093.57   12-16K E\n",
       "E1   458,414,693.48  16-20K E1\n",
       "D    198,031,067.00   20-25K D\n",
       "D1   284,112,667.99  25-30K D1\n",
       "C     37,538,999.99   30-35K C\n",
       "C1   118,779,396.70  35-40K C1\n",
       "B      5,160,000.00   40-45K B\n",
       "B1             0.00  45-50K B1\n",
       "A     62,760,000.00   50-55K A\n",
       "A1    14,363,929.11  55-60K A1\n",
       "S              0.00     60K S+"
      ]
     },
     "execution_count": 35,
     "metadata": {},
     "output_type": "execute_result"
    }
   ],
   "source": [
    "df_volumen_ms_parejas = df_sumas_volumen[['Suma_Volumen']]\n",
    "df_volumen_ms_parejas['Label'] = ['<5000 G','<5-8K F','8-12K F1','12-16K E','16-20K E1','20-25K D','25-30K D1','30-35K C','35-40K C1','40-45K B','45-50K B1','50-55K A','55-60K A1','60K S+']\n",
    "df_volumen_ms_parejas"
   ]
  },
  {
   "cell_type": "code",
   "execution_count": 39,
   "metadata": {},
   "outputs": [
    {
     "data": {
      "application/vnd.plotly.v1+json": {
       "config": {
        "plotlyServerURL": "https://plot.ly"
       },
       "data": [
        {
         "marker": {
          "color": [
           "#2962ff",
           "#9500ff",
           "#ff0059",
           "#ff8c00",
           "#b4e600",
           "#2EC2A2",
           "#E50CB6",
           "#4225CF",
           "#2CBA4D",
           "#2962ff",
           "#9500ff",
           "#ff0059"
          ]
         },
         "text": [
          "1,917,556,675.26",
          "4,638,065,608.63",
          "4,190,311,696.11",
          "959,079,093.57",
          "458,414,693.48",
          "198,031,067.00",
          "284,112,667.99",
          "37,538,999.99",
          "118,779,396.70",
          "5,160,000.00",
          "0.00",
          "62,760,000.00",
          "14,363,929.11",
          "0.00"
         ],
         "textposition": "outside",
         "type": "bar",
         "x": [
          "<5000 G",
          "<5-8K F",
          "8-12K F1",
          "12-16K E",
          "16-20K E1",
          "20-25K D",
          "25-30K D1",
          "30-35K C",
          "35-40K C1",
          "40-45K B",
          "45-50K B1",
          "50-55K A",
          "55-60K A1",
          "60K S+"
         ],
         "y": [
          1917556675.2600002,
          4638065608.63,
          4190311696.11,
          959079093.5699999,
          458414693.48,
          198031067,
          284112667.99,
          37538999.99,
          118779396.7,
          5160000,
          0,
          62760000,
          14363929.11,
          0
         ]
        }
       ],
       "layout": {
        "plot_bgcolor": "rgba(0,0,0,0)",
        "template": {
         "data": {
          "bar": [
           {
            "error_x": {
             "color": "#2a3f5f"
            },
            "error_y": {
             "color": "#2a3f5f"
            },
            "marker": {
             "line": {
              "color": "#E5ECF6",
              "width": 0.5
             },
             "pattern": {
              "fillmode": "overlay",
              "size": 10,
              "solidity": 0.2
             }
            },
            "type": "bar"
           }
          ],
          "barpolar": [
           {
            "marker": {
             "line": {
              "color": "#E5ECF6",
              "width": 0.5
             },
             "pattern": {
              "fillmode": "overlay",
              "size": 10,
              "solidity": 0.2
             }
            },
            "type": "barpolar"
           }
          ],
          "carpet": [
           {
            "aaxis": {
             "endlinecolor": "#2a3f5f",
             "gridcolor": "white",
             "linecolor": "white",
             "minorgridcolor": "white",
             "startlinecolor": "#2a3f5f"
            },
            "baxis": {
             "endlinecolor": "#2a3f5f",
             "gridcolor": "white",
             "linecolor": "white",
             "minorgridcolor": "white",
             "startlinecolor": "#2a3f5f"
            },
            "type": "carpet"
           }
          ],
          "choropleth": [
           {
            "colorbar": {
             "outlinewidth": 0,
             "ticks": ""
            },
            "type": "choropleth"
           }
          ],
          "contour": [
           {
            "colorbar": {
             "outlinewidth": 0,
             "ticks": ""
            },
            "colorscale": [
             [
              0,
              "#0d0887"
             ],
             [
              0.1111111111111111,
              "#46039f"
             ],
             [
              0.2222222222222222,
              "#7201a8"
             ],
             [
              0.3333333333333333,
              "#9c179e"
             ],
             [
              0.4444444444444444,
              "#bd3786"
             ],
             [
              0.5555555555555556,
              "#d8576b"
             ],
             [
              0.6666666666666666,
              "#ed7953"
             ],
             [
              0.7777777777777778,
              "#fb9f3a"
             ],
             [
              0.8888888888888888,
              "#fdca26"
             ],
             [
              1,
              "#f0f921"
             ]
            ],
            "type": "contour"
           }
          ],
          "contourcarpet": [
           {
            "colorbar": {
             "outlinewidth": 0,
             "ticks": ""
            },
            "type": "contourcarpet"
           }
          ],
          "heatmap": [
           {
            "colorbar": {
             "outlinewidth": 0,
             "ticks": ""
            },
            "colorscale": [
             [
              0,
              "#0d0887"
             ],
             [
              0.1111111111111111,
              "#46039f"
             ],
             [
              0.2222222222222222,
              "#7201a8"
             ],
             [
              0.3333333333333333,
              "#9c179e"
             ],
             [
              0.4444444444444444,
              "#bd3786"
             ],
             [
              0.5555555555555556,
              "#d8576b"
             ],
             [
              0.6666666666666666,
              "#ed7953"
             ],
             [
              0.7777777777777778,
              "#fb9f3a"
             ],
             [
              0.8888888888888888,
              "#fdca26"
             ],
             [
              1,
              "#f0f921"
             ]
            ],
            "type": "heatmap"
           }
          ],
          "heatmapgl": [
           {
            "colorbar": {
             "outlinewidth": 0,
             "ticks": ""
            },
            "colorscale": [
             [
              0,
              "#0d0887"
             ],
             [
              0.1111111111111111,
              "#46039f"
             ],
             [
              0.2222222222222222,
              "#7201a8"
             ],
             [
              0.3333333333333333,
              "#9c179e"
             ],
             [
              0.4444444444444444,
              "#bd3786"
             ],
             [
              0.5555555555555556,
              "#d8576b"
             ],
             [
              0.6666666666666666,
              "#ed7953"
             ],
             [
              0.7777777777777778,
              "#fb9f3a"
             ],
             [
              0.8888888888888888,
              "#fdca26"
             ],
             [
              1,
              "#f0f921"
             ]
            ],
            "type": "heatmapgl"
           }
          ],
          "histogram": [
           {
            "marker": {
             "pattern": {
              "fillmode": "overlay",
              "size": 10,
              "solidity": 0.2
             }
            },
            "type": "histogram"
           }
          ],
          "histogram2d": [
           {
            "colorbar": {
             "outlinewidth": 0,
             "ticks": ""
            },
            "colorscale": [
             [
              0,
              "#0d0887"
             ],
             [
              0.1111111111111111,
              "#46039f"
             ],
             [
              0.2222222222222222,
              "#7201a8"
             ],
             [
              0.3333333333333333,
              "#9c179e"
             ],
             [
              0.4444444444444444,
              "#bd3786"
             ],
             [
              0.5555555555555556,
              "#d8576b"
             ],
             [
              0.6666666666666666,
              "#ed7953"
             ],
             [
              0.7777777777777778,
              "#fb9f3a"
             ],
             [
              0.8888888888888888,
              "#fdca26"
             ],
             [
              1,
              "#f0f921"
             ]
            ],
            "type": "histogram2d"
           }
          ],
          "histogram2dcontour": [
           {
            "colorbar": {
             "outlinewidth": 0,
             "ticks": ""
            },
            "colorscale": [
             [
              0,
              "#0d0887"
             ],
             [
              0.1111111111111111,
              "#46039f"
             ],
             [
              0.2222222222222222,
              "#7201a8"
             ],
             [
              0.3333333333333333,
              "#9c179e"
             ],
             [
              0.4444444444444444,
              "#bd3786"
             ],
             [
              0.5555555555555556,
              "#d8576b"
             ],
             [
              0.6666666666666666,
              "#ed7953"
             ],
             [
              0.7777777777777778,
              "#fb9f3a"
             ],
             [
              0.8888888888888888,
              "#fdca26"
             ],
             [
              1,
              "#f0f921"
             ]
            ],
            "type": "histogram2dcontour"
           }
          ],
          "mesh3d": [
           {
            "colorbar": {
             "outlinewidth": 0,
             "ticks": ""
            },
            "type": "mesh3d"
           }
          ],
          "parcoords": [
           {
            "line": {
             "colorbar": {
              "outlinewidth": 0,
              "ticks": ""
             }
            },
            "type": "parcoords"
           }
          ],
          "pie": [
           {
            "automargin": true,
            "type": "pie"
           }
          ],
          "scatter": [
           {
            "fillpattern": {
             "fillmode": "overlay",
             "size": 10,
             "solidity": 0.2
            },
            "type": "scatter"
           }
          ],
          "scatter3d": [
           {
            "line": {
             "colorbar": {
              "outlinewidth": 0,
              "ticks": ""
             }
            },
            "marker": {
             "colorbar": {
              "outlinewidth": 0,
              "ticks": ""
             }
            },
            "type": "scatter3d"
           }
          ],
          "scattercarpet": [
           {
            "marker": {
             "colorbar": {
              "outlinewidth": 0,
              "ticks": ""
             }
            },
            "type": "scattercarpet"
           }
          ],
          "scattergeo": [
           {
            "marker": {
             "colorbar": {
              "outlinewidth": 0,
              "ticks": ""
             }
            },
            "type": "scattergeo"
           }
          ],
          "scattergl": [
           {
            "marker": {
             "colorbar": {
              "outlinewidth": 0,
              "ticks": ""
             }
            },
            "type": "scattergl"
           }
          ],
          "scattermapbox": [
           {
            "marker": {
             "colorbar": {
              "outlinewidth": 0,
              "ticks": ""
             }
            },
            "type": "scattermapbox"
           }
          ],
          "scatterpolar": [
           {
            "marker": {
             "colorbar": {
              "outlinewidth": 0,
              "ticks": ""
             }
            },
            "type": "scatterpolar"
           }
          ],
          "scatterpolargl": [
           {
            "marker": {
             "colorbar": {
              "outlinewidth": 0,
              "ticks": ""
             }
            },
            "type": "scatterpolargl"
           }
          ],
          "scatterternary": [
           {
            "marker": {
             "colorbar": {
              "outlinewidth": 0,
              "ticks": ""
             }
            },
            "type": "scatterternary"
           }
          ],
          "surface": [
           {
            "colorbar": {
             "outlinewidth": 0,
             "ticks": ""
            },
            "colorscale": [
             [
              0,
              "#0d0887"
             ],
             [
              0.1111111111111111,
              "#46039f"
             ],
             [
              0.2222222222222222,
              "#7201a8"
             ],
             [
              0.3333333333333333,
              "#9c179e"
             ],
             [
              0.4444444444444444,
              "#bd3786"
             ],
             [
              0.5555555555555556,
              "#d8576b"
             ],
             [
              0.6666666666666666,
              "#ed7953"
             ],
             [
              0.7777777777777778,
              "#fb9f3a"
             ],
             [
              0.8888888888888888,
              "#fdca26"
             ],
             [
              1,
              "#f0f921"
             ]
            ],
            "type": "surface"
           }
          ],
          "table": [
           {
            "cells": {
             "fill": {
              "color": "#EBF0F8"
             },
             "line": {
              "color": "white"
             }
            },
            "header": {
             "fill": {
              "color": "#C8D4E3"
             },
             "line": {
              "color": "white"
             }
            },
            "type": "table"
           }
          ]
         },
         "layout": {
          "annotationdefaults": {
           "arrowcolor": "#2a3f5f",
           "arrowhead": 0,
           "arrowwidth": 1
          },
          "autotypenumbers": "strict",
          "coloraxis": {
           "colorbar": {
            "outlinewidth": 0,
            "ticks": ""
           }
          },
          "colorscale": {
           "diverging": [
            [
             0,
             "#8e0152"
            ],
            [
             0.1,
             "#c51b7d"
            ],
            [
             0.2,
             "#de77ae"
            ],
            [
             0.3,
             "#f1b6da"
            ],
            [
             0.4,
             "#fde0ef"
            ],
            [
             0.5,
             "#f7f7f7"
            ],
            [
             0.6,
             "#e6f5d0"
            ],
            [
             0.7,
             "#b8e186"
            ],
            [
             0.8,
             "#7fbc41"
            ],
            [
             0.9,
             "#4d9221"
            ],
            [
             1,
             "#276419"
            ]
           ],
           "sequential": [
            [
             0,
             "#0d0887"
            ],
            [
             0.1111111111111111,
             "#46039f"
            ],
            [
             0.2222222222222222,
             "#7201a8"
            ],
            [
             0.3333333333333333,
             "#9c179e"
            ],
            [
             0.4444444444444444,
             "#bd3786"
            ],
            [
             0.5555555555555556,
             "#d8576b"
            ],
            [
             0.6666666666666666,
             "#ed7953"
            ],
            [
             0.7777777777777778,
             "#fb9f3a"
            ],
            [
             0.8888888888888888,
             "#fdca26"
            ],
            [
             1,
             "#f0f921"
            ]
           ],
           "sequentialminus": [
            [
             0,
             "#0d0887"
            ],
            [
             0.1111111111111111,
             "#46039f"
            ],
            [
             0.2222222222222222,
             "#7201a8"
            ],
            [
             0.3333333333333333,
             "#9c179e"
            ],
            [
             0.4444444444444444,
             "#bd3786"
            ],
            [
             0.5555555555555556,
             "#d8576b"
            ],
            [
             0.6666666666666666,
             "#ed7953"
            ],
            [
             0.7777777777777778,
             "#fb9f3a"
            ],
            [
             0.8888888888888888,
             "#fdca26"
            ],
            [
             1,
             "#f0f921"
            ]
           ]
          },
          "colorway": [
           "#636efa",
           "#EF553B",
           "#00cc96",
           "#ab63fa",
           "#FFA15A",
           "#19d3f3",
           "#FF6692",
           "#B6E880",
           "#FF97FF",
           "#FECB52"
          ],
          "font": {
           "color": "#2a3f5f"
          },
          "geo": {
           "bgcolor": "white",
           "lakecolor": "white",
           "landcolor": "#E5ECF6",
           "showlakes": true,
           "showland": true,
           "subunitcolor": "white"
          },
          "hoverlabel": {
           "align": "left"
          },
          "hovermode": "closest",
          "mapbox": {
           "style": "light"
          },
          "paper_bgcolor": "white",
          "plot_bgcolor": "#E5ECF6",
          "polar": {
           "angularaxis": {
            "gridcolor": "white",
            "linecolor": "white",
            "ticks": ""
           },
           "bgcolor": "#E5ECF6",
           "radialaxis": {
            "gridcolor": "white",
            "linecolor": "white",
            "ticks": ""
           }
          },
          "scene": {
           "xaxis": {
            "backgroundcolor": "#E5ECF6",
            "gridcolor": "white",
            "gridwidth": 2,
            "linecolor": "white",
            "showbackground": true,
            "ticks": "",
            "zerolinecolor": "white"
           },
           "yaxis": {
            "backgroundcolor": "#E5ECF6",
            "gridcolor": "white",
            "gridwidth": 2,
            "linecolor": "white",
            "showbackground": true,
            "ticks": "",
            "zerolinecolor": "white"
           },
           "zaxis": {
            "backgroundcolor": "#E5ECF6",
            "gridcolor": "white",
            "gridwidth": 2,
            "linecolor": "white",
            "showbackground": true,
            "ticks": "",
            "zerolinecolor": "white"
           }
          },
          "shapedefaults": {
           "line": {
            "color": "#2a3f5f"
           }
          },
          "ternary": {
           "aaxis": {
            "gridcolor": "white",
            "linecolor": "white",
            "ticks": ""
           },
           "baxis": {
            "gridcolor": "white",
            "linecolor": "white",
            "ticks": ""
           },
           "bgcolor": "#E5ECF6",
           "caxis": {
            "gridcolor": "white",
            "linecolor": "white",
            "ticks": ""
           }
          },
          "title": {
           "x": 0.05
          },
          "xaxis": {
           "automargin": true,
           "gridcolor": "white",
           "linecolor": "white",
           "ticks": "",
           "title": {
            "standoff": 15
           },
           "zerolinecolor": "white",
           "zerolinewidth": 2
          },
          "yaxis": {
           "automargin": true,
           "gridcolor": "white",
           "linecolor": "white",
           "ticks": "",
           "title": {
            "standoff": 15
           },
           "zerolinecolor": "white",
           "zerolinewidth": 2
          }
         }
        },
        "title": {
         "x": 0.5
        },
        "yaxis": {
         "gridcolor": "#dddcda",
         "gridwidth": 1,
         "ticktext": [
          "$1,000,000,000",
          "$2,000,000,000",
          "$3,000,000,000",
          "$4,000,000,000",
          "$5,000,000,000"
         ],
         "tickvals": [
          1000000000,
          2000000000,
          3000000000,
          4000000000,
          5000000000
         ]
        }
       }
      }
     },
     "metadata": {},
     "output_type": "display_data"
    }
   ],
   "source": [
    "pd.options.display.float_format = '{:,.2f}'.format # Mostrar comas como separadores de miles y dos decimales\n",
    "colores = ['#2962ff', '#9500ff', '#ff0059', '#ff8c00', '#b4e600', '#2EC2A2','#E50CB6','#4225CF','#2CBA4D','#2962ff', '#9500ff', '#ff0059']\n",
    "\n",
    "fig = go.Figure()\n",
    "fig.add_trace(go.Bar(\n",
    "    x=df_volumen_ms_parejas['Label'],  # Eje x: Categoría\n",
    "    y=df_volumen_ms_parejas['Suma_Volumen'],  # Eje y: Cantidad\n",
    "    text=df_volumen_ms_parejas['Suma_Volumen'].apply(lambda x: '{:,.2f}'.format(x)),  # Texto con el formato deseado\n",
    "    textposition='outside',  # Posición del texto (parte superior de las barras)\n",
    "    marker_color=colores,  # Especifica los colores de las barras\n",
    "))\n",
    "fig.update_layout(\n",
    "    #title='Volumen del mercado salarial de parejas',  # Título de la gráfica\n",
    "    title_x=0.5,\n",
    "    yaxis=dict(\n",
    "        #title='Total valor',  # Título del eje y\n",
    "        tickvals=[1000000000, 2000000000, 3000000000, 4000000000, 5000000000],  # Posiciones de las líneas del eje y\n",
    "        ticktext=['$1,000,000,000', '$2,000,000,000', '$3,000,000,000', '$4,000,000,000', '$5,000,000,000'],  # Etiquetas de las líneas del eje y\n",
    "        gridcolor='#dddcda', # Color de las líneas que dividen los rangos del eje Y\n",
    "        gridwidth=1, # Ancho de las líneas que dividen los rangos del eje Y\n",
    "    ),\n",
    "    plot_bgcolor='rgba(0,0,0,0)',  # Color de fondo del gráfico\n",
    ")\n",
    "\n",
    "# Exportar gráfica como archivo HTML\n",
    "def guardar_grafico_como_html(fig, nombre_archivo, carpeta='graficas'):\n",
    "    # Crear la carpeta si no existe\n",
    "    if not os.path.exists(carpeta):\n",
    "        os.makedirs(carpeta)\n",
    "    \n",
    "    # Gráfica como archivo HTML en la carpeta especificada\n",
    "    pio.write_html(fig, f'{carpeta}/{nombre_archivo}.html')\n",
    "\n",
    "# Exportar\n",
    "guardar_grafico_como_html(fig, 'g_bar_volmercadoXXsalarial_parejas_puebla', carpeta='graficas')\n",
    "\n",
    "fig.show()\n"
   ]
  },
  {
   "cell_type": "markdown",
   "metadata": {},
   "source": [
    "__________\n",
    "# ***Mercado salario por pareja***"
   ]
  },
  {
   "cell_type": "markdown",
   "metadata": {},
   "source": [
    "## *PACHUCA*"
   ]
  },
  {
   "cell_type": "code",
   "execution_count": 40,
   "metadata": {},
   "outputs": [
    {
     "data": {
      "text/plain": [
       "(96, 4)"
      ]
     },
     "execution_count": 40,
     "metadata": {},
     "output_type": "execute_result"
    }
   ],
   "source": [
    "registros_categoria_A = pareja_df_salarios_pachuca[pareja_df_salarios_pachuca['Categoria_Pareja'] == 'F1']\n",
    "registros_categoria_A.shape"
   ]
  },
  {
   "cell_type": "code",
   "execution_count": 41,
   "metadata": {},
   "outputs": [
    {
     "data": {
      "text/html": [
       "<div>\n",
       "<style scoped>\n",
       "    .dataframe tbody tr th:only-of-type {\n",
       "        vertical-align: middle;\n",
       "    }\n",
       "\n",
       "    .dataframe tbody tr th {\n",
       "        vertical-align: top;\n",
       "    }\n",
       "\n",
       "    .dataframe thead th {\n",
       "        text-align: right;\n",
       "    }\n",
       "</style>\n",
       "<table border=\"1\" class=\"dataframe\">\n",
       "  <thead>\n",
       "    <tr style=\"text-align: right;\">\n",
       "      <th></th>\n",
       "      <th>Categoria_Pareja</th>\n",
       "      <th>numero_registros</th>\n",
       "    </tr>\n",
       "  </thead>\n",
       "  <tbody>\n",
       "    <tr>\n",
       "      <th>0</th>\n",
       "      <td>G</td>\n",
       "      <td>56.00</td>\n",
       "    </tr>\n",
       "    <tr>\n",
       "      <th>1</th>\n",
       "      <td>F</td>\n",
       "      <td>88.00</td>\n",
       "    </tr>\n",
       "    <tr>\n",
       "      <th>2</th>\n",
       "      <td>F1</td>\n",
       "      <td>96.00</td>\n",
       "    </tr>\n",
       "    <tr>\n",
       "      <th>3</th>\n",
       "      <td>E</td>\n",
       "      <td>36.00</td>\n",
       "    </tr>\n",
       "    <tr>\n",
       "      <th>4</th>\n",
       "      <td>E1</td>\n",
       "      <td>25.00</td>\n",
       "    </tr>\n",
       "    <tr>\n",
       "      <th>5</th>\n",
       "      <td>D</td>\n",
       "      <td>11.00</td>\n",
       "    </tr>\n",
       "    <tr>\n",
       "      <th>6</th>\n",
       "      <td>D1</td>\n",
       "      <td>9.00</td>\n",
       "    </tr>\n",
       "    <tr>\n",
       "      <th>7</th>\n",
       "      <td>C</td>\n",
       "      <td>3.00</td>\n",
       "    </tr>\n",
       "    <tr>\n",
       "      <th>8</th>\n",
       "      <td>C1</td>\n",
       "      <td>5.00</td>\n",
       "    </tr>\n",
       "    <tr>\n",
       "      <th>9</th>\n",
       "      <td>B</td>\n",
       "      <td>1.00</td>\n",
       "    </tr>\n",
       "    <tr>\n",
       "      <th>10</th>\n",
       "      <td>B1</td>\n",
       "      <td>0.00</td>\n",
       "    </tr>\n",
       "    <tr>\n",
       "      <th>11</th>\n",
       "      <td>A</td>\n",
       "      <td>1.00</td>\n",
       "    </tr>\n",
       "    <tr>\n",
       "      <th>12</th>\n",
       "      <td>A1</td>\n",
       "      <td>2.00</td>\n",
       "    </tr>\n",
       "    <tr>\n",
       "      <th>13</th>\n",
       "      <td>S</td>\n",
       "      <td>0.00</td>\n",
       "    </tr>\n",
       "  </tbody>\n",
       "</table>\n",
       "</div>"
      ],
      "text/plain": [
       "   Categoria_Pareja  numero_registros\n",
       "0                 G             56.00\n",
       "1                 F             88.00\n",
       "2                F1             96.00\n",
       "3                 E             36.00\n",
       "4                E1             25.00\n",
       "5                 D             11.00\n",
       "6                D1              9.00\n",
       "7                 C              3.00\n",
       "8                C1              5.00\n",
       "9                 B              1.00\n",
       "10               B1              0.00\n",
       "11                A              1.00\n",
       "12               A1              2.00\n",
       "13                S              0.00"
      ]
     },
     "execution_count": 41,
     "metadata": {},
     "output_type": "execute_result"
    }
   ],
   "source": [
    "numero_registros_por_categoria = {}\n",
    "# Itera dataframes_por_categoria que contiene cada grupo de categorías por pareja\n",
    "for categoria in dataframes_por_categoria:\n",
    "    numero_registros = len(dataframes_por_categoria[categoria]) # Número de registros para el DataFrame correspondiente a la categoría actual\n",
    "    numero_registros_por_categoria[categoria] = numero_registros # Almacena en el diccionario \n",
    "\n",
    "# Convertir el diccionario en un DataFrame\n",
    "posiciones_salariosparejas = pd.DataFrame(list(numero_registros_por_categoria.items()), columns=['Categoria_Pareja', 'numero_registros'])\n",
    "# Mantener orden\n",
    "nuevo_orden = ['G', 'F', 'F1', 'E', 'E1', 'D', 'D1', 'C', 'C1', 'B', 'B1', 'A', 'A1', 'S']\n",
    "posiciones_salariosparejas = posiciones_salariosparejas.set_index('Categoria_Pareja').reindex(nuevo_orden).fillna(0).reset_index()\n",
    "posiciones_salariosparejas"
   ]
  },
  {
   "cell_type": "code",
   "execution_count": 42,
   "metadata": {},
   "outputs": [
    {
     "data": {
      "text/html": [
       "<div>\n",
       "<style scoped>\n",
       "    .dataframe tbody tr th:only-of-type {\n",
       "        vertical-align: middle;\n",
       "    }\n",
       "\n",
       "    .dataframe tbody tr th {\n",
       "        vertical-align: top;\n",
       "    }\n",
       "\n",
       "    .dataframe thead th {\n",
       "        text-align: right;\n",
       "    }\n",
       "</style>\n",
       "<table border=\"1\" class=\"dataframe\">\n",
       "  <thead>\n",
       "    <tr style=\"text-align: right;\">\n",
       "      <th></th>\n",
       "      <th>Categoria_Pareja</th>\n",
       "      <th>numero_registros</th>\n",
       "    </tr>\n",
       "  </thead>\n",
       "  <tbody>\n",
       "    <tr>\n",
       "      <th>0</th>\n",
       "      <td>&lt;5000 G</td>\n",
       "      <td>56.00</td>\n",
       "    </tr>\n",
       "    <tr>\n",
       "      <th>1</th>\n",
       "      <td>&lt;5-8K F</td>\n",
       "      <td>88.00</td>\n",
       "    </tr>\n",
       "    <tr>\n",
       "      <th>2</th>\n",
       "      <td>8-12K F1</td>\n",
       "      <td>96.00</td>\n",
       "    </tr>\n",
       "    <tr>\n",
       "      <th>3</th>\n",
       "      <td>12-16K E</td>\n",
       "      <td>36.00</td>\n",
       "    </tr>\n",
       "    <tr>\n",
       "      <th>4</th>\n",
       "      <td>16-20K E1</td>\n",
       "      <td>25.00</td>\n",
       "    </tr>\n",
       "    <tr>\n",
       "      <th>5</th>\n",
       "      <td>20-25K D</td>\n",
       "      <td>11.00</td>\n",
       "    </tr>\n",
       "    <tr>\n",
       "      <th>6</th>\n",
       "      <td>25-30K D1</td>\n",
       "      <td>9.00</td>\n",
       "    </tr>\n",
       "    <tr>\n",
       "      <th>7</th>\n",
       "      <td>30-35K C</td>\n",
       "      <td>3.00</td>\n",
       "    </tr>\n",
       "    <tr>\n",
       "      <th>8</th>\n",
       "      <td>35-40K C1</td>\n",
       "      <td>5.00</td>\n",
       "    </tr>\n",
       "    <tr>\n",
       "      <th>9</th>\n",
       "      <td>40-45K B</td>\n",
       "      <td>1.00</td>\n",
       "    </tr>\n",
       "    <tr>\n",
       "      <th>10</th>\n",
       "      <td>45-50K B1</td>\n",
       "      <td>0.00</td>\n",
       "    </tr>\n",
       "    <tr>\n",
       "      <th>11</th>\n",
       "      <td>50-55K A</td>\n",
       "      <td>1.00</td>\n",
       "    </tr>\n",
       "    <tr>\n",
       "      <th>12</th>\n",
       "      <td>55-60K A1</td>\n",
       "      <td>2.00</td>\n",
       "    </tr>\n",
       "    <tr>\n",
       "      <th>13</th>\n",
       "      <td>60K S+</td>\n",
       "      <td>0.00</td>\n",
       "    </tr>\n",
       "  </tbody>\n",
       "</table>\n",
       "</div>"
      ],
      "text/plain": [
       "   Categoria_Pareja  numero_registros\n",
       "0           <5000 G             56.00\n",
       "1           <5-8K F             88.00\n",
       "2          8-12K F1             96.00\n",
       "3          12-16K E             36.00\n",
       "4         16-20K E1             25.00\n",
       "5          20-25K D             11.00\n",
       "6         25-30K D1              9.00\n",
       "7          30-35K C              3.00\n",
       "8         35-40K C1              5.00\n",
       "9          40-45K B              1.00\n",
       "10        45-50K B1              0.00\n",
       "11         50-55K A              1.00\n",
       "12        55-60K A1              2.00\n",
       "13           60K S+              0.00"
      ]
     },
     "execution_count": 42,
     "metadata": {},
     "output_type": "execute_result"
    }
   ],
   "source": [
    "posiciones_salariosparejas['Categoria_Pareja'] = ['<5000 G','<5-8K F','8-12K F1','12-16K E','16-20K E1','20-25K D','25-30K D1','30-35K C','35-40K C1','40-45K B','45-50K B1','50-55K A','55-60K A1','60K S+']\n",
    "posiciones_salariosparejas"
   ]
  },
  {
   "cell_type": "code",
   "execution_count": 43,
   "metadata": {},
   "outputs": [
    {
     "data": {
      "text/html": [
       "<div>\n",
       "<style scoped>\n",
       "    .dataframe tbody tr th:only-of-type {\n",
       "        vertical-align: middle;\n",
       "    }\n",
       "\n",
       "    .dataframe tbody tr th {\n",
       "        vertical-align: top;\n",
       "    }\n",
       "\n",
       "    .dataframe thead th {\n",
       "        text-align: right;\n",
       "    }\n",
       "</style>\n",
       "<table border=\"1\" class=\"dataframe\">\n",
       "  <thead>\n",
       "    <tr style=\"text-align: right;\">\n",
       "      <th></th>\n",
       "      <th>Categoria_Pareja</th>\n",
       "      <th>numero_registros</th>\n",
       "      <th>porcentaje</th>\n",
       "    </tr>\n",
       "  </thead>\n",
       "  <tbody>\n",
       "    <tr>\n",
       "      <th>0</th>\n",
       "      <td>&lt;5000 G</td>\n",
       "      <td>56.00</td>\n",
       "      <td>16.82</td>\n",
       "    </tr>\n",
       "    <tr>\n",
       "      <th>1</th>\n",
       "      <td>&lt;5-8K F</td>\n",
       "      <td>88.00</td>\n",
       "      <td>26.43</td>\n",
       "    </tr>\n",
       "    <tr>\n",
       "      <th>2</th>\n",
       "      <td>8-12K F1</td>\n",
       "      <td>96.00</td>\n",
       "      <td>28.83</td>\n",
       "    </tr>\n",
       "    <tr>\n",
       "      <th>3</th>\n",
       "      <td>12-16K E</td>\n",
       "      <td>36.00</td>\n",
       "      <td>10.81</td>\n",
       "    </tr>\n",
       "    <tr>\n",
       "      <th>4</th>\n",
       "      <td>16-20K E1</td>\n",
       "      <td>25.00</td>\n",
       "      <td>7.51</td>\n",
       "    </tr>\n",
       "    <tr>\n",
       "      <th>5</th>\n",
       "      <td>20-25K D</td>\n",
       "      <td>11.00</td>\n",
       "      <td>3.30</td>\n",
       "    </tr>\n",
       "    <tr>\n",
       "      <th>6</th>\n",
       "      <td>25-30K D1</td>\n",
       "      <td>9.00</td>\n",
       "      <td>2.70</td>\n",
       "    </tr>\n",
       "    <tr>\n",
       "      <th>7</th>\n",
       "      <td>30-35K C</td>\n",
       "      <td>3.00</td>\n",
       "      <td>0.90</td>\n",
       "    </tr>\n",
       "    <tr>\n",
       "      <th>8</th>\n",
       "      <td>35-40K C1</td>\n",
       "      <td>5.00</td>\n",
       "      <td>1.50</td>\n",
       "    </tr>\n",
       "    <tr>\n",
       "      <th>9</th>\n",
       "      <td>40-45K B</td>\n",
       "      <td>1.00</td>\n",
       "      <td>0.30</td>\n",
       "    </tr>\n",
       "    <tr>\n",
       "      <th>10</th>\n",
       "      <td>45-50K B1</td>\n",
       "      <td>0.00</td>\n",
       "      <td>0.00</td>\n",
       "    </tr>\n",
       "    <tr>\n",
       "      <th>11</th>\n",
       "      <td>50-55K A</td>\n",
       "      <td>1.00</td>\n",
       "      <td>0.30</td>\n",
       "    </tr>\n",
       "    <tr>\n",
       "      <th>12</th>\n",
       "      <td>55-60K A1</td>\n",
       "      <td>2.00</td>\n",
       "      <td>0.60</td>\n",
       "    </tr>\n",
       "    <tr>\n",
       "      <th>13</th>\n",
       "      <td>60K S+</td>\n",
       "      <td>0.00</td>\n",
       "      <td>0.00</td>\n",
       "    </tr>\n",
       "  </tbody>\n",
       "</table>\n",
       "</div>"
      ],
      "text/plain": [
       "   Categoria_Pareja  numero_registros  porcentaje\n",
       "0           <5000 G             56.00       16.82\n",
       "1           <5-8K F             88.00       26.43\n",
       "2          8-12K F1             96.00       28.83\n",
       "3          12-16K E             36.00       10.81\n",
       "4         16-20K E1             25.00        7.51\n",
       "5          20-25K D             11.00        3.30\n",
       "6         25-30K D1              9.00        2.70\n",
       "7          30-35K C              3.00        0.90\n",
       "8         35-40K C1              5.00        1.50\n",
       "9          40-45K B              1.00        0.30\n",
       "10        45-50K B1              0.00        0.00\n",
       "11         50-55K A              1.00        0.30\n",
       "12        55-60K A1              2.00        0.60\n",
       "13           60K S+              0.00        0.00"
      ]
     },
     "execution_count": 43,
     "metadata": {},
     "output_type": "execute_result"
    }
   ],
   "source": [
    "total_registros = posiciones_salariosparejas['numero_registros'].sum() # Calcular el total de registros en el DataFrame\n",
    "# Calculamos el porcentaje que representa cada numero_registros en relación al total de registros en el df\n",
    "posiciones_salariosparejas['porcentaje'] = (posiciones_salariosparejas['numero_registros'] / total_registros) * 100\n",
    "posiciones_salariosparejas"
   ]
  },
  {
   "cell_type": "code",
   "execution_count": 44,
   "metadata": {},
   "outputs": [
    {
     "data": {
      "application/vnd.plotly.v1+json": {
       "config": {
        "plotlyServerURL": "https://plot.ly"
       },
       "data": [
        {
         "marker": {
          "color": [
           "#2962ff",
           "#9500ff",
           "#ff0059",
           "#ff8c00",
           "#b4e600",
           "#2EC2A2",
           "#E50CB6",
           "#4225CF",
           "#2CBA4D",
           "#2962ff",
           "#9500ff",
           "#ff0059",
           "#ff8c00",
           "#b4e600"
          ]
         },
         "text": [
          "16.82%",
          "26.43%",
          "28.83%",
          "10.81%",
          "7.51%",
          "3.30%",
          "2.70%",
          "0.90%",
          "1.50%",
          "0.30%",
          "0.00%",
          "0.30%",
          "0.60%",
          "0.00%"
         ],
         "textposition": "outside",
         "type": "bar",
         "x": [
          "<5000 G",
          "<5-8K F",
          "8-12K F1",
          "12-16K E",
          "16-20K E1",
          "20-25K D",
          "25-30K D1",
          "30-35K C",
          "35-40K C1",
          "40-45K B",
          "45-50K B1",
          "50-55K A",
          "55-60K A1",
          "60K S+"
         ],
         "y": [
          16.816816816816818,
          26.426426426426424,
          28.82882882882883,
          10.81081081081081,
          7.5075075075075075,
          3.303303303303303,
          2.7027027027027026,
          0.9009009009009009,
          1.5015015015015014,
          0.3003003003003003,
          0,
          0.3003003003003003,
          0.6006006006006006,
          0
         ]
        }
       ],
       "layout": {
        "plot_bgcolor": "rgba(0,0,0,0)",
        "template": {
         "data": {
          "bar": [
           {
            "error_x": {
             "color": "#2a3f5f"
            },
            "error_y": {
             "color": "#2a3f5f"
            },
            "marker": {
             "line": {
              "color": "#E5ECF6",
              "width": 0.5
             },
             "pattern": {
              "fillmode": "overlay",
              "size": 10,
              "solidity": 0.2
             }
            },
            "type": "bar"
           }
          ],
          "barpolar": [
           {
            "marker": {
             "line": {
              "color": "#E5ECF6",
              "width": 0.5
             },
             "pattern": {
              "fillmode": "overlay",
              "size": 10,
              "solidity": 0.2
             }
            },
            "type": "barpolar"
           }
          ],
          "carpet": [
           {
            "aaxis": {
             "endlinecolor": "#2a3f5f",
             "gridcolor": "white",
             "linecolor": "white",
             "minorgridcolor": "white",
             "startlinecolor": "#2a3f5f"
            },
            "baxis": {
             "endlinecolor": "#2a3f5f",
             "gridcolor": "white",
             "linecolor": "white",
             "minorgridcolor": "white",
             "startlinecolor": "#2a3f5f"
            },
            "type": "carpet"
           }
          ],
          "choropleth": [
           {
            "colorbar": {
             "outlinewidth": 0,
             "ticks": ""
            },
            "type": "choropleth"
           }
          ],
          "contour": [
           {
            "colorbar": {
             "outlinewidth": 0,
             "ticks": ""
            },
            "colorscale": [
             [
              0,
              "#0d0887"
             ],
             [
              0.1111111111111111,
              "#46039f"
             ],
             [
              0.2222222222222222,
              "#7201a8"
             ],
             [
              0.3333333333333333,
              "#9c179e"
             ],
             [
              0.4444444444444444,
              "#bd3786"
             ],
             [
              0.5555555555555556,
              "#d8576b"
             ],
             [
              0.6666666666666666,
              "#ed7953"
             ],
             [
              0.7777777777777778,
              "#fb9f3a"
             ],
             [
              0.8888888888888888,
              "#fdca26"
             ],
             [
              1,
              "#f0f921"
             ]
            ],
            "type": "contour"
           }
          ],
          "contourcarpet": [
           {
            "colorbar": {
             "outlinewidth": 0,
             "ticks": ""
            },
            "type": "contourcarpet"
           }
          ],
          "heatmap": [
           {
            "colorbar": {
             "outlinewidth": 0,
             "ticks": ""
            },
            "colorscale": [
             [
              0,
              "#0d0887"
             ],
             [
              0.1111111111111111,
              "#46039f"
             ],
             [
              0.2222222222222222,
              "#7201a8"
             ],
             [
              0.3333333333333333,
              "#9c179e"
             ],
             [
              0.4444444444444444,
              "#bd3786"
             ],
             [
              0.5555555555555556,
              "#d8576b"
             ],
             [
              0.6666666666666666,
              "#ed7953"
             ],
             [
              0.7777777777777778,
              "#fb9f3a"
             ],
             [
              0.8888888888888888,
              "#fdca26"
             ],
             [
              1,
              "#f0f921"
             ]
            ],
            "type": "heatmap"
           }
          ],
          "heatmapgl": [
           {
            "colorbar": {
             "outlinewidth": 0,
             "ticks": ""
            },
            "colorscale": [
             [
              0,
              "#0d0887"
             ],
             [
              0.1111111111111111,
              "#46039f"
             ],
             [
              0.2222222222222222,
              "#7201a8"
             ],
             [
              0.3333333333333333,
              "#9c179e"
             ],
             [
              0.4444444444444444,
              "#bd3786"
             ],
             [
              0.5555555555555556,
              "#d8576b"
             ],
             [
              0.6666666666666666,
              "#ed7953"
             ],
             [
              0.7777777777777778,
              "#fb9f3a"
             ],
             [
              0.8888888888888888,
              "#fdca26"
             ],
             [
              1,
              "#f0f921"
             ]
            ],
            "type": "heatmapgl"
           }
          ],
          "histogram": [
           {
            "marker": {
             "pattern": {
              "fillmode": "overlay",
              "size": 10,
              "solidity": 0.2
             }
            },
            "type": "histogram"
           }
          ],
          "histogram2d": [
           {
            "colorbar": {
             "outlinewidth": 0,
             "ticks": ""
            },
            "colorscale": [
             [
              0,
              "#0d0887"
             ],
             [
              0.1111111111111111,
              "#46039f"
             ],
             [
              0.2222222222222222,
              "#7201a8"
             ],
             [
              0.3333333333333333,
              "#9c179e"
             ],
             [
              0.4444444444444444,
              "#bd3786"
             ],
             [
              0.5555555555555556,
              "#d8576b"
             ],
             [
              0.6666666666666666,
              "#ed7953"
             ],
             [
              0.7777777777777778,
              "#fb9f3a"
             ],
             [
              0.8888888888888888,
              "#fdca26"
             ],
             [
              1,
              "#f0f921"
             ]
            ],
            "type": "histogram2d"
           }
          ],
          "histogram2dcontour": [
           {
            "colorbar": {
             "outlinewidth": 0,
             "ticks": ""
            },
            "colorscale": [
             [
              0,
              "#0d0887"
             ],
             [
              0.1111111111111111,
              "#46039f"
             ],
             [
              0.2222222222222222,
              "#7201a8"
             ],
             [
              0.3333333333333333,
              "#9c179e"
             ],
             [
              0.4444444444444444,
              "#bd3786"
             ],
             [
              0.5555555555555556,
              "#d8576b"
             ],
             [
              0.6666666666666666,
              "#ed7953"
             ],
             [
              0.7777777777777778,
              "#fb9f3a"
             ],
             [
              0.8888888888888888,
              "#fdca26"
             ],
             [
              1,
              "#f0f921"
             ]
            ],
            "type": "histogram2dcontour"
           }
          ],
          "mesh3d": [
           {
            "colorbar": {
             "outlinewidth": 0,
             "ticks": ""
            },
            "type": "mesh3d"
           }
          ],
          "parcoords": [
           {
            "line": {
             "colorbar": {
              "outlinewidth": 0,
              "ticks": ""
             }
            },
            "type": "parcoords"
           }
          ],
          "pie": [
           {
            "automargin": true,
            "type": "pie"
           }
          ],
          "scatter": [
           {
            "fillpattern": {
             "fillmode": "overlay",
             "size": 10,
             "solidity": 0.2
            },
            "type": "scatter"
           }
          ],
          "scatter3d": [
           {
            "line": {
             "colorbar": {
              "outlinewidth": 0,
              "ticks": ""
             }
            },
            "marker": {
             "colorbar": {
              "outlinewidth": 0,
              "ticks": ""
             }
            },
            "type": "scatter3d"
           }
          ],
          "scattercarpet": [
           {
            "marker": {
             "colorbar": {
              "outlinewidth": 0,
              "ticks": ""
             }
            },
            "type": "scattercarpet"
           }
          ],
          "scattergeo": [
           {
            "marker": {
             "colorbar": {
              "outlinewidth": 0,
              "ticks": ""
             }
            },
            "type": "scattergeo"
           }
          ],
          "scattergl": [
           {
            "marker": {
             "colorbar": {
              "outlinewidth": 0,
              "ticks": ""
             }
            },
            "type": "scattergl"
           }
          ],
          "scattermapbox": [
           {
            "marker": {
             "colorbar": {
              "outlinewidth": 0,
              "ticks": ""
             }
            },
            "type": "scattermapbox"
           }
          ],
          "scatterpolar": [
           {
            "marker": {
             "colorbar": {
              "outlinewidth": 0,
              "ticks": ""
             }
            },
            "type": "scatterpolar"
           }
          ],
          "scatterpolargl": [
           {
            "marker": {
             "colorbar": {
              "outlinewidth": 0,
              "ticks": ""
             }
            },
            "type": "scatterpolargl"
           }
          ],
          "scatterternary": [
           {
            "marker": {
             "colorbar": {
              "outlinewidth": 0,
              "ticks": ""
             }
            },
            "type": "scatterternary"
           }
          ],
          "surface": [
           {
            "colorbar": {
             "outlinewidth": 0,
             "ticks": ""
            },
            "colorscale": [
             [
              0,
              "#0d0887"
             ],
             [
              0.1111111111111111,
              "#46039f"
             ],
             [
              0.2222222222222222,
              "#7201a8"
             ],
             [
              0.3333333333333333,
              "#9c179e"
             ],
             [
              0.4444444444444444,
              "#bd3786"
             ],
             [
              0.5555555555555556,
              "#d8576b"
             ],
             [
              0.6666666666666666,
              "#ed7953"
             ],
             [
              0.7777777777777778,
              "#fb9f3a"
             ],
             [
              0.8888888888888888,
              "#fdca26"
             ],
             [
              1,
              "#f0f921"
             ]
            ],
            "type": "surface"
           }
          ],
          "table": [
           {
            "cells": {
             "fill": {
              "color": "#EBF0F8"
             },
             "line": {
              "color": "white"
             }
            },
            "header": {
             "fill": {
              "color": "#C8D4E3"
             },
             "line": {
              "color": "white"
             }
            },
            "type": "table"
           }
          ]
         },
         "layout": {
          "annotationdefaults": {
           "arrowcolor": "#2a3f5f",
           "arrowhead": 0,
           "arrowwidth": 1
          },
          "autotypenumbers": "strict",
          "coloraxis": {
           "colorbar": {
            "outlinewidth": 0,
            "ticks": ""
           }
          },
          "colorscale": {
           "diverging": [
            [
             0,
             "#8e0152"
            ],
            [
             0.1,
             "#c51b7d"
            ],
            [
             0.2,
             "#de77ae"
            ],
            [
             0.3,
             "#f1b6da"
            ],
            [
             0.4,
             "#fde0ef"
            ],
            [
             0.5,
             "#f7f7f7"
            ],
            [
             0.6,
             "#e6f5d0"
            ],
            [
             0.7,
             "#b8e186"
            ],
            [
             0.8,
             "#7fbc41"
            ],
            [
             0.9,
             "#4d9221"
            ],
            [
             1,
             "#276419"
            ]
           ],
           "sequential": [
            [
             0,
             "#0d0887"
            ],
            [
             0.1111111111111111,
             "#46039f"
            ],
            [
             0.2222222222222222,
             "#7201a8"
            ],
            [
             0.3333333333333333,
             "#9c179e"
            ],
            [
             0.4444444444444444,
             "#bd3786"
            ],
            [
             0.5555555555555556,
             "#d8576b"
            ],
            [
             0.6666666666666666,
             "#ed7953"
            ],
            [
             0.7777777777777778,
             "#fb9f3a"
            ],
            [
             0.8888888888888888,
             "#fdca26"
            ],
            [
             1,
             "#f0f921"
            ]
           ],
           "sequentialminus": [
            [
             0,
             "#0d0887"
            ],
            [
             0.1111111111111111,
             "#46039f"
            ],
            [
             0.2222222222222222,
             "#7201a8"
            ],
            [
             0.3333333333333333,
             "#9c179e"
            ],
            [
             0.4444444444444444,
             "#bd3786"
            ],
            [
             0.5555555555555556,
             "#d8576b"
            ],
            [
             0.6666666666666666,
             "#ed7953"
            ],
            [
             0.7777777777777778,
             "#fb9f3a"
            ],
            [
             0.8888888888888888,
             "#fdca26"
            ],
            [
             1,
             "#f0f921"
            ]
           ]
          },
          "colorway": [
           "#636efa",
           "#EF553B",
           "#00cc96",
           "#ab63fa",
           "#FFA15A",
           "#19d3f3",
           "#FF6692",
           "#B6E880",
           "#FF97FF",
           "#FECB52"
          ],
          "font": {
           "color": "#2a3f5f"
          },
          "geo": {
           "bgcolor": "white",
           "lakecolor": "white",
           "landcolor": "#E5ECF6",
           "showlakes": true,
           "showland": true,
           "subunitcolor": "white"
          },
          "hoverlabel": {
           "align": "left"
          },
          "hovermode": "closest",
          "mapbox": {
           "style": "light"
          },
          "paper_bgcolor": "white",
          "plot_bgcolor": "#E5ECF6",
          "polar": {
           "angularaxis": {
            "gridcolor": "white",
            "linecolor": "white",
            "ticks": ""
           },
           "bgcolor": "#E5ECF6",
           "radialaxis": {
            "gridcolor": "white",
            "linecolor": "white",
            "ticks": ""
           }
          },
          "scene": {
           "xaxis": {
            "backgroundcolor": "#E5ECF6",
            "gridcolor": "white",
            "gridwidth": 2,
            "linecolor": "white",
            "showbackground": true,
            "ticks": "",
            "zerolinecolor": "white"
           },
           "yaxis": {
            "backgroundcolor": "#E5ECF6",
            "gridcolor": "white",
            "gridwidth": 2,
            "linecolor": "white",
            "showbackground": true,
            "ticks": "",
            "zerolinecolor": "white"
           },
           "zaxis": {
            "backgroundcolor": "#E5ECF6",
            "gridcolor": "white",
            "gridwidth": 2,
            "linecolor": "white",
            "showbackground": true,
            "ticks": "",
            "zerolinecolor": "white"
           }
          },
          "shapedefaults": {
           "line": {
            "color": "#2a3f5f"
           }
          },
          "ternary": {
           "aaxis": {
            "gridcolor": "white",
            "linecolor": "white",
            "ticks": ""
           },
           "baxis": {
            "gridcolor": "white",
            "linecolor": "white",
            "ticks": ""
           },
           "bgcolor": "#E5ECF6",
           "caxis": {
            "gridcolor": "white",
            "linecolor": "white",
            "ticks": ""
           }
          },
          "title": {
           "x": 0.05
          },
          "xaxis": {
           "automargin": true,
           "gridcolor": "white",
           "linecolor": "white",
           "ticks": "",
           "title": {
            "standoff": 15
           },
           "zerolinecolor": "white",
           "zerolinewidth": 2
          },
          "yaxis": {
           "automargin": true,
           "gridcolor": "white",
           "linecolor": "white",
           "ticks": "",
           "title": {
            "standoff": 15
           },
           "zerolinecolor": "white",
           "zerolinewidth": 2
          }
         }
        },
        "title": {
         "x": 0.5
        },
        "yaxis": {
         "gridcolor": "#dddcda",
         "gridwidth": 1,
         "title": {
          "text": "%"
         }
        }
       }
      }
     },
     "metadata": {},
     "output_type": "display_data"
    }
   ],
   "source": [
    "colores = ['#2962ff', '#9500ff', '#ff0059', '#ff8c00', '#b4e600', '#2EC2A2','#E50CB6','#4225CF','#2CBA4D','#2962ff', '#9500ff', '#ff0059', '#ff8c00', '#b4e600']\n",
    "\n",
    "fig = go.Figure()\n",
    "fig.add_trace(go.Bar(\n",
    "    x=posiciones_salariosparejas['Categoria_Pareja'],  # Eje x: Categoría\n",
    "    y=posiciones_salariosparejas['porcentaje'],  # Eje y: porcentaje\n",
    "    text=posiciones_salariosparejas['porcentaje'].apply(lambda x: f'{x:.2f}%'),  # Texto con el formato deseado\n",
    "    textposition='outside',  # Posición del texto (parte superior de las barras)\n",
    "    marker_color=colores,  # Especifica los colores de las barras\n",
    "))\n",
    "fig.update_layout(\n",
    "    #title='Mercado salario por pareja',  # Título de la gráfica\n",
    "    title_x=0.5,\n",
    "    yaxis=dict(\n",
    "        title='%',  # Título del eje y\n",
    "        gridcolor='#dddcda', # Color de las líneas que dividen los rangos del eje Y\n",
    "        gridwidth=1, # Ancho de las líneas que dividen los rangos del eje Y\n",
    "    ),\n",
    "    plot_bgcolor='rgba(0,0,0,0)',  # Color de fondo del gráfico\n",
    ")\n",
    "\n",
    "# Exportar gráfica como archivo HTML\n",
    "def guardar_grafico_como_html(fig, nombre_archivo, carpeta='graficas'):\n",
    "    if not os.path.exists(carpeta): \n",
    "        os.makedirs(carpeta) # Crear la carpeta si no existe\n",
    "    \n",
    "    # Gráfica como archivo HTML en la carpeta especificada\n",
    "    pio.write_html(fig, f'{carpeta}/{nombre_archivo}.html')\n",
    "\n",
    "# Exportar\n",
    "guardar_grafico_como_html(fig, 'g_bar_mercadosalarial_xparejas_pachuca', carpeta='graficas')\n",
    "\n",
    "fig.show()"
   ]
  },
  {
   "cell_type": "markdown",
   "metadata": {},
   "source": [
    "## *PUEBLA*"
   ]
  },
  {
   "cell_type": "code",
   "execution_count": 45,
   "metadata": {},
   "outputs": [
    {
     "data": {
      "text/plain": [
       "(96, 4)"
      ]
     },
     "execution_count": 45,
     "metadata": {},
     "output_type": "execute_result"
    }
   ],
   "source": [
    "registros_categoria_A = pareja_df_salarios_puebla[pareja_df_salarios_puebla['Categoria_Pareja'] == 'F1']\n",
    "registros_categoria_A.shape"
   ]
  },
  {
   "cell_type": "code",
   "execution_count": 46,
   "metadata": {},
   "outputs": [
    {
     "data": {
      "text/html": [
       "<div>\n",
       "<style scoped>\n",
       "    .dataframe tbody tr th:only-of-type {\n",
       "        vertical-align: middle;\n",
       "    }\n",
       "\n",
       "    .dataframe tbody tr th {\n",
       "        vertical-align: top;\n",
       "    }\n",
       "\n",
       "    .dataframe thead th {\n",
       "        text-align: right;\n",
       "    }\n",
       "</style>\n",
       "<table border=\"1\" class=\"dataframe\">\n",
       "  <thead>\n",
       "    <tr style=\"text-align: right;\">\n",
       "      <th></th>\n",
       "      <th>Categoria_Pareja</th>\n",
       "      <th>numero_registros</th>\n",
       "    </tr>\n",
       "  </thead>\n",
       "  <tbody>\n",
       "    <tr>\n",
       "      <th>0</th>\n",
       "      <td>G</td>\n",
       "      <td>56.00</td>\n",
       "    </tr>\n",
       "    <tr>\n",
       "      <th>1</th>\n",
       "      <td>F</td>\n",
       "      <td>88.00</td>\n",
       "    </tr>\n",
       "    <tr>\n",
       "      <th>2</th>\n",
       "      <td>F1</td>\n",
       "      <td>96.00</td>\n",
       "    </tr>\n",
       "    <tr>\n",
       "      <th>3</th>\n",
       "      <td>E</td>\n",
       "      <td>36.00</td>\n",
       "    </tr>\n",
       "    <tr>\n",
       "      <th>4</th>\n",
       "      <td>E1</td>\n",
       "      <td>25.00</td>\n",
       "    </tr>\n",
       "    <tr>\n",
       "      <th>5</th>\n",
       "      <td>D</td>\n",
       "      <td>11.00</td>\n",
       "    </tr>\n",
       "    <tr>\n",
       "      <th>6</th>\n",
       "      <td>D1</td>\n",
       "      <td>9.00</td>\n",
       "    </tr>\n",
       "    <tr>\n",
       "      <th>7</th>\n",
       "      <td>C</td>\n",
       "      <td>3.00</td>\n",
       "    </tr>\n",
       "    <tr>\n",
       "      <th>8</th>\n",
       "      <td>C1</td>\n",
       "      <td>5.00</td>\n",
       "    </tr>\n",
       "    <tr>\n",
       "      <th>9</th>\n",
       "      <td>B</td>\n",
       "      <td>1.00</td>\n",
       "    </tr>\n",
       "    <tr>\n",
       "      <th>10</th>\n",
       "      <td>B1</td>\n",
       "      <td>0.00</td>\n",
       "    </tr>\n",
       "    <tr>\n",
       "      <th>11</th>\n",
       "      <td>A</td>\n",
       "      <td>1.00</td>\n",
       "    </tr>\n",
       "    <tr>\n",
       "      <th>12</th>\n",
       "      <td>A1</td>\n",
       "      <td>2.00</td>\n",
       "    </tr>\n",
       "    <tr>\n",
       "      <th>13</th>\n",
       "      <td>S</td>\n",
       "      <td>0.00</td>\n",
       "    </tr>\n",
       "  </tbody>\n",
       "</table>\n",
       "</div>"
      ],
      "text/plain": [
       "   Categoria_Pareja  numero_registros\n",
       "0                 G             56.00\n",
       "1                 F             88.00\n",
       "2                F1             96.00\n",
       "3                 E             36.00\n",
       "4                E1             25.00\n",
       "5                 D             11.00\n",
       "6                D1              9.00\n",
       "7                 C              3.00\n",
       "8                C1              5.00\n",
       "9                 B              1.00\n",
       "10               B1              0.00\n",
       "11                A              1.00\n",
       "12               A1              2.00\n",
       "13                S              0.00"
      ]
     },
     "execution_count": 46,
     "metadata": {},
     "output_type": "execute_result"
    }
   ],
   "source": [
    "numero_registros_por_categoria = {}\n",
    "# Itera dataframes_por_categoria que contiene cada grupo de categorías por pareja\n",
    "for categoria in dataframes_por_categoria:\n",
    "    numero_registros = len(dataframes_por_categoria[categoria]) # Número de registros para el DataFrame correspondiente a la categoría actual\n",
    "    numero_registros_por_categoria[categoria] = numero_registros # Almacena en el diccionario \n",
    "\n",
    "# Convertir el diccionario en un DataFrame\n",
    "posiciones_salariosparejas = pd.DataFrame(list(numero_registros_por_categoria.items()), columns=['Categoria_Pareja', 'numero_registros'])\n",
    "# Mantener orden\n",
    "nuevo_orden = ['G', 'F', 'F1', 'E', 'E1', 'D', 'D1', 'C', 'C1', 'B', 'B1', 'A', 'A1', 'S']\n",
    "posiciones_salariosparejas = posiciones_salariosparejas.set_index('Categoria_Pareja').reindex(nuevo_orden).fillna(0).reset_index()\n",
    "posiciones_salariosparejas"
   ]
  },
  {
   "cell_type": "code",
   "execution_count": 47,
   "metadata": {},
   "outputs": [
    {
     "data": {
      "text/html": [
       "<div>\n",
       "<style scoped>\n",
       "    .dataframe tbody tr th:only-of-type {\n",
       "        vertical-align: middle;\n",
       "    }\n",
       "\n",
       "    .dataframe tbody tr th {\n",
       "        vertical-align: top;\n",
       "    }\n",
       "\n",
       "    .dataframe thead th {\n",
       "        text-align: right;\n",
       "    }\n",
       "</style>\n",
       "<table border=\"1\" class=\"dataframe\">\n",
       "  <thead>\n",
       "    <tr style=\"text-align: right;\">\n",
       "      <th></th>\n",
       "      <th>Categoria_Pareja</th>\n",
       "      <th>numero_registros</th>\n",
       "    </tr>\n",
       "  </thead>\n",
       "  <tbody>\n",
       "    <tr>\n",
       "      <th>0</th>\n",
       "      <td>&lt;5000 G</td>\n",
       "      <td>56.00</td>\n",
       "    </tr>\n",
       "    <tr>\n",
       "      <th>1</th>\n",
       "      <td>&lt;5-8K F</td>\n",
       "      <td>88.00</td>\n",
       "    </tr>\n",
       "    <tr>\n",
       "      <th>2</th>\n",
       "      <td>8-12K F1</td>\n",
       "      <td>96.00</td>\n",
       "    </tr>\n",
       "    <tr>\n",
       "      <th>3</th>\n",
       "      <td>12-16K E</td>\n",
       "      <td>36.00</td>\n",
       "    </tr>\n",
       "    <tr>\n",
       "      <th>4</th>\n",
       "      <td>16-20K E1</td>\n",
       "      <td>25.00</td>\n",
       "    </tr>\n",
       "    <tr>\n",
       "      <th>5</th>\n",
       "      <td>20-25K D</td>\n",
       "      <td>11.00</td>\n",
       "    </tr>\n",
       "    <tr>\n",
       "      <th>6</th>\n",
       "      <td>25-30K D1</td>\n",
       "      <td>9.00</td>\n",
       "    </tr>\n",
       "    <tr>\n",
       "      <th>7</th>\n",
       "      <td>30-35K C</td>\n",
       "      <td>3.00</td>\n",
       "    </tr>\n",
       "    <tr>\n",
       "      <th>8</th>\n",
       "      <td>35-40K C1</td>\n",
       "      <td>5.00</td>\n",
       "    </tr>\n",
       "    <tr>\n",
       "      <th>9</th>\n",
       "      <td>40-45K B</td>\n",
       "      <td>1.00</td>\n",
       "    </tr>\n",
       "    <tr>\n",
       "      <th>10</th>\n",
       "      <td>45-50K B1</td>\n",
       "      <td>0.00</td>\n",
       "    </tr>\n",
       "    <tr>\n",
       "      <th>11</th>\n",
       "      <td>50-55K A</td>\n",
       "      <td>1.00</td>\n",
       "    </tr>\n",
       "    <tr>\n",
       "      <th>12</th>\n",
       "      <td>55-60K A1</td>\n",
       "      <td>2.00</td>\n",
       "    </tr>\n",
       "    <tr>\n",
       "      <th>13</th>\n",
       "      <td>60K S+</td>\n",
       "      <td>0.00</td>\n",
       "    </tr>\n",
       "  </tbody>\n",
       "</table>\n",
       "</div>"
      ],
      "text/plain": [
       "   Categoria_Pareja  numero_registros\n",
       "0           <5000 G             56.00\n",
       "1           <5-8K F             88.00\n",
       "2          8-12K F1             96.00\n",
       "3          12-16K E             36.00\n",
       "4         16-20K E1             25.00\n",
       "5          20-25K D             11.00\n",
       "6         25-30K D1              9.00\n",
       "7          30-35K C              3.00\n",
       "8         35-40K C1              5.00\n",
       "9          40-45K B              1.00\n",
       "10        45-50K B1              0.00\n",
       "11         50-55K A              1.00\n",
       "12        55-60K A1              2.00\n",
       "13           60K S+              0.00"
      ]
     },
     "execution_count": 47,
     "metadata": {},
     "output_type": "execute_result"
    }
   ],
   "source": [
    "posiciones_salariosparejas['Categoria_Pareja'] = ['<5000 G','<5-8K F','8-12K F1','12-16K E','16-20K E1','20-25K D','25-30K D1','30-35K C','35-40K C1','40-45K B','45-50K B1','50-55K A','55-60K A1','60K S+']\n",
    "posiciones_salariosparejas"
   ]
  },
  {
   "cell_type": "code",
   "execution_count": 48,
   "metadata": {},
   "outputs": [
    {
     "data": {
      "text/html": [
       "<div>\n",
       "<style scoped>\n",
       "    .dataframe tbody tr th:only-of-type {\n",
       "        vertical-align: middle;\n",
       "    }\n",
       "\n",
       "    .dataframe tbody tr th {\n",
       "        vertical-align: top;\n",
       "    }\n",
       "\n",
       "    .dataframe thead th {\n",
       "        text-align: right;\n",
       "    }\n",
       "</style>\n",
       "<table border=\"1\" class=\"dataframe\">\n",
       "  <thead>\n",
       "    <tr style=\"text-align: right;\">\n",
       "      <th></th>\n",
       "      <th>Categoria_Pareja</th>\n",
       "      <th>numero_registros</th>\n",
       "      <th>porcentaje</th>\n",
       "    </tr>\n",
       "  </thead>\n",
       "  <tbody>\n",
       "    <tr>\n",
       "      <th>0</th>\n",
       "      <td>&lt;5000 G</td>\n",
       "      <td>56.00</td>\n",
       "      <td>16.82</td>\n",
       "    </tr>\n",
       "    <tr>\n",
       "      <th>1</th>\n",
       "      <td>&lt;5-8K F</td>\n",
       "      <td>88.00</td>\n",
       "      <td>26.43</td>\n",
       "    </tr>\n",
       "    <tr>\n",
       "      <th>2</th>\n",
       "      <td>8-12K F1</td>\n",
       "      <td>96.00</td>\n",
       "      <td>28.83</td>\n",
       "    </tr>\n",
       "    <tr>\n",
       "      <th>3</th>\n",
       "      <td>12-16K E</td>\n",
       "      <td>36.00</td>\n",
       "      <td>10.81</td>\n",
       "    </tr>\n",
       "    <tr>\n",
       "      <th>4</th>\n",
       "      <td>16-20K E1</td>\n",
       "      <td>25.00</td>\n",
       "      <td>7.51</td>\n",
       "    </tr>\n",
       "    <tr>\n",
       "      <th>5</th>\n",
       "      <td>20-25K D</td>\n",
       "      <td>11.00</td>\n",
       "      <td>3.30</td>\n",
       "    </tr>\n",
       "    <tr>\n",
       "      <th>6</th>\n",
       "      <td>25-30K D1</td>\n",
       "      <td>9.00</td>\n",
       "      <td>2.70</td>\n",
       "    </tr>\n",
       "    <tr>\n",
       "      <th>7</th>\n",
       "      <td>30-35K C</td>\n",
       "      <td>3.00</td>\n",
       "      <td>0.90</td>\n",
       "    </tr>\n",
       "    <tr>\n",
       "      <th>8</th>\n",
       "      <td>35-40K C1</td>\n",
       "      <td>5.00</td>\n",
       "      <td>1.50</td>\n",
       "    </tr>\n",
       "    <tr>\n",
       "      <th>9</th>\n",
       "      <td>40-45K B</td>\n",
       "      <td>1.00</td>\n",
       "      <td>0.30</td>\n",
       "    </tr>\n",
       "    <tr>\n",
       "      <th>10</th>\n",
       "      <td>45-50K B1</td>\n",
       "      <td>0.00</td>\n",
       "      <td>0.00</td>\n",
       "    </tr>\n",
       "    <tr>\n",
       "      <th>11</th>\n",
       "      <td>50-55K A</td>\n",
       "      <td>1.00</td>\n",
       "      <td>0.30</td>\n",
       "    </tr>\n",
       "    <tr>\n",
       "      <th>12</th>\n",
       "      <td>55-60K A1</td>\n",
       "      <td>2.00</td>\n",
       "      <td>0.60</td>\n",
       "    </tr>\n",
       "    <tr>\n",
       "      <th>13</th>\n",
       "      <td>60K S+</td>\n",
       "      <td>0.00</td>\n",
       "      <td>0.00</td>\n",
       "    </tr>\n",
       "  </tbody>\n",
       "</table>\n",
       "</div>"
      ],
      "text/plain": [
       "   Categoria_Pareja  numero_registros  porcentaje\n",
       "0           <5000 G             56.00       16.82\n",
       "1           <5-8K F             88.00       26.43\n",
       "2          8-12K F1             96.00       28.83\n",
       "3          12-16K E             36.00       10.81\n",
       "4         16-20K E1             25.00        7.51\n",
       "5          20-25K D             11.00        3.30\n",
       "6         25-30K D1              9.00        2.70\n",
       "7          30-35K C              3.00        0.90\n",
       "8         35-40K C1              5.00        1.50\n",
       "9          40-45K B              1.00        0.30\n",
       "10        45-50K B1              0.00        0.00\n",
       "11         50-55K A              1.00        0.30\n",
       "12        55-60K A1              2.00        0.60\n",
       "13           60K S+              0.00        0.00"
      ]
     },
     "execution_count": 48,
     "metadata": {},
     "output_type": "execute_result"
    }
   ],
   "source": [
    "total_registros = posiciones_salariosparejas['numero_registros'].sum() # Calcular el total de registros en el DataFrame\n",
    "# Calculamos el porcentaje que representa cada numero_registros en relación al total de registros en el df\n",
    "posiciones_salariosparejas['porcentaje'] = (posiciones_salariosparejas['numero_registros'] / total_registros) * 100\n",
    "posiciones_salariosparejas"
   ]
  },
  {
   "cell_type": "code",
   "execution_count": 50,
   "metadata": {},
   "outputs": [
    {
     "data": {
      "application/vnd.plotly.v1+json": {
       "config": {
        "plotlyServerURL": "https://plot.ly"
       },
       "data": [
        {
         "marker": {
          "color": [
           "#2962ff",
           "#9500ff",
           "#ff0059",
           "#ff8c00",
           "#b4e600",
           "#2EC2A2",
           "#E50CB6",
           "#4225CF",
           "#2CBA4D",
           "#2962ff",
           "#9500ff",
           "#ff0059",
           "#ff8c00",
           "#b4e600"
          ]
         },
         "text": [
          "16.82%",
          "26.43%",
          "28.83%",
          "10.81%",
          "7.51%",
          "3.30%",
          "2.70%",
          "0.90%",
          "1.50%",
          "0.30%",
          "0.00%",
          "0.30%",
          "0.60%",
          "0.00%"
         ],
         "textposition": "outside",
         "type": "bar",
         "x": [
          "<5000 G",
          "<5-8K F",
          "8-12K F1",
          "12-16K E",
          "16-20K E1",
          "20-25K D",
          "25-30K D1",
          "30-35K C",
          "35-40K C1",
          "40-45K B",
          "45-50K B1",
          "50-55K A",
          "55-60K A1",
          "60K S+"
         ],
         "y": [
          16.816816816816818,
          26.426426426426424,
          28.82882882882883,
          10.81081081081081,
          7.5075075075075075,
          3.303303303303303,
          2.7027027027027026,
          0.9009009009009009,
          1.5015015015015014,
          0.3003003003003003,
          0,
          0.3003003003003003,
          0.6006006006006006,
          0
         ]
        }
       ],
       "layout": {
        "plot_bgcolor": "rgba(0,0,0,0)",
        "template": {
         "data": {
          "bar": [
           {
            "error_x": {
             "color": "#2a3f5f"
            },
            "error_y": {
             "color": "#2a3f5f"
            },
            "marker": {
             "line": {
              "color": "#E5ECF6",
              "width": 0.5
             },
             "pattern": {
              "fillmode": "overlay",
              "size": 10,
              "solidity": 0.2
             }
            },
            "type": "bar"
           }
          ],
          "barpolar": [
           {
            "marker": {
             "line": {
              "color": "#E5ECF6",
              "width": 0.5
             },
             "pattern": {
              "fillmode": "overlay",
              "size": 10,
              "solidity": 0.2
             }
            },
            "type": "barpolar"
           }
          ],
          "carpet": [
           {
            "aaxis": {
             "endlinecolor": "#2a3f5f",
             "gridcolor": "white",
             "linecolor": "white",
             "minorgridcolor": "white",
             "startlinecolor": "#2a3f5f"
            },
            "baxis": {
             "endlinecolor": "#2a3f5f",
             "gridcolor": "white",
             "linecolor": "white",
             "minorgridcolor": "white",
             "startlinecolor": "#2a3f5f"
            },
            "type": "carpet"
           }
          ],
          "choropleth": [
           {
            "colorbar": {
             "outlinewidth": 0,
             "ticks": ""
            },
            "type": "choropleth"
           }
          ],
          "contour": [
           {
            "colorbar": {
             "outlinewidth": 0,
             "ticks": ""
            },
            "colorscale": [
             [
              0,
              "#0d0887"
             ],
             [
              0.1111111111111111,
              "#46039f"
             ],
             [
              0.2222222222222222,
              "#7201a8"
             ],
             [
              0.3333333333333333,
              "#9c179e"
             ],
             [
              0.4444444444444444,
              "#bd3786"
             ],
             [
              0.5555555555555556,
              "#d8576b"
             ],
             [
              0.6666666666666666,
              "#ed7953"
             ],
             [
              0.7777777777777778,
              "#fb9f3a"
             ],
             [
              0.8888888888888888,
              "#fdca26"
             ],
             [
              1,
              "#f0f921"
             ]
            ],
            "type": "contour"
           }
          ],
          "contourcarpet": [
           {
            "colorbar": {
             "outlinewidth": 0,
             "ticks": ""
            },
            "type": "contourcarpet"
           }
          ],
          "heatmap": [
           {
            "colorbar": {
             "outlinewidth": 0,
             "ticks": ""
            },
            "colorscale": [
             [
              0,
              "#0d0887"
             ],
             [
              0.1111111111111111,
              "#46039f"
             ],
             [
              0.2222222222222222,
              "#7201a8"
             ],
             [
              0.3333333333333333,
              "#9c179e"
             ],
             [
              0.4444444444444444,
              "#bd3786"
             ],
             [
              0.5555555555555556,
              "#d8576b"
             ],
             [
              0.6666666666666666,
              "#ed7953"
             ],
             [
              0.7777777777777778,
              "#fb9f3a"
             ],
             [
              0.8888888888888888,
              "#fdca26"
             ],
             [
              1,
              "#f0f921"
             ]
            ],
            "type": "heatmap"
           }
          ],
          "heatmapgl": [
           {
            "colorbar": {
             "outlinewidth": 0,
             "ticks": ""
            },
            "colorscale": [
             [
              0,
              "#0d0887"
             ],
             [
              0.1111111111111111,
              "#46039f"
             ],
             [
              0.2222222222222222,
              "#7201a8"
             ],
             [
              0.3333333333333333,
              "#9c179e"
             ],
             [
              0.4444444444444444,
              "#bd3786"
             ],
             [
              0.5555555555555556,
              "#d8576b"
             ],
             [
              0.6666666666666666,
              "#ed7953"
             ],
             [
              0.7777777777777778,
              "#fb9f3a"
             ],
             [
              0.8888888888888888,
              "#fdca26"
             ],
             [
              1,
              "#f0f921"
             ]
            ],
            "type": "heatmapgl"
           }
          ],
          "histogram": [
           {
            "marker": {
             "pattern": {
              "fillmode": "overlay",
              "size": 10,
              "solidity": 0.2
             }
            },
            "type": "histogram"
           }
          ],
          "histogram2d": [
           {
            "colorbar": {
             "outlinewidth": 0,
             "ticks": ""
            },
            "colorscale": [
             [
              0,
              "#0d0887"
             ],
             [
              0.1111111111111111,
              "#46039f"
             ],
             [
              0.2222222222222222,
              "#7201a8"
             ],
             [
              0.3333333333333333,
              "#9c179e"
             ],
             [
              0.4444444444444444,
              "#bd3786"
             ],
             [
              0.5555555555555556,
              "#d8576b"
             ],
             [
              0.6666666666666666,
              "#ed7953"
             ],
             [
              0.7777777777777778,
              "#fb9f3a"
             ],
             [
              0.8888888888888888,
              "#fdca26"
             ],
             [
              1,
              "#f0f921"
             ]
            ],
            "type": "histogram2d"
           }
          ],
          "histogram2dcontour": [
           {
            "colorbar": {
             "outlinewidth": 0,
             "ticks": ""
            },
            "colorscale": [
             [
              0,
              "#0d0887"
             ],
             [
              0.1111111111111111,
              "#46039f"
             ],
             [
              0.2222222222222222,
              "#7201a8"
             ],
             [
              0.3333333333333333,
              "#9c179e"
             ],
             [
              0.4444444444444444,
              "#bd3786"
             ],
             [
              0.5555555555555556,
              "#d8576b"
             ],
             [
              0.6666666666666666,
              "#ed7953"
             ],
             [
              0.7777777777777778,
              "#fb9f3a"
             ],
             [
              0.8888888888888888,
              "#fdca26"
             ],
             [
              1,
              "#f0f921"
             ]
            ],
            "type": "histogram2dcontour"
           }
          ],
          "mesh3d": [
           {
            "colorbar": {
             "outlinewidth": 0,
             "ticks": ""
            },
            "type": "mesh3d"
           }
          ],
          "parcoords": [
           {
            "line": {
             "colorbar": {
              "outlinewidth": 0,
              "ticks": ""
             }
            },
            "type": "parcoords"
           }
          ],
          "pie": [
           {
            "automargin": true,
            "type": "pie"
           }
          ],
          "scatter": [
           {
            "fillpattern": {
             "fillmode": "overlay",
             "size": 10,
             "solidity": 0.2
            },
            "type": "scatter"
           }
          ],
          "scatter3d": [
           {
            "line": {
             "colorbar": {
              "outlinewidth": 0,
              "ticks": ""
             }
            },
            "marker": {
             "colorbar": {
              "outlinewidth": 0,
              "ticks": ""
             }
            },
            "type": "scatter3d"
           }
          ],
          "scattercarpet": [
           {
            "marker": {
             "colorbar": {
              "outlinewidth": 0,
              "ticks": ""
             }
            },
            "type": "scattercarpet"
           }
          ],
          "scattergeo": [
           {
            "marker": {
             "colorbar": {
              "outlinewidth": 0,
              "ticks": ""
             }
            },
            "type": "scattergeo"
           }
          ],
          "scattergl": [
           {
            "marker": {
             "colorbar": {
              "outlinewidth": 0,
              "ticks": ""
             }
            },
            "type": "scattergl"
           }
          ],
          "scattermapbox": [
           {
            "marker": {
             "colorbar": {
              "outlinewidth": 0,
              "ticks": ""
             }
            },
            "type": "scattermapbox"
           }
          ],
          "scatterpolar": [
           {
            "marker": {
             "colorbar": {
              "outlinewidth": 0,
              "ticks": ""
             }
            },
            "type": "scatterpolar"
           }
          ],
          "scatterpolargl": [
           {
            "marker": {
             "colorbar": {
              "outlinewidth": 0,
              "ticks": ""
             }
            },
            "type": "scatterpolargl"
           }
          ],
          "scatterternary": [
           {
            "marker": {
             "colorbar": {
              "outlinewidth": 0,
              "ticks": ""
             }
            },
            "type": "scatterternary"
           }
          ],
          "surface": [
           {
            "colorbar": {
             "outlinewidth": 0,
             "ticks": ""
            },
            "colorscale": [
             [
              0,
              "#0d0887"
             ],
             [
              0.1111111111111111,
              "#46039f"
             ],
             [
              0.2222222222222222,
              "#7201a8"
             ],
             [
              0.3333333333333333,
              "#9c179e"
             ],
             [
              0.4444444444444444,
              "#bd3786"
             ],
             [
              0.5555555555555556,
              "#d8576b"
             ],
             [
              0.6666666666666666,
              "#ed7953"
             ],
             [
              0.7777777777777778,
              "#fb9f3a"
             ],
             [
              0.8888888888888888,
              "#fdca26"
             ],
             [
              1,
              "#f0f921"
             ]
            ],
            "type": "surface"
           }
          ],
          "table": [
           {
            "cells": {
             "fill": {
              "color": "#EBF0F8"
             },
             "line": {
              "color": "white"
             }
            },
            "header": {
             "fill": {
              "color": "#C8D4E3"
             },
             "line": {
              "color": "white"
             }
            },
            "type": "table"
           }
          ]
         },
         "layout": {
          "annotationdefaults": {
           "arrowcolor": "#2a3f5f",
           "arrowhead": 0,
           "arrowwidth": 1
          },
          "autotypenumbers": "strict",
          "coloraxis": {
           "colorbar": {
            "outlinewidth": 0,
            "ticks": ""
           }
          },
          "colorscale": {
           "diverging": [
            [
             0,
             "#8e0152"
            ],
            [
             0.1,
             "#c51b7d"
            ],
            [
             0.2,
             "#de77ae"
            ],
            [
             0.3,
             "#f1b6da"
            ],
            [
             0.4,
             "#fde0ef"
            ],
            [
             0.5,
             "#f7f7f7"
            ],
            [
             0.6,
             "#e6f5d0"
            ],
            [
             0.7,
             "#b8e186"
            ],
            [
             0.8,
             "#7fbc41"
            ],
            [
             0.9,
             "#4d9221"
            ],
            [
             1,
             "#276419"
            ]
           ],
           "sequential": [
            [
             0,
             "#0d0887"
            ],
            [
             0.1111111111111111,
             "#46039f"
            ],
            [
             0.2222222222222222,
             "#7201a8"
            ],
            [
             0.3333333333333333,
             "#9c179e"
            ],
            [
             0.4444444444444444,
             "#bd3786"
            ],
            [
             0.5555555555555556,
             "#d8576b"
            ],
            [
             0.6666666666666666,
             "#ed7953"
            ],
            [
             0.7777777777777778,
             "#fb9f3a"
            ],
            [
             0.8888888888888888,
             "#fdca26"
            ],
            [
             1,
             "#f0f921"
            ]
           ],
           "sequentialminus": [
            [
             0,
             "#0d0887"
            ],
            [
             0.1111111111111111,
             "#46039f"
            ],
            [
             0.2222222222222222,
             "#7201a8"
            ],
            [
             0.3333333333333333,
             "#9c179e"
            ],
            [
             0.4444444444444444,
             "#bd3786"
            ],
            [
             0.5555555555555556,
             "#d8576b"
            ],
            [
             0.6666666666666666,
             "#ed7953"
            ],
            [
             0.7777777777777778,
             "#fb9f3a"
            ],
            [
             0.8888888888888888,
             "#fdca26"
            ],
            [
             1,
             "#f0f921"
            ]
           ]
          },
          "colorway": [
           "#636efa",
           "#EF553B",
           "#00cc96",
           "#ab63fa",
           "#FFA15A",
           "#19d3f3",
           "#FF6692",
           "#B6E880",
           "#FF97FF",
           "#FECB52"
          ],
          "font": {
           "color": "#2a3f5f"
          },
          "geo": {
           "bgcolor": "white",
           "lakecolor": "white",
           "landcolor": "#E5ECF6",
           "showlakes": true,
           "showland": true,
           "subunitcolor": "white"
          },
          "hoverlabel": {
           "align": "left"
          },
          "hovermode": "closest",
          "mapbox": {
           "style": "light"
          },
          "paper_bgcolor": "white",
          "plot_bgcolor": "#E5ECF6",
          "polar": {
           "angularaxis": {
            "gridcolor": "white",
            "linecolor": "white",
            "ticks": ""
           },
           "bgcolor": "#E5ECF6",
           "radialaxis": {
            "gridcolor": "white",
            "linecolor": "white",
            "ticks": ""
           }
          },
          "scene": {
           "xaxis": {
            "backgroundcolor": "#E5ECF6",
            "gridcolor": "white",
            "gridwidth": 2,
            "linecolor": "white",
            "showbackground": true,
            "ticks": "",
            "zerolinecolor": "white"
           },
           "yaxis": {
            "backgroundcolor": "#E5ECF6",
            "gridcolor": "white",
            "gridwidth": 2,
            "linecolor": "white",
            "showbackground": true,
            "ticks": "",
            "zerolinecolor": "white"
           },
           "zaxis": {
            "backgroundcolor": "#E5ECF6",
            "gridcolor": "white",
            "gridwidth": 2,
            "linecolor": "white",
            "showbackground": true,
            "ticks": "",
            "zerolinecolor": "white"
           }
          },
          "shapedefaults": {
           "line": {
            "color": "#2a3f5f"
           }
          },
          "ternary": {
           "aaxis": {
            "gridcolor": "white",
            "linecolor": "white",
            "ticks": ""
           },
           "baxis": {
            "gridcolor": "white",
            "linecolor": "white",
            "ticks": ""
           },
           "bgcolor": "#E5ECF6",
           "caxis": {
            "gridcolor": "white",
            "linecolor": "white",
            "ticks": ""
           }
          },
          "title": {
           "x": 0.05
          },
          "xaxis": {
           "automargin": true,
           "gridcolor": "white",
           "linecolor": "white",
           "ticks": "",
           "title": {
            "standoff": 15
           },
           "zerolinecolor": "white",
           "zerolinewidth": 2
          },
          "yaxis": {
           "automargin": true,
           "gridcolor": "white",
           "linecolor": "white",
           "ticks": "",
           "title": {
            "standoff": 15
           },
           "zerolinecolor": "white",
           "zerolinewidth": 2
          }
         }
        },
        "title": {
         "x": 0.5
        },
        "yaxis": {
         "gridcolor": "#dddcda",
         "gridwidth": 1
        }
       }
      }
     },
     "metadata": {},
     "output_type": "display_data"
    }
   ],
   "source": [
    "colores = ['#2962ff', '#9500ff', '#ff0059', '#ff8c00', '#b4e600', '#2EC2A2','#E50CB6','#4225CF','#2CBA4D','#2962ff', '#9500ff', '#ff0059', '#ff8c00', '#b4e600']\n",
    "\n",
    "fig = go.Figure()\n",
    "fig.add_trace(go.Bar(\n",
    "    x=posiciones_salariosparejas['Categoria_Pareja'],  # Eje x: Categoría\n",
    "    y=posiciones_salariosparejas['porcentaje'],  # Eje y: porcentaje\n",
    "    text=posiciones_salariosparejas['porcentaje'].apply(lambda x: f'{x:.2f}%'),  # Texto con el formato deseado\n",
    "    textposition='outside',  # Posición del texto (parte superior de las barras)\n",
    "    marker_color=colores,  # Especifica los colores de las barras\n",
    "))\n",
    "fig.update_layout(\n",
    "    #title='Mercado salario por pareja',  # Título de la gráfica\n",
    "    title_x=0.5,\n",
    "    yaxis=dict(\n",
    "        #title='%',  # Título del eje y\n",
    "        gridcolor='#dddcda', # Color de las líneas que dividen los rangos del eje Y\n",
    "        gridwidth=1, # Ancho de las líneas que dividen los rangos del eje Y\n",
    "    ),\n",
    "    plot_bgcolor='rgba(0,0,0,0)',  # Color de fondo del gráfico\n",
    ")\n",
    "\n",
    "# Exportar gráfica como archivo HTML\n",
    "def guardar_grafico_como_html(fig, nombre_archivo, carpeta='graficas'):\n",
    "    if not os.path.exists(carpeta): \n",
    "        os.makedirs(carpeta) # Crear la carpeta si no existe\n",
    "    \n",
    "    # Gráfica como archivo HTML en la carpeta especificada\n",
    "    pio.write_html(fig, f'{carpeta}/{nombre_archivo}.html')\n",
    "\n",
    "# Exportar\n",
    "guardar_grafico_como_html(fig, 'g_bar_mercadoXsalarial_parejas_puebla', carpeta='graficas')\n",
    "\n",
    "fig.show()"
   ]
  },
  {
   "cell_type": "markdown",
   "metadata": {},
   "source": [
    "## TULANCINGO"
   ]
  },
  {
   "cell_type": "code",
   "execution_count": 26,
   "metadata": {},
   "outputs": [],
   "source": [
    "# Datos de ejemplo\n",
    "data = {\n",
    "    'porcentaje': [\n",
    "        9.23,14.46,24.00,18.46,11.69,8.62,2.77,2.77,1.23,2.46,0.00,1.23,0.62,0.00\n",
    "    ],\n",
    "    'Categoria_Pareja': [\n",
    "        '<5000 G', '<5-8K F', '8-12K F1', '12-16K E', '16-20K E1', '20-25K D', '25-30K D1', '30-35K C', '35-40K C1', '40-45K B', '45-50K B1', '50-55K A', '55-60K A1', '60K S+'\n",
    "    ]\n",
    "    \n",
    "}\n",
    "\n",
    "# Crear el DataFrame\n",
    "posiciones_salariosparejas = pd.DataFrame(data)"
   ]
  },
  {
   "cell_type": "code",
   "execution_count": 27,
   "metadata": {},
   "outputs": [
    {
     "data": {
      "application/vnd.plotly.v1+json": {
       "config": {
        "plotlyServerURL": "https://plot.ly"
       },
       "data": [
        {
         "marker": {
          "color": [
           "#2962ff",
           "#9500ff",
           "#ff0059",
           "#ff8c00",
           "#b4e600",
           "#2EC2A2",
           "#E50CB6",
           "#4225CF",
           "#2CBA4D",
           "#2962ff",
           "#9500ff",
           "#ff0059",
           "#ff8c00",
           "#b4e600"
          ]
         },
         "text": [
          "9.23%",
          "14.46%",
          "24.00%",
          "18.46%",
          "11.69%",
          "8.62%",
          "2.77%",
          "2.77%",
          "1.23%",
          "2.46%",
          "0.00%",
          "1.23%",
          "0.62%",
          "0.00%"
         ],
         "textposition": "outside",
         "type": "bar",
         "x": [
          "<5000 G",
          "<5-8K F",
          "8-12K F1",
          "12-16K E",
          "16-20K E1",
          "20-25K D",
          "25-30K D1",
          "30-35K C",
          "35-40K C1",
          "40-45K B",
          "45-50K B1",
          "50-55K A",
          "55-60K A1",
          "60K S+"
         ],
         "y": [
          9.23,
          14.46,
          24,
          18.46,
          11.69,
          8.62,
          2.77,
          2.77,
          1.23,
          2.46,
          0,
          1.23,
          0.62,
          0
         ]
        }
       ],
       "layout": {
        "plot_bgcolor": "rgba(0,0,0,0)",
        "template": {
         "data": {
          "bar": [
           {
            "error_x": {
             "color": "#2a3f5f"
            },
            "error_y": {
             "color": "#2a3f5f"
            },
            "marker": {
             "line": {
              "color": "#E5ECF6",
              "width": 0.5
             },
             "pattern": {
              "fillmode": "overlay",
              "size": 10,
              "solidity": 0.2
             }
            },
            "type": "bar"
           }
          ],
          "barpolar": [
           {
            "marker": {
             "line": {
              "color": "#E5ECF6",
              "width": 0.5
             },
             "pattern": {
              "fillmode": "overlay",
              "size": 10,
              "solidity": 0.2
             }
            },
            "type": "barpolar"
           }
          ],
          "carpet": [
           {
            "aaxis": {
             "endlinecolor": "#2a3f5f",
             "gridcolor": "white",
             "linecolor": "white",
             "minorgridcolor": "white",
             "startlinecolor": "#2a3f5f"
            },
            "baxis": {
             "endlinecolor": "#2a3f5f",
             "gridcolor": "white",
             "linecolor": "white",
             "minorgridcolor": "white",
             "startlinecolor": "#2a3f5f"
            },
            "type": "carpet"
           }
          ],
          "choropleth": [
           {
            "colorbar": {
             "outlinewidth": 0,
             "ticks": ""
            },
            "type": "choropleth"
           }
          ],
          "contour": [
           {
            "colorbar": {
             "outlinewidth": 0,
             "ticks": ""
            },
            "colorscale": [
             [
              0,
              "#0d0887"
             ],
             [
              0.1111111111111111,
              "#46039f"
             ],
             [
              0.2222222222222222,
              "#7201a8"
             ],
             [
              0.3333333333333333,
              "#9c179e"
             ],
             [
              0.4444444444444444,
              "#bd3786"
             ],
             [
              0.5555555555555556,
              "#d8576b"
             ],
             [
              0.6666666666666666,
              "#ed7953"
             ],
             [
              0.7777777777777778,
              "#fb9f3a"
             ],
             [
              0.8888888888888888,
              "#fdca26"
             ],
             [
              1,
              "#f0f921"
             ]
            ],
            "type": "contour"
           }
          ],
          "contourcarpet": [
           {
            "colorbar": {
             "outlinewidth": 0,
             "ticks": ""
            },
            "type": "contourcarpet"
           }
          ],
          "heatmap": [
           {
            "colorbar": {
             "outlinewidth": 0,
             "ticks": ""
            },
            "colorscale": [
             [
              0,
              "#0d0887"
             ],
             [
              0.1111111111111111,
              "#46039f"
             ],
             [
              0.2222222222222222,
              "#7201a8"
             ],
             [
              0.3333333333333333,
              "#9c179e"
             ],
             [
              0.4444444444444444,
              "#bd3786"
             ],
             [
              0.5555555555555556,
              "#d8576b"
             ],
             [
              0.6666666666666666,
              "#ed7953"
             ],
             [
              0.7777777777777778,
              "#fb9f3a"
             ],
             [
              0.8888888888888888,
              "#fdca26"
             ],
             [
              1,
              "#f0f921"
             ]
            ],
            "type": "heatmap"
           }
          ],
          "heatmapgl": [
           {
            "colorbar": {
             "outlinewidth": 0,
             "ticks": ""
            },
            "colorscale": [
             [
              0,
              "#0d0887"
             ],
             [
              0.1111111111111111,
              "#46039f"
             ],
             [
              0.2222222222222222,
              "#7201a8"
             ],
             [
              0.3333333333333333,
              "#9c179e"
             ],
             [
              0.4444444444444444,
              "#bd3786"
             ],
             [
              0.5555555555555556,
              "#d8576b"
             ],
             [
              0.6666666666666666,
              "#ed7953"
             ],
             [
              0.7777777777777778,
              "#fb9f3a"
             ],
             [
              0.8888888888888888,
              "#fdca26"
             ],
             [
              1,
              "#f0f921"
             ]
            ],
            "type": "heatmapgl"
           }
          ],
          "histogram": [
           {
            "marker": {
             "pattern": {
              "fillmode": "overlay",
              "size": 10,
              "solidity": 0.2
             }
            },
            "type": "histogram"
           }
          ],
          "histogram2d": [
           {
            "colorbar": {
             "outlinewidth": 0,
             "ticks": ""
            },
            "colorscale": [
             [
              0,
              "#0d0887"
             ],
             [
              0.1111111111111111,
              "#46039f"
             ],
             [
              0.2222222222222222,
              "#7201a8"
             ],
             [
              0.3333333333333333,
              "#9c179e"
             ],
             [
              0.4444444444444444,
              "#bd3786"
             ],
             [
              0.5555555555555556,
              "#d8576b"
             ],
             [
              0.6666666666666666,
              "#ed7953"
             ],
             [
              0.7777777777777778,
              "#fb9f3a"
             ],
             [
              0.8888888888888888,
              "#fdca26"
             ],
             [
              1,
              "#f0f921"
             ]
            ],
            "type": "histogram2d"
           }
          ],
          "histogram2dcontour": [
           {
            "colorbar": {
             "outlinewidth": 0,
             "ticks": ""
            },
            "colorscale": [
             [
              0,
              "#0d0887"
             ],
             [
              0.1111111111111111,
              "#46039f"
             ],
             [
              0.2222222222222222,
              "#7201a8"
             ],
             [
              0.3333333333333333,
              "#9c179e"
             ],
             [
              0.4444444444444444,
              "#bd3786"
             ],
             [
              0.5555555555555556,
              "#d8576b"
             ],
             [
              0.6666666666666666,
              "#ed7953"
             ],
             [
              0.7777777777777778,
              "#fb9f3a"
             ],
             [
              0.8888888888888888,
              "#fdca26"
             ],
             [
              1,
              "#f0f921"
             ]
            ],
            "type": "histogram2dcontour"
           }
          ],
          "mesh3d": [
           {
            "colorbar": {
             "outlinewidth": 0,
             "ticks": ""
            },
            "type": "mesh3d"
           }
          ],
          "parcoords": [
           {
            "line": {
             "colorbar": {
              "outlinewidth": 0,
              "ticks": ""
             }
            },
            "type": "parcoords"
           }
          ],
          "pie": [
           {
            "automargin": true,
            "type": "pie"
           }
          ],
          "scatter": [
           {
            "fillpattern": {
             "fillmode": "overlay",
             "size": 10,
             "solidity": 0.2
            },
            "type": "scatter"
           }
          ],
          "scatter3d": [
           {
            "line": {
             "colorbar": {
              "outlinewidth": 0,
              "ticks": ""
             }
            },
            "marker": {
             "colorbar": {
              "outlinewidth": 0,
              "ticks": ""
             }
            },
            "type": "scatter3d"
           }
          ],
          "scattercarpet": [
           {
            "marker": {
             "colorbar": {
              "outlinewidth": 0,
              "ticks": ""
             }
            },
            "type": "scattercarpet"
           }
          ],
          "scattergeo": [
           {
            "marker": {
             "colorbar": {
              "outlinewidth": 0,
              "ticks": ""
             }
            },
            "type": "scattergeo"
           }
          ],
          "scattergl": [
           {
            "marker": {
             "colorbar": {
              "outlinewidth": 0,
              "ticks": ""
             }
            },
            "type": "scattergl"
           }
          ],
          "scattermapbox": [
           {
            "marker": {
             "colorbar": {
              "outlinewidth": 0,
              "ticks": ""
             }
            },
            "type": "scattermapbox"
           }
          ],
          "scatterpolar": [
           {
            "marker": {
             "colorbar": {
              "outlinewidth": 0,
              "ticks": ""
             }
            },
            "type": "scatterpolar"
           }
          ],
          "scatterpolargl": [
           {
            "marker": {
             "colorbar": {
              "outlinewidth": 0,
              "ticks": ""
             }
            },
            "type": "scatterpolargl"
           }
          ],
          "scatterternary": [
           {
            "marker": {
             "colorbar": {
              "outlinewidth": 0,
              "ticks": ""
             }
            },
            "type": "scatterternary"
           }
          ],
          "surface": [
           {
            "colorbar": {
             "outlinewidth": 0,
             "ticks": ""
            },
            "colorscale": [
             [
              0,
              "#0d0887"
             ],
             [
              0.1111111111111111,
              "#46039f"
             ],
             [
              0.2222222222222222,
              "#7201a8"
             ],
             [
              0.3333333333333333,
              "#9c179e"
             ],
             [
              0.4444444444444444,
              "#bd3786"
             ],
             [
              0.5555555555555556,
              "#d8576b"
             ],
             [
              0.6666666666666666,
              "#ed7953"
             ],
             [
              0.7777777777777778,
              "#fb9f3a"
             ],
             [
              0.8888888888888888,
              "#fdca26"
             ],
             [
              1,
              "#f0f921"
             ]
            ],
            "type": "surface"
           }
          ],
          "table": [
           {
            "cells": {
             "fill": {
              "color": "#EBF0F8"
             },
             "line": {
              "color": "white"
             }
            },
            "header": {
             "fill": {
              "color": "#C8D4E3"
             },
             "line": {
              "color": "white"
             }
            },
            "type": "table"
           }
          ]
         },
         "layout": {
          "annotationdefaults": {
           "arrowcolor": "#2a3f5f",
           "arrowhead": 0,
           "arrowwidth": 1
          },
          "autotypenumbers": "strict",
          "coloraxis": {
           "colorbar": {
            "outlinewidth": 0,
            "ticks": ""
           }
          },
          "colorscale": {
           "diverging": [
            [
             0,
             "#8e0152"
            ],
            [
             0.1,
             "#c51b7d"
            ],
            [
             0.2,
             "#de77ae"
            ],
            [
             0.3,
             "#f1b6da"
            ],
            [
             0.4,
             "#fde0ef"
            ],
            [
             0.5,
             "#f7f7f7"
            ],
            [
             0.6,
             "#e6f5d0"
            ],
            [
             0.7,
             "#b8e186"
            ],
            [
             0.8,
             "#7fbc41"
            ],
            [
             0.9,
             "#4d9221"
            ],
            [
             1,
             "#276419"
            ]
           ],
           "sequential": [
            [
             0,
             "#0d0887"
            ],
            [
             0.1111111111111111,
             "#46039f"
            ],
            [
             0.2222222222222222,
             "#7201a8"
            ],
            [
             0.3333333333333333,
             "#9c179e"
            ],
            [
             0.4444444444444444,
             "#bd3786"
            ],
            [
             0.5555555555555556,
             "#d8576b"
            ],
            [
             0.6666666666666666,
             "#ed7953"
            ],
            [
             0.7777777777777778,
             "#fb9f3a"
            ],
            [
             0.8888888888888888,
             "#fdca26"
            ],
            [
             1,
             "#f0f921"
            ]
           ],
           "sequentialminus": [
            [
             0,
             "#0d0887"
            ],
            [
             0.1111111111111111,
             "#46039f"
            ],
            [
             0.2222222222222222,
             "#7201a8"
            ],
            [
             0.3333333333333333,
             "#9c179e"
            ],
            [
             0.4444444444444444,
             "#bd3786"
            ],
            [
             0.5555555555555556,
             "#d8576b"
            ],
            [
             0.6666666666666666,
             "#ed7953"
            ],
            [
             0.7777777777777778,
             "#fb9f3a"
            ],
            [
             0.8888888888888888,
             "#fdca26"
            ],
            [
             1,
             "#f0f921"
            ]
           ]
          },
          "colorway": [
           "#636efa",
           "#EF553B",
           "#00cc96",
           "#ab63fa",
           "#FFA15A",
           "#19d3f3",
           "#FF6692",
           "#B6E880",
           "#FF97FF",
           "#FECB52"
          ],
          "font": {
           "color": "#2a3f5f"
          },
          "geo": {
           "bgcolor": "white",
           "lakecolor": "white",
           "landcolor": "#E5ECF6",
           "showlakes": true,
           "showland": true,
           "subunitcolor": "white"
          },
          "hoverlabel": {
           "align": "left"
          },
          "hovermode": "closest",
          "mapbox": {
           "style": "light"
          },
          "paper_bgcolor": "white",
          "plot_bgcolor": "#E5ECF6",
          "polar": {
           "angularaxis": {
            "gridcolor": "white",
            "linecolor": "white",
            "ticks": ""
           },
           "bgcolor": "#E5ECF6",
           "radialaxis": {
            "gridcolor": "white",
            "linecolor": "white",
            "ticks": ""
           }
          },
          "scene": {
           "xaxis": {
            "backgroundcolor": "#E5ECF6",
            "gridcolor": "white",
            "gridwidth": 2,
            "linecolor": "white",
            "showbackground": true,
            "ticks": "",
            "zerolinecolor": "white"
           },
           "yaxis": {
            "backgroundcolor": "#E5ECF6",
            "gridcolor": "white",
            "gridwidth": 2,
            "linecolor": "white",
            "showbackground": true,
            "ticks": "",
            "zerolinecolor": "white"
           },
           "zaxis": {
            "backgroundcolor": "#E5ECF6",
            "gridcolor": "white",
            "gridwidth": 2,
            "linecolor": "white",
            "showbackground": true,
            "ticks": "",
            "zerolinecolor": "white"
           }
          },
          "shapedefaults": {
           "line": {
            "color": "#2a3f5f"
           }
          },
          "ternary": {
           "aaxis": {
            "gridcolor": "white",
            "linecolor": "white",
            "ticks": ""
           },
           "baxis": {
            "gridcolor": "white",
            "linecolor": "white",
            "ticks": ""
           },
           "bgcolor": "#E5ECF6",
           "caxis": {
            "gridcolor": "white",
            "linecolor": "white",
            "ticks": ""
           }
          },
          "title": {
           "x": 0.05
          },
          "xaxis": {
           "automargin": true,
           "gridcolor": "white",
           "linecolor": "white",
           "ticks": "",
           "title": {
            "standoff": 15
           },
           "zerolinecolor": "white",
           "zerolinewidth": 2
          },
          "yaxis": {
           "automargin": true,
           "gridcolor": "white",
           "linecolor": "white",
           "ticks": "",
           "title": {
            "standoff": 15
           },
           "zerolinecolor": "white",
           "zerolinewidth": 2
          }
         }
        },
        "title": {
         "x": 0.5
        },
        "yaxis": {
         "gridcolor": "#dddcda",
         "gridwidth": 1
        }
       }
      }
     },
     "metadata": {},
     "output_type": "display_data"
    }
   ],
   "source": [
    "colores = ['#2962ff', '#9500ff', '#ff0059', '#ff8c00', '#b4e600', '#2EC2A2','#E50CB6','#4225CF','#2CBA4D','#2962ff', '#9500ff', '#ff0059', '#ff8c00', '#b4e600']\n",
    "\n",
    "fig = go.Figure()\n",
    "fig.add_trace(go.Bar(\n",
    "    x=posiciones_salariosparejas['Categoria_Pareja'],  # Eje x: Categoría\n",
    "    y=posiciones_salariosparejas['porcentaje'],  # Eje y: porcentaje\n",
    "    text=posiciones_salariosparejas['porcentaje'].apply(lambda x: f'{x:.2f}%'),  # Texto con el formato deseado\n",
    "    textposition='outside',  # Posición del texto (parte superior de las barras)\n",
    "    marker_color=colores,  # Especifica los colores de las barras\n",
    "))\n",
    "fig.update_layout(\n",
    "    #title='Mercado salario por pareja',  # Título de la gráfica\n",
    "    title_x=0.5,\n",
    "    yaxis=dict(\n",
    "        #title='%',  # Título del eje y\n",
    "        gridcolor='#dddcda', # Color de las líneas que dividen los rangos del eje Y\n",
    "        gridwidth=1, # Ancho de las líneas que dividen los rangos del eje Y\n",
    "    ),\n",
    "    plot_bgcolor='rgba(0,0,0,0)',  # Color de fondo del gráfico\n",
    ")\n",
    "\n",
    "# Exportar gráfica como archivo HTML\n",
    "def guardar_grafico_como_html(fig, nombre_archivo, carpeta='graficas'):\n",
    "    if not os.path.exists(carpeta): \n",
    "        os.makedirs(carpeta) # Crear la carpeta si no existe\n",
    "    \n",
    "    # Gráfica como archivo HTML en la carpeta especificada\n",
    "    pio.write_html(fig, f'{carpeta}/{nombre_archivo}.html')\n",
    "\n",
    "# Exportar\n",
    "guardar_grafico_como_html(fig, 'g_bar_mercadoXsalarial_parejas_TULGO', carpeta='graficas')\n",
    "\n",
    "fig.show()"
   ]
  },
  {
   "cell_type": "markdown",
   "metadata": {},
   "source": [
    "__________\n",
    "# ***Mercado salario por persona***"
   ]
  },
  {
   "cell_type": "markdown",
   "metadata": {},
   "source": [
    "## *PACHUCA*"
   ]
  },
  {
   "cell_type": "code",
   "execution_count": 18,
   "metadata": {},
   "outputs": [],
   "source": [
    "# Crea los DataFrames para cada archivo con las columnas necesarias\n",
    "persona_df_salarios_pachuca = df_salarios_pachuca[['id_salarios','Salario_Variable','Categoria']]"
   ]
  },
  {
   "cell_type": "code",
   "execution_count": 19,
   "metadata": {},
   "outputs": [
    {
     "name": "stdout",
     "output_type": "stream",
     "text": [
      "DataFrame para Categoria 'C':\n",
      "     id_salarios  Salario_Variable Categoria\n",
      "330          331         30,000.00         C\n",
      "331          332         34,000.00         C\n",
      "332          333         34,564.25         C\n",
      "DataFrame para Categoria 'D':\n",
      "     id_salarios  Salario_Variable Categoria\n",
      "323          324         20,000.00         D\n",
      "324          325         21,500.00         D\n",
      "325          326         21,559.79         D\n",
      "326          327         22,119.49         D\n",
      "327          328         22,295.80         D\n",
      "328          329         22,465.12         D\n",
      "DataFrame para Categoria 'D1':\n",
      "     id_salarios  Salario_Variable Categoria\n",
      "329          330         25,800.00        D1\n",
      "DataFrame para Categoria 'E':\n",
      "     id_salarios  Salario_Variable Categoria\n",
      "302          303         12,000.00         E\n",
      "303          304         12,000.00         E\n",
      "304          305         12,384.35         E\n",
      "305          306         12,447.85         E\n",
      "306          307         12,845.16         E\n",
      "307          308         13,192.31         E\n",
      "308          309         13,407.53         E\n",
      "309          310         13,800.00         E\n",
      "310          311         14,644.03         E\n",
      "311          312         14,701.86         E\n",
      "312          313         15,000.00         E\n",
      "313          314         15,000.00         E\n",
      "314          315         15,901.64         E\n",
      "315          316         15,971.31         E\n",
      "DataFrame para Categoria 'E1':\n",
      "     id_salarios  Salario_Variable Categoria\n",
      "316          317         16,221.92        E1\n",
      "317          318         17,000.00        E1\n",
      "318          319         17,200.00        E1\n",
      "319          320         17,282.83        E1\n",
      "320          321         17,313.36        E1\n",
      "321          322         18,000.00        E1\n",
      "322          323         18,236.44        E1\n",
      "DataFrame para Categoria 'F':\n",
      "     id_salarios  Salario_Variable Categoria\n",
      "155          156          5,000.00         F\n",
      "156          157          5,047.45         F\n",
      "157          158          5,068.92         F\n",
      "158          159          5,147.45         F\n",
      "159          160          5,160.00         F\n",
      "..           ...               ...       ...\n",
      "249          250          7,515.81         F\n",
      "250          251          7,740.00         F\n",
      "251          252          7,817.02         F\n",
      "252          253          7,928.88         F\n",
      "253          254          7,975.93         F\n",
      "\n",
      "[99 rows x 3 columns]\n",
      "DataFrame para Categoria 'F1':\n",
      "     id_salarios  Salario_Variable Categoria\n",
      "254          255          8,005.74        F1\n",
      "255          256          8,006.11        F1\n",
      "256          257          8,126.42        F1\n",
      "257          258          8,170.00        F1\n",
      "258          259          8,396.14        F1\n",
      "259          260          8,444.42        F1\n",
      "260          261          8,457.98        F1\n",
      "261          262          8,475.70        F1\n",
      "262          263          8,547.06        F1\n",
      "263          264          8,593.06        F1\n",
      "264          265          8,600.00        F1\n",
      "265          266          8,600.00        F1\n",
      "266          267          8,684.18        F1\n",
      "267          268          8,690.94        F1\n",
      "268          269          8,845.15        F1\n",
      "269          270          8,988.23        F1\n",
      "270          271          9,098.59        F1\n",
      "271          272          9,190.59        F1\n",
      "272          273          9,275.74        F1\n",
      "273          274          9,286.60        F1\n",
      "274          275          9,385.05        F1\n",
      "275          276          9,402.17        F1\n",
      "276          277          9,476.66        F1\n",
      "277          278          9,506.57        F1\n",
      "278          279          9,521.83        F1\n",
      "279          280          9,598.56        F1\n",
      "280          281          9,600.00        F1\n",
      "281          282          9,800.00        F1\n",
      "282          283          9,907.08        F1\n",
      "283          284          9,961.06        F1\n",
      "284          285         10,000.00        F1\n",
      "285          286         10,000.00        F1\n",
      "286          287         10,090.46        F1\n",
      "287          288         10,107.10        F1\n",
      "288          289         10,141.59        F1\n",
      "289          290         10,182.14        F1\n",
      "290          291         10,195.03        F1\n",
      "291          292         10,272.26        F1\n",
      "292          293         10,273.08        F1\n",
      "293          294         10,338.94        F1\n",
      "294          295         10,528.29        F1\n",
      "295          296         11,000.00        F1\n",
      "296          297         11,082.27        F1\n",
      "297          298         11,208.56        F1\n",
      "298          299         11,310.50        F1\n",
      "299          300         11,588.12        F1\n",
      "300          301         11,610.00        F1\n",
      "301          302         11,918.31        F1\n",
      "DataFrame para Categoria 'G':\n",
      "     id_salarios  Salario_Variable Categoria\n",
      "0              1            244.30         G\n",
      "1              2            690.00         G\n",
      "2              3            817.54         G\n",
      "3              4            973.88         G\n",
      "4              5          1,000.00         G\n",
      "..           ...               ...       ...\n",
      "150          151          4,873.37         G\n",
      "151          152          4,884.58         G\n",
      "152          153          4,942.98         G\n",
      "153          154          4,957.99         G\n",
      "154          155          4,971.56         G\n",
      "\n",
      "[155 rows x 3 columns]\n"
     ]
    }
   ],
   "source": [
    "# Crea un diccionario para almacenar los DataFrames de cada categoría única\n",
    "dataframes_por_categoria = {}\n",
    "\n",
    "# Itera sobre los grupos creados por groupby()\n",
    "for categoria, grupo in persona_df_salarios_pachuca.groupby('Categoria'):\n",
    "    # Almacena el DataFrame del grupo en el diccionario\n",
    "    dataframes_por_categoria[categoria] = grupo\n",
    "\n",
    "# Itera sobre las claves del diccionario dataframes_por_categoria\n",
    "for categoria in dataframes_por_categoria:\n",
    "    # Imprime la categoría actual\n",
    "    print(\"DataFrame para Categoria '{}':\".format(categoria))\n",
    "    # Imprime el DataFrame correspondiente a la categoría actual\n",
    "    print(dataframes_por_categoria[categoria])\n"
   ]
  },
  {
   "cell_type": "code",
   "execution_count": 20,
   "metadata": {},
   "outputs": [
    {
     "data": {
      "text/html": [
       "<div>\n",
       "<style scoped>\n",
       "    .dataframe tbody tr th:only-of-type {\n",
       "        vertical-align: middle;\n",
       "    }\n",
       "\n",
       "    .dataframe tbody tr th {\n",
       "        vertical-align: top;\n",
       "    }\n",
       "\n",
       "    .dataframe thead th {\n",
       "        text-align: right;\n",
       "    }\n",
       "</style>\n",
       "<table border=\"1\" class=\"dataframe\">\n",
       "  <thead>\n",
       "    <tr style=\"text-align: right;\">\n",
       "      <th></th>\n",
       "      <th>Categoria</th>\n",
       "      <th>numero_registros</th>\n",
       "    </tr>\n",
       "  </thead>\n",
       "  <tbody>\n",
       "    <tr>\n",
       "      <th>0</th>\n",
       "      <td>G</td>\n",
       "      <td>155.00</td>\n",
       "    </tr>\n",
       "    <tr>\n",
       "      <th>1</th>\n",
       "      <td>F</td>\n",
       "      <td>99.00</td>\n",
       "    </tr>\n",
       "    <tr>\n",
       "      <th>2</th>\n",
       "      <td>F1</td>\n",
       "      <td>48.00</td>\n",
       "    </tr>\n",
       "    <tr>\n",
       "      <th>3</th>\n",
       "      <td>E</td>\n",
       "      <td>14.00</td>\n",
       "    </tr>\n",
       "    <tr>\n",
       "      <th>4</th>\n",
       "      <td>E1</td>\n",
       "      <td>7.00</td>\n",
       "    </tr>\n",
       "    <tr>\n",
       "      <th>5</th>\n",
       "      <td>D</td>\n",
       "      <td>6.00</td>\n",
       "    </tr>\n",
       "    <tr>\n",
       "      <th>6</th>\n",
       "      <td>D1</td>\n",
       "      <td>1.00</td>\n",
       "    </tr>\n",
       "    <tr>\n",
       "      <th>7</th>\n",
       "      <td>C</td>\n",
       "      <td>3.00</td>\n",
       "    </tr>\n",
       "    <tr>\n",
       "      <th>8</th>\n",
       "      <td>C1</td>\n",
       "      <td>0.00</td>\n",
       "    </tr>\n",
       "    <tr>\n",
       "      <th>9</th>\n",
       "      <td>B</td>\n",
       "      <td>0.00</td>\n",
       "    </tr>\n",
       "    <tr>\n",
       "      <th>10</th>\n",
       "      <td>B1</td>\n",
       "      <td>0.00</td>\n",
       "    </tr>\n",
       "    <tr>\n",
       "      <th>11</th>\n",
       "      <td>A</td>\n",
       "      <td>0.00</td>\n",
       "    </tr>\n",
       "    <tr>\n",
       "      <th>12</th>\n",
       "      <td>A1</td>\n",
       "      <td>0.00</td>\n",
       "    </tr>\n",
       "    <tr>\n",
       "      <th>13</th>\n",
       "      <td>S</td>\n",
       "      <td>0.00</td>\n",
       "    </tr>\n",
       "  </tbody>\n",
       "</table>\n",
       "</div>"
      ],
      "text/plain": [
       "   Categoria  numero_registros\n",
       "0          G            155.00\n",
       "1          F             99.00\n",
       "2         F1             48.00\n",
       "3          E             14.00\n",
       "4         E1              7.00\n",
       "5          D              6.00\n",
       "6         D1              1.00\n",
       "7          C              3.00\n",
       "8         C1              0.00\n",
       "9          B              0.00\n",
       "10        B1              0.00\n",
       "11         A              0.00\n",
       "12        A1              0.00\n",
       "13         S              0.00"
      ]
     },
     "execution_count": 20,
     "metadata": {},
     "output_type": "execute_result"
    }
   ],
   "source": [
    "numero_registros_por_categoria = {}\n",
    "# Itera dataframes_por_categoria que contiene cada grupo de categorías por pareja\n",
    "for categoria in dataframes_por_categoria:\n",
    "    numero_registros = len(dataframes_por_categoria[categoria]) # Número de registros para el DataFrame correspondiente a la categoría actual\n",
    "    numero_registros_por_categoria[categoria] = numero_registros # Almacena en el diccionario \n",
    "\n",
    "# Convertir el diccionario en un DataFrame\n",
    "posiciones_salariospersona = pd.DataFrame(list(numero_registros_por_categoria.items()), columns=['Categoria', 'numero_registros'])\n",
    "# Mantener orden\n",
    "nuevo_orden = ['G', 'F', 'F1', 'E', 'E1', 'D', 'D1', 'C', 'C1', 'B', 'B1', 'A', 'A1', 'S']\n",
    "posiciones_salariospersona = posiciones_salariospersona.set_index('Categoria').reindex(nuevo_orden).fillna(0).reset_index()\n",
    "posiciones_salariospersona"
   ]
  },
  {
   "cell_type": "code",
   "execution_count": 21,
   "metadata": {},
   "outputs": [
    {
     "data": {
      "text/html": [
       "<div>\n",
       "<style scoped>\n",
       "    .dataframe tbody tr th:only-of-type {\n",
       "        vertical-align: middle;\n",
       "    }\n",
       "\n",
       "    .dataframe tbody tr th {\n",
       "        vertical-align: top;\n",
       "    }\n",
       "\n",
       "    .dataframe thead th {\n",
       "        text-align: right;\n",
       "    }\n",
       "</style>\n",
       "<table border=\"1\" class=\"dataframe\">\n",
       "  <thead>\n",
       "    <tr style=\"text-align: right;\">\n",
       "      <th></th>\n",
       "      <th>Categoria</th>\n",
       "      <th>numero_registros</th>\n",
       "      <th>porcentaje</th>\n",
       "    </tr>\n",
       "  </thead>\n",
       "  <tbody>\n",
       "    <tr>\n",
       "      <th>0</th>\n",
       "      <td>&lt;5000 G</td>\n",
       "      <td>155.00</td>\n",
       "      <td>46.55</td>\n",
       "    </tr>\n",
       "    <tr>\n",
       "      <th>1</th>\n",
       "      <td>&lt;5-8K F</td>\n",
       "      <td>99.00</td>\n",
       "      <td>29.73</td>\n",
       "    </tr>\n",
       "    <tr>\n",
       "      <th>2</th>\n",
       "      <td>8-12K F1</td>\n",
       "      <td>48.00</td>\n",
       "      <td>14.41</td>\n",
       "    </tr>\n",
       "    <tr>\n",
       "      <th>3</th>\n",
       "      <td>12-16K E</td>\n",
       "      <td>14.00</td>\n",
       "      <td>4.20</td>\n",
       "    </tr>\n",
       "    <tr>\n",
       "      <th>4</th>\n",
       "      <td>16-20K E1</td>\n",
       "      <td>7.00</td>\n",
       "      <td>2.10</td>\n",
       "    </tr>\n",
       "    <tr>\n",
       "      <th>5</th>\n",
       "      <td>20-25K D</td>\n",
       "      <td>6.00</td>\n",
       "      <td>1.80</td>\n",
       "    </tr>\n",
       "    <tr>\n",
       "      <th>6</th>\n",
       "      <td>25-30K D1</td>\n",
       "      <td>1.00</td>\n",
       "      <td>0.30</td>\n",
       "    </tr>\n",
       "    <tr>\n",
       "      <th>7</th>\n",
       "      <td>30-35K C</td>\n",
       "      <td>3.00</td>\n",
       "      <td>0.90</td>\n",
       "    </tr>\n",
       "    <tr>\n",
       "      <th>8</th>\n",
       "      <td>35-40K C1</td>\n",
       "      <td>0.00</td>\n",
       "      <td>0.00</td>\n",
       "    </tr>\n",
       "    <tr>\n",
       "      <th>9</th>\n",
       "      <td>40-45K B</td>\n",
       "      <td>0.00</td>\n",
       "      <td>0.00</td>\n",
       "    </tr>\n",
       "    <tr>\n",
       "      <th>10</th>\n",
       "      <td>45-50K B1</td>\n",
       "      <td>0.00</td>\n",
       "      <td>0.00</td>\n",
       "    </tr>\n",
       "    <tr>\n",
       "      <th>11</th>\n",
       "      <td>50-55K A</td>\n",
       "      <td>0.00</td>\n",
       "      <td>0.00</td>\n",
       "    </tr>\n",
       "    <tr>\n",
       "      <th>12</th>\n",
       "      <td>55-60K A1</td>\n",
       "      <td>0.00</td>\n",
       "      <td>0.00</td>\n",
       "    </tr>\n",
       "    <tr>\n",
       "      <th>13</th>\n",
       "      <td>60K S+</td>\n",
       "      <td>0.00</td>\n",
       "      <td>0.00</td>\n",
       "    </tr>\n",
       "  </tbody>\n",
       "</table>\n",
       "</div>"
      ],
      "text/plain": [
       "    Categoria  numero_registros  porcentaje\n",
       "0     <5000 G            155.00       46.55\n",
       "1     <5-8K F             99.00       29.73\n",
       "2    8-12K F1             48.00       14.41\n",
       "3    12-16K E             14.00        4.20\n",
       "4   16-20K E1              7.00        2.10\n",
       "5    20-25K D              6.00        1.80\n",
       "6   25-30K D1              1.00        0.30\n",
       "7    30-35K C              3.00        0.90\n",
       "8   35-40K C1              0.00        0.00\n",
       "9    40-45K B              0.00        0.00\n",
       "10  45-50K B1              0.00        0.00\n",
       "11   50-55K A              0.00        0.00\n",
       "12  55-60K A1              0.00        0.00\n",
       "13     60K S+              0.00        0.00"
      ]
     },
     "execution_count": 21,
     "metadata": {},
     "output_type": "execute_result"
    }
   ],
   "source": [
    "posiciones_salariospersona['Categoria'] = ['<5000 G', '<5-8K F', '8-12K F1', '12-16K E', '16-20K E1', '20-25K D', '25-30K D1', '30-35K C', '35-40K C1', '40-45K B', '45-50K B1', '50-55K A', '55-60K A1', '60K S+']\n",
    "total_registros = posiciones_salariospersona['numero_registros'].sum() # Calcular el total de registros en el DataFrame\n",
    "# Calculamos el porcentaje que representa cada numero_registros en relación al total de registros en el df\n",
    "posiciones_salariospersona['porcentaje'] = (posiciones_salariospersona['numero_registros'] / total_registros) * 100\n",
    "posiciones_salariospersona"
   ]
  },
  {
   "cell_type": "code",
   "execution_count": 23,
   "metadata": {},
   "outputs": [
    {
     "data": {
      "application/vnd.plotly.v1+json": {
       "config": {
        "plotlyServerURL": "https://plot.ly"
       },
       "data": [
        {
         "marker": {
          "color": [
           "#2962ff",
           "#9500ff",
           "#ff0059",
           "#ff8c00",
           "#b4e600",
           "#2EC2A2",
           "#E50CB6",
           "#4225CF",
           "#2CBA4D",
           "#2962ff",
           "#9500ff",
           "#ff0059",
           "#ff8c00",
           "#b4e600"
          ]
         },
         "text": [
          "46.55%",
          "29.73%",
          "14.41%",
          "4.20%",
          "2.10%",
          "1.80%",
          "0.30%",
          "0.90%",
          "0.00%",
          "0.00%",
          "0.00%",
          "0.00%",
          "0.00%",
          "0.00%"
         ],
         "textposition": "outside",
         "type": "bar",
         "x": [
          "<5000 G",
          "<5-8K F",
          "8-12K F1",
          "12-16K E",
          "16-20K E1",
          "20-25K D",
          "25-30K D1",
          "30-35K C",
          "35-40K C1",
          "40-45K B",
          "45-50K B1",
          "50-55K A",
          "55-60K A1",
          "60K S+"
         ],
         "y": [
          46.546546546546544,
          29.72972972972973,
          14.414414414414415,
          4.2042042042042045,
          2.1021021021021022,
          1.8018018018018018,
          0.3003003003003003,
          0.9009009009009009,
          0,
          0,
          0,
          0,
          0,
          0
         ]
        }
       ],
       "layout": {
        "plot_bgcolor": "rgba(0,0,0,0)",
        "template": {
         "data": {
          "bar": [
           {
            "error_x": {
             "color": "#2a3f5f"
            },
            "error_y": {
             "color": "#2a3f5f"
            },
            "marker": {
             "line": {
              "color": "#E5ECF6",
              "width": 0.5
             },
             "pattern": {
              "fillmode": "overlay",
              "size": 10,
              "solidity": 0.2
             }
            },
            "type": "bar"
           }
          ],
          "barpolar": [
           {
            "marker": {
             "line": {
              "color": "#E5ECF6",
              "width": 0.5
             },
             "pattern": {
              "fillmode": "overlay",
              "size": 10,
              "solidity": 0.2
             }
            },
            "type": "barpolar"
           }
          ],
          "carpet": [
           {
            "aaxis": {
             "endlinecolor": "#2a3f5f",
             "gridcolor": "white",
             "linecolor": "white",
             "minorgridcolor": "white",
             "startlinecolor": "#2a3f5f"
            },
            "baxis": {
             "endlinecolor": "#2a3f5f",
             "gridcolor": "white",
             "linecolor": "white",
             "minorgridcolor": "white",
             "startlinecolor": "#2a3f5f"
            },
            "type": "carpet"
           }
          ],
          "choropleth": [
           {
            "colorbar": {
             "outlinewidth": 0,
             "ticks": ""
            },
            "type": "choropleth"
           }
          ],
          "contour": [
           {
            "colorbar": {
             "outlinewidth": 0,
             "ticks": ""
            },
            "colorscale": [
             [
              0,
              "#0d0887"
             ],
             [
              0.1111111111111111,
              "#46039f"
             ],
             [
              0.2222222222222222,
              "#7201a8"
             ],
             [
              0.3333333333333333,
              "#9c179e"
             ],
             [
              0.4444444444444444,
              "#bd3786"
             ],
             [
              0.5555555555555556,
              "#d8576b"
             ],
             [
              0.6666666666666666,
              "#ed7953"
             ],
             [
              0.7777777777777778,
              "#fb9f3a"
             ],
             [
              0.8888888888888888,
              "#fdca26"
             ],
             [
              1,
              "#f0f921"
             ]
            ],
            "type": "contour"
           }
          ],
          "contourcarpet": [
           {
            "colorbar": {
             "outlinewidth": 0,
             "ticks": ""
            },
            "type": "contourcarpet"
           }
          ],
          "heatmap": [
           {
            "colorbar": {
             "outlinewidth": 0,
             "ticks": ""
            },
            "colorscale": [
             [
              0,
              "#0d0887"
             ],
             [
              0.1111111111111111,
              "#46039f"
             ],
             [
              0.2222222222222222,
              "#7201a8"
             ],
             [
              0.3333333333333333,
              "#9c179e"
             ],
             [
              0.4444444444444444,
              "#bd3786"
             ],
             [
              0.5555555555555556,
              "#d8576b"
             ],
             [
              0.6666666666666666,
              "#ed7953"
             ],
             [
              0.7777777777777778,
              "#fb9f3a"
             ],
             [
              0.8888888888888888,
              "#fdca26"
             ],
             [
              1,
              "#f0f921"
             ]
            ],
            "type": "heatmap"
           }
          ],
          "heatmapgl": [
           {
            "colorbar": {
             "outlinewidth": 0,
             "ticks": ""
            },
            "colorscale": [
             [
              0,
              "#0d0887"
             ],
             [
              0.1111111111111111,
              "#46039f"
             ],
             [
              0.2222222222222222,
              "#7201a8"
             ],
             [
              0.3333333333333333,
              "#9c179e"
             ],
             [
              0.4444444444444444,
              "#bd3786"
             ],
             [
              0.5555555555555556,
              "#d8576b"
             ],
             [
              0.6666666666666666,
              "#ed7953"
             ],
             [
              0.7777777777777778,
              "#fb9f3a"
             ],
             [
              0.8888888888888888,
              "#fdca26"
             ],
             [
              1,
              "#f0f921"
             ]
            ],
            "type": "heatmapgl"
           }
          ],
          "histogram": [
           {
            "marker": {
             "pattern": {
              "fillmode": "overlay",
              "size": 10,
              "solidity": 0.2
             }
            },
            "type": "histogram"
           }
          ],
          "histogram2d": [
           {
            "colorbar": {
             "outlinewidth": 0,
             "ticks": ""
            },
            "colorscale": [
             [
              0,
              "#0d0887"
             ],
             [
              0.1111111111111111,
              "#46039f"
             ],
             [
              0.2222222222222222,
              "#7201a8"
             ],
             [
              0.3333333333333333,
              "#9c179e"
             ],
             [
              0.4444444444444444,
              "#bd3786"
             ],
             [
              0.5555555555555556,
              "#d8576b"
             ],
             [
              0.6666666666666666,
              "#ed7953"
             ],
             [
              0.7777777777777778,
              "#fb9f3a"
             ],
             [
              0.8888888888888888,
              "#fdca26"
             ],
             [
              1,
              "#f0f921"
             ]
            ],
            "type": "histogram2d"
           }
          ],
          "histogram2dcontour": [
           {
            "colorbar": {
             "outlinewidth": 0,
             "ticks": ""
            },
            "colorscale": [
             [
              0,
              "#0d0887"
             ],
             [
              0.1111111111111111,
              "#46039f"
             ],
             [
              0.2222222222222222,
              "#7201a8"
             ],
             [
              0.3333333333333333,
              "#9c179e"
             ],
             [
              0.4444444444444444,
              "#bd3786"
             ],
             [
              0.5555555555555556,
              "#d8576b"
             ],
             [
              0.6666666666666666,
              "#ed7953"
             ],
             [
              0.7777777777777778,
              "#fb9f3a"
             ],
             [
              0.8888888888888888,
              "#fdca26"
             ],
             [
              1,
              "#f0f921"
             ]
            ],
            "type": "histogram2dcontour"
           }
          ],
          "mesh3d": [
           {
            "colorbar": {
             "outlinewidth": 0,
             "ticks": ""
            },
            "type": "mesh3d"
           }
          ],
          "parcoords": [
           {
            "line": {
             "colorbar": {
              "outlinewidth": 0,
              "ticks": ""
             }
            },
            "type": "parcoords"
           }
          ],
          "pie": [
           {
            "automargin": true,
            "type": "pie"
           }
          ],
          "scatter": [
           {
            "fillpattern": {
             "fillmode": "overlay",
             "size": 10,
             "solidity": 0.2
            },
            "type": "scatter"
           }
          ],
          "scatter3d": [
           {
            "line": {
             "colorbar": {
              "outlinewidth": 0,
              "ticks": ""
             }
            },
            "marker": {
             "colorbar": {
              "outlinewidth": 0,
              "ticks": ""
             }
            },
            "type": "scatter3d"
           }
          ],
          "scattercarpet": [
           {
            "marker": {
             "colorbar": {
              "outlinewidth": 0,
              "ticks": ""
             }
            },
            "type": "scattercarpet"
           }
          ],
          "scattergeo": [
           {
            "marker": {
             "colorbar": {
              "outlinewidth": 0,
              "ticks": ""
             }
            },
            "type": "scattergeo"
           }
          ],
          "scattergl": [
           {
            "marker": {
             "colorbar": {
              "outlinewidth": 0,
              "ticks": ""
             }
            },
            "type": "scattergl"
           }
          ],
          "scattermapbox": [
           {
            "marker": {
             "colorbar": {
              "outlinewidth": 0,
              "ticks": ""
             }
            },
            "type": "scattermapbox"
           }
          ],
          "scatterpolar": [
           {
            "marker": {
             "colorbar": {
              "outlinewidth": 0,
              "ticks": ""
             }
            },
            "type": "scatterpolar"
           }
          ],
          "scatterpolargl": [
           {
            "marker": {
             "colorbar": {
              "outlinewidth": 0,
              "ticks": ""
             }
            },
            "type": "scatterpolargl"
           }
          ],
          "scatterternary": [
           {
            "marker": {
             "colorbar": {
              "outlinewidth": 0,
              "ticks": ""
             }
            },
            "type": "scatterternary"
           }
          ],
          "surface": [
           {
            "colorbar": {
             "outlinewidth": 0,
             "ticks": ""
            },
            "colorscale": [
             [
              0,
              "#0d0887"
             ],
             [
              0.1111111111111111,
              "#46039f"
             ],
             [
              0.2222222222222222,
              "#7201a8"
             ],
             [
              0.3333333333333333,
              "#9c179e"
             ],
             [
              0.4444444444444444,
              "#bd3786"
             ],
             [
              0.5555555555555556,
              "#d8576b"
             ],
             [
              0.6666666666666666,
              "#ed7953"
             ],
             [
              0.7777777777777778,
              "#fb9f3a"
             ],
             [
              0.8888888888888888,
              "#fdca26"
             ],
             [
              1,
              "#f0f921"
             ]
            ],
            "type": "surface"
           }
          ],
          "table": [
           {
            "cells": {
             "fill": {
              "color": "#EBF0F8"
             },
             "line": {
              "color": "white"
             }
            },
            "header": {
             "fill": {
              "color": "#C8D4E3"
             },
             "line": {
              "color": "white"
             }
            },
            "type": "table"
           }
          ]
         },
         "layout": {
          "annotationdefaults": {
           "arrowcolor": "#2a3f5f",
           "arrowhead": 0,
           "arrowwidth": 1
          },
          "autotypenumbers": "strict",
          "coloraxis": {
           "colorbar": {
            "outlinewidth": 0,
            "ticks": ""
           }
          },
          "colorscale": {
           "diverging": [
            [
             0,
             "#8e0152"
            ],
            [
             0.1,
             "#c51b7d"
            ],
            [
             0.2,
             "#de77ae"
            ],
            [
             0.3,
             "#f1b6da"
            ],
            [
             0.4,
             "#fde0ef"
            ],
            [
             0.5,
             "#f7f7f7"
            ],
            [
             0.6,
             "#e6f5d0"
            ],
            [
             0.7,
             "#b8e186"
            ],
            [
             0.8,
             "#7fbc41"
            ],
            [
             0.9,
             "#4d9221"
            ],
            [
             1,
             "#276419"
            ]
           ],
           "sequential": [
            [
             0,
             "#0d0887"
            ],
            [
             0.1111111111111111,
             "#46039f"
            ],
            [
             0.2222222222222222,
             "#7201a8"
            ],
            [
             0.3333333333333333,
             "#9c179e"
            ],
            [
             0.4444444444444444,
             "#bd3786"
            ],
            [
             0.5555555555555556,
             "#d8576b"
            ],
            [
             0.6666666666666666,
             "#ed7953"
            ],
            [
             0.7777777777777778,
             "#fb9f3a"
            ],
            [
             0.8888888888888888,
             "#fdca26"
            ],
            [
             1,
             "#f0f921"
            ]
           ],
           "sequentialminus": [
            [
             0,
             "#0d0887"
            ],
            [
             0.1111111111111111,
             "#46039f"
            ],
            [
             0.2222222222222222,
             "#7201a8"
            ],
            [
             0.3333333333333333,
             "#9c179e"
            ],
            [
             0.4444444444444444,
             "#bd3786"
            ],
            [
             0.5555555555555556,
             "#d8576b"
            ],
            [
             0.6666666666666666,
             "#ed7953"
            ],
            [
             0.7777777777777778,
             "#fb9f3a"
            ],
            [
             0.8888888888888888,
             "#fdca26"
            ],
            [
             1,
             "#f0f921"
            ]
           ]
          },
          "colorway": [
           "#636efa",
           "#EF553B",
           "#00cc96",
           "#ab63fa",
           "#FFA15A",
           "#19d3f3",
           "#FF6692",
           "#B6E880",
           "#FF97FF",
           "#FECB52"
          ],
          "font": {
           "color": "#2a3f5f"
          },
          "geo": {
           "bgcolor": "white",
           "lakecolor": "white",
           "landcolor": "#E5ECF6",
           "showlakes": true,
           "showland": true,
           "subunitcolor": "white"
          },
          "hoverlabel": {
           "align": "left"
          },
          "hovermode": "closest",
          "mapbox": {
           "style": "light"
          },
          "paper_bgcolor": "white",
          "plot_bgcolor": "#E5ECF6",
          "polar": {
           "angularaxis": {
            "gridcolor": "white",
            "linecolor": "white",
            "ticks": ""
           },
           "bgcolor": "#E5ECF6",
           "radialaxis": {
            "gridcolor": "white",
            "linecolor": "white",
            "ticks": ""
           }
          },
          "scene": {
           "xaxis": {
            "backgroundcolor": "#E5ECF6",
            "gridcolor": "white",
            "gridwidth": 2,
            "linecolor": "white",
            "showbackground": true,
            "ticks": "",
            "zerolinecolor": "white"
           },
           "yaxis": {
            "backgroundcolor": "#E5ECF6",
            "gridcolor": "white",
            "gridwidth": 2,
            "linecolor": "white",
            "showbackground": true,
            "ticks": "",
            "zerolinecolor": "white"
           },
           "zaxis": {
            "backgroundcolor": "#E5ECF6",
            "gridcolor": "white",
            "gridwidth": 2,
            "linecolor": "white",
            "showbackground": true,
            "ticks": "",
            "zerolinecolor": "white"
           }
          },
          "shapedefaults": {
           "line": {
            "color": "#2a3f5f"
           }
          },
          "ternary": {
           "aaxis": {
            "gridcolor": "white",
            "linecolor": "white",
            "ticks": ""
           },
           "baxis": {
            "gridcolor": "white",
            "linecolor": "white",
            "ticks": ""
           },
           "bgcolor": "#E5ECF6",
           "caxis": {
            "gridcolor": "white",
            "linecolor": "white",
            "ticks": ""
           }
          },
          "title": {
           "x": 0.05
          },
          "xaxis": {
           "automargin": true,
           "gridcolor": "white",
           "linecolor": "white",
           "ticks": "",
           "title": {
            "standoff": 15
           },
           "zerolinecolor": "white",
           "zerolinewidth": 2
          },
          "yaxis": {
           "automargin": true,
           "gridcolor": "white",
           "linecolor": "white",
           "ticks": "",
           "title": {
            "standoff": 15
           },
           "zerolinecolor": "white",
           "zerolinewidth": 2
          }
         }
        },
        "title": {
         "text": "Mercado Salario por persona",
         "x": 0.5
        },
        "yaxis": {
         "gridcolor": "#dddcda",
         "gridwidth": 1,
         "title": {
          "text": "%"
         }
        }
       }
      }
     },
     "metadata": {},
     "output_type": "display_data"
    }
   ],
   "source": [
    "colores = ['#2962ff', '#9500ff', '#ff0059', '#ff8c00', '#b4e600', '#2EC2A2','#E50CB6','#4225CF','#2CBA4D','#2962ff', '#9500ff', '#ff0059', '#ff8c00', '#b4e600']\n",
    "\n",
    "fig = go.Figure()\n",
    "fig.add_trace(go.Bar(\n",
    "    x=posiciones_salariospersona['Categoria'],  # Eje x: Categoría\n",
    "    y=posiciones_salariospersona['porcentaje'],  # Eje y: porcentaje\n",
    "    text=posiciones_salariospersona['porcentaje'].apply(lambda x: f'{x:.2f}%'),  # Texto con el formato deseado\n",
    "    textposition='outside',  # Posición del texto (parte superior de las barras)\n",
    "    marker_color=colores,  # Especifica los colores de las barras\n",
    "))\n",
    "fig.update_layout(\n",
    "    title='Mercado Salario por persona',  # Título de la gráfica\n",
    "    title_x=0.5,\n",
    "    yaxis=dict(\n",
    "        title='%',  # Título del eje y\n",
    "        gridcolor='#dddcda', # Color de las líneas que dividen los rangos del eje Y\n",
    "        gridwidth=1, # Ancho de las líneas que dividen los rangos del eje Y\n",
    "    ),\n",
    "    plot_bgcolor='rgba(0,0,0,0)',  # Color de fondo del gráfico\n",
    ")\n",
    "\n",
    "# Exportar gráfica como archivo HTML\n",
    "def guardar_grafico_como_html(fig, nombre_archivo, carpeta='graficas'):\n",
    "    if not os.path.exists(carpeta): \n",
    "        os.makedirs(carpeta) # Crear la carpeta si no existe\n",
    "    \n",
    "    # Gráfica como archivo HTML en la carpeta especificada\n",
    "    pio.write_html(fig, f'{carpeta}/{nombre_archivo}.html')\n",
    "\n",
    "# Exportar\n",
    "guardar_grafico_como_html(fig, 'g_bar_mercadosalarial_xpersona_pachuca', carpeta='graficas')\n",
    "\n",
    "fig.show()"
   ]
  },
  {
   "cell_type": "markdown",
   "metadata": {},
   "source": [
    "## *PUEBLA*"
   ]
  },
  {
   "cell_type": "code",
   "execution_count": 16,
   "metadata": {},
   "outputs": [],
   "source": [
    "# Crea los DataFrames para cada archivo con las columnas necesarias\n",
    "persona_df_salarios_puebla = df_salarios_puebla[['id_salarios','Salario_Variable','Categoria']]"
   ]
  },
  {
   "cell_type": "code",
   "execution_count": 17,
   "metadata": {},
   "outputs": [
    {
     "name": "stdout",
     "output_type": "stream",
     "text": [
      "DataFrame para Categoria 'C':\n",
      "     id_salarios  Salario_Variable Categoria\n",
      "330          331         30,000.00         C\n",
      "331          332         34,000.00         C\n",
      "332          333         34,564.25         C\n",
      "DataFrame para Categoria 'D':\n",
      "     id_salarios  Salario_Variable Categoria\n",
      "323          324         20,000.00         D\n",
      "324          325         21,500.00         D\n",
      "325          326         21,559.79         D\n",
      "326          327         22,119.49         D\n",
      "327          328         22,295.80         D\n",
      "328          329         22,465.12         D\n",
      "DataFrame para Categoria 'D1':\n",
      "     id_salarios  Salario_Variable Categoria\n",
      "329          330         25,800.00        D1\n",
      "DataFrame para Categoria 'E':\n",
      "     id_salarios  Salario_Variable Categoria\n",
      "302          303         12,000.00         E\n",
      "303          304         12,000.00         E\n",
      "304          305         12,384.35         E\n",
      "305          306         12,447.85         E\n",
      "306          307         12,845.16         E\n",
      "307          308         13,192.31         E\n",
      "308          309         13,407.53         E\n",
      "309          310         13,800.00         E\n",
      "310          311         14,644.03         E\n",
      "311          312         14,701.86         E\n",
      "312          313         15,000.00         E\n",
      "313          314         15,000.00         E\n",
      "314          315         15,901.64         E\n",
      "315          316         15,971.31         E\n",
      "DataFrame para Categoria 'E1':\n",
      "     id_salarios  Salario_Variable Categoria\n",
      "316          317         16,221.92        E1\n",
      "317          318         17,000.00        E1\n",
      "318          319         17,200.00        E1\n",
      "319          320         17,282.83        E1\n",
      "320          321         17,313.36        E1\n",
      "321          322         18,000.00        E1\n",
      "322          323         18,236.44        E1\n",
      "DataFrame para Categoria 'F':\n",
      "     id_salarios  Salario_Variable Categoria\n",
      "155          156          5,000.00         F\n",
      "156          157          5,047.45         F\n",
      "157          158          5,068.92         F\n",
      "158          159          5,147.45         F\n",
      "159          160          5,160.00         F\n",
      "..           ...               ...       ...\n",
      "249          250          7,515.81         F\n",
      "250          251          7,740.00         F\n",
      "251          252          7,817.02         F\n",
      "252          253          7,928.88         F\n",
      "253          254          7,975.93         F\n",
      "\n",
      "[99 rows x 3 columns]\n",
      "DataFrame para Categoria 'F1':\n",
      "     id_salarios  Salario_Variable Categoria\n",
      "254          255          8,005.74        F1\n",
      "255          256          8,006.11        F1\n",
      "256          257          8,126.42        F1\n",
      "257          258          8,170.00        F1\n",
      "258          259          8,396.14        F1\n",
      "259          260          8,444.42        F1\n",
      "260          261          8,457.98        F1\n",
      "261          262          8,475.70        F1\n",
      "262          263          8,547.06        F1\n",
      "263          264          8,593.06        F1\n",
      "264          265          8,600.00        F1\n",
      "265          266          8,600.00        F1\n",
      "266          267          8,684.18        F1\n",
      "267          268          8,690.94        F1\n",
      "268          269          8,845.15        F1\n",
      "269          270          8,988.23        F1\n",
      "270          271          9,098.59        F1\n",
      "271          272          9,190.59        F1\n",
      "272          273          9,275.74        F1\n",
      "273          274          9,286.60        F1\n",
      "274          275          9,385.05        F1\n",
      "275          276          9,402.17        F1\n",
      "276          277          9,476.66        F1\n",
      "277          278          9,506.57        F1\n",
      "278          279          9,521.83        F1\n",
      "279          280          9,598.56        F1\n",
      "280          281          9,600.00        F1\n",
      "281          282          9,800.00        F1\n",
      "282          283          9,907.08        F1\n",
      "283          284          9,961.06        F1\n",
      "284          285         10,000.00        F1\n",
      "285          286         10,000.00        F1\n",
      "286          287         10,090.46        F1\n",
      "287          288         10,107.10        F1\n",
      "288          289         10,141.59        F1\n",
      "289          290         10,182.14        F1\n",
      "290          291         10,195.03        F1\n",
      "291          292         10,272.26        F1\n",
      "292          293         10,273.08        F1\n",
      "293          294         10,338.94        F1\n",
      "294          295         10,528.29        F1\n",
      "295          296         11,000.00        F1\n",
      "296          297         11,082.27        F1\n",
      "297          298         11,208.56        F1\n",
      "298          299         11,310.50        F1\n",
      "299          300         11,588.12        F1\n",
      "300          301         11,610.00        F1\n",
      "301          302         11,918.31        F1\n",
      "DataFrame para Categoria 'G':\n",
      "     id_salarios  Salario_Variable Categoria\n",
      "0              1            244.30         G\n",
      "1              2            690.00         G\n",
      "2              3            817.54         G\n",
      "3              4            973.88         G\n",
      "4              5          1,000.00         G\n",
      "..           ...               ...       ...\n",
      "150          151          4,873.37         G\n",
      "151          152          4,884.58         G\n",
      "152          153          4,942.98         G\n",
      "153          154          4,957.99         G\n",
      "154          155          4,971.56         G\n",
      "\n",
      "[155 rows x 3 columns]\n"
     ]
    }
   ],
   "source": [
    "# Crea un diccionario para almacenar los DataFrames de cada categoría única\n",
    "dataframes_por_categoria = {}\n",
    "\n",
    "# Itera sobre los grupos creados por groupby()\n",
    "for categoria, grupo in persona_df_salarios_puebla.groupby('Categoria'):\n",
    "    # Almacena el DataFrame del grupo en el diccionario\n",
    "    dataframes_por_categoria[categoria] = grupo\n",
    "\n",
    "# Itera sobre las claves del diccionario dataframes_por_categoria\n",
    "for categoria in dataframes_por_categoria:\n",
    "    # Imprime la categoría actual\n",
    "    print(\"DataFrame para Categoria '{}':\".format(categoria))\n",
    "    # Imprime el DataFrame correspondiente a la categoría actual\n",
    "    print(dataframes_por_categoria[categoria])\n"
   ]
  },
  {
   "cell_type": "code",
   "execution_count": 18,
   "metadata": {},
   "outputs": [
    {
     "data": {
      "text/html": [
       "<div>\n",
       "<style scoped>\n",
       "    .dataframe tbody tr th:only-of-type {\n",
       "        vertical-align: middle;\n",
       "    }\n",
       "\n",
       "    .dataframe tbody tr th {\n",
       "        vertical-align: top;\n",
       "    }\n",
       "\n",
       "    .dataframe thead th {\n",
       "        text-align: right;\n",
       "    }\n",
       "</style>\n",
       "<table border=\"1\" class=\"dataframe\">\n",
       "  <thead>\n",
       "    <tr style=\"text-align: right;\">\n",
       "      <th></th>\n",
       "      <th>Categoria</th>\n",
       "      <th>numero_registros</th>\n",
       "    </tr>\n",
       "  </thead>\n",
       "  <tbody>\n",
       "    <tr>\n",
       "      <th>0</th>\n",
       "      <td>G</td>\n",
       "      <td>155.00</td>\n",
       "    </tr>\n",
       "    <tr>\n",
       "      <th>1</th>\n",
       "      <td>F</td>\n",
       "      <td>99.00</td>\n",
       "    </tr>\n",
       "    <tr>\n",
       "      <th>2</th>\n",
       "      <td>F1</td>\n",
       "      <td>48.00</td>\n",
       "    </tr>\n",
       "    <tr>\n",
       "      <th>3</th>\n",
       "      <td>E</td>\n",
       "      <td>14.00</td>\n",
       "    </tr>\n",
       "    <tr>\n",
       "      <th>4</th>\n",
       "      <td>E1</td>\n",
       "      <td>7.00</td>\n",
       "    </tr>\n",
       "    <tr>\n",
       "      <th>5</th>\n",
       "      <td>D</td>\n",
       "      <td>6.00</td>\n",
       "    </tr>\n",
       "    <tr>\n",
       "      <th>6</th>\n",
       "      <td>D1</td>\n",
       "      <td>1.00</td>\n",
       "    </tr>\n",
       "    <tr>\n",
       "      <th>7</th>\n",
       "      <td>C</td>\n",
       "      <td>3.00</td>\n",
       "    </tr>\n",
       "    <tr>\n",
       "      <th>8</th>\n",
       "      <td>C1</td>\n",
       "      <td>0.00</td>\n",
       "    </tr>\n",
       "    <tr>\n",
       "      <th>9</th>\n",
       "      <td>B</td>\n",
       "      <td>0.00</td>\n",
       "    </tr>\n",
       "    <tr>\n",
       "      <th>10</th>\n",
       "      <td>B1</td>\n",
       "      <td>0.00</td>\n",
       "    </tr>\n",
       "    <tr>\n",
       "      <th>11</th>\n",
       "      <td>A</td>\n",
       "      <td>0.00</td>\n",
       "    </tr>\n",
       "    <tr>\n",
       "      <th>12</th>\n",
       "      <td>A1</td>\n",
       "      <td>0.00</td>\n",
       "    </tr>\n",
       "    <tr>\n",
       "      <th>13</th>\n",
       "      <td>S</td>\n",
       "      <td>0.00</td>\n",
       "    </tr>\n",
       "  </tbody>\n",
       "</table>\n",
       "</div>"
      ],
      "text/plain": [
       "   Categoria  numero_registros\n",
       "0          G            155.00\n",
       "1          F             99.00\n",
       "2         F1             48.00\n",
       "3          E             14.00\n",
       "4         E1              7.00\n",
       "5          D              6.00\n",
       "6         D1              1.00\n",
       "7          C              3.00\n",
       "8         C1              0.00\n",
       "9          B              0.00\n",
       "10        B1              0.00\n",
       "11         A              0.00\n",
       "12        A1              0.00\n",
       "13         S              0.00"
      ]
     },
     "execution_count": 18,
     "metadata": {},
     "output_type": "execute_result"
    }
   ],
   "source": [
    "numero_registros_por_categoria = {}\n",
    "# Itera dataframes_por_categoria que contiene cada grupo de categorías por pareja\n",
    "for categoria in dataframes_por_categoria:\n",
    "    numero_registros = len(dataframes_por_categoria[categoria]) # Número de registros para el DataFrame correspondiente a la categoría actual\n",
    "    numero_registros_por_categoria[categoria] = numero_registros # Almacena en el diccionario \n",
    "\n",
    "# Convertir el diccionario en un DataFrame\n",
    "posiciones_salariospersona = pd.DataFrame(list(numero_registros_por_categoria.items()), columns=['Categoria', 'numero_registros'])\n",
    "# Mantener orden\n",
    "nuevo_orden = ['G', 'F', 'F1', 'E', 'E1', 'D', 'D1', 'C', 'C1', 'B', 'B1', 'A', 'A1', 'S']\n",
    "posiciones_salariospersona = posiciones_salariospersona.set_index('Categoria').reindex(nuevo_orden).fillna(0).reset_index()\n",
    "posiciones_salariospersona"
   ]
  },
  {
   "cell_type": "code",
   "execution_count": 19,
   "metadata": {},
   "outputs": [
    {
     "data": {
      "text/html": [
       "<div>\n",
       "<style scoped>\n",
       "    .dataframe tbody tr th:only-of-type {\n",
       "        vertical-align: middle;\n",
       "    }\n",
       "\n",
       "    .dataframe tbody tr th {\n",
       "        vertical-align: top;\n",
       "    }\n",
       "\n",
       "    .dataframe thead th {\n",
       "        text-align: right;\n",
       "    }\n",
       "</style>\n",
       "<table border=\"1\" class=\"dataframe\">\n",
       "  <thead>\n",
       "    <tr style=\"text-align: right;\">\n",
       "      <th></th>\n",
       "      <th>Categoria</th>\n",
       "      <th>numero_registros</th>\n",
       "      <th>porcentaje</th>\n",
       "    </tr>\n",
       "  </thead>\n",
       "  <tbody>\n",
       "    <tr>\n",
       "      <th>0</th>\n",
       "      <td>&lt;5000 G</td>\n",
       "      <td>155.00</td>\n",
       "      <td>46.55</td>\n",
       "    </tr>\n",
       "    <tr>\n",
       "      <th>1</th>\n",
       "      <td>&lt;5-8K F</td>\n",
       "      <td>99.00</td>\n",
       "      <td>29.73</td>\n",
       "    </tr>\n",
       "    <tr>\n",
       "      <th>2</th>\n",
       "      <td>8-12K F1</td>\n",
       "      <td>48.00</td>\n",
       "      <td>14.41</td>\n",
       "    </tr>\n",
       "    <tr>\n",
       "      <th>3</th>\n",
       "      <td>12-16K E</td>\n",
       "      <td>14.00</td>\n",
       "      <td>4.20</td>\n",
       "    </tr>\n",
       "    <tr>\n",
       "      <th>4</th>\n",
       "      <td>16-20K E1</td>\n",
       "      <td>7.00</td>\n",
       "      <td>2.10</td>\n",
       "    </tr>\n",
       "    <tr>\n",
       "      <th>5</th>\n",
       "      <td>20-25K D</td>\n",
       "      <td>6.00</td>\n",
       "      <td>1.80</td>\n",
       "    </tr>\n",
       "    <tr>\n",
       "      <th>6</th>\n",
       "      <td>25-30K D1</td>\n",
       "      <td>1.00</td>\n",
       "      <td>0.30</td>\n",
       "    </tr>\n",
       "    <tr>\n",
       "      <th>7</th>\n",
       "      <td>30-35K C</td>\n",
       "      <td>3.00</td>\n",
       "      <td>0.90</td>\n",
       "    </tr>\n",
       "    <tr>\n",
       "      <th>8</th>\n",
       "      <td>35-40K C1</td>\n",
       "      <td>0.00</td>\n",
       "      <td>0.00</td>\n",
       "    </tr>\n",
       "    <tr>\n",
       "      <th>9</th>\n",
       "      <td>40-45K B</td>\n",
       "      <td>0.00</td>\n",
       "      <td>0.00</td>\n",
       "    </tr>\n",
       "    <tr>\n",
       "      <th>10</th>\n",
       "      <td>45-50K B1</td>\n",
       "      <td>0.00</td>\n",
       "      <td>0.00</td>\n",
       "    </tr>\n",
       "    <tr>\n",
       "      <th>11</th>\n",
       "      <td>50-55K A</td>\n",
       "      <td>0.00</td>\n",
       "      <td>0.00</td>\n",
       "    </tr>\n",
       "    <tr>\n",
       "      <th>12</th>\n",
       "      <td>55-60K A1</td>\n",
       "      <td>0.00</td>\n",
       "      <td>0.00</td>\n",
       "    </tr>\n",
       "    <tr>\n",
       "      <th>13</th>\n",
       "      <td>60K S+</td>\n",
       "      <td>0.00</td>\n",
       "      <td>0.00</td>\n",
       "    </tr>\n",
       "  </tbody>\n",
       "</table>\n",
       "</div>"
      ],
      "text/plain": [
       "    Categoria  numero_registros  porcentaje\n",
       "0     <5000 G            155.00       46.55\n",
       "1     <5-8K F             99.00       29.73\n",
       "2    8-12K F1             48.00       14.41\n",
       "3    12-16K E             14.00        4.20\n",
       "4   16-20K E1              7.00        2.10\n",
       "5    20-25K D              6.00        1.80\n",
       "6   25-30K D1              1.00        0.30\n",
       "7    30-35K C              3.00        0.90\n",
       "8   35-40K C1              0.00        0.00\n",
       "9    40-45K B              0.00        0.00\n",
       "10  45-50K B1              0.00        0.00\n",
       "11   50-55K A              0.00        0.00\n",
       "12  55-60K A1              0.00        0.00\n",
       "13     60K S+              0.00        0.00"
      ]
     },
     "execution_count": 19,
     "metadata": {},
     "output_type": "execute_result"
    }
   ],
   "source": [
    "posiciones_salariospersona['Categoria'] = ['<5000 G', '<5-8K F', '8-12K F1', '12-16K E', '16-20K E1', '20-25K D', '25-30K D1', '30-35K C', '35-40K C1', '40-45K B', '45-50K B1', '50-55K A', '55-60K A1', '60K S+']\n",
    "total_registros = posiciones_salariospersona['numero_registros'].sum() # Calcular el total de registros en el DataFrame\n",
    "# Calculamos el porcentaje que representa cada numero_registros en relación al total de registros en el df\n",
    "posiciones_salariospersona['porcentaje'] = (posiciones_salariospersona['numero_registros'] / total_registros) * 100\n",
    "posiciones_salariospersona"
   ]
  },
  {
   "cell_type": "code",
   "execution_count": 20,
   "metadata": {},
   "outputs": [
    {
     "data": {
      "application/vnd.plotly.v1+json": {
       "config": {
        "plotlyServerURL": "https://plot.ly"
       },
       "data": [
        {
         "marker": {
          "color": [
           "#2962ff",
           "#9500ff",
           "#ff0059",
           "#ff8c00",
           "#b4e600",
           "#2EC2A2",
           "#E50CB6",
           "#4225CF",
           "#2CBA4D",
           "#2962ff",
           "#9500ff",
           "#ff0059",
           "#ff8c00",
           "#b4e600"
          ]
         },
         "text": [
          "46.55%",
          "29.73%",
          "14.41%",
          "4.20%",
          "2.10%",
          "1.80%",
          "0.30%",
          "0.90%",
          "0.00%",
          "0.00%",
          "0.00%",
          "0.00%",
          "0.00%",
          "0.00%"
         ],
         "textposition": "outside",
         "type": "bar",
         "x": [
          "<5000 G",
          "<5-8K F",
          "8-12K F1",
          "12-16K E",
          "16-20K E1",
          "20-25K D",
          "25-30K D1",
          "30-35K C",
          "35-40K C1",
          "40-45K B",
          "45-50K B1",
          "50-55K A",
          "55-60K A1",
          "60K S+"
         ],
         "y": [
          46.546546546546544,
          29.72972972972973,
          14.414414414414415,
          4.2042042042042045,
          2.1021021021021022,
          1.8018018018018018,
          0.3003003003003003,
          0.9009009009009009,
          0,
          0,
          0,
          0,
          0,
          0
         ]
        }
       ],
       "layout": {
        "plot_bgcolor": "rgba(0,0,0,0)",
        "template": {
         "data": {
          "bar": [
           {
            "error_x": {
             "color": "#2a3f5f"
            },
            "error_y": {
             "color": "#2a3f5f"
            },
            "marker": {
             "line": {
              "color": "#E5ECF6",
              "width": 0.5
             },
             "pattern": {
              "fillmode": "overlay",
              "size": 10,
              "solidity": 0.2
             }
            },
            "type": "bar"
           }
          ],
          "barpolar": [
           {
            "marker": {
             "line": {
              "color": "#E5ECF6",
              "width": 0.5
             },
             "pattern": {
              "fillmode": "overlay",
              "size": 10,
              "solidity": 0.2
             }
            },
            "type": "barpolar"
           }
          ],
          "carpet": [
           {
            "aaxis": {
             "endlinecolor": "#2a3f5f",
             "gridcolor": "white",
             "linecolor": "white",
             "minorgridcolor": "white",
             "startlinecolor": "#2a3f5f"
            },
            "baxis": {
             "endlinecolor": "#2a3f5f",
             "gridcolor": "white",
             "linecolor": "white",
             "minorgridcolor": "white",
             "startlinecolor": "#2a3f5f"
            },
            "type": "carpet"
           }
          ],
          "choropleth": [
           {
            "colorbar": {
             "outlinewidth": 0,
             "ticks": ""
            },
            "type": "choropleth"
           }
          ],
          "contour": [
           {
            "colorbar": {
             "outlinewidth": 0,
             "ticks": ""
            },
            "colorscale": [
             [
              0,
              "#0d0887"
             ],
             [
              0.1111111111111111,
              "#46039f"
             ],
             [
              0.2222222222222222,
              "#7201a8"
             ],
             [
              0.3333333333333333,
              "#9c179e"
             ],
             [
              0.4444444444444444,
              "#bd3786"
             ],
             [
              0.5555555555555556,
              "#d8576b"
             ],
             [
              0.6666666666666666,
              "#ed7953"
             ],
             [
              0.7777777777777778,
              "#fb9f3a"
             ],
             [
              0.8888888888888888,
              "#fdca26"
             ],
             [
              1,
              "#f0f921"
             ]
            ],
            "type": "contour"
           }
          ],
          "contourcarpet": [
           {
            "colorbar": {
             "outlinewidth": 0,
             "ticks": ""
            },
            "type": "contourcarpet"
           }
          ],
          "heatmap": [
           {
            "colorbar": {
             "outlinewidth": 0,
             "ticks": ""
            },
            "colorscale": [
             [
              0,
              "#0d0887"
             ],
             [
              0.1111111111111111,
              "#46039f"
             ],
             [
              0.2222222222222222,
              "#7201a8"
             ],
             [
              0.3333333333333333,
              "#9c179e"
             ],
             [
              0.4444444444444444,
              "#bd3786"
             ],
             [
              0.5555555555555556,
              "#d8576b"
             ],
             [
              0.6666666666666666,
              "#ed7953"
             ],
             [
              0.7777777777777778,
              "#fb9f3a"
             ],
             [
              0.8888888888888888,
              "#fdca26"
             ],
             [
              1,
              "#f0f921"
             ]
            ],
            "type": "heatmap"
           }
          ],
          "heatmapgl": [
           {
            "colorbar": {
             "outlinewidth": 0,
             "ticks": ""
            },
            "colorscale": [
             [
              0,
              "#0d0887"
             ],
             [
              0.1111111111111111,
              "#46039f"
             ],
             [
              0.2222222222222222,
              "#7201a8"
             ],
             [
              0.3333333333333333,
              "#9c179e"
             ],
             [
              0.4444444444444444,
              "#bd3786"
             ],
             [
              0.5555555555555556,
              "#d8576b"
             ],
             [
              0.6666666666666666,
              "#ed7953"
             ],
             [
              0.7777777777777778,
              "#fb9f3a"
             ],
             [
              0.8888888888888888,
              "#fdca26"
             ],
             [
              1,
              "#f0f921"
             ]
            ],
            "type": "heatmapgl"
           }
          ],
          "histogram": [
           {
            "marker": {
             "pattern": {
              "fillmode": "overlay",
              "size": 10,
              "solidity": 0.2
             }
            },
            "type": "histogram"
           }
          ],
          "histogram2d": [
           {
            "colorbar": {
             "outlinewidth": 0,
             "ticks": ""
            },
            "colorscale": [
             [
              0,
              "#0d0887"
             ],
             [
              0.1111111111111111,
              "#46039f"
             ],
             [
              0.2222222222222222,
              "#7201a8"
             ],
             [
              0.3333333333333333,
              "#9c179e"
             ],
             [
              0.4444444444444444,
              "#bd3786"
             ],
             [
              0.5555555555555556,
              "#d8576b"
             ],
             [
              0.6666666666666666,
              "#ed7953"
             ],
             [
              0.7777777777777778,
              "#fb9f3a"
             ],
             [
              0.8888888888888888,
              "#fdca26"
             ],
             [
              1,
              "#f0f921"
             ]
            ],
            "type": "histogram2d"
           }
          ],
          "histogram2dcontour": [
           {
            "colorbar": {
             "outlinewidth": 0,
             "ticks": ""
            },
            "colorscale": [
             [
              0,
              "#0d0887"
             ],
             [
              0.1111111111111111,
              "#46039f"
             ],
             [
              0.2222222222222222,
              "#7201a8"
             ],
             [
              0.3333333333333333,
              "#9c179e"
             ],
             [
              0.4444444444444444,
              "#bd3786"
             ],
             [
              0.5555555555555556,
              "#d8576b"
             ],
             [
              0.6666666666666666,
              "#ed7953"
             ],
             [
              0.7777777777777778,
              "#fb9f3a"
             ],
             [
              0.8888888888888888,
              "#fdca26"
             ],
             [
              1,
              "#f0f921"
             ]
            ],
            "type": "histogram2dcontour"
           }
          ],
          "mesh3d": [
           {
            "colorbar": {
             "outlinewidth": 0,
             "ticks": ""
            },
            "type": "mesh3d"
           }
          ],
          "parcoords": [
           {
            "line": {
             "colorbar": {
              "outlinewidth": 0,
              "ticks": ""
             }
            },
            "type": "parcoords"
           }
          ],
          "pie": [
           {
            "automargin": true,
            "type": "pie"
           }
          ],
          "scatter": [
           {
            "fillpattern": {
             "fillmode": "overlay",
             "size": 10,
             "solidity": 0.2
            },
            "type": "scatter"
           }
          ],
          "scatter3d": [
           {
            "line": {
             "colorbar": {
              "outlinewidth": 0,
              "ticks": ""
             }
            },
            "marker": {
             "colorbar": {
              "outlinewidth": 0,
              "ticks": ""
             }
            },
            "type": "scatter3d"
           }
          ],
          "scattercarpet": [
           {
            "marker": {
             "colorbar": {
              "outlinewidth": 0,
              "ticks": ""
             }
            },
            "type": "scattercarpet"
           }
          ],
          "scattergeo": [
           {
            "marker": {
             "colorbar": {
              "outlinewidth": 0,
              "ticks": ""
             }
            },
            "type": "scattergeo"
           }
          ],
          "scattergl": [
           {
            "marker": {
             "colorbar": {
              "outlinewidth": 0,
              "ticks": ""
             }
            },
            "type": "scattergl"
           }
          ],
          "scattermapbox": [
           {
            "marker": {
             "colorbar": {
              "outlinewidth": 0,
              "ticks": ""
             }
            },
            "type": "scattermapbox"
           }
          ],
          "scatterpolar": [
           {
            "marker": {
             "colorbar": {
              "outlinewidth": 0,
              "ticks": ""
             }
            },
            "type": "scatterpolar"
           }
          ],
          "scatterpolargl": [
           {
            "marker": {
             "colorbar": {
              "outlinewidth": 0,
              "ticks": ""
             }
            },
            "type": "scatterpolargl"
           }
          ],
          "scatterternary": [
           {
            "marker": {
             "colorbar": {
              "outlinewidth": 0,
              "ticks": ""
             }
            },
            "type": "scatterternary"
           }
          ],
          "surface": [
           {
            "colorbar": {
             "outlinewidth": 0,
             "ticks": ""
            },
            "colorscale": [
             [
              0,
              "#0d0887"
             ],
             [
              0.1111111111111111,
              "#46039f"
             ],
             [
              0.2222222222222222,
              "#7201a8"
             ],
             [
              0.3333333333333333,
              "#9c179e"
             ],
             [
              0.4444444444444444,
              "#bd3786"
             ],
             [
              0.5555555555555556,
              "#d8576b"
             ],
             [
              0.6666666666666666,
              "#ed7953"
             ],
             [
              0.7777777777777778,
              "#fb9f3a"
             ],
             [
              0.8888888888888888,
              "#fdca26"
             ],
             [
              1,
              "#f0f921"
             ]
            ],
            "type": "surface"
           }
          ],
          "table": [
           {
            "cells": {
             "fill": {
              "color": "#EBF0F8"
             },
             "line": {
              "color": "white"
             }
            },
            "header": {
             "fill": {
              "color": "#C8D4E3"
             },
             "line": {
              "color": "white"
             }
            },
            "type": "table"
           }
          ]
         },
         "layout": {
          "annotationdefaults": {
           "arrowcolor": "#2a3f5f",
           "arrowhead": 0,
           "arrowwidth": 1
          },
          "autotypenumbers": "strict",
          "coloraxis": {
           "colorbar": {
            "outlinewidth": 0,
            "ticks": ""
           }
          },
          "colorscale": {
           "diverging": [
            [
             0,
             "#8e0152"
            ],
            [
             0.1,
             "#c51b7d"
            ],
            [
             0.2,
             "#de77ae"
            ],
            [
             0.3,
             "#f1b6da"
            ],
            [
             0.4,
             "#fde0ef"
            ],
            [
             0.5,
             "#f7f7f7"
            ],
            [
             0.6,
             "#e6f5d0"
            ],
            [
             0.7,
             "#b8e186"
            ],
            [
             0.8,
             "#7fbc41"
            ],
            [
             0.9,
             "#4d9221"
            ],
            [
             1,
             "#276419"
            ]
           ],
           "sequential": [
            [
             0,
             "#0d0887"
            ],
            [
             0.1111111111111111,
             "#46039f"
            ],
            [
             0.2222222222222222,
             "#7201a8"
            ],
            [
             0.3333333333333333,
             "#9c179e"
            ],
            [
             0.4444444444444444,
             "#bd3786"
            ],
            [
             0.5555555555555556,
             "#d8576b"
            ],
            [
             0.6666666666666666,
             "#ed7953"
            ],
            [
             0.7777777777777778,
             "#fb9f3a"
            ],
            [
             0.8888888888888888,
             "#fdca26"
            ],
            [
             1,
             "#f0f921"
            ]
           ],
           "sequentialminus": [
            [
             0,
             "#0d0887"
            ],
            [
             0.1111111111111111,
             "#46039f"
            ],
            [
             0.2222222222222222,
             "#7201a8"
            ],
            [
             0.3333333333333333,
             "#9c179e"
            ],
            [
             0.4444444444444444,
             "#bd3786"
            ],
            [
             0.5555555555555556,
             "#d8576b"
            ],
            [
             0.6666666666666666,
             "#ed7953"
            ],
            [
             0.7777777777777778,
             "#fb9f3a"
            ],
            [
             0.8888888888888888,
             "#fdca26"
            ],
            [
             1,
             "#f0f921"
            ]
           ]
          },
          "colorway": [
           "#636efa",
           "#EF553B",
           "#00cc96",
           "#ab63fa",
           "#FFA15A",
           "#19d3f3",
           "#FF6692",
           "#B6E880",
           "#FF97FF",
           "#FECB52"
          ],
          "font": {
           "color": "#2a3f5f"
          },
          "geo": {
           "bgcolor": "white",
           "lakecolor": "white",
           "landcolor": "#E5ECF6",
           "showlakes": true,
           "showland": true,
           "subunitcolor": "white"
          },
          "hoverlabel": {
           "align": "left"
          },
          "hovermode": "closest",
          "mapbox": {
           "style": "light"
          },
          "paper_bgcolor": "white",
          "plot_bgcolor": "#E5ECF6",
          "polar": {
           "angularaxis": {
            "gridcolor": "white",
            "linecolor": "white",
            "ticks": ""
           },
           "bgcolor": "#E5ECF6",
           "radialaxis": {
            "gridcolor": "white",
            "linecolor": "white",
            "ticks": ""
           }
          },
          "scene": {
           "xaxis": {
            "backgroundcolor": "#E5ECF6",
            "gridcolor": "white",
            "gridwidth": 2,
            "linecolor": "white",
            "showbackground": true,
            "ticks": "",
            "zerolinecolor": "white"
           },
           "yaxis": {
            "backgroundcolor": "#E5ECF6",
            "gridcolor": "white",
            "gridwidth": 2,
            "linecolor": "white",
            "showbackground": true,
            "ticks": "",
            "zerolinecolor": "white"
           },
           "zaxis": {
            "backgroundcolor": "#E5ECF6",
            "gridcolor": "white",
            "gridwidth": 2,
            "linecolor": "white",
            "showbackground": true,
            "ticks": "",
            "zerolinecolor": "white"
           }
          },
          "shapedefaults": {
           "line": {
            "color": "#2a3f5f"
           }
          },
          "ternary": {
           "aaxis": {
            "gridcolor": "white",
            "linecolor": "white",
            "ticks": ""
           },
           "baxis": {
            "gridcolor": "white",
            "linecolor": "white",
            "ticks": ""
           },
           "bgcolor": "#E5ECF6",
           "caxis": {
            "gridcolor": "white",
            "linecolor": "white",
            "ticks": ""
           }
          },
          "title": {
           "x": 0.05
          },
          "xaxis": {
           "automargin": true,
           "gridcolor": "white",
           "linecolor": "white",
           "ticks": "",
           "title": {
            "standoff": 15
           },
           "zerolinecolor": "white",
           "zerolinewidth": 2
          },
          "yaxis": {
           "automargin": true,
           "gridcolor": "white",
           "linecolor": "white",
           "ticks": "",
           "title": {
            "standoff": 15
           },
           "zerolinecolor": "white",
           "zerolinewidth": 2
          }
         }
        },
        "title": {
         "x": 0.5
        },
        "yaxis": {
         "gridcolor": "#dddcda",
         "gridwidth": 1,
         "title": {
          "text": "%"
         }
        }
       }
      }
     },
     "metadata": {},
     "output_type": "display_data"
    }
   ],
   "source": [
    "colores = ['#2962ff', '#9500ff', '#ff0059', '#ff8c00', '#b4e600', '#2EC2A2','#E50CB6','#4225CF','#2CBA4D','#2962ff', '#9500ff', '#ff0059', '#ff8c00', '#b4e600']\n",
    "\n",
    "fig = go.Figure()\n",
    "fig.add_trace(go.Bar(\n",
    "    x=posiciones_salariospersona['Categoria'],  # Eje x: Categoría\n",
    "    y=posiciones_salariospersona['porcentaje'],  # Eje y: porcentaje\n",
    "    text=posiciones_salariospersona['porcentaje'].apply(lambda x: f'{x:.2f}%'),  # Texto con el formato deseado\n",
    "    textposition='outside',  # Posición del texto (parte superior de las barras)\n",
    "    marker_color=colores,  # Especifica los colores de las barras\n",
    "))\n",
    "fig.update_layout(\n",
    "    #title='Mercado Salario por persona',  # Título de la gráfica\n",
    "    title_x=0.5,\n",
    "    yaxis=dict(\n",
    "        title='%',  # Título del eje y\n",
    "        gridcolor='#dddcda', # Color de las líneas que dividen los rangos del eje Y\n",
    "        gridwidth=1, # Ancho de las líneas que dividen los rangos del eje Y\n",
    "    ),\n",
    "    plot_bgcolor='rgba(0,0,0,0)',  # Color de fondo del gráfico\n",
    ")\n",
    "\n",
    "# Exportar gráfica como archivo HTML\n",
    "def guardar_grafico_como_html(fig, nombre_archivo, carpeta='graficas'):\n",
    "    if not os.path.exists(carpeta): \n",
    "        os.makedirs(carpeta) # Crear la carpeta si no existe\n",
    "    \n",
    "    # Gráfica como archivo HTML en la carpeta especificada\n",
    "    pio.write_html(fig, f'{carpeta}/{nombre_archivo}.html')\n",
    "\n",
    "# Exportar\n",
    "guardar_grafico_como_html(fig, 'g_bar_mercadosalarial_Xpersona_puebla', carpeta='graficas')\n",
    "\n",
    "fig.show()"
   ]
  },
  {
   "cell_type": "markdown",
   "metadata": {},
   "source": [
    "## TULANCINGO"
   ]
  },
  {
   "cell_type": "code",
   "execution_count": 23,
   "metadata": {},
   "outputs": [],
   "source": [
    "# Datos de ejemplo\n",
    "data = {\n",
    "    'porcentaje': [\n",
    "        23.32,30.03,25.56,8.63,6.07,1.28,1.92,1.28,0.32,0.64,0.32,0.0,0.0,0.64\n",
    "    ],\n",
    "    'Categoria': [\n",
    "        '<5000 G', '<5-8K F', '8-12K F1', '12-16K E', '16-20K E1', '20-25K D', '25-30K D1', '30-35K C', '35-40K C1', '40-45K B', '45-50K B1', '50-55K A', '55-60K A1', '60K S+'\n",
    "    ]\n",
    "    \n",
    "}\n",
    "\n",
    "# Crear el DataFrame\n",
    "posiciones_salariospersona = pd.DataFrame(data)"
   ]
  },
  {
   "cell_type": "code",
   "execution_count": 24,
   "metadata": {},
   "outputs": [
    {
     "data": {
      "application/vnd.plotly.v1+json": {
       "config": {
        "plotlyServerURL": "https://plot.ly"
       },
       "data": [
        {
         "marker": {
          "color": [
           "#2962ff",
           "#9500ff",
           "#ff0059",
           "#ff8c00",
           "#b4e600",
           "#2EC2A2",
           "#E50CB6",
           "#4225CF",
           "#2CBA4D",
           "#2962ff",
           "#9500ff",
           "#ff0059",
           "#ff8c00",
           "#b4e600"
          ]
         },
         "text": [
          "23.32%",
          "30.03%",
          "25.56%",
          "8.63%",
          "6.07%",
          "1.28%",
          "1.92%",
          "1.28%",
          "0.32%",
          "0.64%",
          "0.32%",
          "0.00%",
          "0.00%",
          "0.64%"
         ],
         "textposition": "outside",
         "type": "bar",
         "x": [
          "<5000 G",
          "<5-8K F",
          "8-12K F1",
          "12-16K E",
          "16-20K E1",
          "20-25K D",
          "25-30K D1",
          "30-35K C",
          "35-40K C1",
          "40-45K B",
          "45-50K B1",
          "50-55K A",
          "55-60K A1",
          "60K S+"
         ],
         "y": [
          23.32,
          30.03,
          25.56,
          8.63,
          6.07,
          1.28,
          1.92,
          1.28,
          0.32,
          0.64,
          0.32,
          0,
          0,
          0.64
         ]
        }
       ],
       "layout": {
        "plot_bgcolor": "rgba(0,0,0,0)",
        "template": {
         "data": {
          "bar": [
           {
            "error_x": {
             "color": "#2a3f5f"
            },
            "error_y": {
             "color": "#2a3f5f"
            },
            "marker": {
             "line": {
              "color": "#E5ECF6",
              "width": 0.5
             },
             "pattern": {
              "fillmode": "overlay",
              "size": 10,
              "solidity": 0.2
             }
            },
            "type": "bar"
           }
          ],
          "barpolar": [
           {
            "marker": {
             "line": {
              "color": "#E5ECF6",
              "width": 0.5
             },
             "pattern": {
              "fillmode": "overlay",
              "size": 10,
              "solidity": 0.2
             }
            },
            "type": "barpolar"
           }
          ],
          "carpet": [
           {
            "aaxis": {
             "endlinecolor": "#2a3f5f",
             "gridcolor": "white",
             "linecolor": "white",
             "minorgridcolor": "white",
             "startlinecolor": "#2a3f5f"
            },
            "baxis": {
             "endlinecolor": "#2a3f5f",
             "gridcolor": "white",
             "linecolor": "white",
             "minorgridcolor": "white",
             "startlinecolor": "#2a3f5f"
            },
            "type": "carpet"
           }
          ],
          "choropleth": [
           {
            "colorbar": {
             "outlinewidth": 0,
             "ticks": ""
            },
            "type": "choropleth"
           }
          ],
          "contour": [
           {
            "colorbar": {
             "outlinewidth": 0,
             "ticks": ""
            },
            "colorscale": [
             [
              0,
              "#0d0887"
             ],
             [
              0.1111111111111111,
              "#46039f"
             ],
             [
              0.2222222222222222,
              "#7201a8"
             ],
             [
              0.3333333333333333,
              "#9c179e"
             ],
             [
              0.4444444444444444,
              "#bd3786"
             ],
             [
              0.5555555555555556,
              "#d8576b"
             ],
             [
              0.6666666666666666,
              "#ed7953"
             ],
             [
              0.7777777777777778,
              "#fb9f3a"
             ],
             [
              0.8888888888888888,
              "#fdca26"
             ],
             [
              1,
              "#f0f921"
             ]
            ],
            "type": "contour"
           }
          ],
          "contourcarpet": [
           {
            "colorbar": {
             "outlinewidth": 0,
             "ticks": ""
            },
            "type": "contourcarpet"
           }
          ],
          "heatmap": [
           {
            "colorbar": {
             "outlinewidth": 0,
             "ticks": ""
            },
            "colorscale": [
             [
              0,
              "#0d0887"
             ],
             [
              0.1111111111111111,
              "#46039f"
             ],
             [
              0.2222222222222222,
              "#7201a8"
             ],
             [
              0.3333333333333333,
              "#9c179e"
             ],
             [
              0.4444444444444444,
              "#bd3786"
             ],
             [
              0.5555555555555556,
              "#d8576b"
             ],
             [
              0.6666666666666666,
              "#ed7953"
             ],
             [
              0.7777777777777778,
              "#fb9f3a"
             ],
             [
              0.8888888888888888,
              "#fdca26"
             ],
             [
              1,
              "#f0f921"
             ]
            ],
            "type": "heatmap"
           }
          ],
          "heatmapgl": [
           {
            "colorbar": {
             "outlinewidth": 0,
             "ticks": ""
            },
            "colorscale": [
             [
              0,
              "#0d0887"
             ],
             [
              0.1111111111111111,
              "#46039f"
             ],
             [
              0.2222222222222222,
              "#7201a8"
             ],
             [
              0.3333333333333333,
              "#9c179e"
             ],
             [
              0.4444444444444444,
              "#bd3786"
             ],
             [
              0.5555555555555556,
              "#d8576b"
             ],
             [
              0.6666666666666666,
              "#ed7953"
             ],
             [
              0.7777777777777778,
              "#fb9f3a"
             ],
             [
              0.8888888888888888,
              "#fdca26"
             ],
             [
              1,
              "#f0f921"
             ]
            ],
            "type": "heatmapgl"
           }
          ],
          "histogram": [
           {
            "marker": {
             "pattern": {
              "fillmode": "overlay",
              "size": 10,
              "solidity": 0.2
             }
            },
            "type": "histogram"
           }
          ],
          "histogram2d": [
           {
            "colorbar": {
             "outlinewidth": 0,
             "ticks": ""
            },
            "colorscale": [
             [
              0,
              "#0d0887"
             ],
             [
              0.1111111111111111,
              "#46039f"
             ],
             [
              0.2222222222222222,
              "#7201a8"
             ],
             [
              0.3333333333333333,
              "#9c179e"
             ],
             [
              0.4444444444444444,
              "#bd3786"
             ],
             [
              0.5555555555555556,
              "#d8576b"
             ],
             [
              0.6666666666666666,
              "#ed7953"
             ],
             [
              0.7777777777777778,
              "#fb9f3a"
             ],
             [
              0.8888888888888888,
              "#fdca26"
             ],
             [
              1,
              "#f0f921"
             ]
            ],
            "type": "histogram2d"
           }
          ],
          "histogram2dcontour": [
           {
            "colorbar": {
             "outlinewidth": 0,
             "ticks": ""
            },
            "colorscale": [
             [
              0,
              "#0d0887"
             ],
             [
              0.1111111111111111,
              "#46039f"
             ],
             [
              0.2222222222222222,
              "#7201a8"
             ],
             [
              0.3333333333333333,
              "#9c179e"
             ],
             [
              0.4444444444444444,
              "#bd3786"
             ],
             [
              0.5555555555555556,
              "#d8576b"
             ],
             [
              0.6666666666666666,
              "#ed7953"
             ],
             [
              0.7777777777777778,
              "#fb9f3a"
             ],
             [
              0.8888888888888888,
              "#fdca26"
             ],
             [
              1,
              "#f0f921"
             ]
            ],
            "type": "histogram2dcontour"
           }
          ],
          "mesh3d": [
           {
            "colorbar": {
             "outlinewidth": 0,
             "ticks": ""
            },
            "type": "mesh3d"
           }
          ],
          "parcoords": [
           {
            "line": {
             "colorbar": {
              "outlinewidth": 0,
              "ticks": ""
             }
            },
            "type": "parcoords"
           }
          ],
          "pie": [
           {
            "automargin": true,
            "type": "pie"
           }
          ],
          "scatter": [
           {
            "fillpattern": {
             "fillmode": "overlay",
             "size": 10,
             "solidity": 0.2
            },
            "type": "scatter"
           }
          ],
          "scatter3d": [
           {
            "line": {
             "colorbar": {
              "outlinewidth": 0,
              "ticks": ""
             }
            },
            "marker": {
             "colorbar": {
              "outlinewidth": 0,
              "ticks": ""
             }
            },
            "type": "scatter3d"
           }
          ],
          "scattercarpet": [
           {
            "marker": {
             "colorbar": {
              "outlinewidth": 0,
              "ticks": ""
             }
            },
            "type": "scattercarpet"
           }
          ],
          "scattergeo": [
           {
            "marker": {
             "colorbar": {
              "outlinewidth": 0,
              "ticks": ""
             }
            },
            "type": "scattergeo"
           }
          ],
          "scattergl": [
           {
            "marker": {
             "colorbar": {
              "outlinewidth": 0,
              "ticks": ""
             }
            },
            "type": "scattergl"
           }
          ],
          "scattermapbox": [
           {
            "marker": {
             "colorbar": {
              "outlinewidth": 0,
              "ticks": ""
             }
            },
            "type": "scattermapbox"
           }
          ],
          "scatterpolar": [
           {
            "marker": {
             "colorbar": {
              "outlinewidth": 0,
              "ticks": ""
             }
            },
            "type": "scatterpolar"
           }
          ],
          "scatterpolargl": [
           {
            "marker": {
             "colorbar": {
              "outlinewidth": 0,
              "ticks": ""
             }
            },
            "type": "scatterpolargl"
           }
          ],
          "scatterternary": [
           {
            "marker": {
             "colorbar": {
              "outlinewidth": 0,
              "ticks": ""
             }
            },
            "type": "scatterternary"
           }
          ],
          "surface": [
           {
            "colorbar": {
             "outlinewidth": 0,
             "ticks": ""
            },
            "colorscale": [
             [
              0,
              "#0d0887"
             ],
             [
              0.1111111111111111,
              "#46039f"
             ],
             [
              0.2222222222222222,
              "#7201a8"
             ],
             [
              0.3333333333333333,
              "#9c179e"
             ],
             [
              0.4444444444444444,
              "#bd3786"
             ],
             [
              0.5555555555555556,
              "#d8576b"
             ],
             [
              0.6666666666666666,
              "#ed7953"
             ],
             [
              0.7777777777777778,
              "#fb9f3a"
             ],
             [
              0.8888888888888888,
              "#fdca26"
             ],
             [
              1,
              "#f0f921"
             ]
            ],
            "type": "surface"
           }
          ],
          "table": [
           {
            "cells": {
             "fill": {
              "color": "#EBF0F8"
             },
             "line": {
              "color": "white"
             }
            },
            "header": {
             "fill": {
              "color": "#C8D4E3"
             },
             "line": {
              "color": "white"
             }
            },
            "type": "table"
           }
          ]
         },
         "layout": {
          "annotationdefaults": {
           "arrowcolor": "#2a3f5f",
           "arrowhead": 0,
           "arrowwidth": 1
          },
          "autotypenumbers": "strict",
          "coloraxis": {
           "colorbar": {
            "outlinewidth": 0,
            "ticks": ""
           }
          },
          "colorscale": {
           "diverging": [
            [
             0,
             "#8e0152"
            ],
            [
             0.1,
             "#c51b7d"
            ],
            [
             0.2,
             "#de77ae"
            ],
            [
             0.3,
             "#f1b6da"
            ],
            [
             0.4,
             "#fde0ef"
            ],
            [
             0.5,
             "#f7f7f7"
            ],
            [
             0.6,
             "#e6f5d0"
            ],
            [
             0.7,
             "#b8e186"
            ],
            [
             0.8,
             "#7fbc41"
            ],
            [
             0.9,
             "#4d9221"
            ],
            [
             1,
             "#276419"
            ]
           ],
           "sequential": [
            [
             0,
             "#0d0887"
            ],
            [
             0.1111111111111111,
             "#46039f"
            ],
            [
             0.2222222222222222,
             "#7201a8"
            ],
            [
             0.3333333333333333,
             "#9c179e"
            ],
            [
             0.4444444444444444,
             "#bd3786"
            ],
            [
             0.5555555555555556,
             "#d8576b"
            ],
            [
             0.6666666666666666,
             "#ed7953"
            ],
            [
             0.7777777777777778,
             "#fb9f3a"
            ],
            [
             0.8888888888888888,
             "#fdca26"
            ],
            [
             1,
             "#f0f921"
            ]
           ],
           "sequentialminus": [
            [
             0,
             "#0d0887"
            ],
            [
             0.1111111111111111,
             "#46039f"
            ],
            [
             0.2222222222222222,
             "#7201a8"
            ],
            [
             0.3333333333333333,
             "#9c179e"
            ],
            [
             0.4444444444444444,
             "#bd3786"
            ],
            [
             0.5555555555555556,
             "#d8576b"
            ],
            [
             0.6666666666666666,
             "#ed7953"
            ],
            [
             0.7777777777777778,
             "#fb9f3a"
            ],
            [
             0.8888888888888888,
             "#fdca26"
            ],
            [
             1,
             "#f0f921"
            ]
           ]
          },
          "colorway": [
           "#636efa",
           "#EF553B",
           "#00cc96",
           "#ab63fa",
           "#FFA15A",
           "#19d3f3",
           "#FF6692",
           "#B6E880",
           "#FF97FF",
           "#FECB52"
          ],
          "font": {
           "color": "#2a3f5f"
          },
          "geo": {
           "bgcolor": "white",
           "lakecolor": "white",
           "landcolor": "#E5ECF6",
           "showlakes": true,
           "showland": true,
           "subunitcolor": "white"
          },
          "hoverlabel": {
           "align": "left"
          },
          "hovermode": "closest",
          "mapbox": {
           "style": "light"
          },
          "paper_bgcolor": "white",
          "plot_bgcolor": "#E5ECF6",
          "polar": {
           "angularaxis": {
            "gridcolor": "white",
            "linecolor": "white",
            "ticks": ""
           },
           "bgcolor": "#E5ECF6",
           "radialaxis": {
            "gridcolor": "white",
            "linecolor": "white",
            "ticks": ""
           }
          },
          "scene": {
           "xaxis": {
            "backgroundcolor": "#E5ECF6",
            "gridcolor": "white",
            "gridwidth": 2,
            "linecolor": "white",
            "showbackground": true,
            "ticks": "",
            "zerolinecolor": "white"
           },
           "yaxis": {
            "backgroundcolor": "#E5ECF6",
            "gridcolor": "white",
            "gridwidth": 2,
            "linecolor": "white",
            "showbackground": true,
            "ticks": "",
            "zerolinecolor": "white"
           },
           "zaxis": {
            "backgroundcolor": "#E5ECF6",
            "gridcolor": "white",
            "gridwidth": 2,
            "linecolor": "white",
            "showbackground": true,
            "ticks": "",
            "zerolinecolor": "white"
           }
          },
          "shapedefaults": {
           "line": {
            "color": "#2a3f5f"
           }
          },
          "ternary": {
           "aaxis": {
            "gridcolor": "white",
            "linecolor": "white",
            "ticks": ""
           },
           "baxis": {
            "gridcolor": "white",
            "linecolor": "white",
            "ticks": ""
           },
           "bgcolor": "#E5ECF6",
           "caxis": {
            "gridcolor": "white",
            "linecolor": "white",
            "ticks": ""
           }
          },
          "title": {
           "x": 0.05
          },
          "xaxis": {
           "automargin": true,
           "gridcolor": "white",
           "linecolor": "white",
           "ticks": "",
           "title": {
            "standoff": 15
           },
           "zerolinecolor": "white",
           "zerolinewidth": 2
          },
          "yaxis": {
           "automargin": true,
           "gridcolor": "white",
           "linecolor": "white",
           "ticks": "",
           "title": {
            "standoff": 15
           },
           "zerolinecolor": "white",
           "zerolinewidth": 2
          }
         }
        },
        "title": {
         "x": 0.5
        },
        "yaxis": {
         "gridcolor": "#dddcda",
         "gridwidth": 1,
         "title": {
          "text": "%"
         }
        }
       }
      }
     },
     "metadata": {},
     "output_type": "display_data"
    }
   ],
   "source": [
    "colores = ['#2962ff', '#9500ff', '#ff0059', '#ff8c00', '#b4e600', '#2EC2A2','#E50CB6','#4225CF','#2CBA4D','#2962ff', '#9500ff', '#ff0059', '#ff8c00', '#b4e600']\n",
    "\n",
    "fig = go.Figure()\n",
    "fig.add_trace(go.Bar(\n",
    "    x=posiciones_salariospersona['Categoria'],  # Eje x: Categoría\n",
    "    y=posiciones_salariospersona['porcentaje'],  # Eje y: porcentaje\n",
    "    text=posiciones_salariospersona['porcentaje'].apply(lambda x: f'{x:.2f}%'),  # Texto con el formato deseado\n",
    "    textposition='outside',  # Posición del texto (parte superior de las barras)\n",
    "    marker_color=colores,  # Especifica los colores de las barras\n",
    "))\n",
    "fig.update_layout(\n",
    "    #title='Mercado Salario por persona',  # Título de la gráfica\n",
    "    title_x=0.5,\n",
    "    yaxis=dict(\n",
    "        title='%',  # Título del eje y\n",
    "        gridcolor='#dddcda', # Color de las líneas que dividen los rangos del eje Y\n",
    "        gridwidth=1, # Ancho de las líneas que dividen los rangos del eje Y\n",
    "    ),\n",
    "    plot_bgcolor='rgba(0,0,0,0)',  # Color de fondo del gráfico\n",
    ")\n",
    "\n",
    "# Exportar gráfica como archivo HTML\n",
    "def guardar_grafico_como_html(fig, nombre_archivo, carpeta='graficas'):\n",
    "    if not os.path.exists(carpeta): \n",
    "        os.makedirs(carpeta) # Crear la carpeta si no existe\n",
    "    \n",
    "    # Gráfica como archivo HTML en la carpeta especificada\n",
    "    pio.write_html(fig, f'{carpeta}/{nombre_archivo}.html')\n",
    "\n",
    "# Exportar\n",
    "guardar_grafico_como_html(fig, 'g_bar_mercadosalarial_Xpersona_tulgo', carpeta='graficas')\n",
    "\n",
    "fig.show()"
   ]
  },
  {
   "cell_type": "markdown",
   "metadata": {},
   "source": [
    "__________\n",
    "# ***Profesiones salario individual***"
   ]
  },
  {
   "cell_type": "markdown",
   "metadata": {},
   "source": [
    "## *PACHUCA*"
   ]
  },
  {
   "cell_type": "code",
   "execution_count": 56,
   "metadata": {},
   "outputs": [
    {
     "data": {
      "text/html": [
       "<div>\n",
       "<style scoped>\n",
       "    .dataframe tbody tr th:only-of-type {\n",
       "        vertical-align: middle;\n",
       "    }\n",
       "\n",
       "    .dataframe tbody tr th {\n",
       "        vertical-align: top;\n",
       "    }\n",
       "\n",
       "    .dataframe thead th {\n",
       "        text-align: right;\n",
       "    }\n",
       "</style>\n",
       "<table border=\"1\" class=\"dataframe\">\n",
       "  <thead>\n",
       "    <tr style=\"text-align: right;\">\n",
       "      <th></th>\n",
       "      <th>id_salarios</th>\n",
       "      <th>Occupation</th>\n",
       "      <th>Salario_Variable</th>\n",
       "      <th>Categoria</th>\n",
       "    </tr>\n",
       "  </thead>\n",
       "  <tbody>\n",
       "    <tr>\n",
       "      <th>0</th>\n",
       "      <td>1</td>\n",
       "      <td>Trabajadores de Apoyo que Realizan Actividades...</td>\n",
       "      <td>244.30</td>\n",
       "      <td>G</td>\n",
       "    </tr>\n",
       "    <tr>\n",
       "      <th>1</th>\n",
       "      <td>2</td>\n",
       "      <td>Trabajadores en la Cría de Caprinos y Ovinos</td>\n",
       "      <td>690.00</td>\n",
       "      <td>G</td>\n",
       "    </tr>\n",
       "    <tr>\n",
       "      <th>2</th>\n",
       "      <td>3</td>\n",
       "      <td>Coordinadores y Jefes de Área en Servicios Con...</td>\n",
       "      <td>817.54</td>\n",
       "      <td>G</td>\n",
       "    </tr>\n",
       "    <tr>\n",
       "      <th>3</th>\n",
       "      <td>4</td>\n",
       "      <td>Artesanos y Confeccionadores de Productos Text...</td>\n",
       "      <td>973.88</td>\n",
       "      <td>G</td>\n",
       "    </tr>\n",
       "    <tr>\n",
       "      <th>4</th>\n",
       "      <td>5</td>\n",
       "      <td>Técnicos de Laboratorios Médicos</td>\n",
       "      <td>1,000.00</td>\n",
       "      <td>G</td>\n",
       "    </tr>\n",
       "    <tr>\n",
       "      <th>...</th>\n",
       "      <td>...</td>\n",
       "      <td>...</td>\n",
       "      <td>...</td>\n",
       "      <td>...</td>\n",
       "    </tr>\n",
       "    <tr>\n",
       "      <th>328</th>\n",
       "      <td>329</td>\n",
       "      <td>Oficiales del Ministerio Público y Detectives</td>\n",
       "      <td>22,465.12</td>\n",
       "      <td>D</td>\n",
       "    </tr>\n",
       "    <tr>\n",
       "      <th>329</th>\n",
       "      <td>330</td>\n",
       "      <td>Montadores de Estructuras Metálicas</td>\n",
       "      <td>25,800.00</td>\n",
       "      <td>D1</td>\n",
       "    </tr>\n",
       "    <tr>\n",
       "      <th>330</th>\n",
       "      <td>331</td>\n",
       "      <td>Optometristas</td>\n",
       "      <td>30,000.00</td>\n",
       "      <td>C</td>\n",
       "    </tr>\n",
       "    <tr>\n",
       "      <th>331</th>\n",
       "      <td>332</td>\n",
       "      <td>Altas Autoridades Gubernamentales y Jurisdicci...</td>\n",
       "      <td>34,000.00</td>\n",
       "      <td>C</td>\n",
       "    </tr>\n",
       "    <tr>\n",
       "      <th>332</th>\n",
       "      <td>333</td>\n",
       "      <td>Capitanes, Tenientes y Jefes de Área de las Fu...</td>\n",
       "      <td>34,564.25</td>\n",
       "      <td>C</td>\n",
       "    </tr>\n",
       "  </tbody>\n",
       "</table>\n",
       "<p>333 rows × 4 columns</p>\n",
       "</div>"
      ],
      "text/plain": [
       "     id_salarios                                         Occupation  \\\n",
       "0              1  Trabajadores de Apoyo que Realizan Actividades...   \n",
       "1              2       Trabajadores en la Cría de Caprinos y Ovinos   \n",
       "2              3  Coordinadores y Jefes de Área en Servicios Con...   \n",
       "3              4  Artesanos y Confeccionadores de Productos Text...   \n",
       "4              5                   Técnicos de Laboratorios Médicos   \n",
       "..           ...                                                ...   \n",
       "328          329      Oficiales del Ministerio Público y Detectives   \n",
       "329          330                Montadores de Estructuras Metálicas   \n",
       "330          331                                      Optometristas   \n",
       "331          332  Altas Autoridades Gubernamentales y Jurisdicci...   \n",
       "332          333  Capitanes, Tenientes y Jefes de Área de las Fu...   \n",
       "\n",
       "     Salario_Variable Categoria  \n",
       "0              244.30         G  \n",
       "1              690.00         G  \n",
       "2              817.54         G  \n",
       "3              973.88         G  \n",
       "4            1,000.00         G  \n",
       "..                ...       ...  \n",
       "328         22,465.12         D  \n",
       "329         25,800.00        D1  \n",
       "330         30,000.00         C  \n",
       "331         34,000.00         C  \n",
       "332         34,564.25         C  \n",
       "\n",
       "[333 rows x 4 columns]"
      ]
     },
     "execution_count": 56,
     "metadata": {},
     "output_type": "execute_result"
    }
   ],
   "source": [
    "# Crea los DataFrames para cada archivo con las columnas necesarias\n",
    "profesiones_df_salarios_pachuca = df_salarios_pachuca[['id_salarios', 'Occupation','Salario_Variable','Categoria']]\n",
    "profesiones_df_salarios_pachuca"
   ]
  },
  {
   "cell_type": "code",
   "execution_count": 57,
   "metadata": {},
   "outputs": [
    {
     "name": "stdout",
     "output_type": "stream",
     "text": [
      "Profesiones con los salarios más bajos:\n",
      "['Trabajadores de Apoyo que Realizan Actividades Agrícolas y Ganaderas', 'Trabajadores en la Cría de Caprinos y Ovinos', 'Coordinadores y Jefes de Área en Servicios Contables, Financieros, Banca y Seguros', 'Artesanos y Confeccionadores de Productos Textiles', 'Técnicos de Laboratorios Médicos', 'Parteras', 'Taladores, Trocadores, Cortadores de Árboles y Similares', 'Trabajadores en el Cultivo de Maíz Y/O Frijol', 'Cerrajeros, Afiladores y Pulidores de Herramientas', 'Trabajadores que Combinan Actividades Agrícolas con Ganaderas', 'Curanderos, Hierberos y Hueseros', 'Agrónomos', 'Administradores de Bases de Datos y Redes de Computadora', 'Bailarines y Coreógrafos', 'Escritores y Críticos Literarios', 'Productores de Carbón Vegetal', 'Trabajadores del Vidrio y Similares', 'Trabajadores de la Fuerza Armada Marítima', 'Carteros (A Pie y en Bicicleta)', 'Coordinadores y Jefes de Área en Informática', 'Supervisores, Encargados y Capataces de Trabajadores en Actividades Pesqueras, Acuícolas, Forestales, Caza y Similares', 'Ingenieros Electrónicos', 'Lavanderos y Planchadores Domésticos', 'Trabajadores de Apoyo en la Industria de la Cerámica, Vidrio y Similares', 'Pedagogos, Orientadores Educativos y otros Especialistas en Ciencias Educativas', 'Trabajadores de Apoyo en Actividades Ganaderas', 'Trabajadores de Apoyo en la Industria de Alimentos, Bebidas y Productos de Tabaco', 'Trabajadores en la Elaboración de Bebidas Alcohólicas y no Alcohólicas', 'Repartidores de Mercancías (A Pie y en Bicicleta)', 'Decoradores de Interiores, Jardines y Diversos Materiales (Tazas, Llaveros, Etcétera)', 'Ayudantes en la Preparación de Alimentos', 'Coordinadores y Jefes de Área en Producción Agropecuaria, Silvícola y Pesquera', 'Nutriólogos', 'Vendedores por Catálogo', 'Recolectores de Basura y Material Reciclable', 'Trabajadores en la Cría de Equinos', 'Bordadores y Deshiladores', 'Trabajadores de Apoyo a la Realización de Espectáculos, Deportes y en Parques de Diversiones', 'Mecánicos en Mantenimiento y Reparación de Instrumentos de Precisión y Musicales', 'Instructores en Estudios y Capacitación Comercial y Administrativa', 'Instructores en Idiomas Extranjeros', 'Trabajadores en el Cultivo de Café, Cacao y Tabaco', 'Lavadores de Vehículos en Vía Pública', 'Coordinadores y Jefes de Área en Servicios Legales, Jueces Calificadores y Fiscales', 'Alfareros y Trabajadores Ceramistas', 'Especialistas en Trabajo Social', 'Trabajadores de Apoyo en la Industria de la Madera, Papel y Cartón', 'Trabajadores de Apoyo en Actividades Agrícolas', 'Trabajadores en la Elaboración y Reparación de Productos de Hule, Caucho, Plásticos y Vulcanización de Neumáticos', 'Supervisores en Servicios de Protección y Vigilancia', 'Trabajadores en la Cría Avícola', 'Ingenieros en Topografía, Hidrología, Geología y Geodesia', 'Cuidadores y Acomodadores de Autos en Estacionamientos', 'Trabajadores en Actividades de Beneficio de Productos Pesqueros o Acuícolas', 'Empleados de Ventas, Despachadores y Dependientes en Comercios', 'Peluqueros, Barberos, Estilistas y Peinadores', 'Maquillistas, Manicuristas, Pedicuristas y Tatuadores', 'Operadores de Máquinas en la Elaboración de Vidrio y Productos de Vidrio y Similares', 'Tramitadores Aduanales', 'Técnicos en Reparación de Equipos Electromecánicos', 'Directores y Gerentes en Producción Agropecuaria, Silvícola y Pesquera', 'Directores y Gerentes en Comunicación y Telecomunicaciones', 'Directores y Gerentes en Desarrollo Social y Económico', 'Conductores de Motocicleta', 'Trabajadores en Actividades Pesqueras', 'Operadores de Máquinas en la Elaboración de Celulosa, Papel y Similares', 'Ayudantes de Conductores de Transporte Terrestre con Motor', 'Trabajadores en la Elaboración de Productos a Base de Frutas y Verduras', 'Preparadores y Vendedores Ambulantes de Alimentos', 'Choferes en Casas Particulares', 'Supervisores de Técnicos Eléctricos, en Electrónica y de Equipos en Telecomunicaciones y Electromecánicos', 'Auxiliares y Técnicos en Pedagogía y en Educación', 'Vendedores Ambulantes de Artículos Diversos (Excluyendo los de Venta de Alimentos)', 'Sastres y Modistos, Costureras y Confeccionadores de Prendas de Vestir', 'Auxiliares y Asistentes Dentales', 'Demostradores y Promotores', 'Trabajadores en Actividades de Recolección de Plantas, Hierbas y Raíces no Cultivadas', 'Trabajadores de Apoyo en la Industria Eléctrica, Electrónica y Comunicaciones', 'Trabajadores Domésticos', 'Anaqueleros, Acomodadores y Seleccionadores de Mercancías y Alimentadores de Máquinas Expendedoras', 'Trabajadores de Apoyo en la Industria Química, Petroquímica y Plásticos', 'Trabajadores en la Elaboración de Sustancias y Compuestos Químicos', 'Barrenderos y Trabajadores de Limpieza (Excepto en Hoteles y Restaurantes)', 'Recepcionistas y Trabajadores que Brindan Información (De Forma Personal)', 'Impresores, Linotipistas, Fotograbadores y Encuadernadores', 'Plomeros, Fontaneros e Instaladores de Tubería', 'Trabajadores en otros Cultivos Agrícolas', 'Trabajadores que Brindan Información por Teléfono (Centro de Llamadas) y Anunciadores', 'Profesores en Educación Física y Deporte', 'Cantineros', 'Tejedores de Fibras', 'Trabajadores en la Elaboración de Productos a Base de Azúcar, Chocolate, Confitería y Tabaco', 'Trabajadores de Apoyo en la Industria Textil y del Zapato', 'Técnicos en Instalación y Reparación de Equipos Electrónicos, Telecomunicaciones y Electrodoméstico (Excepto Equipos Informáticos)', 'Agentes de Bienes Raíces', 'Fonderos, Vendedores y Comerciantes de Comida', 'Trabajadores de Apoyo en Actividades Administrativas Diversas', 'Zapateros Artesanales', 'Secretarias', 'Operadores de Máquinas de Costura, Bordado y de Corte para la Confección de Productos Textiles y Prendas de Vestir', 'Artesanos de Productos de Bejuco, Vara, Palma, Carrizo y Mimbre, Excepto Madera', 'Trabajadores de Apoyo en Actividades Silvícolas y Forestales', 'Moldeadores, Torneros y Troqueladores', 'Trabajadores en el Cultivo de Frutales', 'Cuidadores de Niños, Personas con Discapacidad y Ancianos en Casas Particulares', 'Trabajadores de Apoyo en la Elaboración, Reparación y Mantenimiento Mecánico de Equipos, Maquinaria y Productos de Metal y de Precisión', 'Asesores y Analistas en Finanzas', 'Cobradores, Pagadores y Prestamistas', 'Trabajadores en la Elaboración de Productos de Cemento, Cal, Yeso, Azulejo, Piedra y Ladrilleros', 'Ecólogos y Especialistas en Ciencias Atmosféricas', 'Alfabetizadores', 'Recamaristas y Camaristas', 'Entrenadores Deportivos y Directores Técnicos', 'Pintores y Barnizadores de Madera', 'Comerciantes en Establecimientos', 'Trabajadores en la Cría de Ganado Bovino', 'Lavanderos en Establecimientos', 'Auxiliares en Ciencias Sociales y Humanistas', 'Músicos', 'Clasificadores de Desechos', 'Mecánicos en Mantenimiento y Reparación de Maquinaria e Instrumentos Industriales', 'Cajeros, Taquilleros y Receptores de Apuestas', 'Trabajadores en la Cría y Cuidado de otro Tipo de Animales', 'Trabajadores en el Cultivo de Hortalizas y Verduras', 'Taqueros y Preparadores de Comida Rápida, Antojitos, Pizzas, Hot Dogs, Jugos, Café, Etcétera', 'Meseros', 'Operadores de Hornos Metalúrgicos, Coladores y Laminadores y Operadores de Máquinas Trefiladoras y Estiradoras de Metales', 'Investigadores y Especialistas en Sociología y Desarrollo Social', 'Trabajadores en el Cultivo de Flores', 'Conductores de Autobuses, Camiones, Camionetas, Taxis y Automóviles de Pasajeros', 'Fotógrafos', 'Trabajadores en la Elaboración de Pan, Tortilla, Repostería, y otros Productos de Cereales y Harinas', 'Especialistas y Consultores en Mercadotecnia, Publicidad, Comunicación y Comercio Exterior', 'Directores y Gerentes de Restaurantes y Hoteles', 'Trabajadores en la Elaboración de Productos de Carne, Pescado y sus Derivados', 'Cuidadores de Niños, Personas con Discapacidad y Ancianos en Establecimientos', 'Vigilantes y Guardias en Establecimientos', 'Abogados', 'Lavadores de Vehículos en Establecimientos', 'Médicos Generales y Familiares', 'Ayudantes de Jardineros', 'Diseñadores Gráficos', 'Agentes de Seguros y Servicios Financieros (Ejecutivos de Cuenta)', 'Mozos de Hotel y Restaurante', 'Empacadores de Objetos y Mercancías', 'Directores y Gerentes en Servicios de Transporte', 'Presidentes y Autoridades Municipales', 'Presidentes y Directores Generales en Instituciones Públicas', 'Limpiadores de Calzado', 'Conductores de Maquinaria Móvil para el Movimiento de Mercancías en Fábricas, Puertos, Comercios, Etcétera', 'Ensambladores y Montadores de Partes Eléctricas y Electrónicas', 'Carpinteros, Ebanistas y Cepilladores en la Elaboración de Productos de Madera', 'Vendedores por Teléfono', 'Supervisores de Artesanos y Trabajadores en la Elaboración de Productos de Madera, Papel, Textiles y de Cuero y Piel', 'Médicos Especialistas', 'Edecanes', 'Operadores de Máquinas y Equipos de Hilar y Bobinar Fibras Textiles Naturales y Sintéticas', 'Cargadores', 'Herreros, Balconeros, Aluminadores y Forjadores', 'Patronistas de Productos Textiles', 'Operadores de Equipos Portátiles Especializados para la Construcción', 'Operadores de Máquinas en el Tratamiento del Cuero, Piel y la Elaboración de Calzado', 'Planchadores y Tintoreros en Establecimientos', 'Auxiliares en Contabilidad, Economía, Finanzas y Agentes de Bolsa', 'Jardineros en Casas Particulares', 'Supervisores en la Preparación y Servicio de Alimentos y Bebidas, Así como en Servicios de Esparcimiento y de Hotelería']\n",
      "\n",
      "Profesiones con los salarios más altos:\n",
      "['Trabajadores de Apoyo en la Construcción', 'Instructores y Capacitadores en Oficios y para el Trabajo', 'Capturistas de Datos', 'Trabajadores en la Elaboración de Productos Lácteos', 'Tapiceros', 'Agentes y Representantes de Ventas y Consignatarios', 'Directores y Gerentes en Producción Manufacturera', 'Arquitectos, Planificadores Urbanos y del Transporte', 'Fumigadores y Controladores de Plagas', 'Supervisores de Trabajadores que Brindan y Manejan Información', 'Auxiliares y Técnicos de Equipos de Grabación y Reproducción de Video', 'Coordinadores y Jefes de Área en Administración, Recursos Humanos y Mercadotecnia', 'Supervisores en Limpieza, Amas de Llaves, Mayordomos y en Estacionamientos', 'Auxiliares en Enfermería y Paramédicos', 'Conductores de Camiones, Camionetas y Automóviles de Carga', 'Pintores de Brocha Gorda', 'Instaladores de Material Aislante, de Impermeabilización, Vidrio y otros Materiales', 'Entrenadores de Animales y Ocupaciones Relacionadas con el Cuidado de Mascotas', 'Encargados y Trabajadores en Control de Almacén y Bodega', 'Policías y Agentes de Tránsito', 'Profesores de Preparatoria y Equivalentes', 'Supervisores en Procesos de Ensamblado y Montaje de Maquinaria, Herramientas y Productos Metálicos y Electrónicos', 'Enfermeras (Técnicas)', 'Directores de Organizaciones Civiles y Religiosas', 'Farmacólogos', 'Trabajadores de Paquetería, Maleteros y Botones de Hotel', 'Encargados y Supervisores de Ventas de Productos y de Servicios Financieros y de Alquiler', 'Técnicos en Aparatos de Diagnóstico, Tratamiento Médico, Podólogos y Fisioterapeutas', 'Operadores de Máquinas para Fabricar Tejidos de Punto, Telas y Alfombras', 'Monjas y Predicadores', 'Trabajadores en Instalación y Reparación de Equipos Electrónicos, Telecomunicaciones y Electrodoméstico (Excepto Equipos Informáticos)', 'Jardineros en Establecimientos', 'Técnicos en la Instalación y Reparación de Redes, Equipos y en Sistemas Computacionales', 'Diseñadores Industriales', 'Supervisores de Artesanos y Trabajadores en la Elaboración de Productos de Hule, Caucho, Plásticos y de Sustancias Químicas', 'Supervisores de Secretarias, Capturistas, Cajeros y Trabajadores de Control de Archivo y Transporte', 'Bañeros y Masajistas', 'Trabajadores en la Extracción de Cantera, Arcilla, Arena, Piedra y Grava', 'Auxiliares y Técnicos en Agronomía', 'Operadores de Máquinas en la Elaboración de Alimentos, Aceites, Grasas, Sal y Especias', 'Profesores de Enseñanza Secundaria', 'Operadores de Máquinas que Cortan, Perforan, Doblan, Troquelan, Sueldan, Etc., Piezas y Productos Metálicos', 'Supervisores e Inspectores Educativos', 'Cantantes', 'Trabajadores en Archivo y Correspondencia', 'Yeseros, Escayolistas y otros Recubridores de Techos y Paredes', 'Auxiliares Hospitalarios y de Medicina', 'Mecánicos en Mantenimiento y Reparación de Vehículos de Motor', 'Trabajadores en la Cría de Porcinos', 'Operadores de Máquinas Pulidoras, Galvanizadoras y Recubridoras de Metal', 'Hojalateros, Chaperos, Latoneros, Cobreros y Pintores de Metales', 'Operadores de Máquinas de Lavado, Blanqueo, Teñido, Estampado, Afelpado, Planchado y Acabado de Productos Textiles, Cuero, Piel y Similares', 'Auxiliares y Técnicos en Veterinaria, Pesca y Forestación', 'Auxiliares y Técnicos en Construcción y Arquitectura', 'Cortadores de Leña', 'Técnicos Eléctricos', 'Trabajadores de Apoyo en Plomería e Instalación de Tuberías', 'Traductores e Intérpretes', 'Auxiliares en Administración, Mercadotecnia, Comercialización y Comercio Exterior', 'Contadores y Auditores', 'Operadores de Máquinas para la Elaboración de Productos a Base de Papel y Cartón', 'Albañiles, Mamposteros y Afines', 'Sacerdotes, Pastores y otros Teólogos', 'Operadores de Máquinas en la Elaboración de Productos de Cerámica, Mosaico, Azulejo y Similares', 'Cocineros', 'Choferes Vendedores', 'Operadores de Máquinas para la Elaboración y Ensamble de Productos de Plástico y Hule', 'Telefonistas y Telegrafistas', 'Animadores y Organizadores de Eventos', 'Coordinadores y Jefes de Área en Museos, Cines, Deportivos y Servicios Culturales', 'Mecánicos en Instalación, Mantenimiento y Reparación de Equipos de Refrigeración, Climas y Aire Acondicionado.', 'Repartidores de Mensajería (A Pie y en Bicicleta) y Mandaderos', 'Trabajadores en la Preparación de Fibras e Hilados', 'Profesores de Enseñanza Primaria', 'Auxiliares y Técnicos en Ciencias Biológicas, Químicas y del Medio Ambiente', 'Conductores de Maquinaria Móvil para la Construcción y Minería', 'Operadores de Máquinas para la Elaboración de Productos Farmacéuticos y Cosméticos', 'Trabajadores en Reparación de Equipos Electromecánicos', 'Directores y Productores Artísticos de Cine, Teatro y Afines', 'Dibujantes y Diseñadores Artísticos, Ilustradores y Grabadores', 'Checadores y Revisores de Transporte', 'Electricistas y Linieros', 'Ensambladores y Montadores de Herramientas, Maquinaria, Equipos y Productos Metálicos', 'Profesores Universitarios y de Enseñanza Superior', 'Operadores de Máquinas para el Tratamiento de la Madera y Elaboración de Aglomerados y Triplay', 'Operadores de Máquinas para la Elaboración de Productos Químicos', 'Supervisores de Trabajadores en la Elaboración y Procesamiento de Alimentos, Bebidas y Productos de Tabaco', 'Veterinarios y Zootecnistas', 'Psicólogos', 'Administradores y Especialistas en Recursos Humanos y Sistemas de Gestión', 'Ingenieros Mecánicos', 'Supervisores de Artesanos y Trabajadores en el Tratamiento y Elaboración de Productos de Metal', 'Valuadores, Subastadores y Rematadores', 'Periodistas y Redactores', 'Trabajadores en el Alquiler Inmobiliario (Casas, Terrenos, Etcétera)', 'Supervisores de Trabajadores en la Extracción, Albañiles y en Acabados de la Construcción', 'Directores y Gerentes en Administración, Recursos Humanos y Mercadotecnia', 'Techadores (Colocadores de Palapas, Etcétera)', 'Técnicos Dietistas y Nutriólogos', 'Supervisores de Conductores de Transporte y de Maquinaria Móvil', 'Profesores de Enseñanza Preescolar', 'Pintores', 'Técnicos en Mantenimiento y Reparación de Vehículos de Motor', 'Trabajadores en Viveros e Invernaderos', 'Supervisores de Operadores de Maquinaria Industrial', 'Operadores de Máquinas y Equipos para la Captación, Bombeo y Distribución de Agua', 'Operadores de Máquinas en la Elaboración de Bebidas Alcohólicas y no Alcohólicas', 'Directores y Gerentes en Servicios Funerarios y otros Servicios', 'Técnicos en Mantenimiento y Reparación de Maquinaria e Instrumentos Industriales', 'Operadores de Máquinas y Equipos para la Extracción y Beneficio en Minas y Canteras', 'Auxiliares en Servicios Jurídicos', 'Coordinadores y Jefes de Área en Producción Manufacturera', 'Ingenieros Civiles y de la Construcción', 'Químicos', 'Ingenieros Eléctricos', 'Profesores de Personas con Problemas de Audición y Lenguaje', 'Bomberos', 'Coordinadores y Jefes de Área en Construcción, Reparación y Mantenimiento', 'Investigadores y Especialistas en Ciencias Políticas y Administración Pública', 'Investigadores y Especialistas en Matemáticas, Estadística y Actuaría', 'Joyeros, Orfebres, Plateros y Pulidores de Metal', 'Instaladores de Pisos, Azulejos, Mosaicos y Baldosas', 'Coordinadores y Jefes de Área en Servicios de Vigilancia y Seguridad', 'Operadores de Máquinas para la Elaboración de Productos de Madera, Bejuco, Mimbre y Similares', 'Coordinadores y Jefes de Área de Ventas, Comercialización y Alquiler', 'Trabajadores de la Fuerza Armada Terrestre', 'Soldadores y Oxicortadores', 'Directores y Gerentes en Construcción, Reparación y Mantenimiento', 'Carpinteros de Obra Negra', 'Coordinadores y Jefes de Área en Desarrollo Social y Económico', 'Instructores en Estudios y Capacitación Artística', 'Escultores', 'Directores y Gerentes de Ventas, Comercialización y Alquiler', 'Coordinadores y Jefes de Área en Servicios de Salud, Protección Civil y Medio Ambiente', 'Operadores de Máquinas de Oficina (Fotocopiadora, Etcétera)', 'Ingenieros en Comunicaciones y Telecomunicaciones', 'Técnicos en Seguridad en el Trabajo e Higiene', 'Técnicos de Prótesis Médicas y Dentales', 'Locutores de Radio, Televisión y otros Medios de Comunicación', 'Directores y Gerentes en Servicios Contables, Financieros, Banca y Seguros', 'Ingenieros Industriales', 'Auxiliares y Técnicos Topógrafos, en Hidrología y Geología', 'Coordinadores y Jefes de Área en Servicios de Transporte', 'Codificadores de Información', 'Auxiliares y Técnicos Industriales y Químicos', 'Auxiliares y Técnicos de Ingeniería de Audio, Sonido e Iluminación', 'Taquígrafos, Mecanógrafos y Similares', 'Investigadores y Especialistas en Física', 'Presidentes y Directores Generales en Instituciones y Empresas Privadas', 'Directores y Gerentes en Centros de Enseñanza y Capacitación', 'Desarrolladores y Analistas de Software y Multimedia', 'Enfermeras Especialistas', 'Biólogos y Especialistas en Ciencias del Mar y Oceanógrafos', 'Supervisores de Mecánicos y Técnicos en Mantenimiento y Reparación de Equipos Mecánicos, Vehículos de Motor, Instrumentos Industriales y Equipo de Refrigeración', 'Coordinadores y Jefes de Área en Centros de Enseñanza y Capacitación', 'Jueces de Juzgado, Directores y Gerentes en Servicios Legales y Procuración de Justicia', 'Ingenieros Biomédicos', 'Directores y Gerentes de Museos, Cines y otros Establecimientos Deportivos y Culturales', 'Guías de Turismo en Museos, Casinos, Parques, Cines y otros Centros Recreativos', 'Ingenieros Químicos', 'Trabajadores en el Alquiler de Bienes Muebles (Loza, Películas, Video Juegos, Etcétera)', 'Directores y Gerentes en Servicios de Salud, Protección Civil y Medio Ambiente', 'Oficiales del Ministerio Público y Detectives', 'Montadores de Estructuras Metálicas', 'Optometristas', 'Altas Autoridades Gubernamentales y Jurisdiccionales', 'Capitanes, Tenientes y Jefes de Área de las Fuerzas Armadas']\n"
     ]
    }
   ],
   "source": [
    "# Ordenar el DataFrame por el valor del salario en orden ascendente\n",
    "profesiones_df_salarios_pachuca_sorted = profesiones_df_salarios_pachuca.sort_values(by='Salario_Variable')\n",
    "\n",
    "# Dividir el DataFrame en dos partes: bajos y altos salarios\n",
    "corte = len(profesiones_df_salarios_pachuca_sorted) // 2\n",
    "profesiones_bajas = profesiones_df_salarios_pachuca_sorted.iloc[:corte]\n",
    "profesiones_altas = profesiones_df_salarios_pachuca_sorted.iloc[corte:]\n",
    "\n",
    "# Imprimir la lista de ocupaciones para salarios más bajos\n",
    "print(\"Profesiones con los salarios más bajos:\")\n",
    "print(profesiones_bajas['Occupation'].tolist())\n",
    "\n",
    "# Imprimir la lista de ocupaciones para salarios más altos\n",
    "print(\"\\nProfesiones con los salarios más altos:\")\n",
    "print(profesiones_altas['Occupation'].tolist())"
   ]
  },
  {
   "cell_type": "code",
   "execution_count": 58,
   "metadata": {},
   "outputs": [
    {
     "name": "stdout",
     "output_type": "stream",
     "text": [
      "                               Profesiones Más Bajas  \\\n",
      "0  Trabajadores de Apoyo que Realizan Actividades...   \n",
      "1       Trabajadores en la Cría de Caprinos y Ovinos   \n",
      "2  Coordinadores y Jefes de Área en Servicios Con...   \n",
      "3  Artesanos y Confeccionadores de Productos Text...   \n",
      "4                   Técnicos de Laboratorios Médicos   \n",
      "5                                           Parteras   \n",
      "6  Taladores, Trocadores, Cortadores de Árboles y...   \n",
      "7      Trabajadores en el Cultivo de Maíz Y/O Frijol   \n",
      "8  Cerrajeros, Afiladores y Pulidores de Herramie...   \n",
      "9  Trabajadores que Combinan Actividades Agrícola...   \n",
      "\n",
      "                               Profesiones Más Altas  \n",
      "0           Trabajadores de Apoyo en la Construcción  \n",
      "1  Instructores y Capacitadores en Oficios y para...  \n",
      "2                               Capturistas de Datos  \n",
      "3  Trabajadores en la Elaboración de Productos Lá...  \n",
      "4                                          Tapiceros  \n",
      "5  Agentes y Representantes de Ventas y Consignat...  \n",
      "6  Directores y Gerentes en Producción Manufacturera  \n",
      "7  Arquitectos, Planificadores Urbanos y del Tran...  \n",
      "8              Fumigadores y Controladores de Plagas  \n",
      "9  Supervisores de Trabajadores que Brindan y Man...  \n"
     ]
    }
   ],
   "source": [
    "# Ordenar el DataFrame por el valor del salario en orden ascendente\n",
    "profesiones_df_salarios_pachuca_sorted = profesiones_df_salarios_pachuca.sort_values(by='Salario_Variable')\n",
    "\n",
    "# Dividir el DataFrame en dos partes: bajos y altos salarios\n",
    "corte = len(profesiones_df_salarios_pachuca_sorted) // 2\n",
    "profesiones_bajas = profesiones_df_salarios_pachuca_sorted.iloc[:corte].head(10)  # Obtener solo las 10 primeras\n",
    "profesiones_altas = profesiones_df_salarios_pachuca_sorted.iloc[corte:].head(10)  # Obtener solo las 10 primeras\n",
    "df_bajas = pd.DataFrame({'Profesiones Más Bajas': profesiones_bajas['Occupation']})\n",
    "df_altas = pd.DataFrame({'Profesiones Más Altas': profesiones_altas['Occupation']})\n",
    "\n",
    "# Unir los dos DataFrames en una sola tabla\n",
    "tabla_comparativa = pd.concat([df_bajas.reset_index(drop=True), df_altas.reset_index(drop=True)], axis=1)\n",
    "print(tabla_comparativa)\n",
    "\n",
    "# Exportar tabla como archivo HTML\n",
    "def guardar_tabla_como_html(tabla, nombre_archivo, carpeta='tablas'):\n",
    "    if not os.path.exists(carpeta):\n",
    "        os.makedirs(carpeta)  # Crear la carpeta si no existe\n",
    "    \n",
    "    # Tabla como archivo HTML en la carpeta especificada\n",
    "    tabla.to_html(f'{carpeta}/{nombre_archivo}.html', index=False)\n",
    "\n",
    "# Exportar la tabla\n",
    "guardar_tabla_como_html(tabla_comparativa, 'tabla_profsalarioindv_pachuca')"
   ]
  },
  {
   "cell_type": "markdown",
   "metadata": {},
   "source": [
    "## *PUEBLA*"
   ]
  },
  {
   "cell_type": "code",
   "execution_count": 27,
   "metadata": {},
   "outputs": [
    {
     "data": {
      "text/html": [
       "<div>\n",
       "<style scoped>\n",
       "    .dataframe tbody tr th:only-of-type {\n",
       "        vertical-align: middle;\n",
       "    }\n",
       "\n",
       "    .dataframe tbody tr th {\n",
       "        vertical-align: top;\n",
       "    }\n",
       "\n",
       "    .dataframe thead th {\n",
       "        text-align: right;\n",
       "    }\n",
       "</style>\n",
       "<table border=\"1\" class=\"dataframe\">\n",
       "  <thead>\n",
       "    <tr style=\"text-align: right;\">\n",
       "      <th></th>\n",
       "      <th>id_salarios</th>\n",
       "      <th>Occupation</th>\n",
       "      <th>Salario_Variable</th>\n",
       "      <th>Categoria</th>\n",
       "    </tr>\n",
       "  </thead>\n",
       "  <tbody>\n",
       "    <tr>\n",
       "      <th>0</th>\n",
       "      <td>1</td>\n",
       "      <td>Trabajadores de Apoyo que Realizan Actividades...</td>\n",
       "      <td>244.30</td>\n",
       "      <td>G</td>\n",
       "    </tr>\n",
       "    <tr>\n",
       "      <th>1</th>\n",
       "      <td>2</td>\n",
       "      <td>Trabajadores en la Cría de Caprinos y Ovinos</td>\n",
       "      <td>690.00</td>\n",
       "      <td>G</td>\n",
       "    </tr>\n",
       "    <tr>\n",
       "      <th>2</th>\n",
       "      <td>3</td>\n",
       "      <td>Coordinadores y Jefes de Área en Servicios Con...</td>\n",
       "      <td>817.54</td>\n",
       "      <td>G</td>\n",
       "    </tr>\n",
       "    <tr>\n",
       "      <th>3</th>\n",
       "      <td>4</td>\n",
       "      <td>Artesanos y Confeccionadores de Productos Text...</td>\n",
       "      <td>973.88</td>\n",
       "      <td>G</td>\n",
       "    </tr>\n",
       "    <tr>\n",
       "      <th>4</th>\n",
       "      <td>5</td>\n",
       "      <td>Técnicos de Laboratorios Médicos</td>\n",
       "      <td>1,000.00</td>\n",
       "      <td>G</td>\n",
       "    </tr>\n",
       "    <tr>\n",
       "      <th>...</th>\n",
       "      <td>...</td>\n",
       "      <td>...</td>\n",
       "      <td>...</td>\n",
       "      <td>...</td>\n",
       "    </tr>\n",
       "    <tr>\n",
       "      <th>328</th>\n",
       "      <td>329</td>\n",
       "      <td>Oficiales del Ministerio Público y Detectives</td>\n",
       "      <td>22,465.12</td>\n",
       "      <td>D</td>\n",
       "    </tr>\n",
       "    <tr>\n",
       "      <th>329</th>\n",
       "      <td>330</td>\n",
       "      <td>Montadores de Estructuras Metálicas</td>\n",
       "      <td>25,800.00</td>\n",
       "      <td>D1</td>\n",
       "    </tr>\n",
       "    <tr>\n",
       "      <th>330</th>\n",
       "      <td>331</td>\n",
       "      <td>Optometristas</td>\n",
       "      <td>30,000.00</td>\n",
       "      <td>C</td>\n",
       "    </tr>\n",
       "    <tr>\n",
       "      <th>331</th>\n",
       "      <td>332</td>\n",
       "      <td>Altas Autoridades Gubernamentales y Jurisdicci...</td>\n",
       "      <td>34,000.00</td>\n",
       "      <td>C</td>\n",
       "    </tr>\n",
       "    <tr>\n",
       "      <th>332</th>\n",
       "      <td>333</td>\n",
       "      <td>Capitanes, Tenientes y Jefes de Área de las Fu...</td>\n",
       "      <td>34,564.25</td>\n",
       "      <td>C</td>\n",
       "    </tr>\n",
       "  </tbody>\n",
       "</table>\n",
       "<p>333 rows × 4 columns</p>\n",
       "</div>"
      ],
      "text/plain": [
       "     id_salarios                                         Occupation  \\\n",
       "0              1  Trabajadores de Apoyo que Realizan Actividades...   \n",
       "1              2       Trabajadores en la Cría de Caprinos y Ovinos   \n",
       "2              3  Coordinadores y Jefes de Área en Servicios Con...   \n",
       "3              4  Artesanos y Confeccionadores de Productos Text...   \n",
       "4              5                   Técnicos de Laboratorios Médicos   \n",
       "..           ...                                                ...   \n",
       "328          329      Oficiales del Ministerio Público y Detectives   \n",
       "329          330                Montadores de Estructuras Metálicas   \n",
       "330          331                                      Optometristas   \n",
       "331          332  Altas Autoridades Gubernamentales y Jurisdicci...   \n",
       "332          333  Capitanes, Tenientes y Jefes de Área de las Fu...   \n",
       "\n",
       "     Salario_Variable Categoria  \n",
       "0              244.30         G  \n",
       "1              690.00         G  \n",
       "2              817.54         G  \n",
       "3              973.88         G  \n",
       "4            1,000.00         G  \n",
       "..                ...       ...  \n",
       "328         22,465.12         D  \n",
       "329         25,800.00        D1  \n",
       "330         30,000.00         C  \n",
       "331         34,000.00         C  \n",
       "332         34,564.25         C  \n",
       "\n",
       "[333 rows x 4 columns]"
      ]
     },
     "execution_count": 27,
     "metadata": {},
     "output_type": "execute_result"
    }
   ],
   "source": [
    "# Crea los DataFrames para cada archivo con las columnas necesarias\n",
    "profesiones_df_salarios_puebla = df_salarios_puebla[['id_salarios', 'Occupation','Salario_Variable','Categoria']]\n",
    "profesiones_df_salarios_puebla"
   ]
  },
  {
   "cell_type": "code",
   "execution_count": 28,
   "metadata": {},
   "outputs": [
    {
     "name": "stdout",
     "output_type": "stream",
     "text": [
      "Profesiones con los salarios más bajos:\n",
      "['Trabajadores de Apoyo que Realizan Actividades Agrícolas y Ganaderas', 'Trabajadores en la Cría de Caprinos y Ovinos', 'Coordinadores y Jefes de Área en Servicios Contables, Financieros, Banca y Seguros', 'Artesanos y Confeccionadores de Productos Textiles', 'Técnicos de Laboratorios Médicos', 'Parteras', 'Taladores, Trocadores, Cortadores de Árboles y Similares', 'Trabajadores en el Cultivo de Maíz Y/O Frijol', 'Cerrajeros, Afiladores y Pulidores de Herramientas', 'Trabajadores que Combinan Actividades Agrícolas con Ganaderas', 'Curanderos, Hierberos y Hueseros', 'Agrónomos', 'Administradores de Bases de Datos y Redes de Computadora', 'Bailarines y Coreógrafos', 'Escritores y Críticos Literarios', 'Productores de Carbón Vegetal', 'Trabajadores del Vidrio y Similares', 'Trabajadores de la Fuerza Armada Marítima', 'Carteros (A Pie y en Bicicleta)', 'Coordinadores y Jefes de Área en Informática', 'Supervisores, Encargados y Capataces de Trabajadores en Actividades Pesqueras, Acuícolas, Forestales, Caza y Similares', 'Ingenieros Electrónicos', 'Lavanderos y Planchadores Domésticos', 'Trabajadores de Apoyo en la Industria de la Cerámica, Vidrio y Similares', 'Pedagogos, Orientadores Educativos y otros Especialistas en Ciencias Educativas', 'Trabajadores de Apoyo en Actividades Ganaderas', 'Trabajadores de Apoyo en la Industria de Alimentos, Bebidas y Productos de Tabaco', 'Trabajadores en la Elaboración de Bebidas Alcohólicas y no Alcohólicas', 'Repartidores de Mercancías (A Pie y en Bicicleta)', 'Decoradores de Interiores, Jardines y Diversos Materiales (Tazas, Llaveros, Etcétera)', 'Ayudantes en la Preparación de Alimentos', 'Coordinadores y Jefes de Área en Producción Agropecuaria, Silvícola y Pesquera', 'Nutriólogos', 'Vendedores por Catálogo', 'Recolectores de Basura y Material Reciclable', 'Trabajadores en la Cría de Equinos', 'Bordadores y Deshiladores', 'Trabajadores de Apoyo a la Realización de Espectáculos, Deportes y en Parques de Diversiones', 'Mecánicos en Mantenimiento y Reparación de Instrumentos de Precisión y Musicales', 'Instructores en Estudios y Capacitación Comercial y Administrativa', 'Instructores en Idiomas Extranjeros', 'Trabajadores en el Cultivo de Café, Cacao y Tabaco', 'Lavadores de Vehículos en Vía Pública', 'Coordinadores y Jefes de Área en Servicios Legales, Jueces Calificadores y Fiscales', 'Alfareros y Trabajadores Ceramistas', 'Especialistas en Trabajo Social', 'Trabajadores de Apoyo en la Industria de la Madera, Papel y Cartón', 'Trabajadores de Apoyo en Actividades Agrícolas', 'Trabajadores en la Elaboración y Reparación de Productos de Hule, Caucho, Plásticos y Vulcanización de Neumáticos', 'Supervisores en Servicios de Protección y Vigilancia', 'Trabajadores en la Cría Avícola', 'Ingenieros en Topografía, Hidrología, Geología y Geodesia', 'Cuidadores y Acomodadores de Autos en Estacionamientos', 'Trabajadores en Actividades de Beneficio de Productos Pesqueros o Acuícolas', 'Empleados de Ventas, Despachadores y Dependientes en Comercios', 'Peluqueros, Barberos, Estilistas y Peinadores', 'Maquillistas, Manicuristas, Pedicuristas y Tatuadores', 'Operadores de Máquinas en la Elaboración de Vidrio y Productos de Vidrio y Similares', 'Tramitadores Aduanales', 'Técnicos en Reparación de Equipos Electromecánicos', 'Directores y Gerentes en Producción Agropecuaria, Silvícola y Pesquera', 'Directores y Gerentes en Comunicación y Telecomunicaciones', 'Directores y Gerentes en Desarrollo Social y Económico', 'Conductores de Motocicleta', 'Trabajadores en Actividades Pesqueras', 'Operadores de Máquinas en la Elaboración de Celulosa, Papel y Similares', 'Ayudantes de Conductores de Transporte Terrestre con Motor', 'Trabajadores en la Elaboración de Productos a Base de Frutas y Verduras', 'Preparadores y Vendedores Ambulantes de Alimentos', 'Choferes en Casas Particulares', 'Supervisores de Técnicos Eléctricos, en Electrónica y de Equipos en Telecomunicaciones y Electromecánicos', 'Auxiliares y Técnicos en Pedagogía y en Educación', 'Vendedores Ambulantes de Artículos Diversos (Excluyendo los de Venta de Alimentos)', 'Sastres y Modistos, Costureras y Confeccionadores de Prendas de Vestir', 'Auxiliares y Asistentes Dentales', 'Demostradores y Promotores', 'Trabajadores en Actividades de Recolección de Plantas, Hierbas y Raíces no Cultivadas', 'Trabajadores de Apoyo en la Industria Eléctrica, Electrónica y Comunicaciones', 'Trabajadores Domésticos', 'Anaqueleros, Acomodadores y Seleccionadores de Mercancías y Alimentadores de Máquinas Expendedoras', 'Trabajadores de Apoyo en la Industria Química, Petroquímica y Plásticos', 'Trabajadores en la Elaboración de Sustancias y Compuestos Químicos', 'Barrenderos y Trabajadores de Limpieza (Excepto en Hoteles y Restaurantes)', 'Recepcionistas y Trabajadores que Brindan Información (De Forma Personal)', 'Impresores, Linotipistas, Fotograbadores y Encuadernadores', 'Plomeros, Fontaneros e Instaladores de Tubería', 'Trabajadores en otros Cultivos Agrícolas', 'Trabajadores que Brindan Información por Teléfono (Centro de Llamadas) y Anunciadores', 'Profesores en Educación Física y Deporte', 'Cantineros', 'Tejedores de Fibras', 'Trabajadores en la Elaboración de Productos a Base de Azúcar, Chocolate, Confitería y Tabaco', 'Trabajadores de Apoyo en la Industria Textil y del Zapato', 'Técnicos en Instalación y Reparación de Equipos Electrónicos, Telecomunicaciones y Electrodoméstico (Excepto Equipos Informáticos)', 'Agentes de Bienes Raíces', 'Fonderos, Vendedores y Comerciantes de Comida', 'Trabajadores de Apoyo en Actividades Administrativas Diversas', 'Zapateros Artesanales', 'Secretarias', 'Operadores de Máquinas de Costura, Bordado y de Corte para la Confección de Productos Textiles y Prendas de Vestir', 'Artesanos de Productos de Bejuco, Vara, Palma, Carrizo y Mimbre, Excepto Madera', 'Trabajadores de Apoyo en Actividades Silvícolas y Forestales', 'Moldeadores, Torneros y Troqueladores', 'Trabajadores en el Cultivo de Frutales', 'Cuidadores de Niños, Personas con Discapacidad y Ancianos en Casas Particulares', 'Trabajadores de Apoyo en la Elaboración, Reparación y Mantenimiento Mecánico de Equipos, Maquinaria y Productos de Metal y de Precisión', 'Asesores y Analistas en Finanzas', 'Cobradores, Pagadores y Prestamistas', 'Trabajadores en la Elaboración de Productos de Cemento, Cal, Yeso, Azulejo, Piedra y Ladrilleros', 'Ecólogos y Especialistas en Ciencias Atmosféricas', 'Alfabetizadores', 'Recamaristas y Camaristas', 'Entrenadores Deportivos y Directores Técnicos', 'Pintores y Barnizadores de Madera', 'Comerciantes en Establecimientos', 'Trabajadores en la Cría de Ganado Bovino', 'Lavanderos en Establecimientos', 'Auxiliares en Ciencias Sociales y Humanistas', 'Músicos', 'Clasificadores de Desechos', 'Mecánicos en Mantenimiento y Reparación de Maquinaria e Instrumentos Industriales', 'Cajeros, Taquilleros y Receptores de Apuestas', 'Trabajadores en la Cría y Cuidado de otro Tipo de Animales', 'Trabajadores en el Cultivo de Hortalizas y Verduras', 'Taqueros y Preparadores de Comida Rápida, Antojitos, Pizzas, Hot Dogs, Jugos, Café, Etcétera', 'Meseros', 'Operadores de Hornos Metalúrgicos, Coladores y Laminadores y Operadores de Máquinas Trefiladoras y Estiradoras de Metales', 'Investigadores y Especialistas en Sociología y Desarrollo Social', 'Trabajadores en el Cultivo de Flores', 'Conductores de Autobuses, Camiones, Camionetas, Taxis y Automóviles de Pasajeros', 'Fotógrafos', 'Trabajadores en la Elaboración de Pan, Tortilla, Repostería, y otros Productos de Cereales y Harinas', 'Especialistas y Consultores en Mercadotecnia, Publicidad, Comunicación y Comercio Exterior', 'Directores y Gerentes de Restaurantes y Hoteles', 'Trabajadores en la Elaboración de Productos de Carne, Pescado y sus Derivados', 'Cuidadores de Niños, Personas con Discapacidad y Ancianos en Establecimientos', 'Vigilantes y Guardias en Establecimientos', 'Abogados', 'Lavadores de Vehículos en Establecimientos', 'Médicos Generales y Familiares', 'Ayudantes de Jardineros', 'Diseñadores Gráficos', 'Agentes de Seguros y Servicios Financieros (Ejecutivos de Cuenta)', 'Mozos de Hotel y Restaurante', 'Empacadores de Objetos y Mercancías', 'Directores y Gerentes en Servicios de Transporte', 'Presidentes y Autoridades Municipales', 'Presidentes y Directores Generales en Instituciones Públicas', 'Limpiadores de Calzado', 'Conductores de Maquinaria Móvil para el Movimiento de Mercancías en Fábricas, Puertos, Comercios, Etcétera', 'Ensambladores y Montadores de Partes Eléctricas y Electrónicas', 'Carpinteros, Ebanistas y Cepilladores en la Elaboración de Productos de Madera', 'Vendedores por Teléfono', 'Supervisores de Artesanos y Trabajadores en la Elaboración de Productos de Madera, Papel, Textiles y de Cuero y Piel', 'Médicos Especialistas', 'Edecanes', 'Operadores de Máquinas y Equipos de Hilar y Bobinar Fibras Textiles Naturales y Sintéticas', 'Cargadores', 'Herreros, Balconeros, Aluminadores y Forjadores', 'Patronistas de Productos Textiles', 'Operadores de Equipos Portátiles Especializados para la Construcción', 'Operadores de Máquinas en el Tratamiento del Cuero, Piel y la Elaboración de Calzado', 'Planchadores y Tintoreros en Establecimientos', 'Auxiliares en Contabilidad, Economía, Finanzas y Agentes de Bolsa', 'Jardineros en Casas Particulares', 'Supervisores en la Preparación y Servicio de Alimentos y Bebidas, Así como en Servicios de Esparcimiento y de Hotelería']\n",
      "\n",
      "Profesiones con los salarios más altos:\n",
      "['Trabajadores de Apoyo en la Construcción', 'Instructores y Capacitadores en Oficios y para el Trabajo', 'Capturistas de Datos', 'Trabajadores en la Elaboración de Productos Lácteos', 'Tapiceros', 'Agentes y Representantes de Ventas y Consignatarios', 'Directores y Gerentes en Producción Manufacturera', 'Arquitectos, Planificadores Urbanos y del Transporte', 'Fumigadores y Controladores de Plagas', 'Supervisores de Trabajadores que Brindan y Manejan Información', 'Auxiliares y Técnicos de Equipos de Grabación y Reproducción de Video', 'Coordinadores y Jefes de Área en Administración, Recursos Humanos y Mercadotecnia', 'Supervisores en Limpieza, Amas de Llaves, Mayordomos y en Estacionamientos', 'Auxiliares en Enfermería y Paramédicos', 'Conductores de Camiones, Camionetas y Automóviles de Carga', 'Pintores de Brocha Gorda', 'Instaladores de Material Aislante, de Impermeabilización, Vidrio y otros Materiales', 'Entrenadores de Animales y Ocupaciones Relacionadas con el Cuidado de Mascotas', 'Encargados y Trabajadores en Control de Almacén y Bodega', 'Policías y Agentes de Tránsito', 'Profesores de Preparatoria y Equivalentes', 'Supervisores en Procesos de Ensamblado y Montaje de Maquinaria, Herramientas y Productos Metálicos y Electrónicos', 'Enfermeras (Técnicas)', 'Directores de Organizaciones Civiles y Religiosas', 'Farmacólogos', 'Trabajadores de Paquetería, Maleteros y Botones de Hotel', 'Encargados y Supervisores de Ventas de Productos y de Servicios Financieros y de Alquiler', 'Técnicos en Aparatos de Diagnóstico, Tratamiento Médico, Podólogos y Fisioterapeutas', 'Operadores de Máquinas para Fabricar Tejidos de Punto, Telas y Alfombras', 'Monjas y Predicadores', 'Trabajadores en Instalación y Reparación de Equipos Electrónicos, Telecomunicaciones y Electrodoméstico (Excepto Equipos Informáticos)', 'Jardineros en Establecimientos', 'Técnicos en la Instalación y Reparación de Redes, Equipos y en Sistemas Computacionales', 'Diseñadores Industriales', 'Supervisores de Artesanos y Trabajadores en la Elaboración de Productos de Hule, Caucho, Plásticos y de Sustancias Químicas', 'Supervisores de Secretarias, Capturistas, Cajeros y Trabajadores de Control de Archivo y Transporte', 'Bañeros y Masajistas', 'Trabajadores en la Extracción de Cantera, Arcilla, Arena, Piedra y Grava', 'Auxiliares y Técnicos en Agronomía', 'Operadores de Máquinas en la Elaboración de Alimentos, Aceites, Grasas, Sal y Especias', 'Profesores de Enseñanza Secundaria', 'Operadores de Máquinas que Cortan, Perforan, Doblan, Troquelan, Sueldan, Etc., Piezas y Productos Metálicos', 'Supervisores e Inspectores Educativos', 'Cantantes', 'Trabajadores en Archivo y Correspondencia', 'Yeseros, Escayolistas y otros Recubridores de Techos y Paredes', 'Auxiliares Hospitalarios y de Medicina', 'Mecánicos en Mantenimiento y Reparación de Vehículos de Motor', 'Trabajadores en la Cría de Porcinos', 'Operadores de Máquinas Pulidoras, Galvanizadoras y Recubridoras de Metal', 'Hojalateros, Chaperos, Latoneros, Cobreros y Pintores de Metales', 'Operadores de Máquinas de Lavado, Blanqueo, Teñido, Estampado, Afelpado, Planchado y Acabado de Productos Textiles, Cuero, Piel y Similares', 'Auxiliares y Técnicos en Veterinaria, Pesca y Forestación', 'Auxiliares y Técnicos en Construcción y Arquitectura', 'Cortadores de Leña', 'Técnicos Eléctricos', 'Trabajadores de Apoyo en Plomería e Instalación de Tuberías', 'Traductores e Intérpretes', 'Auxiliares en Administración, Mercadotecnia, Comercialización y Comercio Exterior', 'Contadores y Auditores', 'Operadores de Máquinas para la Elaboración de Productos a Base de Papel y Cartón', 'Albañiles, Mamposteros y Afines', 'Sacerdotes, Pastores y otros Teólogos', 'Operadores de Máquinas en la Elaboración de Productos de Cerámica, Mosaico, Azulejo y Similares', 'Cocineros', 'Choferes Vendedores', 'Operadores de Máquinas para la Elaboración y Ensamble de Productos de Plástico y Hule', 'Telefonistas y Telegrafistas', 'Animadores y Organizadores de Eventos', 'Coordinadores y Jefes de Área en Museos, Cines, Deportivos y Servicios Culturales', 'Mecánicos en Instalación, Mantenimiento y Reparación de Equipos de Refrigeración, Climas y Aire Acondicionado.', 'Repartidores de Mensajería (A Pie y en Bicicleta) y Mandaderos', 'Trabajadores en la Preparación de Fibras e Hilados', 'Profesores de Enseñanza Primaria', 'Auxiliares y Técnicos en Ciencias Biológicas, Químicas y del Medio Ambiente', 'Conductores de Maquinaria Móvil para la Construcción y Minería', 'Operadores de Máquinas para la Elaboración de Productos Farmacéuticos y Cosméticos', 'Trabajadores en Reparación de Equipos Electromecánicos', 'Directores y Productores Artísticos de Cine, Teatro y Afines', 'Dibujantes y Diseñadores Artísticos, Ilustradores y Grabadores', 'Checadores y Revisores de Transporte', 'Electricistas y Linieros', 'Ensambladores y Montadores de Herramientas, Maquinaria, Equipos y Productos Metálicos', 'Profesores Universitarios y de Enseñanza Superior', 'Operadores de Máquinas para el Tratamiento de la Madera y Elaboración de Aglomerados y Triplay', 'Operadores de Máquinas para la Elaboración de Productos Químicos', 'Supervisores de Trabajadores en la Elaboración y Procesamiento de Alimentos, Bebidas y Productos de Tabaco', 'Veterinarios y Zootecnistas', 'Psicólogos', 'Administradores y Especialistas en Recursos Humanos y Sistemas de Gestión', 'Ingenieros Mecánicos', 'Supervisores de Artesanos y Trabajadores en el Tratamiento y Elaboración de Productos de Metal', 'Valuadores, Subastadores y Rematadores', 'Periodistas y Redactores', 'Trabajadores en el Alquiler Inmobiliario (Casas, Terrenos, Etcétera)', 'Supervisores de Trabajadores en la Extracción, Albañiles y en Acabados de la Construcción', 'Directores y Gerentes en Administración, Recursos Humanos y Mercadotecnia', 'Techadores (Colocadores de Palapas, Etcétera)', 'Técnicos Dietistas y Nutriólogos', 'Supervisores de Conductores de Transporte y de Maquinaria Móvil', 'Profesores de Enseñanza Preescolar', 'Pintores', 'Técnicos en Mantenimiento y Reparación de Vehículos de Motor', 'Trabajadores en Viveros e Invernaderos', 'Supervisores de Operadores de Maquinaria Industrial', 'Operadores de Máquinas y Equipos para la Captación, Bombeo y Distribución de Agua', 'Operadores de Máquinas en la Elaboración de Bebidas Alcohólicas y no Alcohólicas', 'Directores y Gerentes en Servicios Funerarios y otros Servicios', 'Técnicos en Mantenimiento y Reparación de Maquinaria e Instrumentos Industriales', 'Operadores de Máquinas y Equipos para la Extracción y Beneficio en Minas y Canteras', 'Auxiliares en Servicios Jurídicos', 'Coordinadores y Jefes de Área en Producción Manufacturera', 'Ingenieros Civiles y de la Construcción', 'Químicos', 'Ingenieros Eléctricos', 'Profesores de Personas con Problemas de Audición y Lenguaje', 'Bomberos', 'Coordinadores y Jefes de Área en Construcción, Reparación y Mantenimiento', 'Investigadores y Especialistas en Ciencias Políticas y Administración Pública', 'Investigadores y Especialistas en Matemáticas, Estadística y Actuaría', 'Joyeros, Orfebres, Plateros y Pulidores de Metal', 'Instaladores de Pisos, Azulejos, Mosaicos y Baldosas', 'Coordinadores y Jefes de Área en Servicios de Vigilancia y Seguridad', 'Operadores de Máquinas para la Elaboración de Productos de Madera, Bejuco, Mimbre y Similares', 'Coordinadores y Jefes de Área de Ventas, Comercialización y Alquiler', 'Trabajadores de la Fuerza Armada Terrestre', 'Soldadores y Oxicortadores', 'Directores y Gerentes en Construcción, Reparación y Mantenimiento', 'Carpinteros de Obra Negra', 'Coordinadores y Jefes de Área en Desarrollo Social y Económico', 'Instructores en Estudios y Capacitación Artística', 'Escultores', 'Directores y Gerentes de Ventas, Comercialización y Alquiler', 'Coordinadores y Jefes de Área en Servicios de Salud, Protección Civil y Medio Ambiente', 'Operadores de Máquinas de Oficina (Fotocopiadora, Etcétera)', 'Ingenieros en Comunicaciones y Telecomunicaciones', 'Técnicos en Seguridad en el Trabajo e Higiene', 'Técnicos de Prótesis Médicas y Dentales', 'Locutores de Radio, Televisión y otros Medios de Comunicación', 'Directores y Gerentes en Servicios Contables, Financieros, Banca y Seguros', 'Ingenieros Industriales', 'Auxiliares y Técnicos Topógrafos, en Hidrología y Geología', 'Coordinadores y Jefes de Área en Servicios de Transporte', 'Codificadores de Información', 'Auxiliares y Técnicos Industriales y Químicos', 'Auxiliares y Técnicos de Ingeniería de Audio, Sonido e Iluminación', 'Taquígrafos, Mecanógrafos y Similares', 'Investigadores y Especialistas en Física', 'Presidentes y Directores Generales en Instituciones y Empresas Privadas', 'Directores y Gerentes en Centros de Enseñanza y Capacitación', 'Desarrolladores y Analistas de Software y Multimedia', 'Enfermeras Especialistas', 'Biólogos y Especialistas en Ciencias del Mar y Oceanógrafos', 'Supervisores de Mecánicos y Técnicos en Mantenimiento y Reparación de Equipos Mecánicos, Vehículos de Motor, Instrumentos Industriales y Equipo de Refrigeración', 'Coordinadores y Jefes de Área en Centros de Enseñanza y Capacitación', 'Jueces de Juzgado, Directores y Gerentes en Servicios Legales y Procuración de Justicia', 'Ingenieros Biomédicos', 'Directores y Gerentes de Museos, Cines y otros Establecimientos Deportivos y Culturales', 'Guías de Turismo en Museos, Casinos, Parques, Cines y otros Centros Recreativos', 'Ingenieros Químicos', 'Trabajadores en el Alquiler de Bienes Muebles (Loza, Películas, Video Juegos, Etcétera)', 'Directores y Gerentes en Servicios de Salud, Protección Civil y Medio Ambiente', 'Oficiales del Ministerio Público y Detectives', 'Montadores de Estructuras Metálicas', 'Optometristas', 'Altas Autoridades Gubernamentales y Jurisdiccionales', 'Capitanes, Tenientes y Jefes de Área de las Fuerzas Armadas']\n"
     ]
    }
   ],
   "source": [
    "# Ordenar el DataFrame por el valor del salario en orden ascendente\n",
    "profesiones_df_salarios_puebla_sorted = profesiones_df_salarios_puebla.sort_values(by='Salario_Variable')\n",
    "\n",
    "# Dividir el DataFrame en dos partes: bajos y altos salarios\n",
    "corte = len(profesiones_df_salarios_puebla_sorted) // 2\n",
    "profesiones_bajas = profesiones_df_salarios_puebla_sorted.iloc[:corte]\n",
    "profesiones_altas = profesiones_df_salarios_puebla_sorted.iloc[corte:]\n",
    "\n",
    "# Imprimir la lista de ocupaciones para salarios más bajos\n",
    "print(\"Profesiones con los salarios más bajos:\")\n",
    "print(profesiones_bajas['Occupation'].tolist())\n",
    "\n",
    "# Imprimir la lista de ocupaciones para salarios más altos\n",
    "print(\"\\nProfesiones con los salarios más altos:\")\n",
    "print(profesiones_altas['Occupation'].tolist())"
   ]
  },
  {
   "cell_type": "code",
   "execution_count": 29,
   "metadata": {},
   "outputs": [
    {
     "name": "stdout",
     "output_type": "stream",
     "text": [
      "                               Profesiones Más Bajas  \\\n",
      "0  Trabajadores de Apoyo que Realizan Actividades...   \n",
      "1       Trabajadores en la Cría de Caprinos y Ovinos   \n",
      "2  Coordinadores y Jefes de Área en Servicios Con...   \n",
      "3  Artesanos y Confeccionadores de Productos Text...   \n",
      "4                   Técnicos de Laboratorios Médicos   \n",
      "5                                           Parteras   \n",
      "6  Taladores, Trocadores, Cortadores de Árboles y...   \n",
      "7      Trabajadores en el Cultivo de Maíz Y/O Frijol   \n",
      "8  Cerrajeros, Afiladores y Pulidores de Herramie...   \n",
      "9  Trabajadores que Combinan Actividades Agrícola...   \n",
      "\n",
      "                               Profesiones Más Altas  \n",
      "0           Trabajadores de Apoyo en la Construcción  \n",
      "1  Instructores y Capacitadores en Oficios y para...  \n",
      "2                               Capturistas de Datos  \n",
      "3  Trabajadores en la Elaboración de Productos Lá...  \n",
      "4                                          Tapiceros  \n",
      "5  Agentes y Representantes de Ventas y Consignat...  \n",
      "6  Directores y Gerentes en Producción Manufacturera  \n",
      "7  Arquitectos, Planificadores Urbanos y del Tran...  \n",
      "8              Fumigadores y Controladores de Plagas  \n",
      "9  Supervisores de Trabajadores que Brindan y Man...  \n"
     ]
    }
   ],
   "source": [
    "# Ordenar el DataFrame por el valor del salario en orden ascendente\n",
    "profesiones_df_salarios_puebla_sorted = profesiones_df_salarios_puebla.sort_values(by='Salario_Variable')\n",
    "\n",
    "# Dividir el DataFrame en dos partes: bajos y altos salarios\n",
    "corte = len(profesiones_df_salarios_puebla_sorted) // 2\n",
    "profesiones_bajas = profesiones_df_salarios_puebla_sorted.iloc[:corte].head(10)  # Obtener solo las 10 primeras\n",
    "profesiones_altas = profesiones_df_salarios_puebla_sorted.iloc[corte:].head(10)  # Obtener solo las 10 primeras\n",
    "df_bajas = pd.DataFrame({'Profesiones Más Bajas': profesiones_bajas['Occupation']})\n",
    "df_altas = pd.DataFrame({'Profesiones Más Altas': profesiones_altas['Occupation']})\n",
    "\n",
    "# Unir los dos DataFrames en una sola tabla\n",
    "tabla_comparativa = pd.concat([df_bajas.reset_index(drop=True), df_altas.reset_index(drop=True)], axis=1)\n",
    "print(tabla_comparativa)\n",
    "\n",
    "# Exportar tabla como archivo HTML\n",
    "def guardar_tabla_como_html(tabla, nombre_archivo, carpeta='tablas'):\n",
    "    if not os.path.exists(carpeta):\n",
    "        os.makedirs(carpeta)  # Crear la carpeta si no existe\n",
    "    \n",
    "    # Tabla como archivo HTML en la carpeta especificada\n",
    "    tabla.to_html(f'{carpeta}/{nombre_archivo}.html', index=False)\n",
    "\n",
    "# Exportar la tabla\n",
    "guardar_tabla_como_html(tabla_comparativa, 'tabla_profsalarioindv_puebla')"
   ]
  },
  {
   "cell_type": "code",
   "execution_count": null,
   "metadata": {},
   "outputs": [],
   "source": []
  },
  {
   "cell_type": "markdown",
   "metadata": {},
   "source": [
    "## *TULANCINGO*"
   ]
  },
  {
   "cell_type": "code",
   "execution_count": null,
   "metadata": {},
   "outputs": [
    {
     "data": {
      "text/html": [
       "<div>\n",
       "<style scoped>\n",
       "    .dataframe tbody tr th:only-of-type {\n",
       "        vertical-align: middle;\n",
       "    }\n",
       "\n",
       "    .dataframe tbody tr th {\n",
       "        vertical-align: top;\n",
       "    }\n",
       "\n",
       "    .dataframe thead th {\n",
       "        text-align: right;\n",
       "    }\n",
       "</style>\n",
       "<table border=\"1\" class=\"dataframe\">\n",
       "  <thead>\n",
       "    <tr style=\"text-align: right;\">\n",
       "      <th></th>\n",
       "      <th>id_salarios</th>\n",
       "      <th>Occupation</th>\n",
       "      <th>Salario_Variable</th>\n",
       "      <th>Categoria</th>\n",
       "    </tr>\n",
       "  </thead>\n",
       "  <tbody>\n",
       "    <tr>\n",
       "      <th>0</th>\n",
       "      <td>1</td>\n",
       "      <td>Trabajadores de Apoyo que Realizan Actividades...</td>\n",
       "      <td>244.30</td>\n",
       "      <td>G</td>\n",
       "    </tr>\n",
       "    <tr>\n",
       "      <th>1</th>\n",
       "      <td>2</td>\n",
       "      <td>Trabajadores en la Cría de Caprinos y Ovinos</td>\n",
       "      <td>690.00</td>\n",
       "      <td>G</td>\n",
       "    </tr>\n",
       "    <tr>\n",
       "      <th>2</th>\n",
       "      <td>3</td>\n",
       "      <td>Coordinadores y Jefes de Área en Servicios Con...</td>\n",
       "      <td>817.54</td>\n",
       "      <td>G</td>\n",
       "    </tr>\n",
       "    <tr>\n",
       "      <th>3</th>\n",
       "      <td>4</td>\n",
       "      <td>Artesanos y Confeccionadores de Productos Text...</td>\n",
       "      <td>973.88</td>\n",
       "      <td>G</td>\n",
       "    </tr>\n",
       "    <tr>\n",
       "      <th>4</th>\n",
       "      <td>5</td>\n",
       "      <td>Técnicos de Laboratorios Médicos</td>\n",
       "      <td>1,000.00</td>\n",
       "      <td>G</td>\n",
       "    </tr>\n",
       "    <tr>\n",
       "      <th>...</th>\n",
       "      <td>...</td>\n",
       "      <td>...</td>\n",
       "      <td>...</td>\n",
       "      <td>...</td>\n",
       "    </tr>\n",
       "    <tr>\n",
       "      <th>328</th>\n",
       "      <td>329</td>\n",
       "      <td>Oficiales del Ministerio Público y Detectives</td>\n",
       "      <td>22,465.12</td>\n",
       "      <td>D</td>\n",
       "    </tr>\n",
       "    <tr>\n",
       "      <th>329</th>\n",
       "      <td>330</td>\n",
       "      <td>Montadores de Estructuras Metálicas</td>\n",
       "      <td>25,800.00</td>\n",
       "      <td>D1</td>\n",
       "    </tr>\n",
       "    <tr>\n",
       "      <th>330</th>\n",
       "      <td>331</td>\n",
       "      <td>Optometristas</td>\n",
       "      <td>30,000.00</td>\n",
       "      <td>C</td>\n",
       "    </tr>\n",
       "    <tr>\n",
       "      <th>331</th>\n",
       "      <td>332</td>\n",
       "      <td>Altas Autoridades Gubernamentales y Jurisdicci...</td>\n",
       "      <td>34,000.00</td>\n",
       "      <td>C</td>\n",
       "    </tr>\n",
       "    <tr>\n",
       "      <th>332</th>\n",
       "      <td>333</td>\n",
       "      <td>Capitanes, Tenientes y Jefes de Área de las Fu...</td>\n",
       "      <td>34,564.25</td>\n",
       "      <td>C</td>\n",
       "    </tr>\n",
       "  </tbody>\n",
       "</table>\n",
       "<p>333 rows × 4 columns</p>\n",
       "</div>"
      ],
      "text/plain": [
       "     id_salarios                                         Occupation  \\\n",
       "0              1  Trabajadores de Apoyo que Realizan Actividades...   \n",
       "1              2       Trabajadores en la Cría de Caprinos y Ovinos   \n",
       "2              3  Coordinadores y Jefes de Área en Servicios Con...   \n",
       "3              4  Artesanos y Confeccionadores de Productos Text...   \n",
       "4              5                   Técnicos de Laboratorios Médicos   \n",
       "..           ...                                                ...   \n",
       "328          329      Oficiales del Ministerio Público y Detectives   \n",
       "329          330                Montadores de Estructuras Metálicas   \n",
       "330          331                                      Optometristas   \n",
       "331          332  Altas Autoridades Gubernamentales y Jurisdicci...   \n",
       "332          333  Capitanes, Tenientes y Jefes de Área de las Fu...   \n",
       "\n",
       "     Salario_Variable Categoria  \n",
       "0              244.30         G  \n",
       "1              690.00         G  \n",
       "2              817.54         G  \n",
       "3              973.88         G  \n",
       "4            1,000.00         G  \n",
       "..                ...       ...  \n",
       "328         22,465.12         D  \n",
       "329         25,800.00        D1  \n",
       "330         30,000.00         C  \n",
       "331         34,000.00         C  \n",
       "332         34,564.25         C  \n",
       "\n",
       "[333 rows x 4 columns]"
      ]
     },
     "metadata": {},
     "output_type": "display_data"
    }
   ],
   "source": [
    "# Crea los DataFrames para cada archivo con las columnas necesarias\n",
    "profesiones_df_salarios_puebla = df_salarios_puebla[['id_salarios', 'Occupation','Salario_Variable','Categoria']]\n",
    "profesiones_df_salarios_puebla"
   ]
  },
  {
   "cell_type": "code",
   "execution_count": null,
   "metadata": {},
   "outputs": [
    {
     "name": "stdout",
     "output_type": "stream",
     "text": [
      "Profesiones con los salarios más bajos:\n",
      "['Trabajadores de Apoyo que Realizan Actividades Agrícolas y Ganaderas', 'Trabajadores en la Cría de Caprinos y Ovinos', 'Coordinadores y Jefes de Área en Servicios Contables, Financieros, Banca y Seguros', 'Artesanos y Confeccionadores de Productos Textiles', 'Técnicos de Laboratorios Médicos', 'Parteras', 'Taladores, Trocadores, Cortadores de Árboles y Similares', 'Trabajadores en el Cultivo de Maíz Y/O Frijol', 'Cerrajeros, Afiladores y Pulidores de Herramientas', 'Trabajadores que Combinan Actividades Agrícolas con Ganaderas', 'Curanderos, Hierberos y Hueseros', 'Agrónomos', 'Administradores de Bases de Datos y Redes de Computadora', 'Bailarines y Coreógrafos', 'Escritores y Críticos Literarios', 'Productores de Carbón Vegetal', 'Trabajadores del Vidrio y Similares', 'Trabajadores de la Fuerza Armada Marítima', 'Carteros (A Pie y en Bicicleta)', 'Coordinadores y Jefes de Área en Informática', 'Supervisores, Encargados y Capataces de Trabajadores en Actividades Pesqueras, Acuícolas, Forestales, Caza y Similares', 'Ingenieros Electrónicos', 'Lavanderos y Planchadores Domésticos', 'Trabajadores de Apoyo en la Industria de la Cerámica, Vidrio y Similares', 'Pedagogos, Orientadores Educativos y otros Especialistas en Ciencias Educativas', 'Trabajadores de Apoyo en Actividades Ganaderas', 'Trabajadores de Apoyo en la Industria de Alimentos, Bebidas y Productos de Tabaco', 'Trabajadores en la Elaboración de Bebidas Alcohólicas y no Alcohólicas', 'Repartidores de Mercancías (A Pie y en Bicicleta)', 'Decoradores de Interiores, Jardines y Diversos Materiales (Tazas, Llaveros, Etcétera)', 'Ayudantes en la Preparación de Alimentos', 'Coordinadores y Jefes de Área en Producción Agropecuaria, Silvícola y Pesquera', 'Nutriólogos', 'Vendedores por Catálogo', 'Recolectores de Basura y Material Reciclable', 'Trabajadores en la Cría de Equinos', 'Bordadores y Deshiladores', 'Trabajadores de Apoyo a la Realización de Espectáculos, Deportes y en Parques de Diversiones', 'Mecánicos en Mantenimiento y Reparación de Instrumentos de Precisión y Musicales', 'Instructores en Estudios y Capacitación Comercial y Administrativa', 'Instructores en Idiomas Extranjeros', 'Trabajadores en el Cultivo de Café, Cacao y Tabaco', 'Lavadores de Vehículos en Vía Pública', 'Coordinadores y Jefes de Área en Servicios Legales, Jueces Calificadores y Fiscales', 'Alfareros y Trabajadores Ceramistas', 'Especialistas en Trabajo Social', 'Trabajadores de Apoyo en la Industria de la Madera, Papel y Cartón', 'Trabajadores de Apoyo en Actividades Agrícolas', 'Trabajadores en la Elaboración y Reparación de Productos de Hule, Caucho, Plásticos y Vulcanización de Neumáticos', 'Supervisores en Servicios de Protección y Vigilancia', 'Trabajadores en la Cría Avícola', 'Ingenieros en Topografía, Hidrología, Geología y Geodesia', 'Cuidadores y Acomodadores de Autos en Estacionamientos', 'Trabajadores en Actividades de Beneficio de Productos Pesqueros o Acuícolas', 'Empleados de Ventas, Despachadores y Dependientes en Comercios', 'Peluqueros, Barberos, Estilistas y Peinadores', 'Maquillistas, Manicuristas, Pedicuristas y Tatuadores', 'Operadores de Máquinas en la Elaboración de Vidrio y Productos de Vidrio y Similares', 'Tramitadores Aduanales', 'Técnicos en Reparación de Equipos Electromecánicos', 'Directores y Gerentes en Producción Agropecuaria, Silvícola y Pesquera', 'Directores y Gerentes en Comunicación y Telecomunicaciones', 'Directores y Gerentes en Desarrollo Social y Económico', 'Conductores de Motocicleta', 'Trabajadores en Actividades Pesqueras', 'Operadores de Máquinas en la Elaboración de Celulosa, Papel y Similares', 'Ayudantes de Conductores de Transporte Terrestre con Motor', 'Trabajadores en la Elaboración de Productos a Base de Frutas y Verduras', 'Preparadores y Vendedores Ambulantes de Alimentos', 'Choferes en Casas Particulares', 'Supervisores de Técnicos Eléctricos, en Electrónica y de Equipos en Telecomunicaciones y Electromecánicos', 'Auxiliares y Técnicos en Pedagogía y en Educación', 'Vendedores Ambulantes de Artículos Diversos (Excluyendo los de Venta de Alimentos)', 'Sastres y Modistos, Costureras y Confeccionadores de Prendas de Vestir', 'Auxiliares y Asistentes Dentales', 'Demostradores y Promotores', 'Trabajadores en Actividades de Recolección de Plantas, Hierbas y Raíces no Cultivadas', 'Trabajadores de Apoyo en la Industria Eléctrica, Electrónica y Comunicaciones', 'Trabajadores Domésticos', 'Anaqueleros, Acomodadores y Seleccionadores de Mercancías y Alimentadores de Máquinas Expendedoras', 'Trabajadores de Apoyo en la Industria Química, Petroquímica y Plásticos', 'Trabajadores en la Elaboración de Sustancias y Compuestos Químicos', 'Barrenderos y Trabajadores de Limpieza (Excepto en Hoteles y Restaurantes)', 'Recepcionistas y Trabajadores que Brindan Información (De Forma Personal)', 'Impresores, Linotipistas, Fotograbadores y Encuadernadores', 'Plomeros, Fontaneros e Instaladores de Tubería', 'Trabajadores en otros Cultivos Agrícolas', 'Trabajadores que Brindan Información por Teléfono (Centro de Llamadas) y Anunciadores', 'Profesores en Educación Física y Deporte', 'Cantineros', 'Tejedores de Fibras', 'Trabajadores en la Elaboración de Productos a Base de Azúcar, Chocolate, Confitería y Tabaco', 'Trabajadores de Apoyo en la Industria Textil y del Zapato', 'Técnicos en Instalación y Reparación de Equipos Electrónicos, Telecomunicaciones y Electrodoméstico (Excepto Equipos Informáticos)', 'Agentes de Bienes Raíces', 'Fonderos, Vendedores y Comerciantes de Comida', 'Trabajadores de Apoyo en Actividades Administrativas Diversas', 'Zapateros Artesanales', 'Secretarias', 'Operadores de Máquinas de Costura, Bordado y de Corte para la Confección de Productos Textiles y Prendas de Vestir', 'Artesanos de Productos de Bejuco, Vara, Palma, Carrizo y Mimbre, Excepto Madera', 'Trabajadores de Apoyo en Actividades Silvícolas y Forestales', 'Moldeadores, Torneros y Troqueladores', 'Trabajadores en el Cultivo de Frutales', 'Cuidadores de Niños, Personas con Discapacidad y Ancianos en Casas Particulares', 'Trabajadores de Apoyo en la Elaboración, Reparación y Mantenimiento Mecánico de Equipos, Maquinaria y Productos de Metal y de Precisión', 'Asesores y Analistas en Finanzas', 'Cobradores, Pagadores y Prestamistas', 'Trabajadores en la Elaboración de Productos de Cemento, Cal, Yeso, Azulejo, Piedra y Ladrilleros', 'Ecólogos y Especialistas en Ciencias Atmosféricas', 'Alfabetizadores', 'Recamaristas y Camaristas', 'Entrenadores Deportivos y Directores Técnicos', 'Pintores y Barnizadores de Madera', 'Comerciantes en Establecimientos', 'Trabajadores en la Cría de Ganado Bovino', 'Lavanderos en Establecimientos', 'Auxiliares en Ciencias Sociales y Humanistas', 'Músicos', 'Clasificadores de Desechos', 'Mecánicos en Mantenimiento y Reparación de Maquinaria e Instrumentos Industriales', 'Cajeros, Taquilleros y Receptores de Apuestas', 'Trabajadores en la Cría y Cuidado de otro Tipo de Animales', 'Trabajadores en el Cultivo de Hortalizas y Verduras', 'Taqueros y Preparadores de Comida Rápida, Antojitos, Pizzas, Hot Dogs, Jugos, Café, Etcétera', 'Meseros', 'Operadores de Hornos Metalúrgicos, Coladores y Laminadores y Operadores de Máquinas Trefiladoras y Estiradoras de Metales', 'Investigadores y Especialistas en Sociología y Desarrollo Social', 'Trabajadores en el Cultivo de Flores', 'Conductores de Autobuses, Camiones, Camionetas, Taxis y Automóviles de Pasajeros', 'Fotógrafos', 'Trabajadores en la Elaboración de Pan, Tortilla, Repostería, y otros Productos de Cereales y Harinas', 'Especialistas y Consultores en Mercadotecnia, Publicidad, Comunicación y Comercio Exterior', 'Directores y Gerentes de Restaurantes y Hoteles', 'Trabajadores en la Elaboración de Productos de Carne, Pescado y sus Derivados', 'Cuidadores de Niños, Personas con Discapacidad y Ancianos en Establecimientos', 'Vigilantes y Guardias en Establecimientos', 'Abogados', 'Lavadores de Vehículos en Establecimientos', 'Médicos Generales y Familiares', 'Ayudantes de Jardineros', 'Diseñadores Gráficos', 'Agentes de Seguros y Servicios Financieros (Ejecutivos de Cuenta)', 'Mozos de Hotel y Restaurante', 'Empacadores de Objetos y Mercancías', 'Directores y Gerentes en Servicios de Transporte', 'Presidentes y Autoridades Municipales', 'Presidentes y Directores Generales en Instituciones Públicas', 'Limpiadores de Calzado', 'Conductores de Maquinaria Móvil para el Movimiento de Mercancías en Fábricas, Puertos, Comercios, Etcétera', 'Ensambladores y Montadores de Partes Eléctricas y Electrónicas', 'Carpinteros, Ebanistas y Cepilladores en la Elaboración de Productos de Madera', 'Vendedores por Teléfono', 'Supervisores de Artesanos y Trabajadores en la Elaboración de Productos de Madera, Papel, Textiles y de Cuero y Piel', 'Médicos Especialistas', 'Edecanes', 'Operadores de Máquinas y Equipos de Hilar y Bobinar Fibras Textiles Naturales y Sintéticas', 'Cargadores', 'Herreros, Balconeros, Aluminadores y Forjadores', 'Patronistas de Productos Textiles', 'Operadores de Equipos Portátiles Especializados para la Construcción', 'Operadores de Máquinas en el Tratamiento del Cuero, Piel y la Elaboración de Calzado', 'Planchadores y Tintoreros en Establecimientos', 'Auxiliares en Contabilidad, Economía, Finanzas y Agentes de Bolsa', 'Jardineros en Casas Particulares', 'Supervisores en la Preparación y Servicio de Alimentos y Bebidas, Así como en Servicios de Esparcimiento y de Hotelería']\n",
      "\n",
      "Profesiones con los salarios más altos:\n",
      "['Trabajadores de Apoyo en la Construcción', 'Instructores y Capacitadores en Oficios y para el Trabajo', 'Capturistas de Datos', 'Trabajadores en la Elaboración de Productos Lácteos', 'Tapiceros', 'Agentes y Representantes de Ventas y Consignatarios', 'Directores y Gerentes en Producción Manufacturera', 'Arquitectos, Planificadores Urbanos y del Transporte', 'Fumigadores y Controladores de Plagas', 'Supervisores de Trabajadores que Brindan y Manejan Información', 'Auxiliares y Técnicos de Equipos de Grabación y Reproducción de Video', 'Coordinadores y Jefes de Área en Administración, Recursos Humanos y Mercadotecnia', 'Supervisores en Limpieza, Amas de Llaves, Mayordomos y en Estacionamientos', 'Auxiliares en Enfermería y Paramédicos', 'Conductores de Camiones, Camionetas y Automóviles de Carga', 'Pintores de Brocha Gorda', 'Instaladores de Material Aislante, de Impermeabilización, Vidrio y otros Materiales', 'Entrenadores de Animales y Ocupaciones Relacionadas con el Cuidado de Mascotas', 'Encargados y Trabajadores en Control de Almacén y Bodega', 'Policías y Agentes de Tránsito', 'Profesores de Preparatoria y Equivalentes', 'Supervisores en Procesos de Ensamblado y Montaje de Maquinaria, Herramientas y Productos Metálicos y Electrónicos', 'Enfermeras (Técnicas)', 'Directores de Organizaciones Civiles y Religiosas', 'Farmacólogos', 'Trabajadores de Paquetería, Maleteros y Botones de Hotel', 'Encargados y Supervisores de Ventas de Productos y de Servicios Financieros y de Alquiler', 'Técnicos en Aparatos de Diagnóstico, Tratamiento Médico, Podólogos y Fisioterapeutas', 'Operadores de Máquinas para Fabricar Tejidos de Punto, Telas y Alfombras', 'Monjas y Predicadores', 'Trabajadores en Instalación y Reparación de Equipos Electrónicos, Telecomunicaciones y Electrodoméstico (Excepto Equipos Informáticos)', 'Jardineros en Establecimientos', 'Técnicos en la Instalación y Reparación de Redes, Equipos y en Sistemas Computacionales', 'Diseñadores Industriales', 'Supervisores de Artesanos y Trabajadores en la Elaboración de Productos de Hule, Caucho, Plásticos y de Sustancias Químicas', 'Supervisores de Secretarias, Capturistas, Cajeros y Trabajadores de Control de Archivo y Transporte', 'Bañeros y Masajistas', 'Trabajadores en la Extracción de Cantera, Arcilla, Arena, Piedra y Grava', 'Auxiliares y Técnicos en Agronomía', 'Operadores de Máquinas en la Elaboración de Alimentos, Aceites, Grasas, Sal y Especias', 'Profesores de Enseñanza Secundaria', 'Operadores de Máquinas que Cortan, Perforan, Doblan, Troquelan, Sueldan, Etc., Piezas y Productos Metálicos', 'Supervisores e Inspectores Educativos', 'Cantantes', 'Trabajadores en Archivo y Correspondencia', 'Yeseros, Escayolistas y otros Recubridores de Techos y Paredes', 'Auxiliares Hospitalarios y de Medicina', 'Mecánicos en Mantenimiento y Reparación de Vehículos de Motor', 'Trabajadores en la Cría de Porcinos', 'Operadores de Máquinas Pulidoras, Galvanizadoras y Recubridoras de Metal', 'Hojalateros, Chaperos, Latoneros, Cobreros y Pintores de Metales', 'Operadores de Máquinas de Lavado, Blanqueo, Teñido, Estampado, Afelpado, Planchado y Acabado de Productos Textiles, Cuero, Piel y Similares', 'Auxiliares y Técnicos en Veterinaria, Pesca y Forestación', 'Auxiliares y Técnicos en Construcción y Arquitectura', 'Cortadores de Leña', 'Técnicos Eléctricos', 'Trabajadores de Apoyo en Plomería e Instalación de Tuberías', 'Traductores e Intérpretes', 'Auxiliares en Administración, Mercadotecnia, Comercialización y Comercio Exterior', 'Contadores y Auditores', 'Operadores de Máquinas para la Elaboración de Productos a Base de Papel y Cartón', 'Albañiles, Mamposteros y Afines', 'Sacerdotes, Pastores y otros Teólogos', 'Operadores de Máquinas en la Elaboración de Productos de Cerámica, Mosaico, Azulejo y Similares', 'Cocineros', 'Choferes Vendedores', 'Operadores de Máquinas para la Elaboración y Ensamble de Productos de Plástico y Hule', 'Telefonistas y Telegrafistas', 'Animadores y Organizadores de Eventos', 'Coordinadores y Jefes de Área en Museos, Cines, Deportivos y Servicios Culturales', 'Mecánicos en Instalación, Mantenimiento y Reparación de Equipos de Refrigeración, Climas y Aire Acondicionado.', 'Repartidores de Mensajería (A Pie y en Bicicleta) y Mandaderos', 'Trabajadores en la Preparación de Fibras e Hilados', 'Profesores de Enseñanza Primaria', 'Auxiliares y Técnicos en Ciencias Biológicas, Químicas y del Medio Ambiente', 'Conductores de Maquinaria Móvil para la Construcción y Minería', 'Operadores de Máquinas para la Elaboración de Productos Farmacéuticos y Cosméticos', 'Trabajadores en Reparación de Equipos Electromecánicos', 'Directores y Productores Artísticos de Cine, Teatro y Afines', 'Dibujantes y Diseñadores Artísticos, Ilustradores y Grabadores', 'Checadores y Revisores de Transporte', 'Electricistas y Linieros', 'Ensambladores y Montadores de Herramientas, Maquinaria, Equipos y Productos Metálicos', 'Profesores Universitarios y de Enseñanza Superior', 'Operadores de Máquinas para el Tratamiento de la Madera y Elaboración de Aglomerados y Triplay', 'Operadores de Máquinas para la Elaboración de Productos Químicos', 'Supervisores de Trabajadores en la Elaboración y Procesamiento de Alimentos, Bebidas y Productos de Tabaco', 'Veterinarios y Zootecnistas', 'Psicólogos', 'Administradores y Especialistas en Recursos Humanos y Sistemas de Gestión', 'Ingenieros Mecánicos', 'Supervisores de Artesanos y Trabajadores en el Tratamiento y Elaboración de Productos de Metal', 'Valuadores, Subastadores y Rematadores', 'Periodistas y Redactores', 'Trabajadores en el Alquiler Inmobiliario (Casas, Terrenos, Etcétera)', 'Supervisores de Trabajadores en la Extracción, Albañiles y en Acabados de la Construcción', 'Directores y Gerentes en Administración, Recursos Humanos y Mercadotecnia', 'Techadores (Colocadores de Palapas, Etcétera)', 'Técnicos Dietistas y Nutriólogos', 'Supervisores de Conductores de Transporte y de Maquinaria Móvil', 'Profesores de Enseñanza Preescolar', 'Pintores', 'Técnicos en Mantenimiento y Reparación de Vehículos de Motor', 'Trabajadores en Viveros e Invernaderos', 'Supervisores de Operadores de Maquinaria Industrial', 'Operadores de Máquinas y Equipos para la Captación, Bombeo y Distribución de Agua', 'Operadores de Máquinas en la Elaboración de Bebidas Alcohólicas y no Alcohólicas', 'Directores y Gerentes en Servicios Funerarios y otros Servicios', 'Técnicos en Mantenimiento y Reparación de Maquinaria e Instrumentos Industriales', 'Operadores de Máquinas y Equipos para la Extracción y Beneficio en Minas y Canteras', 'Auxiliares en Servicios Jurídicos', 'Coordinadores y Jefes de Área en Producción Manufacturera', 'Ingenieros Civiles y de la Construcción', 'Químicos', 'Ingenieros Eléctricos', 'Profesores de Personas con Problemas de Audición y Lenguaje', 'Bomberos', 'Coordinadores y Jefes de Área en Construcción, Reparación y Mantenimiento', 'Investigadores y Especialistas en Ciencias Políticas y Administración Pública', 'Investigadores y Especialistas en Matemáticas, Estadística y Actuaría', 'Joyeros, Orfebres, Plateros y Pulidores de Metal', 'Instaladores de Pisos, Azulejos, Mosaicos y Baldosas', 'Coordinadores y Jefes de Área en Servicios de Vigilancia y Seguridad', 'Operadores de Máquinas para la Elaboración de Productos de Madera, Bejuco, Mimbre y Similares', 'Coordinadores y Jefes de Área de Ventas, Comercialización y Alquiler', 'Trabajadores de la Fuerza Armada Terrestre', 'Soldadores y Oxicortadores', 'Directores y Gerentes en Construcción, Reparación y Mantenimiento', 'Carpinteros de Obra Negra', 'Coordinadores y Jefes de Área en Desarrollo Social y Económico', 'Instructores en Estudios y Capacitación Artística', 'Escultores', 'Directores y Gerentes de Ventas, Comercialización y Alquiler', 'Coordinadores y Jefes de Área en Servicios de Salud, Protección Civil y Medio Ambiente', 'Operadores de Máquinas de Oficina (Fotocopiadora, Etcétera)', 'Ingenieros en Comunicaciones y Telecomunicaciones', 'Técnicos en Seguridad en el Trabajo e Higiene', 'Técnicos de Prótesis Médicas y Dentales', 'Locutores de Radio, Televisión y otros Medios de Comunicación', 'Directores y Gerentes en Servicios Contables, Financieros, Banca y Seguros', 'Ingenieros Industriales', 'Auxiliares y Técnicos Topógrafos, en Hidrología y Geología', 'Coordinadores y Jefes de Área en Servicios de Transporte', 'Codificadores de Información', 'Auxiliares y Técnicos Industriales y Químicos', 'Auxiliares y Técnicos de Ingeniería de Audio, Sonido e Iluminación', 'Taquígrafos, Mecanógrafos y Similares', 'Investigadores y Especialistas en Física', 'Presidentes y Directores Generales en Instituciones y Empresas Privadas', 'Directores y Gerentes en Centros de Enseñanza y Capacitación', 'Desarrolladores y Analistas de Software y Multimedia', 'Enfermeras Especialistas', 'Biólogos y Especialistas en Ciencias del Mar y Oceanógrafos', 'Supervisores de Mecánicos y Técnicos en Mantenimiento y Reparación de Equipos Mecánicos, Vehículos de Motor, Instrumentos Industriales y Equipo de Refrigeración', 'Coordinadores y Jefes de Área en Centros de Enseñanza y Capacitación', 'Jueces de Juzgado, Directores y Gerentes en Servicios Legales y Procuración de Justicia', 'Ingenieros Biomédicos', 'Directores y Gerentes de Museos, Cines y otros Establecimientos Deportivos y Culturales', 'Guías de Turismo en Museos, Casinos, Parques, Cines y otros Centros Recreativos', 'Ingenieros Químicos', 'Trabajadores en el Alquiler de Bienes Muebles (Loza, Películas, Video Juegos, Etcétera)', 'Directores y Gerentes en Servicios de Salud, Protección Civil y Medio Ambiente', 'Oficiales del Ministerio Público y Detectives', 'Montadores de Estructuras Metálicas', 'Optometristas', 'Altas Autoridades Gubernamentales y Jurisdiccionales', 'Capitanes, Tenientes y Jefes de Área de las Fuerzas Armadas']\n"
     ]
    }
   ],
   "source": [
    "# Ordenar el DataFrame por el valor del salario en orden ascendente\n",
    "profesiones_df_salarios_puebla_sorted = profesiones_df_salarios_puebla.sort_values(by='Salario_Variable')\n",
    "\n",
    "# Dividir el DataFrame en dos partes: bajos y altos salarios\n",
    "corte = len(profesiones_df_salarios_puebla_sorted) // 2\n",
    "profesiones_bajas = profesiones_df_salarios_puebla_sorted.iloc[:corte]\n",
    "profesiones_altas = profesiones_df_salarios_puebla_sorted.iloc[corte:]\n",
    "\n",
    "# Imprimir la lista de ocupaciones para salarios más bajos\n",
    "print(\"Profesiones con los salarios más bajos:\")\n",
    "print(profesiones_bajas['Occupation'].tolist())\n",
    "\n",
    "# Imprimir la lista de ocupaciones para salarios más altos\n",
    "print(\"\\nProfesiones con los salarios más altos:\")\n",
    "print(profesiones_altas['Occupation'].tolist())"
   ]
  },
  {
   "cell_type": "code",
   "execution_count": null,
   "metadata": {},
   "outputs": [
    {
     "name": "stdout",
     "output_type": "stream",
     "text": [
      "                               Profesiones Más Bajas  \\\n",
      "0  Trabajadores de Apoyo que Realizan Actividades...   \n",
      "1       Trabajadores en la Cría de Caprinos y Ovinos   \n",
      "2  Coordinadores y Jefes de Área en Servicios Con...   \n",
      "3  Artesanos y Confeccionadores de Productos Text...   \n",
      "4                   Técnicos de Laboratorios Médicos   \n",
      "5                                           Parteras   \n",
      "6  Taladores, Trocadores, Cortadores de Árboles y...   \n",
      "7      Trabajadores en el Cultivo de Maíz Y/O Frijol   \n",
      "8  Cerrajeros, Afiladores y Pulidores de Herramie...   \n",
      "9  Trabajadores que Combinan Actividades Agrícola...   \n",
      "\n",
      "                               Profesiones Más Altas  \n",
      "0           Trabajadores de Apoyo en la Construcción  \n",
      "1  Instructores y Capacitadores en Oficios y para...  \n",
      "2                               Capturistas de Datos  \n",
      "3  Trabajadores en la Elaboración de Productos Lá...  \n",
      "4                                          Tapiceros  \n",
      "5  Agentes y Representantes de Ventas y Consignat...  \n",
      "6  Directores y Gerentes en Producción Manufacturera  \n",
      "7  Arquitectos, Planificadores Urbanos y del Tran...  \n",
      "8              Fumigadores y Controladores de Plagas  \n",
      "9  Supervisores de Trabajadores que Brindan y Man...  \n"
     ]
    }
   ],
   "source": [
    "# Ordenar el DataFrame por el valor del salario en orden ascendente\n",
    "profesiones_df_salarios_puebla_sorted = profesiones_df_salarios_puebla.sort_values(by='Salario_Variable')\n",
    "\n",
    "# Dividir el DataFrame en dos partes: bajos y altos salarios\n",
    "corte = len(profesiones_df_salarios_puebla_sorted) // 2\n",
    "profesiones_bajas = profesiones_df_salarios_puebla_sorted.iloc[:corte].head(10)  # Obtener solo las 10 primeras\n",
    "profesiones_altas = profesiones_df_salarios_puebla_sorted.iloc[corte:].head(10)  # Obtener solo las 10 primeras\n",
    "df_bajas = pd.DataFrame({'Profesiones Más Bajas': profesiones_bajas['Occupation']})\n",
    "df_altas = pd.DataFrame({'Profesiones Más Altas': profesiones_altas['Occupation']})\n",
    "\n",
    "# Unir los dos DataFrames en una sola tabla\n",
    "tabla_comparativa = pd.concat([df_bajas.reset_index(drop=True), df_altas.reset_index(drop=True)], axis=1)\n",
    "print(tabla_comparativa)\n",
    "\n",
    "# Exportar tabla como archivo HTML\n",
    "def guardar_tabla_como_html(tabla, nombre_archivo, carpeta='tablas'):\n",
    "    if not os.path.exists(carpeta):\n",
    "        os.makedirs(carpeta)  # Crear la carpeta si no existe\n",
    "    \n",
    "    # Tabla como archivo HTML en la carpeta especificada\n",
    "    tabla.to_html(f'{carpeta}/{nombre_archivo}.html', index=False)\n",
    "\n",
    "# Exportar la tabla\n",
    "guardar_tabla_como_html(tabla_comparativa, 'tabla_profsalarioindv_puebla')"
   ]
  },
  {
   "cell_type": "code",
   "execution_count": 37,
   "metadata": {},
   "outputs": [
    {
     "name": "stdout",
     "output_type": "stream",
     "text": [
      "La tabla se ha exportado correctamente a tablas/tabla_profsalarioindv.html\n"
     ]
    }
   ],
   "source": [
    "import pandas as pd\n",
    "import os\n",
    "\n",
    "# Datos de la tabla proporcionada\n",
    "data = {\n",
    "    'Profesiones más bajas': [\n",
    "        'Artesanos y Trabajadores en la Elaboración de Productos de Papel y Cartón',\n",
    "        'Trabajadores en la Cría de Porcinos',\n",
    "        'Bailarines y Coreógrafos',\n",
    "        'Trabajadores en la Elaboración de Sustancias y Compuestos Químicos',\n",
    "        'Trabajadores de Apoyo en la Industria de la Cerámica, Vidrio y Similares',\n",
    "        'Artesanos y Confeccionadores de Productos Textiles',\n",
    "        'Operadores de Máquinas para el Tratamiento de Agua',\n",
    "        'Escritores y Críticos Literarios',\n",
    "        'Ingenieros Mecánicos',\n",
    "        'Yeseros, Escayolistas y otros Recubridores de Techos y Paredes'\n",
    "    ],\n",
    "    'Profesiones más altas': [\n",
    "        'Coordinadores y Jefes de Área en Generación y Provisión de Energía Eléctrica y Agua',\n",
    "        'Instructores y Capacitadores en Oficios y para el Trabajo',\n",
    "        'Supervisores de Técnicos Eléctricos, en Electrónica y de Equipos en Telecomunicaciones y Electromecánicos',\n",
    "        'Jueces de Juzgado, Directores y Gerentes en Servicios Legales y Procuración de Justicia',\n",
    "        'Directores y Gerentes en Servicios Funerarios y otros Servicios',\n",
    "        'Directores y Gerentes en Desarrollo Social y Económico',\n",
    "        'Directores y Gerentes en Comunicación y Telecomunicaciones',\n",
    "        'Directores y Productores Artísticos de Cine, Teatro y Afines',\n",
    "        'Coordinadores y Jefes de Área en Producción Minera, Petrolera y Gas',\n",
    "        'Coordinadores y Jefes de Área en Comunicación y Telecomunicaciones'\n",
    "    ]\n",
    "}\n",
    "\n",
    "# Crear el DataFrame\n",
    "df = pd.DataFrame(data)\n",
    "\n",
    "# Asegurarse de que la carpeta 'tablas' existe\n",
    "if not os.path.exists('tablas'):\n",
    "    os.makedirs('tablas')\n",
    "\n",
    "# Exportar la tabla como archivo HTML\n",
    "df.to_html(\"tablas/tabla_profsalarioindv_tulgo.html\", index=False)\n",
    "\n",
    "print(\"La tabla se ha exportado correctamente a tablas/tabla_profsalarioindv.html\")\n"
   ]
  },
  {
   "cell_type": "code",
   "execution_count": 36,
   "metadata": {},
   "outputs": [],
   "source": [
    "import pandas as pd\n",
    "import plotly.graph_objects as go\n",
    "\n",
    "# Datos de la tabla proporcionada\n",
    "data = {\n",
    "    'Profesiones más bajas': [\n",
    "        'Artesanos y Trabajadores en la Elaboración de Productos de Papel y Cartón',\n",
    "        'Trabajadores en la Cría de Porcinos',\n",
    "        'Bailarines y Coreógrafos',\n",
    "        'Trabajadores en la Elaboración de Sustancias y Compuestos Químicos',\n",
    "        'Trabajadores de Apoyo en la Industria de la Cerámica, Vidrio y Similares',\n",
    "        'Artesanos y Confeccionadores de Productos Textiles',\n",
    "        'Operadores de Máquinas para el Tratamiento de Agua',\n",
    "        'Escritores y Críticos Literarios',\n",
    "        'Ingenieros Mecánicos',\n",
    "        'Yeseros, Escayolistas y otros Recubridores de Techos y Paredes'\n",
    "    ],\n",
    "    'Profesiones más altas': [\n",
    "        'Coordinadores y Jefes de Área en Generación y Provisión de Energía Eléctrica y Agua',\n",
    "        'Instructores y Capacitadores en Oficios y para el Trabajo',\n",
    "        'Supervisores de Técnicos Eléctricos, en Electrónica y de Equipos en Telecomunicaciones y Electromecánicos',\n",
    "        'Jueces de Juzgado, Directores y Gerentes en Servicios Legales y Procuración de Justicia',\n",
    "        'Directores y Gerentes en Servicios Funerarios y otros Servicios',\n",
    "        'Directores y Gerentes en Desarrollo Social y Económico',\n",
    "        'Directores y Gerentes en Comunicación y Telecomunicaciones',\n",
    "        'Directores y Productores Artísticos de Cine, Teatro y Afines',\n",
    "        'Coordinadores y Jefes de Área en Producción Minera, Petrolera y Gas',\n",
    "        'Coordinadores y Jefes de Área en Comunicación y Telecomunicaciones'\n",
    "    ]\n",
    "}\n",
    "\n",
    "# Crear el DataFrame\n",
    "df = pd.DataFrame(data)\n",
    "\n",
    "# Crear una tabla con Plotly sin estilos\n",
    "fig = go.Figure(data=[go.Table(\n",
    "    header=dict(values=list(df.columns),\n",
    "                align='left'),\n",
    "    cells=dict(values=[df['Profesiones más bajas'], df['Profesiones más altas']],\n",
    "               align='left'))\n",
    "])\n",
    "\n",
    "# Asegurarse de que la carpeta 'tablas' existe\n",
    "if not os.path.exists('tablas'):\n",
    "    os.makedirs('tablas')\n",
    "# Exportar la tabla como archivo HTML\n",
    "fig.write_html(\"tablas/tabla_profsalarioindv_tulgo.html\")\n"
   ]
  }
 ],
 "metadata": {
  "kernelspec": {
   "display_name": "base",
   "language": "python",
   "name": "python3"
  },
  "language_info": {
   "codemirror_mode": {
    "name": "ipython",
    "version": 3
   },
   "file_extension": ".py",
   "mimetype": "text/x-python",
   "name": "python",
   "nbconvert_exporter": "python",
   "pygments_lexer": "ipython3",
   "version": "3.9.13"
  }
 },
 "nbformat": 4,
 "nbformat_minor": 2
}
