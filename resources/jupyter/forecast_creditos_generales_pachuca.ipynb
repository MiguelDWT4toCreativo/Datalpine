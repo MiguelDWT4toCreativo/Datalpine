{
 "cells": [
  {
   "cell_type": "markdown",
   "metadata": {},
   "source": [
    "# **FORECAST CREDITOS GENERALES | PACHUCA**"
   ]
  },
  {
   "cell_type": "code",
   "execution_count": 1,
   "metadata": {},
   "outputs": [],
   "source": [
    "# Manejo de datos\n",
    "import os # Directorios\n",
    "import pandas as pd # Manipulación df\n",
    "# Gráficas\n",
    "import plotly.graph_objects as go #Para obtener librería usar: pip install plotly\n",
    "from plotly.subplots import make_subplots\n",
    "import plotly.io as pio # Exportar gráfica"
   ]
  },
  {
   "cell_type": "code",
   "execution_count": 2,
   "metadata": {},
   "outputs": [],
   "source": [
    "# Obtener el directorio actual de trabajo\n",
    "directorio_actual = os.getcwd()\n",
    "# Directorio donde se encuentran los archivos JSON (ruta relativa)\n",
    "directorio_json = os.path.join(directorio_actual, 'datos_json')\n",
    "#print(\"Directorio JSON relativo:\", directorio_json)\n",
    "# Obtener la lista de archivos JSON en el directorio\n",
    "archivos_json = os.listdir(directorio_json)"
   ]
  },
  {
   "cell_type": "code",
   "execution_count": 3,
   "metadata": {},
   "outputs": [],
   "source": [
    "dataframes = {} # Crear un diccionario para almacenar los DataFrames\n",
    "# Iterar sobre cada archivo JSON y crear un DataFrame\n",
    "for archivo in archivos_json:\n",
    "    # Obtener el nombre de la tabla del nombre del archivo\n",
    "    nombre_tabla = archivo.replace('datos_', '').replace('.json', '')    \n",
    "    # Cargar el archivo JSON en un DataFrame y asignarlo a una variable con un nombre dinámico\n",
    "    ruta_json = os.path.join(directorio_json, archivo)\n",
    "    globals()[f\"df_{nombre_tabla}\"] = pd.read_json(ruta_json)"
   ]
  },
  {
   "cell_type": "code",
   "execution_count": 4,
   "metadata": {},
   "outputs": [
    {
     "name": "stdout",
     "output_type": "stream",
     "text": [
      "Lista de DataFrames creados:\n",
      "['df_alfa_q_feb_2023_pachuca', 'df_alfa_q_jul_2022_tulancingo', 'df_alfa_q_jul_2023_pachuca', 'df_alfa_q_jul_2023_tulancingo', 'df_alfa_q_jun_2023_pachuca', 'df_alfa_q_jun_2023_tulancingo', 'df_alfa_q_mar_2023_pachuca', 'df_alfa_q_mar_2023_tulancingo', 'df_alfa_q_may_2022_tulancingo', 'df_alfa_q_may_2023_tulancingo', 'df_alfa_q_nov_2022_pachuca', 'df_alfa_q_oct_2022_pachuca', 'df_alfa_q_oct_2022_tulancingo', 'df_alfa_q_oct_2023_tulancingo', 'df_alfa_q_puebla', 'df_alfa_q_sep_2023_pachuca', 'df_alfa_q_sep_2023_tulancingo', 'df_enero_2024_querertaro', 'df_financiamientos_2019_pachuca', 'df_financiamientos_2019_puebla', 'df_financiamientos_2019_tulancingo', 'df_financiamientos_2020_pachuca', 'df_financiamientos_2020_puebla', 'df_financiamientos_2020_tulancingo', 'df_financiamientos_2021_pachuca', 'df_financiamientos_2021_puebla', 'df_financiamientos_2021_tulancingo', 'df_financiamientos_2022_pachuca', 'df_financiamientos_2022_puebla', 'df_financiamientos_2022_tulancingo', 'df_financiamientos_2023_pachuca', 'df_financiamientos_2023_puebla', 'df_financiamientos_2023_tulancingo', 'df_grupos_edad_pachuca', 'df_grupos_edad_puebla', 'df_grupos_edad_queretaro', 'df_grupos_edad_tulancingo', 'df_jul_2023_puebla', 'df_junio_2023_queretaro', 'df_publicacion_pachuca', 'df_publicacion_puebla', 'df_salarios_pachuca', 'df_sep_2023_puebla', 'df_tiempo_dias_tulancingo', 'df_usuarios']\n"
     ]
    }
   ],
   "source": [
    "# Obtener todos los nombres de las variables globales\n",
    "nombres_variables_globales = list(globals().keys())\n",
    "# Filtrar los nombres para obtener solo aquellos que comienzan con \"df_\"\n",
    "nombres_df = [nombre for nombre in nombres_variables_globales if nombre.startswith(\"df_\")]\n",
    "# Imprimir la lista de nombres de los DataFrames creados\n",
    "print(\"Lista de DataFrames creados:\")\n",
    "print(nombres_df)"
   ]
  },
  {
   "cell_type": "markdown",
   "metadata": {},
   "source": [
    "# **3.4 Forecast Monto de créditos generales. [TOTAL]**"
   ]
  },
  {
   "cell_type": "code",
   "execution_count": 35,
   "metadata": {},
   "outputs": [],
   "source": [
    "creditos_2019_pachuca = df_financiamientos_2019_pachuca[['id','año','mes','modalidad','monto']]\n",
    "creditos_2020_pachuca = df_financiamientos_2020_pachuca[['id','año','mes','modalidad','monto']]\n",
    "creditos_2021_pachuca = df_financiamientos_2021_pachuca[['id','año','mes','modalidad','monto']]\n",
    "creditos_2022_pachuca = df_financiamientos_2022_pachuca[['id','año','mes','modalidad','monto']]\n",
    "creditos_2023_pachuca = df_financiamientos_2023_pachuca[['id','año','mes','modalidad','monto']]"
   ]
  },
  {
   "cell_type": "code",
   "execution_count": 36,
   "metadata": {},
   "outputs": [
    {
     "data": {
      "text/html": [
       "<div>\n",
       "<style scoped>\n",
       "    .dataframe tbody tr th:only-of-type {\n",
       "        vertical-align: middle;\n",
       "    }\n",
       "\n",
       "    .dataframe tbody tr th {\n",
       "        vertical-align: top;\n",
       "    }\n",
       "\n",
       "    .dataframe thead th {\n",
       "        text-align: right;\n",
       "    }\n",
       "</style>\n",
       "<table border=\"1\" class=\"dataframe\">\n",
       "  <thead>\n",
       "    <tr style=\"text-align: right;\">\n",
       "      <th></th>\n",
       "      <th>año</th>\n",
       "      <th>mes</th>\n",
       "      <th>montos</th>\n",
       "    </tr>\n",
       "  </thead>\n",
       "  <tbody>\n",
       "    <tr>\n",
       "      <th>0</th>\n",
       "      <td>2019</td>\n",
       "      <td>1</td>\n",
       "      <td>1.027393e+08</td>\n",
       "    </tr>\n",
       "    <tr>\n",
       "      <th>1</th>\n",
       "      <td>2019</td>\n",
       "      <td>2</td>\n",
       "      <td>9.969129e+07</td>\n",
       "    </tr>\n",
       "    <tr>\n",
       "      <th>2</th>\n",
       "      <td>2019</td>\n",
       "      <td>3</td>\n",
       "      <td>1.120002e+08</td>\n",
       "    </tr>\n",
       "    <tr>\n",
       "      <th>3</th>\n",
       "      <td>2019</td>\n",
       "      <td>4</td>\n",
       "      <td>9.428530e+07</td>\n",
       "    </tr>\n",
       "    <tr>\n",
       "      <th>4</th>\n",
       "      <td>2019</td>\n",
       "      <td>5</td>\n",
       "      <td>1.177026e+08</td>\n",
       "    </tr>\n",
       "  </tbody>\n",
       "</table>\n",
       "</div>"
      ],
      "text/plain": [
       "    año  mes        montos\n",
       "0  2019    1  1.027393e+08\n",
       "1  2019    2  9.969129e+07\n",
       "2  2019    3  1.120002e+08\n",
       "3  2019    4  9.428530e+07\n",
       "4  2019    5  1.177026e+08"
      ]
     },
     "execution_count": 36,
     "metadata": {},
     "output_type": "execute_result"
    }
   ],
   "source": [
    "total_creditos_2019_pachuca = creditos_2019_pachuca.groupby('mes').sum().reset_index()\n",
    "total_creditos_2019_pachuca.rename(columns={'monto': 'montos'}, inplace=True)\n",
    "total_creditos_2019_pachuca['año'] = 2019\n",
    "total_creditos_2019_pachuca = total_creditos_2019_pachuca[['año', 'mes', 'montos']]\n",
    "\n",
    "total_creditos_2020_pachuca = creditos_2020_pachuca.groupby('mes').sum().reset_index()\n",
    "total_creditos_2020_pachuca.rename(columns={'monto': 'montos'}, inplace=True)\n",
    "total_creditos_2020_pachuca['año'] = 2020\n",
    "total_creditos_2020_pachuca = total_creditos_2020_pachuca[['año', 'mes', 'montos']]\n",
    "\n",
    "total_creditos_2021_pachuca = creditos_2021_pachuca.groupby('mes').sum().reset_index()\n",
    "total_creditos_2021_pachuca.rename(columns={'monto': 'montos'}, inplace=True)\n",
    "total_creditos_2021_pachuca['año'] = 2021\n",
    "total_creditos_2021_pachuca = total_creditos_2021_pachuca[['año', 'mes', 'montos']]\n",
    "\n",
    "total_creditos_2022_pachuca = creditos_2022_pachuca.groupby('mes').sum().reset_index()\n",
    "total_creditos_2022_pachuca.rename(columns={'monto': 'montos'}, inplace=True)\n",
    "total_creditos_2022_pachuca['año'] = 2022\n",
    "total_creditos_2022_pachuca = total_creditos_2022_pachuca[['año', 'mes', 'montos']]\n",
    "\n",
    "total_creditos_2023_pachuca = creditos_2023_pachuca.groupby('mes').sum().reset_index()\n",
    "total_creditos_2023_pachuca.rename(columns={'monto': 'montos'}, inplace=True)\n",
    "total_creditos_2023_pachuca['año'] = 2023\n",
    "total_creditos_2023_pachuca = total_creditos_2023_pachuca[['año', 'mes', 'montos']]\n",
    "\n",
    "total_conteo_creditos_pachuca = pd.concat([total_creditos_2019_pachuca, total_creditos_2020_pachuca, total_creditos_2021_pachuca, total_creditos_2022_pachuca, total_creditos_2023_pachuca], ignore_index=True)\n",
    "total_conteo_creditos_pachuca.head()"
   ]
  },
  {
   "cell_type": "code",
   "execution_count": 37,
   "metadata": {},
   "outputs": [
    {
     "data": {
      "text/html": [
       "<style>#sk-container-id-6 {color: black;background-color: white;}#sk-container-id-6 pre{padding: 0;}#sk-container-id-6 div.sk-toggleable {background-color: white;}#sk-container-id-6 label.sk-toggleable__label {cursor: pointer;display: block;width: 100%;margin-bottom: 0;padding: 0.3em;box-sizing: border-box;text-align: center;}#sk-container-id-6 label.sk-toggleable__label-arrow:before {content: \"▸\";float: left;margin-right: 0.25em;color: #696969;}#sk-container-id-6 label.sk-toggleable__label-arrow:hover:before {color: black;}#sk-container-id-6 div.sk-estimator:hover label.sk-toggleable__label-arrow:before {color: black;}#sk-container-id-6 div.sk-toggleable__content {max-height: 0;max-width: 0;overflow: hidden;text-align: left;background-color: #f0f8ff;}#sk-container-id-6 div.sk-toggleable__content pre {margin: 0.2em;color: black;border-radius: 0.25em;background-color: #f0f8ff;}#sk-container-id-6 input.sk-toggleable__control:checked~div.sk-toggleable__content {max-height: 200px;max-width: 100%;overflow: auto;}#sk-container-id-6 input.sk-toggleable__control:checked~label.sk-toggleable__label-arrow:before {content: \"▾\";}#sk-container-id-6 div.sk-estimator input.sk-toggleable__control:checked~label.sk-toggleable__label {background-color: #d4ebff;}#sk-container-id-6 div.sk-label input.sk-toggleable__control:checked~label.sk-toggleable__label {background-color: #d4ebff;}#sk-container-id-6 input.sk-hidden--visually {border: 0;clip: rect(1px 1px 1px 1px);clip: rect(1px, 1px, 1px, 1px);height: 1px;margin: -1px;overflow: hidden;padding: 0;position: absolute;width: 1px;}#sk-container-id-6 div.sk-estimator {font-family: monospace;background-color: #f0f8ff;border: 1px dotted black;border-radius: 0.25em;box-sizing: border-box;margin-bottom: 0.5em;}#sk-container-id-6 div.sk-estimator:hover {background-color: #d4ebff;}#sk-container-id-6 div.sk-parallel-item::after {content: \"\";width: 100%;border-bottom: 1px solid gray;flex-grow: 1;}#sk-container-id-6 div.sk-label:hover label.sk-toggleable__label {background-color: #d4ebff;}#sk-container-id-6 div.sk-serial::before {content: \"\";position: absolute;border-left: 1px solid gray;box-sizing: border-box;top: 0;bottom: 0;left: 50%;z-index: 0;}#sk-container-id-6 div.sk-serial {display: flex;flex-direction: column;align-items: center;background-color: white;padding-right: 0.2em;padding-left: 0.2em;position: relative;}#sk-container-id-6 div.sk-item {position: relative;z-index: 1;}#sk-container-id-6 div.sk-parallel {display: flex;align-items: stretch;justify-content: center;background-color: white;position: relative;}#sk-container-id-6 div.sk-item::before, #sk-container-id-6 div.sk-parallel-item::before {content: \"\";position: absolute;border-left: 1px solid gray;box-sizing: border-box;top: 0;bottom: 0;left: 50%;z-index: -1;}#sk-container-id-6 div.sk-parallel-item {display: flex;flex-direction: column;z-index: 1;position: relative;background-color: white;}#sk-container-id-6 div.sk-parallel-item:first-child::after {align-self: flex-end;width: 50%;}#sk-container-id-6 div.sk-parallel-item:last-child::after {align-self: flex-start;width: 50%;}#sk-container-id-6 div.sk-parallel-item:only-child::after {width: 0;}#sk-container-id-6 div.sk-dashed-wrapped {border: 1px dashed gray;margin: 0 0.4em 0.5em 0.4em;box-sizing: border-box;padding-bottom: 0.4em;background-color: white;}#sk-container-id-6 div.sk-label label {font-family: monospace;font-weight: bold;display: inline-block;line-height: 1.2em;}#sk-container-id-6 div.sk-label-container {text-align: center;}#sk-container-id-6 div.sk-container {/* jupyter's `normalize.less` sets `[hidden] { display: none; }` but bootstrap.min.css set `[hidden] { display: none !important; }` so we also need the `!important` here to be able to override the default hidden behavior on the sphinx rendered scikit-learn.org. See: https://github.com/scikit-learn/scikit-learn/issues/21755 */display: inline-block !important;position: relative;}#sk-container-id-6 div.sk-text-repr-fallback {display: none;}</style><div id=\"sk-container-id-6\" class=\"sk-top-container\"><div class=\"sk-text-repr-fallback\"><pre>LinearRegression()</pre><b>In a Jupyter environment, please rerun this cell to show the HTML representation or trust the notebook. <br />On GitHub, the HTML representation is unable to render, please try loading this page with nbviewer.org.</b></div><div class=\"sk-container\" hidden><div class=\"sk-item\"><div class=\"sk-estimator sk-toggleable\"><input class=\"sk-toggleable__control sk-hidden--visually\" id=\"sk-estimator-id-6\" type=\"checkbox\" checked><label for=\"sk-estimator-id-6\" class=\"sk-toggleable__label sk-toggleable__label-arrow\">LinearRegression</label><div class=\"sk-toggleable__content\"><pre>LinearRegression()</pre></div></div></div></div></div>"
      ],
      "text/plain": [
       "LinearRegression()"
      ]
     },
     "execution_count": 37,
     "metadata": {},
     "output_type": "execute_result"
    }
   ],
   "source": [
    "from sklearn.model_selection import train_test_split\n",
    "from sklearn.linear_model import LinearRegression\n",
    "import numpy as np\n",
    "\n",
    "# Preparar datos para el modelo\n",
    "X = total_conteo_creditos_pachuca[['año', 'mes']]\n",
    "y = total_conteo_creditos_pachuca['montos']\n",
    "# Dividir los datos en conjuntos de entrenamiento y prueba\n",
    "X_train, X_test, y_train, y_test = train_test_split(X, y, test_size=0.2, random_state=42)\n",
    "# Inicializar y entrenar el modelo de regresión lineal\n",
    "modelo = LinearRegression()\n",
    "modelo.fit(X_train, y_train)"
   ]
  },
  {
   "cell_type": "code",
   "execution_count": 38,
   "metadata": {},
   "outputs": [
    {
     "name": "stdout",
     "output_type": "stream",
     "text": [
      "Coeficiente de determinación (R^2): 0.1882772381902832\n",
      "Error cuadrático medio (MSE): 958188726459763.5\n",
      "Error absoluto medio (MAE): 24125674.20726629\n",
      "Raíz del error cuadrático medio (RMSE): 30954623.66852105\n"
     ]
    }
   ],
   "source": [
    "from sklearn.metrics import r2_score\n",
    "# Hacer predicciones en el conjunto de prueba\n",
    "y_pred = modelo.predict(X_test)\n",
    "# Calcular el coeficiente de determinación (R^2)\n",
    "r2 = r2_score(y_test, y_pred)\n",
    "print(\"Coeficiente de determinación (R^2):\", r2)\n",
    "\n",
    "from sklearn.metrics import mean_squared_error\n",
    "mse = mean_squared_error(y_test, y_pred)\n",
    "print(\"Error cuadrático medio (MSE):\", mse)\n",
    "\n",
    "from sklearn.metrics import mean_absolute_error\n",
    "mae = mean_absolute_error(y_test, y_pred)\n",
    "print(\"Error absoluto medio (MAE):\", mae)\n",
    "rmse = np.sqrt(mse)\n",
    "print(\"Raíz del error cuadrático medio (RMSE):\", rmse)"
   ]
  },
  {
   "cell_type": "code",
   "execution_count": 41,
   "metadata": {},
   "outputs": [
    {
     "data": {
      "text/html": [
       "<div>\n",
       "<style scoped>\n",
       "    .dataframe tbody tr th:only-of-type {\n",
       "        vertical-align: middle;\n",
       "    }\n",
       "\n",
       "    .dataframe tbody tr th {\n",
       "        vertical-align: top;\n",
       "    }\n",
       "\n",
       "    .dataframe thead th {\n",
       "        text-align: right;\n",
       "    }\n",
       "</style>\n",
       "<table border=\"1\" class=\"dataframe\">\n",
       "  <thead>\n",
       "    <tr style=\"text-align: right;\">\n",
       "      <th></th>\n",
       "      <th>año</th>\n",
       "      <th>montos</th>\n",
       "      <th>modalidad</th>\n",
       "    </tr>\n",
       "  </thead>\n",
       "  <tbody>\n",
       "    <tr>\n",
       "      <th>0</th>\n",
       "      <td>2019</td>\n",
       "      <td>1,476,067,496.32</td>\n",
       "      <td>Créditos (todos)</td>\n",
       "    </tr>\n",
       "    <tr>\n",
       "      <th>1</th>\n",
       "      <td>2020</td>\n",
       "      <td>1,596,425,866.54</td>\n",
       "      <td>Créditos (todos)</td>\n",
       "    </tr>\n",
       "    <tr>\n",
       "      <th>2</th>\n",
       "      <td>2021</td>\n",
       "      <td>2,050,344,728.76</td>\n",
       "      <td>Créditos (todos)</td>\n",
       "    </tr>\n",
       "    <tr>\n",
       "      <th>3</th>\n",
       "      <td>2022</td>\n",
       "      <td>2,184,952,825.06</td>\n",
       "      <td>Créditos (todos)</td>\n",
       "    </tr>\n",
       "    <tr>\n",
       "      <th>4</th>\n",
       "      <td>2023</td>\n",
       "      <td>1,961,167,179.95</td>\n",
       "      <td>Créditos (todos)</td>\n",
       "    </tr>\n",
       "    <tr>\n",
       "      <th>5</th>\n",
       "      <td>2024</td>\n",
       "      <td>2,334,991,621.86</td>\n",
       "      <td>Créditos (todos)</td>\n",
       "    </tr>\n",
       "    <tr>\n",
       "      <th>6</th>\n",
       "      <td>2025</td>\n",
       "      <td>2,498,514,183.70</td>\n",
       "      <td>Créditos (todos)</td>\n",
       "    </tr>\n",
       "    <tr>\n",
       "      <th>7</th>\n",
       "      <td>2026</td>\n",
       "      <td>2,662,036,745.55</td>\n",
       "      <td>Créditos (todos)</td>\n",
       "    </tr>\n",
       "  </tbody>\n",
       "</table>\n",
       "</div>"
      ],
      "text/plain": [
       "    año            montos         modalidad\n",
       "0  2019  1,476,067,496.32  Créditos (todos)\n",
       "1  2020  1,596,425,866.54  Créditos (todos)\n",
       "2  2021  2,050,344,728.76  Créditos (todos)\n",
       "3  2022  2,184,952,825.06  Créditos (todos)\n",
       "4  2023  1,961,167,179.95  Créditos (todos)\n",
       "5  2024  2,334,991,621.86  Créditos (todos)\n",
       "6  2025  2,498,514,183.70  Créditos (todos)\n",
       "7  2026  2,662,036,745.55  Créditos (todos)"
      ]
     },
     "execution_count": 41,
     "metadata": {},
     "output_type": "execute_result"
    }
   ],
   "source": [
    "# DF con todas las combinaciones posibles de año y mes para 2023 FALTANTES (AUG-DEC)\n",
    "fechas_2023 = pd.DataFrame({'año': np.repeat(2023, 5),\n",
    "                            'mes': range(8, 13)})\n",
    "\n",
    "# DF con todas las combinaciones posibles de año y mes para 2024-2026\n",
    "fechas_2024_2026 = pd.DataFrame({'año': np.repeat(range(2024, 2027), 12),\n",
    "                                  'mes': np.tile(range(1, 13), 3)})\n",
    "nuevas_fechas = pd.concat([fechas_2023, fechas_2024_2026]) # Concatenamos \n",
    "\n",
    "# Realizamos predicciones con el modelo entrenado\n",
    "predicciones = modelo.predict(nuevas_fechas)\n",
    "# Agregamos las predicciones al DataFrame de nuevas fechas\n",
    "nuevas_fechas['montos'] = predicciones\n",
    "total_pachuca = pd.concat([total_conteo_creditos_pachuca, nuevas_fechas], ignore_index=True)\n",
    "total_todos_pachuca = total_pachuca.groupby('año')['montos'].sum().reset_index()\n",
    "# Agregar una nueva columna 'vivienda' con el valor 'Usada'\n",
    "total_todos_pachuca['modalidad'] = 'Créditos (todos)'\n",
    "# Función para formatear números con separadores de coma y dos decimales\n",
    "def format_number(x):\n",
    "   return '{:,.2f}'.format(x)\n",
    "# Formatear la columna 'montos' con la función personalizada\n",
    "total_todos_pachuca['montos'] = total_todos_pachuca['montos'].map(format_number)\n",
    "total_todos_pachuca"
   ]
  },
  {
   "cell_type": "code",
   "execution_count": 44,
   "metadata": {},
   "outputs": [
    {
     "data": {
      "text/html": [
       "<div>\n",
       "<style scoped>\n",
       "    .dataframe tbody tr th:only-of-type {\n",
       "        vertical-align: middle;\n",
       "    }\n",
       "\n",
       "    .dataframe tbody tr th {\n",
       "        vertical-align: top;\n",
       "    }\n",
       "\n",
       "    .dataframe thead th {\n",
       "        text-align: right;\n",
       "    }\n",
       "</style>\n",
       "<table border=\"1\" class=\"dataframe\">\n",
       "  <thead>\n",
       "    <tr style=\"text-align: right;\">\n",
       "      <th></th>\n",
       "      <th>año</th>\n",
       "      <th>mes</th>\n",
       "      <th>montos</th>\n",
       "    </tr>\n",
       "  </thead>\n",
       "  <tbody>\n",
       "    <tr>\n",
       "      <th>0</th>\n",
       "      <td>2019</td>\n",
       "      <td>1</td>\n",
       "      <td>79550172.37</td>\n",
       "    </tr>\n",
       "    <tr>\n",
       "      <th>1</th>\n",
       "      <td>2019</td>\n",
       "      <td>2</td>\n",
       "      <td>68659337.43</td>\n",
       "    </tr>\n",
       "    <tr>\n",
       "      <th>2</th>\n",
       "      <td>2019</td>\n",
       "      <td>3</td>\n",
       "      <td>78133905.94</td>\n",
       "    </tr>\n",
       "    <tr>\n",
       "      <th>3</th>\n",
       "      <td>2019</td>\n",
       "      <td>4</td>\n",
       "      <td>65004112.92</td>\n",
       "    </tr>\n",
       "    <tr>\n",
       "      <th>4</th>\n",
       "      <td>2019</td>\n",
       "      <td>5</td>\n",
       "      <td>70421224.44</td>\n",
       "    </tr>\n",
       "  </tbody>\n",
       "</table>\n",
       "</div>"
      ],
      "text/plain": [
       "    año  mes       montos\n",
       "0  2019    1  79550172.37\n",
       "1  2019    2  68659337.43\n",
       "2  2019    3  78133905.94\n",
       "3  2019    4  65004112.92\n",
       "4  2019    5  70421224.44"
      ]
     },
     "execution_count": 44,
     "metadata": {},
     "output_type": "execute_result"
    }
   ],
   "source": [
    "# Filtrar los datos donde 'modalidad' sea igual a '1'\n",
    "creditos_2019_pachuca_modalidad_1 = creditos_2019_pachuca[creditos_2019_pachuca['modalidad'] == 1]\n",
    "# Agrupar por mes y sumar los montos\n",
    "total_creditos_2019_pachuca = creditos_2019_pachuca_modalidad_1.groupby('mes')['monto'].sum().reset_index()\n",
    "total_creditos_2019_pachuca.rename(columns={'monto': 'montos'}, inplace=True)\n",
    "total_creditos_2019_pachuca['año'] = 2019\n",
    "total_creditos_2019_pachuca = total_creditos_2019_pachuca[['año', 'mes', 'montos']] # Reordenar las columnas\n",
    "\n",
    "# Filtrar los datos donde 'modalidad' sea igual a '1'\n",
    "creditos_2020_pachuca_modalidad_1 = creditos_2020_pachuca[creditos_2020_pachuca['modalidad'] == 1]\n",
    "# Agrupar por mes y sumar los montos\n",
    "total_creditos_2020_pachuca = creditos_2020_pachuca_modalidad_1.groupby('mes')['monto'].sum().reset_index()\n",
    "total_creditos_2020_pachuca.rename(columns={'monto': 'montos'}, inplace=True)\n",
    "total_creditos_2020_pachuca['año'] = 2020\n",
    "total_creditos_2020_pachuca = total_creditos_2020_pachuca[['año', 'mes', 'montos']] # Reordenar las columnas\n",
    "\n",
    "# Filtrar los datos donde 'modalidad' sea igual a '1'\n",
    "creditos_2021_pachuca_modalidad_1 = creditos_2021_pachuca[creditos_2021_pachuca['modalidad'] == 1]\n",
    "# Agrupar por mes y sumar los montos\n",
    "total_creditos_2021_pachuca = creditos_2021_pachuca_modalidad_1.groupby('mes')['monto'].sum().reset_index()\n",
    "total_creditos_2021_pachuca.rename(columns={'monto': 'montos'}, inplace=True)\n",
    "total_creditos_2021_pachuca['año'] = 2021\n",
    "total_creditos_2021_pachuca = total_creditos_2021_pachuca[['año', 'mes', 'montos']] # Reordenar las columnas\n",
    "\n",
    "# Filtrar los datos donde 'modalidad' sea igual a '1'\n",
    "creditos_2022_pachuca_modalidad_1 = creditos_2022_pachuca[creditos_2022_pachuca['modalidad'] == 1]\n",
    "# Agrupar por mes y sumar los montos\n",
    "total_creditos_2022_pachuca = creditos_2022_pachuca_modalidad_1.groupby('mes')['monto'].sum().reset_index()\n",
    "total_creditos_2022_pachuca.rename(columns={'monto': 'montos'}, inplace=True)\n",
    "total_creditos_2022_pachuca['año'] = 2022\n",
    "total_creditos_2022_pachuca = total_creditos_2022_pachuca[['año', 'mes', 'montos']] # Reordenar las columnas\n",
    "\n",
    "# Filtrar los datos donde 'modalidad' sea igual a '1'\n",
    "creditos_2023_pachuca_modalidad_1 = creditos_2023_pachuca[creditos_2023_pachuca['modalidad'] == 1]\n",
    "# Agrupar por mes y sumar los montos\n",
    "total_creditos_2023_pachuca = creditos_2023_pachuca_modalidad_1.groupby('mes')['monto'].sum().reset_index()\n",
    "total_creditos_2023_pachuca.rename(columns={'monto': 'montos'}, inplace=True)\n",
    "total_creditos_2023_pachuca['año'] = 2023\n",
    "total_creditos_2023_pachuca = total_creditos_2023_pachuca[['año', 'mes', 'montos']] # Reordenar las columnas\n",
    "\n",
    "total_creditos_nueva_pachuca = pd.concat([total_creditos_2019_pachuca, total_creditos_2020_pachuca, total_creditos_2021_pachuca, total_creditos_2022_pachuca, total_creditos_2023_pachuca], ignore_index=True)\n",
    "total_creditos_nueva_pachuca.head()"
   ]
  },
  {
   "cell_type": "code",
   "execution_count": 45,
   "metadata": {},
   "outputs": [
    {
     "data": {
      "text/html": [
       "<style>#sk-container-id-7 {color: black;background-color: white;}#sk-container-id-7 pre{padding: 0;}#sk-container-id-7 div.sk-toggleable {background-color: white;}#sk-container-id-7 label.sk-toggleable__label {cursor: pointer;display: block;width: 100%;margin-bottom: 0;padding: 0.3em;box-sizing: border-box;text-align: center;}#sk-container-id-7 label.sk-toggleable__label-arrow:before {content: \"▸\";float: left;margin-right: 0.25em;color: #696969;}#sk-container-id-7 label.sk-toggleable__label-arrow:hover:before {color: black;}#sk-container-id-7 div.sk-estimator:hover label.sk-toggleable__label-arrow:before {color: black;}#sk-container-id-7 div.sk-toggleable__content {max-height: 0;max-width: 0;overflow: hidden;text-align: left;background-color: #f0f8ff;}#sk-container-id-7 div.sk-toggleable__content pre {margin: 0.2em;color: black;border-radius: 0.25em;background-color: #f0f8ff;}#sk-container-id-7 input.sk-toggleable__control:checked~div.sk-toggleable__content {max-height: 200px;max-width: 100%;overflow: auto;}#sk-container-id-7 input.sk-toggleable__control:checked~label.sk-toggleable__label-arrow:before {content: \"▾\";}#sk-container-id-7 div.sk-estimator input.sk-toggleable__control:checked~label.sk-toggleable__label {background-color: #d4ebff;}#sk-container-id-7 div.sk-label input.sk-toggleable__control:checked~label.sk-toggleable__label {background-color: #d4ebff;}#sk-container-id-7 input.sk-hidden--visually {border: 0;clip: rect(1px 1px 1px 1px);clip: rect(1px, 1px, 1px, 1px);height: 1px;margin: -1px;overflow: hidden;padding: 0;position: absolute;width: 1px;}#sk-container-id-7 div.sk-estimator {font-family: monospace;background-color: #f0f8ff;border: 1px dotted black;border-radius: 0.25em;box-sizing: border-box;margin-bottom: 0.5em;}#sk-container-id-7 div.sk-estimator:hover {background-color: #d4ebff;}#sk-container-id-7 div.sk-parallel-item::after {content: \"\";width: 100%;border-bottom: 1px solid gray;flex-grow: 1;}#sk-container-id-7 div.sk-label:hover label.sk-toggleable__label {background-color: #d4ebff;}#sk-container-id-7 div.sk-serial::before {content: \"\";position: absolute;border-left: 1px solid gray;box-sizing: border-box;top: 0;bottom: 0;left: 50%;z-index: 0;}#sk-container-id-7 div.sk-serial {display: flex;flex-direction: column;align-items: center;background-color: white;padding-right: 0.2em;padding-left: 0.2em;position: relative;}#sk-container-id-7 div.sk-item {position: relative;z-index: 1;}#sk-container-id-7 div.sk-parallel {display: flex;align-items: stretch;justify-content: center;background-color: white;position: relative;}#sk-container-id-7 div.sk-item::before, #sk-container-id-7 div.sk-parallel-item::before {content: \"\";position: absolute;border-left: 1px solid gray;box-sizing: border-box;top: 0;bottom: 0;left: 50%;z-index: -1;}#sk-container-id-7 div.sk-parallel-item {display: flex;flex-direction: column;z-index: 1;position: relative;background-color: white;}#sk-container-id-7 div.sk-parallel-item:first-child::after {align-self: flex-end;width: 50%;}#sk-container-id-7 div.sk-parallel-item:last-child::after {align-self: flex-start;width: 50%;}#sk-container-id-7 div.sk-parallel-item:only-child::after {width: 0;}#sk-container-id-7 div.sk-dashed-wrapped {border: 1px dashed gray;margin: 0 0.4em 0.5em 0.4em;box-sizing: border-box;padding-bottom: 0.4em;background-color: white;}#sk-container-id-7 div.sk-label label {font-family: monospace;font-weight: bold;display: inline-block;line-height: 1.2em;}#sk-container-id-7 div.sk-label-container {text-align: center;}#sk-container-id-7 div.sk-container {/* jupyter's `normalize.less` sets `[hidden] { display: none; }` but bootstrap.min.css set `[hidden] { display: none !important; }` so we also need the `!important` here to be able to override the default hidden behavior on the sphinx rendered scikit-learn.org. See: https://github.com/scikit-learn/scikit-learn/issues/21755 */display: inline-block !important;position: relative;}#sk-container-id-7 div.sk-text-repr-fallback {display: none;}</style><div id=\"sk-container-id-7\" class=\"sk-top-container\"><div class=\"sk-text-repr-fallback\"><pre>LinearRegression()</pre><b>In a Jupyter environment, please rerun this cell to show the HTML representation or trust the notebook. <br />On GitHub, the HTML representation is unable to render, please try loading this page with nbviewer.org.</b></div><div class=\"sk-container\" hidden><div class=\"sk-item\"><div class=\"sk-estimator sk-toggleable\"><input class=\"sk-toggleable__control sk-hidden--visually\" id=\"sk-estimator-id-7\" type=\"checkbox\" checked><label for=\"sk-estimator-id-7\" class=\"sk-toggleable__label sk-toggleable__label-arrow\">LinearRegression</label><div class=\"sk-toggleable__content\"><pre>LinearRegression()</pre></div></div></div></div></div>"
      ],
      "text/plain": [
       "LinearRegression()"
      ]
     },
     "execution_count": 45,
     "metadata": {},
     "output_type": "execute_result"
    }
   ],
   "source": [
    "from sklearn.model_selection import train_test_split\n",
    "from sklearn.linear_model import LinearRegression\n",
    "import numpy as np\n",
    "\n",
    "# Preparar datos para el modelo\n",
    "X = total_creditos_nueva_pachuca[['año', 'mes']]\n",
    "y = total_creditos_nueva_pachuca['montos']\n",
    "# Dividir los datos en conjuntos de entrenamiento y prueba\n",
    "X_train, X_test, y_train, y_test = train_test_split(X, y, test_size=0.2, random_state=42)\n",
    "# Inicializar y entrenar el modelo de regresión lineal\n",
    "modelo = LinearRegression()\n",
    "modelo.fit(X_train, y_train)"
   ]
  },
  {
   "cell_type": "code",
   "execution_count": 46,
   "metadata": {},
   "outputs": [
    {
     "name": "stdout",
     "output_type": "stream",
     "text": [
      "Coeficiente de determinación (R^2): -0.01703058558648607\n",
      "Error cuadrático medio (MSE): 508649519469343.44\n",
      "Error absoluto medio (MAE): 14959219.968036445\n",
      "Raíz del error cuadrático medio (RMSE): 22553259.619605843\n"
     ]
    }
   ],
   "source": [
    "from sklearn.metrics import r2_score\n",
    "# Hacer predicciones en el conjunto de prueba\n",
    "y_pred = modelo.predict(X_test)\n",
    "# Calcular el coeficiente de determinación (R^2)\n",
    "r2 = r2_score(y_test, y_pred)\n",
    "print(\"Coeficiente de determinación (R^2):\", r2)\n",
    "\n",
    "from sklearn.metrics import mean_squared_error\n",
    "mse = mean_squared_error(y_test, y_pred)\n",
    "print(\"Error cuadrático medio (MSE):\", mse)\n",
    "\n",
    "from sklearn.metrics import mean_absolute_error\n",
    "mae = mean_absolute_error(y_test, y_pred)\n",
    "print(\"Error absoluto medio (MAE):\", mae)\n",
    "rmse = np.sqrt(mse)\n",
    "print(\"Raíz del error cuadrático medio (RMSE):\", rmse)"
   ]
  },
  {
   "cell_type": "code",
   "execution_count": 47,
   "metadata": {},
   "outputs": [
    {
     "data": {
      "text/html": [
       "<div>\n",
       "<style scoped>\n",
       "    .dataframe tbody tr th:only-of-type {\n",
       "        vertical-align: middle;\n",
       "    }\n",
       "\n",
       "    .dataframe tbody tr th {\n",
       "        vertical-align: top;\n",
       "    }\n",
       "\n",
       "    .dataframe thead th {\n",
       "        text-align: right;\n",
       "    }\n",
       "</style>\n",
       "<table border=\"1\" class=\"dataframe\">\n",
       "  <thead>\n",
       "    <tr style=\"text-align: right;\">\n",
       "      <th></th>\n",
       "      <th>año</th>\n",
       "      <th>montos</th>\n",
       "      <th>modalidad</th>\n",
       "    </tr>\n",
       "  </thead>\n",
       "  <tbody>\n",
       "    <tr>\n",
       "      <th>0</th>\n",
       "      <td>2019</td>\n",
       "      <td>1,030,751,267.28</td>\n",
       "      <td>Nueva</td>\n",
       "    </tr>\n",
       "    <tr>\n",
       "      <th>1</th>\n",
       "      <td>2020</td>\n",
       "      <td>1,079,870,382.75</td>\n",
       "      <td>Nueva</td>\n",
       "    </tr>\n",
       "    <tr>\n",
       "      <th>2</th>\n",
       "      <td>2021</td>\n",
       "      <td>1,224,540,479.98</td>\n",
       "      <td>Nueva</td>\n",
       "    </tr>\n",
       "    <tr>\n",
       "      <th>3</th>\n",
       "      <td>2022</td>\n",
       "      <td>1,207,403,961.25</td>\n",
       "      <td>Nueva</td>\n",
       "    </tr>\n",
       "    <tr>\n",
       "      <th>4</th>\n",
       "      <td>2023</td>\n",
       "      <td>1,035,283,198.58</td>\n",
       "      <td>Nueva</td>\n",
       "    </tr>\n",
       "    <tr>\n",
       "      <th>5</th>\n",
       "      <td>2024</td>\n",
       "      <td>1,167,387,411.17</td>\n",
       "      <td>Nueva</td>\n",
       "    </tr>\n",
       "    <tr>\n",
       "      <th>6</th>\n",
       "      <td>2025</td>\n",
       "      <td>1,187,948,514.65</td>\n",
       "      <td>Nueva</td>\n",
       "    </tr>\n",
       "    <tr>\n",
       "      <th>7</th>\n",
       "      <td>2026</td>\n",
       "      <td>1,208,509,618.13</td>\n",
       "      <td>Nueva</td>\n",
       "    </tr>\n",
       "  </tbody>\n",
       "</table>\n",
       "</div>"
      ],
      "text/plain": [
       "    año            montos modalidad\n",
       "0  2019  1,030,751,267.28     Nueva\n",
       "1  2020  1,079,870,382.75     Nueva\n",
       "2  2021  1,224,540,479.98     Nueva\n",
       "3  2022  1,207,403,961.25     Nueva\n",
       "4  2023  1,035,283,198.58     Nueva\n",
       "5  2024  1,167,387,411.17     Nueva\n",
       "6  2025  1,187,948,514.65     Nueva\n",
       "7  2026  1,208,509,618.13     Nueva"
      ]
     },
     "execution_count": 47,
     "metadata": {},
     "output_type": "execute_result"
    }
   ],
   "source": [
    "# DF con todas las combinaciones posibles de año y mes para 2023 FALTANTES (AUG-DEC)\n",
    "fechas_2023 = pd.DataFrame({'año': np.repeat(2023, 5),\n",
    "                            'mes': range(8, 13)})\n",
    "\n",
    "# DF con todas las combinaciones posibles de año y mes para 2024-2026\n",
    "fechas_2024_2026 = pd.DataFrame({'año': np.repeat(range(2024, 2027), 12),\n",
    "                                  'mes': np.tile(range(1, 13), 3)})\n",
    "nuevas_fechas_nueva = pd.concat([fechas_2023, fechas_2024_2026]) # Concatenamos \n",
    "\n",
    "# Realizamos predicciones con el modelo entrenado\n",
    "predicciones = modelo.predict(nuevas_fechas_nueva)\n",
    "# Agregamos las predicciones al DataFrame de nuevas fechas\n",
    "nuevas_fechas_nueva['montos'] = predicciones\n",
    "total_nueva_pachuca = pd.concat([total_creditos_nueva_pachuca, nuevas_fechas_nueva], ignore_index=True)\n",
    "total_nueva_pachuca = total_nueva_pachuca.groupby('año')['montos'].sum().reset_index()\n",
    "# Agregar una nueva columna 'vivienda' con el valor 'Usada'\n",
    "total_nueva_pachuca['modalidad'] = 'Nueva'\n",
    "# Función para formatear números con separadores de coma y dos decimales\n",
    "def format_number(x):\n",
    "   return '{:,.2f}'.format(x)\n",
    "total_nueva_pachuca['montos'] = total_nueva_pachuca['montos'].map(format_number)\n",
    "total_nueva_pachuca"
   ]
  },
  {
   "cell_type": "code",
   "execution_count": 48,
   "metadata": {},
   "outputs": [
    {
     "data": {
      "text/html": [
       "<div>\n",
       "<style scoped>\n",
       "    .dataframe tbody tr th:only-of-type {\n",
       "        vertical-align: middle;\n",
       "    }\n",
       "\n",
       "    .dataframe tbody tr th {\n",
       "        vertical-align: top;\n",
       "    }\n",
       "\n",
       "    .dataframe thead th {\n",
       "        text-align: right;\n",
       "    }\n",
       "</style>\n",
       "<table border=\"1\" class=\"dataframe\">\n",
       "  <thead>\n",
       "    <tr style=\"text-align: right;\">\n",
       "      <th></th>\n",
       "      <th>año</th>\n",
       "      <th>mes</th>\n",
       "      <th>montos</th>\n",
       "    </tr>\n",
       "  </thead>\n",
       "  <tbody>\n",
       "    <tr>\n",
       "      <th>0</th>\n",
       "      <td>2019</td>\n",
       "      <td>1</td>\n",
       "      <td>18394326.86</td>\n",
       "    </tr>\n",
       "    <tr>\n",
       "      <th>1</th>\n",
       "      <td>2019</td>\n",
       "      <td>2</td>\n",
       "      <td>28519033.44</td>\n",
       "    </tr>\n",
       "    <tr>\n",
       "      <th>2</th>\n",
       "      <td>2019</td>\n",
       "      <td>3</td>\n",
       "      <td>27727681.21</td>\n",
       "    </tr>\n",
       "    <tr>\n",
       "      <th>3</th>\n",
       "      <td>2019</td>\n",
       "      <td>4</td>\n",
       "      <td>27303028.49</td>\n",
       "    </tr>\n",
       "    <tr>\n",
       "      <th>4</th>\n",
       "      <td>2019</td>\n",
       "      <td>5</td>\n",
       "      <td>38099339.14</td>\n",
       "    </tr>\n",
       "  </tbody>\n",
       "</table>\n",
       "</div>"
      ],
      "text/plain": [
       "    año  mes       montos\n",
       "0  2019    1  18394326.86\n",
       "1  2019    2  28519033.44\n",
       "2  2019    3  27727681.21\n",
       "3  2019    4  27303028.49\n",
       "4  2019    5  38099339.14"
      ]
     },
     "execution_count": 48,
     "metadata": {},
     "output_type": "execute_result"
    }
   ],
   "source": [
    "# Filtrar los datos donde 'modalidad' sea igual a '3'\n",
    "creditos_2019_pachuca_modalidad_3 = creditos_2019_pachuca[creditos_2019_pachuca['modalidad'] == 3]\n",
    "# Agrupar por mes y sumar los montos\n",
    "total_creditos_2019_pachuca = creditos_2019_pachuca_modalidad_3.groupby('mes')['monto'].sum().reset_index()\n",
    "total_creditos_2019_pachuca.rename(columns={'monto': 'montos'}, inplace=True)\n",
    "total_creditos_2019_pachuca['año'] = 2019\n",
    "total_creditos_2019_pachuca = total_creditos_2019_pachuca[['año', 'mes', 'montos']] # Reordenar las columnas\n",
    "\n",
    "# Filtrar los datos donde 'modalidad' sea igual a '3'\n",
    "creditos_2020_pachuca_modalidad_3 = creditos_2020_pachuca[creditos_2020_pachuca['modalidad'] == 3]\n",
    "# Agrupar por mes y sumar los montos\n",
    "total_creditos_2020_pachuca = creditos_2020_pachuca_modalidad_3.groupby('mes')['monto'].sum().reset_index()\n",
    "total_creditos_2020_pachuca.rename(columns={'monto': 'montos'}, inplace=True)\n",
    "total_creditos_2020_pachuca['año'] = 2020\n",
    "total_creditos_2020_pachuca = total_creditos_2020_pachuca[['año', 'mes', 'montos']] # Reordenar las columnas\n",
    "\n",
    "creditos_2021_pachuca_modalidad_3 = creditos_2021_pachuca[creditos_2021_pachuca['modalidad'] == 3]\n",
    "# Agrupar por mes y sumar los montos\n",
    "total_creditos_2021_pachuca = creditos_2021_pachuca_modalidad_3.groupby('mes')['monto'].sum().reset_index()\n",
    "total_creditos_2021_pachuca.rename(columns={'monto': 'montos'}, inplace=True)\n",
    "total_creditos_2021_pachuca['año'] = 2021\n",
    "total_creditos_2021_pachuca = total_creditos_2021_pachuca[['año', 'mes', 'montos']] # Reordenar las columnas\n",
    "\n",
    "creditos_2022_pachuca_modalidad_3 = creditos_2022_pachuca[creditos_2022_pachuca['modalidad'] == 3]\n",
    "# Agrupar por mes y sumar los montos\n",
    "total_creditos_2022_pachuca = creditos_2022_pachuca_modalidad_3.groupby('mes')['monto'].sum().reset_index()\n",
    "total_creditos_2022_pachuca.rename(columns={'monto': 'montos'}, inplace=True)\n",
    "total_creditos_2022_pachuca['año'] = 2022\n",
    "total_creditos_2022_pachuca = total_creditos_2022_pachuca[['año', 'mes', 'montos']] # Reordenar las columnas\n",
    "\n",
    "creditos_2023_pachuca_modalidad_3 = creditos_2023_pachuca[creditos_2023_pachuca['modalidad'] == 3]\n",
    "# Agrupar por mes y sumar los montos\n",
    "total_creditos_2023_pachuca = creditos_2023_pachuca_modalidad_3.groupby('mes')['monto'].sum().reset_index()\n",
    "total_creditos_2023_pachuca.rename(columns={'monto': 'montos'}, inplace=True)\n",
    "total_creditos_2023_pachuca['año'] = 2023\n",
    "total_creditos_2023_pachuca = total_creditos_2023_pachuca[['año', 'mes', 'montos']] # Reordenar las columnas\n",
    "\n",
    "total_creditos_usada_pachuca = pd.concat([total_creditos_2019_pachuca, total_creditos_2020_pachuca, total_creditos_2021_pachuca, total_creditos_2022_pachuca, total_creditos_2023_pachuca], ignore_index=True)\n",
    "total_creditos_usada_pachuca.head()"
   ]
  },
  {
   "cell_type": "code",
   "execution_count": 49,
   "metadata": {},
   "outputs": [
    {
     "data": {
      "text/html": [
       "<style>#sk-container-id-8 {color: black;background-color: white;}#sk-container-id-8 pre{padding: 0;}#sk-container-id-8 div.sk-toggleable {background-color: white;}#sk-container-id-8 label.sk-toggleable__label {cursor: pointer;display: block;width: 100%;margin-bottom: 0;padding: 0.3em;box-sizing: border-box;text-align: center;}#sk-container-id-8 label.sk-toggleable__label-arrow:before {content: \"▸\";float: left;margin-right: 0.25em;color: #696969;}#sk-container-id-8 label.sk-toggleable__label-arrow:hover:before {color: black;}#sk-container-id-8 div.sk-estimator:hover label.sk-toggleable__label-arrow:before {color: black;}#sk-container-id-8 div.sk-toggleable__content {max-height: 0;max-width: 0;overflow: hidden;text-align: left;background-color: #f0f8ff;}#sk-container-id-8 div.sk-toggleable__content pre {margin: 0.2em;color: black;border-radius: 0.25em;background-color: #f0f8ff;}#sk-container-id-8 input.sk-toggleable__control:checked~div.sk-toggleable__content {max-height: 200px;max-width: 100%;overflow: auto;}#sk-container-id-8 input.sk-toggleable__control:checked~label.sk-toggleable__label-arrow:before {content: \"▾\";}#sk-container-id-8 div.sk-estimator input.sk-toggleable__control:checked~label.sk-toggleable__label {background-color: #d4ebff;}#sk-container-id-8 div.sk-label input.sk-toggleable__control:checked~label.sk-toggleable__label {background-color: #d4ebff;}#sk-container-id-8 input.sk-hidden--visually {border: 0;clip: rect(1px 1px 1px 1px);clip: rect(1px, 1px, 1px, 1px);height: 1px;margin: -1px;overflow: hidden;padding: 0;position: absolute;width: 1px;}#sk-container-id-8 div.sk-estimator {font-family: monospace;background-color: #f0f8ff;border: 1px dotted black;border-radius: 0.25em;box-sizing: border-box;margin-bottom: 0.5em;}#sk-container-id-8 div.sk-estimator:hover {background-color: #d4ebff;}#sk-container-id-8 div.sk-parallel-item::after {content: \"\";width: 100%;border-bottom: 1px solid gray;flex-grow: 1;}#sk-container-id-8 div.sk-label:hover label.sk-toggleable__label {background-color: #d4ebff;}#sk-container-id-8 div.sk-serial::before {content: \"\";position: absolute;border-left: 1px solid gray;box-sizing: border-box;top: 0;bottom: 0;left: 50%;z-index: 0;}#sk-container-id-8 div.sk-serial {display: flex;flex-direction: column;align-items: center;background-color: white;padding-right: 0.2em;padding-left: 0.2em;position: relative;}#sk-container-id-8 div.sk-item {position: relative;z-index: 1;}#sk-container-id-8 div.sk-parallel {display: flex;align-items: stretch;justify-content: center;background-color: white;position: relative;}#sk-container-id-8 div.sk-item::before, #sk-container-id-8 div.sk-parallel-item::before {content: \"\";position: absolute;border-left: 1px solid gray;box-sizing: border-box;top: 0;bottom: 0;left: 50%;z-index: -1;}#sk-container-id-8 div.sk-parallel-item {display: flex;flex-direction: column;z-index: 1;position: relative;background-color: white;}#sk-container-id-8 div.sk-parallel-item:first-child::after {align-self: flex-end;width: 50%;}#sk-container-id-8 div.sk-parallel-item:last-child::after {align-self: flex-start;width: 50%;}#sk-container-id-8 div.sk-parallel-item:only-child::after {width: 0;}#sk-container-id-8 div.sk-dashed-wrapped {border: 1px dashed gray;margin: 0 0.4em 0.5em 0.4em;box-sizing: border-box;padding-bottom: 0.4em;background-color: white;}#sk-container-id-8 div.sk-label label {font-family: monospace;font-weight: bold;display: inline-block;line-height: 1.2em;}#sk-container-id-8 div.sk-label-container {text-align: center;}#sk-container-id-8 div.sk-container {/* jupyter's `normalize.less` sets `[hidden] { display: none; }` but bootstrap.min.css set `[hidden] { display: none !important; }` so we also need the `!important` here to be able to override the default hidden behavior on the sphinx rendered scikit-learn.org. See: https://github.com/scikit-learn/scikit-learn/issues/21755 */display: inline-block !important;position: relative;}#sk-container-id-8 div.sk-text-repr-fallback {display: none;}</style><div id=\"sk-container-id-8\" class=\"sk-top-container\"><div class=\"sk-text-repr-fallback\"><pre>LinearRegression()</pre><b>In a Jupyter environment, please rerun this cell to show the HTML representation or trust the notebook. <br />On GitHub, the HTML representation is unable to render, please try loading this page with nbviewer.org.</b></div><div class=\"sk-container\" hidden><div class=\"sk-item\"><div class=\"sk-estimator sk-toggleable\"><input class=\"sk-toggleable__control sk-hidden--visually\" id=\"sk-estimator-id-8\" type=\"checkbox\" checked><label for=\"sk-estimator-id-8\" class=\"sk-toggleable__label sk-toggleable__label-arrow\">LinearRegression</label><div class=\"sk-toggleable__content\"><pre>LinearRegression()</pre></div></div></div></div></div>"
      ],
      "text/plain": [
       "LinearRegression()"
      ]
     },
     "execution_count": 49,
     "metadata": {},
     "output_type": "execute_result"
    }
   ],
   "source": [
    "from sklearn.model_selection import train_test_split\n",
    "from sklearn.linear_model import LinearRegression\n",
    "import numpy as np\n",
    "# Preparar datos para el modelo\n",
    "X = total_creditos_usada_pachuca[['año', 'mes']]\n",
    "y = total_creditos_usada_pachuca['montos']\n",
    "# Dividir los datos en conjuntos de entrenamiento y prueba\n",
    "X_train, X_test, y_train, y_test = train_test_split(X, y, test_size=0.2, random_state=42)\n",
    "# Inicializar y entrenar el modelo de regresión lineal\n",
    "modelo = LinearRegression()\n",
    "modelo.fit(X_train, y_train)"
   ]
  },
  {
   "cell_type": "code",
   "execution_count": 50,
   "metadata": {},
   "outputs": [
    {
     "name": "stdout",
     "output_type": "stream",
     "text": [
      "Coeficiente de determinación (R^2): 0.23282011825675786\n",
      "Error cuadrático medio (MSE): 125208338348372.6\n",
      "Error absoluto medio (MAE): 8364801.243545852\n",
      "Raíz del error cuadrático medio (RMSE): 11189653.182667129\n"
     ]
    }
   ],
   "source": [
    "from sklearn.metrics import r2_score\n",
    "# Hacer predicciones en el conjunto de prueba\n",
    "y_pred = modelo.predict(X_test)\n",
    "# Calcular el coeficiente de determinación (R^2)\n",
    "r2 = r2_score(y_test, y_pred)\n",
    "print(\"Coeficiente de determinación (R^2):\", r2)\n",
    "\n",
    "from sklearn.metrics import mean_squared_error\n",
    "mse = mean_squared_error(y_test, y_pred)\n",
    "print(\"Error cuadrático medio (MSE):\", mse)\n",
    "\n",
    "from sklearn.metrics import mean_absolute_error\n",
    "mae = mean_absolute_error(y_test, y_pred)\n",
    "print(\"Error absoluto medio (MAE):\", mae)\n",
    "rmse = np.sqrt(mse)\n",
    "print(\"Raíz del error cuadrático medio (RMSE):\", rmse)"
   ]
  },
  {
   "cell_type": "code",
   "execution_count": 51,
   "metadata": {},
   "outputs": [
    {
     "data": {
      "text/html": [
       "<div>\n",
       "<style scoped>\n",
       "    .dataframe tbody tr th:only-of-type {\n",
       "        vertical-align: middle;\n",
       "    }\n",
       "\n",
       "    .dataframe tbody tr th {\n",
       "        vertical-align: top;\n",
       "    }\n",
       "\n",
       "    .dataframe thead th {\n",
       "        text-align: right;\n",
       "    }\n",
       "</style>\n",
       "<table border=\"1\" class=\"dataframe\">\n",
       "  <thead>\n",
       "    <tr style=\"text-align: right;\">\n",
       "      <th></th>\n",
       "      <th>año</th>\n",
       "      <th>montos</th>\n",
       "      <th>modalidad</th>\n",
       "    </tr>\n",
       "  </thead>\n",
       "  <tbody>\n",
       "    <tr>\n",
       "      <th>0</th>\n",
       "      <td>2019</td>\n",
       "      <td>379,265,106.59</td>\n",
       "      <td>Usada</td>\n",
       "    </tr>\n",
       "    <tr>\n",
       "      <th>1</th>\n",
       "      <td>2020</td>\n",
       "      <td>417,268,347.54</td>\n",
       "      <td>Usada</td>\n",
       "    </tr>\n",
       "    <tr>\n",
       "      <th>2</th>\n",
       "      <td>2021</td>\n",
       "      <td>628,208,169.74</td>\n",
       "      <td>Usada</td>\n",
       "    </tr>\n",
       "    <tr>\n",
       "      <th>3</th>\n",
       "      <td>2022</td>\n",
       "      <td>838,394,556.75</td>\n",
       "      <td>Usada</td>\n",
       "    </tr>\n",
       "    <tr>\n",
       "      <th>4</th>\n",
       "      <td>2023</td>\n",
       "      <td>791,909,895.45</td>\n",
       "      <td>Usada</td>\n",
       "    </tr>\n",
       "    <tr>\n",
       "      <th>5</th>\n",
       "      <td>2024</td>\n",
       "      <td>1,005,829,390.08</td>\n",
       "      <td>Usada</td>\n",
       "    </tr>\n",
       "    <tr>\n",
       "      <th>6</th>\n",
       "      <td>2025</td>\n",
       "      <td>1,134,795,117.70</td>\n",
       "      <td>Usada</td>\n",
       "    </tr>\n",
       "    <tr>\n",
       "      <th>7</th>\n",
       "      <td>2026</td>\n",
       "      <td>1,263,760,845.32</td>\n",
       "      <td>Usada</td>\n",
       "    </tr>\n",
       "  </tbody>\n",
       "</table>\n",
       "</div>"
      ],
      "text/plain": [
       "    año            montos modalidad\n",
       "0  2019    379,265,106.59     Usada\n",
       "1  2020    417,268,347.54     Usada\n",
       "2  2021    628,208,169.74     Usada\n",
       "3  2022    838,394,556.75     Usada\n",
       "4  2023    791,909,895.45     Usada\n",
       "5  2024  1,005,829,390.08     Usada\n",
       "6  2025  1,134,795,117.70     Usada\n",
       "7  2026  1,263,760,845.32     Usada"
      ]
     },
     "execution_count": 51,
     "metadata": {},
     "output_type": "execute_result"
    }
   ],
   "source": [
    "# DF con todas las combinaciones posibles de año y mes para 2023 FALTANTES (AUG-DEC)\n",
    "fechas_2023 = pd.DataFrame({'año': np.repeat(2023, 5),\n",
    "                            'mes': range(8, 13)})\n",
    "\n",
    "# DF con todas las combinaciones posibles de año y mes para 2024-2026\n",
    "fechas_2024_2026 = pd.DataFrame({'año': np.repeat(range(2024, 2027), 12),\n",
    "                                  'mes': np.tile(range(1, 13), 3)})\n",
    "nuevas_fechas_usada = pd.concat([fechas_2023, fechas_2024_2026]) # Concatenamos \n",
    "\n",
    "# Realizamos predicciones con el modelo entrenado\n",
    "predicciones = modelo.predict(nuevas_fechas_usada)\n",
    "# Agregamos las predicciones al DataFrame de nuevas fechas\n",
    "nuevas_fechas_usada['montos'] = predicciones\n",
    "total_usada_pachuca = pd.concat([total_creditos_usada_pachuca, nuevas_fechas_usada], ignore_index=True)\n",
    "total_usada_pachuca = total_usada_pachuca.groupby('año')['montos'].sum().reset_index()\n",
    "# Agregar una nueva columna 'vivienda' con el valor 'Usada'\n",
    "total_usada_pachuca['modalidad'] = 'Usada'\n",
    "# Función para formatear números con separadores de coma y dos decimales\n",
    "def format_number(x):\n",
    "   return '{:,.2f}'.format(x)\n",
    "total_usada_pachuca['montos'] = total_usada_pachuca['montos'].map(format_number)\n",
    "total_usada_pachuca"
   ]
  },
  {
   "cell_type": "code",
   "execution_count": 52,
   "metadata": {},
   "outputs": [
    {
     "data": {
      "application/vnd.plotly.v1+json": {
       "config": {
        "plotlyServerURL": "https://plot.ly"
       },
       "data": [
        {
         "mode": "markers+lines",
         "name": "Créditos (todos)",
         "type": "scatter",
         "x": [
          2019,
          2020,
          2021,
          2022,
          2023,
          2024,
          2025,
          2026
         ],
         "y": [
          1476067496.32,
          1596425866.54,
          2050344728.76,
          2184952825.06,
          1961167179.95,
          2334991621.86,
          2498514183.7,
          2662036745.55
         ]
        },
        {
         "mode": "markers+lines",
         "name": "Nueva",
         "type": "scatter",
         "x": [
          2019,
          2020,
          2021,
          2022,
          2023,
          2024,
          2025,
          2026
         ],
         "y": [
          1030751267.28,
          1079870382.75,
          1224540479.98,
          1207403961.25,
          1035283198.58,
          1167387411.17,
          1187948514.65,
          1208509618.13
         ]
        },
        {
         "mode": "markers+lines",
         "name": "Usada",
         "type": "scatter",
         "x": [
          2019,
          2020,
          2021,
          2022,
          2023,
          2024,
          2025,
          2026
         ],
         "y": [
          379265106.59,
          417268347.54,
          628208169.74,
          838394556.75,
          791909895.45,
          1005829390.08,
          1134795117.7,
          1263760845.32
         ]
        }
       ],
       "layout": {
        "annotations": [
         {
          "font": {
           "color": "black",
           "size": 10
          },
          "showarrow": false,
          "text": "1,476,067,496.32",
          "x": 2019,
          "y": 1476067496.32,
          "yshift": 10
         },
         {
          "font": {
           "color": "black",
           "size": 10
          },
          "showarrow": false,
          "text": "1,596,425,866.54",
          "x": 2020,
          "y": 1596425866.54,
          "yshift": 10
         },
         {
          "font": {
           "color": "black",
           "size": 10
          },
          "showarrow": false,
          "text": "2,050,344,728.76",
          "x": 2021,
          "y": 2050344728.76,
          "yshift": 10
         },
         {
          "font": {
           "color": "black",
           "size": 10
          },
          "showarrow": false,
          "text": "2,184,952,825.06",
          "x": 2022,
          "y": 2184952825.06,
          "yshift": 10
         },
         {
          "font": {
           "color": "black",
           "size": 10
          },
          "showarrow": false,
          "text": "1,961,167,179.95",
          "x": 2023,
          "y": 1961167179.95,
          "yshift": 10
         },
         {
          "font": {
           "color": "black",
           "size": 10
          },
          "showarrow": false,
          "text": "2,334,991,621.86",
          "x": 2024,
          "y": 2334991621.86,
          "yshift": 10
         },
         {
          "font": {
           "color": "black",
           "size": 10
          },
          "showarrow": false,
          "text": "2,498,514,183.70",
          "x": 2025,
          "y": 2498514183.7,
          "yshift": 10
         },
         {
          "font": {
           "color": "black",
           "size": 10
          },
          "showarrow": false,
          "text": "2,662,036,745.55",
          "x": 2026,
          "y": 2662036745.55,
          "yshift": 10
         },
         {
          "font": {
           "color": "black",
           "size": 10
          },
          "showarrow": false,
          "text": "1,030,751,267.28",
          "x": 2019,
          "y": 1030751267.28,
          "yshift": 10
         },
         {
          "font": {
           "color": "black",
           "size": 10
          },
          "showarrow": false,
          "text": "1,079,870,382.75",
          "x": 2020,
          "y": 1079870382.75,
          "yshift": 10
         },
         {
          "font": {
           "color": "black",
           "size": 10
          },
          "showarrow": false,
          "text": "1,224,540,479.98",
          "x": 2021,
          "y": 1224540479.98,
          "yshift": 10
         },
         {
          "font": {
           "color": "black",
           "size": 10
          },
          "showarrow": false,
          "text": "1,207,403,961.25",
          "x": 2022,
          "y": 1207403961.25,
          "yshift": 10
         },
         {
          "font": {
           "color": "black",
           "size": 10
          },
          "showarrow": false,
          "text": "1,035,283,198.58",
          "x": 2023,
          "y": 1035283198.58,
          "yshift": 10
         },
         {
          "font": {
           "color": "black",
           "size": 10
          },
          "showarrow": false,
          "text": "1,167,387,411.17",
          "x": 2024,
          "y": 1167387411.17,
          "yshift": 10
         },
         {
          "font": {
           "color": "black",
           "size": 10
          },
          "showarrow": false,
          "text": "1,187,948,514.65",
          "x": 2025,
          "y": 1187948514.65,
          "yshift": 10
         },
         {
          "font": {
           "color": "black",
           "size": 10
          },
          "showarrow": false,
          "text": "1,208,509,618.13",
          "x": 2026,
          "y": 1208509618.13,
          "yshift": 10
         },
         {
          "font": {
           "color": "black",
           "size": 10
          },
          "showarrow": false,
          "text": "379,265,106.59",
          "x": 2019,
          "y": 379265106.59,
          "yshift": 10
         },
         {
          "font": {
           "color": "black",
           "size": 10
          },
          "showarrow": false,
          "text": "417,268,347.54",
          "x": 2020,
          "y": 417268347.54,
          "yshift": 10
         },
         {
          "font": {
           "color": "black",
           "size": 10
          },
          "showarrow": false,
          "text": "628,208,169.74",
          "x": 2021,
          "y": 628208169.74,
          "yshift": 10
         },
         {
          "font": {
           "color": "black",
           "size": 10
          },
          "showarrow": false,
          "text": "838,394,556.75",
          "x": 2022,
          "y": 838394556.75,
          "yshift": 10
         },
         {
          "font": {
           "color": "black",
           "size": 10
          },
          "showarrow": false,
          "text": "791,909,895.45",
          "x": 2023,
          "y": 791909895.45,
          "yshift": 10
         },
         {
          "font": {
           "color": "black",
           "size": 10
          },
          "showarrow": false,
          "text": "1,005,829,390.08",
          "x": 2024,
          "y": 1005829390.08,
          "yshift": 10
         },
         {
          "font": {
           "color": "black",
           "size": 10
          },
          "showarrow": false,
          "text": "1,134,795,117.70",
          "x": 2025,
          "y": 1134795117.7,
          "yshift": 10
         },
         {
          "font": {
           "color": "black",
           "size": 10
          },
          "showarrow": false,
          "text": "1,263,760,845.32",
          "x": 2026,
          "y": 1263760845.32,
          "yshift": 10
         }
        ],
        "plot_bgcolor": "rgba(0,0,0,0)",
        "template": {
         "data": {
          "bar": [
           {
            "error_x": {
             "color": "#2a3f5f"
            },
            "error_y": {
             "color": "#2a3f5f"
            },
            "marker": {
             "line": {
              "color": "#E5ECF6",
              "width": 0.5
             },
             "pattern": {
              "fillmode": "overlay",
              "size": 10,
              "solidity": 0.2
             }
            },
            "type": "bar"
           }
          ],
          "barpolar": [
           {
            "marker": {
             "line": {
              "color": "#E5ECF6",
              "width": 0.5
             },
             "pattern": {
              "fillmode": "overlay",
              "size": 10,
              "solidity": 0.2
             }
            },
            "type": "barpolar"
           }
          ],
          "carpet": [
           {
            "aaxis": {
             "endlinecolor": "#2a3f5f",
             "gridcolor": "white",
             "linecolor": "white",
             "minorgridcolor": "white",
             "startlinecolor": "#2a3f5f"
            },
            "baxis": {
             "endlinecolor": "#2a3f5f",
             "gridcolor": "white",
             "linecolor": "white",
             "minorgridcolor": "white",
             "startlinecolor": "#2a3f5f"
            },
            "type": "carpet"
           }
          ],
          "choropleth": [
           {
            "colorbar": {
             "outlinewidth": 0,
             "ticks": ""
            },
            "type": "choropleth"
           }
          ],
          "contour": [
           {
            "colorbar": {
             "outlinewidth": 0,
             "ticks": ""
            },
            "colorscale": [
             [
              0,
              "#0d0887"
             ],
             [
              0.1111111111111111,
              "#46039f"
             ],
             [
              0.2222222222222222,
              "#7201a8"
             ],
             [
              0.3333333333333333,
              "#9c179e"
             ],
             [
              0.4444444444444444,
              "#bd3786"
             ],
             [
              0.5555555555555556,
              "#d8576b"
             ],
             [
              0.6666666666666666,
              "#ed7953"
             ],
             [
              0.7777777777777778,
              "#fb9f3a"
             ],
             [
              0.8888888888888888,
              "#fdca26"
             ],
             [
              1,
              "#f0f921"
             ]
            ],
            "type": "contour"
           }
          ],
          "contourcarpet": [
           {
            "colorbar": {
             "outlinewidth": 0,
             "ticks": ""
            },
            "type": "contourcarpet"
           }
          ],
          "heatmap": [
           {
            "colorbar": {
             "outlinewidth": 0,
             "ticks": ""
            },
            "colorscale": [
             [
              0,
              "#0d0887"
             ],
             [
              0.1111111111111111,
              "#46039f"
             ],
             [
              0.2222222222222222,
              "#7201a8"
             ],
             [
              0.3333333333333333,
              "#9c179e"
             ],
             [
              0.4444444444444444,
              "#bd3786"
             ],
             [
              0.5555555555555556,
              "#d8576b"
             ],
             [
              0.6666666666666666,
              "#ed7953"
             ],
             [
              0.7777777777777778,
              "#fb9f3a"
             ],
             [
              0.8888888888888888,
              "#fdca26"
             ],
             [
              1,
              "#f0f921"
             ]
            ],
            "type": "heatmap"
           }
          ],
          "heatmapgl": [
           {
            "colorbar": {
             "outlinewidth": 0,
             "ticks": ""
            },
            "colorscale": [
             [
              0,
              "#0d0887"
             ],
             [
              0.1111111111111111,
              "#46039f"
             ],
             [
              0.2222222222222222,
              "#7201a8"
             ],
             [
              0.3333333333333333,
              "#9c179e"
             ],
             [
              0.4444444444444444,
              "#bd3786"
             ],
             [
              0.5555555555555556,
              "#d8576b"
             ],
             [
              0.6666666666666666,
              "#ed7953"
             ],
             [
              0.7777777777777778,
              "#fb9f3a"
             ],
             [
              0.8888888888888888,
              "#fdca26"
             ],
             [
              1,
              "#f0f921"
             ]
            ],
            "type": "heatmapgl"
           }
          ],
          "histogram": [
           {
            "marker": {
             "pattern": {
              "fillmode": "overlay",
              "size": 10,
              "solidity": 0.2
             }
            },
            "type": "histogram"
           }
          ],
          "histogram2d": [
           {
            "colorbar": {
             "outlinewidth": 0,
             "ticks": ""
            },
            "colorscale": [
             [
              0,
              "#0d0887"
             ],
             [
              0.1111111111111111,
              "#46039f"
             ],
             [
              0.2222222222222222,
              "#7201a8"
             ],
             [
              0.3333333333333333,
              "#9c179e"
             ],
             [
              0.4444444444444444,
              "#bd3786"
             ],
             [
              0.5555555555555556,
              "#d8576b"
             ],
             [
              0.6666666666666666,
              "#ed7953"
             ],
             [
              0.7777777777777778,
              "#fb9f3a"
             ],
             [
              0.8888888888888888,
              "#fdca26"
             ],
             [
              1,
              "#f0f921"
             ]
            ],
            "type": "histogram2d"
           }
          ],
          "histogram2dcontour": [
           {
            "colorbar": {
             "outlinewidth": 0,
             "ticks": ""
            },
            "colorscale": [
             [
              0,
              "#0d0887"
             ],
             [
              0.1111111111111111,
              "#46039f"
             ],
             [
              0.2222222222222222,
              "#7201a8"
             ],
             [
              0.3333333333333333,
              "#9c179e"
             ],
             [
              0.4444444444444444,
              "#bd3786"
             ],
             [
              0.5555555555555556,
              "#d8576b"
             ],
             [
              0.6666666666666666,
              "#ed7953"
             ],
             [
              0.7777777777777778,
              "#fb9f3a"
             ],
             [
              0.8888888888888888,
              "#fdca26"
             ],
             [
              1,
              "#f0f921"
             ]
            ],
            "type": "histogram2dcontour"
           }
          ],
          "mesh3d": [
           {
            "colorbar": {
             "outlinewidth": 0,
             "ticks": ""
            },
            "type": "mesh3d"
           }
          ],
          "parcoords": [
           {
            "line": {
             "colorbar": {
              "outlinewidth": 0,
              "ticks": ""
             }
            },
            "type": "parcoords"
           }
          ],
          "pie": [
           {
            "automargin": true,
            "type": "pie"
           }
          ],
          "scatter": [
           {
            "fillpattern": {
             "fillmode": "overlay",
             "size": 10,
             "solidity": 0.2
            },
            "type": "scatter"
           }
          ],
          "scatter3d": [
           {
            "line": {
             "colorbar": {
              "outlinewidth": 0,
              "ticks": ""
             }
            },
            "marker": {
             "colorbar": {
              "outlinewidth": 0,
              "ticks": ""
             }
            },
            "type": "scatter3d"
           }
          ],
          "scattercarpet": [
           {
            "marker": {
             "colorbar": {
              "outlinewidth": 0,
              "ticks": ""
             }
            },
            "type": "scattercarpet"
           }
          ],
          "scattergeo": [
           {
            "marker": {
             "colorbar": {
              "outlinewidth": 0,
              "ticks": ""
             }
            },
            "type": "scattergeo"
           }
          ],
          "scattergl": [
           {
            "marker": {
             "colorbar": {
              "outlinewidth": 0,
              "ticks": ""
             }
            },
            "type": "scattergl"
           }
          ],
          "scattermapbox": [
           {
            "marker": {
             "colorbar": {
              "outlinewidth": 0,
              "ticks": ""
             }
            },
            "type": "scattermapbox"
           }
          ],
          "scatterpolar": [
           {
            "marker": {
             "colorbar": {
              "outlinewidth": 0,
              "ticks": ""
             }
            },
            "type": "scatterpolar"
           }
          ],
          "scatterpolargl": [
           {
            "marker": {
             "colorbar": {
              "outlinewidth": 0,
              "ticks": ""
             }
            },
            "type": "scatterpolargl"
           }
          ],
          "scatterternary": [
           {
            "marker": {
             "colorbar": {
              "outlinewidth": 0,
              "ticks": ""
             }
            },
            "type": "scatterternary"
           }
          ],
          "surface": [
           {
            "colorbar": {
             "outlinewidth": 0,
             "ticks": ""
            },
            "colorscale": [
             [
              0,
              "#0d0887"
             ],
             [
              0.1111111111111111,
              "#46039f"
             ],
             [
              0.2222222222222222,
              "#7201a8"
             ],
             [
              0.3333333333333333,
              "#9c179e"
             ],
             [
              0.4444444444444444,
              "#bd3786"
             ],
             [
              0.5555555555555556,
              "#d8576b"
             ],
             [
              0.6666666666666666,
              "#ed7953"
             ],
             [
              0.7777777777777778,
              "#fb9f3a"
             ],
             [
              0.8888888888888888,
              "#fdca26"
             ],
             [
              1,
              "#f0f921"
             ]
            ],
            "type": "surface"
           }
          ],
          "table": [
           {
            "cells": {
             "fill": {
              "color": "#EBF0F8"
             },
             "line": {
              "color": "white"
             }
            },
            "header": {
             "fill": {
              "color": "#C8D4E3"
             },
             "line": {
              "color": "white"
             }
            },
            "type": "table"
           }
          ]
         },
         "layout": {
          "annotationdefaults": {
           "arrowcolor": "#2a3f5f",
           "arrowhead": 0,
           "arrowwidth": 1
          },
          "autotypenumbers": "strict",
          "coloraxis": {
           "colorbar": {
            "outlinewidth": 0,
            "ticks": ""
           }
          },
          "colorscale": {
           "diverging": [
            [
             0,
             "#8e0152"
            ],
            [
             0.1,
             "#c51b7d"
            ],
            [
             0.2,
             "#de77ae"
            ],
            [
             0.3,
             "#f1b6da"
            ],
            [
             0.4,
             "#fde0ef"
            ],
            [
             0.5,
             "#f7f7f7"
            ],
            [
             0.6,
             "#e6f5d0"
            ],
            [
             0.7,
             "#b8e186"
            ],
            [
             0.8,
             "#7fbc41"
            ],
            [
             0.9,
             "#4d9221"
            ],
            [
             1,
             "#276419"
            ]
           ],
           "sequential": [
            [
             0,
             "#0d0887"
            ],
            [
             0.1111111111111111,
             "#46039f"
            ],
            [
             0.2222222222222222,
             "#7201a8"
            ],
            [
             0.3333333333333333,
             "#9c179e"
            ],
            [
             0.4444444444444444,
             "#bd3786"
            ],
            [
             0.5555555555555556,
             "#d8576b"
            ],
            [
             0.6666666666666666,
             "#ed7953"
            ],
            [
             0.7777777777777778,
             "#fb9f3a"
            ],
            [
             0.8888888888888888,
             "#fdca26"
            ],
            [
             1,
             "#f0f921"
            ]
           ],
           "sequentialminus": [
            [
             0,
             "#0d0887"
            ],
            [
             0.1111111111111111,
             "#46039f"
            ],
            [
             0.2222222222222222,
             "#7201a8"
            ],
            [
             0.3333333333333333,
             "#9c179e"
            ],
            [
             0.4444444444444444,
             "#bd3786"
            ],
            [
             0.5555555555555556,
             "#d8576b"
            ],
            [
             0.6666666666666666,
             "#ed7953"
            ],
            [
             0.7777777777777778,
             "#fb9f3a"
            ],
            [
             0.8888888888888888,
             "#fdca26"
            ],
            [
             1,
             "#f0f921"
            ]
           ]
          },
          "colorway": [
           "#636efa",
           "#EF553B",
           "#00cc96",
           "#ab63fa",
           "#FFA15A",
           "#19d3f3",
           "#FF6692",
           "#B6E880",
           "#FF97FF",
           "#FECB52"
          ],
          "font": {
           "color": "#2a3f5f"
          },
          "geo": {
           "bgcolor": "white",
           "lakecolor": "white",
           "landcolor": "#E5ECF6",
           "showlakes": true,
           "showland": true,
           "subunitcolor": "white"
          },
          "hoverlabel": {
           "align": "left"
          },
          "hovermode": "closest",
          "mapbox": {
           "style": "light"
          },
          "paper_bgcolor": "white",
          "plot_bgcolor": "#E5ECF6",
          "polar": {
           "angularaxis": {
            "gridcolor": "white",
            "linecolor": "white",
            "ticks": ""
           },
           "bgcolor": "#E5ECF6",
           "radialaxis": {
            "gridcolor": "white",
            "linecolor": "white",
            "ticks": ""
           }
          },
          "scene": {
           "xaxis": {
            "backgroundcolor": "#E5ECF6",
            "gridcolor": "white",
            "gridwidth": 2,
            "linecolor": "white",
            "showbackground": true,
            "ticks": "",
            "zerolinecolor": "white"
           },
           "yaxis": {
            "backgroundcolor": "#E5ECF6",
            "gridcolor": "white",
            "gridwidth": 2,
            "linecolor": "white",
            "showbackground": true,
            "ticks": "",
            "zerolinecolor": "white"
           },
           "zaxis": {
            "backgroundcolor": "#E5ECF6",
            "gridcolor": "white",
            "gridwidth": 2,
            "linecolor": "white",
            "showbackground": true,
            "ticks": "",
            "zerolinecolor": "white"
           }
          },
          "shapedefaults": {
           "line": {
            "color": "#2a3f5f"
           }
          },
          "ternary": {
           "aaxis": {
            "gridcolor": "white",
            "linecolor": "white",
            "ticks": ""
           },
           "baxis": {
            "gridcolor": "white",
            "linecolor": "white",
            "ticks": ""
           },
           "bgcolor": "#E5ECF6",
           "caxis": {
            "gridcolor": "white",
            "linecolor": "white",
            "ticks": ""
           }
          },
          "title": {
           "x": 0.05
          },
          "xaxis": {
           "automargin": true,
           "gridcolor": "white",
           "linecolor": "white",
           "ticks": "",
           "title": {
            "standoff": 15
           },
           "zerolinecolor": "white",
           "zerolinewidth": 2
          },
          "yaxis": {
           "automargin": true,
           "gridcolor": "white",
           "linecolor": "white",
           "ticks": "",
           "title": {
            "standoff": 15
           },
           "zerolinecolor": "white",
           "zerolinewidth": 2
          }
         }
        },
        "title": {
         "text": "Monto total anual"
        },
        "yaxis": {
         "gridcolor": "#dddcda"
        }
       }
      }
     },
     "metadata": {},
     "output_type": "display_data"
    }
   ],
   "source": [
    "forecast_creditosgral_totales_pachuca = pd.concat([total_todos_pachuca, total_nueva_pachuca,total_usada_pachuca], ignore_index=True)\n",
    "# Datos\n",
    "trimestres = forecast_creditosgral_totales_pachuca['año']\n",
    "modalidades = forecast_creditosgral_totales_pachuca['modalidad']\n",
    "montos = forecast_creditosgral_totales_pachuca['montos']\n",
    "\n",
    "# Limpiar las cadenas de montos y convertirlas a números\n",
    "promedios_limpios = [float(montos.replace(',', '')) for montos in montos]\n",
    "\n",
    "fig = go.Figure()\n",
    "# Agregar líneas para cada modalidad\n",
    "for modalidad in modalidades.unique():\n",
    "    df_modalidad = forecast_creditosgral_totales_pachuca[forecast_creditosgral_totales_pachuca['modalidad'] == modalidad]\n",
    "    fig.add_trace(go.Scatter(\n",
    "        x=df_modalidad['año'],\n",
    "        y=df_modalidad['montos'].apply(lambda x: float(x.replace(',', ''))),  # Usar los montos limpios\n",
    "        mode='markers+lines',\n",
    "        name=modalidad\n",
    "    ))\n",
    "\n",
    "fig.update_layout(\n",
    "    title='Monto total anual',\n",
    "    yaxis=dict(gridcolor='#dddcda'),\n",
    "    plot_bgcolor='rgba(0,0,0,0)',  # Color de fondo del gráfico\n",
    ")\n",
    "\n",
    "# Agregar etiquetas de texto a los puntos\n",
    "for trace in fig.data:\n",
    "    df_modalidad = forecast_creditosgral_totales_pachuca[forecast_creditosgral_totales_pachuca['modalidad'] == trace.name]\n",
    "    for i, point in enumerate(trace.y):\n",
    "        fig.add_annotation(\n",
    "            x=trace.x[i], \n",
    "            y=point, \n",
    "            text=f'{df_modalidad.iloc[i][\"montos\"]}', \n",
    "            showarrow=False,\n",
    "            font=dict(color='black', size=10),\n",
    "            yshift=10\n",
    "        )\n",
    "\n",
    "# Exportar gráfica como archivo HTML\n",
    "def guardar_grafico_como_html(fig, nombre_archivo, carpeta='graficas'):\n",
    "    # Crear la carpeta si no existe\n",
    "    if not os.path.exists(carpeta):\n",
    "        os.makedirs(carpeta)\n",
    "    \n",
    "    # Gráfica como archivo HTML en la carpeta especificada\n",
    "    pio.write_html(fig, f'{carpeta}/{nombre_archivo}.html')\n",
    "\n",
    "guardar_grafico_como_html(fig, 'g_scatt_forecastcreditgral_total_pachuca', carpeta='graficas')\n",
    "fig.show()"
   ]
  },
  {
   "cell_type": "markdown",
   "metadata": {},
   "source": [
    "# **3.4 Forecast Monto de créditos generales. [PROMEDIO]**"
   ]
  },
  {
   "cell_type": "code",
   "execution_count": 53,
   "metadata": {},
   "outputs": [],
   "source": [
    "creditos_2019_pachuca = df_financiamientos_2019_pachuca[['id','año','mes','modalidad','monto']]\n",
    "creditos_2020_pachuca = df_financiamientos_2020_pachuca[['id','año','mes','modalidad','monto']]\n",
    "creditos_2021_pachuca = df_financiamientos_2021_pachuca[['id','año','mes','modalidad','monto']]\n",
    "creditos_2022_pachuca = df_financiamientos_2022_pachuca[['id','año','mes','modalidad','monto']]\n",
    "creditos_2023_pachuca = df_financiamientos_2023_pachuca[['id','año','mes','modalidad','monto']]"
   ]
  },
  {
   "cell_type": "code",
   "execution_count": 54,
   "metadata": {},
   "outputs": [
    {
     "data": {
      "text/html": [
       "<div>\n",
       "<style scoped>\n",
       "    .dataframe tbody tr th:only-of-type {\n",
       "        vertical-align: middle;\n",
       "    }\n",
       "\n",
       "    .dataframe tbody tr th {\n",
       "        vertical-align: top;\n",
       "    }\n",
       "\n",
       "    .dataframe thead th {\n",
       "        text-align: right;\n",
       "    }\n",
       "</style>\n",
       "<table border=\"1\" class=\"dataframe\">\n",
       "  <thead>\n",
       "    <tr style=\"text-align: right;\">\n",
       "      <th></th>\n",
       "      <th>año</th>\n",
       "      <th>mes</th>\n",
       "      <th>montos</th>\n",
       "    </tr>\n",
       "  </thead>\n",
       "  <tbody>\n",
       "    <tr>\n",
       "      <th>0</th>\n",
       "      <td>2019</td>\n",
       "      <td>1</td>\n",
       "      <td>1.317171e+06</td>\n",
       "    </tr>\n",
       "    <tr>\n",
       "      <th>1</th>\n",
       "      <td>2019</td>\n",
       "      <td>2</td>\n",
       "      <td>1.145877e+06</td>\n",
       "    </tr>\n",
       "    <tr>\n",
       "      <th>2</th>\n",
       "      <td>2019</td>\n",
       "      <td>3</td>\n",
       "      <td>1.272730e+06</td>\n",
       "    </tr>\n",
       "    <tr>\n",
       "      <th>3</th>\n",
       "      <td>2019</td>\n",
       "      <td>4</td>\n",
       "      <td>1.193485e+06</td>\n",
       "    </tr>\n",
       "    <tr>\n",
       "      <th>4</th>\n",
       "      <td>2019</td>\n",
       "      <td>5</td>\n",
       "      <td>1.142744e+06</td>\n",
       "    </tr>\n",
       "  </tbody>\n",
       "</table>\n",
       "</div>"
      ],
      "text/plain": [
       "    año  mes        montos\n",
       "0  2019    1  1.317171e+06\n",
       "1  2019    2  1.145877e+06\n",
       "2  2019    3  1.272730e+06\n",
       "3  2019    4  1.193485e+06\n",
       "4  2019    5  1.142744e+06"
      ]
     },
     "execution_count": 54,
     "metadata": {},
     "output_type": "execute_result"
    }
   ],
   "source": [
    "total_creditos_2019_pachuca = creditos_2019_pachuca.groupby('mes').mean().reset_index()\n",
    "total_creditos_2019_pachuca.rename(columns={'monto': 'montos'}, inplace=True)\n",
    "total_creditos_2019_pachuca['año'] = 2019\n",
    "total_creditos_2019_pachuca = total_creditos_2019_pachuca[['año', 'mes', 'montos']]\n",
    "\n",
    "total_creditos_2020_pachuca = creditos_2020_pachuca.groupby('mes').mean().reset_index()\n",
    "total_creditos_2020_pachuca.rename(columns={'monto': 'montos'}, inplace=True)\n",
    "total_creditos_2020_pachuca['año'] = 2020\n",
    "total_creditos_2020_pachuca = total_creditos_2020_pachuca[['año', 'mes', 'montos']]\n",
    "\n",
    "total_creditos_2021_pachuca = creditos_2021_pachuca.groupby('mes').mean().reset_index()\n",
    "total_creditos_2021_pachuca.rename(columns={'monto': 'montos'}, inplace=True)\n",
    "total_creditos_2021_pachuca['año'] = 2021\n",
    "total_creditos_2021_pachuca = total_creditos_2021_pachuca[['año', 'mes', 'montos']]\n",
    "\n",
    "total_creditos_2022_pachuca = creditos_2022_pachuca.groupby('mes').mean().reset_index()\n",
    "total_creditos_2022_pachuca.rename(columns={'monto': 'montos'}, inplace=True)\n",
    "total_creditos_2022_pachuca['año'] = 2022\n",
    "total_creditos_2022_pachuca = total_creditos_2022_pachuca[['año', 'mes', 'montos']]\n",
    "\n",
    "total_creditos_2023_pachuca = creditos_2023_pachuca.groupby('mes').mean().reset_index()\n",
    "total_creditos_2023_pachuca.rename(columns={'monto': 'montos'}, inplace=True)\n",
    "total_creditos_2023_pachuca['año'] = 2023\n",
    "total_creditos_2023_pachuca = total_creditos_2023_pachuca[['año', 'mes', 'montos']]\n",
    "\n",
    "total_conteo_creditos_pachuca = pd.concat([total_creditos_2019_pachuca, total_creditos_2020_pachuca, total_creditos_2021_pachuca, total_creditos_2022_pachuca, total_creditos_2023_pachuca], ignore_index=True)\n",
    "total_conteo_creditos_pachuca.head()"
   ]
  },
  {
   "cell_type": "code",
   "execution_count": 55,
   "metadata": {},
   "outputs": [
    {
     "data": {
      "text/html": [
       "<style>#sk-container-id-9 {color: black;background-color: white;}#sk-container-id-9 pre{padding: 0;}#sk-container-id-9 div.sk-toggleable {background-color: white;}#sk-container-id-9 label.sk-toggleable__label {cursor: pointer;display: block;width: 100%;margin-bottom: 0;padding: 0.3em;box-sizing: border-box;text-align: center;}#sk-container-id-9 label.sk-toggleable__label-arrow:before {content: \"▸\";float: left;margin-right: 0.25em;color: #696969;}#sk-container-id-9 label.sk-toggleable__label-arrow:hover:before {color: black;}#sk-container-id-9 div.sk-estimator:hover label.sk-toggleable__label-arrow:before {color: black;}#sk-container-id-9 div.sk-toggleable__content {max-height: 0;max-width: 0;overflow: hidden;text-align: left;background-color: #f0f8ff;}#sk-container-id-9 div.sk-toggleable__content pre {margin: 0.2em;color: black;border-radius: 0.25em;background-color: #f0f8ff;}#sk-container-id-9 input.sk-toggleable__control:checked~div.sk-toggleable__content {max-height: 200px;max-width: 100%;overflow: auto;}#sk-container-id-9 input.sk-toggleable__control:checked~label.sk-toggleable__label-arrow:before {content: \"▾\";}#sk-container-id-9 div.sk-estimator input.sk-toggleable__control:checked~label.sk-toggleable__label {background-color: #d4ebff;}#sk-container-id-9 div.sk-label input.sk-toggleable__control:checked~label.sk-toggleable__label {background-color: #d4ebff;}#sk-container-id-9 input.sk-hidden--visually {border: 0;clip: rect(1px 1px 1px 1px);clip: rect(1px, 1px, 1px, 1px);height: 1px;margin: -1px;overflow: hidden;padding: 0;position: absolute;width: 1px;}#sk-container-id-9 div.sk-estimator {font-family: monospace;background-color: #f0f8ff;border: 1px dotted black;border-radius: 0.25em;box-sizing: border-box;margin-bottom: 0.5em;}#sk-container-id-9 div.sk-estimator:hover {background-color: #d4ebff;}#sk-container-id-9 div.sk-parallel-item::after {content: \"\";width: 100%;border-bottom: 1px solid gray;flex-grow: 1;}#sk-container-id-9 div.sk-label:hover label.sk-toggleable__label {background-color: #d4ebff;}#sk-container-id-9 div.sk-serial::before {content: \"\";position: absolute;border-left: 1px solid gray;box-sizing: border-box;top: 0;bottom: 0;left: 50%;z-index: 0;}#sk-container-id-9 div.sk-serial {display: flex;flex-direction: column;align-items: center;background-color: white;padding-right: 0.2em;padding-left: 0.2em;position: relative;}#sk-container-id-9 div.sk-item {position: relative;z-index: 1;}#sk-container-id-9 div.sk-parallel {display: flex;align-items: stretch;justify-content: center;background-color: white;position: relative;}#sk-container-id-9 div.sk-item::before, #sk-container-id-9 div.sk-parallel-item::before {content: \"\";position: absolute;border-left: 1px solid gray;box-sizing: border-box;top: 0;bottom: 0;left: 50%;z-index: -1;}#sk-container-id-9 div.sk-parallel-item {display: flex;flex-direction: column;z-index: 1;position: relative;background-color: white;}#sk-container-id-9 div.sk-parallel-item:first-child::after {align-self: flex-end;width: 50%;}#sk-container-id-9 div.sk-parallel-item:last-child::after {align-self: flex-start;width: 50%;}#sk-container-id-9 div.sk-parallel-item:only-child::after {width: 0;}#sk-container-id-9 div.sk-dashed-wrapped {border: 1px dashed gray;margin: 0 0.4em 0.5em 0.4em;box-sizing: border-box;padding-bottom: 0.4em;background-color: white;}#sk-container-id-9 div.sk-label label {font-family: monospace;font-weight: bold;display: inline-block;line-height: 1.2em;}#sk-container-id-9 div.sk-label-container {text-align: center;}#sk-container-id-9 div.sk-container {/* jupyter's `normalize.less` sets `[hidden] { display: none; }` but bootstrap.min.css set `[hidden] { display: none !important; }` so we also need the `!important` here to be able to override the default hidden behavior on the sphinx rendered scikit-learn.org. See: https://github.com/scikit-learn/scikit-learn/issues/21755 */display: inline-block !important;position: relative;}#sk-container-id-9 div.sk-text-repr-fallback {display: none;}</style><div id=\"sk-container-id-9\" class=\"sk-top-container\"><div class=\"sk-text-repr-fallback\"><pre>LinearRegression()</pre><b>In a Jupyter environment, please rerun this cell to show the HTML representation or trust the notebook. <br />On GitHub, the HTML representation is unable to render, please try loading this page with nbviewer.org.</b></div><div class=\"sk-container\" hidden><div class=\"sk-item\"><div class=\"sk-estimator sk-toggleable\"><input class=\"sk-toggleable__control sk-hidden--visually\" id=\"sk-estimator-id-9\" type=\"checkbox\" checked><label for=\"sk-estimator-id-9\" class=\"sk-toggleable__label sk-toggleable__label-arrow\">LinearRegression</label><div class=\"sk-toggleable__content\"><pre>LinearRegression()</pre></div></div></div></div></div>"
      ],
      "text/plain": [
       "LinearRegression()"
      ]
     },
     "execution_count": 55,
     "metadata": {},
     "output_type": "execute_result"
    }
   ],
   "source": [
    "from sklearn.model_selection import train_test_split\n",
    "from sklearn.linear_model import LinearRegression\n",
    "import numpy as np\n",
    "\n",
    "# Preparar datos para el modelo\n",
    "X = total_conteo_creditos_pachuca[['año', 'mes']]\n",
    "y = total_conteo_creditos_pachuca['montos']\n",
    "# Dividir los datos en conjuntos de entrenamiento y prueba\n",
    "X_train, X_test, y_train, y_test = train_test_split(X, y, test_size=0.2, random_state=42)\n",
    "# Inicializar y entrenar el modelo de regresión lineal\n",
    "modelo = LinearRegression()\n",
    "modelo.fit(X_train, y_train)"
   ]
  },
  {
   "cell_type": "code",
   "execution_count": 56,
   "metadata": {},
   "outputs": [
    {
     "name": "stdout",
     "output_type": "stream",
     "text": [
      "Coeficiente de determinación (R^2): -0.0378335032178343\n",
      "Error cuadrático medio (MSE): 28554654281.235367\n",
      "Error absoluto medio (MAE): 149207.84976951443\n",
      "Raíz del error cuadrático medio (RMSE): 168981.22464118717\n"
     ]
    }
   ],
   "source": [
    "from sklearn.metrics import r2_score\n",
    "# Hacer predicciones en el conjunto de prueba\n",
    "y_pred = modelo.predict(X_test)\n",
    "# Calcular el coeficiente de determinación (R^2)\n",
    "r2 = r2_score(y_test, y_pred)\n",
    "print(\"Coeficiente de determinación (R^2):\", r2)\n",
    "\n",
    "from sklearn.metrics import mean_squared_error\n",
    "mse = mean_squared_error(y_test, y_pred)\n",
    "print(\"Error cuadrático medio (MSE):\", mse)\n",
    "\n",
    "from sklearn.metrics import mean_absolute_error\n",
    "mae = mean_absolute_error(y_test, y_pred)\n",
    "print(\"Error absoluto medio (MAE):\", mae)\n",
    "rmse = np.sqrt(mse)\n",
    "print(\"Raíz del error cuadrático medio (RMSE):\", rmse)"
   ]
  },
  {
   "cell_type": "code",
   "execution_count": 57,
   "metadata": {},
   "outputs": [
    {
     "data": {
      "text/html": [
       "<div>\n",
       "<style scoped>\n",
       "    .dataframe tbody tr th:only-of-type {\n",
       "        vertical-align: middle;\n",
       "    }\n",
       "\n",
       "    .dataframe tbody tr th {\n",
       "        vertical-align: top;\n",
       "    }\n",
       "\n",
       "    .dataframe thead th {\n",
       "        text-align: right;\n",
       "    }\n",
       "</style>\n",
       "<table border=\"1\" class=\"dataframe\">\n",
       "  <thead>\n",
       "    <tr style=\"text-align: right;\">\n",
       "      <th></th>\n",
       "      <th>año</th>\n",
       "      <th>montos</th>\n",
       "      <th>modalidad</th>\n",
       "    </tr>\n",
       "  </thead>\n",
       "  <tbody>\n",
       "    <tr>\n",
       "      <th>0</th>\n",
       "      <td>2019</td>\n",
       "      <td>14,590,982.17</td>\n",
       "      <td>Créditos (todos)</td>\n",
       "    </tr>\n",
       "    <tr>\n",
       "      <th>1</th>\n",
       "      <td>2020</td>\n",
       "      <td>16,237,077.68</td>\n",
       "      <td>Créditos (todos)</td>\n",
       "    </tr>\n",
       "    <tr>\n",
       "      <th>2</th>\n",
       "      <td>2021</td>\n",
       "      <td>17,161,514.30</td>\n",
       "      <td>Créditos (todos)</td>\n",
       "    </tr>\n",
       "    <tr>\n",
       "      <th>3</th>\n",
       "      <td>2022</td>\n",
       "      <td>18,825,452.94</td>\n",
       "      <td>Créditos (todos)</td>\n",
       "    </tr>\n",
       "    <tr>\n",
       "      <th>4</th>\n",
       "      <td>2023</td>\n",
       "      <td>17,571,132.38</td>\n",
       "      <td>Créditos (todos)</td>\n",
       "    </tr>\n",
       "    <tr>\n",
       "      <th>5</th>\n",
       "      <td>2024</td>\n",
       "      <td>19,705,613.30</td>\n",
       "      <td>Créditos (todos)</td>\n",
       "    </tr>\n",
       "    <tr>\n",
       "      <th>6</th>\n",
       "      <td>2025</td>\n",
       "      <td>20,656,071.60</td>\n",
       "      <td>Créditos (todos)</td>\n",
       "    </tr>\n",
       "    <tr>\n",
       "      <th>7</th>\n",
       "      <td>2026</td>\n",
       "      <td>21,606,529.90</td>\n",
       "      <td>Créditos (todos)</td>\n",
       "    </tr>\n",
       "  </tbody>\n",
       "</table>\n",
       "</div>"
      ],
      "text/plain": [
       "    año         montos         modalidad\n",
       "0  2019  14,590,982.17  Créditos (todos)\n",
       "1  2020  16,237,077.68  Créditos (todos)\n",
       "2  2021  17,161,514.30  Créditos (todos)\n",
       "3  2022  18,825,452.94  Créditos (todos)\n",
       "4  2023  17,571,132.38  Créditos (todos)\n",
       "5  2024  19,705,613.30  Créditos (todos)\n",
       "6  2025  20,656,071.60  Créditos (todos)\n",
       "7  2026  21,606,529.90  Créditos (todos)"
      ]
     },
     "execution_count": 57,
     "metadata": {},
     "output_type": "execute_result"
    }
   ],
   "source": [
    "# DF con todas las combinaciones posibles de año y mes para 2023 FALTANTES (AUG-DEC)\n",
    "fechas_2023 = pd.DataFrame({'año': np.repeat(2023, 5),\n",
    "                            'mes': range(8, 13)})\n",
    "\n",
    "# DF con todas las combinaciones posibles de año y mes para 2024-2026\n",
    "fechas_2024_2026 = pd.DataFrame({'año': np.repeat(range(2024, 2027), 12),\n",
    "                                  'mes': np.tile(range(1, 13), 3)})\n",
    "nuevas_fechas = pd.concat([fechas_2023, fechas_2024_2026]) # Concatenamos \n",
    "\n",
    "# Realizamos predicciones con el modelo entrenado\n",
    "predicciones = modelo.predict(nuevas_fechas)\n",
    "# Agregamos las predicciones al DataFrame de nuevas fechas\n",
    "nuevas_fechas['montos'] = predicciones\n",
    "total_pachuca = pd.concat([total_conteo_creditos_pachuca, nuevas_fechas], ignore_index=True)\n",
    "total_todos_pachuca = total_pachuca.groupby('año')['montos'].sum().reset_index()\n",
    "# Agregar una nueva columna 'vivienda' con el valor 'Usada'\n",
    "total_todos_pachuca['modalidad'] = 'Créditos (todos)'\n",
    "# Función para formatear números con separadores de coma y dos decimales\n",
    "def format_number(x):\n",
    "   return '{:,.2f}'.format(x)\n",
    "# Formatear la columna 'montos' con la función personalizada\n",
    "total_todos_pachuca['montos'] = total_todos_pachuca['montos'].map(format_number)\n",
    "total_todos_pachuca"
   ]
  },
  {
   "cell_type": "code",
   "execution_count": 58,
   "metadata": {},
   "outputs": [
    {
     "data": {
      "text/html": [
       "<div>\n",
       "<style scoped>\n",
       "    .dataframe tbody tr th:only-of-type {\n",
       "        vertical-align: middle;\n",
       "    }\n",
       "\n",
       "    .dataframe tbody tr th {\n",
       "        vertical-align: top;\n",
       "    }\n",
       "\n",
       "    .dataframe thead th {\n",
       "        text-align: right;\n",
       "    }\n",
       "</style>\n",
       "<table border=\"1\" class=\"dataframe\">\n",
       "  <thead>\n",
       "    <tr style=\"text-align: right;\">\n",
       "      <th></th>\n",
       "      <th>año</th>\n",
       "      <th>mes</th>\n",
       "      <th>montos</th>\n",
       "    </tr>\n",
       "  </thead>\n",
       "  <tbody>\n",
       "    <tr>\n",
       "      <th>0</th>\n",
       "      <td>2019</td>\n",
       "      <td>1</td>\n",
       "      <td>1.591003e+06</td>\n",
       "    </tr>\n",
       "    <tr>\n",
       "      <th>1</th>\n",
       "      <td>2019</td>\n",
       "      <td>2</td>\n",
       "      <td>1.401211e+06</td>\n",
       "    </tr>\n",
       "    <tr>\n",
       "      <th>2</th>\n",
       "      <td>2019</td>\n",
       "      <td>3</td>\n",
       "      <td>1.562678e+06</td>\n",
       "    </tr>\n",
       "    <tr>\n",
       "      <th>3</th>\n",
       "      <td>2019</td>\n",
       "      <td>4</td>\n",
       "      <td>1.710635e+06</td>\n",
       "    </tr>\n",
       "    <tr>\n",
       "      <th>4</th>\n",
       "      <td>2019</td>\n",
       "      <td>5</td>\n",
       "      <td>1.600482e+06</td>\n",
       "    </tr>\n",
       "  </tbody>\n",
       "</table>\n",
       "</div>"
      ],
      "text/plain": [
       "    año  mes        montos\n",
       "0  2019    1  1.591003e+06\n",
       "1  2019    2  1.401211e+06\n",
       "2  2019    3  1.562678e+06\n",
       "3  2019    4  1.710635e+06\n",
       "4  2019    5  1.600482e+06"
      ]
     },
     "execution_count": 58,
     "metadata": {},
     "output_type": "execute_result"
    }
   ],
   "source": [
    "# Filtrar los datos donde 'modalidad' sea igual a '1'\n",
    "creditos_2019_pachuca_modalidad_1 = creditos_2019_pachuca[creditos_2019_pachuca['modalidad'] == 1]\n",
    "# Agrupar por mes y sumar los montos\n",
    "total_creditos_2019_pachuca = creditos_2019_pachuca_modalidad_1.groupby('mes')['monto'].mean().reset_index()\n",
    "total_creditos_2019_pachuca.rename(columns={'monto': 'montos'}, inplace=True)\n",
    "total_creditos_2019_pachuca['año'] = 2019\n",
    "total_creditos_2019_pachuca = total_creditos_2019_pachuca[['año', 'mes', 'montos']] # Reordenar las columnas\n",
    "\n",
    "# Filtrar los datos donde 'modalidad' sea igual a '1'\n",
    "creditos_2020_pachuca_modalidad_1 = creditos_2020_pachuca[creditos_2020_pachuca['modalidad'] == 1]\n",
    "# Agrupar por mes y sumar los montos\n",
    "total_creditos_2020_pachuca = creditos_2020_pachuca_modalidad_1.groupby('mes')['monto'].mean().reset_index()\n",
    "total_creditos_2020_pachuca.rename(columns={'monto': 'montos'}, inplace=True)\n",
    "total_creditos_2020_pachuca['año'] = 2020\n",
    "total_creditos_2020_pachuca = total_creditos_2020_pachuca[['año', 'mes', 'montos']] # Reordenar las columnas\n",
    "\n",
    "# Filtrar los datos donde 'modalidad' sea igual a '1'\n",
    "creditos_2021_pachuca_modalidad_1 = creditos_2021_pachuca[creditos_2021_pachuca['modalidad'] == 1]\n",
    "# Agrupar por mes y sumar los montos\n",
    "total_creditos_2021_pachuca = creditos_2021_pachuca_modalidad_1.groupby('mes')['monto'].mean().reset_index()\n",
    "total_creditos_2021_pachuca.rename(columns={'monto': 'montos'}, inplace=True)\n",
    "total_creditos_2021_pachuca['año'] = 2021\n",
    "total_creditos_2021_pachuca = total_creditos_2021_pachuca[['año', 'mes', 'montos']] # Reordenar las columnas\n",
    "\n",
    "# Filtrar los datos donde 'modalidad' sea igual a '1'\n",
    "creditos_2022_pachuca_modalidad_1 = creditos_2022_pachuca[creditos_2022_pachuca['modalidad'] == 1]\n",
    "# Agrupar por mes y sumar los montos\n",
    "total_creditos_2022_pachuca = creditos_2022_pachuca_modalidad_1.groupby('mes')['monto'].mean().reset_index()\n",
    "total_creditos_2022_pachuca.rename(columns={'monto': 'montos'}, inplace=True)\n",
    "total_creditos_2022_pachuca['año'] = 2022\n",
    "total_creditos_2022_pachuca = total_creditos_2022_pachuca[['año', 'mes', 'montos']] # Reordenar las columnas\n",
    "\n",
    "# Filtrar los datos donde 'modalidad' sea igual a '1'\n",
    "creditos_2023_pachuca_modalidad_1 = creditos_2023_pachuca[creditos_2023_pachuca['modalidad'] == 1]\n",
    "# Agrupar por mes y sumar los montos\n",
    "total_creditos_2023_pachuca = creditos_2023_pachuca_modalidad_1.groupby('mes')['monto'].mean().reset_index()\n",
    "total_creditos_2023_pachuca.rename(columns={'monto': 'montos'}, inplace=True)\n",
    "total_creditos_2023_pachuca['año'] = 2023\n",
    "total_creditos_2023_pachuca = total_creditos_2023_pachuca[['año', 'mes', 'montos']] # Reordenar las columnas\n",
    "\n",
    "total_creditos_nueva_pachuca = pd.concat([total_creditos_2019_pachuca, total_creditos_2020_pachuca, total_creditos_2021_pachuca, total_creditos_2022_pachuca, total_creditos_2023_pachuca], ignore_index=True)\n",
    "total_creditos_nueva_pachuca.head()"
   ]
  },
  {
   "cell_type": "code",
   "execution_count": 59,
   "metadata": {},
   "outputs": [
    {
     "data": {
      "text/html": [
       "<style>#sk-container-id-10 {color: black;background-color: white;}#sk-container-id-10 pre{padding: 0;}#sk-container-id-10 div.sk-toggleable {background-color: white;}#sk-container-id-10 label.sk-toggleable__label {cursor: pointer;display: block;width: 100%;margin-bottom: 0;padding: 0.3em;box-sizing: border-box;text-align: center;}#sk-container-id-10 label.sk-toggleable__label-arrow:before {content: \"▸\";float: left;margin-right: 0.25em;color: #696969;}#sk-container-id-10 label.sk-toggleable__label-arrow:hover:before {color: black;}#sk-container-id-10 div.sk-estimator:hover label.sk-toggleable__label-arrow:before {color: black;}#sk-container-id-10 div.sk-toggleable__content {max-height: 0;max-width: 0;overflow: hidden;text-align: left;background-color: #f0f8ff;}#sk-container-id-10 div.sk-toggleable__content pre {margin: 0.2em;color: black;border-radius: 0.25em;background-color: #f0f8ff;}#sk-container-id-10 input.sk-toggleable__control:checked~div.sk-toggleable__content {max-height: 200px;max-width: 100%;overflow: auto;}#sk-container-id-10 input.sk-toggleable__control:checked~label.sk-toggleable__label-arrow:before {content: \"▾\";}#sk-container-id-10 div.sk-estimator input.sk-toggleable__control:checked~label.sk-toggleable__label {background-color: #d4ebff;}#sk-container-id-10 div.sk-label input.sk-toggleable__control:checked~label.sk-toggleable__label {background-color: #d4ebff;}#sk-container-id-10 input.sk-hidden--visually {border: 0;clip: rect(1px 1px 1px 1px);clip: rect(1px, 1px, 1px, 1px);height: 1px;margin: -1px;overflow: hidden;padding: 0;position: absolute;width: 1px;}#sk-container-id-10 div.sk-estimator {font-family: monospace;background-color: #f0f8ff;border: 1px dotted black;border-radius: 0.25em;box-sizing: border-box;margin-bottom: 0.5em;}#sk-container-id-10 div.sk-estimator:hover {background-color: #d4ebff;}#sk-container-id-10 div.sk-parallel-item::after {content: \"\";width: 100%;border-bottom: 1px solid gray;flex-grow: 1;}#sk-container-id-10 div.sk-label:hover label.sk-toggleable__label {background-color: #d4ebff;}#sk-container-id-10 div.sk-serial::before {content: \"\";position: absolute;border-left: 1px solid gray;box-sizing: border-box;top: 0;bottom: 0;left: 50%;z-index: 0;}#sk-container-id-10 div.sk-serial {display: flex;flex-direction: column;align-items: center;background-color: white;padding-right: 0.2em;padding-left: 0.2em;position: relative;}#sk-container-id-10 div.sk-item {position: relative;z-index: 1;}#sk-container-id-10 div.sk-parallel {display: flex;align-items: stretch;justify-content: center;background-color: white;position: relative;}#sk-container-id-10 div.sk-item::before, #sk-container-id-10 div.sk-parallel-item::before {content: \"\";position: absolute;border-left: 1px solid gray;box-sizing: border-box;top: 0;bottom: 0;left: 50%;z-index: -1;}#sk-container-id-10 div.sk-parallel-item {display: flex;flex-direction: column;z-index: 1;position: relative;background-color: white;}#sk-container-id-10 div.sk-parallel-item:first-child::after {align-self: flex-end;width: 50%;}#sk-container-id-10 div.sk-parallel-item:last-child::after {align-self: flex-start;width: 50%;}#sk-container-id-10 div.sk-parallel-item:only-child::after {width: 0;}#sk-container-id-10 div.sk-dashed-wrapped {border: 1px dashed gray;margin: 0 0.4em 0.5em 0.4em;box-sizing: border-box;padding-bottom: 0.4em;background-color: white;}#sk-container-id-10 div.sk-label label {font-family: monospace;font-weight: bold;display: inline-block;line-height: 1.2em;}#sk-container-id-10 div.sk-label-container {text-align: center;}#sk-container-id-10 div.sk-container {/* jupyter's `normalize.less` sets `[hidden] { display: none; }` but bootstrap.min.css set `[hidden] { display: none !important; }` so we also need the `!important` here to be able to override the default hidden behavior on the sphinx rendered scikit-learn.org. See: https://github.com/scikit-learn/scikit-learn/issues/21755 */display: inline-block !important;position: relative;}#sk-container-id-10 div.sk-text-repr-fallback {display: none;}</style><div id=\"sk-container-id-10\" class=\"sk-top-container\"><div class=\"sk-text-repr-fallback\"><pre>LinearRegression()</pre><b>In a Jupyter environment, please rerun this cell to show the HTML representation or trust the notebook. <br />On GitHub, the HTML representation is unable to render, please try loading this page with nbviewer.org.</b></div><div class=\"sk-container\" hidden><div class=\"sk-item\"><div class=\"sk-estimator sk-toggleable\"><input class=\"sk-toggleable__control sk-hidden--visually\" id=\"sk-estimator-id-10\" type=\"checkbox\" checked><label for=\"sk-estimator-id-10\" class=\"sk-toggleable__label sk-toggleable__label-arrow\">LinearRegression</label><div class=\"sk-toggleable__content\"><pre>LinearRegression()</pre></div></div></div></div></div>"
      ],
      "text/plain": [
       "LinearRegression()"
      ]
     },
     "execution_count": 59,
     "metadata": {},
     "output_type": "execute_result"
    }
   ],
   "source": [
    "from sklearn.model_selection import train_test_split\n",
    "from sklearn.linear_model import LinearRegression\n",
    "import numpy as np\n",
    "\n",
    "# Preparar datos para el modelo\n",
    "X = total_creditos_nueva_pachuca[['año', 'mes']]\n",
    "y = total_creditos_nueva_pachuca['montos']\n",
    "# Dividir los datos en conjuntos de entrenamiento y prueba\n",
    "X_train, X_test, y_train, y_test = train_test_split(X, y, test_size=0.2, random_state=42)\n",
    "# Inicializar y entrenar el modelo de regresión lineal\n",
    "modelo = LinearRegression()\n",
    "modelo.fit(X_train, y_train)"
   ]
  },
  {
   "cell_type": "code",
   "execution_count": 60,
   "metadata": {},
   "outputs": [
    {
     "name": "stdout",
     "output_type": "stream",
     "text": [
      "Coeficiente de determinación (R^2): -0.2638513774346838\n",
      "Error cuadrático medio (MSE): 48820750028.3337\n",
      "Error absoluto medio (MAE): 175543.1684369562\n",
      "Raíz del error cuadrático medio (RMSE): 220954.18083470088\n"
     ]
    }
   ],
   "source": [
    "from sklearn.metrics import r2_score\n",
    "# Hacer predicciones en el conjunto de prueba\n",
    "y_pred = modelo.predict(X_test)\n",
    "# Calcular el coeficiente de determinación (R^2)\n",
    "r2 = r2_score(y_test, y_pred)\n",
    "print(\"Coeficiente de determinación (R^2):\", r2)\n",
    "\n",
    "from sklearn.metrics import mean_squared_error\n",
    "mse = mean_squared_error(y_test, y_pred)\n",
    "print(\"Error cuadrático medio (MSE):\", mse)\n",
    "\n",
    "from sklearn.metrics import mean_absolute_error\n",
    "mae = mean_absolute_error(y_test, y_pred)\n",
    "print(\"Error absoluto medio (MAE):\", mae)\n",
    "rmse = np.sqrt(mse)\n",
    "print(\"Raíz del error cuadrático medio (RMSE):\", rmse)"
   ]
  },
  {
   "cell_type": "code",
   "execution_count": 61,
   "metadata": {},
   "outputs": [
    {
     "data": {
      "text/html": [
       "<div>\n",
       "<style scoped>\n",
       "    .dataframe tbody tr th:only-of-type {\n",
       "        vertical-align: middle;\n",
       "    }\n",
       "\n",
       "    .dataframe tbody tr th {\n",
       "        vertical-align: top;\n",
       "    }\n",
       "\n",
       "    .dataframe thead th {\n",
       "        text-align: right;\n",
       "    }\n",
       "</style>\n",
       "<table border=\"1\" class=\"dataframe\">\n",
       "  <thead>\n",
       "    <tr style=\"text-align: right;\">\n",
       "      <th></th>\n",
       "      <th>año</th>\n",
       "      <th>montos</th>\n",
       "      <th>modalidad</th>\n",
       "    </tr>\n",
       "  </thead>\n",
       "  <tbody>\n",
       "    <tr>\n",
       "      <th>0</th>\n",
       "      <td>2019</td>\n",
       "      <td>19,872,752.86</td>\n",
       "      <td>Nueva</td>\n",
       "    </tr>\n",
       "    <tr>\n",
       "      <th>1</th>\n",
       "      <td>2020</td>\n",
       "      <td>20,664,582.78</td>\n",
       "      <td>Nueva</td>\n",
       "    </tr>\n",
       "    <tr>\n",
       "      <th>2</th>\n",
       "      <td>2021</td>\n",
       "      <td>20,907,961.24</td>\n",
       "      <td>Nueva</td>\n",
       "    </tr>\n",
       "    <tr>\n",
       "      <th>3</th>\n",
       "      <td>2022</td>\n",
       "      <td>23,342,344.52</td>\n",
       "      <td>Nueva</td>\n",
       "    </tr>\n",
       "    <tr>\n",
       "      <th>4</th>\n",
       "      <td>2023</td>\n",
       "      <td>21,937,195.86</td>\n",
       "      <td>Nueva</td>\n",
       "    </tr>\n",
       "    <tr>\n",
       "      <th>5</th>\n",
       "      <td>2024</td>\n",
       "      <td>23,385,520.89</td>\n",
       "      <td>Nueva</td>\n",
       "    </tr>\n",
       "    <tr>\n",
       "      <th>6</th>\n",
       "      <td>2025</td>\n",
       "      <td>24,122,126.73</td>\n",
       "      <td>Nueva</td>\n",
       "    </tr>\n",
       "    <tr>\n",
       "      <th>7</th>\n",
       "      <td>2026</td>\n",
       "      <td>24,858,732.58</td>\n",
       "      <td>Nueva</td>\n",
       "    </tr>\n",
       "  </tbody>\n",
       "</table>\n",
       "</div>"
      ],
      "text/plain": [
       "    año         montos modalidad\n",
       "0  2019  19,872,752.86     Nueva\n",
       "1  2020  20,664,582.78     Nueva\n",
       "2  2021  20,907,961.24     Nueva\n",
       "3  2022  23,342,344.52     Nueva\n",
       "4  2023  21,937,195.86     Nueva\n",
       "5  2024  23,385,520.89     Nueva\n",
       "6  2025  24,122,126.73     Nueva\n",
       "7  2026  24,858,732.58     Nueva"
      ]
     },
     "execution_count": 61,
     "metadata": {},
     "output_type": "execute_result"
    }
   ],
   "source": [
    "# DF con todas las combinaciones posibles de año y mes para 2023 FALTANTES (AUG-DEC)\n",
    "fechas_2023 = pd.DataFrame({'año': np.repeat(2023, 5),\n",
    "                            'mes': range(8, 13)})\n",
    "\n",
    "# DF con todas las combinaciones posibles de año y mes para 2024-2026\n",
    "fechas_2024_2026 = pd.DataFrame({'año': np.repeat(range(2024, 2027), 12),\n",
    "                                  'mes': np.tile(range(1, 13), 3)})\n",
    "nuevas_fechas_nueva = pd.concat([fechas_2023, fechas_2024_2026]) # Concatenamos \n",
    "\n",
    "# Realizamos predicciones con el modelo entrenado\n",
    "predicciones = modelo.predict(nuevas_fechas_nueva)\n",
    "# Agregamos las predicciones al DataFrame de nuevas fechas\n",
    "nuevas_fechas_nueva['montos'] = predicciones\n",
    "total_nueva_pachuca = pd.concat([total_creditos_nueva_pachuca, nuevas_fechas_nueva], ignore_index=True)\n",
    "total_nueva_pachuca = total_nueva_pachuca.groupby('año')['montos'].sum().reset_index()\n",
    "# Agregar una nueva columna 'vivienda' con el valor 'Usada'\n",
    "total_nueva_pachuca['modalidad'] = 'Nueva'\n",
    "# Función para formatear números con separadores de coma y dos decimales\n",
    "def format_number(x):\n",
    "   return '{:,.2f}'.format(x)\n",
    "total_nueva_pachuca['montos'] = total_nueva_pachuca['montos'].map(format_number)\n",
    "total_nueva_pachuca"
   ]
  },
  {
   "cell_type": "code",
   "execution_count": 62,
   "metadata": {},
   "outputs": [
    {
     "data": {
      "text/html": [
       "<div>\n",
       "<style scoped>\n",
       "    .dataframe tbody tr th:only-of-type {\n",
       "        vertical-align: middle;\n",
       "    }\n",
       "\n",
       "    .dataframe tbody tr th {\n",
       "        vertical-align: top;\n",
       "    }\n",
       "\n",
       "    .dataframe thead th {\n",
       "        text-align: right;\n",
       "    }\n",
       "</style>\n",
       "<table border=\"1\" class=\"dataframe\">\n",
       "  <thead>\n",
       "    <tr style=\"text-align: right;\">\n",
       "      <th></th>\n",
       "      <th>año</th>\n",
       "      <th>mes</th>\n",
       "      <th>montos</th>\n",
       "    </tr>\n",
       "  </thead>\n",
       "  <tbody>\n",
       "    <tr>\n",
       "      <th>0</th>\n",
       "      <td>2019</td>\n",
       "      <td>1</td>\n",
       "      <td>968122.466316</td>\n",
       "    </tr>\n",
       "    <tr>\n",
       "      <th>1</th>\n",
       "      <td>2019</td>\n",
       "      <td>2</td>\n",
       "      <td>950634.448000</td>\n",
       "    </tr>\n",
       "    <tr>\n",
       "      <th>2</th>\n",
       "      <td>2019</td>\n",
       "      <td>3</td>\n",
       "      <td>924256.040333</td>\n",
       "    </tr>\n",
       "    <tr>\n",
       "      <th>3</th>\n",
       "      <td>2019</td>\n",
       "      <td>4</td>\n",
       "      <td>853219.640313</td>\n",
       "    </tr>\n",
       "    <tr>\n",
       "      <th>4</th>\n",
       "      <td>2019</td>\n",
       "      <td>5</td>\n",
       "      <td>747045.865490</td>\n",
       "    </tr>\n",
       "  </tbody>\n",
       "</table>\n",
       "</div>"
      ],
      "text/plain": [
       "    año  mes         montos\n",
       "0  2019    1  968122.466316\n",
       "1  2019    2  950634.448000\n",
       "2  2019    3  924256.040333\n",
       "3  2019    4  853219.640313\n",
       "4  2019    5  747045.865490"
      ]
     },
     "execution_count": 62,
     "metadata": {},
     "output_type": "execute_result"
    }
   ],
   "source": [
    "# Filtrar los datos donde 'modalidad' sea igual a '3'\n",
    "creditos_2019_pachuca_modalidad_3 = creditos_2019_pachuca[creditos_2019_pachuca['modalidad'] == 3]\n",
    "# Agrupar por mes y sumar los montos\n",
    "total_creditos_2019_pachuca = creditos_2019_pachuca_modalidad_3.groupby('mes')['monto'].mean().reset_index()\n",
    "total_creditos_2019_pachuca.rename(columns={'monto': 'montos'}, inplace=True)\n",
    "total_creditos_2019_pachuca['año'] = 2019\n",
    "total_creditos_2019_pachuca = total_creditos_2019_pachuca[['año', 'mes', 'montos']] # Reordenar las columnas\n",
    "\n",
    "# Filtrar los datos donde 'modalidad' sea igual a '3'\n",
    "creditos_2020_pachuca_modalidad_3 = creditos_2020_pachuca[creditos_2020_pachuca['modalidad'] == 3]\n",
    "# Agrupar por mes y sumar los montos\n",
    "total_creditos_2020_pachuca = creditos_2020_pachuca_modalidad_3.groupby('mes')['monto'].mean().reset_index()\n",
    "total_creditos_2020_pachuca.rename(columns={'monto': 'montos'}, inplace=True)\n",
    "total_creditos_2020_pachuca['año'] = 2020\n",
    "total_creditos_2020_pachuca = total_creditos_2020_pachuca[['año', 'mes', 'montos']] # Reordenar las columnas\n",
    "\n",
    "creditos_2021_pachuca_modalidad_3 = creditos_2021_pachuca[creditos_2021_pachuca['modalidad'] == 3]\n",
    "# Agrupar por mes y sumar los montos\n",
    "total_creditos_2021_pachuca = creditos_2021_pachuca_modalidad_3.groupby('mes')['monto'].mean().reset_index()\n",
    "total_creditos_2021_pachuca.rename(columns={'monto': 'montos'}, inplace=True)\n",
    "total_creditos_2021_pachuca['año'] = 2021\n",
    "total_creditos_2021_pachuca = total_creditos_2021_pachuca[['año', 'mes', 'montos']] # Reordenar las columnas\n",
    "\n",
    "creditos_2022_pachuca_modalidad_3 = creditos_2022_pachuca[creditos_2022_pachuca['modalidad'] == 3]\n",
    "# Agrupar por mes y sumar los montos\n",
    "total_creditos_2022_pachuca = creditos_2022_pachuca_modalidad_3.groupby('mes')['monto'].mean().reset_index()\n",
    "total_creditos_2022_pachuca.rename(columns={'monto': 'montos'}, inplace=True)\n",
    "total_creditos_2022_pachuca['año'] = 2022\n",
    "total_creditos_2022_pachuca = total_creditos_2022_pachuca[['año', 'mes', 'montos']] # Reordenar las columnas\n",
    "\n",
    "creditos_2023_pachuca_modalidad_3 = creditos_2023_pachuca[creditos_2023_pachuca['modalidad'] == 3]\n",
    "# Agrupar por mes y sumar los montos\n",
    "total_creditos_2023_pachuca = creditos_2023_pachuca_modalidad_3.groupby('mes')['monto'].mean().reset_index()\n",
    "total_creditos_2023_pachuca.rename(columns={'monto': 'montos'}, inplace=True)\n",
    "total_creditos_2023_pachuca['año'] = 2023\n",
    "total_creditos_2023_pachuca = total_creditos_2023_pachuca[['año', 'mes', 'montos']] # Reordenar las columnas\n",
    "\n",
    "total_creditos_usada_pachuca = pd.concat([total_creditos_2019_pachuca, total_creditos_2020_pachuca, total_creditos_2021_pachuca, total_creditos_2022_pachuca, total_creditos_2023_pachuca], ignore_index=True)\n",
    "total_creditos_usada_pachuca.head()"
   ]
  },
  {
   "cell_type": "code",
   "execution_count": 63,
   "metadata": {},
   "outputs": [
    {
     "data": {
      "text/html": [
       "<style>#sk-container-id-11 {color: black;background-color: white;}#sk-container-id-11 pre{padding: 0;}#sk-container-id-11 div.sk-toggleable {background-color: white;}#sk-container-id-11 label.sk-toggleable__label {cursor: pointer;display: block;width: 100%;margin-bottom: 0;padding: 0.3em;box-sizing: border-box;text-align: center;}#sk-container-id-11 label.sk-toggleable__label-arrow:before {content: \"▸\";float: left;margin-right: 0.25em;color: #696969;}#sk-container-id-11 label.sk-toggleable__label-arrow:hover:before {color: black;}#sk-container-id-11 div.sk-estimator:hover label.sk-toggleable__label-arrow:before {color: black;}#sk-container-id-11 div.sk-toggleable__content {max-height: 0;max-width: 0;overflow: hidden;text-align: left;background-color: #f0f8ff;}#sk-container-id-11 div.sk-toggleable__content pre {margin: 0.2em;color: black;border-radius: 0.25em;background-color: #f0f8ff;}#sk-container-id-11 input.sk-toggleable__control:checked~div.sk-toggleable__content {max-height: 200px;max-width: 100%;overflow: auto;}#sk-container-id-11 input.sk-toggleable__control:checked~label.sk-toggleable__label-arrow:before {content: \"▾\";}#sk-container-id-11 div.sk-estimator input.sk-toggleable__control:checked~label.sk-toggleable__label {background-color: #d4ebff;}#sk-container-id-11 div.sk-label input.sk-toggleable__control:checked~label.sk-toggleable__label {background-color: #d4ebff;}#sk-container-id-11 input.sk-hidden--visually {border: 0;clip: rect(1px 1px 1px 1px);clip: rect(1px, 1px, 1px, 1px);height: 1px;margin: -1px;overflow: hidden;padding: 0;position: absolute;width: 1px;}#sk-container-id-11 div.sk-estimator {font-family: monospace;background-color: #f0f8ff;border: 1px dotted black;border-radius: 0.25em;box-sizing: border-box;margin-bottom: 0.5em;}#sk-container-id-11 div.sk-estimator:hover {background-color: #d4ebff;}#sk-container-id-11 div.sk-parallel-item::after {content: \"\";width: 100%;border-bottom: 1px solid gray;flex-grow: 1;}#sk-container-id-11 div.sk-label:hover label.sk-toggleable__label {background-color: #d4ebff;}#sk-container-id-11 div.sk-serial::before {content: \"\";position: absolute;border-left: 1px solid gray;box-sizing: border-box;top: 0;bottom: 0;left: 50%;z-index: 0;}#sk-container-id-11 div.sk-serial {display: flex;flex-direction: column;align-items: center;background-color: white;padding-right: 0.2em;padding-left: 0.2em;position: relative;}#sk-container-id-11 div.sk-item {position: relative;z-index: 1;}#sk-container-id-11 div.sk-parallel {display: flex;align-items: stretch;justify-content: center;background-color: white;position: relative;}#sk-container-id-11 div.sk-item::before, #sk-container-id-11 div.sk-parallel-item::before {content: \"\";position: absolute;border-left: 1px solid gray;box-sizing: border-box;top: 0;bottom: 0;left: 50%;z-index: -1;}#sk-container-id-11 div.sk-parallel-item {display: flex;flex-direction: column;z-index: 1;position: relative;background-color: white;}#sk-container-id-11 div.sk-parallel-item:first-child::after {align-self: flex-end;width: 50%;}#sk-container-id-11 div.sk-parallel-item:last-child::after {align-self: flex-start;width: 50%;}#sk-container-id-11 div.sk-parallel-item:only-child::after {width: 0;}#sk-container-id-11 div.sk-dashed-wrapped {border: 1px dashed gray;margin: 0 0.4em 0.5em 0.4em;box-sizing: border-box;padding-bottom: 0.4em;background-color: white;}#sk-container-id-11 div.sk-label label {font-family: monospace;font-weight: bold;display: inline-block;line-height: 1.2em;}#sk-container-id-11 div.sk-label-container {text-align: center;}#sk-container-id-11 div.sk-container {/* jupyter's `normalize.less` sets `[hidden] { display: none; }` but bootstrap.min.css set `[hidden] { display: none !important; }` so we also need the `!important` here to be able to override the default hidden behavior on the sphinx rendered scikit-learn.org. See: https://github.com/scikit-learn/scikit-learn/issues/21755 */display: inline-block !important;position: relative;}#sk-container-id-11 div.sk-text-repr-fallback {display: none;}</style><div id=\"sk-container-id-11\" class=\"sk-top-container\"><div class=\"sk-text-repr-fallback\"><pre>LinearRegression()</pre><b>In a Jupyter environment, please rerun this cell to show the HTML representation or trust the notebook. <br />On GitHub, the HTML representation is unable to render, please try loading this page with nbviewer.org.</b></div><div class=\"sk-container\" hidden><div class=\"sk-item\"><div class=\"sk-estimator sk-toggleable\"><input class=\"sk-toggleable__control sk-hidden--visually\" id=\"sk-estimator-id-11\" type=\"checkbox\" checked><label for=\"sk-estimator-id-11\" class=\"sk-toggleable__label sk-toggleable__label-arrow\">LinearRegression</label><div class=\"sk-toggleable__content\"><pre>LinearRegression()</pre></div></div></div></div></div>"
      ],
      "text/plain": [
       "LinearRegression()"
      ]
     },
     "execution_count": 63,
     "metadata": {},
     "output_type": "execute_result"
    }
   ],
   "source": [
    "from sklearn.model_selection import train_test_split\n",
    "from sklearn.linear_model import LinearRegression\n",
    "import numpy as np\n",
    "# Preparar datos para el modelo\n",
    "X = total_creditos_usada_pachuca[['año', 'mes']]\n",
    "y = total_creditos_usada_pachuca['montos']\n",
    "# Dividir los datos en conjuntos de entrenamiento y prueba\n",
    "X_train, X_test, y_train, y_test = train_test_split(X, y, test_size=0.2, random_state=42)\n",
    "# Inicializar y entrenar el modelo de regresión lineal\n",
    "modelo = LinearRegression()\n",
    "modelo.fit(X_train, y_train)"
   ]
  },
  {
   "cell_type": "code",
   "execution_count": 64,
   "metadata": {},
   "outputs": [
    {
     "name": "stdout",
     "output_type": "stream",
     "text": [
      "Coeficiente de determinación (R^2): 0.19442367313481235\n",
      "Error cuadrático medio (MSE): 41462761332.36567\n",
      "Error absoluto medio (MAE): 148315.36380126883\n",
      "Raíz del error cuadrático medio (RMSE): 203624.06864701843\n"
     ]
    }
   ],
   "source": [
    "from sklearn.metrics import r2_score\n",
    "# Hacer predicciones en el conjunto de prueba\n",
    "y_pred = modelo.predict(X_test)\n",
    "# Calcular el coeficiente de determinación (R^2)\n",
    "r2 = r2_score(y_test, y_pred)\n",
    "print(\"Coeficiente de determinación (R^2):\", r2)\n",
    "\n",
    "from sklearn.metrics import mean_squared_error\n",
    "mse = mean_squared_error(y_test, y_pred)\n",
    "print(\"Error cuadrático medio (MSE):\", mse)\n",
    "\n",
    "from sklearn.metrics import mean_absolute_error\n",
    "mae = mean_absolute_error(y_test, y_pred)\n",
    "print(\"Error absoluto medio (MAE):\", mae)\n",
    "rmse = np.sqrt(mse)\n",
    "print(\"Raíz del error cuadrático medio (RMSE):\", rmse)"
   ]
  },
  {
   "cell_type": "code",
   "execution_count": 65,
   "metadata": {},
   "outputs": [
    {
     "data": {
      "text/html": [
       "<div>\n",
       "<style scoped>\n",
       "    .dataframe tbody tr th:only-of-type {\n",
       "        vertical-align: middle;\n",
       "    }\n",
       "\n",
       "    .dataframe tbody tr th {\n",
       "        vertical-align: top;\n",
       "    }\n",
       "\n",
       "    .dataframe thead th {\n",
       "        text-align: right;\n",
       "    }\n",
       "</style>\n",
       "<table border=\"1\" class=\"dataframe\">\n",
       "  <thead>\n",
       "    <tr style=\"text-align: right;\">\n",
       "      <th></th>\n",
       "      <th>año</th>\n",
       "      <th>montos</th>\n",
       "      <th>modalidad</th>\n",
       "    </tr>\n",
       "  </thead>\n",
       "  <tbody>\n",
       "    <tr>\n",
       "      <th>0</th>\n",
       "      <td>2019</td>\n",
       "      <td>10,201,652.88</td>\n",
       "      <td>Usada</td>\n",
       "    </tr>\n",
       "    <tr>\n",
       "      <th>1</th>\n",
       "      <td>2020</td>\n",
       "      <td>12,605,352.22</td>\n",
       "      <td>Usada</td>\n",
       "    </tr>\n",
       "    <tr>\n",
       "      <th>2</th>\n",
       "      <td>2021</td>\n",
       "      <td>13,955,995.96</td>\n",
       "      <td>Usada</td>\n",
       "    </tr>\n",
       "    <tr>\n",
       "      <th>3</th>\n",
       "      <td>2022</td>\n",
       "      <td>19,226,154.07</td>\n",
       "      <td>Usada</td>\n",
       "    </tr>\n",
       "    <tr>\n",
       "      <th>4</th>\n",
       "      <td>2023</td>\n",
       "      <td>19,196,621.48</td>\n",
       "      <td>Usada</td>\n",
       "    </tr>\n",
       "    <tr>\n",
       "      <th>5</th>\n",
       "      <td>2024</td>\n",
       "      <td>23,080,154.58</td>\n",
       "      <td>Usada</td>\n",
       "    </tr>\n",
       "    <tr>\n",
       "      <th>6</th>\n",
       "      <td>2025</td>\n",
       "      <td>25,680,798.97</td>\n",
       "      <td>Usada</td>\n",
       "    </tr>\n",
       "    <tr>\n",
       "      <th>7</th>\n",
       "      <td>2026</td>\n",
       "      <td>28,281,443.36</td>\n",
       "      <td>Usada</td>\n",
       "    </tr>\n",
       "  </tbody>\n",
       "</table>\n",
       "</div>"
      ],
      "text/plain": [
       "    año         montos modalidad\n",
       "0  2019  10,201,652.88     Usada\n",
       "1  2020  12,605,352.22     Usada\n",
       "2  2021  13,955,995.96     Usada\n",
       "3  2022  19,226,154.07     Usada\n",
       "4  2023  19,196,621.48     Usada\n",
       "5  2024  23,080,154.58     Usada\n",
       "6  2025  25,680,798.97     Usada\n",
       "7  2026  28,281,443.36     Usada"
      ]
     },
     "execution_count": 65,
     "metadata": {},
     "output_type": "execute_result"
    }
   ],
   "source": [
    "# DF con todas las combinaciones posibles de año y mes para 2023 FALTANTES (AUG-DEC)\n",
    "fechas_2023 = pd.DataFrame({'año': np.repeat(2023, 5),\n",
    "                            'mes': range(8, 13)})\n",
    "\n",
    "# DF con todas las combinaciones posibles de año y mes para 2024-2026\n",
    "fechas_2024_2026 = pd.DataFrame({'año': np.repeat(range(2024, 2027), 12),\n",
    "                                  'mes': np.tile(range(1, 13), 3)})\n",
    "nuevas_fechas_usada = pd.concat([fechas_2023, fechas_2024_2026]) # Concatenamos \n",
    "\n",
    "# Realizamos predicciones con el modelo entrenado\n",
    "predicciones = modelo.predict(nuevas_fechas_usada)\n",
    "# Agregamos las predicciones al DataFrame de nuevas fechas\n",
    "nuevas_fechas_usada['montos'] = predicciones\n",
    "total_usada_pachuca = pd.concat([total_creditos_usada_pachuca, nuevas_fechas_usada], ignore_index=True)\n",
    "total_usada_pachuca = total_usada_pachuca.groupby('año')['montos'].sum().reset_index()\n",
    "# Agregar una nueva columna 'vivienda' con el valor 'Usada'\n",
    "total_usada_pachuca['modalidad'] = 'Usada'\n",
    "# Función para formatear números con separadores de coma y dos decimales\n",
    "def format_number(x):\n",
    "   return '{:,.2f}'.format(x)\n",
    "total_usada_pachuca['montos'] = total_usada_pachuca['montos'].map(format_number)\n",
    "total_usada_pachuca"
   ]
  },
  {
   "cell_type": "code",
   "execution_count": 66,
   "metadata": {},
   "outputs": [
    {
     "data": {
      "application/vnd.plotly.v1+json": {
       "config": {
        "plotlyServerURL": "https://plot.ly"
       },
       "data": [
        {
         "mode": "markers+lines",
         "name": "Créditos (todos)",
         "type": "scatter",
         "x": [
          2019,
          2020,
          2021,
          2022,
          2023,
          2024,
          2025,
          2026
         ],
         "y": [
          14590982.17,
          16237077.68,
          17161514.3,
          18825452.94,
          17571132.38,
          19705613.3,
          20656071.6,
          21606529.9
         ]
        },
        {
         "mode": "markers+lines",
         "name": "Nueva",
         "type": "scatter",
         "x": [
          2019,
          2020,
          2021,
          2022,
          2023,
          2024,
          2025,
          2026
         ],
         "y": [
          19872752.86,
          20664582.78,
          20907961.24,
          23342344.52,
          21937195.86,
          23385520.89,
          24122126.73,
          24858732.58
         ]
        },
        {
         "mode": "markers+lines",
         "name": "Usada",
         "type": "scatter",
         "x": [
          2019,
          2020,
          2021,
          2022,
          2023,
          2024,
          2025,
          2026
         ],
         "y": [
          10201652.88,
          12605352.22,
          13955995.96,
          19226154.07,
          19196621.48,
          23080154.58,
          25680798.97,
          28281443.36
         ]
        }
       ],
       "layout": {
        "annotations": [
         {
          "font": {
           "color": "black",
           "size": 10
          },
          "showarrow": false,
          "text": "14,590,982.17",
          "x": 2019,
          "y": 14590982.17,
          "yshift": 10
         },
         {
          "font": {
           "color": "black",
           "size": 10
          },
          "showarrow": false,
          "text": "16,237,077.68",
          "x": 2020,
          "y": 16237077.68,
          "yshift": 10
         },
         {
          "font": {
           "color": "black",
           "size": 10
          },
          "showarrow": false,
          "text": "17,161,514.30",
          "x": 2021,
          "y": 17161514.3,
          "yshift": 10
         },
         {
          "font": {
           "color": "black",
           "size": 10
          },
          "showarrow": false,
          "text": "18,825,452.94",
          "x": 2022,
          "y": 18825452.94,
          "yshift": 10
         },
         {
          "font": {
           "color": "black",
           "size": 10
          },
          "showarrow": false,
          "text": "17,571,132.38",
          "x": 2023,
          "y": 17571132.38,
          "yshift": 10
         },
         {
          "font": {
           "color": "black",
           "size": 10
          },
          "showarrow": false,
          "text": "19,705,613.30",
          "x": 2024,
          "y": 19705613.3,
          "yshift": 10
         },
         {
          "font": {
           "color": "black",
           "size": 10
          },
          "showarrow": false,
          "text": "20,656,071.60",
          "x": 2025,
          "y": 20656071.6,
          "yshift": 10
         },
         {
          "font": {
           "color": "black",
           "size": 10
          },
          "showarrow": false,
          "text": "21,606,529.90",
          "x": 2026,
          "y": 21606529.9,
          "yshift": 10
         },
         {
          "font": {
           "color": "black",
           "size": 10
          },
          "showarrow": false,
          "text": "19,872,752.86",
          "x": 2019,
          "y": 19872752.86,
          "yshift": 10
         },
         {
          "font": {
           "color": "black",
           "size": 10
          },
          "showarrow": false,
          "text": "20,664,582.78",
          "x": 2020,
          "y": 20664582.78,
          "yshift": 10
         },
         {
          "font": {
           "color": "black",
           "size": 10
          },
          "showarrow": false,
          "text": "20,907,961.24",
          "x": 2021,
          "y": 20907961.24,
          "yshift": 10
         },
         {
          "font": {
           "color": "black",
           "size": 10
          },
          "showarrow": false,
          "text": "23,342,344.52",
          "x": 2022,
          "y": 23342344.52,
          "yshift": 10
         },
         {
          "font": {
           "color": "black",
           "size": 10
          },
          "showarrow": false,
          "text": "21,937,195.86",
          "x": 2023,
          "y": 21937195.86,
          "yshift": 10
         },
         {
          "font": {
           "color": "black",
           "size": 10
          },
          "showarrow": false,
          "text": "23,385,520.89",
          "x": 2024,
          "y": 23385520.89,
          "yshift": 10
         },
         {
          "font": {
           "color": "black",
           "size": 10
          },
          "showarrow": false,
          "text": "24,122,126.73",
          "x": 2025,
          "y": 24122126.73,
          "yshift": 10
         },
         {
          "font": {
           "color": "black",
           "size": 10
          },
          "showarrow": false,
          "text": "24,858,732.58",
          "x": 2026,
          "y": 24858732.58,
          "yshift": 10
         },
         {
          "font": {
           "color": "black",
           "size": 10
          },
          "showarrow": false,
          "text": "10,201,652.88",
          "x": 2019,
          "y": 10201652.88,
          "yshift": 10
         },
         {
          "font": {
           "color": "black",
           "size": 10
          },
          "showarrow": false,
          "text": "12,605,352.22",
          "x": 2020,
          "y": 12605352.22,
          "yshift": 10
         },
         {
          "font": {
           "color": "black",
           "size": 10
          },
          "showarrow": false,
          "text": "13,955,995.96",
          "x": 2021,
          "y": 13955995.96,
          "yshift": 10
         },
         {
          "font": {
           "color": "black",
           "size": 10
          },
          "showarrow": false,
          "text": "19,226,154.07",
          "x": 2022,
          "y": 19226154.07,
          "yshift": 10
         },
         {
          "font": {
           "color": "black",
           "size": 10
          },
          "showarrow": false,
          "text": "19,196,621.48",
          "x": 2023,
          "y": 19196621.48,
          "yshift": 10
         },
         {
          "font": {
           "color": "black",
           "size": 10
          },
          "showarrow": false,
          "text": "23,080,154.58",
          "x": 2024,
          "y": 23080154.58,
          "yshift": 10
         },
         {
          "font": {
           "color": "black",
           "size": 10
          },
          "showarrow": false,
          "text": "25,680,798.97",
          "x": 2025,
          "y": 25680798.97,
          "yshift": 10
         },
         {
          "font": {
           "color": "black",
           "size": 10
          },
          "showarrow": false,
          "text": "28,281,443.36",
          "x": 2026,
          "y": 28281443.36,
          "yshift": 10
         }
        ],
        "plot_bgcolor": "rgba(0,0,0,0)",
        "template": {
         "data": {
          "bar": [
           {
            "error_x": {
             "color": "#2a3f5f"
            },
            "error_y": {
             "color": "#2a3f5f"
            },
            "marker": {
             "line": {
              "color": "#E5ECF6",
              "width": 0.5
             },
             "pattern": {
              "fillmode": "overlay",
              "size": 10,
              "solidity": 0.2
             }
            },
            "type": "bar"
           }
          ],
          "barpolar": [
           {
            "marker": {
             "line": {
              "color": "#E5ECF6",
              "width": 0.5
             },
             "pattern": {
              "fillmode": "overlay",
              "size": 10,
              "solidity": 0.2
             }
            },
            "type": "barpolar"
           }
          ],
          "carpet": [
           {
            "aaxis": {
             "endlinecolor": "#2a3f5f",
             "gridcolor": "white",
             "linecolor": "white",
             "minorgridcolor": "white",
             "startlinecolor": "#2a3f5f"
            },
            "baxis": {
             "endlinecolor": "#2a3f5f",
             "gridcolor": "white",
             "linecolor": "white",
             "minorgridcolor": "white",
             "startlinecolor": "#2a3f5f"
            },
            "type": "carpet"
           }
          ],
          "choropleth": [
           {
            "colorbar": {
             "outlinewidth": 0,
             "ticks": ""
            },
            "type": "choropleth"
           }
          ],
          "contour": [
           {
            "colorbar": {
             "outlinewidth": 0,
             "ticks": ""
            },
            "colorscale": [
             [
              0,
              "#0d0887"
             ],
             [
              0.1111111111111111,
              "#46039f"
             ],
             [
              0.2222222222222222,
              "#7201a8"
             ],
             [
              0.3333333333333333,
              "#9c179e"
             ],
             [
              0.4444444444444444,
              "#bd3786"
             ],
             [
              0.5555555555555556,
              "#d8576b"
             ],
             [
              0.6666666666666666,
              "#ed7953"
             ],
             [
              0.7777777777777778,
              "#fb9f3a"
             ],
             [
              0.8888888888888888,
              "#fdca26"
             ],
             [
              1,
              "#f0f921"
             ]
            ],
            "type": "contour"
           }
          ],
          "contourcarpet": [
           {
            "colorbar": {
             "outlinewidth": 0,
             "ticks": ""
            },
            "type": "contourcarpet"
           }
          ],
          "heatmap": [
           {
            "colorbar": {
             "outlinewidth": 0,
             "ticks": ""
            },
            "colorscale": [
             [
              0,
              "#0d0887"
             ],
             [
              0.1111111111111111,
              "#46039f"
             ],
             [
              0.2222222222222222,
              "#7201a8"
             ],
             [
              0.3333333333333333,
              "#9c179e"
             ],
             [
              0.4444444444444444,
              "#bd3786"
             ],
             [
              0.5555555555555556,
              "#d8576b"
             ],
             [
              0.6666666666666666,
              "#ed7953"
             ],
             [
              0.7777777777777778,
              "#fb9f3a"
             ],
             [
              0.8888888888888888,
              "#fdca26"
             ],
             [
              1,
              "#f0f921"
             ]
            ],
            "type": "heatmap"
           }
          ],
          "heatmapgl": [
           {
            "colorbar": {
             "outlinewidth": 0,
             "ticks": ""
            },
            "colorscale": [
             [
              0,
              "#0d0887"
             ],
             [
              0.1111111111111111,
              "#46039f"
             ],
             [
              0.2222222222222222,
              "#7201a8"
             ],
             [
              0.3333333333333333,
              "#9c179e"
             ],
             [
              0.4444444444444444,
              "#bd3786"
             ],
             [
              0.5555555555555556,
              "#d8576b"
             ],
             [
              0.6666666666666666,
              "#ed7953"
             ],
             [
              0.7777777777777778,
              "#fb9f3a"
             ],
             [
              0.8888888888888888,
              "#fdca26"
             ],
             [
              1,
              "#f0f921"
             ]
            ],
            "type": "heatmapgl"
           }
          ],
          "histogram": [
           {
            "marker": {
             "pattern": {
              "fillmode": "overlay",
              "size": 10,
              "solidity": 0.2
             }
            },
            "type": "histogram"
           }
          ],
          "histogram2d": [
           {
            "colorbar": {
             "outlinewidth": 0,
             "ticks": ""
            },
            "colorscale": [
             [
              0,
              "#0d0887"
             ],
             [
              0.1111111111111111,
              "#46039f"
             ],
             [
              0.2222222222222222,
              "#7201a8"
             ],
             [
              0.3333333333333333,
              "#9c179e"
             ],
             [
              0.4444444444444444,
              "#bd3786"
             ],
             [
              0.5555555555555556,
              "#d8576b"
             ],
             [
              0.6666666666666666,
              "#ed7953"
             ],
             [
              0.7777777777777778,
              "#fb9f3a"
             ],
             [
              0.8888888888888888,
              "#fdca26"
             ],
             [
              1,
              "#f0f921"
             ]
            ],
            "type": "histogram2d"
           }
          ],
          "histogram2dcontour": [
           {
            "colorbar": {
             "outlinewidth": 0,
             "ticks": ""
            },
            "colorscale": [
             [
              0,
              "#0d0887"
             ],
             [
              0.1111111111111111,
              "#46039f"
             ],
             [
              0.2222222222222222,
              "#7201a8"
             ],
             [
              0.3333333333333333,
              "#9c179e"
             ],
             [
              0.4444444444444444,
              "#bd3786"
             ],
             [
              0.5555555555555556,
              "#d8576b"
             ],
             [
              0.6666666666666666,
              "#ed7953"
             ],
             [
              0.7777777777777778,
              "#fb9f3a"
             ],
             [
              0.8888888888888888,
              "#fdca26"
             ],
             [
              1,
              "#f0f921"
             ]
            ],
            "type": "histogram2dcontour"
           }
          ],
          "mesh3d": [
           {
            "colorbar": {
             "outlinewidth": 0,
             "ticks": ""
            },
            "type": "mesh3d"
           }
          ],
          "parcoords": [
           {
            "line": {
             "colorbar": {
              "outlinewidth": 0,
              "ticks": ""
             }
            },
            "type": "parcoords"
           }
          ],
          "pie": [
           {
            "automargin": true,
            "type": "pie"
           }
          ],
          "scatter": [
           {
            "fillpattern": {
             "fillmode": "overlay",
             "size": 10,
             "solidity": 0.2
            },
            "type": "scatter"
           }
          ],
          "scatter3d": [
           {
            "line": {
             "colorbar": {
              "outlinewidth": 0,
              "ticks": ""
             }
            },
            "marker": {
             "colorbar": {
              "outlinewidth": 0,
              "ticks": ""
             }
            },
            "type": "scatter3d"
           }
          ],
          "scattercarpet": [
           {
            "marker": {
             "colorbar": {
              "outlinewidth": 0,
              "ticks": ""
             }
            },
            "type": "scattercarpet"
           }
          ],
          "scattergeo": [
           {
            "marker": {
             "colorbar": {
              "outlinewidth": 0,
              "ticks": ""
             }
            },
            "type": "scattergeo"
           }
          ],
          "scattergl": [
           {
            "marker": {
             "colorbar": {
              "outlinewidth": 0,
              "ticks": ""
             }
            },
            "type": "scattergl"
           }
          ],
          "scattermapbox": [
           {
            "marker": {
             "colorbar": {
              "outlinewidth": 0,
              "ticks": ""
             }
            },
            "type": "scattermapbox"
           }
          ],
          "scatterpolar": [
           {
            "marker": {
             "colorbar": {
              "outlinewidth": 0,
              "ticks": ""
             }
            },
            "type": "scatterpolar"
           }
          ],
          "scatterpolargl": [
           {
            "marker": {
             "colorbar": {
              "outlinewidth": 0,
              "ticks": ""
             }
            },
            "type": "scatterpolargl"
           }
          ],
          "scatterternary": [
           {
            "marker": {
             "colorbar": {
              "outlinewidth": 0,
              "ticks": ""
             }
            },
            "type": "scatterternary"
           }
          ],
          "surface": [
           {
            "colorbar": {
             "outlinewidth": 0,
             "ticks": ""
            },
            "colorscale": [
             [
              0,
              "#0d0887"
             ],
             [
              0.1111111111111111,
              "#46039f"
             ],
             [
              0.2222222222222222,
              "#7201a8"
             ],
             [
              0.3333333333333333,
              "#9c179e"
             ],
             [
              0.4444444444444444,
              "#bd3786"
             ],
             [
              0.5555555555555556,
              "#d8576b"
             ],
             [
              0.6666666666666666,
              "#ed7953"
             ],
             [
              0.7777777777777778,
              "#fb9f3a"
             ],
             [
              0.8888888888888888,
              "#fdca26"
             ],
             [
              1,
              "#f0f921"
             ]
            ],
            "type": "surface"
           }
          ],
          "table": [
           {
            "cells": {
             "fill": {
              "color": "#EBF0F8"
             },
             "line": {
              "color": "white"
             }
            },
            "header": {
             "fill": {
              "color": "#C8D4E3"
             },
             "line": {
              "color": "white"
             }
            },
            "type": "table"
           }
          ]
         },
         "layout": {
          "annotationdefaults": {
           "arrowcolor": "#2a3f5f",
           "arrowhead": 0,
           "arrowwidth": 1
          },
          "autotypenumbers": "strict",
          "coloraxis": {
           "colorbar": {
            "outlinewidth": 0,
            "ticks": ""
           }
          },
          "colorscale": {
           "diverging": [
            [
             0,
             "#8e0152"
            ],
            [
             0.1,
             "#c51b7d"
            ],
            [
             0.2,
             "#de77ae"
            ],
            [
             0.3,
             "#f1b6da"
            ],
            [
             0.4,
             "#fde0ef"
            ],
            [
             0.5,
             "#f7f7f7"
            ],
            [
             0.6,
             "#e6f5d0"
            ],
            [
             0.7,
             "#b8e186"
            ],
            [
             0.8,
             "#7fbc41"
            ],
            [
             0.9,
             "#4d9221"
            ],
            [
             1,
             "#276419"
            ]
           ],
           "sequential": [
            [
             0,
             "#0d0887"
            ],
            [
             0.1111111111111111,
             "#46039f"
            ],
            [
             0.2222222222222222,
             "#7201a8"
            ],
            [
             0.3333333333333333,
             "#9c179e"
            ],
            [
             0.4444444444444444,
             "#bd3786"
            ],
            [
             0.5555555555555556,
             "#d8576b"
            ],
            [
             0.6666666666666666,
             "#ed7953"
            ],
            [
             0.7777777777777778,
             "#fb9f3a"
            ],
            [
             0.8888888888888888,
             "#fdca26"
            ],
            [
             1,
             "#f0f921"
            ]
           ],
           "sequentialminus": [
            [
             0,
             "#0d0887"
            ],
            [
             0.1111111111111111,
             "#46039f"
            ],
            [
             0.2222222222222222,
             "#7201a8"
            ],
            [
             0.3333333333333333,
             "#9c179e"
            ],
            [
             0.4444444444444444,
             "#bd3786"
            ],
            [
             0.5555555555555556,
             "#d8576b"
            ],
            [
             0.6666666666666666,
             "#ed7953"
            ],
            [
             0.7777777777777778,
             "#fb9f3a"
            ],
            [
             0.8888888888888888,
             "#fdca26"
            ],
            [
             1,
             "#f0f921"
            ]
           ]
          },
          "colorway": [
           "#636efa",
           "#EF553B",
           "#00cc96",
           "#ab63fa",
           "#FFA15A",
           "#19d3f3",
           "#FF6692",
           "#B6E880",
           "#FF97FF",
           "#FECB52"
          ],
          "font": {
           "color": "#2a3f5f"
          },
          "geo": {
           "bgcolor": "white",
           "lakecolor": "white",
           "landcolor": "#E5ECF6",
           "showlakes": true,
           "showland": true,
           "subunitcolor": "white"
          },
          "hoverlabel": {
           "align": "left"
          },
          "hovermode": "closest",
          "mapbox": {
           "style": "light"
          },
          "paper_bgcolor": "white",
          "plot_bgcolor": "#E5ECF6",
          "polar": {
           "angularaxis": {
            "gridcolor": "white",
            "linecolor": "white",
            "ticks": ""
           },
           "bgcolor": "#E5ECF6",
           "radialaxis": {
            "gridcolor": "white",
            "linecolor": "white",
            "ticks": ""
           }
          },
          "scene": {
           "xaxis": {
            "backgroundcolor": "#E5ECF6",
            "gridcolor": "white",
            "gridwidth": 2,
            "linecolor": "white",
            "showbackground": true,
            "ticks": "",
            "zerolinecolor": "white"
           },
           "yaxis": {
            "backgroundcolor": "#E5ECF6",
            "gridcolor": "white",
            "gridwidth": 2,
            "linecolor": "white",
            "showbackground": true,
            "ticks": "",
            "zerolinecolor": "white"
           },
           "zaxis": {
            "backgroundcolor": "#E5ECF6",
            "gridcolor": "white",
            "gridwidth": 2,
            "linecolor": "white",
            "showbackground": true,
            "ticks": "",
            "zerolinecolor": "white"
           }
          },
          "shapedefaults": {
           "line": {
            "color": "#2a3f5f"
           }
          },
          "ternary": {
           "aaxis": {
            "gridcolor": "white",
            "linecolor": "white",
            "ticks": ""
           },
           "baxis": {
            "gridcolor": "white",
            "linecolor": "white",
            "ticks": ""
           },
           "bgcolor": "#E5ECF6",
           "caxis": {
            "gridcolor": "white",
            "linecolor": "white",
            "ticks": ""
           }
          },
          "title": {
           "x": 0.05
          },
          "xaxis": {
           "automargin": true,
           "gridcolor": "white",
           "linecolor": "white",
           "ticks": "",
           "title": {
            "standoff": 15
           },
           "zerolinecolor": "white",
           "zerolinewidth": 2
          },
          "yaxis": {
           "automargin": true,
           "gridcolor": "white",
           "linecolor": "white",
           "ticks": "",
           "title": {
            "standoff": 15
           },
           "zerolinecolor": "white",
           "zerolinewidth": 2
          }
         }
        },
        "title": {
         "text": "Monto total anual"
        },
        "yaxis": {
         "gridcolor": "#dddcda"
        }
       }
      }
     },
     "metadata": {},
     "output_type": "display_data"
    }
   ],
   "source": [
    "forecast_creditosgral_totales_pachuca = pd.concat([total_todos_pachuca, total_nueva_pachuca,total_usada_pachuca], ignore_index=True)\n",
    "# Datos\n",
    "trimestres = forecast_creditosgral_totales_pachuca['año']\n",
    "modalidades = forecast_creditosgral_totales_pachuca['modalidad']\n",
    "montos = forecast_creditosgral_totales_pachuca['montos']\n",
    "\n",
    "# Limpiar las cadenas de montos y convertirlas a números\n",
    "promedios_limpios = [float(montos.replace(',', '')) for montos in montos]\n",
    "\n",
    "fig = go.Figure()\n",
    "# Agregar líneas para cada modalidad\n",
    "for modalidad in modalidades.unique():\n",
    "    df_modalidad = forecast_creditosgral_totales_pachuca[forecast_creditosgral_totales_pachuca['modalidad'] == modalidad]\n",
    "    fig.add_trace(go.Scatter(\n",
    "        x=df_modalidad['año'],\n",
    "        y=df_modalidad['montos'].apply(lambda x: float(x.replace(',', ''))),  # Usar los montos limpios\n",
    "        mode='markers+lines',\n",
    "        name=modalidad\n",
    "    ))\n",
    "\n",
    "fig.update_layout(\n",
    "    title='Monto total anual',\n",
    "    yaxis=dict(gridcolor='#dddcda'),\n",
    "    plot_bgcolor='rgba(0,0,0,0)',  # Color de fondo del gráfico\n",
    ")\n",
    "\n",
    "# Agregar etiquetas de texto a los puntos\n",
    "for trace in fig.data:\n",
    "    df_modalidad = forecast_creditosgral_totales_pachuca[forecast_creditosgral_totales_pachuca['modalidad'] == trace.name]\n",
    "    for i, point in enumerate(trace.y):\n",
    "        fig.add_annotation(\n",
    "            x=trace.x[i], \n",
    "            y=point, \n",
    "            text=f'{df_modalidad.iloc[i][\"montos\"]}', \n",
    "            showarrow=False,\n",
    "            font=dict(color='black', size=10),\n",
    "            yshift=10\n",
    "        )\n",
    "\n",
    "# Exportar gráfica como archivo HTML\n",
    "def guardar_grafico_como_html(fig, nombre_archivo, carpeta='graficas'):\n",
    "    # Crear la carpeta si no existe\n",
    "    if not os.path.exists(carpeta):\n",
    "        os.makedirs(carpeta)\n",
    "    \n",
    "    # Gráfica como archivo HTML en la carpeta especificada\n",
    "    pio.write_html(fig, f'{carpeta}/{nombre_archivo}.html')\n",
    "\n",
    "guardar_grafico_como_html(fig, 'g_scatt_forecastcreditgral_promedio_pachuca', carpeta='graficas')\n",
    "fig.show()"
   ]
  },
  {
   "cell_type": "markdown",
   "metadata": {},
   "source": [
    "# **Forecast créditos generales (cantidad)**"
   ]
  },
  {
   "cell_type": "markdown",
   "metadata": {},
   "source": [
    "### BASE"
   ]
  },
  {
   "cell_type": "code",
   "execution_count": 5,
   "metadata": {},
   "outputs": [],
   "source": [
    "creditos_2019_pachuca = df_financiamientos_2019_pachuca[['id','año','mes','modalidad','monto']]\n",
    "creditos_2020_pachuca = df_financiamientos_2020_pachuca[['id','año','mes','modalidad','monto']]\n",
    "creditos_2021_pachuca = df_financiamientos_2021_pachuca[['id','año','mes','modalidad','monto']]\n",
    "creditos_2022_pachuca = df_financiamientos_2022_pachuca[['id','año','mes','modalidad','monto']]\n",
    "creditos_2023_pachuca = df_financiamientos_2023_pachuca[['id','año','mes','modalidad','monto']]"
   ]
  },
  {
   "cell_type": "code",
   "execution_count": 8,
   "metadata": {},
   "outputs": [
    {
     "data": {
      "text/html": [
       "<div>\n",
       "<style scoped>\n",
       "    .dataframe tbody tr th:only-of-type {\n",
       "        vertical-align: middle;\n",
       "    }\n",
       "\n",
       "    .dataframe tbody tr th {\n",
       "        vertical-align: top;\n",
       "    }\n",
       "\n",
       "    .dataframe thead th {\n",
       "        text-align: right;\n",
       "    }\n",
       "</style>\n",
       "<table border=\"1\" class=\"dataframe\">\n",
       "  <thead>\n",
       "    <tr style=\"text-align: right;\">\n",
       "      <th></th>\n",
       "      <th>año</th>\n",
       "      <th>mes</th>\n",
       "      <th>num_registros</th>\n",
       "    </tr>\n",
       "  </thead>\n",
       "  <tbody>\n",
       "    <tr>\n",
       "      <th>0</th>\n",
       "      <td>2019</td>\n",
       "      <td>1</td>\n",
       "      <td>78</td>\n",
       "    </tr>\n",
       "    <tr>\n",
       "      <th>1</th>\n",
       "      <td>2019</td>\n",
       "      <td>2</td>\n",
       "      <td>87</td>\n",
       "    </tr>\n",
       "    <tr>\n",
       "      <th>2</th>\n",
       "      <td>2019</td>\n",
       "      <td>3</td>\n",
       "      <td>88</td>\n",
       "    </tr>\n",
       "    <tr>\n",
       "      <th>3</th>\n",
       "      <td>2019</td>\n",
       "      <td>4</td>\n",
       "      <td>79</td>\n",
       "    </tr>\n",
       "    <tr>\n",
       "      <th>4</th>\n",
       "      <td>2019</td>\n",
       "      <td>5</td>\n",
       "      <td>103</td>\n",
       "    </tr>\n",
       "  </tbody>\n",
       "</table>\n",
       "</div>"
      ],
      "text/plain": [
       "    año  mes  num_registros\n",
       "0  2019    1             78\n",
       "1  2019    2             87\n",
       "2  2019    3             88\n",
       "3  2019    4             79\n",
       "4  2019    5            103"
      ]
     },
     "execution_count": 8,
     "metadata": {},
     "output_type": "execute_result"
    }
   ],
   "source": [
    "total_creditos_2019_pachuca = creditos_2019_pachuca.groupby('mes').count().reset_index()\n",
    "total_creditos_2019_pachuca.rename(columns={'monto': 'num_registros'}, inplace=True)\n",
    "total_creditos_2019_pachuca['año'] = 2019\n",
    "total_creditos_2019_pachuca = total_creditos_2019_pachuca[['año', 'mes', 'num_registros']]\n",
    "\n",
    "total_creditos_2020_pachuca = creditos_2020_pachuca.groupby('mes').count().reset_index()\n",
    "total_creditos_2020_pachuca.rename(columns={'monto': 'num_registros'}, inplace=True)\n",
    "total_creditos_2020_pachuca['año'] = 2020\n",
    "total_creditos_2020_pachuca = total_creditos_2020_pachuca[['año', 'mes', 'num_registros']]\n",
    "\n",
    "total_creditos_2021_pachuca = creditos_2021_pachuca.groupby('mes').count().reset_index()\n",
    "total_creditos_2021_pachuca.rename(columns={'monto': 'num_registros'}, inplace=True)\n",
    "total_creditos_2021_pachuca['año'] = 2021\n",
    "total_creditos_2021_pachuca = total_creditos_2021_pachuca[['año', 'mes', 'num_registros']]\n",
    "\n",
    "total_creditos_2022_pachuca = creditos_2022_pachuca.groupby('mes').count().reset_index()\n",
    "total_creditos_2022_pachuca.rename(columns={'monto': 'num_registros'}, inplace=True)\n",
    "total_creditos_2022_pachuca['año'] = 2022\n",
    "total_creditos_2022_pachuca = total_creditos_2022_pachuca[['año', 'mes', 'num_registros']]\n",
    "\n",
    "total_creditos_2023_pachuca = creditos_2023_pachuca.groupby('mes').count().reset_index()\n",
    "total_creditos_2023_pachuca.rename(columns={'monto': 'num_registros'}, inplace=True)\n",
    "total_creditos_2023_pachuca['año'] = 2023\n",
    "total_creditos_2023_pachuca = total_creditos_2023_pachuca[['año', 'mes', 'num_registros']]\n",
    "\n",
    "total_conteo_creditos_pachuca = pd.concat([total_creditos_2019_pachuca, total_creditos_2020_pachuca, total_creditos_2021_pachuca, total_creditos_2022_pachuca, total_creditos_2023_pachuca], ignore_index=True)\n",
    "total_conteo_creditos_pachuca.head()"
   ]
  },
  {
   "cell_type": "code",
   "execution_count": 9,
   "metadata": {},
   "outputs": [
    {
     "data": {
      "text/html": [
       "<style>#sk-container-id-1 {color: black;background-color: white;}#sk-container-id-1 pre{padding: 0;}#sk-container-id-1 div.sk-toggleable {background-color: white;}#sk-container-id-1 label.sk-toggleable__label {cursor: pointer;display: block;width: 100%;margin-bottom: 0;padding: 0.3em;box-sizing: border-box;text-align: center;}#sk-container-id-1 label.sk-toggleable__label-arrow:before {content: \"▸\";float: left;margin-right: 0.25em;color: #696969;}#sk-container-id-1 label.sk-toggleable__label-arrow:hover:before {color: black;}#sk-container-id-1 div.sk-estimator:hover label.sk-toggleable__label-arrow:before {color: black;}#sk-container-id-1 div.sk-toggleable__content {max-height: 0;max-width: 0;overflow: hidden;text-align: left;background-color: #f0f8ff;}#sk-container-id-1 div.sk-toggleable__content pre {margin: 0.2em;color: black;border-radius: 0.25em;background-color: #f0f8ff;}#sk-container-id-1 input.sk-toggleable__control:checked~div.sk-toggleable__content {max-height: 200px;max-width: 100%;overflow: auto;}#sk-container-id-1 input.sk-toggleable__control:checked~label.sk-toggleable__label-arrow:before {content: \"▾\";}#sk-container-id-1 div.sk-estimator input.sk-toggleable__control:checked~label.sk-toggleable__label {background-color: #d4ebff;}#sk-container-id-1 div.sk-label input.sk-toggleable__control:checked~label.sk-toggleable__label {background-color: #d4ebff;}#sk-container-id-1 input.sk-hidden--visually {border: 0;clip: rect(1px 1px 1px 1px);clip: rect(1px, 1px, 1px, 1px);height: 1px;margin: -1px;overflow: hidden;padding: 0;position: absolute;width: 1px;}#sk-container-id-1 div.sk-estimator {font-family: monospace;background-color: #f0f8ff;border: 1px dotted black;border-radius: 0.25em;box-sizing: border-box;margin-bottom: 0.5em;}#sk-container-id-1 div.sk-estimator:hover {background-color: #d4ebff;}#sk-container-id-1 div.sk-parallel-item::after {content: \"\";width: 100%;border-bottom: 1px solid gray;flex-grow: 1;}#sk-container-id-1 div.sk-label:hover label.sk-toggleable__label {background-color: #d4ebff;}#sk-container-id-1 div.sk-serial::before {content: \"\";position: absolute;border-left: 1px solid gray;box-sizing: border-box;top: 0;bottom: 0;left: 50%;z-index: 0;}#sk-container-id-1 div.sk-serial {display: flex;flex-direction: column;align-items: center;background-color: white;padding-right: 0.2em;padding-left: 0.2em;position: relative;}#sk-container-id-1 div.sk-item {position: relative;z-index: 1;}#sk-container-id-1 div.sk-parallel {display: flex;align-items: stretch;justify-content: center;background-color: white;position: relative;}#sk-container-id-1 div.sk-item::before, #sk-container-id-1 div.sk-parallel-item::before {content: \"\";position: absolute;border-left: 1px solid gray;box-sizing: border-box;top: 0;bottom: 0;left: 50%;z-index: -1;}#sk-container-id-1 div.sk-parallel-item {display: flex;flex-direction: column;z-index: 1;position: relative;background-color: white;}#sk-container-id-1 div.sk-parallel-item:first-child::after {align-self: flex-end;width: 50%;}#sk-container-id-1 div.sk-parallel-item:last-child::after {align-self: flex-start;width: 50%;}#sk-container-id-1 div.sk-parallel-item:only-child::after {width: 0;}#sk-container-id-1 div.sk-dashed-wrapped {border: 1px dashed gray;margin: 0 0.4em 0.5em 0.4em;box-sizing: border-box;padding-bottom: 0.4em;background-color: white;}#sk-container-id-1 div.sk-label label {font-family: monospace;font-weight: bold;display: inline-block;line-height: 1.2em;}#sk-container-id-1 div.sk-label-container {text-align: center;}#sk-container-id-1 div.sk-container {/* jupyter's `normalize.less` sets `[hidden] { display: none; }` but bootstrap.min.css set `[hidden] { display: none !important; }` so we also need the `!important` here to be able to override the default hidden behavior on the sphinx rendered scikit-learn.org. See: https://github.com/scikit-learn/scikit-learn/issues/21755 */display: inline-block !important;position: relative;}#sk-container-id-1 div.sk-text-repr-fallback {display: none;}</style><div id=\"sk-container-id-1\" class=\"sk-top-container\"><div class=\"sk-text-repr-fallback\"><pre>LinearRegression()</pre><b>In a Jupyter environment, please rerun this cell to show the HTML representation or trust the notebook. <br />On GitHub, the HTML representation is unable to render, please try loading this page with nbviewer.org.</b></div><div class=\"sk-container\" hidden><div class=\"sk-item\"><div class=\"sk-estimator sk-toggleable\"><input class=\"sk-toggleable__control sk-hidden--visually\" id=\"sk-estimator-id-1\" type=\"checkbox\" checked><label for=\"sk-estimator-id-1\" class=\"sk-toggleable__label sk-toggleable__label-arrow\">LinearRegression</label><div class=\"sk-toggleable__content\"><pre>LinearRegression()</pre></div></div></div></div></div>"
      ],
      "text/plain": [
       "LinearRegression()"
      ]
     },
     "execution_count": 9,
     "metadata": {},
     "output_type": "execute_result"
    }
   ],
   "source": [
    "from sklearn.model_selection import train_test_split\n",
    "from sklearn.linear_model import LinearRegression\n",
    "\n",
    "# Preparar datos para el modelo\n",
    "X = total_conteo_creditos_pachuca[['año', 'mes']]\n",
    "y = total_conteo_creditos_pachuca['num_registros']\n",
    "# Dividir los datos en conjuntos de entrenamiento y prueba\n",
    "X_train, X_test, y_train, y_test = train_test_split(X, y, test_size=0.2, random_state=42)\n",
    "\n",
    "# Inicializar y entrenar el modelo de regresión lineal\n",
    "modelo = LinearRegression()\n",
    "modelo.fit(X_train, y_train)"
   ]
  },
  {
   "cell_type": "code",
   "execution_count": 10,
   "metadata": {},
   "outputs": [
    {
     "name": "stdout",
     "output_type": "stream",
     "text": [
      "Coeficiente de determinación (R^2): 0.08071049610327774\n",
      "Error cuadrático medio (MSE): 377.9875322137994\n",
      "Error absoluto medio (MAE): 13.82700695981252\n",
      "Raíz del error cuadrático medio (RMSE): 19.441901455716707\n"
     ]
    }
   ],
   "source": [
    "from sklearn.metrics import r2_score\n",
    "import numpy as np\n",
    "\n",
    "# Hacer predicciones en el conjunto de prueba\n",
    "y_pred = modelo.predict(X_test)\n",
    "# Calcular el coeficiente de determinación (R^2)\n",
    "r2 = r2_score(y_test, y_pred)\n",
    "print(\"Coeficiente de determinación (R^2):\", r2)\n",
    "\n",
    "from sklearn.metrics import mean_squared_error\n",
    "mse = mean_squared_error(y_test, y_pred)\n",
    "print(\"Error cuadrático medio (MSE):\", mse)\n",
    "\n",
    "from sklearn.metrics import mean_absolute_error\n",
    "mae = mean_absolute_error(y_test, y_pred)\n",
    "print(\"Error absoluto medio (MAE):\", mae)\n",
    "rmse = np.sqrt(mse)\n",
    "print(\"Raíz del error cuadrático medio (RMSE):\", rmse)"
   ]
  },
  {
   "cell_type": "code",
   "execution_count": 13,
   "metadata": {},
   "outputs": [
    {
     "data": {
      "text/html": [
       "<div>\n",
       "<style scoped>\n",
       "    .dataframe tbody tr th:only-of-type {\n",
       "        vertical-align: middle;\n",
       "    }\n",
       "\n",
       "    .dataframe tbody tr th {\n",
       "        vertical-align: top;\n",
       "    }\n",
       "\n",
       "    .dataframe thead th {\n",
       "        text-align: right;\n",
       "    }\n",
       "</style>\n",
       "<table border=\"1\" class=\"dataframe\">\n",
       "  <thead>\n",
       "    <tr style=\"text-align: right;\">\n",
       "      <th></th>\n",
       "      <th>año</th>\n",
       "      <th>mes</th>\n",
       "      <th>num_registros</th>\n",
       "    </tr>\n",
       "  </thead>\n",
       "  <tbody>\n",
       "    <tr>\n",
       "      <th>0</th>\n",
       "      <td>2019</td>\n",
       "      <td>1</td>\n",
       "      <td>78</td>\n",
       "    </tr>\n",
       "    <tr>\n",
       "      <th>1</th>\n",
       "      <td>2019</td>\n",
       "      <td>2</td>\n",
       "      <td>87</td>\n",
       "    </tr>\n",
       "    <tr>\n",
       "      <th>2</th>\n",
       "      <td>2019</td>\n",
       "      <td>3</td>\n",
       "      <td>88</td>\n",
       "    </tr>\n",
       "    <tr>\n",
       "      <th>3</th>\n",
       "      <td>2019</td>\n",
       "      <td>4</td>\n",
       "      <td>79</td>\n",
       "    </tr>\n",
       "    <tr>\n",
       "      <th>4</th>\n",
       "      <td>2019</td>\n",
       "      <td>5</td>\n",
       "      <td>103</td>\n",
       "    </tr>\n",
       "    <tr>\n",
       "      <th>...</th>\n",
       "      <td>...</td>\n",
       "      <td>...</td>\n",
       "      <td>...</td>\n",
       "    </tr>\n",
       "    <tr>\n",
       "      <th>91</th>\n",
       "      <td>2026</td>\n",
       "      <td>8</td>\n",
       "      <td>131</td>\n",
       "    </tr>\n",
       "    <tr>\n",
       "      <th>92</th>\n",
       "      <td>2026</td>\n",
       "      <td>9</td>\n",
       "      <td>134</td>\n",
       "    </tr>\n",
       "    <tr>\n",
       "      <th>93</th>\n",
       "      <td>2026</td>\n",
       "      <td>10</td>\n",
       "      <td>138</td>\n",
       "    </tr>\n",
       "    <tr>\n",
       "      <th>94</th>\n",
       "      <td>2026</td>\n",
       "      <td>11</td>\n",
       "      <td>142</td>\n",
       "    </tr>\n",
       "    <tr>\n",
       "      <th>95</th>\n",
       "      <td>2026</td>\n",
       "      <td>12</td>\n",
       "      <td>146</td>\n",
       "    </tr>\n",
       "  </tbody>\n",
       "</table>\n",
       "<p>96 rows × 3 columns</p>\n",
       "</div>"
      ],
      "text/plain": [
       "     año  mes  num_registros\n",
       "0   2019    1             78\n",
       "1   2019    2             87\n",
       "2   2019    3             88\n",
       "3   2019    4             79\n",
       "4   2019    5            103\n",
       "..   ...  ...            ...\n",
       "91  2026    8            131\n",
       "92  2026    9            134\n",
       "93  2026   10            138\n",
       "94  2026   11            142\n",
       "95  2026   12            146\n",
       "\n",
       "[96 rows x 3 columns]"
      ]
     },
     "execution_count": 13,
     "metadata": {},
     "output_type": "execute_result"
    }
   ],
   "source": [
    "# DF con todas las combinaciones posibles de año y mes para 2023 FALTANTES (AUG-DEC)\n",
    "fechas_2023 = pd.DataFrame({'año': np.repeat(2023, 5),\n",
    "                            'mes': range(8, 13)})\n",
    "\n",
    "# DF con todas las combinaciones posibles de año y mes para 2024-2026\n",
    "fechas_2024_2026 = pd.DataFrame({'año': np.repeat(range(2024, 2027), 12),\n",
    "                                  'mes': np.tile(range(1, 13), 3)})\n",
    "nuevas_fechas = pd.concat([fechas_2023, fechas_2024_2026]) # Concatenamos \n",
    "\n",
    "# Realizamos predicciones con el modelo entrenado\n",
    "predicciones = modelo.predict(nuevas_fechas)\n",
    "\n",
    "# Redondear las predicciones a números enteros\n",
    "predicciones_enteros = np.round(predicciones).astype(int)\n",
    "\n",
    "# Agregamos las predicciones redondeadas al DataFrame de nuevas fechas\n",
    "nuevas_fechas['num_registros'] = predicciones_enteros\n",
    "nuevas_fechas.head()\n",
    "\n",
    "total_conteo_pachuca = pd.concat([total_conteo_creditos_pachuca, nuevas_fechas], ignore_index=True)\n",
    "total_conteo_pachuca"
   ]
  },
  {
   "cell_type": "code",
   "execution_count": 14,
   "metadata": {},
   "outputs": [
    {
     "data": {
      "text/html": [
       "<div>\n",
       "<style scoped>\n",
       "    .dataframe tbody tr th:only-of-type {\n",
       "        vertical-align: middle;\n",
       "    }\n",
       "\n",
       "    .dataframe tbody tr th {\n",
       "        vertical-align: top;\n",
       "    }\n",
       "\n",
       "    .dataframe thead th {\n",
       "        text-align: right;\n",
       "    }\n",
       "</style>\n",
       "<table border=\"1\" class=\"dataframe\">\n",
       "  <thead>\n",
       "    <tr style=\"text-align: right;\">\n",
       "      <th></th>\n",
       "      <th>año</th>\n",
       "      <th>num_registros</th>\n",
       "      <th>modalidad</th>\n",
       "    </tr>\n",
       "  </thead>\n",
       "  <tbody>\n",
       "    <tr>\n",
       "      <th>0</th>\n",
       "      <td>2019</td>\n",
       "      <td>1,215</td>\n",
       "      <td>Créditos (todos)</td>\n",
       "    </tr>\n",
       "    <tr>\n",
       "      <th>1</th>\n",
       "      <td>2020</td>\n",
       "      <td>1,178</td>\n",
       "      <td>Créditos (todos)</td>\n",
       "    </tr>\n",
       "    <tr>\n",
       "      <th>2</th>\n",
       "      <td>2021</td>\n",
       "      <td>1,430</td>\n",
       "      <td>Créditos (todos)</td>\n",
       "    </tr>\n",
       "    <tr>\n",
       "      <th>3</th>\n",
       "      <td>2022</td>\n",
       "      <td>1,388</td>\n",
       "      <td>Créditos (todos)</td>\n",
       "    </tr>\n",
       "    <tr>\n",
       "      <th>4</th>\n",
       "      <td>2023</td>\n",
       "      <td>1,326</td>\n",
       "      <td>Créditos (todos)</td>\n",
       "    </tr>\n",
       "    <tr>\n",
       "      <th>5</th>\n",
       "      <td>2024</td>\n",
       "      <td>1,417</td>\n",
       "      <td>Créditos (todos)</td>\n",
       "    </tr>\n",
       "    <tr>\n",
       "      <th>6</th>\n",
       "      <td>2025</td>\n",
       "      <td>1,456</td>\n",
       "      <td>Créditos (todos)</td>\n",
       "    </tr>\n",
       "    <tr>\n",
       "      <th>7</th>\n",
       "      <td>2026</td>\n",
       "      <td>1,496</td>\n",
       "      <td>Créditos (todos)</td>\n",
       "    </tr>\n",
       "  </tbody>\n",
       "</table>\n",
       "</div>"
      ],
      "text/plain": [
       "    año num_registros         modalidad\n",
       "0  2019         1,215  Créditos (todos)\n",
       "1  2020         1,178  Créditos (todos)\n",
       "2  2021         1,430  Créditos (todos)\n",
       "3  2022         1,388  Créditos (todos)\n",
       "4  2023         1,326  Créditos (todos)\n",
       "5  2024         1,417  Créditos (todos)\n",
       "6  2025         1,456  Créditos (todos)\n",
       "7  2026         1,496  Créditos (todos)"
      ]
     },
     "execution_count": 14,
     "metadata": {},
     "output_type": "execute_result"
    }
   ],
   "source": [
    "total_conteo_pachuca = total_conteo_pachuca.groupby('año')['num_registros'].sum().reset_index()\n",
    "# Agregar una nueva columna 'vivienda' con el valor 'Usada'\n",
    "total_conteo_pachuca['modalidad'] = 'Créditos (todos)'\n",
    "# Función para formatear números con separadores de coma y sin decimales\n",
    "def format_number(x):\n",
    "    return '{:,.0f}'.format(x)  # Formatear sin decimales\n",
    "# Formatear la columna 'montos' con la función personalizada\n",
    "total_conteo_pachuca['num_registros'] = total_conteo_pachuca['num_registros'].map(format_number)\n",
    "total_conteo_pachuca"
   ]
  },
  {
   "cell_type": "code",
   "execution_count": 16,
   "metadata": {},
   "outputs": [
    {
     "data": {
      "text/html": [
       "<div>\n",
       "<style scoped>\n",
       "    .dataframe tbody tr th:only-of-type {\n",
       "        vertical-align: middle;\n",
       "    }\n",
       "\n",
       "    .dataframe tbody tr th {\n",
       "        vertical-align: top;\n",
       "    }\n",
       "\n",
       "    .dataframe thead th {\n",
       "        text-align: right;\n",
       "    }\n",
       "</style>\n",
       "<table border=\"1\" class=\"dataframe\">\n",
       "  <thead>\n",
       "    <tr style=\"text-align: right;\">\n",
       "      <th></th>\n",
       "      <th>año</th>\n",
       "      <th>mes</th>\n",
       "      <th>num_registros</th>\n",
       "    </tr>\n",
       "  </thead>\n",
       "  <tbody>\n",
       "    <tr>\n",
       "      <th>0</th>\n",
       "      <td>2019</td>\n",
       "      <td>1</td>\n",
       "      <td>50</td>\n",
       "    </tr>\n",
       "    <tr>\n",
       "      <th>1</th>\n",
       "      <td>2019</td>\n",
       "      <td>2</td>\n",
       "      <td>49</td>\n",
       "    </tr>\n",
       "    <tr>\n",
       "      <th>2</th>\n",
       "      <td>2019</td>\n",
       "      <td>3</td>\n",
       "      <td>50</td>\n",
       "    </tr>\n",
       "    <tr>\n",
       "      <th>3</th>\n",
       "      <td>2019</td>\n",
       "      <td>4</td>\n",
       "      <td>38</td>\n",
       "    </tr>\n",
       "    <tr>\n",
       "      <th>4</th>\n",
       "      <td>2019</td>\n",
       "      <td>5</td>\n",
       "      <td>44</td>\n",
       "    </tr>\n",
       "  </tbody>\n",
       "</table>\n",
       "</div>"
      ],
      "text/plain": [
       "    año  mes  num_registros\n",
       "0  2019    1             50\n",
       "1  2019    2             49\n",
       "2  2019    3             50\n",
       "3  2019    4             38\n",
       "4  2019    5             44"
      ]
     },
     "execution_count": 16,
     "metadata": {},
     "output_type": "execute_result"
    }
   ],
   "source": [
    "# Filtrar los datos donde 'modalidad' sea igual a '1'\n",
    "creditos_2019_pachuca_modalidad_1 = creditos_2019_pachuca[creditos_2019_pachuca['modalidad'] == 1]\n",
    "# Agrupar por mes y contar los registros\n",
    "total_creditos_2019_pachuca = creditos_2019_pachuca_modalidad_1.groupby('mes').size().reset_index(name='num_registros')\n",
    "total_creditos_2019_pachuca['año'] = 2019\n",
    "total_creditos_2019_pachuca = total_creditos_2019_pachuca[['año', 'mes', 'num_registros']] # Reordenar las columnas\n",
    "\n",
    "creditos_2020_pachuca_modalidad_1 = creditos_2020_pachuca[creditos_2020_pachuca['modalidad'] == 1]\n",
    "total_creditos_2020_pachuca = creditos_2020_pachuca_modalidad_1.groupby('mes').size().reset_index(name='num_registros')\n",
    "total_creditos_2020_pachuca['año'] = 2020\n",
    "total_creditos_2020_pachuca = total_creditos_2020_pachuca[['año', 'mes', 'num_registros']]\n",
    "\n",
    "creditos_2021_pachuca_modalidad_1 = creditos_2021_pachuca[creditos_2021_pachuca['modalidad'] == 1]\n",
    "total_creditos_2021_pachuca = creditos_2021_pachuca_modalidad_1.groupby('mes').size().reset_index(name='num_registros')\n",
    "total_creditos_2021_pachuca['año'] = 2021\n",
    "total_creditos_2021_pachuca = total_creditos_2021_pachuca[['año', 'mes', 'num_registros']]\n",
    "\n",
    "creditos_2022_pachuca_modalidad_1 = creditos_2022_pachuca[creditos_2022_pachuca['modalidad'] == 1]\n",
    "total_creditos_2022_pachuca = creditos_2022_pachuca_modalidad_1.groupby('mes').size().reset_index(name='num_registros')\n",
    "total_creditos_2022_pachuca['año'] = 2022\n",
    "total_creditos_2022_pachuca = total_creditos_2022_pachuca[['año', 'mes', 'num_registros']]\n",
    "\n",
    "creditos_2023_pachuca_modalidad_1 = creditos_2023_pachuca[creditos_2023_pachuca['modalidad'] == 1]\n",
    "total_creditos_2023_pachuca = creditos_2023_pachuca_modalidad_1.groupby('mes').size().reset_index(name='num_registros')\n",
    "total_creditos_2023_pachuca['año'] = 2023\n",
    "total_creditos_2023_pachuca = total_creditos_2023_pachuca[['año', 'mes', 'num_registros']]\n",
    "\n",
    "nueva_conteo_creditos_pachuca = pd.concat([total_creditos_2019_pachuca, total_creditos_2020_pachuca, total_creditos_2021_pachuca, total_creditos_2022_pachuca, total_creditos_2023_pachuca], ignore_index=True)\n",
    "nueva_conteo_creditos_pachuca.head()"
   ]
  },
  {
   "cell_type": "code",
   "execution_count": 17,
   "metadata": {},
   "outputs": [
    {
     "data": {
      "text/html": [
       "<style>#sk-container-id-2 {color: black;background-color: white;}#sk-container-id-2 pre{padding: 0;}#sk-container-id-2 div.sk-toggleable {background-color: white;}#sk-container-id-2 label.sk-toggleable__label {cursor: pointer;display: block;width: 100%;margin-bottom: 0;padding: 0.3em;box-sizing: border-box;text-align: center;}#sk-container-id-2 label.sk-toggleable__label-arrow:before {content: \"▸\";float: left;margin-right: 0.25em;color: #696969;}#sk-container-id-2 label.sk-toggleable__label-arrow:hover:before {color: black;}#sk-container-id-2 div.sk-estimator:hover label.sk-toggleable__label-arrow:before {color: black;}#sk-container-id-2 div.sk-toggleable__content {max-height: 0;max-width: 0;overflow: hidden;text-align: left;background-color: #f0f8ff;}#sk-container-id-2 div.sk-toggleable__content pre {margin: 0.2em;color: black;border-radius: 0.25em;background-color: #f0f8ff;}#sk-container-id-2 input.sk-toggleable__control:checked~div.sk-toggleable__content {max-height: 200px;max-width: 100%;overflow: auto;}#sk-container-id-2 input.sk-toggleable__control:checked~label.sk-toggleable__label-arrow:before {content: \"▾\";}#sk-container-id-2 div.sk-estimator input.sk-toggleable__control:checked~label.sk-toggleable__label {background-color: #d4ebff;}#sk-container-id-2 div.sk-label input.sk-toggleable__control:checked~label.sk-toggleable__label {background-color: #d4ebff;}#sk-container-id-2 input.sk-hidden--visually {border: 0;clip: rect(1px 1px 1px 1px);clip: rect(1px, 1px, 1px, 1px);height: 1px;margin: -1px;overflow: hidden;padding: 0;position: absolute;width: 1px;}#sk-container-id-2 div.sk-estimator {font-family: monospace;background-color: #f0f8ff;border: 1px dotted black;border-radius: 0.25em;box-sizing: border-box;margin-bottom: 0.5em;}#sk-container-id-2 div.sk-estimator:hover {background-color: #d4ebff;}#sk-container-id-2 div.sk-parallel-item::after {content: \"\";width: 100%;border-bottom: 1px solid gray;flex-grow: 1;}#sk-container-id-2 div.sk-label:hover label.sk-toggleable__label {background-color: #d4ebff;}#sk-container-id-2 div.sk-serial::before {content: \"\";position: absolute;border-left: 1px solid gray;box-sizing: border-box;top: 0;bottom: 0;left: 50%;z-index: 0;}#sk-container-id-2 div.sk-serial {display: flex;flex-direction: column;align-items: center;background-color: white;padding-right: 0.2em;padding-left: 0.2em;position: relative;}#sk-container-id-2 div.sk-item {position: relative;z-index: 1;}#sk-container-id-2 div.sk-parallel {display: flex;align-items: stretch;justify-content: center;background-color: white;position: relative;}#sk-container-id-2 div.sk-item::before, #sk-container-id-2 div.sk-parallel-item::before {content: \"\";position: absolute;border-left: 1px solid gray;box-sizing: border-box;top: 0;bottom: 0;left: 50%;z-index: -1;}#sk-container-id-2 div.sk-parallel-item {display: flex;flex-direction: column;z-index: 1;position: relative;background-color: white;}#sk-container-id-2 div.sk-parallel-item:first-child::after {align-self: flex-end;width: 50%;}#sk-container-id-2 div.sk-parallel-item:last-child::after {align-self: flex-start;width: 50%;}#sk-container-id-2 div.sk-parallel-item:only-child::after {width: 0;}#sk-container-id-2 div.sk-dashed-wrapped {border: 1px dashed gray;margin: 0 0.4em 0.5em 0.4em;box-sizing: border-box;padding-bottom: 0.4em;background-color: white;}#sk-container-id-2 div.sk-label label {font-family: monospace;font-weight: bold;display: inline-block;line-height: 1.2em;}#sk-container-id-2 div.sk-label-container {text-align: center;}#sk-container-id-2 div.sk-container {/* jupyter's `normalize.less` sets `[hidden] { display: none; }` but bootstrap.min.css set `[hidden] { display: none !important; }` so we also need the `!important` here to be able to override the default hidden behavior on the sphinx rendered scikit-learn.org. See: https://github.com/scikit-learn/scikit-learn/issues/21755 */display: inline-block !important;position: relative;}#sk-container-id-2 div.sk-text-repr-fallback {display: none;}</style><div id=\"sk-container-id-2\" class=\"sk-top-container\"><div class=\"sk-text-repr-fallback\"><pre>LinearRegression()</pre><b>In a Jupyter environment, please rerun this cell to show the HTML representation or trust the notebook. <br />On GitHub, the HTML representation is unable to render, please try loading this page with nbviewer.org.</b></div><div class=\"sk-container\" hidden><div class=\"sk-item\"><div class=\"sk-estimator sk-toggleable\"><input class=\"sk-toggleable__control sk-hidden--visually\" id=\"sk-estimator-id-2\" type=\"checkbox\" checked><label for=\"sk-estimator-id-2\" class=\"sk-toggleable__label sk-toggleable__label-arrow\">LinearRegression</label><div class=\"sk-toggleable__content\"><pre>LinearRegression()</pre></div></div></div></div></div>"
      ],
      "text/plain": [
       "LinearRegression()"
      ]
     },
     "execution_count": 17,
     "metadata": {},
     "output_type": "execute_result"
    }
   ],
   "source": [
    "# Preparar datos para el modelo\n",
    "X = nueva_conteo_creditos_pachuca[['año', 'mes']]\n",
    "y = nueva_conteo_creditos_pachuca['num_registros']\n",
    "# Dividir los datos en conjuntos de entrenamiento y prueba\n",
    "X_train, X_test, y_train, y_test = train_test_split(X, y, test_size=0.2, random_state=42)\n",
    "\n",
    "# Inicializar y entrenar el modelo de regresión lineal\n",
    "modelo = LinearRegression()\n",
    "modelo.fit(X_train, y_train)"
   ]
  },
  {
   "cell_type": "code",
   "execution_count": 20,
   "metadata": {},
   "outputs": [
    {
     "data": {
      "text/html": [
       "<div>\n",
       "<style scoped>\n",
       "    .dataframe tbody tr th:only-of-type {\n",
       "        vertical-align: middle;\n",
       "    }\n",
       "\n",
       "    .dataframe tbody tr th {\n",
       "        vertical-align: top;\n",
       "    }\n",
       "\n",
       "    .dataframe thead th {\n",
       "        text-align: right;\n",
       "    }\n",
       "</style>\n",
       "<table border=\"1\" class=\"dataframe\">\n",
       "  <thead>\n",
       "    <tr style=\"text-align: right;\">\n",
       "      <th></th>\n",
       "      <th>año</th>\n",
       "      <th>num_registros</th>\n",
       "      <th>modalidad</th>\n",
       "    </tr>\n",
       "  </thead>\n",
       "  <tbody>\n",
       "    <tr>\n",
       "      <th>0</th>\n",
       "      <td>2019</td>\n",
       "      <td>620</td>\n",
       "      <td>Nueva</td>\n",
       "    </tr>\n",
       "    <tr>\n",
       "      <th>1</th>\n",
       "      <td>2020</td>\n",
       "      <td>629</td>\n",
       "      <td>Nueva</td>\n",
       "    </tr>\n",
       "    <tr>\n",
       "      <th>2</th>\n",
       "      <td>2021</td>\n",
       "      <td>699</td>\n",
       "      <td>Nueva</td>\n",
       "    </tr>\n",
       "    <tr>\n",
       "      <th>3</th>\n",
       "      <td>2022</td>\n",
       "      <td>624</td>\n",
       "      <td>Nueva</td>\n",
       "    </tr>\n",
       "    <tr>\n",
       "      <th>4</th>\n",
       "      <td>2023</td>\n",
       "      <td>535</td>\n",
       "      <td>Nueva</td>\n",
       "    </tr>\n",
       "    <tr>\n",
       "      <th>5</th>\n",
       "      <td>2024</td>\n",
       "      <td>571</td>\n",
       "      <td>Nueva</td>\n",
       "    </tr>\n",
       "    <tr>\n",
       "      <th>6</th>\n",
       "      <td>2025</td>\n",
       "      <td>556</td>\n",
       "      <td>Nueva</td>\n",
       "    </tr>\n",
       "    <tr>\n",
       "      <th>7</th>\n",
       "      <td>2026</td>\n",
       "      <td>540</td>\n",
       "      <td>Nueva</td>\n",
       "    </tr>\n",
       "  </tbody>\n",
       "</table>\n",
       "</div>"
      ],
      "text/plain": [
       "    año num_registros modalidad\n",
       "0  2019           620     Nueva\n",
       "1  2020           629     Nueva\n",
       "2  2021           699     Nueva\n",
       "3  2022           624     Nueva\n",
       "4  2023           535     Nueva\n",
       "5  2024           571     Nueva\n",
       "6  2025           556     Nueva\n",
       "7  2026           540     Nueva"
      ]
     },
     "execution_count": 20,
     "metadata": {},
     "output_type": "execute_result"
    }
   ],
   "source": [
    "# DF con todas las combinaciones posibles de año y mes para 2023 FALTANTES (AUG-DEC)\n",
    "fechas_2023 = pd.DataFrame({'año': np.repeat(2023, 5),\n",
    "                            'mes': range(8, 13)})\n",
    "\n",
    "# DF con todas las combinaciones posibles de año y mes para 2024-2026\n",
    "fechas_2024_2026 = pd.DataFrame({'año': np.repeat(range(2024, 2027), 12),\n",
    "                                  'mes': np.tile(range(1, 13), 3)})\n",
    "nuevas_fechas = pd.concat([fechas_2023, fechas_2024_2026]) # Concatenamos \n",
    "\n",
    "# Realizamos predicciones con el modelo entrenado\n",
    "predicciones = modelo.predict(nuevas_fechas)\n",
    "predicciones_enteros = np.round(predicciones).astype(int) # Redondear las predicciones a números enteros\n",
    "# Agregamos las predicciones redondeadas al DataFrame de nuevas fechas\n",
    "nuevas_fechas['num_registros'] = predicciones_enteros\n",
    "\n",
    "nueva_conteo_pachuca = pd.concat([nueva_conteo_creditos_pachuca, nuevas_fechas], ignore_index=True)\n",
    "nueva_conteo_pachuca = nueva_conteo_pachuca.groupby('año')['num_registros'].sum().reset_index()\n",
    "# Agregar una nueva columna 'vivienda' con el valor 'Usada'\n",
    "nueva_conteo_pachuca['modalidad'] = 'Nueva'\n",
    "\n",
    "# Función para formatear números con separadores de coma y sin decimales\n",
    "def format_number(x):\n",
    "    return '{:,.0f}'.format(x)  # Formatear sin decimales\n",
    "\n",
    "# Formatear la columna 'num_registros' con la función personalizada\n",
    "nueva_conteo_pachuca['num_registros'] = nueva_conteo_pachuca['num_registros'].map(format_number)\n",
    "nueva_conteo_pachuca"
   ]
  },
  {
   "cell_type": "code",
   "execution_count": 22,
   "metadata": {},
   "outputs": [
    {
     "data": {
      "text/html": [
       "<div>\n",
       "<style scoped>\n",
       "    .dataframe tbody tr th:only-of-type {\n",
       "        vertical-align: middle;\n",
       "    }\n",
       "\n",
       "    .dataframe tbody tr th {\n",
       "        vertical-align: top;\n",
       "    }\n",
       "\n",
       "    .dataframe thead th {\n",
       "        text-align: right;\n",
       "    }\n",
       "</style>\n",
       "<table border=\"1\" class=\"dataframe\">\n",
       "  <thead>\n",
       "    <tr style=\"text-align: right;\">\n",
       "      <th></th>\n",
       "      <th>año</th>\n",
       "      <th>mes</th>\n",
       "      <th>num_registros</th>\n",
       "    </tr>\n",
       "  </thead>\n",
       "  <tbody>\n",
       "    <tr>\n",
       "      <th>0</th>\n",
       "      <td>2019</td>\n",
       "      <td>1</td>\n",
       "      <td>3</td>\n",
       "    </tr>\n",
       "    <tr>\n",
       "      <th>1</th>\n",
       "      <td>2019</td>\n",
       "      <td>2</td>\n",
       "      <td>6</td>\n",
       "    </tr>\n",
       "    <tr>\n",
       "      <th>2</th>\n",
       "      <td>2019</td>\n",
       "      <td>3</td>\n",
       "      <td>3</td>\n",
       "    </tr>\n",
       "    <tr>\n",
       "      <th>3</th>\n",
       "      <td>2019</td>\n",
       "      <td>4</td>\n",
       "      <td>6</td>\n",
       "    </tr>\n",
       "    <tr>\n",
       "      <th>4</th>\n",
       "      <td>2019</td>\n",
       "      <td>5</td>\n",
       "      <td>6</td>\n",
       "    </tr>\n",
       "  </tbody>\n",
       "</table>\n",
       "</div>"
      ],
      "text/plain": [
       "    año  mes  num_registros\n",
       "0  2019    1              3\n",
       "1  2019    2              6\n",
       "2  2019    3              3\n",
       "3  2019    4              6\n",
       "4  2019    5              6"
      ]
     },
     "execution_count": 22,
     "metadata": {},
     "output_type": "execute_result"
    }
   ],
   "source": [
    "# Filtrar los datos donde 'modalidad' sea igual a '2'\n",
    "creditos_2019_pachuca_modalidad_1 = creditos_2019_pachuca[creditos_2019_pachuca['modalidad'] == 2]\n",
    "# Agrupar por mes y contar los registros\n",
    "total_creditos_2019_pachuca = creditos_2019_pachuca_modalidad_1.groupby('mes').size().reset_index(name='num_registros')\n",
    "total_creditos_2019_pachuca['año'] = 2019\n",
    "total_creditos_2019_pachuca = total_creditos_2019_pachuca[['año', 'mes', 'num_registros']] # Reordenar las columnas\n",
    "\n",
    "creditos_2020_pachuca_modalidad_1 = creditos_2020_pachuca[creditos_2020_pachuca['modalidad'] == 2]\n",
    "total_creditos_2020_pachuca = creditos_2020_pachuca_modalidad_1.groupby('mes').size().reset_index(name='num_registros')\n",
    "total_creditos_2020_pachuca['año'] = 2020\n",
    "total_creditos_2020_pachuca = total_creditos_2020_pachuca[['año', 'mes', 'num_registros']]\n",
    "\n",
    "creditos_2021_pachuca_modalidad_1 = creditos_2021_pachuca[creditos_2021_pachuca['modalidad'] == 2]\n",
    "total_creditos_2021_pachuca = creditos_2021_pachuca_modalidad_1.groupby('mes').size().reset_index(name='num_registros')\n",
    "total_creditos_2021_pachuca['año'] = 2021\n",
    "total_creditos_2021_pachuca = total_creditos_2021_pachuca[['año', 'mes', 'num_registros']]\n",
    "\n",
    "creditos_2022_pachuca_modalidad_1 = creditos_2022_pachuca[creditos_2022_pachuca['modalidad'] == 2]\n",
    "total_creditos_2022_pachuca = creditos_2022_pachuca_modalidad_1.groupby('mes').size().reset_index(name='num_registros')\n",
    "total_creditos_2022_pachuca['año'] = 2022\n",
    "total_creditos_2022_pachuca = total_creditos_2022_pachuca[['año', 'mes', 'num_registros']]\n",
    "\n",
    "creditos_2023_pachuca_modalidad_1 = creditos_2023_pachuca[creditos_2023_pachuca['modalidad'] == 2]\n",
    "total_creditos_2023_pachuca = creditos_2023_pachuca_modalidad_1.groupby('mes').size().reset_index(name='num_registros')\n",
    "total_creditos_2023_pachuca['año'] = 2023\n",
    "total_creditos_2023_pachuca = total_creditos_2023_pachuca[['año', 'mes', 'num_registros']]\n",
    "\n",
    "# Concatenar los DataFrames resultantes para cada año\n",
    "mejoramiento_conteo_pachuca = pd.concat([total_creditos_2019_pachuca, total_creditos_2020_pachuca,total_creditos_2021_pachuca,total_creditos_2022_pachuca,total_creditos_2023_pachuca], ignore_index=True)\n",
    "mejoramiento_conteo_pachuca.head()"
   ]
  },
  {
   "cell_type": "code",
   "execution_count": 23,
   "metadata": {},
   "outputs": [
    {
     "data": {
      "text/html": [
       "<style>#sk-container-id-3 {color: black;background-color: white;}#sk-container-id-3 pre{padding: 0;}#sk-container-id-3 div.sk-toggleable {background-color: white;}#sk-container-id-3 label.sk-toggleable__label {cursor: pointer;display: block;width: 100%;margin-bottom: 0;padding: 0.3em;box-sizing: border-box;text-align: center;}#sk-container-id-3 label.sk-toggleable__label-arrow:before {content: \"▸\";float: left;margin-right: 0.25em;color: #696969;}#sk-container-id-3 label.sk-toggleable__label-arrow:hover:before {color: black;}#sk-container-id-3 div.sk-estimator:hover label.sk-toggleable__label-arrow:before {color: black;}#sk-container-id-3 div.sk-toggleable__content {max-height: 0;max-width: 0;overflow: hidden;text-align: left;background-color: #f0f8ff;}#sk-container-id-3 div.sk-toggleable__content pre {margin: 0.2em;color: black;border-radius: 0.25em;background-color: #f0f8ff;}#sk-container-id-3 input.sk-toggleable__control:checked~div.sk-toggleable__content {max-height: 200px;max-width: 100%;overflow: auto;}#sk-container-id-3 input.sk-toggleable__control:checked~label.sk-toggleable__label-arrow:before {content: \"▾\";}#sk-container-id-3 div.sk-estimator input.sk-toggleable__control:checked~label.sk-toggleable__label {background-color: #d4ebff;}#sk-container-id-3 div.sk-label input.sk-toggleable__control:checked~label.sk-toggleable__label {background-color: #d4ebff;}#sk-container-id-3 input.sk-hidden--visually {border: 0;clip: rect(1px 1px 1px 1px);clip: rect(1px, 1px, 1px, 1px);height: 1px;margin: -1px;overflow: hidden;padding: 0;position: absolute;width: 1px;}#sk-container-id-3 div.sk-estimator {font-family: monospace;background-color: #f0f8ff;border: 1px dotted black;border-radius: 0.25em;box-sizing: border-box;margin-bottom: 0.5em;}#sk-container-id-3 div.sk-estimator:hover {background-color: #d4ebff;}#sk-container-id-3 div.sk-parallel-item::after {content: \"\";width: 100%;border-bottom: 1px solid gray;flex-grow: 1;}#sk-container-id-3 div.sk-label:hover label.sk-toggleable__label {background-color: #d4ebff;}#sk-container-id-3 div.sk-serial::before {content: \"\";position: absolute;border-left: 1px solid gray;box-sizing: border-box;top: 0;bottom: 0;left: 50%;z-index: 0;}#sk-container-id-3 div.sk-serial {display: flex;flex-direction: column;align-items: center;background-color: white;padding-right: 0.2em;padding-left: 0.2em;position: relative;}#sk-container-id-3 div.sk-item {position: relative;z-index: 1;}#sk-container-id-3 div.sk-parallel {display: flex;align-items: stretch;justify-content: center;background-color: white;position: relative;}#sk-container-id-3 div.sk-item::before, #sk-container-id-3 div.sk-parallel-item::before {content: \"\";position: absolute;border-left: 1px solid gray;box-sizing: border-box;top: 0;bottom: 0;left: 50%;z-index: -1;}#sk-container-id-3 div.sk-parallel-item {display: flex;flex-direction: column;z-index: 1;position: relative;background-color: white;}#sk-container-id-3 div.sk-parallel-item:first-child::after {align-self: flex-end;width: 50%;}#sk-container-id-3 div.sk-parallel-item:last-child::after {align-self: flex-start;width: 50%;}#sk-container-id-3 div.sk-parallel-item:only-child::after {width: 0;}#sk-container-id-3 div.sk-dashed-wrapped {border: 1px dashed gray;margin: 0 0.4em 0.5em 0.4em;box-sizing: border-box;padding-bottom: 0.4em;background-color: white;}#sk-container-id-3 div.sk-label label {font-family: monospace;font-weight: bold;display: inline-block;line-height: 1.2em;}#sk-container-id-3 div.sk-label-container {text-align: center;}#sk-container-id-3 div.sk-container {/* jupyter's `normalize.less` sets `[hidden] { display: none; }` but bootstrap.min.css set `[hidden] { display: none !important; }` so we also need the `!important` here to be able to override the default hidden behavior on the sphinx rendered scikit-learn.org. See: https://github.com/scikit-learn/scikit-learn/issues/21755 */display: inline-block !important;position: relative;}#sk-container-id-3 div.sk-text-repr-fallback {display: none;}</style><div id=\"sk-container-id-3\" class=\"sk-top-container\"><div class=\"sk-text-repr-fallback\"><pre>LinearRegression()</pre><b>In a Jupyter environment, please rerun this cell to show the HTML representation or trust the notebook. <br />On GitHub, the HTML representation is unable to render, please try loading this page with nbviewer.org.</b></div><div class=\"sk-container\" hidden><div class=\"sk-item\"><div class=\"sk-estimator sk-toggleable\"><input class=\"sk-toggleable__control sk-hidden--visually\" id=\"sk-estimator-id-3\" type=\"checkbox\" checked><label for=\"sk-estimator-id-3\" class=\"sk-toggleable__label sk-toggleable__label-arrow\">LinearRegression</label><div class=\"sk-toggleable__content\"><pre>LinearRegression()</pre></div></div></div></div></div>"
      ],
      "text/plain": [
       "LinearRegression()"
      ]
     },
     "execution_count": 23,
     "metadata": {},
     "output_type": "execute_result"
    }
   ],
   "source": [
    "# Preparar datos para el modelo\n",
    "X = mejoramiento_conteo_pachuca[['año', 'mes']]\n",
    "y = mejoramiento_conteo_pachuca['num_registros']\n",
    "# Dividir los datos en conjuntos de entrenamiento y prueba\n",
    "X_train, X_test, y_train, y_test = train_test_split(X, y, test_size=0.2, random_state=42)\n",
    "\n",
    "# Inicializar y entrenar el modelo de regresión lineal\n",
    "modelo = LinearRegression()\n",
    "modelo.fit(X_train, y_train)"
   ]
  },
  {
   "cell_type": "code",
   "execution_count": 24,
   "metadata": {},
   "outputs": [
    {
     "data": {
      "text/html": [
       "<div>\n",
       "<style scoped>\n",
       "    .dataframe tbody tr th:only-of-type {\n",
       "        vertical-align: middle;\n",
       "    }\n",
       "\n",
       "    .dataframe tbody tr th {\n",
       "        vertical-align: top;\n",
       "    }\n",
       "\n",
       "    .dataframe thead th {\n",
       "        text-align: right;\n",
       "    }\n",
       "</style>\n",
       "<table border=\"1\" class=\"dataframe\">\n",
       "  <thead>\n",
       "    <tr style=\"text-align: right;\">\n",
       "      <th></th>\n",
       "      <th>año</th>\n",
       "      <th>num_registros</th>\n",
       "      <th>modalidad</th>\n",
       "    </tr>\n",
       "  </thead>\n",
       "  <tbody>\n",
       "    <tr>\n",
       "      <th>0</th>\n",
       "      <td>2019</td>\n",
       "      <td>75</td>\n",
       "      <td>Mejoramientos</td>\n",
       "    </tr>\n",
       "    <tr>\n",
       "      <th>1</th>\n",
       "      <td>2020</td>\n",
       "      <td>94</td>\n",
       "      <td>Mejoramientos</td>\n",
       "    </tr>\n",
       "    <tr>\n",
       "      <th>2</th>\n",
       "      <td>2021</td>\n",
       "      <td>89</td>\n",
       "      <td>Mejoramientos</td>\n",
       "    </tr>\n",
       "    <tr>\n",
       "      <th>3</th>\n",
       "      <td>2022</td>\n",
       "      <td>152</td>\n",
       "      <td>Mejoramientos</td>\n",
       "    </tr>\n",
       "    <tr>\n",
       "      <th>4</th>\n",
       "      <td>2023</td>\n",
       "      <td>187</td>\n",
       "      <td>Mejoramientos</td>\n",
       "    </tr>\n",
       "    <tr>\n",
       "      <th>5</th>\n",
       "      <td>2024</td>\n",
       "      <td>210</td>\n",
       "      <td>Mejoramientos</td>\n",
       "    </tr>\n",
       "    <tr>\n",
       "      <th>6</th>\n",
       "      <td>2025</td>\n",
       "      <td>243</td>\n",
       "      <td>Mejoramientos</td>\n",
       "    </tr>\n",
       "    <tr>\n",
       "      <th>7</th>\n",
       "      <td>2026</td>\n",
       "      <td>276</td>\n",
       "      <td>Mejoramientos</td>\n",
       "    </tr>\n",
       "  </tbody>\n",
       "</table>\n",
       "</div>"
      ],
      "text/plain": [
       "    año num_registros      modalidad\n",
       "0  2019            75  Mejoramientos\n",
       "1  2020            94  Mejoramientos\n",
       "2  2021            89  Mejoramientos\n",
       "3  2022           152  Mejoramientos\n",
       "4  2023           187  Mejoramientos\n",
       "5  2024           210  Mejoramientos\n",
       "6  2025           243  Mejoramientos\n",
       "7  2026           276  Mejoramientos"
      ]
     },
     "execution_count": 24,
     "metadata": {},
     "output_type": "execute_result"
    }
   ],
   "source": [
    "# DF con todas las combinaciones posibles de año y mes para 2023 FALTANTES (AUG-DEC)\n",
    "fechas_2023 = pd.DataFrame({'año': np.repeat(2023, 5),\n",
    "                            'mes': range(8, 13)})\n",
    "\n",
    "# DF con todas las combinaciones posibles de año y mes para 2024-2026\n",
    "fechas_2024_2026 = pd.DataFrame({'año': np.repeat(range(2024, 2027), 12),\n",
    "                                  'mes': np.tile(range(1, 13), 3)})\n",
    "nuevas_fechas = pd.concat([fechas_2023, fechas_2024_2026]) # Concatenamos \n",
    "\n",
    "# Realizamos predicciones con el modelo entrenado\n",
    "predicciones = modelo.predict(nuevas_fechas)\n",
    "\n",
    "# Redondear las predicciones a números enteros\n",
    "predicciones_enteros = np.round(predicciones).astype(int)\n",
    "\n",
    "# Agregamos las predicciones redondeadas al DataFrame de nuevas fechas\n",
    "nuevas_fechas['num_registros'] = predicciones_enteros\n",
    "mejoramiento_conteo_pachuca = pd.concat([mejoramiento_conteo_pachuca, nuevas_fechas], ignore_index=True)\n",
    "mejoramiento_conteo_pachuca = mejoramiento_conteo_pachuca.groupby('año')['num_registros'].sum().reset_index()\n",
    "# Agregar una nueva columna 'vivienda' con el valor 'Usada'\n",
    "mejoramiento_conteo_pachuca['modalidad'] = 'Mejoramientos'\n",
    "\n",
    "# Función para formatear números con separadores de coma y sin decimales\n",
    "def format_number(x):\n",
    "    return '{:,.0f}'.format(x)  # Formatear sin decimales\n",
    "\n",
    "# Formatear la columna 'num_registros' con la función personalizada\n",
    "mejoramiento_conteo_pachuca['num_registros'] = mejoramiento_conteo_pachuca['num_registros'].map(format_number)\n",
    "mejoramiento_conteo_pachuca"
   ]
  },
  {
   "cell_type": "code",
   "execution_count": 25,
   "metadata": {},
   "outputs": [
    {
     "data": {
      "text/html": [
       "<div>\n",
       "<style scoped>\n",
       "    .dataframe tbody tr th:only-of-type {\n",
       "        vertical-align: middle;\n",
       "    }\n",
       "\n",
       "    .dataframe tbody tr th {\n",
       "        vertical-align: top;\n",
       "    }\n",
       "\n",
       "    .dataframe thead th {\n",
       "        text-align: right;\n",
       "    }\n",
       "</style>\n",
       "<table border=\"1\" class=\"dataframe\">\n",
       "  <thead>\n",
       "    <tr style=\"text-align: right;\">\n",
       "      <th></th>\n",
       "      <th>año</th>\n",
       "      <th>mes</th>\n",
       "      <th>num_registros</th>\n",
       "    </tr>\n",
       "  </thead>\n",
       "  <tbody>\n",
       "    <tr>\n",
       "      <th>0</th>\n",
       "      <td>2019</td>\n",
       "      <td>1</td>\n",
       "      <td>19</td>\n",
       "    </tr>\n",
       "    <tr>\n",
       "      <th>1</th>\n",
       "      <td>2019</td>\n",
       "      <td>2</td>\n",
       "      <td>30</td>\n",
       "    </tr>\n",
       "    <tr>\n",
       "      <th>2</th>\n",
       "      <td>2019</td>\n",
       "      <td>3</td>\n",
       "      <td>30</td>\n",
       "    </tr>\n",
       "    <tr>\n",
       "      <th>3</th>\n",
       "      <td>2019</td>\n",
       "      <td>4</td>\n",
       "      <td>32</td>\n",
       "    </tr>\n",
       "    <tr>\n",
       "      <th>4</th>\n",
       "      <td>2019</td>\n",
       "      <td>5</td>\n",
       "      <td>51</td>\n",
       "    </tr>\n",
       "  </tbody>\n",
       "</table>\n",
       "</div>"
      ],
      "text/plain": [
       "    año  mes  num_registros\n",
       "0  2019    1             19\n",
       "1  2019    2             30\n",
       "2  2019    3             30\n",
       "3  2019    4             32\n",
       "4  2019    5             51"
      ]
     },
     "execution_count": 25,
     "metadata": {},
     "output_type": "execute_result"
    }
   ],
   "source": [
    "# Filtrar los datos donde 'modalidad' sea igual a '2'\n",
    "creditos_2019_pachuca_modalidad_1 = creditos_2019_pachuca[creditos_2019_pachuca['modalidad'] == 3]\n",
    "# Agrupar por mes y contar los registros\n",
    "total_creditos_2019_pachuca = creditos_2019_pachuca_modalidad_1.groupby('mes').size().reset_index(name='num_registros')\n",
    "total_creditos_2019_pachuca['año'] = 2019\n",
    "total_creditos_2019_pachuca = total_creditos_2019_pachuca[['año', 'mes', 'num_registros']] # Reordenar las columnas\n",
    "\n",
    "creditos_2020_pachuca_modalidad_1 = creditos_2020_pachuca[creditos_2020_pachuca['modalidad'] == 3]\n",
    "total_creditos_2020_pachuca = creditos_2020_pachuca_modalidad_1.groupby('mes').size().reset_index(name='num_registros')\n",
    "total_creditos_2020_pachuca['año'] = 2020\n",
    "total_creditos_2020_pachuca = total_creditos_2020_pachuca[['año', 'mes', 'num_registros']]\n",
    "\n",
    "creditos_2021_pachuca_modalidad_1 = creditos_2021_pachuca[creditos_2021_pachuca['modalidad'] == 3]\n",
    "total_creditos_2021_pachuca = creditos_2021_pachuca_modalidad_1.groupby('mes').size().reset_index(name='num_registros')\n",
    "total_creditos_2021_pachuca['año'] = 2021\n",
    "total_creditos_2021_pachuca = total_creditos_2021_pachuca[['año', 'mes', 'num_registros']]\n",
    "\n",
    "creditos_2022_pachuca_modalidad_1 = creditos_2022_pachuca[creditos_2022_pachuca['modalidad'] == 3]\n",
    "total_creditos_2022_pachuca = creditos_2022_pachuca_modalidad_1.groupby('mes').size().reset_index(name='num_registros')\n",
    "total_creditos_2022_pachuca['año'] = 2022\n",
    "total_creditos_2022_pachuca = total_creditos_2022_pachuca[['año', 'mes', 'num_registros']]\n",
    "\n",
    "creditos_2023_pachuca_modalidad_1 = creditos_2023_pachuca[creditos_2023_pachuca['modalidad'] == 3]\n",
    "total_creditos_2023_pachuca = creditos_2023_pachuca_modalidad_1.groupby('mes').size().reset_index(name='num_registros')\n",
    "total_creditos_2023_pachuca['año'] = 2023\n",
    "total_creditos_2023_pachuca = total_creditos_2023_pachuca[['año', 'mes', 'num_registros']]\n",
    "\n",
    "# Concatenar los DataFrames resultantes para cada año\n",
    "usada_conteo_pachuca = pd.concat([total_creditos_2019_pachuca, total_creditos_2020_pachuca,total_creditos_2021_pachuca,total_creditos_2022_pachuca,total_creditos_2023_pachuca], ignore_index=True)\n",
    "usada_conteo_pachuca.head()"
   ]
  },
  {
   "cell_type": "code",
   "execution_count": 26,
   "metadata": {},
   "outputs": [
    {
     "data": {
      "text/html": [
       "<style>#sk-container-id-4 {color: black;background-color: white;}#sk-container-id-4 pre{padding: 0;}#sk-container-id-4 div.sk-toggleable {background-color: white;}#sk-container-id-4 label.sk-toggleable__label {cursor: pointer;display: block;width: 100%;margin-bottom: 0;padding: 0.3em;box-sizing: border-box;text-align: center;}#sk-container-id-4 label.sk-toggleable__label-arrow:before {content: \"▸\";float: left;margin-right: 0.25em;color: #696969;}#sk-container-id-4 label.sk-toggleable__label-arrow:hover:before {color: black;}#sk-container-id-4 div.sk-estimator:hover label.sk-toggleable__label-arrow:before {color: black;}#sk-container-id-4 div.sk-toggleable__content {max-height: 0;max-width: 0;overflow: hidden;text-align: left;background-color: #f0f8ff;}#sk-container-id-4 div.sk-toggleable__content pre {margin: 0.2em;color: black;border-radius: 0.25em;background-color: #f0f8ff;}#sk-container-id-4 input.sk-toggleable__control:checked~div.sk-toggleable__content {max-height: 200px;max-width: 100%;overflow: auto;}#sk-container-id-4 input.sk-toggleable__control:checked~label.sk-toggleable__label-arrow:before {content: \"▾\";}#sk-container-id-4 div.sk-estimator input.sk-toggleable__control:checked~label.sk-toggleable__label {background-color: #d4ebff;}#sk-container-id-4 div.sk-label input.sk-toggleable__control:checked~label.sk-toggleable__label {background-color: #d4ebff;}#sk-container-id-4 input.sk-hidden--visually {border: 0;clip: rect(1px 1px 1px 1px);clip: rect(1px, 1px, 1px, 1px);height: 1px;margin: -1px;overflow: hidden;padding: 0;position: absolute;width: 1px;}#sk-container-id-4 div.sk-estimator {font-family: monospace;background-color: #f0f8ff;border: 1px dotted black;border-radius: 0.25em;box-sizing: border-box;margin-bottom: 0.5em;}#sk-container-id-4 div.sk-estimator:hover {background-color: #d4ebff;}#sk-container-id-4 div.sk-parallel-item::after {content: \"\";width: 100%;border-bottom: 1px solid gray;flex-grow: 1;}#sk-container-id-4 div.sk-label:hover label.sk-toggleable__label {background-color: #d4ebff;}#sk-container-id-4 div.sk-serial::before {content: \"\";position: absolute;border-left: 1px solid gray;box-sizing: border-box;top: 0;bottom: 0;left: 50%;z-index: 0;}#sk-container-id-4 div.sk-serial {display: flex;flex-direction: column;align-items: center;background-color: white;padding-right: 0.2em;padding-left: 0.2em;position: relative;}#sk-container-id-4 div.sk-item {position: relative;z-index: 1;}#sk-container-id-4 div.sk-parallel {display: flex;align-items: stretch;justify-content: center;background-color: white;position: relative;}#sk-container-id-4 div.sk-item::before, #sk-container-id-4 div.sk-parallel-item::before {content: \"\";position: absolute;border-left: 1px solid gray;box-sizing: border-box;top: 0;bottom: 0;left: 50%;z-index: -1;}#sk-container-id-4 div.sk-parallel-item {display: flex;flex-direction: column;z-index: 1;position: relative;background-color: white;}#sk-container-id-4 div.sk-parallel-item:first-child::after {align-self: flex-end;width: 50%;}#sk-container-id-4 div.sk-parallel-item:last-child::after {align-self: flex-start;width: 50%;}#sk-container-id-4 div.sk-parallel-item:only-child::after {width: 0;}#sk-container-id-4 div.sk-dashed-wrapped {border: 1px dashed gray;margin: 0 0.4em 0.5em 0.4em;box-sizing: border-box;padding-bottom: 0.4em;background-color: white;}#sk-container-id-4 div.sk-label label {font-family: monospace;font-weight: bold;display: inline-block;line-height: 1.2em;}#sk-container-id-4 div.sk-label-container {text-align: center;}#sk-container-id-4 div.sk-container {/* jupyter's `normalize.less` sets `[hidden] { display: none; }` but bootstrap.min.css set `[hidden] { display: none !important; }` so we also need the `!important` here to be able to override the default hidden behavior on the sphinx rendered scikit-learn.org. See: https://github.com/scikit-learn/scikit-learn/issues/21755 */display: inline-block !important;position: relative;}#sk-container-id-4 div.sk-text-repr-fallback {display: none;}</style><div id=\"sk-container-id-4\" class=\"sk-top-container\"><div class=\"sk-text-repr-fallback\"><pre>LinearRegression()</pre><b>In a Jupyter environment, please rerun this cell to show the HTML representation or trust the notebook. <br />On GitHub, the HTML representation is unable to render, please try loading this page with nbviewer.org.</b></div><div class=\"sk-container\" hidden><div class=\"sk-item\"><div class=\"sk-estimator sk-toggleable\"><input class=\"sk-toggleable__control sk-hidden--visually\" id=\"sk-estimator-id-4\" type=\"checkbox\" checked><label for=\"sk-estimator-id-4\" class=\"sk-toggleable__label sk-toggleable__label-arrow\">LinearRegression</label><div class=\"sk-toggleable__content\"><pre>LinearRegression()</pre></div></div></div></div></div>"
      ],
      "text/plain": [
       "LinearRegression()"
      ]
     },
     "execution_count": 26,
     "metadata": {},
     "output_type": "execute_result"
    }
   ],
   "source": [
    "# Preparar datos para el modelo\n",
    "X = usada_conteo_pachuca[['año', 'mes']]\n",
    "y = usada_conteo_pachuca['num_registros']\n",
    "# Dividir los datos en conjuntos de entrenamiento y prueba\n",
    "X_train, X_test, y_train, y_test = train_test_split(X, y, test_size=0.2, random_state=42)\n",
    "\n",
    "# Inicializar y entrenar el modelo de regresión lineal\n",
    "modelo = LinearRegression()\n",
    "modelo.fit(X_train, y_train)"
   ]
  },
  {
   "cell_type": "code",
   "execution_count": 27,
   "metadata": {},
   "outputs": [
    {
     "name": "stdout",
     "output_type": "stream",
     "text": [
      "Coeficiente de determinación (R^2): -0.24750495642062442\n",
      "Error cuadrático medio (MSE): 53.384964168148706\n",
      "Error absoluto medio (MAE): 5.602267114520559\n",
      "Raíz del error cuadrático medio (RMSE): 7.306501499907374\n"
     ]
    }
   ],
   "source": [
    "from sklearn.metrics import r2_score\n",
    "# Hacer predicciones en el conjunto de prueba\n",
    "y_pred = modelo.predict(X_test)\n",
    "# Calcular el coeficiente de determinación (R^2)\n",
    "r2 = r2_score(y_test, y_pred)\n",
    "print(\"Coeficiente de determinación (R^2):\", r2)\n",
    "\n",
    "from sklearn.metrics import mean_squared_error\n",
    "mse = mean_squared_error(y_test, y_pred)\n",
    "print(\"Error cuadrático medio (MSE):\", mse)\n",
    "\n",
    "from sklearn.metrics import mean_absolute_error\n",
    "mae = mean_absolute_error(y_test, y_pred)\n",
    "print(\"Error absoluto medio (MAE):\", mae)\n",
    "rmse = np.sqrt(mse)\n",
    "print(\"Raíz del error cuadrático medio (RMSE):\", rmse)"
   ]
  },
  {
   "cell_type": "code",
   "execution_count": 28,
   "metadata": {},
   "outputs": [
    {
     "data": {
      "text/html": [
       "<div>\n",
       "<style scoped>\n",
       "    .dataframe tbody tr th:only-of-type {\n",
       "        vertical-align: middle;\n",
       "    }\n",
       "\n",
       "    .dataframe tbody tr th {\n",
       "        vertical-align: top;\n",
       "    }\n",
       "\n",
       "    .dataframe thead th {\n",
       "        text-align: right;\n",
       "    }\n",
       "</style>\n",
       "<table border=\"1\" class=\"dataframe\">\n",
       "  <thead>\n",
       "    <tr style=\"text-align: right;\">\n",
       "      <th></th>\n",
       "      <th>año</th>\n",
       "      <th>num_registros</th>\n",
       "      <th>modalidad</th>\n",
       "    </tr>\n",
       "  </thead>\n",
       "  <tbody>\n",
       "    <tr>\n",
       "      <th>0</th>\n",
       "      <td>2019</td>\n",
       "      <td>454</td>\n",
       "      <td>Usada</td>\n",
       "    </tr>\n",
       "    <tr>\n",
       "      <th>1</th>\n",
       "      <td>2020</td>\n",
       "      <td>385</td>\n",
       "      <td>Usada</td>\n",
       "    </tr>\n",
       "    <tr>\n",
       "      <th>2</th>\n",
       "      <td>2021</td>\n",
       "      <td>535</td>\n",
       "      <td>Usada</td>\n",
       "    </tr>\n",
       "    <tr>\n",
       "      <th>3</th>\n",
       "      <td>2022</td>\n",
       "      <td>517</td>\n",
       "      <td>Usada</td>\n",
       "    </tr>\n",
       "    <tr>\n",
       "      <th>4</th>\n",
       "      <td>2023</td>\n",
       "      <td>505</td>\n",
       "      <td>Usada</td>\n",
       "    </tr>\n",
       "    <tr>\n",
       "      <th>5</th>\n",
       "      <td>2024</td>\n",
       "      <td>544</td>\n",
       "      <td>Usada</td>\n",
       "    </tr>\n",
       "    <tr>\n",
       "      <th>6</th>\n",
       "      <td>2025</td>\n",
       "      <td>567</td>\n",
       "      <td>Usada</td>\n",
       "    </tr>\n",
       "    <tr>\n",
       "      <th>7</th>\n",
       "      <td>2026</td>\n",
       "      <td>588</td>\n",
       "      <td>Usada</td>\n",
       "    </tr>\n",
       "  </tbody>\n",
       "</table>\n",
       "</div>"
      ],
      "text/plain": [
       "    año num_registros modalidad\n",
       "0  2019           454     Usada\n",
       "1  2020           385     Usada\n",
       "2  2021           535     Usada\n",
       "3  2022           517     Usada\n",
       "4  2023           505     Usada\n",
       "5  2024           544     Usada\n",
       "6  2025           567     Usada\n",
       "7  2026           588     Usada"
      ]
     },
     "execution_count": 28,
     "metadata": {},
     "output_type": "execute_result"
    }
   ],
   "source": [
    "# DF con todas las combinaciones posibles de año y mes para 2023 FALTANTES (AUG-DEC)\n",
    "fechas_2023 = pd.DataFrame({'año': np.repeat(2023, 5),\n",
    "                            'mes': range(8, 13)})\n",
    "\n",
    "# DF con todas las combinaciones posibles de año y mes para 2024-2026\n",
    "fechas_2024_2026 = pd.DataFrame({'año': np.repeat(range(2024, 2027), 12),\n",
    "                                  'mes': np.tile(range(1, 13), 3)})\n",
    "nuevas_fechas = pd.concat([fechas_2023, fechas_2024_2026]) # Concatenamos \n",
    "\n",
    "# Realizamos predicciones con el modelo entrenado\n",
    "predicciones = modelo.predict(nuevas_fechas)\n",
    "\n",
    "# Redondear las predicciones a números enteros\n",
    "predicciones_enteros = np.round(predicciones).astype(int)\n",
    "\n",
    "# Agregamos las predicciones redondeadas al DataFrame de nuevas fechas\n",
    "nuevas_fechas['num_registros'] = predicciones_enteros\n",
    "usada_conteo_pachuca = pd.concat([usada_conteo_pachuca, nuevas_fechas], ignore_index=True)\n",
    "usada_conteo_pachuca = usada_conteo_pachuca.groupby('año')['num_registros'].sum().reset_index()\n",
    "# Agregar una nueva columna 'vivienda' con el valor 'Usada'\n",
    "usada_conteo_pachuca['modalidad'] = 'Usada'\n",
    "\n",
    "# Función para formatear números con separadores de coma y sin decimales\n",
    "def format_number(x):\n",
    "    return '{:,.0f}'.format(x)  # Formatear sin decimales\n",
    "\n",
    "# Formatear la columna 'num_registros' con la función personalizada\n",
    "usada_conteo_pachuca['num_registros'] = usada_conteo_pachuca['num_registros'].map(format_number)\n",
    "usada_conteo_pachuca"
   ]
  },
  {
   "cell_type": "code",
   "execution_count": 29,
   "metadata": {},
   "outputs": [
    {
     "data": {
      "text/html": [
       "<div>\n",
       "<style scoped>\n",
       "    .dataframe tbody tr th:only-of-type {\n",
       "        vertical-align: middle;\n",
       "    }\n",
       "\n",
       "    .dataframe tbody tr th {\n",
       "        vertical-align: top;\n",
       "    }\n",
       "\n",
       "    .dataframe thead th {\n",
       "        text-align: right;\n",
       "    }\n",
       "</style>\n",
       "<table border=\"1\" class=\"dataframe\">\n",
       "  <thead>\n",
       "    <tr style=\"text-align: right;\">\n",
       "      <th></th>\n",
       "      <th>año</th>\n",
       "      <th>mes</th>\n",
       "      <th>num_registros</th>\n",
       "    </tr>\n",
       "  </thead>\n",
       "  <tbody>\n",
       "    <tr>\n",
       "      <th>0</th>\n",
       "      <td>2019</td>\n",
       "      <td>1</td>\n",
       "      <td>6</td>\n",
       "    </tr>\n",
       "    <tr>\n",
       "      <th>1</th>\n",
       "      <td>2019</td>\n",
       "      <td>2</td>\n",
       "      <td>2</td>\n",
       "    </tr>\n",
       "    <tr>\n",
       "      <th>2</th>\n",
       "      <td>2019</td>\n",
       "      <td>3</td>\n",
       "      <td>5</td>\n",
       "    </tr>\n",
       "    <tr>\n",
       "      <th>3</th>\n",
       "      <td>2019</td>\n",
       "      <td>4</td>\n",
       "      <td>3</td>\n",
       "    </tr>\n",
       "    <tr>\n",
       "      <th>4</th>\n",
       "      <td>2019</td>\n",
       "      <td>5</td>\n",
       "      <td>2</td>\n",
       "    </tr>\n",
       "  </tbody>\n",
       "</table>\n",
       "</div>"
      ],
      "text/plain": [
       "    año  mes  num_registros\n",
       "0  2019    1              6\n",
       "1  2019    2              2\n",
       "2  2019    3              5\n",
       "3  2019    4              3\n",
       "4  2019    5              2"
      ]
     },
     "execution_count": 29,
     "metadata": {},
     "output_type": "execute_result"
    }
   ],
   "source": [
    "# Filtrar los datos donde 'modalidad' sea igual a '2'\n",
    "creditos_2019_pachuca_modalidad_1 = creditos_2019_pachuca[creditos_2019_pachuca['modalidad'] == 4]\n",
    "# Agrupar por mes y contar los registros\n",
    "total_creditos_2019_pachuca = creditos_2019_pachuca_modalidad_1.groupby('mes').size().reset_index(name='num_registros')\n",
    "total_creditos_2019_pachuca['año'] = 2019\n",
    "total_creditos_2019_pachuca = total_creditos_2019_pachuca[['año', 'mes', 'num_registros']] # Reordenar las columnas\n",
    "\n",
    "creditos_2020_pachuca_modalidad_1 = creditos_2020_pachuca[creditos_2020_pachuca['modalidad'] == 4]\n",
    "total_creditos_2020_pachuca = creditos_2020_pachuca_modalidad_1.groupby('mes').size().reset_index(name='num_registros')\n",
    "total_creditos_2020_pachuca['año'] = 2020\n",
    "total_creditos_2020_pachuca = total_creditos_2020_pachuca[['año', 'mes', 'num_registros']]\n",
    "\n",
    "creditos_2021_pachuca_modalidad_1 = creditos_2021_pachuca[creditos_2021_pachuca['modalidad'] == 4]\n",
    "total_creditos_2021_pachuca = creditos_2021_pachuca_modalidad_1.groupby('mes').size().reset_index(name='num_registros')\n",
    "total_creditos_2021_pachuca['año'] = 2021\n",
    "total_creditos_2021_pachuca = total_creditos_2021_pachuca[['año', 'mes', 'num_registros']]\n",
    "\n",
    "creditos_2022_pachuca_modalidad_1 = creditos_2022_pachuca[creditos_2022_pachuca['modalidad'] == 4]\n",
    "total_creditos_2022_pachuca = creditos_2022_pachuca_modalidad_1.groupby('mes').size().reset_index(name='num_registros')\n",
    "total_creditos_2022_pachuca['año'] = 2022\n",
    "total_creditos_2022_pachuca = total_creditos_2022_pachuca[['año', 'mes', 'num_registros']]\n",
    "\n",
    "creditos_2023_pachuca_modalidad_1 = creditos_2023_pachuca[creditos_2023_pachuca['modalidad'] == 4]\n",
    "total_creditos_2023_pachuca = creditos_2023_pachuca_modalidad_1.groupby('mes').size().reset_index(name='num_registros')\n",
    "total_creditos_2023_pachuca['año'] = 2023\n",
    "total_creditos_2023_pachuca = total_creditos_2023_pachuca[['año', 'mes', 'num_registros']]\n",
    "\n",
    "# Concatenar los DataFrames resultantes para cada año\n",
    "otros_conteo_pachuca = pd.concat([total_creditos_2019_pachuca, total_creditos_2020_pachuca,total_creditos_2021_pachuca,total_creditos_2022_pachuca,total_creditos_2023_pachuca], ignore_index=True)\n",
    "otros_conteo_pachuca.head()"
   ]
  },
  {
   "cell_type": "code",
   "execution_count": 30,
   "metadata": {},
   "outputs": [
    {
     "data": {
      "text/html": [
       "<style>#sk-container-id-5 {color: black;background-color: white;}#sk-container-id-5 pre{padding: 0;}#sk-container-id-5 div.sk-toggleable {background-color: white;}#sk-container-id-5 label.sk-toggleable__label {cursor: pointer;display: block;width: 100%;margin-bottom: 0;padding: 0.3em;box-sizing: border-box;text-align: center;}#sk-container-id-5 label.sk-toggleable__label-arrow:before {content: \"▸\";float: left;margin-right: 0.25em;color: #696969;}#sk-container-id-5 label.sk-toggleable__label-arrow:hover:before {color: black;}#sk-container-id-5 div.sk-estimator:hover label.sk-toggleable__label-arrow:before {color: black;}#sk-container-id-5 div.sk-toggleable__content {max-height: 0;max-width: 0;overflow: hidden;text-align: left;background-color: #f0f8ff;}#sk-container-id-5 div.sk-toggleable__content pre {margin: 0.2em;color: black;border-radius: 0.25em;background-color: #f0f8ff;}#sk-container-id-5 input.sk-toggleable__control:checked~div.sk-toggleable__content {max-height: 200px;max-width: 100%;overflow: auto;}#sk-container-id-5 input.sk-toggleable__control:checked~label.sk-toggleable__label-arrow:before {content: \"▾\";}#sk-container-id-5 div.sk-estimator input.sk-toggleable__control:checked~label.sk-toggleable__label {background-color: #d4ebff;}#sk-container-id-5 div.sk-label input.sk-toggleable__control:checked~label.sk-toggleable__label {background-color: #d4ebff;}#sk-container-id-5 input.sk-hidden--visually {border: 0;clip: rect(1px 1px 1px 1px);clip: rect(1px, 1px, 1px, 1px);height: 1px;margin: -1px;overflow: hidden;padding: 0;position: absolute;width: 1px;}#sk-container-id-5 div.sk-estimator {font-family: monospace;background-color: #f0f8ff;border: 1px dotted black;border-radius: 0.25em;box-sizing: border-box;margin-bottom: 0.5em;}#sk-container-id-5 div.sk-estimator:hover {background-color: #d4ebff;}#sk-container-id-5 div.sk-parallel-item::after {content: \"\";width: 100%;border-bottom: 1px solid gray;flex-grow: 1;}#sk-container-id-5 div.sk-label:hover label.sk-toggleable__label {background-color: #d4ebff;}#sk-container-id-5 div.sk-serial::before {content: \"\";position: absolute;border-left: 1px solid gray;box-sizing: border-box;top: 0;bottom: 0;left: 50%;z-index: 0;}#sk-container-id-5 div.sk-serial {display: flex;flex-direction: column;align-items: center;background-color: white;padding-right: 0.2em;padding-left: 0.2em;position: relative;}#sk-container-id-5 div.sk-item {position: relative;z-index: 1;}#sk-container-id-5 div.sk-parallel {display: flex;align-items: stretch;justify-content: center;background-color: white;position: relative;}#sk-container-id-5 div.sk-item::before, #sk-container-id-5 div.sk-parallel-item::before {content: \"\";position: absolute;border-left: 1px solid gray;box-sizing: border-box;top: 0;bottom: 0;left: 50%;z-index: -1;}#sk-container-id-5 div.sk-parallel-item {display: flex;flex-direction: column;z-index: 1;position: relative;background-color: white;}#sk-container-id-5 div.sk-parallel-item:first-child::after {align-self: flex-end;width: 50%;}#sk-container-id-5 div.sk-parallel-item:last-child::after {align-self: flex-start;width: 50%;}#sk-container-id-5 div.sk-parallel-item:only-child::after {width: 0;}#sk-container-id-5 div.sk-dashed-wrapped {border: 1px dashed gray;margin: 0 0.4em 0.5em 0.4em;box-sizing: border-box;padding-bottom: 0.4em;background-color: white;}#sk-container-id-5 div.sk-label label {font-family: monospace;font-weight: bold;display: inline-block;line-height: 1.2em;}#sk-container-id-5 div.sk-label-container {text-align: center;}#sk-container-id-5 div.sk-container {/* jupyter's `normalize.less` sets `[hidden] { display: none; }` but bootstrap.min.css set `[hidden] { display: none !important; }` so we also need the `!important` here to be able to override the default hidden behavior on the sphinx rendered scikit-learn.org. See: https://github.com/scikit-learn/scikit-learn/issues/21755 */display: inline-block !important;position: relative;}#sk-container-id-5 div.sk-text-repr-fallback {display: none;}</style><div id=\"sk-container-id-5\" class=\"sk-top-container\"><div class=\"sk-text-repr-fallback\"><pre>LinearRegression()</pre><b>In a Jupyter environment, please rerun this cell to show the HTML representation or trust the notebook. <br />On GitHub, the HTML representation is unable to render, please try loading this page with nbviewer.org.</b></div><div class=\"sk-container\" hidden><div class=\"sk-item\"><div class=\"sk-estimator sk-toggleable\"><input class=\"sk-toggleable__control sk-hidden--visually\" id=\"sk-estimator-id-5\" type=\"checkbox\" checked><label for=\"sk-estimator-id-5\" class=\"sk-toggleable__label sk-toggleable__label-arrow\">LinearRegression</label><div class=\"sk-toggleable__content\"><pre>LinearRegression()</pre></div></div></div></div></div>"
      ],
      "text/plain": [
       "LinearRegression()"
      ]
     },
     "execution_count": 30,
     "metadata": {},
     "output_type": "execute_result"
    }
   ],
   "source": [
    "# Preparar datos para el modelo\n",
    "X = otros_conteo_pachuca[['año', 'mes']]\n",
    "y = otros_conteo_pachuca['num_registros']\n",
    "# Dividir los datos en conjuntos de entrenamiento y prueba\n",
    "X_train, X_test, y_train, y_test = train_test_split(X, y, test_size=0.2, random_state=42)\n",
    "\n",
    "# Inicializar y entrenar el modelo de regresión lineal\n",
    "modelo = LinearRegression()\n",
    "modelo.fit(X_train, y_train)"
   ]
  },
  {
   "cell_type": "code",
   "execution_count": 31,
   "metadata": {},
   "outputs": [
    {
     "data": {
      "text/html": [
       "<div>\n",
       "<style scoped>\n",
       "    .dataframe tbody tr th:only-of-type {\n",
       "        vertical-align: middle;\n",
       "    }\n",
       "\n",
       "    .dataframe tbody tr th {\n",
       "        vertical-align: top;\n",
       "    }\n",
       "\n",
       "    .dataframe thead th {\n",
       "        text-align: right;\n",
       "    }\n",
       "</style>\n",
       "<table border=\"1\" class=\"dataframe\">\n",
       "  <thead>\n",
       "    <tr style=\"text-align: right;\">\n",
       "      <th></th>\n",
       "      <th>año</th>\n",
       "      <th>num_registros</th>\n",
       "      <th>modalidad</th>\n",
       "    </tr>\n",
       "  </thead>\n",
       "  <tbody>\n",
       "    <tr>\n",
       "      <th>0</th>\n",
       "      <td>2019</td>\n",
       "      <td>66</td>\n",
       "      <td>Otros</td>\n",
       "    </tr>\n",
       "    <tr>\n",
       "      <th>1</th>\n",
       "      <td>2020</td>\n",
       "      <td>70</td>\n",
       "      <td>Otros</td>\n",
       "    </tr>\n",
       "    <tr>\n",
       "      <th>2</th>\n",
       "      <td>2021</td>\n",
       "      <td>107</td>\n",
       "      <td>Otros</td>\n",
       "    </tr>\n",
       "    <tr>\n",
       "      <th>3</th>\n",
       "      <td>2022</td>\n",
       "      <td>95</td>\n",
       "      <td>Otros</td>\n",
       "    </tr>\n",
       "    <tr>\n",
       "      <th>4</th>\n",
       "      <td>2023</td>\n",
       "      <td>104</td>\n",
       "      <td>Otros</td>\n",
       "    </tr>\n",
       "    <tr>\n",
       "      <th>5</th>\n",
       "      <td>2024</td>\n",
       "      <td>119</td>\n",
       "      <td>Otros</td>\n",
       "    </tr>\n",
       "    <tr>\n",
       "      <th>6</th>\n",
       "      <td>2025</td>\n",
       "      <td>122</td>\n",
       "      <td>Otros</td>\n",
       "    </tr>\n",
       "    <tr>\n",
       "      <th>7</th>\n",
       "      <td>2026</td>\n",
       "      <td>132</td>\n",
       "      <td>Otros</td>\n",
       "    </tr>\n",
       "  </tbody>\n",
       "</table>\n",
       "</div>"
      ],
      "text/plain": [
       "    año num_registros modalidad\n",
       "0  2019            66     Otros\n",
       "1  2020            70     Otros\n",
       "2  2021           107     Otros\n",
       "3  2022            95     Otros\n",
       "4  2023           104     Otros\n",
       "5  2024           119     Otros\n",
       "6  2025           122     Otros\n",
       "7  2026           132     Otros"
      ]
     },
     "execution_count": 31,
     "metadata": {},
     "output_type": "execute_result"
    }
   ],
   "source": [
    "# DF con todas las combinaciones posibles de año y mes para 2023 FALTANTES (AUG-DEC)\n",
    "fechas_2023 = pd.DataFrame({'año': np.repeat(2023, 5),\n",
    "                            'mes': range(8, 13)})\n",
    "\n",
    "# DF con todas las combinaciones posibles de año y mes para 2024-2026\n",
    "fechas_2024_2026 = pd.DataFrame({'año': np.repeat(range(2024, 2027), 12),\n",
    "                                  'mes': np.tile(range(1, 13), 3)})\n",
    "nuevas_fechas = pd.concat([fechas_2023, fechas_2024_2026]) # Concatenamos \n",
    "\n",
    "# Realizamos predicciones con el modelo entrenado\n",
    "predicciones = modelo.predict(nuevas_fechas)\n",
    "\n",
    "# Redondear las predicciones a números enteros\n",
    "predicciones_enteros = np.round(predicciones).astype(int)\n",
    "\n",
    "# Agregamos las predicciones redondeadas al DataFrame de nuevas fechas\n",
    "nuevas_fechas['num_registros'] = predicciones_enteros\n",
    "otros_conteo_pachuca = pd.concat([otros_conteo_pachuca, nuevas_fechas], ignore_index=True)\n",
    "otros_conteo_pachuca = otros_conteo_pachuca.groupby('año')['num_registros'].sum().reset_index()\n",
    "# Agregar una nueva columna 'vivienda' con el valor 'Usada'\n",
    "otros_conteo_pachuca['modalidad'] = 'Otros'\n",
    "\n",
    "# Función para formatear números con separadores de coma y sin decimales\n",
    "def format_number(x):\n",
    "    return '{:,.0f}'.format(x)  # Formatear sin decimales\n",
    "\n",
    "# Formatear la columna 'num_registros' con la función personalizada\n",
    "otros_conteo_pachuca['num_registros'] = otros_conteo_pachuca['num_registros'].map(format_number)\n",
    "otros_conteo_pachuca"
   ]
  },
  {
   "cell_type": "code",
   "execution_count": 32,
   "metadata": {},
   "outputs": [],
   "source": [
    "conteo_pachuca = pd.concat([\n",
    "    total_conteo_pachuca,\n",
    "    nueva_conteo_pachuca,\n",
    "    mejoramiento_conteo_pachuca,\n",
    "    usada_conteo_pachuca,\n",
    "    otros_conteo_pachuca,\n",
    "])"
   ]
  },
  {
   "cell_type": "code",
   "execution_count": 33,
   "metadata": {},
   "outputs": [
    {
     "data": {
      "application/vnd.plotly.v1+json": {
       "config": {
        "plotlyServerURL": "https://plot.ly"
       },
       "data": [
        {
         "mode": "markers+lines",
         "name": "Créditos (todos)",
         "type": "scatter",
         "x": [
          2019,
          2020,
          2021,
          2022,
          2023,
          2024,
          2025,
          2026
         ],
         "y": [
          1215,
          1178,
          1430,
          1388,
          1326,
          1417,
          1456,
          1496
         ]
        },
        {
         "mode": "markers+lines",
         "name": "Nueva",
         "type": "scatter",
         "x": [
          2019,
          2020,
          2021,
          2022,
          2023,
          2024,
          2025,
          2026
         ],
         "y": [
          620,
          629,
          699,
          624,
          535,
          571,
          556,
          540
         ]
        },
        {
         "mode": "markers+lines",
         "name": "Mejoramientos",
         "type": "scatter",
         "x": [
          2019,
          2020,
          2021,
          2022,
          2023,
          2024,
          2025,
          2026
         ],
         "y": [
          75,
          94,
          89,
          152,
          187,
          210,
          243,
          276
         ]
        },
        {
         "mode": "markers+lines",
         "name": "Usada",
         "type": "scatter",
         "x": [
          2019,
          2020,
          2021,
          2022,
          2023,
          2024,
          2025,
          2026
         ],
         "y": [
          454,
          385,
          535,
          517,
          505,
          544,
          567,
          588
         ]
        },
        {
         "mode": "markers+lines",
         "name": "Otros",
         "type": "scatter",
         "x": [
          2019,
          2020,
          2021,
          2022,
          2023,
          2024,
          2025,
          2026
         ],
         "y": [
          66,
          70,
          107,
          95,
          104,
          119,
          122,
          132
         ]
        }
       ],
       "layout": {
        "plot_bgcolor": "rgba(0,0,0,0)",
        "template": {
         "data": {
          "bar": [
           {
            "error_x": {
             "color": "#2a3f5f"
            },
            "error_y": {
             "color": "#2a3f5f"
            },
            "marker": {
             "line": {
              "color": "#E5ECF6",
              "width": 0.5
             },
             "pattern": {
              "fillmode": "overlay",
              "size": 10,
              "solidity": 0.2
             }
            },
            "type": "bar"
           }
          ],
          "barpolar": [
           {
            "marker": {
             "line": {
              "color": "#E5ECF6",
              "width": 0.5
             },
             "pattern": {
              "fillmode": "overlay",
              "size": 10,
              "solidity": 0.2
             }
            },
            "type": "barpolar"
           }
          ],
          "carpet": [
           {
            "aaxis": {
             "endlinecolor": "#2a3f5f",
             "gridcolor": "white",
             "linecolor": "white",
             "minorgridcolor": "white",
             "startlinecolor": "#2a3f5f"
            },
            "baxis": {
             "endlinecolor": "#2a3f5f",
             "gridcolor": "white",
             "linecolor": "white",
             "minorgridcolor": "white",
             "startlinecolor": "#2a3f5f"
            },
            "type": "carpet"
           }
          ],
          "choropleth": [
           {
            "colorbar": {
             "outlinewidth": 0,
             "ticks": ""
            },
            "type": "choropleth"
           }
          ],
          "contour": [
           {
            "colorbar": {
             "outlinewidth": 0,
             "ticks": ""
            },
            "colorscale": [
             [
              0,
              "#0d0887"
             ],
             [
              0.1111111111111111,
              "#46039f"
             ],
             [
              0.2222222222222222,
              "#7201a8"
             ],
             [
              0.3333333333333333,
              "#9c179e"
             ],
             [
              0.4444444444444444,
              "#bd3786"
             ],
             [
              0.5555555555555556,
              "#d8576b"
             ],
             [
              0.6666666666666666,
              "#ed7953"
             ],
             [
              0.7777777777777778,
              "#fb9f3a"
             ],
             [
              0.8888888888888888,
              "#fdca26"
             ],
             [
              1,
              "#f0f921"
             ]
            ],
            "type": "contour"
           }
          ],
          "contourcarpet": [
           {
            "colorbar": {
             "outlinewidth": 0,
             "ticks": ""
            },
            "type": "contourcarpet"
           }
          ],
          "heatmap": [
           {
            "colorbar": {
             "outlinewidth": 0,
             "ticks": ""
            },
            "colorscale": [
             [
              0,
              "#0d0887"
             ],
             [
              0.1111111111111111,
              "#46039f"
             ],
             [
              0.2222222222222222,
              "#7201a8"
             ],
             [
              0.3333333333333333,
              "#9c179e"
             ],
             [
              0.4444444444444444,
              "#bd3786"
             ],
             [
              0.5555555555555556,
              "#d8576b"
             ],
             [
              0.6666666666666666,
              "#ed7953"
             ],
             [
              0.7777777777777778,
              "#fb9f3a"
             ],
             [
              0.8888888888888888,
              "#fdca26"
             ],
             [
              1,
              "#f0f921"
             ]
            ],
            "type": "heatmap"
           }
          ],
          "heatmapgl": [
           {
            "colorbar": {
             "outlinewidth": 0,
             "ticks": ""
            },
            "colorscale": [
             [
              0,
              "#0d0887"
             ],
             [
              0.1111111111111111,
              "#46039f"
             ],
             [
              0.2222222222222222,
              "#7201a8"
             ],
             [
              0.3333333333333333,
              "#9c179e"
             ],
             [
              0.4444444444444444,
              "#bd3786"
             ],
             [
              0.5555555555555556,
              "#d8576b"
             ],
             [
              0.6666666666666666,
              "#ed7953"
             ],
             [
              0.7777777777777778,
              "#fb9f3a"
             ],
             [
              0.8888888888888888,
              "#fdca26"
             ],
             [
              1,
              "#f0f921"
             ]
            ],
            "type": "heatmapgl"
           }
          ],
          "histogram": [
           {
            "marker": {
             "pattern": {
              "fillmode": "overlay",
              "size": 10,
              "solidity": 0.2
             }
            },
            "type": "histogram"
           }
          ],
          "histogram2d": [
           {
            "colorbar": {
             "outlinewidth": 0,
             "ticks": ""
            },
            "colorscale": [
             [
              0,
              "#0d0887"
             ],
             [
              0.1111111111111111,
              "#46039f"
             ],
             [
              0.2222222222222222,
              "#7201a8"
             ],
             [
              0.3333333333333333,
              "#9c179e"
             ],
             [
              0.4444444444444444,
              "#bd3786"
             ],
             [
              0.5555555555555556,
              "#d8576b"
             ],
             [
              0.6666666666666666,
              "#ed7953"
             ],
             [
              0.7777777777777778,
              "#fb9f3a"
             ],
             [
              0.8888888888888888,
              "#fdca26"
             ],
             [
              1,
              "#f0f921"
             ]
            ],
            "type": "histogram2d"
           }
          ],
          "histogram2dcontour": [
           {
            "colorbar": {
             "outlinewidth": 0,
             "ticks": ""
            },
            "colorscale": [
             [
              0,
              "#0d0887"
             ],
             [
              0.1111111111111111,
              "#46039f"
             ],
             [
              0.2222222222222222,
              "#7201a8"
             ],
             [
              0.3333333333333333,
              "#9c179e"
             ],
             [
              0.4444444444444444,
              "#bd3786"
             ],
             [
              0.5555555555555556,
              "#d8576b"
             ],
             [
              0.6666666666666666,
              "#ed7953"
             ],
             [
              0.7777777777777778,
              "#fb9f3a"
             ],
             [
              0.8888888888888888,
              "#fdca26"
             ],
             [
              1,
              "#f0f921"
             ]
            ],
            "type": "histogram2dcontour"
           }
          ],
          "mesh3d": [
           {
            "colorbar": {
             "outlinewidth": 0,
             "ticks": ""
            },
            "type": "mesh3d"
           }
          ],
          "parcoords": [
           {
            "line": {
             "colorbar": {
              "outlinewidth": 0,
              "ticks": ""
             }
            },
            "type": "parcoords"
           }
          ],
          "pie": [
           {
            "automargin": true,
            "type": "pie"
           }
          ],
          "scatter": [
           {
            "fillpattern": {
             "fillmode": "overlay",
             "size": 10,
             "solidity": 0.2
            },
            "type": "scatter"
           }
          ],
          "scatter3d": [
           {
            "line": {
             "colorbar": {
              "outlinewidth": 0,
              "ticks": ""
             }
            },
            "marker": {
             "colorbar": {
              "outlinewidth": 0,
              "ticks": ""
             }
            },
            "type": "scatter3d"
           }
          ],
          "scattercarpet": [
           {
            "marker": {
             "colorbar": {
              "outlinewidth": 0,
              "ticks": ""
             }
            },
            "type": "scattercarpet"
           }
          ],
          "scattergeo": [
           {
            "marker": {
             "colorbar": {
              "outlinewidth": 0,
              "ticks": ""
             }
            },
            "type": "scattergeo"
           }
          ],
          "scattergl": [
           {
            "marker": {
             "colorbar": {
              "outlinewidth": 0,
              "ticks": ""
             }
            },
            "type": "scattergl"
           }
          ],
          "scattermapbox": [
           {
            "marker": {
             "colorbar": {
              "outlinewidth": 0,
              "ticks": ""
             }
            },
            "type": "scattermapbox"
           }
          ],
          "scatterpolar": [
           {
            "marker": {
             "colorbar": {
              "outlinewidth": 0,
              "ticks": ""
             }
            },
            "type": "scatterpolar"
           }
          ],
          "scatterpolargl": [
           {
            "marker": {
             "colorbar": {
              "outlinewidth": 0,
              "ticks": ""
             }
            },
            "type": "scatterpolargl"
           }
          ],
          "scatterternary": [
           {
            "marker": {
             "colorbar": {
              "outlinewidth": 0,
              "ticks": ""
             }
            },
            "type": "scatterternary"
           }
          ],
          "surface": [
           {
            "colorbar": {
             "outlinewidth": 0,
             "ticks": ""
            },
            "colorscale": [
             [
              0,
              "#0d0887"
             ],
             [
              0.1111111111111111,
              "#46039f"
             ],
             [
              0.2222222222222222,
              "#7201a8"
             ],
             [
              0.3333333333333333,
              "#9c179e"
             ],
             [
              0.4444444444444444,
              "#bd3786"
             ],
             [
              0.5555555555555556,
              "#d8576b"
             ],
             [
              0.6666666666666666,
              "#ed7953"
             ],
             [
              0.7777777777777778,
              "#fb9f3a"
             ],
             [
              0.8888888888888888,
              "#fdca26"
             ],
             [
              1,
              "#f0f921"
             ]
            ],
            "type": "surface"
           }
          ],
          "table": [
           {
            "cells": {
             "fill": {
              "color": "#EBF0F8"
             },
             "line": {
              "color": "white"
             }
            },
            "header": {
             "fill": {
              "color": "#C8D4E3"
             },
             "line": {
              "color": "white"
             }
            },
            "type": "table"
           }
          ]
         },
         "layout": {
          "annotationdefaults": {
           "arrowcolor": "#2a3f5f",
           "arrowhead": 0,
           "arrowwidth": 1
          },
          "autotypenumbers": "strict",
          "coloraxis": {
           "colorbar": {
            "outlinewidth": 0,
            "ticks": ""
           }
          },
          "colorscale": {
           "diverging": [
            [
             0,
             "#8e0152"
            ],
            [
             0.1,
             "#c51b7d"
            ],
            [
             0.2,
             "#de77ae"
            ],
            [
             0.3,
             "#f1b6da"
            ],
            [
             0.4,
             "#fde0ef"
            ],
            [
             0.5,
             "#f7f7f7"
            ],
            [
             0.6,
             "#e6f5d0"
            ],
            [
             0.7,
             "#b8e186"
            ],
            [
             0.8,
             "#7fbc41"
            ],
            [
             0.9,
             "#4d9221"
            ],
            [
             1,
             "#276419"
            ]
           ],
           "sequential": [
            [
             0,
             "#0d0887"
            ],
            [
             0.1111111111111111,
             "#46039f"
            ],
            [
             0.2222222222222222,
             "#7201a8"
            ],
            [
             0.3333333333333333,
             "#9c179e"
            ],
            [
             0.4444444444444444,
             "#bd3786"
            ],
            [
             0.5555555555555556,
             "#d8576b"
            ],
            [
             0.6666666666666666,
             "#ed7953"
            ],
            [
             0.7777777777777778,
             "#fb9f3a"
            ],
            [
             0.8888888888888888,
             "#fdca26"
            ],
            [
             1,
             "#f0f921"
            ]
           ],
           "sequentialminus": [
            [
             0,
             "#0d0887"
            ],
            [
             0.1111111111111111,
             "#46039f"
            ],
            [
             0.2222222222222222,
             "#7201a8"
            ],
            [
             0.3333333333333333,
             "#9c179e"
            ],
            [
             0.4444444444444444,
             "#bd3786"
            ],
            [
             0.5555555555555556,
             "#d8576b"
            ],
            [
             0.6666666666666666,
             "#ed7953"
            ],
            [
             0.7777777777777778,
             "#fb9f3a"
            ],
            [
             0.8888888888888888,
             "#fdca26"
            ],
            [
             1,
             "#f0f921"
            ]
           ]
          },
          "colorway": [
           "#636efa",
           "#EF553B",
           "#00cc96",
           "#ab63fa",
           "#FFA15A",
           "#19d3f3",
           "#FF6692",
           "#B6E880",
           "#FF97FF",
           "#FECB52"
          ],
          "font": {
           "color": "#2a3f5f"
          },
          "geo": {
           "bgcolor": "white",
           "lakecolor": "white",
           "landcolor": "#E5ECF6",
           "showlakes": true,
           "showland": true,
           "subunitcolor": "white"
          },
          "hoverlabel": {
           "align": "left"
          },
          "hovermode": "closest",
          "mapbox": {
           "style": "light"
          },
          "paper_bgcolor": "white",
          "plot_bgcolor": "#E5ECF6",
          "polar": {
           "angularaxis": {
            "gridcolor": "white",
            "linecolor": "white",
            "ticks": ""
           },
           "bgcolor": "#E5ECF6",
           "radialaxis": {
            "gridcolor": "white",
            "linecolor": "white",
            "ticks": ""
           }
          },
          "scene": {
           "xaxis": {
            "backgroundcolor": "#E5ECF6",
            "gridcolor": "white",
            "gridwidth": 2,
            "linecolor": "white",
            "showbackground": true,
            "ticks": "",
            "zerolinecolor": "white"
           },
           "yaxis": {
            "backgroundcolor": "#E5ECF6",
            "gridcolor": "white",
            "gridwidth": 2,
            "linecolor": "white",
            "showbackground": true,
            "ticks": "",
            "zerolinecolor": "white"
           },
           "zaxis": {
            "backgroundcolor": "#E5ECF6",
            "gridcolor": "white",
            "gridwidth": 2,
            "linecolor": "white",
            "showbackground": true,
            "ticks": "",
            "zerolinecolor": "white"
           }
          },
          "shapedefaults": {
           "line": {
            "color": "#2a3f5f"
           }
          },
          "ternary": {
           "aaxis": {
            "gridcolor": "white",
            "linecolor": "white",
            "ticks": ""
           },
           "baxis": {
            "gridcolor": "white",
            "linecolor": "white",
            "ticks": ""
           },
           "bgcolor": "#E5ECF6",
           "caxis": {
            "gridcolor": "white",
            "linecolor": "white",
            "ticks": ""
           }
          },
          "title": {
           "x": 0.05
          },
          "xaxis": {
           "automargin": true,
           "gridcolor": "white",
           "linecolor": "white",
           "ticks": "",
           "title": {
            "standoff": 15
           },
           "zerolinecolor": "white",
           "zerolinewidth": 2
          },
          "yaxis": {
           "automargin": true,
           "gridcolor": "white",
           "linecolor": "white",
           "ticks": "",
           "title": {
            "standoff": 15
           },
           "zerolinecolor": "white",
           "zerolinewidth": 2
          }
         }
        },
        "title": {
         "text": "Créditos"
        },
        "yaxis": {
         "gridcolor": "#dddcda"
        }
       }
      }
     },
     "metadata": {},
     "output_type": "display_data"
    }
   ],
   "source": [
    "# Datos\n",
    "año = conteo_pachuca['año']\n",
    "modalidades = conteo_pachuca['modalidad']\n",
    "creditos = conteo_pachuca['num_registros']\n",
    "\n",
    "fig = go.Figure()\n",
    "# Agregar líneas para cada modalidad\n",
    "for modalidad in modalidades.unique():\n",
    "    df_modalidad = conteo_pachuca[conteo_pachuca['modalidad'] == modalidad]\n",
    "    fig.add_trace(go.Scatter(\n",
    "        x=df_modalidad['año'],\n",
    "        y=df_modalidad['num_registros'].apply(lambda x: float(x.replace(',', ''))),  # Usar los montos limpios\n",
    "        mode='markers+lines',\n",
    "        name=modalidad\n",
    "    ))\n",
    "fig.update_layout(\n",
    "    title='Créditos',\n",
    "    yaxis=dict(gridcolor='#dddcda'),\n",
    "    plot_bgcolor='rgba(0,0,0,0)',  # Color de fondo del gráfico\n",
    ")\n",
    "\n",
    "# Agregar etiquetas de texto a los puntos\n",
    "#for trace in fig.data:\n",
    "#    df_modalidad = conteo_pachuca[conteo_pachuca['modalidad'] == trace.name]\n",
    "#    for i, point in enumerate(trace.y):\n",
    "#        fig.add_annotation(\n",
    "#            x=trace.x[i], \n",
    "#            y=point, \n",
    "#            text=f'{df_modalidad.iloc[i][\"num_registros\"]}', \n",
    "#            showarrow=False,\n",
    "#            font=dict(color='black', size=10),\n",
    "#            yshift=10\n",
    "#        )\n",
    "# Exportar gráfica como archivo HTML\n",
    "def guardar_grafico_como_html(fig, nombre_archivo, carpeta='graficas'):\n",
    "    # Crear la carpeta si no existe\n",
    "    if not os.path.exists(carpeta):\n",
    "        os.makedirs(carpeta)\n",
    "    \n",
    "    # Gráfica como archivo HTML en la carpeta especificada\n",
    "    pio.write_html(fig, f'{carpeta}/{nombre_archivo}.html')\n",
    "\n",
    "guardar_grafico_como_html(fig, 'g_scatt_forecastcreditgral_conteo_pachuca', carpeta='graficas')\n",
    "fig.show()"
   ]
  },
  {
   "cell_type": "code",
   "execution_count": 34,
   "metadata": {},
   "outputs": [
    {
     "data": {
      "application/vnd.plotly.v1+json": {
       "config": {
        "plotlyServerURL": "https://plot.ly"
       },
       "data": [
        {
         "mode": "markers+lines",
         "name": "Créditos (todos)",
         "type": "scatter",
         "x": [
          2019,
          2020,
          2021,
          2022,
          2023,
          2024,
          2025,
          2026
         ],
         "y": [
          1215,
          1178,
          1430,
          1388,
          1326,
          1417,
          1456,
          1496
         ]
        },
        {
         "mode": "markers+lines",
         "name": "Nueva",
         "type": "scatter",
         "x": [
          2019,
          2020,
          2021,
          2022,
          2023,
          2024,
          2025,
          2026
         ],
         "y": [
          620,
          629,
          699,
          624,
          535,
          571,
          556,
          540
         ]
        },
        {
         "mode": "markers+lines",
         "name": "Usada",
         "type": "scatter",
         "x": [
          2019,
          2020,
          2021,
          2022,
          2023,
          2024,
          2025,
          2026
         ],
         "y": [
          454,
          385,
          535,
          517,
          505,
          544,
          567,
          588
         ]
        }
       ],
       "layout": {
        "annotations": [
         {
          "font": {
           "color": "black",
           "size": 10
          },
          "showarrow": false,
          "text": "1215.0",
          "x": 2019,
          "y": 1215,
          "yshift": 10
         },
         {
          "font": {
           "color": "black",
           "size": 10
          },
          "showarrow": false,
          "text": "1178.0",
          "x": 2020,
          "y": 1178,
          "yshift": 10
         },
         {
          "font": {
           "color": "black",
           "size": 10
          },
          "showarrow": false,
          "text": "1430.0",
          "x": 2021,
          "y": 1430,
          "yshift": 10
         },
         {
          "font": {
           "color": "black",
           "size": 10
          },
          "showarrow": false,
          "text": "1388.0",
          "x": 2022,
          "y": 1388,
          "yshift": 10
         },
         {
          "font": {
           "color": "black",
           "size": 10
          },
          "showarrow": false,
          "text": "1326.0",
          "x": 2023,
          "y": 1326,
          "yshift": 10
         },
         {
          "font": {
           "color": "black",
           "size": 10
          },
          "showarrow": false,
          "text": "1417.0",
          "x": 2024,
          "y": 1417,
          "yshift": 10
         },
         {
          "font": {
           "color": "black",
           "size": 10
          },
          "showarrow": false,
          "text": "1456.0",
          "x": 2025,
          "y": 1456,
          "yshift": 10
         },
         {
          "font": {
           "color": "black",
           "size": 10
          },
          "showarrow": false,
          "text": "1496.0",
          "x": 2026,
          "y": 1496,
          "yshift": 10
         },
         {
          "font": {
           "color": "black",
           "size": 10
          },
          "showarrow": false,
          "text": "620.0",
          "x": 2019,
          "y": 620,
          "yshift": 10
         },
         {
          "font": {
           "color": "black",
           "size": 10
          },
          "showarrow": false,
          "text": "629.0",
          "x": 2020,
          "y": 629,
          "yshift": 10
         },
         {
          "font": {
           "color": "black",
           "size": 10
          },
          "showarrow": false,
          "text": "699.0",
          "x": 2021,
          "y": 699,
          "yshift": 10
         },
         {
          "font": {
           "color": "black",
           "size": 10
          },
          "showarrow": false,
          "text": "624.0",
          "x": 2022,
          "y": 624,
          "yshift": 10
         },
         {
          "font": {
           "color": "black",
           "size": 10
          },
          "showarrow": false,
          "text": "535.0",
          "x": 2023,
          "y": 535,
          "yshift": 10
         },
         {
          "font": {
           "color": "black",
           "size": 10
          },
          "showarrow": false,
          "text": "571.0",
          "x": 2024,
          "y": 571,
          "yshift": 10
         },
         {
          "font": {
           "color": "black",
           "size": 10
          },
          "showarrow": false,
          "text": "556.0",
          "x": 2025,
          "y": 556,
          "yshift": 10
         },
         {
          "font": {
           "color": "black",
           "size": 10
          },
          "showarrow": false,
          "text": "540.0",
          "x": 2026,
          "y": 540,
          "yshift": 10
         },
         {
          "font": {
           "color": "black",
           "size": 10
          },
          "showarrow": false,
          "text": "454.0",
          "x": 2019,
          "y": 454,
          "yshift": 10
         },
         {
          "font": {
           "color": "black",
           "size": 10
          },
          "showarrow": false,
          "text": "385.0",
          "x": 2020,
          "y": 385,
          "yshift": 10
         },
         {
          "font": {
           "color": "black",
           "size": 10
          },
          "showarrow": false,
          "text": "535.0",
          "x": 2021,
          "y": 535,
          "yshift": 10
         },
         {
          "font": {
           "color": "black",
           "size": 10
          },
          "showarrow": false,
          "text": "517.0",
          "x": 2022,
          "y": 517,
          "yshift": 10
         },
         {
          "font": {
           "color": "black",
           "size": 10
          },
          "showarrow": false,
          "text": "505.0",
          "x": 2023,
          "y": 505,
          "yshift": 10
         },
         {
          "font": {
           "color": "black",
           "size": 10
          },
          "showarrow": false,
          "text": "544.0",
          "x": 2024,
          "y": 544,
          "yshift": 10
         },
         {
          "font": {
           "color": "black",
           "size": 10
          },
          "showarrow": false,
          "text": "567.0",
          "x": 2025,
          "y": 567,
          "yshift": 10
         },
         {
          "font": {
           "color": "black",
           "size": 10
          },
          "showarrow": false,
          "text": "588.0",
          "x": 2026,
          "y": 588,
          "yshift": 10
         }
        ],
        "plot_bgcolor": "rgba(0,0,0,0)",
        "template": {
         "data": {
          "bar": [
           {
            "error_x": {
             "color": "#2a3f5f"
            },
            "error_y": {
             "color": "#2a3f5f"
            },
            "marker": {
             "line": {
              "color": "#E5ECF6",
              "width": 0.5
             },
             "pattern": {
              "fillmode": "overlay",
              "size": 10,
              "solidity": 0.2
             }
            },
            "type": "bar"
           }
          ],
          "barpolar": [
           {
            "marker": {
             "line": {
              "color": "#E5ECF6",
              "width": 0.5
             },
             "pattern": {
              "fillmode": "overlay",
              "size": 10,
              "solidity": 0.2
             }
            },
            "type": "barpolar"
           }
          ],
          "carpet": [
           {
            "aaxis": {
             "endlinecolor": "#2a3f5f",
             "gridcolor": "white",
             "linecolor": "white",
             "minorgridcolor": "white",
             "startlinecolor": "#2a3f5f"
            },
            "baxis": {
             "endlinecolor": "#2a3f5f",
             "gridcolor": "white",
             "linecolor": "white",
             "minorgridcolor": "white",
             "startlinecolor": "#2a3f5f"
            },
            "type": "carpet"
           }
          ],
          "choropleth": [
           {
            "colorbar": {
             "outlinewidth": 0,
             "ticks": ""
            },
            "type": "choropleth"
           }
          ],
          "contour": [
           {
            "colorbar": {
             "outlinewidth": 0,
             "ticks": ""
            },
            "colorscale": [
             [
              0,
              "#0d0887"
             ],
             [
              0.1111111111111111,
              "#46039f"
             ],
             [
              0.2222222222222222,
              "#7201a8"
             ],
             [
              0.3333333333333333,
              "#9c179e"
             ],
             [
              0.4444444444444444,
              "#bd3786"
             ],
             [
              0.5555555555555556,
              "#d8576b"
             ],
             [
              0.6666666666666666,
              "#ed7953"
             ],
             [
              0.7777777777777778,
              "#fb9f3a"
             ],
             [
              0.8888888888888888,
              "#fdca26"
             ],
             [
              1,
              "#f0f921"
             ]
            ],
            "type": "contour"
           }
          ],
          "contourcarpet": [
           {
            "colorbar": {
             "outlinewidth": 0,
             "ticks": ""
            },
            "type": "contourcarpet"
           }
          ],
          "heatmap": [
           {
            "colorbar": {
             "outlinewidth": 0,
             "ticks": ""
            },
            "colorscale": [
             [
              0,
              "#0d0887"
             ],
             [
              0.1111111111111111,
              "#46039f"
             ],
             [
              0.2222222222222222,
              "#7201a8"
             ],
             [
              0.3333333333333333,
              "#9c179e"
             ],
             [
              0.4444444444444444,
              "#bd3786"
             ],
             [
              0.5555555555555556,
              "#d8576b"
             ],
             [
              0.6666666666666666,
              "#ed7953"
             ],
             [
              0.7777777777777778,
              "#fb9f3a"
             ],
             [
              0.8888888888888888,
              "#fdca26"
             ],
             [
              1,
              "#f0f921"
             ]
            ],
            "type": "heatmap"
           }
          ],
          "heatmapgl": [
           {
            "colorbar": {
             "outlinewidth": 0,
             "ticks": ""
            },
            "colorscale": [
             [
              0,
              "#0d0887"
             ],
             [
              0.1111111111111111,
              "#46039f"
             ],
             [
              0.2222222222222222,
              "#7201a8"
             ],
             [
              0.3333333333333333,
              "#9c179e"
             ],
             [
              0.4444444444444444,
              "#bd3786"
             ],
             [
              0.5555555555555556,
              "#d8576b"
             ],
             [
              0.6666666666666666,
              "#ed7953"
             ],
             [
              0.7777777777777778,
              "#fb9f3a"
             ],
             [
              0.8888888888888888,
              "#fdca26"
             ],
             [
              1,
              "#f0f921"
             ]
            ],
            "type": "heatmapgl"
           }
          ],
          "histogram": [
           {
            "marker": {
             "pattern": {
              "fillmode": "overlay",
              "size": 10,
              "solidity": 0.2
             }
            },
            "type": "histogram"
           }
          ],
          "histogram2d": [
           {
            "colorbar": {
             "outlinewidth": 0,
             "ticks": ""
            },
            "colorscale": [
             [
              0,
              "#0d0887"
             ],
             [
              0.1111111111111111,
              "#46039f"
             ],
             [
              0.2222222222222222,
              "#7201a8"
             ],
             [
              0.3333333333333333,
              "#9c179e"
             ],
             [
              0.4444444444444444,
              "#bd3786"
             ],
             [
              0.5555555555555556,
              "#d8576b"
             ],
             [
              0.6666666666666666,
              "#ed7953"
             ],
             [
              0.7777777777777778,
              "#fb9f3a"
             ],
             [
              0.8888888888888888,
              "#fdca26"
             ],
             [
              1,
              "#f0f921"
             ]
            ],
            "type": "histogram2d"
           }
          ],
          "histogram2dcontour": [
           {
            "colorbar": {
             "outlinewidth": 0,
             "ticks": ""
            },
            "colorscale": [
             [
              0,
              "#0d0887"
             ],
             [
              0.1111111111111111,
              "#46039f"
             ],
             [
              0.2222222222222222,
              "#7201a8"
             ],
             [
              0.3333333333333333,
              "#9c179e"
             ],
             [
              0.4444444444444444,
              "#bd3786"
             ],
             [
              0.5555555555555556,
              "#d8576b"
             ],
             [
              0.6666666666666666,
              "#ed7953"
             ],
             [
              0.7777777777777778,
              "#fb9f3a"
             ],
             [
              0.8888888888888888,
              "#fdca26"
             ],
             [
              1,
              "#f0f921"
             ]
            ],
            "type": "histogram2dcontour"
           }
          ],
          "mesh3d": [
           {
            "colorbar": {
             "outlinewidth": 0,
             "ticks": ""
            },
            "type": "mesh3d"
           }
          ],
          "parcoords": [
           {
            "line": {
             "colorbar": {
              "outlinewidth": 0,
              "ticks": ""
             }
            },
            "type": "parcoords"
           }
          ],
          "pie": [
           {
            "automargin": true,
            "type": "pie"
           }
          ],
          "scatter": [
           {
            "fillpattern": {
             "fillmode": "overlay",
             "size": 10,
             "solidity": 0.2
            },
            "type": "scatter"
           }
          ],
          "scatter3d": [
           {
            "line": {
             "colorbar": {
              "outlinewidth": 0,
              "ticks": ""
             }
            },
            "marker": {
             "colorbar": {
              "outlinewidth": 0,
              "ticks": ""
             }
            },
            "type": "scatter3d"
           }
          ],
          "scattercarpet": [
           {
            "marker": {
             "colorbar": {
              "outlinewidth": 0,
              "ticks": ""
             }
            },
            "type": "scattercarpet"
           }
          ],
          "scattergeo": [
           {
            "marker": {
             "colorbar": {
              "outlinewidth": 0,
              "ticks": ""
             }
            },
            "type": "scattergeo"
           }
          ],
          "scattergl": [
           {
            "marker": {
             "colorbar": {
              "outlinewidth": 0,
              "ticks": ""
             }
            },
            "type": "scattergl"
           }
          ],
          "scattermapbox": [
           {
            "marker": {
             "colorbar": {
              "outlinewidth": 0,
              "ticks": ""
             }
            },
            "type": "scattermapbox"
           }
          ],
          "scatterpolar": [
           {
            "marker": {
             "colorbar": {
              "outlinewidth": 0,
              "ticks": ""
             }
            },
            "type": "scatterpolar"
           }
          ],
          "scatterpolargl": [
           {
            "marker": {
             "colorbar": {
              "outlinewidth": 0,
              "ticks": ""
             }
            },
            "type": "scatterpolargl"
           }
          ],
          "scatterternary": [
           {
            "marker": {
             "colorbar": {
              "outlinewidth": 0,
              "ticks": ""
             }
            },
            "type": "scatterternary"
           }
          ],
          "surface": [
           {
            "colorbar": {
             "outlinewidth": 0,
             "ticks": ""
            },
            "colorscale": [
             [
              0,
              "#0d0887"
             ],
             [
              0.1111111111111111,
              "#46039f"
             ],
             [
              0.2222222222222222,
              "#7201a8"
             ],
             [
              0.3333333333333333,
              "#9c179e"
             ],
             [
              0.4444444444444444,
              "#bd3786"
             ],
             [
              0.5555555555555556,
              "#d8576b"
             ],
             [
              0.6666666666666666,
              "#ed7953"
             ],
             [
              0.7777777777777778,
              "#fb9f3a"
             ],
             [
              0.8888888888888888,
              "#fdca26"
             ],
             [
              1,
              "#f0f921"
             ]
            ],
            "type": "surface"
           }
          ],
          "table": [
           {
            "cells": {
             "fill": {
              "color": "#EBF0F8"
             },
             "line": {
              "color": "white"
             }
            },
            "header": {
             "fill": {
              "color": "#C8D4E3"
             },
             "line": {
              "color": "white"
             }
            },
            "type": "table"
           }
          ]
         },
         "layout": {
          "annotationdefaults": {
           "arrowcolor": "#2a3f5f",
           "arrowhead": 0,
           "arrowwidth": 1
          },
          "autotypenumbers": "strict",
          "coloraxis": {
           "colorbar": {
            "outlinewidth": 0,
            "ticks": ""
           }
          },
          "colorscale": {
           "diverging": [
            [
             0,
             "#8e0152"
            ],
            [
             0.1,
             "#c51b7d"
            ],
            [
             0.2,
             "#de77ae"
            ],
            [
             0.3,
             "#f1b6da"
            ],
            [
             0.4,
             "#fde0ef"
            ],
            [
             0.5,
             "#f7f7f7"
            ],
            [
             0.6,
             "#e6f5d0"
            ],
            [
             0.7,
             "#b8e186"
            ],
            [
             0.8,
             "#7fbc41"
            ],
            [
             0.9,
             "#4d9221"
            ],
            [
             1,
             "#276419"
            ]
           ],
           "sequential": [
            [
             0,
             "#0d0887"
            ],
            [
             0.1111111111111111,
             "#46039f"
            ],
            [
             0.2222222222222222,
             "#7201a8"
            ],
            [
             0.3333333333333333,
             "#9c179e"
            ],
            [
             0.4444444444444444,
             "#bd3786"
            ],
            [
             0.5555555555555556,
             "#d8576b"
            ],
            [
             0.6666666666666666,
             "#ed7953"
            ],
            [
             0.7777777777777778,
             "#fb9f3a"
            ],
            [
             0.8888888888888888,
             "#fdca26"
            ],
            [
             1,
             "#f0f921"
            ]
           ],
           "sequentialminus": [
            [
             0,
             "#0d0887"
            ],
            [
             0.1111111111111111,
             "#46039f"
            ],
            [
             0.2222222222222222,
             "#7201a8"
            ],
            [
             0.3333333333333333,
             "#9c179e"
            ],
            [
             0.4444444444444444,
             "#bd3786"
            ],
            [
             0.5555555555555556,
             "#d8576b"
            ],
            [
             0.6666666666666666,
             "#ed7953"
            ],
            [
             0.7777777777777778,
             "#fb9f3a"
            ],
            [
             0.8888888888888888,
             "#fdca26"
            ],
            [
             1,
             "#f0f921"
            ]
           ]
          },
          "colorway": [
           "#636efa",
           "#EF553B",
           "#00cc96",
           "#ab63fa",
           "#FFA15A",
           "#19d3f3",
           "#FF6692",
           "#B6E880",
           "#FF97FF",
           "#FECB52"
          ],
          "font": {
           "color": "#2a3f5f"
          },
          "geo": {
           "bgcolor": "white",
           "lakecolor": "white",
           "landcolor": "#E5ECF6",
           "showlakes": true,
           "showland": true,
           "subunitcolor": "white"
          },
          "hoverlabel": {
           "align": "left"
          },
          "hovermode": "closest",
          "mapbox": {
           "style": "light"
          },
          "paper_bgcolor": "white",
          "plot_bgcolor": "#E5ECF6",
          "polar": {
           "angularaxis": {
            "gridcolor": "white",
            "linecolor": "white",
            "ticks": ""
           },
           "bgcolor": "#E5ECF6",
           "radialaxis": {
            "gridcolor": "white",
            "linecolor": "white",
            "ticks": ""
           }
          },
          "scene": {
           "xaxis": {
            "backgroundcolor": "#E5ECF6",
            "gridcolor": "white",
            "gridwidth": 2,
            "linecolor": "white",
            "showbackground": true,
            "ticks": "",
            "zerolinecolor": "white"
           },
           "yaxis": {
            "backgroundcolor": "#E5ECF6",
            "gridcolor": "white",
            "gridwidth": 2,
            "linecolor": "white",
            "showbackground": true,
            "ticks": "",
            "zerolinecolor": "white"
           },
           "zaxis": {
            "backgroundcolor": "#E5ECF6",
            "gridcolor": "white",
            "gridwidth": 2,
            "linecolor": "white",
            "showbackground": true,
            "ticks": "",
            "zerolinecolor": "white"
           }
          },
          "shapedefaults": {
           "line": {
            "color": "#2a3f5f"
           }
          },
          "ternary": {
           "aaxis": {
            "gridcolor": "white",
            "linecolor": "white",
            "ticks": ""
           },
           "baxis": {
            "gridcolor": "white",
            "linecolor": "white",
            "ticks": ""
           },
           "bgcolor": "#E5ECF6",
           "caxis": {
            "gridcolor": "white",
            "linecolor": "white",
            "ticks": ""
           }
          },
          "title": {
           "x": 0.05
          },
          "xaxis": {
           "automargin": true,
           "gridcolor": "white",
           "linecolor": "white",
           "ticks": "",
           "title": {
            "standoff": 15
           },
           "zerolinecolor": "white",
           "zerolinewidth": 2
          },
          "yaxis": {
           "automargin": true,
           "gridcolor": "white",
           "linecolor": "white",
           "ticks": "",
           "title": {
            "standoff": 15
           },
           "zerolinecolor": "white",
           "zerolinewidth": 2
          }
         }
        },
        "title": {
         "text": "Créditos"
        },
        "yaxis": {
         "gridcolor": "#dddcda"
        }
       }
      }
     },
     "metadata": {},
     "output_type": "display_data"
    }
   ],
   "source": [
    "conteo_tres_pachuca = pd.concat([\n",
    "    total_conteo_pachuca,\n",
    "    nueva_conteo_pachuca,\n",
    "    usada_conteo_pachuca\n",
    "])\n",
    "# Datos\n",
    "año = conteo_tres_pachuca['año']\n",
    "modalidades = conteo_tres_pachuca['modalidad']\n",
    "creditos = conteo_tres_pachuca['num_registros']\n",
    "\n",
    "fig = go.Figure()\n",
    "# Agregar líneas para cada modalidad\n",
    "for modalidad in modalidades.unique():\n",
    "    df_modalidad = conteo_tres_pachuca[conteo_tres_pachuca['modalidad'] == modalidad]\n",
    "    fig.add_trace(go.Scatter(\n",
    "        x=df_modalidad['año'],\n",
    "        y=df_modalidad['num_registros'].apply(lambda x: float(x.replace(',', ''))),  # Usar los montos limpios\n",
    "        mode='markers+lines',\n",
    "        name=modalidad\n",
    "    ))\n",
    "fig.update_layout(\n",
    "    title='Créditos',\n",
    "    yaxis=dict(gridcolor='#dddcda'),\n",
    "    plot_bgcolor='rgba(0,0,0,0)',  # Color de fondo del gráfico\n",
    ")\n",
    "for trace in fig.data:\n",
    "    df_modalidad = conteo_tres_pachuca[conteo_tres_pachuca['modalidad'] == trace.name]\n",
    "    for i, point in enumerate(trace.y):\n",
    "        # No formatear el valor del monto como moneda\n",
    "        fig.add_annotation(\n",
    "            x=trace.x[i], \n",
    "            y=point, \n",
    "            text=f'{point}',  # Mostrar el valor simple del punto\n",
    "            showarrow=False,\n",
    "            font=dict(color='black', size=10),\n",
    "            yshift=10\n",
    "        )\n",
    "\n",
    "\n",
    "# Exportar gráfica como archivo HTML\n",
    "def guardar_grafico_como_html(fig, nombre_archivo, carpeta='graficas'):\n",
    "    # Crear la carpeta si no existe\n",
    "    if not os.path.exists(carpeta):\n",
    "        os.makedirs(carpeta)\n",
    "    \n",
    "    # Gráfica como archivo HTML en la carpeta especificada\n",
    "    pio.write_html(fig, f'{carpeta}/{nombre_archivo}.html')\n",
    "\n",
    "guardar_grafico_como_html(fig, 'g_scatt_forecastcredit_conteo_pachuca', carpeta='graficas')\n",
    "fig.show()\n"
   ]
  }
 ],
 "metadata": {
  "kernelspec": {
   "display_name": "base",
   "language": "python",
   "name": "python3"
  },
  "language_info": {
   "codemirror_mode": {
    "name": "ipython",
    "version": 3
   },
   "file_extension": ".py",
   "mimetype": "text/x-python",
   "name": "python",
   "nbconvert_exporter": "python",
   "pygments_lexer": "ipython3",
   "version": "3.9.13"
  }
 },
 "nbformat": 4,
 "nbformat_minor": 2
}
