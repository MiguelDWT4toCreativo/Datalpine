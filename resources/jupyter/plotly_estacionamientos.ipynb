{
 "cells": [
  {
   "cell_type": "markdown",
   "metadata": {},
   "source": [
    "# **PLOTLY GRÁFICAS**"
   ]
  },
  {
   "cell_type": "markdown",
   "metadata": {},
   "source": [
    "# *Importacion y utilizacion de las librerias para compilar el codigo*"
   ]
  },
  {
   "cell_type": "code",
   "execution_count": 1,
   "metadata": {},
   "outputs": [],
   "source": [
    "# Manejo de datos\n",
    "import os # Directorios\n",
    "import pandas as pd # Manipulación df\n",
    "\n",
    "# Gráficas\n",
    "import plotly.graph_objects as go #Para obtener librería usar: pip install plotly\n",
    "from plotly.subplots import make_subplots\n",
    "import plotly.io as pio # Exportar gráfica"
   ]
  },
  {
   "cell_type": "markdown",
   "metadata": {},
   "source": [
    "# *Data import*"
   ]
  },
  {
   "cell_type": "code",
   "execution_count": 2,
   "metadata": {},
   "outputs": [],
   "source": [
    "# Obtener el directorio actual de trabajo\n",
    "directorio_actual = os.getcwd()\n",
    "# Directorio donde se encuentran los archivos JSON (ruta relativa)\n",
    "directorio_json = os.path.join(directorio_actual, 'datos_json')\n",
    "# Imprimir la ruta relativa\n",
    "#print(\"Directorio JSON relativo:\", directorio_json)\n",
    "# Obtener la lista de archivos JSON en el directorio\n",
    "archivos_json = os.listdir(directorio_json)"
   ]
  },
  {
   "cell_type": "markdown",
   "metadata": {},
   "source": [
    "### *Creación de los df por cada archivo json*"
   ]
  },
  {
   "cell_type": "code",
   "execution_count": 3,
   "metadata": {},
   "outputs": [
    {
     "name": "stdout",
     "output_type": "stream",
     "text": [
      "Lista de DataFrames creados:\n",
      "['df_alfa_q_feb_2023_pachuca', 'df_alfa_q_jul_2023_pachuca', 'df_alfa_q_jun_2023_pachuca', 'df_alfa_q_mar_2023_pachuca', 'df_alfa_q_nov_2022_pachuca', 'df_alfa_q_oct_2022_pachuca', 'df_alfa_q_sep_2023_pachuca', 'df_financiamientos_2022_pachuca', 'df_financiamientos_2023_pachuca', 'df_grupos_edad_pachuca', 'df_usuarios']\n"
     ]
    }
   ],
   "source": [
    "# Crear un diccionario para almacenar los DataFrames\n",
    "dataframes = {}\n",
    "# Iterar sobre cada archivo JSON y crear un DataFrame\n",
    "for archivo in archivos_json:\n",
    "    # Obtener el nombre de la tabla del nombre del archivo\n",
    "    nombre_tabla = archivo.replace('datos_', '').replace('.json', '')    \n",
    "    # Cargar el archivo JSON en un DataFrame y asignarlo a una variable con un nombre dinámico\n",
    "    ruta_json = os.path.join(directorio_json, archivo)\n",
    "    globals()[f\"df_{nombre_tabla}\"] = pd.read_json(ruta_json)\n",
    "\n",
    "# Obtener todos los nombres de las variables globales\n",
    "nombres_variables_globales = list(globals().keys())\n",
    "# Filtrar los nombres para obtener solo aquellos que comienzan con \"df_\"\n",
    "nombres_df = [nombre for nombre in nombres_variables_globales if nombre.startswith(\"df_\")]\n",
    "\n",
    "# Imprimir la lista de nombres de los DataFrames creados\n",
    "print(\"Lista de DataFrames creados:\")\n",
    "print(nombres_df)"
   ]
  },
  {
   "cell_type": "markdown",
   "metadata": {},
   "source": [
    "________\n",
    "# ***Estacionamientos***\n",
    "# CONSULTAS\n",
    "### Creación de tablas a usar\n",
    "\n",
    "- alfa_q_oct_2022_pachuca\n",
    "- alfa_q_nov_2022_pachuca\n",
    "- alfa_q_feb_2023_pachuca\n",
    "- alfa_q_mar_2023_pachuca\n",
    "- alfa_q_jun_2023_pachuca\n",
    "- alfa_q_jul_2023_pachuca"
   ]
  },
  {
   "cell_type": "code",
   "execution_count": 4,
   "metadata": {},
   "outputs": [],
   "source": [
    "# Crea los DataFrames para cada archivo con las columnas necesarias\n",
    "estacionamiento_df_alfa_q_oct_2022_pachuca = df_alfa_q_oct_2022_pachuca[['id','categoria', 'estacionamiento']]\n",
    "estacionamiento_df_alfa_q_nov_2022_pachuca = df_alfa_q_nov_2022_pachuca[['id','categoria', 'estacionamiento']]\n",
    "estacionamiento_df_alfa_q_feb_2023_pachuca = df_alfa_q_feb_2023_pachuca[['id','categoria', 'estacionamiento']]\n",
    "estacionamiento_df_alfa_q_mar_2023_pachuca = df_alfa_q_mar_2023_pachuca[['id','categoria', 'estacionamiento']]\n",
    "estacionamiento_df_alfa_q_jun_2023_pachuca = df_alfa_q_jun_2023_pachuca[['id','categoria', 'estacionamiento']]\n",
    "estacionamiento_df_alfa_q_jul_2023_pachuca = df_alfa_q_jul_2023_pachuca[['id','categoria', 'estacionamiento']]"
   ]
  },
  {
   "cell_type": "code",
   "execution_count": 5,
   "metadata": {},
   "outputs": [
    {
     "name": "stdout",
     "output_type": "stream",
     "text": [
      "Nombre del DataFrame: estacionamiento_df_alfa_q_oct_2022_pachuca\n",
      "segmento  estacionamiento\n",
      "A         0                   11\n",
      "          1                   21\n",
      "          2                  147\n",
      "          3                   17\n",
      "          4                    2\n",
      "          5                    4\n",
      "          6                    2\n",
      "B         0                   13\n",
      "          1                   76\n",
      "          2                  262\n",
      "          3                   18\n",
      "          4                    8\n",
      "          5                    0\n",
      "          6                    0\n",
      "C         0                   16\n",
      "          1                   87\n",
      "          2                  185\n",
      "          3                   13\n",
      "          4                    2\n",
      "          5                    1\n",
      "          6                    1\n",
      "D         0                   26\n",
      "          1                  156\n",
      "          2                  167\n",
      "          3                    1\n",
      "          4                    0\n",
      "          5                    0\n",
      "          6                    1\n",
      "E         0                    4\n",
      "          1                   48\n",
      "          2                   16\n",
      "          3                    0\n",
      "          4                    0\n",
      "          5                    0\n",
      "          6                    0\n",
      "S         0                   10\n",
      "          1                   48\n",
      "          2                  191\n",
      "          3                   54\n",
      "          4                   49\n",
      "          5                    8\n",
      "          6                   17\n",
      "dtype: int64\n",
      "Nombre del DataFrame: estacionamiento_df_alfa_q_nov_2022_pachuca\n",
      "segmento  estacionamiento\n",
      "A         0                   11\n",
      "          1                   22\n",
      "          2                  170\n",
      "          3                   21\n",
      "          4                    2\n",
      "          5                    6\n",
      "          6                    2\n",
      "B         0                   16\n",
      "          1                   86\n",
      "          2                  294\n",
      "          3                   23\n",
      "          4                    8\n",
      "          5                    0\n",
      "          6                    0\n",
      "C         0                   18\n",
      "          1                  108\n",
      "          2                  211\n",
      "          3                   13\n",
      "          4                    2\n",
      "          5                    1\n",
      "          6                    1\n",
      "D         0                   33\n",
      "          1                  189\n",
      "          2                  196\n",
      "          3                    2\n",
      "          4                    0\n",
      "          5                    0\n",
      "          6                    1\n",
      "E         0                    6\n",
      "          1                   59\n",
      "          2                   24\n",
      "          3                    0\n",
      "          4                    0\n",
      "          5                    0\n",
      "          6                    0\n",
      "S         0                   11\n",
      "          1                   52\n",
      "          2                  211\n",
      "          3                   54\n",
      "          4                   50\n",
      "          5                    7\n",
      "          6                   17\n",
      "dtype: int64\n"
     ]
    },
    {
     "name": "stderr",
     "output_type": "stream",
     "text": [
      "C:\\Users\\IngeM\\AppData\\Local\\Temp\\ipykernel_5884\\721518781.py:4: SettingWithCopyWarning: \n",
      "A value is trying to be set on a copy of a slice from a DataFrame.\n",
      "Try using .loc[row_indexer,col_indexer] = value instead\n",
      "\n",
      "See the caveats in the documentation: https://pandas.pydata.org/pandas-docs/stable/user_guide/indexing.html#returning-a-view-versus-a-copy\n",
      "  df['segmento'] = df['categoria'].str[0]\n",
      "C:\\Users\\IngeM\\AppData\\Local\\Temp\\ipykernel_5884\\721518781.py:5: SettingWithCopyWarning: \n",
      "A value is trying to be set on a copy of a slice from a DataFrame\n",
      "\n",
      "See the caveats in the documentation: https://pandas.pydata.org/pandas-docs/stable/user_guide/indexing.html#returning-a-view-versus-a-copy\n",
      "  df.drop(columns=['categoria'], inplace=True)\n",
      "C:\\Users\\IngeM\\AppData\\Local\\Temp\\ipykernel_5884\\721518781.py:10: SettingWithCopyWarning: \n",
      "A value is trying to be set on a copy of a slice from a DataFrame.\n",
      "Try using .loc[row_indexer,col_indexer] = value instead\n",
      "\n",
      "See the caveats in the documentation: https://pandas.pydata.org/pandas-docs/stable/user_guide/indexing.html#returning-a-view-versus-a-copy\n",
      "  df['estacionamiento'] = pd.cut(df['estacionamiento'], bins=bins, labels=labels, right=False)\n",
      "C:\\Users\\IngeM\\AppData\\Local\\Temp\\ipykernel_5884\\721518781.py:4: SettingWithCopyWarning: \n",
      "A value is trying to be set on a copy of a slice from a DataFrame.\n",
      "Try using .loc[row_indexer,col_indexer] = value instead\n",
      "\n",
      "See the caveats in the documentation: https://pandas.pydata.org/pandas-docs/stable/user_guide/indexing.html#returning-a-view-versus-a-copy\n",
      "  df['segmento'] = df['categoria'].str[0]\n",
      "C:\\Users\\IngeM\\AppData\\Local\\Temp\\ipykernel_5884\\721518781.py:5: SettingWithCopyWarning: \n",
      "A value is trying to be set on a copy of a slice from a DataFrame\n",
      "\n",
      "See the caveats in the documentation: https://pandas.pydata.org/pandas-docs/stable/user_guide/indexing.html#returning-a-view-versus-a-copy\n",
      "  df.drop(columns=['categoria'], inplace=True)\n",
      "C:\\Users\\IngeM\\AppData\\Local\\Temp\\ipykernel_5884\\721518781.py:10: SettingWithCopyWarning: \n",
      "A value is trying to be set on a copy of a slice from a DataFrame.\n",
      "Try using .loc[row_indexer,col_indexer] = value instead\n",
      "\n",
      "See the caveats in the documentation: https://pandas.pydata.org/pandas-docs/stable/user_guide/indexing.html#returning-a-view-versus-a-copy\n",
      "  df['estacionamiento'] = pd.cut(df['estacionamiento'], bins=bins, labels=labels, right=False)\n",
      "C:\\Users\\IngeM\\AppData\\Local\\Temp\\ipykernel_5884\\721518781.py:4: SettingWithCopyWarning: \n",
      "A value is trying to be set on a copy of a slice from a DataFrame.\n",
      "Try using .loc[row_indexer,col_indexer] = value instead\n",
      "\n",
      "See the caveats in the documentation: https://pandas.pydata.org/pandas-docs/stable/user_guide/indexing.html#returning-a-view-versus-a-copy\n",
      "  df['segmento'] = df['categoria'].str[0]\n",
      "C:\\Users\\IngeM\\AppData\\Local\\Temp\\ipykernel_5884\\721518781.py:5: SettingWithCopyWarning: \n",
      "A value is trying to be set on a copy of a slice from a DataFrame\n",
      "\n",
      "See the caveats in the documentation: https://pandas.pydata.org/pandas-docs/stable/user_guide/indexing.html#returning-a-view-versus-a-copy\n",
      "  df.drop(columns=['categoria'], inplace=True)\n",
      "C:\\Users\\IngeM\\AppData\\Local\\Temp\\ipykernel_5884\\721518781.py:10: SettingWithCopyWarning: \n",
      "A value is trying to be set on a copy of a slice from a DataFrame.\n",
      "Try using .loc[row_indexer,col_indexer] = value instead\n",
      "\n",
      "See the caveats in the documentation: https://pandas.pydata.org/pandas-docs/stable/user_guide/indexing.html#returning-a-view-versus-a-copy\n",
      "  df['estacionamiento'] = pd.cut(df['estacionamiento'], bins=bins, labels=labels, right=False)\n",
      "C:\\Users\\IngeM\\AppData\\Local\\Temp\\ipykernel_5884\\721518781.py:4: SettingWithCopyWarning: \n",
      "A value is trying to be set on a copy of a slice from a DataFrame.\n",
      "Try using .loc[row_indexer,col_indexer] = value instead\n",
      "\n",
      "See the caveats in the documentation: https://pandas.pydata.org/pandas-docs/stable/user_guide/indexing.html#returning-a-view-versus-a-copy\n",
      "  df['segmento'] = df['categoria'].str[0]\n",
      "C:\\Users\\IngeM\\AppData\\Local\\Temp\\ipykernel_5884\\721518781.py:5: SettingWithCopyWarning: \n",
      "A value is trying to be set on a copy of a slice from a DataFrame\n",
      "\n",
      "See the caveats in the documentation: https://pandas.pydata.org/pandas-docs/stable/user_guide/indexing.html#returning-a-view-versus-a-copy\n",
      "  df.drop(columns=['categoria'], inplace=True)\n",
      "C:\\Users\\IngeM\\AppData\\Local\\Temp\\ipykernel_5884\\721518781.py:10: SettingWithCopyWarning: \n",
      "A value is trying to be set on a copy of a slice from a DataFrame.\n",
      "Try using .loc[row_indexer,col_indexer] = value instead\n",
      "\n",
      "See the caveats in the documentation: https://pandas.pydata.org/pandas-docs/stable/user_guide/indexing.html#returning-a-view-versus-a-copy\n",
      "  df['estacionamiento'] = pd.cut(df['estacionamiento'], bins=bins, labels=labels, right=False)\n",
      "C:\\Users\\IngeM\\AppData\\Local\\Temp\\ipykernel_5884\\721518781.py:4: SettingWithCopyWarning: \n",
      "A value is trying to be set on a copy of a slice from a DataFrame.\n",
      "Try using .loc[row_indexer,col_indexer] = value instead\n",
      "\n",
      "See the caveats in the documentation: https://pandas.pydata.org/pandas-docs/stable/user_guide/indexing.html#returning-a-view-versus-a-copy\n",
      "  df['segmento'] = df['categoria'].str[0]\n",
      "C:\\Users\\IngeM\\AppData\\Local\\Temp\\ipykernel_5884\\721518781.py:5: SettingWithCopyWarning: \n",
      "A value is trying to be set on a copy of a slice from a DataFrame\n",
      "\n",
      "See the caveats in the documentation: https://pandas.pydata.org/pandas-docs/stable/user_guide/indexing.html#returning-a-view-versus-a-copy\n",
      "  df.drop(columns=['categoria'], inplace=True)\n",
      "C:\\Users\\IngeM\\AppData\\Local\\Temp\\ipykernel_5884\\721518781.py:10: SettingWithCopyWarning: \n",
      "A value is trying to be set on a copy of a slice from a DataFrame.\n",
      "Try using .loc[row_indexer,col_indexer] = value instead\n",
      "\n",
      "See the caveats in the documentation: https://pandas.pydata.org/pandas-docs/stable/user_guide/indexing.html#returning-a-view-versus-a-copy\n",
      "  df['estacionamiento'] = pd.cut(df['estacionamiento'], bins=bins, labels=labels, right=False)\n",
      "C:\\Users\\IngeM\\AppData\\Local\\Temp\\ipykernel_5884\\721518781.py:4: SettingWithCopyWarning: \n",
      "A value is trying to be set on a copy of a slice from a DataFrame.\n",
      "Try using .loc[row_indexer,col_indexer] = value instead\n",
      "\n",
      "See the caveats in the documentation: https://pandas.pydata.org/pandas-docs/stable/user_guide/indexing.html#returning-a-view-versus-a-copy\n",
      "  df['segmento'] = df['categoria'].str[0]\n",
      "C:\\Users\\IngeM\\AppData\\Local\\Temp\\ipykernel_5884\\721518781.py:5: SettingWithCopyWarning: \n",
      "A value is trying to be set on a copy of a slice from a DataFrame\n",
      "\n",
      "See the caveats in the documentation: https://pandas.pydata.org/pandas-docs/stable/user_guide/indexing.html#returning-a-view-versus-a-copy\n",
      "  df.drop(columns=['categoria'], inplace=True)\n",
      "C:\\Users\\IngeM\\AppData\\Local\\Temp\\ipykernel_5884\\721518781.py:10: SettingWithCopyWarning: \n",
      "A value is trying to be set on a copy of a slice from a DataFrame.\n",
      "Try using .loc[row_indexer,col_indexer] = value instead\n",
      "\n",
      "See the caveats in the documentation: https://pandas.pydata.org/pandas-docs/stable/user_guide/indexing.html#returning-a-view-versus-a-copy\n",
      "  df['estacionamiento'] = pd.cut(df['estacionamiento'], bins=bins, labels=labels, right=False)\n"
     ]
    },
    {
     "name": "stdout",
     "output_type": "stream",
     "text": [
      "Nombre del DataFrame: estacionamiento_df_alfa_q_feb_2023_pachuca\n",
      "segmento  estacionamiento\n",
      "A         0                    1\n",
      "          1                   15\n",
      "          2                  118\n",
      "          3                    8\n",
      "          4                    4\n",
      "          5                    3\n",
      "          6                    2\n",
      "B         0                    5\n",
      "          1                   33\n",
      "          2                  186\n",
      "          3                   12\n",
      "          4                    6\n",
      "          5                    0\n",
      "          6                    2\n",
      "C         0                    3\n",
      "          1                   36\n",
      "          2                  127\n",
      "          3                    4\n",
      "          4                    0\n",
      "          5                    1\n",
      "          6                    1\n",
      "D         0                    6\n",
      "          1                   56\n",
      "          2                   91\n",
      "          3                    3\n",
      "          4                    1\n",
      "          5                    0\n",
      "          6                    1\n",
      "E         0                    1\n",
      "          1                   13\n",
      "          2                   16\n",
      "          3                    0\n",
      "          4                    0\n",
      "          5                    0\n",
      "          6                    0\n",
      "S         0                    8\n",
      "          1                    7\n",
      "          2                  125\n",
      "          3                   20\n",
      "          4                    7\n",
      "          5                    2\n",
      "          6                    4\n",
      "dtype: int64\n",
      "Nombre del DataFrame: estacionamiento_df_alfa_q_mar_2023_pachuca\n",
      "segmento  estacionamiento\n",
      "A         0                    0\n",
      "          1                   19\n",
      "          2                  204\n",
      "          3                   14\n",
      "          4                    8\n",
      "          5                    0\n",
      "          6                    0\n",
      "B         0                    0\n",
      "          1                   69\n",
      "          2                  328\n",
      "          3                   18\n",
      "          4                    9\n",
      "          5                    1\n",
      "          6                    2\n",
      "C         0                    0\n",
      "          1                   71\n",
      "          2                  221\n",
      "          3                    8\n",
      "          4                    0\n",
      "          5                    1\n",
      "          6                    3\n",
      "D         0                    0\n",
      "          1                  129\n",
      "          2                  221\n",
      "          3                    6\n",
      "          4                    0\n",
      "          5                    0\n",
      "          6                    1\n",
      "E         0                    0\n",
      "          1                   33\n",
      "          2                   36\n",
      "          3                    0\n",
      "          4                    0\n",
      "          5                    0\n",
      "          6                    0\n",
      "S         0                    0\n",
      "          1                   19\n",
      "          2                  239\n",
      "          3                   60\n",
      "          4                   39\n",
      "          5                    8\n",
      "          6                   11\n",
      "dtype: int64\n",
      "Nombre del DataFrame: estacionamiento_df_alfa_q_jun_2023_pachuca\n",
      "segmento  estacionamiento\n",
      "A         0                   17\n",
      "          1                   27\n",
      "          2                  170\n",
      "          3                   15\n",
      "          4                    8\n",
      "          5                    1\n",
      "          6                    0\n",
      "B         0                   23\n",
      "          1                   75\n",
      "          2                  271\n",
      "          3                   21\n",
      "          4                    5\n",
      "          5                    1\n",
      "          6                    0\n",
      "C         0                   30\n",
      "          1                   84\n",
      "          2                  208\n",
      "          3                   11\n",
      "          4                    0\n",
      "          5                    1\n",
      "          6                    1\n",
      "D         0                   30\n",
      "          1                  142\n",
      "          2                  188\n",
      "          3                    6\n",
      "          4                    6\n",
      "          5                    1\n",
      "          6                    1\n",
      "E         0                    2\n",
      "          1                    9\n",
      "          2                   15\n",
      "          3                    3\n",
      "          4                    1\n",
      "          5                    0\n",
      "          6                    0\n",
      "S         0                   32\n",
      "          1                   40\n",
      "          2                  249\n",
      "          3                   59\n",
      "          4                   43\n",
      "          5                    7\n",
      "          6                   22\n",
      "dtype: int64\n",
      "Nombre del DataFrame: estacionamiento_df_alfa_q_jul_2023_pachuca\n",
      "segmento  estacionamiento\n",
      "A         0                   0\n",
      "          1                  19\n",
      "          2                  11\n",
      "          3                   0\n",
      "          4                   0\n",
      "          5                   0\n",
      "          6                   0\n",
      "B         0                   4\n",
      "          1                  14\n",
      "          2                  12\n",
      "          3                   1\n",
      "          4                   0\n",
      "          5                   0\n",
      "          6                   0\n",
      "C         0                   8\n",
      "          1                   9\n",
      "          2                  11\n",
      "          3                   0\n",
      "          4                   0\n",
      "          5                   0\n",
      "          6                   0\n",
      "D         0                   2\n",
      "          1                  18\n",
      "          2                   1\n",
      "          3                   1\n",
      "          4                   0\n",
      "          5                   0\n",
      "          6                   0\n",
      "E         0                   0\n",
      "          1                  10\n",
      "          2                   0\n",
      "          3                   0\n",
      "          4                   0\n",
      "          5                   0\n",
      "          6                   0\n",
      "S         0                   0\n",
      "          1                  30\n",
      "          2                   9\n",
      "          3                   5\n",
      "          4                   0\n",
      "          5                   0\n",
      "          6                   0\n",
      "dtype: int64\n"
     ]
    }
   ],
   "source": [
    "def procesar_dataframes(dataframes_list, dataframes_names):\n",
    "    for i, df in enumerate(dataframes_list):\n",
    "        # Crear una nueva columna con la primera letra de la categoría\n",
    "        df['segmento'] = df['categoria'].str[0]\n",
    "        df.drop(columns=['categoria'], inplace=True)\n",
    "\n",
    "        # Clasificar 'baño_total' en rangos específicos\n",
    "        bins = [0, 1, 2, 3, 4, 5, 6, float('inf')]\n",
    "        labels = ['0', '1', '2', '3', '4', '5', '6']\n",
    "        df['estacionamiento'] = pd.cut(df['estacionamiento'], bins=bins, labels=labels, right=False)\n",
    "\n",
    "        # Agrupar y contar los datos\n",
    "        tabla = df.groupby(['segmento', 'estacionamiento']).size()\n",
    "\n",
    "        # Imprimir el nombre del DataFrame y la tabla resultante\n",
    "        print(f\"Nombre del DataFrame: {dataframes_names[i]}\")\n",
    "        print(tabla)\n",
    "\n",
    "# Lista de DataFrames y sus nombres correspondientes\n",
    "dataframes_list = [\n",
    "    estacionamiento_df_alfa_q_oct_2022_pachuca,\n",
    "    estacionamiento_df_alfa_q_nov_2022_pachuca,\n",
    "    estacionamiento_df_alfa_q_feb_2023_pachuca,\n",
    "    estacionamiento_df_alfa_q_mar_2023_pachuca,\n",
    "    estacionamiento_df_alfa_q_jun_2023_pachuca,\n",
    "    estacionamiento_df_alfa_q_jul_2023_pachuca\n",
    "]\n",
    "\n",
    "dataframes_names = [\n",
    "    'estacionamiento_df_alfa_q_oct_2022_pachuca',\n",
    "    'estacionamiento_df_alfa_q_nov_2022_pachuca',\n",
    "    'estacionamiento_df_alfa_q_feb_2023_pachuca',\n",
    "    'estacionamiento_df_alfa_q_mar_2023_pachuca',\n",
    "    'estacionamiento_df_alfa_q_jun_2023_pachuca',\n",
    "    'estacionamiento_df_alfa_q_jul_2023_pachuca'\n",
    "]\n",
    "\n",
    "# Procesar los DataFrames de la lista\n",
    "procesar_dataframes(dataframes_list, dataframes_names)"
   ]
  },
  {
   "cell_type": "markdown",
   "metadata": {},
   "source": [
    "### Tabla general de frecuencia\n",
    " Recuento total de filas para cada combinación de valores únicos de 'segmento' y 'estacionamientos' con todos los DataFrame"
   ]
  },
  {
   "cell_type": "code",
   "execution_count": 6,
   "metadata": {},
   "outputs": [
    {
     "name": "stdout",
     "output_type": "stream",
     "text": [
      "Tabla general de frecuencia:\n",
      "estacionamiento   0    1     2    3    4   5   6\n",
      "segmento                                        \n",
      "A                40  123   820   75   24  14   6\n",
      "B                61  353  1353   93   36   2   4\n",
      "C                75  395   963   49    4   5   7\n",
      "D                97  690   864   19    7   1   5\n",
      "E                13  172   107    3    1   0   0\n",
      "S                61  196  1024  252  188  32  71\n"
     ]
    }
   ],
   "source": [
    "# Crear una nueva función para sumar las tablas de todos los DataFrames\n",
    "def sumar_tablas(dataframes_list):\n",
    "    # Inicializar una tabla vacía para almacenar la suma\n",
    "    tabla_suma = None\n",
    "    \n",
    "    # Iterar sobre cada DataFrame en la lista\n",
    "    for df in dataframes_list:\n",
    "        # Agrupar y contar los datos en el DataFrame actual\n",
    "        tabla_actual = df.groupby(['segmento', 'estacionamiento']).size().unstack(fill_value=0)\n",
    "        \n",
    "        # Sumar la tabla actual al acumulador (tabla_suma)\n",
    "        if tabla_suma is None:\n",
    "            tabla_suma = tabla_actual\n",
    "        else:\n",
    "            tabla_suma = tabla_suma.add(tabla_actual, fill_value=0)\n",
    "    \n",
    "    # Imprimir la tabla resultante de la suma\n",
    "    print(\"Tabla general de frecuencia:\")\n",
    "    print(tabla_suma)\n",
    "\n",
    "# Llamar a la función sumar_tablas con la lista de DataFrames como argumento\n",
    "sumar_tablas(dataframes_list)"
   ]
  },
  {
   "cell_type": "code",
   "execution_count": 7,
   "metadata": {},
   "outputs": [
    {
     "name": "stdout",
     "output_type": "stream",
     "text": [
      "Tabla general de frecuencia:\n",
      "segmento           A     B    C    D    E     S\n",
      "estacionamiento                                \n",
      "0                 40    61   75   97   13    61\n",
      "1                123   353  395  690  172   196\n",
      "2                820  1353  963  864  107  1024\n",
      "3                 75    93   49   19    3   252\n",
      "4                 24    36    4    7    1   188\n",
      "5                 14     2    5    1    0    32\n",
      "6                  6     4    7    5    0    71\n"
     ]
    },
    {
     "data": {
      "application/vnd.plotly.v1+json": {
       "config": {
        "plotlyServerURL": "https://plot.ly"
       },
       "data": [
        {
         "name": "0",
         "type": "bar",
         "x": [
          "A",
          "B",
          "C",
          "D",
          "E",
          "S"
         ],
         "y": [
          40,
          61,
          75,
          97,
          13,
          61
         ]
        },
        {
         "name": "1",
         "type": "bar",
         "x": [
          "A",
          "B",
          "C",
          "D",
          "E",
          "S"
         ],
         "y": [
          123,
          353,
          395,
          690,
          172,
          196
         ]
        },
        {
         "name": "2",
         "type": "bar",
         "x": [
          "A",
          "B",
          "C",
          "D",
          "E",
          "S"
         ],
         "y": [
          820,
          1353,
          963,
          864,
          107,
          1024
         ]
        },
        {
         "name": "3",
         "type": "bar",
         "x": [
          "A",
          "B",
          "C",
          "D",
          "E",
          "S"
         ],
         "y": [
          75,
          93,
          49,
          19,
          3,
          252
         ]
        },
        {
         "name": "4",
         "type": "bar",
         "x": [
          "A",
          "B",
          "C",
          "D",
          "E",
          "S"
         ],
         "y": [
          24,
          36,
          4,
          7,
          1,
          188
         ]
        },
        {
         "name": "5",
         "type": "bar",
         "x": [
          "A",
          "B",
          "C",
          "D",
          "E",
          "S"
         ],
         "y": [
          14,
          2,
          5,
          1,
          0,
          32
         ]
        },
        {
         "name": "6",
         "type": "bar",
         "x": [
          "A",
          "B",
          "C",
          "D",
          "E",
          "S"
         ],
         "y": [
          6,
          4,
          7,
          5,
          0,
          71
         ]
        }
       ],
       "layout": {
        "template": {
         "data": {
          "bar": [
           {
            "error_x": {
             "color": "#2a3f5f"
            },
            "error_y": {
             "color": "#2a3f5f"
            },
            "marker": {
             "line": {
              "color": "#E5ECF6",
              "width": 0.5
             },
             "pattern": {
              "fillmode": "overlay",
              "size": 10,
              "solidity": 0.2
             }
            },
            "type": "bar"
           }
          ],
          "barpolar": [
           {
            "marker": {
             "line": {
              "color": "#E5ECF6",
              "width": 0.5
             },
             "pattern": {
              "fillmode": "overlay",
              "size": 10,
              "solidity": 0.2
             }
            },
            "type": "barpolar"
           }
          ],
          "carpet": [
           {
            "aaxis": {
             "endlinecolor": "#2a3f5f",
             "gridcolor": "white",
             "linecolor": "white",
             "minorgridcolor": "white",
             "startlinecolor": "#2a3f5f"
            },
            "baxis": {
             "endlinecolor": "#2a3f5f",
             "gridcolor": "white",
             "linecolor": "white",
             "minorgridcolor": "white",
             "startlinecolor": "#2a3f5f"
            },
            "type": "carpet"
           }
          ],
          "choropleth": [
           {
            "colorbar": {
             "outlinewidth": 0,
             "ticks": ""
            },
            "type": "choropleth"
           }
          ],
          "contour": [
           {
            "colorbar": {
             "outlinewidth": 0,
             "ticks": ""
            },
            "colorscale": [
             [
              0,
              "#0d0887"
             ],
             [
              0.1111111111111111,
              "#46039f"
             ],
             [
              0.2222222222222222,
              "#7201a8"
             ],
             [
              0.3333333333333333,
              "#9c179e"
             ],
             [
              0.4444444444444444,
              "#bd3786"
             ],
             [
              0.5555555555555556,
              "#d8576b"
             ],
             [
              0.6666666666666666,
              "#ed7953"
             ],
             [
              0.7777777777777778,
              "#fb9f3a"
             ],
             [
              0.8888888888888888,
              "#fdca26"
             ],
             [
              1,
              "#f0f921"
             ]
            ],
            "type": "contour"
           }
          ],
          "contourcarpet": [
           {
            "colorbar": {
             "outlinewidth": 0,
             "ticks": ""
            },
            "type": "contourcarpet"
           }
          ],
          "heatmap": [
           {
            "colorbar": {
             "outlinewidth": 0,
             "ticks": ""
            },
            "colorscale": [
             [
              0,
              "#0d0887"
             ],
             [
              0.1111111111111111,
              "#46039f"
             ],
             [
              0.2222222222222222,
              "#7201a8"
             ],
             [
              0.3333333333333333,
              "#9c179e"
             ],
             [
              0.4444444444444444,
              "#bd3786"
             ],
             [
              0.5555555555555556,
              "#d8576b"
             ],
             [
              0.6666666666666666,
              "#ed7953"
             ],
             [
              0.7777777777777778,
              "#fb9f3a"
             ],
             [
              0.8888888888888888,
              "#fdca26"
             ],
             [
              1,
              "#f0f921"
             ]
            ],
            "type": "heatmap"
           }
          ],
          "heatmapgl": [
           {
            "colorbar": {
             "outlinewidth": 0,
             "ticks": ""
            },
            "colorscale": [
             [
              0,
              "#0d0887"
             ],
             [
              0.1111111111111111,
              "#46039f"
             ],
             [
              0.2222222222222222,
              "#7201a8"
             ],
             [
              0.3333333333333333,
              "#9c179e"
             ],
             [
              0.4444444444444444,
              "#bd3786"
             ],
             [
              0.5555555555555556,
              "#d8576b"
             ],
             [
              0.6666666666666666,
              "#ed7953"
             ],
             [
              0.7777777777777778,
              "#fb9f3a"
             ],
             [
              0.8888888888888888,
              "#fdca26"
             ],
             [
              1,
              "#f0f921"
             ]
            ],
            "type": "heatmapgl"
           }
          ],
          "histogram": [
           {
            "marker": {
             "pattern": {
              "fillmode": "overlay",
              "size": 10,
              "solidity": 0.2
             }
            },
            "type": "histogram"
           }
          ],
          "histogram2d": [
           {
            "colorbar": {
             "outlinewidth": 0,
             "ticks": ""
            },
            "colorscale": [
             [
              0,
              "#0d0887"
             ],
             [
              0.1111111111111111,
              "#46039f"
             ],
             [
              0.2222222222222222,
              "#7201a8"
             ],
             [
              0.3333333333333333,
              "#9c179e"
             ],
             [
              0.4444444444444444,
              "#bd3786"
             ],
             [
              0.5555555555555556,
              "#d8576b"
             ],
             [
              0.6666666666666666,
              "#ed7953"
             ],
             [
              0.7777777777777778,
              "#fb9f3a"
             ],
             [
              0.8888888888888888,
              "#fdca26"
             ],
             [
              1,
              "#f0f921"
             ]
            ],
            "type": "histogram2d"
           }
          ],
          "histogram2dcontour": [
           {
            "colorbar": {
             "outlinewidth": 0,
             "ticks": ""
            },
            "colorscale": [
             [
              0,
              "#0d0887"
             ],
             [
              0.1111111111111111,
              "#46039f"
             ],
             [
              0.2222222222222222,
              "#7201a8"
             ],
             [
              0.3333333333333333,
              "#9c179e"
             ],
             [
              0.4444444444444444,
              "#bd3786"
             ],
             [
              0.5555555555555556,
              "#d8576b"
             ],
             [
              0.6666666666666666,
              "#ed7953"
             ],
             [
              0.7777777777777778,
              "#fb9f3a"
             ],
             [
              0.8888888888888888,
              "#fdca26"
             ],
             [
              1,
              "#f0f921"
             ]
            ],
            "type": "histogram2dcontour"
           }
          ],
          "mesh3d": [
           {
            "colorbar": {
             "outlinewidth": 0,
             "ticks": ""
            },
            "type": "mesh3d"
           }
          ],
          "parcoords": [
           {
            "line": {
             "colorbar": {
              "outlinewidth": 0,
              "ticks": ""
             }
            },
            "type": "parcoords"
           }
          ],
          "pie": [
           {
            "automargin": true,
            "type": "pie"
           }
          ],
          "scatter": [
           {
            "fillpattern": {
             "fillmode": "overlay",
             "size": 10,
             "solidity": 0.2
            },
            "type": "scatter"
           }
          ],
          "scatter3d": [
           {
            "line": {
             "colorbar": {
              "outlinewidth": 0,
              "ticks": ""
             }
            },
            "marker": {
             "colorbar": {
              "outlinewidth": 0,
              "ticks": ""
             }
            },
            "type": "scatter3d"
           }
          ],
          "scattercarpet": [
           {
            "marker": {
             "colorbar": {
              "outlinewidth": 0,
              "ticks": ""
             }
            },
            "type": "scattercarpet"
           }
          ],
          "scattergeo": [
           {
            "marker": {
             "colorbar": {
              "outlinewidth": 0,
              "ticks": ""
             }
            },
            "type": "scattergeo"
           }
          ],
          "scattergl": [
           {
            "marker": {
             "colorbar": {
              "outlinewidth": 0,
              "ticks": ""
             }
            },
            "type": "scattergl"
           }
          ],
          "scattermapbox": [
           {
            "marker": {
             "colorbar": {
              "outlinewidth": 0,
              "ticks": ""
             }
            },
            "type": "scattermapbox"
           }
          ],
          "scatterpolar": [
           {
            "marker": {
             "colorbar": {
              "outlinewidth": 0,
              "ticks": ""
             }
            },
            "type": "scatterpolar"
           }
          ],
          "scatterpolargl": [
           {
            "marker": {
             "colorbar": {
              "outlinewidth": 0,
              "ticks": ""
             }
            },
            "type": "scatterpolargl"
           }
          ],
          "scatterternary": [
           {
            "marker": {
             "colorbar": {
              "outlinewidth": 0,
              "ticks": ""
             }
            },
            "type": "scatterternary"
           }
          ],
          "surface": [
           {
            "colorbar": {
             "outlinewidth": 0,
             "ticks": ""
            },
            "colorscale": [
             [
              0,
              "#0d0887"
             ],
             [
              0.1111111111111111,
              "#46039f"
             ],
             [
              0.2222222222222222,
              "#7201a8"
             ],
             [
              0.3333333333333333,
              "#9c179e"
             ],
             [
              0.4444444444444444,
              "#bd3786"
             ],
             [
              0.5555555555555556,
              "#d8576b"
             ],
             [
              0.6666666666666666,
              "#ed7953"
             ],
             [
              0.7777777777777778,
              "#fb9f3a"
             ],
             [
              0.8888888888888888,
              "#fdca26"
             ],
             [
              1,
              "#f0f921"
             ]
            ],
            "type": "surface"
           }
          ],
          "table": [
           {
            "cells": {
             "fill": {
              "color": "#EBF0F8"
             },
             "line": {
              "color": "white"
             }
            },
            "header": {
             "fill": {
              "color": "#C8D4E3"
             },
             "line": {
              "color": "white"
             }
            },
            "type": "table"
           }
          ]
         },
         "layout": {
          "annotationdefaults": {
           "arrowcolor": "#2a3f5f",
           "arrowhead": 0,
           "arrowwidth": 1
          },
          "autotypenumbers": "strict",
          "coloraxis": {
           "colorbar": {
            "outlinewidth": 0,
            "ticks": ""
           }
          },
          "colorscale": {
           "diverging": [
            [
             0,
             "#8e0152"
            ],
            [
             0.1,
             "#c51b7d"
            ],
            [
             0.2,
             "#de77ae"
            ],
            [
             0.3,
             "#f1b6da"
            ],
            [
             0.4,
             "#fde0ef"
            ],
            [
             0.5,
             "#f7f7f7"
            ],
            [
             0.6,
             "#e6f5d0"
            ],
            [
             0.7,
             "#b8e186"
            ],
            [
             0.8,
             "#7fbc41"
            ],
            [
             0.9,
             "#4d9221"
            ],
            [
             1,
             "#276419"
            ]
           ],
           "sequential": [
            [
             0,
             "#0d0887"
            ],
            [
             0.1111111111111111,
             "#46039f"
            ],
            [
             0.2222222222222222,
             "#7201a8"
            ],
            [
             0.3333333333333333,
             "#9c179e"
            ],
            [
             0.4444444444444444,
             "#bd3786"
            ],
            [
             0.5555555555555556,
             "#d8576b"
            ],
            [
             0.6666666666666666,
             "#ed7953"
            ],
            [
             0.7777777777777778,
             "#fb9f3a"
            ],
            [
             0.8888888888888888,
             "#fdca26"
            ],
            [
             1,
             "#f0f921"
            ]
           ],
           "sequentialminus": [
            [
             0,
             "#0d0887"
            ],
            [
             0.1111111111111111,
             "#46039f"
            ],
            [
             0.2222222222222222,
             "#7201a8"
            ],
            [
             0.3333333333333333,
             "#9c179e"
            ],
            [
             0.4444444444444444,
             "#bd3786"
            ],
            [
             0.5555555555555556,
             "#d8576b"
            ],
            [
             0.6666666666666666,
             "#ed7953"
            ],
            [
             0.7777777777777778,
             "#fb9f3a"
            ],
            [
             0.8888888888888888,
             "#fdca26"
            ],
            [
             1,
             "#f0f921"
            ]
           ]
          },
          "colorway": [
           "#636efa",
           "#EF553B",
           "#00cc96",
           "#ab63fa",
           "#FFA15A",
           "#19d3f3",
           "#FF6692",
           "#B6E880",
           "#FF97FF",
           "#FECB52"
          ],
          "font": {
           "color": "#2a3f5f"
          },
          "geo": {
           "bgcolor": "white",
           "lakecolor": "white",
           "landcolor": "#E5ECF6",
           "showlakes": true,
           "showland": true,
           "subunitcolor": "white"
          },
          "hoverlabel": {
           "align": "left"
          },
          "hovermode": "closest",
          "mapbox": {
           "style": "light"
          },
          "paper_bgcolor": "white",
          "plot_bgcolor": "#E5ECF6",
          "polar": {
           "angularaxis": {
            "gridcolor": "white",
            "linecolor": "white",
            "ticks": ""
           },
           "bgcolor": "#E5ECF6",
           "radialaxis": {
            "gridcolor": "white",
            "linecolor": "white",
            "ticks": ""
           }
          },
          "scene": {
           "xaxis": {
            "backgroundcolor": "#E5ECF6",
            "gridcolor": "white",
            "gridwidth": 2,
            "linecolor": "white",
            "showbackground": true,
            "ticks": "",
            "zerolinecolor": "white"
           },
           "yaxis": {
            "backgroundcolor": "#E5ECF6",
            "gridcolor": "white",
            "gridwidth": 2,
            "linecolor": "white",
            "showbackground": true,
            "ticks": "",
            "zerolinecolor": "white"
           },
           "zaxis": {
            "backgroundcolor": "#E5ECF6",
            "gridcolor": "white",
            "gridwidth": 2,
            "linecolor": "white",
            "showbackground": true,
            "ticks": "",
            "zerolinecolor": "white"
           }
          },
          "shapedefaults": {
           "line": {
            "color": "#2a3f5f"
           }
          },
          "ternary": {
           "aaxis": {
            "gridcolor": "white",
            "linecolor": "white",
            "ticks": ""
           },
           "baxis": {
            "gridcolor": "white",
            "linecolor": "white",
            "ticks": ""
           },
           "bgcolor": "#E5ECF6",
           "caxis": {
            "gridcolor": "white",
            "linecolor": "white",
            "ticks": ""
           }
          },
          "title": {
           "x": 0.05
          },
          "xaxis": {
           "automargin": true,
           "gridcolor": "white",
           "linecolor": "white",
           "ticks": "",
           "title": {
            "standoff": 15
           },
           "zerolinecolor": "white",
           "zerolinewidth": 2
          },
          "yaxis": {
           "automargin": true,
           "gridcolor": "white",
           "linecolor": "white",
           "ticks": "",
           "title": {
            "standoff": 15
           },
           "zerolinecolor": "white",
           "zerolinewidth": 2
          }
         }
        },
        "yaxis": {
         "title": {
          "text": "Número de casas"
         }
        }
       }
      }
     },
     "metadata": {},
     "output_type": "display_data"
    }
   ],
   "source": [
    "def sumar_tablas(dataframes_list):\n",
    "    tabla_suma = None\n",
    "    \n",
    "    for df in dataframes_list:\n",
    "        tabla_actual = df.groupby(['estacionamiento', 'segmento']).size().unstack(fill_value=0)\n",
    "        \n",
    "        if tabla_suma is None:\n",
    "            tabla_suma = tabla_actual\n",
    "        else:\n",
    "            tabla_suma = tabla_suma.add(tabla_actual, fill_value=0)\n",
    "    \n",
    "    print(\"Tabla general de frecuencia:\")\n",
    "    print(tabla_suma)\n",
    "    \n",
    "    fig = graficar_tabla(tabla_suma)\n",
    "    \n",
    "    # Guardar la gráfica como archivo HTML\n",
    "    guardar_grafico_como_html(fig, 'grafica_estacionamiento_pachuca', carpeta='graficas')\n",
    "    \n",
    "    return fig\n",
    "\n",
    "def graficar_tabla(tabla):\n",
    "    segmentos = tabla.index\n",
    "    banos = tabla.columns\n",
    "    \n",
    "    fig = go.Figure()\n",
    "    \n",
    "    for segmento in segmentos:\n",
    "        fig.add_trace(go.Bar(\n",
    "            x=banos,\n",
    "            y=tabla.loc[segmento],\n",
    "            name=segmento\n",
    "        ))\n",
    "    \n",
    "    fig.update_layout(\n",
    "        #title=\"M2 de Terreno\",\n",
    "        #xaxis_title=\"Rango de M2\",\n",
    "        yaxis_title=\"Número de casas\"\n",
    "    )\n",
    "    \n",
    "    fig.show()    \n",
    "    return fig\n",
    "\n",
    "def guardar_grafico_como_html(fig, nombre_archivo, carpeta='graficas'):\n",
    "    # Crear la carpeta si no existe\n",
    "    if not os.path.exists(carpeta):\n",
    "        os.makedirs(carpeta)\n",
    "    \n",
    "    # Guardar la gráfica como archivo HTML en la carpeta especificada\n",
    "    pio.write_html(fig, f'{carpeta}/{nombre_archivo}.html')\n",
    "    pio.write_html(fig, f'{carpeta}/{nombre_archivo}.png')\n",
    "\n",
    "# Llamar a la función sumar_tablas con la lista de DataFrames como argumento\n",
    "fig = sumar_tablas(dataframes_list)"
   ]
  }
 ],
 "metadata": {
  "kernelspec": {
   "display_name": "base",
   "language": "python",
   "name": "python3"
  },
  "language_info": {
   "codemirror_mode": {
    "name": "ipython",
    "version": 3
   },
   "file_extension": ".py",
   "mimetype": "text/x-python",
   "name": "python",
   "nbconvert_exporter": "python",
   "pygments_lexer": "ipython3",
   "version": "3.11.5"
  }
 },
 "nbformat": 4,
 "nbformat_minor": 2
}
