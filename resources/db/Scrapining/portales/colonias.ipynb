{
 "cells": [
  {
   "cell_type": "markdown",
   "metadata": {},
   "source": [
    "# ESTANDARIZACIÓN DE COLONIAS*"
   ]
  },
  {
   "cell_type": "code",
   "execution_count": 1,
   "metadata": {},
   "outputs": [],
   "source": [
    "import pandas as pd # Manipulación df\n",
    "import os # Directorios\n",
    "import re # Manipulación de cadenas de texto (expresiones regulares)\n",
    "import unicodedata # Función para eliminar acentos"
   ]
  },
  {
   "cell_type": "code",
   "execution_count": 2,
   "metadata": {},
   "outputs": [
    {
     "name": "stdout",
     "output_type": "stream",
     "text": [
      "<class 'pandas.core.frame.DataFrame'>\n",
      "RangeIndex: 3476 entries, 0 to 3475\n",
      "Data columns (total 30 columns):\n",
      " #   Column                     Non-Null Count  Dtype  \n",
      "---  ------                     --------------  -----  \n",
      " 0   id                         3476 non-null   int64  \n",
      " 1   categoria                  3235 non-null   object \n",
      " 2   precio                     3476 non-null   float64\n",
      " 3   precio_mxn                 3476 non-null   float64\n",
      " 4   precio_usd                 3476 non-null   int64  \n",
      " 5   fecha_conversion           3476 non-null   object \n",
      " 6   propiedad                  3476 non-null   object \n",
      " 7   metros_total               3476 non-null   int64  \n",
      " 8   metros_construido          3476 non-null   int64  \n",
      " 9   precio_m2_terreno          3476 non-null   float64\n",
      " 10  precio_m2_construido       3476 non-null   float64\n",
      " 11  tiempo_de_publicacion      3476 non-null   object \n",
      " 12  meses_transcurridos        3476 non-null   int64  \n",
      " 13  meses_transcurridos_fecha  3476 non-null   object \n",
      " 14  tipo                       3476 non-null   object \n",
      " 15  Status                     3476 non-null   object \n",
      " 16  estacionamientos           3476 non-null   int64  \n",
      " 17  recamaras                  3476 non-null   int64  \n",
      " 18  banos                      3476 non-null   int64  \n",
      " 19  medio_banos                3476 non-null   int64  \n",
      " 20  bano_total                 3476 non-null   float64\n",
      " 21  seguridad_privada          3476 non-null   object \n",
      " 22  tipo_lugar                 36 non-null     object \n",
      " 23  Colonia                    3476 non-null   object \n",
      " 24  Municipio                  3476 non-null   object \n",
      " 25  Estado                     3476 non-null   object \n",
      " 26  CP                         3476 non-null   int64  \n",
      " 27  ubicacion                  3476 non-null   object \n",
      " 28  url                        3476 non-null   object \n",
      " 29  descripcion                3476 non-null   object \n",
      "dtypes: float64(5), int64(10), object(15)\n",
      "memory usage: 814.8+ KB\n"
     ]
    }
   ],
   "source": [
    "#directorio_actual = os.getcwd() # Directorio actual de trabajo\n",
    "# Ruta relativa al archivo CSV\n",
    "#archivo_filename = \"../ciudades/puebla/lean/agosto_2024.csv\"\n",
    "#archivo_path = os.path.join(directorio_actual, archivo_filename) \n",
    "#df = pd.read_excel(archivo_path, sheet_name='Hoja3') \n",
    "df = pd.read_csv(\"C:/xampp/htdocs/datalpine/resources/db/Scrapining/ciudades/puebla/clean/agosto_2024.csv\")\n",
    "#df = pd.read_csv(\"D:/yoe11/Documents/TESEO/Modelo Factible/basebase.csv\")\n",
    "df.info()"
   ]
  },
  {
   "cell_type": "markdown",
   "metadata": {},
   "source": [
    "# Separación"
   ]
  },
  {
   "cell_type": "code",
   "execution_count": 3,
   "metadata": {},
   "outputs": [
    {
     "data": {
      "text/html": [
       "<div>\n",
       "<style scoped>\n",
       "    .dataframe tbody tr th:only-of-type {\n",
       "        vertical-align: middle;\n",
       "    }\n",
       "\n",
       "    .dataframe tbody tr th {\n",
       "        vertical-align: top;\n",
       "    }\n",
       "\n",
       "    .dataframe thead th {\n",
       "        text-align: right;\n",
       "    }\n",
       "</style>\n",
       "<table border=\"1\" class=\"dataframe\">\n",
       "  <thead>\n",
       "    <tr style=\"text-align: right;\">\n",
       "      <th></th>\n",
       "      <th>ubicacion</th>\n",
       "      <th>Colonia</th>\n",
       "      <th>Municipio</th>\n",
       "      <th>Estado</th>\n",
       "    </tr>\n",
       "  </thead>\n",
       "  <tbody>\n",
       "    <tr>\n",
       "      <th>0</th>\n",
       "      <td>Puebla Centro, Puebla, Puebla</td>\n",
       "      <td>Puebla Centro</td>\n",
       "      <td>Puebla</td>\n",
       "      <td>Puebla</td>\n",
       "    </tr>\n",
       "    <tr>\n",
       "      <th>1</th>\n",
       "      <td>Las Hadas Mundial 86, Puebla, Puebla</td>\n",
       "      <td>Las Hadas Mundial 86</td>\n",
       "      <td>Puebla</td>\n",
       "      <td>Puebla</td>\n",
       "    </tr>\n",
       "    <tr>\n",
       "      <th>2</th>\n",
       "      <td>Plazas de Amalucan, Puebla, Puebla</td>\n",
       "      <td>Plazas de Amalucan</td>\n",
       "      <td>Puebla</td>\n",
       "      <td>Puebla</td>\n",
       "    </tr>\n",
       "    <tr>\n",
       "      <th>3</th>\n",
       "      <td>Héroes de Puebla, Puebla, Puebla</td>\n",
       "      <td>Héroes de Puebla</td>\n",
       "      <td>Puebla</td>\n",
       "      <td>Puebla</td>\n",
       "    </tr>\n",
       "    <tr>\n",
       "      <th>4</th>\n",
       "      <td>Plazas de Amalucan, Puebla, Puebla</td>\n",
       "      <td>Plazas de Amalucan</td>\n",
       "      <td>Puebla</td>\n",
       "      <td>Puebla</td>\n",
       "    </tr>\n",
       "    <tr>\n",
       "      <th>...</th>\n",
       "      <td>...</td>\n",
       "      <td>...</td>\n",
       "      <td>...</td>\n",
       "      <td>...</td>\n",
       "    </tr>\n",
       "    <tr>\n",
       "      <th>3471</th>\n",
       "      <td>Puebla, Puebla, Puebla</td>\n",
       "      <td>Puebla</td>\n",
       "      <td>Puebla</td>\n",
       "      <td>Puebla</td>\n",
       "    </tr>\n",
       "    <tr>\n",
       "      <th>3472</th>\n",
       "      <td>Angelópolis, Puebla, Puebla</td>\n",
       "      <td>Angelópolis</td>\n",
       "      <td>Puebla</td>\n",
       "      <td>Puebla</td>\n",
       "    </tr>\n",
       "    <tr>\n",
       "      <th>3473</th>\n",
       "      <td>La Paz, Puebla, Puebla</td>\n",
       "      <td>La Paz</td>\n",
       "      <td>Puebla</td>\n",
       "      <td>Puebla</td>\n",
       "    </tr>\n",
       "    <tr>\n",
       "      <th>3474</th>\n",
       "      <td>San José Mayorazgo, Puebla, Puebla</td>\n",
       "      <td>San José Mayorazgo</td>\n",
       "      <td>Puebla</td>\n",
       "      <td>Puebla</td>\n",
       "    </tr>\n",
       "    <tr>\n",
       "      <th>3475</th>\n",
       "      <td>Centro Histórico, Puebla, Puebla</td>\n",
       "      <td>Centro Histórico</td>\n",
       "      <td>Puebla</td>\n",
       "      <td>Puebla</td>\n",
       "    </tr>\n",
       "  </tbody>\n",
       "</table>\n",
       "<p>3476 rows × 4 columns</p>\n",
       "</div>"
      ],
      "text/plain": [
       "                                 ubicacion               Colonia Municipio  \\\n",
       "0            Puebla Centro, Puebla, Puebla         Puebla Centro    Puebla   \n",
       "1     Las Hadas Mundial 86, Puebla, Puebla  Las Hadas Mundial 86    Puebla   \n",
       "2       Plazas de Amalucan, Puebla, Puebla    Plazas de Amalucan    Puebla   \n",
       "3         Héroes de Puebla, Puebla, Puebla      Héroes de Puebla    Puebla   \n",
       "4       Plazas de Amalucan, Puebla, Puebla    Plazas de Amalucan    Puebla   \n",
       "...                                    ...                   ...       ...   \n",
       "3471                Puebla, Puebla, Puebla                Puebla    Puebla   \n",
       "3472           Angelópolis, Puebla, Puebla           Angelópolis    Puebla   \n",
       "3473                La Paz, Puebla, Puebla                La Paz    Puebla   \n",
       "3474    San José Mayorazgo, Puebla, Puebla    San José Mayorazgo    Puebla   \n",
       "3475      Centro Histórico, Puebla, Puebla      Centro Histórico    Puebla   \n",
       "\n",
       "      Estado  \n",
       "0     Puebla  \n",
       "1     Puebla  \n",
       "2     Puebla  \n",
       "3     Puebla  \n",
       "4     Puebla  \n",
       "...      ...  \n",
       "3471  Puebla  \n",
       "3472  Puebla  \n",
       "3473  Puebla  \n",
       "3474  Puebla  \n",
       "3475  Puebla  \n",
       "\n",
       "[3476 rows x 4 columns]"
      ]
     },
     "execution_count": 3,
     "metadata": {},
     "output_type": "execute_result"
    }
   ],
   "source": [
    "# Siempre regresar una lista de 3 elementos\n",
    "def split_location(location):\n",
    "    parts = location.split(',')\n",
    "    parts += [None] * (3 - len(parts))\n",
    "    return parts[:3] \n",
    "df[['Colonia', 'Municipio', 'Estado']] = df['ubicacion'].apply(split_location).apply(pd.Series)\n",
    "\n",
    "# Limpiando valores nulos\n",
    "df['Colonia'] = df['Colonia'].str.strip().fillna('Sin_colonia')\n",
    "df['Municipio'] = df['Municipio'].str.strip().fillna('Sin_municipio')\n",
    "df['Estado'] = df['Estado'].str.strip().fillna('Sin_estado')\n",
    "df[['ubicacion', 'Colonia', 'Municipio', 'Estado']]"
   ]
  },
  {
   "cell_type": "markdown",
   "metadata": {},
   "source": [
    "### Estandarizar"
   ]
  },
  {
   "cell_type": "code",
   "execution_count": 4,
   "metadata": {},
   "outputs": [],
   "source": [
    "# Minúsculas\n",
    "df['Colonia'] = df['Colonia'].str.strip().str.lower()\n",
    "df['Municipio'] = df['Municipio'].str.strip().str.lower()\n",
    "df['Estado'] = df['Estado'].str.strip().str.lower()"
   ]
  },
  {
   "cell_type": "code",
   "execution_count": 5,
   "metadata": {},
   "outputs": [],
   "source": [
    "# Esta línea de código aplica la función unicodedata.normalize a la columna 'Colonia' del DataFrame df.\n",
    "# El argumento 'NFKD' indica que se debe aplicar la normalización NFKD, que elimina los acentos y otros caracteres diacríticos.\n",
    "#df['Colonia'] = df['Colonia'].apply(lambda x: unicodedata.normalize('NFKD', x))\n",
    "\n",
    "import unicodedata# Función para eliminar acentos\n",
    "def eliminar_acentos(texto):\n",
    "    # Normaliza y elimina los acentos\n",
    "    texto_normalizado = unicodedata.normalize('NFKD', texto)\n",
    "    return ''.join(char for char in texto_normalizado if unicodedata.category(char) != 'Mn')\n",
    "df['Colonia'] = df['Colonia'].apply(eliminar_acentos)\n"
   ]
  },
  {
   "cell_type": "markdown",
   "metadata": {},
   "source": [
    "### Separación de tipo de lugar, colonias"
   ]
  },
  {
   "cell_type": "code",
   "execution_count": 6,
   "metadata": {},
   "outputs": [
    {
     "name": "stdout",
     "output_type": "stream",
     "text": [
      "                   Colonia tipo_lugar                             ubicacion\n",
      "0            puebla centro       None         Puebla Centro, Puebla, Puebla\n",
      "1     las hadas mundial 86       None  Las Hadas Mundial 86, Puebla, Puebla\n",
      "2       plazas de amalucan       None    Plazas de Amalucan, Puebla, Puebla\n",
      "3         heroes de puebla       None      Héroes de Puebla, Puebla, Puebla\n",
      "4       plazas de amalucan       None    Plazas de Amalucan, Puebla, Puebla\n",
      "...                    ...        ...                                   ...\n",
      "3471                puebla       None                Puebla, Puebla, Puebla\n",
      "3472           angelopolis       None           Angelópolis, Puebla, Puebla\n",
      "3473                la paz       None                La Paz, Puebla, Puebla\n",
      "3474    san jose mayorazgo       None    San José Mayorazgo, Puebla, Puebla\n",
      "3475      centro historico       None      Centro Histórico, Puebla, Puebla\n",
      "\n",
      "[3476 rows x 3 columns]\n"
     ]
    }
   ],
   "source": [
    "# Añade las diferentes formas de identificar el tipo de lugar (etiquetas de ubicación)\n",
    "tipos = ['condominio', 'fraccionamiento', 'residencial', 'colonia', 'fracc', 'uhp', 'urbanización','urbanizacion', 'sector', 'barrio', 'zona', 'sector', 'unidad habitacional', 'unidad residencial']\n",
    "def obtener_tipo_lugar(nombre):\n",
    "    for tipo in tipos:\n",
    "        if tipo in nombre:\n",
    "            return tipo\n",
    "    return None\n",
    "\n",
    "df['tipo_lugar'] = df['Colonia'].apply(obtener_tipo_lugar)\n",
    "# Eliminar el tipo de lugar de la columna 'colonia'\n",
    "df['Colonia'] = df.apply(lambda row: row['Colonia'].replace(row['tipo_lugar'], '').strip() if row['tipo_lugar'] else row['Colonia'], axis=1)\n",
    "print(df[['Colonia','tipo_lugar','ubicacion']])"
   ]
  },
  {
   "cell_type": "code",
   "execution_count": 7,
   "metadata": {},
   "outputs": [
    {
     "data": {
      "text/plain": [
       "array([None, 'residencial', 'barrio', 'zona'], dtype=object)"
      ]
     },
     "execution_count": 7,
     "metadata": {},
     "output_type": "execute_result"
    }
   ],
   "source": [
    "df['tipo_lugar'].unique()"
   ]
  },
  {
   "cell_type": "code",
   "execution_count": 8,
   "metadata": {},
   "outputs": [
    {
     "data": {
      "text/plain": [
       "array(['puebla centro', 'las hadas mundial 86', 'plazas de amalucan',\n",
       "       'heroes de puebla', 'san jose mayorazgo', 'ex-hacienda mayorazgo',\n",
       "       'la calera', 'el carmen', 'santa maria', 'puebla', 'santa barbara',\n",
       "       'san isidro castillotla', 'la loma', 'santa maria la ribera',\n",
       "       'villa las flores', 'el cerrito', 'la joya',\n",
       "       'san diego castillotla', 'santa clara la venta',\n",
       "       'san miguel mayorazgo infonavit', 'jardines de san manuel',\n",
       "       'loma linda', 'bosques del pilar', 'valle del sol',\n",
       "       'bosques de chapultepec', 'club de golf puebla',\n",
       "       'granjas san isidro', 'san angel', 'granjas del sur',\n",
       "       'villa frontera', 'banco de puebla', 'bosques de san sebastian',\n",
       "       'cuauhtemoc', 'los cipreses', 'aquiles serdan',\n",
       "       'unidad satelite magisterial', 'san bartolo infonavit',\n",
       "       'lomas del valle', 'villa carmel', 'las brisas', 'las palmas',\n",
       "       'revolucion mexicana', 'la hacienda', 'rivera de santiago',\n",
       "       'los heroes', 'geo villas las garzas', 'san juan bosco',\n",
       "       '3 cerritos', 'san ramon 4a secc', 'bosques amalucan', 'la paz',\n",
       "       'plazas de guadalupe', 'vista hermosa', 'arboledas de guadalupe',\n",
       "       'reforma', 'san rafael oriente', 'villa encantada',\n",
       "       'lomas del angel', 'gabriel pastor 1a secc', 'centro historico',\n",
       "       'cristobal colon', 'los pilares', 'vicente guerrero',\n",
       "       'prados agua azul', 'bugambilias', 'el patrimonio',\n",
       "       'rincon arboledas', 'ciudad satelite', 'obrera campesina',\n",
       "       'lomas del sur', 'anzures', 'tepeyac', 'girasol',\n",
       "       'naciones unidas', 'hacienda del camino real', 'moratilla',\n",
       "       'guadalupe hidalgo', 'belisario dominguez',\n",
       "       'jardines de santa rosa', 'snte', '2 de octubre', 'la noria',\n",
       "       'bello horizonte', 'el mayorazgo', 'la libertad', 's de arboledas',\n",
       "       'america norte', 'villas de atlixco', 'bandini', 'puebla textil',\n",
       "       'el vergel', 'reforma sur', 'gabriel pastor 2a secc',\n",
       "       'valle dorado', 'la playa', 's de santa catarina',\n",
       "       'lomas de san alfonso', 'san baltasar campeche', 'bellavista',\n",
       "       'san jeronimo caleras', 'el cristo', 'las 3 cruces',\n",
       "       'hacienda zavaleta', 'bosques de manzanilla', 'villa olimpica',\n",
       "       'totimehuacan', 'reforma agua azul', 'la acocota',\n",
       "       'arboledas de loma bella', 'el carmen gastronomicos infonavit',\n",
       "       'nueva aurora', 'ladrillera de benitez', 'granjas puebla',\n",
       "       'galaxia castillotla', 'san ramon 1a secc', 'chulavista',\n",
       "       '2 de abril', '22 de septiembre', 'san vicente ferrer',\n",
       "       'lomas de angelopolis', 'santa cruz los angeles', 'camino real',\n",
       "       'santa catarina (san francisco totimehuacan)', 'lazaro cardenas',\n",
       "       'santa cruz buenavista',\n",
       "       'corredor comercial desarrollo atlixcayotl',\n",
       "       'rincones de la calera', 'lomas del marmol', 'lomas del sol',\n",
       "       'maestro federal', 'guadalupe caleras', 'lomas de loreto',\n",
       "       'las fuentes', 'lomas de castillotla', 'flor del sur',\n",
       "       'santa rosa', 'barranca honda', 'las cuartillas',\n",
       "       'constitucion mexicana', 'america sur', 'fuentes de angelopolis',\n",
       "       'los remedios', 'el mirador', 'lomas de san ramon',\n",
       "       'villa del sur', 'jardines del sur', 'huexotitla',\n",
       "       'amalucan infonavit', 'tecnologico', 'esmeralda',\n",
       "       'jardines de saint germain', 'san ramon 3a secc', '6 de enero',\n",
       "       'miguel negrete', 'guadalupe xonacatepec', 'villa san alejandro',\n",
       "       'flor del bosque', 'cipreses de mayorazgo',\n",
       "       'agricola villa albertina', 'nueva jerusalen', 'estrella del sur',\n",
       "       'el refugio', 'san ramon 2a secc', 'chapultepec',\n",
       "       'agricola ignacio zaragoza', 'angelopolis',\n",
       "       'magisterial periferico sur', 'la carmelita infonavit',\n",
       "       '3 de mayo', 'san pablo xochimehuacan', 'las margaritas infonavit',\n",
       "       'villa florencia', 'arboledas del sur', 'las mercedes',\n",
       "       'arcos santa cruz', 'zavaleta', 'villas periferico', 'el salvador',\n",
       "       'arboledas san ignacio', 'santa lucia', 'amor',\n",
       "       '16 de septiembre sur', 'real de guadalupe',\n",
       "       'campestre del bosque', '10 de mayo', 'fundadores', 'del valle',\n",
       "       'villa posadas', 'villas cruz del sur', 'santa barbara norte',\n",
       "       'bosques de la canada', 'rincon de san andres', 'jesus garcia',\n",
       "       'san baltazar campeche', 'san cristobal',\n",
       "       'san baltazar la resurreccion', 'san jose xilotzingo', 'jardin',\n",
       "       'bugambilias 3a secc', 'nueva antequera', 'lares de san alfonso',\n",
       "       'san francisco mayorazgo', 'san baltasar tetela', 'el barreal',\n",
       "       'aldana (romero vargas)', 'los pinos', 'geo villas atlixcayotl',\n",
       "       'la canada (romero vargas)', 'momoxpan', 'universidades',\n",
       "       'loma bella infonavit', 'guadalupe victoria', 'san sebastian',\n",
       "       'el mirador la calera', 'popular emiliano zapata', 'azul',\n",
       "       'los cantaros', 'ignacio romero vargas', 'lomas del 5 de mayo',\n",
       "       'momosa', 'educadores', 'valle del sur', 'san bernabe temoxtitla',\n",
       "       'pueblo nuevo', 'leobardo coca', 'san francisco', 'alpha 2',\n",
       "       'resurgimiento', 'villas iglesias', 'paseos del bosque', 'roble',\n",
       "       'fuentes de san bartolo infonavit', 'gral. ignacio zaragoza',\n",
       "       'rancho colorado', 'loma encantada', 'villas san carlos',\n",
       "       'hidalgo', 'san antonio abad', 'valle del paraiso',\n",
       "       'minerales de guadalupe sur', 'ignacio mariscal', 'san juan',\n",
       "       'cementos atoyac', 'xonaca', 'privanza', 'jose maria morelos',\n",
       "       'camino real a cholula', 'alamo', 'santa catarina', 'vista alegre',\n",
       "       'el angel', 'everest', 'bosques de angelopolis', 'benito juarez',\n",
       "       'santa anita', 'los volcanes', 'pino suarez', 'san jose guadalupe',\n",
       "       'mexico 83', 'adolfo lopez mateos', 'eclipse', '20 de noviembre',\n",
       "       'alseseca', 'balcones del sur', 'san pedro',\n",
       "       'santa clara ocoyucan', 'rincon del bosque', 'arcos del sur',\n",
       "       'amaluquilla', 'san juan flor del bosque',\n",
       "       'san jose vista hermosa', 'las animas', 'san felipe hueyotlipan',\n",
       "       'las aves', 'estacion nueva', 'lomas flor del bosque',\n",
       "       'cipres de zavaleta', 'independencia', 'momoxpan ii',\n",
       "       'concepcion la cruz', 'santa monica', 'concepcion guadalupe',\n",
       "       'villa satelite la calera', 'jose cleotilde torres',\n",
       "       'club britania', 'lomas de xilotzoni', 'del encanto',\n",
       "       'campestre haras', 'oasis', 'el saucedal', 'la tarjeta',\n",
       "       'francisco i madero', 'los angeles mayorazgo', 'aldama', 'analco',\n",
       "       'cipreses zavaleta', 'san jose del puente', 'villa de guadalupe',\n",
       "       'unidad magisterial mexico 68', 'nuevo plan de ayala',\n",
       "       'jardines de zavaleta', 'ribera del atoyac', 'valle del angel',\n",
       "       'santo domingo', 'la providencia', 'luz obrera', 'la ahogada',\n",
       "       'azcarate', 'villa la noria', 'real del monte', 'real de zavaleta',\n",
       "       'heroe de nacozari', 'francisco javier clavijero',\n",
       "       'villas zavaleta primera seccion', 'la rosa infonavit',\n",
       "       'santa gema', 'concepcion las lajas', 'el encinar',\n",
       "       'granjas atoyac', 'san rafael xilotzingo', 'villa de zavaleta',\n",
       "       'bosque de la calera', 'moctezuma', 'cortijo la herradura',\n",
       "       'el fresno', 'altavista', 'san matias', 'vicente suarez',\n",
       "       'la concepcion', 'campestre paraiso', 'san carlos', 'la escondida',\n",
       "       'xanenetla', 'las fuentes de puebla', 'puerta de hierro',\n",
       "       'campestre del valle', 'rincon de las animas',\n",
       "       'san rafael poniente', 'santa cruz', 'villa magna',\n",
       "       'insurgentes zaragoza', 'humboldt norte', 'el pilar',\n",
       "       'tepetzintla'], dtype=object)"
      ]
     },
     "execution_count": 8,
     "metadata": {},
     "output_type": "execute_result"
    }
   ],
   "source": [
    "df['Colonia'].unique()"
   ]
  },
  {
   "cell_type": "markdown",
   "metadata": {},
   "source": [
    "### Corregir por similitud"
   ]
  },
  {
   "cell_type": "code",
   "execution_count": 9,
   "metadata": {},
   "outputs": [
    {
     "name": "stdout",
     "output_type": "stream",
     "text": [
      "['Nota', 'Aguascalientes', 'Baja_California', 'Baja_California_Sur', 'Campeche', 'Coahuila_de_Zaragoza', 'Colima', 'Chiapas', 'Chihuahua', 'Distrito_Federal', 'Durango', 'Guanajuato', 'Guerrero', 'Hidalgo', 'Jalisco', 'México', 'Michoacán_de_Ocampo', 'Morelos', 'Nayarit', 'Nuevo_León', 'Querétaro', 'Oaxaca', 'Puebla', 'Quintana_Roo', 'Sonora', 'San_Luis_Potosí', 'Sinaloa', 'Tabasco', 'Tamaulipas', 'Tlaxcala', 'Veracruz_de_Ignacio_de_la_Llave', 'Yucatán', 'Zacatecas']\n"
     ]
    }
   ],
   "source": [
    "archivo_excel = 'D:/yoe11/Documents/TESEO/Modelo Factible/Scraplining/CPdescarga.xlsx'\n",
    "hojas_excel = pd.ExcelFile(archivo_excel, engine='openpyxl')\n",
    "# Imprimir los nombres de las hojas\n",
    "print(hojas_excel.sheet_names)"
   ]
  },
  {
   "cell_type": "code",
   "execution_count": 10,
   "metadata": {},
   "outputs": [
    {
     "name": "stdout",
     "output_type": "stream",
     "text": [
      "<class 'pandas.core.frame.DataFrame'>\n",
      "RangeIndex: 5889 entries, 0 to 5888\n",
      "Data columns (total 15 columns):\n",
      " #   Column            Non-Null Count  Dtype  \n",
      "---  ------            --------------  -----  \n",
      " 0   d_codigo          5889 non-null   int64  \n",
      " 1   d_asenta          5889 non-null   object \n",
      " 2   d_tipo_asenta     5889 non-null   object \n",
      " 3   D_mnpio           5889 non-null   object \n",
      " 4   d_estado          5889 non-null   object \n",
      " 5   d_ciudad          2120 non-null   object \n",
      " 6   d_CP              5889 non-null   int64  \n",
      " 7   c_estado          5889 non-null   int64  \n",
      " 8   c_oficina         5889 non-null   int64  \n",
      " 9   c_CP              0 non-null      float64\n",
      " 10  c_tipo_asenta     5889 non-null   int64  \n",
      " 11  c_mnpio           5889 non-null   int64  \n",
      " 12  id_asenta_cpcons  5889 non-null   int64  \n",
      " 13  d_zona            5889 non-null   object \n",
      " 14  c_cve_ciudad      2120 non-null   float64\n",
      "dtypes: float64(2), int64(7), object(6)\n",
      "memory usage: 690.2+ KB\n"
     ]
    }
   ],
   "source": [
    "hoja_especifica = pd.read_excel(archivo_excel, sheet_name='Puebla', engine='openpyxl')\n",
    "hoja_especifica.info()"
   ]
  },
  {
   "cell_type": "code",
   "execution_count": 11,
   "metadata": {},
   "outputs": [
    {
     "data": {
      "text/html": [
       "<div>\n",
       "<style scoped>\n",
       "    .dataframe tbody tr th:only-of-type {\n",
       "        vertical-align: middle;\n",
       "    }\n",
       "\n",
       "    .dataframe tbody tr th {\n",
       "        vertical-align: top;\n",
       "    }\n",
       "\n",
       "    .dataframe thead th {\n",
       "        text-align: right;\n",
       "    }\n",
       "</style>\n",
       "<table border=\"1\" class=\"dataframe\">\n",
       "  <thead>\n",
       "    <tr style=\"text-align: right;\">\n",
       "      <th></th>\n",
       "      <th>d_codigo</th>\n",
       "      <th>d_asenta</th>\n",
       "      <th>d_tipo_asenta</th>\n",
       "      <th>D_mnpio</th>\n",
       "      <th>estado</th>\n",
       "    </tr>\n",
       "  </thead>\n",
       "  <tbody>\n",
       "    <tr>\n",
       "      <th>0</th>\n",
       "      <td>72000</td>\n",
       "      <td>Centro</td>\n",
       "      <td>Colonia</td>\n",
       "      <td>Puebla</td>\n",
       "      <td>Puebla</td>\n",
       "    </tr>\n",
       "    <tr>\n",
       "      <th>1</th>\n",
       "      <td>72000</td>\n",
       "      <td>San Francisco</td>\n",
       "      <td>Colonia</td>\n",
       "      <td>Puebla</td>\n",
       "      <td>Puebla</td>\n",
       "    </tr>\n",
       "    <tr>\n",
       "      <th>2</th>\n",
       "      <td>72010</td>\n",
       "      <td>Santa María la Rivera</td>\n",
       "      <td>Colonia</td>\n",
       "      <td>Puebla</td>\n",
       "      <td>Puebla</td>\n",
       "    </tr>\n",
       "    <tr>\n",
       "      <th>3</th>\n",
       "      <td>72010</td>\n",
       "      <td>INFONAVIT Bosques 5 de Febrero</td>\n",
       "      <td>Unidad habitacional</td>\n",
       "      <td>Puebla</td>\n",
       "      <td>Puebla</td>\n",
       "    </tr>\n",
       "    <tr>\n",
       "      <th>4</th>\n",
       "      <td>72010</td>\n",
       "      <td>Residencial Santa María</td>\n",
       "      <td>Unidad habitacional</td>\n",
       "      <td>Puebla</td>\n",
       "      <td>Puebla</td>\n",
       "    </tr>\n",
       "  </tbody>\n",
       "</table>\n",
       "</div>"
      ],
      "text/plain": [
       "   d_codigo                        d_asenta        d_tipo_asenta D_mnpio  \\\n",
       "0     72000                          Centro              Colonia  Puebla   \n",
       "1     72000                   San Francisco              Colonia  Puebla   \n",
       "2     72010           Santa María la Rivera              Colonia  Puebla   \n",
       "3     72010  INFONAVIT Bosques 5 de Febrero  Unidad habitacional  Puebla   \n",
       "4     72010         Residencial Santa María  Unidad habitacional  Puebla   \n",
       "\n",
       "   estado  \n",
       "0  Puebla  \n",
       "1  Puebla  \n",
       "2  Puebla  \n",
       "3  Puebla  \n",
       "4  Puebla  "
      ]
     },
     "execution_count": 11,
     "metadata": {},
     "output_type": "execute_result"
    }
   ],
   "source": [
    "# Obtener el DataFrame específico para el estado 'Puebla'\n",
    "df_codigos_postales = pd.read_excel(archivo_excel, sheet_name='Puebla', engine='openpyxl', usecols=['D_mnpio', 'd_asenta', 'd_tipo_asenta', 'd_codigo'])\n",
    "df_codigos_postales['estado'] = 'Puebla'  # Agregar el nombre del estado como 'estado'\n",
    "df_codigos_postales.head()"
   ]
  },
  {
   "cell_type": "code",
   "execution_count": 12,
   "metadata": {},
   "outputs": [
    {
     "name": "stdout",
     "output_type": "stream",
     "text": [
      "<class 'pandas.core.frame.DataFrame'>\n",
      "RangeIndex: 5889 entries, 0 to 5888\n",
      "Data columns (total 5 columns):\n",
      " #   Column         Non-Null Count  Dtype \n",
      "---  ------         --------------  ----- \n",
      " 0   d_codigo       5889 non-null   int64 \n",
      " 1   d_asenta       5889 non-null   object\n",
      " 2   d_tipo_asenta  5889 non-null   object\n",
      " 3   D_mnpio        5889 non-null   object\n",
      " 4   estado         5889 non-null   object\n",
      "dtypes: int64(1), object(4)\n",
      "memory usage: 230.2+ KB\n"
     ]
    }
   ],
   "source": [
    "df_codigos_postales.info()"
   ]
  },
  {
   "cell_type": "code",
   "execution_count": 13,
   "metadata": {},
   "outputs": [],
   "source": [
    "# Limpiar y estandarizar las columnas\n",
    "df_codigos_postales['D_mnpio'] = df_codigos_postales['D_mnpio'].str.lower().str.strip()\n",
    "df_codigos_postales['d_asenta'] = df_codigos_postales['d_asenta'].str.lower().str.strip()\n",
    "df_codigos_postales['d_tipo_asenta'] = df_codigos_postales['d_tipo_asenta'].str.lower().str.strip()\n",
    "df_codigos_postales['estado'] = df_codigos_postales['estado'].str.lower().str.strip()"
   ]
  },
  {
   "cell_type": "code",
   "execution_count": 14,
   "metadata": {},
   "outputs": [
    {
     "data": {
      "text/plain": [
       "Index(['id', 'categoria', 'precio', 'precio_mxn', 'precio_usd',\n",
       "       'fecha_conversion', 'propiedad', 'metros_total', 'metros_construido',\n",
       "       'precio_m2_terreno', 'precio_m2_construido', 'tiempo_de_publicacion',\n",
       "       'meses_transcurridos', 'meses_transcurridos_fecha', 'tipo', 'Status',\n",
       "       'estacionamientos', 'recamaras', 'banos', 'medio_banos', 'bano_total',\n",
       "       'seguridad_privada', 'tipo_lugar', 'Colonia', 'Municipio', 'Estado',\n",
       "       'CP', 'ubicacion', 'url', 'descripcion'],\n",
       "      dtype='object')"
      ]
     },
     "execution_count": 14,
     "metadata": {},
     "output_type": "execute_result"
    }
   ],
   "source": [
    "df.columns"
   ]
  },
  {
   "cell_type": "code",
   "execution_count": 16,
   "metadata": {},
   "outputs": [
    {
     "name": "stdout",
     "output_type": "stream",
     "text": [
      "     tipo_lugar               Colonia Municipio  Estado  \\\n",
      "0          None         puebla centro    puebla  puebla   \n",
      "1          None  las hadas mundial 86    puebla  puebla   \n",
      "2          None    plazas de amalucan    puebla  puebla   \n",
      "3          None      heroes de puebla    puebla  puebla   \n",
      "4          None    plazas de amalucan    puebla  puebla   \n",
      "...         ...                   ...       ...     ...   \n",
      "3471       None                puebla    puebla  puebla   \n",
      "3472       None           angelopolis    puebla  puebla   \n",
      "3473       None                la paz    puebla  puebla   \n",
      "3474       None    san jose mayorazgo    puebla  puebla   \n",
      "3475       None      centro historico    puebla  puebla   \n",
      "\n",
      "                                 ubicacion  \n",
      "0            Puebla Centro, Puebla, Puebla  \n",
      "1     Las Hadas Mundial 86, Puebla, Puebla  \n",
      "2       Plazas de Amalucan, Puebla, Puebla  \n",
      "3         Héroes de Puebla, Puebla, Puebla  \n",
      "4       Plazas de Amalucan, Puebla, Puebla  \n",
      "...                                    ...  \n",
      "3471                Puebla, Puebla, Puebla  \n",
      "3472           Angelópolis, Puebla, Puebla  \n",
      "3473                La Paz, Puebla, Puebla  \n",
      "3474    San José Mayorazgo, Puebla, Puebla  \n",
      "3475      Centro Histórico, Puebla, Puebla  \n",
      "\n",
      "[3476 rows x 5 columns]\n"
     ]
    }
   ],
   "source": [
    "print(df[['tipo_lugar','Colonia','Municipio','Estado','ubicacion']])"
   ]
  },
  {
   "cell_type": "code",
   "execution_count": 17,
   "metadata": {},
   "outputs": [],
   "source": [
    "# Eliminar acentos de df_codigos_postales para que se pueda mapear bien\n",
    "df_codigos_postales['d_asenta'] = df_codigos_postales['d_asenta'].str.normalize('NFKD').str.encode('ascii', errors='ignore').str.decode('utf-8')"
   ]
  },
  {
   "cell_type": "code",
   "execution_count": 40,
   "metadata": {},
   "outputs": [],
   "source": [
    "df['Colonia'] = df['Colonia'].apply(lambda x: 'centro' if x == 'centro' else x)\n",
    "#df['Colonia'] = df['Colonia'].apply(lambda x: 'plazas amalucan' if x == 'plazas de amalucan' else x)\n",
    "df['Colonia'] = df['Colonia'].apply(lambda x: 'centro' if x == 'puebla' else x)\n",
    "df['Colonia'] = df['Colonia'].apply(lambda x: 'centro' if x == 'puebla centro' else x)"
   ]
  },
  {
   "cell_type": "code",
   "execution_count": 41,
   "metadata": {},
   "outputs": [
    {
     "name": "stderr",
     "output_type": "stream",
     "text": [
      "C:\\Users\\yoe11\\AppData\\Local\\Temp\\ipykernel_16440\\3161061601.py:6: UserWarning: This pattern is interpreted as a regular expression, and has match groups. To actually get the groups, use str.extract.\n",
      "  df['Colonia_Estandarizada'] = df['Colonia_Estandarizada'].apply(lambda x: df_codigos_postales[df_codigos_postales['d_asenta'].str.contains(x, case=False)]['d_asenta'].values[0] if not df_codigos_postales[df_codigos_postales['d_asenta'].str.contains(x, case=False)].empty else x)\n"
     ]
    },
    {
     "name": "stdout",
     "output_type": "stream",
     "text": [
      "     tipo_lugar               Colonia    Colonia_Estandarizada Municipio  \\\n",
      "0          None                centro                   centro    puebla   \n",
      "1          None  las hadas mundial 86     las hadas mundial 86    puebla   \n",
      "2          None       plazas amalucan          plazas amalucan    puebla   \n",
      "3          None      heroes de puebla  los heroes de puebla ii    puebla   \n",
      "4          None       plazas amalucan          plazas amalucan    puebla   \n",
      "...         ...                   ...                      ...       ...   \n",
      "3471       None                centro                   centro    puebla   \n",
      "3472       None           angelopolis              angelopolis    puebla   \n",
      "3473       None                la paz                   la paz    puebla   \n",
      "3474       None    san jose mayorazgo       san jose mayorazgo    puebla   \n",
      "3475       None                centro                   centro    puebla   \n",
      "\n",
      "      Estado                             ubicacion  \n",
      "0     puebla         Puebla Centro, Puebla, Puebla  \n",
      "1     puebla  Las Hadas Mundial 86, Puebla, Puebla  \n",
      "2     puebla    Plazas de Amalucan, Puebla, Puebla  \n",
      "3     puebla      Héroes de Puebla, Puebla, Puebla  \n",
      "4     puebla    Plazas de Amalucan, Puebla, Puebla  \n",
      "...      ...                                   ...  \n",
      "3471  puebla                Puebla, Puebla, Puebla  \n",
      "3472  puebla           Angelópolis, Puebla, Puebla  \n",
      "3473  puebla                La Paz, Puebla, Puebla  \n",
      "3474  puebla    San José Mayorazgo, Puebla, Puebla  \n",
      "3475  puebla      Centro Histórico, Puebla, Puebla  \n",
      "\n",
      "[3476 rows x 6 columns]\n"
     ]
    }
   ],
   "source": [
    "# Mapear colonias de df_codigos_postales a las colonias de df para estandarizar\n",
    "\n",
    "# Coincidencias exactas\n",
    "df['Colonia_Estandarizada'] = df['Colonia'].apply(lambda x: df_codigos_postales[df_codigos_postales['d_asenta'].str.lower() == x.lower()]['d_asenta'].values[0] if not df_codigos_postales[df_codigos_postales['d_asenta'].str.lower() == x.lower()].empty else x)\n",
    "# Coincidencias parciales\n",
    "df['Colonia_Estandarizada'] = df['Colonia_Estandarizada'].apply(lambda x: df_codigos_postales[df_codigos_postales['d_asenta'].str.contains(x, case=False)]['d_asenta'].values[0] if not df_codigos_postales[df_codigos_postales['d_asenta'].str.contains(x, case=False)].empty else x)\n",
    "\n",
    "print(df[['tipo_lugar','Colonia','Colonia_Estandarizada','Municipio','Estado','ubicacion']])"
   ]
  },
  {
   "cell_type": "code",
   "execution_count": 46,
   "metadata": {},
   "outputs": [
    {
     "name": "stderr",
     "output_type": "stream",
     "text": [
      "C:\\Users\\yoe11\\AppData\\Local\\Temp\\ipykernel_16440\\4208812339.py:9: UserWarning: This pattern is interpreted as a regular expression, and has match groups. To actually get the groups, use str.extract.\n",
      "  coincidencia_parcial = df_codigos_postales[df_codigos_postales['d_asenta'].str.contains(colonia, case=False)]\n"
     ]
    },
    {
     "name": "stdout",
     "output_type": "stream",
     "text": [
      "     tipo_lugar               Colonia Colonia_Estandarizada Municipio  Estado  \\\n",
      "0          None                centro                centro    puebla  puebla   \n",
      "1          None  las hadas mundial 86  las hadas mundial 86    puebla  puebla   \n",
      "2          None       plazas amalucan       plazas amalucan    puebla  puebla   \n",
      "3          None      heroes de puebla      heroes de puebla    puebla  puebla   \n",
      "4          None       plazas amalucan       plazas amalucan    puebla  puebla   \n",
      "...         ...                   ...                   ...       ...     ...   \n",
      "3471       None                centro                centro    puebla  puebla   \n",
      "3472       None           angelopolis           angelopolis    puebla  puebla   \n",
      "3473       None                la paz                la paz    puebla  puebla   \n",
      "3474       None    san jose mayorazgo    san jose mayorazgo    puebla  puebla   \n",
      "3475       None                centro                centro    puebla  puebla   \n",
      "\n",
      "                                 ubicacion  \n",
      "0            Puebla Centro, Puebla, Puebla  \n",
      "1     Las Hadas Mundial 86, Puebla, Puebla  \n",
      "2       Plazas de Amalucan, Puebla, Puebla  \n",
      "3         Héroes de Puebla, Puebla, Puebla  \n",
      "4       Plazas de Amalucan, Puebla, Puebla  \n",
      "...                                    ...  \n",
      "3471                Puebla, Puebla, Puebla  \n",
      "3472           Angelópolis, Puebla, Puebla  \n",
      "3473                La Paz, Puebla, Puebla  \n",
      "3474    San José Mayorazgo, Puebla, Puebla  \n",
      "3475      Centro Histórico, Puebla, Puebla  \n",
      "\n",
      "[3476 rows x 6 columns]\n"
     ]
    }
   ],
   "source": [
    "# Función para mapear colonias\n",
    "def mapear_colonia(colonia, df_codigos_postales):\n",
    "    # Coincidencia exacta\n",
    "    coincidencia_exacta = df_codigos_postales[df_codigos_postales['d_asenta'].str.lower() == colonia.lower()]\n",
    "    if not coincidencia_exacta.empty:\n",
    "        return coincidencia_exacta['d_asenta'].values[0]\n",
    "    \n",
    "    # Coincidencia parcial\n",
    "    coincidencia_parcial = df_codigos_postales[df_codigos_postales['d_asenta'].str.contains(colonia, case=False)]\n",
    "    if not coincidencia_parcial.empty:\n",
    "        return coincidencia_parcial['d_asenta'].values[0]\n",
    "    \n",
    "    # Si no hay coincidencia, devolver el valor original\n",
    "    return colonia\n",
    "\n",
    "# Aplicar el mapeo de colonias en el DataFrame original\n",
    "df['Colonia_Estandarizada'] = df['Colonia'].apply(lambda x: mapear_colonia(x, df_codigos_postales))\n",
    "\n",
    "# Mostrar las columnas relevantes para verificar el resultado\n",
    "print(df[['tipo_lugar', 'Colonia', 'Colonia_Estandarizada', 'Municipio', 'Estado', 'ubicacion']])\n"
   ]
  },
  {
   "cell_type": "code",
   "execution_count": 49,
   "metadata": {},
   "outputs": [],
   "source": [
    "# Función para obtener el código postal dado estado, municipio, y colonia\n",
    "def obtener_codigo_postal(colonia, municipio, estado, df_codigos_postales):\n",
    "    # Normalizar los inputs\n",
    "    estado = estado.lower().strip()\n",
    "    municipio = municipio.lower().strip()\n",
    "    colonia = colonia.lower().strip()\n",
    "    \n",
    "    #estado = estado.lower().strip().translate(str.maketrans('', '', 'áéíóúÁÉÍÓÚ'))\n",
    "    #municipio = municipio.lower().strip().translate(str.maketrans('', '', 'áéíóúÁÉÍÓÚ'))\n",
    "    #colonia = colonia.lower().strip().translate(str.maketrans('', '', 'áéíóúÁÉÍÓÚ'))\n",
    "\n",
    "    # Filtrar el DataFrame según estado y municipio\n",
    "    df_filtrado = df_codigos_postales[(df_codigos_postales['estado'] == estado) & (df_codigos_postales['D_mnpio'] == municipio)]\n",
    "    \n",
    "    # Intentar encontrar coincidencias exactas de la colonia\n",
    "    resultado = df_filtrado[df_filtrado['d_asenta'] == colonia]\n",
    "    \n",
    "    if not resultado.empty:\n",
    "        # Si se encuentra una coincidencia, devolver el código postal\n",
    "        return resultado['d_codigo'].values[0]\n",
    "    \n",
    "    return None  # Devolver None si no hay coincidencia\n"
   ]
  },
  {
   "cell_type": "code",
   "execution_count": 50,
   "metadata": {},
   "outputs": [
    {
     "name": "stdout",
     "output_type": "stream",
     "text": [
      "                             Colonia Municipio  Estado  codigo_postal\n",
      "17                           la loma    puebla  puebla            NaN\n",
      "18             santa maria la ribera    puebla  puebla            NaN\n",
      "28             san diego castillotla    puebla  puebla            NaN\n",
      "34    san miguel mayorazgo infonavit    puebla  puebla            NaN\n",
      "35    san miguel mayorazgo infonavit    puebla  puebla            NaN\n",
      "...                              ...       ...     ...            ...\n",
      "3446                        el pilar    puebla  puebla            NaN\n",
      "3450            el mirador la calera    puebla  puebla            NaN\n",
      "3453          geo villas atlixcayotl    puebla  puebla            NaN\n",
      "3457          geo villas atlixcayotl    puebla  puebla            NaN\n",
      "3469               campestre paraiso    puebla  puebla            NaN\n",
      "\n",
      "[536 rows x 4 columns]\n",
      "(536, 32)\n"
     ]
    }
   ],
   "source": [
    "df['codigo_postal'] = df.apply(lambda row: obtener_codigo_postal(row['Colonia_Estandarizada'], row['Municipio'], row['Estado'], df_codigos_postales), axis=1)\n",
    "# Verificar si hay registros sin código postal asignado\n",
    "sin_codigo_postal = df[df['codigo_postal'].isna()]\n",
    "print(sin_codigo_postal[['Colonia','Municipio','Estado','codigo_postal']])\n",
    "print(sin_codigo_postal.shape)"
   ]
  },
  {
   "cell_type": "markdown",
   "metadata": {},
   "source": [
    "1213 -> 1124 -> 1063"
   ]
  },
  {
   "cell_type": "code",
   "execution_count": 51,
   "metadata": {},
   "outputs": [
    {
     "data": {
      "text/plain": [
       "(3476, 32)"
      ]
     },
     "execution_count": 51,
     "metadata": {},
     "output_type": "execute_result"
    }
   ],
   "source": [
    "df.shape"
   ]
  },
  {
   "cell_type": "code",
   "execution_count": 52,
   "metadata": {},
   "outputs": [
    {
     "data": {
      "text/plain": [
       "2960"
      ]
     },
     "execution_count": 52,
     "metadata": {},
     "output_type": "execute_result"
    }
   ],
   "source": [
    "3476-516"
   ]
  },
  {
   "cell_type": "code",
   "execution_count": 53,
   "metadata": {},
   "outputs": [
    {
     "data": {
      "text/plain": [
       "Colonia\n",
       "centro                      36\n",
       "bosques de san sebastian    32\n",
       "la loma                     31\n",
       "lomas de angelopolis        29\n",
       "bosques amalucan            26\n",
       "                            ..\n",
       "la escondida                 1\n",
       "las fuentes de puebla        1\n",
       "santa cruz                   1\n",
       "insurgentes zaragoza         1\n",
       "el pilar                     1\n",
       "Name: count, Length: 80, dtype: int64"
      ]
     },
     "execution_count": 53,
     "metadata": {},
     "output_type": "execute_result"
    }
   ],
   "source": [
    "sin_codigo_postal['Colonia'].value_counts()"
   ]
  },
  {
   "cell_type": "code",
   "execution_count": 56,
   "metadata": {},
   "outputs": [
    {
     "data": {
      "text/plain": [
       "d_asenta\n",
       "centro                              3\n",
       "centro cruz del sur                 1\n",
       "las animas centro comercial         1\n",
       "centro comercial puebla             1\n",
       "insurgentes centro                  1\n",
       "cholula de rivadabia centro         1\n",
       "san andres cholula centro           1\n",
       "centro comercial palmas plaza       1\n",
       "amozoc centro                       1\n",
       "xicotepec de juarez centro          1\n",
       "huauchinango centro                 1\n",
       "zacatlan centro                     1\n",
       "lindavista centro                   1\n",
       "zacapoaxtla centro                  1\n",
       "libres centro                       1\n",
       "teziutlan centro                    1\n",
       "coatectzin centro                   1\n",
       "yaonahuac centro                    1\n",
       "hueyapan centro                     1\n",
       "teteles de avila castillo centro    1\n",
       "centro (tepatlaxco)                 1\n",
       "huejotzingo centro                  1\n",
       "atlixco centro                      1\n",
       "izucar de matamoros centro          1\n",
       "ahuatlan centro                     1\n",
       "jolalpan centro                     1\n",
       "santa ines ahuatempan centro        1\n",
       "acatlan de osorio centro            1\n",
       "petlalcingo centro                  1\n",
       "tepeaca centro                      1\n",
       "tecamachalco centro                 1\n",
       "tochtepec centro                    1\n",
       "atoyatempan centro                  1\n",
       "tehuacan centro                     1\n",
       "coxcatlan centro                    1\n",
       "Name: count, dtype: int64"
      ]
     },
     "execution_count": 56,
     "metadata": {},
     "output_type": "execute_result"
    }
   ],
   "source": [
    "dataos = df_codigos_postales[df_codigos_postales['d_asenta'].str.contains('centro', case=False)]\n",
    "dataos['d_asenta'].value_counts()\n",
    "#df_codigos_postales['d_asenta'].value_counts()\n",
    "\n",
    "#'centro historico'"
   ]
  },
  {
   "cell_type": "code",
   "execution_count": 55,
   "metadata": {},
   "outputs": [
    {
     "data": {
      "text/html": [
       "<div>\n",
       "<style scoped>\n",
       "    .dataframe tbody tr th:only-of-type {\n",
       "        vertical-align: middle;\n",
       "    }\n",
       "\n",
       "    .dataframe tbody tr th {\n",
       "        vertical-align: top;\n",
       "    }\n",
       "\n",
       "    .dataframe thead th {\n",
       "        text-align: right;\n",
       "    }\n",
       "</style>\n",
       "<table border=\"1\" class=\"dataframe\">\n",
       "  <thead>\n",
       "    <tr style=\"text-align: right;\">\n",
       "      <th></th>\n",
       "      <th>d_codigo</th>\n",
       "      <th>d_asenta</th>\n",
       "      <th>d_tipo_asenta</th>\n",
       "      <th>D_mnpio</th>\n",
       "      <th>estado</th>\n",
       "    </tr>\n",
       "  </thead>\n",
       "  <tbody>\n",
       "  </tbody>\n",
       "</table>\n",
       "</div>"
      ],
      "text/plain": [
       "Empty DataFrame\n",
       "Columns: [d_codigo, d_asenta, d_tipo_asenta, D_mnpio, estado]\n",
       "Index: []"
      ]
     },
     "execution_count": 55,
     "metadata": {},
     "output_type": "execute_result"
    }
   ],
   "source": [
    "centro_puebla = dataos[(dataos['d_asenta'] == 'centro') & (dataos['D_mnpio'].str.contains('Puebla', case=False))]\n",
    "centro_puebla"
   ]
  },
  {
   "cell_type": "code",
   "execution_count": 50,
   "metadata": {},
   "outputs": [
    {
     "name": "stdout",
     "output_type": "stream",
     "text": [
      "   tipo_lugar                         Colonia           Colonia_Estandarizada  \\\n",
      "0        None                   puebla centro                   puebla centro   \n",
      "1        None            las hadas mundial 86            las hadas mundial 86   \n",
      "2        None                 plazas amalucan                 plazas amalucan   \n",
      "3        None                heroes de puebla         los heroes de puebla ii   \n",
      "4        None                 plazas amalucan                 plazas amalucan   \n",
      "5        None              san jose mayorazgo              san jose mayorazgo   \n",
      "6        None           ex-hacienda mayorazgo           ex-hacienda mayorazgo   \n",
      "7        None                   puebla centro                   puebla centro   \n",
      "8        None                       la calera           plan de ayala caleras   \n",
      "9        None                       el carmen                nueva del carmen   \n",
      "10       None                     santa maria           santa maria la rivera   \n",
      "11       None                          centro               angeles de puebla   \n",
      "12       None                   santa barbara                   santa barbara   \n",
      "13       None          san isidro castillotla          san isidro castillotla   \n",
      "14       None                   santa barbara                   santa barbara   \n",
      "15       None                          centro               angeles de puebla   \n",
      "16       None                          centro               angeles de puebla   \n",
      "17       None                         la loma    la loma (ejido romero vargas   \n",
      "18       None           santa maria la ribera           santa maria la ribera   \n",
      "19       None                villa las flores                villa las flores   \n",
      "20       None                heroes de puebla         los heroes de puebla ii   \n",
      "21       None                      el cerrito                      el cerrito   \n",
      "22       None                      el cerrito                      el cerrito   \n",
      "23       None                         la joya                         la joya   \n",
      "24       None                         la joya                         la joya   \n",
      "25       None                         la joya                         la joya   \n",
      "26       None                      el cerrito                      el cerrito   \n",
      "27       None                      el cerrito                      el cerrito   \n",
      "28       None           san diego castillotla           san diego castillotla   \n",
      "29       None            santa clara la venta            santa clara la venta   \n",
      "30       None                heroes de puebla         los heroes de puebla ii   \n",
      "31       None                heroes de puebla         los heroes de puebla ii   \n",
      "32       None                heroes de puebla         los heroes de puebla ii   \n",
      "33       None                heroes de puebla         los heroes de puebla ii   \n",
      "34       None  san miguel mayorazgo infonavit  san miguel mayorazgo infonavit   \n",
      "\n",
      "   Municipio  Estado                                       ubicacion  \n",
      "0     puebla  puebla                   Puebla Centro, Puebla, Puebla  \n",
      "1     puebla  puebla            Las Hadas Mundial 86, Puebla, Puebla  \n",
      "2     puebla  puebla              Plazas de Amalucan, Puebla, Puebla  \n",
      "3     puebla  puebla                Héroes de Puebla, Puebla, Puebla  \n",
      "4     puebla  puebla              Plazas de Amalucan, Puebla, Puebla  \n",
      "5     puebla  puebla              San José Mayorazgo, Puebla, Puebla  \n",
      "6     puebla  puebla           Ex-Hacienda Mayorazgo, Puebla, Puebla  \n",
      "7     puebla  puebla                   Puebla Centro, Puebla, Puebla  \n",
      "8     puebla  puebla                       La Calera, Puebla, Puebla  \n",
      "9     puebla  puebla                       El Carmen, Puebla, Puebla  \n",
      "10    puebla  puebla                     Santa María, Puebla, Puebla  \n",
      "11    puebla  puebla                          Puebla, Puebla, Puebla  \n",
      "12    puebla  puebla                   Santa Bárbara, Puebla, Puebla  \n",
      "13    puebla  puebla          San Isidro Castillotla, Puebla, Puebla  \n",
      "14    puebla  puebla                   Santa Bárbara, Puebla, Puebla  \n",
      "15    puebla  puebla                          Puebla, Puebla, Puebla  \n",
      "16    puebla  puebla                          Puebla, Puebla, Puebla  \n",
      "17    puebla  puebla                         La Loma, Puebla, Puebla  \n",
      "18    puebla  puebla           Santa María la Ribera, Puebla, Puebla  \n",
      "19    puebla  puebla                Villa las Flores, Puebla, Puebla  \n",
      "20    puebla  puebla                Héroes de Puebla, Puebla, Puebla  \n",
      "21    puebla  puebla                      El Cerrito, Puebla, Puebla  \n",
      "22    puebla  puebla                      El Cerrito, Puebla, Puebla  \n",
      "23    puebla  puebla                         La Joya, Puebla, Puebla  \n",
      "24    puebla  puebla                         La Joya, Puebla, Puebla  \n",
      "25    puebla  puebla                         La Joya, Puebla, Puebla  \n",
      "26    puebla  puebla                      El Cerrito, Puebla, Puebla  \n",
      "27    puebla  puebla                      El Cerrito, Puebla, Puebla  \n",
      "28    puebla  puebla           San Diego Castillotla, Puebla, Puebla  \n",
      "29    puebla  puebla            Santa Clara La Venta, Puebla, Puebla  \n",
      "30    puebla  puebla                Héroes de Puebla, Puebla, Puebla  \n",
      "31    puebla  puebla                Héroes de Puebla, Puebla, Puebla  \n",
      "32    puebla  puebla                Héroes de Puebla, Puebla, Puebla  \n",
      "33    puebla  puebla                Héroes de Puebla, Puebla, Puebla  \n",
      "34    puebla  puebla  San Miguel Mayorazgo INFONAVIT, Puebla, Puebla  \n"
     ]
    }
   ],
   "source": [
    "print(df[['tipo_lugar','Colonia','Colonia_Estandarizada','Municipio','Estado','ubicacion']].head(35))"
   ]
  },
  {
   "cell_type": "code",
   "execution_count": 10,
   "metadata": {},
   "outputs": [],
   "source": [
    "from rapidfuzz import process\n",
    "\n",
    "#Lista de colonias estandarizadas\n",
    "colonias_estandar = ['centro historico','colonia 2']\n",
    "\n",
    "#Aplicar fuzzy matching para corregir por similitud((\n",
    "df['Colonia'] = df['Colonia'].apply(lambda x: process.extractOne(x, colonias_estandar)[0])\n",
    "df['Colonia'].unique()\n",
    "\n",
    "\n",
    "centro historico"
   ]
  },
  {
   "cell_type": "code",
   "execution_count": 54,
   "metadata": {},
   "outputs": [
    {
     "name": "stdout",
     "output_type": "stream",
     "text": [
      "   tipo_lugar                         Colonia           Colonia_Estandarizada  \\\n",
      "0        None                   puebla centro                   puebla centro   \n",
      "1        None            las hadas mundial 86            las hadas mundial 86   \n",
      "2        None              plazas de amalucan              plazas de amalucan   \n",
      "3        None                heroes de puebla                heroes de puebla   \n",
      "4        None              plazas de amalucan              plazas de amalucan   \n",
      "5        None              san jose mayorazgo              san jose mayorazgo   \n",
      "6        None           ex-hacienda mayorazgo           ex-hacienda mayorazgo   \n",
      "7        None                   puebla centro                   puebla centro   \n",
      "8        None                       la calera           plan de ayala caleras   \n",
      "9        None                       el carmen                nueva del carmen   \n",
      "10       None                     santa maria                     santa maria   \n",
      "11       None                          puebla               ángeles de puebla   \n",
      "12       None                   santa barbara                   santa barbara   \n",
      "13       None          san isidro castillotla          san isidro castillotla   \n",
      "14       None                   santa barbara                   santa barbara   \n",
      "15       None                          puebla               ángeles de puebla   \n",
      "16       None                          puebla               ángeles de puebla   \n",
      "17       None                         la loma    la loma (ejido romero vargas   \n",
      "18       None           santa maria la ribera           santa maria la ribera   \n",
      "19       None                villa las flores                villa las flores   \n",
      "20       None                heroes de puebla                heroes de puebla   \n",
      "21       None                      el cerrito                      el cerrito   \n",
      "22       None                      el cerrito                      el cerrito   \n",
      "23       None                         la joya                         la joya   \n",
      "24       None                         la joya                         la joya   \n",
      "25       None                         la joya                         la joya   \n",
      "26       None                      el cerrito                      el cerrito   \n",
      "27       None                      el cerrito                      el cerrito   \n",
      "28       None           san diego castillotla           san diego castillotla   \n",
      "29       None            santa clara la venta            santa clara la venta   \n",
      "30       None                heroes de puebla                heroes de puebla   \n",
      "31       None                heroes de puebla                heroes de puebla   \n",
      "32       None                heroes de puebla                heroes de puebla   \n",
      "33       None                heroes de puebla                heroes de puebla   \n",
      "34       None  san miguel mayorazgo infonavit  san miguel mayorazgo infonavit   \n",
      "\n",
      "   Municipio  Estado                                       ubicacion  \n",
      "0     puebla  puebla                   Puebla Centro, Puebla, Puebla  \n",
      "1     puebla  puebla            Las Hadas Mundial 86, Puebla, Puebla  \n",
      "2     puebla  puebla              Plazas de Amalucan, Puebla, Puebla  \n",
      "3     puebla  puebla                Héroes de Puebla, Puebla, Puebla  \n",
      "4     puebla  puebla              Plazas de Amalucan, Puebla, Puebla  \n",
      "5     puebla  puebla              San José Mayorazgo, Puebla, Puebla  \n",
      "6     puebla  puebla           Ex-Hacienda Mayorazgo, Puebla, Puebla  \n",
      "7     puebla  puebla                   Puebla Centro, Puebla, Puebla  \n",
      "8     puebla  puebla                       La Calera, Puebla, Puebla  \n",
      "9     puebla  puebla                       El Carmen, Puebla, Puebla  \n",
      "10    puebla  puebla                     Santa María, Puebla, Puebla  \n",
      "11    puebla  puebla                          Puebla, Puebla, Puebla  \n",
      "12    puebla  puebla                   Santa Bárbara, Puebla, Puebla  \n",
      "13    puebla  puebla          San Isidro Castillotla, Puebla, Puebla  \n",
      "14    puebla  puebla                   Santa Bárbara, Puebla, Puebla  \n",
      "15    puebla  puebla                          Puebla, Puebla, Puebla  \n",
      "16    puebla  puebla                          Puebla, Puebla, Puebla  \n",
      "17    puebla  puebla                         La Loma, Puebla, Puebla  \n",
      "18    puebla  puebla           Santa María la Ribera, Puebla, Puebla  \n",
      "19    puebla  puebla                Villa las Flores, Puebla, Puebla  \n",
      "20    puebla  puebla                Héroes de Puebla, Puebla, Puebla  \n",
      "21    puebla  puebla                      El Cerrito, Puebla, Puebla  \n",
      "22    puebla  puebla                      El Cerrito, Puebla, Puebla  \n",
      "23    puebla  puebla                         La Joya, Puebla, Puebla  \n",
      "24    puebla  puebla                         La Joya, Puebla, Puebla  \n",
      "25    puebla  puebla                         La Joya, Puebla, Puebla  \n",
      "26    puebla  puebla                      El Cerrito, Puebla, Puebla  \n",
      "27    puebla  puebla                      El Cerrito, Puebla, Puebla  \n",
      "28    puebla  puebla           San Diego Castillotla, Puebla, Puebla  \n",
      "29    puebla  puebla            Santa Clara La Venta, Puebla, Puebla  \n",
      "30    puebla  puebla                Héroes de Puebla, Puebla, Puebla  \n",
      "31    puebla  puebla                Héroes de Puebla, Puebla, Puebla  \n",
      "32    puebla  puebla                Héroes de Puebla, Puebla, Puebla  \n",
      "33    puebla  puebla                Héroes de Puebla, Puebla, Puebla  \n",
      "34    puebla  puebla  San Miguel Mayorazgo INFONAVIT, Puebla, Puebla  \n"
     ]
    }
   ],
   "source": [
    "print(df[['tipo_lugar','Colonia','Colonia_Estandarizada','Municipio','Estado','ubicacion']].head(35))"
   ]
  },
  {
   "cell_type": "code",
   "execution_count": null,
   "metadata": {},
   "outputs": [],
   "source": []
  }
 ],
 "metadata": {
  "kernelspec": {
   "display_name": "Python 3",
   "language": "python",
   "name": "python3"
  },
  "language_info": {
   "codemirror_mode": {
    "name": "ipython",
    "version": 3
   },
   "file_extension": ".py",
   "mimetype": "text/x-python",
   "name": "python",
   "nbconvert_exporter": "python",
   "pygments_lexer": "ipython3",
   "version": "3.12.7"
  }
 },
 "nbformat": 4,
 "nbformat_minor": 2
}
