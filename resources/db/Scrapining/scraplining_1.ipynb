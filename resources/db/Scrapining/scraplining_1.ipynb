{
 "cells": [
  {
   "cell_type": "markdown",
   "metadata": {},
   "source": [
    "# **PROCESO DE LIMPIEZA DE *SCRAPPING***"
   ]
  },
  {
   "cell_type": "code",
   "execution_count": 1,
   "metadata": {},
   "outputs": [],
   "source": [
    "import pandas as pd # Manipulación df\n",
    "import os # Directorios\n",
    "import re # Manipulación de cadenas de texto (expresiones regulares)\n",
    "import unicodedata# Función para eliminar acentos\n",
    "from datetime import datetime, date\n",
    "from currency_converter import CurrencyConverter # convertidor de monedas"
   ]
  },
  {
   "cell_type": "markdown",
   "metadata": {},
   "source": [
    "# Cargar archivo"
   ]
  },
  {
   "cell_type": "code",
   "execution_count": 2,
   "metadata": {},
   "outputs": [],
   "source": [
    "directorio_actual = os.getcwd() # Directorio actual de trabajo\n",
    "# Ruta relativa al archivo CSV\n",
    "csv_filename = 'lamudi-Abril-QueretaroInmuebles .xlsx'\n",
    "csv_dir = os.path.join(directorio_actual)#, 'datos'\n",
    "csv_path = os.path.join(csv_dir, csv_filename)"
   ]
  },
  {
   "cell_type": "markdown",
   "metadata": {},
   "source": [
    "Leer archivo sin nombre en columnas:"
   ]
  },
  {
   "cell_type": "code",
   "execution_count": null,
   "metadata": {},
   "outputs": [],
   "source": [
    "#column_names=['precio','denominacion','propiedad','metros_total','metros_construido','tiempo_de_publicacion','tipo','estacionamientos','recamaras','banos','medio_banos','seguridad_privada','ubicacion','url','descripcion']\n",
    "df = pd.read_excel(csv_path)#, names=column_names\n",
    "df.info()"
   ]
  },
  {
   "cell_type": "markdown",
   "metadata": {},
   "source": [
    "Leer archivo con nombre de columnas:"
   ]
  },
  {
   "cell_type": "markdown",
   "metadata": {},
   "source": [
    "### Limpieza de Nulos"
   ]
  },
  {
   "cell_type": "code",
   "execution_count": 4,
   "metadata": {},
   "outputs": [],
   "source": [
    "df.fillna({'precio': 0}, inplace=True) \n",
    "df.fillna({'propiedad': 'Propiedad sin título'}, inplace=True) \n",
    "df.fillna({'metros_total': 0}, inplace=True) \n",
    "df.fillna({'metros_construido': 0}, inplace=True) \n",
    "df.fillna({'tiempo_de_publicacion': '1 ene 1000'}, inplace=True) \n",
    "df.fillna({'tipo': 'Propiedad sin tipo de casa'}, inplace=True) \n",
    "df.fillna({'estacionamientos': 0}, inplace=True) \n",
    "df.fillna({'recamaras': 0}, inplace=True) \n",
    "df.fillna({'banos': 0}, inplace=True) \n",
    "df.fillna({'medio_banos': 0}, inplace=True) \n",
    "df.fillna({'seguridad_privada': 'No'}, inplace=True) \n",
    "df.fillna({'ubicacion': 'Propiedad sin ubicación'}, inplace=True) \n",
    "df.fillna({'url': '-'}, inplace=True) \n",
    "df.fillna({'descripcion': \"Propiedad sin descripcion\"}, inplace=True) "
   ]
  },
  {
   "cell_type": "markdown",
   "metadata": {},
   "source": [
    "____\n",
    "# 1. Manipulación de precios"
   ]
  },
  {
   "cell_type": "markdown",
   "metadata": {},
   "source": [
    "## a) Precio en descripción"
   ]
  },
  {
   "cell_type": "code",
   "execution_count": 5,
   "metadata": {},
   "outputs": [],
   "source": [
    "def extraer_precio(descripcion):\n",
    "    descripcion = descripcion.lower()\n",
    "    # Buscar patrones\n",
    "    precios = re.findall(r'\\b(\\d+[\\.,]?\\d*[\\.,]?\\d*)\\s*($|mil pesos|mxn|precio|pesos|monto|Pesos Mexicanos|USD)', descripcion)\n",
    "    precio = None\n",
    "    for match in precios:\n",
    "        numero, moneda = match\n",
    "        numero = numero.replace(',', '').replace(\"'\", '').replace(\".\",'')\n",
    "        try:\n",
    "            precio = float(numero)\n",
    "        except ValueError:\n",
    "            continue\n",
    "        if precio:\n",
    "            break\n",
    "    return precio\n",
    "\n",
    "# Denominación de la descripción\n",
    "def extraer_denominacion(descripcion):\n",
    "    descripcion = descripcion.lower()\n",
    "    # Buscar patrones \n",
    "    denominaciones = re.findall(r'\\b(mil|mxn|precio|pesos|monto|Mexicanos|Estadounidenses)\\b', descripcion)\n",
    "    return denominaciones[0] if denominaciones else None\n",
    "\n",
    "df['precio_desc'] = df['descripcion'].apply(extraer_precio)\n",
    "#df['denominacion_desc'] = df['descripcion'].apply(extraer_denominacion)"
   ]
  },
  {
   "cell_type": "markdown",
   "metadata": {},
   "source": [
    "### Comparaciones"
   ]
  },
  {
   "cell_type": "markdown",
   "metadata": {},
   "source": [
    "#### Precio [0 / 0]"
   ]
  },
  {
   "cell_type": "code",
   "execution_count": 6,
   "metadata": {},
   "outputs": [],
   "source": [
    "#posibles = df[( (df['precio'] == 0 ) & (df['precio_desc'].isna()) )] \n",
    "# Configurar pandas para que no use notación científica en la impresión\n",
    "#pd.set_option('display.float_format', '{:.2f}'.format)\n",
    "# Imprimir las columnas especificadas del DataFrame filtrado\n",
    "#print(posibles[['precio', 'denominacion', 'precio_desc', 'url' ]]) #'denominacion_desc'\n",
    "# Restaurar la configuración original después de la impresión si es necesario\n",
    "#pd.reset_option('display.float_format')"
   ]
  },
  {
   "cell_type": "markdown",
   "metadata": {},
   "source": [
    "##### Proceso de reemplazo"
   ]
  },
  {
   "cell_type": "code",
   "execution_count": 7,
   "metadata": {},
   "outputs": [
    {
     "name": "stdout",
     "output_type": "stream",
     "text": [
      "Proceso completado.\n"
     ]
    }
   ],
   "source": [
    "# Filtrar los registros según las condiciones dadas\n",
    "totales = df[( (df['precio'] == 0 ) & (df['precio_desc'].isna()) )] \n",
    "pd.set_option('display.max_colwidth', None) # Mostrar URLs completas\n",
    "# Iterar sobre los registros filtrados\n",
    "for idx, row in totales.iterrows():\n",
    "    print(f\"Registro {idx}:\")\n",
    "    print(row[['precio', 'precio_desc', 'url']])\n",
    "    print(\"\\n¿Qué acción te gustaría realizar?\")\n",
    "    print(\"1. Sustituir el valor manualmente\")\n",
    "    print(\"2. Pasar al siguiente registro\")\n",
    "\n",
    "    # Solicitar la opción al usuario\n",
    "    option = input(\"Elige una opción (1 o 2): \")\n",
    "\n",
    "    if option == '1':\n",
    "        # Sustituir el valor manualmente\n",
    "        new_value = input(\"Introduce el nuevo valor para 'precio': \")\n",
    "        df.at[idx, 'precio'] = float(new_value)\n",
    "    elif option == '2':\n",
    "        # Pasar al siguiente registro\n",
    "        continue\n",
    "    else:\n",
    "        print(\"Opción no válida. Pasando al siguiente registro...\")\n",
    "    \n",
    "    print(\"\\n---\\n\")\n",
    "\n",
    "print(\"Proceso completado.\")"
   ]
  },
  {
   "cell_type": "markdown",
   "metadata": {},
   "source": [
    "Eliminar registros que no recuperaron su precio verdadero desde descripción"
   ]
  },
  {
   "cell_type": "code",
   "execution_count": 8,
   "metadata": {},
   "outputs": [],
   "source": [
    "df = df[~( (df['precio'] == 0 ) & (df['precio_desc'].isna()) )] "
   ]
  },
  {
   "cell_type": "markdown",
   "metadata": {},
   "source": [
    "#### Precio [0 / #]"
   ]
  },
  {
   "cell_type": "code",
   "execution_count": 9,
   "metadata": {},
   "outputs": [],
   "source": [
    "#posibles = df[( (df['precio'] == 0 ) & (df['precio_desc'].notna()) )] \n",
    "# Configurar pandas para que no use notación científica en la impresión\n",
    "#pd.set_option('display.float_format', '{:.2f}'.format)\n",
    "# Imprimir las columnas especificadas del DataFrame filtrado\n",
    "#print(posibles[['precio', 'denominacion', 'precio_desc', 'url' ]]) #'denominacion_desc'\n",
    "# Restaurar la configuración original después de la impresión si es necesario\n",
    "#pd.reset_option('display.float_format')"
   ]
  },
  {
   "cell_type": "markdown",
   "metadata": {},
   "source": [
    "##### Proceso de reemplazo"
   ]
  },
  {
   "cell_type": "code",
   "execution_count": 10,
   "metadata": {},
   "outputs": [
    {
     "name": "stdout",
     "output_type": "stream",
     "text": [
      "Proceso completado.\n"
     ]
    }
   ],
   "source": [
    "# Filtrar los registros según las condiciones dadas\n",
    "totales = df[( (df['precio'] == 0 ) & (df['precio_desc'].notna()) )] \n",
    "\n",
    "# Iterar sobre los registros filtrados\n",
    "for idx, row in totales.iterrows():\n",
    "    print(f\"Registro {idx}:\")\n",
    "    print(row[['precio', 'precio_desc', 'url']])\n",
    "    print(\"\\n¿Qué acción te gustaría realizar?\")\n",
    "    print(\"1. Sustituir el valor manualmente\")\n",
    "    print(\"2. Sustituir el valor de 'precio' por el de 'precio_desc'\")\n",
    "    print(\"3. Pasar al siguiente registro\")\n",
    "\n",
    "    # Solicitar la opción al usuario\n",
    "    option = input(\"Elige una opción (1, 2, 3): \")\n",
    "\n",
    "    if option == '1':\n",
    "        # Sustituir el valor manualmente\n",
    "        new_value = input(\"Introduce el nuevo valor para 'precio': \")\n",
    "        df.at[idx, 'precio'] = float(new_value)\n",
    "    elif option == '2':\n",
    "        # Sustituir el valor de 'metros_total' por 'totales_desc'\n",
    "        df.at[idx, 'precio'] = df.at[idx, 'precio_desc']\n",
    "    elif option == '3':\n",
    "        # Pasar al siguiente registro\n",
    "        continue\n",
    "    else:\n",
    "        print(\"Opción no válida. Pasando al siguiente registro...\")\n",
    "    \n",
    "    print(\"\\n---\\n\")\n",
    "\n",
    "print(\"Proceso completado.\")\n"
   ]
  },
  {
   "cell_type": "markdown",
   "metadata": {},
   "source": [
    "#### Precio [# / #]"
   ]
  },
  {
   "cell_type": "code",
   "execution_count": 11,
   "metadata": {},
   "outputs": [],
   "source": [
    "#posibles_cont = df[( (df['precio'].notna()) & (df['precio_desc'].notna()) )] \n",
    "# Filtro dentro del estándar\n",
    "#sustituir = posibles_cont[(posibles_cont['precio_desc'] >= 250000) & (posibles_cont['precio_desc'] <= 500000000)]\n",
    "\n",
    "# Configurar pandas para que no use notación científica en la impresión\n",
    "#pd.set_option('display.float_format', '{:.2f}'.format)\n",
    "# Imprimir las columnas especificadas del DataFrame filtrado\n",
    "#print(sustituir[['precio', 'denominacion', 'precio_desc', 'url' ]]) #'denominacion_desc'\n",
    "# Restaurar la configuración original después de la impresión si es necesario\n",
    "#pd.reset_option('display.float_format')"
   ]
  },
  {
   "cell_type": "code",
   "execution_count": null,
   "metadata": {},
   "outputs": [],
   "source": [
    "# Filtrar los registros según las condiciones dadas\n",
    "totales = df[( ((df['precio']!= 0) & (df['precio_desc'].notna())) & (df['precio'] != df['precio_desc']) )] \n",
    "# Filtro dentro del estándar\n",
    "totales = totales[(totales['precio_desc'] >= 250000) & (totales['precio_desc'] <= 500000000)]\n",
    "\n",
    "# Iterar sobre los registros filtrados\n",
    "for idx, row in totales.iterrows():\n",
    "    print(f\"Registro {idx}:\")\n",
    "    print(row[['precio', 'precio_desc', 'url']])\n",
    "    print(\"\\n¿Qué acción te gustaría realizar?\")\n",
    "    print(\"1. Sustituir el valor manualmente\")\n",
    "    print(\"2. Sustituir el valor de 'precio' por el de 'precio_desc'\")\n",
    "    print(\"3. Pasar al siguiente registro\")\n",
    "\n",
    "    # Solicitar la opción al usuario\n",
    "    option = input(\"Elige una opción (1, 2, 3): \")\n",
    "\n",
    "    if option == '1':\n",
    "        # Sustituir el valor manualmente\n",
    "        new_value = input(\"Introduce el nuevo valor para 'precio': \")\n",
    "        df.at[idx, 'precio'] = float(new_value)\n",
    "    elif option == '2':\n",
    "        # Sustituir el valor de 'metros_total' por 'totales_desc'\n",
    "        df.at[idx, 'precio'] = df.at[idx, 'precio_desc']\n",
    "    elif option == '3':\n",
    "        # Pasar al siguiente registro\n",
    "        continue\n",
    "    else:\n",
    "        print(\"Opción no válida. Pasando al siguiente registro...\")\n",
    "    \n",
    "    print(\"\\n---\\n\")\n",
    "\n",
    "print(\"Proceso completado.\")"
   ]
  },
  {
   "cell_type": "markdown",
   "metadata": {},
   "source": [
    "## b) Denominación MXN"
   ]
  },
  {
   "cell_type": "code",
   "execution_count": null,
   "metadata": {},
   "outputs": [],
   "source": [
    "df = pd.read_csv('abril_queretaro_Inmuebles_2024.csv')"
   ]
  },
  {
   "cell_type": "markdown",
   "metadata": {},
   "source": [
    "SI EXISTE UNA DENOMINACIÓN QUE NO SEA MXN, SE CONVIERTA EL PRECIO"
   ]
  },
  {
   "cell_type": "code",
   "execution_count": null,
   "metadata": {},
   "outputs": [],
   "source": [
    "import datetime\n",
    "\n",
    "c = CurrencyConverter() # Instancia del convertidor de monedas\n",
    "def convertir_a_mxn(precio, denominacion):\n",
    "    if denominacion != 'MXN':\n",
    "        return int(round(c.convert(precio, denominacion, 'MXN')))\n",
    "    return precio\n",
    "\n",
    "def convertir_a_usd(precio, denominacion):\n",
    "    if denominacion != 'USD':\n",
    "        return round(c.convert(precio, denominacion, 'USD'), 2)\n",
    "    return precio\n",
    "\n",
    "# Obtener la fecha actual\n",
    "fecha_conversion = datetime.datetime.now().date()\n",
    "\n",
    "# Aplicar la conversión a cada fila del DataFrame y agregar la fecha de conversión\n",
    "df['precio_mxn'] = df.apply(lambda row: convertir_a_mxn(row['precio'], row['denominacion']), axis=1)\n",
    "df['precio_usd'] = df.apply(lambda row: convertir_a_usd(row['precio'], row['denominacion']), axis=1)\n",
    "df['denominacion_mxn'] = 'MXN'\n",
    "df['denominacion_usd'] = 'USD'\n",
    "df['fecha_conversion'] = fecha_conversion\n",
    "\n",
    "print(df[['precio', 'denominacion', 'precio_mxn', 'denominacion_mxn', 'precio_usd', 'denominacion_usd', 'fecha_conversion']].head())\n",
    "\n",
    "# Mover las columnas 'precio_mxn' y 'precio_usd' al inicio del DataFrame\n",
    "#cols = ['precio_mxn', 'precio_usd'] + [col for col in df.columns if col not in ['precio_mxn', 'precio_usd']]\n",
    "#df = df[cols]"
   ]
  },
  {
   "cell_type": "markdown",
   "metadata": {},
   "source": [
    "## c) Precio fuera del estandar"
   ]
  },
  {
   "cell_type": "markdown",
   "metadata": {},
   "source": [
    "IDENTIFICAR Y ELIMINAR PROPIEDADES QUE CUENTEN CON PRECIOS BAJOS y ALTOS AL ESTANDAR"
   ]
  },
  {
   "cell_type": "code",
   "execution_count": null,
   "metadata": {},
   "outputs": [],
   "source": [
    "# Eliminar los registros donde el precio es menor al estandar (250,000) y con precio_desc vacío\n",
    "df = df[(df['precio'] >= 250000)] #& (df['precio_desc'].notna())]\n",
    "# Eliminar los registros donde el precio es mayor al estandar (500,000,000) y con precio_desc vacío\n",
    "df = df[(df['precio'] <= 500000000)] #& (df['precio_desc'].notna())] \n",
    "# Ordenar valores de manera ascendente\n",
    "df['precio'].sort_values()"
   ]
  },
  {
   "cell_type": "markdown",
   "metadata": {},
   "source": [
    "## D) Segmento o categoría"
   ]
  },
  {
   "cell_type": "code",
   "execution_count": null,
   "metadata": {},
   "outputs": [],
   "source": [
    "# Definir los rangos y las etiquetas\n",
    "bins = [10, 500000, 750000, 1000000, 1250000, 1500000, 1750000, 2000000, 2250000, 2500000, 2750000, 3000000, 3250000, 3500000, 3750000, 100000000]\n",
    "labels = [\"E2\", \"E1\", \"D3\", \"D2\", \"D1\", \"C3\", \"C2\", \"C1\", \"B3\", \"B2\", \"B1\", \"A3\", \"A2\", \"A1\", \"S\"]\n",
    "\n",
    "# Utilizar pd.cut para clasificar los valores\n",
    "df['categoria'] = pd.cut(df['precio'], bins=bins, labels=labels, right=False)\n",
    "print(df['categoria'].unique())"
   ]
  },
  {
   "cell_type": "markdown",
   "metadata": {},
   "source": [
    "# 2. Meses transcurridos"
   ]
  },
  {
   "cell_type": "markdown",
   "metadata": {},
   "source": [
    "## a) Formato de la fecha"
   ]
  },
  {
   "cell_type": "code",
   "execution_count": 47,
   "metadata": {},
   "outputs": [],
   "source": [
    "# Convertir mes en número\n",
    "def month_to_int(month):\n",
    "    months = ['ene', 'feb', 'mar', 'abr', 'may', 'jun', 'jul', 'ago', 'sept', 'oct', 'nov', 'dic']\n",
    "    return months.index(month.lower()) + 1\n",
    "\n",
    "# Estandarizar el formato de fecha\n",
    "def standardize_date(date_str):\n",
    "    # Asegurarse de que date_str sea una cadena\n",
    "    date_str = str(date_str)\n",
    "    \n",
    "    # Parsear formato \"7 oct 2023\"\n",
    "    try:\n",
    "        day, month, year = date_str.split(' ')\n",
    "        month_int = month_to_int(month)\n",
    "        return f\"{int(day)} {month} {year}\"\n",
    "    except ValueError:\n",
    "        pass\n",
    "    \n",
    "    # Parsear formato \"07/03/2024\"\n",
    "    try:\n",
    "        day, month, year = date_str.split('/')\n",
    "        months = ['ene', 'feb', 'mar', 'abr', 'may', 'jun', 'jul', 'ago', 'sept', 'oct', 'nov', 'dic']\n",
    "        month_str = months[int(month) - 1]\n",
    "        return f\"{int(day)} {month_str} {year}\"\n",
    "    except ValueError:\n",
    "        pass\n",
    "    \n",
    "    # Si no se puede parsear, devolver el string original \n",
    "    return date_str\n",
    "df['tiempo_de_publicacion'] = df['tiempo_de_publicacion'].apply(standardize_date)\n"
   ]
  },
  {
   "cell_type": "markdown",
   "metadata": {},
   "source": [
    "## b) Cálculo de meses"
   ]
  },
  {
   "cell_type": "markdown",
   "metadata": {},
   "source": [
    "Sacar el número de meses transcurridos desde la fecha de su publicación a la actual al ejecutar este script."
   ]
  },
  {
   "cell_type": "code",
   "execution_count": null,
   "metadata": {},
   "outputs": [],
   "source": [
    "# Función para calcular los meses transcurridos\n",
    "def months_since(date_str, today):\n",
    "    parts = date_str.split()\n",
    "    if len(parts) != 3:\n",
    "        return None  # Return None for invalid date strings\n",
    "    day, month, year = parts\n",
    "    try:\n",
    "        date = datetime(int(year), month_to_int(month), int(day))\n",
    "        delta = today - date\n",
    "        return delta.days // 30  # Approximate months\n",
    "    except ValueError:\n",
    "        return None  # Return None if date conversion fails\n",
    "\n",
    "from datetime import datetime  # Import datetime class from datetime module\n",
    "\n",
    "today = datetime.now()  # Obtener la fecha actual\n",
    "current_date_str = today.strftime('%Y-%m-%d')\n",
    "\n",
    "# Calcular los meses transcurridos, columna con la fecha actual en el nombre\n",
    "new_column_name = f'meses_{current_date_str}'\n",
    "df[new_column_name] = df['tiempo_de_publicacion'].apply(lambda x: months_since(x, today))\n",
    "# Filtrar filas con valores None\n",
    "df = df.dropna(subset=[new_column_name])\n",
    "print(df[['tiempo_de_publicacion', new_column_name]])"
   ]
  },
  {
   "cell_type": "markdown",
   "metadata": {},
   "source": [
    "# 3. Tipo de propiedad"
   ]
  },
  {
   "cell_type": "markdown",
   "metadata": {},
   "source": [
    "## a) Lista de tipos deseados"
   ]
  },
  {
   "cell_type": "code",
   "execution_count": null,
   "metadata": {},
   "outputs": [],
   "source": [
    "# Filtrar los registros según los tipos especificados\n",
    "tipos_permitidos = 'Casa|Casa en Fraccionamiento|Casa en Condominio|Departamento|Penthouse|Dúplex|Loft|Estudio|Condominio Horizontal'\n",
    "df = df[df['tipo'].str.contains(tipos_permitidos, na=False)]\n",
    "df['tipo'].unique()"
   ]
  },
  {
   "cell_type": "markdown",
   "metadata": {},
   "source": [
    "## b) Manejo de terrenos"
   ]
  },
  {
   "cell_type": "markdown",
   "metadata": {},
   "source": [
    "Se buscan los registros que no sean las propiedades si no un solo terreno"
   ]
  },
  {
   "cell_type": "code",
   "execution_count": null,
   "metadata": {},
   "outputs": [],
   "source": [
    "# Filtrar los registros según las condiciones dadas\n",
    "totales =df[df['descripcion'].str.contains('lotes|terreno|Terreno|terrenos|Terrenos', case=False)]\n",
    "\n",
    "# MANEJAR PROCESO DE ELIMINACIÓN \n",
    "for idx, row in totales.iterrows():\n",
    "    print(f\"Registro {idx}:\")\n",
    "    print(row[['url']])#'descripcion',\n",
    "    \n",
    "    print(\"\\n¿Te gustaría eliminar el registro?\")\n",
    "    # Solicitar la opción al usuario\n",
    "    option = input(\"Elige una opción (si / no): \").strip().lower()\n",
    "    \n",
    "    if option == 'si':\n",
    "        df.drop(idx, inplace=True)\n",
    "        print(f\"Registro eliminado.\\n\")\n",
    "    else:\n",
    "        print(f\"Registro conservado.\\n\")\n",
    "        print(\"\\n---\\n\")\n",
    "print(\"Proceso completado.\")"
   ]
  },
  {
   "cell_type": "markdown",
   "metadata": {},
   "source": [
    "# 4. Metros totales"
   ]
  },
  {
   "cell_type": "markdown",
   "metadata": {},
   "source": [
    "## a) Metros en descripción"
   ]
  },
  {
   "cell_type": "code",
   "execution_count": 25,
   "metadata": {},
   "outputs": [],
   "source": [
    "# Función para extraer totales de la descripción\n",
    "def extraer_totales(descripcion):\n",
    "    descripcion = descripcion.lower()\n",
    "    # Buscar patrones de totales\n",
    "    totales = re.findall(r'\\b(\\d+[\\.,]?\\d*)\\s*(metros|totales)\\b', descripcion)\n",
    "    total = None\n",
    "    for match in totales:\n",
    "        numero, _ = match\n",
    "        numero = numero.replace(',', '').replace(\"'\", '')\n",
    "        try:\n",
    "            total = float(numero)\n",
    "        except ValueError:\n",
    "            continue\n",
    "        if total:\n",
    "            break\n",
    "    return total\n",
    "\n",
    "# Aplicar la función al DataFrame\n",
    "df['totales_desc'] = df['descripcion'].apply(extraer_totales)"
   ]
  },
  {
   "cell_type": "markdown",
   "metadata": {},
   "source": [
    "### Comparaciones"
   ]
  },
  {
   "cell_type": "markdown",
   "metadata": {},
   "source": [
    "#### Metros [0 / 0]"
   ]
  },
  {
   "cell_type": "code",
   "execution_count": 26,
   "metadata": {},
   "outputs": [
    {
     "name": "stdout",
     "output_type": "stream",
     "text": [
      "Proceso completado.\n"
     ]
    }
   ],
   "source": [
    "# Filtrar los registros según las condiciones dadas\n",
    "totales = df[( (df['metros_total'] == 0 ) & (df['totales_desc'].isna() | df['totales_desc']==0) )] \n",
    "\n",
    "# Iterar sobre los registros filtrados\n",
    "for idx, row in totales.iterrows():\n",
    "    print(f\"Registro {idx}:\")\n",
    "    print(row[['metros_total', 'totales_desc', 'url']])\n",
    "    print(\"\\n¿Qué acción te gustaría realizar?\")\n",
    "    print(\"1. Sustituir el valor manualmente\")\n",
    "    print(\"2. Sustituir el valor de 'metros_total' por el de 'totales_desc'\")\n",
    "    print(\"3. Pasar al siguiente registro\")\n",
    "\n",
    "    # Solicitar la opción al usuario\n",
    "    option = input(\"Elige una opción (1, 2, 3): \")\n",
    "\n",
    "    if option == '1':\n",
    "        # Sustituir el valor manualmente\n",
    "        new_value = input(\"Introduce el nuevo valor para 'metros_total': \")\n",
    "        df.at[idx, 'metros_total'] = float(new_value)\n",
    "    elif option == '2':\n",
    "        # Sustituir el valor de 'metros_total' por 'totales_desc'\n",
    "        df.at[idx, 'metros_total'] = df.at[idx, 'totales_desc']\n",
    "    elif option == '3':\n",
    "        # Pasar al siguiente registro\n",
    "        continue\n",
    "    else:\n",
    "        print(\"Opción no válida. Pasando al siguiente registro...\")\n",
    "    \n",
    "    print(\"\\n---\\n\")\n",
    "\n",
    "print(\"Proceso completado.\")\n"
   ]
  },
  {
   "cell_type": "markdown",
   "metadata": {},
   "source": [
    "#### Metros [0 / #]"
   ]
  },
  {
   "cell_type": "code",
   "execution_count": 27,
   "metadata": {},
   "outputs": [
    {
     "name": "stdout",
     "output_type": "stream",
     "text": [
      "Proceso completado.\n"
     ]
    }
   ],
   "source": [
    "# Filtrar los registros según las condiciones dadas\n",
    "totales = df[( (df['metros_total'] == 0 ) & (df['totales_desc'].notna()) )] \n",
    "\n",
    "# Iterar sobre los registros filtrados\n",
    "for idx, row in totales.iterrows():\n",
    "    print(f\"Registro {idx}:\")\n",
    "    print(row[['metros_total', 'totales_desc', 'url']])\n",
    "    print(\"\\n¿Qué acción te gustaría realizar?\")\n",
    "    print(\"1. Sustituir el valor manualmente\")\n",
    "    print(\"2. Sustituir el valor de 'metros_total' por el de 'totales_desc'\")\n",
    "    print(\"3. Pasar al siguiente registro\")\n",
    "\n",
    "    # Solicitar la opción al usuario\n",
    "    option = input(\"Elige una opción (1, 2, 3): \")\n",
    "\n",
    "    if option == '1':\n",
    "        # Sustituir el valor manualmente\n",
    "        new_value = input(\"Introduce el nuevo valor para 'metros_total': \")\n",
    "        df.at[idx, 'metros_total'] = float(new_value)\n",
    "    elif option == '2':\n",
    "        # Sustituir el valor de 'metros_total' por 'totales_desc'\n",
    "        df.at[idx, 'metros_total'] = df.at[idx, 'totales_desc']\n",
    "    elif option == '3':\n",
    "        # Pasar al siguiente registro\n",
    "        continue\n",
    "    else:\n",
    "        print(\"Opción no válida. Pasando al siguiente registro...\")\n",
    "    \n",
    "    print(\"\\n---\\n\")\n",
    "\n",
    "print(\"Proceso completado.\")\n"
   ]
  },
  {
   "cell_type": "markdown",
   "metadata": {},
   "source": [
    "#### Metros [# / #]"
   ]
  },
  {
   "cell_type": "code",
   "execution_count": null,
   "metadata": {},
   "outputs": [],
   "source": [
    "# Filtrar los registros según las condiciones dadas\n",
    "totales = df[( ((df['metros_total']!= 0) & (df['totales_desc'].notna())) & (df['metros_total'] != df['totales_desc']) )] \n",
    "\n",
    "# Iterar sobre los registros filtrados\n",
    "for idx, row in totales.iterrows():\n",
    "    print(f\"Registro {idx}:\")\n",
    "    print(f\"metros_total: {row['metros_total']}\")\n",
    "    print(f\"totales_desc: {row['totales_desc']}\")\n",
    "    print(f\"url: {row['url']}\")\n",
    "    \n",
    "    print(\"\\n¿Qué acción te gustaría realizar?\")\n",
    "    print(\"1. Sustituir el valor manualmente\")\n",
    "    print(\"2. Sustituir el valor de 'metros_total' por el de 'totales_desc'\")\n",
    "    print(\"3. Pasar al siguiente registro\")\n",
    "\n",
    "    # Solicitar la opción al usuario\n",
    "    option = input(\"Elige una opción (1, 2, 3): \")\n",
    "\n",
    "    if option == '1':\n",
    "        # Sustituir el valor manualmente\n",
    "        while True:\n",
    "            try:\n",
    "                new_value = float(input(\"Introduce el nuevo valor para 'metros_total': \"))\n",
    "                df.at[idx, 'metros_total'] = new_value\n",
    "                break\n",
    "            except ValueError:\n",
    "                print(\"Por favor, introduce un número válido (entero o decimal).\")\n",
    "    elif option == '2':\n",
    "        # Sustituir el valor de 'metros_total' por 'totales_desc'\n",
    "        df.at[idx, 'metros_total'] = df.at[idx, 'totales_desc']\n",
    "    elif option == '3':\n",
    "        # Pasar al siguiente registro\n",
    "        continue\n",
    "    else:\n",
    "        print(\"Opción no válida. Pasando al siguiente registro...\")\n",
    "    \n",
    "    print(\"\\n---\\n\")\n",
    "\n",
    "print(\"Proceso completado.\")\n"
   ]
  },
  {
   "cell_type": "markdown",
   "metadata": {},
   "source": [
    "## b) Manejo por rangos de UMA"
   ]
  },
  {
   "cell_type": "markdown",
   "metadata": {},
   "source": [
    "Rangos\n",
    "* 118 UMAS = 40m2\n",
    "* 118.1-200 = 50m2\n",
    "* 200.1-350 = 71m2\n",
    "* 350.1-750 = 102m2\n",
    "* 750.1-1500 = 156m2"
   ]
  },
  {
   "cell_type": "markdown",
   "metadata": {},
   "source": [
    "### DF cuando ambas columnas son 0 o vacíos"
   ]
  },
  {
   "cell_type": "code",
   "execution_count": null,
   "metadata": {},
   "outputs": [],
   "source": [
    "# Rangos de UMAs y sus equivalencias en m²\n",
    "umas_to_m2 = [\n",
    "    (118, 40),\n",
    "    (200, 50),\n",
    "    (350, 71),\n",
    "    (750, 102),\n",
    "    (1500, 156)\n",
    "]\n",
    "valor_uma = 108.57\n",
    "\n",
    "# Convertir MXN a UMAs\n",
    "def precio_a_umas(precio, valor_uma):\n",
    "    return precio / valor_uma\n",
    "\n",
    "# Asignar m² basado en el precio en UMAs\n",
    "def asignar_m2(precio_umas):\n",
    "    for upper_bound, m2 in umas_to_m2:\n",
    "        if precio_umas <= upper_bound:\n",
    "            return m2\n",
    "    return None  # En caso de que el precio en UMAs sea mayor al máximo definido\n",
    "\n",
    "# Actualizar los registros con 'metros_total' igual a 0 y 'totales_desc' es NaN\n",
    "def actualizar_metros_total(row):\n",
    "    if row['metros_total'] == 0 and pd.isna(row['totales_desc']):\n",
    "        precio_umas = precio_a_umas(row['precio'], valor_uma)\n",
    "        row['metros_total'] = asignar_m2(precio_umas)\n",
    "    return row\n",
    "\n",
    "df = df.apply(actualizar_metros_total, axis=1)\n",
    "print(df[['metros_total', 'totales_desc', 'url']])"
   ]
  },
  {
   "cell_type": "markdown",
   "metadata": {},
   "source": [
    "# 5. M2 construidos"
   ]
  },
  {
   "cell_type": "markdown",
   "metadata": {},
   "source": [
    "## a) M-construidos en descripción"
   ]
  },
  {
   "cell_type": "code",
   "execution_count": 30,
   "metadata": {},
   "outputs": [],
   "source": [
    "# Función para extraer totales de la descripción\n",
    "def extraer_totales(descripcion):\n",
    "    descripcion = descripcion.lower()\n",
    "    # Buscar patrones de totales\n",
    "    totales = re.findall(r'\\b(\\d+[\\.,]?\\d*)\\s*(metros|construidos)\\b', descripcion)\n",
    "    total = None\n",
    "    for match in totales:\n",
    "        numero, _ = match\n",
    "        numero = numero.replace(',', '').replace(\"'\", '')\n",
    "        try:\n",
    "            total = float(numero)\n",
    "        except ValueError:\n",
    "            continue\n",
    "        if total:\n",
    "            break\n",
    "    return total\n",
    "\n",
    "# Aplicar la función al DataFrame\n",
    "df['construidos_desc'] = df['descripcion'].apply(extraer_totales)"
   ]
  },
  {
   "cell_type": "markdown",
   "metadata": {},
   "source": [
    "### Comparaciones"
   ]
  },
  {
   "cell_type": "markdown",
   "metadata": {},
   "source": [
    "#### Metros [0 / 0]"
   ]
  },
  {
   "cell_type": "code",
   "execution_count": 31,
   "metadata": {},
   "outputs": [
    {
     "name": "stdout",
     "output_type": "stream",
     "text": [
      "Proceso completado.\n"
     ]
    }
   ],
   "source": [
    "# Filtrar los registros según las condiciones dadas\n",
    "totales = df[( (df['metros_construido'] == 0 ) & (df['construidos_desc'].isna() | df['construidos_desc']==0) )] \n",
    "\n",
    "# Iterar sobre los registros filtrados\n",
    "for idx, row in totales.iterrows():\n",
    "    print(f\"Registro {idx}:\")\n",
    "    print(row[['metros_construido', 'construidos_desc', 'url']])\n",
    "    print(\"\\n¿Qué acción te gustaría realizar?\")\n",
    "    print(\"1. Sustituir el valor manualmente\")\n",
    "    print(\"2. Sustituir el valor de 'metros_construido' por el de 'construidos_desc'\")\n",
    "    print(\"3. Pasar al siguiente registro\")\n",
    "\n",
    "    # Solicitar la opción al usuario\n",
    "    option = input(\"Elige una opción (1, 2, 3): \")\n",
    "\n",
    "    if option == '1':\n",
    "        # Sustituir el valor manualmente\n",
    "        new_value = input(\"Introduce el nuevo valor para 'metros_construido': \")\n",
    "        df.at[idx, 'metros_construido'] = float(new_value)\n",
    "    elif option == '2':\n",
    "        # Sustituir el valor de 'metros_construido' por 'construidos_desc'\n",
    "        df.at[idx, 'metros_construido'] = df.at[idx, 'construidos_desc']\n",
    "    elif option == '3':\n",
    "        # Pasar al siguiente registro\n",
    "        continue\n",
    "    else:\n",
    "        print(\"Opción no válida. Pasando al siguiente registro...\")\n",
    "    \n",
    "    print(\"\\n---\\n\")\n",
    "\n",
    "print(\"Proceso completado.\")\n"
   ]
  },
  {
   "cell_type": "markdown",
   "metadata": {},
   "source": [
    "#### Metros [0 / #]"
   ]
  },
  {
   "cell_type": "code",
   "execution_count": 32,
   "metadata": {},
   "outputs": [
    {
     "name": "stdout",
     "output_type": "stream",
     "text": [
      "Proceso completado.\n"
     ]
    }
   ],
   "source": [
    "# Filtrar los registros según las condiciones dadas\n",
    "totales = df[( (df['metros_construido'] == 0 ) & (df['construidos_desc'].notna()) )] \n",
    "\n",
    "# Iterar sobre los registros filtrados\n",
    "for idx, row in totales.iterrows():\n",
    "    print(f\"Registro {idx}:\")\n",
    "    print(row[['metros_construido', 'construidos_desc', 'url']])\n",
    "    print(\"\\n¿Qué acción te gustaría realizar?\")\n",
    "    print(\"1. Sustituir el valor manualmente\")\n",
    "    print(\"2. Sustituir el valor de 'metros_construido' por el de 'construidos_desc'\")\n",
    "    print(\"3. Pasar al siguiente registro\")\n",
    "\n",
    "    # Solicitar la opción al usuario\n",
    "    option = input(\"Elige una opción (1, 2, 3): \")\n",
    "\n",
    "    if option == '1':\n",
    "        # Sustituir el valor manualmente\n",
    "        new_value = input(\"Introduce el nuevo valor para 'metros_construido': \")\n",
    "        df.at[idx, 'metros_construido'] = float(new_value)\n",
    "    elif option == '2':\n",
    "        # Sustituir el valor de 'metros_construido' por 'construidos_desc'\n",
    "        df.at[idx, 'metros_construido'] = df.at[idx, 'construidos_desc']\n",
    "    elif option == '3':\n",
    "        # Pasar al siguiente registro\n",
    "        continue\n",
    "    else:\n",
    "        print(\"Opción no válida. Pasando al siguiente registro...\")\n",
    "    \n",
    "    print(\"\\n---\\n\")\n",
    "\n",
    "print(\"Proceso completado.\")\n"
   ]
  },
  {
   "cell_type": "markdown",
   "metadata": {},
   "source": [
    "#### Metros [# / #]"
   ]
  },
  {
   "cell_type": "code",
   "execution_count": null,
   "metadata": {},
   "outputs": [],
   "source": [
    "# Filtrar los registros según las condiciones dadas\n",
    "totales = df[( ((df['metros_construido']!= 0) & (df['construidos_desc'].notna())) & (df['metros_construido'] != df['construidos_desc']) )] \n",
    "\n",
    "# Iterar sobre los registros filtrados\n",
    "for idx, row in totales.iterrows():\n",
    "    print(f\"Registro {idx}:\")\n",
    "    print(row[['metros_construido', 'construidos_desc', 'url']])\n",
    "    print(\"\\n¿Qué acción te gustaría realizar?\")\n",
    "    print(\"1. Sustituir el valor manualmente\")\n",
    "    print(\"2. Sustituir el valor de 'metros_construido' por el de 'construidos_desc'\")\n",
    "    print(\"3. Pasar al siguiente registro\")\n",
    "\n",
    "    # Solicitar la opción al usuario\n",
    "    option = input(\"Elige una opción (1, 2, 3): \")\n",
    "\n",
    "    if option == '1':\n",
    "        # Sustituir el valor manualmente\n",
    "        new_value = input(\"Introduce el nuevo valor para 'metros_construido': \")\n",
    "        try:\n",
    "            df.at[idx, 'metros_construido'] = float(new_value)\n",
    "        except ValueError:\n",
    "            print(\"Valor no válido. Debe ser un número. Pasando al siguiente registro...\")\n",
    "    elif option == '2':\n",
    "        # Sustituir el valor de 'metros_construido' por 'construidos_desc'\n",
    "        df.at[idx, 'metros_construido'] = df.at[idx, 'construidos_desc']\n",
    "    elif option == '3':\n",
    "        # Pasar al siguiente registro\n",
    "        continue\n",
    "    else:\n",
    "        print(\"Opción no válida. Pasando al siguiente registro...\")\n",
    "    \n",
    "    print(\"\\n---\\n\")\n",
    "\n",
    "print(\"Proceso completado.\")\n"
   ]
  },
  {
   "cell_type": "markdown",
   "metadata": {},
   "source": [
    "# 6. Precio / m2"
   ]
  },
  {
   "cell_type": "markdown",
   "metadata": {},
   "source": [
    "## M2 Totales (terreno)"
   ]
  },
  {
   "cell_type": "code",
   "execution_count": 34,
   "metadata": {},
   "outputs": [],
   "source": [
    "# Calcular precio por metro cuadrado del terreno\n",
    "df['precio_m2_terreno'] = df['precio']/df['metros_total']"
   ]
  },
  {
   "cell_type": "markdown",
   "metadata": {},
   "source": [
    "## M2 Construidos"
   ]
  },
  {
   "cell_type": "code",
   "execution_count": 35,
   "metadata": {},
   "outputs": [],
   "source": [
    "# Calcular precio por metro cuadrado de la cosntrucción\n",
    "df['precio_m2_construido'] = df['precio']/df['metros_construido']"
   ]
  },
  {
   "cell_type": "markdown",
   "metadata": {},
   "source": [
    "# 7. Estacionamientos"
   ]
  },
  {
   "cell_type": "markdown",
   "metadata": {},
   "source": [
    "## a) Estacionamientos descritos"
   ]
  },
  {
   "cell_type": "code",
   "execution_count": 36,
   "metadata": {},
   "outputs": [],
   "source": [
    "# Función para extraer estacionamientos de la descripción\n",
    "def extraer_coches(descripcion):\n",
    "    descripcion = descripcion.lower()\n",
    "    # Buscar patrones de totales\n",
    "    totales = re.findall(r'\\b(\\d+[\\.,]?\\d*)\\s*(|cochera|garage|carros|carro|coche|coches|autos|automóviles|automóvil|auto|lugares de estacionamiento)\\b', descripcion)\n",
    "    total = None\n",
    "    for match in totales:\n",
    "        numero, _ = match\n",
    "        numero = numero.replace(',', '').replace(\"'\", '').replace('.','')\n",
    "        try:\n",
    "            total = float(numero)\n",
    "        except ValueError:\n",
    "            continue\n",
    "        if total:\n",
    "            break\n",
    "    return total\n",
    "\n",
    "# Aplicar la función al DataFrame\n",
    "df['estacionamiento_desc'] = df['descripcion'].apply(extraer_coches)"
   ]
  },
  {
   "cell_type": "markdown",
   "metadata": {},
   "source": [
    "### Estacionamientos [0 / 0]"
   ]
  },
  {
   "cell_type": "code",
   "execution_count": 38,
   "metadata": {},
   "outputs": [
    {
     "name": "stdout",
     "output_type": "stream",
     "text": [
      "Proceso completado.\n"
     ]
    }
   ],
   "source": [
    "# Filtrar los registros según las condiciones dadas\n",
    "totales = df[( (df['estacionamientos']==0) & (df['estacionamiento_desc'].isna()) )] \n",
    "\n",
    "# Iterar sobre los registros filtrados\n",
    "for idx, row in totales.iterrows():\n",
    "    print(f\"Registro {idx}:\")\n",
    "    print(row[['url']])\n",
    "    print(\"\\n¿Qué acción te gustaría realizar?\")\n",
    "    print(\"1. Sustituir el valor manualmente\")\n",
    "    print(\"2. Pasar al siguiente registro\")\n",
    "\n",
    "    # Solicitar la opción al usuario\n",
    "    option = input(\"Elige una opción (1 | 2): \")\n",
    "\n",
    "    if option == '1':\n",
    "        # Sustituir el valor manualmente\n",
    "        new_value = input(\"Introduce el nuevo valor para 'estacionamientos': \")\n",
    "        df.at[idx, 'estacionamientos'] = float(new_value)    \n",
    "    elif option == '2':\n",
    "        # Pasar al siguiente registro\n",
    "        continue\n",
    "    else:\n",
    "        print(\"Opción no válida. Pasando al siguiente registro...\")\n",
    "    \n",
    "    print(\"\\n---\\n\")\n",
    "\n",
    "print(\"Proceso completado.\")\n"
   ]
  },
  {
   "cell_type": "markdown",
   "metadata": {},
   "source": [
    "### Estacionamientos [0 / #]"
   ]
  },
  {
   "cell_type": "code",
   "execution_count": 39,
   "metadata": {},
   "outputs": [
    {
     "name": "stdout",
     "output_type": "stream",
     "text": [
      "Proceso completado.\n"
     ]
    }
   ],
   "source": [
    "# Filtrar los registros según las condiciones dadas\n",
    "totales = df[( (df['estacionamientos']==0) & (df['estacionamiento_desc'].notna()) )] \n",
    "\n",
    "# Iterar sobre los registros filtrados\n",
    "for idx, row in totales.iterrows():\n",
    "    print(f\"Registro {idx}:\")\n",
    "    print(row[['estacionamientos', 'estacionamiento_desc', 'url']])\n",
    "    print(\"\\n¿Qué acción te gustaría realizar?\")\n",
    "    print(\"1. Sustituir el valor manualmente\")\n",
    "    print(\"2. Sustituir el valor de 'estacionamientos' por el de 'estacionamiento_desc'\")\n",
    "    print(\"3. Pasar al siguiente registro\")\n",
    "\n",
    "    # Solicitar la opción al usuario\n",
    "    option = input(\"Elige una opción (1, 2, 3): \")\n",
    "\n",
    "    if option == '1':\n",
    "        # Sustituir el valor manualmente\n",
    "        new_value = input(\"Introduce el nuevo valor para 'estacionamientos': \")\n",
    "        df.at[idx, 'estacionamientos'] = float(new_value)\n",
    "    elif option == '2':\n",
    "        # Sustituir el valor de 'metros_total' por 'totales_desc'\n",
    "        df.at[idx, 'estacionamientos'] = df.at[idx, 'estacionamiento_desc']\n",
    "    elif option == '3':\n",
    "        # Pasar al siguiente registro\n",
    "        continue\n",
    "    else:\n",
    "        print(\"Opción no válida. Pasando al siguiente registro...\")\n",
    "    \n",
    "    print(\"\\n---\\n\")\n",
    "\n",
    "print(\"Proceso completado.\")\n"
   ]
  },
  {
   "cell_type": "markdown",
   "metadata": {},
   "source": [
    "### Estacionamientos [# / #]"
   ]
  },
  {
   "cell_type": "code",
   "execution_count": null,
   "metadata": {},
   "outputs": [],
   "source": [
    "# Filtrar los registros según las condiciones dadas\n",
    "totales = df[( ((df['estacionamientos']!=0) & (df['estacionamiento_desc'].notna())) & (df['estacionamientos'] != df['estacionamiento_desc']) )] \n",
    "\n",
    "# Iterar sobre los registros filtrados\n",
    "for idx, row in totales.iterrows():\n",
    "    print(f\"Registro {idx}:\")\n",
    "    print(row[['estacionamientos', 'estacionamiento_desc', 'url']])\n",
    "    print(\"\\n¿Qué acción te gustaría realizar?\")\n",
    "    print(\"1. Sustituir el valor manualmente\")\n",
    "    print(\"2. Sustituir el valor de 'estacionamientos' por el de 'estacionamiento_desc'\")\n",
    "    print(\"3. Pasar al siguiente registro\")\n",
    "\n",
    "    # Solicitar la opción al usuario\n",
    "    option = input(\"Elige una opción (1, 2, 3): \")\n",
    "\n",
    "    if option == '1':\n",
    "        # Sustituir el valor manualmente\n",
    "        new_value = input(\"Introduce el nuevo valor para 'estacionamientos': \")\n",
    "        df.at[idx, 'estacionamientos'] = float(new_value)\n",
    "    elif option == '2':\n",
    "        # Sustituir el valor de 'metros_total' por 'totales_desc'\n",
    "        df.at[idx, 'estacionamientos'] = df.at[idx, 'estacionamiento_desc']\n",
    "    elif option == '3':\n",
    "        # Pasar al siguiente registro\n",
    "        continue\n",
    "    else:\n",
    "        print(\"Opción no válida. Pasando al siguiente registro...\")\n",
    "    \n",
    "    print(\"\\n---\\n\")\n",
    "\n",
    "print(\"Proceso completado.\")\n"
   ]
  },
  {
   "cell_type": "markdown",
   "metadata": {},
   "source": [
    "## b) Mantener rango de estacionamientos < 5 (mínimo 1)"
   ]
  },
  {
   "cell_type": "code",
   "execution_count": null,
   "metadata": {},
   "outputs": [],
   "source": [
    "df_filtrado = df[df['estacionamientos'] <= 5]\n",
    "df_filtrado[['estacionamientos','estacionamiento_desc','url']]"
   ]
  },
  {
   "cell_type": "code",
   "execution_count": null,
   "metadata": {},
   "outputs": [],
   "source": [
    "df = df[df['estacionamientos'] <= 5]"
   ]
  },
  {
   "cell_type": "markdown",
   "metadata": {},
   "source": [
    "# 8. Recámaras"
   ]
  },
  {
   "cell_type": "markdown",
   "metadata": {},
   "source": [
    "## a) Recámaras en descripción"
   ]
  },
  {
   "cell_type": "code",
   "execution_count": 59,
   "metadata": {},
   "outputs": [],
   "source": [
    "# Función para extraer cantidad de recamaras en descripción\n",
    "def extraer_recamaras(descripcion):\n",
    "    descripcion = descripcion.lower()\n",
    "    # Buscar patrones de totales\n",
    "    totales = re.findall(r'\\b(\\d+[\\.,]?\\d*)\\s*(recamara|recamaras|habitaciones|dormitorio|dormitorios)\\b', descripcion)\n",
    "    total = None\n",
    "    for match in totales:\n",
    "        numero, _ = match\n",
    "        numero = numero.replace(',', '').replace(\"'\", '')\n",
    "        try:\n",
    "            total = float(numero)\n",
    "        except ValueError:\n",
    "            continue\n",
    "        if total:\n",
    "            break\n",
    "    return total\n",
    "\n",
    "# Aplicar la función al DataFrame\n",
    "df['recamaras_desc'] = df['descripcion'].apply(extraer_recamaras)"
   ]
  },
  {
   "cell_type": "markdown",
   "metadata": {},
   "source": [
    "### Comparaciones"
   ]
  },
  {
   "cell_type": "markdown",
   "metadata": {},
   "source": [
    "#### Recámaras [0 / 0]"
   ]
  },
  {
   "cell_type": "code",
   "execution_count": 53,
   "metadata": {},
   "outputs": [
    {
     "name": "stdout",
     "output_type": "stream",
     "text": [
      "Proceso completado.\n"
     ]
    }
   ],
   "source": [
    "# Filtrar los registros según las condiciones dadas\n",
    "totales = df[ (df['recamaras'] == 0 ) & (df['recamaras_desc'].isna()) ] \n",
    "\n",
    "# Iterar sobre los registros filtrados\n",
    "for idx, row in totales.iterrows():\n",
    "    print(f\"Registro {idx}:\")\n",
    "    print(row[['url']])\n",
    "    print(\"\\n¿Qué acción te gustaría realizar?\")\n",
    "    print(\"1. Sustituir el valor manualmente\")\n",
    "    print(\"2. Pasar al siguiente registro\")\n",
    "\n",
    "    # Solicitar la opción al usuario\n",
    "    option = input(\"Elige una opción (1 | 2): \")\n",
    "\n",
    "    if option == '1':\n",
    "        # Sustituir el valor manualmente\n",
    "        new_value = input(\"Introduce el nuevo valor para 'recamaras': \")\n",
    "        df.at[idx, 'recamaras'] = float(new_value)\n",
    "    elif option == '2':\n",
    "        # Pasar al siguiente registro\n",
    "        continue\n",
    "    else:\n",
    "        print(\"Opción no válida. Pasando al siguiente registro...\")\n",
    "    \n",
    "    print(\"\\n---\\n\")\n",
    "\n",
    "print(\"Proceso completado.\")"
   ]
  },
  {
   "cell_type": "markdown",
   "metadata": {},
   "source": [
    "#### Recámaras [0 / #]"
   ]
  },
  {
   "cell_type": "code",
   "execution_count": 54,
   "metadata": {},
   "outputs": [
    {
     "name": "stdout",
     "output_type": "stream",
     "text": [
      "Proceso completado.\n"
     ]
    }
   ],
   "source": [
    "# Filtrar los registros según las condiciones dadas\n",
    "totales = df[( (df['recamaras']==0) & (df['recamaras_desc'].notna()) )] \n",
    "\n",
    "# Iterar sobre los registros filtrados\n",
    "for idx, row in totales.iterrows():\n",
    "    print(f\"Registro {idx}:\")\n",
    "    print(row[['recamaras', 'recamaras_desc', 'url']])\n",
    "    print(\"\\n¿Qué acción te gustaría realizar?\")\n",
    "    print(\"1. Sustituir el valor manualmente\")\n",
    "    print(\"2. Sustituir el valor de 'recamaras' por el de 'recamaras_desc'\")\n",
    "    print(\"3. Pasar al siguiente registro\")\n",
    "\n",
    "    # Solicitar la opción al usuario\n",
    "    option = input(\"Elige una opción (1, 2, 3): \")\n",
    "\n",
    "    if option == '1':\n",
    "        # Sustituir el valor manualmente\n",
    "        new_value = input(\"Introduce el nuevo valor para 'recamaras': \")\n",
    "        df.at[idx, 'recamaras'] = float(new_value)\n",
    "    elif option == '2':\n",
    "        # Sustituir el valor de 'metros_total' por 'totales_desc'\n",
    "        df.at[idx, 'recamaras'] = df.at[idx, 'recamaras_desc']\n",
    "    elif option == '3':\n",
    "        # Pasar al siguiente registro\n",
    "        continue\n",
    "    else:\n",
    "        print(\"Opción no válida. Pasando al siguiente registro...\")\n",
    "    \n",
    "    print(\"\\n---\\n\")\n",
    "\n",
    "print(\"Proceso completado.\")\n"
   ]
  },
  {
   "cell_type": "markdown",
   "metadata": {},
   "source": [
    "#### Recámaras [# / #]"
   ]
  },
  {
   "cell_type": "code",
   "execution_count": null,
   "metadata": {},
   "outputs": [],
   "source": [
    "# Filtrar los registros según las condiciones dadas\n",
    "totales = df[( (df['recamaras']!=0) & (df['recamaras_desc'].notna()) ) & (df['recamaras'] != df['recamaras_desc'])] \n",
    "\n",
    "# Iterar sobre los registros filtrados\n",
    "for idx, row in totales.iterrows():\n",
    "    print(f\"Registro {idx}:\")\n",
    "    print(row[['recamaras', 'recamaras_desc', 'url']])\n",
    "    print(\"\\n¿Qué acción te gustaría realizar?\")\n",
    "    print(\"1. Sustituir el valor manualmente\")\n",
    "    print(\"2. Sustituir el valor de 'recamaras' por el de 'recamaras_desc'\")\n",
    "    print(\"3. Pasar al siguiente registro\")\n",
    "\n",
    "    # Solicitar la opción al usuario\n",
    "    option = input(\"Elige una opción (1, 2, 3): \")\n",
    "\n",
    "    if option == '1':\n",
    "        # Sustituir el valor manualmente\n",
    "        new_value = input(\"Introduce el nuevo valor para 'recamaras': \")\n",
    "        df.at[idx, 'recamaras'] = float(new_value)\n",
    "    elif option == '2':\n",
    "        # Sustituir el valor de 'metros_total' por 'totales_desc'\n",
    "        df.at[idx, 'recamaras'] = df.at[idx, 'recamaras_desc']\n",
    "    elif option == '3':\n",
    "        # Pasar al siguiente registro\n",
    "        continue\n",
    "    else:\n",
    "        print(\"Opción no válida. Pasando al siguiente registro...\")\n",
    "    \n",
    "    print(\"\\n---\\n\")\n",
    "\n",
    "print(\"Proceso completado.\")\n"
   ]
  },
  {
   "cell_type": "markdown",
   "metadata": {},
   "source": [
    "## b) Mantener rango de recámaras <= 7 "
   ]
  },
  {
   "cell_type": "code",
   "execution_count": null,
   "metadata": {},
   "outputs": [],
   "source": [
    "df['recamaras'].unique()"
   ]
  },
  {
   "cell_type": "code",
   "execution_count": null,
   "metadata": {},
   "outputs": [],
   "source": [
    "dentro = df[(df['recamaras'] <= 7)] \n",
    "print(dentro[['recamaras','recamaras_desc','url']])"
   ]
  },
  {
   "cell_type": "markdown",
   "metadata": {},
   "source": [
    "# 9. Baños"
   ]
  },
  {
   "cell_type": "markdown",
   "metadata": {},
   "source": [
    "## a) Baños en descripción"
   ]
  },
  {
   "cell_type": "markdown",
   "metadata": {},
   "source": [
    "Manejando tanto los completos como los medios"
   ]
  },
  {
   "cell_type": "code",
   "execution_count": 61,
   "metadata": {},
   "outputs": [],
   "source": [
    "# Extraer la cantidad de baños y medios baños en la descripción\n",
    "def extraer_baños(descripcion):\n",
    "    descripcion = descripcion.lower()\n",
    "    \n",
    "    # Buscar patrones de baños completos\n",
    "    completos = re.findall(r'\\b(\\d+[\\.,]?\\d*)\\s*baños?\\b', descripcion)\n",
    "    total_completos = sum([float(match.replace(',', '').replace(\"'\", '')) for match in completos])\n",
    "    \n",
    "    # Buscar patrones de medios baños (1/2 baño)\n",
    "    medios = re.findall(r'\\b(\\d+[\\.,]?\\d*)\\s*medios?\\s*baños?\\b', descripcion)\n",
    "    total_medios = sum([float(match.replace(',', '').replace(\"'\", '')) for match in medios])\n",
    "    \n",
    "    # Retornar como un diccionario o una tupla\n",
    "    return {'completos': total_completos, 'medios': total_medios}\n",
    "\n",
    "# Aplicar la función al DataFrame\n",
    "df['baños_desc'] = df['descripcion'].apply(extraer_baños)\n",
    "\n",
    "# Si deseas separar en dos columnas distintas:\n",
    "df['baños_completos'] = df['baños_desc'].apply(lambda x: x['completos'] if x else 0)\n",
    "df['medios_baños'] = df['baños_desc'].apply(lambda x: x['medios'] if x else 0)"
   ]
  },
  {
   "cell_type": "markdown",
   "metadata": {},
   "source": [
    "### Baños"
   ]
  },
  {
   "cell_type": "markdown",
   "metadata": {},
   "source": [
    "#### [0 / 0]"
   ]
  },
  {
   "cell_type": "markdown",
   "metadata": {},
   "source": [
    "Poner como mínimo para el registro 1 en baños, pero si cuenta con medio baño en descripción que se le asigne ese valor."
   ]
  },
  {
   "cell_type": "code",
   "execution_count": 62,
   "metadata": {},
   "outputs": [
    {
     "name": "stdout",
     "output_type": "stream",
     "text": [
      "Proceso completado.\n"
     ]
    }
   ],
   "source": [
    "# Filtrar los registros según las condiciones dadas\n",
    "totales = df[(df['banos'] == 0) & (df['baños_completos'].isna())]\n",
    "\n",
    "# Iterar sobre los registros filtrados\n",
    "for idx, row in totales.iterrows():\n",
    "    print(f\"Registro {idx}:\")\n",
    "    print(row[['url']])\n",
    "    print(\"\\n¿Qué acción te gustaría realizar?\")\n",
    "    print(\"1. Sustituir el valor manualmente\")\n",
    "    #print(\"2. Asignar 1 como mínimo y pasar al siguiente registro\")\n",
    "    print(\"2. Pasar al siguiente registro\")\n",
    "\n",
    "    # Solicitar la opción al usuario\n",
    "    option = input(\"Elige una opción (1 | 2): \")\n",
    "\n",
    "    if option == '1':\n",
    "        # Sustituir el valor manualmente\n",
    "        new_value = input(\"Introduce el nuevo valor para 'banos': \")\n",
    "        df.at[idx, 'banos'] = float(new_value)\n",
    "    #elif option == '2':\n",
    "        # Asignar valor de 1 como mínimo\n",
    "        #df.at[idx, 'banos'] = 1\n",
    "        #continue  # Pasar al siguiente registro\n",
    "    else:\n",
    "        continue  # Pasar al siguiente registro\n",
    "\n",
    "    print(\"\\n---\\n\")\n",
    "\n",
    "print(\"Proceso completado.\")"
   ]
  },
  {
   "cell_type": "markdown",
   "metadata": {},
   "source": [
    "#### [0 / #]"
   ]
  },
  {
   "cell_type": "code",
   "execution_count": null,
   "metadata": {},
   "outputs": [],
   "source": [
    "# Filtrar los registros según las condiciones dadas\n",
    "totales = df[( (df['banos']==0) & (df['baños_completos'].notna()) )] \n",
    "\n",
    "# Iterar sobre los registros filtrados\n",
    "for idx, row in totales.iterrows():\n",
    "    print(f\"Registro {idx}:\")\n",
    "    print(row[['banos']])\n",
    "    print(row[['baños_completos']])\n",
    "    print(row[['url']])\n",
    "    print(\"\\n¿Qué acción te gustaría realizar?\")\n",
    "    print(\"1. Sustituir el valor manualmente\")\n",
    "    print(\"2. Sustituir el valor de 'banos' por el de 'baños_completos'\")\n",
    "    #print(\"3. Asignar 1 como mínimo y pasar al siguiente registro\")\n",
    "    print(\"3. Pasar al siguiente registro\")\n",
    "\n",
    "    # Solicitar la opción al usuario\n",
    "    option = input(\"Elige una opción (1 | 2 | 3): \")\n",
    "\n",
    "    if option == '1':\n",
    "        # Sustituir el valor manualmente\n",
    "        new_value = input(\"Introduce el nuevo valor para 'banos': \")\n",
    "        df.at[idx, 'banos'] = float(new_value)\n",
    "    elif option == '2':\n",
    "        # Sustituir el valor de 'banos' por 'baños_completos'\n",
    "        df.at[idx, 'banos'] = df.at[idx, 'baños_completos']\n",
    "    #elif option == '3':\n",
    "        # Asignar valor de 1 como mínimo\n",
    "        #df.at[idx, 'banos'] = 1\n",
    "        #continue  # Pasar al siguiente registro\n",
    "    else:\n",
    "        continue  # Pasar al siguiente registro\n",
    "\n",
    "    print(\"\\n---\\n\")\n",
    "\n",
    "print(\"Proceso completado.\")"
   ]
  },
  {
   "cell_type": "markdown",
   "metadata": {},
   "source": [
    "#### [# / #]"
   ]
  },
  {
   "cell_type": "code",
   "execution_count": null,
   "metadata": {},
   "outputs": [],
   "source": [
    "# Filtrar los registros según las condiciones dadas\n",
    "totales = df[( ((df['banos']!=0) & (df['baños_completos'].notna())) & (df['banos'] != df['baños_completos']))] \n",
    "\n",
    "# Iterar sobre los registros filtrados\n",
    "for idx, row in totales.iterrows():\n",
    "    print(f\"Registro {idx}:\")\n",
    "    print(row[['banos']])\n",
    "    print(row[['baños_completos']])    \n",
    "    print(row[['url']])\n",
    "    \n",
    "    print(\"\\n¿Qué acción te gustaría realizar?\")\n",
    "    print(\"1. Sustituir el valor manualmente\")\n",
    "    print(\"2. Sustituir el valor de 'banos' por el de 'baños_completos'\")\n",
    "    #print(\"3. Asignar 1 como mínimo y pasar al siguiente registro\")\n",
    "    print(\"3. Pasar al siguiente registro\")\n",
    "\n",
    "    # Solicitar la opción al usuario\n",
    "    option = input(\"Elige una opción (1 | 2 | 3): \")\n",
    "\n",
    "    if option == '1':\n",
    "        # Sustituir el valor manualmente\n",
    "        new_value = input(\"Introduce el nuevo valor para 'banos': \")\n",
    "        df.at[idx, 'banos'] = float(new_value)\n",
    "    elif option == '2':\n",
    "        # Sustituir el valor de 'banos' por 'baños_completos'\n",
    "        df.at[idx, 'banos'] = df.at[idx, 'baños_completos']\n",
    "    #elif option == '3':\n",
    "        # Asignar valor de 1 como mínimo\n",
    "        #df.at[idx, 'banos'] = 1\n",
    "        #continue  # Pasar al siguiente registro\n",
    "    else:\n",
    "        continue  # Pasar al siguiente registro\n",
    "\n",
    "    print(\"\\n---\\n\")\n",
    "\n",
    "print(\"Proceso completado.\")"
   ]
  },
  {
   "cell_type": "markdown",
   "metadata": {},
   "source": [
    "### Medio baños"
   ]
  },
  {
   "cell_type": "markdown",
   "metadata": {},
   "source": [
    "#### [0 / 0]"
   ]
  },
  {
   "cell_type": "markdown",
   "metadata": {},
   "source": [
    "Poner como mínimo para el registro 1 en baños, pero si cuenta con valor en descripción que se le asigne ese valor."
   ]
  },
  {
   "cell_type": "code",
   "execution_count": null,
   "metadata": {},
   "outputs": [],
   "source": [
    "# Filtrar los registros según las condiciones dadas\n",
    "totales = df[(df['medio_baños'] == 0) & (df['medios_baños'].isna())]\n",
    "\n",
    "# Iterar sobre los registros filtrados\n",
    "for idx, row in totales.iterrows():\n",
    "    print(f\"Registro {idx}:\")\n",
    "    print(row[['url']])\n",
    "    print(\"\\n¿Qué acción te gustaría realizar?\")\n",
    "    print(\"1. Sustituir el valor manualmente\")\n",
    "    #print(\"2. Asignar 1 como mínimo y pasar al siguiente registro\")\n",
    "    print(\"2. Pasar al siguiente registro\")\n",
    "\n",
    "    # Solicitar la opción al usuario\n",
    "    option = input(\"Elige una opción (1 | 2): \")\n",
    "\n",
    "    if option == '1':\n",
    "        # Sustituir el valor manualmente\n",
    "        new_value = input(\"Introduce el nuevo valor para 'banos': \")\n",
    "        df.at[idx, 'banos'] = float(new_value)\n",
    "    #elif option == '2':\n",
    "        # Asignar valor de 1 como mínimo\n",
    "        #df.at[idx, 'banos'] = 1\n",
    "        #continue  # Pasar al siguiente registro\n",
    "    else:\n",
    "        continue  # Pasar al siguiente registro\n",
    "\n",
    "    print(\"\\n---\\n\")\n",
    "\n",
    "print(\"Proceso completado.\")"
   ]
  },
  {
   "cell_type": "markdown",
   "metadata": {},
   "source": [
    "#### [0 / #]"
   ]
  },
  {
   "cell_type": "code",
   "execution_count": null,
   "metadata": {},
   "outputs": [],
   "source": [
    "# Filtrar los registros según las condiciones dadas\n",
    "totales = df[( (df['medio_baños']==0) & (df['medios_baños'].notna()) )] \n",
    "\n",
    "# Iterar sobre los registros filtrados\n",
    "for idx, row in totales.iterrows():\n",
    "    print(f\"Registro {idx}:\")\n",
    "    print(row[['url']])\n",
    "    print(\"\\n¿Qué acción te gustaría realizar?\")\n",
    "    print(\"1. Sustituir el valor manualmente\")\n",
    "    print(\"2. Sustituir el valor de 'medio_baños' por el de 'medios_baños'\")\n",
    "    #print(\"3. Asignar 1 como mínimo y pasar al siguiente registro\")\n",
    "    print(\"3. Pasar al siguiente registro\")\n",
    "\n",
    "    # Solicitar la opción al usuario\n",
    "    option = input(\"Elige una opción (1 | 2 | 3): \")\n",
    "\n",
    "    if option == '1':\n",
    "        # Sustituir el valor manualmente\n",
    "        new_value = input(\"Introduce el nuevo valor para 'medio_baños': \")\n",
    "        df.at[idx, 'medio_baños'] = float(new_value)\n",
    "    elif option == '2':\n",
    "        # Sustituir el valor de 'medio_baños' por 'medios_baños'\n",
    "        df.at[idx, 'medio_baños'] = df.at[idx, 'medios_baños']\n",
    "    #elif option == '3':\n",
    "        # Asignar valor de 1 como mínimo\n",
    "        #df.at[idx, 'medio_baños'] = 1\n",
    "        #continue  # Pasar al siguiente registro\n",
    "    else:\n",
    "        continue  # Pasar al siguiente registro\n",
    "\n",
    "    print(\"\\n---\\n\")\n",
    "\n",
    "print(\"Proceso completado.\")"
   ]
  },
  {
   "cell_type": "markdown",
   "metadata": {},
   "source": [
    "#### [# / #]"
   ]
  },
  {
   "cell_type": "code",
   "execution_count": null,
   "metadata": {},
   "outputs": [],
   "source": [
    "# Filtrar los registros según las condiciones dadas\n",
    "totales = df[( ((df['medio_baños']!=0) & (df['medios_baños'].notna())) & (df['medio_baños'] != df['medios_baños']))] \n",
    "\n",
    "# Iterar sobre los registros filtrados\n",
    "for idx, row in totales.iterrows():\n",
    "    print(f\"Registro {idx}:\")\n",
    "    print(row[['url']])\n",
    "    print(\"\\n¿Qué acción te gustaría realizar?\")\n",
    "    print(\"1. Sustituir el valor manualmente\")\n",
    "    print(\"2. Sustituir el valor de 'medio_baños' por el de 'medios_baños'\")\n",
    "    #print(\"3. Asignar 1 como mínimo y pasar al siguiente registro\")\n",
    "    print(\"3. Pasar al siguiente registro\")\n",
    "\n",
    "    # Solicitar la opción al usuario\n",
    "    option = input(\"Elige una opción (1 | 2 | 3): \")\n",
    "\n",
    "    if option == '1':\n",
    "        # Sustituir el valor manualmente\n",
    "        new_value = input(\"Introduce el nuevo valor para 'medio_baños': \")\n",
    "        df.at[idx, 'medio_baños'] = float(new_value)\n",
    "    elif option == '2':\n",
    "        # Sustituir el valor de 'medio_baños' por 'medios_baños'\n",
    "        df.at[idx, 'medio_baños'] = df.at[idx, 'medios_baños']\n",
    "    #elif option == '3':\n",
    "        # Asignar valor de 1 como mínimo\n",
    "        #df.at[idx, 'medio_baños'] = 1\n",
    "        #continue  # Pasar al siguiente registro\n",
    "    else:\n",
    "        continue  # Pasar al siguiente registro\n",
    "\n",
    "    print(\"\\n---\\n\")\n",
    "\n",
    "print(\"Proceso completado.\")"
   ]
  },
  {
   "cell_type": "markdown",
   "metadata": {},
   "source": [
    "### B) Total de baños"
   ]
  },
  {
   "cell_type": "code",
   "execution_count": null,
   "metadata": {},
   "outputs": [],
   "source": [
    "# Make the medio_baños and banos sum\n",
    "# 'medio_baños', divididos entre 2 para representar medios\n",
    "df['bano_total'] = df['banos'] + (df['medio_baños'] / 2)\n",
    "df['bano_total'] = df['banos_totales'].round(1)\n",
    "print(df[['banos', 'medio_baños', 'bano_total']].head())"
   ]
  },
  {
   "cell_type": "markdown",
   "metadata": {},
   "source": [
    "# 10. Ubicación"
   ]
  },
  {
   "cell_type": "markdown",
   "metadata": {},
   "source": [
    "## a) Desde descripción\n",
    "#### Todavía en espera de estructura de código"
   ]
  },
  {
   "cell_type": "markdown",
   "metadata": {},
   "source": [
    "## b) Separación"
   ]
  },
  {
   "cell_type": "markdown",
   "metadata": {},
   "source": [
    "Se divide la ubicación por \n",
    "* Colonia\n",
    "* Municipio\n",
    "* Estado"
   ]
  },
  {
   "cell_type": "code",
   "execution_count": null,
   "metadata": {},
   "outputs": [],
   "source": [
    "df[['Colonia', 'Municipio', 'Estado']] = df['ubicacion'].str.split(',', expand=True)\n",
    "\n",
    "# Limpiar espacios en blanco alrededor de los valores resultantes\n",
    "df['Colonia'] = df['Colonia'].str.strip()\n",
    "df['Municipio'] = df['Municipio'].str.strip()\n",
    "df['Estado'] = df['Estado'].str.strip()\n",
    "\n",
    "# Sustituir NaN con valores específicos según la columna\n",
    "df['Colonia'] = df['Colonia'].fillna('Sin_colonia')\n",
    "df['Municipio'] = df['Municipio'].fillna('Sin_municipio')\n",
    "df['Estado'] = df['Estado'].fillna('Sin_estado')\n",
    "\n",
    "df[['ubicacion','Colonia','Municipio','Estado',]]"
   ]
  },
  {
   "cell_type": "code",
   "execution_count": null,
   "metadata": {},
   "outputs": [],
   "source": [
    "df['Colonia'].unique()"
   ]
  },
  {
   "cell_type": "markdown",
   "metadata": {},
   "source": [
    "## c) Estandarizar valores Colonia"
   ]
  },
  {
   "cell_type": "code",
   "execution_count": 43,
   "metadata": {},
   "outputs": [],
   "source": [
    "# Convierte todos los valores a strings, maneja NaN o None como cadenas vacías\n",
    "df['Colonia'] = df['Colonia'].astype(str)\n",
    "# Convertir a minúsculas\n",
    "df['Colonia'] = df['Colonia'].str.lower()\n",
    "\n",
    "import unicodedata# Función para eliminar acentos\n",
    "def eliminar_acentos(texto):\n",
    "    # Normaliza y elimina los acentos\n",
    "    texto_normalizado = unicodedata.normalize('NFKD', texto)\n",
    "    return ''.join(char for char in texto_normalizado if unicodedata.category(char) != 'Mn')\n",
    "\n",
    "# Aplicar la función de eliminación de acentos\n",
    "df['Colonia'] = df['Colonia'].apply(eliminar_acentos)\n",
    "\n",
    "# Reemplazar Ñ\n",
    "df['Colonia'] = df['Colonia'].str.replace('ñ', 'n')\n",
    "df['Colonia'] = df['Colonia'].str.replace(r'[^a-zA-Z0-9\\s]', '', regex=True)"
   ]
  },
  {
   "cell_type": "markdown",
   "metadata": {},
   "source": [
    "## d) Mapeo de CP por Excel"
   ]
  },
  {
   "cell_type": "code",
   "execution_count": null,
   "metadata": {},
   "outputs": [],
   "source": [
    "# Cargar todas las hojas del archivo Excel en un diccionario de DataFrames\n",
    "ruta_excel = 'D:\\yoe11\\Documents\\TESEO\\Modelo Factible\\Scraplining\\CPdescarga.xlsx'  \n",
    "hojas = pd.read_excel(ruta_excel, sheet_name=None)\n",
    "\n",
    "# Obtener combinaciones únicas de Estado, Municipio y Colonia\n",
    "combinaciones_unicas = df[['Estado', 'Municipio', 'Colonia']].drop_duplicates()\n",
    "\n",
    "# Crear un diccionario para almacenar los códigos postales encontrados\n",
    "codigos_postales = {}\n",
    "\n",
    "# Buscar el código postal para cada combinación única\n",
    "for _, row in combinaciones_unicas.iterrows():\n",
    "    estado = row['Estado'].strip()\n",
    "    municipio = row['Municipio'].strip()\n",
    "    colonia = row['Colonia'].strip()\n",
    "\n",
    "    # Verificar si el estado existe en las hojas del Excel\n",
    "    if estado in hojas:\n",
    "        df_estado = hojas[estado]\n",
    "\n",
    "        # Filtrar por municipio y colonia\n",
    "        df_filtrado = df_estado[\n",
    "            (df_estado['D_mnpio'].str.strip().str.lower() == municipio.lower()) &\n",
    "            (df_estado['d_asenta'].str.strip().str.lower() == colonia.lower())  # Suponiendo que la columna de colonia se llama 'd_asenta'\n",
    "        ]\n",
    "\n",
    "        # Si hay coincidencias, almacenar el primer código postal en el diccionario\n",
    "        if not df_filtrado.empty:\n",
    "            codigos_postales[(estado, municipio, colonia)] = df_filtrado['d_codigo'].iloc[0]\n",
    "        else:\n",
    "            codigos_postales[(estado, municipio, colonia)] = None\n",
    "    else:\n",
    "        codigos_postales[(estado, municipio, colonia)] = None\n",
    "\n",
    "# Crear una columna 'Codigo_Postal' en el DataFrame original usando el diccionario de códigos postales\n",
    "df['Codigo_Postal'] = df.apply(lambda x: codigos_postales.get((x['Estado'].strip(), x['Municipio'].strip(), x['Colonia'].strip())), axis=1)\n",
    "\n",
    "\n",
    "# Obtener las combinaciones únicas de las columnas 'Colonia', 'Municipio', 'Estado', 'Codigo_Postal'\n",
    "combinaciones_unicas = df[['Colonia', 'Municipio', 'Estado', 'Codigo_Postal']].drop_duplicates()\n",
    "for idx, row in combinaciones_unicas.iterrows():\n",
    "    print(f\"Combinación {idx + 1}:\")\n",
    "    print(f\"Colonia: {row['Colonia']}, Municipio: {row['Municipio']}, Estado: {row['Estado']}, Codigo_Postal: {row['Codigo_Postal']}\")\n",
    "    print(\"---\")\n"
   ]
  },
  {
   "cell_type": "markdown",
   "metadata": {},
   "source": [
    "## e) Fraccionamientos"
   ]
  },
  {
   "cell_type": "code",
   "execution_count": null,
   "metadata": {},
   "outputs": [],
   "source": [
    "# Traer de la base original de los cp, identificar la colonia si es fraccionamiento, \n",
    "# si lo verifica que se le asigne un valor para identificar cuál es cual.\n",
    "\n",
    "# Cargar todas las hojas del archivo Excel en un diccionario de DataFrames\n",
    "ruta_excel = 'D:\\yoe11\\Documents\\TESEO\\Modelo Factible\\Scraplining\\CPdescarga.xlsx'  \n",
    "hojas = pd.read_excel(ruta_excel, sheet_name=None)\n",
    "\n",
    "# Obtener combinaciones únicas de Estado, Municipio y Colonia\n",
    "combinaciones_unicas = df[['Estado', 'Municipio', 'Colonia']].drop_duplicates()\n",
    "\n",
    "# Crear un diccionario para almacenar los códigos postales y tipos de asentamiento encontrados\n",
    "codigos_postales = {}\n",
    "tipos_asentamiento = {}\n",
    "\n",
    "# Buscar el código postal y tipo de asentamiento para cada combinación única\n",
    "for _, row in combinaciones_unicas.iterrows():\n",
    "    estado = row['Estado'].strip()\n",
    "    municipio = row['Municipio'].strip()\n",
    "    colonia = row['Colonia'].strip()\n",
    "\n",
    "    # Verificar si el estado existe en las hojas del Excel\n",
    "    if estado in hojas:\n",
    "        df_estado = hojas[estado]\n",
    "\n",
    "        # Filtrar por municipio y colonia\n",
    "        df_filtrado = df_estado[\n",
    "            (df_estado['D_mnpio'].str.strip().str.lower() == municipio.lower()) &\n",
    "            (df_estado['d_asenta'].str.strip().str.lower() == colonia.lower())\n",
    "        ]\n",
    "\n",
    "        # Si hay coincidencias, almacenar el primer código postal y tipo de asentamiento en los diccionarios\n",
    "        if not df_filtrado.empty:\n",
    "            codigos_postales[(estado, municipio, colonia)] = df_filtrado['d_codigo'].iloc[0]\n",
    "            tipos_asentamiento[(estado, municipio, colonia)] = df_filtrado['d_tipo_asenta'].iloc[0]\n",
    "        else:\n",
    "            codigos_postales[(estado, municipio, colonia)] = None\n",
    "            tipos_asentamiento[(estado, municipio, colonia)] = None\n",
    "    else:\n",
    "        codigos_postales[(estado, municipio, colonia)] = None\n",
    "        tipos_asentamiento[(estado, municipio, colonia)] = None\n",
    "\n",
    "# Crear columnas 'Codigo_Postal' y 'Tipo_Asentamiento' en el DataFrame original usando los diccionarios\n",
    "df['Codigo_Postal'] = df.apply(lambda x: codigos_postales.get((x['Estado'].strip(), x['Municipio'].strip(), x['Colonia'].strip())), axis=1)\n",
    "df['Tipo_Asentamiento'] = df.apply(lambda x: tipos_asentamiento.get((x['Estado'].strip(), x['Municipio'].strip(), x['Colonia'].strip())), axis=1)\n",
    "\n",
    "# Obtener las combinaciones únicas de las columnas 'Colonia', 'Municipio', 'Estado', 'Codigo_Postal', 'Tipo_Asentamiento'\n",
    "combinaciones_unicas = df[['Colonia', 'Municipio', 'Estado', 'Codigo_Postal', 'Tipo_Asentamiento']].drop_duplicates()\n",
    "for idx, row in combinaciones_unicas.iterrows():\n",
    "    print(f\"Combinación {idx + 1}:\")\n",
    "    print(f\"Colonia: {row['Colonia']}, Municipio: {row['Municipio']}, Estado: {row['Estado']}, Codigo_Postal: {row['Codigo_Postal']}, Tipo_Asentamiento: {row['Tipo_Asentamiento']}\")\n",
    "    print(\"---\")"
   ]
  },
  {
   "cell_type": "markdown",
   "metadata": {},
   "source": [
    "___\n",
    "# Eliminar variables extra"
   ]
  },
  {
   "cell_type": "code",
   "execution_count": null,
   "metadata": {},
   "outputs": [],
   "source": [
    "df = df.drop(['precio_desc','totales_desc','construidos_desc','estacionamiento_desc','recamaras_desc','baños_desc','baños_completos','medios_baños'], axis=1) # 'denominacion_desc'"
   ]
  },
  {
   "cell_type": "code",
   "execution_count": null,
   "metadata": {},
   "outputs": [],
   "source": []
  },
  {
   "cell_type": "markdown",
   "metadata": {},
   "source": [
    "# EXPORTAR"
   ]
  },
  {
   "cell_type": "code",
   "execution_count": 51,
   "metadata": {},
   "outputs": [],
   "source": [
    "# Lista de nombres de columnas en el orden deseado\n",
    "column_order = ['precio','denominacion','propiedad','metros_total','metros_construido','tiempo_de_publicacion','meses_2024-09-06', 'tipo', 'estacionamientos', 'recamaras', 'banos','medio_banos','seguridad_privada', 'Estado','Municipio','Colonia',  'Codigo_Postal','url','descripcion']\n",
    "# Reordenar el DataFrame según el orden de columnas deseado\n",
    "df = df[column_order]\n",
    "\n",
    "df.to_csv('abril_queretaro_Inmuebles_2024.csv')"
   ]
  }
 ],
 "metadata": {
  "kernelspec": {
   "display_name": "base",
   "language": "python",
   "name": "python3"
  },
  "language_info": {
   "codemirror_mode": {
    "name": "ipython",
    "version": 3
   },
   "file_extension": ".py",
   "mimetype": "text/x-python",
   "name": "python",
   "nbconvert_exporter": "python",
   "pygments_lexer": "ipython3",
   "version": "3.9.13"
  }
 },
 "nbformat": 4,
 "nbformat_minor": 2
}
