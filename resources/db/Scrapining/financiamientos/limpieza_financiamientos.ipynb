{
 "cells": [
  {
   "cell_type": "markdown",
   "metadata": {},
   "source": [
    "# **Financiamientos cleaning**"
   ]
  },
  {
   "cell_type": "code",
   "execution_count": 73,
   "metadata": {},
   "outputs": [
    {
     "name": "stdout",
     "output_type": "stream",
     "text": [
      "Successfully read the file using latin-1 encoding.\n",
      "    año  mes  cve_ent         entidad  cve_mun       municipio  organismo  \\\n",
      "0  2024    1      NaN  No distribuido      NaN  No distribuido          4   \n",
      "1  2024    1      1.0  Aguascalientes      NaN  No distribuido          4   \n",
      "2  2024    1      1.0  Aguascalientes      1.0  Aguascalientes          1   \n",
      "3  2024    1      1.0  Aguascalientes      1.0  Aguascalientes          1   \n",
      "4  2024    1      1.0  Aguascalientes      1.0  Aguascalientes          1   \n",
      "\n",
      "   modalidad  destino  tipo  sexo  edad_rango  ingresos_rango  vivienda_valor  \\\n",
      "0          2        1     1   NaN         NaN             NaN             NaN   \n",
      "1          2        1     1   NaN         NaN             NaN             NaN   \n",
      "2          1        2     2   1.0         NaN             1.0             2.0   \n",
      "3          1        2     2   1.0         NaN             1.0             4.0   \n",
      "4          1        2     2   1.0         NaN             1.0             5.0   \n",
      "\n",
      "   acciones      monto  \n",
      "0       0.0        0.0  \n",
      "1       0.0  1103200.0  \n",
      "2       1.0        0.0  \n",
      "3       2.0        0.0  \n",
      "4       2.0        0.0  \n"
     ]
    }
   ],
   "source": [
    "import pandas as pd\n",
    "\n",
    "# Different encodings to handle the UnicodeDecodeError\n",
    "encodings = ['latin-1', 'iso-8859-1', 'cp1252']\n",
    "\n",
    "for encoding in encodings:\n",
    "    try:\n",
    "        df = pd.read_csv('financiamientos_2024.csv', encoding=encoding)\n",
    "        print(f\"Successfully read the file using {encoding} encoding.\")\n",
    "        break\n",
    "    except UnicodeDecodeError:\n",
    "        print(f\"Failed to read the file using {encoding} encoding.\")\n",
    "    except Exception as e:\n",
    "        print(f\"An unexpected error occurred: {str(e)}\")\n",
    "else:\n",
    "    print(\"Failed to read the file with all attempted encodings.\")\n",
    "    df = None\n",
    "\n",
    "if df is not None:\n",
    "    print(df.head())\n",
    "else:\n",
    "    print(\"Unable to display data as the file could not be read.\")"
   ]
  },
  {
   "cell_type": "code",
   "execution_count": 74,
   "metadata": {},
   "outputs": [
    {
     "name": "stdout",
     "output_type": "stream",
     "text": [
      "<class 'pandas.core.frame.DataFrame'>\n",
      "RangeIndex: 184550 entries, 0 to 184549\n",
      "Data columns (total 16 columns):\n",
      " #   Column          Non-Null Count   Dtype  \n",
      "---  ------          --------------   -----  \n",
      " 0   año             184550 non-null  int64  \n",
      " 1   mes             184550 non-null  int64  \n",
      " 2   cve_ent         184542 non-null  float64\n",
      " 3   entidad         184550 non-null  object \n",
      " 4   cve_mun         184315 non-null  float64\n",
      " 5   municipio       184547 non-null  object \n",
      " 6   organismo       184550 non-null  int64  \n",
      " 7   modalidad       184550 non-null  int64  \n",
      " 8   destino         184550 non-null  int64  \n",
      " 9   tipo            184550 non-null  int64  \n",
      " 10  sexo            184317 non-null  float64\n",
      " 11  edad_rango      180982 non-null  float64\n",
      " 12  ingresos_rango  171320 non-null  float64\n",
      " 13  vivienda_valor  143143 non-null  float64\n",
      " 14  acciones        184550 non-null  float64\n",
      " 15  monto           184550 non-null  float64\n",
      "dtypes: float64(8), int64(6), object(2)\n",
      "memory usage: 22.5+ MB\n"
     ]
    }
   ],
   "source": [
    "df.info()"
   ]
  },
  {
   "cell_type": "code",
   "execution_count": 75,
   "metadata": {},
   "outputs": [
    {
     "data": {
      "text/plain": [
       "año                   0\n",
       "mes                   0\n",
       "cve_ent               8\n",
       "entidad               0\n",
       "cve_mun             235\n",
       "municipio             3\n",
       "organismo             0\n",
       "modalidad             0\n",
       "destino               0\n",
       "tipo                  0\n",
       "sexo                233\n",
       "edad_rango         3568\n",
       "ingresos_rango    13230\n",
       "vivienda_valor    41407\n",
       "acciones              0\n",
       "monto                 0\n",
       "dtype: int64"
      ]
     },
     "execution_count": 75,
     "metadata": {},
     "output_type": "execute_result"
    }
   ],
   "source": [
    "df.isna().sum()"
   ]
  },
  {
   "cell_type": "code",
   "execution_count": 76,
   "metadata": {},
   "outputs": [
    {
     "data": {
      "text/plain": [
       "array([ 0.,  1.,  2.,  3.,  4.,  5.,  6.,  7.,  8.,  9., 10., 11., 12.,\n",
       "       13., 14., 15., 16., 17., 18., 19., 20., 21., 22., 23., 24., 25.,\n",
       "       26., 27., 28., 29., 30., 31., 32.])"
      ]
     },
     "execution_count": 76,
     "metadata": {},
     "output_type": "execute_result"
    }
   ],
   "source": [
    "df['cve_ent'] = df['cve_ent'].fillna(0)\n",
    "df['cve_ent'].unique()"
   ]
  },
  {
   "cell_type": "code",
   "execution_count": 77,
   "metadata": {},
   "outputs": [],
   "source": [
    "df['cve_mun'] = df['cve_mun'].fillna(0)"
   ]
  },
  {
   "cell_type": "code",
   "execution_count": 78,
   "metadata": {},
   "outputs": [
    {
     "data": {
      "text/plain": [
       "array([ 1,  2,  5,  3,  7,  4,  6, 10, 18,  9,  8], dtype=int64)"
      ]
     },
     "execution_count": 78,
     "metadata": {},
     "output_type": "execute_result"
    }
   ],
   "source": [
    "df['destino'] = df['destino'].fillna(0)\n",
    "df['destino'].unique()"
   ]
  },
  {
   "cell_type": "code",
   "execution_count": 79,
   "metadata": {},
   "outputs": [],
   "source": [
    "unique_sexo = df['sexo'].unique()\n",
    "df['sexo'] = df['sexo'].fillna(0)"
   ]
  },
  {
   "cell_type": "code",
   "execution_count": 80,
   "metadata": {},
   "outputs": [],
   "source": [
    "df['edad_rango'].unique()\n",
    "df['edad_rango'] = df['edad_rango'].fillna(0)"
   ]
  },
  {
   "cell_type": "code",
   "execution_count": 81,
   "metadata": {},
   "outputs": [
    {
     "data": {
      "text/plain": [
       "array([0., 1., 5., 6., 2., 3., 4.])"
      ]
     },
     "execution_count": 81,
     "metadata": {},
     "output_type": "execute_result"
    }
   ],
   "source": [
    "df['ingresos_rango'] = df['ingresos_rango'].fillna(0)\n",
    "df['ingresos_rango'].unique()"
   ]
  },
  {
   "cell_type": "code",
   "execution_count": 82,
   "metadata": {},
   "outputs": [
    {
     "data": {
      "text/plain": [
       "array([0., 2., 4., 5., 3., 1., 6.])"
      ]
     },
     "execution_count": 82,
     "metadata": {},
     "output_type": "execute_result"
    }
   ],
   "source": [
    "df['vivienda_valor'] = df['vivienda_valor'].fillna(0)\n",
    "df['vivienda_valor'].unique()"
   ]
  },
  {
   "cell_type": "markdown",
   "metadata": {},
   "source": [
    "## CIUDAD "
   ]
  },
  {
   "cell_type": "code",
   "execution_count": 27,
   "metadata": {},
   "outputs": [
    {
     "data": {
      "text/plain": [
       "array(['Aguascalientes', 'Baja California', 'Baja California Sur',\n",
       "       'Campeche', 'Coahuila de Zaragoza', 'Colima', 'Chiapas',\n",
       "       'Chihuahua', 'Ciudad de México', 'Durango', 'Guanajuato',\n",
       "       'Guerrero', 'Hidalgo', 'Jalisco', 'México', 'Michoacán de Ocampo',\n",
       "       'Morelos', 'Nayarit', 'Nuevo León', 'Oaxaca', 'Puebla',\n",
       "       'Querétaro', 'Quintana Roo', 'San Luis Potosí', 'Sinaloa',\n",
       "       'Sonora', 'Tabasco', 'Tamaulipas', 'Tlaxcala',\n",
       "       'Veracruz de Ignacio de la Llave', 'Yucatán', 'Zacatecas',\n",
       "       'No distribuido'], dtype=object)"
      ]
     },
     "execution_count": 27,
     "metadata": {},
     "output_type": "execute_result"
    }
   ],
   "source": [
    "df['entidad'].unique()"
   ]
  },
  {
   "cell_type": "code",
   "execution_count": 83,
   "metadata": {},
   "outputs": [
    {
     "data": {
      "text/plain": [
       "array(['Puebla'], dtype=object)"
      ]
     },
     "execution_count": 83,
     "metadata": {},
     "output_type": "execute_result"
    }
   ],
   "source": [
    "df_filtrado = df[df['entidad'] == 'Puebla']\n",
    "df_filtrado['entidad'].unique()"
   ]
  },
  {
   "cell_type": "code",
   "execution_count": 57,
   "metadata": {},
   "outputs": [
    {
     "data": {
      "text/plain": [
       "array(['No distribuido', 'Acajete', 'Acatlán', 'Acatzingo', 'Ahuazotepec',\n",
       "       'Ajalpan', 'Altepexi', 'Amozoc', 'Atexcal', 'Atlixco',\n",
       "       'Atoyatempan', 'Calpan', 'Caltepec', 'Coronango', 'Coxcatlán',\n",
       "       'Coyotepec', 'Cuautinchán', 'Cuautlancingo', 'Cuayuca de Andrade',\n",
       "       'Cuetzalan del Progreso', 'Chalchicomula de Sesma', 'Chietla',\n",
       "       'Chignahuapan', 'Chignautla', 'Francisco Z. Mena',\n",
       "       'Guadalupe Victoria', 'Huauchinango', 'Huejotzingo', 'Hueyapan',\n",
       "       'Hueytlalpan', 'Ixtepec', 'Izúcar de Matamoros', 'Juan C. Bonilla',\n",
       "       'Juan N. Méndez', 'Libres', 'Molcaxac', 'Nopalucan', 'Ocoyucan',\n",
       "       'Olintla', 'Oriental', 'Pahuatlán', 'Palmar de Bravo', 'Puebla',\n",
       "       'Quecholac', 'Rafael Lara Grajales', 'Los Reyes de Juárez',\n",
       "       'San Andrés Cholula', 'San Antonio Cañada', 'San Gabriel Chilac',\n",
       "       'San José Chiapa', 'San Martín Texmelucan',\n",
       "       'San Martín Totoltepec', 'San Nicolás de los Ranchos',\n",
       "       'San Pedro Cholula', 'San Pedro Yeloixtlahuaca',\n",
       "       'San Salvador el Verde', 'Santiago Miahuatlán',\n",
       "       'Santo Tomás Hueyotlipan', 'Tecali de Herrera', 'Tecamachalco',\n",
       "       'Tecomatlán', 'Tehuacán', 'Tehuitzingo', 'Tepanco de López',\n",
       "       'Tepatlaxco de Hidalgo', 'Tepeaca', 'Tepexco', 'Tetela de Ocampo',\n",
       "       'Teteles de Ávila Castillo', 'Teziutlán', 'Tianguismanalco',\n",
       "       'Tilapa', 'Tlachichuca', 'Tlahuapan', 'Tlaola', 'Tlatlauquitepec',\n",
       "       'Tuzamapan de Galeana', 'Xicotepec', 'Xochiapulco', 'Yaonáhuac',\n",
       "       'Yehualtepec', 'Zacapoaxtla', 'Zacatlán', 'Zaragoza',\n",
       "       'Zihuateutla', 'Zinacatepec', 'Ahuehuetitla', 'Atempan',\n",
       "       'Caxhuacan', 'Cuautempan', 'Chapulco', 'Chiautla', 'Chiautzingo',\n",
       "       'Chichiquila', 'Chigmecatitlán', 'Chila', 'Huaquechula',\n",
       "       'Ixtacamaxtitlán', 'Jolalpan', 'Juan Galindo', 'Nicolás Bravo',\n",
       "       'Pantepec', 'Petlalcingo', 'San Gregorio Atzompa',\n",
       "       'San Matías Tlalancaleca', 'San Sebastián Tlacotepec', 'Tepeojuma',\n",
       "       'Tepexi de Rodríguez', 'Tlacotepec de Benito Juárez',\n",
       "       'Tlaltenango', 'Tochimilco', 'Tulcingo', 'Venustiano Carranza',\n",
       "       'Xayacatlán de Bravo', 'Xicotlán', 'Zacapala', 'Zautla',\n",
       "       'Ayotoxco de Guerrero', 'Cuapiaxtla de Madero', 'Esperanza',\n",
       "       'General Felipe Ángeles', 'Huatlatlauca', 'Ixcaquixtla',\n",
       "       'San Felipe Teotlalcingo', 'San José Miahuatlán',\n",
       "       'San Miguel Xoxtla', 'San Pablo Anicano', 'Tlapacoya',\n",
       "       'Xiutetelco', 'Acateno', 'Acteopan', 'Atzitzihuacán', 'Coatzingo',\n",
       "       'Cohuecan', 'Coyomeapan', 'Guadalupe', 'Huehuetlán el Chico',\n",
       "       'Hueytamalco', 'Huitziltepec', 'Mixtla', 'San Salvador el Seco',\n",
       "       'San Salvador Huixcolotla', 'Santa Inés Ahuatempan', 'Teopantlán',\n",
       "       'Tepeyahualco de Cuauhtémoc', 'Tlanepantla', 'Tlapanalá',\n",
       "       'Tochtepec', 'Xochitlán de Vicente Suárez', 'Atzala', 'Cuyoaco',\n",
       "       'Honey', 'Chinantla', 'Epatlán', 'Jonotla', 'Zapotitlán',\n",
       "       'Aquixtla', 'Domingo Arenas', 'San Jerónimo Tecuanipan',\n",
       "       'Teotlalco', 'Tepeyahualco', 'Zoquiapan', 'Huehuetla', 'Piaxtla',\n",
       "       'Quimixtlán', 'Huitzilan de Serdán', 'Axutla',\n",
       "       'San Nicolás Buenos Aires', 'Santa Isabel Cholula', 'Tenampulco',\n",
       "       'Naupan'], dtype=object)"
      ]
     },
     "execution_count": 57,
     "metadata": {},
     "output_type": "execute_result"
    }
   ],
   "source": [
    "df_filtrado['municipio'].unique()"
   ]
  },
  {
   "cell_type": "code",
   "execution_count": 20,
   "metadata": {},
   "outputs": [
    {
     "data": {
      "text/plain": [
       "array(['Pachuca de Soto'], dtype=object)"
      ]
     },
     "execution_count": 20,
     "metadata": {},
     "output_type": "execute_result"
    }
   ],
   "source": [
    "selected_municipalities = ['Pachuca de Soto','Mineral de la Reforma']\n",
    "df_filtrado = df_filtrado[df_filtrado['municipio'].isin(selected_municipalities)]\n",
    "\n",
    "df_filtrado['municipio'].unique()"
   ]
  },
  {
   "cell_type": "code",
   "execution_count": 84,
   "metadata": {},
   "outputs": [
    {
     "name": "stdout",
     "output_type": "stream",
     "text": [
      "          id entidad       municipio   año\n",
      "14496      1  Puebla  No distribuido  2024\n",
      "14497      2  Puebla         Acatlán  2024\n",
      "14498      3  Puebla         Acatlán  2024\n",
      "14499      4  Puebla         Acatlán  2024\n",
      "14500      5  Puebla       Acatzingo  2024\n",
      "...      ...     ...             ...   ...\n",
      "176238  6530  Puebla        Zacatlán  2024\n",
      "176239  6531  Puebla        Zacatlán  2024\n",
      "176240  6532  Puebla        Zaragoza  2024\n",
      "176241  6533  Puebla     Zinacatepec  2024\n",
      "176242  6534  Puebla     Zinacatepec  2024\n",
      "\n",
      "[6534 rows x 4 columns]\n"
     ]
    },
    {
     "name": "stderr",
     "output_type": "stream",
     "text": [
      "C:\\Users\\yoe11\\AppData\\Local\\Temp\\ipykernel_20300\\2909515282.py:1: SettingWithCopyWarning: \n",
      "A value is trying to be set on a copy of a slice from a DataFrame.\n",
      "Try using .loc[row_indexer,col_indexer] = value instead\n",
      "\n",
      "See the caveats in the documentation: https://pandas.pydata.org/pandas-docs/stable/user_guide/indexing.html#returning-a-view-versus-a-copy\n",
      "  df_filtrado['id'] = range(1, len(df_filtrado) + 1)\n"
     ]
    }
   ],
   "source": [
    "df_filtrado['id'] = range(1, len(df_filtrado) + 1)\n",
    "print(df_filtrado[['id', 'entidad', 'municipio','año']])"
   ]
  },
  {
   "cell_type": "code",
   "execution_count": 85,
   "metadata": {},
   "outputs": [],
   "source": [
    "output_file = '../ciudades/puebla/financiamientos_2024_puebla.csv'\n",
    "df_filtrado.to_csv(output_file, index=False, encoding='utf-8')"
   ]
  },
  {
   "cell_type": "code",
   "execution_count": null,
   "metadata": {},
   "outputs": [],
   "source": []
  }
 ],
 "metadata": {
  "kernelspec": {
   "display_name": "base",
   "language": "python",
   "name": "python3"
  },
  "language_info": {
   "codemirror_mode": {
    "name": "ipython",
    "version": 3
   },
   "file_extension": ".py",
   "mimetype": "text/x-python",
   "name": "python",
   "nbconvert_exporter": "python",
   "pygments_lexer": "ipython3",
   "version": "3.9.13"
  }
 },
 "nbformat": 4,
 "nbformat_minor": 2
}
