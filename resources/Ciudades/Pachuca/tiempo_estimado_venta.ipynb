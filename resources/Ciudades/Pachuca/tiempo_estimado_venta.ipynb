{
 "cells": [
  {
   "cell_type": "markdown",
   "metadata": {},
   "source": [
    "# **Tiempo estimado de venta**"
   ]
  },
  {
   "cell_type": "code",
   "execution_count": 1,
   "metadata": {},
   "outputs": [
    {
     "name": "stdout",
     "output_type": "stream",
     "text": [
      "Lista de DataFrames filtrados:\n"
     ]
    },
    {
     "data": {
      "text/plain": [
       "['df_alfa_abril_2024_pachuca',\n",
       " 'df_alfa_agosto_2024_pachuca',\n",
       " 'df_alfa_febrero_2024_pachuca',\n",
       " 'df_alfa_julio_2024_pachuca',\n",
       " 'df_alfa_junio_2024_pachuca',\n",
       " 'df_alfa_marzo_2024_pachuca',\n",
       " 'df_alfa_mayo_2024_pachuca',\n",
       " 'df_alfa_q_feb_2023_pachuca',\n",
       " 'df_alfa_q_jul_2023_pachuca',\n",
       " 'df_alfa_q_jun_2023_pachuca',\n",
       " 'df_alfa_q_mar_2023_pachuca',\n",
       " 'df_alfa_q_nov_2022_pachuca',\n",
       " 'df_alfa_q_oct_2022_pachuca',\n",
       " 'df_alfa_q_sep_2023_pachuca']"
      ]
     },
     "execution_count": 1,
     "metadata": {},
     "output_type": "execute_result"
    }
   ],
   "source": [
    "# Manejo de datos\n",
    "import os # Directorios\n",
    "import pandas as pd # Manipulación df\n",
    "# Gráficas\n",
    "import plotly.graph_objects as go #Para obtener librería usar: pip install plotly\n",
    "from plotly.subplots import make_subplots\n",
    "import plotly.io as pio # Exportar gráfica\n",
    "\n",
    "# Obtener el directorio actual de trabajo\n",
    "directorio_actual = os.getcwd()\n",
    "\n",
    "# Directorio donde se encuentran los archivos JSON (ruta relativa)\n",
    "directorio_json = os.path.join(directorio_actual, '../../db/datos_json')\n",
    "\n",
    "# Obtener la lista de archivos JSON en el directorio\n",
    "archivos_json = os.listdir(directorio_json)\n",
    "\n",
    "# Cargar los archivos JSON y crear DataFrames\n",
    "for archivo in archivos_json:\n",
    "    nombre_tabla = archivo.replace('datos_', '').replace('.json', '')\n",
    "    ruta_json = os.path.join(directorio_json, archivo)\n",
    "    globals()[f\"df_{nombre_tabla}\"] = pd.read_json(ruta_json)\n",
    "\n",
    "# Obtener todos los nombres de las variables globales\n",
    "nombres_variables_globales = list(globals().keys())\n",
    "\n",
    "# Filtrar los nombres que comienzan con \"df_\", contienen \"alfa_q\" y \"pachuca\"\n",
    "nombres_df_filtrados = [\n",
    "    nombre for nombre in nombres_variables_globales \n",
    "    # Caso de cuando no son las alfa q\n",
    "    if nombre.startswith(\"df_\") and \"alfa\" in nombre and \"pachuca\" in nombre\n",
    "\n",
    "    #if nombre.startswith(\"df_\") and \"tulancingo\" in nombre    \n",
    "    #and (\"alfa_q\" in nombre or \"jul_2023\" in nombre or \"sep_2023\" in nombre or \"feb_2024\" in nombre or \"mar_2024\" in nombre or \"may_2024\" in nombre)\n",
    "]\n",
    "\n",
    "# Imprimir la lista de DataFrames filtrados\n",
    "print(\"Lista de DataFrames filtrados:\")\n",
    "nombres_df_filtrados"
   ]
  },
  {
   "cell_type": "code",
   "execution_count": 5,
   "metadata": {},
   "outputs": [
    {
     "data": {
      "text/plain": [
       "Index(['id', 'Categoria', 'Precio', 'propiedad', 'metros_total',\n",
       "       'metros_construido', 'precio_m2_terreno', 'precio_m2_construido',\n",
       "       'tiempo_de_publicacion', 'Estado', 'Tipo', 'Estacionamientos',\n",
       "       'Recamaras', 'Banos', 'Medio_banos', 'Banos_Total', 'Seguridad',\n",
       "       'Colonia', 'CP', 'url'],\n",
       "      dtype='object')"
      ]
     },
     "execution_count": 5,
     "metadata": {},
     "output_type": "execute_result"
    }
   ],
   "source": [
    "df_alfa_agosto_2024_pachuca.columns"
   ]
  },
  {
   "cell_type": "code",
   "execution_count": 2,
   "metadata": {},
   "outputs": [
    {
     "name": "stdout",
     "output_type": "stream",
     "text": [
      "Columnas renombradas en los DataFrames filtrados.\n"
     ]
    }
   ],
   "source": [
    "# Iterar sobre cada DataFrame en la lista filtrada\n",
    "for nombre_df in nombres_df_filtrados:\n",
    "    # Obtener el DataFrame usando globals()\n",
    "    df = globals()[nombre_df]\n",
    "    \n",
    "    df.rename(columns={'tiempo_de_publicacion':'antiguedad','Categoria':'categoria','id_jul_23':'id','m2_contruido': 'm2_construido','m_construido': 'm2_construido','Metros_construido':'m2_construido','segmento':'categoria','Category':'categoria','m_total':'m2_total','m_construido':'m2_construido','Antiguedad':'antiguedad'}, inplace=True)\n",
    "        # Asignar el DataFrame modificado de nuevo a la variable global\n",
    "    globals()[nombre_df] = df \n",
    "\n",
    "# Imprimir confirmación\n",
    "print(\"Columnas renombradas en los DataFrames filtrados.\")"
   ]
  },
  {
   "cell_type": "code",
   "execution_count": 3,
   "metadata": {},
   "outputs": [],
   "source": [
    "if 'df_alfa_q_jul_2023_pachuca' in nombres_df_filtrados:\n",
    "    nombres_df_filtrados.remove('df_alfa_q_jul_2023_pachuca')"
   ]
  },
  {
   "cell_type": "code",
   "execution_count": 4,
   "metadata": {},
   "outputs": [],
   "source": [
    "# Crear una lista de DataFrames seleccionados con las columnas específicas\n",
    "dataframes_list = []\n",
    "for nombre_df in nombres_df_filtrados:\n",
    "    # Seleccionar las columnas 'id' y 'categoria'\n",
    "    segment_df = globals()[nombre_df][['id','categoria','antiguedad']]\n",
    "    # Añadir el DataFrame a la lista\n",
    "    dataframes_list.append(segment_df)"
   ]
  },
  {
   "cell_type": "markdown",
   "metadata": {},
   "source": [
    "## Meses de antigüedad"
   ]
  },
  {
   "cell_type": "code",
   "execution_count": 6,
   "metadata": {},
   "outputs": [
    {
     "name": "stdout",
     "output_type": "stream",
     "text": [
      "        id categoria  antiguedad antiguedad_categoria\n",
      "0        1        S3          10                13-18\n",
      "1        2        S1          15                13-18\n",
      "2        3        S3           6                13-18\n",
      "3        4        S3           7                13-18\n",
      "4        5        E2           7                13-18\n",
      "...    ...       ...         ...                  ...\n",
      "1542  1544        E3          14                13-18\n",
      "1543  1545        E3           6                13-18\n",
      "1544  1546        E3          16                13-18\n",
      "1545  1547        E3           6                13-18\n",
      "1546  1548        E2           9                13-18\n",
      "\n",
      "[1547 rows x 4 columns]\n",
      "        id categoria  antiguedad antiguedad_categoria\n",
      "0        1                     5                   12\n",
      "1        2        L1           4                   11\n",
      "2        3        L1          10                13-18\n",
      "3        4        B3           2                    9\n",
      "4        5        S2           7                13-18\n",
      "...    ...       ...         ...                  ...\n",
      "1401  1402                     4                   11\n",
      "1402  1403                    16                13-18\n",
      "1403  1404        A3           4                   11\n",
      "1404  1405        S1           9                13-18\n",
      "1405  1406        A2          16                13-18\n",
      "\n",
      "[1406 rows x 4 columns]\n",
      "        id categoria  antiguedad antiguedad_categoria\n",
      "0        1        EL          16                13-18\n",
      "1        2        EL          17                13-18\n",
      "2        3        EL          17                13-18\n",
      "3        4        EL          17                13-18\n",
      "4        5        EL           3                   10\n",
      "...    ...       ...         ...                  ...\n",
      "1891  1892        S3          14                13-18\n",
      "1892  1893        S3           7                13-18\n",
      "1893  1894                    21                19-24\n",
      "1894  1895        EL          17                13-18\n",
      "1895  1896        EL          21                19-24\n",
      "\n",
      "[1896 rows x 4 columns]\n",
      "        id categoria  antiguedad antiguedad_categoria\n",
      "0        1        E1           1                    8\n",
      "1        2        E1           3                   10\n",
      "2        3        E1           1                    8\n",
      "3        4        E1           3                   10\n",
      "4        5        E1           7                13-18\n",
      "...    ...       ...         ...                  ...\n",
      "1758  1762        E2           2                    9\n",
      "1759  1763        E3           5                   12\n",
      "1760  1764        E1          -2                  >24\n",
      "1761  1765        E1          -2                  >24\n",
      "1762  1766        E3           4                   11\n",
      "\n",
      "[1763 rows x 4 columns]\n",
      "        id categoria  antiguedad antiguedad_categoria\n",
      "0        1        E1           3                   10\n",
      "1        2        E1           2                    9\n",
      "2        3        E1           7                13-18\n",
      "3        4        E1           3                   10\n",
      "4        5        E1           3                   10\n",
      "...    ...       ...         ...                  ...\n",
      "1620  1624        EL           5                   12\n",
      "1621  1625        EL          17                13-18\n",
      "1622  1626        E1           6                13-18\n",
      "1623  1627        E1           5                   12\n",
      "1624  1628        EL           6                13-18\n",
      "\n",
      "[1625 rows x 4 columns]\n",
      "        id categoria  antiguedad antiguedad_categoria\n",
      "0        1        EL          16                13-18\n",
      "1        2        EL           3                   10\n",
      "2        3        EL          17                13-18\n",
      "3        4        EL           7                13-18\n",
      "4        5        EL           9                13-18\n",
      "...    ...       ...         ...                  ...\n",
      "1602  1603        E1           9                13-18\n",
      "1603  1604        E1           7                13-18\n",
      "1604  1605        E1           9                13-18\n",
      "1605  1606        E1           2                    9\n",
      "1606  1607        S1          15                13-18\n",
      "\n",
      "[1607 rows x 4 columns]\n",
      "        id categoria  antiguedad antiguedad_categoria\n",
      "0        1        C3           6                13-18\n",
      "1        2        D1           9                13-18\n",
      "2        3        S1          16                13-18\n",
      "3        4                    16                13-18\n",
      "4        5        E2           6                13-18\n",
      "...    ...       ...         ...                  ...\n",
      "1801  1802        E2          12                13-18\n",
      "1802  1803        E3          12                13-18\n",
      "1803  1804        E3          12                13-18\n",
      "1804  1805        E3           5                   12\n",
      "1805  1806        E3           5                   12\n",
      "\n",
      "[1806 rows x 4 columns]\n",
      "      id categoria  antiguedad antiguedad_categoria\n",
      "0      1        E1           0                    7\n",
      "1      2        D3           0                    7\n",
      "2      3        D3           0                    7\n",
      "3      4        D3          10                13-18\n",
      "4      5        D3           0                    7\n",
      "..   ...       ...         ...                  ...\n",
      "923  924         S           0                    7\n",
      "924  925         S           2                    9\n",
      "925  926        C1           0                    7\n",
      "926  927         S           4                   11\n",
      "927  928         S           1                    8\n",
      "\n",
      "[928 rows x 4 columns]\n",
      "        id categoria  antiguedad antiguedad_categoria\n",
      "0        1        C2           0                    7\n",
      "1        2        D3           0                    7\n",
      "2        3        D1           0                    7\n",
      "3        4         S           0                    7\n",
      "4        5        C2           0                    7\n",
      "...    ...       ...         ...                  ...\n",
      "1820  1821         S           0                    7\n",
      "1821  1822        D1           1                    8\n",
      "1822  1823        C2           0                    7\n",
      "1823  1824         S           0                    7\n",
      "1824  1825         S          19                13-18\n",
      "\n",
      "[1825 rows x 4 columns]\n",
      "        id categoria  antiguedad antiguedad_categoria\n",
      "0        1        E1           0                    7\n",
      "1        2        E2           0                    7\n",
      "2        3        E1           0                    7\n",
      "3        4        E2           0                    7\n",
      "4        5        E1          10                13-18\n",
      "...    ...       ...         ...                  ...\n",
      "1773  1774         S          20                19-24\n",
      "1774  1775        A1           0                    7\n",
      "1775  1776         S           0                    7\n",
      "1776  1777         S           0                    7\n",
      "1777  1778         S           0                    7\n",
      "\n",
      "[1778 rows x 4 columns]\n",
      "        id categoria  antiguedad antiguedad_categoria\n",
      "0        1        E1           0                    7\n",
      "1        2        E1           0                    7\n",
      "2        3        E1           0                    7\n",
      "3        4        E1           0                    7\n",
      "4        5        D3           0                    7\n",
      "...    ...       ...         ...                  ...\n",
      "1922  1923         S          12                13-18\n",
      "1923  1924        C2           0                    7\n",
      "1924  1925         S           0                    7\n",
      "1925  1926         S           0                    7\n",
      "1926  1927         S           0                    7\n",
      "\n",
      "[1927 rows x 4 columns]\n",
      "        id categoria  antiguedad antiguedad_categoria\n",
      "0        1        E1           0                    7\n",
      "1        2        E1           0                    7\n",
      "2        3        E1           0                    7\n",
      "3        4        D3           0                    7\n",
      "4        5        E2           0                    7\n",
      "...    ...       ...         ...                  ...\n",
      "1677  1678         S           0                    7\n",
      "1678  1679        C2           0                    7\n",
      "1679  1680         S           0                    7\n",
      "1680  1681         S           0                    7\n",
      "1681  1682         S           0                    7\n",
      "\n",
      "[1682 rows x 4 columns]\n",
      "        id categoria  antiguedad antiguedad_categoria\n",
      "0        1        D1           1                    8\n",
      "1        2        D1           0                    7\n",
      "2        3        C2           0                    7\n",
      "3        4        E1           0                    7\n",
      "4        5        E1           0                    7\n",
      "...    ...       ...         ...                  ...\n",
      "1598  1599         S           1                    8\n",
      "1599  1600         S          20                19-24\n",
      "1600  1601        B3          10                13-18\n",
      "1601  1602         S           2                    9\n",
      "1602  1603         S           0                    7\n",
      "\n",
      "[1603 rows x 4 columns]\n"
     ]
    },
    {
     "name": "stderr",
     "output_type": "stream",
     "text": [
      "C:\\Users\\yoe11\\AppData\\Local\\Temp\\ipykernel_12548\\2960930559.py:22: SettingWithCopyWarning: \n",
      "A value is trying to be set on a copy of a slice from a DataFrame.\n",
      "Try using .loc[row_indexer,col_indexer] = value instead\n",
      "\n",
      "See the caveats in the documentation: https://pandas.pydata.org/pandas-docs/stable/user_guide/indexing.html#returning-a-view-versus-a-copy\n",
      "  df.loc[:, 'antiguedad_categoria'] = df['antiguedad'].apply(categorizar_antiguedad_2023)\n",
      "C:\\Users\\yoe11\\AppData\\Local\\Temp\\ipykernel_12548\\2960930559.py:22: SettingWithCopyWarning: \n",
      "A value is trying to be set on a copy of a slice from a DataFrame.\n",
      "Try using .loc[row_indexer,col_indexer] = value instead\n",
      "\n",
      "See the caveats in the documentation: https://pandas.pydata.org/pandas-docs/stable/user_guide/indexing.html#returning-a-view-versus-a-copy\n",
      "  df.loc[:, 'antiguedad_categoria'] = df['antiguedad'].apply(categorizar_antiguedad_2023)\n",
      "C:\\Users\\yoe11\\AppData\\Local\\Temp\\ipykernel_12548\\2960930559.py:22: SettingWithCopyWarning: \n",
      "A value is trying to be set on a copy of a slice from a DataFrame.\n",
      "Try using .loc[row_indexer,col_indexer] = value instead\n",
      "\n",
      "See the caveats in the documentation: https://pandas.pydata.org/pandas-docs/stable/user_guide/indexing.html#returning-a-view-versus-a-copy\n",
      "  df.loc[:, 'antiguedad_categoria'] = df['antiguedad'].apply(categorizar_antiguedad_2023)\n",
      "C:\\Users\\yoe11\\AppData\\Local\\Temp\\ipykernel_12548\\2960930559.py:22: SettingWithCopyWarning: \n",
      "A value is trying to be set on a copy of a slice from a DataFrame.\n",
      "Try using .loc[row_indexer,col_indexer] = value instead\n",
      "\n",
      "See the caveats in the documentation: https://pandas.pydata.org/pandas-docs/stable/user_guide/indexing.html#returning-a-view-versus-a-copy\n",
      "  df.loc[:, 'antiguedad_categoria'] = df['antiguedad'].apply(categorizar_antiguedad_2023)\n",
      "C:\\Users\\yoe11\\AppData\\Local\\Temp\\ipykernel_12548\\2960930559.py:22: SettingWithCopyWarning: \n",
      "A value is trying to be set on a copy of a slice from a DataFrame.\n",
      "Try using .loc[row_indexer,col_indexer] = value instead\n",
      "\n",
      "See the caveats in the documentation: https://pandas.pydata.org/pandas-docs/stable/user_guide/indexing.html#returning-a-view-versus-a-copy\n",
      "  df.loc[:, 'antiguedad_categoria'] = df['antiguedad'].apply(categorizar_antiguedad_2023)\n",
      "C:\\Users\\yoe11\\AppData\\Local\\Temp\\ipykernel_12548\\2960930559.py:22: SettingWithCopyWarning: \n",
      "A value is trying to be set on a copy of a slice from a DataFrame.\n",
      "Try using .loc[row_indexer,col_indexer] = value instead\n",
      "\n",
      "See the caveats in the documentation: https://pandas.pydata.org/pandas-docs/stable/user_guide/indexing.html#returning-a-view-versus-a-copy\n",
      "  df.loc[:, 'antiguedad_categoria'] = df['antiguedad'].apply(categorizar_antiguedad_2023)\n",
      "C:\\Users\\yoe11\\AppData\\Local\\Temp\\ipykernel_12548\\2960930559.py:22: SettingWithCopyWarning: \n",
      "A value is trying to be set on a copy of a slice from a DataFrame.\n",
      "Try using .loc[row_indexer,col_indexer] = value instead\n",
      "\n",
      "See the caveats in the documentation: https://pandas.pydata.org/pandas-docs/stable/user_guide/indexing.html#returning-a-view-versus-a-copy\n",
      "  df.loc[:, 'antiguedad_categoria'] = df['antiguedad'].apply(categorizar_antiguedad_2023)\n",
      "C:\\Users\\yoe11\\AppData\\Local\\Temp\\ipykernel_12548\\2960930559.py:22: SettingWithCopyWarning: \n",
      "A value is trying to be set on a copy of a slice from a DataFrame.\n",
      "Try using .loc[row_indexer,col_indexer] = value instead\n",
      "\n",
      "See the caveats in the documentation: https://pandas.pydata.org/pandas-docs/stable/user_guide/indexing.html#returning-a-view-versus-a-copy\n",
      "  df.loc[:, 'antiguedad_categoria'] = df['antiguedad'].apply(categorizar_antiguedad_2023)\n",
      "C:\\Users\\yoe11\\AppData\\Local\\Temp\\ipykernel_12548\\2960930559.py:22: SettingWithCopyWarning: \n",
      "A value is trying to be set on a copy of a slice from a DataFrame.\n",
      "Try using .loc[row_indexer,col_indexer] = value instead\n",
      "\n",
      "See the caveats in the documentation: https://pandas.pydata.org/pandas-docs/stable/user_guide/indexing.html#returning-a-view-versus-a-copy\n",
      "  df.loc[:, 'antiguedad_categoria'] = df['antiguedad'].apply(categorizar_antiguedad_2023)\n",
      "C:\\Users\\yoe11\\AppData\\Local\\Temp\\ipykernel_12548\\2960930559.py:22: SettingWithCopyWarning: \n",
      "A value is trying to be set on a copy of a slice from a DataFrame.\n",
      "Try using .loc[row_indexer,col_indexer] = value instead\n",
      "\n",
      "See the caveats in the documentation: https://pandas.pydata.org/pandas-docs/stable/user_guide/indexing.html#returning-a-view-versus-a-copy\n",
      "  df.loc[:, 'antiguedad_categoria'] = df['antiguedad'].apply(categorizar_antiguedad_2023)\n",
      "C:\\Users\\yoe11\\AppData\\Local\\Temp\\ipykernel_12548\\2960930559.py:22: SettingWithCopyWarning: \n",
      "A value is trying to be set on a copy of a slice from a DataFrame.\n",
      "Try using .loc[row_indexer,col_indexer] = value instead\n",
      "\n",
      "See the caveats in the documentation: https://pandas.pydata.org/pandas-docs/stable/user_guide/indexing.html#returning-a-view-versus-a-copy\n",
      "  df.loc[:, 'antiguedad_categoria'] = df['antiguedad'].apply(categorizar_antiguedad_2023)\n",
      "C:\\Users\\yoe11\\AppData\\Local\\Temp\\ipykernel_12548\\2960930559.py:22: SettingWithCopyWarning: \n",
      "A value is trying to be set on a copy of a slice from a DataFrame.\n",
      "Try using .loc[row_indexer,col_indexer] = value instead\n",
      "\n",
      "See the caveats in the documentation: https://pandas.pydata.org/pandas-docs/stable/user_guide/indexing.html#returning-a-view-versus-a-copy\n",
      "  df.loc[:, 'antiguedad_categoria'] = df['antiguedad'].apply(categorizar_antiguedad_2023)\n",
      "C:\\Users\\yoe11\\AppData\\Local\\Temp\\ipykernel_12548\\2960930559.py:22: SettingWithCopyWarning: \n",
      "A value is trying to be set on a copy of a slice from a DataFrame.\n",
      "Try using .loc[row_indexer,col_indexer] = value instead\n",
      "\n",
      "See the caveats in the documentation: https://pandas.pydata.org/pandas-docs/stable/user_guide/indexing.html#returning-a-view-versus-a-copy\n",
      "  df.loc[:, 'antiguedad_categoria'] = df['antiguedad'].apply(categorizar_antiguedad_2023)\n"
     ]
    }
   ],
   "source": [
    "def categorizar_antiguedad_2023(valor):\n",
    "    if valor == 0:\n",
    "        return '7'\n",
    "    elif valor == 1:\n",
    "        return '8'\n",
    "    elif valor == 2:\n",
    "        return '9'\n",
    "    elif valor == 3:\n",
    "        return '10'\n",
    "    elif valor == 4:\n",
    "        return '11'\n",
    "    elif valor == 5:\n",
    "        return '12'\n",
    "    elif 6 <= valor <= 19:\n",
    "        return '13-18'\n",
    "    elif 19 <= valor <= 24:\n",
    "        return '19-24'\n",
    "    else:\n",
    "        return '>24'\n",
    "\n",
    "for df in dataframes_list:\n",
    "    df.loc[:, 'antiguedad_categoria'] = df['antiguedad'].apply(categorizar_antiguedad_2023)\n",
    "    #df['antiguedad_categoria'] = df['antiguedad'].apply(categorizar_antiguedad_2023)\n",
    "    print(df)"
   ]
  },
  {
   "cell_type": "markdown",
   "metadata": {},
   "source": [
    "Conteo único de coincidencias con la antigüedad"
   ]
  },
  {
   "cell_type": "code",
   "execution_count": 8,
   "metadata": {},
   "outputs": [
    {
     "name": "stdout",
     "output_type": "stream",
     "text": [
      "antiguedad_categoria       7      8      9     10     11     12   13-18  \\\n",
      "segmento                                                                  \n",
      "A                      956.0  132.0   99.0  134.0   53.0   72.0   906.0   \n",
      "B                     1664.0  213.0  162.0  164.0   76.0  106.0  1216.0   \n",
      "C                     1168.0  178.0  160.0  197.0   92.0   97.0  1484.0   \n",
      "D                     1205.0  185.0  241.0  169.0  157.0   76.0  1965.0   \n",
      "E                      222.0   86.0  148.0  122.0   47.0   68.0  1298.0   \n",
      "L                        NaN    4.0   14.0   20.0   12.0   25.0   129.0   \n",
      "S                     1389.0  169.0  190.0  237.0  135.0  142.0  1783.0   \n",
      "\n",
      "antiguedad_categoria  19-24   >24  \n",
      "segmento                           \n",
      "A                      40.0  12.0  \n",
      "B                      55.0  18.0  \n",
      "C                     119.0  23.0  \n",
      "D                      96.0  46.0  \n",
      "E                      28.0  19.0  \n",
      "L                      18.0   0.0  \n",
      "S                     104.0  75.0  \n"
     ]
    }
   ],
   "source": [
    "# Orden personalizado\n",
    "orden_personalizado = ['7', '8', '9', '10', '11', '12', '13-18','19-24','>24']\n",
    "\n",
    "tabla_suma = None\n",
    "# Iterar sobre cada DataFrame en la lista\n",
    "for df in dataframes_list:\n",
    "    # Crear una nueva columna con la primera letra de la categoría\n",
    "    #df['segmento'] = df['categoria'].str[0]\n",
    "    df.loc[:, 'segmento'] = df['categoria'].str[0]\n",
    "    #df.drop(columns=['categoria'], inplace=True)        \n",
    "    # Agrupar y contar los datos\n",
    "    tabla_actual = df.groupby(['segmento', 'antiguedad_categoria'],observed=False).size().unstack(fill_value=0)\n",
    "    \n",
    "    # Sumar la tabla actual al acumulador (tabla_suma)\n",
    "    if tabla_suma is None:\n",
    "        tabla_suma = tabla_actual\n",
    "    else:\n",
    "        tabla_suma = tabla_suma.add(tabla_actual, fill_value=0)\n",
    "\n",
    "# Reordenar las columnas según el orden personalizado\n",
    "tabla_suma = tabla_suma[orden_personalizado]\n",
    "\n",
    "# Imprimir la tabla acumulativa\n",
    "print(tabla_suma)"
   ]
  },
  {
   "cell_type": "code",
   "execution_count": 12,
   "metadata": {},
   "outputs": [
    {
     "name": "stdout",
     "output_type": "stream",
     "text": [
      "Tabla general de frecuencia:\n",
      "antiguedad_categoria       7      8      9     10     11     12  13-18  19-24  \\\n",
      "segmento                                                                        \n",
      "E                      222.0   86.0  148.0  122.0   47.0   68.0   1298     28   \n",
      "D                     1205.0  185.0  241.0  169.0  157.0   76.0   1965     96   \n",
      "C                     1168.0  178.0  160.0  197.0   92.0   97.0   1484    119   \n",
      "B                     1664.0  213.0  162.0  164.0   76.0  106.0   1216     55   \n",
      "A                      956.0  132.0   99.0  134.0   53.0   72.0    906     40   \n",
      "S                     1389.0  169.0  190.0  237.0  135.0  142.0   1783    104   \n",
      "L                        0.0    4.0   14.0   20.0   12.0   25.0    129     18   \n",
      "\n",
      "antiguedad_categoria   >24  \n",
      "segmento                    \n",
      "E                     19.0  \n",
      "D                     46.0  \n",
      "C                     23.0  \n",
      "B                     18.0  \n",
      "A                     12.0  \n",
      "S                     75.0  \n",
      "L                      0.0  \n"
     ]
    },
    {
     "name": "stderr",
     "output_type": "stream",
     "text": [
      "C:\\Users\\yoe11\\AppData\\Local\\Temp\\ipykernel_12548\\2426089730.py:14: SettingWithCopyWarning:\n",
      "\n",
      "\n",
      "A value is trying to be set on a copy of a slice from a DataFrame.\n",
      "Try using .loc[row_indexer,col_indexer] = value instead\n",
      "\n",
      "See the caveats in the documentation: https://pandas.pydata.org/pandas-docs/stable/user_guide/indexing.html#returning-a-view-versus-a-copy\n",
      "\n",
      "C:\\Users\\yoe11\\AppData\\Local\\Temp\\ipykernel_12548\\2426089730.py:14: SettingWithCopyWarning:\n",
      "\n",
      "\n",
      "A value is trying to be set on a copy of a slice from a DataFrame.\n",
      "Try using .loc[row_indexer,col_indexer] = value instead\n",
      "\n",
      "See the caveats in the documentation: https://pandas.pydata.org/pandas-docs/stable/user_guide/indexing.html#returning-a-view-versus-a-copy\n",
      "\n",
      "C:\\Users\\yoe11\\AppData\\Local\\Temp\\ipykernel_12548\\2426089730.py:14: SettingWithCopyWarning:\n",
      "\n",
      "\n",
      "A value is trying to be set on a copy of a slice from a DataFrame.\n",
      "Try using .loc[row_indexer,col_indexer] = value instead\n",
      "\n",
      "See the caveats in the documentation: https://pandas.pydata.org/pandas-docs/stable/user_guide/indexing.html#returning-a-view-versus-a-copy\n",
      "\n",
      "C:\\Users\\yoe11\\AppData\\Local\\Temp\\ipykernel_12548\\2426089730.py:14: SettingWithCopyWarning:\n",
      "\n",
      "\n",
      "A value is trying to be set on a copy of a slice from a DataFrame.\n",
      "Try using .loc[row_indexer,col_indexer] = value instead\n",
      "\n",
      "See the caveats in the documentation: https://pandas.pydata.org/pandas-docs/stable/user_guide/indexing.html#returning-a-view-versus-a-copy\n",
      "\n",
      "C:\\Users\\yoe11\\AppData\\Local\\Temp\\ipykernel_12548\\2426089730.py:14: SettingWithCopyWarning:\n",
      "\n",
      "\n",
      "A value is trying to be set on a copy of a slice from a DataFrame.\n",
      "Try using .loc[row_indexer,col_indexer] = value instead\n",
      "\n",
      "See the caveats in the documentation: https://pandas.pydata.org/pandas-docs/stable/user_guide/indexing.html#returning-a-view-versus-a-copy\n",
      "\n",
      "C:\\Users\\yoe11\\AppData\\Local\\Temp\\ipykernel_12548\\2426089730.py:14: SettingWithCopyWarning:\n",
      "\n",
      "\n",
      "A value is trying to be set on a copy of a slice from a DataFrame.\n",
      "Try using .loc[row_indexer,col_indexer] = value instead\n",
      "\n",
      "See the caveats in the documentation: https://pandas.pydata.org/pandas-docs/stable/user_guide/indexing.html#returning-a-view-versus-a-copy\n",
      "\n",
      "C:\\Users\\yoe11\\AppData\\Local\\Temp\\ipykernel_12548\\2426089730.py:14: SettingWithCopyWarning:\n",
      "\n",
      "\n",
      "A value is trying to be set on a copy of a slice from a DataFrame.\n",
      "Try using .loc[row_indexer,col_indexer] = value instead\n",
      "\n",
      "See the caveats in the documentation: https://pandas.pydata.org/pandas-docs/stable/user_guide/indexing.html#returning-a-view-versus-a-copy\n",
      "\n",
      "C:\\Users\\yoe11\\AppData\\Local\\Temp\\ipykernel_12548\\2426089730.py:14: SettingWithCopyWarning:\n",
      "\n",
      "\n",
      "A value is trying to be set on a copy of a slice from a DataFrame.\n",
      "Try using .loc[row_indexer,col_indexer] = value instead\n",
      "\n",
      "See the caveats in the documentation: https://pandas.pydata.org/pandas-docs/stable/user_guide/indexing.html#returning-a-view-versus-a-copy\n",
      "\n",
      "C:\\Users\\yoe11\\AppData\\Local\\Temp\\ipykernel_12548\\2426089730.py:14: SettingWithCopyWarning:\n",
      "\n",
      "\n",
      "A value is trying to be set on a copy of a slice from a DataFrame.\n",
      "Try using .loc[row_indexer,col_indexer] = value instead\n",
      "\n",
      "See the caveats in the documentation: https://pandas.pydata.org/pandas-docs/stable/user_guide/indexing.html#returning-a-view-versus-a-copy\n",
      "\n",
      "C:\\Users\\yoe11\\AppData\\Local\\Temp\\ipykernel_12548\\2426089730.py:14: SettingWithCopyWarning:\n",
      "\n",
      "\n",
      "A value is trying to be set on a copy of a slice from a DataFrame.\n",
      "Try using .loc[row_indexer,col_indexer] = value instead\n",
      "\n",
      "See the caveats in the documentation: https://pandas.pydata.org/pandas-docs/stable/user_guide/indexing.html#returning-a-view-versus-a-copy\n",
      "\n",
      "C:\\Users\\yoe11\\AppData\\Local\\Temp\\ipykernel_12548\\2426089730.py:14: SettingWithCopyWarning:\n",
      "\n",
      "\n",
      "A value is trying to be set on a copy of a slice from a DataFrame.\n",
      "Try using .loc[row_indexer,col_indexer] = value instead\n",
      "\n",
      "See the caveats in the documentation: https://pandas.pydata.org/pandas-docs/stable/user_guide/indexing.html#returning-a-view-versus-a-copy\n",
      "\n",
      "C:\\Users\\yoe11\\AppData\\Local\\Temp\\ipykernel_12548\\2426089730.py:14: SettingWithCopyWarning:\n",
      "\n",
      "\n",
      "A value is trying to be set on a copy of a slice from a DataFrame.\n",
      "Try using .loc[row_indexer,col_indexer] = value instead\n",
      "\n",
      "See the caveats in the documentation: https://pandas.pydata.org/pandas-docs/stable/user_guide/indexing.html#returning-a-view-versus-a-copy\n",
      "\n",
      "C:\\Users\\yoe11\\AppData\\Local\\Temp\\ipykernel_12548\\2426089730.py:14: SettingWithCopyWarning:\n",
      "\n",
      "\n",
      "A value is trying to be set on a copy of a slice from a DataFrame.\n",
      "Try using .loc[row_indexer,col_indexer] = value instead\n",
      "\n",
      "See the caveats in the documentation: https://pandas.pydata.org/pandas-docs/stable/user_guide/indexing.html#returning-a-view-versus-a-copy\n",
      "\n"
     ]
    },
    {
     "data": {
      "application/vnd.plotly.v1+json": {
       "config": {
        "plotlyServerURL": "https://plot.ly"
       },
       "data": [
        {
         "marker": {
          "color": "#2962ff"
         },
         "name": "7",
         "type": "bar",
         "x": [
          "E",
          "D",
          "C",
          "B",
          "A",
          "S",
          "L"
         ],
         "y": [
          222,
          1205,
          1168,
          1664,
          956,
          1389,
          0
         ]
        },
        {
         "marker": {
          "color": "#9500ff"
         },
         "name": "8",
         "type": "bar",
         "x": [
          "E",
          "D",
          "C",
          "B",
          "A",
          "S",
          "L"
         ],
         "y": [
          86,
          185,
          178,
          213,
          132,
          169,
          4
         ]
        },
        {
         "marker": {
          "color": "#ff0059"
         },
         "name": "9",
         "type": "bar",
         "x": [
          "E",
          "D",
          "C",
          "B",
          "A",
          "S",
          "L"
         ],
         "y": [
          148,
          241,
          160,
          162,
          99,
          190,
          14
         ]
        },
        {
         "marker": {
          "color": "#ff8c00"
         },
         "name": "10",
         "type": "bar",
         "x": [
          "E",
          "D",
          "C",
          "B",
          "A",
          "S",
          "L"
         ],
         "y": [
          122,
          169,
          197,
          164,
          134,
          237,
          20
         ]
        },
        {
         "marker": {
          "color": "#b4e600"
         },
         "name": "11",
         "type": "bar",
         "x": [
          "E",
          "D",
          "C",
          "B",
          "A",
          "S",
          "L"
         ],
         "y": [
          47,
          157,
          92,
          76,
          53,
          135,
          12
         ]
        },
        {
         "marker": {
          "color": "#2EC2A2"
         },
         "name": "12",
         "type": "bar",
         "x": [
          "E",
          "D",
          "C",
          "B",
          "A",
          "S",
          "L"
         ],
         "y": [
          68,
          76,
          97,
          106,
          72,
          142,
          25
         ]
        },
        {
         "marker": {
          "color": "#E50CB6"
         },
         "name": "13-18",
         "type": "bar",
         "x": [
          "E",
          "D",
          "C",
          "B",
          "A",
          "S",
          "L"
         ],
         "y": [
          1298,
          1965,
          1484,
          1216,
          906,
          1783,
          129
         ]
        },
        {
         "marker": {
          "color": "#4225CF"
         },
         "name": "19-24",
         "type": "bar",
         "x": [
          "E",
          "D",
          "C",
          "B",
          "A",
          "S",
          "L"
         ],
         "y": [
          28,
          96,
          119,
          55,
          40,
          104,
          18
         ]
        },
        {
         "marker": {
          "color": "#2CBA4D"
         },
         "name": ">24",
         "type": "bar",
         "x": [
          "E",
          "D",
          "C",
          "B",
          "A",
          "S",
          "L"
         ],
         "y": [
          19,
          46,
          23,
          18,
          12,
          75,
          0
         ]
        }
       ],
       "layout": {
        "barmode": "group",
        "legend": {
         "orientation": "h",
         "title": {
          "text": "Antigüedad"
         },
         "x": 1,
         "xanchor": "right",
         "y": 1.02,
         "yanchor": "bottom"
        },
        "margin": {
         "b": 10,
         "l": 10,
         "r": 10,
         "t": 10
        },
        "plot_bgcolor": "rgba(0,0,0,0)",
        "template": {
         "data": {
          "bar": [
           {
            "error_x": {
             "color": "#2a3f5f"
            },
            "error_y": {
             "color": "#2a3f5f"
            },
            "marker": {
             "line": {
              "color": "#E5ECF6",
              "width": 0.5
             },
             "pattern": {
              "fillmode": "overlay",
              "size": 10,
              "solidity": 0.2
             }
            },
            "type": "bar"
           }
          ],
          "barpolar": [
           {
            "marker": {
             "line": {
              "color": "#E5ECF6",
              "width": 0.5
             },
             "pattern": {
              "fillmode": "overlay",
              "size": 10,
              "solidity": 0.2
             }
            },
            "type": "barpolar"
           }
          ],
          "carpet": [
           {
            "aaxis": {
             "endlinecolor": "#2a3f5f",
             "gridcolor": "white",
             "linecolor": "white",
             "minorgridcolor": "white",
             "startlinecolor": "#2a3f5f"
            },
            "baxis": {
             "endlinecolor": "#2a3f5f",
             "gridcolor": "white",
             "linecolor": "white",
             "minorgridcolor": "white",
             "startlinecolor": "#2a3f5f"
            },
            "type": "carpet"
           }
          ],
          "choropleth": [
           {
            "colorbar": {
             "outlinewidth": 0,
             "ticks": ""
            },
            "type": "choropleth"
           }
          ],
          "contour": [
           {
            "colorbar": {
             "outlinewidth": 0,
             "ticks": ""
            },
            "colorscale": [
             [
              0,
              "#0d0887"
             ],
             [
              0.1111111111111111,
              "#46039f"
             ],
             [
              0.2222222222222222,
              "#7201a8"
             ],
             [
              0.3333333333333333,
              "#9c179e"
             ],
             [
              0.4444444444444444,
              "#bd3786"
             ],
             [
              0.5555555555555556,
              "#d8576b"
             ],
             [
              0.6666666666666666,
              "#ed7953"
             ],
             [
              0.7777777777777778,
              "#fb9f3a"
             ],
             [
              0.8888888888888888,
              "#fdca26"
             ],
             [
              1,
              "#f0f921"
             ]
            ],
            "type": "contour"
           }
          ],
          "contourcarpet": [
           {
            "colorbar": {
             "outlinewidth": 0,
             "ticks": ""
            },
            "type": "contourcarpet"
           }
          ],
          "heatmap": [
           {
            "colorbar": {
             "outlinewidth": 0,
             "ticks": ""
            },
            "colorscale": [
             [
              0,
              "#0d0887"
             ],
             [
              0.1111111111111111,
              "#46039f"
             ],
             [
              0.2222222222222222,
              "#7201a8"
             ],
             [
              0.3333333333333333,
              "#9c179e"
             ],
             [
              0.4444444444444444,
              "#bd3786"
             ],
             [
              0.5555555555555556,
              "#d8576b"
             ],
             [
              0.6666666666666666,
              "#ed7953"
             ],
             [
              0.7777777777777778,
              "#fb9f3a"
             ],
             [
              0.8888888888888888,
              "#fdca26"
             ],
             [
              1,
              "#f0f921"
             ]
            ],
            "type": "heatmap"
           }
          ],
          "heatmapgl": [
           {
            "colorbar": {
             "outlinewidth": 0,
             "ticks": ""
            },
            "colorscale": [
             [
              0,
              "#0d0887"
             ],
             [
              0.1111111111111111,
              "#46039f"
             ],
             [
              0.2222222222222222,
              "#7201a8"
             ],
             [
              0.3333333333333333,
              "#9c179e"
             ],
             [
              0.4444444444444444,
              "#bd3786"
             ],
             [
              0.5555555555555556,
              "#d8576b"
             ],
             [
              0.6666666666666666,
              "#ed7953"
             ],
             [
              0.7777777777777778,
              "#fb9f3a"
             ],
             [
              0.8888888888888888,
              "#fdca26"
             ],
             [
              1,
              "#f0f921"
             ]
            ],
            "type": "heatmapgl"
           }
          ],
          "histogram": [
           {
            "marker": {
             "pattern": {
              "fillmode": "overlay",
              "size": 10,
              "solidity": 0.2
             }
            },
            "type": "histogram"
           }
          ],
          "histogram2d": [
           {
            "colorbar": {
             "outlinewidth": 0,
             "ticks": ""
            },
            "colorscale": [
             [
              0,
              "#0d0887"
             ],
             [
              0.1111111111111111,
              "#46039f"
             ],
             [
              0.2222222222222222,
              "#7201a8"
             ],
             [
              0.3333333333333333,
              "#9c179e"
             ],
             [
              0.4444444444444444,
              "#bd3786"
             ],
             [
              0.5555555555555556,
              "#d8576b"
             ],
             [
              0.6666666666666666,
              "#ed7953"
             ],
             [
              0.7777777777777778,
              "#fb9f3a"
             ],
             [
              0.8888888888888888,
              "#fdca26"
             ],
             [
              1,
              "#f0f921"
             ]
            ],
            "type": "histogram2d"
           }
          ],
          "histogram2dcontour": [
           {
            "colorbar": {
             "outlinewidth": 0,
             "ticks": ""
            },
            "colorscale": [
             [
              0,
              "#0d0887"
             ],
             [
              0.1111111111111111,
              "#46039f"
             ],
             [
              0.2222222222222222,
              "#7201a8"
             ],
             [
              0.3333333333333333,
              "#9c179e"
             ],
             [
              0.4444444444444444,
              "#bd3786"
             ],
             [
              0.5555555555555556,
              "#d8576b"
             ],
             [
              0.6666666666666666,
              "#ed7953"
             ],
             [
              0.7777777777777778,
              "#fb9f3a"
             ],
             [
              0.8888888888888888,
              "#fdca26"
             ],
             [
              1,
              "#f0f921"
             ]
            ],
            "type": "histogram2dcontour"
           }
          ],
          "mesh3d": [
           {
            "colorbar": {
             "outlinewidth": 0,
             "ticks": ""
            },
            "type": "mesh3d"
           }
          ],
          "parcoords": [
           {
            "line": {
             "colorbar": {
              "outlinewidth": 0,
              "ticks": ""
             }
            },
            "type": "parcoords"
           }
          ],
          "pie": [
           {
            "automargin": true,
            "type": "pie"
           }
          ],
          "scatter": [
           {
            "fillpattern": {
             "fillmode": "overlay",
             "size": 10,
             "solidity": 0.2
            },
            "type": "scatter"
           }
          ],
          "scatter3d": [
           {
            "line": {
             "colorbar": {
              "outlinewidth": 0,
              "ticks": ""
             }
            },
            "marker": {
             "colorbar": {
              "outlinewidth": 0,
              "ticks": ""
             }
            },
            "type": "scatter3d"
           }
          ],
          "scattercarpet": [
           {
            "marker": {
             "colorbar": {
              "outlinewidth": 0,
              "ticks": ""
             }
            },
            "type": "scattercarpet"
           }
          ],
          "scattergeo": [
           {
            "marker": {
             "colorbar": {
              "outlinewidth": 0,
              "ticks": ""
             }
            },
            "type": "scattergeo"
           }
          ],
          "scattergl": [
           {
            "marker": {
             "colorbar": {
              "outlinewidth": 0,
              "ticks": ""
             }
            },
            "type": "scattergl"
           }
          ],
          "scattermapbox": [
           {
            "marker": {
             "colorbar": {
              "outlinewidth": 0,
              "ticks": ""
             }
            },
            "type": "scattermapbox"
           }
          ],
          "scatterpolar": [
           {
            "marker": {
             "colorbar": {
              "outlinewidth": 0,
              "ticks": ""
             }
            },
            "type": "scatterpolar"
           }
          ],
          "scatterpolargl": [
           {
            "marker": {
             "colorbar": {
              "outlinewidth": 0,
              "ticks": ""
             }
            },
            "type": "scatterpolargl"
           }
          ],
          "scatterternary": [
           {
            "marker": {
             "colorbar": {
              "outlinewidth": 0,
              "ticks": ""
             }
            },
            "type": "scatterternary"
           }
          ],
          "surface": [
           {
            "colorbar": {
             "outlinewidth": 0,
             "ticks": ""
            },
            "colorscale": [
             [
              0,
              "#0d0887"
             ],
             [
              0.1111111111111111,
              "#46039f"
             ],
             [
              0.2222222222222222,
              "#7201a8"
             ],
             [
              0.3333333333333333,
              "#9c179e"
             ],
             [
              0.4444444444444444,
              "#bd3786"
             ],
             [
              0.5555555555555556,
              "#d8576b"
             ],
             [
              0.6666666666666666,
              "#ed7953"
             ],
             [
              0.7777777777777778,
              "#fb9f3a"
             ],
             [
              0.8888888888888888,
              "#fdca26"
             ],
             [
              1,
              "#f0f921"
             ]
            ],
            "type": "surface"
           }
          ],
          "table": [
           {
            "cells": {
             "fill": {
              "color": "#EBF0F8"
             },
             "line": {
              "color": "white"
             }
            },
            "header": {
             "fill": {
              "color": "#C8D4E3"
             },
             "line": {
              "color": "white"
             }
            },
            "type": "table"
           }
          ]
         },
         "layout": {
          "annotationdefaults": {
           "arrowcolor": "#2a3f5f",
           "arrowhead": 0,
           "arrowwidth": 1
          },
          "autotypenumbers": "strict",
          "coloraxis": {
           "colorbar": {
            "outlinewidth": 0,
            "ticks": ""
           }
          },
          "colorscale": {
           "diverging": [
            [
             0,
             "#8e0152"
            ],
            [
             0.1,
             "#c51b7d"
            ],
            [
             0.2,
             "#de77ae"
            ],
            [
             0.3,
             "#f1b6da"
            ],
            [
             0.4,
             "#fde0ef"
            ],
            [
             0.5,
             "#f7f7f7"
            ],
            [
             0.6,
             "#e6f5d0"
            ],
            [
             0.7,
             "#b8e186"
            ],
            [
             0.8,
             "#7fbc41"
            ],
            [
             0.9,
             "#4d9221"
            ],
            [
             1,
             "#276419"
            ]
           ],
           "sequential": [
            [
             0,
             "#0d0887"
            ],
            [
             0.1111111111111111,
             "#46039f"
            ],
            [
             0.2222222222222222,
             "#7201a8"
            ],
            [
             0.3333333333333333,
             "#9c179e"
            ],
            [
             0.4444444444444444,
             "#bd3786"
            ],
            [
             0.5555555555555556,
             "#d8576b"
            ],
            [
             0.6666666666666666,
             "#ed7953"
            ],
            [
             0.7777777777777778,
             "#fb9f3a"
            ],
            [
             0.8888888888888888,
             "#fdca26"
            ],
            [
             1,
             "#f0f921"
            ]
           ],
           "sequentialminus": [
            [
             0,
             "#0d0887"
            ],
            [
             0.1111111111111111,
             "#46039f"
            ],
            [
             0.2222222222222222,
             "#7201a8"
            ],
            [
             0.3333333333333333,
             "#9c179e"
            ],
            [
             0.4444444444444444,
             "#bd3786"
            ],
            [
             0.5555555555555556,
             "#d8576b"
            ],
            [
             0.6666666666666666,
             "#ed7953"
            ],
            [
             0.7777777777777778,
             "#fb9f3a"
            ],
            [
             0.8888888888888888,
             "#fdca26"
            ],
            [
             1,
             "#f0f921"
            ]
           ]
          },
          "colorway": [
           "#636efa",
           "#EF553B",
           "#00cc96",
           "#ab63fa",
           "#FFA15A",
           "#19d3f3",
           "#FF6692",
           "#B6E880",
           "#FF97FF",
           "#FECB52"
          ],
          "font": {
           "color": "#2a3f5f"
          },
          "geo": {
           "bgcolor": "white",
           "lakecolor": "white",
           "landcolor": "#E5ECF6",
           "showlakes": true,
           "showland": true,
           "subunitcolor": "white"
          },
          "hoverlabel": {
           "align": "left"
          },
          "hovermode": "closest",
          "mapbox": {
           "style": "light"
          },
          "paper_bgcolor": "white",
          "plot_bgcolor": "#E5ECF6",
          "polar": {
           "angularaxis": {
            "gridcolor": "white",
            "linecolor": "white",
            "ticks": ""
           },
           "bgcolor": "#E5ECF6",
           "radialaxis": {
            "gridcolor": "white",
            "linecolor": "white",
            "ticks": ""
           }
          },
          "scene": {
           "xaxis": {
            "backgroundcolor": "#E5ECF6",
            "gridcolor": "white",
            "gridwidth": 2,
            "linecolor": "white",
            "showbackground": true,
            "ticks": "",
            "zerolinecolor": "white"
           },
           "yaxis": {
            "backgroundcolor": "#E5ECF6",
            "gridcolor": "white",
            "gridwidth": 2,
            "linecolor": "white",
            "showbackground": true,
            "ticks": "",
            "zerolinecolor": "white"
           },
           "zaxis": {
            "backgroundcolor": "#E5ECF6",
            "gridcolor": "white",
            "gridwidth": 2,
            "linecolor": "white",
            "showbackground": true,
            "ticks": "",
            "zerolinecolor": "white"
           }
          },
          "shapedefaults": {
           "line": {
            "color": "#2a3f5f"
           }
          },
          "ternary": {
           "aaxis": {
            "gridcolor": "white",
            "linecolor": "white",
            "ticks": ""
           },
           "baxis": {
            "gridcolor": "white",
            "linecolor": "white",
            "ticks": ""
           },
           "bgcolor": "#E5ECF6",
           "caxis": {
            "gridcolor": "white",
            "linecolor": "white",
            "ticks": ""
           }
          },
          "title": {
           "x": 0.05
          },
          "xaxis": {
           "automargin": true,
           "gridcolor": "white",
           "linecolor": "white",
           "ticks": "",
           "title": {
            "standoff": 15
           },
           "zerolinecolor": "white",
           "zerolinewidth": 2
          },
          "yaxis": {
           "automargin": true,
           "gridcolor": "white",
           "linecolor": "white",
           "ticks": "",
           "title": {
            "standoff": 15
           },
           "zerolinecolor": "white",
           "zerolinewidth": 2
          }
         }
        },
        "yaxis": {
         "gridcolor": "#dddcda",
         "title": {
          "text": "Número de casas"
         }
        }
       }
      }
     },
     "metadata": {},
     "output_type": "display_data"
    }
   ],
   "source": [
    "import os\n",
    "import pandas as pd\n",
    "import plotly.graph_objects as go\n",
    "import plotly.io as pio\n",
    "\n",
    "colores = ['#2962ff', '#9500ff', '#ff0059', '#ff8c00', '#b4e600', '#2EC2A2','#E50CB6','#4225CF','#2CBA4D']\n",
    "orden_personalizado = ['7', '8', '9', '10', '11', '12', '13-18','19-24','>24']\n",
    "orden_segmentos=[\"E\", \"D\", \"C\", \"B\",\"A\", \"S\", \"L\", ]\n",
    "\n",
    "def sumar_tablas(dataframes_list):\n",
    "    tabla_suma = None\n",
    "    for df in dataframes_list:\n",
    "        #df['segmento'] = df['categoria'].str[0]\n",
    "        df['segmento'] = pd.Categorical(df['segmento'], categories=orden_segmentos, ordered=True)\n",
    "        df.loc[:, 'segmento'] = df['categoria'].str[0]\n",
    "        tabla_actual = df.groupby(['segmento', 'antiguedad_categoria'],observed=False).size().unstack(fill_value=0)\n",
    "        \n",
    "        if tabla_suma is None:\n",
    "            tabla_suma = tabla_actual\n",
    "        else:\n",
    "            tabla_suma = tabla_suma.add(tabla_actual, fill_value=0)\n",
    "    \n",
    "    tabla_suma = tabla_suma[orden_personalizado]\n",
    "    \n",
    "    print(\"Tabla general de frecuencia:\")\n",
    "    print(tabla_suma)\n",
    "    \n",
    "    fig = graficar_tabla(tabla_suma)\n",
    "    \n",
    "    # Para guardar la gráfica como archivo HTML\n",
    "    guardar_grafico_como_html(fig, 'g_bar_tiempoventa', carpeta='assets/graficas')\n",
    "    \n",
    "    return fig\n",
    "\n",
    "def graficar_tabla(tabla):\n",
    "    segmentos = tabla.index  \n",
    "    tiempo = tabla.columns\n",
    "    \n",
    "    fig = go.Figure()\n",
    "        \n",
    "    for i, tiempo_categoria in enumerate(tiempo):\n",
    "        color = colores[i % len(colores)]\n",
    "        fig.add_trace(go.Bar(\n",
    "            x=segmentos,\n",
    "            y=tabla[tiempo_categoria],\n",
    "            name=tiempo_categoria,\n",
    "            marker_color=color\n",
    "        ))\n",
    "    \n",
    "    fig.update_layout(\n",
    "        #title=\"Meses de antigüedad\",\n",
    "        yaxis=dict(\n",
    "            title=\"Número de casas\",\n",
    "            gridcolor='#dddcda',\n",
    "        ),\n",
    "        legend_title=\"Antigüedad\",\n",
    "        margin=dict(l=10, r=10, t=10, b=10),  # Ajusta los márgenes (left, right, top, bottom)\n",
    "        barmode='group',\n",
    "        legend=dict(\n",
    "            orientation='h',\n",
    "            yanchor='bottom',\n",
    "            y=1.02,\n",
    "            xanchor='right',\n",
    "            x=1\n",
    "        ),\n",
    "        plot_bgcolor='rgba(0,0,0,0)',\n",
    "    )\n",
    "    \n",
    "    fig.show()\n",
    "    return fig\n",
    "\n",
    "def guardar_grafico_como_html(fig, nombre_archivo, carpeta='assets/graficas'):\n",
    "    if not os.path.exists(carpeta):\n",
    "        os.makedirs(carpeta)\n",
    "    \n",
    "    pio.write_html(fig, f'{carpeta}/{nombre_archivo}.html')\n",
    "\n",
    "# Supongamos que tienes una lista de DataFrames llamada dataframes_list\n",
    "fig = sumar_tablas(dataframes_list)\n"
   ]
  },
  {
   "cell_type": "markdown",
   "metadata": {},
   "source": [
    "## Totales"
   ]
  },
  {
   "cell_type": "code",
   "execution_count": 13,
   "metadata": {},
   "outputs": [
    {
     "data": {
      "text/html": [
       "<div>\n",
       "<style scoped>\n",
       "    .dataframe tbody tr th:only-of-type {\n",
       "        vertical-align: middle;\n",
       "    }\n",
       "\n",
       "    .dataframe tbody tr th {\n",
       "        vertical-align: top;\n",
       "    }\n",
       "\n",
       "    .dataframe thead th {\n",
       "        text-align: right;\n",
       "    }\n",
       "</style>\n",
       "<table border=\"1\" class=\"dataframe\">\n",
       "  <thead>\n",
       "    <tr style=\"text-align: right;\">\n",
       "      <th></th>\n",
       "      <th>count</th>\n",
       "      <th>antiguedad_categoria</th>\n",
       "    </tr>\n",
       "  </thead>\n",
       "  <tbody>\n",
       "    <tr>\n",
       "      <th>0</th>\n",
       "      <td>6604.0</td>\n",
       "      <td>7</td>\n",
       "    </tr>\n",
       "    <tr>\n",
       "      <th>1</th>\n",
       "      <td>992.0</td>\n",
       "      <td>8</td>\n",
       "    </tr>\n",
       "    <tr>\n",
       "      <th>2</th>\n",
       "      <td>1084.0</td>\n",
       "      <td>9</td>\n",
       "    </tr>\n",
       "    <tr>\n",
       "      <th>3</th>\n",
       "      <td>1112.0</td>\n",
       "      <td>10</td>\n",
       "    </tr>\n",
       "    <tr>\n",
       "      <th>4</th>\n",
       "      <td>609.0</td>\n",
       "      <td>11</td>\n",
       "    </tr>\n",
       "    <tr>\n",
       "      <th>5</th>\n",
       "      <td>629.0</td>\n",
       "      <td>12</td>\n",
       "    </tr>\n",
       "    <tr>\n",
       "      <th>6</th>\n",
       "      <td>9659.0</td>\n",
       "      <td>13-18</td>\n",
       "    </tr>\n",
       "    <tr>\n",
       "      <th>7</th>\n",
       "      <td>509.0</td>\n",
       "      <td>19-24</td>\n",
       "    </tr>\n",
       "    <tr>\n",
       "      <th>8</th>\n",
       "      <td>195.0</td>\n",
       "      <td>&gt;24</td>\n",
       "    </tr>\n",
       "  </tbody>\n",
       "</table>\n",
       "</div>"
      ],
      "text/plain": [
       "    count antiguedad_categoria\n",
       "0  6604.0                    7\n",
       "1   992.0                    8\n",
       "2  1084.0                    9\n",
       "3  1112.0                   10\n",
       "4   609.0                   11\n",
       "5   629.0                   12\n",
       "6  9659.0                13-18\n",
       "7   509.0                19-24\n",
       "8   195.0                  >24"
      ]
     },
     "execution_count": 13,
     "metadata": {},
     "output_type": "execute_result"
    }
   ],
   "source": [
    "# Orden personalizado\n",
    "orden_personalizado = ['7', '8', '9', '10', '11', '12', '13-18','19-24','>24']\n",
    "\n",
    "tabla_suma = None\n",
    "# Iterar sobre cada DataFrame en la lista\n",
    "for df in dataframes_list:\n",
    "    # Contar los registros por cada categoría de antigüedad\n",
    "    tabla_actual = df['antiguedad_categoria'].value_counts().sort_index()    \n",
    "    \n",
    "    # Sumar la tabla actual al acumulador (tabla_suma)\n",
    "    if tabla_suma is None:\n",
    "        tabla_suma = tabla_actual\n",
    "    else:\n",
    "        tabla_suma = tabla_suma.add(tabla_actual, fill_value=0)\n",
    "\n",
    "# Reordenar las columnas según el orden personalizado\n",
    "tabla_suma = tabla_suma[orden_personalizado]\n",
    "\n",
    "# Crear un DataFrame a partir de la tabla acumulativa\n",
    "df_acumulado = pd.DataFrame(tabla_suma)\n",
    "df_acumulado.columns = ['count']\n",
    "df_acumulado['antiguedad_categoria'] = df_acumulado.index\n",
    "\n",
    "# Reiniciar el índice del DataFrame\n",
    "df_acumulado.reset_index(drop=True, inplace=True)\n",
    "df_acumulado"
   ]
  },
  {
   "cell_type": "code",
   "execution_count": 14,
   "metadata": {},
   "outputs": [
    {
     "data": {
      "application/vnd.plotly.v1+json": {
       "config": {
        "plotlyServerURL": "https://plot.ly"
       },
       "data": [
        {
         "marker": {
          "color": [
           "#2962ff",
           "#9500ff",
           "#ff0059",
           "#ff8c00",
           "#b4e600",
           "#2EC2A2",
           "#E50CB6",
           "#4225CF",
           "#2CBA4D"
          ]
         },
         "text": [
          6604,
          992,
          1084,
          1112,
          609,
          629,
          9659,
          509,
          195
         ],
         "textposition": "outside",
         "type": "bar",
         "x": [
          "7",
          "8",
          "9",
          "10",
          "11",
          "12",
          "13-18",
          "19-24",
          ">24"
         ],
         "y": [
          6604,
          992,
          1084,
          1112,
          609,
          629,
          9659,
          509,
          195
         ]
        }
       ],
       "layout": {
        "margin": {
         "b": 10,
         "l": 10,
         "r": 10,
         "t": 10
        },
        "plot_bgcolor": "rgba(0,0,0,0)",
        "template": {
         "data": {
          "bar": [
           {
            "error_x": {
             "color": "#2a3f5f"
            },
            "error_y": {
             "color": "#2a3f5f"
            },
            "marker": {
             "line": {
              "color": "#E5ECF6",
              "width": 0.5
             },
             "pattern": {
              "fillmode": "overlay",
              "size": 10,
              "solidity": 0.2
             }
            },
            "type": "bar"
           }
          ],
          "barpolar": [
           {
            "marker": {
             "line": {
              "color": "#E5ECF6",
              "width": 0.5
             },
             "pattern": {
              "fillmode": "overlay",
              "size": 10,
              "solidity": 0.2
             }
            },
            "type": "barpolar"
           }
          ],
          "carpet": [
           {
            "aaxis": {
             "endlinecolor": "#2a3f5f",
             "gridcolor": "white",
             "linecolor": "white",
             "minorgridcolor": "white",
             "startlinecolor": "#2a3f5f"
            },
            "baxis": {
             "endlinecolor": "#2a3f5f",
             "gridcolor": "white",
             "linecolor": "white",
             "minorgridcolor": "white",
             "startlinecolor": "#2a3f5f"
            },
            "type": "carpet"
           }
          ],
          "choropleth": [
           {
            "colorbar": {
             "outlinewidth": 0,
             "ticks": ""
            },
            "type": "choropleth"
           }
          ],
          "contour": [
           {
            "colorbar": {
             "outlinewidth": 0,
             "ticks": ""
            },
            "colorscale": [
             [
              0,
              "#0d0887"
             ],
             [
              0.1111111111111111,
              "#46039f"
             ],
             [
              0.2222222222222222,
              "#7201a8"
             ],
             [
              0.3333333333333333,
              "#9c179e"
             ],
             [
              0.4444444444444444,
              "#bd3786"
             ],
             [
              0.5555555555555556,
              "#d8576b"
             ],
             [
              0.6666666666666666,
              "#ed7953"
             ],
             [
              0.7777777777777778,
              "#fb9f3a"
             ],
             [
              0.8888888888888888,
              "#fdca26"
             ],
             [
              1,
              "#f0f921"
             ]
            ],
            "type": "contour"
           }
          ],
          "contourcarpet": [
           {
            "colorbar": {
             "outlinewidth": 0,
             "ticks": ""
            },
            "type": "contourcarpet"
           }
          ],
          "heatmap": [
           {
            "colorbar": {
             "outlinewidth": 0,
             "ticks": ""
            },
            "colorscale": [
             [
              0,
              "#0d0887"
             ],
             [
              0.1111111111111111,
              "#46039f"
             ],
             [
              0.2222222222222222,
              "#7201a8"
             ],
             [
              0.3333333333333333,
              "#9c179e"
             ],
             [
              0.4444444444444444,
              "#bd3786"
             ],
             [
              0.5555555555555556,
              "#d8576b"
             ],
             [
              0.6666666666666666,
              "#ed7953"
             ],
             [
              0.7777777777777778,
              "#fb9f3a"
             ],
             [
              0.8888888888888888,
              "#fdca26"
             ],
             [
              1,
              "#f0f921"
             ]
            ],
            "type": "heatmap"
           }
          ],
          "heatmapgl": [
           {
            "colorbar": {
             "outlinewidth": 0,
             "ticks": ""
            },
            "colorscale": [
             [
              0,
              "#0d0887"
             ],
             [
              0.1111111111111111,
              "#46039f"
             ],
             [
              0.2222222222222222,
              "#7201a8"
             ],
             [
              0.3333333333333333,
              "#9c179e"
             ],
             [
              0.4444444444444444,
              "#bd3786"
             ],
             [
              0.5555555555555556,
              "#d8576b"
             ],
             [
              0.6666666666666666,
              "#ed7953"
             ],
             [
              0.7777777777777778,
              "#fb9f3a"
             ],
             [
              0.8888888888888888,
              "#fdca26"
             ],
             [
              1,
              "#f0f921"
             ]
            ],
            "type": "heatmapgl"
           }
          ],
          "histogram": [
           {
            "marker": {
             "pattern": {
              "fillmode": "overlay",
              "size": 10,
              "solidity": 0.2
             }
            },
            "type": "histogram"
           }
          ],
          "histogram2d": [
           {
            "colorbar": {
             "outlinewidth": 0,
             "ticks": ""
            },
            "colorscale": [
             [
              0,
              "#0d0887"
             ],
             [
              0.1111111111111111,
              "#46039f"
             ],
             [
              0.2222222222222222,
              "#7201a8"
             ],
             [
              0.3333333333333333,
              "#9c179e"
             ],
             [
              0.4444444444444444,
              "#bd3786"
             ],
             [
              0.5555555555555556,
              "#d8576b"
             ],
             [
              0.6666666666666666,
              "#ed7953"
             ],
             [
              0.7777777777777778,
              "#fb9f3a"
             ],
             [
              0.8888888888888888,
              "#fdca26"
             ],
             [
              1,
              "#f0f921"
             ]
            ],
            "type": "histogram2d"
           }
          ],
          "histogram2dcontour": [
           {
            "colorbar": {
             "outlinewidth": 0,
             "ticks": ""
            },
            "colorscale": [
             [
              0,
              "#0d0887"
             ],
             [
              0.1111111111111111,
              "#46039f"
             ],
             [
              0.2222222222222222,
              "#7201a8"
             ],
             [
              0.3333333333333333,
              "#9c179e"
             ],
             [
              0.4444444444444444,
              "#bd3786"
             ],
             [
              0.5555555555555556,
              "#d8576b"
             ],
             [
              0.6666666666666666,
              "#ed7953"
             ],
             [
              0.7777777777777778,
              "#fb9f3a"
             ],
             [
              0.8888888888888888,
              "#fdca26"
             ],
             [
              1,
              "#f0f921"
             ]
            ],
            "type": "histogram2dcontour"
           }
          ],
          "mesh3d": [
           {
            "colorbar": {
             "outlinewidth": 0,
             "ticks": ""
            },
            "type": "mesh3d"
           }
          ],
          "parcoords": [
           {
            "line": {
             "colorbar": {
              "outlinewidth": 0,
              "ticks": ""
             }
            },
            "type": "parcoords"
           }
          ],
          "pie": [
           {
            "automargin": true,
            "type": "pie"
           }
          ],
          "scatter": [
           {
            "fillpattern": {
             "fillmode": "overlay",
             "size": 10,
             "solidity": 0.2
            },
            "type": "scatter"
           }
          ],
          "scatter3d": [
           {
            "line": {
             "colorbar": {
              "outlinewidth": 0,
              "ticks": ""
             }
            },
            "marker": {
             "colorbar": {
              "outlinewidth": 0,
              "ticks": ""
             }
            },
            "type": "scatter3d"
           }
          ],
          "scattercarpet": [
           {
            "marker": {
             "colorbar": {
              "outlinewidth": 0,
              "ticks": ""
             }
            },
            "type": "scattercarpet"
           }
          ],
          "scattergeo": [
           {
            "marker": {
             "colorbar": {
              "outlinewidth": 0,
              "ticks": ""
             }
            },
            "type": "scattergeo"
           }
          ],
          "scattergl": [
           {
            "marker": {
             "colorbar": {
              "outlinewidth": 0,
              "ticks": ""
             }
            },
            "type": "scattergl"
           }
          ],
          "scattermapbox": [
           {
            "marker": {
             "colorbar": {
              "outlinewidth": 0,
              "ticks": ""
             }
            },
            "type": "scattermapbox"
           }
          ],
          "scatterpolar": [
           {
            "marker": {
             "colorbar": {
              "outlinewidth": 0,
              "ticks": ""
             }
            },
            "type": "scatterpolar"
           }
          ],
          "scatterpolargl": [
           {
            "marker": {
             "colorbar": {
              "outlinewidth": 0,
              "ticks": ""
             }
            },
            "type": "scatterpolargl"
           }
          ],
          "scatterternary": [
           {
            "marker": {
             "colorbar": {
              "outlinewidth": 0,
              "ticks": ""
             }
            },
            "type": "scatterternary"
           }
          ],
          "surface": [
           {
            "colorbar": {
             "outlinewidth": 0,
             "ticks": ""
            },
            "colorscale": [
             [
              0,
              "#0d0887"
             ],
             [
              0.1111111111111111,
              "#46039f"
             ],
             [
              0.2222222222222222,
              "#7201a8"
             ],
             [
              0.3333333333333333,
              "#9c179e"
             ],
             [
              0.4444444444444444,
              "#bd3786"
             ],
             [
              0.5555555555555556,
              "#d8576b"
             ],
             [
              0.6666666666666666,
              "#ed7953"
             ],
             [
              0.7777777777777778,
              "#fb9f3a"
             ],
             [
              0.8888888888888888,
              "#fdca26"
             ],
             [
              1,
              "#f0f921"
             ]
            ],
            "type": "surface"
           }
          ],
          "table": [
           {
            "cells": {
             "fill": {
              "color": "#EBF0F8"
             },
             "line": {
              "color": "white"
             }
            },
            "header": {
             "fill": {
              "color": "#C8D4E3"
             },
             "line": {
              "color": "white"
             }
            },
            "type": "table"
           }
          ]
         },
         "layout": {
          "annotationdefaults": {
           "arrowcolor": "#2a3f5f",
           "arrowhead": 0,
           "arrowwidth": 1
          },
          "autotypenumbers": "strict",
          "coloraxis": {
           "colorbar": {
            "outlinewidth": 0,
            "ticks": ""
           }
          },
          "colorscale": {
           "diverging": [
            [
             0,
             "#8e0152"
            ],
            [
             0.1,
             "#c51b7d"
            ],
            [
             0.2,
             "#de77ae"
            ],
            [
             0.3,
             "#f1b6da"
            ],
            [
             0.4,
             "#fde0ef"
            ],
            [
             0.5,
             "#f7f7f7"
            ],
            [
             0.6,
             "#e6f5d0"
            ],
            [
             0.7,
             "#b8e186"
            ],
            [
             0.8,
             "#7fbc41"
            ],
            [
             0.9,
             "#4d9221"
            ],
            [
             1,
             "#276419"
            ]
           ],
           "sequential": [
            [
             0,
             "#0d0887"
            ],
            [
             0.1111111111111111,
             "#46039f"
            ],
            [
             0.2222222222222222,
             "#7201a8"
            ],
            [
             0.3333333333333333,
             "#9c179e"
            ],
            [
             0.4444444444444444,
             "#bd3786"
            ],
            [
             0.5555555555555556,
             "#d8576b"
            ],
            [
             0.6666666666666666,
             "#ed7953"
            ],
            [
             0.7777777777777778,
             "#fb9f3a"
            ],
            [
             0.8888888888888888,
             "#fdca26"
            ],
            [
             1,
             "#f0f921"
            ]
           ],
           "sequentialminus": [
            [
             0,
             "#0d0887"
            ],
            [
             0.1111111111111111,
             "#46039f"
            ],
            [
             0.2222222222222222,
             "#7201a8"
            ],
            [
             0.3333333333333333,
             "#9c179e"
            ],
            [
             0.4444444444444444,
             "#bd3786"
            ],
            [
             0.5555555555555556,
             "#d8576b"
            ],
            [
             0.6666666666666666,
             "#ed7953"
            ],
            [
             0.7777777777777778,
             "#fb9f3a"
            ],
            [
             0.8888888888888888,
             "#fdca26"
            ],
            [
             1,
             "#f0f921"
            ]
           ]
          },
          "colorway": [
           "#636efa",
           "#EF553B",
           "#00cc96",
           "#ab63fa",
           "#FFA15A",
           "#19d3f3",
           "#FF6692",
           "#B6E880",
           "#FF97FF",
           "#FECB52"
          ],
          "font": {
           "color": "#2a3f5f"
          },
          "geo": {
           "bgcolor": "white",
           "lakecolor": "white",
           "landcolor": "#E5ECF6",
           "showlakes": true,
           "showland": true,
           "subunitcolor": "white"
          },
          "hoverlabel": {
           "align": "left"
          },
          "hovermode": "closest",
          "mapbox": {
           "style": "light"
          },
          "paper_bgcolor": "white",
          "plot_bgcolor": "#E5ECF6",
          "polar": {
           "angularaxis": {
            "gridcolor": "white",
            "linecolor": "white",
            "ticks": ""
           },
           "bgcolor": "#E5ECF6",
           "radialaxis": {
            "gridcolor": "white",
            "linecolor": "white",
            "ticks": ""
           }
          },
          "scene": {
           "xaxis": {
            "backgroundcolor": "#E5ECF6",
            "gridcolor": "white",
            "gridwidth": 2,
            "linecolor": "white",
            "showbackground": true,
            "ticks": "",
            "zerolinecolor": "white"
           },
           "yaxis": {
            "backgroundcolor": "#E5ECF6",
            "gridcolor": "white",
            "gridwidth": 2,
            "linecolor": "white",
            "showbackground": true,
            "ticks": "",
            "zerolinecolor": "white"
           },
           "zaxis": {
            "backgroundcolor": "#E5ECF6",
            "gridcolor": "white",
            "gridwidth": 2,
            "linecolor": "white",
            "showbackground": true,
            "ticks": "",
            "zerolinecolor": "white"
           }
          },
          "shapedefaults": {
           "line": {
            "color": "#2a3f5f"
           }
          },
          "ternary": {
           "aaxis": {
            "gridcolor": "white",
            "linecolor": "white",
            "ticks": ""
           },
           "baxis": {
            "gridcolor": "white",
            "linecolor": "white",
            "ticks": ""
           },
           "bgcolor": "#E5ECF6",
           "caxis": {
            "gridcolor": "white",
            "linecolor": "white",
            "ticks": ""
           }
          },
          "title": {
           "x": 0.05
          },
          "xaxis": {
           "automargin": true,
           "gridcolor": "white",
           "linecolor": "white",
           "ticks": "",
           "title": {
            "standoff": 15
           },
           "zerolinecolor": "white",
           "zerolinewidth": 2
          },
          "yaxis": {
           "automargin": true,
           "gridcolor": "white",
           "linecolor": "white",
           "ticks": "",
           "title": {
            "standoff": 15
           },
           "zerolinecolor": "white",
           "zerolinewidth": 2
          }
         }
        },
        "xaxis": {
         "title": {
          "text": "Meses de antigüedad"
         }
        },
        "yaxis": {
         "gridcolor": "#dddcda",
         "gridwidth": 1,
         "title": {
          "text": "Número de casas"
         }
        }
       }
      }
     },
     "metadata": {},
     "output_type": "display_data"
    }
   ],
   "source": [
    "fig = go.Figure()\n",
    "colores = ['#2962ff', '#9500ff', '#ff0059', '#ff8c00', '#b4e600', '#2EC2A2','#E50CB6','#4225CF','#2CBA4D']\n",
    "count = df_acumulado['count']\n",
    "\n",
    "fig.add_trace(go.Bar(\n",
    "    x=df_acumulado['antiguedad_categoria'], \n",
    "    y=df_acumulado['count'], \n",
    "    marker_color=colores,  # Especifica los colores de las barras\n",
    "    text=count,  # Texto que se mostrará en las barras \n",
    "    textposition='outside',  # Posición del texto (puede ser 'inside' o 'outside')\n",
    "    #texttemplate='%{text:.1f}%',  # Formato del texto (porcentaje con un decimal)\n",
    "))\n",
    "# Personalizar el diseño de la gráfica\n",
    "fig.update_layout(\n",
    "    #title='Meses de antigüedad',  # Título de la gráfica\n",
    "   xaxis=dict(title='Meses de antigüedad'),  # Título del eje x\n",
    "    yaxis=dict(\n",
    "        title='Número de casas', # Título del eje y\n",
    "        gridcolor='#dddcda', # Color de las líneas que dividen los rangos del eje Y\n",
    "         gridwidth=1,\n",
    "    ),  \n",
    "    margin=dict(l=10, r=10, t=10, b=10),  # Ajusta los márgenes (left, right, top, bottom)        \n",
    "    plot_bgcolor='rgba(0,0,0,0)',  # Color de fondo del gráfico\n",
    ")\n",
    "\n",
    "# Exportar gráfica como archivo HTML\n",
    "def guardar_grafico_como_html(fig, nombre_archivo, carpeta='assets/graficas'):\n",
    "    # Crear la carpeta si no existe\n",
    "    if not os.path.exists(carpeta):\n",
    "        os.makedirs(carpeta)\n",
    "    \n",
    "    # Gráfica como archivo HTML en la carpeta especificada\n",
    "    pio.write_html(fig, f'{carpeta}/{nombre_archivo}.html')\n",
    "\n",
    "# Exportar\n",
    "guardar_grafico_como_html(fig, 'g_bar_tiempoventa_total', carpeta='assets/graficas')\n",
    "fig.show()"
   ]
  },
  {
   "cell_type": "code",
   "execution_count": null,
   "metadata": {},
   "outputs": [],
   "source": []
  }
 ],
 "metadata": {
  "kernelspec": {
   "display_name": "base",
   "language": "python",
   "name": "python3"
  },
  "language_info": {
   "codemirror_mode": {
    "name": "ipython",
    "version": 3
   },
   "file_extension": ".py",
   "mimetype": "text/x-python",
   "name": "python",
   "nbconvert_exporter": "python",
   "pygments_lexer": "ipython3",
   "version": "3.9.13"
  }
 },
 "nbformat": 4,
 "nbformat_minor": 2
}
