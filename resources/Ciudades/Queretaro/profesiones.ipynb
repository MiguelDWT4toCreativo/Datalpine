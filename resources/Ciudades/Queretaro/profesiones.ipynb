{
 "cells": [
  {
   "cell_type": "markdown",
   "metadata": {},
   "source": [
    "# **Profesiones**"
   ]
  },
  {
   "cell_type": "code",
   "execution_count": 2,
   "metadata": {},
   "outputs": [
    {
     "name": "stdout",
     "output_type": "stream",
     "text": [
      "Lista de DataFrames filtrados:\n"
     ]
    },
    {
     "data": {
      "text/plain": [
       "['df_alfa_abril_2024_queretaro',\n",
       " 'df_alfa_agosto_2024_queretaro',\n",
       " 'df_alfa_marzo_2024_queretaro',\n",
       " 'df_alfa_mayo_2024_queretaro',\n",
       " 'df_financiamientos_2019_queretaro',\n",
       " 'df_financiamientos_2020_queretaro',\n",
       " 'df_financiamientos_2021_queretaro',\n",
       " 'df_financiamientos_2022_queretaro',\n",
       " 'df_financiamientos_2023_queretaro',\n",
       " 'df_financiamientos_2024_queretaro',\n",
       " 'df_junio_2023_queretaro',\n",
       " 'df_poblacion_queretaro']"
      ]
     },
     "execution_count": 2,
     "metadata": {},
     "output_type": "execute_result"
    }
   ],
   "source": [
    "# Manejo de datos\n",
    "import os # Directorios\n",
    "import pandas as pd # Manipulación df\n",
    "# Gráficas\n",
    "import plotly.graph_objects as go #Para obtener librería usar: pip install plotly\n",
    "from plotly.subplots import make_subplots\n",
    "import plotly.io as pio # Exportar gráfica\n",
    "\n",
    "# Obtener el directorio actual de trabajo\n",
    "directorio_actual = os.getcwd()\n",
    "\n",
    "# Directorio donde se encuentran los archivos JSON (ruta relativa)\n",
    "directorio_json = os.path.join(directorio_actual, '../../db/datos_json')\n",
    "\n",
    "# Obtener la lista de archivos JSON en el directorio\n",
    "archivos_json = os.listdir(directorio_json)\n",
    "\n",
    "# Cargar los archivos JSON y crear DataFrames\n",
    "for archivo in archivos_json:\n",
    "    nombre_tabla = archivo.replace('datos_', '').replace('.json', '')\n",
    "    ruta_json = os.path.join(directorio_json, archivo)\n",
    "    globals()[f\"df_{nombre_tabla}\"] = pd.read_json(ruta_json)\n",
    "\n",
    "# Obtener todos los nombres de las variables globales\n",
    "nombres_variables_globales = list(globals().keys())\n",
    "\n",
    "# Filtrar los nombres que comienzan con \"df_\", contienen \"alfa_q\" y \"pachuca\"\n",
    "nombres_df_filtrados = [\n",
    "    nombre for nombre in nombres_variables_globales \n",
    "    if nombre.startswith(\"df_\") and \"queretaro\" in nombre\n",
    "]\n",
    "\n",
    "# Imprimir la lista de DataFrames filtrados\n",
    "print(\"Lista de DataFrames filtrados:\")\n",
    "nombres_df_filtrados"
   ]
  },
  {
   "cell_type": "code",
   "execution_count": null,
   "metadata": {},
   "outputs": [],
   "source": [
    "# Crear una lista de DataFrames seleccionados con las columnas específicas\n",
    "dataframes_list = []\n",
    "for nombre_df in nombres_df_filtrados:\n",
    "    # Seleccionar las columnas 'id' y 'categoria'\n",
    "    segment_df = globals()[nombre_df][['id_salarios', 'Occupation','Salario_Variable','Categoria']]\n",
    "    # Añadir el DataFrame a la lista\n",
    "    dataframes_list.append(segment_df)"
   ]
  },
  {
   "cell_type": "code",
   "execution_count": 4,
   "metadata": {},
   "outputs": [],
   "source": [
    "#Por si no se tiene el json, desde csv:\n",
    "#df = pd.read_csv('C:\\\\xampp\\\\htdocs/datalpine/resources/db/Scrapining/salarios/bases/QUERETARO_24.csv')\n",
    "\n",
    "#Por si no se tiene el json, desde csv:\n",
    "import os\n",
    "directorio_actual = os.getcwd()  # Cambiado de __file__ a getcwd()\n",
    "df = pd.read_csv(os.path.join(directorio_actual, '../../db/Scrapining/salarios/clean/QUERETARO_24.csv'))\n",
    "df_salarios_pachuca = df.copy()"
   ]
  },
  {
   "cell_type": "code",
   "execution_count": 5,
   "metadata": {},
   "outputs": [
    {
     "name": "stdout",
     "output_type": "stream",
     "text": [
      "Profesiones con los salarios más bajos:\n",
      "['Especialistas en Trabajo Social', 'Especialistas en Archivonomía, Biblioteconomía y Museografía', 'Bailarines y Coreógrafos', 'Actores', 'Veterinarios y Zootecnistas', 'Agrónomos', 'Ecólogos y Especialistas en Ciencias Atmosféricas', 'Investigadores y Especialistas en Física', 'Otros Operadores de Instalaciones y Maquinaria Fija Industrial, no Clasificados Anteriormente', 'Operadores de Máquinas e Instalaciones para la Generación de Energía', 'Recolectores de Leña y Acarreadores de Agua', 'Otros Operadores de Maquinaria Industrial, Ensambladores y Conductores de Transporte, no Clasificados Anteriormente', 'Supervisores de Trabajadores en la Elaboración y Procesamiento de Alimentos, Bebidas y Productos de Tabaco', 'Artesanos de Productos de Bejuco, Vara, Palma, Carrizo y Mimbre, Excepto Madera', 'Ingenieros en Minas, Metalurgia y Petróleo', 'Operadores de Máquinas y Equipos para la Captación, Bombeo y Distribución de Agua', 'Trabajadores de la Fuerza Armada Terrestre', 'Otros Profesores de Enseñanza Especial', 'Trabajadores en el Cultivo de Hortalizas y Verduras', 'Trabajadores en el Cultivo de Maíz Y/O Frijol', 'Operadores de Maquinaria Agropecuaria y Forestal', 'Techadores (Colocadores de Palapas, Etcétera)', 'Trabajadores en Actividades de Recolección de Plantas, Hierbas y Raíces no Cultivadas', 'Trabajadores en el Cultivo de Frutales', 'Especialistas en Seguridad e Higiene y Salud Pública', 'Administradores de Bases de Datos y Redes de Computadora', 'Supervisores de las Fuerzas Armadas', 'Farmacólogos', 'Supervisores de Mecánicos y Técnicos en Mantenimiento y Reparación de Equipos Mecánicos, Vehículos de Motor, Instrumentos Industriales y Equipo de Refrigeración', 'Diseñadores Gráficos', 'Decoradores de Interiores, Jardines y Diversos Materiales (Tazas, Llaveros, Etcétera)', 'Otros Comerciantes, Empleados en Ventas y Agentes de Ventas en Establecimientos, no Clasificados Anteriormente', 'Directores y Gerentes en Servicios de Salud, Protección Civil y Medio Ambiente', 'Directores y Gerentes en Producción Minera, Petrolera y Gas', 'Directores y Gerentes en Producción Agropecuaria, Silvícola y Pesquera', 'Directores y Gerentes en Desarrollo Social y Económico', 'Directores y Gerentes en Centros de Investigación y Desarrollo Tecnológico', 'Coordinadores y Jefes de Área en Generación y Provisión de Energía Eléctrica y Agua', 'Directores y Gerentes en Informática', 'Ocupaciones no Especificadas', 'Instructores en Estudios y Capacitación Comercial y Administrativa', 'Técnicos de Laboratorios Médicos', 'Bañeros y Masajistas', 'Deportistas', 'Carteros (A Pie y en Bicicleta)', 'Trabajadores en el Alquiler de Bienes Muebles (Loza, Películas, Video Juegos, Etcétera)', 'Pintores', 'Guías de Turismo en Museos, Casinos, Parques, Cines y otros Centros Recreativos', 'Tejedores de Fibras', 'Directores y Gerentes en Centros de Enseñanza y Capacitación', 'Operadores de Máquinas en la Elaboración de Celulosa, Papel y Similares', 'Supervisores de Conductores de Transporte y de Maquinaria Móvil', 'Dibujantes Técnicos', 'Bordadores y Deshiladores', 'Técnicos en Instalación y Reparación de Equipos Electrónicos, Telecomunicaciones y Electrodoméstico (Excepto Equipos Informáticos)', 'Lavanderos en Establecimientos', 'Auxiliares y Asistentes Dentales', 'Supervisores de Técnicos Eléctricos, en Electrónica y de Equipos en Telecomunicaciones y Electromecánicos', 'Fotógrafos', 'Auxiliares Hospitalarios y de Medicina', 'Clasificadores de Desechos', 'Operadores de Hornos Metalúrgicos, Coladores y Laminadores y Operadores de Máquinas Trefiladoras y Estiradoras de Metales', 'Maquillistas, Manicuristas, Pedicuristas y Tatuadores', 'Artesanos y Trabajadores en la Elaboración de Productos de Papel y Cartón', 'Trabajadores en la Cría de Caprinos y Ovinos', 'Trabajadores en Archivo y Correspondencia', 'Ayudantes de Conductores de Transporte Terrestre con Motor', 'Instructores en Estudios y Capacitación Artística', 'Supervisores y Encargados de Trabajadores en Cuidados Personales y del Hogar', 'Vendedores Ambulantes de Artículos Diversos (Excluyendo los de Venta de Alimentos)', 'Trabajadores en la Cría de Ganado Bovino', 'Vendedores por Catálogo', 'Comerciantes en Establecimientos', 'Peluqueros, Barberos, Estilistas y Peinadores', 'Cantineros', 'Trabajadores de Paquetería, Maleteros y Botones de Hotel', 'Dibujantes y Diseñadores Artísticos, Ilustradores y Grabadores', 'Recepcionistas y Trabajadores que Brindan Información (De Forma Personal)', 'Profesores de Preparatoria y Equivalentes', 'Técnicos en Medicina Alternativa', 'Trabajadores en la Cría de Porcinos', 'Empleados de Ventas, Despachadores y Dependientes en Comercios', 'Técnicos en Mantenimiento y Reparación de Maquinaria e Instrumentos Industriales', 'Impresores, Linotipistas, Fotograbadores y Encuadernadores', 'Trabajadores en el Alquiler Inmobiliario (Casas, Terrenos, Etcétera)', 'Trabajadores en la Elaboración de Productos de Carne, Pescado y sus Derivados', 'Pintores de Brocha Gorda', 'Trabajadores de Apoyo en la Industria Textil y del Zapato', 'Profesores de Enseñanza Primaria', 'Auxiliares en Administración, Mercadotecnia, Comercialización y Comercio Exterior', 'Vendedores por Teléfono', 'Ayudantes en la Preparación de Alimentos', 'Escritores y Críticos Literarios', 'Profesores de Enseñanza Preescolar', 'Trabajadores en Viveros e Invernaderos', 'Choferes en Casas Particulares', 'Capturistas de Datos', 'Trabajadores de Apoyo en la Industria de Alimentos, Bebidas y Productos de Tabaco', 'Carpinteros, Ebanistas y Cepilladores en la Elaboración de Productos de Madera', 'Meseros', 'Profesores en Educación Física y Deporte', 'Trabajadores en la Elaboración de Pan, Tortilla, Repostería, y otros Productos de Cereales y Harinas', 'Trabajadores en la Elaboración de Productos de Cemento, Cal, Yeso, Azulejo, Piedra y Ladrilleros', 'Ensambladores y Montadores de Herramientas, Maquinaria, Equipos y Productos Metálicos', 'Sastres y Modistos, Costureras y Confeccionadores de Prendas de Vestir', 'Operadores de Máquinas para la Elaboración de Productos Químicos', 'Asesores y Analistas en Finanzas', 'Electricistas y Linieros', 'Técnicos en la Instalación, Reparación y Mantenimiento de Equipos de Refrigeración, Climas y Aire Acondicionado', 'Preparadores y Vendedores Ambulantes de Alimentos', 'Trabajadores en Instalación y Reparación de Equipos Electrónicos, Telecomunicaciones y Electrodoméstico (Excepto Equipos Informáticos)', 'Auxiliares en Contabilidad, Economía, Finanzas y Agentes de Bolsa', 'Trabajadores en la Elaboración y Reparación de Productos de Hule, Caucho, Plásticos y Vulcanización de Neumáticos', 'Cobradores, Pagadores y Prestamistas', 'Moldeadores, Torneros y Troqueladores', 'Cajeros, Taquilleros y Receptores de Apuestas', 'Trabajadores de Apoyo en la Elaboración, Reparación y Mantenimiento Mecánico de Equipos, Maquinaria y Productos de Metal y de Precisión', 'Recolectores de Basura y Material Reciclable', 'Trabajadores de Apoyo en Actividades Agrícolas', 'Trabajadores de Apoyo en la Industria de la Madera, Papel y Cartón', 'Operadores de Máquinas en la Elaboración de Cemento, Cal, Yeso y Productos de Cemento', 'Trabajadores de Apoyo en la Industria Química, Petroquímica y Plásticos', 'Empacadores de Objetos y Mercancías', 'Trabajadores que Brindan Información por Teléfono (Centro de Llamadas) y Anunciadores', 'Secretarias', 'Trabajadores de Apoyo en la Minería', 'Abogados', 'Agentes de Seguros y Servicios Financieros (Ejecutivos de Cuenta)', 'Taqueros y Preparadores de Comida Rápida, Antojitos, Pizzas, Hot Dogs, Jugos, Café, Etcétera', 'Cargadores', 'Auxiliares y Técnicos en Ciencias Biológicas, Químicas y del Medio Ambiente', 'Supervisores de Operadores de Maquinaria Industrial', 'Trabajadores en Reparación de Equipos Electromecánicos', 'Coordinadores y Jefes de Área en Museos, Cines, Deportivos y Servicios Culturales', 'Zapateros Artesanales', 'Trabajadores en la Apicultura', 'Operadores de Máquinas para la Elaboración de Productos a Base de Papel y Cartón', 'Técnicos Eléctricos', 'Profesores Universitarios y de Enseñanza Superior', 'Vigilantes y Guardias en Establecimientos', 'Hojalateros, Chaperos, Latoneros, Cobreros y Pintores de Metales', 'Trabajadores Domésticos', 'Trabajadores en la Elaboración de Productos a Base de Frutas y Verduras', 'Encargados y Trabajadores en Control de Almacén y Bodega', 'Cerrajeros, Afiladores y Pulidores de Herramientas', 'Lavadores de Vehículos en Establecimientos', 'Trabajadores en la Elaboración de Productos a Base de Azúcar, Chocolate, Confitería y Tabaco', 'Diseñadores Industriales', 'Anaqueleros, Acomodadores y Seleccionadores de Mercancías y Alimentadores de Máquinas Expendedoras', 'Conductores de Camiones, Camionetas y Automóviles de Carga', 'Operadores de Máquinas para la Elaboración y Ensamble de Productos de Plástico y Hule', 'Directores y Gerentes de Museos, Cines y otros Establecimientos Deportivos y Culturales', 'Fonderos, Vendedores y Comerciantes de Comida', 'Trabajadores de Apoyo en la Industria Eléctrica, Electrónica y Comunicaciones', 'Auxiliares en Enfermería y Paramédicos', 'Herreros, Balconeros, Aluminadores y Forjadores', 'Ayudantes de Jardineros', 'Profesores de Enseñanza Secundaria', 'Trabajadores de Apoyo en Actividades Administrativas Diversas', 'Alfareros y Trabajadores Ceramistas']\n",
      "\n",
      "Profesiones con los salarios más altos:\n",
      "['Trabajadores de Apoyo en Actividades Silvícolas y Forestales', 'Directores y Gerentes en Servicios Funerarios y otros Servicios', 'Supervisores en la Preparación y Servicio de Alimentos y Bebidas, Así como en Servicios de Esparcimiento y de Hotelería', 'Operadores de Máquinas y Equipos de Hilar y Bobinar Fibras Textiles Naturales y Sintéticas', 'Cuidadores de Niños, Personas con Discapacidad y Ancianos en Establecimientos', 'Jardineros en Casas Particulares', 'Operadores de Máquinas y Equipos para la Extracción y Beneficio en Minas y Canteras', 'Operadores de Máquinas que Cortan, Perforan, Doblan, Troquelan, Sueldan, Etc., Piezas y Productos Metálicos', 'Barrenderos y Trabajadores de Limpieza (Excepto en Hoteles y Restaurantes)', 'Sacerdotes, Pastores y otros Teólogos', 'Conductores de Maquinaria Móvil para el Movimiento de Mercancías en Fábricas, Puertos, Comercios, Etcétera', 'Conductores de Autobuses, Camiones, Camionetas, Taxis y Automóviles de Pasajeros', 'Fumigadores y Controladores de Plagas', 'Investigadores y Especialistas en Sociología y Desarrollo Social', 'Operadores de Máquinas en la Elaboración de Alimentos, Aceites, Grasas, Sal y Especias', 'Agentes y Representantes de Ventas y Consignatarios', 'Choferes Vendedores', 'Mozos de Hotel y Restaurante', 'Mecánicos en Mantenimiento y Reparación de Maquinaria e Instrumentos Industriales', 'Ensambladores y Montadores de Partes Eléctricas y Electrónicas', 'Presidentes y Directores Generales en Instituciones Públicas', 'Trabajadores de Apoyo en la Construcción', 'Técnicos en Mantenimiento y Reparación de Instrumentos de Precisión y Musicales', 'Controladores de Tráfico de otros Transportes (Terrestre, Ferroviario y Marítimo)', 'Animadores y Organizadores de Eventos', 'Operadores de Máquinas de Costura, Bordado y de Corte para la Confección de Productos Textiles y Prendas de Vestir', 'Instaladores de Material Aislante, de Impermeabilización, Vidrio y otros Materiales', 'Operadores de Máquinas en la Elaboración de Vidrio y Productos de Vidrio y Similares', 'Supervisores en Servicios de Protección y Vigilancia', 'Trabajadores en la Extracción de Cantera, Arcilla, Arena, Piedra y Grava', 'Lecturistas de Medidores', 'Coordinadores y Jefes de Área en Construcción, Reparación y Mantenimiento', 'Policías y Agentes de Tránsito', 'Contadores y Auditores', 'Ingenieros Mecánicos', 'Cuidadores de Niños, Personas con Discapacidad y Ancianos en Casas Particulares', 'Tapiceros', 'Vigilantes y Porteros en Casas Particulares', 'Plomeros, Fontaneros e Instaladores de Tubería', 'Encargados y Supervisores de Ventas de Productos y de Servicios Financieros y de Alquiler', 'Ingenieros Eléctricos', 'Telefonistas y Telegrafistas', 'Ingenieros Industriales', 'Coordinadores y Jefes de Área en Administración, Recursos Humanos y Mercadotecnia', 'Médicos Generales y Familiares', 'Directores y Gerentes en Producción Manufacturera', 'Operadores de Máquinas de Lavado, Blanqueo, Teñido, Estampado, Afelpado, Planchado y Acabado de Productos Textiles, Cuero, Piel y Similares', 'Operadores de Máquinas para la Elaboración de Productos de Madera, Bejuco, Mimbre y Similares', 'Enfermeras (Técnicas)', 'Cocineros', 'Operadores de Máquinas para la Elaboración de Productos Farmacéuticos y Cosméticos', 'Supervisores en Procesos de Ensamblado y Montaje de Maquinaria, Herramientas y Productos Metálicos y Electrónicos', 'Mecánicos en Mantenimiento y Reparación de Vehículos de Motor', 'Auxiliares y Técnicos en Pedagogía y en Educación', 'Trabajadores en la Elaboración de Productos Lácteos', 'Auxiliares en Servicios Jurídicos', 'Auxiliares en Ciencias Sociales y Humanistas', 'Trabajadores de Apoyo en la Industria de la Cerámica, Vidrio y Similares', 'Despachadores de Transporte', 'Encuestadores', 'Operadores de Máquinas para la Impresión y Encuadernación', 'Operadores de Máquinas en la Elaboración de Bebidas Alcohólicas y no Alcohólicas', 'Operadores de Máquinas para Fabricar Tejidos de Punto, Telas y Alfombras', 'Instructores y Capacitadores en Oficios y para el Trabajo', 'Trabajadores en Actividades de Beneficio de Productos Agrícolas', 'Directores y Productores Artísticos de Cine, Teatro y Afines', 'Técnicos en la Instalación y Reparación de Redes, Equipos y en Sistemas Computacionales', 'Soldadores y Oxicortadores', 'Supervisores en Limpieza, Amas de Llaves, Mayordomos y en Estacionamientos', 'Trabajadores en la Cría de Equinos', 'Coordinadores y Jefes de Área en Producción Manufacturera', 'Operadores de Máquinas Pulidoras, Galvanizadoras y Recubridoras de Metal', 'Checadores y Revisores de Transporte', 'Auxiliares y Técnicos en Veterinaria, Pesca y Forestación', 'Trabajadores en la Cría Avícola', 'Trabajadores en Agencias de Viajes', 'Coordinadores y Jefes de Área en Servicios Contables, Financieros, Banca y Seguros', 'Operadores de Máquinas para el Tratamiento de Agua', 'Trabajadores de Apoyo en Plomería e Instalación de Tuberías', 'Albañiles, Mamposteros y Afines', 'Arquitectos, Planificadores Urbanos y del Transporte', 'Especialistas y Consultores en Mercadotecnia, Publicidad, Comunicación y Comercio Exterior', 'Supervisores de Trabajadores en la Extracción, Albañiles y en Acabados de la Construcción', 'Entrenadores de Animales y Ocupaciones Relacionadas con el Cuidado de Mascotas', 'Conductores de Maquinaria Móvil para la Construcción y Minería', 'Agentes de Bienes Raíces', 'Supervisores, Encargados y Capataces Agropecuarios', 'Directores y Gerentes en Construcción, Reparación y Mantenimiento', 'Directores y Gerentes de Restaurantes y Hoteles', 'Trabajadores en otros Cultivos Agrícolas', 'Jardineros en Establecimientos', 'Presidentes y Directores Generales en Instituciones y Empresas Privadas', 'Psicólogos', 'Técnicos en Aparatos de Diagnóstico, Tratamiento Médico, Podólogos y Fisioterapeutas', 'Trabajadores en la Elaboración de Sustancias y Compuestos Químicos', 'Demostradores y Promotores', 'Cocineros Domésticos', 'Trabajadores de Apoyo en Actividades Ganaderas', 'Ingenieros Biomédicos', 'Administradores y Especialistas en Recursos Humanos y Sistemas de Gestión', 'Cuidadores y Acomodadores de Autos en Estacionamientos', 'Árbitros y Jueces Deportivos', 'Trabajadores del Vidrio y Similares', 'Planchadores y Tintoreros en Establecimientos', 'Ingenieros Químicos', 'Directores y Gerentes de Ventas, Comercialización y Alquiler', 'Recamaristas y Camaristas', 'Ingenieros en Topografía, Hidrología, Geología y Geodesia', 'Entrenadores Deportivos y Directores Técnicos', 'Directores y Gerentes en Administración, Recursos Humanos y Mercadotecnia', 'Músicos', 'Auxiliares y Técnicos de Ingeniería de Audio, Sonido e Iluminación', 'Inspectores en Seguridad Social, de Precios y otros Inspectores Públicos', 'Técnicos Dietistas y Nutriólogos', 'Desarrolladores y Analistas de Software y Multimedia', 'Auxiliares y Técnicos Industriales y Químicos', 'Técnicos en Reparación de Equipos Electromecánicos', 'Ingenieros Civiles y de la Construcción', 'Médicos Especialistas', 'Coordinadores y Jefes de Área en Centros de Enseñanza y Capacitación', 'Auxiliares y Técnicos Topógrafos, en Hidrología y Geología', 'Mecánicos en Mantenimiento y Reparación de Instrumentos de Precisión y Musicales', 'Instructores en Idiomas Extranjeros', 'Técnicos en Mantenimiento y Reparación de Vehículos de Motor', 'Coordinadores y Jefes de Área en Servicios de Transporte', 'Coordinadores y Jefes de Área en Servicios de Vigilancia y Seguridad', 'Valuadores, Subastadores y Rematadores', 'Yeseros, Escayolistas y otros Recubridores de Techos y Paredes', 'Coordinadores y Jefes de Área de Restaurantes y Hoteles', 'Traductores e Intérpretes', 'Coordinadores y Jefes de Área en Actividades Artísticas, de Cine, Teatro y Afines', 'Supervisores de Secretarias, Capturistas, Cajeros y Trabajadores de Control de Archivo y Transporte', 'Edecanes', 'Coordinadores y Jefes de Área en Servicios de Salud, Protección Civil y Medio Ambiente', 'Ingenieros Electrónicos', 'Coordinadores y Jefes de Área de Ventas, Comercialización y Alquiler', 'Conductores de Motocicleta', 'Presidentes y Autoridades Municipales', 'Técnicos en Seguridad en el Trabajo e Higiene', 'Investigadores y Especialistas en Filosofía y Letras (Filólogos)', 'Supervisores de Trabajadores que Brindan y Manejan Información', 'Periodistas y Redactores', 'Oficiales del Ministerio Público y Detectives', 'Coordinadores y Jefes de Área en Comunicación y Telecomunicaciones', 'Repartidores de Mensajería (A Pie y en Bicicleta) y Mandaderos', 'Instaladores de Pisos, Azulejos, Mosaicos y Baldosas', 'Directores y Gerentes en Servicios de Transporte', 'Directores de Organizaciones Sindicales', 'Directores y Gerentes en Servicios Contables, Financieros, Banca y Seguros', 'Agentes de Recaudación Tributaria y de Licencias', 'Supervisores de Artesanos y Trabajadores en la Elaboración de Productos de Madera, Papel, Textiles y de Cuero y Piel', 'Auxiliares y Técnicos de Equipos de Grabación y Reproducción de Video', 'Químicos', 'Nutriólogos', 'Coordinadores y Jefes de Área en Servicios Legales, Jueces Calificadores y Fiscales', 'Coordinadores y Jefes de Área en Centros de Investigación y Desarrollo Tecnológico', 'Coordinadores y Jefes de Área en Informática', 'Especialistas en Hotelería y Turismo', 'Optometristas', 'Investigadores y Especialistas en Ciencias Políticas y Administración Pública']\n"
     ]
    }
   ],
   "source": [
    "# Ordenar el DataFrame por el valor del salario en orden ascendente\n",
    "profesiones_df_salarios_puebla_sorted = df.sort_values(by='Salario_Variables')\n",
    "\n",
    "# Dividir el DataFrame en dos partes: bajos y altos salarios\n",
    "corte = len(profesiones_df_salarios_puebla_sorted) // 2\n",
    "profesiones_bajas = profesiones_df_salarios_puebla_sorted.iloc[:corte]\n",
    "profesiones_altas = profesiones_df_salarios_puebla_sorted.iloc[corte:]\n",
    "\n",
    "# Imprimir la lista de ocupaciones para salarios más bajos\n",
    "print(\"Profesiones con los salarios más bajos:\")\n",
    "print(profesiones_bajas['Occupation'].tolist())\n",
    "\n",
    "# Imprimir la lista de ocupaciones para salarios más altos\n",
    "print(\"\\nProfesiones con los salarios más altos:\")\n",
    "print(profesiones_altas['Occupation'].tolist())"
   ]
  },
  {
   "cell_type": "code",
   "execution_count": 6,
   "metadata": {},
   "outputs": [
    {
     "name": "stdout",
     "output_type": "stream",
     "text": [
      "                               Profesiones Más Bajas  \\\n",
      "0                    Especialistas en Trabajo Social   \n",
      "1  Especialistas en Archivonomía, Biblioteconomía...   \n",
      "2                           Bailarines y Coreógrafos   \n",
      "3                                            Actores   \n",
      "4                        Veterinarios y Zootecnistas   \n",
      "5                                          Agrónomos   \n",
      "6  Ecólogos y Especialistas en Ciencias Atmosféricas   \n",
      "7           Investigadores y Especialistas en Física   \n",
      "8  Otros Operadores de Instalaciones y Maquinaria...   \n",
      "9  Operadores de Máquinas e Instalaciones para la...   \n",
      "\n",
      "                               Profesiones Más Altas  \n",
      "0  Trabajadores de Apoyo en Actividades Silvícola...  \n",
      "1  Directores y Gerentes en Servicios Funerarios ...  \n",
      "2  Supervisores en la Preparación y Servicio de A...  \n",
      "3  Operadores de Máquinas y Equipos de Hilar y Bo...  \n",
      "4  Cuidadores de Niños, Personas con Discapacidad...  \n",
      "5                   Jardineros en Casas Particulares  \n",
      "6  Operadores de Máquinas y Equipos para la Extra...  \n",
      "7  Operadores de Máquinas que Cortan, Perforan, D...  \n",
      "8  Barrenderos y Trabajadores de Limpieza (Except...  \n",
      "9              Sacerdotes, Pastores y otros Teólogos  \n"
     ]
    }
   ],
   "source": [
    "# Ordenar el DataFrame por el valor del salario en orden ascendente\n",
    "profesiones_df_salarios_puebla_sorted = df.sort_values(by='Salario_Variables')\n",
    "\n",
    "# Dividir el DataFrame en dos partes: bajos y altos salarios\n",
    "corte = len(profesiones_df_salarios_puebla_sorted) // 2\n",
    "profesiones_bajas = profesiones_df_salarios_puebla_sorted.iloc[:corte].head(10)  # Obtener solo las 10 primeras\n",
    "profesiones_altas = profesiones_df_salarios_puebla_sorted.iloc[corte:].head(10)  # Obtener solo las 10 primeras\n",
    "df_bajas = pd.DataFrame({'Profesiones Más Bajas': profesiones_bajas['Occupation']})\n",
    "df_altas = pd.DataFrame({'Profesiones Más Altas': profesiones_altas['Occupation']})\n",
    "\n",
    "# Unir los dos DataFrames en una sola tabla\n",
    "tabla_comparativa = pd.concat([df_bajas.reset_index(drop=True), df_altas.reset_index(drop=True)], axis=1)\n",
    "print(tabla_comparativa)\n",
    "\n",
    "# Exportar tabla como archivo HTML\n",
    "def guardar_tabla_como_html(tabla, nombre_archivo, carpeta='assets/tablas'):\n",
    "    if not os.path.exists(carpeta):\n",
    "        os.makedirs(carpeta)  # Crear la carpeta si no existe\n",
    "    \n",
    "    # Tabla como archivo HTML en la carpeta especificada\n",
    "    tabla.to_html(f'{carpeta}/{nombre_archivo}.html', index=False)\n",
    "\n",
    "# Exportar la tabla\n",
    "guardar_tabla_como_html(tabla_comparativa, 'tabla_profesiones')"
   ]
  },
  {
   "cell_type": "code",
   "execution_count": 8,
   "metadata": {},
   "outputs": [],
   "source": [
    "import os\n",
    "import pandas as pd\n",
    "\n",
    "# Exportar tabla con estilos personalizados\n",
    "def guardar_tabla_como_html(tabla, nombre_archivo, carpeta='assets/tablas'):\n",
    "    if not os.path.exists(carpeta):\n",
    "        os.makedirs(carpeta)  # Crear la carpeta si no existe\n",
    "\n",
    "    # Crear un estilo personalizado de tabla\n",
    "    estilo_html = f\"\"\"\n",
    "    <html>\n",
    "    <head>\n",
    "        <style>\n",
    "            /* Estilo general para las tablas */\n",
    "            table {{\n",
    "                width: 100%; /* Ancho completo */\n",
    "                border-collapse: collapse; /* Colapsar bordes */\n",
    "                margin: 0; /* Margen superior e inferior */\n",
    "                padding: 0; /*Eliminar padding\n",
    "            }}\n",
    "                /* Estilo para el contenedor de la tabla */\n",
    "\n",
    "            .card-body {{\n",
    "\n",
    "                padding: 0; /* Eliminar padding del contenedor */\n",
    "                margin: 0; /* Eliminar margen del contenedor */\n",
    "\n",
    "            }}\n",
    "\n",
    "            /* Estilo para las celdas de encabezado */\n",
    "            th {{\n",
    "                background-color: #f2f2f2; /* Color de fondo claro */\n",
    "                color: #333; /* Color de texto */\n",
    "                padding: 10px; /* Espaciado interno */\n",
    "                text-align: left; /* Alinear texto a la izquierda */\n",
    "                border: 1px solid #ddd; /* Borde de las celdas */\n",
    "            }}\n",
    "\n",
    "            /* Estilo para las celdas del cuerpo */\n",
    "            td {{\n",
    "                padding: 10px; /* Espaciado interno */\n",
    "                border: 1px solid #ddd; /* Borde de las celdas */\n",
    "            }}\n",
    "\n",
    "            /* Estilo para las filas alternas */\n",
    "            tr:nth-child(even) {{\n",
    "                background-color: #f9f9f9; /* Color de fondo alternativo */\n",
    "            }}\n",
    "\n",
    "            /* Estilo para las filas al pasar el mouse */\n",
    "            tr:hover {{\n",
    "                background-color: #f1f1f1; /* Color de fondo al pasar el mouse */\n",
    "            }}\n",
    "\n",
    "            /* Estilo para el texto en las celdas */\n",
    "            td, th {{\n",
    "                text-align: center; /* Centrar texto en celdas */\n",
    "            }}\n",
    "        </style>\n",
    "    </head>\n",
    "    <body>\n",
    "        <div class=\"card\">\n",
    "            <div class=\"card-body\">\n",
    "                <div style=\"overflow-x:auto;\">\n",
    "                    {tabla.to_html(index=False, classes='table-responsive table-striped table-bordered', border=0)}\n",
    "                </div>\n",
    "            </div>\n",
    "        </div>\n",
    "    </body>\n",
    "    </html>\n",
    "    \"\"\"\n",
    "    \n",
    "    # Guardar la tabla con el estilo HTML\n",
    "    with open(f'{carpeta}/{nombre_archivo}.html', 'w', encoding='utf-8') as archivo_html:\n",
    "        archivo_html.write(estilo_html)\n",
    "\n",
    "# Ordenar y dividir DataFrame\n",
    "profesiones_df_salarios_puebla_sorted = df_salarios_pachuca.sort_values(by='Salario_Variables')\n",
    "corte = len(profesiones_df_salarios_puebla_sorted) // 2\n",
    "profesiones_bajas = profesiones_df_salarios_puebla_sorted.iloc[:corte].head(10)\n",
    "profesiones_altas = profesiones_df_salarios_puebla_sorted.iloc[corte:].head(10)\n",
    "df_bajas = pd.DataFrame({'Más Bajas': profesiones_bajas['Occupation']})\n",
    "df_altas = pd.DataFrame({'Más Altas': profesiones_altas['Occupation']})\n",
    "\n",
    "# Tabla comparativa\n",
    "tabla_comparativa = pd.concat([df_bajas.reset_index(drop=True), df_altas.reset_index(drop=True)], axis=1)\n",
    "\n",
    "# Exportar la tabla como HTML con estilo personalizado\n",
    "guardar_tabla_como_html(tabla_comparativa, 'tabla_profesiones_off')"
   ]
  },
  {
   "cell_type": "code",
   "execution_count": null,
   "metadata": {},
   "outputs": [],
   "source": []
  }
 ],
 "metadata": {
  "kernelspec": {
   "display_name": "base",
   "language": "python",
   "name": "python3"
  },
  "language_info": {
   "codemirror_mode": {
    "name": "ipython",
    "version": 3
   },
   "file_extension": ".py",
   "mimetype": "text/x-python",
   "name": "python",
   "nbconvert_exporter": "python",
   "pygments_lexer": "ipython3",
   "version": "3.12.7"
  }
 },
 "nbformat": 4,
 "nbformat_minor": 2
}
