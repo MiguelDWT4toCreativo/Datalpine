{
 "cells": [
  {
   "cell_type": "markdown",
   "metadata": {},
   "source": [
    "# ***Precio Promedio por M2 cuadrados***"
   ]
  },
  {
   "cell_type": "code",
   "execution_count": 2,
   "metadata": {},
   "outputs": [
    {
     "name": "stdout",
     "output_type": "stream",
     "text": [
      "Lista de DataFrames filtrados:\n"
     ]
    },
    {
     "data": {
      "text/plain": [
       "['df_alfa_q_feb_2023_pachuca',\n",
       " 'df_alfa_q_jul_2023_pachuca',\n",
       " 'df_alfa_q_jun_2023_pachuca',\n",
       " 'df_alfa_q_mar_2023_pachuca',\n",
       " 'df_alfa_q_nov_2022_pachuca',\n",
       " 'df_alfa_q_oct_2022_pachuca',\n",
       " 'df_alfa_q_sep_2023_pachuca']"
      ]
     },
     "execution_count": 2,
     "metadata": {},
     "output_type": "execute_result"
    }
   ],
   "source": [
    "# Manejo de datos\n",
    "import os # Directorios\n",
    "import pandas as pd # Manipulación df\n",
    "# Gráficas\n",
    "import plotly.graph_objects as go #Para obtener librería usar: pip install plotly\n",
    "from plotly.subplots import make_subplots\n",
    "import plotly.io as pio # Exportar gráfica\n",
    "\n",
    "# Obtener el directorio actual de trabajo\n",
    "directorio_actual = os.getcwd()\n",
    "\n",
    "# Directorio donde se encuentran los archivos JSON (ruta relativa)\n",
    "directorio_json = os.path.join(directorio_actual, '../../db/datos_json')\n",
    "\n",
    "# Obtener la lista de archivos JSON en el directorio\n",
    "archivos_json = os.listdir(directorio_json)\n",
    "\n",
    "# Cargar los archivos JSON y crear DataFrames\n",
    "for archivo in archivos_json:\n",
    "    nombre_tabla = archivo.replace('datos_', '').replace('.json', '')\n",
    "    ruta_json = os.path.join(directorio_json, archivo)\n",
    "    globals()[f\"df_{nombre_tabla}\"] = pd.read_json(ruta_json)\n",
    "\n",
    "# Obtener todos los nombres de las variables globales\n",
    "nombres_variables_globales = list(globals().keys())\n",
    "\n",
    "# Filtrar los nombres que comienzan con \"df_\", contienen \"alfa_q\" y \"pachuca\"\n",
    "nombres_df_filtrados = [\n",
    "    nombre for nombre in nombres_variables_globales \n",
    "    # Caso de cuando no son las alfa q\n",
    "    if nombre.startswith(\"df_\") and \"alfa_q\" in nombre and \"pachuca\" in nombre\n",
    "\n",
    "    #if nombre.startswith(\"df_\") and \"tulancingo\" in nombre    \n",
    "    #and (\"alfa_q\" in nombre or \"jul_2023\" in nombre or \"sep_2023\" in nombre or \"feb_2024\" in nombre or \"mar_2024\" in nombre or \"may_2024\" in nombre)\n",
    "]\n",
    "\n",
    "# Imprimir la lista de DataFrames filtrados\n",
    "print(\"Lista de DataFrames filtrados:\")\n",
    "nombres_df_filtrados"
   ]
  },
  {
   "cell_type": "code",
   "execution_count": 9,
   "metadata": {},
   "outputs": [
    {
     "name": "stdout",
     "output_type": "stream",
     "text": [
      "Columnas renombradas en los DataFrames filtrados.\n"
     ]
    }
   ],
   "source": [
    "# Iterar sobre cada DataFrame en la lista filtrada\n",
    "for nombre_df in nombres_df_filtrados:\n",
    "    # Obtener el DataFrame usando globals()\n",
    "    df = globals()[nombre_df]\n",
    "    \n",
    "    df.rename(columns={'precio_m2_contruido':'precio_m2_construido','id_jul_23':'id','m2_contruido': 'm2_construido','m_construido': 'm2_construido','Metros_construido':'m2_construido','segmento':'categoria','Category':'categoria','m_total':'m2_total','m_construido':'m2_construido'}, inplace=True)\n",
    "        # Asignar el DataFrame modificado de nuevo a la variable global\n",
    "    globals()[nombre_df] = df \n",
    "\n",
    "# Imprimir confirmación\n",
    "print(\"Columnas renombradas en los DataFrames filtrados.\")\n"
   ]
  },
  {
   "cell_type": "code",
   "execution_count": 10,
   "metadata": {},
   "outputs": [],
   "source": [
    "# Crear una lista de DataFrames seleccionados con las columnas específicas\n",
    "dataframes_list = []\n",
    "for nombre_df in nombres_df_filtrados:\n",
    "    # Seleccionar las columnas 'id' y 'categoria'\n",
    "    segment_df = globals()[nombre_df][['precio', 'm2_total','m2_construido', 'precio_m2_construido', 'precio_m2_terreno']]\n",
    "    # Añadir el DataFrame a la listaprecio_m2_construido\n",
    "    dataframes_list.append(segment_df)"
   ]
  },
  {
   "cell_type": "markdown",
   "metadata": {},
   "source": [
    "### *DF CON RANGOS DE M2 Y SU PRECIO*"
   ]
  },
  {
   "cell_type": "code",
   "execution_count": 11,
   "metadata": {},
   "outputs": [
    {
     "name": "stdout",
     "output_type": "stream",
     "text": [
      "Primeros registros de nuevo DataFrame 1:\n",
      "     rango  precio_m2_terreno\n",
      "0  [0-100]               8896\n",
      "1  [0-100]              12672\n",
      "2  [0-100]              11328\n",
      "3  [0-100]              12239\n",
      "4  [0-100]              12791\n",
      "\n",
      "Primeros registros de nuevo DataFrame 2:\n",
      "     rango  precio_m2_terreno\n",
      "0  [0-100]           13055.56\n",
      "1  [0-100]           12589.29\n",
      "2  [0-100]           26754.08\n",
      "3  [0-100]           28196.72\n",
      "4  [0-100]           28524.59\n",
      "\n",
      "Primeros registros de nuevo DataFrame 3:\n",
      "     rango  precio_m2_terreno\n",
      "0  [0-100]           33333.33\n",
      "1  [0-100]           16688.89\n",
      "2  [0-100]           35714.29\n",
      "3  [0-100]          221000.00\n",
      "4  [0-100]           12277.78\n",
      "\n",
      "Primeros registros de nuevo DataFrame 4:\n",
      "     rango  precio_m2_terreno\n",
      "0  [0-100]           13550.98\n",
      "1  [0-100]            7037.04\n",
      "2  [0-100]           12054.55\n",
      "3  [0-100]            8166.67\n",
      "4  [0-100]           11616.67\n",
      "\n",
      "Primeros registros de nuevo DataFrame 5:\n",
      "     rango  precio_m2_terreno\n",
      "0  [0-100]           12777.78\n",
      "1  [0-100]           13043.48\n",
      "2  [0-100]           11458.33\n",
      "3  [0-100]           11458.33\n",
      "4  [0-100]           15500.52\n",
      "\n",
      "Primeros registros de nuevo DataFrame 6:\n",
      "     rango  precio_m2_terreno\n",
      "0  [0-100]           12777.78\n",
      "1  [0-100]           13043.48\n",
      "2  [0-100]           11458.33\n",
      "3  [0-100]           15500.52\n",
      "4  [0-100]            9000.00\n",
      "\n",
      "Primeros registros de nuevo DataFrame 7:\n",
      "     rango  precio_m2_terreno\n",
      "0  [0-100]           31111.11\n",
      "1  [0-100]           31111.11\n",
      "2  [0-100]           40967.96\n",
      "3  [0-100]           13846.15\n",
      "4  [0-100]           14038.46\n",
      "\n"
     ]
    }
   ],
   "source": [
    "new_dataframes_list = []\n",
    "\n",
    "# Definir los límites de los rangos\n",
    "rangos = [0, 100, 150, 200, 250, 300, float('inf')]\n",
    "labels = ['[0-100]', '[100-150]', '[150-200]', '[200-250]', '[250-300]', '[> 300]']\n",
    "\n",
    "# Iterar sobre cada DataFrame en la lista original\n",
    "for df in dataframes_list:\n",
    "    # Crear una copia del DataFrame\n",
    "    modified_df = df.copy()\n",
    "    # Asignar el rango correspondiente a cada valor de 'm2_construido'\n",
    "    modified_df['rango'] = pd.cut(modified_df['m2_total'], bins=rangos, labels=labels, right=False)\n",
    "    # Crear un nuevo DataFrame solo con las columnas 'rango' y 'precio_m2_terreno'\n",
    "    new_df = modified_df[['rango', 'precio_m2_terreno']].copy()\n",
    "    # Agregar el nuevo DataFrame a la lista\n",
    "    new_dataframes_list.append(new_df)\n",
    "\n",
    "# Imprimir los primeros registros de cada nuevo DataFrame\n",
    "for idx, df in enumerate(new_dataframes_list):\n",
    "    print(f\"Primeros registros de nuevo DataFrame {idx + 1}:\")\n",
    "    print(df.head())\n",
    "    print()  # Agregar una línea en blanco entre cada DataFrame\n"
   ]
  },
  {
   "cell_type": "markdown",
   "metadata": {},
   "source": [
    "### *Promedio de precio_m2_terreno por rango CADA DF* "
   ]
  },
  {
   "cell_type": "code",
   "execution_count": 12,
   "metadata": {},
   "outputs": [
    {
     "name": "stdout",
     "output_type": "stream",
     "text": [
      "Promedio de precio_m2_terreno por rango en el DataFrame 1:\n",
      "rango\n",
      "[0-100]      15382.663717\n",
      "[100-150]    19318.665992\n",
      "[150-200]    21102.187500\n",
      "[200-250]    20318.400000\n",
      "[250-300]    16719.153846\n",
      "[> 300]      15391.483871\n",
      "Name: precio_m2_terreno, dtype: float64\n",
      "\n",
      "Promedio de precio_m2_terreno por rango en el DataFrame 2:\n",
      "rango\n",
      "[0-100]      23219.324524\n",
      "[100-150]    23866.457742\n",
      "[150-200]    15643.237895\n",
      "[200-250]    14384.869545\n",
      "[250-300]    15627.686154\n",
      "[> 300]      16863.140000\n",
      "Name: precio_m2_terreno, dtype: float64\n",
      "\n",
      "Promedio de precio_m2_terreno por rango en el DataFrame 3:\n",
      "rango\n",
      "[0-100]      18465.115040\n",
      "[100-150]    19280.987941\n",
      "[150-200]    22039.477255\n",
      "[200-250]    22622.139507\n",
      "[250-300]    25955.239111\n",
      "[> 300]      21078.173986\n",
      "Name: precio_m2_terreno, dtype: float64\n",
      "\n",
      "Promedio de precio_m2_terreno por rango en el DataFrame 4:\n",
      "rango\n",
      "[0-100]      16374.213392\n",
      "[100-150]    18753.976184\n",
      "[150-200]    20514.648247\n",
      "[200-250]    21956.151608\n",
      "[250-300]    20120.904638\n",
      "[> 300]      19474.847652\n",
      "Name: precio_m2_terreno, dtype: float64\n",
      "\n",
      "Promedio de precio_m2_terreno por rango en el DataFrame 5:\n",
      "rango\n",
      "[0-100]      16242.468095\n",
      "[100-150]    18512.567189\n",
      "[150-200]    21128.278100\n",
      "[200-250]    20652.793333\n",
      "[250-300]    23581.253864\n",
      "[> 300]      22931.931270\n",
      "Name: precio_m2_terreno, dtype: float64\n",
      "\n",
      "Promedio de precio_m2_terreno por rango en el DataFrame 6:\n",
      "rango\n",
      "[0-100]      16469.612659\n",
      "[100-150]    18763.317388\n",
      "[150-200]    21638.509925\n",
      "[200-250]    21694.308655\n",
      "[250-300]    25145.554103\n",
      "[> 300]      24058.407167\n",
      "Name: precio_m2_terreno, dtype: float64\n",
      "\n",
      "Promedio de precio_m2_terreno por rango en el DataFrame 7:\n",
      "rango\n",
      "[0-100]      18269.369817\n",
      "[100-150]    20672.039103\n",
      "[150-200]    22592.415630\n",
      "[200-250]    24542.754419\n",
      "[250-300]    24464.570000\n",
      "[> 300]      18427.718424\n",
      "Name: precio_m2_terreno, dtype: float64\n",
      "\n"
     ]
    },
    {
     "name": "stderr",
     "output_type": "stream",
     "text": [
      "C:\\Users\\yoe11\\AppData\\Local\\Temp\\ipykernel_11356\\2294499642.py:5: FutureWarning: The default of observed=False is deprecated and will be changed to True in a future version of pandas. Pass observed=False to retain current behavior or observed=True to adopt the future default and silence this warning.\n",
      "  promedios_por_rango = df.groupby('rango')['precio_m2_terreno'].mean()\n"
     ]
    }
   ],
   "source": [
    "# Iterar sobre cada DataFrame modificado en new_dataframes_list\n",
    "for idx, df in enumerate(new_dataframes_list):\n",
    "    print(f\"Promedio de precio_m2_terreno por rango en el DataFrame {idx + 1}:\")\n",
    "    # Agrupar el DataFrame por la columna 'rango' y calcular el promedio de 'precio_m2_terreno' para cada grupo\n",
    "    promedios_por_rango = df.groupby('rango')['precio_m2_terreno'].mean()\n",
    "    print(promedios_por_rango)\n",
    "    print()  # Agregar una línea en blanco entre cada resultado"
   ]
  },
  {
   "cell_type": "code",
   "execution_count": 13,
   "metadata": {},
   "outputs": [
    {
     "name": "stdout",
     "output_type": "stream",
     "text": [
      "DataFrame 'rango_precio_m2':\n"
     ]
    },
    {
     "name": "stderr",
     "output_type": "stream",
     "text": [
      "C:\\Users\\yoe11\\AppData\\Local\\Temp\\ipykernel_11356\\225855980.py:6: FutureWarning: The default of observed=False is deprecated and will be changed to True in a future version of pandas. Pass observed=False to retain current behavior or observed=True to adopt the future default and silence this warning.\n",
      "  promedios_por_rango = df.groupby('rango')['precio_m2_terreno'].mean()\n"
     ]
    },
    {
     "data": {
      "text/html": [
       "<div>\n",
       "<style scoped>\n",
       "    .dataframe tbody tr th:only-of-type {\n",
       "        vertical-align: middle;\n",
       "    }\n",
       "\n",
       "    .dataframe tbody tr th {\n",
       "        vertical-align: top;\n",
       "    }\n",
       "\n",
       "    .dataframe thead th {\n",
       "        text-align: right;\n",
       "    }\n",
       "</style>\n",
       "<table border=\"1\" class=\"dataframe\">\n",
       "  <thead>\n",
       "    <tr style=\"text-align: right;\">\n",
       "      <th></th>\n",
       "      <th>DataFrame_1</th>\n",
       "      <th>DataFrame_2</th>\n",
       "      <th>DataFrame_3</th>\n",
       "      <th>DataFrame_4</th>\n",
       "      <th>DataFrame_5</th>\n",
       "      <th>DataFrame_6</th>\n",
       "      <th>DataFrame_7</th>\n",
       "    </tr>\n",
       "    <tr>\n",
       "      <th>rango</th>\n",
       "      <th></th>\n",
       "      <th></th>\n",
       "      <th></th>\n",
       "      <th></th>\n",
       "      <th></th>\n",
       "      <th></th>\n",
       "      <th></th>\n",
       "    </tr>\n",
       "  </thead>\n",
       "  <tbody>\n",
       "    <tr>\n",
       "      <th>[0-100]</th>\n",
       "      <td>15382.663717</td>\n",
       "      <td>23219.324524</td>\n",
       "      <td>18465.115040</td>\n",
       "      <td>16374.213392</td>\n",
       "      <td>16242.468095</td>\n",
       "      <td>16469.612659</td>\n",
       "      <td>18269.369817</td>\n",
       "    </tr>\n",
       "    <tr>\n",
       "      <th>[100-150]</th>\n",
       "      <td>19318.665992</td>\n",
       "      <td>23866.457742</td>\n",
       "      <td>19280.987941</td>\n",
       "      <td>18753.976184</td>\n",
       "      <td>18512.567189</td>\n",
       "      <td>18763.317388</td>\n",
       "      <td>20672.039103</td>\n",
       "    </tr>\n",
       "    <tr>\n",
       "      <th>[150-200]</th>\n",
       "      <td>21102.187500</td>\n",
       "      <td>15643.237895</td>\n",
       "      <td>22039.477255</td>\n",
       "      <td>20514.648247</td>\n",
       "      <td>21128.278100</td>\n",
       "      <td>21638.509925</td>\n",
       "      <td>22592.415630</td>\n",
       "    </tr>\n",
       "    <tr>\n",
       "      <th>[200-250]</th>\n",
       "      <td>20318.400000</td>\n",
       "      <td>14384.869545</td>\n",
       "      <td>22622.139507</td>\n",
       "      <td>21956.151608</td>\n",
       "      <td>20652.793333</td>\n",
       "      <td>21694.308655</td>\n",
       "      <td>24542.754419</td>\n",
       "    </tr>\n",
       "    <tr>\n",
       "      <th>[250-300]</th>\n",
       "      <td>16719.153846</td>\n",
       "      <td>15627.686154</td>\n",
       "      <td>25955.239111</td>\n",
       "      <td>20120.904638</td>\n",
       "      <td>23581.253864</td>\n",
       "      <td>25145.554103</td>\n",
       "      <td>24464.570000</td>\n",
       "    </tr>\n",
       "    <tr>\n",
       "      <th>[&gt; 300]</th>\n",
       "      <td>15391.483871</td>\n",
       "      <td>16863.140000</td>\n",
       "      <td>21078.173986</td>\n",
       "      <td>19474.847652</td>\n",
       "      <td>22931.931270</td>\n",
       "      <td>24058.407167</td>\n",
       "      <td>18427.718424</td>\n",
       "    </tr>\n",
       "  </tbody>\n",
       "</table>\n",
       "</div>"
      ],
      "text/plain": [
       "            DataFrame_1   DataFrame_2   DataFrame_3   DataFrame_4  \\\n",
       "rango                                                               \n",
       "[0-100]    15382.663717  23219.324524  18465.115040  16374.213392   \n",
       "[100-150]  19318.665992  23866.457742  19280.987941  18753.976184   \n",
       "[150-200]  21102.187500  15643.237895  22039.477255  20514.648247   \n",
       "[200-250]  20318.400000  14384.869545  22622.139507  21956.151608   \n",
       "[250-300]  16719.153846  15627.686154  25955.239111  20120.904638   \n",
       "[> 300]    15391.483871  16863.140000  21078.173986  19474.847652   \n",
       "\n",
       "            DataFrame_5   DataFrame_6   DataFrame_7  \n",
       "rango                                                \n",
       "[0-100]    16242.468095  16469.612659  18269.369817  \n",
       "[100-150]  18512.567189  18763.317388  20672.039103  \n",
       "[150-200]  21128.278100  21638.509925  22592.415630  \n",
       "[200-250]  20652.793333  21694.308655  24542.754419  \n",
       "[250-300]  23581.253864  25145.554103  24464.570000  \n",
       "[> 300]    22931.931270  24058.407167  18427.718424  "
      ]
     },
     "execution_count": 13,
     "metadata": {},
     "output_type": "execute_result"
    }
   ],
   "source": [
    "# Inicializar un diccionario para almacenar los promedios de precio por metro cuadrado para cada rango\n",
    "promedios_por_rango_dict = {}\n",
    "# Iterar sobre cada DataFrame modificado en new_dataframes_list\n",
    "for idx, df in enumerate(new_dataframes_list):\n",
    "    # Agrupar el DataFrame por la columna 'rango' y calcular el promedio de 'precio_m2_terreno' para cada grupo\n",
    "    promedios_por_rango = df.groupby('rango')['precio_m2_terreno'].mean()\n",
    "    # Actualizar el diccionario con los promedios calculados\n",
    "    promedios_por_rango_dict[f'DataFrame_{idx + 1}'] = promedios_por_rango\n",
    "\n",
    "# Convertir el diccionario en un DataFrame\n",
    "rango_precio_m2 = pd.DataFrame(promedios_por_rango_dict)\n",
    "print(\"DataFrame 'rango_precio_m2':\")\n",
    "rango_precio_m2"
   ]
  },
  {
   "cell_type": "code",
   "execution_count": 14,
   "metadata": {},
   "outputs": [
    {
     "name": "stdout",
     "output_type": "stream",
     "text": [
      "DataFrame 'Precio_mean_M2':\n"
     ]
    },
    {
     "data": {
      "text/html": [
       "<div>\n",
       "<style scoped>\n",
       "    .dataframe tbody tr th:only-of-type {\n",
       "        vertical-align: middle;\n",
       "    }\n",
       "\n",
       "    .dataframe tbody tr th {\n",
       "        vertical-align: top;\n",
       "    }\n",
       "\n",
       "    .dataframe thead th {\n",
       "        text-align: right;\n",
       "    }\n",
       "</style>\n",
       "<table border=\"1\" class=\"dataframe\">\n",
       "  <thead>\n",
       "    <tr style=\"text-align: right;\">\n",
       "      <th></th>\n",
       "      <th>Rango</th>\n",
       "      <th>Precio_m2_mean</th>\n",
       "    </tr>\n",
       "  </thead>\n",
       "  <tbody>\n",
       "    <tr>\n",
       "      <th>0</th>\n",
       "      <td>[0-100]</td>\n",
       "      <td>17774.681035</td>\n",
       "    </tr>\n",
       "    <tr>\n",
       "      <th>1</th>\n",
       "      <td>[100-150]</td>\n",
       "      <td>19881.144506</td>\n",
       "    </tr>\n",
       "    <tr>\n",
       "      <th>2</th>\n",
       "      <td>[150-200]</td>\n",
       "      <td>20665.536365</td>\n",
       "    </tr>\n",
       "    <tr>\n",
       "      <th>3</th>\n",
       "      <td>[200-250]</td>\n",
       "      <td>20881.631010</td>\n",
       "    </tr>\n",
       "    <tr>\n",
       "      <th>4</th>\n",
       "      <td>[250-300]</td>\n",
       "      <td>21659.194531</td>\n",
       "    </tr>\n",
       "    <tr>\n",
       "      <th>5</th>\n",
       "      <td>[&gt; 300]</td>\n",
       "      <td>19746.528910</td>\n",
       "    </tr>\n",
       "  </tbody>\n",
       "</table>\n",
       "</div>"
      ],
      "text/plain": [
       "       Rango  Precio_m2_mean\n",
       "0    [0-100]    17774.681035\n",
       "1  [100-150]    19881.144506\n",
       "2  [150-200]    20665.536365\n",
       "3  [200-250]    20881.631010\n",
       "4  [250-300]    21659.194531\n",
       "5    [> 300]    19746.528910"
      ]
     },
     "execution_count": 14,
     "metadata": {},
     "output_type": "execute_result"
    }
   ],
   "source": [
    "# Calcular el promedio general de cada rango en todas las columnas de rango_precio_m2\n",
    "promedio_general_por_rango = rango_precio_m2.mean(axis=1)\n",
    "# Crear un nuevo DataFrame 'Precio_mean_M2' con los rangos y sus promedios generales\n",
    "Precio_mean_M2 = pd.DataFrame({'Rango': promedio_general_por_rango.index, 'Precio_m2_mean': promedio_general_por_rango.values})\n",
    "\n",
    "print(\"DataFrame 'Precio_mean_M2':\")\n",
    "Precio_mean_M2"
   ]
  },
  {
   "cell_type": "markdown",
   "metadata": {},
   "source": [
    "# Gráfica"
   ]
  },
  {
   "cell_type": "code",
   "execution_count": 15,
   "metadata": {},
   "outputs": [
    {
     "data": {
      "application/vnd.plotly.v1+json": {
       "config": {
        "plotlyServerURL": "https://plot.ly"
       },
       "data": [
        {
         "marker": {
          "color": [
           "#2962ff",
           "#9500ff",
           "#ff0059",
           "#ff8c00",
           "#b4e600",
           "#2EC2A2",
           "#F79CB9"
          ]
         },
         "text": [
          "$17,774.68",
          "$19,881.14",
          "$20,665.54",
          "$20,881.63",
          "$21,659.19",
          "$19,746.53"
         ],
         "textposition": "inside",
         "type": "bar",
         "x": [
          "[0-100]",
          "[100-150]",
          "[150-200]",
          "[200-250]",
          "[250-300]",
          "[> 300]"
         ],
         "y": [
          17774.681034805806,
          19881.144505503744,
          20665.536364625026,
          20881.63100975551,
          21659.19453071325,
          19746.528909914177
         ]
        }
       ],
       "layout": {
        "height": 500,
        "margin": {
         "b": 10,
         "l": 10,
         "r": 10,
         "t": 10
        },
        "plot_bgcolor": "rgba(0,0,0,0)",
        "template": {
         "data": {
          "bar": [
           {
            "error_x": {
             "color": "#2a3f5f"
            },
            "error_y": {
             "color": "#2a3f5f"
            },
            "marker": {
             "line": {
              "color": "#E5ECF6",
              "width": 0.5
             },
             "pattern": {
              "fillmode": "overlay",
              "size": 10,
              "solidity": 0.2
             }
            },
            "type": "bar"
           }
          ],
          "barpolar": [
           {
            "marker": {
             "line": {
              "color": "#E5ECF6",
              "width": 0.5
             },
             "pattern": {
              "fillmode": "overlay",
              "size": 10,
              "solidity": 0.2
             }
            },
            "type": "barpolar"
           }
          ],
          "carpet": [
           {
            "aaxis": {
             "endlinecolor": "#2a3f5f",
             "gridcolor": "white",
             "linecolor": "white",
             "minorgridcolor": "white",
             "startlinecolor": "#2a3f5f"
            },
            "baxis": {
             "endlinecolor": "#2a3f5f",
             "gridcolor": "white",
             "linecolor": "white",
             "minorgridcolor": "white",
             "startlinecolor": "#2a3f5f"
            },
            "type": "carpet"
           }
          ],
          "choropleth": [
           {
            "colorbar": {
             "outlinewidth": 0,
             "ticks": ""
            },
            "type": "choropleth"
           }
          ],
          "contour": [
           {
            "colorbar": {
             "outlinewidth": 0,
             "ticks": ""
            },
            "colorscale": [
             [
              0,
              "#0d0887"
             ],
             [
              0.1111111111111111,
              "#46039f"
             ],
             [
              0.2222222222222222,
              "#7201a8"
             ],
             [
              0.3333333333333333,
              "#9c179e"
             ],
             [
              0.4444444444444444,
              "#bd3786"
             ],
             [
              0.5555555555555556,
              "#d8576b"
             ],
             [
              0.6666666666666666,
              "#ed7953"
             ],
             [
              0.7777777777777778,
              "#fb9f3a"
             ],
             [
              0.8888888888888888,
              "#fdca26"
             ],
             [
              1,
              "#f0f921"
             ]
            ],
            "type": "contour"
           }
          ],
          "contourcarpet": [
           {
            "colorbar": {
             "outlinewidth": 0,
             "ticks": ""
            },
            "type": "contourcarpet"
           }
          ],
          "heatmap": [
           {
            "colorbar": {
             "outlinewidth": 0,
             "ticks": ""
            },
            "colorscale": [
             [
              0,
              "#0d0887"
             ],
             [
              0.1111111111111111,
              "#46039f"
             ],
             [
              0.2222222222222222,
              "#7201a8"
             ],
             [
              0.3333333333333333,
              "#9c179e"
             ],
             [
              0.4444444444444444,
              "#bd3786"
             ],
             [
              0.5555555555555556,
              "#d8576b"
             ],
             [
              0.6666666666666666,
              "#ed7953"
             ],
             [
              0.7777777777777778,
              "#fb9f3a"
             ],
             [
              0.8888888888888888,
              "#fdca26"
             ],
             [
              1,
              "#f0f921"
             ]
            ],
            "type": "heatmap"
           }
          ],
          "heatmapgl": [
           {
            "colorbar": {
             "outlinewidth": 0,
             "ticks": ""
            },
            "colorscale": [
             [
              0,
              "#0d0887"
             ],
             [
              0.1111111111111111,
              "#46039f"
             ],
             [
              0.2222222222222222,
              "#7201a8"
             ],
             [
              0.3333333333333333,
              "#9c179e"
             ],
             [
              0.4444444444444444,
              "#bd3786"
             ],
             [
              0.5555555555555556,
              "#d8576b"
             ],
             [
              0.6666666666666666,
              "#ed7953"
             ],
             [
              0.7777777777777778,
              "#fb9f3a"
             ],
             [
              0.8888888888888888,
              "#fdca26"
             ],
             [
              1,
              "#f0f921"
             ]
            ],
            "type": "heatmapgl"
           }
          ],
          "histogram": [
           {
            "marker": {
             "pattern": {
              "fillmode": "overlay",
              "size": 10,
              "solidity": 0.2
             }
            },
            "type": "histogram"
           }
          ],
          "histogram2d": [
           {
            "colorbar": {
             "outlinewidth": 0,
             "ticks": ""
            },
            "colorscale": [
             [
              0,
              "#0d0887"
             ],
             [
              0.1111111111111111,
              "#46039f"
             ],
             [
              0.2222222222222222,
              "#7201a8"
             ],
             [
              0.3333333333333333,
              "#9c179e"
             ],
             [
              0.4444444444444444,
              "#bd3786"
             ],
             [
              0.5555555555555556,
              "#d8576b"
             ],
             [
              0.6666666666666666,
              "#ed7953"
             ],
             [
              0.7777777777777778,
              "#fb9f3a"
             ],
             [
              0.8888888888888888,
              "#fdca26"
             ],
             [
              1,
              "#f0f921"
             ]
            ],
            "type": "histogram2d"
           }
          ],
          "histogram2dcontour": [
           {
            "colorbar": {
             "outlinewidth": 0,
             "ticks": ""
            },
            "colorscale": [
             [
              0,
              "#0d0887"
             ],
             [
              0.1111111111111111,
              "#46039f"
             ],
             [
              0.2222222222222222,
              "#7201a8"
             ],
             [
              0.3333333333333333,
              "#9c179e"
             ],
             [
              0.4444444444444444,
              "#bd3786"
             ],
             [
              0.5555555555555556,
              "#d8576b"
             ],
             [
              0.6666666666666666,
              "#ed7953"
             ],
             [
              0.7777777777777778,
              "#fb9f3a"
             ],
             [
              0.8888888888888888,
              "#fdca26"
             ],
             [
              1,
              "#f0f921"
             ]
            ],
            "type": "histogram2dcontour"
           }
          ],
          "mesh3d": [
           {
            "colorbar": {
             "outlinewidth": 0,
             "ticks": ""
            },
            "type": "mesh3d"
           }
          ],
          "parcoords": [
           {
            "line": {
             "colorbar": {
              "outlinewidth": 0,
              "ticks": ""
             }
            },
            "type": "parcoords"
           }
          ],
          "pie": [
           {
            "automargin": true,
            "type": "pie"
           }
          ],
          "scatter": [
           {
            "fillpattern": {
             "fillmode": "overlay",
             "size": 10,
             "solidity": 0.2
            },
            "type": "scatter"
           }
          ],
          "scatter3d": [
           {
            "line": {
             "colorbar": {
              "outlinewidth": 0,
              "ticks": ""
             }
            },
            "marker": {
             "colorbar": {
              "outlinewidth": 0,
              "ticks": ""
             }
            },
            "type": "scatter3d"
           }
          ],
          "scattercarpet": [
           {
            "marker": {
             "colorbar": {
              "outlinewidth": 0,
              "ticks": ""
             }
            },
            "type": "scattercarpet"
           }
          ],
          "scattergeo": [
           {
            "marker": {
             "colorbar": {
              "outlinewidth": 0,
              "ticks": ""
             }
            },
            "type": "scattergeo"
           }
          ],
          "scattergl": [
           {
            "marker": {
             "colorbar": {
              "outlinewidth": 0,
              "ticks": ""
             }
            },
            "type": "scattergl"
           }
          ],
          "scattermapbox": [
           {
            "marker": {
             "colorbar": {
              "outlinewidth": 0,
              "ticks": ""
             }
            },
            "type": "scattermapbox"
           }
          ],
          "scatterpolar": [
           {
            "marker": {
             "colorbar": {
              "outlinewidth": 0,
              "ticks": ""
             }
            },
            "type": "scatterpolar"
           }
          ],
          "scatterpolargl": [
           {
            "marker": {
             "colorbar": {
              "outlinewidth": 0,
              "ticks": ""
             }
            },
            "type": "scatterpolargl"
           }
          ],
          "scatterternary": [
           {
            "marker": {
             "colorbar": {
              "outlinewidth": 0,
              "ticks": ""
             }
            },
            "type": "scatterternary"
           }
          ],
          "surface": [
           {
            "colorbar": {
             "outlinewidth": 0,
             "ticks": ""
            },
            "colorscale": [
             [
              0,
              "#0d0887"
             ],
             [
              0.1111111111111111,
              "#46039f"
             ],
             [
              0.2222222222222222,
              "#7201a8"
             ],
             [
              0.3333333333333333,
              "#9c179e"
             ],
             [
              0.4444444444444444,
              "#bd3786"
             ],
             [
              0.5555555555555556,
              "#d8576b"
             ],
             [
              0.6666666666666666,
              "#ed7953"
             ],
             [
              0.7777777777777778,
              "#fb9f3a"
             ],
             [
              0.8888888888888888,
              "#fdca26"
             ],
             [
              1,
              "#f0f921"
             ]
            ],
            "type": "surface"
           }
          ],
          "table": [
           {
            "cells": {
             "fill": {
              "color": "#EBF0F8"
             },
             "line": {
              "color": "white"
             }
            },
            "header": {
             "fill": {
              "color": "#C8D4E3"
             },
             "line": {
              "color": "white"
             }
            },
            "type": "table"
           }
          ]
         },
         "layout": {
          "annotationdefaults": {
           "arrowcolor": "#2a3f5f",
           "arrowhead": 0,
           "arrowwidth": 1
          },
          "autotypenumbers": "strict",
          "coloraxis": {
           "colorbar": {
            "outlinewidth": 0,
            "ticks": ""
           }
          },
          "colorscale": {
           "diverging": [
            [
             0,
             "#8e0152"
            ],
            [
             0.1,
             "#c51b7d"
            ],
            [
             0.2,
             "#de77ae"
            ],
            [
             0.3,
             "#f1b6da"
            ],
            [
             0.4,
             "#fde0ef"
            ],
            [
             0.5,
             "#f7f7f7"
            ],
            [
             0.6,
             "#e6f5d0"
            ],
            [
             0.7,
             "#b8e186"
            ],
            [
             0.8,
             "#7fbc41"
            ],
            [
             0.9,
             "#4d9221"
            ],
            [
             1,
             "#276419"
            ]
           ],
           "sequential": [
            [
             0,
             "#0d0887"
            ],
            [
             0.1111111111111111,
             "#46039f"
            ],
            [
             0.2222222222222222,
             "#7201a8"
            ],
            [
             0.3333333333333333,
             "#9c179e"
            ],
            [
             0.4444444444444444,
             "#bd3786"
            ],
            [
             0.5555555555555556,
             "#d8576b"
            ],
            [
             0.6666666666666666,
             "#ed7953"
            ],
            [
             0.7777777777777778,
             "#fb9f3a"
            ],
            [
             0.8888888888888888,
             "#fdca26"
            ],
            [
             1,
             "#f0f921"
            ]
           ],
           "sequentialminus": [
            [
             0,
             "#0d0887"
            ],
            [
             0.1111111111111111,
             "#46039f"
            ],
            [
             0.2222222222222222,
             "#7201a8"
            ],
            [
             0.3333333333333333,
             "#9c179e"
            ],
            [
             0.4444444444444444,
             "#bd3786"
            ],
            [
             0.5555555555555556,
             "#d8576b"
            ],
            [
             0.6666666666666666,
             "#ed7953"
            ],
            [
             0.7777777777777778,
             "#fb9f3a"
            ],
            [
             0.8888888888888888,
             "#fdca26"
            ],
            [
             1,
             "#f0f921"
            ]
           ]
          },
          "colorway": [
           "#636efa",
           "#EF553B",
           "#00cc96",
           "#ab63fa",
           "#FFA15A",
           "#19d3f3",
           "#FF6692",
           "#B6E880",
           "#FF97FF",
           "#FECB52"
          ],
          "font": {
           "color": "#2a3f5f"
          },
          "geo": {
           "bgcolor": "white",
           "lakecolor": "white",
           "landcolor": "#E5ECF6",
           "showlakes": true,
           "showland": true,
           "subunitcolor": "white"
          },
          "hoverlabel": {
           "align": "left"
          },
          "hovermode": "closest",
          "mapbox": {
           "style": "light"
          },
          "paper_bgcolor": "white",
          "plot_bgcolor": "#E5ECF6",
          "polar": {
           "angularaxis": {
            "gridcolor": "white",
            "linecolor": "white",
            "ticks": ""
           },
           "bgcolor": "#E5ECF6",
           "radialaxis": {
            "gridcolor": "white",
            "linecolor": "white",
            "ticks": ""
           }
          },
          "scene": {
           "xaxis": {
            "backgroundcolor": "#E5ECF6",
            "gridcolor": "white",
            "gridwidth": 2,
            "linecolor": "white",
            "showbackground": true,
            "ticks": "",
            "zerolinecolor": "white"
           },
           "yaxis": {
            "backgroundcolor": "#E5ECF6",
            "gridcolor": "white",
            "gridwidth": 2,
            "linecolor": "white",
            "showbackground": true,
            "ticks": "",
            "zerolinecolor": "white"
           },
           "zaxis": {
            "backgroundcolor": "#E5ECF6",
            "gridcolor": "white",
            "gridwidth": 2,
            "linecolor": "white",
            "showbackground": true,
            "ticks": "",
            "zerolinecolor": "white"
           }
          },
          "shapedefaults": {
           "line": {
            "color": "#2a3f5f"
           }
          },
          "ternary": {
           "aaxis": {
            "gridcolor": "white",
            "linecolor": "white",
            "ticks": ""
           },
           "baxis": {
            "gridcolor": "white",
            "linecolor": "white",
            "ticks": ""
           },
           "bgcolor": "#E5ECF6",
           "caxis": {
            "gridcolor": "white",
            "linecolor": "white",
            "ticks": ""
           }
          },
          "title": {
           "x": 0.05
          },
          "xaxis": {
           "automargin": true,
           "gridcolor": "white",
           "linecolor": "white",
           "ticks": "",
           "title": {
            "standoff": 15
           },
           "zerolinecolor": "white",
           "zerolinewidth": 2
          },
          "yaxis": {
           "automargin": true,
           "gridcolor": "white",
           "linecolor": "white",
           "ticks": "",
           "title": {
            "standoff": 15
           },
           "zerolinecolor": "white",
           "zerolinewidth": 2
          }
         }
        },
        "yaxis": {
         "gridcolor": "#dddcda",
         "gridwidth": 1,
         "ticktext": [
          "$0.00",
          "$5000.00",
          "$10000.00",
          "$15000.00",
          "$20000.00",
          "$25000.00"
         ],
         "tickvals": [
          0,
          5000,
          10000,
          15000,
          20000,
          25000
         ]
        }
       }
      }
     },
     "metadata": {},
     "output_type": "display_data"
    }
   ],
   "source": [
    "colores = ['#2962ff', '#9500ff', '#ff0059', '#ff8c00', '#b4e600', '#2EC2A2','#F79CB9']\n",
    "porcentajes = Precio_mean_M2['Precio_m2_mean']\n",
    "\n",
    "# Convertir la columna 'Precio_m2_mean' a números de punto flotante\n",
    "#Precio_mean_M2['Precio_m2_mean'] = Precio_mean_M2['Precio_m2_mean'].str.replace('$', '').str.replace(',', '').astype(float)\n",
    "# Convertir los valores a cadenas con el formato deseado\n",
    "textos_formateados = [f'${round(valor, 2):,.2f}' for valor in Precio_mean_M2['Precio_m2_mean']]\n",
    "\n",
    "fig = go.Figure()\n",
    "# Obtener el valor máximo redondeado al próximo múltiplo de 5000\n",
    "max_valor = int(Precio_mean_M2['Precio_m2_mean'].max() / 5000 + 1) * 5000\n",
    "\n",
    "# Agregar los datos como barras\n",
    "fig.add_trace(go.Bar(\n",
    "    x=Precio_mean_M2['Rango'],  # Eje x: Modalidades\n",
    "    y=Precio_mean_M2['Precio_m2_mean'],  # Eje y: Porcentajes\n",
    "    marker_color=colores,  # Especifica los colores de las barras\n",
    "    text=textos_formateados,  # Texto que se mostrará en las barras (porcentaje)\n",
    "    textposition='inside',  # Posición del texto (puede ser 'inside' o 'outside')\n",
    "))\n",
    "\n",
    "# Personalizar el diseño de la gráfica\n",
    "fig.update_layout(\n",
    "    #title='Precio promedio por M2 totales.',  # Título de la gráfica\n",
    "    #xaxis=dict(title='Rango'),  # Título del eje x\n",
    "    yaxis=dict(\n",
    "        #title='Precio', # Título del eje y\n",
    "        gridcolor='#dddcda', # Color de las líneas que dividen los rangos del eje Y\n",
    "        gridwidth=1,\n",
    "        tickvals=list(range(0, max_valor + 5000, 5000)),  # Valores de los ticks del eje y\n",
    "        ticktext=[f'${valor:.2f}' for valor in range(0, max_valor + 5000, 5000)]  # Textos de los ticks del eje y\n",
    "    ),  \n",
    "    plot_bgcolor='rgba(0,0,0,0)',  # Color de fondo del gráfico\n",
    "    height=500,  # Altura de la gráfica\n",
    "    margin=dict(l=10, r=10, t=10, b=10)  # Ajusta los márgenes (left, right, top, bottom)\n",
    "\n",
    ")\n",
    "\n",
    "# Exportar gráfica como archivo HTML\n",
    "def guardar_grafico_como_html(fig, nombre_archivo, carpeta='assets/graficas'):\n",
    "    # Crear la carpeta si no existe\n",
    "    if not os.path.exists(carpeta):\n",
    "        os.makedirs(carpeta)\n",
    "    # Gráfica como archivo HTML en la carpeta especificada\n",
    "    pio.write_html(fig, f'{carpeta}/{nombre_archivo}.html')\n",
    "guardar_grafico_como_html(fig, 'g_bar_PrecioPromedio_m2', carpeta='assets/graficas')\n",
    "fig.show()"
   ]
  },
  {
   "cell_type": "code",
   "execution_count": null,
   "metadata": {},
   "outputs": [],
   "source": []
  }
 ],
 "metadata": {
  "kernelspec": {
   "display_name": "base",
   "language": "python",
   "name": "python3"
  },
  "language_info": {
   "codemirror_mode": {
    "name": "ipython",
    "version": 3
   },
   "file_extension": ".py",
   "mimetype": "text/x-python",
   "name": "python",
   "nbconvert_exporter": "python",
   "pygments_lexer": "ipython3",
   "version": "3.9.13"
  }
 },
 "nbformat": 4,
 "nbformat_minor": 2
}
