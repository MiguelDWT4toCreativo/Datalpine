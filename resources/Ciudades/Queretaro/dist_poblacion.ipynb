{
 "cells": [
  {
   "cell_type": "markdown",
   "metadata": {},
   "source": [
    "# **Distribución de la población por género y rango de edad**"
   ]
  },
  {
   "cell_type": "code",
   "execution_count": 16,
   "metadata": {},
   "outputs": [
    {
     "name": "stdout",
     "output_type": "stream",
     "text": [
      "Lista de DataFrames filtrados:\n"
     ]
    },
    {
     "data": {
      "text/plain": [
       "['df_grupos_edad_queretaro']"
      ]
     },
     "execution_count": 16,
     "metadata": {},
     "output_type": "execute_result"
    }
   ],
   "source": [
    "# Manejo de datos\n",
    "import os # Directorios\n",
    "import pandas as pd # Manipulación df\n",
    "# Gráficas\n",
    "import plotly.graph_objects as go #Para obtener librería usar: pip install plotly\n",
    "from plotly.subplots import make_subplots\n",
    "import plotly.io as pio # Exportar gráfica\n",
    "\n",
    "# Obtener el directorio actual de trabajo\n",
    "directorio_actual = os.getcwd()\n",
    "\n",
    "# Directorio donde se encuentran los archivos JSON (ruta relativa)\n",
    "directorio_json = os.path.join(directorio_actual, '../../db/datos_json')\n",
    "\n",
    "# Obtener la lista de archivos JSON en el directorio\n",
    "archivos_json = os.listdir(directorio_json)\n",
    "\n",
    "# Cargar los archivos JSON y crear DataFrames\n",
    "for archivo in archivos_json:\n",
    "    nombre_tabla = archivo.replace('datos_', '').replace('.json', '')\n",
    "    ruta_json = os.path.join(directorio_json, archivo)\n",
    "    globals()[f\"df_{nombre_tabla}\"] = pd.read_json(ruta_json)\n",
    "\n",
    "# Obtener todos los nombres de las variables globales\n",
    "nombres_variables_globales = list(globals().keys())\n",
    "\n",
    "# Filtrar los nombres que comienzan con \"df_\", contienen \"alfa_q\" y \"pachuca\"\n",
    "nombres_df_filtrados = [\n",
    "    nombre for nombre in nombres_variables_globales \n",
    "    # Caso de cuando no son las alfa q\n",
    "    if nombre.startswith(\"df_\") and \"grupos_edad\" in nombre and \"queretaro\" in nombre\n",
    "\n",
    "    #if nombre.startswith(\"df_\") and \"tulancingo\" in nombre    \n",
    "    #and (\"alfa_q\" in nombre or \"jul_2023\" in nombre or \"sep_2023\" in nombre or \"feb_2024\" in nombre or \"mar_2024\" in nombre or \"may_2024\" in nombre)\n",
    "]\n",
    "\n",
    "# Imprimir la lista de DataFrames filtrados\n",
    "print(\"Lista de DataFrames filtrados:\")\n",
    "nombres_df_filtrados"
   ]
  },
  {
   "cell_type": "code",
   "execution_count": 17,
   "metadata": {},
   "outputs": [
    {
     "data": {
      "text/plain": [
       "Index(['id', 'rango', 'total', 'Hombres', 'Mujeres'], dtype='object')"
      ]
     },
     "execution_count": 17,
     "metadata": {},
     "output_type": "execute_result"
    }
   ],
   "source": [
    "df_grupos_edad_queretaro.columns"
   ]
  },
  {
   "cell_type": "code",
   "execution_count": 18,
   "metadata": {},
   "outputs": [
    {
     "name": "stdout",
     "output_type": "stream",
     "text": [
      "Columnas renombradas en los DataFrames filtrados.\n"
     ]
    }
   ],
   "source": [
    "# Iterar sobre cada DataFrame en la lista filtrada\n",
    "for nombre_df in nombres_df_filtrados:\n",
    "    # Obtener el DataFrame usando globals()\n",
    "    df = globals()[nombre_df]\n",
    "    \n",
    "    df.rename(columns={'Hombres':'hombres','Mujeres':'mujeres'}, inplace=True)\n",
    "        # Asignar el DataFrame modificado de nuevo a la variable global\n",
    "    globals()[nombre_df] = df \n",
    "\n",
    "# Imprimir confirmación\n",
    "print(\"Columnas renombradas en los DataFrames filtrados.\")\n"
   ]
  },
  {
   "cell_type": "code",
   "execution_count": 19,
   "metadata": {},
   "outputs": [],
   "source": [
    "# Crear una lista de DataFrames seleccionados con las columnas específicas\n",
    "dataframes_list = []\n",
    "for nombre_df in nombres_df_filtrados:\n",
    "    # Seleccionar las columnas 'id' y 'categoria'\n",
    "    segment_df = globals()[nombre_df][['id', 'rango', 'total', 'hombres', 'mujeres']]\n",
    "    # Añadir el DataFrame a la lista\n",
    "    dataframes_list.append(segment_df)"
   ]
  },
  {
   "cell_type": "code",
   "execution_count": 20,
   "metadata": {},
   "outputs": [
    {
     "ename": "KeyError",
     "evalue": "'hombres'",
     "output_type": "error",
     "traceback": [
      "\u001b[1;31m---------------------------------------------------------------------------\u001b[0m",
      "\u001b[1;31mKeyError\u001b[0m                                  Traceback (most recent call last)",
      "\u001b[1;32mc:\\Users\\yoe11\\anaconda3\\lib\\site-packages\\pandas\\core\\indexes\\base.py\u001b[0m in \u001b[0;36mget_loc\u001b[1;34m(self, key)\u001b[0m\n\u001b[0;32m   3804\u001b[0m         \u001b[1;32mtry\u001b[0m\u001b[1;33m:\u001b[0m\u001b[1;33m\u001b[0m\u001b[1;33m\u001b[0m\u001b[0m\n\u001b[1;32m-> 3805\u001b[1;33m             \u001b[1;32mreturn\u001b[0m \u001b[0mself\u001b[0m\u001b[1;33m.\u001b[0m\u001b[0m_engine\u001b[0m\u001b[1;33m.\u001b[0m\u001b[0mget_loc\u001b[0m\u001b[1;33m(\u001b[0m\u001b[0mcasted_key\u001b[0m\u001b[1;33m)\u001b[0m\u001b[1;33m\u001b[0m\u001b[1;33m\u001b[0m\u001b[0m\n\u001b[0m\u001b[0;32m   3806\u001b[0m         \u001b[1;32mexcept\u001b[0m \u001b[0mKeyError\u001b[0m \u001b[1;32mas\u001b[0m \u001b[0merr\u001b[0m\u001b[1;33m:\u001b[0m\u001b[1;33m\u001b[0m\u001b[1;33m\u001b[0m\u001b[0m\n",
      "\u001b[1;32mindex.pyx\u001b[0m in \u001b[0;36mpandas._libs.index.IndexEngine.get_loc\u001b[1;34m()\u001b[0m\n",
      "\u001b[1;32mindex.pyx\u001b[0m in \u001b[0;36mpandas._libs.index.IndexEngine.get_loc\u001b[1;34m()\u001b[0m\n",
      "\u001b[1;32mpandas\\\\_libs\\\\hashtable_class_helper.pxi\u001b[0m in \u001b[0;36mpandas._libs.hashtable.PyObjectHashTable.get_item\u001b[1;34m()\u001b[0m\n",
      "\u001b[1;32mpandas\\\\_libs\\\\hashtable_class_helper.pxi\u001b[0m in \u001b[0;36mpandas._libs.hashtable.PyObjectHashTable.get_item\u001b[1;34m()\u001b[0m\n",
      "\u001b[1;31mKeyError\u001b[0m: 'hombres'",
      "\nThe above exception was the direct cause of the following exception:\n",
      "\u001b[1;31mKeyError\u001b[0m                                  Traceback (most recent call last)",
      "\u001b[1;32m~\\AppData\\Local\\Temp\\ipykernel_16336\\967136636.py\u001b[0m in \u001b[0;36m<module>\u001b[1;34m\u001b[0m\n\u001b[0;32m     70\u001b[0m \u001b[1;33m\u001b[0m\u001b[0m\n\u001b[0;32m     71\u001b[0m \u001b[1;31m# Crear y mostrar la pirámide poblacional\u001b[0m\u001b[1;33m\u001b[0m\u001b[1;33m\u001b[0m\u001b[0m\n\u001b[1;32m---> 72\u001b[1;33m \u001b[0mcreate_population_pyramids\u001b[0m\u001b[1;33m(\u001b[0m\u001b[0mdatos_agrupados\u001b[0m\u001b[1;33m,\u001b[0m \u001b[1;34m''\u001b[0m\u001b[1;33m,\u001b[0m \u001b[1;34m'hombres'\u001b[0m\u001b[1;33m,\u001b[0m \u001b[1;34m'mujeres'\u001b[0m\u001b[1;33m,\u001b[0m \u001b[1;34m'rango_amplio'\u001b[0m\u001b[1;33m)\u001b[0m\u001b[1;33m\u001b[0m\u001b[1;33m\u001b[0m\u001b[0m\n\u001b[0m",
      "\u001b[1;32m~\\AppData\\Local\\Temp\\ipykernel_16336\\967136636.py\u001b[0m in \u001b[0;36mcreate_population_pyramids\u001b[1;34m(df, title, male_col, female_col, age_group_col)\u001b[0m\n\u001b[0;32m     14\u001b[0m \u001b[1;32mdef\u001b[0m \u001b[0mcreate_population_pyramids\u001b[0m\u001b[1;33m(\u001b[0m\u001b[0mdf\u001b[0m\u001b[1;33m,\u001b[0m \u001b[0mtitle\u001b[0m\u001b[1;33m,\u001b[0m \u001b[0mmale_col\u001b[0m\u001b[1;33m,\u001b[0m \u001b[0mfemale_col\u001b[0m\u001b[1;33m,\u001b[0m \u001b[0mage_group_col\u001b[0m\u001b[1;33m)\u001b[0m\u001b[1;33m:\u001b[0m\u001b[1;33m\u001b[0m\u001b[1;33m\u001b[0m\u001b[0m\n\u001b[0;32m     15\u001b[0m     \u001b[0mage_groups\u001b[0m \u001b[1;33m=\u001b[0m \u001b[0mdf\u001b[0m\u001b[1;33m[\u001b[0m\u001b[0mage_group_col\u001b[0m\u001b[1;33m]\u001b[0m\u001b[1;33m.\u001b[0m\u001b[0mtolist\u001b[0m\u001b[1;33m(\u001b[0m\u001b[1;33m)\u001b[0m\u001b[1;33m\u001b[0m\u001b[1;33m\u001b[0m\u001b[0m\n\u001b[1;32m---> 16\u001b[1;33m     \u001b[0mmen_values\u001b[0m \u001b[1;33m=\u001b[0m \u001b[0mdf\u001b[0m\u001b[1;33m[\u001b[0m\u001b[0mmale_col\u001b[0m\u001b[1;33m]\u001b[0m\u001b[1;33m.\u001b[0m\u001b[0mtolist\u001b[0m\u001b[1;33m(\u001b[0m\u001b[1;33m)\u001b[0m\u001b[1;33m\u001b[0m\u001b[1;33m\u001b[0m\u001b[0m\n\u001b[0m\u001b[0;32m     17\u001b[0m     \u001b[0mwomen_values\u001b[0m \u001b[1;33m=\u001b[0m \u001b[0mdf\u001b[0m\u001b[1;33m[\u001b[0m\u001b[0mfemale_col\u001b[0m\u001b[1;33m]\u001b[0m\u001b[1;33m.\u001b[0m\u001b[0mtolist\u001b[0m\u001b[1;33m(\u001b[0m\u001b[1;33m)\u001b[0m\u001b[1;33m\u001b[0m\u001b[1;33m\u001b[0m\u001b[0m\n\u001b[0;32m     18\u001b[0m \u001b[1;33m\u001b[0m\u001b[0m\n",
      "\u001b[1;32mc:\\Users\\yoe11\\anaconda3\\lib\\site-packages\\pandas\\core\\frame.py\u001b[0m in \u001b[0;36m__getitem__\u001b[1;34m(self, key)\u001b[0m\n\u001b[0;32m   4100\u001b[0m             \u001b[1;32mif\u001b[0m \u001b[0mself\u001b[0m\u001b[1;33m.\u001b[0m\u001b[0mcolumns\u001b[0m\u001b[1;33m.\u001b[0m\u001b[0mnlevels\u001b[0m \u001b[1;33m>\u001b[0m \u001b[1;36m1\u001b[0m\u001b[1;33m:\u001b[0m\u001b[1;33m\u001b[0m\u001b[1;33m\u001b[0m\u001b[0m\n\u001b[0;32m   4101\u001b[0m                 \u001b[1;32mreturn\u001b[0m \u001b[0mself\u001b[0m\u001b[1;33m.\u001b[0m\u001b[0m_getitem_multilevel\u001b[0m\u001b[1;33m(\u001b[0m\u001b[0mkey\u001b[0m\u001b[1;33m)\u001b[0m\u001b[1;33m\u001b[0m\u001b[1;33m\u001b[0m\u001b[0m\n\u001b[1;32m-> 4102\u001b[1;33m             \u001b[0mindexer\u001b[0m \u001b[1;33m=\u001b[0m \u001b[0mself\u001b[0m\u001b[1;33m.\u001b[0m\u001b[0mcolumns\u001b[0m\u001b[1;33m.\u001b[0m\u001b[0mget_loc\u001b[0m\u001b[1;33m(\u001b[0m\u001b[0mkey\u001b[0m\u001b[1;33m)\u001b[0m\u001b[1;33m\u001b[0m\u001b[1;33m\u001b[0m\u001b[0m\n\u001b[0m\u001b[0;32m   4103\u001b[0m             \u001b[1;32mif\u001b[0m \u001b[0mis_integer\u001b[0m\u001b[1;33m(\u001b[0m\u001b[0mindexer\u001b[0m\u001b[1;33m)\u001b[0m\u001b[1;33m:\u001b[0m\u001b[1;33m\u001b[0m\u001b[1;33m\u001b[0m\u001b[0m\n\u001b[0;32m   4104\u001b[0m                 \u001b[0mindexer\u001b[0m \u001b[1;33m=\u001b[0m \u001b[1;33m[\u001b[0m\u001b[0mindexer\u001b[0m\u001b[1;33m]\u001b[0m\u001b[1;33m\u001b[0m\u001b[1;33m\u001b[0m\u001b[0m\n",
      "\u001b[1;32mc:\\Users\\yoe11\\anaconda3\\lib\\site-packages\\pandas\\core\\indexes\\base.py\u001b[0m in \u001b[0;36mget_loc\u001b[1;34m(self, key)\u001b[0m\n\u001b[0;32m   3810\u001b[0m             ):\n\u001b[0;32m   3811\u001b[0m                 \u001b[1;32mraise\u001b[0m \u001b[0mInvalidIndexError\u001b[0m\u001b[1;33m(\u001b[0m\u001b[0mkey\u001b[0m\u001b[1;33m)\u001b[0m\u001b[1;33m\u001b[0m\u001b[1;33m\u001b[0m\u001b[0m\n\u001b[1;32m-> 3812\u001b[1;33m             \u001b[1;32mraise\u001b[0m \u001b[0mKeyError\u001b[0m\u001b[1;33m(\u001b[0m\u001b[0mkey\u001b[0m\u001b[1;33m)\u001b[0m \u001b[1;32mfrom\u001b[0m \u001b[0merr\u001b[0m\u001b[1;33m\u001b[0m\u001b[1;33m\u001b[0m\u001b[0m\n\u001b[0m\u001b[0;32m   3813\u001b[0m         \u001b[1;32mexcept\u001b[0m \u001b[0mTypeError\u001b[0m\u001b[1;33m:\u001b[0m\u001b[1;33m\u001b[0m\u001b[1;33m\u001b[0m\u001b[0m\n\u001b[0;32m   3814\u001b[0m             \u001b[1;31m# If we have a listlike key, _check_indexing_error will raise\u001b[0m\u001b[1;33m\u001b[0m\u001b[1;33m\u001b[0m\u001b[0m\n",
      "\u001b[1;31mKeyError\u001b[0m: 'hombres'"
     ]
    }
   ],
   "source": [
    "def asignar_rango_amplio(id):\n",
    "    rangos = {range(1, 5): '0-19', range(5, 8): '20-34', range(8, 11): '35-49', range(11, 14): '50-64'} \n",
    "    for rango, etiqueta in rangos.items():\n",
    "        if id in rango:\n",
    "            return etiqueta\n",
    "    return '65+' if id > 19 else '65+'\n",
    "\n",
    "df_grupos_edad_pachuca['rango_amplio'] = df_grupos_edad_pachuca['id'].apply(asignar_rango_amplio)\n",
    "\n",
    "# Agrupar y sumar en una línea\n",
    "datos_agrupados = df_grupos_edad_pachuca.groupby('rango_amplio').sum().reset_index()\n",
    "#datos_agrupados = df_grupos_edad_pachuca.groupby('rango_amplio').agg({'hombres': 'sum', 'mujeres': 'sum'}).reset_index()\n",
    "\n",
    "def create_population_pyramids(df, title, male_col, female_col, age_group_col):\n",
    "    age_groups = df[age_group_col].tolist()\n",
    "    men_values = df[male_col].tolist()\n",
    "    women_values = df[female_col].tolist()\n",
    "\n",
    "    fig = go.Figure()\n",
    "\n",
    "    fig.add_trace(go.Bar(\n",
    "        y=age_groups,\n",
    "        x=[-value for value in men_values],\n",
    "        # text=male_data['Population'],  # Etiquetas de cantidad positiva\n",
    "        name='Hombres',\n",
    "        orientation='h',\n",
    "        marker=dict(color='#9500ff'),\n",
    "        textposition='outside',  # Posición del texto fuera de la barra\n",
    "    ))\n",
    "\n",
    "    fig.add_trace(go.Bar(\n",
    "        y=age_groups,\n",
    "        x=women_values,  # Coordenadas x invertidas\n",
    "        # text=female_data['Population'],  # Etiquetas de cantidad positiva\n",
    "        name='Mujeres',\n",
    "        orientation='h',\n",
    "        marker=dict(color='#ff0059'),\n",
    "        textposition='outside',  # Posición del texto fuera de la barra    \n",
    "    ))\n",
    "    \n",
    "    # Configurar el fondo de la gráfica como transparente\n",
    "    # fig.update_layout({\n",
    "    #     'plot_bgcolor': 'rgba(0, 0, 0, 0)',\n",
    "    #     'paper_bgcolor': 'rgba(0, 0, 0, 0)'\n",
    "    # })\n",
    "\n",
    "    # Personalización adicional del gráfico\n",
    "    fig.update_layout(\n",
    "        title=title,\n",
    "        barmode='overlay',\n",
    "        bargap=0.35,\n",
    "        xaxis=dict(title='Porcentaje'),\n",
    "        yaxis=dict(\n",
    "            title='Rango de Edad', \n",
    "            gridcolor='#dddcda', # Color de las líneas que dividen los rangos del eje Y\n",
    "        ),\n",
    "        legend=dict(\n",
    "            font_size=10,\n",
    "            orientation='h',  # Orientación horizontal de la leyenda\n",
    "            yanchor='bottom',  # Anclar al borde inferior\n",
    "            y=1.02,  # Colocar la leyenda justo debajo del gráfico\n",
    "            xanchor='right',\n",
    "            x=1\n",
    "            ), \n",
    "        plot_bgcolor='rgba(0,0,0,0)',  # Color de fondo del gráfico\n",
    "        margin=dict(l=10, r=10, t=10, b=10)  # Ajusta los márgenes (left, right, top, bottom)   \n",
    "    )\n",
    "\n",
    "    return fig\n",
    "\n",
    "# Crear y mostrar la pirámide poblacional\n",
    "create_population_pyramids(datos_agrupados, '', 'hombres', 'mujeres', 'rango_amplio')"
   ]
  },
  {
   "cell_type": "code",
   "execution_count": 7,
   "metadata": {},
   "outputs": [],
   "source": [
    "def guardar_grafico_como_html(fig, nombre_archivo, carpeta='assets/graficas'):\n",
    "    if not os.path.exists(carpeta):\n",
    "        os.makedirs(carpeta)\n",
    "    pio.write_html(fig, f'{carpeta}/{nombre_archivo}.html')\n",
    "    # pio.write_html(fig, f'{carpeta}/{nombre_archivo}.png')\n",
    "    \n",
    "fig_piramide = create_population_pyramids(datos_agrupados, 'Tulancingo', 'hombres', 'mujeres', 'rango_amplio')\n",
    "\n",
    "# Guardar la figura como archivo HTML\n",
    "guardar_grafico_como_html(fig_piramide, 'g_piramid_poblacion')"
   ]
  }
 ],
 "metadata": {
  "kernelspec": {
   "display_name": "base",
   "language": "python",
   "name": "python3"
  },
  "language_info": {
   "codemirror_mode": {
    "name": "ipython",
    "version": 3
   },
   "file_extension": ".py",
   "mimetype": "text/x-python",
   "name": "python",
   "nbconvert_exporter": "python",
   "pygments_lexer": "ipython3",
   "version": "3.9.13"
  }
 },
 "nbformat": 4,
 "nbformat_minor": 2
}
