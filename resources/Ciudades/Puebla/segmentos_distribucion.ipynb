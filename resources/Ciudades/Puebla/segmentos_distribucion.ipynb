{
 "cells": [
  {
   "cell_type": "markdown",
   "metadata": {},
   "source": [
    "# ***DISTRIBUCIÓN DE SEGMENTOS***"
   ]
  },
  {
   "cell_type": "markdown",
   "metadata": {},
   "source": [
    "### DataFrames:"
   ]
  },
  {
   "cell_type": "code",
   "execution_count": 1,
   "metadata": {},
   "outputs": [
    {
     "ename": "ImportError",
     "evalue": "DLL load failed while importing _multiarray_umath: No se puede encontrar el módulo especificado.",
     "output_type": "error",
     "traceback": [
      "\u001b[1;31m---------------------------------------------------------------------------\u001b[0m",
      "\u001b[1;31mImportError\u001b[0m                               Traceback (most recent call last)",
      "\u001b[1;31mImportError\u001b[0m: DLL load failed while importing _multiarray_umath: No se puede encontrar el módulo especificado."
     ]
    },
    {
     "name": "stdout",
     "output_type": "stream",
     "text": [
      "Lista de DataFrames filtrados:\n"
     ]
    },
    {
     "data": {
      "text/plain": [
       "['df_alfa_agosto_2024_puebla',\n",
       " 'df_alfa_julio_2024_puebla',\n",
       " 'df_alfa_junio_2024_puebla',\n",
       " 'df_alfa_septiembre_2024_puebla']"
      ]
     },
     "execution_count": 1,
     "metadata": {},
     "output_type": "execute_result"
    }
   ],
   "source": [
    "# Manejo de datos\n",
    "import os # Directorios\n",
    "import pandas as pd # Manipulación df\n",
    "# Gráficas\n",
    "import plotly.graph_objects as go #Para obtener librería usar: pip install plotly\n",
    "from plotly.subplots import make_subplots\n",
    "import plotly.io as pio # Exportar gráfica\n",
    "\n",
    "# Obtener el directorio actual de trabajo\n",
    "directorio_actual = os.getcwd()\n",
    "\n",
    "# Directorio donde se encuentran los archivos JSON (ruta relativa)\n",
    "directorio_json = os.path.join(directorio_actual, '../../db/datos_json')\n",
    "\n",
    "# Obtener la lista de archivos JSON en el directorio\n",
    "archivos_json = os.listdir(directorio_json)\n",
    "\n",
    "# Cargar los archivos JSON y crear DataFrames\n",
    "for archivo in archivos_json:\n",
    "    nombre_tabla = archivo.replace('datos_', '').replace('.json', '')\n",
    "    ruta_json = os.path.join(directorio_json, archivo)\n",
    "    globals()[f\"df_{nombre_tabla}\"] = pd.read_json(ruta_json)\n",
    "\n",
    "# Obtener todos los nombres de las variables globales\n",
    "nombres_variables_globales = list(globals().keys())\n",
    "\n",
    "# Filtrar los nombres que comienzan con \"df_\", contienen \"alfa_q\" y \"pachuca\"\n",
    "nombres_df_filtrados = [\n",
    "    nombre for nombre in nombres_variables_globales \n",
    "    if nombre.startswith(\"df_\") and \"alfa\" in nombre and \"puebla\" in nombre and 'q' not in nombre\n",
    "]\n",
    "\n",
    "# Imprimir la lista de DataFrames filtrados\n",
    "print(\"Lista de DataFrames filtrados:\")\n",
    "nombres_df_filtrados"
   ]
  },
  {
   "cell_type": "code",
   "execution_count": 2,
   "metadata": {},
   "outputs": [
    {
     "name": "stdout",
     "output_type": "stream",
     "text": [
      "Columnas renombradas en los DataFrames filtrados.\n"
     ]
    }
   ],
   "source": [
    "# Iterar sobre cada DataFrame en la lista filtrada\n",
    "for nombre_df in nombres_df_filtrados:\n",
    "    # Obtener el DataFrame usando globals()\n",
    "    df = globals()[nombre_df]\n",
    "    \n",
    "    # Verificar si la columna 'm2_contruido' existe en el DataFrame\n",
    "    #if 'm2_contruido' in df.columns:\n",
    "        # Renombrar la columna\n",
    "    df.rename(columns={'segmento':'categoria','Categoria':'categoria','Category':'categoria','Precio':'precio'}, inplace=True)\n",
    "    # Asignar el DataFrame modificado de nuevo a la variable global\n",
    "    globals()[nombre_df] = df\n",
    "\n",
    "# Imprimir confirmación\n",
    "print(\"Columnas renombradas en los DataFrames filtrados.\")\n"
   ]
  },
  {
   "cell_type": "code",
   "execution_count": 3,
   "metadata": {},
   "outputs": [],
   "source": [
    "# Crear una lista de DataFrames seleccionados con las columnas específicas\n",
    "dataframes_list = []\n",
    "for nombre_df in nombres_df_filtrados:\n",
    "    # Seleccionar las columnas 'id' y 'categoria'\n",
    "    segment_df = globals()[nombre_df][['id', 'categoria']]\n",
    "    # Añadir el DataFrame a la lista\n",
    "    dataframes_list.append(segment_df)"
   ]
  },
  {
   "cell_type": "markdown",
   "metadata": {},
   "source": [
    "### CONTEO ÚNICO DE CATEGORÍAS"
   ]
  },
  {
   "cell_type": "code",
   "execution_count": 4,
   "metadata": {},
   "outputs": [
    {
     "data": {
      "text/html": [
       "<div>\n",
       "<style scoped>\n",
       "    .dataframe tbody tr th:only-of-type {\n",
       "        vertical-align: middle;\n",
       "    }\n",
       "\n",
       "    .dataframe tbody tr th {\n",
       "        vertical-align: top;\n",
       "    }\n",
       "\n",
       "    .dataframe thead th {\n",
       "        text-align: right;\n",
       "    }\n",
       "</style>\n",
       "<table border=\"1\" class=\"dataframe\">\n",
       "  <thead>\n",
       "    <tr style=\"text-align: right;\">\n",
       "      <th></th>\n",
       "      <th>categoria</th>\n",
       "      <th>conteo_total</th>\n",
       "    </tr>\n",
       "  </thead>\n",
       "  <tbody>\n",
       "    <tr>\n",
       "      <th>0</th>\n",
       "      <td>E2</td>\n",
       "      <td>1962</td>\n",
       "    </tr>\n",
       "    <tr>\n",
       "      <th>1</th>\n",
       "      <td>S1</td>\n",
       "      <td>1951</td>\n",
       "    </tr>\n",
       "    <tr>\n",
       "      <th>2</th>\n",
       "      <td>E3</td>\n",
       "      <td>1212</td>\n",
       "    </tr>\n",
       "    <tr>\n",
       "      <th>3</th>\n",
       "      <td></td>\n",
       "      <td>1223</td>\n",
       "    </tr>\n",
       "    <tr>\n",
       "      <th>4</th>\n",
       "      <td>D2</td>\n",
       "      <td>724</td>\n",
       "    </tr>\n",
       "    <tr>\n",
       "      <th>5</th>\n",
       "      <td>S3</td>\n",
       "      <td>669</td>\n",
       "    </tr>\n",
       "    <tr>\n",
       "      <th>6</th>\n",
       "      <td>D1</td>\n",
       "      <td>615</td>\n",
       "    </tr>\n",
       "    <tr>\n",
       "      <th>7</th>\n",
       "      <td>C1</td>\n",
       "      <td>685</td>\n",
       "    </tr>\n",
       "    <tr>\n",
       "      <th>8</th>\n",
       "      <td>S2</td>\n",
       "      <td>642</td>\n",
       "    </tr>\n",
       "    <tr>\n",
       "      <th>9</th>\n",
       "      <td>A3</td>\n",
       "      <td>616</td>\n",
       "    </tr>\n",
       "    <tr>\n",
       "      <th>10</th>\n",
       "      <td>E1</td>\n",
       "      <td>463</td>\n",
       "    </tr>\n",
       "    <tr>\n",
       "      <th>11</th>\n",
       "      <td>C3</td>\n",
       "      <td>773</td>\n",
       "    </tr>\n",
       "    <tr>\n",
       "      <th>12</th>\n",
       "      <td>B2</td>\n",
       "      <td>681</td>\n",
       "    </tr>\n",
       "    <tr>\n",
       "      <th>13</th>\n",
       "      <td>D3</td>\n",
       "      <td>629</td>\n",
       "    </tr>\n",
       "    <tr>\n",
       "      <th>14</th>\n",
       "      <td>C2</td>\n",
       "      <td>556</td>\n",
       "    </tr>\n",
       "    <tr>\n",
       "      <th>15</th>\n",
       "      <td>B1</td>\n",
       "      <td>407</td>\n",
       "    </tr>\n",
       "    <tr>\n",
       "      <th>16</th>\n",
       "      <td>A2</td>\n",
       "      <td>387</td>\n",
       "    </tr>\n",
       "    <tr>\n",
       "      <th>17</th>\n",
       "      <td>B3</td>\n",
       "      <td>404</td>\n",
       "    </tr>\n",
       "    <tr>\n",
       "      <th>18</th>\n",
       "      <td>A1</td>\n",
       "      <td>419</td>\n",
       "    </tr>\n",
       "    <tr>\n",
       "      <th>19</th>\n",
       "      <td>L1</td>\n",
       "      <td>254</td>\n",
       "    </tr>\n",
       "    <tr>\n",
       "      <th>20</th>\n",
       "      <td>EL</td>\n",
       "      <td>197</td>\n",
       "    </tr>\n",
       "    <tr>\n",
       "      <th>21</th>\n",
       "      <td>L2</td>\n",
       "      <td>161</td>\n",
       "    </tr>\n",
       "    <tr>\n",
       "      <th>22</th>\n",
       "      <td>L+</td>\n",
       "      <td>125</td>\n",
       "    </tr>\n",
       "    <tr>\n",
       "      <th>23</th>\n",
       "      <td>L3</td>\n",
       "      <td>85</td>\n",
       "    </tr>\n",
       "  </tbody>\n",
       "</table>\n",
       "</div>"
      ],
      "text/plain": [
       "   categoria  conteo_total\n",
       "0         E2          1962\n",
       "1         S1          1951\n",
       "2         E3          1212\n",
       "3                     1223\n",
       "4         D2           724\n",
       "5         S3           669\n",
       "6         D1           615\n",
       "7         C1           685\n",
       "8         S2           642\n",
       "9         A3           616\n",
       "10        E1           463\n",
       "11        C3           773\n",
       "12        B2           681\n",
       "13        D3           629\n",
       "14        C2           556\n",
       "15        B1           407\n",
       "16        A2           387\n",
       "17        B3           404\n",
       "18        A1           419\n",
       "19        L1           254\n",
       "20        EL           197\n",
       "21        L2           161\n",
       "22        L+           125\n",
       "23        L3            85"
      ]
     },
     "execution_count": 4,
     "metadata": {},
     "output_type": "execute_result"
    }
   ],
   "source": [
    "conteo_total = {}\n",
    "for df in dataframes_list:\n",
    "    conteo_actual = df['categoria'].value_counts().to_dict()\n",
    "    # Agregar el conteo actual al conteo total\n",
    "    for categoria, conteo in conteo_actual.items():\n",
    "        conteo_total[categoria] = conteo_total.get(categoria, 0) + conteo\n",
    "\n",
    "conteo_total_df = pd.DataFrame(list(conteo_total.items()), columns=['categoria', 'conteo_total'])\n",
    "conteo_total_df"
   ]
  },
  {
   "cell_type": "code",
   "execution_count": 5,
   "metadata": {},
   "outputs": [
    {
     "data": {
      "text/html": [
       "<div>\n",
       "<style scoped>\n",
       "    .dataframe tbody tr th:only-of-type {\n",
       "        vertical-align: middle;\n",
       "    }\n",
       "\n",
       "    .dataframe tbody tr th {\n",
       "        vertical-align: top;\n",
       "    }\n",
       "\n",
       "    .dataframe thead th {\n",
       "        text-align: right;\n",
       "    }\n",
       "</style>\n",
       "<table border=\"1\" class=\"dataframe\">\n",
       "  <thead>\n",
       "    <tr style=\"text-align: right;\">\n",
       "      <th></th>\n",
       "      <th>conteo_total</th>\n",
       "      <th>segmento</th>\n",
       "      <th>clase</th>\n",
       "    </tr>\n",
       "  </thead>\n",
       "  <tbody>\n",
       "    <tr>\n",
       "      <th>0</th>\n",
       "      <td>1962</td>\n",
       "      <td>E</td>\n",
       "      <td>2</td>\n",
       "    </tr>\n",
       "    <tr>\n",
       "      <th>1</th>\n",
       "      <td>1951</td>\n",
       "      <td>S</td>\n",
       "      <td>1</td>\n",
       "    </tr>\n",
       "    <tr>\n",
       "      <th>2</th>\n",
       "      <td>1212</td>\n",
       "      <td>E</td>\n",
       "      <td>3</td>\n",
       "    </tr>\n",
       "    <tr>\n",
       "      <th>3</th>\n",
       "      <td>1223</td>\n",
       "      <td>NaN</td>\n",
       "      <td>1</td>\n",
       "    </tr>\n",
       "    <tr>\n",
       "      <th>4</th>\n",
       "      <td>724</td>\n",
       "      <td>D</td>\n",
       "      <td>2</td>\n",
       "    </tr>\n",
       "    <tr>\n",
       "      <th>5</th>\n",
       "      <td>669</td>\n",
       "      <td>S</td>\n",
       "      <td>3</td>\n",
       "    </tr>\n",
       "    <tr>\n",
       "      <th>6</th>\n",
       "      <td>615</td>\n",
       "      <td>D</td>\n",
       "      <td>1</td>\n",
       "    </tr>\n",
       "    <tr>\n",
       "      <th>7</th>\n",
       "      <td>685</td>\n",
       "      <td>C</td>\n",
       "      <td>1</td>\n",
       "    </tr>\n",
       "    <tr>\n",
       "      <th>8</th>\n",
       "      <td>642</td>\n",
       "      <td>S</td>\n",
       "      <td>2</td>\n",
       "    </tr>\n",
       "    <tr>\n",
       "      <th>9</th>\n",
       "      <td>616</td>\n",
       "      <td>A</td>\n",
       "      <td>3</td>\n",
       "    </tr>\n",
       "    <tr>\n",
       "      <th>10</th>\n",
       "      <td>463</td>\n",
       "      <td>E</td>\n",
       "      <td>1</td>\n",
       "    </tr>\n",
       "    <tr>\n",
       "      <th>11</th>\n",
       "      <td>773</td>\n",
       "      <td>C</td>\n",
       "      <td>3</td>\n",
       "    </tr>\n",
       "    <tr>\n",
       "      <th>12</th>\n",
       "      <td>681</td>\n",
       "      <td>B</td>\n",
       "      <td>2</td>\n",
       "    </tr>\n",
       "    <tr>\n",
       "      <th>13</th>\n",
       "      <td>629</td>\n",
       "      <td>D</td>\n",
       "      <td>3</td>\n",
       "    </tr>\n",
       "    <tr>\n",
       "      <th>14</th>\n",
       "      <td>556</td>\n",
       "      <td>C</td>\n",
       "      <td>2</td>\n",
       "    </tr>\n",
       "    <tr>\n",
       "      <th>15</th>\n",
       "      <td>407</td>\n",
       "      <td>B</td>\n",
       "      <td>1</td>\n",
       "    </tr>\n",
       "    <tr>\n",
       "      <th>16</th>\n",
       "      <td>387</td>\n",
       "      <td>A</td>\n",
       "      <td>2</td>\n",
       "    </tr>\n",
       "    <tr>\n",
       "      <th>17</th>\n",
       "      <td>404</td>\n",
       "      <td>B</td>\n",
       "      <td>3</td>\n",
       "    </tr>\n",
       "    <tr>\n",
       "      <th>18</th>\n",
       "      <td>419</td>\n",
       "      <td>A</td>\n",
       "      <td>1</td>\n",
       "    </tr>\n",
       "    <tr>\n",
       "      <th>19</th>\n",
       "      <td>254</td>\n",
       "      <td>L</td>\n",
       "      <td>1</td>\n",
       "    </tr>\n",
       "    <tr>\n",
       "      <th>20</th>\n",
       "      <td>197</td>\n",
       "      <td>E</td>\n",
       "      <td>1</td>\n",
       "    </tr>\n",
       "    <tr>\n",
       "      <th>21</th>\n",
       "      <td>161</td>\n",
       "      <td>L</td>\n",
       "      <td>2</td>\n",
       "    </tr>\n",
       "    <tr>\n",
       "      <th>22</th>\n",
       "      <td>125</td>\n",
       "      <td>L</td>\n",
       "      <td>1</td>\n",
       "    </tr>\n",
       "    <tr>\n",
       "      <th>23</th>\n",
       "      <td>85</td>\n",
       "      <td>L</td>\n",
       "      <td>3</td>\n",
       "    </tr>\n",
       "    <tr>\n",
       "      <th>24</th>\n",
       "      <td>0</td>\n",
       "      <td>E</td>\n",
       "      <td>3</td>\n",
       "    </tr>\n",
       "  </tbody>\n",
       "</table>\n",
       "</div>"
      ],
      "text/plain": [
       "    conteo_total segmento clase\n",
       "0           1962        E     2\n",
       "1           1951        S     1\n",
       "2           1212        E     3\n",
       "3           1223      NaN     1\n",
       "4            724        D     2\n",
       "5            669        S     3\n",
       "6            615        D     1\n",
       "7            685        C     1\n",
       "8            642        S     2\n",
       "9            616        A     3\n",
       "10           463        E     1\n",
       "11           773        C     3\n",
       "12           681        B     2\n",
       "13           629        D     3\n",
       "14           556        C     2\n",
       "15           407        B     1\n",
       "16           387        A     2\n",
       "17           404        B     3\n",
       "18           419        A     1\n",
       "19           254        L     1\n",
       "20           197        E     1\n",
       "21           161        L     2\n",
       "22           125        L     1\n",
       "23            85        L     3\n",
       "24             0        E     3"
      ]
     },
     "execution_count": 5,
     "metadata": {},
     "output_type": "execute_result"
    }
   ],
   "source": [
    "# Añadir una nuevas columnas que extraigan el número y letra de la categoría\n",
    "conteo_total_df['segmento'] = conteo_total_df['categoria'].str[0]\n",
    "conteo_total_df['clase'] = conteo_total_df['categoria'].str.extract(r'(\\d+)').fillna('1')\n",
    "conteo_total_df.drop(columns=['categoria'], inplace=True)\n",
    "\n",
    "nueva_fila_df = pd.DataFrame({'conteo_total': [0], 'segmento': ['E'], 'clase': ['3']})\n",
    "conteo_total_dfs = pd.concat([conteo_total_df, nueva_fila_df], ignore_index=True)\n",
    "conteo_total_dfs"
   ]
  },
  {
   "cell_type": "code",
   "execution_count": 6,
   "metadata": {},
   "outputs": [
    {
     "data": {
      "text/plain": [
       "segmento  clase\n",
       "A         1         419\n",
       "          2         387\n",
       "          3         616\n",
       "B         1         407\n",
       "          2         681\n",
       "          3         404\n",
       "C         1         685\n",
       "          2         556\n",
       "          3         773\n",
       "D         1         615\n",
       "          2         724\n",
       "          3         629\n",
       "E         1         660\n",
       "          2        1962\n",
       "          3        1212\n",
       "L         1         379\n",
       "          2         161\n",
       "          3          85\n",
       "S         1        1951\n",
       "          2         642\n",
       "          3         669\n",
       "Name: conteo_total, dtype: int64"
      ]
     },
     "execution_count": 6,
     "metadata": {},
     "output_type": "execute_result"
    }
   ],
   "source": [
    "#segmentos_dist = conteo_total_df.groupby(['segmento', 'clase']) # Agrupar\n",
    "segmentos_dist = conteo_total_dfs.groupby(['segmento', 'clase'])['conteo_total'].sum()\n",
    "segmentos_dist"
   ]
  },
  {
   "cell_type": "markdown",
   "metadata": {},
   "source": [
    "## Porcentajes totales de registros por segmento"
   ]
  },
  {
   "cell_type": "code",
   "execution_count": 7,
   "metadata": {},
   "outputs": [
    {
     "name": "stdout",
     "output_type": "stream",
     "text": [
      "Total de registros:  14617\n"
     ]
    },
    {
     "data": {
      "text/html": [
       "<div>\n",
       "<style scoped>\n",
       "    .dataframe tbody tr th:only-of-type {\n",
       "        vertical-align: middle;\n",
       "    }\n",
       "\n",
       "    .dataframe tbody tr th {\n",
       "        vertical-align: top;\n",
       "    }\n",
       "\n",
       "    .dataframe thead th {\n",
       "        text-align: right;\n",
       "    }\n",
       "</style>\n",
       "<table border=\"1\" class=\"dataframe\">\n",
       "  <thead>\n",
       "    <tr style=\"text-align: right;\">\n",
       "      <th></th>\n",
       "      <th>segmento</th>\n",
       "      <th>total_por_segmento</th>\n",
       "      <th>porcentaje_del_total</th>\n",
       "    </tr>\n",
       "  </thead>\n",
       "  <tbody>\n",
       "    <tr>\n",
       "      <th>0</th>\n",
       "      <td>A</td>\n",
       "      <td>1422</td>\n",
       "      <td>9.728398</td>\n",
       "    </tr>\n",
       "    <tr>\n",
       "      <th>1</th>\n",
       "      <td>B</td>\n",
       "      <td>1492</td>\n",
       "      <td>10.207293</td>\n",
       "    </tr>\n",
       "    <tr>\n",
       "      <th>2</th>\n",
       "      <td>C</td>\n",
       "      <td>2014</td>\n",
       "      <td>13.778477</td>\n",
       "    </tr>\n",
       "    <tr>\n",
       "      <th>3</th>\n",
       "      <td>D</td>\n",
       "      <td>1968</td>\n",
       "      <td>13.463775</td>\n",
       "    </tr>\n",
       "    <tr>\n",
       "      <th>4</th>\n",
       "      <td>E</td>\n",
       "      <td>3834</td>\n",
       "      <td>26.229733</td>\n",
       "    </tr>\n",
       "    <tr>\n",
       "      <th>5</th>\n",
       "      <td>L</td>\n",
       "      <td>625</td>\n",
       "      <td>4.275843</td>\n",
       "    </tr>\n",
       "    <tr>\n",
       "      <th>6</th>\n",
       "      <td>S</td>\n",
       "      <td>3262</td>\n",
       "      <td>22.316481</td>\n",
       "    </tr>\n",
       "  </tbody>\n",
       "</table>\n",
       "</div>"
      ],
      "text/plain": [
       "  segmento  total_por_segmento  porcentaje_del_total\n",
       "0        A                1422              9.728398\n",
       "1        B                1492             10.207293\n",
       "2        C                2014             13.778477\n",
       "3        D                1968             13.463775\n",
       "4        E                3834             26.229733\n",
       "5        L                 625              4.275843\n",
       "6        S                3262             22.316481"
      ]
     },
     "execution_count": 7,
     "metadata": {},
     "output_type": "execute_result"
    }
   ],
   "source": [
    "# Calcular el total de registros por cada segmento, incluyendo todas sus categorías\n",
    "total_por_segmento = conteo_total_dfs.groupby('segmento')['conteo_total'].sum() \n",
    "# Calcular el total de registros en todos los segmentos\n",
    "total_registros_total = total_por_segmento.sum()\n",
    "# Calcular el porcentaje que representa cada total de segmento con respecto al total de registros en todo el DataFrame\n",
    "porcentaje_total_segmento = (total_por_segmento / total_registros_total) * 100\n",
    "# DataFrame con los resultados\n",
    "resultados = pd.DataFrame({\n",
    "    'segmento': total_por_segmento.index,\n",
    "    'total_por_segmento': total_por_segmento.values,\n",
    "    'porcentaje_del_total': porcentaje_total_segmento.values\n",
    "})\n",
    "\n",
    "print(\"Total de registros: \",total_registros_total)\n",
    "#porcentaje_del_total_porsegmentos\n",
    "resultados"
   ]
  },
  {
   "cell_type": "code",
   "execution_count": 8,
   "metadata": {},
   "outputs": [
    {
     "data": {
      "text/html": [
       "<div>\n",
       "<style scoped>\n",
       "    .dataframe tbody tr th:only-of-type {\n",
       "        vertical-align: middle;\n",
       "    }\n",
       "\n",
       "    .dataframe tbody tr th {\n",
       "        vertical-align: top;\n",
       "    }\n",
       "\n",
       "    .dataframe thead th {\n",
       "        text-align: right;\n",
       "    }\n",
       "</style>\n",
       "<table border=\"1\" class=\"dataframe\">\n",
       "  <thead>\n",
       "    <tr style=\"text-align: right;\">\n",
       "      <th></th>\n",
       "      <th>segmento</th>\n",
       "      <th>clase</th>\n",
       "      <th>porcentaje</th>\n",
       "    </tr>\n",
       "  </thead>\n",
       "  <tbody>\n",
       "    <tr>\n",
       "      <th>0</th>\n",
       "      <td>E</td>\n",
       "      <td>2</td>\n",
       "      <td>51.173709</td>\n",
       "    </tr>\n",
       "    <tr>\n",
       "      <th>1</th>\n",
       "      <td>E</td>\n",
       "      <td>3</td>\n",
       "      <td>31.611894</td>\n",
       "    </tr>\n",
       "    <tr>\n",
       "      <th>2</th>\n",
       "      <td>E</td>\n",
       "      <td>1</td>\n",
       "      <td>12.076161</td>\n",
       "    </tr>\n",
       "    <tr>\n",
       "      <th>3</th>\n",
       "      <td>E</td>\n",
       "      <td>1</td>\n",
       "      <td>5.138237</td>\n",
       "    </tr>\n",
       "    <tr>\n",
       "      <th>4</th>\n",
       "      <td>S</td>\n",
       "      <td>1</td>\n",
       "      <td>59.809933</td>\n",
       "    </tr>\n",
       "    <tr>\n",
       "      <th>5</th>\n",
       "      <td>S</td>\n",
       "      <td>3</td>\n",
       "      <td>20.508890</td>\n",
       "    </tr>\n",
       "    <tr>\n",
       "      <th>6</th>\n",
       "      <td>S</td>\n",
       "      <td>2</td>\n",
       "      <td>19.681177</td>\n",
       "    </tr>\n",
       "    <tr>\n",
       "      <th>7</th>\n",
       "      <td>D</td>\n",
       "      <td>2</td>\n",
       "      <td>36.788618</td>\n",
       "    </tr>\n",
       "    <tr>\n",
       "      <th>8</th>\n",
       "      <td>D</td>\n",
       "      <td>1</td>\n",
       "      <td>31.250000</td>\n",
       "    </tr>\n",
       "    <tr>\n",
       "      <th>9</th>\n",
       "      <td>D</td>\n",
       "      <td>3</td>\n",
       "      <td>31.961382</td>\n",
       "    </tr>\n",
       "    <tr>\n",
       "      <th>10</th>\n",
       "      <td>C</td>\n",
       "      <td>1</td>\n",
       "      <td>34.011917</td>\n",
       "    </tr>\n",
       "    <tr>\n",
       "      <th>11</th>\n",
       "      <td>C</td>\n",
       "      <td>3</td>\n",
       "      <td>38.381331</td>\n",
       "    </tr>\n",
       "    <tr>\n",
       "      <th>12</th>\n",
       "      <td>C</td>\n",
       "      <td>2</td>\n",
       "      <td>27.606753</td>\n",
       "    </tr>\n",
       "    <tr>\n",
       "      <th>13</th>\n",
       "      <td>A</td>\n",
       "      <td>3</td>\n",
       "      <td>43.319269</td>\n",
       "    </tr>\n",
       "    <tr>\n",
       "      <th>14</th>\n",
       "      <td>A</td>\n",
       "      <td>2</td>\n",
       "      <td>27.215190</td>\n",
       "    </tr>\n",
       "    <tr>\n",
       "      <th>15</th>\n",
       "      <td>A</td>\n",
       "      <td>1</td>\n",
       "      <td>29.465541</td>\n",
       "    </tr>\n",
       "    <tr>\n",
       "      <th>16</th>\n",
       "      <td>B</td>\n",
       "      <td>2</td>\n",
       "      <td>45.643432</td>\n",
       "    </tr>\n",
       "    <tr>\n",
       "      <th>17</th>\n",
       "      <td>B</td>\n",
       "      <td>1</td>\n",
       "      <td>27.278820</td>\n",
       "    </tr>\n",
       "    <tr>\n",
       "      <th>18</th>\n",
       "      <td>B</td>\n",
       "      <td>3</td>\n",
       "      <td>27.077748</td>\n",
       "    </tr>\n",
       "    <tr>\n",
       "      <th>19</th>\n",
       "      <td>L</td>\n",
       "      <td>1</td>\n",
       "      <td>40.640000</td>\n",
       "    </tr>\n",
       "    <tr>\n",
       "      <th>20</th>\n",
       "      <td>L</td>\n",
       "      <td>2</td>\n",
       "      <td>25.760000</td>\n",
       "    </tr>\n",
       "    <tr>\n",
       "      <th>21</th>\n",
       "      <td>L</td>\n",
       "      <td>1</td>\n",
       "      <td>20.000000</td>\n",
       "    </tr>\n",
       "    <tr>\n",
       "      <th>22</th>\n",
       "      <td>L</td>\n",
       "      <td>3</td>\n",
       "      <td>13.600000</td>\n",
       "    </tr>\n",
       "  </tbody>\n",
       "</table>\n",
       "</div>"
      ],
      "text/plain": [
       "   segmento clase  porcentaje\n",
       "0         E     2   51.173709\n",
       "1         E     3   31.611894\n",
       "2         E     1   12.076161\n",
       "3         E     1    5.138237\n",
       "4         S     1   59.809933\n",
       "5         S     3   20.508890\n",
       "6         S     2   19.681177\n",
       "7         D     2   36.788618\n",
       "8         D     1   31.250000\n",
       "9         D     3   31.961382\n",
       "10        C     1   34.011917\n",
       "11        C     3   38.381331\n",
       "12        C     2   27.606753\n",
       "13        A     3   43.319269\n",
       "14        A     2   27.215190\n",
       "15        A     1   29.465541\n",
       "16        B     2   45.643432\n",
       "17        B     1   27.278820\n",
       "18        B     3   27.077748\n",
       "19        L     1   40.640000\n",
       "20        L     2   25.760000\n",
       "21        L     1   20.000000\n",
       "22        L     3   13.600000"
      ]
     },
     "execution_count": 8,
     "metadata": {},
     "output_type": "execute_result"
    }
   ],
   "source": [
    "#Obtener el total de registros por segmento y clase\n",
    "total_segmento = conteo_total_df.groupby('segmento')['conteo_total'].sum()\n",
    "#Calcular los porcentajes\n",
    "segmentos_percent = conteo_total_df.merge(total_segmento, on='segmento', suffixes=('', '_total'))\n",
    "segmentos_percent['porcentaje'] = segmentos_percent['conteo_total'] / segmentos_percent['conteo_total_total'] * 100\n",
    "#Seleccionar las columnas necesarias y eliminar las columnas auxiliares\n",
    "segmentos_percent = segmentos_percent[['segmento', 'clase', 'porcentaje']]\n",
    "segmentos_percent"
   ]
  },
  {
   "cell_type": "markdown",
   "metadata": {},
   "source": [
    "Porcentaje de cada clase en relación al % que representa su segmento del total."
   ]
  },
  {
   "cell_type": "code",
   "execution_count": 9,
   "metadata": {},
   "outputs": [
    {
     "data": {
      "text/html": [
       "<div>\n",
       "<style scoped>\n",
       "    .dataframe tbody tr th:only-of-type {\n",
       "        vertical-align: middle;\n",
       "    }\n",
       "\n",
       "    .dataframe tbody tr th {\n",
       "        vertical-align: top;\n",
       "    }\n",
       "\n",
       "    .dataframe thead th {\n",
       "        text-align: right;\n",
       "    }\n",
       "</style>\n",
       "<table border=\"1\" class=\"dataframe\">\n",
       "  <thead>\n",
       "    <tr style=\"text-align: right;\">\n",
       "      <th></th>\n",
       "      <th>segmento</th>\n",
       "      <th>clase</th>\n",
       "      <th>porcentaje_clase</th>\n",
       "    </tr>\n",
       "  </thead>\n",
       "  <tbody>\n",
       "    <tr>\n",
       "      <th>0</th>\n",
       "      <td>A</td>\n",
       "      <td>3</td>\n",
       "      <td>4.214271</td>\n",
       "    </tr>\n",
       "    <tr>\n",
       "      <th>1</th>\n",
       "      <td>A</td>\n",
       "      <td>2</td>\n",
       "      <td>2.647602</td>\n",
       "    </tr>\n",
       "    <tr>\n",
       "      <th>2</th>\n",
       "      <td>A</td>\n",
       "      <td>1</td>\n",
       "      <td>2.866525</td>\n",
       "    </tr>\n",
       "    <tr>\n",
       "      <th>3</th>\n",
       "      <td>B</td>\n",
       "      <td>2</td>\n",
       "      <td>4.658959</td>\n",
       "    </tr>\n",
       "    <tr>\n",
       "      <th>4</th>\n",
       "      <td>B</td>\n",
       "      <td>1</td>\n",
       "      <td>2.784429</td>\n",
       "    </tr>\n",
       "    <tr>\n",
       "      <th>5</th>\n",
       "      <td>B</td>\n",
       "      <td>3</td>\n",
       "      <td>2.763905</td>\n",
       "    </tr>\n",
       "    <tr>\n",
       "      <th>6</th>\n",
       "      <td>C</td>\n",
       "      <td>1</td>\n",
       "      <td>4.686324</td>\n",
       "    </tr>\n",
       "    <tr>\n",
       "      <th>7</th>\n",
       "      <td>C</td>\n",
       "      <td>3</td>\n",
       "      <td>5.288363</td>\n",
       "    </tr>\n",
       "    <tr>\n",
       "      <th>8</th>\n",
       "      <td>C</td>\n",
       "      <td>2</td>\n",
       "      <td>3.803790</td>\n",
       "    </tr>\n",
       "    <tr>\n",
       "      <th>9</th>\n",
       "      <td>D</td>\n",
       "      <td>2</td>\n",
       "      <td>4.953137</td>\n",
       "    </tr>\n",
       "    <tr>\n",
       "      <th>10</th>\n",
       "      <td>D</td>\n",
       "      <td>1</td>\n",
       "      <td>4.207430</td>\n",
       "    </tr>\n",
       "    <tr>\n",
       "      <th>11</th>\n",
       "      <td>D</td>\n",
       "      <td>3</td>\n",
       "      <td>4.303209</td>\n",
       "    </tr>\n",
       "    <tr>\n",
       "      <th>12</th>\n",
       "      <td>E</td>\n",
       "      <td>2</td>\n",
       "      <td>13.422727</td>\n",
       "    </tr>\n",
       "    <tr>\n",
       "      <th>13</th>\n",
       "      <td>E</td>\n",
       "      <td>3</td>\n",
       "      <td>8.291715</td>\n",
       "    </tr>\n",
       "    <tr>\n",
       "      <th>14</th>\n",
       "      <td>E</td>\n",
       "      <td>1</td>\n",
       "      <td>3.167545</td>\n",
       "    </tr>\n",
       "    <tr>\n",
       "      <th>15</th>\n",
       "      <td>E</td>\n",
       "      <td>1</td>\n",
       "      <td>1.347746</td>\n",
       "    </tr>\n",
       "    <tr>\n",
       "      <th>16</th>\n",
       "      <td>L</td>\n",
       "      <td>1</td>\n",
       "      <td>1.737703</td>\n",
       "    </tr>\n",
       "    <tr>\n",
       "      <th>17</th>\n",
       "      <td>L</td>\n",
       "      <td>2</td>\n",
       "      <td>1.101457</td>\n",
       "    </tr>\n",
       "    <tr>\n",
       "      <th>18</th>\n",
       "      <td>L</td>\n",
       "      <td>1</td>\n",
       "      <td>0.855169</td>\n",
       "    </tr>\n",
       "    <tr>\n",
       "      <th>19</th>\n",
       "      <td>L</td>\n",
       "      <td>3</td>\n",
       "      <td>0.581515</td>\n",
       "    </tr>\n",
       "    <tr>\n",
       "      <th>20</th>\n",
       "      <td>S</td>\n",
       "      <td>1</td>\n",
       "      <td>13.347472</td>\n",
       "    </tr>\n",
       "    <tr>\n",
       "      <th>21</th>\n",
       "      <td>S</td>\n",
       "      <td>3</td>\n",
       "      <td>4.576863</td>\n",
       "    </tr>\n",
       "    <tr>\n",
       "      <th>22</th>\n",
       "      <td>S</td>\n",
       "      <td>2</td>\n",
       "      <td>4.392146</td>\n",
       "    </tr>\n",
       "  </tbody>\n",
       "</table>\n",
       "</div>"
      ],
      "text/plain": [
       "   segmento clase  porcentaje_clase\n",
       "0         A     3          4.214271\n",
       "1         A     2          2.647602\n",
       "2         A     1          2.866525\n",
       "3         B     2          4.658959\n",
       "4         B     1          2.784429\n",
       "5         B     3          2.763905\n",
       "6         C     1          4.686324\n",
       "7         C     3          5.288363\n",
       "8         C     2          3.803790\n",
       "9         D     2          4.953137\n",
       "10        D     1          4.207430\n",
       "11        D     3          4.303209\n",
       "12        E     2         13.422727\n",
       "13        E     3          8.291715\n",
       "14        E     1          3.167545\n",
       "15        E     1          1.347746\n",
       "16        L     1          1.737703\n",
       "17        L     2          1.101457\n",
       "18        L     1          0.855169\n",
       "19        L     3          0.581515\n",
       "20        S     1         13.347472\n",
       "21        S     3          4.576863\n",
       "22        S     2          4.392146"
      ]
     },
     "execution_count": 9,
     "metadata": {},
     "output_type": "execute_result"
    }
   ],
   "source": [
    "temp_dfs = [] # Almacenar los DataFrames temporales de cada segmento\n",
    "# Realizamos un bucle sobre cada segmento\n",
    "for segmento in resultados['segmento'].unique():\n",
    "    # Filtramos las clases correspondientes al segmento actual\n",
    "    clases_segmento = segmentos_percent[segmentos_percent['segmento'] == segmento]\n",
    "    \n",
    "    # Calculamos el total de porcentaje del segmento actual\n",
    "    total_porcentaje_segmento = resultados[resultados['segmento'] == segmento]['porcentaje_del_total'].iloc[0]\n",
    "    \n",
    "    # Calculamos el porcentaje que representa cada clase en relación al porcentaje del segmento\n",
    "    porcentaje_clase = (clases_segmento['porcentaje'] / 100) * total_porcentaje_segmento\n",
    "    \n",
    "    # DataFrame temporal para el segmento actual\n",
    "    temp_df = pd.DataFrame({\n",
    "        'segmento': [segmento] * len(clases_segmento),\n",
    "        'clase': clases_segmento['clase'].values,\n",
    "        'porcentaje_clase': porcentaje_clase#.round()\n",
    "    })\n",
    "    \n",
    "    # Agrega DataFrame temporal a la lista\n",
    "    temp_dfs.append(temp_df)\n",
    "\n",
    "# Concatena todos los DataFrames temporales en un solo DataFrame\n",
    "porcentajes_clase = pd.concat(temp_dfs, ignore_index=True)\n",
    "porcentajes_clase"
   ]
  },
  {
   "cell_type": "code",
   "execution_count": 10,
   "metadata": {},
   "outputs": [
    {
     "data": {
      "text/html": [
       "<div>\n",
       "<style scoped>\n",
       "    .dataframe tbody tr th:only-of-type {\n",
       "        vertical-align: middle;\n",
       "    }\n",
       "\n",
       "    .dataframe tbody tr th {\n",
       "        vertical-align: top;\n",
       "    }\n",
       "\n",
       "    .dataframe thead th {\n",
       "        text-align: right;\n",
       "    }\n",
       "</style>\n",
       "<table border=\"1\" class=\"dataframe\">\n",
       "  <thead>\n",
       "    <tr style=\"text-align: right;\">\n",
       "      <th>clase</th>\n",
       "      <th>1</th>\n",
       "      <th>2</th>\n",
       "      <th>3</th>\n",
       "    </tr>\n",
       "    <tr>\n",
       "      <th>segmento</th>\n",
       "      <th></th>\n",
       "      <th></th>\n",
       "      <th></th>\n",
       "    </tr>\n",
       "  </thead>\n",
       "  <tbody>\n",
       "    <tr>\n",
       "      <th>A</th>\n",
       "      <td>2.866525</td>\n",
       "      <td>2.647602</td>\n",
       "      <td>4.214271</td>\n",
       "    </tr>\n",
       "    <tr>\n",
       "      <th>B</th>\n",
       "      <td>2.784429</td>\n",
       "      <td>4.658959</td>\n",
       "      <td>2.763905</td>\n",
       "    </tr>\n",
       "    <tr>\n",
       "      <th>C</th>\n",
       "      <td>4.686324</td>\n",
       "      <td>3.803790</td>\n",
       "      <td>5.288363</td>\n",
       "    </tr>\n",
       "    <tr>\n",
       "      <th>D</th>\n",
       "      <td>4.207430</td>\n",
       "      <td>4.953137</td>\n",
       "      <td>4.303209</td>\n",
       "    </tr>\n",
       "    <tr>\n",
       "      <th>E</th>\n",
       "      <td>4.515290</td>\n",
       "      <td>13.422727</td>\n",
       "      <td>8.291715</td>\n",
       "    </tr>\n",
       "    <tr>\n",
       "      <th>L</th>\n",
       "      <td>2.592871</td>\n",
       "      <td>1.101457</td>\n",
       "      <td>0.581515</td>\n",
       "    </tr>\n",
       "    <tr>\n",
       "      <th>S</th>\n",
       "      <td>13.347472</td>\n",
       "      <td>4.392146</td>\n",
       "      <td>4.576863</td>\n",
       "    </tr>\n",
       "  </tbody>\n",
       "</table>\n",
       "</div>"
      ],
      "text/plain": [
       "clase             1          2         3\n",
       "segmento                                \n",
       "A          2.866525   2.647602  4.214271\n",
       "B          2.784429   4.658959  2.763905\n",
       "C          4.686324   3.803790  5.288363\n",
       "D          4.207430   4.953137  4.303209\n",
       "E          4.515290  13.422727  8.291715\n",
       "L          2.592871   1.101457  0.581515\n",
       "S         13.347472   4.392146  4.576863"
      ]
     },
     "execution_count": 10,
     "metadata": {},
     "output_type": "execute_result"
    }
   ],
   "source": [
    "# Agrupar por 'segmento' y 'clase', y sumar los porcentajes\n",
    "porcentajes_clase_agrupado = porcentajes_clase.groupby(['segmento', 'clase']).agg({'porcentaje_clase': 'sum'}).reset_index()\n",
    "\n",
    "# Luego aplicar pivot\n",
    "porcentajes_clase_ordenado = porcentajes_clase_agrupado.pivot(index='segmento', columns='clase', values='porcentaje_clase')\n",
    "porcentajes_clase_ordenado.fillna(0, inplace=True)\n",
    "porcentajes_clase_ordenado"
   ]
  },
  {
   "cell_type": "markdown",
   "metadata": {},
   "source": [
    "## Gráfica"
   ]
  },
  {
   "cell_type": "code",
   "execution_count": 11,
   "metadata": {},
   "outputs": [
    {
     "data": {
      "application/vnd.plotly.v1+json": {
       "config": {
        "plotlyServerURL": "https://plot.ly"
       },
       "data": [
        {
         "marker": {
          "color": "#2962ff"
         },
         "name": "1",
         "orientation": "h",
         "text": [
          "4.52%",
          "4.21%",
          "4.69%",
          "2.78%",
          "2.87%",
          "13.35%",
          "2.59%"
         ],
         "textposition": "auto",
         "type": "bar",
         "x": [
          4.515290415269892,
          4.207429705137853,
          4.686324143121023,
          2.784429089416433,
          2.866525278784976,
          13.34747212150236,
          2.5928713142231645
         ],
         "y": [
          "E",
          "D",
          "C",
          "B",
          "A",
          "S",
          "L"
         ]
        },
        {
         "marker": {
          "color": "#9500ff"
         },
         "name": "2",
         "orientation": "h",
         "text": [
          "13.42%",
          "4.95%",
          "3.80%",
          "4.66%",
          "2.65%",
          "4.39%",
          "1.10%"
         ],
         "textposition": "auto",
         "type": "bar",
         "x": [
          13.422726961756858,
          4.95313675856879,
          3.8037901074091813,
          4.658958746664842,
          2.647602107135527,
          4.392146131217075,
          1.1014572073612916
         ],
         "y": [
          "E",
          "D",
          "C",
          "B",
          "A",
          "S",
          "L"
         ]
        },
        {
         "marker": {
          "color": "#ff0059"
         },
         "name": "3",
         "orientation": "h",
         "text": [
          "8.29%",
          "4.30%",
          "5.29%",
          "2.76%",
          "4.21%",
          "4.58%",
          "0.58%"
         ],
         "textposition": "auto",
         "type": "bar",
         "x": [
          8.291715126222892,
          4.303208592734487,
          5.2883628651570085,
          2.763905042074297,
          4.214271054251899,
          4.576862557296298,
          0.5815146746938497
         ],
         "y": [
          "E",
          "D",
          "C",
          "B",
          "A",
          "S",
          "L"
         ]
        }
       ],
       "layout": {
        "barmode": "stack",
        "legend": {
         "orientation": "h",
         "title": {
          "text": "Clase"
         },
         "x": 1,
         "xanchor": "right",
         "y": 1.02,
         "yanchor": "bottom"
        },
        "margin": {
         "b": 10,
         "l": 10,
         "r": 10,
         "t": 10
        },
        "plot_bgcolor": "rgba(0,0,0,0)",
        "template": {
         "data": {
          "bar": [
           {
            "error_x": {
             "color": "#2a3f5f"
            },
            "error_y": {
             "color": "#2a3f5f"
            },
            "marker": {
             "line": {
              "color": "#E5ECF6",
              "width": 0.5
             },
             "pattern": {
              "fillmode": "overlay",
              "size": 10,
              "solidity": 0.2
             }
            },
            "type": "bar"
           }
          ],
          "barpolar": [
           {
            "marker": {
             "line": {
              "color": "#E5ECF6",
              "width": 0.5
             },
             "pattern": {
              "fillmode": "overlay",
              "size": 10,
              "solidity": 0.2
             }
            },
            "type": "barpolar"
           }
          ],
          "carpet": [
           {
            "aaxis": {
             "endlinecolor": "#2a3f5f",
             "gridcolor": "white",
             "linecolor": "white",
             "minorgridcolor": "white",
             "startlinecolor": "#2a3f5f"
            },
            "baxis": {
             "endlinecolor": "#2a3f5f",
             "gridcolor": "white",
             "linecolor": "white",
             "minorgridcolor": "white",
             "startlinecolor": "#2a3f5f"
            },
            "type": "carpet"
           }
          ],
          "choropleth": [
           {
            "colorbar": {
             "outlinewidth": 0,
             "ticks": ""
            },
            "type": "choropleth"
           }
          ],
          "contour": [
           {
            "colorbar": {
             "outlinewidth": 0,
             "ticks": ""
            },
            "colorscale": [
             [
              0,
              "#0d0887"
             ],
             [
              0.1111111111111111,
              "#46039f"
             ],
             [
              0.2222222222222222,
              "#7201a8"
             ],
             [
              0.3333333333333333,
              "#9c179e"
             ],
             [
              0.4444444444444444,
              "#bd3786"
             ],
             [
              0.5555555555555556,
              "#d8576b"
             ],
             [
              0.6666666666666666,
              "#ed7953"
             ],
             [
              0.7777777777777778,
              "#fb9f3a"
             ],
             [
              0.8888888888888888,
              "#fdca26"
             ],
             [
              1,
              "#f0f921"
             ]
            ],
            "type": "contour"
           }
          ],
          "contourcarpet": [
           {
            "colorbar": {
             "outlinewidth": 0,
             "ticks": ""
            },
            "type": "contourcarpet"
           }
          ],
          "heatmap": [
           {
            "colorbar": {
             "outlinewidth": 0,
             "ticks": ""
            },
            "colorscale": [
             [
              0,
              "#0d0887"
             ],
             [
              0.1111111111111111,
              "#46039f"
             ],
             [
              0.2222222222222222,
              "#7201a8"
             ],
             [
              0.3333333333333333,
              "#9c179e"
             ],
             [
              0.4444444444444444,
              "#bd3786"
             ],
             [
              0.5555555555555556,
              "#d8576b"
             ],
             [
              0.6666666666666666,
              "#ed7953"
             ],
             [
              0.7777777777777778,
              "#fb9f3a"
             ],
             [
              0.8888888888888888,
              "#fdca26"
             ],
             [
              1,
              "#f0f921"
             ]
            ],
            "type": "heatmap"
           }
          ],
          "heatmapgl": [
           {
            "colorbar": {
             "outlinewidth": 0,
             "ticks": ""
            },
            "colorscale": [
             [
              0,
              "#0d0887"
             ],
             [
              0.1111111111111111,
              "#46039f"
             ],
             [
              0.2222222222222222,
              "#7201a8"
             ],
             [
              0.3333333333333333,
              "#9c179e"
             ],
             [
              0.4444444444444444,
              "#bd3786"
             ],
             [
              0.5555555555555556,
              "#d8576b"
             ],
             [
              0.6666666666666666,
              "#ed7953"
             ],
             [
              0.7777777777777778,
              "#fb9f3a"
             ],
             [
              0.8888888888888888,
              "#fdca26"
             ],
             [
              1,
              "#f0f921"
             ]
            ],
            "type": "heatmapgl"
           }
          ],
          "histogram": [
           {
            "marker": {
             "pattern": {
              "fillmode": "overlay",
              "size": 10,
              "solidity": 0.2
             }
            },
            "type": "histogram"
           }
          ],
          "histogram2d": [
           {
            "colorbar": {
             "outlinewidth": 0,
             "ticks": ""
            },
            "colorscale": [
             [
              0,
              "#0d0887"
             ],
             [
              0.1111111111111111,
              "#46039f"
             ],
             [
              0.2222222222222222,
              "#7201a8"
             ],
             [
              0.3333333333333333,
              "#9c179e"
             ],
             [
              0.4444444444444444,
              "#bd3786"
             ],
             [
              0.5555555555555556,
              "#d8576b"
             ],
             [
              0.6666666666666666,
              "#ed7953"
             ],
             [
              0.7777777777777778,
              "#fb9f3a"
             ],
             [
              0.8888888888888888,
              "#fdca26"
             ],
             [
              1,
              "#f0f921"
             ]
            ],
            "type": "histogram2d"
           }
          ],
          "histogram2dcontour": [
           {
            "colorbar": {
             "outlinewidth": 0,
             "ticks": ""
            },
            "colorscale": [
             [
              0,
              "#0d0887"
             ],
             [
              0.1111111111111111,
              "#46039f"
             ],
             [
              0.2222222222222222,
              "#7201a8"
             ],
             [
              0.3333333333333333,
              "#9c179e"
             ],
             [
              0.4444444444444444,
              "#bd3786"
             ],
             [
              0.5555555555555556,
              "#d8576b"
             ],
             [
              0.6666666666666666,
              "#ed7953"
             ],
             [
              0.7777777777777778,
              "#fb9f3a"
             ],
             [
              0.8888888888888888,
              "#fdca26"
             ],
             [
              1,
              "#f0f921"
             ]
            ],
            "type": "histogram2dcontour"
           }
          ],
          "mesh3d": [
           {
            "colorbar": {
             "outlinewidth": 0,
             "ticks": ""
            },
            "type": "mesh3d"
           }
          ],
          "parcoords": [
           {
            "line": {
             "colorbar": {
              "outlinewidth": 0,
              "ticks": ""
             }
            },
            "type": "parcoords"
           }
          ],
          "pie": [
           {
            "automargin": true,
            "type": "pie"
           }
          ],
          "scatter": [
           {
            "fillpattern": {
             "fillmode": "overlay",
             "size": 10,
             "solidity": 0.2
            },
            "type": "scatter"
           }
          ],
          "scatter3d": [
           {
            "line": {
             "colorbar": {
              "outlinewidth": 0,
              "ticks": ""
             }
            },
            "marker": {
             "colorbar": {
              "outlinewidth": 0,
              "ticks": ""
             }
            },
            "type": "scatter3d"
           }
          ],
          "scattercarpet": [
           {
            "marker": {
             "colorbar": {
              "outlinewidth": 0,
              "ticks": ""
             }
            },
            "type": "scattercarpet"
           }
          ],
          "scattergeo": [
           {
            "marker": {
             "colorbar": {
              "outlinewidth": 0,
              "ticks": ""
             }
            },
            "type": "scattergeo"
           }
          ],
          "scattergl": [
           {
            "marker": {
             "colorbar": {
              "outlinewidth": 0,
              "ticks": ""
             }
            },
            "type": "scattergl"
           }
          ],
          "scattermapbox": [
           {
            "marker": {
             "colorbar": {
              "outlinewidth": 0,
              "ticks": ""
             }
            },
            "type": "scattermapbox"
           }
          ],
          "scatterpolar": [
           {
            "marker": {
             "colorbar": {
              "outlinewidth": 0,
              "ticks": ""
             }
            },
            "type": "scatterpolar"
           }
          ],
          "scatterpolargl": [
           {
            "marker": {
             "colorbar": {
              "outlinewidth": 0,
              "ticks": ""
             }
            },
            "type": "scatterpolargl"
           }
          ],
          "scatterternary": [
           {
            "marker": {
             "colorbar": {
              "outlinewidth": 0,
              "ticks": ""
             }
            },
            "type": "scatterternary"
           }
          ],
          "surface": [
           {
            "colorbar": {
             "outlinewidth": 0,
             "ticks": ""
            },
            "colorscale": [
             [
              0,
              "#0d0887"
             ],
             [
              0.1111111111111111,
              "#46039f"
             ],
             [
              0.2222222222222222,
              "#7201a8"
             ],
             [
              0.3333333333333333,
              "#9c179e"
             ],
             [
              0.4444444444444444,
              "#bd3786"
             ],
             [
              0.5555555555555556,
              "#d8576b"
             ],
             [
              0.6666666666666666,
              "#ed7953"
             ],
             [
              0.7777777777777778,
              "#fb9f3a"
             ],
             [
              0.8888888888888888,
              "#fdca26"
             ],
             [
              1,
              "#f0f921"
             ]
            ],
            "type": "surface"
           }
          ],
          "table": [
           {
            "cells": {
             "fill": {
              "color": "#EBF0F8"
             },
             "line": {
              "color": "white"
             }
            },
            "header": {
             "fill": {
              "color": "#C8D4E3"
             },
             "line": {
              "color": "white"
             }
            },
            "type": "table"
           }
          ]
         },
         "layout": {
          "annotationdefaults": {
           "arrowcolor": "#2a3f5f",
           "arrowhead": 0,
           "arrowwidth": 1
          },
          "autotypenumbers": "strict",
          "coloraxis": {
           "colorbar": {
            "outlinewidth": 0,
            "ticks": ""
           }
          },
          "colorscale": {
           "diverging": [
            [
             0,
             "#8e0152"
            ],
            [
             0.1,
             "#c51b7d"
            ],
            [
             0.2,
             "#de77ae"
            ],
            [
             0.3,
             "#f1b6da"
            ],
            [
             0.4,
             "#fde0ef"
            ],
            [
             0.5,
             "#f7f7f7"
            ],
            [
             0.6,
             "#e6f5d0"
            ],
            [
             0.7,
             "#b8e186"
            ],
            [
             0.8,
             "#7fbc41"
            ],
            [
             0.9,
             "#4d9221"
            ],
            [
             1,
             "#276419"
            ]
           ],
           "sequential": [
            [
             0,
             "#0d0887"
            ],
            [
             0.1111111111111111,
             "#46039f"
            ],
            [
             0.2222222222222222,
             "#7201a8"
            ],
            [
             0.3333333333333333,
             "#9c179e"
            ],
            [
             0.4444444444444444,
             "#bd3786"
            ],
            [
             0.5555555555555556,
             "#d8576b"
            ],
            [
             0.6666666666666666,
             "#ed7953"
            ],
            [
             0.7777777777777778,
             "#fb9f3a"
            ],
            [
             0.8888888888888888,
             "#fdca26"
            ],
            [
             1,
             "#f0f921"
            ]
           ],
           "sequentialminus": [
            [
             0,
             "#0d0887"
            ],
            [
             0.1111111111111111,
             "#46039f"
            ],
            [
             0.2222222222222222,
             "#7201a8"
            ],
            [
             0.3333333333333333,
             "#9c179e"
            ],
            [
             0.4444444444444444,
             "#bd3786"
            ],
            [
             0.5555555555555556,
             "#d8576b"
            ],
            [
             0.6666666666666666,
             "#ed7953"
            ],
            [
             0.7777777777777778,
             "#fb9f3a"
            ],
            [
             0.8888888888888888,
             "#fdca26"
            ],
            [
             1,
             "#f0f921"
            ]
           ]
          },
          "colorway": [
           "#636efa",
           "#EF553B",
           "#00cc96",
           "#ab63fa",
           "#FFA15A",
           "#19d3f3",
           "#FF6692",
           "#B6E880",
           "#FF97FF",
           "#FECB52"
          ],
          "font": {
           "color": "#2a3f5f"
          },
          "geo": {
           "bgcolor": "white",
           "lakecolor": "white",
           "landcolor": "#E5ECF6",
           "showlakes": true,
           "showland": true,
           "subunitcolor": "white"
          },
          "hoverlabel": {
           "align": "left"
          },
          "hovermode": "closest",
          "mapbox": {
           "style": "light"
          },
          "paper_bgcolor": "white",
          "plot_bgcolor": "#E5ECF6",
          "polar": {
           "angularaxis": {
            "gridcolor": "white",
            "linecolor": "white",
            "ticks": ""
           },
           "bgcolor": "#E5ECF6",
           "radialaxis": {
            "gridcolor": "white",
            "linecolor": "white",
            "ticks": ""
           }
          },
          "scene": {
           "xaxis": {
            "backgroundcolor": "#E5ECF6",
            "gridcolor": "white",
            "gridwidth": 2,
            "linecolor": "white",
            "showbackground": true,
            "ticks": "",
            "zerolinecolor": "white"
           },
           "yaxis": {
            "backgroundcolor": "#E5ECF6",
            "gridcolor": "white",
            "gridwidth": 2,
            "linecolor": "white",
            "showbackground": true,
            "ticks": "",
            "zerolinecolor": "white"
           },
           "zaxis": {
            "backgroundcolor": "#E5ECF6",
            "gridcolor": "white",
            "gridwidth": 2,
            "linecolor": "white",
            "showbackground": true,
            "ticks": "",
            "zerolinecolor": "white"
           }
          },
          "shapedefaults": {
           "line": {
            "color": "#2a3f5f"
           }
          },
          "ternary": {
           "aaxis": {
            "gridcolor": "white",
            "linecolor": "white",
            "ticks": ""
           },
           "baxis": {
            "gridcolor": "white",
            "linecolor": "white",
            "ticks": ""
           },
           "bgcolor": "#E5ECF6",
           "caxis": {
            "gridcolor": "white",
            "linecolor": "white",
            "ticks": ""
           }
          },
          "title": {
           "x": 0.05
          },
          "xaxis": {
           "automargin": true,
           "gridcolor": "white",
           "linecolor": "white",
           "ticks": "",
           "title": {
            "standoff": 15
           },
           "zerolinecolor": "white",
           "zerolinewidth": 2
          },
          "yaxis": {
           "automargin": true,
           "gridcolor": "white",
           "linecolor": "white",
           "ticks": "",
           "title": {
            "standoff": 15
           },
           "zerolinecolor": "white",
           "zerolinewidth": 2
          }
         }
        },
        "xaxis": {
         "gridcolor": "#dddcda",
         "gridwidth": 1,
         "title": {
          "text": "Porcentaje"
         }
        },
        "yaxis": {
         "title": {
          "text": "Segmento"
         }
        }
       }
      }
     },
     "metadata": {},
     "output_type": "display_data"
    }
   ],
   "source": [
    "segmentos = list(porcentajes_clase_ordenado.index)\n",
    "segmentos_sorted = ['E','D','C','B','A','S','L']  # Orden deseado\n",
    "clases = porcentajes_clase_ordenado.columns # Clases como etiquetas de las series de datos\n",
    "clases = ['1', '2', '3']  # Clases en el orden deseado\n",
    "# Asegúrate de que todos los segmentos mencionados estén en los datos con valor 0 si no existen\n",
    "for segmento in segmentos_sorted:\n",
    "    if segmento not in porcentajes_clase_ordenado.index:\n",
    "        porcentajes_clase_ordenado.loc[segmento] = [0] * len(clases)\n",
    "\n",
    "# Reordenar el DataFrame para seguir el orden deseado en `segmentos_sorted`\n",
    "porcentajes_clase_ordenado = porcentajes_clase_ordenado.loc[segmentos_sorted]\n",
    "colores = {\n",
    "    '1': '#2962ff',\n",
    "    '2': '#9500ff',\n",
    "    '3': '#ff0059'\n",
    "}\n",
    "# Almacenar las barras de cada clase\n",
    "barras = []\n",
    "for clase in clases:\n",
    "    barras.append(go.Bar(\n",
    "        y=segmentos_sorted,  # Eje y: Segmentos\n",
    "        x=porcentajes_clase_ordenado[clase],  # Eje x: Porcentajes de clase\n",
    "        name=f'{clase}',  # Nombre de la serie de datos\n",
    "        orientation='h',  # Orientación horizontal\n",
    "        text=porcentajes_clase_ordenado[clase].apply(lambda x: f'{x:.2f}%'),  # Texto con los porcentajes\n",
    "        textposition='auto',  # Posición automática del texto\n",
    "        marker_color=colores[clase]   # Color de las barras\n",
    "    ))\n",
    "\n",
    "fig = go.Figure(data=barras)\n",
    "fig.update_layout(\n",
    "    yaxis=dict(\n",
    "        title='Segmento', # Título del eje y        \n",
    "    ),\n",
    "    legend_title=\"Clase\",\n",
    "    barmode='stack',\n",
    "    legend=dict(\n",
    "        orientation='h',  # Orientación horizontal de la leyenda\n",
    "        yanchor='bottom',  # Anclar al borde inferior\n",
    "        y=1.02,  # Colocar la leyenda justo debajo del gráfico\n",
    "        xanchor='right',\n",
    "        x=1\n",
    "    ),\n",
    "    plot_bgcolor='rgba(0,0,0,0)',  # Color de fondo del gráfico      \n",
    "    xaxis=dict(\n",
    "        title='Porcentaje', # Título del eje x\n",
    "        gridcolor='#dddcda', # Color de las líneas que dividen los rangos del eje Y\n",
    "        gridwidth=1,\n",
    "    ),  \n",
    "    margin=dict(l=10, r=10, t=10, b=10)  # Ajusta los márgenes (left, right, top, bottom)\n",
    ")\n",
    "\n",
    "# Función para guardar la gráfica como archivo HTML\n",
    "def guardar_grafico_como_html(fig, nombre_archivo, carpeta='graficas'):\n",
    "    if not os.path.exists(carpeta):\n",
    "        os.makedirs(carpeta)\n",
    "    pio.write_html(fig, f'{carpeta}/{nombre_archivo}.html')\n",
    "guardar_grafico_como_html(fig, 'g_bar_dist_segmentos', carpeta='assets\\graficas')\n",
    "\n",
    "fig.show()"
   ]
  },
  {
   "cell_type": "markdown",
   "metadata": {},
   "source": [
    "Actualizar lista de segmentos y orden de clase"
   ]
  }
 ],
 "metadata": {
  "kernelspec": {
   "display_name": "base",
   "language": "python",
   "name": "python3"
  },
  "language_info": {
   "codemirror_mode": {
    "name": "ipython",
    "version": 3
   },
   "file_extension": ".py",
   "mimetype": "text/x-python",
   "name": "python",
   "nbconvert_exporter": "python",
   "pygments_lexer": "ipython3",
   "version": "3.9.13"
  }
 },
 "nbformat": 4,
 "nbformat_minor": 2
}
