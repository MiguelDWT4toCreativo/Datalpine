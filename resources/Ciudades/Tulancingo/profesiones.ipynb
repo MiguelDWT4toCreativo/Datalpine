{
 "cells": [
  {
   "cell_type": "markdown",
   "metadata": {},
   "source": [
    "# **Profesiones**"
   ]
  },
  {
   "cell_type": "code",
   "execution_count": 1,
   "metadata": {},
   "outputs": [
    {
     "name": "stdout",
     "output_type": "stream",
     "text": [
      "Lista de DataFrames filtrados:\n"
     ]
    },
    {
     "data": {
      "text/plain": [
       "['df_alfa_q_jul_2022_tulancingo',\n",
       " 'df_alfa_q_jul_2023_tulancingo',\n",
       " 'df_alfa_q_jun_2023_tulancingo',\n",
       " 'df_alfa_q_mar_2023_tulancingo',\n",
       " 'df_alfa_q_may_2022_tulancingo',\n",
       " 'df_alfa_q_may_2023_tulancingo',\n",
       " 'df_alfa_q_oct_2022_tulancingo',\n",
       " 'df_alfa_q_oct_2023_tulancingo',\n",
       " 'df_alfa_q_sep_2023_tulancingo']"
      ]
     },
     "execution_count": 1,
     "metadata": {},
     "output_type": "execute_result"
    }
   ],
   "source": [
    "# Manejo de datos\n",
    "import os # Directorios\n",
    "import pandas as pd # Manipulación df\n",
    "# Gráficas\n",
    "import plotly.graph_objects as go #Para obtener librería usar: pip install plotly\n",
    "from plotly.subplots import make_subplots\n",
    "import plotly.io as pio # Exportar gráfica\n",
    "\n",
    "# Obtener el directorio actual de trabajo\n",
    "directorio_actual = os.getcwd()\n",
    "\n",
    "# Directorio donde se encuentran los archivos JSON (ruta relativa)\n",
    "directorio_json = os.path.join(directorio_actual, '../../db/datos_json')\n",
    "\n",
    "# Obtener la lista de archivos JSON en el directorio\n",
    "archivos_json = os.listdir(directorio_json)\n",
    "\n",
    "# Cargar los archivos JSON y crear DataFrames\n",
    "for archivo in archivos_json:\n",
    "    nombre_tabla = archivo.replace('datos_', '').replace('.json', '')\n",
    "    ruta_json = os.path.join(directorio_json, archivo)\n",
    "    globals()[f\"df_{nombre_tabla}\"] = pd.read_json(ruta_json)\n",
    "\n",
    "# Obtener todos los nombres de las variables globales\n",
    "nombres_variables_globales = list(globals().keys())\n",
    "\n",
    "# Filtrar los nombres que comienzan con \"df_\", contienen \"alfa_q\" y \"pachuca\"\n",
    "nombres_df_filtrados = [\n",
    "    nombre for nombre in nombres_variables_globales \n",
    "    if nombre.startswith(\"df_\") and \"alfa_q\" in nombre and \"tulancingo\" in nombre\n",
    "]\n",
    "\n",
    "# Imprimir la lista de DataFrames filtrados\n",
    "print(\"Lista de DataFrames filtrados:\")\n",
    "nombres_df_filtrados"
   ]
  },
  {
   "cell_type": "code",
   "execution_count": 2,
   "metadata": {},
   "outputs": [],
   "source": [
    "import pandas as pd\n",
    "import plotly.graph_objects as go\n",
    "\n",
    "# Datos de la tabla proporcionada\n",
    "data = {\n",
    "    'Profesiones más bajas': [\n",
    "        'Artesanos y Trabajadores en la Elaboración de Productos de Papel y Cartón',\n",
    "        'Trabajadores en la Cría de Porcinos',\n",
    "        'Bailarines y Coreógrafos',\n",
    "        'Trabajadores en la Elaboración de Sustancias y Compuestos Químicos',\n",
    "        'Trabajadores de Apoyo en la Industria de la Cerámica, Vidrio y Similares',\n",
    "        'Artesanos y Confeccionadores de Productos Textiles',\n",
    "        'Operadores de Máquinas para el Tratamiento de Agua',\n",
    "        'Escritores y Críticos Literarios',\n",
    "        'Ingenieros Mecánicos',\n",
    "        'Yeseros, Escayolistas y otros Recubridores de Techos y Paredes'\n",
    "    ],\n",
    "    'Profesiones más altas': [\n",
    "        'Coordinadores y Jefes de Área en Generación y Provisión de Energía Eléctrica y Agua',\n",
    "        'Instructores y Capacitadores en Oficios y para el Trabajo',\n",
    "        'Supervisores de Técnicos Eléctricos, en Electrónica y de Equipos en Telecomunicaciones y Electromecánicos',\n",
    "        'Jueces de Juzgado, Directores y Gerentes en Servicios Legales y Procuración de Justicia',\n",
    "        'Directores y Gerentes en Servicios Funerarios y otros Servicios',\n",
    "        'Directores y Gerentes en Desarrollo Social y Económico',\n",
    "        'Directores y Gerentes en Comunicación y Telecomunicaciones',\n",
    "        'Directores y Productores Artísticos de Cine, Teatro y Afines',\n",
    "        'Coordinadores y Jefes de Área en Producción Minera, Petrolera y Gas',\n",
    "        'Coordinadores y Jefes de Área en Comunicación y Telecomunicaciones'\n",
    "    ]\n",
    "}\n",
    "\n",
    "# Crear el DataFrame\n",
    "df = pd.DataFrame(data)\n",
    "\n",
    "# Crear una tabla con Plotly sin estilos\n",
    "fig = go.Figure(data=[go.Table(\n",
    "    header=dict(values=list(df.columns),\n",
    "                align='left'),\n",
    "    cells=dict(values=[df['Profesiones más bajas'], df['Profesiones más altas']],\n",
    "               align='left'))\n",
    "])\n",
    "\n",
    "# Asegurarse de que la carpeta 'tablas' existe\n",
    "if not os.path.exists('tablas'):\n",
    "    os.makedirs('tablas')\n",
    "# Exportar la tabla como archivo HTML\n",
    "fig.write_html(\"assets/tablas/tabla_profesiones.html\")"
   ]
  }
 ],
 "metadata": {
  "kernelspec": {
   "display_name": "base",
   "language": "python",
   "name": "python3"
  },
  "language_info": {
   "codemirror_mode": {
    "name": "ipython",
    "version": 3
   },
   "file_extension": ".py",
   "mimetype": "text/x-python",
   "name": "python",
   "nbconvert_exporter": "python",
   "pygments_lexer": "ipython3",
   "version": "3.9.13"
  }
 },
 "nbformat": 4,
 "nbformat_minor": 2
}
