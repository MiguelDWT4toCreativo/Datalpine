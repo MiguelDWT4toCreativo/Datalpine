{
 "cells": [
  {
   "cell_type": "markdown",
   "metadata": {},
   "source": [
    "# ***Precio Promedio por M2 cuadrados***"
   ]
  },
  {
   "cell_type": "code",
   "execution_count": 1,
   "metadata": {},
   "outputs": [
    {
     "name": "stdout",
     "output_type": "stream",
     "text": [
      "Lista de DataFrames filtrados:\n"
     ]
    },
    {
     "data": {
      "text/plain": [
       "['df_alfa_abril_2024_tulancingo',\n",
       " 'df_alfa_agosto_2024_tulancingo',\n",
       " 'df_alfa_febrero_2024_tulancingo',\n",
       " 'df_alfa_julio_2024_tulancingo',\n",
       " 'df_alfa_junio_2024_tulancingo',\n",
       " 'df_alfa_marzo_2024_tulancingo',\n",
       " 'df_alfa_mayo_2024_tulancingo',\n",
       " 'df_alfa_q_jul_2022_tulancingo',\n",
       " 'df_alfa_q_jul_2023_tulancingo',\n",
       " 'df_alfa_q_jun_2023_tulancingo',\n",
       " 'df_alfa_q_mar_2023_tulancingo',\n",
       " 'df_alfa_q_may_2022_tulancingo',\n",
       " 'df_alfa_q_may_2023_tulancingo',\n",
       " 'df_alfa_q_oct_2022_tulancingo',\n",
       " 'df_alfa_q_oct_2023_tulancingo',\n",
       " 'df_alfa_q_sep_2023_tulancingo']"
      ]
     },
     "execution_count": 1,
     "metadata": {},
     "output_type": "execute_result"
    }
   ],
   "source": [
    "# Manejo de datos\n",
    "import os # Directorios\n",
    "import pandas as pd # Manipulación df\n",
    "# Gráficas\n",
    "import plotly.graph_objects as go #Para obtener librería usar: pip install plotly\n",
    "from plotly.subplots import make_subplots\n",
    "import plotly.io as pio # Exportar gráfica\n",
    "\n",
    "# Obtener el directorio actual de trabajo\n",
    "directorio_actual = os.getcwd()\n",
    "\n",
    "# Directorio donde se encuentran los archivos JSON (ruta relativa)\n",
    "directorio_json = os.path.join(directorio_actual, '../../db/datos_json')\n",
    "\n",
    "# Obtener la lista de archivos JSON en el directorio\n",
    "archivos_json = os.listdir(directorio_json)\n",
    "\n",
    "# Cargar los archivos JSON y crear DataFrames\n",
    "for archivo in archivos_json:\n",
    "    nombre_tabla = archivo.replace('datos_', '').replace('.json', '')\n",
    "    ruta_json = os.path.join(directorio_json, archivo)\n",
    "    globals()[f\"df_{nombre_tabla}\"] = pd.read_json(ruta_json)\n",
    "\n",
    "# Obtener todos los nombres de las variables globales\n",
    "nombres_variables_globales = list(globals().keys())\n",
    "\n",
    "# Filtrar los nombres que comienzan con \"df_\", contienen \"alfa_q\" y \"pachuca\"\n",
    "nombres_df_filtrados = [\n",
    "    nombre for nombre in nombres_variables_globales \n",
    "    if nombre.startswith(\"df_\") and \"alfa\" in nombre and \"tulancingo\" in nombre \n",
    "]\n",
    "# Imprimir la lista de DataFrames filtrados\n",
    "print(\"Lista de DataFrames filtrados:\")\n",
    "nombres_df_filtrados"
   ]
  },
  {
   "cell_type": "code",
   "execution_count": 2,
   "metadata": {},
   "outputs": [
    {
     "name": "stdout",
     "output_type": "stream",
     "text": [
      "Columnas renombradas en los DataFrames filtrados.\n"
     ]
    }
   ],
   "source": [
    "# Iterar sobre cada DataFrame en la lista filtrada\n",
    "for nombre_df in nombres_df_filtrados:\n",
    "    # Obtener el DataFrame usando globals()\n",
    "    df = globals()[nombre_df]\n",
    "    \n",
    "    df.rename(columns={'Precio':'precio','metros_total':'m2_total','precio_m2_cons':'precio_m2_construido','metros_construido':'m2_construido','precio_m2_contruido':'precio_m2_construido','id_jul_23':'id','m2_contruido': 'm2_construido','m_construido': 'm2_construido','Metros_construido':'m2_construido','segmento':'categoria','Category':'categoria','m_total':'m2_total','m_construido':'m2_construido'}, inplace=True)\n",
    "        # Asignar el DataFrame modificado de nuevo a la variable global\n",
    "    globals()[nombre_df] = df \n",
    "\n",
    "# Imprimir confirmación\n",
    "print(\"Columnas renombradas en los DataFrames filtrados.\")\n"
   ]
  },
  {
   "cell_type": "code",
   "execution_count": 3,
   "metadata": {},
   "outputs": [],
   "source": [
    "# Crear una lista de DataFrames seleccionados con las columnas específicas\n",
    "dataframes_list = []\n",
    "for nombre_df in nombres_df_filtrados:\n",
    "    # Seleccionar las columnas 'id' y 'categoria'\n",
    "    segment_df = globals()[nombre_df][['precio', 'm2_total','m2_construido', 'precio_m2_construido', 'precio_m2_terreno']]\n",
    "    # Añadir el DataFrame a la listaprecio_m2_construido\n",
    "    dataframes_list.append(segment_df)"
   ]
  },
  {
   "cell_type": "markdown",
   "metadata": {},
   "source": [
    "### *DF CON RANGOS DE M2 Y SU PRECIO*"
   ]
  },
  {
   "cell_type": "code",
   "execution_count": 4,
   "metadata": {},
   "outputs": [
    {
     "name": "stdout",
     "output_type": "stream",
     "text": [
      "Primeros registros de nuevo DataFrame 1:\n",
      "       rango  precio_m2_terreno\n",
      "0    [> 300]           16597.51\n",
      "1  [200-250]           21096.49\n",
      "2  [200-250]           22500.00\n",
      "3  [150-200]           26875.00\n",
      "4  [150-200]           26309.77\n",
      "\n",
      "Primeros registros de nuevo DataFrame 2:\n",
      "       rango  precio_m2_terreno\n",
      "0  [100-150]           23800.00\n",
      "1  [150-200]            6875.00\n",
      "2  [100-150]           20168.07\n",
      "3  [100-150]            3869.57\n",
      "4  [100-150]            4333.33\n",
      "\n",
      "Primeros registros de nuevo DataFrame 3:\n",
      "       rango  precio_m2_terreno\n",
      "0    [0-100]            3977.47\n",
      "1    [0-100]            9716.98\n",
      "2    [0-100]           11304.35\n",
      "3  [150-200]            3247.19\n",
      "4  [150-200]            3247.19\n",
      "\n",
      "Primeros registros de nuevo DataFrame 4:\n",
      "       rango  precio_m2_terreno\n",
      "0  [150-200]            2866.67\n",
      "1  [150-200]            2866.67\n",
      "2  [150-200]            2866.67\n",
      "3  [250-300]            1535.71\n",
      "4  [150-200]            2866.67\n",
      "\n",
      "Primeros registros de nuevo DataFrame 5:\n",
      "       rango  precio_m2_terreno\n",
      "0    [0-100]            4222.22\n",
      "1  [150-200]            2866.67\n",
      "2  [250-300]            1535.71\n",
      "3  [150-200]            2866.67\n",
      "4  [150-200]            2866.67\n",
      "\n",
      "Primeros registros de nuevo DataFrame 6:\n",
      "       rango  precio_m2_terreno\n",
      "0    [0-100]            4222.22\n",
      "1  [150-200]            2866.67\n",
      "2  [250-300]            1535.71\n",
      "3  [150-200]            2866.67\n",
      "4  [150-200]            2866.67\n",
      "\n",
      "Primeros registros de nuevo DataFrame 7:\n",
      "       rango  precio_m2_terreno\n",
      "0  [150-200]            2866.67\n",
      "1  [150-200]            2866.67\n",
      "2  [150-200]            2866.67\n",
      "3  [150-200]            2866.67\n",
      "4  [150-200]            2866.67\n",
      "\n",
      "Primeros registros de nuevo DataFrame 8:\n",
      "     rango  precio_m2_terreno\n",
      "0  [0-100]           10000.00\n",
      "1  [0-100]           14588.24\n",
      "2  [0-100]            7722.22\n",
      "3  [0-100]            8500.00\n",
      "4  [0-100]            8833.33\n",
      "\n",
      "Primeros registros de nuevo DataFrame 9:\n",
      "     rango  precio_m2_terreno\n",
      "0  [0-100]           15111.11\n",
      "1  [0-100]           12222.22\n",
      "2  [0-100]           13125.00\n",
      "3  [0-100]           11800.00\n",
      "4  [0-100]           16634.62\n",
      "\n",
      "Primeros registros de nuevo DataFrame 10:\n",
      "     rango  precio_m2_terreno\n",
      "0  [0-100]           11333.33\n",
      "1  [0-100]           10000.00\n",
      "2  [0-100]           10000.00\n",
      "3  [0-100]            9166.67\n",
      "4  [0-100]           16791.04\n",
      "\n",
      "Primeros registros de nuevo DataFrame 11:\n",
      "     rango  precio_m2_terreno\n",
      "0  [0-100]            7436.00\n",
      "1  [0-100]           12166.67\n",
      "2  [0-100]           14850.75\n",
      "3  [0-100]            8872.82\n",
      "4  [0-100]           23328.57\n",
      "\n",
      "Primeros registros de nuevo DataFrame 12:\n",
      "     rango  precio_m2_terreno\n",
      "0  [0-100]           10000.00\n",
      "1  [0-100]           21492.54\n",
      "2  [0-100]            6410.26\n",
      "3  [0-100]           14588.24\n",
      "4  [0-100]            5617.98\n",
      "\n",
      "Primeros registros de nuevo DataFrame 13:\n",
      "     rango  precio_m2_terreno\n",
      "0  [0-100]            9431.82\n",
      "1  [0-100]            7647.06\n",
      "2  [0-100]           10473.68\n",
      "3  [0-100]           27216.67\n",
      "4  [0-100]           27216.67\n",
      "\n",
      "Primeros registros de nuevo DataFrame 14:\n",
      "     rango  precio_m2_terreno\n",
      "0  [0-100]           13095.24\n",
      "1  [0-100]           12765.96\n",
      "2  [0-100]           12580.00\n",
      "3  [0-100]           14181.82\n",
      "4  [0-100]           10000.00\n",
      "\n",
      "Primeros registros de nuevo DataFrame 15:\n",
      "     rango  precio_m2_terreno\n",
      "0  [0-100]           16791.04\n",
      "1  [0-100]           16791.04\n",
      "2  [0-100]           11554.17\n",
      "3  [0-100]           14694.44\n",
      "4  [0-100]           10000.00\n",
      "\n",
      "Primeros registros de nuevo DataFrame 16:\n",
      "     rango  precio_m2_terreno\n",
      "0  [0-100]           16791.04\n",
      "1  [0-100]           16791.04\n",
      "2  [0-100]           14694.44\n",
      "3  [0-100]           11554.17\n",
      "4  [0-100]           10000.00\n",
      "\n"
     ]
    }
   ],
   "source": [
    "new_dataframes_list = []\n",
    "\n",
    "# Definir los límites de los rangos\n",
    "rangos = [0, 100, 150, 200, 250, 300, float('inf')]\n",
    "labels = ['[0-100]', '[100-150]', '[150-200]', '[200-250]', '[250-300]', '[> 300]']\n",
    "\n",
    "# Iterar sobre cada DataFrame en la lista original\n",
    "for df in dataframes_list:\n",
    "    # Crear una copia del DataFrame\n",
    "    modified_df = df.copy()\n",
    "    # Asignar el rango correspondiente a cada valor de 'm2_construido'\n",
    "    modified_df['rango'] = pd.cut(modified_df['m2_total'], bins=rangos, labels=labels, right=False)\n",
    "    # Crear un nuevo DataFrame solo con las columnas 'rango' y 'precio_m2_terreno'\n",
    "    new_df = modified_df[['rango', 'precio_m2_terreno']].copy()\n",
    "    # Agregar el nuevo DataFrame a la lista\n",
    "    new_dataframes_list.append(new_df)\n",
    "\n",
    "# Imprimir los primeros registros de cada nuevo DataFrame\n",
    "for idx, df in enumerate(new_dataframes_list):\n",
    "    print(f\"Primeros registros de nuevo DataFrame {idx + 1}:\")\n",
    "    print(df.head())\n",
    "    print()  # Agregar una línea en blanco entre cada DataFrame\n"
   ]
  },
  {
   "cell_type": "markdown",
   "metadata": {},
   "source": [
    "### *Promedio de precio_m2_terreno por rango CADA DF* "
   ]
  },
  {
   "cell_type": "code",
   "execution_count": 5,
   "metadata": {},
   "outputs": [
    {
     "name": "stdout",
     "output_type": "stream",
     "text": [
      "Promedio de precio_m2_terreno por rango en el DataFrame 1:\n",
      "rango\n",
      "[0-100]      12465.619487\n",
      "[100-150]     9887.987609\n",
      "[150-200]     8678.312500\n",
      "[200-250]    11988.958125\n",
      "[250-300]     5109.025000\n",
      "[> 300]       6958.146000\n",
      "Name: precio_m2_terreno, dtype: float64\n",
      "\n",
      "Promedio de precio_m2_terreno por rango en el DataFrame 2:\n",
      "rango\n",
      "[0-100]      15376.508571\n",
      "[100-150]     8244.480189\n",
      "[150-200]     6329.609474\n",
      "[200-250]    11840.073182\n",
      "[250-300]     3705.227500\n",
      "[> 300]       3477.185714\n",
      "Name: precio_m2_terreno, dtype: float64\n",
      "\n",
      "Promedio de precio_m2_terreno por rango en el DataFrame 3:\n",
      "rango\n",
      "[0-100]      12507.756389\n",
      "[100-150]     9504.902245\n",
      "[150-200]     9325.852703\n",
      "[200-250]    11324.768500\n",
      "[250-300]    14701.755000\n",
      "[> 300]       6651.282500\n",
      "Name: precio_m2_terreno, dtype: float64\n",
      "\n",
      "Promedio de precio_m2_terreno por rango en el DataFrame 4:\n",
      "rango\n",
      "[0-100]      14603.811176\n",
      "[100-150]     8423.657759\n",
      "[150-200]     6372.095385\n",
      "[200-250]    11910.425455\n",
      "[250-300]     2708.857778\n",
      "[> 300]       8333.140000\n",
      "Name: precio_m2_terreno, dtype: float64\n",
      "\n",
      "Promedio de precio_m2_terreno por rango en el DataFrame 5:\n",
      "rango\n",
      "[0-100]      11933.070000\n",
      "[100-150]    10239.861351\n",
      "[150-200]     8810.481786\n",
      "[200-250]    11425.256471\n",
      "[250-300]     3322.367500\n",
      "[> 300]       7805.924167\n",
      "Name: precio_m2_terreno, dtype: float64\n",
      "\n",
      "Promedio de precio_m2_terreno por rango en el DataFrame 6:\n",
      "rango\n",
      "[0-100]      11681.987619\n",
      "[100-150]    10239.861351\n",
      "[150-200]     8810.481786\n",
      "[200-250]    11425.256471\n",
      "[250-300]     3322.367500\n",
      "[> 300]       7805.924167\n",
      "Name: precio_m2_terreno, dtype: float64\n",
      "\n",
      "Promedio de precio_m2_terreno por rango en el DataFrame 7:\n",
      "rango\n",
      "[0-100]      10643.768235\n",
      "[100-150]     8464.221094\n",
      "[150-200]     6335.340811\n",
      "[200-250]     9949.946250\n",
      "[250-300]     2614.099000\n",
      "[> 300]       5522.297500\n",
      "Name: precio_m2_terreno, dtype: float64\n",
      "\n",
      "Promedio de precio_m2_terreno por rango en el DataFrame 8:\n",
      "rango\n",
      "[0-100]      11559.894167\n",
      "[100-150]    11262.859302\n",
      "[150-200]    10694.441667\n",
      "[200-250]    12101.732000\n",
      "[250-300]     5719.360000\n",
      "[> 300]       4171.867500\n",
      "Name: precio_m2_terreno, dtype: float64\n",
      "\n",
      "Promedio de precio_m2_terreno por rango en el DataFrame 9:\n",
      "rango\n",
      "[0-100]      12174.243333\n",
      "[100-150]    13373.047391\n",
      "[150-200]    11109.317500\n",
      "[200-250]     8605.074615\n",
      "[250-300]     7115.286667\n",
      "[> 300]       8589.407000\n",
      "Name: precio_m2_terreno, dtype: float64\n",
      "\n",
      "Promedio de precio_m2_terreno por rango en el DataFrame 10:\n",
      "rango\n",
      "[0-100]      12401.016757\n",
      "[100-150]    13492.396230\n",
      "[150-200]    22377.726000\n",
      "[200-250]    24936.829655\n",
      "[250-300]    22848.477143\n",
      "[> 300]       9625.699167\n",
      "Name: precio_m2_terreno, dtype: float64\n",
      "\n",
      "Promedio de precio_m2_terreno por rango en el DataFrame 11:\n",
      "rango\n",
      "[0-100]      11730.660000\n",
      "[100-150]     9667.866167\n",
      "[150-200]    13442.417273\n",
      "[200-250]    11601.462632\n",
      "[250-300]     4520.060000\n",
      "[> 300]       7322.458333\n",
      "Name: precio_m2_terreno, dtype: float64\n",
      "\n",
      "Promedio de precio_m2_terreno por rango en el DataFrame 12:\n",
      "rango\n",
      "[0-100]      10136.975000\n",
      "[100-150]    11910.752174\n",
      "[150-200]    10694.441667\n",
      "[200-250]    12456.120000\n",
      "[250-300]     9351.616000\n",
      "[> 300]       9009.301000\n",
      "Name: precio_m2_terreno, dtype: float64\n",
      "\n",
      "Promedio de precio_m2_terreno por rango en el DataFrame 13:\n",
      "rango\n",
      "[0-100]      12028.848333\n",
      "[100-150]    10681.750000\n",
      "[150-200]    11763.568182\n",
      "[200-250]    11214.658824\n",
      "[250-300]     9692.476667\n",
      "[> 300]       8031.125714\n",
      "Name: precio_m2_terreno, dtype: float64\n",
      "\n",
      "Promedio de precio_m2_terreno por rango en el DataFrame 14:\n",
      "rango\n",
      "[0-100]      12252.039412\n",
      "[100-150]    12978.701311\n",
      "[150-200]    19621.355882\n",
      "[200-250]    15771.517241\n",
      "[250-300]    10043.803333\n",
      "[> 300]      14272.792500\n",
      "Name: precio_m2_terreno, dtype: float64\n",
      "\n",
      "Promedio de precio_m2_terreno por rango en el DataFrame 15:\n",
      "rango\n",
      "[0-100]      11408.553529\n",
      "[100-150]    13353.897500\n",
      "[150-200]    15188.125000\n",
      "[200-250]    14068.180000\n",
      "[250-300]    21403.510000\n",
      "[> 300]       7107.140000\n",
      "Name: precio_m2_terreno, dtype: float64\n",
      "\n",
      "Promedio de precio_m2_terreno por rango en el DataFrame 16:\n",
      "rango\n",
      "[0-100]      11725.755000\n",
      "[100-150]    13290.044839\n",
      "[150-200]    17144.500000\n",
      "[200-250]    14068.180000\n",
      "[250-300]    21403.510000\n",
      "[> 300]       7107.140000\n",
      "Name: precio_m2_terreno, dtype: float64\n",
      "\n"
     ]
    },
    {
     "name": "stderr",
     "output_type": "stream",
     "text": [
      "C:\\Users\\yoe11\\AppData\\Local\\Temp\\ipykernel_12000\\2294499642.py:5: FutureWarning: The default of observed=False is deprecated and will be changed to True in a future version of pandas. Pass observed=False to retain current behavior or observed=True to adopt the future default and silence this warning.\n",
      "  promedios_por_rango = df.groupby('rango')['precio_m2_terreno'].mean()\n"
     ]
    }
   ],
   "source": [
    "# Iterar sobre cada DataFrame modificado en new_dataframes_list\n",
    "for idx, df in enumerate(new_dataframes_list):\n",
    "    print(f\"Promedio de precio_m2_terreno por rango en el DataFrame {idx + 1}:\")\n",
    "    # Agrupar el DataFrame por la columna 'rango' y calcular el promedio de 'precio_m2_terreno' para cada grupo\n",
    "    promedios_por_rango = df.groupby('rango')['precio_m2_terreno'].mean()\n",
    "    print(promedios_por_rango)\n",
    "    print()  # Agregar una línea en blanco entre cada resultado"
   ]
  },
  {
   "cell_type": "code",
   "execution_count": 6,
   "metadata": {},
   "outputs": [
    {
     "name": "stdout",
     "output_type": "stream",
     "text": [
      "DataFrame 'rango_precio_m2':\n"
     ]
    },
    {
     "name": "stderr",
     "output_type": "stream",
     "text": [
      "C:\\Users\\yoe11\\AppData\\Local\\Temp\\ipykernel_12000\\225855980.py:6: FutureWarning: The default of observed=False is deprecated and will be changed to True in a future version of pandas. Pass observed=False to retain current behavior or observed=True to adopt the future default and silence this warning.\n",
      "  promedios_por_rango = df.groupby('rango')['precio_m2_terreno'].mean()\n"
     ]
    },
    {
     "data": {
      "text/html": [
       "<div>\n",
       "<style scoped>\n",
       "    .dataframe tbody tr th:only-of-type {\n",
       "        vertical-align: middle;\n",
       "    }\n",
       "\n",
       "    .dataframe tbody tr th {\n",
       "        vertical-align: top;\n",
       "    }\n",
       "\n",
       "    .dataframe thead th {\n",
       "        text-align: right;\n",
       "    }\n",
       "</style>\n",
       "<table border=\"1\" class=\"dataframe\">\n",
       "  <thead>\n",
       "    <tr style=\"text-align: right;\">\n",
       "      <th></th>\n",
       "      <th>DataFrame_1</th>\n",
       "      <th>DataFrame_2</th>\n",
       "      <th>DataFrame_3</th>\n",
       "      <th>DataFrame_4</th>\n",
       "      <th>DataFrame_5</th>\n",
       "      <th>DataFrame_6</th>\n",
       "      <th>DataFrame_7</th>\n",
       "      <th>DataFrame_8</th>\n",
       "      <th>DataFrame_9</th>\n",
       "      <th>DataFrame_10</th>\n",
       "      <th>DataFrame_11</th>\n",
       "      <th>DataFrame_12</th>\n",
       "      <th>DataFrame_13</th>\n",
       "      <th>DataFrame_14</th>\n",
       "      <th>DataFrame_15</th>\n",
       "      <th>DataFrame_16</th>\n",
       "    </tr>\n",
       "    <tr>\n",
       "      <th>rango</th>\n",
       "      <th></th>\n",
       "      <th></th>\n",
       "      <th></th>\n",
       "      <th></th>\n",
       "      <th></th>\n",
       "      <th></th>\n",
       "      <th></th>\n",
       "      <th></th>\n",
       "      <th></th>\n",
       "      <th></th>\n",
       "      <th></th>\n",
       "      <th></th>\n",
       "      <th></th>\n",
       "      <th></th>\n",
       "      <th></th>\n",
       "      <th></th>\n",
       "    </tr>\n",
       "  </thead>\n",
       "  <tbody>\n",
       "    <tr>\n",
       "      <th>[0-100]</th>\n",
       "      <td>12465.619487</td>\n",
       "      <td>15376.508571</td>\n",
       "      <td>12507.756389</td>\n",
       "      <td>14603.811176</td>\n",
       "      <td>11933.070000</td>\n",
       "      <td>11681.987619</td>\n",
       "      <td>10643.768235</td>\n",
       "      <td>11559.894167</td>\n",
       "      <td>12174.243333</td>\n",
       "      <td>12401.016757</td>\n",
       "      <td>11730.660000</td>\n",
       "      <td>10136.975000</td>\n",
       "      <td>12028.848333</td>\n",
       "      <td>12252.039412</td>\n",
       "      <td>11408.553529</td>\n",
       "      <td>11725.755000</td>\n",
       "    </tr>\n",
       "    <tr>\n",
       "      <th>[100-150]</th>\n",
       "      <td>9887.987609</td>\n",
       "      <td>8244.480189</td>\n",
       "      <td>9504.902245</td>\n",
       "      <td>8423.657759</td>\n",
       "      <td>10239.861351</td>\n",
       "      <td>10239.861351</td>\n",
       "      <td>8464.221094</td>\n",
       "      <td>11262.859302</td>\n",
       "      <td>13373.047391</td>\n",
       "      <td>13492.396230</td>\n",
       "      <td>9667.866167</td>\n",
       "      <td>11910.752174</td>\n",
       "      <td>10681.750000</td>\n",
       "      <td>12978.701311</td>\n",
       "      <td>13353.897500</td>\n",
       "      <td>13290.044839</td>\n",
       "    </tr>\n",
       "    <tr>\n",
       "      <th>[150-200]</th>\n",
       "      <td>8678.312500</td>\n",
       "      <td>6329.609474</td>\n",
       "      <td>9325.852703</td>\n",
       "      <td>6372.095385</td>\n",
       "      <td>8810.481786</td>\n",
       "      <td>8810.481786</td>\n",
       "      <td>6335.340811</td>\n",
       "      <td>10694.441667</td>\n",
       "      <td>11109.317500</td>\n",
       "      <td>22377.726000</td>\n",
       "      <td>13442.417273</td>\n",
       "      <td>10694.441667</td>\n",
       "      <td>11763.568182</td>\n",
       "      <td>19621.355882</td>\n",
       "      <td>15188.125000</td>\n",
       "      <td>17144.500000</td>\n",
       "    </tr>\n",
       "    <tr>\n",
       "      <th>[200-250]</th>\n",
       "      <td>11988.958125</td>\n",
       "      <td>11840.073182</td>\n",
       "      <td>11324.768500</td>\n",
       "      <td>11910.425455</td>\n",
       "      <td>11425.256471</td>\n",
       "      <td>11425.256471</td>\n",
       "      <td>9949.946250</td>\n",
       "      <td>12101.732000</td>\n",
       "      <td>8605.074615</td>\n",
       "      <td>24936.829655</td>\n",
       "      <td>11601.462632</td>\n",
       "      <td>12456.120000</td>\n",
       "      <td>11214.658824</td>\n",
       "      <td>15771.517241</td>\n",
       "      <td>14068.180000</td>\n",
       "      <td>14068.180000</td>\n",
       "    </tr>\n",
       "    <tr>\n",
       "      <th>[250-300]</th>\n",
       "      <td>5109.025000</td>\n",
       "      <td>3705.227500</td>\n",
       "      <td>14701.755000</td>\n",
       "      <td>2708.857778</td>\n",
       "      <td>3322.367500</td>\n",
       "      <td>3322.367500</td>\n",
       "      <td>2614.099000</td>\n",
       "      <td>5719.360000</td>\n",
       "      <td>7115.286667</td>\n",
       "      <td>22848.477143</td>\n",
       "      <td>4520.060000</td>\n",
       "      <td>9351.616000</td>\n",
       "      <td>9692.476667</td>\n",
       "      <td>10043.803333</td>\n",
       "      <td>21403.510000</td>\n",
       "      <td>21403.510000</td>\n",
       "    </tr>\n",
       "    <tr>\n",
       "      <th>[&gt; 300]</th>\n",
       "      <td>6958.146000</td>\n",
       "      <td>3477.185714</td>\n",
       "      <td>6651.282500</td>\n",
       "      <td>8333.140000</td>\n",
       "      <td>7805.924167</td>\n",
       "      <td>7805.924167</td>\n",
       "      <td>5522.297500</td>\n",
       "      <td>4171.867500</td>\n",
       "      <td>8589.407000</td>\n",
       "      <td>9625.699167</td>\n",
       "      <td>7322.458333</td>\n",
       "      <td>9009.301000</td>\n",
       "      <td>8031.125714</td>\n",
       "      <td>14272.792500</td>\n",
       "      <td>7107.140000</td>\n",
       "      <td>7107.140000</td>\n",
       "    </tr>\n",
       "  </tbody>\n",
       "</table>\n",
       "</div>"
      ],
      "text/plain": [
       "            DataFrame_1   DataFrame_2   DataFrame_3   DataFrame_4  \\\n",
       "rango                                                               \n",
       "[0-100]    12465.619487  15376.508571  12507.756389  14603.811176   \n",
       "[100-150]   9887.987609   8244.480189   9504.902245   8423.657759   \n",
       "[150-200]   8678.312500   6329.609474   9325.852703   6372.095385   \n",
       "[200-250]  11988.958125  11840.073182  11324.768500  11910.425455   \n",
       "[250-300]   5109.025000   3705.227500  14701.755000   2708.857778   \n",
       "[> 300]     6958.146000   3477.185714   6651.282500   8333.140000   \n",
       "\n",
       "            DataFrame_5   DataFrame_6   DataFrame_7   DataFrame_8  \\\n",
       "rango                                                               \n",
       "[0-100]    11933.070000  11681.987619  10643.768235  11559.894167   \n",
       "[100-150]  10239.861351  10239.861351   8464.221094  11262.859302   \n",
       "[150-200]   8810.481786   8810.481786   6335.340811  10694.441667   \n",
       "[200-250]  11425.256471  11425.256471   9949.946250  12101.732000   \n",
       "[250-300]   3322.367500   3322.367500   2614.099000   5719.360000   \n",
       "[> 300]     7805.924167   7805.924167   5522.297500   4171.867500   \n",
       "\n",
       "            DataFrame_9  DataFrame_10  DataFrame_11  DataFrame_12  \\\n",
       "rango                                                               \n",
       "[0-100]    12174.243333  12401.016757  11730.660000  10136.975000   \n",
       "[100-150]  13373.047391  13492.396230   9667.866167  11910.752174   \n",
       "[150-200]  11109.317500  22377.726000  13442.417273  10694.441667   \n",
       "[200-250]   8605.074615  24936.829655  11601.462632  12456.120000   \n",
       "[250-300]   7115.286667  22848.477143   4520.060000   9351.616000   \n",
       "[> 300]     8589.407000   9625.699167   7322.458333   9009.301000   \n",
       "\n",
       "           DataFrame_13  DataFrame_14  DataFrame_15  DataFrame_16  \n",
       "rango                                                              \n",
       "[0-100]    12028.848333  12252.039412  11408.553529  11725.755000  \n",
       "[100-150]  10681.750000  12978.701311  13353.897500  13290.044839  \n",
       "[150-200]  11763.568182  19621.355882  15188.125000  17144.500000  \n",
       "[200-250]  11214.658824  15771.517241  14068.180000  14068.180000  \n",
       "[250-300]   9692.476667  10043.803333  21403.510000  21403.510000  \n",
       "[> 300]     8031.125714  14272.792500   7107.140000   7107.140000  "
      ]
     },
     "execution_count": 6,
     "metadata": {},
     "output_type": "execute_result"
    }
   ],
   "source": [
    "# Inicializar un diccionario para almacenar los promedios de precio por metro cuadrado para cada rango\n",
    "promedios_por_rango_dict = {}\n",
    "# Iterar sobre cada DataFrame modificado en new_dataframes_list\n",
    "for idx, df in enumerate(new_dataframes_list):\n",
    "    # Agrupar el DataFrame por la columna 'rango' y calcular el promedio de 'precio_m2_terreno' para cada grupo\n",
    "    promedios_por_rango = df.groupby('rango')['precio_m2_terreno'].mean()\n",
    "    # Actualizar el diccionario con los promedios calculados\n",
    "    promedios_por_rango_dict[f'DataFrame_{idx + 1}'] = promedios_por_rango\n",
    "\n",
    "# Convertir el diccionario en un DataFrame\n",
    "rango_precio_m2 = pd.DataFrame(promedios_por_rango_dict)\n",
    "print(\"DataFrame 'rango_precio_m2':\")\n",
    "rango_precio_m2"
   ]
  },
  {
   "cell_type": "code",
   "execution_count": 7,
   "metadata": {},
   "outputs": [
    {
     "name": "stdout",
     "output_type": "stream",
     "text": [
      "DataFrame 'Precio_mean_M2':\n"
     ]
    },
    {
     "data": {
      "text/html": [
       "<div>\n",
       "<style scoped>\n",
       "    .dataframe tbody tr th:only-of-type {\n",
       "        vertical-align: middle;\n",
       "    }\n",
       "\n",
       "    .dataframe tbody tr th {\n",
       "        vertical-align: top;\n",
       "    }\n",
       "\n",
       "    .dataframe thead th {\n",
       "        text-align: right;\n",
       "    }\n",
       "</style>\n",
       "<table border=\"1\" class=\"dataframe\">\n",
       "  <thead>\n",
       "    <tr style=\"text-align: right;\">\n",
       "      <th></th>\n",
       "      <th>Rango</th>\n",
       "      <th>Precio_m2_mean</th>\n",
       "    </tr>\n",
       "  </thead>\n",
       "  <tbody>\n",
       "    <tr>\n",
       "      <th>0</th>\n",
       "      <td>[0-100]</td>\n",
       "      <td>12164.406688</td>\n",
       "    </tr>\n",
       "    <tr>\n",
       "      <th>1</th>\n",
       "      <td>[100-150]</td>\n",
       "      <td>10938.517907</td>\n",
       "    </tr>\n",
       "    <tr>\n",
       "      <th>2</th>\n",
       "      <td>[150-200]</td>\n",
       "      <td>11668.629226</td>\n",
       "    </tr>\n",
       "    <tr>\n",
       "      <th>3</th>\n",
       "      <td>[200-250]</td>\n",
       "      <td>12793.027464</td>\n",
       "    </tr>\n",
       "    <tr>\n",
       "      <th>4</th>\n",
       "      <td>[250-300]</td>\n",
       "      <td>9223.862443</td>\n",
       "    </tr>\n",
       "    <tr>\n",
       "      <th>5</th>\n",
       "      <td>[&gt; 300]</td>\n",
       "      <td>7611.926954</td>\n",
       "    </tr>\n",
       "  </tbody>\n",
       "</table>\n",
       "</div>"
      ],
      "text/plain": [
       "       Rango  Precio_m2_mean\n",
       "0    [0-100]    12164.406688\n",
       "1  [100-150]    10938.517907\n",
       "2  [150-200]    11668.629226\n",
       "3  [200-250]    12793.027464\n",
       "4  [250-300]     9223.862443\n",
       "5    [> 300]     7611.926954"
      ]
     },
     "execution_count": 7,
     "metadata": {},
     "output_type": "execute_result"
    }
   ],
   "source": [
    "# Calcular el promedio general de cada rango en todas las columnas de rango_precio_m2\n",
    "promedio_general_por_rango = rango_precio_m2.mean(axis=1)\n",
    "# Crear un nuevo DataFrame 'Precio_mean_M2' con los rangos y sus promedios generales\n",
    "Precio_mean_M2 = pd.DataFrame({'Rango': promedio_general_por_rango.index, 'Precio_m2_mean': promedio_general_por_rango.values})\n",
    "\n",
    "print(\"DataFrame 'Precio_mean_M2':\")\n",
    "Precio_mean_M2"
   ]
  },
  {
   "cell_type": "markdown",
   "metadata": {},
   "source": [
    "# Gráfica"
   ]
  },
  {
   "cell_type": "code",
   "execution_count": 8,
   "metadata": {},
   "outputs": [
    {
     "data": {
      "application/vnd.plotly.v1+json": {
       "config": {
        "plotlyServerURL": "https://plot.ly"
       },
       "data": [
        {
         "marker": {
          "color": [
           "#2962ff",
           "#9500ff",
           "#ff0059",
           "#ff8c00",
           "#b4e600",
           "#2EC2A2",
           "#F79CB9"
          ]
         },
         "text": [
          "$12,164.41",
          "$10,938.52",
          "$11,668.63",
          "$12,793.03",
          "$9,223.86",
          "$7,611.93"
         ],
         "textposition": "inside",
         "type": "bar",
         "x": [
          "[0-100]",
          "[100-150]",
          "[150-200]",
          "[200-250]",
          "[250-300]",
          "[> 300]"
         ],
         "y": [
          12164.40668809849,
          10938.517906953075,
          11668.629225842089,
          12793.027463724047,
          9223.862442956348,
          7611.926953869048
         ]
        }
       ],
       "layout": {
        "height": 500,
        "margin": {
         "b": 10,
         "l": 10,
         "r": 10,
         "t": 10
        },
        "plot_bgcolor": "rgba(0,0,0,0)",
        "template": {
         "data": {
          "bar": [
           {
            "error_x": {
             "color": "#2a3f5f"
            },
            "error_y": {
             "color": "#2a3f5f"
            },
            "marker": {
             "line": {
              "color": "#E5ECF6",
              "width": 0.5
             },
             "pattern": {
              "fillmode": "overlay",
              "size": 10,
              "solidity": 0.2
             }
            },
            "type": "bar"
           }
          ],
          "barpolar": [
           {
            "marker": {
             "line": {
              "color": "#E5ECF6",
              "width": 0.5
             },
             "pattern": {
              "fillmode": "overlay",
              "size": 10,
              "solidity": 0.2
             }
            },
            "type": "barpolar"
           }
          ],
          "carpet": [
           {
            "aaxis": {
             "endlinecolor": "#2a3f5f",
             "gridcolor": "white",
             "linecolor": "white",
             "minorgridcolor": "white",
             "startlinecolor": "#2a3f5f"
            },
            "baxis": {
             "endlinecolor": "#2a3f5f",
             "gridcolor": "white",
             "linecolor": "white",
             "minorgridcolor": "white",
             "startlinecolor": "#2a3f5f"
            },
            "type": "carpet"
           }
          ],
          "choropleth": [
           {
            "colorbar": {
             "outlinewidth": 0,
             "ticks": ""
            },
            "type": "choropleth"
           }
          ],
          "contour": [
           {
            "colorbar": {
             "outlinewidth": 0,
             "ticks": ""
            },
            "colorscale": [
             [
              0,
              "#0d0887"
             ],
             [
              0.1111111111111111,
              "#46039f"
             ],
             [
              0.2222222222222222,
              "#7201a8"
             ],
             [
              0.3333333333333333,
              "#9c179e"
             ],
             [
              0.4444444444444444,
              "#bd3786"
             ],
             [
              0.5555555555555556,
              "#d8576b"
             ],
             [
              0.6666666666666666,
              "#ed7953"
             ],
             [
              0.7777777777777778,
              "#fb9f3a"
             ],
             [
              0.8888888888888888,
              "#fdca26"
             ],
             [
              1,
              "#f0f921"
             ]
            ],
            "type": "contour"
           }
          ],
          "contourcarpet": [
           {
            "colorbar": {
             "outlinewidth": 0,
             "ticks": ""
            },
            "type": "contourcarpet"
           }
          ],
          "heatmap": [
           {
            "colorbar": {
             "outlinewidth": 0,
             "ticks": ""
            },
            "colorscale": [
             [
              0,
              "#0d0887"
             ],
             [
              0.1111111111111111,
              "#46039f"
             ],
             [
              0.2222222222222222,
              "#7201a8"
             ],
             [
              0.3333333333333333,
              "#9c179e"
             ],
             [
              0.4444444444444444,
              "#bd3786"
             ],
             [
              0.5555555555555556,
              "#d8576b"
             ],
             [
              0.6666666666666666,
              "#ed7953"
             ],
             [
              0.7777777777777778,
              "#fb9f3a"
             ],
             [
              0.8888888888888888,
              "#fdca26"
             ],
             [
              1,
              "#f0f921"
             ]
            ],
            "type": "heatmap"
           }
          ],
          "heatmapgl": [
           {
            "colorbar": {
             "outlinewidth": 0,
             "ticks": ""
            },
            "colorscale": [
             [
              0,
              "#0d0887"
             ],
             [
              0.1111111111111111,
              "#46039f"
             ],
             [
              0.2222222222222222,
              "#7201a8"
             ],
             [
              0.3333333333333333,
              "#9c179e"
             ],
             [
              0.4444444444444444,
              "#bd3786"
             ],
             [
              0.5555555555555556,
              "#d8576b"
             ],
             [
              0.6666666666666666,
              "#ed7953"
             ],
             [
              0.7777777777777778,
              "#fb9f3a"
             ],
             [
              0.8888888888888888,
              "#fdca26"
             ],
             [
              1,
              "#f0f921"
             ]
            ],
            "type": "heatmapgl"
           }
          ],
          "histogram": [
           {
            "marker": {
             "pattern": {
              "fillmode": "overlay",
              "size": 10,
              "solidity": 0.2
             }
            },
            "type": "histogram"
           }
          ],
          "histogram2d": [
           {
            "colorbar": {
             "outlinewidth": 0,
             "ticks": ""
            },
            "colorscale": [
             [
              0,
              "#0d0887"
             ],
             [
              0.1111111111111111,
              "#46039f"
             ],
             [
              0.2222222222222222,
              "#7201a8"
             ],
             [
              0.3333333333333333,
              "#9c179e"
             ],
             [
              0.4444444444444444,
              "#bd3786"
             ],
             [
              0.5555555555555556,
              "#d8576b"
             ],
             [
              0.6666666666666666,
              "#ed7953"
             ],
             [
              0.7777777777777778,
              "#fb9f3a"
             ],
             [
              0.8888888888888888,
              "#fdca26"
             ],
             [
              1,
              "#f0f921"
             ]
            ],
            "type": "histogram2d"
           }
          ],
          "histogram2dcontour": [
           {
            "colorbar": {
             "outlinewidth": 0,
             "ticks": ""
            },
            "colorscale": [
             [
              0,
              "#0d0887"
             ],
             [
              0.1111111111111111,
              "#46039f"
             ],
             [
              0.2222222222222222,
              "#7201a8"
             ],
             [
              0.3333333333333333,
              "#9c179e"
             ],
             [
              0.4444444444444444,
              "#bd3786"
             ],
             [
              0.5555555555555556,
              "#d8576b"
             ],
             [
              0.6666666666666666,
              "#ed7953"
             ],
             [
              0.7777777777777778,
              "#fb9f3a"
             ],
             [
              0.8888888888888888,
              "#fdca26"
             ],
             [
              1,
              "#f0f921"
             ]
            ],
            "type": "histogram2dcontour"
           }
          ],
          "mesh3d": [
           {
            "colorbar": {
             "outlinewidth": 0,
             "ticks": ""
            },
            "type": "mesh3d"
           }
          ],
          "parcoords": [
           {
            "line": {
             "colorbar": {
              "outlinewidth": 0,
              "ticks": ""
             }
            },
            "type": "parcoords"
           }
          ],
          "pie": [
           {
            "automargin": true,
            "type": "pie"
           }
          ],
          "scatter": [
           {
            "fillpattern": {
             "fillmode": "overlay",
             "size": 10,
             "solidity": 0.2
            },
            "type": "scatter"
           }
          ],
          "scatter3d": [
           {
            "line": {
             "colorbar": {
              "outlinewidth": 0,
              "ticks": ""
             }
            },
            "marker": {
             "colorbar": {
              "outlinewidth": 0,
              "ticks": ""
             }
            },
            "type": "scatter3d"
           }
          ],
          "scattercarpet": [
           {
            "marker": {
             "colorbar": {
              "outlinewidth": 0,
              "ticks": ""
             }
            },
            "type": "scattercarpet"
           }
          ],
          "scattergeo": [
           {
            "marker": {
             "colorbar": {
              "outlinewidth": 0,
              "ticks": ""
             }
            },
            "type": "scattergeo"
           }
          ],
          "scattergl": [
           {
            "marker": {
             "colorbar": {
              "outlinewidth": 0,
              "ticks": ""
             }
            },
            "type": "scattergl"
           }
          ],
          "scattermapbox": [
           {
            "marker": {
             "colorbar": {
              "outlinewidth": 0,
              "ticks": ""
             }
            },
            "type": "scattermapbox"
           }
          ],
          "scatterpolar": [
           {
            "marker": {
             "colorbar": {
              "outlinewidth": 0,
              "ticks": ""
             }
            },
            "type": "scatterpolar"
           }
          ],
          "scatterpolargl": [
           {
            "marker": {
             "colorbar": {
              "outlinewidth": 0,
              "ticks": ""
             }
            },
            "type": "scatterpolargl"
           }
          ],
          "scatterternary": [
           {
            "marker": {
             "colorbar": {
              "outlinewidth": 0,
              "ticks": ""
             }
            },
            "type": "scatterternary"
           }
          ],
          "surface": [
           {
            "colorbar": {
             "outlinewidth": 0,
             "ticks": ""
            },
            "colorscale": [
             [
              0,
              "#0d0887"
             ],
             [
              0.1111111111111111,
              "#46039f"
             ],
             [
              0.2222222222222222,
              "#7201a8"
             ],
             [
              0.3333333333333333,
              "#9c179e"
             ],
             [
              0.4444444444444444,
              "#bd3786"
             ],
             [
              0.5555555555555556,
              "#d8576b"
             ],
             [
              0.6666666666666666,
              "#ed7953"
             ],
             [
              0.7777777777777778,
              "#fb9f3a"
             ],
             [
              0.8888888888888888,
              "#fdca26"
             ],
             [
              1,
              "#f0f921"
             ]
            ],
            "type": "surface"
           }
          ],
          "table": [
           {
            "cells": {
             "fill": {
              "color": "#EBF0F8"
             },
             "line": {
              "color": "white"
             }
            },
            "header": {
             "fill": {
              "color": "#C8D4E3"
             },
             "line": {
              "color": "white"
             }
            },
            "type": "table"
           }
          ]
         },
         "layout": {
          "annotationdefaults": {
           "arrowcolor": "#2a3f5f",
           "arrowhead": 0,
           "arrowwidth": 1
          },
          "autotypenumbers": "strict",
          "coloraxis": {
           "colorbar": {
            "outlinewidth": 0,
            "ticks": ""
           }
          },
          "colorscale": {
           "diverging": [
            [
             0,
             "#8e0152"
            ],
            [
             0.1,
             "#c51b7d"
            ],
            [
             0.2,
             "#de77ae"
            ],
            [
             0.3,
             "#f1b6da"
            ],
            [
             0.4,
             "#fde0ef"
            ],
            [
             0.5,
             "#f7f7f7"
            ],
            [
             0.6,
             "#e6f5d0"
            ],
            [
             0.7,
             "#b8e186"
            ],
            [
             0.8,
             "#7fbc41"
            ],
            [
             0.9,
             "#4d9221"
            ],
            [
             1,
             "#276419"
            ]
           ],
           "sequential": [
            [
             0,
             "#0d0887"
            ],
            [
             0.1111111111111111,
             "#46039f"
            ],
            [
             0.2222222222222222,
             "#7201a8"
            ],
            [
             0.3333333333333333,
             "#9c179e"
            ],
            [
             0.4444444444444444,
             "#bd3786"
            ],
            [
             0.5555555555555556,
             "#d8576b"
            ],
            [
             0.6666666666666666,
             "#ed7953"
            ],
            [
             0.7777777777777778,
             "#fb9f3a"
            ],
            [
             0.8888888888888888,
             "#fdca26"
            ],
            [
             1,
             "#f0f921"
            ]
           ],
           "sequentialminus": [
            [
             0,
             "#0d0887"
            ],
            [
             0.1111111111111111,
             "#46039f"
            ],
            [
             0.2222222222222222,
             "#7201a8"
            ],
            [
             0.3333333333333333,
             "#9c179e"
            ],
            [
             0.4444444444444444,
             "#bd3786"
            ],
            [
             0.5555555555555556,
             "#d8576b"
            ],
            [
             0.6666666666666666,
             "#ed7953"
            ],
            [
             0.7777777777777778,
             "#fb9f3a"
            ],
            [
             0.8888888888888888,
             "#fdca26"
            ],
            [
             1,
             "#f0f921"
            ]
           ]
          },
          "colorway": [
           "#636efa",
           "#EF553B",
           "#00cc96",
           "#ab63fa",
           "#FFA15A",
           "#19d3f3",
           "#FF6692",
           "#B6E880",
           "#FF97FF",
           "#FECB52"
          ],
          "font": {
           "color": "#2a3f5f"
          },
          "geo": {
           "bgcolor": "white",
           "lakecolor": "white",
           "landcolor": "#E5ECF6",
           "showlakes": true,
           "showland": true,
           "subunitcolor": "white"
          },
          "hoverlabel": {
           "align": "left"
          },
          "hovermode": "closest",
          "mapbox": {
           "style": "light"
          },
          "paper_bgcolor": "white",
          "plot_bgcolor": "#E5ECF6",
          "polar": {
           "angularaxis": {
            "gridcolor": "white",
            "linecolor": "white",
            "ticks": ""
           },
           "bgcolor": "#E5ECF6",
           "radialaxis": {
            "gridcolor": "white",
            "linecolor": "white",
            "ticks": ""
           }
          },
          "scene": {
           "xaxis": {
            "backgroundcolor": "#E5ECF6",
            "gridcolor": "white",
            "gridwidth": 2,
            "linecolor": "white",
            "showbackground": true,
            "ticks": "",
            "zerolinecolor": "white"
           },
           "yaxis": {
            "backgroundcolor": "#E5ECF6",
            "gridcolor": "white",
            "gridwidth": 2,
            "linecolor": "white",
            "showbackground": true,
            "ticks": "",
            "zerolinecolor": "white"
           },
           "zaxis": {
            "backgroundcolor": "#E5ECF6",
            "gridcolor": "white",
            "gridwidth": 2,
            "linecolor": "white",
            "showbackground": true,
            "ticks": "",
            "zerolinecolor": "white"
           }
          },
          "shapedefaults": {
           "line": {
            "color": "#2a3f5f"
           }
          },
          "ternary": {
           "aaxis": {
            "gridcolor": "white",
            "linecolor": "white",
            "ticks": ""
           },
           "baxis": {
            "gridcolor": "white",
            "linecolor": "white",
            "ticks": ""
           },
           "bgcolor": "#E5ECF6",
           "caxis": {
            "gridcolor": "white",
            "linecolor": "white",
            "ticks": ""
           }
          },
          "title": {
           "x": 0.05
          },
          "xaxis": {
           "automargin": true,
           "gridcolor": "white",
           "linecolor": "white",
           "ticks": "",
           "title": {
            "standoff": 15
           },
           "zerolinecolor": "white",
           "zerolinewidth": 2
          },
          "yaxis": {
           "automargin": true,
           "gridcolor": "white",
           "linecolor": "white",
           "ticks": "",
           "title": {
            "standoff": 15
           },
           "zerolinecolor": "white",
           "zerolinewidth": 2
          }
         }
        },
        "yaxis": {
         "gridcolor": "#dddcda",
         "gridwidth": 1,
         "ticktext": [
          "$0.00",
          "$5000.00",
          "$10000.00",
          "$15000.00"
         ],
         "tickvals": [
          0,
          5000,
          10000,
          15000
         ]
        }
       }
      }
     },
     "metadata": {},
     "output_type": "display_data"
    }
   ],
   "source": [
    "colores = ['#2962ff', '#9500ff', '#ff0059', '#ff8c00', '#b4e600', '#2EC2A2','#F79CB9']\n",
    "porcentajes = Precio_mean_M2['Precio_m2_mean']\n",
    "\n",
    "# Convertir la columna 'Precio_m2_mean' a números de punto flotante\n",
    "#Precio_mean_M2['Precio_m2_mean'] = Precio_mean_M2['Precio_m2_mean'].str.replace('$', '').str.replace(',', '').astype(float)\n",
    "# Convertir los valores a cadenas con el formato deseado\n",
    "textos_formateados = [f'${round(valor, 2):,.2f}' for valor in Precio_mean_M2['Precio_m2_mean']]\n",
    "\n",
    "fig = go.Figure()\n",
    "# Obtener el valor máximo redondeado al próximo múltiplo de 5000\n",
    "max_valor = int(Precio_mean_M2['Precio_m2_mean'].max() / 5000 + 1) * 5000\n",
    "\n",
    "# Agregar los datos como barras\n",
    "fig.add_trace(go.Bar(\n",
    "    x=Precio_mean_M2['Rango'],  # Eje x: Modalidades\n",
    "    y=Precio_mean_M2['Precio_m2_mean'],  # Eje y: Porcentajes\n",
    "    marker_color=colores,  # Especifica los colores de las barras\n",
    "    text=textos_formateados,  # Texto que se mostrará en las barras (porcentaje)\n",
    "    textposition='inside',  # Posición del texto (puede ser 'inside' o 'outside')\n",
    "))\n",
    "\n",
    "# Personalizar el diseño de la gráfica\n",
    "fig.update_layout(\n",
    "    #title='Precio promedio por M2 totales.',  # Título de la gráfica\n",
    "    #xaxis=dict(title='Rango'),  # Título del eje x\n",
    "    yaxis=dict(\n",
    "        #title='Precio', # Título del eje y\n",
    "        gridcolor='#dddcda', # Color de las líneas que dividen los rangos del eje Y\n",
    "        gridwidth=1,\n",
    "        tickvals=list(range(0, max_valor + 5000, 5000)),  # Valores de los ticks del eje y\n",
    "        ticktext=[f'${valor:.2f}' for valor in range(0, max_valor + 5000, 5000)]  # Textos de los ticks del eje y\n",
    "    ),  \n",
    "    plot_bgcolor='rgba(0,0,0,0)',  # Color de fondo del gráfico\n",
    "    height=500,  # Altura de la gráfica\n",
    "    margin=dict(l=10, r=10, t=10, b=10)  # Ajusta los márgenes (left, right, top, bottom)\n",
    "\n",
    ")\n",
    "\n",
    "# Exportar gráfica como archivo HTML\n",
    "def guardar_grafico_como_html(fig, nombre_archivo, carpeta='assets/graficas'):\n",
    "    # Crear la carpeta si no existe\n",
    "    if not os.path.exists(carpeta):\n",
    "        os.makedirs(carpeta)\n",
    "    # Gráfica como archivo HTML en la carpeta especificada\n",
    "    pio.write_html(fig, f'{carpeta}/{nombre_archivo}.html')\n",
    "guardar_grafico_como_html(fig, 'g_bar_PrecioPromedio_m2', carpeta='assets/graficas')\n",
    "fig.show()"
   ]
  },
  {
   "cell_type": "code",
   "execution_count": null,
   "metadata": {},
   "outputs": [],
   "source": []
  }
 ],
 "metadata": {
  "kernelspec": {
   "display_name": "base",
   "language": "python",
   "name": "python3"
  },
  "language_info": {
   "codemirror_mode": {
    "name": "ipython",
    "version": 3
   },
   "file_extension": ".py",
   "mimetype": "text/x-python",
   "name": "python",
   "nbconvert_exporter": "python",
   "pygments_lexer": "ipython3",
   "version": "3.9.13"
  }
 },
 "nbformat": 4,
 "nbformat_minor": 2
}
