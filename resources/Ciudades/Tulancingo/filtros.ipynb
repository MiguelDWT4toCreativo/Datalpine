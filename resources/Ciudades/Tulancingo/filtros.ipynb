{
 "cells": [
  {
   "cell_type": "markdown",
   "metadata": {},
   "source": [
    "# **Filtro de tipo de mercado DatAlpine**"
   ]
  },
  {
   "cell_type": "code",
   "execution_count": 1,
   "metadata": {},
   "outputs": [
    {
     "name": "stdout",
     "output_type": "stream",
     "text": [
      "Lista de DataFrames filtrados:\n"
     ]
    },
    {
     "data": {
      "text/plain": [
       "['df_alfa_abril_2024_tulancingo',\n",
       " 'df_alfa_agosto_2024_tulancingo',\n",
       " 'df_alfa_febrero_2024_tulancingo',\n",
       " 'df_alfa_julio_2024_tulancingo',\n",
       " 'df_alfa_junio_2024_tulancingo',\n",
       " 'df_alfa_marzo_2024_tulancingo',\n",
       " 'df_alfa_mayo_2024_tulancingo',\n",
       " 'df_alfa_q_jul_2022_tulancingo',\n",
       " 'df_alfa_q_jul_2023_tulancingo',\n",
       " 'df_alfa_q_jun_2023_tulancingo',\n",
       " 'df_alfa_q_mar_2023_tulancingo',\n",
       " 'df_alfa_q_may_2022_tulancingo',\n",
       " 'df_alfa_q_may_2023_tulancingo',\n",
       " 'df_alfa_q_oct_2022_tulancingo',\n",
       " 'df_alfa_q_oct_2023_tulancingo',\n",
       " 'df_alfa_q_sep_2023_tulancingo']"
      ]
     },
     "execution_count": 1,
     "metadata": {},
     "output_type": "execute_result"
    }
   ],
   "source": [
    "# Manejo de datos\n",
    "import os # Directorios\n",
    "import pandas as pd # Manipulación df\n",
    "\n",
    "# Obtener el directorio actual de trabajo\n",
    "directorio_actual = os.getcwd()\n",
    "\n",
    "# Directorio donde se encuentran los archivos JSON (ruta relativa)\n",
    "directorio_json = os.path.join(directorio_actual, '../../db/datos_json')\n",
    "\n",
    "# Obtener la lista de archivos JSON en el directorio\n",
    "archivos_json = os.listdir(directorio_json)\n",
    "\n",
    "# Cargar los archivos JSON y crear DataFrames\n",
    "for archivo in archivos_json:\n",
    "    nombre_tabla = archivo.replace('datos_', '').replace('.json', '')\n",
    "    ruta_json = os.path.join(directorio_json, archivo)\n",
    "    globals()[f\"df_{nombre_tabla}\"] = pd.read_json(ruta_json)\n",
    "\n",
    "# Obtener todos los nombres de las variables globales\n",
    "nombres_variables_globales = list(globals().keys())\n",
    "\n",
    "# Filtrar los nombres que comienzan con \"df_\", contienen \"alfa_q\" y \"pachuca\"\n",
    "nombres_df_filtrados = [\n",
    "    nombre for nombre in nombres_variables_globales \n",
    "    # Caso de cuando no son las alfa q\n",
    "    if nombre.startswith(\"df_\") and \"alfa\" in nombre and \"tulancingo\" in nombre\n",
    "]\n",
    "\n",
    "# Imprimir la lista de DataFrames filtrados\n",
    "print(\"Lista de DataFrames filtrados:\")\n",
    "nombres_df_filtrados"
   ]
  },
  {
   "cell_type": "code",
   "execution_count": 9,
   "metadata": {},
   "outputs": [
    {
     "data": {
      "text/plain": [
       "Index(['id', 'q', 'categoria', 'ids', 'propiedad', 'precio', 'm_total',\n",
       "       'm_construido', 'precio_m2_terreno', 'precio_m2_construido',\n",
       "       'tiempo_publicacion', 'personas_interesadas',\n",
       "       'promedio_interes_mensual', 'estado', 'tipo', 'estacionamiento',\n",
       "       'recamaras', 'baño', 'medio_baño', 'baño_total', 'cantidad_pisos',\n",
       "       'antiguedad', 'seguridad', 'fraccionamiento', 'colonia', 'cp', 'url',\n",
       "       'latitud', 'longitud'],\n",
       "      dtype='object')"
      ]
     },
     "execution_count": 9,
     "metadata": {},
     "output_type": "execute_result"
    }
   ],
   "source": [
    "df_alfa_q_sep_2023_tulancingo.columns"
   ]
  },
  {
   "cell_type": "code",
   "execution_count": 13,
   "metadata": {},
   "outputs": [
    {
     "data": {
      "text/plain": [
       "Index(['id', 'q', 'categoria', 'ids', 'propiedad', 'precio', 'm_total',\n",
       "       'm_construido', 'precio_m2_terreno', 'precio_m2_construido',\n",
       "       'tiempo_publicacion', 'personas_interesadas',\n",
       "       'promedio_interes_mensual', 'estado', 'tipo', 'estacionamiento',\n",
       "       'recamaras', 'baño', 'medio_baño', 'baño_total', 'cantidad_pisos',\n",
       "       'antiguedad', 'seguridad', 'fraccionamiento', 'colonia', 'cp', 'url',\n",
       "       'latitud', 'longitud'],\n",
       "      dtype='object')"
      ]
     },
     "execution_count": 13,
     "metadata": {},
     "output_type": "execute_result"
    }
   ],
   "source": [
    "df_alfa_q_oct_2022_tulancingo.columns"
   ]
  },
  {
   "cell_type": "code",
   "execution_count": 14,
   "metadata": {},
   "outputs": [
    {
     "data": {
      "text/plain": [
       "Index(['id', 'Categoria', 'Precio', 'propiedad', 'metros_total',\n",
       "       'metros_construido', 'precio_m2_terreno', 'precio_m2_construido',\n",
       "       'tiempo_de_publicacion', 'Estado', 'Tipo', 'Estacionamientos',\n",
       "       'Recamaras', 'Banos', 'Medio_banos', 'Banos_Total', 'Seguridad',\n",
       "       'Colonia', 'CP', 'url'],\n",
       "      dtype='object')"
      ]
     },
     "execution_count": 14,
     "metadata": {},
     "output_type": "execute_result"
    }
   ],
   "source": [
    "df_alfa_marzo_2024_tulancingo.columns"
   ]
  },
  {
   "cell_type": "code",
   "execution_count": 15,
   "metadata": {},
   "outputs": [
    {
     "name": "stdout",
     "output_type": "stream",
     "text": [
      "Columnas renombradas en los DataFrames filtrados.\n"
     ]
    }
   ],
   "source": [
    "# Iterar sobre cada DataFrame en la lista filtrada\n",
    "for nombre_df in nombres_df_filtrados:\n",
    "    # Obtener el DataFrame usando globals()\n",
    "    df = globals()[nombre_df]\n",
    "    \n",
    "    df.rename(columns={'Categoria':'categoria','Category':'categoria','Propiedad':'propiedad','Precio':'precio','m_total':'metros_total','m_construido':'metros_construido','Estacionamientos':'estacionamiento','Recamaras':'recamaras','Banos':'baño','Medio_banos':'medio_baño','Banos_Total':'baño_total'}, inplace=True)\n",
    "        # Asignar el DataFrame modificado de nuevo a la variable global\n",
    "    globals()[nombre_df] = df \n",
    "\n",
    "# Imprimir confirmación\n",
    "print(\"Columnas renombradas en los DataFrames filtrados.\")"
   ]
  },
  {
   "cell_type": "code",
   "execution_count": 16,
   "metadata": {},
   "outputs": [],
   "source": [
    "# Crear una lista de DataFrames seleccionados con las columnas específicas\n",
    "dataframes_list = []\n",
    "for nombre_df in nombres_df_filtrados:\n",
    "    # Seleccionar las columnas 'id' y 'categoria'\n",
    "    segment_df = globals()[nombre_df][['id','categoria','propiedad','precio','metros_total','metros_construido', 'precio_m2_construido','estacionamiento','recamaras', 'baño', 'medio_baño', 'baño_total']]\n",
    "    # Añadir el DataFrame a la lista\n",
    "    dataframes_list.append(segment_df)"
   ]
  },
  {
   "cell_type": "code",
   "execution_count": 20,
   "metadata": {},
   "outputs": [
    {
     "data": {
      "text/html": [
       "<div>\n",
       "<style scoped>\n",
       "    .dataframe tbody tr th:only-of-type {\n",
       "        vertical-align: middle;\n",
       "    }\n",
       "\n",
       "    .dataframe tbody tr th {\n",
       "        vertical-align: top;\n",
       "    }\n",
       "\n",
       "    .dataframe thead th {\n",
       "        text-align: right;\n",
       "    }\n",
       "</style>\n",
       "<table border=\"1\" class=\"dataframe\">\n",
       "  <thead>\n",
       "    <tr style=\"text-align: right;\">\n",
       "      <th></th>\n",
       "      <th>id</th>\n",
       "      <th>categoria</th>\n",
       "      <th>propiedad</th>\n",
       "      <th>precio</th>\n",
       "      <th>metros_total</th>\n",
       "      <th>metros_construido</th>\n",
       "      <th>precio_m2_construido</th>\n",
       "      <th>estacionamiento</th>\n",
       "      <th>recamaras</th>\n",
       "      <th>baño</th>\n",
       "      <th>medio_baño</th>\n",
       "      <th>baño_total</th>\n",
       "    </tr>\n",
       "  </thead>\n",
       "  <tbody>\n",
       "    <tr>\n",
       "      <th>0</th>\n",
       "      <td>1</td>\n",
       "      <td></td>\n",
       "      <td>Casa - Tulancingo de Bravo</td>\n",
       "      <td>8000000</td>\n",
       "      <td>482</td>\n",
       "      <td>460</td>\n",
       "      <td>17391.30</td>\n",
       "      <td>0</td>\n",
       "      <td>5</td>\n",
       "      <td>5</td>\n",
       "      <td>0</td>\n",
       "      <td>5.0</td>\n",
       "    </tr>\n",
       "    <tr>\n",
       "      <th>1</th>\n",
       "      <td>2</td>\n",
       "      <td>S1</td>\n",
       "      <td>CASA EN VENTA COL JARDINES DEL SUR TULANCINGO ...</td>\n",
       "      <td>4810000</td>\n",
       "      <td>228</td>\n",
       "      <td>360</td>\n",
       "      <td>13361.11</td>\n",
       "      <td>0</td>\n",
       "      <td>4</td>\n",
       "      <td>0</td>\n",
       "      <td>0</td>\n",
       "      <td>0.0</td>\n",
       "    </tr>\n",
       "    <tr>\n",
       "      <th>2</th>\n",
       "      <td>3</td>\n",
       "      <td>S1</td>\n",
       "      <td>Se vende casa en Tulancingo, Fraccionamiento S...</td>\n",
       "      <td>4500000</td>\n",
       "      <td>200</td>\n",
       "      <td>287</td>\n",
       "      <td>15679.44</td>\n",
       "      <td>0</td>\n",
       "      <td>0</td>\n",
       "      <td>0</td>\n",
       "      <td>0</td>\n",
       "      <td>0.0</td>\n",
       "    </tr>\n",
       "    <tr>\n",
       "      <th>3</th>\n",
       "      <td>4</td>\n",
       "      <td>S1</td>\n",
       "      <td>Casa en Venta, Col. La Morena. Tulancingo. Pac...</td>\n",
       "      <td>4300000</td>\n",
       "      <td>160</td>\n",
       "      <td>240</td>\n",
       "      <td>17916.67</td>\n",
       "      <td>1</td>\n",
       "      <td>5</td>\n",
       "      <td>1</td>\n",
       "      <td>0</td>\n",
       "      <td>1.0</td>\n",
       "    </tr>\n",
       "    <tr>\n",
       "      <th>4</th>\n",
       "      <td>5</td>\n",
       "      <td>A3</td>\n",
       "      <td>VENTA DE CASA EN PEDREGAL DE SAN FRANCISCO TUL...</td>\n",
       "      <td>3946465</td>\n",
       "      <td>150</td>\n",
       "      <td>150</td>\n",
       "      <td>26309.77</td>\n",
       "      <td>1</td>\n",
       "      <td>3</td>\n",
       "      <td>1</td>\n",
       "      <td>0</td>\n",
       "      <td>1.0</td>\n",
       "    </tr>\n",
       "    <tr>\n",
       "      <th>...</th>\n",
       "      <td>...</td>\n",
       "      <td>...</td>\n",
       "      <td>...</td>\n",
       "      <td>...</td>\n",
       "      <td>...</td>\n",
       "      <td>...</td>\n",
       "      <td>...</td>\n",
       "      <td>...</td>\n",
       "      <td>...</td>\n",
       "      <td>...</td>\n",
       "      <td>...</td>\n",
       "      <td>...</td>\n",
       "    </tr>\n",
       "    <tr>\n",
       "      <th>1883</th>\n",
       "      <td>54</td>\n",
       "      <td>B1</td>\n",
       "      <td>Casa en Venta en Tulancingo a 45 Minutos de La...</td>\n",
       "      <td>2890000</td>\n",
       "      <td>220</td>\n",
       "      <td>140</td>\n",
       "      <td>20642.86</td>\n",
       "      <td>2</td>\n",
       "      <td>3</td>\n",
       "      <td>3</td>\n",
       "      <td>1</td>\n",
       "      <td>4.0</td>\n",
       "    </tr>\n",
       "    <tr>\n",
       "      <th>1884</th>\n",
       "      <td>55</td>\n",
       "      <td>S</td>\n",
       "      <td>Casa en Venta en Felipe Ángeles, Tulancingo de...</td>\n",
       "      <td>6100000</td>\n",
       "      <td>285</td>\n",
       "      <td>430</td>\n",
       "      <td>14186.05</td>\n",
       "      <td>2</td>\n",
       "      <td>4</td>\n",
       "      <td>3</td>\n",
       "      <td>1</td>\n",
       "      <td>4.0</td>\n",
       "    </tr>\n",
       "    <tr>\n",
       "      <th>1885</th>\n",
       "      <td>56</td>\n",
       "      <td>A1</td>\n",
       "      <td>!oportunidad! Propiedad Comercial en Venta, Ub...</td>\n",
       "      <td>3600000</td>\n",
       "      <td>350</td>\n",
       "      <td>350</td>\n",
       "      <td>10285.71</td>\n",
       "      <td>1</td>\n",
       "      <td>7</td>\n",
       "      <td>2</td>\n",
       "      <td>1</td>\n",
       "      <td>3.0</td>\n",
       "    </tr>\n",
       "    <tr>\n",
       "      <th>1886</th>\n",
       "      <td>57</td>\n",
       "      <td>B3</td>\n",
       "      <td>Casa con 350 m² de Terreno, Col. Valle Verde T...</td>\n",
       "      <td>2480000</td>\n",
       "      <td>350</td>\n",
       "      <td>250</td>\n",
       "      <td>9920.00</td>\n",
       "      <td>4</td>\n",
       "      <td>3</td>\n",
       "      <td>3</td>\n",
       "      <td>0</td>\n",
       "      <td>3.0</td>\n",
       "    </tr>\n",
       "    <tr>\n",
       "      <th>1887</th>\n",
       "      <td>58</td>\n",
       "      <td>C3</td>\n",
       "      <td>Oportunidad de Inversión, Propiedad en Tulanci...</td>\n",
       "      <td>1580000</td>\n",
       "      <td>400</td>\n",
       "      <td>90</td>\n",
       "      <td>17555.56</td>\n",
       "      <td>1</td>\n",
       "      <td>4</td>\n",
       "      <td>2</td>\n",
       "      <td>0</td>\n",
       "      <td>2.0</td>\n",
       "    </tr>\n",
       "  </tbody>\n",
       "</table>\n",
       "<p>1888 rows × 12 columns</p>\n",
       "</div>"
      ],
      "text/plain": [
       "      id categoria                                          propiedad  \\\n",
       "0      1                                   Casa - Tulancingo de Bravo   \n",
       "1      2        S1  CASA EN VENTA COL JARDINES DEL SUR TULANCINGO ...   \n",
       "2      3        S1  Se vende casa en Tulancingo, Fraccionamiento S...   \n",
       "3      4        S1  Casa en Venta, Col. La Morena. Tulancingo. Pac...   \n",
       "4      5        A3  VENTA DE CASA EN PEDREGAL DE SAN FRANCISCO TUL...   \n",
       "...   ..       ...                                                ...   \n",
       "1883  54        B1  Casa en Venta en Tulancingo a 45 Minutos de La...   \n",
       "1884  55         S  Casa en Venta en Felipe Ángeles, Tulancingo de...   \n",
       "1885  56        A1  !oportunidad! Propiedad Comercial en Venta, Ub...   \n",
       "1886  57        B3  Casa con 350 m² de Terreno, Col. Valle Verde T...   \n",
       "1887  58        C3  Oportunidad de Inversión, Propiedad en Tulanci...   \n",
       "\n",
       "       precio  metros_total  metros_construido  precio_m2_construido  \\\n",
       "0     8000000           482                460              17391.30   \n",
       "1     4810000           228                360              13361.11   \n",
       "2     4500000           200                287              15679.44   \n",
       "3     4300000           160                240              17916.67   \n",
       "4     3946465           150                150              26309.77   \n",
       "...       ...           ...                ...                   ...   \n",
       "1883  2890000           220                140              20642.86   \n",
       "1884  6100000           285                430              14186.05   \n",
       "1885  3600000           350                350              10285.71   \n",
       "1886  2480000           350                250               9920.00   \n",
       "1887  1580000           400                 90              17555.56   \n",
       "\n",
       "      estacionamiento  recamaras  baño  medio_baño  baño_total  \n",
       "0                   0          5     5           0         5.0  \n",
       "1                   0          4     0           0         0.0  \n",
       "2                   0          0     0           0         0.0  \n",
       "3                   1          5     1           0         1.0  \n",
       "4                   1          3     1           0         1.0  \n",
       "...               ...        ...   ...         ...         ...  \n",
       "1883                2          3     3           1         4.0  \n",
       "1884                2          4     3           1         4.0  \n",
       "1885                1          7     2           1         3.0  \n",
       "1886                4          3     3           0         3.0  \n",
       "1887                1          4     2           0         2.0  \n",
       "\n",
       "[1888 rows x 12 columns]"
      ]
     },
     "execution_count": 20,
     "metadata": {},
     "output_type": "execute_result"
    }
   ],
   "source": [
    "df_total = pd.concat(dataframes_list, ignore_index=True)\n",
    "df_total"
   ]
  },
  {
   "cell_type": "code",
   "execution_count": 21,
   "metadata": {},
   "outputs": [
    {
     "data": {
      "text/plain": [
       "Index(['id', 'categoria', 'propiedad', 'precio', 'metros_total',\n",
       "       'metros_construido', 'precio_m2_construido', 'estacionamiento',\n",
       "       'recamaras', 'baño', 'medio_baño', 'baño_total'],\n",
       "      dtype='object')"
      ]
     },
     "execution_count": 21,
     "metadata": {},
     "output_type": "execute_result"
    }
   ],
   "source": [
    "df_total.columns"
   ]
  },
  {
   "cell_type": "code",
   "execution_count": 22,
   "metadata": {},
   "outputs": [
    {
     "data": {
      "text/plain": [
       "count    1.888000e+03\n",
       "mean     1.709291e+06\n",
       "std      1.798620e+06\n",
       "min      3.460400e+05\n",
       "25%      6.772500e+05\n",
       "50%      1.095000e+06\n",
       "75%      2.000000e+06\n",
       "max      1.750000e+07\n",
       "Name: precio, dtype: float64"
      ]
     },
     "execution_count": 22,
     "metadata": {},
     "output_type": "execute_result"
    }
   ],
   "source": [
    "df_total['precio'].describe()"
   ]
  },
  {
   "cell_type": "code",
   "execution_count": 23,
   "metadata": {},
   "outputs": [
    {
     "data": {
      "text/plain": [
       "346040"
      ]
     },
     "execution_count": 23,
     "metadata": {},
     "output_type": "execute_result"
    }
   ],
   "source": [
    "df_total['precio'].min()"
   ]
  },
  {
   "cell_type": "code",
   "execution_count": 24,
   "metadata": {},
   "outputs": [
    {
     "data": {
      "text/plain": [
       "17500000"
      ]
     },
     "execution_count": 24,
     "metadata": {},
     "output_type": "execute_result"
    }
   ],
   "source": [
    "df_total['precio'].max()"
   ]
  },
  {
   "cell_type": "code",
   "execution_count": 25,
   "metadata": {},
   "outputs": [
    {
     "data": {
      "text/plain": [
       "np.float64(1709290.53654661)"
      ]
     },
     "execution_count": 25,
     "metadata": {},
     "output_type": "execute_result"
    }
   ],
   "source": [
    "df_total['precio'].mean()"
   ]
  },
  {
   "cell_type": "code",
   "execution_count": 26,
   "metadata": {},
   "outputs": [
    {
     "data": {
      "text/plain": [
       "1095000.0"
      ]
     },
     "execution_count": 26,
     "metadata": {},
     "output_type": "execute_result"
    }
   ],
   "source": [
    "df_total['precio'].median()"
   ]
  },
  {
   "cell_type": "code",
   "execution_count": null,
   "metadata": {},
   "outputs": [],
   "source": [
    "df_total.groupby('precio')"
   ]
  },
  {
   "cell_type": "code",
   "execution_count": 27,
   "metadata": {},
   "outputs": [
    {
     "data": {
      "text/plain": [
       "0"
      ]
     },
     "execution_count": 27,
     "metadata": {},
     "output_type": "execute_result"
    }
   ],
   "source": [
    "df_total['metros_total'].min()"
   ]
  },
  {
   "cell_type": "code",
   "execution_count": 28,
   "metadata": {},
   "outputs": [
    {
     "data": {
      "text/plain": [
       "4904"
      ]
     },
     "execution_count": 28,
     "metadata": {},
     "output_type": "execute_result"
    }
   ],
   "source": [
    "df_total['metros_total'].max()"
   ]
  },
  {
   "cell_type": "code",
   "execution_count": 29,
   "metadata": {},
   "outputs": [
    {
     "data": {
      "text/plain": [
       "np.float64(169.2272245762712)"
      ]
     },
     "execution_count": 29,
     "metadata": {},
     "output_type": "execute_result"
    }
   ],
   "source": [
    "df_total['metros_total'].mean()"
   ]
  },
  {
   "cell_type": "code",
   "execution_count": 31,
   "metadata": {},
   "outputs": [
    {
     "data": {
      "text/plain": [
       "120.0"
      ]
     },
     "execution_count": 31,
     "metadata": {},
     "output_type": "execute_result"
    }
   ],
   "source": [
    "df_total['metros_total'].median()"
   ]
  },
  {
   "cell_type": "code",
   "execution_count": null,
   "metadata": {},
   "outputs": [],
   "source": [
    "df"
   ]
  }
 ],
 "metadata": {
  "kernelspec": {
   "display_name": "base",
   "language": "python",
   "name": "python3"
  },
  "language_info": {
   "codemirror_mode": {
    "name": "ipython",
    "version": 3
   },
   "file_extension": ".py",
   "mimetype": "text/x-python",
   "name": "python",
   "nbconvert_exporter": "python",
   "pygments_lexer": "ipython3",
   "version": "3.9.13"
  }
 },
 "nbformat": 4,
 "nbformat_minor": 2
}
